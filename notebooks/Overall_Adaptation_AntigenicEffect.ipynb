{
 "cells": [
  {
   "cell_type": "code",
   "execution_count": 36,
   "metadata": {},
   "outputs": [],
   "source": [
    "import ast\n",
    "import pandas as pd\n",
    "import numpy as np\n",
    "import seaborn as sns\n",
    "import matplotlib.pyplot as plt\n",
    "from scipy.stats import ttest_1samp\n",
    "%matplotlib inline"
   ]
  },
  {
   "cell_type": "code",
   "execution_count": 22,
   "metadata": {},
   "outputs": [],
   "source": [
    "input_df = '../dataframes/h3n2_ha_12y_hi.csv'\n",
    "df_name = str.split(input_df, 'dataframes/')[1]\n",
    "prefix = str.split(df_name, '.csv')[0]\n",
    "pre_prefix = str.split(prefix, '_hi')[0]\n",
    "\n",
    "egg_df = pd.read_csv('../dataframes/h3n2_ha_12y_hi_egg.csv')"
   ]
  },
  {
   "cell_type": "code",
   "execution_count": 23,
   "metadata": {},
   "outputs": [
    {
     "name": "stdout",
     "output_type": "stream",
     "text": [
      "0.5526315789473685\n"
     ]
    }
   ],
   "source": [
    "adapted_muts = ['G186V','L194P','A138S','H156R','H156Q', 'T203I','S219F','S219Y', 'D225G','N246H']\n",
    "\n",
    "egg_total = len(egg_df)\n",
    "egg_passaged = 0\n",
    "egg_adapted = 0\n",
    "num_adapted_muts = []\n",
    "for k, v in egg_df.iterrows():\n",
    "    \n",
    "    strain_egg_muts = ast.literal_eval(v['egg_muts'])\n",
    "    has_adapted_mut = False\n",
    "    num_egg_adapted = 0\n",
    "    \n",
    "    if len(strain_egg_muts) != 0:\n",
    "        egg_passaged+=1\n",
    "    \n",
    "    for adapted_mut in adapted_muts:\n",
    "        if adapted_mut in strain_egg_muts:\n",
    "            has_adapted_mut = True\n",
    "            num_egg_adapted+=1\n",
    "            \n",
    "    if has_adapted_mut == True:\n",
    "        egg_adapted+=1\n",
    "        num_adapted_muts.append(num_egg_adapted)\n",
    "    \n",
    "avg_num_egg_adapted = sum(num_adapted_muts)/len(num_adapted_muts)\n",
    "print(egg_adapted/egg_total)"
   ]
  },
  {
   "cell_type": "code",
   "execution_count": 68,
   "metadata": {},
   "outputs": [
    {
     "data": {
      "text/plain": [
       "<matplotlib.patches.Circle at 0x1258fc7f0>"
      ]
     },
     "execution_count": 68,
     "metadata": {},
     "output_type": "execute_result"
    },
    {
     "data": {
      "image/png": "[encoded data removed]",
      "text/plain": [
       "<Figure size 720x720 with 1 Axes>"
      ]
     },
     "metadata": {},
     "output_type": "display_data"
    }
   ],
   "source": [
    "# Pie chart\n",
    "labels = ['No Mutation', 'Egg-passaged mutation', 'Egg-adapted mutation']\n",
    "sizes = [(egg_total-egg_passaged), (egg_passaged-egg_adapted), egg_adapted]\n",
    "#colors\n",
    "colors = ['#afafaf','#b7d3e6','#4c91c2']\n",
    "\n",
    "fig, ax = plt.subplots(figsize=(10,10))\n",
    "# ax.pie(sizes, colors=colors, labels=labels, autopct='%1.1f%%', startangle=90)\n",
    "ax.pie(sizes, colors=colors, startangle=90)\n",
    "ax.axis('equal')  \n",
    "inner_circle=plt.Circle( (0,0), 0.6, color='white')\n",
    "fig = plt.gcf()\n",
    "fig.gca().add_artist(inner_circle)\n",
    "\n",
    "# plt.savefig(\"eggadaptation_overall.png\", bbox_inches='tight')"
   ]
  },
  {
   "cell_type": "code",
   "execution_count": 28,
   "metadata": {},
   "outputs": [],
   "source": [
    "muts_to_consider = ['G186V','L194P','A138S','H156R','H156Q', 'T203I','S219F','S219Y', 'D225G','N246H']\n",
    "titer_diffs = []\n",
    "for assay in ['hi', 'fra']:\n",
    "    all_df = pd.read_csv('../dataframes/'+pre_prefix+\"_\"+assay+'.csv')\n",
    "    df = all_df[all_df['pair_id']!=0]\n",
    "\n",
    "    #Re-organize DF to one row per pair\n",
    "    sub_egg = df[df['passage']=='egg'][['source', 'egg_muts', 'cTiterSub']].rename(columns = {'cTiterSub':'egg_titer'})\n",
    "    sub_u = df[df['passage']=='unpassaged'][['source', 'cTiterSub']].rename(columns = {'cTiterSub':'pair_titer'})\n",
    "    sub_cell = df[df['passage']=='cell'][['source', 'cTiterSub']].rename(columns = {'cTiterSub':'pair_titer'})\n",
    "\n",
    "    pairs_u_df = sub_egg.merge(sub_u)\n",
    "    pairs_cell_df = sub_egg.merge(sub_cell)\n",
    "    pairs_cell_u_df = sub_u.merge(sub_cell)\n",
    "    pairs_df = pairs_u_df.merge(pairs_cell_df, how='outer')\n",
    "\n",
    "    for k,v in pairs_df.iterrows():\n",
    "        strain_egg_muts = ast.literal_eval(v['egg_muts'])\n",
    "        has_adapted_mut = False\n",
    "        diff = v['egg_titer'] - v['pair_titer']\n",
    "        \n",
    "        for egg_mut in muts_to_consider:\n",
    "            if egg_mut in strain_egg_muts:\n",
    "                has_adapted_mut = True\n",
    "                \n",
    "        if has_adapted_mut == True:\n",
    "            titer_diffs.append({'mutation': 'adapted_mut', 'titer_diff': diff, 'assay': assay})\n",
    "        elif has_adapted_mut == False:\n",
    "            titer_diffs.append({'mutation':'no_adapted_mut', 'titer_diff': diff, 'assay': assay})\n",
    "\n",
    "titer_diffs_df = pd.DataFrame(titer_diffs)\n",
    "\n"
   ]
  },
  {
   "cell_type": "code",
   "execution_count": 31,
   "metadata": {},
   "outputs": [
    {
     "data": {
      "text/html": [
       "<div>\n",
       "<style scoped>\n",
       "    .dataframe tbody tr th:only-of-type {\n",
       "        vertical-align: middle;\n",
       "    }\n",
       "\n",
       "    .dataframe tbody tr th {\n",
       "        vertical-align: top;\n",
       "    }\n",
       "\n",
       "    .dataframe thead th {\n",
       "        text-align: right;\n",
       "    }\n",
       "</style>\n",
       "<table border=\"1\" class=\"dataframe\">\n",
       "  <thead>\n",
       "    <tr style=\"text-align: right;\">\n",
       "      <th></th>\n",
       "      <th></th>\n",
       "      <th>titer_diff</th>\n",
       "    </tr>\n",
       "    <tr>\n",
       "      <th>mutation</th>\n",
       "      <th>assay</th>\n",
       "      <th></th>\n",
       "    </tr>\n",
       "  </thead>\n",
       "  <tbody>\n",
       "    <tr>\n",
       "      <th rowspan=\"2\" valign=\"top\">adapted_mut</th>\n",
       "      <th>fra</th>\n",
       "      <td>1.164381</td>\n",
       "    </tr>\n",
       "    <tr>\n",
       "      <th>hi</th>\n",
       "      <td>1.362225</td>\n",
       "    </tr>\n",
       "    <tr>\n",
       "      <th rowspan=\"2\" valign=\"top\">no_adapted_mut</th>\n",
       "      <th>fra</th>\n",
       "      <td>0.079681</td>\n",
       "    </tr>\n",
       "    <tr>\n",
       "      <th>hi</th>\n",
       "      <td>0.063417</td>\n",
       "    </tr>\n",
       "  </tbody>\n",
       "</table>\n",
       "</div>"
      ],
      "text/plain": [
       "                      titer_diff\n",
       "mutation       assay            \n",
       "adapted_mut    fra      1.164381\n",
       "               hi       1.362225\n",
       "no_adapted_mut fra      0.079681\n",
       "               hi       0.063417"
      ]
     },
     "execution_count": 31,
     "metadata": {},
     "output_type": "execute_result"
    }
   ],
   "source": [
    "titer_diffs_df.groupby(['mutation', 'assay']).mean()"
   ]
  },
  {
   "cell_type": "code",
   "execution_count": 65,
   "metadata": {},
   "outputs": [
    {
     "name": "stderr",
     "output_type": "stream",
     "text": [
      "/anaconda2/envs/py3/lib/python3.6/site-packages/scipy/stats/stats.py:1633: FutureWarning: Using a non-tuple sequence for multidimensional indexing is deprecated; use `arr[tuple(seq)]` instead of `arr[seq]`. In the future this will be interpreted as an array index, `arr[np.array(seq)]`, which will result either in an error or a different result.\n",
      "  return np.add.reduce(sorted[indexer] * weights, axis=axis) / sumval\n"
     ]
    },
    {
     "data": {
      "image/png": "[encoded data removed]",
      "text/plain": [
       "<Figure size 1008x720 with 1 Axes>"
      ]
     },
     "metadata": {},
     "output_type": "display_data"
    }
   ],
   "source": [
    "fig, ax = plt.subplots(figsize=(14,10))\n",
    "fig = sns.barplot(x='mutation', y='titer_diff', hue='assay', data=titer_diffs_df, palette= ['#d73027', '#fdae61'])\n",
    "ax.set(xlabel = '', ylabel='log2(egg titer)-log2(paired titer)')\n",
    "plt.savefig(\"eggadaptation_antigenicity.png\", bbox_inches='tight')"
   ]
  },
  {
   "cell_type": "code",
   "execution_count": 39,
   "metadata": {},
   "outputs": [
    {
     "data": {
      "text/html": [
       "<div>\n",
       "<style scoped>\n",
       "    .dataframe tbody tr th:only-of-type {\n",
       "        vertical-align: middle;\n",
       "    }\n",
       "\n",
       "    .dataframe tbody tr th {\n",
       "        vertical-align: top;\n",
       "    }\n",
       "\n",
       "    .dataframe thead th {\n",
       "        text-align: right;\n",
       "    }\n",
       "</style>\n",
       "<table border=\"1\" class=\"dataframe\">\n",
       "  <thead>\n",
       "    <tr style=\"text-align: right;\">\n",
       "      <th></th>\n",
       "      <th>assay</th>\n",
       "      <th>egg_adapted</th>\n",
       "      <th>pvalue</th>\n",
       "    </tr>\n",
       "  </thead>\n",
       "  <tbody>\n",
       "    <tr>\n",
       "      <th>0</th>\n",
       "      <td>hi</td>\n",
       "      <td>no_adapted_mut</td>\n",
       "      <td>7.204997e-02</td>\n",
       "    </tr>\n",
       "    <tr>\n",
       "      <th>1</th>\n",
       "      <td>hi</td>\n",
       "      <td>adapted_mut</td>\n",
       "      <td>3.674193e-83</td>\n",
       "    </tr>\n",
       "    <tr>\n",
       "      <th>2</th>\n",
       "      <td>fra</td>\n",
       "      <td>no_adapted_mut</td>\n",
       "      <td>1.940883e-02</td>\n",
       "    </tr>\n",
       "    <tr>\n",
       "      <th>3</th>\n",
       "      <td>fra</td>\n",
       "      <td>adapted_mut</td>\n",
       "      <td>1.047096e-62</td>\n",
       "    </tr>\n",
       "  </tbody>\n",
       "</table>\n",
       "</div>"
      ],
      "text/plain": [
       "  assay     egg_adapted        pvalue\n",
       "0    hi  no_adapted_mut  7.204997e-02\n",
       "1    hi     adapted_mut  3.674193e-83\n",
       "2   fra  no_adapted_mut  1.940883e-02\n",
       "3   fra     adapted_mut  1.047096e-62"
      ]
     },
     "execution_count": 39,
     "metadata": {},
     "output_type": "execute_result"
    }
   ],
   "source": [
    "titer_stats = []\n",
    "true_mu = 0\n",
    "\n",
    "for assay in ['hi', 'fra']:\n",
    "    for mutation in ['no_adapted_mut', 'adapted_mut']:\n",
    "        cat1 = titer_diffs_df[(titer_diffs_df['assay']==assay)&(titer_diffs_df['mutation']==mutation)]\n",
    "        pvalue = ttest_1samp(cat1['titer_diff'], true_mu).pvalue\n",
    "        titer_stats.append({'assay': assay, 'egg_adapted': mutation,'pvalue': pvalue})\n",
    "titer_stats_df = pd.DataFrame(titer_stats)\n",
    "titer_stats_df"
   ]
  },
  {
   "cell_type": "code",
   "execution_count": null,
   "metadata": {},
   "outputs": [],
   "source": []
  }
 ],
 "metadata": {
  "kernelspec": {
   "display_name": "Python [conda env:py3]",
   "language": "python",
   "name": "conda-env-py3-py"
  },
  "language_info": {
   "codemirror_mode": {
    "name": "ipython",
    "version": 3
   },
   "file_extension": ".py",
   "mimetype": "text/x-python",
   "name": "python",
   "nbconvert_exporter": "python",
   "pygments_lexer": "ipython3",
   "version": "3.6.7"
  }
 },
 "nbformat": 4,
 "nbformat_minor": 2
}
