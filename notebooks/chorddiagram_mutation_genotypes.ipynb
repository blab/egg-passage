{
 "cells": [
  {
   "cell_type": "code",
   "execution_count": 233,
   "metadata": {},
   "outputs": [],
   "source": [
    "#Adapted from https://nbviewer.jupyter.org/github/empet/Plotly-plots/blob/master/Chord-diagram.ipynb?flush_cache=true"
   ]
  },
  {
   "cell_type": "code",
   "execution_count": 234,
   "metadata": {},
   "outputs": [],
   "source": [
    "import plotly.plotly as py\n",
    "import plotly.figure_factory as ff\n",
    "import plotly.graph_objs as go\n",
    "import numpy as np\n",
    "import pandas as pd\n",
    "import itertools"
   ]
  },
  {
   "cell_type": "code",
   "execution_count": 235,
   "metadata": {},
   "outputs": [],
   "source": [
    "df = pd.read_csv('../dataframes/h3n2_ha_12y_hi_egg.csv')"
   ]
  },
  {
   "cell_type": "code",
   "execution_count": 236,
   "metadata": {},
   "outputs": [
    {
     "name": "stdout",
     "output_type": "stream",
     "text": [
      "49\n"
     ]
    }
   ],
   "source": [
    "#Spot check\n",
    "print(len(df[(df['186']=='V') & (df['194']!='P') & \n",
    "             (df['138']!='S') & (df['246']!='H') & \n",
    "             (df['225']!='G') & (df['219']!='F') & \n",
    "             (df['219']!='Y') & (df['203']!='I') & \n",
    "             (df['156']!='R') & (df['156']!='Q')]))"
   ]
  },
  {
   "cell_type": "code",
   "execution_count": 237,
   "metadata": {},
   "outputs": [
    {
     "name": "stdout",
     "output_type": "stream",
     "text": [
      "[[ 49   0  21  34   0  59   8   8]\n",
      " [  0 122  14   0  23   3  14   0]\n",
      " [ 21  14  31  12   3   9  24   5]\n",
      " [ 34   0  12   8   0  12  11   1]\n",
      " [  0  23   3   0   0   1   1   0]\n",
      " [ 59   3   9  12   1   1   6   0]\n",
      " [  8  14  24  11   1   6   5   4]\n",
      " [  8   0   5   1   0   0   4   4]]\n"
     ]
    }
   ],
   "source": [
    "sites = ['186','194','138','156','203','219','225', '246']\n",
    "for site in sites:\n",
    "    if site not in df.columns:\n",
    "        sites.remove(site)\n",
    "egg_muts = {'194': ['P'], \n",
    "            '186':['V'], '225':['G'], '219':['F','Y'], \n",
    "            '203':['I'], '156':['R','Q'], '138':['S'], \n",
    "            '246':['H']}\n",
    "matrix = np.zeros((len(sites), len(sites)), dtype=int)\n",
    "for site_a in sites:\n",
    "    for site_b in sites:\n",
    "        matrix_entry = 0\n",
    "        #Set diagonal to be number of viruses with ONLY that mutation\n",
    "        if site_a == site_b:\n",
    "            only_sitea = 0           \n",
    "            other_sites = sites.copy()\n",
    "            other_sites.remove(site_a)\n",
    "            for egg_genotype_a in egg_muts[site_a]:\n",
    "                mask = df[site_a] == egg_genotype_a\n",
    "                for other_site in other_sites:\n",
    "                    for other_genotype in egg_muts[other_site]:\n",
    "                        res = df[other_site] != other_genotype\n",
    "                        mask &= res\n",
    "                only_sitea += len(df[mask])\n",
    "            matrix_entry= only_sitea\n",
    "        #Find number of viruses with both egg mutations\n",
    "        else:      \n",
    "            for egg_genotype_a in egg_muts[site_a]:\n",
    "                for egg_genotype_b in egg_muts[site_b]:\n",
    "                    matrix_entry+= len(df[(df[site_a]==egg_genotype_a)&(df[site_b]==egg_genotype_b)])\n",
    "        matrix[sites.index(site_a)][sites.index(site_b)] = matrix_entry\n",
    "\n",
    "print(matrix)"
   ]
  },
  {
   "cell_type": "code",
   "execution_count": 238,
   "metadata": {},
   "outputs": [],
   "source": [
    "labels = ['186 V','194 P','138 S','156 R/Q','203 I','219 F/Y','225 G', '246 H']\n",
    "ideo_colors = ['rgba(26,152,80, 0.75)',\n",
    "               'rgba(215,48,39, 0.75)',\n",
    "             'rgba(244,109,67, 0.75)',\n",
    "             'rgba(253,174,97, 0.75)',\n",
    "             'rgba(254,224,139, 0.75)',\n",
    "             'rgba(217,239,139, 0.75)',\n",
    "             'rgba(166,217,106, 0.75)',\n",
    "             'rgba(102,189,99, 0.75)']"
   ]
  },
  {
   "cell_type": "code",
   "execution_count": 239,
   "metadata": {},
   "outputs": [],
   "source": [
    "def check_data(data_matrix):\n",
    "    L, M=data_matrix.shape\n",
    "    if L!=M:\n",
    "        raise ValueError('Data array must have (n,n) shape')\n",
    "    return L\n",
    "\n",
    "L=check_data(matrix)"
   ]
  },
  {
   "cell_type": "code",
   "execution_count": 240,
   "metadata": {},
   "outputs": [],
   "source": [
    "radii_sribb=[0.5, 0.5, 0.5, 0.5, 0.5, 0.5, 0.5, 0.5, 0.5, 0.5, 0.5]# these value are set after a few trials "
   ]
  },
  {
   "cell_type": "code",
   "execution_count": 241,
   "metadata": {},
   "outputs": [],
   "source": [
    "def moduloAB(x, a, b): #maps a real number onto the unit circle identified with \n",
    "                       #the interval [a,b), b-a=2*PI\n",
    "        if a>= b:\n",
    "            raise ValueError('Incorrect interval ends')\n",
    "        y = (x-a) % (b-a)\n",
    "        return y+b if y < 0 else y+a"
   ]
  },
  {
   "cell_type": "code",
   "execution_count": 242,
   "metadata": {},
   "outputs": [],
   "source": [
    "def test_2PI(x):\n",
    "    return True\n",
    "#      return 0 <= x < 2*pi"
   ]
  },
  {
   "cell_type": "code",
   "execution_count": 243,
   "metadata": {},
   "outputs": [],
   "source": [
    "pi = np.pi\n",
    "\n",
    "row_sum = [np.sum(matrix[k,:]) for k in range(L)]\n",
    "\n",
    "#set the gap between two consecutive ideograms\n",
    "gap = 2*pi*0.005\n",
    "ideogram_length = 2*pi * np.asarray(row_sum) / sum(row_sum) - gap*np.ones(L)"
   ]
  },
  {
   "cell_type": "code",
   "execution_count": 244,
   "metadata": {},
   "outputs": [],
   "source": [
    "def get_ideogram_ends(ideogram_len, gap):\n",
    "    ideo_ends = []\n",
    "    left = 0\n",
    "    for k in range(len(ideogram_len)):\n",
    "        right = left + ideogram_len[k]\n",
    "        ideo_ends.append([left, right])   \n",
    "        left = right + gap\n",
    "    return ideo_ends "
   ]
  },
  {
   "cell_type": "code",
   "execution_count": 245,
   "metadata": {},
   "outputs": [],
   "source": [
    "ideo_ends = get_ideogram_ends(ideogram_length, gap)"
   ]
  },
  {
   "cell_type": "code",
   "execution_count": 246,
   "metadata": {},
   "outputs": [],
   "source": [
    "def make_ideogram_arc(R, phi, a=100):\n",
    "    # R is the circle radius\n",
    "    # phi is the list of  angle coordinates of an arc ends\n",
    "    # a is a parameter that controls the number of points to be evaluated on an arc\n",
    "    if not test_2PI(phi[0]) or not test_2PI(phi[1]):\n",
    "        phi = [moduloAB(t, 0, 2*pi) for t in phi]\n",
    "    length = (phi[1]-phi[0]) % 2*pi \n",
    "    nr = 18 if length <= pi/4 else int(a*length/pi)\n",
    "\n",
    "    if phi[0] < phi[1]:   \n",
    "        theta = np.linspace(phi[0], phi[1], nr)\n",
    "    else:\n",
    "        phi = [moduloAB(t, -pi, pi) for t in phi]\n",
    "        theta = np.linspace(phi[0], phi[1], nr)\n",
    "    return R * np.exp(1j*theta)  "
   ]
  },
  {
   "cell_type": "code",
   "execution_count": 247,
   "metadata": {},
   "outputs": [
    {
     "data": {
      "text/plain": [
       "array([1.12583302-0.65j      , 1.13689513-0.6304518j ,\n",
       "       1.14761784-0.61071539j, 1.15799797-0.59079667j,\n",
       "       1.16803241-0.57070158j, 1.17771816-0.55043613j,\n",
       "       1.18705234-0.53000636j, 1.19603216-0.50941837j,\n",
       "       1.20465494-0.48867831j, 1.21291809-0.46779236j,\n",
       "       1.22081917-0.44676677j, 1.22835581-0.42560781j,\n",
       "       1.23552575-0.4043218j , 1.24232686-0.38291509j,\n",
       "       1.24875711-0.36139407j, 1.25481458-0.33976517j,\n",
       "       1.26049746-0.31803483j, 1.26580405-0.29620956j,\n",
       "       1.27073277-0.27429586j, 1.27528215-0.25230028j,\n",
       "       1.27945083-0.23022939j, 1.28323757-0.20808976j,\n",
       "       1.28664123-0.18588801j, 1.2896608 -0.16363078j,\n",
       "       1.29229537-0.14132469j, 1.29454417-0.11897642j,\n",
       "       1.29640652-0.09659263j, 1.29788186-0.07418j   ,\n",
       "       1.29896976-0.05174523j, 1.29966988-0.02929501j,\n",
       "       1.29998203-0.00683605j, 1.2999061 +0.01562495j,\n",
       "       1.29944212+0.03808129j, 1.29859022+0.06052626j,\n",
       "       1.29735067+0.08295316j, 1.29572384+0.1053553j ,\n",
       "       1.2937102 +0.12772599j, 1.29131035+0.15005855j,\n",
       "       1.28852503+0.17234631j, 1.28535505+0.19458263j,\n",
       "       1.28180136+0.21676085j, 1.27786503+0.23887437j])"
      ]
     },
     "execution_count": 247,
     "metadata": {},
     "output_type": "execute_result"
    }
   ],
   "source": [
    "make_ideogram_arc(1.3, [11*pi/6, pi/17])"
   ]
  },
  {
   "cell_type": "code",
   "execution_count": 248,
   "metadata": {},
   "outputs": [],
   "source": [
    "def map_data(data_matrix, row_value, ideogram_length):\n",
    "    mapped = np.zeros(data_matrix.shape)\n",
    "    for j  in range(L):\n",
    "        mapped[:, j] = ideogram_length * data_matrix[:,j] / row_value\n",
    "    return mapped  "
   ]
  },
  {
   "cell_type": "code",
   "execution_count": 249,
   "metadata": {},
   "outputs": [
    {
     "data": {
      "text/plain": [
       "array([[0.39332711, 0.        , 0.16856876, 0.27292085, 0.        ,\n",
       "        0.47359795, 0.06421667, 0.06421667],\n",
       "       [0.        , 0.97893925, 0.11233729, 0.        , 0.18455412,\n",
       "        0.02407228, 0.11233729, 0.        ],\n",
       "       [0.16671044, 0.11114029, 0.24609636, 0.09526311, 0.02381578,\n",
       "        0.07144733, 0.19052622, 0.03969296],\n",
       "       [0.265194  , 0.        , 0.09359788, 0.06239859, 0.        ,\n",
       "        0.09359788, 0.08579806, 0.00779982],\n",
       "       [0.        , 0.16285367, 0.02124178, 0.        , 0.        ,\n",
       "        0.00708059, 0.00708059, 0.        ],\n",
       "       [0.46358435, 0.02357209, 0.07071626, 0.09428834, 0.00785736,\n",
       "        0.00785736, 0.04714417, 0.        ],\n",
       "       [0.06217789, 0.10881131, 0.18653368, 0.0854946 , 0.00777224,\n",
       "        0.04663342, 0.03886118, 0.03108895],\n",
       "       [0.05419676, 0.        , 0.03387298, 0.0067746 , 0.        ,\n",
       "        0.        , 0.02709838, 0.02709838]])"
      ]
     },
     "execution_count": 249,
     "metadata": {},
     "output_type": "execute_result"
    }
   ],
   "source": [
    "mapped_data = map_data(matrix, row_sum, ideogram_length)\n",
    "mapped_data"
   ]
  },
  {
   "cell_type": "code",
   "execution_count": 250,
   "metadata": {},
   "outputs": [
    {
     "data": {
      "text/plain": [
       "array([[1, 4, 6, 7, 2, 3, 0, 5],\n",
       "       [0, 3, 7, 5, 2, 6, 4, 1],\n",
       "       [4, 7, 5, 3, 1, 0, 6, 2],\n",
       "       [1, 4, 7, 3, 6, 2, 5, 0],\n",
       "       [0, 3, 4, 7, 5, 6, 2, 1],\n",
       "       [7, 4, 5, 1, 6, 2, 3, 0],\n",
       "       [4, 7, 6, 5, 0, 3, 1, 2],\n",
       "       [1, 4, 5, 3, 6, 7, 2, 0]])"
      ]
     },
     "execution_count": 250,
     "metadata": {},
     "output_type": "execute_result"
    }
   ],
   "source": [
    "idx_sort = np.argsort(mapped_data, axis=1)\n",
    "idx_sort"
   ]
  },
  {
   "cell_type": "code",
   "execution_count": 251,
   "metadata": {},
   "outputs": [],
   "source": [
    "def make_ribbon_ends(mapped_data, ideo_ends,  idx_sort):\n",
    "    L = mapped_data.shape[0]\n",
    "    ribbon_boundary = np.zeros((L,L+1))\n",
    "    for k in range(L):\n",
    "        start = ideo_ends[k][0]\n",
    "        ribbon_boundary[k][0] = start\n",
    "        for j in range(1,L+1):\n",
    "            J = idx_sort[k][j-1]\n",
    "            ribbon_boundary[k][j] = start + mapped_data[k][J]\n",
    "            start = ribbon_boundary[k][j]\n",
    "    return [[(ribbon_boundary[k][j], ribbon_boundary[k][j+1] ) for j in range(L)] for k in range(L)] "
   ]
  },
  {
   "cell_type": "code",
   "execution_count": 252,
   "metadata": {},
   "outputs": [
    {
     "name": "stdout",
     "output_type": "stream",
     "text": [
      "ribbon ends starting from the ideogram[2]\n",
      " [(2.91192008361456, 2.9357358608210853), (2.9357358608210853, 2.975428822831961), (2.975428822831961, 3.0468761544515375), (3.0468761544515375, 3.142139263277639), (3.142139263277639, 3.2532795569080912), (3.2532795569080912, 3.419989997353769), (3.419989997353769, 3.6105162150059726), (3.6105162150059726, 3.856612579473402)]\n"
     ]
    }
   ],
   "source": [
    "ribbon_ends = make_ribbon_ends(mapped_data, ideo_ends,  idx_sort)\n",
    "print ('ribbon ends starting from the ideogram[2]\\n', ribbon_ends[2])"
   ]
  },
  {
   "cell_type": "code",
   "execution_count": 253,
   "metadata": {},
   "outputs": [],
   "source": [
    "def control_pts(angle, radius):\n",
    "    #angle is a  3-list containing angular coordinates of the control points b0, b1, b2\n",
    "    #radius is the distance from b1 to the  origin O(0,0) \n",
    "\n",
    "    if len(angle) != 3:\n",
    "        raise InvalidInputError('angle must have len =3')\n",
    "    b_cplx = np.array([np.exp(1j*angle[k]) for k in range(3)])\n",
    "    b_cplx[1] = radius * b_cplx[1]\n",
    "    return list(zip(b_cplx.real, b_cplx.imag))"
   ]
  },
  {
   "cell_type": "code",
   "execution_count": 254,
   "metadata": {},
   "outputs": [],
   "source": [
    "def ctrl_rib_chords(l, r, radius):\n",
    "    # this function returns a 2-list containing control poligons of the two quadratic Bezier\n",
    "    #curves that are opposite sides in a ribbon\n",
    "    #l (r) the list of angular variables of the ribbon arc ends defining \n",
    "    #the ribbon starting (ending) arc \n",
    "    # radius is a common parameter for both control polygons\n",
    "    if len(l) != 2 or len(r) != 2:\n",
    "        raise ValueError('the arc ends must be elements in a list of len 2')\n",
    "    return [control_pts([l[j], (l[j]+r[j])/2, r[j]], radius) for j in range(2)]"
   ]
  },
  {
   "cell_type": "code",
   "execution_count": 255,
   "metadata": {},
   "outputs": [],
   "source": [
    "#Define ribbon color\n",
    "ribbon_color = [L * ['rgba(175,175,175,0.5)'] for k in range(L)]"
   ]
  },
  {
   "cell_type": "code",
   "execution_count": 256,
   "metadata": {},
   "outputs": [],
   "source": [
    "#Change 186 and 194 ribbon colors\n",
    "for k_186 in range(len(ribbon_color[0])):\n",
    "    ribbon_color[0][k_186] = ideo_colors[0]\n",
    "for k_194 in range(len(ribbon_color[1])):\n",
    "    ribbon_color[1][k_194] = ideo_colors[1]\n"
   ]
  },
  {
   "cell_type": "code",
   "execution_count": 257,
   "metadata": {},
   "outputs": [],
   "source": [
    "def make_q_bezier(b):# defines the Plotly SVG path for a quadratic Bezier curve defined by the \n",
    "                     #list of its control points\n",
    "    if len(b) != 3:\n",
    "        raise valueError('control poligon must have 3 points')\n",
    "    A, B, C = b    \n",
    "    return f'M {A[0]}, {A[1]} Q {B[0]}, {B[1]} {C[0]}, {C[1]}'"
   ]
  },
  {
   "cell_type": "code",
   "execution_count": 258,
   "metadata": {},
   "outputs": [
    {
     "data": {
      "text/plain": [
       "'M 1, 4 Q -0.5, 2.35 3.745, 1.47'"
      ]
     },
     "execution_count": 258,
     "metadata": {},
     "output_type": "execute_result"
    }
   ],
   "source": [
    "b=[(1,4), (-0.5, 2.35), (3.745, 1.47)]\n",
    "make_q_bezier(b)"
   ]
  },
  {
   "cell_type": "code",
   "execution_count": 259,
   "metadata": {},
   "outputs": [],
   "source": [
    "def make_ribbon_arc(theta0, theta1):\n",
    "\n",
    "    if test_2PI(theta0) and test_2PI(theta1):\n",
    "        if theta0 < theta1:\n",
    "            theta0 = moduloAB(theta0, -pi, pi)\n",
    "            theta1 = moduloAB(theta1, -pi, pi)\n",
    "            if theta0  *theta1 > 0:\n",
    "                raise ValueError('incorrect angle coordinates for ribbon')\n",
    "    \n",
    "        nr = int(40 * (theta0 - theta1) / pi)\n",
    "        if nr <= 2: nr = 3\n",
    "        theta = np.linspace(theta0, theta1, nr)\n",
    "        pts=np.exp(1j*theta)# points in polar complex form, on the given arc\n",
    "    \n",
    "        string_arc = ''\n",
    "        for k in range(len(theta)):\n",
    "            string_arc += f'L {pts.real[k]}, {pts.imag[k]} '\n",
    "        return   string_arc \n",
    "    else:\n",
    "        raise ValueError('the angle coordinates for an arc side of a ribbon must be in [0, 2*pi]')"
   ]
  },
  {
   "cell_type": "code",
   "execution_count": 260,
   "metadata": {},
   "outputs": [
    {
     "data": {
      "text/plain": [
       "'L 0.5000000000000001, 0.8660254037844386 L 0.5877852522924732, 0.8090169943749473 L 0.6691306063588583, 0.7431448254773941 L 0.7431448254773942, 0.6691306063588581 L 0.8090169943749475, 0.5877852522924731 L 0.8660254037844387, 0.49999999999999994 '"
      ]
     },
     "execution_count": 260,
     "metadata": {},
     "output_type": "execute_result"
    }
   ],
   "source": [
    "make_ribbon_arc(np.pi/3, np.pi/6)"
   ]
  },
  {
   "cell_type": "code",
   "execution_count": 261,
   "metadata": {},
   "outputs": [],
   "source": [
    "def make_layout(title, plot_size):\n",
    "\n",
    "    return dict(title=title,\n",
    "                xaxis=dict(visible=False),\n",
    "                yaxis=dict(visible=False),\n",
    "                showlegend=False,\n",
    "                width=plot_size,\n",
    "                height=plot_size,\n",
    "                margin=dict(t=25, b=25, l=25, r=25),\n",
    "                hovermode=False,\n",
    "                 )  "
   ]
  },
  {
   "cell_type": "code",
   "execution_count": 262,
   "metadata": {},
   "outputs": [],
   "source": [
    "def make_ideo_shape(path, line_color, fill_color):\n",
    "    #line_color is the color of the shape boundary\n",
    "    #fill_color is the color assigned to an ideogram\n",
    "    \n",
    "    return  dict(line=dict(color=line_color, \n",
    "                           width=0.45),\n",
    "                 path=path,\n",
    "                 layer='below',\n",
    "                 type='path',\n",
    "                 fillcolor=fill_color)   "
   ]
  },
  {
   "cell_type": "code",
   "execution_count": 263,
   "metadata": {},
   "outputs": [],
   "source": [
    "def make_ribbon(l, r, line_color, fill_color, radius=0.2):\n",
    "    #l=[l[0], l[1]], r=[r[0], r[1]]  represent the opposite arcs in the ribbon \n",
    "    #line_color is the color of the shape boundary\n",
    "    #fill_color is the fill color for the ribbon shape\n",
    "    \n",
    "    poligon = ctrl_rib_chords(l,r, radius)\n",
    "    b, c = poligon  \n",
    "           \n",
    "    return  dict(line=dict(color=line_color, \n",
    "                             width=0.5),\n",
    "                 path=make_q_bezier(b) + make_ribbon_arc(r[0], r[1])+\n",
    "                         make_q_bezier(c[::-1]) + make_ribbon_arc(l[1], l[0]),\n",
    "                 type='path',\n",
    "                 layer='below',\n",
    "                 fillcolor = fill_color,    \n",
    "        )\n",
    "\n",
    "def make_self_rel(l, line_color, fill_color, radius):\n",
    "    #radius is the radius of Bezier control point b_1\n",
    "    \n",
    "    b = control_pts([l[0], (l[0]+l[1])/2, l[1]], radius) \n",
    "    \n",
    "    return  dict(line = dict(color=line_color, \n",
    "                             width=0.5),\n",
    "                 path =  make_q_bezier(b)+make_ribbon_arc(l[1], l[0]),\n",
    "                 type = 'path',\n",
    "                 layer = 'below',\n",
    "                 fillcolor = fill_color   \n",
    "                )"
   ]
  },
  {
   "cell_type": "code",
   "execution_count": 264,
   "metadata": {},
   "outputs": [],
   "source": [
    "def invPerm(perm):\n",
    "    # function that returns the inverse of a permutation, perm\n",
    "    inv = [0] * len(perm)\n",
    "    for i, s in enumerate(perm):\n",
    "        inv[s] = i\n",
    "    return inv"
   ]
  },
  {
   "cell_type": "code",
   "execution_count": 265,
   "metadata": {},
   "outputs": [],
   "source": [
    "layout=make_layout('Pairwise interactions between common egg mutation genotypes', 800)   "
   ]
  },
  {
   "cell_type": "code",
   "execution_count": 266,
   "metadata": {},
   "outputs": [],
   "source": [
    "ribbon_info=[]\n",
    "shapes=[]\n",
    "annotations = []\n",
    "for k in range(L):\n",
    "    \n",
    "    sigma = idx_sort[k]\n",
    "    sigma_inv = invPerm(sigma)\n",
    "    for j in range(k, L):\n",
    "        if matrix[k][j] == 0 and matrix[j][k]==0: continue\n",
    "        eta = idx_sort[j]\n",
    "        eta_inv = invPerm(eta)\n",
    "        l = ribbon_ends[k][sigma_inv[j]]  \n",
    "        \n",
    "        if j == k:\n",
    "            shapes.append(make_self_rel(l, 'rgba(175,175,175,0.5)',\n",
    "                                        'rgba(175,175,175,0.5)', radius=radii_sribb[k])) \n",
    "#             shapes.append(make_self_rel(l, ideo_colors[k] ,\n",
    "#                         ideo_colors[k], radius=radii_sribb[k])) \n",
    "\n",
    "            z = 0.9*np.exp(1j*(l[0]+l[1])/2)\n",
    "            \n",
    "\n",
    "            ribbon_info.append(go.Scatter(x=[z.real],\n",
    "                                       y=[z.imag],\n",
    "                                       mode='markers',\n",
    "                                       marker=dict(size=0.5, color=ideo_colors[k])\n",
    "                                       )\n",
    "                              )\n",
    "        else:\n",
    "            r = ribbon_ends[j][eta_inv[k]]\n",
    "            zi = 0.9 * np.exp(1j*(l[0]+l[1])/2)\n",
    "            zf = 0.9 * np.exp(1j*(r[0]+r[1])/2)\n",
    "            #texti and textf are the strings that will be displayed when hovering the mouse \n",
    "            #over the two ribbon ends\n",
    "            texti = f'{labels[k]}'\n",
    "            textf = f'{labels[j]}'\n",
    "            \n",
    "            ribbon_info.append(go.Scatter(x=[zi.real],\n",
    "                                          y=[zi.imag],\n",
    "                                          mode='markers',\n",
    "                                          marker=dict(size=0.5, color=ribbon_color[k][j]),\n",
    "                                          text=texti\n",
    "                                       )\n",
    "                              ),\n",
    "            ribbon_info.append(go.Scatter(x=[zf.real],\n",
    "                                          y=[zf.imag],\n",
    "                                          mode='markers',\n",
    "                                          marker=dict(size=0.5, color=ribbon_color[k][j]),\n",
    "                                          text=textf\n",
    "                                       )\n",
    "                              )\n",
    "            r = (r[1], r[0]) # IMPORTANT!!!  Reverse these arc ends because otherwise you get\n",
    "                          # a twisted ribbon\n",
    "            #append the ribbon shape\n",
    "            shapes.append(make_ribbon(l, r, ribbon_color[k][j] , ribbon_color[k][j]))\n",
    "           \n",
    "                                    "
   ]
  },
  {
   "cell_type": "code",
   "execution_count": 267,
   "metadata": {},
   "outputs": [],
   "source": [
    "ideograms = []\n",
    "for k in range(len(ideo_ends)):\n",
    "    z =  make_ideogram_arc(1.1, ideo_ends[k])\n",
    "    zi = make_ideogram_arc(1.0, ideo_ends[k])\n",
    "    m = len(z)\n",
    "    n = len(zi)\n",
    "    ideograms.append(go.Scatter(x=z.real,\n",
    "                                y=z.imag,\n",
    "                                mode='lines',\n",
    "                                line=dict(color=ideo_colors[k], shape='spline', width=0.25)\n",
    "#                                 text=f'{labels[k]} <br>{int(row_sum[k])} viruses'\n",
    "                             )\n",
    "                     )\n",
    "    \n",
    "       \n",
    "    path = 'M '\n",
    "    for s in range(m):\n",
    "        path += f'{z.real[s]}, {z.imag[s]} L '\n",
    "        \n",
    "    Zi = np.array(zi.tolist()[::-1]) \n",
    "\n",
    "    for s in range(m):\n",
    "        path += f'{Zi.real[s]}, {Zi.imag[s]} L '\n",
    "    path += f'{z.real[0]} ,{z.imag[0]}' \n",
    "   \n",
    "    shapes.append(make_ideo_shape(path,ideo_colors[k] , ideo_colors[k]))\n",
    "    \n",
    "    z_text =  make_ideogram_arc(1.2, ideo_ends[k])\n",
    "    Z_text = np.array(z_text.tolist()[::-1]) \n",
    "    annotations.append(dict(x=Z_text.real[int(len(Z_text)/2)], \n",
    "                            y=Z_text.imag[int(len(Z_text)/2)], \n",
    "                            showarrow=False,\n",
    "                            align='left',\n",
    "                            valign='bottom',\n",
    "                            text=f'{labels[k]}'))\n"
   ]
  },
  {
   "cell_type": "code",
   "execution_count": 268,
   "metadata": {},
   "outputs": [
    {
     "data": {
      "text/html": [
       "<script type=\"text/javascript\">window.PlotlyConfig = {MathJaxConfig: 'local'};</script><script type=\"text/javascript\">if (window.MathJax) {MathJax.Hub.Config({SVG: {font: \"STIX-Web\"}});}</script><script>requirejs.config({paths: { 'plotly': ['https://cdn.plot.ly/plotly-latest.min']},});if(!window._Plotly) {require(['plotly'],function(plotly) {window._Plotly=plotly;});}</script>"
      ],
      "text/vnd.plotly.v1+html": [
       "<script type=\"text/javascript\">window.PlotlyConfig = {MathJaxConfig: 'local'};</script><script type=\"text/javascript\">if (window.MathJax) {MathJax.Hub.Config({SVG: {font: \"STIX-Web\"}});}</script><script>requirejs.config({paths: { 'plotly': ['https://cdn.plot.ly/plotly-latest.min']},});if(!window._Plotly) {require(['plotly'],function(plotly) {window._Plotly=plotly;});}</script>"
      ]
     },
     "metadata": {},
     "output_type": "display_data"
    },
    {
     "data": {
      "application/vnd.plotly.v1+json": {
       "config": {
        "linkText": "Export to plot.ly",
        "plotlyServerURL": "https://plot.ly",
        "showLink": true
       },
       "data": [
        {
         "line": {
          "color": "rgba(26,152,80, 0.75)",
          "shape": "spline",
          "width": 0.25
         },
         "mode": "lines",
         "type": "scatter",
         "uid": "5919fb2e-20a5-4f9a-b774-172a9b183579",
         "x": [
          1.1,
          1.0999436876109558,
          1.0997747562094322,
          1.0994932230916672,
          1.0990991170827562,
          1.0985924785337005,
          1.0979733593172771,
          1.097241822822726,
          1.0963979439492615,
          1.0954418090984022,
          1.0943735161651258,
          1.0931931745278456,
          1.0919009050372117,
          1.0904968400037371,
          1.0889811231842519,
          1.0873539097671836,
          1.0856153663566686,
          1.0837656709554941,
          1.0818050129468728,
          1.079733593075053,
          1.077551623424765,
          1.0752593273995068,
          1.0728569396986705,
          1.0703447062935116,
          1.0677228844019668,
          1.0649917424623168,
          1.062151560105702,
          1.0592026281274933,
          1.0561452484575176,
          1.0529797341291447,
          1.049706409247237,
          1.046325608954966,
          1.0428376793994976,
          1.0392429776965522,
          1.0355418718938403,
          1.0317347409333795,
          1.027821974612697,
          1.0238039735449187,
          1.0196811491177524,
          1.0154539234513675,
          1.0111227293551752,
          1.0066880102835158,
          1.002150220290254,
          0.9975098239822905,
          0.9927672964719932,
          0.9879231233285516,
          0.9829778005282612,
          0.9779318344037431,
          0.9727857415921017,
          0.967540048982029,
          0.9621952936598575,
          0.9567520228545713,
          0.951210793881776,
          0.9455721740866385,
          0.9398367407857979,
          0.934005081208257,
          0.9280777924352571,
          0.9220554813391464,
          0.9159387645212436,
          0.909728268248707,
          0.9034246283904139,
          0.897028490351855,
          0.890540509009055,
          0.8839613486415222,
          0.8772916828642352,
          0.870532194558674,
          0.8636835758029026,
          0.8567465278007098,
          0.8497217608098154,
          0.8426099940691497,
          0.8354119557252139,
          0.828128382757527,
          0.8207600209031699,
          0.8133076245804328,
          0.8057719568115719,
          0.7981537891446873,
          0.7904539015747273,
          0.7826730824636271,
          0.7748121284595921,
          0.7668718444155314,
          0.7588530433066528,
          0.7507565461472246,
          0.7425831819065163,
          0.734333787423922,
          0.7260092073232807,
          0.7176102939263984,
          0.709137907165782,
          0.7005929144965939,
          0.691976190807837,
          0.683288618332778,
          0.6745310865586188,
          0.6657044921354255,
          0.6568097387843236,
          0.6478477372049699,
          0.6388194049823089,
          0.6297256664926254,
          0.6205674528089006,
          0.6113457016054833,
          0.6020613570620854,
          0.5927153697671103,
          0.5833086966203261,
          0.5738423007348932,
          0.5643171513387526,
          0.5547342236753929,
          0.5450944989039972,
          0.5353989639989867,
          0.5256486116489675,
          0.5158444401550942,
          0.5059874533288566,
          0.4960786603893039,
          0.4861190758597139,
          0.47610971946372105,
          0.46605161602090933,
          0.45594579534188673,
          0.4457932921228451,
          0.43559514583962283,
          0.42535240064127616,
          0.41506610524317367,
          0.4047373128196208,
          0.39436708089603134,
          0.3839564712406495,
          0.37350654975584135,
          0.3630183863689594,
          0.3524930549227987,
          0.3419316330656483,
          0.3313352021409567,
          0.32070484707661573,
          0.3100416562738804,
          0.29934672149593033,
          0.2886211377560893,
          0.27786600320571075,
          0.2670824190217416,
          0.2562714892939784,
          0.2454343209120221,
          0.23457202345194963,
          0.22368570906270685,
          0.21277649235224175,
          0.2018454902733822,
          0.19089382200947722,
          0.17992260885980624,
          0.16893297412477556,
          0.15792604299090585,
          0.14690294241563065
         ],
         "y": [
          0,
          0.01113032276317038,
          0.022259505935312347,
          0.033386410042075834,
          0.04450989584245554,
          0.05562882444543341,
          0.06674205742658539,
          0.07784845694464021,
          0.08894688585797875,
          0.10003620784106142,
          0.11111528750077235,
          0.1221829904926678,
          0.1332381836371174,
          0.144279735035326,
          0.15530651418522462,
          0.16631739209721788,
          0.17731124140977733,
          0.1882869365048673,
          0.19924335362319287,
          0.21017937097925712,
          0.22109386887621651,
          0.23198572982052235,
          0.24285383863633656,
          0.2536970825797104,
          0.26451435145251395,
          0.27530453771610525,
          0.28606653660472636,
          0.2967992462386169,
          0.3075015677368306,
          0.3181724053297459,
          0.3288106664712574,
          0.3394152619506374,
          0.3499851060040565,
          0.3605191164257502,
          0.37101621467882184,
          0.3814753260056703,
          0.39189537953803,
          0.4022753084066129,
          0.41261404985034145,
          0.4229105453251603,
          0.43316374061241675,
          0.44337258592679823,
          0.4535360360238156,
          0.4636530503068216,
          0.47372259293355407,
          0.4837436329221913,
          0.4937151442569107,
          0.5036361059929383,
          0.5135055023610797,
          0.5233223228717203,
          0.5330855624182864,
          0.5427942213801527,
          0.552447305724991,
          0.5620438271105448,
          0.571582802985822,
          0.581063256691694,
          0.590484217560893,
          0.5998447210173941,
          0.609143808675175,
          0.6183805284363413,
          0.627553934588608,
          0.6366630879021278,
          0.6457070557256545,
          0.6546849120820346,
          0.6635957377630137,
          0.6724386204233508,
          0.6812126546742302,
          0.6899169421759607,
          0.6985505917299527,
          0.7071127193699656,
          0.7156024484526122,
          0.7240189097471165,
          0.7323612415243096,
          0.7406285896448598,
          0.7488201076467235,
          0.7569349568318128,
          0.764972306351865,
          0.7729313332935109,
          0.7808112227625297,
          0.7886111679672824,
          0.7963303703013164,
          0.8039680394251317,
          0.8115233933471012,
          0.8189956585035346,
          0.8263840698378823,
          0.8336878708790648,
          0.8409063138189266,
          0.8480386595888,
          0.8550841779351762,
          0.8620421474944735,
          0.8689118558668936,
          0.8756925996893633,
          0.8823836847075476,
          0.8889844258469327,
          0.8954941472829674,
          0.9019121825102592,
          0.9082378744108138,
          0.9144705753213165,
          0.9206096470994427,
          0.9266544611891955,
          0.9326043986852606,
          0.9384588503963743,
          0.9442172169076963,
          0.9498789086421802,
          0.9554433459209397,
          0.9609099590225986,
          0.9662781882416229,
          0.9715474839456266,
          0.9767173066316468,
          0.9817871269813807,
          0.9867564259153816,
          0.991624694646204,
          0.9963914347304975,
          1.00105615812004,
          1.0056183872117077,
          1.0100776548963737,
          1.0144335046067354,
          1.0186854903640588,
          1.022833176823842,
          1.0268761393203873,
          1.0308139639102822,
          1.0346462474147806,
          1.0383725974610833,
          1.0419926325225113,
          1.0455059819575683,
          1.0489122860478906,
          1.0522111960350757,
          1.055402374156392,
          1.0584854936793597,
          1.0614602389352041,
          1.0643263053511758,
          1.0670833994817346,
          1.0697312390385945,
          1.072269552919626,
          1.0746980812366134,
          1.0770165753418628,
          1.0792247978536615,
          1.0813225226805823,
          1.0833095350446307,
          1.085185631503238,
          1.0869506199700878,
          1.0886043197347854,
          1.0901465614813588
         ]
        },
        {
         "line": {
          "color": "rgba(215,48,39, 0.75)",
          "shape": "spline",
          "width": 0.25
         },
         "mode": "lines",
         "type": "scatter",
         "uid": "b1d94c29-238e-4277-b4e2-6ab695e69707",
         "x": [
          0.11258812367891115,
          0.10154468479074044,
          0.09049091318406166,
          0.07942793363966169,
          0.06835687187528466,
          0.05727885443108441,
          0.04619500855499187,
          0.03510646208801304,
          0.02401434334946413,
          0.012919781022159217,
          0.0018239040375606914,
          -0.009272158539095606,
          -0.020367277623688586,
          -0.031460324228103305,
          -0.0425501695751101,
          -0.05363568521322472,
          -0.06471574313153412,
          -0.07578921587447765,
          -0.08685497665657169,
          -0.09791189947706617,
          -0.10895885923452123,
          -0.11999473184129206,
          -0.13101839433791185,
          -0.1420287250073576,
          -0.15302460348919167,
          -0.1640049108935644,
          -0.17496852991506703,
          -0.1859143449464235,
          -0.19684124219201027,
          -0.20774810978118965,
          -0.21863383788144966,
          -0.22949731881133512,
          -0.24033744715316016,
          -0.2511531198654906,
          -0.2619432363953843,
          -0.2727066987903782,
          -0.28344241181021096,
          -0.29414928303826976,
          -0.3048262229927491,
          -0.3154721452375124,
          -0.3260859664926414,
          -0.3366666067446667,
          -0.34721298935646466,
          -0.35772404117681056,
          -0.368198692649579,
          -0.378635877922575,
          -0.3890345349559916,
          -0.39939360563047754,
          -0.40971203585480676,
          -0.4199887756731381,
          -0.4302227793718533,
          -0.4404130055859649,
          -0.4505584174050798,
          -0.46065798247891115,
          -0.4707106731223253,
          -0.4807154664199139,
          -0.4906713443300832,
          -0.5005772937886404,
          -0.510432306811885,
          -0.52023538059917,
          -0.5299855176349476,
          -0.5396817257902687,
          -0.5493230184237382,
          -0.5589084144819109,
          -0.5684369385991195,
          -0.5779076211967226,
          -0.5873194985817654,
          -0.5966716130450395,
          -0.605963012958536,
          -0.6151927528722789,
          -0.6243598936105278,
          -0.6334635023673476,
          -0.6425026528015219,
          -0.6514764251308184,
          -0.6603839062255763,
          -0.6692241897016276,
          -0.6779963760125219,
          -0.6866995725410631,
          -0.6953328936901364,
          -0.7038954609728235,
          -0.7123864031017929,
          -0.7208048560779582,
          -0.7291499632783947,
          -0.7374208755435052,
          -0.745616751263427,
          -0.7537367564636696,
          -0.7617800648899767,
          -0.7697458580924016,
          -0.77763332550859,
          -0.785441664546256,
          -0.7931700806648551,
          -0.8008177874564272,
          -0.8083840067256235,
          -0.8158679685688882,
          -0.8232689114528015,
          -0.8305860822915699,
          -0.8378187365236569,
          -0.8449661381875455,
          -0.8520275599966268,
          -0.8590022834132052,
          -0.8658895987216131,
          -0.872688805100429,
          -0.8793992106937889,
          -0.8860201326817884,
          -0.8925508973499593,
          -0.8989908401578289,
          -0.9053393058065357,
          -0.9115956483055134,
          -0.9177592310382207,
          -0.9238294268269237,
          -0.9298056179965117,
          -0.9356871964373509,
          -0.9414735636671618,
          -0.9471641308919185,
          -0.9527583190657615,
          -0.9582555589499187,
          -0.9636552911706284,
          -0.9689569662760589,
          -0.9741600447922187,
          -0.9792639972778489,
          -0.9842683043782989,
          -0.9891724568783722,
          -0.9939759557541429,
          -0.9986783122237324,
          -1.0032790477970475,
          -1.007777694324468,
          -1.0121737940444844,
          -1.016466899630276,
          -1.0206565742352307,
          -1.0247423915373957,
          -1.0287239357828577,
          -1.0326008018280488,
          -1.0363725951809715,
          -1.0400389320413403,
          -1.0435994393396362,
          -1.047053754775068,
          -1.0504015268524378,
          -1.053642414917909,
          -1.056776089193668,
          -1.0598022308114823,
          -1.0627205318451458
         ],
         "y": [
          1.094222972892848,
          1.095303006930388,
          1.0962715879886311,
          1.0971286175092387,
          1.0978740082848424,
          1.098507684467916,
          1.0990295815784963,
          1.099439646510741,
          1.0997378375383355,
          1.0999241243187368,
          1.0999984878962616,
          1.0999609207040157,
          1.0998114265646632,
          1.099550020690038,
          1.099176729679595,
          1.0986915915177053,
          1.098094655569789,
          1.0973859825772936,
          1.0965656446515122,
          1.0956337252662465,
          1.0945903192493125,
          1.0934355327728913,
          1.0921694833427253,
          1.090792299786162,
          1.0893041222390447,
          1.0877051021314528,
          1.085995402172293,
          1.0841751963327433,
          1.0822446698285497,
          1.0802040191011804,
          1.0780534517978355,
          1.0757931867503199,
          1.0734234539527736,
          1.07094449453827,
          1.0683565607542793,
          1.0656599159370002,
          1.0628548344845645,
          1.059941601829116,
          1.0569205144077651,
          1.0537918796324264,
          1.0505560158585359,
          1.0472132523526583,
          1.0437639292589813,
          1.0402083975647052,
          1.0365470190643264,
          1.0327801663228247,
          1.0289082226377508,
          1.0249315820002265,
          1.0208506490548506,
          1.016665839058527,
          1.0123775778382085,
          1.007986301747567,
          1.0034924576225923,
          0.998896502736124,
          0.9941989047513217,
          0.9894001416740776,
          0.9845007018043761,
          0.979501083686609,
          0.9744017960588424,
          0.9692033578010536,
          0.9639062978823287,
          0.9585111553070405,
          0.9530184790599989,
          0.9474288280505911,
          0.9417427710559084,
          0.9359608866628699,
          0.9300837632093488,
          0.9241119987243055,
          0.9180462008669352,
          0.9118869868648347,
          0.9056349834511974,
          0.8992908268010374,
          0.8928551624664591,
          0.8863286453109643,
          0.8797119394428209,
          0.8730057181474816,
          0.8662106638190776,
          0.8593274678909789,
          0.8523568307654381,
          0.8452994617423203,
          0.8381560789469287,
          0.8309274092569302,
          0.8236141882283936,
          0.816217160020941,
          0.8087370773220264,
          0.8011747012703454,
          0.7935308013783857,
          0.785806155454125,
          0.7780015495218834,
          0.7701177777423442,
          0.7621556423317403,
          0.7541159534802276,
          0.7459995292694407,
          0.7378071955892515,
          0.7295397860537283,
          0.7211981419163125,
          0.712783111984216,
          0.7042955525320503,
          0.6957363272146961,
          0.687106306979422,
          0.6784063699772608,
          0.6696374014736525,
          0.6608002937583648,
          0.6518959460546954,
          0.6429252644279757,
          0.6338891616933681,
          0.6247885573229877,
          0.6156243773523357,
          0.6063975542860756,
          0.5971090270031411,
          0.5877597406612034,
          0.5783506466004948,
          0.5688827022470052,
          0.5593568710150585,
          0.5497741222092805,
          0.5401354309259663,
          0.5304417779538595,
          0.520694149674352,
          0.5108935379611123,
          0.5010409400791612,
          0.4911373585833891,
          0.48118380121654675,
          0.47118128080669586,
          0.46113081516415444,
          0.4510334269779234,
          0.4408901437116269,
          0.43070199749895993,
          0.42047002503866415,
          0.41019526748903784,
          0.3998787703619925,
          0.3895215834166664,
          0.37912476055260597,
          0.36868935970252575,
          0.3582164427246583,
          0.3477070752947043,
          0.3371623267973928,
          0.3265832702176699,
          0.3159709820315103,
          0.3053265420963873,
          0.294651033541384,
          0.2839455426569867
         ]
        },
        {
         "line": {
          "color": "rgba(244,109,67, 0.75)",
          "shape": "spline",
          "width": 0.25
         },
         "mode": "lines",
         "type": "scatter",
         "uid": "90100ca9-413a-442f-b33b-edc5e63c1b8a",
         "x": [
          -1.0711150884462897,
          -1.0736035926379857,
          -1.0759813183869493,
          -1.0782480203505256,
          -1.0804034646419103,
          -1.0824474288542822,
          -1.084379702083753,
          -1.086200084951128,
          -1.0879083896224802,
          -1.08950443982853,
          -1.090988070882836,
          -1.092359129698784,
          -1.093617474805387,
          -1.0947629763618802,
          -1.0957955161711197,
          -1.0967149876917777,
          -1.0975212960493363,
          -1.0982143580458772,
          -1.0987941021686656,
          -1.0992604685975302,
          -1.0996134092110348,
          -1.0998528875914437,
          -1.0999788790284806,
          -1.0999913705218762,
          -1.0998903607827117,
          -1.0996758602335506,
          -1.0993478910073635,
          -1.0989064869452443,
          -1.098351693592919,
          -1.0976835681960444,
          -1.096902179694304,
          -1.0960076087142916,
          -1.0949999475611942,
          -1.0938793002092666,
          -1.0926457822911024,
          -1.0912995210857044,
          -1.0898406555053497,
          -1.0882693360812565,
          -1.086585724948053,
          -1.0847899958270464,
          -1.0828823340082978,
          -1.0808629363315039,
          -1.0787320111656864,
          -1.0764897783876903,
          -1.0741364693594986,
          -1.071672326904357,
          -1.0690976052817203,
          -1.0664125701610159,
          -1.0636174985942313,
          -1.0607126789873274,
          -1.057698411070479,
          -1.0545750058671477,
          -1.0513427856619892,
          -1.0480020839675992,
          -1.0445532454901005,
          -1.0409966260935737,
          -1.0373325927633386,
          -1.0335615235680882,
          -1.029683807620876,
          -1.0256998450389687,
          -1.0216100469025573,
          -1.0174148352123429,
          -1.0131146428459923,
          -1.0087099135134712,
          -1.004201101711262,
          -0.9995886726754667,
          -0.9948731023338009,
          -0.990054877256487,
          -0.9851344946060485,
          -0.9801124620860091,
          -0.9749892978885083,
          -0.9697655306408297,
          -0.9644416993508584,
          -0.9590183533514605,
          -0.9534960522438045,
          -0.947875365839617,
          -0.9421568741023885,
          -0.9363411670875301,
          -0.9304288448814899,
          -0.9244205175398335,
          -0.9183168050242962,
          -0.9121183371388135,
          -0.905825753464534,
          -0.8994397032938274,
          -0.8929608455632857,
          -0.8863898487857341,
          -0.8797273909812487,
          -0.8729741596071983,
          -0.866130851487308,
          -0.8591981727397591,
          -0.8521768387043299,
          -0.8450675738685838,
          -0.8378711117931128,
          -0.830588195035847
         ],
         "y": [
          0.25042457407909785,
          0.23953147157484478,
          0.22861365331555056,
          0.21767224584262587,
          0.2067083781315031,
          0.19572318147514797,
          0.18471778936732489,
          0.1736933373856425,
          0.16265096307437682,
          0.15159180582709889,
          0.14051700676910403,
          0.12942770863967026,
          0.11832505567414206,
          0.107210193485868,
          0.09608426894798854,
          0.08494843007509877,
          0.07380382590479358,
          0.06265160637910208,
          0.051492922225836284,
          0.040328924839850754,
          0.02916076616424124,
          0.017989598571479037,
          0.0068165747445087296,
          -0.004357152442193858,
          -0.015530430041575642,
          -0.026702105152975115,
          -0.03787102504108148,
          -0.04903603725487724,
          -0.06019598974655337,
          -0.07134973099038291,
          -0.08249611010153877,
          -0.09363397695484478,
          -0.10476218230345342,
          -0.11587957789742552,
          -0.1269850166022148,
          -0.13807735251702977,
          -0.1491554410930757,
          -0.1602181392516499,
          -0.17126430550209248,
          -0.18229280005956594,
          -0.19330248496266564,
          -0.2042922241908377,
          -0.21526088378159616,
          -0.22620733194753312,
          -0.2371304391930967,
          -0.24802907843114075,
          -0.25890212509921773,
          -0.2697484572756194,
          -0.2805669557951371,
          -0.29135650436454485,
          -0.3021159896777795,
          -0.31284430153081844,
          -0.32354033293623363,
          -0.3342029802374138,
          -0.3448311432224445,
          -0.3554237252376333,
          -0.3659796333006657,
          -0.37649777821338126,
          -0.38697707467416537,
          -0.39741644138993,
          -0.40781480118768987,
          -0.4181710811257054,
          -0.4284842126041959,
          -0.43875313147560063,
          -0.44897677815438036,
          -0.4591540977263504,
          -0.4692840400575315,
          -0.47936555990250557,
          -0.4893976170122671,
          -0.4993791762415625,
          -0.509309207655697,
          -0.5191866866368109,
          -0.5290105939895994,
          -0.5387799160464813,
          -0.5484936447721888,
          -0.5581507778677842,
          -0.5677503188740773,
          -0.5772912772744467,
          -0.5867726685970441,
          -0.5961935145163747,
          -0.605552842954245,
          -0.6148496881800672,
          -0.624083090910505,
          -0.6332520984084553,
          -0.6423557645813587,
          -0.6513931500788165,
          -0.6603633223895201,
          -0.6692653559374683,
          -0.6780983321774734,
          -0.6868613396899401,
          -0.6955534742749075,
          -0.7041738390453496,
          -0.7127215445197187,
          -0.7211957087137263
         ]
        },
        {
         "line": {
          "color": "rgba(253,174,97, 0.75)",
          "shape": "spline",
          "width": 0.25
         },
         "mode": "lines",
         "type": "scatter",
         "uid": "8739d626-042f-4d6f-8ef9-6862a6ef6d1c",
         "x": [
          -0.8075250452460742,
          -0.799780191323057,
          -0.7919502977376295,
          -0.7840361970329255,
          -0.7760387307057208,
          -0.7679587491169573,
          -0.7597971114013242,
          -0.7515546853759092,
          -0.7432323474479231,
          -0.7348309825215121,
          -0.726351483903669,
          -0.7177947532092471,
          -0.7091617002650928,
          -0.7004532430133057,
          -0.6916703074136344,
          -0.6828138273450209,
          -0.6738847445062998,
          -0.6648840083160725,
          -0.6558125758117543,
          -0.6466714115478144,
          -0.6374614874932154,
          -0.6281837829280664,
          -0.6188392843394944,
          -0.609428985316756,
          -0.5999538864455882,
          -0.5904149952018175,
          -0.5808133258442365,
          -0.5711498993067596,
          -0.5614257430898651,
          -0.5516418911513475,
          -0.541799383796374,
          -0.5318992675668722,
          -0.521942595130251,
          -0.5119304251674739,
          -0.5018638222604868,
          -0.49174385677902704,
          -0.48157160476680977,
          -0.4713481478271133,
          -0.4610745730077745,
          -0.4507519726856045,
          -0.4403814444502346,
          -0.42996409098741556,
          -0.41950101996176753,
          -0.4089933438990036,
          -0.398442180067637,
          -0.38784865036018334,
          -0.3772138811738684,
          -0.3665390032908645,
          -0.35582515175805235,
          -0.34507346576633396,
          -0.33428508852950434,
          -0.3234611671626917,
          -0.3126028525603916,
          -0.3017112992740895,
          -0.29078766538950057,
          -0.2798331124034307,
          -0.2688488051002769,
          -0.2578359114281776,
          -0.24679560237482245,
          -0.23572905184294854
         ],
         "y": [
          -0.746929247854391,
          -0.7552162905865144,
          -0.7634230320820037,
          -0.7715485997279418,
          -0.7795921295425281,
          -0.7875527662669458,
          -0.7954296634563007,
          -0.8032219835696223,
          -0.8109288980589174,
          -0.8185495874572714,
          -0.8260832414659787,
          -0.8335290590407008,
          -0.8408862484766432,
          -0.8481540274927326,
          -0.8553316233147987,
          -0.8624182727577403,
          -0.8694132223066771,
          -0.8763157281970654,
          -0.8831250564937856,
          -0.8898404831691786,
          -0.8964612941800317,
          -0.9029867855435006,
          -0.9094162634119661,
          -0.9157490441468064,
          -0.9219844543910892,
          -0.9281218311411698,
          -0.9341605218171859,
          -0.9400998843324462,
          -0.9459392871617042,
          -0.9516781094083047,
          -0.957315740870205,
          -0.9628515821048564,
          -0.9682850444929422,
          -0.9736155503009644,
          -0.9788425327426751,
          -0.9839654360393396,
          -0.9889837154788342,
          -0.9938968374735629,
          -0.9987042796171941,
          -1.0034055307402068,
          -1.0080000909642444,
          -1.0124874717552634,
          -1.0168671959754807,
          -1.0211387979341064,
          -1.0253018234368594,
          -1.029355829834263,
          -1.0333003860687109,
          -1.037135072720299,
          -1.0408594820514243,
          -1.044473218050138,
          -1.0479758964722528,
          -1.0513671448822002,
          -1.05464660269263,
          -1.0578139212027515,
          -1.0608687636354104,
          -1.0638108051728978,
          -1.0666397329914883,
          -1.0693552462947014,
          -1.0719570563452852,
          -1.0744448864959173
         ]
        },
        {
         "line": {
          "color": "rgba(254,224,139, 0.75)",
          "shape": "spline",
          "width": 0.25
         },
         "mode": "lines",
         "type": "scatter",
         "uid": "eeb4f8c1-dc95-49ef-b3cd-1fb69de487b4",
         "x": [
          -0.20186360431337075,
          -0.18923965103334078,
          -0.17658996034148206,
          -0.1639162526504957,
          -0.1512202516394949,
          -0.13850368401958466,
          -0.1257682792990149,
          -0.11301576954796297,
          -0.10024788916296712,
          -0.08746637463103456,
          -0.07467296429347943,
          -0.06186939810949302,
          -0.049057417419509565,
          -0.03623876470836966,
          -0.02341518336833766,
          -0.010588417461995701,
          0.002239788514963175,
          0.01506768987098618
         ],
         "y": [
          -1.0813191412592376,
          -1.0835997205964847,
          -1.0857329256804336,
          -1.0877184663859574,
          -1.0895560726709241,
          -1.091245494612923,
          -1.0927865024432564,
          -1.0941788865781874,
          -1.0954224576474454,
          -1.0965170465199818,
          -1.0974625043269701,
          -1.098258702482056,
          -1.098905532698843,
          -1.0994029070056217,
          -1.0997507577573327,
          -1.0999490376447676,
          -1.099997719701004,
          -1.0998967973050708
         ]
        },
        {
         "line": {
          "color": "rgba(217,239,139, 0.75)",
          "shape": "spline",
          "width": 0.25
         },
         "mode": "lines",
         "type": "scatter",
         "uid": "13266ad4-34e3-49a9-9617-184134f40dd1",
         "x": [
          0.04960884818656127,
          0.06083066001405812,
          0.07204612498092365,
          0.08325407290434042,
          0.09445333438579631,
          0.10564274093308954,
          0.11682112508224897,
          0.1279873205193415,
          0.13914016220216494,
          0.1502784864817987,
          0.16140113122401883,
          0.17250693593055003,
          0.1835947418601471,
          0.19466339214949788,
          0.20571173193392056,
          0.21673860846786214,
          0.2277428712451708,
          0.23872337211913514,
          0.24967896542228113,
          0.26060850808590186,
          0.27151085975932493,
          0.2823848829288918,
          0.29322944303664095,
          0.3040434085986879,
          0.31482565132327417,
          0.3255750462284935,
          0.33629047175966625,
          0.34697080990636303,
          0.3576149463190476,
          0.3682217704253485,
          0.37879017554593103,
          0.38931905900996405,
          0.3998073222701717,
          0.410253871017447,
          0.4206576152950321,
          0.43101746961223825,
          0.44133235305770613,
          0.4516011894121791,
          0.4618229072607952,
          0.4719964401048748,
          0.4821207264731937,
          0.4921947100327376,
          0.5022173396989104,
          0.5121875697452045,
          0.5221043599123073,
          0.5319666755166377,
          0.5417734875583045,
          0.5515237728284633,
          0.561216514016079,
          0.5708506998140666,
          0.5804253250248069,
          0.5899393906650292,
          0.5993919040700365,
          0.6087818789972792,
          0.618108335729256,
          0.6273703011757368,
          0.6365668089752863,
          0.6456968995960944,
          0.6547596204360895,
          0.6637540259223317,
          0.6726791776096664,
          0.6815341442786421,
          0.6903180020326688,
          0.699029834394414,
          0.7076687324014282,
          0.7162337947009771,
          0.7247241276440904,
          0.7331388453787997,
          0.741477069942565,
          0.749737931353882,
          0.7579205677030473
         ],
         "y": [
          -1.098880777055274,
          -1.0983167260869036,
          -1.0976380805507948,
          -1.0968449112544758,
          -1.0959373009544868,
          -1.0949153443477466,
          -1.0937791480616723,
          -1.0925288306430543,
          -1.0911645225456863,
          -1.0896863661167557,
          -1.0880945155819908,
          -1.0863891370295697,
          -1.0845704083927914,
          -1.0826385194315096,
          -1.0805936717123357,
          -1.0784360785876068,
          -1.076165965173126,
          -1.0737835683246737,
          -1.0712891366132953,
          -1.0686829302993666,
          -1.0659652213054385,
          -1.063136293187866,
          -1.060196441107223,
          -1.0571459717975051,
          -1.0539852035341275,
          -1.0507144661007168,
          -1.0473341007547026,
          -1.04384446019171,
          -1.0402459085087645,
          -1.0365388211662996,
          -1.0327235849489849,
          -1.028800597925369,
          -1.024770269406346,
          -1.0206330199024525,
          -1.016389281079989,
          -1.0120394957159842,
          -1.0075841176519946,
          -1.0030236117467553,
          -0.9983584538276756,
          -0.9935891306411949,
          -0.9887161398019961,
          -0.9837399897410848,
          -0.9786611996527448,
          -0.9734802994403644,
          -0.9681978296611494,
          -0.9628143414697231,
          -0.9573303965606189,
          -0.9517465671096785,
          -0.9460634357143501,
          -0.9402815953329038,
          -0.934401649222564,
          -0.9284242108765659,
          -0.9223499039601492,
          -0.9161793622454844,
          -0.9099132295455482,
          -0.903552159646949,
          -0.8970968162417152,
          -0.8905478728580465,
          -0.883906012790041,
          -0.8771719290264006,
          -0.8703463241781302,
          -0.8634299104052275,
          -0.8564234093423793,
          -0.849327552023669,
          -0.8421430788063012,
          -0.8348707392933582,
          -0.8275112922555874,
          -0.8200655055522337,
          -0.8125341560509248,
          -0.8049180295466128,
          -0.7972179206795912
         ]
        },
        {
         "line": {
          "color": "rgba(166,217,106, 0.75)",
          "shape": "spline",
          "width": 0.25
         },
         "mode": "lines",
         "type": "scatter",
         "uid": "dc51bba6-12e6-4733-b3b9-50344676031d",
         "x": [
          0.7825877996945482,
          0.7905203740414039,
          0.7983688240645439,
          0.8061323145602572,
          0.8138100193659176,
          0.8214011214479033,
          0.8289048129885417,
          0.8363202954720745,
          0.8436467797696315,
          0.8508834862232091,
          0.858029644728638,
          0.8650844948175344,
          0.8720472857382251,
          0.8789172765356429,
          0.8856937361301739,
          0.8923759433954578,
          0.898963187235125,
          0.9054547666584727,
          0.9118499908550588,
          0.9181481792682171,
          0.9243486616674792,
          0.9304507782198964,
          0.93645387956026,
          0.9423573268602019,
          0.9481604918961777,
          0.9538627571163177,
          0.9594635157061483,
          0.9649621716531641,
          0.9703581398102545,
          0.9756508459579719,
          0.9808397268656398,
          0.9859242303512885,
          0.9909038153404174,
          0.9957779519235714,
          1.0005461214127362,
          1.005207816396532,
          1.0097625407942115,
          1.0142098099084513,
          1.0185491504769302,
          1.0227801007226944,
          1.0269022104032959,
          1.0309150408587076,
          1.0348181650580015,
          1.0386111676447947,
          1.042293644981448,
          1.0458652051920205,
          1.0493254682039705,
          1.0526740657886033,
          1.0559106416002553,
          1.0590348512142163,
          1.062046362163379,
          1.0649448539736235,
          1.067730018197917,
          1.0704015584491402,
          1.072959190431626,
          1.075402641971414
         ],
         "y": [
          -0.7730176814079003,
          -0.764903613683083,
          -0.7567081476776879,
          -0.7484321555236136,
          -0.7400765179220626,
          -0.7316421240498164,
          -0.7231298714646153,
          -0.7145406660096416,
          -0.7058754217171265,
          -0.6971350607110778,
          -0.6883205131091529,
          -0.6794327169236786,
          -0.6704726179618334,
          -0.6614411697249942,
          -0.6523393333072706,
          -0.6431680772932273,
          -0.633928377654815,
          -0.6246212176475046,
          -0.6152475877056565,
          -0.6058084853371222,
          -0.5963049150170912,
          -0.5867378880812021,
          -0.5771084226179152,
          -0.5674175433601738,
          -0.5576662815763551,
          -0.5478556749605289,
          -0.5379867675220253,
          -0.5280606094743384,
          -0.5180782571233642,
          -0.5080407727549965,
          -0.4979492245220765,
          -0.4878046863307276,
          -0.47760823772607225,
          -0.4673609637773545,
          -0.45706395496246505,
          -0.4467183070519007,
          -0.43632512099215487,
          -0.42588550278855847,
          -0.41540056338758596,
          -0.4048714185586276,
          -0.3942991887752564,
          -0.3836849990959895,
          -0.37302997904456786,
          -0.36233526248975023,
          -0.35160198752465466,
          -0.3408312963456453,
          -0.33002433513078744,
          -0.31918225391786975,
          -0.30830620648202517,
          -0.2973973502129488,
          -0.28645684599173554,
          -0.2754858580673389,
          -0.26448555393267853,
          -0.25345710420039946,
          -0.2424016824782986,
          -0.2313204652444375
         ]
        },
        {
         "line": {
          "color": "rgba(102,189,99, 0.75)",
          "shape": "spline",
          "width": 0.25
         },
         "mode": "lines",
         "type": "scatter",
         "uid": "01694819-36c6-44a3-b6e8-bd78c6994ee9",
         "x": [
          1.0821379470887018,
          1.0838272050669895,
          1.0854331579672367,
          1.0869556823527629,
          1.0883946611993676,
          1.089749983904323,
          1.0910215462948762,
          1.0922092506362555,
          1.0933130056391835,
          1.0943327264668923,
          1.0952683347416456,
          1.096119758550762,
          1.0968869324521426,
          1.097569797479302,
          1.0981683011458987,
          1.0986823974497706,
          1.099112046876471,
          1.0994572164023046
         ],
         "y": [
          -0.19742710925972193,
          -0.18793240688257565,
          -0.1784232596531968,
          -0.16890039846323537,
          -0.15936455525842014,
          -0.14981646298230403,
          -0.14025685551992642,
          -0.13068646764140945,
          -0.12110603494547614,
          -0.11151629380291388,
          -0.10191798129997828,
          -0.09231183518173366,
          -0.08269859379535129,
          -0.0730789960333615,
          -0.06345378127685519,
          -0.05382368933865744,
          -0.044189460406462044,
          -0.03455183498594315
         ]
        },
        {
         "marker": {
          "color": "rgba(26,152,80, 0.75)",
          "size": 0.5
         },
         "mode": "markers",
         "type": "scatter",
         "uid": "0b9126e3-1a75-45b5-b1ed-7233a3e0c1d9",
         "x": [
          0.648254463360541
         ],
         "y": [
          0.6243125425082673
         ]
        },
        {
         "marker": {
          "color": "rgba(26,152,80, 0.75)",
          "size": 0.5
         },
         "mode": "markers",
         "text": "186 V",
         "type": "scatter",
         "uid": "65c2dfc4-cf66-4b80-80cf-7174881bdcdd",
         "x": [
          0.8797146909137388
         ],
         "y": [
          0.19000542779232704
         ]
        },
        {
         "marker": {
          "color": "rgba(26,152,80, 0.75)",
          "size": 0.5
         },
         "mode": "markers",
         "text": "138 S",
         "type": "scatter",
         "uid": "bdd92b9c-13e8-48de-8902-5ca1a4bc8527",
         "x": [
          -0.8829355558919321
         ],
         "y": [
          -0.17442707399312987
         ]
        },
        {
         "marker": {
          "color": "rgba(26,152,80, 0.75)",
          "size": 0.5
         },
         "mode": "markers",
         "text": "186 V",
         "type": "scatter",
         "uid": "2c8f039c-22a5-47c8-b9ef-5fce629de24a",
         "x": [
          0.8167651899532479
         ],
         "y": [
          0.37801405328457705
         ]
        },
        {
         "marker": {
          "color": "rgba(26,152,80, 0.75)",
          "size": 0.5
         },
         "mode": "markers",
         "text": "156 R/Q",
         "type": "scatter",
         "uid": "3b81d309-cf5c-4662-9180-24ff0222f5a1",
         "x": [
          -0.307399788741763
         ],
         "y": [
          -0.845875504954198
         ]
        },
        {
         "marker": {
          "color": "rgba(26,152,80, 0.75)",
          "size": 0.5
         },
         "mode": "markers",
         "text": "186 V",
         "type": "scatter",
         "uid": "13e32583-ec93-40b0-ac7b-925be9e465bf",
         "x": [
          0.3260808502164035
         ],
         "y": [
          0.8388511662518849
         ]
        },
        {
         "marker": {
          "color": "rgba(26,152,80, 0.75)",
          "size": 0.5
         },
         "mode": "markers",
         "text": "219 F/Y",
         "type": "scatter",
         "uid": "190ec158-04ac-4089-9296-69c05f9b6591",
         "x": [
          0.45369190698436784
         ],
         "y": [
          -0.7772796495064617
         ]
        },
        {
         "marker": {
          "color": "rgba(26,152,80, 0.75)",
          "size": 0.5
         },
         "mode": "markers",
         "text": "186 V",
         "type": "scatter",
         "uid": "4bdfef77-9c4d-46df-91bf-95db82e6ecd3",
         "x": [
          0.899536114518463
         ],
         "y": [
          0.028892536701135264
         ]
        },
        {
         "marker": {
          "color": "rgba(26,152,80, 0.75)",
          "size": 0.5
         },
         "mode": "markers",
         "text": "225 G",
         "type": "scatter",
         "uid": "e1436bac-73ba-46b8-8154-620f433481f0",
         "x": [
          0.7304974052082653
         ],
         "y": [
          -0.5257124128114072
         ]
        },
        {
         "marker": {
          "color": "rgba(26,152,80, 0.75)",
          "size": 0.5
         },
         "mode": "markers",
         "text": "186 V",
         "type": "scatter",
         "uid": "8d6e715a-37e7-4551-9aa7-e89ca368bb20",
         "x": [
          0.8958278993697459
         ],
         "y": [
          0.08655850455494499
         ]
        },
        {
         "marker": {
          "color": "rgba(26,152,80, 0.75)",
          "size": 0.5
         },
         "mode": "markers",
         "text": "246 H",
         "type": "scatter",
         "uid": "591c8215-bb31-4a2f-ac49-97db6f050f06",
         "x": [
          0.8984596737145817
         ],
         "y": [
          -0.05263282919136453
         ]
        },
        {
         "marker": {
          "color": "rgba(215,48,39, 0.75)",
          "size": 0.5
         },
         "mode": "markers",
         "type": "scatter",
         "uid": "4067a9ea-f051-4f2d-950b-5ec3eca43cde",
         "x": [
          -0.6581774863177644
         ],
         "y": [
          0.6138423221841496
         ]
        },
        {
         "marker": {
          "color": "rgba(215,48,39, 0.75)",
          "size": 0.5
         },
         "mode": "markers",
         "text": "194 P",
         "type": "scatter",
         "uid": "70a3e7a3-d187-4c19-b9a7-3daf960dc0ab",
         "x": [
          0.02006066627234595
         ],
         "y": [
          0.8997763998175934
         ]
        },
        {
         "marker": {
          "color": "rgba(215,48,39, 0.75)",
          "size": 0.5
         },
         "mode": "markers",
         "text": "138 S",
         "type": "scatter",
         "uid": "3225ac0a-0df4-41b0-b608-3cebe033cfe9",
         "x": [
          -0.8985832811776536
         ],
         "y": [
          -0.050478577515634754
         ]
        },
        {
         "marker": {
          "color": "rgba(215,48,39, 0.75)",
          "size": 0.5
         },
         "mode": "markers",
         "text": "194 P",
         "type": "scatter",
         "uid": "c4103ff8-b0cb-423f-8297-1a4a8bdb6622",
         "x": [
          -0.21261340248789276
         ],
         "y": [
          0.8745258950325722
         ]
        },
        {
         "marker": {
          "color": "rgba(215,48,39, 0.75)",
          "size": 0.5
         },
         "mode": "markers",
         "text": "203 I",
         "type": "scatter",
         "uid": "a3d92e8d-c279-4d8f-9361-2b7e36300f53",
         "x": [
          -0.06090906523254872
         ],
         "y": [
          -0.8979365711298861
         ]
        },
        {
         "marker": {
          "color": "rgba(215,48,39, 0.75)",
          "size": 0.5
         },
         "mode": "markers",
         "text": "194 P",
         "type": "scatter",
         "uid": "500f014c-b1d1-43ae-b141-57a4b1f51901",
         "x": [
          0.08133550976223951
         ],
         "y": [
          0.8963172066025045
         ]
        },
        {
         "marker": {
          "color": "rgba(215,48,39, 0.75)",
          "size": 0.5
         },
         "mode": "markers",
         "text": "219 F/Y",
         "type": "scatter",
         "uid": "8c8b5904-fe4f-45c7-b44b-eb912422f00e",
         "x": [
          0.06529610000581483
         ],
         "y": [
          -0.8976282188768525
         ]
        },
        {
         "marker": {
          "color": "rgba(215,48,39, 0.75)",
          "size": 0.5
         },
         "mode": "markers",
         "text": "194 P",
         "type": "scatter",
         "uid": "f22858b4-174c-4d21-ba41-b9354e5aabda",
         "x": [
          -0.08093176129737223
         ],
         "y": [
          0.896353752718928
         ]
        },
        {
         "marker": {
          "color": "rgba(215,48,39, 0.75)",
          "size": 0.5
         },
         "mode": "markers",
         "text": "225 G",
         "type": "scatter",
         "uid": "42a2b4be-cc42-4e64-ae3a-1e5cf744f797",
         "x": [
          0.8092982679967856
         ],
         "y": [
          -0.3937465090859892
         ]
        },
        {
         "marker": {
          "color": "rgba(244,109,67, 0.75)",
          "size": 0.5
         },
         "mode": "markers",
         "type": "scatter",
         "uid": "3f031200-f48b-461d-9081-4ea3dfecfb6b",
         "x": [
          -0.7468578569188333
         ],
         "y": [
          -0.502198508120651
         ]
        },
        {
         "marker": {
          "color": "rgba(175,175,175,0.5)",
          "size": 0.5
         },
         "mode": "markers",
         "text": "138 S",
         "type": "scatter",
         "uid": "7b6b526d-ae3c-410a-96c1-df30a2942150",
         "x": [
          -0.8990025378919914
         ],
         "y": [
          0.042360793946274275
         ]
        },
        {
         "marker": {
          "color": "rgba(175,175,175,0.5)",
          "size": 0.5
         },
         "mode": "markers",
         "text": "156 R/Q",
         "type": "scatter",
         "uid": "62403c6e-1e5d-406d-b5df-75531c36dfa2",
         "x": [
          -0.5240773978811414
         ],
         "y": [
          -0.7316712930203916
         ]
        },
        {
         "marker": {
          "color": "rgba(175,175,175,0.5)",
          "size": 0.5
         },
         "mode": "markers",
         "text": "138 S",
         "type": "scatter",
         "uid": "debe7061-c1fd-4218-bd80-14dd11e0c976",
         "x": [
          -0.8787445412025204
         ],
         "y": [
          0.19444287414758066
         ]
        },
        {
         "marker": {
          "color": "rgba(175,175,175,0.5)",
          "size": 0.5
         },
         "mode": "markers",
         "text": "203 I",
         "type": "scatter",
         "uid": "622de83a-7254-451d-9952-02434cd275a9",
         "x": [
          -0.1431875659019758
         ],
         "y": [
          -0.8885366176872326
         ]
        },
        {
         "marker": {
          "color": "rgba(175,175,175,0.5)",
          "size": 0.5
         },
         "mode": "markers",
         "text": "138 S",
         "type": "scatter",
         "uid": "e8d5d769-5a76-4fc9-84b5-5df58631bc65",
         "x": [
          -0.8923542635302305
         ],
         "y": [
          0.11706352275333214
         ]
        },
        {
         "marker": {
          "color": "rgba(175,175,175,0.5)",
          "size": 0.5
         },
         "mode": "markers",
         "text": "219 F/Y",
         "type": "scatter",
         "uid": "76d1eab7-9135-4614-9227-ec5ecc6514f4",
         "x": [
          0.14951659014142246
         ],
         "y": [
          -0.8874935432286152
         ]
        },
        {
         "marker": {
          "color": "rgba(175,175,175,0.5)",
          "size": 0.5
         },
         "mode": "markers",
         "text": "138 S",
         "type": "scatter",
         "uid": "2b10d04c-c048-4e93-8e30-57e88fded59d",
         "x": [
          -0.837897683704071
         ],
         "y": [
          -0.32852316758997774
         ]
        },
        {
         "marker": {
          "color": "rgba(175,175,175,0.5)",
          "size": 0.5
         },
         "mode": "markers",
         "text": "225 G",
         "type": "scatter",
         "uid": "0797a7e1-0597-4c23-bb47-460e38eb5152",
         "x": [
          0.8584244700030703
         ],
         "y": [
          -0.27038385547208243
         ]
        },
        {
         "marker": {
          "color": "rgba(175,175,175,0.5)",
          "size": 0.5
         },
         "mode": "markers",
         "text": "138 S",
         "type": "scatter",
         "uid": "aea5fefc-58de-4df0-80e0-e26af50792c1",
         "x": [
          -0.8844749150931573
         ],
         "y": [
          0.1664455603822225
         ]
        },
        {
         "marker": {
          "color": "rgba(175,175,175,0.5)",
          "size": 0.5
         },
         "mode": "markers",
         "text": "246 H",
         "type": "scatter",
         "uid": "e4552d47-af64-47cf-9a14-447bb4c4adb4",
         "x": [
          0.8952717957807845
         ],
         "y": [
          -0.09213257664609849
         ]
        },
        {
         "marker": {
          "color": "rgba(253,174,97, 0.75)",
          "size": 0.5
         },
         "mode": "markers",
         "type": "scatter",
         "uid": "a077cd66-01f4-46fe-a79f-89e056801169",
         "x": [
          -0.6363726791226451
         ],
         "y": [
          -0.6364195261510028
         ]
        },
        {
         "marker": {
          "color": "rgba(175,175,175,0.5)",
          "size": 0.5
         },
         "mode": "markers",
         "text": "156 R/Q",
         "type": "scatter",
         "uid": "d4f20602-fd71-4308-b135-8d69f6ce98c4",
         "x": [
          -0.45340053096993593
         ],
         "y": [
          -0.7774496501485998
         ]
        },
        {
         "marker": {
          "color": "rgba(175,175,175,0.5)",
          "size": 0.5
         },
         "mode": "markers",
         "text": "219 F/Y",
         "type": "scatter",
         "uid": "e124d333-1b07-4761-b15f-7bc43e5f779a",
         "x": [
          0.22214524889399312
         ],
         "y": [
          -0.8721533628862678
         ]
        },
        {
         "marker": {
          "color": "rgba(175,175,175,0.5)",
          "size": 0.5
         },
         "mode": "markers",
         "text": "156 R/Q",
         "type": "scatter",
         "uid": "f1f02f9b-2fcb-4fc8-8f31-7a2169872869",
         "x": [
          -0.5875119786971552
         ],
         "y": [
          -0.6817841849789077
         ]
        },
        {
         "marker": {
          "color": "rgba(175,175,175,0.5)",
          "size": 0.5
         },
         "mode": "markers",
         "text": "225 G",
         "type": "scatter",
         "uid": "dd1a1d26-68c7-4335-9432-d0c7e24a7411",
         "x": [
          0.7672884215756408
         ],
         "y": [
          -0.470391834661234
         ]
        },
        {
         "marker": {
          "color": "rgba(175,175,175,0.5)",
          "size": 0.5
         },
         "mode": "markers",
         "text": "156 R/Q",
         "type": "scatter",
         "uid": "e00c897c-6406-446e-a28f-52d7f77a5cf2",
         "x": [
          -0.6583139619866449
         ],
         "y": [
          -0.6136959568495186
         ]
        },
        {
         "marker": {
          "color": "rgba(175,175,175,0.5)",
          "size": 0.5
         },
         "mode": "markers",
         "text": "246 H",
         "type": "scatter",
         "uid": "bb1b2603-f14e-4d22-b8a8-3b44c440fe80",
         "x": [
          0.8859276671504145
         ],
         "y": [
          -0.15853128580007322
         ]
        },
        {
         "marker": {
          "color": "rgba(175,175,175,0.5)",
          "size": 0.5
         },
         "mode": "markers",
         "text": "203 I",
         "type": "scatter",
         "uid": "a7cdb1b2-16f3-497b-b38f-872dac747414",
         "x": [
          -0.16202794592413614
         ],
         "y": [
          -0.8852948349220192
         ]
        },
        {
         "marker": {
          "color": "rgba(175,175,175,0.5)",
          "size": 0.5
         },
         "mode": "markers",
         "text": "219 F/Y",
         "type": "scatter",
         "uid": "61b480c9-af3e-4f15-8fcd-e8a02323c18e",
         "x": [
          0.04412095050238301
         ],
         "y": [
          -0.898917872626174
         ]
        },
        {
         "marker": {
          "color": "rgba(175,175,175,0.5)",
          "size": 0.5
         },
         "mode": "markers",
         "text": "203 I",
         "type": "scatter",
         "uid": "f0c254a2-615b-479f-aed7-f93769d4ebf5",
         "x": [
          -0.15575552303981452
         ],
         "y": [
          -0.8864198875491196
         ]
        },
        {
         "marker": {
          "color": "rgba(175,175,175,0.5)",
          "size": 0.5
         },
         "mode": "markers",
         "text": "225 G",
         "type": "scatter",
         "uid": "365c6da4-cbf7-48df-8daa-b319a2d442aa",
         "x": [
          0.6427521171996072
         ],
         "y": [
          -0.6299759644902514
         ]
        },
        {
         "marker": {
          "color": "rgba(217,239,139, 0.75)",
          "size": 0.5
         },
         "mode": "markers",
         "type": "scatter",
         "uid": "bffe3e1d-dad1-4d4e-8604-2d66ed0e6b9f",
         "x": [
          0.05118263883397186
         ],
         "y": [
          -0.8985434533076245
         ]
        },
        {
         "marker": {
          "color": "rgba(175,175,175,0.5)",
          "size": 0.5
         },
         "mode": "markers",
         "text": "219 F/Y",
         "type": "scatter",
         "uid": "45ae11b1-6ae6-471a-bb63-40d05876b26c",
         "x": [
          0.09698712859029934
         ],
         "y": [
          -0.8947589043355807
         ]
        },
        {
         "marker": {
          "color": "rgba(175,175,175,0.5)",
          "size": 0.5
         },
         "mode": "markers",
         "text": "225 G",
         "type": "scatter",
         "uid": "df7b7fe5-ab71-4739-91b5-6dafad7d12b6",
         "x": [
          0.7008289237569945
         ],
         "y": [
          -0.5646581440354977
         ]
        },
        {
         "marker": {
          "color": "rgba(166,217,106, 0.75)",
          "size": 0.5
         },
         "mode": "markers",
         "type": "scatter",
         "uid": "636244ef-bdf2-4d32-945d-08ff438a9c6a",
         "x": [
          0.6760584364433856
         ],
         "y": [
          -0.5940917357729569
         ]
        },
        {
         "marker": {
          "color": "rgba(175,175,175,0.5)",
          "size": 0.5
         },
         "mode": "markers",
         "text": "225 G",
         "type": "scatter",
         "uid": "c2193415-2e54-498f-b453-933af0b03234",
         "x": [
          0.6548708215938452
         ],
         "y": [
          -0.617368777170503
         ]
        },
        {
         "marker": {
          "color": "rgba(175,175,175,0.5)",
          "size": 0.5
         },
         "mode": "markers",
         "text": "246 H",
         "type": "scatter",
         "uid": "28aa0260-decb-4641-8a3f-62528fb947ee",
         "x": [
          0.8884854432255409
         ],
         "y": [
          -0.1435047636014716
         ]
        },
        {
         "marker": {
          "color": "rgba(102,189,99, 0.75)",
          "size": 0.5
         },
         "mode": "markers",
         "type": "scatter",
         "uid": "f66e4e2d-b441-4383-835a-7045dfabab36",
         "x": [
          0.8920475166558368
         ],
         "y": [
          -0.11937850739624171
         ]
        }
       ],
       "layout": {
        "annotations": [
         {
          "align": "left",
          "showarrow": false,
          "text": "186 V",
          "valign": "bottom",
          "x": 0.9034127811900292,
          "y": 0.7898388106332178
         },
         {
          "align": "left",
          "showarrow": false,
          "text": "194 P",
          "valign": "bottom",
          "x": -0.6811198839387574,
          "y": 0.9879654364922152
         },
         {
          "align": "left",
          "showarrow": false,
          "text": "138 S",
          "valign": "bottom",
          "x": -1.1662882966709676,
          "y": -0.2824386819264193
         },
         {
          "align": "left",
          "showarrow": false,
          "text": "156 R/Q",
          "valign": "bottom",
          "x": -0.6017911539832881,
          "y": -1.038194301172696
         },
         {
          "align": "left",
          "showarrow": false,
          "text": "203 I",
          "valign": "bottom",
          "x": -0.10936133363232775,
          "y": -1.1950063174335768
         },
         {
          "align": "left",
          "showarrow": false,
          "text": "219 F/Y",
          "valign": "bottom",
          "x": 0.47020087594062343,
          "y": -1.104043086235619
         },
         {
          "align": "left",
          "showarrow": false,
          "text": "225 G",
          "valign": "bottom",
          "x": 1.0526860054398153,
          "y": -0.576066119426551
         },
         {
          "align": "left",
          "showarrow": false,
          "text": "246 H",
          "valign": "bottom",
          "x": 1.1927050970609272,
          "y": -0.13211567448597394
         }
        ],
        "height": 800,
        "hovermode": false,
        "margin": {
         "b": 25,
         "l": 25,
         "r": 25,
         "t": 25
        },
        "shapes": [
         {
          "fillcolor": "rgba(175,175,175,0.5)",
          "layer": "below",
          "line": {
           "color": "rgba(175,175,175,0.5)",
           "width": 0.5
          },
          "path": "M 0.8419425508321818, 0.5395671794116085 Q 0.3601413685336339, 0.3468403013934818 0.5708545417708198, 0.8210512116425062L 0.5708545417708198, 0.8210512116425062 L 0.6487023093849854, 0.7610422549363384 L 0.7202827370672678, 0.6936806027869636 L 0.7849042612664601, 0.6196170596794061 L 0.8419425508321818, 0.5395671794116085 ",
          "type": "path"
         },
         {
          "fillcolor": "rgba(26,152,80, 0.75)",
          "layer": "below",
          "line": {
           "color": "rgba(26,152,80, 0.75)",
           "width": 0.5
          },
          "path": "M 0.9917637692674677, 0.12808054484731504 Q -0.04040308570722415, 0.19587646787027457 -0.9614971069861514, -0.274815052821459L -0.9614971069861514, -0.274815052821459 L -0.9810395065465912, -0.19380785999236652 L -0.993769498442892, -0.11145485168696306 M -0.993769498442892, -0.11145485168696306 Q -0.040585068787509115, 0.19583884239729654 0.9562181344897686, 0.29265488082877894L 0.9562181344897686, 0.29265488082877894 L 0.9774607676819319, 0.2111171419914745 L 0.9917637692674677, 0.12808054484731504 ",
          "type": "path"
         },
         {
          "fillcolor": "rgba(26,152,80, 0.75)",
          "layer": "below",
          "line": {
           "color": "rgba(26,152,80, 0.75)",
           "width": 0.5
          },
          "path": "M 0.9562181344897686, 0.29265488082877894 Q -0.14703327675401465, 0.1355773414954628 -0.214299138039045, -0.9767680786326518L -0.214299138039045, -0.9767680786326518 L -0.3415553208241811, -0.9398616721713311 L -0.46281508363219914, -0.8864548484624135 M -0.46281508363219914, -0.8864548484624135 Q -0.14755597108783544, 0.1350082789917932 0.8419425508321818, 0.5395671794116085L 0.8419425508321818, 0.5395671794116085 L 0.9075168777258309, 0.42001561476064114 L 0.9562181344897686, 0.29265488082877894 ",
          "type": "path"
         },
         {
          "fillcolor": "rgba(26,152,80, 0.75)",
          "layer": "below",
          "line": {
           "color": "rgba(26,152,80, 0.75)",
           "width": 0.5
          },
          "path": "M 0.5708545417708198, 0.8210512116425062 Q -0.1994182055194059, -0.015243992502622131 0.6890186979118617, -0.7247435642541731L 0.6890186979118617, -0.7247435642541731 L 0.6005894250178884, -0.799557591769775 L 0.5041021188715198, -0.8636440550071796 L 0.40085133760011327, -0.9161431138988056 L 0.2922223840314641, -0.9563503951329594 M 0.2922223840314641, -0.9563503951329594 Q -0.19933938272930263, -0.01624224409066066 0.13354812946875513, 0.9910423286194171L 0.13354812946875513, 0.9910423286194171 L 0.22668031317457304, 0.9739692169771473 L 0.3177802863873488, 0.9481643789889886 L 0.4060313292125049, 0.9138591574733639 L 0.4906422626864182, 0.871361101992711 L 0.5708545417708198, 0.8210512116425062 ",
          "type": "path"
         },
         {
          "fillcolor": "rgba(26,152,80, 0.75)",
          "layer": "below",
          "line": {
           "color": "rgba(26,152,80, 0.75)",
           "width": 0.5
          },
          "path": "M 1.0, 0.0 Q -0.19128138812532455, 0.058407452922113905 0.8294284721575524, -0.5586129335903245L 0.8294284721575524, -0.5586129335903245 L 0.8116637835647392, -0.5841249031237858 L 0.7931146667693103, -0.6090723482111184 M 0.7931146667693103, -0.6090723482111184 Q -0.1913408286303365, 0.05821243251279067 0.9979388180814162, 0.06417254371042298L 0.9979388180814162, 0.06417254371042298 L 0.9994845716871812, 0.03210281855681696 L 1.0, 0.0 ",
          "type": "path"
         },
         {
          "fillcolor": "rgba(26,152,80, 0.75)",
          "layer": "below",
          "line": {
           "color": "rgba(26,152,80, 0.75)",
           "width": 0.5
          },
          "path": "M 0.9979388180814162, 0.06417254371042298 Q -0.1999731033827259, -0.0032799273591999248 0.9995065603657315, -0.03141075907812924L 0.9995065603657315, -0.03141075907812924 L 0.9982885263495352, -0.05848092132373836 L 0.9963374717387062, -0.08550814235687042 M 0.9963374717387062, -0.08550814235687042 Q -0.19995416154188683, -0.004281738207905531 0.9917637692674677, 0.12808054484731504L 0.9917637692674677, 0.12808054484731504 L 0.995364332633051, 0.0961761161721611 L 0.9979388180814162, 0.06417254371042298 ",
          "type": "path"
         },
         {
          "fillcolor": "rgba(175,175,175,0.5)",
          "layer": "below",
          "line": {
           "color": "rgba(175,175,175,0.5)",
           "width": 0.5
          },
          "path": "M -0.3247700433623556, 0.9457930106182926 Q -0.36565415906542464, 0.34102351232452754 -0.9661095744046778, 0.25813231150635196L -0.9661095744046778, 0.25813231150635196 L -0.9393442581265934, 0.3429757494701337 L -0.905144228254745, 0.4251046060172977 L -0.8637801708818998, 0.5038688484032684 L -0.8155794738820801, 0.5786450741017585 L -0.7609236357039248, 0.6488414449055492 L -0.700245245890156, 0.713902371202278 L -0.6340245612217076, 0.773312909350168 L -0.5627857045856185, 0.8266028373493941 L -0.48709251665186065, 0.8733503765509905 L -0.40754409319221097, 0.9131855299467565 L -0.3247700433623556, 0.9457930106182926 ",
          "type": "path"
         },
         {
          "fillcolor": "rgba(215,48,39, 0.75)",
          "layer": "below",
          "line": {
           "color": "rgba(215,48,39, 0.75)",
           "width": 0.5
          },
          "path": "M 0.07837964551772443, 0.996923583414755 Q -0.14375122045523275, 0.1390524599481472 -0.993769498442892, -0.11145485168696306L -0.993769498442892, -0.11145485168696306 L -0.9984258679751706, -0.05608730835070528 L -0.9999998506089283, -0.0005466096606262641 M -0.9999998506089283, -0.0005466096606262641 Q -0.14383441740704828, 0.13896640014469328 -0.03387069057235297, 0.9994262235503689L -0.03387069057235297, 0.9994262235503689 L 0.0222896291914955, 0.9997515553528815 L 0.07837964551772443, 0.996923583414755 ",
          "type": "path"
         },
         {
          "fillcolor": "rgba(215,48,39, 0.75)",
          "layer": "below",
          "line": {
           "color": "rgba(215,48,39, 0.75)",
           "width": 0.5
          },
          "path": "M -0.14569403914950962, 0.9893296957820993 Q -0.19936103801311078, -0.015974245595176028 0.01369789988271382, -0.9999061793682461L 0.01369789988271382, -0.9999061793682461 L -0.06767673914727636, -0.9977073012554291 L -0.1486029069672014, -0.988896949151375 M -0.1486029069672014, -0.988896949151375 Q -0.19917598225030214, -0.018136374903142245 -0.3247700433623556, 0.9457930106182926L -0.3247700433623556, 0.9457930106182926 L -0.2362371138754364, 0.9716954389250801 L -0.14569403914950962, 0.9893296957820993 ",
          "type": "path"
         },
         {
          "fillcolor": "rgba(215,48,39, 0.75)",
          "layer": "below",
          "line": {
           "color": "rgba(215,48,39, 0.75)",
           "width": 0.5
          },
          "path": "M 0.10235283970810104, 0.9947481571753163 Q -0.1999917814250353, 0.0018131085022440039 0.08430089389586815, -0.9964403440690053L 0.08430089389586815, -0.9964403440690053 L 0.07255122222868314, -0.9973646876409472 L 0.06079147252959756, -0.9981504880866828 M 0.06079147252959756, -0.9981504880866828 Q -0.19999222862091082, 0.001763091387688937 0.07837964551772443, 0.996923583414755L 0.07837964551772443, 0.996923583414755 L 0.09037278862471056, 0.9959080073361161 L 0.10235283970810104, 0.9947481571753163 ",
          "type": "path"
         },
         {
          "fillcolor": "rgba(215,48,39, 0.75)",
          "layer": "below",
          "line": {
           "color": "rgba(215,48,39, 0.75)",
           "width": 0.5
          },
          "path": "M -0.03387069057235297, 0.9994262235503689 Q -0.16471245899735043, -0.11344516671522926 0.9216803140366756, -0.3879502528897938L 0.9216803140366756, -0.3879502528897938 L 0.8992202977742062, -0.43749612120665465 L 0.8740992679839563, -0.4857473311402872 M 0.8740992679839563, -0.4857473311402872 Q -0.16451220054292479, -0.11373537652166324 -0.14569403914950962, 0.9893296957820993L -0.14569403914950962, 0.9893296957820993 L -0.08992417921930247, 0.9959486141321422 L -0.03387069057235297, 0.9994262235503689 ",
          "type": "path"
         },
         {
          "fillcolor": "rgba(175,175,175,0.5)",
          "layer": "below",
          "line": {
           "color": "rgba(175,175,175,0.5)",
           "width": 0.5
          },
          "path": "M -0.8920552758338827, -0.45192630467470624 Q -0.41492103162157407, -0.27899917117813944 -0.7550801773053154, -0.6556324624670239L -0.7550801773053154, -0.6556324624670239 L -0.8298420632431481, -0.5579983423562789 L -0.8920552758338827, -0.45192630467470624 ",
          "type": "path"
         },
         {
          "fillcolor": "rgba(175,175,175,0.5)",
          "layer": "below",
          "line": {
           "color": "rgba(175,175,175,0.5)",
           "width": 0.5
          },
          "path": "M -0.9955177448387711, 0.09457494230041796 Q -0.1800322399781411, -0.08711138024651556 -0.543638507619516, -0.839319470185951L -0.543638507619516, -0.839319470185951 L -0.5823082198679349, -0.8129681033559907 L -0.6197028278283325, -0.7848365467927497 M -0.6197028278283325, -0.7848365467927497 Q -0.17995964747752613, -0.08726124729663526 -0.9999998506089283, -0.0005466096606262641L -0.9999998506089283, -0.0005466096606262641 L -0.9988917087688792, 0.04706754882919364 L -0.9955177448387711, 0.09457494230041796 ",
          "type": "path"
         },
         {
          "fillcolor": "rgba(175,175,175,0.5)",
          "layer": "below",
          "line": {
           "color": "rgba(175,175,175,0.5)",
           "width": 0.5
          },
          "path": "M -0.9737409894966268, 0.22765870370827074 Q -0.16551928825470363, -0.11226471046440341 -0.1486029069672014, -0.988896949151375L -0.1486029069672014, -0.988896949151375 L -0.15909729544663975, -0.9872629085413696 L -0.1695737373886856, -0.9855175024260264 M -0.1695737373886856, -0.9855175024260264 Q -0.1653746668702407, -0.11247764025599456 -0.9788862103089907, 0.2044059374551103L -0.9788862103089907, 0.2044059374551103 L -0.976382823558356, 0.21604763794175627 L -0.9737409894966268, 0.22765870370827074 ",
          "type": "path"
         },
         {
          "fillcolor": "rgba(175,175,175,0.5)",
          "layer": "below",
          "line": {
           "color": "rgba(175,175,175,0.5)",
           "width": 0.5
          },
          "path": "M -0.9862265254218918, 0.16540024351331079 Q -0.1388459706601844, -0.1439506736053403 0.2008852328887167, -0.9796147830689602L 0.2008852328887167, -0.9796147830689602 L 0.1661295446015805, -0.9861039369206835 L 0.1311661832553338, -0.9913603947960743 M 0.1311661832553338, -0.9913603947960743 Q -0.13879334200049367, -0.1440014174108505 -0.9955177448387711, 0.09457494230041796L -0.9955177448387711, 0.09457494230041796 L -0.9915047372558117, 0.1300705808370357 L -0.9862265254218918, 0.16540024351331079 ",
          "type": "path"
         },
         {
          "fillcolor": "rgba(175,175,175,0.5)",
          "layer": "below",
          "line": {
           "color": "rgba(175,175,175,0.5)",
           "width": 0.5
          },
          "path": "M -0.9614971069861514, -0.274815052821459 Q 0.006651213183099563, -0.19988937281204563 0.9776387654285581, -0.2102913320403977L 0.9776387654285581, -0.2102913320403977 L 0.9538049666700781, -0.3004265060800916 L 0.9216803140366756, -0.3879502528897938 M 0.9216803140366756, -0.3879502528897938 Q 0.007050232684460037, -0.19987569691959794 -0.8920552758338827, -0.45192630467470624L -0.8920552758338827, -0.45192630467470624 L -0.9309974263378566, -0.36502574176664193 L -0.9614971069861514, -0.274815052821459 ",
          "type": "path"
         },
         {
          "fillcolor": "rgba(175,175,175,0.5)",
          "layer": "below",
          "line": {
           "color": "rgba(175,175,175,0.5)",
           "width": 0.5
          },
          "path": "M -0.9788862103089907, 0.2044059374551103 Q -0.02904388407198933, -0.19787989488074034 0.9963374717387062, -0.08550814235687042L 0.9963374717387062, -0.08550814235687042 L 0.9947464397564273, -0.10236952960677609 L 0.9928700769308552, -0.11920155340983545 M 0.9928700769308552, -0.11920155340983545 Q -0.02846793276452222, -0.1979635744376087 -0.9862265254218918, 0.16540024351331079L -0.9862265254218918, 0.16540024351331079 L -0.9827499056590637, 0.18493951153580276 L -0.9788862103089907, 0.2044059374551103 ",
          "type": "path"
         },
         {
          "fillcolor": "rgba(175,175,175,0.5)",
          "layer": "below",
          "line": {
           "color": "rgba(175,175,175,0.5)",
           "width": 0.5
          },
          "path": "M -0.7287951130410961, -0.6847318330612473 Q -0.35354037729035837, -0.3535664034172238 -0.6846781824090729, -0.7288455162330412L -0.6846781824090729, -0.7288455162330412 L -0.7070807545807167, -0.7071328068344476 L -0.7287951130410961, -0.6847318330612473 ",
          "type": "path"
         },
         {
          "fillcolor": "rgba(175,175,175,0.5)",
          "layer": "below",
          "line": {
           "color": "rgba(175,175,175,0.5)",
           "width": 0.5
          },
          "path": "M -0.543638507619516, -0.839319470185951 Q -0.02773198597179706, -0.19806801093074078 0.2922223840314641, -0.9563503951329594L 0.2922223840314641, -0.9563503951329594 L 0.24682805432665902, -0.9690592920958531 L 0.2008852328887167, -0.9796147830689602 M 0.2008852328887167, -0.9796147830689602 Q -0.02780036332971191, -0.19805842521522787 -0.46281508363219914, -0.8864548484624135L -0.46281508363219914, -0.8864548484624135 L -0.5037783677443732, -0.8638329446095553 L -0.543638507619516, -0.839319470185951 ",
          "type": "path"
         },
         {
          "fillcolor": "rgba(175,175,175,0.5)",
          "layer": "below",
          "line": {
           "color": "rgba(175,175,175,0.5)",
           "width": 0.5
          },
          "path": "M -0.6846781824090729, -0.7288455162330412 Q 0.03081835090587387, -0.19761130850091152 0.8740992679839563, -0.4857473311402872L 0.8740992679839563, -0.4857473311402872 L 0.8525426906396009, -0.5226575940680378 L 0.8294284721575524, -0.5586129335903245 M 0.8294284721575524, -0.5586129335903245 Q 0.03084833367617551, -0.1976066302263245 -0.6197028278283325, -0.7848365467927497L -0.6197028278283325, -0.7848365467927497 L -0.6527910874412836, -0.7575379833098974 L -0.6846781824090729, -0.7288455162330412 ",
          "type": "path"
         },
         {
          "fillcolor": "rgba(175,175,175,0.5)",
          "layer": "below",
          "line": {
           "color": "rgba(175,175,175,0.5)",
           "width": 0.5
          },
          "path": "M -0.734113677496431, -0.6790265889585372 Q 0.05649567283976248, -0.19185473397959854 0.984955084771773, -0.1728105349283705L 0.984955084771773, -0.1728105349283705 L 0.9843640746115716, -0.17614587311119245 L 0.9837617700806379, -0.17947919023611084 M 0.9837617700806379, -0.17947919023611084 Q 0.056594012870948174, -0.19182574829037669 -0.7287951130410961, -0.6847318330612473L -0.7287951130410961, -0.6847318330612473 L -0.7314599577629388, -0.6818843964994651 L -0.734113677496431, -0.6790265889585372 ",
          "type": "path"
         },
         {
          "fillcolor": "rgba(175,175,175,0.5)",
          "layer": "below",
          "line": {
           "color": "rgba(175,175,175,0.5)",
           "width": 0.5
          },
          "path": "M -0.18351236755760975, -0.9830174011447614 Q -0.013149178441964907, -0.1995672796484969 0.05294684712461983, -0.9985973319509531L 0.05294684712461983, -0.9985973319509531 L 0.04902327833598112, -0.9987976362513044 L 0.04509895289687388, -0.9989825245957036 M 0.04509895289687388, -0.9989825245957036 Q -0.013226686128193214, -0.1995621576704017 -0.17654747804242552, -0.984292125335187L -0.17654747804242552, -0.984292125335187 L -0.18003105102681793, -0.9836609276911324 L -0.18351236755760975, -0.9830174011447614 ",
          "type": "path"
         },
         {
          "fillcolor": "rgba(175,175,175,0.5)",
          "layer": "below",
          "line": {
           "color": "rgba(175,175,175,0.5)",
           "width": 0.5
          },
          "path": "M -0.17654747804242552, -0.984292125335187 Q 0.06118737096511512, -0.1904103611528989 0.7168837986469401, -0.6971926700973938L 0.7168837986469401, -0.6971926700973938 L 0.7141690191106747, -0.6999732938780571 L 0.711443454267771, -0.7027433467344547 M 0.711443454267771, -0.7027433467344547 Q 0.06112151938537699, -0.19043150965116826 -0.1695737373886856, -0.9855175024260264L -0.1695737373886856, -0.9855175024260264 L -0.17306169226646057, -0.9849109861656884 L -0.17654747804242552, -0.984292125335187 ",
          "type": "path"
         },
         {
          "fillcolor": "rgba(175,175,175,0.5)",
          "layer": "below",
          "line": {
           "color": "rgba(175,175,175,0.5)",
           "width": 0.5
          },
          "path": "M 0.05294684712461983, -0.9985973319509531 Q 0.028434799352206587, -0.4991908073931247 0.06079147252959756, -0.9981504880866828L 0.06079147252959756, -0.9981504880866828 L 0.056869598704413174, -0.9983816147862494 L 0.05294684712461983, -0.9985973319509531 ",
          "type": "path"
         },
         {
          "fillcolor": "rgba(175,175,175,0.5)",
          "layer": "below",
          "line": {
           "color": "rgba(175,175,175,0.5)",
           "width": 0.5
          },
          "path": "M 0.08430089389586815, -0.9964403440690053 Q 0.09591204461965903, -0.17550179399902596 0.7931146667693103, -0.6090723482111184L 0.7931146667693103, -0.6090723482111184 L 0.7786988041744383, -0.6273979378172198 L 0.7638596063908597, -0.6453824460925482 M 0.7638596063908597, -0.6453824460925482 Q 0.0959568603655253, -0.1754772946816513 0.1311661832553338, -0.9913603947960743L 0.1311661832553338, -0.9913603947960743 L 0.1077634762114437, -0.9941765603728674 L 0.08430089389586815, -0.9964403440690053 ",
          "type": "path"
         },
         {
          "fillcolor": "rgba(175,175,175,0.5)",
          "layer": "below",
          "line": {
           "color": "rgba(175,175,175,0.5)",
           "width": 0.5
          },
          "path": "M 0.7382088785891114, -0.6745721989321873 Q 0.3755880202463253, -0.3300509643183094 0.7638596063908597, -0.6453824460925482L 0.7638596063908597, -0.6453824460925482 L 0.7511760404926506, -0.6601019286366188 L 0.7382088785891114, -0.6745721989321873 ",
          "type": "path"
         },
         {
          "fillcolor": "rgba(175,175,175,0.5)",
          "layer": "below",
          "line": {
           "color": "rgba(175,175,175,0.5)",
           "width": 0.5
          },
          "path": "M 0.7168837986469401, -0.6971926700973938 Q 0.17929662855283243, -0.08861556855083447 0.9892757822219598, -0.14605966831788175L 0.9892757822219598, -0.14605966831788175 L 0.9872060480283787, -0.15944973733496845 L 0.984955084771773, -0.1728105349283705 M 0.984955084771773, -0.1728105349283705 Q 0.17947308466980422, -0.0882576448762672 0.7382088785891114, -0.6745721989321873L 0.7382088785891114, -0.6745721989321873 L 0.7276342462153836, -0.6859653079672255 L 0.7168837986469401, -0.6971926700973938 ",
          "type": "path"
         },
         {
          "fillcolor": "rgba(175,175,175,0.5)",
          "layer": "below",
          "line": {
           "color": "rgba(175,175,175,0.5)",
           "width": 0.5
          },
          "path": "M 0.9892757822219598, -0.14605966831788175 Q 0.4955819536976871, -0.06632139299791207 0.9928700769308552, -0.11920155340983545L 0.9928700769308552, -0.11920155340983545 L 0.9911639073953742, -0.13264278599582413 L 0.9892757822219598, -0.14605966831788175 ",
          "type": "path"
         },
         {
          "fillcolor": "rgba(26,152,80, 0.75)",
          "layer": "below",
          "line": {
           "color": "rgba(26,152,80, 0.75)",
           "width": 0.45
          },
          "path": "M 1.1, 0.0 L 1.0999436876109558, 0.01113032276317038 L 1.0997747562094322, 0.022259505935312347 L 1.0994932230916672, 0.033386410042075834 L 1.0990991170827562, 0.04450989584245554 L 1.0985924785337005, 0.05562882444543341 L 1.0979733593172771, 0.06674205742658539 L 1.097241822822726, 0.07784845694464021 L 1.0963979439492615, 0.08894688585797875 L 1.0954418090984022, 0.10003620784106142 L 1.0943735161651258, 0.11111528750077235 L 1.0931931745278456, 0.1221829904926678 L 1.0919009050372117, 0.1332381836371174 L 1.0904968400037371, 0.144279735035326 L 1.0889811231842519, 0.15530651418522462 L 1.0873539097671836, 0.16631739209721788 L 1.0856153663566686, 0.17731124140977733 L 1.0837656709554941, 0.1882869365048673 L 1.0818050129468728, 0.19924335362319287 L 1.079733593075053, 0.21017937097925712 L 1.077551623424765, 0.22109386887621651 L 1.0752593273995068, 0.23198572982052235 L 1.0728569396986705, 0.24285383863633656 L 1.0703447062935116, 0.2536970825797104 L 1.0677228844019668, 0.26451435145251395 L 1.0649917424623168, 0.27530453771610525 L 1.062151560105702, 0.28606653660472636 L 1.0592026281274933, 0.2967992462386169 L 1.0561452484575176, 0.3075015677368306 L 1.0529797341291447, 0.3181724053297459 L 1.049706409247237, 0.3288106664712574 L 1.046325608954966, 0.3394152619506374 L 1.0428376793994976, 0.3499851060040565 L 1.0392429776965522, 0.3605191164257502 L 1.0355418718938403, 0.37101621467882184 L 1.0317347409333795, 0.3814753260056703 L 1.027821974612697, 0.39189537953803 L 1.0238039735449187, 0.4022753084066129 L 1.0196811491177524, 0.41261404985034145 L 1.0154539234513675, 0.4229105453251603 L 1.0111227293551752, 0.43316374061241675 L 1.0066880102835158, 0.44337258592679823 L 1.002150220290254, 0.4535360360238156 L 0.9975098239822905, 0.4636530503068216 L 0.9927672964719932, 0.47372259293355407 L 0.9879231233285516, 0.4837436329221913 L 0.9829778005282612, 0.4937151442569107 L 0.9779318344037431, 0.5036361059929383 L 0.9727857415921017, 0.5135055023610797 L 0.967540048982029, 0.5233223228717203 L 0.9621952936598575, 0.5330855624182864 L 0.9567520228545713, 0.5427942213801527 L 0.951210793881776, 0.552447305724991 L 0.9455721740866385, 0.5620438271105448 L 0.9398367407857979, 0.571582802985822 L 0.934005081208257, 0.581063256691694 L 0.9280777924352571, 0.590484217560893 L 0.9220554813391464, 0.5998447210173941 L 0.9159387645212436, 0.609143808675175 L 0.909728268248707, 0.6183805284363413 L 0.9034246283904139, 0.627553934588608 L 0.897028490351855, 0.6366630879021278 L 0.890540509009055, 0.6457070557256545 L 0.8839613486415222, 0.6546849120820346 L 0.8772916828642352, 0.6635957377630137 L 0.870532194558674, 0.6724386204233508 L 0.8636835758029026, 0.6812126546742302 L 0.8567465278007098, 0.6899169421759607 L 0.8497217608098154, 0.6985505917299527 L 0.8426099940691497, 0.7071127193699656 L 0.8354119557252139, 0.7156024484526122 L 0.828128382757527, 0.7240189097471165 L 0.8207600209031699, 0.7323612415243096 L 0.8133076245804328, 0.7406285896448598 L 0.8057719568115719, 0.7488201076467235 L 0.7981537891446873, 0.7569349568318128 L 0.7904539015747273, 0.764972306351865 L 0.7826730824636271, 0.7729313332935109 L 0.7748121284595921, 0.7808112227625297 L 0.7668718444155314, 0.7886111679672824 L 0.7588530433066528, 0.7963303703013164 L 0.7507565461472246, 0.8039680394251317 L 0.7425831819065163, 0.8115233933471012 L 0.734333787423922, 0.8189956585035346 L 0.7260092073232807, 0.8263840698378823 L 0.7176102939263984, 0.8336878708790648 L 0.709137907165782, 0.8409063138189266 L 0.7005929144965939, 0.8480386595888 L 0.691976190807837, 0.8550841779351762 L 0.683288618332778, 0.8620421474944735 L 0.6745310865586188, 0.8689118558668936 L 0.6657044921354255, 0.8756925996893633 L 0.6568097387843236, 0.8823836847075476 L 0.6478477372049699, 0.8889844258469327 L 0.6388194049823089, 0.8954941472829674 L 0.6297256664926254, 0.9019121825102592 L 0.6205674528089006, 0.9082378744108138 L 0.6113457016054833, 0.9144705753213165 L 0.6020613570620854, 0.9206096470994427 L 0.5927153697671103, 0.9266544611891955 L 0.5833086966203261, 0.9326043986852606 L 0.5738423007348932, 0.9384588503963743 L 0.5643171513387526, 0.9442172169076963 L 0.5547342236753929, 0.9498789086421802 L 0.5450944989039972, 0.9554433459209397 L 0.5353989639989867, 0.9609099590225986 L 0.5256486116489675, 0.9662781882416229 L 0.5158444401550942, 0.9715474839456266 L 0.5059874533288566, 0.9767173066316468 L 0.4960786603893039, 0.9817871269813807 L 0.4861190758597139, 0.9867564259153816 L 0.47610971946372105, 0.991624694646204 L 0.46605161602090933, 0.9963914347304975 L 0.45594579534188673, 1.00105615812004 L 0.4457932921228451, 1.0056183872117077 L 0.43559514583962283, 1.0100776548963737 L 0.42535240064127616, 1.0144335046067354 L 0.41506610524317367, 1.0186854903640588 L 0.4047373128196208, 1.022833176823842 L 0.39436708089603134, 1.0268761393203873 L 0.3839564712406495, 1.0308139639102822 L 0.37350654975584135, 1.0346462474147806 L 0.3630183863689594, 1.0383725974610833 L 0.3524930549227987, 1.0419926325225113 L 0.3419316330656483, 1.0455059819575683 L 0.3313352021409567, 1.0489122860478906 L 0.32070484707661573, 1.0522111960350757 L 0.3100416562738804, 1.055402374156392 L 0.29934672149593033, 1.0584854936793597 L 0.2886211377560893, 1.0614602389352041 L 0.27786600320571075, 1.0643263053511758 L 0.2670824190217416, 1.0670833994817346 L 0.2562714892939784, 1.0697312390385945 L 0.2454343209120221, 1.072269552919626 L 0.23457202345194963, 1.0746980812366134 L 0.22368570906270685, 1.0770165753418628 L 0.21277649235224175, 1.0792247978536615 L 0.2018454902733822, 1.0813225226805823 L 0.19089382200947722, 1.0833095350446307 L 0.17992260885980624, 1.085185631503238 L 0.16893297412477556, 1.0869506199700878 L 0.15792604299090585, 1.0886043197347854 L 0.14690294241563065, 1.0901465614813588 L 0.13354812946875513, 0.9910423286194171 L 0.14356912999173257, 0.9896402906679866 L 0.15357543102252322, 0.9881369272455343 L 0.1635660080543693, 0.9865323922756708 L 0.1735398381904338, 0.9848268500405734 L 0.18349590024852924, 0.9830204751641656 L 0.1934331748656743, 0.9811134525942377 L 0.20335064460246075, 0.9791059775835115 L 0.21324729404722692, 0.9769982556696484 L 0.22312210992002007, 0.9747905026542054 L 0.232974081176344, 0.9724829445805403 L 0.24280219911067416, 0.9700758177106676 L 0.252605457459737, 0.9675693685010688 L 0.26238285250553567, 0.9649638535774583 L 0.27213338317811847, 0.9622595397085089 L 0.2818560511580731, 0.9594567037785382 L 0.2915498609787415, 0.9565556327591598 L 0.3012138201281424, 0.9535566236799004 L 0.3108469391505893, 0.9504599835977893 L 0.3204482317479988, 0.9472660295659192 L 0.33001671488087214, 0.9439750886009848 L 0.33955140886894664, 0.9405874976498004 L 0.3490513374914995, 0.9371036035548019 L 0.3585155280873012, 0.9335237630185338 L 0.3679430116542007, 0.9298483425671289 L 0.37733282294833964, 0.9260777185127806 L 0.3866840005829783, 0.9222122769152139 L 0.39599558712692984, 0.9182524135421579 L 0.4052666292025864, 0.9141985338288251 L 0.41449617758353335, 0.9100510528363999 L 0.4236832872917357, 0.9058103952095431 L 0.4328270176942918, 0.9014769951329126 L 0.4419264325997399, 0.8970512962867104 L 0.45098060035391263, 0.8925337518012552 L 0.4599885939353242, 0.8879248242105879 L 0.46894949105008565, 0.8832249854051151 L 0.477862374226334, 0.8784347165832935 L 0.48672633090816964, 0.8735545082023622 L 0.4955404535490883, 0.868584859928127 L 0.5043038397049027, 0.8635262805838001 L 0.5130155921261387, 0.8583792880979056 L 0.5216748188499029, 0.8531444094512494 L 0.5302806332912056, 0.8478221806229641 L 0.5388321543337365, 0.8424131465356322 L 0.5473285064200776, 0.8369178609994933 L 0.5557688196413484, 0.8313368866557422 L 0.5641522298262732, 0.8256707949189216 L 0.5724778786296594, 0.8199201659184173 L 0.5807449136202808, 0.8140855884390612 L 0.5889524883681544, 0.8081676598608478 L 0.5970997625312032, 0.8021669860977705 L 0.6051859019412958, 0.7960841815357848 L 0.6132100786896534, 0.7899198689699032 L 0.6211714712116163, 0.7836746795404304 L 0.6290692643707608, 0.777349252668342 L 0.636902649542358, 0.7709442359898181 L 0.6446708246961653, 0.7644602852899332 L 0.6523729944785439, 0.7578980644355134 L 0.6600083702938915, 0.7512582453071657 L 0.6675761703853835, 0.744541507730486 L 0.6750756199150147, 0.7377485394064556 L 0.6825059510429314, 0.7308800358410288 L 0.689866403006048, 0.7239367002739239 L 0.6971562221959375, 0.7169192436066203 L 0.7043746622359928, 0.7098283843295724 L 0.7115209840578428, 0.7026648484486463 L 0.7185944559770248, 0.6954293694107863 L 0.7255943537678975, 0.6881226880289206 L 0.7325199607377926, 0.6807455524061122 L 0.7393705678003935, 0.6732987178589633 L 0.7461454735483363, 0.6657829468402814 L 0.7528439843250244, 0.6581990088610149 L 0.759465414295649, 0.6505476804114656 L 0.7660090855174088, 0.6428297448817868 L 0.772474328008923, 0.6350459924817752 L 0.778860479818827, 0.6271972201599642 L 0.7851668870935478, 0.6192842315220274 L 0.791392904144249, 0.6113078367485006 L 0.797537893512941, 0.6032688525118306 L 0.8036012260377474, 0.5951681018927587 L 0.8095822809173226, 0.5870064142960495 L 0.8154804457744135, 0.5787846253655706 L 0.821295116718558, 0.5705035768987344 L 0.8270256984079154, 0.5621641167603102 L 0.8326716041102213, 0.5537670987956136 L 0.8382322557628603, 0.5453133827430855 L 0.8437070840320519, 0.5368038341462663 L 0.8490955283711427, 0.5282393242651763 L 0.8543970370779981, 0.5196207299871108 L 0.8596110673514895, 0.5109489337368589 L 0.8647370853470691, 0.5022248233863554 L 0.8697745662314283, 0.4934492921637751 L 0.874722994236234, 0.4846232385620785 L 0.8795818627109354, 0.47574756624701847 L 0.8843506741746379, 0.46682318396461786 L 0.8890289403670391, 0.4578510054481257 L 0.8936161822984192, 0.44883194932446424 L 0.8981119302986832, 0.4397669390201739 L 0.9025157240654483, 0.4306569026668673 L 0.9068271127111731, 0.4215027730062014 L 0.9110456548093216, 0.41230548729437777 L 0.9151709184395598, 0.4030659872061802 L 0.9192024812319775, 0.39378521873856065 L 0.923139930410334, 0.38446413211378205 L 0.9269828628343204, 0.37510368168212854 L 0.9307308850408351, 0.3657048258241935 L 0.93438361328427, 0.3562685268527545 L 0.9379406735757995, 0.3467957509142457 L 0.9414017017216728, 0.337287467889838 L 0.9447663433605019, 0.3277446512961365 L 0.9480342539995432, 0.3181682781855059 L 0.951205099049969, 0.308559329046034 L 0.9542785538611245, 0.29891878770114305 L 0.9572543037537677, 0.2892476412088599 L 0.9601320440522887, 0.2795468797607551 L 0.962911480115903, 0.2698174965805608 L 0.9655923273688201, 0.2600604878224785 L 0.9681743113293788, 0.2502768524691866 L 0.9706571676381517, 0.24046759222955813 L 0.9730406420850105, 0.23063371143610034 L 0.9753244906351548, 0.22077621694212413 L 0.977508479454097, 0.21089611801865665 L 0.9795923849316045, 0.20099442625110592 L 0.9815759937045935, 0.19107215543568828 L 0.9834591026789752, 0.18113032147562988 L 0.9852415190504491, 0.17116994227715207 L 0.9869230603242442, 0.1611920376452521 L 0.9885035543338032, 0.15119762917928897 L 0.9899828392584108, 0.141187740168386 L 0.991360763639761, 0.13116339548666 L 0.9926371863974651, 0.12112562148828854 L 0.993811976843496, 0.11107544590242527 L 0.9948850146955689, 0.10101389772797485 L 0.9958561900894565, 0.09094200712823765 L 0.9967254035902376, 0.08086080532543521 L 0.9974925662024782, 0.07077132449512746 L 0.9981575993793428, 0.06067459766053216 L 0.9987204350306368, 0.05057165858675764 L 0.9991810155297782, 0.04046354167495957 L 0.9995392937196973, 0.030351281856432575 L 0.9997952329176656, 0.020235914486647587 L 0.9999488069190506, 0.0101184752392458 L 1.0, 0.0 L 1.1 ,0.0",
          "type": "path"
         },
         {
          "fillcolor": "rgba(215,48,39, 0.75)",
          "layer": "below",
          "line": {
           "color": "rgba(215,48,39, 0.75)",
           "width": 0.45
          },
          "path": "M 0.11258812367891115, 1.094222972892848 L 0.10154468479074044, 1.095303006930388 L 0.09049091318406166, 1.0962715879886311 L 0.07942793363966169, 1.0971286175092387 L 0.06835687187528466, 1.0978740082848424 L 0.05727885443108441, 1.098507684467916 L 0.04619500855499187, 1.0990295815784963 L 0.03510646208801304, 1.099439646510741 L 0.02401434334946413, 1.0997378375383355 L 0.012919781022159217, 1.0999241243187368 L 0.0018239040375606914, 1.0999984878962616 L -0.009272158539095606, 1.0999609207040157 L -0.020367277623688586, 1.0998114265646632 L -0.031460324228103305, 1.099550020690038 L -0.0425501695751101, 1.099176729679595 L -0.05363568521322472, 1.0986915915177053 L -0.06471574313153412, 1.098094655569789 L -0.07578921587447765, 1.0973859825772936 L -0.08685497665657169, 1.0965656446515122 L -0.09791189947706617, 1.0956337252662465 L -0.10895885923452123, 1.0945903192493125 L -0.11999473184129206, 1.0934355327728913 L -0.13101839433791185, 1.0921694833427253 L -0.1420287250073576, 1.090792299786162 L -0.15302460348919167, 1.0893041222390447 L -0.1640049108935644, 1.0877051021314528 L -0.17496852991506703, 1.085995402172293 L -0.1859143449464235, 1.0841751963327433 L -0.19684124219201027, 1.0822446698285497 L -0.20774810978118965, 1.0802040191011804 L -0.21863383788144966, 1.0780534517978355 L -0.22949731881133512, 1.0757931867503199 L -0.24033744715316016, 1.0734234539527736 L -0.2511531198654906, 1.07094449453827 L -0.2619432363953843, 1.0683565607542793 L -0.2727066987903782, 1.0656599159370002 L -0.28344241181021096, 1.0628548344845645 L -0.29414928303826976, 1.059941601829116 L -0.3048262229927491, 1.0569205144077651 L -0.3154721452375124, 1.0537918796324264 L -0.3260859664926414, 1.0505560158585359 L -0.3366666067446667, 1.0472132523526583 L -0.34721298935646466, 1.0437639292589813 L -0.35772404117681056, 1.0402083975647052 L -0.368198692649579, 1.0365470190643264 L -0.378635877922575, 1.0327801663228247 L -0.3890345349559916, 1.0289082226377508 L -0.39939360563047754, 1.0249315820002265 L -0.40971203585480676, 1.0208506490548506 L -0.4199887756731381, 1.016665839058527 L -0.4302227793718533, 1.0123775778382085 L -0.4404130055859649, 1.007986301747567 L -0.4505584174050798, 1.0034924576225923 L -0.46065798247891115, 0.998896502736124 L -0.4707106731223253, 0.9941989047513217 L -0.4807154664199139, 0.9894001416740776 L -0.4906713443300832, 0.9845007018043761 L -0.5005772937886404, 0.979501083686609 L -0.510432306811885, 0.9744017960588424 L -0.52023538059917, 0.9692033578010536 L -0.5299855176349476, 0.9639062978823287 L -0.5396817257902687, 0.9585111553070405 L -0.5493230184237382, 0.9530184790599989 L -0.5589084144819109, 0.9474288280505911 L -0.5684369385991195, 0.9417427710559084 L -0.5779076211967226, 0.9359608866628699 L -0.5873194985817654, 0.9300837632093488 L -0.5966716130450395, 0.9241119987243055 L -0.605963012958536, 0.9180462008669352 L -0.6151927528722789, 0.9118869868648347 L -0.6243598936105278, 0.9056349834511974 L -0.6334635023673476, 0.8992908268010374 L -0.6425026528015219, 0.8928551624664591 L -0.6514764251308184, 0.8863286453109643 L -0.6603839062255763, 0.8797119394428209 L -0.6692241897016276, 0.8730057181474816 L -0.6779963760125219, 0.8662106638190776 L -0.6866995725410631, 0.8593274678909789 L -0.6953328936901364, 0.8523568307654381 L -0.7038954609728235, 0.8452994617423203 L -0.7123864031017929, 0.8381560789469287 L -0.7208048560779582, 0.8309274092569302 L -0.7291499632783947, 0.8236141882283936 L -0.7374208755435052, 0.816217160020941 L -0.745616751263427, 0.8087370773220264 L -0.7537367564636696, 0.8011747012703454 L -0.7617800648899767, 0.7935308013783857 L -0.7697458580924016, 0.785806155454125 L -0.77763332550859, 0.7780015495218834 L -0.785441664546256, 0.7701177777423442 L -0.7931700806648551, 0.7621556423317403 L -0.8008177874564272, 0.7541159534802276 L -0.8083840067256235, 0.7459995292694407 L -0.8158679685688882, 0.7378071955892515 L -0.8232689114528015, 0.7295397860537283 L -0.8305860822915699, 0.7211981419163125 L -0.8378187365236569, 0.712783111984216 L -0.8449661381875455, 0.7042955525320503 L -0.8520275599966268, 0.6957363272146961 L -0.8590022834132052, 0.687106306979422 L -0.8658895987216131, 0.6784063699772608 L -0.872688805100429, 0.6696374014736525 L -0.8793992106937889, 0.6608002937583648 L -0.8860201326817884, 0.6518959460546954 L -0.8925508973499593, 0.6429252644279757 L -0.8989908401578289, 0.6338891616933681 L -0.9053393058065357, 0.6247885573229877 L -0.9115956483055134, 0.6156243773523357 L -0.9177592310382207, 0.6063975542860756 L -0.9238294268269237, 0.5971090270031411 L -0.9298056179965117, 0.5877597406612034 L -0.9356871964373509, 0.5783506466004948 L -0.9414735636671618, 0.5688827022470052 L -0.9471641308919185, 0.5593568710150585 L -0.9527583190657615, 0.5497741222092805 L -0.9582555589499187, 0.5401354309259663 L -0.9636552911706284, 0.5304417779538595 L -0.9689569662760589, 0.520694149674352 L -0.9741600447922187, 0.5108935379611123 L -0.9792639972778489, 0.5010409400791612 L -0.9842683043782989, 0.4911373585833891 L -0.9891724568783722, 0.48118380121654675 L -0.9939759557541429, 0.47118128080669586 L -0.9986783122237324, 0.46113081516415444 L -1.0032790477970475, 0.4510334269779234 L -1.007777694324468, 0.4408901437116269 L -1.0121737940444844, 0.43070199749895993 L -1.016466899630276, 0.42047002503866415 L -1.0206565742352307, 0.41019526748903784 L -1.0247423915373957, 0.3998787703619925 L -1.0287239357828577, 0.3895215834166664 L -1.0326008018280488, 0.37912476055260597 L -1.0363725951809715, 0.36868935970252575 L -1.0400389320413403, 0.3582164427246583 L -1.0435994393396362, 0.3477070752947043 L -1.047053754775068, 0.3371623267973928 L -1.0504015268524378, 0.3265832702176699 L -1.053642414917909, 0.3159709820315103 L -1.056776089193668, 0.3053265420963873 L -1.0598022308114823, 0.294651033541384 L -1.0627205318451458, 0.2839455426569867 L -0.9661095744046779, 0.2581323115063515 L -0.9634565734649838, 0.2678645759467127 L -0.9607055356306071, 0.27756958372398843 L -0.9578567408344627, 0.287246347301373 L -0.9549104789567615, 0.29689388201606354 L -0.9518670497955163, 0.30651120617944794 L -0.9487267630360329, 0.3160973411770039 L -0.9454899382194003, 0.32565131156787114 L -0.942156904709974, 0.3351721451841143 L -0.9387280016618625, 0.3446588732296418 L -0.935203577984416, 0.3541105303787876 L -0.9315839923067233, 0.3635261548745386 L -0.9278696129411187, 0.37290478862639803 L -0.9240608178457053, 0.38224547730787645 L -0.9201579945858948, 0.3915472704535999 L -0.916161540294971, 0.4008092215560244 L -0.9120718616336795, 0.4100303881617485 L -0.9078893747488476, 0.41920983196741307 L -0.9036145052310389, 0.428346618915178 L -0.8992476880712473, 0.43743981928776976 L -0.8947893676166353, 0.44648850780308097 L -0.890239997525317, 0.45549176370832833 L -0.8856000407201988, 0.4644486708737384 L -0.8808699693418717, 0.47335831788577454 L -0.8760502647005712, 0.4822197981398722 L -0.8711414172271987, 0.49103220993269653 L -0.8661439264234194, 0.49979465655389127 L -0.861058300810835, 0.5085062463773259 L -0.855885057879238, 0.5171660929518229 L -0.8506247240339553, 0.5257733150913589 L -0.8452778345422833, 0.5343270369647303 L -0.8398449334790214, 0.5428263881846737 L -0.8343265736711096, 0.5512705038964323 L -0.8287233166413758, 0.5596585248657596 L -0.823035732551396, 0.5679895975663524 L -0.8172644001434808, 0.5762628742666982 L -0.8114099066817811, 0.5844775131163416 L -0.8054728478925348, 0.5926326782315412 L -0.7994538279034444, 0.6007275397803316 L -0.7933534591822081, 0.6087612740669568 L -0.7871723624741936, 0.6167330636156916 L -0.7809111667392774, 0.62464209725402 L -0.7745705090878425, 0.6324875701951782 L -0.7681510347159504, 0.6402686841200457 L -0.761653396839688, 0.6479846472583781 L -0.7550782566286999, 0.655634674469375 L -0.7484262831389104, 0.6632179873215711 L -0.7416981532444438, 0.6707338141720467 L -0.7348945515687486, 0.6781813902449461 L -0.7280161704149337, 0.6855599577092978 L -0.7210637096953227, 0.6928687657561274 L -0.7140378768602327, 0.7001070706748583 L -0.7069393868259909, 0.7072741359289848 L -0.6997689619021832, 0.7143692322310227 L -0.6925273317181606, 0.7213916376167142 L -0.6852152331487904, 0.7283406375184958 L -0.677833410239479, 0.7352155248382057 L -0.6703826141304592, 0.7420156000190372 L -0.6628636029803587, 0.7487401711167214 L -0.6552771418890528, 0.7553885538699365 L -0.6476240028198117, 0.7619600717699351 L -0.6399049645207486, 0.768454056129382 L -0.6321208124455785, 0.7748698461503982 L -0.6242723386736937, 0.781206788991799 L -0.6163603418295653, 0.787464239835525 L -0.6083856270014796, 0.793641561952256 L -0.6003490056596148, 0.7997381267662007 L -0.5922512955734712, 0.8057533139190585 L -0.5840933207286562, 0.8116865113331446 L -0.5758759112430433, 0.8175371152736703 L -0.5675999032822979, 0.8233045304101794 L -0.5592661389747989, 0.8289881698771224 L -0.5508754663259419, 0.8345874553335774 L -0.542428739131854, 0.8401018170220959 L -0.5339268168925139, 0.8455306938266807 L -0.5253705647242932, 0.8508735333298817 L -0.5167608532719268, 0.8561297918690076 L -0.5080985586199189, 0.8612989345914465 L -0.49938456220339833, 0.8663804355090898 L -0.4906197507184261, 0.8713737775518549 L -0.48180501603177056, 0.8762784526202988 L -0.47294125509015444, 0.8810939616373213 L -0.46402936982898635, 0.8858198145989475 L -0.4550702670805821, 0.8904555306241899 L -0.44606485848189376, 0.8950006380039782 L -0.4370140603817399, 0.8994546742491614 L -0.4279187937475684, 0.9038171861375651 L -0.4187799840717374, 0.9080877297601126 L -0.40959856127734523, 0.9122658705659928 L -0.40037545962360443, 0.9163511834068789 L -0.39111161761077573, 0.9203432525801895 L -0.38180797788467097, 0.9242416718713881 L -0.3724654871407334, 0.9280460445953186 L -0.36308509602770683, 0.9317559836365694 L -0.3536677590509014, 0.9353711114888643 L -0.34421443447506817, 0.9388910602934768 L -0.33472608422689, 0.9423154718766603 L -0.32520367379710047, 0.9456439977860955 L -0.31564817214224056, 0.9488762993263465 L -0.3060605515860606, 0.9520120475933256 L -0.29644178772058305, 0.9550509235077598 L -0.2867928593068294, 0.9579926178476602 L -0.2771147481752264, 0.9608368312797865 L -0.2674084391256998, 0.9635832743901053 L -0.2576749198274645, 0.9662316677132403 L -0.24791518071852559, 0.9687817417609091 L -0.2381302149048948, 0.9712332370493447 L -0.22832101805953692, 0.9735859041257 L -0.21848858832105467, 0.9758395035934304 L -0.20863392619212281, 0.9779938061366543 L -0.1987580344376815, 0.9800485925434868 L -0.18886191798289967, 0.9820036537283456 L -0.1789465838109184, 0.9838587907532269 L -0.169013040860385, 0.9856138148479484 L -0.1590622999227882, 0.9872685474293572 L -0.14909537353960398, 0.9888228201195025 L -0.13911327589926514, 0.9902764747627679 L -0.12911702273396145, 0.9916293634419655 L -0.1191076312162835, 0.9928813484933866 L -0.10908611985572005, 0.9940323025208102 L -0.0990535083950193, 0.9950821084084659 L -0.08901081770642379, 0.9960306593329513 L -0.07895906968779244, 0.996877858774102 L -0.06889928715861604, 0.9976236205248122 L -0.0588324937559401, 0.9982678686998081 L -0.04875971383020428, 0.9988105377433684 L -0.038681972341009174, 0.9992515724359954 L -0.028600294752821186, 0.9995909279000343 L -0.018515706930625986, 0.9998285696042393 L -0.008429235035541459, 0.999964473367287 L 0.0016580945796006285, 0.9999986253602378 L 0.011745255474690196, 0.9999310221079424 L 0.02183122122678557, 0.9997616704893958 L 0.031914965534557305, 0.9994905877370371 L 0.041995462322719876, 0.9991178014349965 L 0.05207168584644037, 0.9986433495162873 L 0.06214261079571333, 0.9980672802589475 L 0.07220721239969244, 0.9973896522811261 L 0.08226446653096514, 0.996610534535119 L 0.09231334980976404, 0.9957300063003526 L 0.10235283970810104, 0.9947481571753163 L 0.11258812367891115 ,1.094222972892848",
          "type": "path"
         },
         {
          "fillcolor": "rgba(244,109,67, 0.75)",
          "layer": "below",
          "line": {
           "color": "rgba(244,109,67, 0.75)",
           "width": 0.45
          },
          "path": "M -1.0711150884462897, 0.25042457407909785 L -1.0736035926379857, 0.23953147157484478 L -1.0759813183869493, 0.22861365331555056 L -1.0782480203505256, 0.21767224584262587 L -1.0804034646419103, 0.2067083781315031 L -1.0824474288542822, 0.19572318147514797 L -1.084379702083753, 0.18471778936732489 L -1.086200084951128, 0.1736933373856425 L -1.0879083896224802, 0.16265096307437682 L -1.08950443982853, 0.15159180582709889 L -1.090988070882836, 0.14051700676910403 L -1.092359129698784, 0.12942770863967026 L -1.093617474805387, 0.11832505567414206 L -1.0947629763618802, 0.107210193485868 L -1.0957955161711197, 0.09608426894798854 L -1.0967149876917777, 0.08494843007509877 L -1.0975212960493363, 0.07380382590479358 L -1.0982143580458772, 0.06265160637910208 L -1.0987941021686656, 0.051492922225836284 L -1.0992604685975302, 0.040328924839850754 L -1.0996134092110348, 0.02916076616424124 L -1.0998528875914437, 0.017989598571479037 L -1.0999788790284806, 0.0068165747445087296 L -1.0999913705218762, -0.004357152442193858 L -1.0998903607827117, -0.015530430041575642 L -1.0996758602335506, -0.026702105152975115 L -1.0993478910073635, -0.03787102504108148 L -1.0989064869452443, -0.04903603725487724 L -1.098351693592919, -0.06019598974655337 L -1.0976835681960444, -0.07134973099038291 L -1.096902179694304, -0.08249611010153877 L -1.0960076087142916, -0.09363397695484478 L -1.0949999475611942, -0.10476218230345342 L -1.0938793002092666, -0.11587957789742552 L -1.0926457822911024, -0.1269850166022148 L -1.0912995210857044, -0.13807735251702977 L -1.0898406555053497, -0.1491554410930757 L -1.0882693360812565, -0.1602181392516499 L -1.086585724948053, -0.17126430550209248 L -1.0847899958270464, -0.18229280005956594 L -1.0828823340082978, -0.19330248496266564 L -1.0808629363315039, -0.2042922241908377 L -1.0787320111656864, -0.21526088378159616 L -1.0764897783876903, -0.22620733194753312 L -1.0741364693594986, -0.2371304391930967 L -1.071672326904357, -0.24802907843114075 L -1.0690976052817203, -0.25890212509921773 L -1.0664125701610159, -0.2697484572756194 L -1.0636174985942313, -0.2805669557951371 L -1.0607126789873274, -0.29135650436454485 L -1.057698411070479, -0.3021159896777795 L -1.0545750058671477, -0.31284430153081844 L -1.0513427856619892, -0.32354033293623363 L -1.0480020839675992, -0.3342029802374138 L -1.0445532454901005, -0.3448311432224445 L -1.0409966260935737, -0.3554237252376333 L -1.0373325927633386, -0.3659796333006657 L -1.0335615235680882, -0.37649777821338126 L -1.029683807620876, -0.38697707467416537 L -1.0256998450389687, -0.39741644138993 L -1.0216100469025573, -0.40781480118768987 L -1.0174148352123429, -0.4181710811257054 L -1.0131146428459923, -0.4284842126041959 L -1.0087099135134712, -0.43875313147560063 L -1.004201101711262, -0.44897677815438036 L -0.9995886726754667, -0.4591540977263504 L -0.9948731023338009, -0.4692840400575315 L -0.990054877256487, -0.47936555990250557 L -0.9851344946060485, -0.4893976170122671 L -0.9801124620860091, -0.4993791762415625 L -0.9749892978885083, -0.509309207655697 L -0.9697655306408297, -0.5191866866368109 L -0.9644416993508584, -0.5290105939895994 L -0.9590183533514605, -0.5387799160464813 L -0.9534960522438045, -0.5484936447721888 L -0.947875365839617, -0.5581507778677842 L -0.9421568741023885, -0.5677503188740773 L -0.9363411670875301, -0.5772912772744467 L -0.9304288448814899, -0.5867726685970441 L -0.9244205175398335, -0.5961935145163747 L -0.9183168050242962, -0.605552842954245 L -0.9121183371388135, -0.6148496881800672 L -0.905825753464534, -0.624083090910505 L -0.8994397032938274, -0.6332520984084553 L -0.8929608455632857, -0.6423557645813587 L -0.8863898487857341, -0.6513931500788165 L -0.8797273909812487, -0.6603633223895201 L -0.8729741596071983, -0.6692653559374683 L -0.866130851487308, -0.6780983321774734 L -0.8591981727397591, -0.6868613396899401 L -0.8521768387043299, -0.6955534742749075 L -0.8450675738685838, -0.7041738390453496 L -0.8378711117931128, -0.7127215445197187 L -0.830588195035847, -0.7211957087137263 L -0.7550801773053154, -0.6556324624670239 L -0.7617010107210116, -0.6479286768361079 L -0.7682432489714397, -0.6401580354957723 L -0.7747062170039363, -0.6323213402499159 L -0.7810892479452355, -0.6244193997181273 L -0.7873916831702799, -0.6164530292522485 L -0.7936128723701802, -0.6084230508522438 L -0.7997521736193169, -0.6003302930813819 L -0.8058089534415764, -0.5921755909807422 L -0.8117825868757143, -0.5839597859830533 L -0.817672457539843, -0.5756837258258685 L -0.8234779576950308, -0.5673482644640954 L -0.8291984883080122, -0.5589542619818793 L -0.8348334591129966, -0.5505025845038591 L -0.8403822886725758, -0.5419941041057952 L -0.845844404437718, -0.5334296987245856 L -0.8512192428068455, -0.5248102520676788 L -0.8565062491839894, -0.5161366535218884 L -0.8617048780360154, -0.507409798061622 L -0.8668145929489132, -0.4986305861565352 L -0.8718348666831458, -0.48979992367861935 L -0.876765181228053, -0.4809187218087267 L -0.8816050278552997, -0.4719878969425553 L -0.8863539071713711, -0.4630083705960881 L -0.8910113291690991, -0.4539810693105113 L -0.8955768132782258, -0.4449069245566064 L -0.9000498884149881, -0.4357868726386414 L -0.904430093030728, -0.42662185459775587 L -0.9087169751595151, -0.41741281611486397 L -0.9129100924647836, -0.40816070741307303 L -0.9170090122849737, -0.3988664831596369 L -0.9210133116781747, -0.38953110236745075 L -0.9249225774657662, -0.3801555282960958 L -0.9287364062750519, -0.3707407283524453 L -0.9324544045808806, -0.36128767399084544 L -0.936076188746251, -0.3517973406128776 L -0.9396013850618983, -0.34227070746671023 L -0.9430296297848532, -0.33270875754605966 L -0.946360569175976, -0.32311247748875754 L -0.9495938595364549, -0.31348285747494953 L -0.952729167243272, -0.3038208911249216 L -0.9557661687836264, -0.294127575396576 L -0.958704550788316, -0.2844039104825622 L -0.9615440100640718, -0.27465089970707224 L -0.964284253624843, -0.2648695494223135 L -0.9669249987220284, -0.25506086890467006 L -0.9694659728736507, -0.24522587025056308 L -0.971906913892473, -0.2353655682720161 L -0.9742475699130518, -0.2254809803919461 L -0.976487699417726, -0.21557312653917882 L -0.9786270712615366, -0.2056430290432119 L -0.9806654646960784, -0.19569171252872378 L -0.9826026693922763, -0.18572020380985244 L -0.9844384854620888, -0.17572953178424147 L -0.986172723479133, -0.16572072732687812 L -0.9878052044982301, -0.15569482318372044 L -0.9893357600738696, -0.14565285386513627 L -0.9907642322775905, -0.13559585553915973 L -0.9920904737142767, -0.12552486592457252 L -0.9933143475373658, -0.11544092418383164 L -0.9944357274629695, -0.10534507081584138 L -0.9954544977829038, -0.09523834754859402 L -0.9963705533766287, -0.08512179723167707 L -0.9971837997220944, -0.07499646372867161 L -0.9978941529054949, -0.06486339180943901 L -0.9985015396299262, -0.05472362704232124 L -0.9990058972229493, -0.04457821568625203 L -0.9994071736430576, -0.034428204582801346 L -0.9997053274850459, -0.024274641048159195 L -0.9999003279842834, -0.014118572765068765 L -0.9999921550198875, -0.003961047674721689 L -0.9999807991168005, 0.006196886131371572 L -0.999866261446767, 0.016354180519526397 L -0.9996485538282134, 0.026509787422037488 L -0.9993276987250275, 0.036662658945318866 L -0.9989037292442414, 0.04681174747803298 L -0.9983766891326156, 0.0569560057991837 L -0.9977466327721239, 0.06709438718617597 L -0.9970136251743433, 0.07722584552281705 L -0.9961777419737452, 0.0873493354072623 L -0.9952390694198912, 0.09746381225987999 L -0.9941977043685336, 0.10756823243103823 L -0.9930537542716218, 0.11766155330879113 L -0.9918073371662144, 0.1277427334264582 L -0.9904585816623, 0.13781073257008988 L -0.9890076269295273, 0.1478645118857971 L -0.9874546226828435, 0.15790303398694772 L -0.9857997291670481, 0.16792526306120442 L -0.9840431171402565, 0.17793016497740724 L -0.9821849678562821, 0.18791670739227553 L -0.9802254730459323, 0.1978838598569326 L -0.9781648348972265, 0.20783059392322775 L -0.9760032660345322, 0.21775588324985887 L -0.9737409894966268, 0.22765870370827074 L -1.0711150884462897 ,0.25042457407909785",
          "type": "path"
         },
         {
          "fillcolor": "rgba(253,174,97, 0.75)",
          "layer": "below",
          "line": {
           "color": "rgba(253,174,97, 0.75)",
           "width": 0.45
          },
          "path": "M -0.8075250452460742, -0.746929247854391 L -0.799780191323057, -0.7552162905865144 L -0.7919502977376295, -0.7634230320820037 L -0.7840361970329255, -0.7715485997279418 L -0.7760387307057208, -0.7795921295425281 L -0.7679587491169573, -0.7875527662669458 L -0.7597971114013242, -0.7954296634563007 L -0.7515546853759092, -0.8032219835696223 L -0.7432323474479231, -0.8109288980589174 L -0.7348309825215121, -0.8185495874572714 L -0.726351483903669, -0.8260832414659787 L -0.7177947532092471, -0.8335290590407008 L -0.7091617002650928, -0.8408862484766432 L -0.7004532430133057, -0.8481540274927326 L -0.6916703074136344, -0.8553316233147987 L -0.6828138273450209, -0.8624182727577403 L -0.6738847445062998, -0.8694132223066771 L -0.6648840083160725, -0.8763157281970654 L -0.6558125758117543, -0.8831250564937856 L -0.6466714115478144, -0.8898404831691786 L -0.6374614874932154, -0.8964612941800317 L -0.6281837829280664, -0.9029867855435006 L -0.6188392843394944, -0.9094162634119661 L -0.609428985316756, -0.9157490441468064 L -0.5999538864455882, -0.9219844543910892 L -0.5904149952018175, -0.9281218311411698 L -0.5808133258442365, -0.9341605218171859 L -0.5711498993067596, -0.9400998843324462 L -0.5614257430898651, -0.9459392871617042 L -0.5516418911513475, -0.9516781094083047 L -0.541799383796374, -0.957315740870205 L -0.5318992675668722, -0.9628515821048564 L -0.521942595130251, -0.9682850444929422 L -0.5119304251674739, -0.9736155503009644 L -0.5018638222604868, -0.9788425327426751 L -0.49174385677902704, -0.9839654360393396 L -0.48157160476680977, -0.9889837154788342 L -0.4713481478271133, -0.9938968374735629 L -0.4610745730077745, -0.9987042796171941 L -0.4507519726856045, -1.0034055307402068 L -0.4403814444502346, -1.0080000909642444 L -0.42996409098741556, -1.0124874717552634 L -0.41950101996176753, -1.0168671959754807 L -0.4089933438990036, -1.0211387979341064 L -0.398442180067637, -1.0253018234368594 L -0.38784865036018334, -1.029355829834263 L -0.3772138811738684, -1.0333003860687109 L -0.3665390032908645, -1.037135072720299 L -0.35582515175805235, -1.0408594820514243 L -0.34507346576633396, -1.044473218050138 L -0.33428508852950434, -1.0479758964722528 L -0.3234611671626917, -1.0513671448822002 L -0.3126028525603916, -1.05464660269263 L -0.3017112992740895, -1.0578139212027515 L -0.29078766538950057, -1.0608687636354104 L -0.2798331124034307, -1.0638108051728978 L -0.2688488051002769, -1.0666397329914883 L -0.2578359114281776, -1.0693552462947014 L -0.24679560237482245, -1.0719570563452852 L -0.23572905184294854, -1.0744448864959173 L -0.2142991380390441, -0.976768078632652 L -0.22435963852256585, -0.97450641485935 L -0.23439628311652505, -0.9721411329951829 L -0.24440800463661536, -0.9696724845377166 L -0.25439373854857333, -0.9671007319753615 L -0.26435242308136414, -0.9644261487594639 L -0.2742829993400814, -0.9616490192752285 L -0.2841844114185378, -0.9587696388114818 L -0.2940556065115379, -0.9557883135292728 L -0.3038955350268221, -0.9527053604293205 L -0.3137031506966672, -0.9495211073183071 L -0.3234774106891385, -0.946235892774022 L -0.3332172757189677, -0.9428500661093626 L -0.34292171015806217, -0.9393639873351916 L -0.3525896821456212, -0.9357780271220573 L -0.36222016369785176, -0.9320925667607812 L -0.371812130817276, -0.9283079981219148 L -0.3813645636016068, -0.9244247236140734 L -0.3908764463521959, -0.9204431561411486 L -0.4003467676820314, -0.916363719058404 L -0.4097745206232768, -0.9121868461274607 L -0.4191587027343404, -0.9079129814701764 L -0.4284983162064666, -0.9035425795214208 L -0.437792367969827, -0.8990761049807583 L -0.4470398697991155, -0.894514032763036 L -0.4562398384186243, -0.8898568479478863 L -0.46539129560679443, -0.8851050457281493 L -0.4744932683002281, -0.8802591313572201 L -0.4835447886971565, -0.8753196200953239 L -0.49254489436034005, -0.8702870371547318 L -0.5014926283194068, -0.8651619176439133 L -0.5103870391726046, -0.8599448065106401 L -0.5192271811879633, -0.8546362584840419 L -0.5280121144038513, -0.8492368380156234 L -0.536740904728925, -0.8437471192192452 L -0.5454126240414437, -0.838167685810081 L -0.55402635028796, -0.8324991310425511 L -0.5625811675813586, -0.8267420576472418 L -0.5710761662982422, -0.8208970777668188 L -0.5795104431756504, -0.8149648128909379 L -0.587883101407104, -0.8089458937901624 L -0.5961932507379585, -0.802840960448896 L -0.6044400075600659, -0.7966506619973321 L -0.612622495005727, -0.7903756566424336 L -0.6207398430409281, -0.7840166115979457 L -0.6287911885578494, -0.7775742030134534 L -0.6367756754666415, -0.7710491159024842 L -0.644692454786448, -0.7644420440696755 L -0.6525406847356792, -0.7577536900370007 L -0.6603195308215172, -0.7509847649690714 L -0.6680281659286473, -0.7441359885975194 L -0.6756657704072028, -0.7372080891444703 L -0.6832315321599174, -0.7302018032451111 L -0.6907246467284766, -0.7231178758693643 L -0.698144317379052, -0.7159570602426779 L -0.7054897551870188, -0.7087201177659346 L -0.7127601791208413, -0.7014078179344925 L -0.7199548161251177, -0.6940209382563669 L -0.727072901202779, -0.6865602641695585 L -0.734113677496431, -0.6790265889585372 L -0.8075250452460742 ,-0.746929247854391",
          "type": "path"
         },
         {
          "fillcolor": "rgba(254,224,139, 0.75)",
          "layer": "below",
          "line": {
           "color": "rgba(254,224,139, 0.75)",
           "width": 0.45
          },
          "path": "M -0.20186360431337075, -1.0813191412592376 L -0.18923965103334078, -1.0835997205964847 L -0.17658996034148206, -1.0857329256804336 L -0.1639162526504957, -1.0877184663859574 L -0.1512202516394949, -1.0895560726709241 L -0.13850368401958466, -1.091245494612923 L -0.1257682792990149, -1.0927865024432564 L -0.11301576954796297, -1.0941788865781874 L -0.10024788916296712, -1.0954224576474454 L -0.08746637463103456, -1.0965170465199818 L -0.07467296429347943, -1.0974625043269701 L -0.06186939810949302, -1.098258702482056 L -0.049057417419509565, -1.098905532698843 L -0.03623876470836966, -1.0994029070056217 L -0.02341518336833766, -1.0997507577573327 L -0.010588417461995701, -1.0999490376447676 L 0.002239788514963175, -1.099997719701004 L 0.01506768987098618, -1.0998967973050708 L 0.013697899882714708, -0.9999061793682461 L 0.0020361713772392496, -0.9999979270009126 L -0.009625834056359727, -0.9999536705861524 L -0.021286530334852418, -0.9997734161430296 L -0.032944331553063325, -0.9994571881869287 L -0.044597652199554146, -0.999005029726221 L -0.056244907372266374, -0.9984170022564145 L -0.06788451299407221, -0.997693185751791 L -0.07951488602821323, -0.9968336786545288 L -0.09113444469360646, -0.995838597861314 L -0.10274160867996633, -0.994708078707443 L -0.11433479936274082, -0.9934422749484149 L -0.12591244001780422, -0.992041358739021 L -0.13747295603590445, -0.9905055206099309 L -0.14901477513681427, -0.9888349694417793 L -0.1605363275831655, -0.9870299324367577 L -0.17203604639394615, -0.9850906550877132 L -0.18351236755760975, -0.9830174011447614 L -0.20186360431337075 ,-1.0813191412592376",
          "type": "path"
         },
         {
          "fillcolor": "rgba(217,239,139, 0.75)",
          "layer": "below",
          "line": {
           "color": "rgba(217,239,139, 0.75)",
           "width": 0.45
          },
          "path": "M 0.04960884818656127, -1.098880777055274 L 0.06083066001405812, -1.0983167260869036 L 0.07204612498092365, -1.0976380805507948 L 0.08325407290434042, -1.0968449112544758 L 0.09445333438579631, -1.0959373009544868 L 0.10564274093308954, -1.0949153443477466 L 0.11682112508224897, -1.0937791480616723 L 0.1279873205193415, -1.0925288306430543 L 0.13914016220216494, -1.0911645225456863 L 0.1502784864817987, -1.0896863661167557 L 0.16140113122401883, -1.0880945155819908 L 0.17250693593055003, -1.0863891370295697 L 0.1835947418601471, -1.0845704083927914 L 0.19466339214949788, -1.0826385194315096 L 0.20571173193392056, -1.0805936717123357 L 0.21673860846786214, -1.0784360785876068 L 0.2277428712451708, -1.076165965173126 L 0.23872337211913514, -1.0737835683246737 L 0.24967896542228113, -1.0712891366132953 L 0.26060850808590186, -1.0686829302993666 L 0.27151085975932493, -1.0659652213054385 L 0.2823848829288918, -1.063136293187866 L 0.29322944303664095, -1.060196441107223 L 0.3040434085986879, -1.0571459717975051 L 0.31482565132327417, -1.0539852035341275 L 0.3255750462284935, -1.0507144661007168 L 0.33629047175966625, -1.0473341007547026 L 0.34697080990636303, -1.04384446019171 L 0.3576149463190476, -1.0402459085087645 L 0.3682217704253485, -1.0365388211662996 L 0.37879017554593103, -1.0327235849489849 L 0.38931905900996405, -1.028800597925369 L 0.3998073222701717, -1.024770269406346 L 0.410253871017447, -1.0206330199024525 L 0.4206576152950321, -1.016389281079989 L 0.43101746961223825, -1.0120394957159842 L 0.44133235305770613, -1.0075841176519946 L 0.4516011894121791, -1.0030236117467553 L 0.4618229072607952, -0.9983584538276756 L 0.4719964401048748, -0.9935891306411949 L 0.4821207264731937, -0.9887161398019961 L 0.4921947100327376, -0.9837399897410848 L 0.5022173396989104, -0.9786611996527448 L 0.5121875697452045, -0.9734802994403644 L 0.5221043599123073, -0.9681978296611494 L 0.5319666755166377, -0.9628143414697231 L 0.5417734875583045, -0.9573303965606189 L 0.5515237728284633, -0.9517465671096785 L 0.561216514016079, -0.9460634357143501 L 0.5708506998140666, -0.9402815953329038 L 0.5804253250248069, -0.934401649222564 L 0.5899393906650292, -0.9284242108765659 L 0.5993919040700365, -0.9223499039601492 L 0.6087818789972792, -0.9161793622454844 L 0.618108335729256, -0.9099132295455482 L 0.6273703011757368, -0.903552159646949 L 0.6365668089752863, -0.8970968162417152 L 0.6456968995960944, -0.8905478728580465 L 0.6547596204360895, -0.883906012790041 L 0.6637540259223317, -0.8771719290264006 L 0.6726791776096664, -0.8703463241781302 L 0.6815341442786421, -0.8634299104052275 L 0.6903180020326688, -0.8564234093423793 L 0.699029834394414, -0.849327552023669 L 0.7076687324014282, -0.8421430788063012 L 0.7162337947009771, -0.8348707392933582 L 0.7247241276440904, -0.8275112922555874 L 0.7331388453787997, -0.8200655055522337 L 0.741477069942565, -0.8125341560509248 L 0.749737931353882, -0.8049180295466128 L 0.7579205677030473, -0.7972179206795912 L 0.6890186979118611, -0.7247435642541737 L 0.6815799375944381, -0.7317436632241935 L 0.67407006358415, -0.7386674145917498 L 0.6664898594352724, -0.745514095956576 L 0.6588401160400822, -0.7522829929596249 L 0.6511216315463428, -0.7589733993575983 L 0.6433352112740256, -0.7655846170966374 L 0.6354816676312854, -0.7721159563851536 L 0.6275618200296988, -0.7785667357657993 L 0.6195764947987655, -0.7849362821865704 L 0.6115265250996967, -0.7912239310710274 L 0.6034127508384833, -0.7974290263876369 L 0.5952360185782631, -0.803550920718219 L 0.5869971814509949, -0.8095889753254968 L 0.578697099068442, -0.815542560219741 L 0.570336637432488, -0.821411054224499 L 0.5619166688447782, -0.8271938450414074 L 0.5534380718157084, -0.8328903293140766 L 0.5449017309727604, -0.8384999126910446 L 0.5363085369682083, -0.8440220098877871 L 0.527659386386188, -0.8494560447477854 L 0.5189551816491513, -0.8548014503026398 L 0.5101968309237082, -0.8600576688312274 L 0.5013852480258757, -0.8652241519178895 L 0.49252135232573124, -0.8703003605096535 L 0.4836060686514888, -0.8752857649724755 L 0.47464032719300664, -0.8801798451464994 L 0.4656250634047313, -0.8849820904003312 L 0.45656121790810034, -0.8896919996843133 L 0.4474497363933978, -0.8943090815828043 L 0.43829156952108517, -0.8988328543654509 L 0.4290876728226134, -0.9032628460374499 L 0.4198390066007229, -0.907598594388796 L 0.41054653582925366, -0.9118396470425046 L 0.40121123005246007, -0.9159855615018132 L 0.3918340632838529, -0.9200359051963491 L 0.3824160139045746, -0.9239902555272627 L 0.3729580645613154, -0.9278481999113204 L 0.3634612020637924, -0.931609335823951 L 0.3539264172817855, -0.9352732708412443 L 0.34435470504175547, -0.9388396226808952 L 0.33474706402304405, -0.9423080192420905 L 0.32510449665367963, -0.9456780986443313 L 0.31542800900578455, -0.948949509265191 L 0.3057186106906057, -0.9521219097770022 L 0.29597731475317585, -0.9551949691824698 L 0.28620513756661287, -0.9581683668492068 L 0.2764030987260799, -0.9610417925431864 L 0.26657222094240085, -0.9638149464611118 L 0.2567135299353562, -0.9664875392616963 L 0.24682805432665902, -0.9690592920958531 L 0.23691682553263804, -0.9715299366357877 L 0.2269808776566192, -0.9738992151029956 L 0.21702124738103193, -0.9761668802951577 L 0.2070389738592462, -0.9783326956119326 L 0.19703509860714738, -0.9803964350796425 L 0.18701066539447322, -0.9823578833748505 L 0.17696672013590714, -0.9842168358468267 L 0.1669043107819519, -0.9859730985389011 L 0.1568244872095909, -0.9876264882086997 L 0.14672830111274437, -0.9891768323472643 L 0.13661680589254427, -0.9906239691970505 L 0.12649105654742265, -0.9919677477688056 L 0.11635210956303772, -0.993208027857322 L 0.1062010228020445, -0.9943446800560657 L 0.09603885539371775, -0.9953775857706786 L 0.08586666762345119, -0.9963066372313515 L 0.07568552082212765, -0.9971317375040688 L 0.06549647725538513, -0.9978528005007226 L 0.0553006000127801, -0.998469750988094 L 0.04509895289687388, -0.9989825245957036 L 0.04960884818656127 ,-1.098880777055274",
          "type": "path"
         },
         {
          "fillcolor": "rgba(166,217,106, 0.75)",
          "layer": "below",
          "line": {
           "color": "rgba(166,217,106, 0.75)",
           "width": 0.45
          },
          "path": "M 0.7825877996945482, -0.7730176814079003 L 0.7905203740414039, -0.764903613683083 L 0.7983688240645439, -0.7567081476776879 L 0.8061323145602572, -0.7484321555236136 L 0.8138100193659176, -0.7400765179220626 L 0.8214011214479033, -0.7316421240498164 L 0.8289048129885417, -0.7231298714646153 L 0.8363202954720745, -0.7145406660096416 L 0.8436467797696315, -0.7058754217171265 L 0.8508834862232091, -0.6971350607110778 L 0.858029644728638, -0.6883205131091529 L 0.8650844948175344, -0.6794327169236786 L 0.8720472857382251, -0.6704726179618334 L 0.8789172765356429, -0.6614411697249942 L 0.8856937361301739, -0.6523393333072706 L 0.8923759433954578, -0.6431680772932273 L 0.898963187235125, -0.633928377654815 L 0.9054547666584727, -0.6246212176475046 L 0.9118499908550588, -0.6152475877056565 L 0.9181481792682171, -0.6058084853371222 L 0.9243486616674792, -0.5963049150170912 L 0.9304507782198964, -0.5867378880812021 L 0.93645387956026, -0.5771084226179152 L 0.9423573268602019, -0.5674175433601738 L 0.9481604918961777, -0.5576662815763551 L 0.9538627571163177, -0.5478556749605289 L 0.9594635157061483, -0.5379867675220253 L 0.9649621716531641, -0.5280606094743384 L 0.9703581398102545, -0.5180782571233642 L 0.9756508459579719, -0.5080407727549965 L 0.9808397268656398, -0.4979492245220765 L 0.9859242303512885, -0.4878046863307276 L 0.9909038153404174, -0.47760823772607225 L 0.9957779519235714, -0.4673609637773545 L 1.0005461214127362, -0.45706395496246505 L 1.005207816396532, -0.4467183070519007 L 1.0097625407942115, -0.43632512099215487 L 1.0142098099084513, -0.42588550278855847 L 1.0185491504769302, -0.41540056338758596 L 1.0227801007226944, -0.4048714185586276 L 1.0269022104032959, -0.3942991887752564 L 1.0309150408587076, -0.3836849990959895 L 1.0348181650580015, -0.37302997904456786 L 1.0386111676447947, -0.36233526248975023 L 1.042293644981448, -0.35160198752465466 L 1.0458652051920205, -0.3408312963456453 L 1.0493254682039705, -0.33002433513078744 L 1.0526740657886033, -0.31918225391786975 L 1.0559106416002553, -0.30830620648202517 L 1.0590348512142163, -0.2973973502129488 L 1.062046362163379, -0.28645684599173554 L 1.0649448539736235, -0.2754858580673389 L 1.067730018197917, -0.26448555393267853 L 1.0704015584491402, -0.25345710420039946 L 1.072959190431626, -0.2424016824782986 L 1.075402641971414, -0.2313204652444375 L 0.9776387654285581, -0.2102913320403977 L 0.9754174458469327, -0.22036516588936234 L 0.9730923258628547, -0.23041554927309038 L 0.9706636529071972, -0.24044141266607136 L 0.9681316854305667, -0.2504416891521262 L 0.9654966928757991, -0.26041531453794137 L 0.9627589556492874, -0.270361227466317 L 0.9599187650911412, -0.2802783695291138 L 0.9569764234441848, -0.2901656853798816 L 0.9539322438217913, -0.30002212284617036 L 0.950786550174564, -0.3098466330414957 L 0.9475396772558617, -0.31963817047695875 L 0.944191970586177, -0.32939569317250017 L 0.940743786416365, -0.33911816276778894 L 0.937195491689734, -0.3488045446327177 L 0.9335474640029962, -0.35845380797750576 L 0.9298000915660857, -0.3680649259623887 L 0.9259537731608456, -0.3776368758068963 L 0.9220089180985921, -0.38716863889868947 L 0.9179659461765558, -0.39665920090195894 L 0.9138252876332108, -0.40610755186536424 L 0.9095873831024874, -0.41551268632951366 L 0.905252683566883, -0.4248736034339586 L 0.9008216503094703, -0.434189307023702 L 0.8962947548648077, -0.44345880575520685 L 0.8916724789687633, -0.4526811132018877 L 0.8869553145072471, -0.4618552479590877 L 0.8821437634638677, -0.4709802337485129 L 0.8772383378665127, -0.48005509952212577 L 0.872239559732862, -0.4890788795654776 L 0.8671479610148343, -0.4980506136004808 L 0.8619640835419796, -0.5069693468875955 L 0.8566884789638198, -0.5158341303274306 L 0.8513217086911454, -0.524644020561741 L 0.8458643438362694, -0.5333980800738201 L 0.8403169651522537, -0.5420953772882646 L 0.8346801629711064, -0.550734986670111 L 0.8289545371409625, -0.559315988823324 L 0.8231406969622478, -0.5678374705886404 L 0.8172392611228408, -0.5762985251407409 L 0.8112508576322343, -0.5846982520847521 L 0.8051761237547035, -0.5930357575520641 L 0.7990157059414935, -0.6013101542954492 L 0.7927702597620228, -0.6095205617834849 L 0.7864404498341221, -0.6176661062942532 L 0.7800269497533072, -0.6257459210083207 L 0.7735304420210991, -0.6337591461009797 L 0.7669516179723922, -0.6417049288337513 L 0.7602911777018859, -0.6495824236451286 L 0.7535498299895833, -0.6573907922405593 L 0.7467282922253666, -0.6651292036816513 L 0.7398272903326523, -0.6727968344746024 L 0.7328475586911429, -0.6803928686578306 L 0.7257898400586762, -0.6879164978888072 L 0.7186548854921853, -0.6953669215300754 L 0.711443454267771, -0.7027433467344547 L 0.7825877996945482 ,-0.7730176814079003",
          "type": "path"
         },
         {
          "fillcolor": "rgba(102,189,99, 0.75)",
          "layer": "below",
          "line": {
           "color": "rgba(102,189,99, 0.75)",
           "width": 0.45
          },
          "path": "M 1.0821379470887018, -0.19742710925972193 L 1.0838272050669895, -0.18793240688257565 L 1.0854331579672367, -0.1784232596531968 L 1.0869556823527629, -0.16890039846323537 L 1.0883946611993676, -0.15936455525842014 L 1.089749983904323, -0.14981646298230403 L 1.0910215462948762, -0.14025685551992642 L 1.0922092506362555, -0.13068646764140945 L 1.0933130056391835, -0.12110603494547614 L 1.0943327264668923, -0.11151629380291388 L 1.0952683347416456, -0.10191798129997828 L 1.096119758550762, -0.09231183518173366 L 1.0968869324521426, -0.08269859379535129 L 1.097569797479302, -0.0730789960333615 L 1.0981683011458987, -0.06345378127685519 L 1.0986823974497706, -0.05382368933865744 L 1.099112046876471, -0.044189460406462044 L 1.0994572164023046, -0.03455183498594315 L 0.9995065603657315, -0.03141075907813013 L 0.9991927698877009, -0.04017223673314731 L 0.9988021794997914, -0.048930626671506765 L 0.9983348192235442, -0.057685255706231994 L 0.9977907249811836, -0.06643545093941954 L 0.997169938592857, -0.07518053981395571 L 0.9964725077734199, -0.08391985016521242 L 0.9956984861287687, -0.09265271027270752 L 0.9948479331517203, -0.10137844891173987 L 0.9939209142174394, -0.1100963954049783 L 0.9929175005784141, -0.11880587967400857 L 0.9918377693589783, -0.12750623229084218 L 0.9906818035493844, -0.1361967845293673 L 0.989449691999425, -0.14487686841674557 L 0.9881415294116026, -0.15354581678475943 L 0.9867574163338514, -0.162202963321088 L 0.9852974591518086, -0.1708476426205233 L 0.9837617700806379, -0.17947919023611084 L 1.0821379470887018 ,-0.19742710925972193",
          "type": "path"
         }
        ],
        "showlegend": false,
        "title": "Pairwise interactions between common egg mutation genotypes",
        "width": 800,
        "xaxis": {
         "visible": false
        },
        "yaxis": {
         "visible": false
        }
       }
      },
      "text/html": [
       "<div id=\"6409d981-2023-49a6-9512-59a344a16673\" style=\"height: 800px; width: 800px;\" class=\"plotly-graph-div\"></div><script type=\"text/javascript\">require([\"plotly\"], function(Plotly) { window.PLOTLYENV=window.PLOTLYENV || {};window.PLOTLYENV.BASE_URL=\"https://plot.ly\";Plotly.newPlot(\"6409d981-2023-49a6-9512-59a344a16673\", [{\"line\": {\"color\": \"rgba(26,152,80, 0.75)\", \"shape\": \"spline\", \"width\": 0.25}, \"mode\": \"lines\", \"x\": [1.1, 1.0999436876109558, 1.0997747562094322, 1.0994932230916672, 1.0990991170827562, 1.0985924785337005, 1.0979733593172771, 1.097241822822726, 1.0963979439492615, 1.0954418090984022, 1.0943735161651258, 1.0931931745278456, 1.0919009050372117, 1.0904968400037371, 1.0889811231842519, 1.0873539097671836, 1.0856153663566686, 1.0837656709554941, 1.0818050129468728, 1.079733593075053, 1.077551623424765, 1.0752593273995068, 1.0728569396986705, 1.0703447062935116, 1.0677228844019668, 1.0649917424623168, 1.062151560105702, 1.0592026281274933, 1.0561452484575176, 1.0529797341291447, 1.049706409247237, 1.046325608954966, 1.0428376793994976, 1.0392429776965522, 1.0355418718938403, 1.0317347409333795, 1.027821974612697, 1.0238039735449187, 1.0196811491177524, 1.0154539234513675, 1.0111227293551752, 1.0066880102835158, 1.002150220290254, 0.9975098239822905, 0.9927672964719932, 0.9879231233285516, 0.9829778005282612, 0.9779318344037431, 0.9727857415921017, 0.967540048982029, 0.9621952936598575, 0.9567520228545713, 0.951210793881776, 0.9455721740866385, 0.9398367407857979, 0.934005081208257, 0.9280777924352571, 0.9220554813391464, 0.9159387645212436, 0.909728268248707, 0.9034246283904139, 0.897028490351855, 0.890540509009055, 0.8839613486415222, 0.8772916828642352, 0.870532194558674, 0.8636835758029026, 0.8567465278007098, 0.8497217608098154, 0.8426099940691497, 0.8354119557252139, 0.828128382757527, 0.8207600209031699, 0.8133076245804328, 0.8057719568115719, 0.7981537891446873, 0.7904539015747273, 0.7826730824636271, 0.7748121284595921, 0.7668718444155314, 0.7588530433066528, 0.7507565461472246, 0.7425831819065163, 0.734333787423922, 0.7260092073232807, 0.7176102939263984, 0.709137907165782, 0.7005929144965939, 0.691976190807837, 0.683288618332778, 0.6745310865586188, 0.6657044921354255, 0.6568097387843236, 0.6478477372049699, 0.6388194049823089, 0.6297256664926254, 0.6205674528089006, 0.6113457016054833, 0.6020613570620854, 0.5927153697671103, 0.5833086966203261, 0.5738423007348932, 0.5643171513387526, 0.5547342236753929, 0.5450944989039972, 0.5353989639989867, 0.5256486116489675, 0.5158444401550942, 0.5059874533288566, 0.4960786603893039, 0.4861190758597139, 0.47610971946372105, 0.46605161602090933, 0.45594579534188673, 0.4457932921228451, 0.43559514583962283, 0.42535240064127616, 0.41506610524317367, 0.4047373128196208, 0.39436708089603134, 0.3839564712406495, 0.37350654975584135, 0.3630183863689594, 0.3524930549227987, 0.3419316330656483, 0.3313352021409567, 0.32070484707661573, 0.3100416562738804, 0.29934672149593033, 0.2886211377560893, 0.27786600320571075, 0.2670824190217416, 0.2562714892939784, 0.2454343209120221, 0.23457202345194963, 0.22368570906270685, 0.21277649235224175, 0.2018454902733822, 0.19089382200947722, 0.17992260885980624, 0.16893297412477556, 0.15792604299090585, 0.14690294241563065], \"y\": [0.0, 0.01113032276317038, 0.022259505935312347, 0.033386410042075834, 0.04450989584245554, 0.05562882444543341, 0.06674205742658539, 0.07784845694464021, 0.08894688585797875, 0.10003620784106142, 0.11111528750077235, 0.1221829904926678, 0.1332381836371174, 0.144279735035326, 0.15530651418522462, 0.16631739209721788, 0.17731124140977733, 0.1882869365048673, 0.19924335362319287, 0.21017937097925712, 0.22109386887621651, 0.23198572982052235, 0.24285383863633656, 0.2536970825797104, 0.26451435145251395, 0.27530453771610525, 0.28606653660472636, 0.2967992462386169, 0.3075015677368306, 0.3181724053297459, 0.3288106664712574, 0.3394152619506374, 0.3499851060040565, 0.3605191164257502, 0.37101621467882184, 0.3814753260056703, 0.39189537953803, 0.4022753084066129, 0.41261404985034145, 0.4229105453251603, 0.43316374061241675, 0.44337258592679823, 0.4535360360238156, 0.4636530503068216, 0.47372259293355407, 0.4837436329221913, 0.4937151442569107, 0.5036361059929383, 0.5135055023610797, 0.5233223228717203, 0.5330855624182864, 0.5427942213801527, 0.552447305724991, 0.5620438271105448, 0.571582802985822, 0.581063256691694, 0.590484217560893, 0.5998447210173941, 0.609143808675175, 0.6183805284363413, 0.627553934588608, 0.6366630879021278, 0.6457070557256545, 0.6546849120820346, 0.6635957377630137, 0.6724386204233508, 0.6812126546742302, 0.6899169421759607, 0.6985505917299527, 0.7071127193699656, 0.7156024484526122, 0.7240189097471165, 0.7323612415243096, 0.7406285896448598, 0.7488201076467235, 0.7569349568318128, 0.764972306351865, 0.7729313332935109, 0.7808112227625297, 0.7886111679672824, 0.7963303703013164, 0.8039680394251317, 0.8115233933471012, 0.8189956585035346, 0.8263840698378823, 0.8336878708790648, 0.8409063138189266, 0.8480386595888, 0.8550841779351762, 0.8620421474944735, 0.8689118558668936, 0.8756925996893633, 0.8823836847075476, 0.8889844258469327, 0.8954941472829674, 0.9019121825102592, 0.9082378744108138, 0.9144705753213165, 0.9206096470994427, 0.9266544611891955, 0.9326043986852606, 0.9384588503963743, 0.9442172169076963, 0.9498789086421802, 0.9554433459209397, 0.9609099590225986, 0.9662781882416229, 0.9715474839456266, 0.9767173066316468, 0.9817871269813807, 0.9867564259153816, 0.991624694646204, 0.9963914347304975, 1.00105615812004, 1.0056183872117077, 1.0100776548963737, 1.0144335046067354, 1.0186854903640588, 1.022833176823842, 1.0268761393203873, 1.0308139639102822, 1.0346462474147806, 1.0383725974610833, 1.0419926325225113, 1.0455059819575683, 1.0489122860478906, 1.0522111960350757, 1.055402374156392, 1.0584854936793597, 1.0614602389352041, 1.0643263053511758, 1.0670833994817346, 1.0697312390385945, 1.072269552919626, 1.0746980812366134, 1.0770165753418628, 1.0792247978536615, 1.0813225226805823, 1.0833095350446307, 1.085185631503238, 1.0869506199700878, 1.0886043197347854, 1.0901465614813588], \"type\": \"scatter\", \"uid\": \"5919fb2e-20a5-4f9a-b774-172a9b183579\"}, {\"line\": {\"color\": \"rgba(215,48,39, 0.75)\", \"shape\": \"spline\", \"width\": 0.25}, \"mode\": \"lines\", \"x\": [0.11258812367891115, 0.10154468479074044, 0.09049091318406166, 0.07942793363966169, 0.06835687187528466, 0.05727885443108441, 0.04619500855499187, 0.03510646208801304, 0.02401434334946413, 0.012919781022159217, 0.0018239040375606914, -0.009272158539095606, -0.020367277623688586, -0.031460324228103305, -0.0425501695751101, -0.05363568521322472, -0.06471574313153412, -0.07578921587447765, -0.08685497665657169, -0.09791189947706617, -0.10895885923452123, -0.11999473184129206, -0.13101839433791185, -0.1420287250073576, -0.15302460348919167, -0.1640049108935644, -0.17496852991506703, -0.1859143449464235, -0.19684124219201027, -0.20774810978118965, -0.21863383788144966, -0.22949731881133512, -0.24033744715316016, -0.2511531198654906, -0.2619432363953843, -0.2727066987903782, -0.28344241181021096, -0.29414928303826976, -0.3048262229927491, -0.3154721452375124, -0.3260859664926414, -0.3366666067446667, -0.34721298935646466, -0.35772404117681056, -0.368198692649579, -0.378635877922575, -0.3890345349559916, -0.39939360563047754, -0.40971203585480676, -0.4199887756731381, -0.4302227793718533, -0.4404130055859649, -0.4505584174050798, -0.46065798247891115, -0.4707106731223253, -0.4807154664199139, -0.4906713443300832, -0.5005772937886404, -0.510432306811885, -0.52023538059917, -0.5299855176349476, -0.5396817257902687, -0.5493230184237382, -0.5589084144819109, -0.5684369385991195, -0.5779076211967226, -0.5873194985817654, -0.5966716130450395, -0.605963012958536, -0.6151927528722789, -0.6243598936105278, -0.6334635023673476, -0.6425026528015219, -0.6514764251308184, -0.6603839062255763, -0.6692241897016276, -0.6779963760125219, -0.6866995725410631, -0.6953328936901364, -0.7038954609728235, -0.7123864031017929, -0.7208048560779582, -0.7291499632783947, -0.7374208755435052, -0.745616751263427, -0.7537367564636696, -0.7617800648899767, -0.7697458580924016, -0.77763332550859, -0.785441664546256, -0.7931700806648551, -0.8008177874564272, -0.8083840067256235, -0.8158679685688882, -0.8232689114528015, -0.8305860822915699, -0.8378187365236569, -0.8449661381875455, -0.8520275599966268, -0.8590022834132052, -0.8658895987216131, -0.872688805100429, -0.8793992106937889, -0.8860201326817884, -0.8925508973499593, -0.8989908401578289, -0.9053393058065357, -0.9115956483055134, -0.9177592310382207, -0.9238294268269237, -0.9298056179965117, -0.9356871964373509, -0.9414735636671618, -0.9471641308919185, -0.9527583190657615, -0.9582555589499187, -0.9636552911706284, -0.9689569662760589, -0.9741600447922187, -0.9792639972778489, -0.9842683043782989, -0.9891724568783722, -0.9939759557541429, -0.9986783122237324, -1.0032790477970475, -1.007777694324468, -1.0121737940444844, -1.016466899630276, -1.0206565742352307, -1.0247423915373957, -1.0287239357828577, -1.0326008018280488, -1.0363725951809715, -1.0400389320413403, -1.0435994393396362, -1.047053754775068, -1.0504015268524378, -1.053642414917909, -1.056776089193668, -1.0598022308114823, -1.0627205318451458], \"y\": [1.094222972892848, 1.095303006930388, 1.0962715879886311, 1.0971286175092387, 1.0978740082848424, 1.098507684467916, 1.0990295815784963, 1.099439646510741, 1.0997378375383355, 1.0999241243187368, 1.0999984878962616, 1.0999609207040157, 1.0998114265646632, 1.099550020690038, 1.099176729679595, 1.0986915915177053, 1.098094655569789, 1.0973859825772936, 1.0965656446515122, 1.0956337252662465, 1.0945903192493125, 1.0934355327728913, 1.0921694833427253, 1.090792299786162, 1.0893041222390447, 1.0877051021314528, 1.085995402172293, 1.0841751963327433, 1.0822446698285497, 1.0802040191011804, 1.0780534517978355, 1.0757931867503199, 1.0734234539527736, 1.07094449453827, 1.0683565607542793, 1.0656599159370002, 1.0628548344845645, 1.059941601829116, 1.0569205144077651, 1.0537918796324264, 1.0505560158585359, 1.0472132523526583, 1.0437639292589813, 1.0402083975647052, 1.0365470190643264, 1.0327801663228247, 1.0289082226377508, 1.0249315820002265, 1.0208506490548506, 1.016665839058527, 1.0123775778382085, 1.007986301747567, 1.0034924576225923, 0.998896502736124, 0.9941989047513217, 0.9894001416740776, 0.9845007018043761, 0.979501083686609, 0.9744017960588424, 0.9692033578010536, 0.9639062978823287, 0.9585111553070405, 0.9530184790599989, 0.9474288280505911, 0.9417427710559084, 0.9359608866628699, 0.9300837632093488, 0.9241119987243055, 0.9180462008669352, 0.9118869868648347, 0.9056349834511974, 0.8992908268010374, 0.8928551624664591, 0.8863286453109643, 0.8797119394428209, 0.8730057181474816, 0.8662106638190776, 0.8593274678909789, 0.8523568307654381, 0.8452994617423203, 0.8381560789469287, 0.8309274092569302, 0.8236141882283936, 0.816217160020941, 0.8087370773220264, 0.8011747012703454, 0.7935308013783857, 0.785806155454125, 0.7780015495218834, 0.7701177777423442, 0.7621556423317403, 0.7541159534802276, 0.7459995292694407, 0.7378071955892515, 0.7295397860537283, 0.7211981419163125, 0.712783111984216, 0.7042955525320503, 0.6957363272146961, 0.687106306979422, 0.6784063699772608, 0.6696374014736525, 0.6608002937583648, 0.6518959460546954, 0.6429252644279757, 0.6338891616933681, 0.6247885573229877, 0.6156243773523357, 0.6063975542860756, 0.5971090270031411, 0.5877597406612034, 0.5783506466004948, 0.5688827022470052, 0.5593568710150585, 0.5497741222092805, 0.5401354309259663, 0.5304417779538595, 0.520694149674352, 0.5108935379611123, 0.5010409400791612, 0.4911373585833891, 0.48118380121654675, 0.47118128080669586, 0.46113081516415444, 0.4510334269779234, 0.4408901437116269, 0.43070199749895993, 0.42047002503866415, 0.41019526748903784, 0.3998787703619925, 0.3895215834166664, 0.37912476055260597, 0.36868935970252575, 0.3582164427246583, 0.3477070752947043, 0.3371623267973928, 0.3265832702176699, 0.3159709820315103, 0.3053265420963873, 0.294651033541384, 0.2839455426569867], \"type\": \"scatter\", \"uid\": \"b1d94c29-238e-4277-b4e2-6ab695e69707\"}, {\"line\": {\"color\": \"rgba(244,109,67, 0.75)\", \"shape\": \"spline\", \"width\": 0.25}, \"mode\": \"lines\", \"x\": [-1.0711150884462897, -1.0736035926379857, -1.0759813183869493, -1.0782480203505256, -1.0804034646419103, -1.0824474288542822, -1.084379702083753, -1.086200084951128, -1.0879083896224802, -1.08950443982853, -1.090988070882836, -1.092359129698784, -1.093617474805387, -1.0947629763618802, -1.0957955161711197, -1.0967149876917777, -1.0975212960493363, -1.0982143580458772, -1.0987941021686656, -1.0992604685975302, -1.0996134092110348, -1.0998528875914437, -1.0999788790284806, -1.0999913705218762, -1.0998903607827117, -1.0996758602335506, -1.0993478910073635, -1.0989064869452443, -1.098351693592919, -1.0976835681960444, -1.096902179694304, -1.0960076087142916, -1.0949999475611942, -1.0938793002092666, -1.0926457822911024, -1.0912995210857044, -1.0898406555053497, -1.0882693360812565, -1.086585724948053, -1.0847899958270464, -1.0828823340082978, -1.0808629363315039, -1.0787320111656864, -1.0764897783876903, -1.0741364693594986, -1.071672326904357, -1.0690976052817203, -1.0664125701610159, -1.0636174985942313, -1.0607126789873274, -1.057698411070479, -1.0545750058671477, -1.0513427856619892, -1.0480020839675992, -1.0445532454901005, -1.0409966260935737, -1.0373325927633386, -1.0335615235680882, -1.029683807620876, -1.0256998450389687, -1.0216100469025573, -1.0174148352123429, -1.0131146428459923, -1.0087099135134712, -1.004201101711262, -0.9995886726754667, -0.9948731023338009, -0.990054877256487, -0.9851344946060485, -0.9801124620860091, -0.9749892978885083, -0.9697655306408297, -0.9644416993508584, -0.9590183533514605, -0.9534960522438045, -0.947875365839617, -0.9421568741023885, -0.9363411670875301, -0.9304288448814899, -0.9244205175398335, -0.9183168050242962, -0.9121183371388135, -0.905825753464534, -0.8994397032938274, -0.8929608455632857, -0.8863898487857341, -0.8797273909812487, -0.8729741596071983, -0.866130851487308, -0.8591981727397591, -0.8521768387043299, -0.8450675738685838, -0.8378711117931128, -0.830588195035847], \"y\": [0.25042457407909785, 0.23953147157484478, 0.22861365331555056, 0.21767224584262587, 0.2067083781315031, 0.19572318147514797, 0.18471778936732489, 0.1736933373856425, 0.16265096307437682, 0.15159180582709889, 0.14051700676910403, 0.12942770863967026, 0.11832505567414206, 0.107210193485868, 0.09608426894798854, 0.08494843007509877, 0.07380382590479358, 0.06265160637910208, 0.051492922225836284, 0.040328924839850754, 0.02916076616424124, 0.017989598571479037, 0.0068165747445087296, -0.004357152442193858, -0.015530430041575642, -0.026702105152975115, -0.03787102504108148, -0.04903603725487724, -0.06019598974655337, -0.07134973099038291, -0.08249611010153877, -0.09363397695484478, -0.10476218230345342, -0.11587957789742552, -0.1269850166022148, -0.13807735251702977, -0.1491554410930757, -0.1602181392516499, -0.17126430550209248, -0.18229280005956594, -0.19330248496266564, -0.2042922241908377, -0.21526088378159616, -0.22620733194753312, -0.2371304391930967, -0.24802907843114075, -0.25890212509921773, -0.2697484572756194, -0.2805669557951371, -0.29135650436454485, -0.3021159896777795, -0.31284430153081844, -0.32354033293623363, -0.3342029802374138, -0.3448311432224445, -0.3554237252376333, -0.3659796333006657, -0.37649777821338126, -0.38697707467416537, -0.39741644138993, -0.40781480118768987, -0.4181710811257054, -0.4284842126041959, -0.43875313147560063, -0.44897677815438036, -0.4591540977263504, -0.4692840400575315, -0.47936555990250557, -0.4893976170122671, -0.4993791762415625, -0.509309207655697, -0.5191866866368109, -0.5290105939895994, -0.5387799160464813, -0.5484936447721888, -0.5581507778677842, -0.5677503188740773, -0.5772912772744467, -0.5867726685970441, -0.5961935145163747, -0.605552842954245, -0.6148496881800672, -0.624083090910505, -0.6332520984084553, -0.6423557645813587, -0.6513931500788165, -0.6603633223895201, -0.6692653559374683, -0.6780983321774734, -0.6868613396899401, -0.6955534742749075, -0.7041738390453496, -0.7127215445197187, -0.7211957087137263], \"type\": \"scatter\", \"uid\": \"90100ca9-413a-442f-b33b-edc5e63c1b8a\"}, {\"line\": {\"color\": \"rgba(253,174,97, 0.75)\", \"shape\": \"spline\", \"width\": 0.25}, \"mode\": \"lines\", \"x\": [-0.8075250452460742, -0.799780191323057, -0.7919502977376295, -0.7840361970329255, -0.7760387307057208, -0.7679587491169573, -0.7597971114013242, -0.7515546853759092, -0.7432323474479231, -0.7348309825215121, -0.726351483903669, -0.7177947532092471, -0.7091617002650928, -0.7004532430133057, -0.6916703074136344, -0.6828138273450209, -0.6738847445062998, -0.6648840083160725, -0.6558125758117543, -0.6466714115478144, -0.6374614874932154, -0.6281837829280664, -0.6188392843394944, -0.609428985316756, -0.5999538864455882, -0.5904149952018175, -0.5808133258442365, -0.5711498993067596, -0.5614257430898651, -0.5516418911513475, -0.541799383796374, -0.5318992675668722, -0.521942595130251, -0.5119304251674739, -0.5018638222604868, -0.49174385677902704, -0.48157160476680977, -0.4713481478271133, -0.4610745730077745, -0.4507519726856045, -0.4403814444502346, -0.42996409098741556, -0.41950101996176753, -0.4089933438990036, -0.398442180067637, -0.38784865036018334, -0.3772138811738684, -0.3665390032908645, -0.35582515175805235, -0.34507346576633396, -0.33428508852950434, -0.3234611671626917, -0.3126028525603916, -0.3017112992740895, -0.29078766538950057, -0.2798331124034307, -0.2688488051002769, -0.2578359114281776, -0.24679560237482245, -0.23572905184294854], \"y\": [-0.746929247854391, -0.7552162905865144, -0.7634230320820037, -0.7715485997279418, -0.7795921295425281, -0.7875527662669458, -0.7954296634563007, -0.8032219835696223, -0.8109288980589174, -0.8185495874572714, -0.8260832414659787, -0.8335290590407008, -0.8408862484766432, -0.8481540274927326, -0.8553316233147987, -0.8624182727577403, -0.8694132223066771, -0.8763157281970654, -0.8831250564937856, -0.8898404831691786, -0.8964612941800317, -0.9029867855435006, -0.9094162634119661, -0.9157490441468064, -0.9219844543910892, -0.9281218311411698, -0.9341605218171859, -0.9400998843324462, -0.9459392871617042, -0.9516781094083047, -0.957315740870205, -0.9628515821048564, -0.9682850444929422, -0.9736155503009644, -0.9788425327426751, -0.9839654360393396, -0.9889837154788342, -0.9938968374735629, -0.9987042796171941, -1.0034055307402068, -1.0080000909642444, -1.0124874717552634, -1.0168671959754807, -1.0211387979341064, -1.0253018234368594, -1.029355829834263, -1.0333003860687109, -1.037135072720299, -1.0408594820514243, -1.044473218050138, -1.0479758964722528, -1.0513671448822002, -1.05464660269263, -1.0578139212027515, -1.0608687636354104, -1.0638108051728978, -1.0666397329914883, -1.0693552462947014, -1.0719570563452852, -1.0744448864959173], \"type\": \"scatter\", \"uid\": \"8739d626-042f-4d6f-8ef9-6862a6ef6d1c\"}, {\"line\": {\"color\": \"rgba(254,224,139, 0.75)\", \"shape\": \"spline\", \"width\": 0.25}, \"mode\": \"lines\", \"x\": [-0.20186360431337075, -0.18923965103334078, -0.17658996034148206, -0.1639162526504957, -0.1512202516394949, -0.13850368401958466, -0.1257682792990149, -0.11301576954796297, -0.10024788916296712, -0.08746637463103456, -0.07467296429347943, -0.06186939810949302, -0.049057417419509565, -0.03623876470836966, -0.02341518336833766, -0.010588417461995701, 0.002239788514963175, 0.01506768987098618], \"y\": [-1.0813191412592376, -1.0835997205964847, -1.0857329256804336, -1.0877184663859574, -1.0895560726709241, -1.091245494612923, -1.0927865024432564, -1.0941788865781874, -1.0954224576474454, -1.0965170465199818, -1.0974625043269701, -1.098258702482056, -1.098905532698843, -1.0994029070056217, -1.0997507577573327, -1.0999490376447676, -1.099997719701004, -1.0998967973050708], \"type\": \"scatter\", \"uid\": \"eeb4f8c1-dc95-49ef-b3cd-1fb69de487b4\"}, {\"line\": {\"color\": \"rgba(217,239,139, 0.75)\", \"shape\": \"spline\", \"width\": 0.25}, \"mode\": \"lines\", \"x\": [0.04960884818656127, 0.06083066001405812, 0.07204612498092365, 0.08325407290434042, 0.09445333438579631, 0.10564274093308954, 0.11682112508224897, 0.1279873205193415, 0.13914016220216494, 0.1502784864817987, 0.16140113122401883, 0.17250693593055003, 0.1835947418601471, 0.19466339214949788, 0.20571173193392056, 0.21673860846786214, 0.2277428712451708, 0.23872337211913514, 0.24967896542228113, 0.26060850808590186, 0.27151085975932493, 0.2823848829288918, 0.29322944303664095, 0.3040434085986879, 0.31482565132327417, 0.3255750462284935, 0.33629047175966625, 0.34697080990636303, 0.3576149463190476, 0.3682217704253485, 0.37879017554593103, 0.38931905900996405, 0.3998073222701717, 0.410253871017447, 0.4206576152950321, 0.43101746961223825, 0.44133235305770613, 0.4516011894121791, 0.4618229072607952, 0.4719964401048748, 0.4821207264731937, 0.4921947100327376, 0.5022173396989104, 0.5121875697452045, 0.5221043599123073, 0.5319666755166377, 0.5417734875583045, 0.5515237728284633, 0.561216514016079, 0.5708506998140666, 0.5804253250248069, 0.5899393906650292, 0.5993919040700365, 0.6087818789972792, 0.618108335729256, 0.6273703011757368, 0.6365668089752863, 0.6456968995960944, 0.6547596204360895, 0.6637540259223317, 0.6726791776096664, 0.6815341442786421, 0.6903180020326688, 0.699029834394414, 0.7076687324014282, 0.7162337947009771, 0.7247241276440904, 0.7331388453787997, 0.741477069942565, 0.749737931353882, 0.7579205677030473], \"y\": [-1.098880777055274, -1.0983167260869036, -1.0976380805507948, -1.0968449112544758, -1.0959373009544868, -1.0949153443477466, -1.0937791480616723, -1.0925288306430543, -1.0911645225456863, -1.0896863661167557, -1.0880945155819908, -1.0863891370295697, -1.0845704083927914, -1.0826385194315096, -1.0805936717123357, -1.0784360785876068, -1.076165965173126, -1.0737835683246737, -1.0712891366132953, -1.0686829302993666, -1.0659652213054385, -1.063136293187866, -1.060196441107223, -1.0571459717975051, -1.0539852035341275, -1.0507144661007168, -1.0473341007547026, -1.04384446019171, -1.0402459085087645, -1.0365388211662996, -1.0327235849489849, -1.028800597925369, -1.024770269406346, -1.0206330199024525, -1.016389281079989, -1.0120394957159842, -1.0075841176519946, -1.0030236117467553, -0.9983584538276756, -0.9935891306411949, -0.9887161398019961, -0.9837399897410848, -0.9786611996527448, -0.9734802994403644, -0.9681978296611494, -0.9628143414697231, -0.9573303965606189, -0.9517465671096785, -0.9460634357143501, -0.9402815953329038, -0.934401649222564, -0.9284242108765659, -0.9223499039601492, -0.9161793622454844, -0.9099132295455482, -0.903552159646949, -0.8970968162417152, -0.8905478728580465, -0.883906012790041, -0.8771719290264006, -0.8703463241781302, -0.8634299104052275, -0.8564234093423793, -0.849327552023669, -0.8421430788063012, -0.8348707392933582, -0.8275112922555874, -0.8200655055522337, -0.8125341560509248, -0.8049180295466128, -0.7972179206795912], \"type\": \"scatter\", \"uid\": \"13266ad4-34e3-49a9-9617-184134f40dd1\"}, {\"line\": {\"color\": \"rgba(166,217,106, 0.75)\", \"shape\": \"spline\", \"width\": 0.25}, \"mode\": \"lines\", \"x\": [0.7825877996945482, 0.7905203740414039, 0.7983688240645439, 0.8061323145602572, 0.8138100193659176, 0.8214011214479033, 0.8289048129885417, 0.8363202954720745, 0.8436467797696315, 0.8508834862232091, 0.858029644728638, 0.8650844948175344, 0.8720472857382251, 0.8789172765356429, 0.8856937361301739, 0.8923759433954578, 0.898963187235125, 0.9054547666584727, 0.9118499908550588, 0.9181481792682171, 0.9243486616674792, 0.9304507782198964, 0.93645387956026, 0.9423573268602019, 0.9481604918961777, 0.9538627571163177, 0.9594635157061483, 0.9649621716531641, 0.9703581398102545, 0.9756508459579719, 0.9808397268656398, 0.9859242303512885, 0.9909038153404174, 0.9957779519235714, 1.0005461214127362, 1.005207816396532, 1.0097625407942115, 1.0142098099084513, 1.0185491504769302, 1.0227801007226944, 1.0269022104032959, 1.0309150408587076, 1.0348181650580015, 1.0386111676447947, 1.042293644981448, 1.0458652051920205, 1.0493254682039705, 1.0526740657886033, 1.0559106416002553, 1.0590348512142163, 1.062046362163379, 1.0649448539736235, 1.067730018197917, 1.0704015584491402, 1.072959190431626, 1.075402641971414], \"y\": [-0.7730176814079003, -0.764903613683083, -0.7567081476776879, -0.7484321555236136, -0.7400765179220626, -0.7316421240498164, -0.7231298714646153, -0.7145406660096416, -0.7058754217171265, -0.6971350607110778, -0.6883205131091529, -0.6794327169236786, -0.6704726179618334, -0.6614411697249942, -0.6523393333072706, -0.6431680772932273, -0.633928377654815, -0.6246212176475046, -0.6152475877056565, -0.6058084853371222, -0.5963049150170912, -0.5867378880812021, -0.5771084226179152, -0.5674175433601738, -0.5576662815763551, -0.5478556749605289, -0.5379867675220253, -0.5280606094743384, -0.5180782571233642, -0.5080407727549965, -0.4979492245220765, -0.4878046863307276, -0.47760823772607225, -0.4673609637773545, -0.45706395496246505, -0.4467183070519007, -0.43632512099215487, -0.42588550278855847, -0.41540056338758596, -0.4048714185586276, -0.3942991887752564, -0.3836849990959895, -0.37302997904456786, -0.36233526248975023, -0.35160198752465466, -0.3408312963456453, -0.33002433513078744, -0.31918225391786975, -0.30830620648202517, -0.2973973502129488, -0.28645684599173554, -0.2754858580673389, -0.26448555393267853, -0.25345710420039946, -0.2424016824782986, -0.2313204652444375], \"type\": \"scatter\", \"uid\": \"dc51bba6-12e6-4733-b3b9-50344676031d\"}, {\"line\": {\"color\": \"rgba(102,189,99, 0.75)\", \"shape\": \"spline\", \"width\": 0.25}, \"mode\": \"lines\", \"x\": [1.0821379470887018, 1.0838272050669895, 1.0854331579672367, 1.0869556823527629, 1.0883946611993676, 1.089749983904323, 1.0910215462948762, 1.0922092506362555, 1.0933130056391835, 1.0943327264668923, 1.0952683347416456, 1.096119758550762, 1.0968869324521426, 1.097569797479302, 1.0981683011458987, 1.0986823974497706, 1.099112046876471, 1.0994572164023046], \"y\": [-0.19742710925972193, -0.18793240688257565, -0.1784232596531968, -0.16890039846323537, -0.15936455525842014, -0.14981646298230403, -0.14025685551992642, -0.13068646764140945, -0.12110603494547614, -0.11151629380291388, -0.10191798129997828, -0.09231183518173366, -0.08269859379535129, -0.0730789960333615, -0.06345378127685519, -0.05382368933865744, -0.044189460406462044, -0.03455183498594315], \"type\": \"scatter\", \"uid\": \"01694819-36c6-44a3-b6e8-bd78c6994ee9\"}, {\"marker\": {\"color\": \"rgba(26,152,80, 0.75)\", \"size\": 0.5}, \"mode\": \"markers\", \"x\": [0.648254463360541], \"y\": [0.6243125425082673], \"type\": \"scatter\", \"uid\": \"0b9126e3-1a75-45b5-b1ed-7233a3e0c1d9\"}, {\"marker\": {\"color\": \"rgba(26,152,80, 0.75)\", \"size\": 0.5}, \"mode\": \"markers\", \"text\": \"186 V\", \"x\": [0.8797146909137388], \"y\": [0.19000542779232704], \"type\": \"scatter\", \"uid\": \"65c2dfc4-cf66-4b80-80cf-7174881bdcdd\"}, {\"marker\": {\"color\": \"rgba(26,152,80, 0.75)\", \"size\": 0.5}, \"mode\": \"markers\", \"text\": \"138 S\", \"x\": [-0.8829355558919321], \"y\": [-0.17442707399312987], \"type\": \"scatter\", \"uid\": \"bdd92b9c-13e8-48de-8902-5ca1a4bc8527\"}, {\"marker\": {\"color\": \"rgba(26,152,80, 0.75)\", \"size\": 0.5}, \"mode\": \"markers\", \"text\": \"186 V\", \"x\": [0.8167651899532479], \"y\": [0.37801405328457705], \"type\": \"scatter\", \"uid\": \"2c8f039c-22a5-47c8-b9ef-5fce629de24a\"}, {\"marker\": {\"color\": \"rgba(26,152,80, 0.75)\", \"size\": 0.5}, \"mode\": \"markers\", \"text\": \"156 R/Q\", \"x\": [-0.307399788741763], \"y\": [-0.845875504954198], \"type\": \"scatter\", \"uid\": \"3b81d309-cf5c-4662-9180-24ff0222f5a1\"}, {\"marker\": {\"color\": \"rgba(26,152,80, 0.75)\", \"size\": 0.5}, \"mode\": \"markers\", \"text\": \"186 V\", \"x\": [0.3260808502164035], \"y\": [0.8388511662518849], \"type\": \"scatter\", \"uid\": \"13e32583-ec93-40b0-ac7b-925be9e465bf\"}, {\"marker\": {\"color\": \"rgba(26,152,80, 0.75)\", \"size\": 0.5}, \"mode\": \"markers\", \"text\": \"219 F/Y\", \"x\": [0.45369190698436784], \"y\": [-0.7772796495064617], \"type\": \"scatter\", \"uid\": \"190ec158-04ac-4089-9296-69c05f9b6591\"}, {\"marker\": {\"color\": \"rgba(26,152,80, 0.75)\", \"size\": 0.5}, \"mode\": \"markers\", \"text\": \"186 V\", \"x\": [0.899536114518463], \"y\": [0.028892536701135264], \"type\": \"scatter\", \"uid\": \"4bdfef77-9c4d-46df-91bf-95db82e6ecd3\"}, {\"marker\": {\"color\": \"rgba(26,152,80, 0.75)\", \"size\": 0.5}, \"mode\": \"markers\", \"text\": \"225 G\", \"x\": [0.7304974052082653], \"y\": [-0.5257124128114072], \"type\": \"scatter\", \"uid\": \"e1436bac-73ba-46b8-8154-620f433481f0\"}, {\"marker\": {\"color\": \"rgba(26,152,80, 0.75)\", \"size\": 0.5}, \"mode\": \"markers\", \"text\": \"186 V\", \"x\": [0.8958278993697459], \"y\": [0.08655850455494499], \"type\": \"scatter\", \"uid\": \"8d6e715a-37e7-4551-9aa7-e89ca368bb20\"}, {\"marker\": {\"color\": \"rgba(26,152,80, 0.75)\", \"size\": 0.5}, \"mode\": \"markers\", \"text\": \"246 H\", \"x\": [0.8984596737145817], \"y\": [-0.05263282919136453], \"type\": \"scatter\", \"uid\": \"591c8215-bb31-4a2f-ac49-97db6f050f06\"}, {\"marker\": {\"color\": \"rgba(215,48,39, 0.75)\", \"size\": 0.5}, \"mode\": \"markers\", \"x\": [-0.6581774863177644], \"y\": [0.6138423221841496], \"type\": \"scatter\", \"uid\": \"4067a9ea-f051-4f2d-950b-5ec3eca43cde\"}, {\"marker\": {\"color\": \"rgba(215,48,39, 0.75)\", \"size\": 0.5}, \"mode\": \"markers\", \"text\": \"194 P\", \"x\": [0.02006066627234595], \"y\": [0.8997763998175934], \"type\": \"scatter\", \"uid\": \"70a3e7a3-d187-4c19-b9a7-3daf960dc0ab\"}, {\"marker\": {\"color\": \"rgba(215,48,39, 0.75)\", \"size\": 0.5}, \"mode\": \"markers\", \"text\": \"138 S\", \"x\": [-0.8985832811776536], \"y\": [-0.050478577515634754], \"type\": \"scatter\", \"uid\": \"3225ac0a-0df4-41b0-b608-3cebe033cfe9\"}, {\"marker\": {\"color\": \"rgba(215,48,39, 0.75)\", \"size\": 0.5}, \"mode\": \"markers\", \"text\": \"194 P\", \"x\": [-0.21261340248789276], \"y\": [0.8745258950325722], \"type\": \"scatter\", \"uid\": \"c4103ff8-b0cb-423f-8297-1a4a8bdb6622\"}, {\"marker\": {\"color\": \"rgba(215,48,39, 0.75)\", \"size\": 0.5}, \"mode\": \"markers\", \"text\": \"203 I\", \"x\": [-0.06090906523254872], \"y\": [-0.8979365711298861], \"type\": \"scatter\", \"uid\": \"a3d92e8d-c279-4d8f-9361-2b7e36300f53\"}, {\"marker\": {\"color\": \"rgba(215,48,39, 0.75)\", \"size\": 0.5}, \"mode\": \"markers\", \"text\": \"194 P\", \"x\": [0.08133550976223951], \"y\": [0.8963172066025045], \"type\": \"scatter\", \"uid\": \"500f014c-b1d1-43ae-b141-57a4b1f51901\"}, {\"marker\": {\"color\": \"rgba(215,48,39, 0.75)\", \"size\": 0.5}, \"mode\": \"markers\", \"text\": \"219 F/Y\", \"x\": [0.06529610000581483], \"y\": [-0.8976282188768525], \"type\": \"scatter\", \"uid\": \"8c8b5904-fe4f-45c7-b44b-eb912422f00e\"}, {\"marker\": {\"color\": \"rgba(215,48,39, 0.75)\", \"size\": 0.5}, \"mode\": \"markers\", \"text\": \"194 P\", \"x\": [-0.08093176129737223], \"y\": [0.896353752718928], \"type\": \"scatter\", \"uid\": \"f22858b4-174c-4d21-ba41-b9354e5aabda\"}, {\"marker\": {\"color\": \"rgba(215,48,39, 0.75)\", \"size\": 0.5}, \"mode\": \"markers\", \"text\": \"225 G\", \"x\": [0.8092982679967856], \"y\": [-0.3937465090859892], \"type\": \"scatter\", \"uid\": \"42a2b4be-cc42-4e64-ae3a-1e5cf744f797\"}, {\"marker\": {\"color\": \"rgba(244,109,67, 0.75)\", \"size\": 0.5}, \"mode\": \"markers\", \"x\": [-0.7468578569188333], \"y\": [-0.502198508120651], \"type\": \"scatter\", \"uid\": \"3f031200-f48b-461d-9081-4ea3dfecfb6b\"}, {\"marker\": {\"color\": \"rgba(175,175,175,0.5)\", \"size\": 0.5}, \"mode\": \"markers\", \"text\": \"138 S\", \"x\": [-0.8990025378919914], \"y\": [0.042360793946274275], \"type\": \"scatter\", \"uid\": \"7b6b526d-ae3c-410a-96c1-df30a2942150\"}, {\"marker\": {\"color\": \"rgba(175,175,175,0.5)\", \"size\": 0.5}, \"mode\": \"markers\", \"text\": \"156 R/Q\", \"x\": [-0.5240773978811414], \"y\": [-0.7316712930203916], \"type\": \"scatter\", \"uid\": \"62403c6e-1e5d-406d-b5df-75531c36dfa2\"}, {\"marker\": {\"color\": \"rgba(175,175,175,0.5)\", \"size\": 0.5}, \"mode\": \"markers\", \"text\": \"138 S\", \"x\": [-0.8787445412025204], \"y\": [0.19444287414758066], \"type\": \"scatter\", \"uid\": \"debe7061-c1fd-4218-bd80-14dd11e0c976\"}, {\"marker\": {\"color\": \"rgba(175,175,175,0.5)\", \"size\": 0.5}, \"mode\": \"markers\", \"text\": \"203 I\", \"x\": [-0.1431875659019758], \"y\": [-0.8885366176872326], \"type\": \"scatter\", \"uid\": \"622de83a-7254-451d-9952-02434cd275a9\"}, {\"marker\": {\"color\": \"rgba(175,175,175,0.5)\", \"size\": 0.5}, \"mode\": \"markers\", \"text\": \"138 S\", \"x\": [-0.8923542635302305], \"y\": [0.11706352275333214], \"type\": \"scatter\", \"uid\": \"e8d5d769-5a76-4fc9-84b5-5df58631bc65\"}, {\"marker\": {\"color\": \"rgba(175,175,175,0.5)\", \"size\": 0.5}, \"mode\": \"markers\", \"text\": \"219 F/Y\", \"x\": [0.14951659014142246], \"y\": [-0.8874935432286152], \"type\": \"scatter\", \"uid\": \"76d1eab7-9135-4614-9227-ec5ecc6514f4\"}, {\"marker\": {\"color\": \"rgba(175,175,175,0.5)\", \"size\": 0.5}, \"mode\": \"markers\", \"text\": \"138 S\", \"x\": [-0.837897683704071], \"y\": [-0.32852316758997774], \"type\": \"scatter\", \"uid\": \"2b10d04c-c048-4e93-8e30-57e88fded59d\"}, {\"marker\": {\"color\": \"rgba(175,175,175,0.5)\", \"size\": 0.5}, \"mode\": \"markers\", \"text\": \"225 G\", \"x\": [0.8584244700030703], \"y\": [-0.27038385547208243], \"type\": \"scatter\", \"uid\": \"0797a7e1-0597-4c23-bb47-460e38eb5152\"}, {\"marker\": {\"color\": \"rgba(175,175,175,0.5)\", \"size\": 0.5}, \"mode\": \"markers\", \"text\": \"138 S\", \"x\": [-0.8844749150931573], \"y\": [0.1664455603822225], \"type\": \"scatter\", \"uid\": \"aea5fefc-58de-4df0-80e0-e26af50792c1\"}, {\"marker\": {\"color\": \"rgba(175,175,175,0.5)\", \"size\": 0.5}, \"mode\": \"markers\", \"text\": \"246 H\", \"x\": [0.8952717957807845], \"y\": [-0.09213257664609849], \"type\": \"scatter\", \"uid\": \"e4552d47-af64-47cf-9a14-447bb4c4adb4\"}, {\"marker\": {\"color\": \"rgba(253,174,97, 0.75)\", \"size\": 0.5}, \"mode\": \"markers\", \"x\": [-0.6363726791226451], \"y\": [-0.6364195261510028], \"type\": \"scatter\", \"uid\": \"a077cd66-01f4-46fe-a79f-89e056801169\"}, {\"marker\": {\"color\": \"rgba(175,175,175,0.5)\", \"size\": 0.5}, \"mode\": \"markers\", \"text\": \"156 R/Q\", \"x\": [-0.45340053096993593], \"y\": [-0.7774496501485998], \"type\": \"scatter\", \"uid\": \"d4f20602-fd71-4308-b135-8d69f6ce98c4\"}, {\"marker\": {\"color\": \"rgba(175,175,175,0.5)\", \"size\": 0.5}, \"mode\": \"markers\", \"text\": \"219 F/Y\", \"x\": [0.22214524889399312], \"y\": [-0.8721533628862678], \"type\": \"scatter\", \"uid\": \"e124d333-1b07-4761-b15f-7bc43e5f779a\"}, {\"marker\": {\"color\": \"rgba(175,175,175,0.5)\", \"size\": 0.5}, \"mode\": \"markers\", \"text\": \"156 R/Q\", \"x\": [-0.5875119786971552], \"y\": [-0.6817841849789077], \"type\": \"scatter\", \"uid\": \"f1f02f9b-2fcb-4fc8-8f31-7a2169872869\"}, {\"marker\": {\"color\": \"rgba(175,175,175,0.5)\", \"size\": 0.5}, \"mode\": \"markers\", \"text\": \"225 G\", \"x\": [0.7672884215756408], \"y\": [-0.470391834661234], \"type\": \"scatter\", \"uid\": \"dd1a1d26-68c7-4335-9432-d0c7e24a7411\"}, {\"marker\": {\"color\": \"rgba(175,175,175,0.5)\", \"size\": 0.5}, \"mode\": \"markers\", \"text\": \"156 R/Q\", \"x\": [-0.6583139619866449], \"y\": [-0.6136959568495186], \"type\": \"scatter\", \"uid\": \"e00c897c-6406-446e-a28f-52d7f77a5cf2\"}, {\"marker\": {\"color\": \"rgba(175,175,175,0.5)\", \"size\": 0.5}, \"mode\": \"markers\", \"text\": \"246 H\", \"x\": [0.8859276671504145], \"y\": [-0.15853128580007322], \"type\": \"scatter\", \"uid\": \"bb1b2603-f14e-4d22-b8a8-3b44c440fe80\"}, {\"marker\": {\"color\": \"rgba(175,175,175,0.5)\", \"size\": 0.5}, \"mode\": \"markers\", \"text\": \"203 I\", \"x\": [-0.16202794592413614], \"y\": [-0.8852948349220192], \"type\": \"scatter\", \"uid\": \"a7cdb1b2-16f3-497b-b38f-872dac747414\"}, {\"marker\": {\"color\": \"rgba(175,175,175,0.5)\", \"size\": 0.5}, \"mode\": \"markers\", \"text\": \"219 F/Y\", \"x\": [0.04412095050238301], \"y\": [-0.898917872626174], \"type\": \"scatter\", \"uid\": \"61b480c9-af3e-4f15-8fcd-e8a02323c18e\"}, {\"marker\": {\"color\": \"rgba(175,175,175,0.5)\", \"size\": 0.5}, \"mode\": \"markers\", \"text\": \"203 I\", \"x\": [-0.15575552303981452], \"y\": [-0.8864198875491196], \"type\": \"scatter\", \"uid\": \"f0c254a2-615b-479f-aed7-f93769d4ebf5\"}, {\"marker\": {\"color\": \"rgba(175,175,175,0.5)\", \"size\": 0.5}, \"mode\": \"markers\", \"text\": \"225 G\", \"x\": [0.6427521171996072], \"y\": [-0.6299759644902514], \"type\": \"scatter\", \"uid\": \"365c6da4-cbf7-48df-8daa-b319a2d442aa\"}, {\"marker\": {\"color\": \"rgba(217,239,139, 0.75)\", \"size\": 0.5}, \"mode\": \"markers\", \"x\": [0.05118263883397186], \"y\": [-0.8985434533076245], \"type\": \"scatter\", \"uid\": \"bffe3e1d-dad1-4d4e-8604-2d66ed0e6b9f\"}, {\"marker\": {\"color\": \"rgba(175,175,175,0.5)\", \"size\": 0.5}, \"mode\": \"markers\", \"text\": \"219 F/Y\", \"x\": [0.09698712859029934], \"y\": [-0.8947589043355807], \"type\": \"scatter\", \"uid\": \"45ae11b1-6ae6-471a-bb63-40d05876b26c\"}, {\"marker\": {\"color\": \"rgba(175,175,175,0.5)\", \"size\": 0.5}, \"mode\": \"markers\", \"text\": \"225 G\", \"x\": [0.7008289237569945], \"y\": [-0.5646581440354977], \"type\": \"scatter\", \"uid\": \"df7b7fe5-ab71-4739-91b5-6dafad7d12b6\"}, {\"marker\": {\"color\": \"rgba(166,217,106, 0.75)\", \"size\": 0.5}, \"mode\": \"markers\", \"x\": [0.6760584364433856], \"y\": [-0.5940917357729569], \"type\": \"scatter\", \"uid\": \"636244ef-bdf2-4d32-945d-08ff438a9c6a\"}, {\"marker\": {\"color\": \"rgba(175,175,175,0.5)\", \"size\": 0.5}, \"mode\": \"markers\", \"text\": \"225 G\", \"x\": [0.6548708215938452], \"y\": [-0.617368777170503], \"type\": \"scatter\", \"uid\": \"c2193415-2e54-498f-b453-933af0b03234\"}, {\"marker\": {\"color\": \"rgba(175,175,175,0.5)\", \"size\": 0.5}, \"mode\": \"markers\", \"text\": \"246 H\", \"x\": [0.8884854432255409], \"y\": [-0.1435047636014716], \"type\": \"scatter\", \"uid\": \"28aa0260-decb-4641-8a3f-62528fb947ee\"}, {\"marker\": {\"color\": \"rgba(102,189,99, 0.75)\", \"size\": 0.5}, \"mode\": \"markers\", \"x\": [0.8920475166558368], \"y\": [-0.11937850739624171], \"type\": \"scatter\", \"uid\": \"f66e4e2d-b441-4383-835a-7045dfabab36\"}], {\"annotations\": [{\"align\": \"left\", \"showarrow\": false, \"text\": \"186 V\", \"valign\": \"bottom\", \"x\": 0.9034127811900292, \"y\": 0.7898388106332178}, {\"align\": \"left\", \"showarrow\": false, \"text\": \"194 P\", \"valign\": \"bottom\", \"x\": -0.6811198839387574, \"y\": 0.9879654364922152}, {\"align\": \"left\", \"showarrow\": false, \"text\": \"138 S\", \"valign\": \"bottom\", \"x\": -1.1662882966709676, \"y\": -0.2824386819264193}, {\"align\": \"left\", \"showarrow\": false, \"text\": \"156 R/Q\", \"valign\": \"bottom\", \"x\": -0.6017911539832881, \"y\": -1.038194301172696}, {\"align\": \"left\", \"showarrow\": false, \"text\": \"203 I\", \"valign\": \"bottom\", \"x\": -0.10936133363232775, \"y\": -1.1950063174335768}, {\"align\": \"left\", \"showarrow\": false, \"text\": \"219 F/Y\", \"valign\": \"bottom\", \"x\": 0.47020087594062343, \"y\": -1.104043086235619}, {\"align\": \"left\", \"showarrow\": false, \"text\": \"225 G\", \"valign\": \"bottom\", \"x\": 1.0526860054398153, \"y\": -0.576066119426551}, {\"align\": \"left\", \"showarrow\": false, \"text\": \"246 H\", \"valign\": \"bottom\", \"x\": 1.1927050970609272, \"y\": -0.13211567448597394}], \"height\": 800, \"hovermode\": false, \"margin\": {\"b\": 25, \"l\": 25, \"r\": 25, \"t\": 25}, \"shapes\": [{\"fillcolor\": \"rgba(175,175,175,0.5)\", \"layer\": \"below\", \"line\": {\"color\": \"rgba(175,175,175,0.5)\", \"width\": 0.5}, \"path\": \"M 0.8419425508321818, 0.5395671794116085 Q 0.3601413685336339, 0.3468403013934818 0.5708545417708198, 0.8210512116425062L 0.5708545417708198, 0.8210512116425062 L 0.6487023093849854, 0.7610422549363384 L 0.7202827370672678, 0.6936806027869636 L 0.7849042612664601, 0.6196170596794061 L 0.8419425508321818, 0.5395671794116085 \", \"type\": \"path\"}, {\"fillcolor\": \"rgba(26,152,80, 0.75)\", \"layer\": \"below\", \"line\": {\"color\": \"rgba(26,152,80, 0.75)\", \"width\": 0.5}, \"path\": \"M 0.9917637692674677, 0.12808054484731504 Q -0.04040308570722415, 0.19587646787027457 -0.9614971069861514, -0.274815052821459L -0.9614971069861514, -0.274815052821459 L -0.9810395065465912, -0.19380785999236652 L -0.993769498442892, -0.11145485168696306 M -0.993769498442892, -0.11145485168696306 Q -0.040585068787509115, 0.19583884239729654 0.9562181344897686, 0.29265488082877894L 0.9562181344897686, 0.29265488082877894 L 0.9774607676819319, 0.2111171419914745 L 0.9917637692674677, 0.12808054484731504 \", \"type\": \"path\"}, {\"fillcolor\": \"rgba(26,152,80, 0.75)\", \"layer\": \"below\", \"line\": {\"color\": \"rgba(26,152,80, 0.75)\", \"width\": 0.5}, \"path\": \"M 0.9562181344897686, 0.29265488082877894 Q -0.14703327675401465, 0.1355773414954628 -0.214299138039045, -0.9767680786326518L -0.214299138039045, -0.9767680786326518 L -0.3415553208241811, -0.9398616721713311 L -0.46281508363219914, -0.8864548484624135 M -0.46281508363219914, -0.8864548484624135 Q -0.14755597108783544, 0.1350082789917932 0.8419425508321818, 0.5395671794116085L 0.8419425508321818, 0.5395671794116085 L 0.9075168777258309, 0.42001561476064114 L 0.9562181344897686, 0.29265488082877894 \", \"type\": \"path\"}, {\"fillcolor\": \"rgba(26,152,80, 0.75)\", \"layer\": \"below\", \"line\": {\"color\": \"rgba(26,152,80, 0.75)\", \"width\": 0.5}, \"path\": \"M 0.5708545417708198, 0.8210512116425062 Q -0.1994182055194059, -0.015243992502622131 0.6890186979118617, -0.7247435642541731L 0.6890186979118617, -0.7247435642541731 L 0.6005894250178884, -0.799557591769775 L 0.5041021188715198, -0.8636440550071796 L 0.40085133760011327, -0.9161431138988056 L 0.2922223840314641, -0.9563503951329594 M 0.2922223840314641, -0.9563503951329594 Q -0.19933938272930263, -0.01624224409066066 0.13354812946875513, 0.9910423286194171L 0.13354812946875513, 0.9910423286194171 L 0.22668031317457304, 0.9739692169771473 L 0.3177802863873488, 0.9481643789889886 L 0.4060313292125049, 0.9138591574733639 L 0.4906422626864182, 0.871361101992711 L 0.5708545417708198, 0.8210512116425062 \", \"type\": \"path\"}, {\"fillcolor\": \"rgba(26,152,80, 0.75)\", \"layer\": \"below\", \"line\": {\"color\": \"rgba(26,152,80, 0.75)\", \"width\": 0.5}, \"path\": \"M 1.0, 0.0 Q -0.19128138812532455, 0.058407452922113905 0.8294284721575524, -0.5586129335903245L 0.8294284721575524, -0.5586129335903245 L 0.8116637835647392, -0.5841249031237858 L 0.7931146667693103, -0.6090723482111184 M 0.7931146667693103, -0.6090723482111184 Q -0.1913408286303365, 0.05821243251279067 0.9979388180814162, 0.06417254371042298L 0.9979388180814162, 0.06417254371042298 L 0.9994845716871812, 0.03210281855681696 L 1.0, 0.0 \", \"type\": \"path\"}, {\"fillcolor\": \"rgba(26,152,80, 0.75)\", \"layer\": \"below\", \"line\": {\"color\": \"rgba(26,152,80, 0.75)\", \"width\": 0.5}, \"path\": \"M 0.9979388180814162, 0.06417254371042298 Q -0.1999731033827259, -0.0032799273591999248 0.9995065603657315, -0.03141075907812924L 0.9995065603657315, -0.03141075907812924 L 0.9982885263495352, -0.05848092132373836 L 0.9963374717387062, -0.08550814235687042 M 0.9963374717387062, -0.08550814235687042 Q -0.19995416154188683, -0.004281738207905531 0.9917637692674677, 0.12808054484731504L 0.9917637692674677, 0.12808054484731504 L 0.995364332633051, 0.0961761161721611 L 0.9979388180814162, 0.06417254371042298 \", \"type\": \"path\"}, {\"fillcolor\": \"rgba(175,175,175,0.5)\", \"layer\": \"below\", \"line\": {\"color\": \"rgba(175,175,175,0.5)\", \"width\": 0.5}, \"path\": \"M -0.3247700433623556, 0.9457930106182926 Q -0.36565415906542464, 0.34102351232452754 -0.9661095744046778, 0.25813231150635196L -0.9661095744046778, 0.25813231150635196 L -0.9393442581265934, 0.3429757494701337 L -0.905144228254745, 0.4251046060172977 L -0.8637801708818998, 0.5038688484032684 L -0.8155794738820801, 0.5786450741017585 L -0.7609236357039248, 0.6488414449055492 L -0.700245245890156, 0.713902371202278 L -0.6340245612217076, 0.773312909350168 L -0.5627857045856185, 0.8266028373493941 L -0.48709251665186065, 0.8733503765509905 L -0.40754409319221097, 0.9131855299467565 L -0.3247700433623556, 0.9457930106182926 \", \"type\": \"path\"}, {\"fillcolor\": \"rgba(215,48,39, 0.75)\", \"layer\": \"below\", \"line\": {\"color\": \"rgba(215,48,39, 0.75)\", \"width\": 0.5}, \"path\": \"M 0.07837964551772443, 0.996923583414755 Q -0.14375122045523275, 0.1390524599481472 -0.993769498442892, -0.11145485168696306L -0.993769498442892, -0.11145485168696306 L -0.9984258679751706, -0.05608730835070528 L -0.9999998506089283, -0.0005466096606262641 M -0.9999998506089283, -0.0005466096606262641 Q -0.14383441740704828, 0.13896640014469328 -0.03387069057235297, 0.9994262235503689L -0.03387069057235297, 0.9994262235503689 L 0.0222896291914955, 0.9997515553528815 L 0.07837964551772443, 0.996923583414755 \", \"type\": \"path\"}, {\"fillcolor\": \"rgba(215,48,39, 0.75)\", \"layer\": \"below\", \"line\": {\"color\": \"rgba(215,48,39, 0.75)\", \"width\": 0.5}, \"path\": \"M -0.14569403914950962, 0.9893296957820993 Q -0.19936103801311078, -0.015974245595176028 0.01369789988271382, -0.9999061793682461L 0.01369789988271382, -0.9999061793682461 L -0.06767673914727636, -0.9977073012554291 L -0.1486029069672014, -0.988896949151375 M -0.1486029069672014, -0.988896949151375 Q -0.19917598225030214, -0.018136374903142245 -0.3247700433623556, 0.9457930106182926L -0.3247700433623556, 0.9457930106182926 L -0.2362371138754364, 0.9716954389250801 L -0.14569403914950962, 0.9893296957820993 \", \"type\": \"path\"}, {\"fillcolor\": \"rgba(215,48,39, 0.75)\", \"layer\": \"below\", \"line\": {\"color\": \"rgba(215,48,39, 0.75)\", \"width\": 0.5}, \"path\": \"M 0.10235283970810104, 0.9947481571753163 Q -0.1999917814250353, 0.0018131085022440039 0.08430089389586815, -0.9964403440690053L 0.08430089389586815, -0.9964403440690053 L 0.07255122222868314, -0.9973646876409472 L 0.06079147252959756, -0.9981504880866828 M 0.06079147252959756, -0.9981504880866828 Q -0.19999222862091082, 0.001763091387688937 0.07837964551772443, 0.996923583414755L 0.07837964551772443, 0.996923583414755 L 0.09037278862471056, 0.9959080073361161 L 0.10235283970810104, 0.9947481571753163 \", \"type\": \"path\"}, {\"fillcolor\": \"rgba(215,48,39, 0.75)\", \"layer\": \"below\", \"line\": {\"color\": \"rgba(215,48,39, 0.75)\", \"width\": 0.5}, \"path\": \"M -0.03387069057235297, 0.9994262235503689 Q -0.16471245899735043, -0.11344516671522926 0.9216803140366756, -0.3879502528897938L 0.9216803140366756, -0.3879502528897938 L 0.8992202977742062, -0.43749612120665465 L 0.8740992679839563, -0.4857473311402872 M 0.8740992679839563, -0.4857473311402872 Q -0.16451220054292479, -0.11373537652166324 -0.14569403914950962, 0.9893296957820993L -0.14569403914950962, 0.9893296957820993 L -0.08992417921930247, 0.9959486141321422 L -0.03387069057235297, 0.9994262235503689 \", \"type\": \"path\"}, {\"fillcolor\": \"rgba(175,175,175,0.5)\", \"layer\": \"below\", \"line\": {\"color\": \"rgba(175,175,175,0.5)\", \"width\": 0.5}, \"path\": \"M -0.8920552758338827, -0.45192630467470624 Q -0.41492103162157407, -0.27899917117813944 -0.7550801773053154, -0.6556324624670239L -0.7550801773053154, -0.6556324624670239 L -0.8298420632431481, -0.5579983423562789 L -0.8920552758338827, -0.45192630467470624 \", \"type\": \"path\"}, {\"fillcolor\": \"rgba(175,175,175,0.5)\", \"layer\": \"below\", \"line\": {\"color\": \"rgba(175,175,175,0.5)\", \"width\": 0.5}, \"path\": \"M -0.9955177448387711, 0.09457494230041796 Q -0.1800322399781411, -0.08711138024651556 -0.543638507619516, -0.839319470185951L -0.543638507619516, -0.839319470185951 L -0.5823082198679349, -0.8129681033559907 L -0.6197028278283325, -0.7848365467927497 M -0.6197028278283325, -0.7848365467927497 Q -0.17995964747752613, -0.08726124729663526 -0.9999998506089283, -0.0005466096606262641L -0.9999998506089283, -0.0005466096606262641 L -0.9988917087688792, 0.04706754882919364 L -0.9955177448387711, 0.09457494230041796 \", \"type\": \"path\"}, {\"fillcolor\": \"rgba(175,175,175,0.5)\", \"layer\": \"below\", \"line\": {\"color\": \"rgba(175,175,175,0.5)\", \"width\": 0.5}, \"path\": \"M -0.9737409894966268, 0.22765870370827074 Q -0.16551928825470363, -0.11226471046440341 -0.1486029069672014, -0.988896949151375L -0.1486029069672014, -0.988896949151375 L -0.15909729544663975, -0.9872629085413696 L -0.1695737373886856, -0.9855175024260264 M -0.1695737373886856, -0.9855175024260264 Q -0.1653746668702407, -0.11247764025599456 -0.9788862103089907, 0.2044059374551103L -0.9788862103089907, 0.2044059374551103 L -0.976382823558356, 0.21604763794175627 L -0.9737409894966268, 0.22765870370827074 \", \"type\": \"path\"}, {\"fillcolor\": \"rgba(175,175,175,0.5)\", \"layer\": \"below\", \"line\": {\"color\": \"rgba(175,175,175,0.5)\", \"width\": 0.5}, \"path\": \"M -0.9862265254218918, 0.16540024351331079 Q -0.1388459706601844, -0.1439506736053403 0.2008852328887167, -0.9796147830689602L 0.2008852328887167, -0.9796147830689602 L 0.1661295446015805, -0.9861039369206835 L 0.1311661832553338, -0.9913603947960743 M 0.1311661832553338, -0.9913603947960743 Q -0.13879334200049367, -0.1440014174108505 -0.9955177448387711, 0.09457494230041796L -0.9955177448387711, 0.09457494230041796 L -0.9915047372558117, 0.1300705808370357 L -0.9862265254218918, 0.16540024351331079 \", \"type\": \"path\"}, {\"fillcolor\": \"rgba(175,175,175,0.5)\", \"layer\": \"below\", \"line\": {\"color\": \"rgba(175,175,175,0.5)\", \"width\": 0.5}, \"path\": \"M -0.9614971069861514, -0.274815052821459 Q 0.006651213183099563, -0.19988937281204563 0.9776387654285581, -0.2102913320403977L 0.9776387654285581, -0.2102913320403977 L 0.9538049666700781, -0.3004265060800916 L 0.9216803140366756, -0.3879502528897938 M 0.9216803140366756, -0.3879502528897938 Q 0.007050232684460037, -0.19987569691959794 -0.8920552758338827, -0.45192630467470624L -0.8920552758338827, -0.45192630467470624 L -0.9309974263378566, -0.36502574176664193 L -0.9614971069861514, -0.274815052821459 \", \"type\": \"path\"}, {\"fillcolor\": \"rgba(175,175,175,0.5)\", \"layer\": \"below\", \"line\": {\"color\": \"rgba(175,175,175,0.5)\", \"width\": 0.5}, \"path\": \"M -0.9788862103089907, 0.2044059374551103 Q -0.02904388407198933, -0.19787989488074034 0.9963374717387062, -0.08550814235687042L 0.9963374717387062, -0.08550814235687042 L 0.9947464397564273, -0.10236952960677609 L 0.9928700769308552, -0.11920155340983545 M 0.9928700769308552, -0.11920155340983545 Q -0.02846793276452222, -0.1979635744376087 -0.9862265254218918, 0.16540024351331079L -0.9862265254218918, 0.16540024351331079 L -0.9827499056590637, 0.18493951153580276 L -0.9788862103089907, 0.2044059374551103 \", \"type\": \"path\"}, {\"fillcolor\": \"rgba(175,175,175,0.5)\", \"layer\": \"below\", \"line\": {\"color\": \"rgba(175,175,175,0.5)\", \"width\": 0.5}, \"path\": \"M -0.7287951130410961, -0.6847318330612473 Q -0.35354037729035837, -0.3535664034172238 -0.6846781824090729, -0.7288455162330412L -0.6846781824090729, -0.7288455162330412 L -0.7070807545807167, -0.7071328068344476 L -0.7287951130410961, -0.6847318330612473 \", \"type\": \"path\"}, {\"fillcolor\": \"rgba(175,175,175,0.5)\", \"layer\": \"below\", \"line\": {\"color\": \"rgba(175,175,175,0.5)\", \"width\": 0.5}, \"path\": \"M -0.543638507619516, -0.839319470185951 Q -0.02773198597179706, -0.19806801093074078 0.2922223840314641, -0.9563503951329594L 0.2922223840314641, -0.9563503951329594 L 0.24682805432665902, -0.9690592920958531 L 0.2008852328887167, -0.9796147830689602 M 0.2008852328887167, -0.9796147830689602 Q -0.02780036332971191, -0.19805842521522787 -0.46281508363219914, -0.8864548484624135L -0.46281508363219914, -0.8864548484624135 L -0.5037783677443732, -0.8638329446095553 L -0.543638507619516, -0.839319470185951 \", \"type\": \"path\"}, {\"fillcolor\": \"rgba(175,175,175,0.5)\", \"layer\": \"below\", \"line\": {\"color\": \"rgba(175,175,175,0.5)\", \"width\": 0.5}, \"path\": \"M -0.6846781824090729, -0.7288455162330412 Q 0.03081835090587387, -0.19761130850091152 0.8740992679839563, -0.4857473311402872L 0.8740992679839563, -0.4857473311402872 L 0.8525426906396009, -0.5226575940680378 L 0.8294284721575524, -0.5586129335903245 M 0.8294284721575524, -0.5586129335903245 Q 0.03084833367617551, -0.1976066302263245 -0.6197028278283325, -0.7848365467927497L -0.6197028278283325, -0.7848365467927497 L -0.6527910874412836, -0.7575379833098974 L -0.6846781824090729, -0.7288455162330412 \", \"type\": \"path\"}, {\"fillcolor\": \"rgba(175,175,175,0.5)\", \"layer\": \"below\", \"line\": {\"color\": \"rgba(175,175,175,0.5)\", \"width\": 0.5}, \"path\": \"M -0.734113677496431, -0.6790265889585372 Q 0.05649567283976248, -0.19185473397959854 0.984955084771773, -0.1728105349283705L 0.984955084771773, -0.1728105349283705 L 0.9843640746115716, -0.17614587311119245 L 0.9837617700806379, -0.17947919023611084 M 0.9837617700806379, -0.17947919023611084 Q 0.056594012870948174, -0.19182574829037669 -0.7287951130410961, -0.6847318330612473L -0.7287951130410961, -0.6847318330612473 L -0.7314599577629388, -0.6818843964994651 L -0.734113677496431, -0.6790265889585372 \", \"type\": \"path\"}, {\"fillcolor\": \"rgba(175,175,175,0.5)\", \"layer\": \"below\", \"line\": {\"color\": \"rgba(175,175,175,0.5)\", \"width\": 0.5}, \"path\": \"M -0.18351236755760975, -0.9830174011447614 Q -0.013149178441964907, -0.1995672796484969 0.05294684712461983, -0.9985973319509531L 0.05294684712461983, -0.9985973319509531 L 0.04902327833598112, -0.9987976362513044 L 0.04509895289687388, -0.9989825245957036 M 0.04509895289687388, -0.9989825245957036 Q -0.013226686128193214, -0.1995621576704017 -0.17654747804242552, -0.984292125335187L -0.17654747804242552, -0.984292125335187 L -0.18003105102681793, -0.9836609276911324 L -0.18351236755760975, -0.9830174011447614 \", \"type\": \"path\"}, {\"fillcolor\": \"rgba(175,175,175,0.5)\", \"layer\": \"below\", \"line\": {\"color\": \"rgba(175,175,175,0.5)\", \"width\": 0.5}, \"path\": \"M -0.17654747804242552, -0.984292125335187 Q 0.06118737096511512, -0.1904103611528989 0.7168837986469401, -0.6971926700973938L 0.7168837986469401, -0.6971926700973938 L 0.7141690191106747, -0.6999732938780571 L 0.711443454267771, -0.7027433467344547 M 0.711443454267771, -0.7027433467344547 Q 0.06112151938537699, -0.19043150965116826 -0.1695737373886856, -0.9855175024260264L -0.1695737373886856, -0.9855175024260264 L -0.17306169226646057, -0.9849109861656884 L -0.17654747804242552, -0.984292125335187 \", \"type\": \"path\"}, {\"fillcolor\": \"rgba(175,175,175,0.5)\", \"layer\": \"below\", \"line\": {\"color\": \"rgba(175,175,175,0.5)\", \"width\": 0.5}, \"path\": \"M 0.05294684712461983, -0.9985973319509531 Q 0.028434799352206587, -0.4991908073931247 0.06079147252959756, -0.9981504880866828L 0.06079147252959756, -0.9981504880866828 L 0.056869598704413174, -0.9983816147862494 L 0.05294684712461983, -0.9985973319509531 \", \"type\": \"path\"}, {\"fillcolor\": \"rgba(175,175,175,0.5)\", \"layer\": \"below\", \"line\": {\"color\": \"rgba(175,175,175,0.5)\", \"width\": 0.5}, \"path\": \"M 0.08430089389586815, -0.9964403440690053 Q 0.09591204461965903, -0.17550179399902596 0.7931146667693103, -0.6090723482111184L 0.7931146667693103, -0.6090723482111184 L 0.7786988041744383, -0.6273979378172198 L 0.7638596063908597, -0.6453824460925482 M 0.7638596063908597, -0.6453824460925482 Q 0.0959568603655253, -0.1754772946816513 0.1311661832553338, -0.9913603947960743L 0.1311661832553338, -0.9913603947960743 L 0.1077634762114437, -0.9941765603728674 L 0.08430089389586815, -0.9964403440690053 \", \"type\": \"path\"}, {\"fillcolor\": \"rgba(175,175,175,0.5)\", \"layer\": \"below\", \"line\": {\"color\": \"rgba(175,175,175,0.5)\", \"width\": 0.5}, \"path\": \"M 0.7382088785891114, -0.6745721989321873 Q 0.3755880202463253, -0.3300509643183094 0.7638596063908597, -0.6453824460925482L 0.7638596063908597, -0.6453824460925482 L 0.7511760404926506, -0.6601019286366188 L 0.7382088785891114, -0.6745721989321873 \", \"type\": \"path\"}, {\"fillcolor\": \"rgba(175,175,175,0.5)\", \"layer\": \"below\", \"line\": {\"color\": \"rgba(175,175,175,0.5)\", \"width\": 0.5}, \"path\": \"M 0.7168837986469401, -0.6971926700973938 Q 0.17929662855283243, -0.08861556855083447 0.9892757822219598, -0.14605966831788175L 0.9892757822219598, -0.14605966831788175 L 0.9872060480283787, -0.15944973733496845 L 0.984955084771773, -0.1728105349283705 M 0.984955084771773, -0.1728105349283705 Q 0.17947308466980422, -0.0882576448762672 0.7382088785891114, -0.6745721989321873L 0.7382088785891114, -0.6745721989321873 L 0.7276342462153836, -0.6859653079672255 L 0.7168837986469401, -0.6971926700973938 \", \"type\": \"path\"}, {\"fillcolor\": \"rgba(175,175,175,0.5)\", \"layer\": \"below\", \"line\": {\"color\": \"rgba(175,175,175,0.5)\", \"width\": 0.5}, \"path\": \"M 0.9892757822219598, -0.14605966831788175 Q 0.4955819536976871, -0.06632139299791207 0.9928700769308552, -0.11920155340983545L 0.9928700769308552, -0.11920155340983545 L 0.9911639073953742, -0.13264278599582413 L 0.9892757822219598, -0.14605966831788175 \", \"type\": \"path\"}, {\"fillcolor\": \"rgba(26,152,80, 0.75)\", \"layer\": \"below\", \"line\": {\"color\": \"rgba(26,152,80, 0.75)\", \"width\": 0.45}, \"path\": \"M 1.1, 0.0 L 1.0999436876109558, 0.01113032276317038 L 1.0997747562094322, 0.022259505935312347 L 1.0994932230916672, 0.033386410042075834 L 1.0990991170827562, 0.04450989584245554 L 1.0985924785337005, 0.05562882444543341 L 1.0979733593172771, 0.06674205742658539 L 1.097241822822726, 0.07784845694464021 L 1.0963979439492615, 0.08894688585797875 L 1.0954418090984022, 0.10003620784106142 L 1.0943735161651258, 0.11111528750077235 L 1.0931931745278456, 0.1221829904926678 L 1.0919009050372117, 0.1332381836371174 L 1.0904968400037371, 0.144279735035326 L 1.0889811231842519, 0.15530651418522462 L 1.0873539097671836, 0.16631739209721788 L 1.0856153663566686, 0.17731124140977733 L 1.0837656709554941, 0.1882869365048673 L 1.0818050129468728, 0.19924335362319287 L 1.079733593075053, 0.21017937097925712 L 1.077551623424765, 0.22109386887621651 L 1.0752593273995068, 0.23198572982052235 L 1.0728569396986705, 0.24285383863633656 L 1.0703447062935116, 0.2536970825797104 L 1.0677228844019668, 0.26451435145251395 L 1.0649917424623168, 0.27530453771610525 L 1.062151560105702, 0.28606653660472636 L 1.0592026281274933, 0.2967992462386169 L 1.0561452484575176, 0.3075015677368306 L 1.0529797341291447, 0.3181724053297459 L 1.049706409247237, 0.3288106664712574 L 1.046325608954966, 0.3394152619506374 L 1.0428376793994976, 0.3499851060040565 L 1.0392429776965522, 0.3605191164257502 L 1.0355418718938403, 0.37101621467882184 L 1.0317347409333795, 0.3814753260056703 L 1.027821974612697, 0.39189537953803 L 1.0238039735449187, 0.4022753084066129 L 1.0196811491177524, 0.41261404985034145 L 1.0154539234513675, 0.4229105453251603 L 1.0111227293551752, 0.43316374061241675 L 1.0066880102835158, 0.44337258592679823 L 1.002150220290254, 0.4535360360238156 L 0.9975098239822905, 0.4636530503068216 L 0.9927672964719932, 0.47372259293355407 L 0.9879231233285516, 0.4837436329221913 L 0.9829778005282612, 0.4937151442569107 L 0.9779318344037431, 0.5036361059929383 L 0.9727857415921017, 0.5135055023610797 L 0.967540048982029, 0.5233223228717203 L 0.9621952936598575, 0.5330855624182864 L 0.9567520228545713, 0.5427942213801527 L 0.951210793881776, 0.552447305724991 L 0.9455721740866385, 0.5620438271105448 L 0.9398367407857979, 0.571582802985822 L 0.934005081208257, 0.581063256691694 L 0.9280777924352571, 0.590484217560893 L 0.9220554813391464, 0.5998447210173941 L 0.9159387645212436, 0.609143808675175 L 0.909728268248707, 0.6183805284363413 L 0.9034246283904139, 0.627553934588608 L 0.897028490351855, 0.6366630879021278 L 0.890540509009055, 0.6457070557256545 L 0.8839613486415222, 0.6546849120820346 L 0.8772916828642352, 0.6635957377630137 L 0.870532194558674, 0.6724386204233508 L 0.8636835758029026, 0.6812126546742302 L 0.8567465278007098, 0.6899169421759607 L 0.8497217608098154, 0.6985505917299527 L 0.8426099940691497, 0.7071127193699656 L 0.8354119557252139, 0.7156024484526122 L 0.828128382757527, 0.7240189097471165 L 0.8207600209031699, 0.7323612415243096 L 0.8133076245804328, 0.7406285896448598 L 0.8057719568115719, 0.7488201076467235 L 0.7981537891446873, 0.7569349568318128 L 0.7904539015747273, 0.764972306351865 L 0.7826730824636271, 0.7729313332935109 L 0.7748121284595921, 0.7808112227625297 L 0.7668718444155314, 0.7886111679672824 L 0.7588530433066528, 0.7963303703013164 L 0.7507565461472246, 0.8039680394251317 L 0.7425831819065163, 0.8115233933471012 L 0.734333787423922, 0.8189956585035346 L 0.7260092073232807, 0.8263840698378823 L 0.7176102939263984, 0.8336878708790648 L 0.709137907165782, 0.8409063138189266 L 0.7005929144965939, 0.8480386595888 L 0.691976190807837, 0.8550841779351762 L 0.683288618332778, 0.8620421474944735 L 0.6745310865586188, 0.8689118558668936 L 0.6657044921354255, 0.8756925996893633 L 0.6568097387843236, 0.8823836847075476 L 0.6478477372049699, 0.8889844258469327 L 0.6388194049823089, 0.8954941472829674 L 0.6297256664926254, 0.9019121825102592 L 0.6205674528089006, 0.9082378744108138 L 0.6113457016054833, 0.9144705753213165 L 0.6020613570620854, 0.9206096470994427 L 0.5927153697671103, 0.9266544611891955 L 0.5833086966203261, 0.9326043986852606 L 0.5738423007348932, 0.9384588503963743 L 0.5643171513387526, 0.9442172169076963 L 0.5547342236753929, 0.9498789086421802 L 0.5450944989039972, 0.9554433459209397 L 0.5353989639989867, 0.9609099590225986 L 0.5256486116489675, 0.9662781882416229 L 0.5158444401550942, 0.9715474839456266 L 0.5059874533288566, 0.9767173066316468 L 0.4960786603893039, 0.9817871269813807 L 0.4861190758597139, 0.9867564259153816 L 0.47610971946372105, 0.991624694646204 L 0.46605161602090933, 0.9963914347304975 L 0.45594579534188673, 1.00105615812004 L 0.4457932921228451, 1.0056183872117077 L 0.43559514583962283, 1.0100776548963737 L 0.42535240064127616, 1.0144335046067354 L 0.41506610524317367, 1.0186854903640588 L 0.4047373128196208, 1.022833176823842 L 0.39436708089603134, 1.0268761393203873 L 0.3839564712406495, 1.0308139639102822 L 0.37350654975584135, 1.0346462474147806 L 0.3630183863689594, 1.0383725974610833 L 0.3524930549227987, 1.0419926325225113 L 0.3419316330656483, 1.0455059819575683 L 0.3313352021409567, 1.0489122860478906 L 0.32070484707661573, 1.0522111960350757 L 0.3100416562738804, 1.055402374156392 L 0.29934672149593033, 1.0584854936793597 L 0.2886211377560893, 1.0614602389352041 L 0.27786600320571075, 1.0643263053511758 L 0.2670824190217416, 1.0670833994817346 L 0.2562714892939784, 1.0697312390385945 L 0.2454343209120221, 1.072269552919626 L 0.23457202345194963, 1.0746980812366134 L 0.22368570906270685, 1.0770165753418628 L 0.21277649235224175, 1.0792247978536615 L 0.2018454902733822, 1.0813225226805823 L 0.19089382200947722, 1.0833095350446307 L 0.17992260885980624, 1.085185631503238 L 0.16893297412477556, 1.0869506199700878 L 0.15792604299090585, 1.0886043197347854 L 0.14690294241563065, 1.0901465614813588 L 0.13354812946875513, 0.9910423286194171 L 0.14356912999173257, 0.9896402906679866 L 0.15357543102252322, 0.9881369272455343 L 0.1635660080543693, 0.9865323922756708 L 0.1735398381904338, 0.9848268500405734 L 0.18349590024852924, 0.9830204751641656 L 0.1934331748656743, 0.9811134525942377 L 0.20335064460246075, 0.9791059775835115 L 0.21324729404722692, 0.9769982556696484 L 0.22312210992002007, 0.9747905026542054 L 0.232974081176344, 0.9724829445805403 L 0.24280219911067416, 0.9700758177106676 L 0.252605457459737, 0.9675693685010688 L 0.26238285250553567, 0.9649638535774583 L 0.27213338317811847, 0.9622595397085089 L 0.2818560511580731, 0.9594567037785382 L 0.2915498609787415, 0.9565556327591598 L 0.3012138201281424, 0.9535566236799004 L 0.3108469391505893, 0.9504599835977893 L 0.3204482317479988, 0.9472660295659192 L 0.33001671488087214, 0.9439750886009848 L 0.33955140886894664, 0.9405874976498004 L 0.3490513374914995, 0.9371036035548019 L 0.3585155280873012, 0.9335237630185338 L 0.3679430116542007, 0.9298483425671289 L 0.37733282294833964, 0.9260777185127806 L 0.3866840005829783, 0.9222122769152139 L 0.39599558712692984, 0.9182524135421579 L 0.4052666292025864, 0.9141985338288251 L 0.41449617758353335, 0.9100510528363999 L 0.4236832872917357, 0.9058103952095431 L 0.4328270176942918, 0.9014769951329126 L 0.4419264325997399, 0.8970512962867104 L 0.45098060035391263, 0.8925337518012552 L 0.4599885939353242, 0.8879248242105879 L 0.46894949105008565, 0.8832249854051151 L 0.477862374226334, 0.8784347165832935 L 0.48672633090816964, 0.8735545082023622 L 0.4955404535490883, 0.868584859928127 L 0.5043038397049027, 0.8635262805838001 L 0.5130155921261387, 0.8583792880979056 L 0.5216748188499029, 0.8531444094512494 L 0.5302806332912056, 0.8478221806229641 L 0.5388321543337365, 0.8424131465356322 L 0.5473285064200776, 0.8369178609994933 L 0.5557688196413484, 0.8313368866557422 L 0.5641522298262732, 0.8256707949189216 L 0.5724778786296594, 0.8199201659184173 L 0.5807449136202808, 0.8140855884390612 L 0.5889524883681544, 0.8081676598608478 L 0.5970997625312032, 0.8021669860977705 L 0.6051859019412958, 0.7960841815357848 L 0.6132100786896534, 0.7899198689699032 L 0.6211714712116163, 0.7836746795404304 L 0.6290692643707608, 0.777349252668342 L 0.636902649542358, 0.7709442359898181 L 0.6446708246961653, 0.7644602852899332 L 0.6523729944785439, 0.7578980644355134 L 0.6600083702938915, 0.7512582453071657 L 0.6675761703853835, 0.744541507730486 L 0.6750756199150147, 0.7377485394064556 L 0.6825059510429314, 0.7308800358410288 L 0.689866403006048, 0.7239367002739239 L 0.6971562221959375, 0.7169192436066203 L 0.7043746622359928, 0.7098283843295724 L 0.7115209840578428, 0.7026648484486463 L 0.7185944559770248, 0.6954293694107863 L 0.7255943537678975, 0.6881226880289206 L 0.7325199607377926, 0.6807455524061122 L 0.7393705678003935, 0.6732987178589633 L 0.7461454735483363, 0.6657829468402814 L 0.7528439843250244, 0.6581990088610149 L 0.759465414295649, 0.6505476804114656 L 0.7660090855174088, 0.6428297448817868 L 0.772474328008923, 0.6350459924817752 L 0.778860479818827, 0.6271972201599642 L 0.7851668870935478, 0.6192842315220274 L 0.791392904144249, 0.6113078367485006 L 0.797537893512941, 0.6032688525118306 L 0.8036012260377474, 0.5951681018927587 L 0.8095822809173226, 0.5870064142960495 L 0.8154804457744135, 0.5787846253655706 L 0.821295116718558, 0.5705035768987344 L 0.8270256984079154, 0.5621641167603102 L 0.8326716041102213, 0.5537670987956136 L 0.8382322557628603, 0.5453133827430855 L 0.8437070840320519, 0.5368038341462663 L 0.8490955283711427, 0.5282393242651763 L 0.8543970370779981, 0.5196207299871108 L 0.8596110673514895, 0.5109489337368589 L 0.8647370853470691, 0.5022248233863554 L 0.8697745662314283, 0.4934492921637751 L 0.874722994236234, 0.4846232385620785 L 0.8795818627109354, 0.47574756624701847 L 0.8843506741746379, 0.46682318396461786 L 0.8890289403670391, 0.4578510054481257 L 0.8936161822984192, 0.44883194932446424 L 0.8981119302986832, 0.4397669390201739 L 0.9025157240654483, 0.4306569026668673 L 0.9068271127111731, 0.4215027730062014 L 0.9110456548093216, 0.41230548729437777 L 0.9151709184395598, 0.4030659872061802 L 0.9192024812319775, 0.39378521873856065 L 0.923139930410334, 0.38446413211378205 L 0.9269828628343204, 0.37510368168212854 L 0.9307308850408351, 0.3657048258241935 L 0.93438361328427, 0.3562685268527545 L 0.9379406735757995, 0.3467957509142457 L 0.9414017017216728, 0.337287467889838 L 0.9447663433605019, 0.3277446512961365 L 0.9480342539995432, 0.3181682781855059 L 0.951205099049969, 0.308559329046034 L 0.9542785538611245, 0.29891878770114305 L 0.9572543037537677, 0.2892476412088599 L 0.9601320440522887, 0.2795468797607551 L 0.962911480115903, 0.2698174965805608 L 0.9655923273688201, 0.2600604878224785 L 0.9681743113293788, 0.2502768524691866 L 0.9706571676381517, 0.24046759222955813 L 0.9730406420850105, 0.23063371143610034 L 0.9753244906351548, 0.22077621694212413 L 0.977508479454097, 0.21089611801865665 L 0.9795923849316045, 0.20099442625110592 L 0.9815759937045935, 0.19107215543568828 L 0.9834591026789752, 0.18113032147562988 L 0.9852415190504491, 0.17116994227715207 L 0.9869230603242442, 0.1611920376452521 L 0.9885035543338032, 0.15119762917928897 L 0.9899828392584108, 0.141187740168386 L 0.991360763639761, 0.13116339548666 L 0.9926371863974651, 0.12112562148828854 L 0.993811976843496, 0.11107544590242527 L 0.9948850146955689, 0.10101389772797485 L 0.9958561900894565, 0.09094200712823765 L 0.9967254035902376, 0.08086080532543521 L 0.9974925662024782, 0.07077132449512746 L 0.9981575993793428, 0.06067459766053216 L 0.9987204350306368, 0.05057165858675764 L 0.9991810155297782, 0.04046354167495957 L 0.9995392937196973, 0.030351281856432575 L 0.9997952329176656, 0.020235914486647587 L 0.9999488069190506, 0.0101184752392458 L 1.0, 0.0 L 1.1 ,0.0\", \"type\": \"path\"}, {\"fillcolor\": \"rgba(215,48,39, 0.75)\", \"layer\": \"below\", \"line\": {\"color\": \"rgba(215,48,39, 0.75)\", \"width\": 0.45}, \"path\": \"M 0.11258812367891115, 1.094222972892848 L 0.10154468479074044, 1.095303006930388 L 0.09049091318406166, 1.0962715879886311 L 0.07942793363966169, 1.0971286175092387 L 0.06835687187528466, 1.0978740082848424 L 0.05727885443108441, 1.098507684467916 L 0.04619500855499187, 1.0990295815784963 L 0.03510646208801304, 1.099439646510741 L 0.02401434334946413, 1.0997378375383355 L 0.012919781022159217, 1.0999241243187368 L 0.0018239040375606914, 1.0999984878962616 L -0.009272158539095606, 1.0999609207040157 L -0.020367277623688586, 1.0998114265646632 L -0.031460324228103305, 1.099550020690038 L -0.0425501695751101, 1.099176729679595 L -0.05363568521322472, 1.0986915915177053 L -0.06471574313153412, 1.098094655569789 L -0.07578921587447765, 1.0973859825772936 L -0.08685497665657169, 1.0965656446515122 L -0.09791189947706617, 1.0956337252662465 L -0.10895885923452123, 1.0945903192493125 L -0.11999473184129206, 1.0934355327728913 L -0.13101839433791185, 1.0921694833427253 L -0.1420287250073576, 1.090792299786162 L -0.15302460348919167, 1.0893041222390447 L -0.1640049108935644, 1.0877051021314528 L -0.17496852991506703, 1.085995402172293 L -0.1859143449464235, 1.0841751963327433 L -0.19684124219201027, 1.0822446698285497 L -0.20774810978118965, 1.0802040191011804 L -0.21863383788144966, 1.0780534517978355 L -0.22949731881133512, 1.0757931867503199 L -0.24033744715316016, 1.0734234539527736 L -0.2511531198654906, 1.07094449453827 L -0.2619432363953843, 1.0683565607542793 L -0.2727066987903782, 1.0656599159370002 L -0.28344241181021096, 1.0628548344845645 L -0.29414928303826976, 1.059941601829116 L -0.3048262229927491, 1.0569205144077651 L -0.3154721452375124, 1.0537918796324264 L -0.3260859664926414, 1.0505560158585359 L -0.3366666067446667, 1.0472132523526583 L -0.34721298935646466, 1.0437639292589813 L -0.35772404117681056, 1.0402083975647052 L -0.368198692649579, 1.0365470190643264 L -0.378635877922575, 1.0327801663228247 L -0.3890345349559916, 1.0289082226377508 L -0.39939360563047754, 1.0249315820002265 L -0.40971203585480676, 1.0208506490548506 L -0.4199887756731381, 1.016665839058527 L -0.4302227793718533, 1.0123775778382085 L -0.4404130055859649, 1.007986301747567 L -0.4505584174050798, 1.0034924576225923 L -0.46065798247891115, 0.998896502736124 L -0.4707106731223253, 0.9941989047513217 L -0.4807154664199139, 0.9894001416740776 L -0.4906713443300832, 0.9845007018043761 L -0.5005772937886404, 0.979501083686609 L -0.510432306811885, 0.9744017960588424 L -0.52023538059917, 0.9692033578010536 L -0.5299855176349476, 0.9639062978823287 L -0.5396817257902687, 0.9585111553070405 L -0.5493230184237382, 0.9530184790599989 L -0.5589084144819109, 0.9474288280505911 L -0.5684369385991195, 0.9417427710559084 L -0.5779076211967226, 0.9359608866628699 L -0.5873194985817654, 0.9300837632093488 L -0.5966716130450395, 0.9241119987243055 L -0.605963012958536, 0.9180462008669352 L -0.6151927528722789, 0.9118869868648347 L -0.6243598936105278, 0.9056349834511974 L -0.6334635023673476, 0.8992908268010374 L -0.6425026528015219, 0.8928551624664591 L -0.6514764251308184, 0.8863286453109643 L -0.6603839062255763, 0.8797119394428209 L -0.6692241897016276, 0.8730057181474816 L -0.6779963760125219, 0.8662106638190776 L -0.6866995725410631, 0.8593274678909789 L -0.6953328936901364, 0.8523568307654381 L -0.7038954609728235, 0.8452994617423203 L -0.7123864031017929, 0.8381560789469287 L -0.7208048560779582, 0.8309274092569302 L -0.7291499632783947, 0.8236141882283936 L -0.7374208755435052, 0.816217160020941 L -0.745616751263427, 0.8087370773220264 L -0.7537367564636696, 0.8011747012703454 L -0.7617800648899767, 0.7935308013783857 L -0.7697458580924016, 0.785806155454125 L -0.77763332550859, 0.7780015495218834 L -0.785441664546256, 0.7701177777423442 L -0.7931700806648551, 0.7621556423317403 L -0.8008177874564272, 0.7541159534802276 L -0.8083840067256235, 0.7459995292694407 L -0.8158679685688882, 0.7378071955892515 L -0.8232689114528015, 0.7295397860537283 L -0.8305860822915699, 0.7211981419163125 L -0.8378187365236569, 0.712783111984216 L -0.8449661381875455, 0.7042955525320503 L -0.8520275599966268, 0.6957363272146961 L -0.8590022834132052, 0.687106306979422 L -0.8658895987216131, 0.6784063699772608 L -0.872688805100429, 0.6696374014736525 L -0.8793992106937889, 0.6608002937583648 L -0.8860201326817884, 0.6518959460546954 L -0.8925508973499593, 0.6429252644279757 L -0.8989908401578289, 0.6338891616933681 L -0.9053393058065357, 0.6247885573229877 L -0.9115956483055134, 0.6156243773523357 L -0.9177592310382207, 0.6063975542860756 L -0.9238294268269237, 0.5971090270031411 L -0.9298056179965117, 0.5877597406612034 L -0.9356871964373509, 0.5783506466004948 L -0.9414735636671618, 0.5688827022470052 L -0.9471641308919185, 0.5593568710150585 L -0.9527583190657615, 0.5497741222092805 L -0.9582555589499187, 0.5401354309259663 L -0.9636552911706284, 0.5304417779538595 L -0.9689569662760589, 0.520694149674352 L -0.9741600447922187, 0.5108935379611123 L -0.9792639972778489, 0.5010409400791612 L -0.9842683043782989, 0.4911373585833891 L -0.9891724568783722, 0.48118380121654675 L -0.9939759557541429, 0.47118128080669586 L -0.9986783122237324, 0.46113081516415444 L -1.0032790477970475, 0.4510334269779234 L -1.007777694324468, 0.4408901437116269 L -1.0121737940444844, 0.43070199749895993 L -1.016466899630276, 0.42047002503866415 L -1.0206565742352307, 0.41019526748903784 L -1.0247423915373957, 0.3998787703619925 L -1.0287239357828577, 0.3895215834166664 L -1.0326008018280488, 0.37912476055260597 L -1.0363725951809715, 0.36868935970252575 L -1.0400389320413403, 0.3582164427246583 L -1.0435994393396362, 0.3477070752947043 L -1.047053754775068, 0.3371623267973928 L -1.0504015268524378, 0.3265832702176699 L -1.053642414917909, 0.3159709820315103 L -1.056776089193668, 0.3053265420963873 L -1.0598022308114823, 0.294651033541384 L -1.0627205318451458, 0.2839455426569867 L -0.9661095744046779, 0.2581323115063515 L -0.9634565734649838, 0.2678645759467127 L -0.9607055356306071, 0.27756958372398843 L -0.9578567408344627, 0.287246347301373 L -0.9549104789567615, 0.29689388201606354 L -0.9518670497955163, 0.30651120617944794 L -0.9487267630360329, 0.3160973411770039 L -0.9454899382194003, 0.32565131156787114 L -0.942156904709974, 0.3351721451841143 L -0.9387280016618625, 0.3446588732296418 L -0.935203577984416, 0.3541105303787876 L -0.9315839923067233, 0.3635261548745386 L -0.9278696129411187, 0.37290478862639803 L -0.9240608178457053, 0.38224547730787645 L -0.9201579945858948, 0.3915472704535999 L -0.916161540294971, 0.4008092215560244 L -0.9120718616336795, 0.4100303881617485 L -0.9078893747488476, 0.41920983196741307 L -0.9036145052310389, 0.428346618915178 L -0.8992476880712473, 0.43743981928776976 L -0.8947893676166353, 0.44648850780308097 L -0.890239997525317, 0.45549176370832833 L -0.8856000407201988, 0.4644486708737384 L -0.8808699693418717, 0.47335831788577454 L -0.8760502647005712, 0.4822197981398722 L -0.8711414172271987, 0.49103220993269653 L -0.8661439264234194, 0.49979465655389127 L -0.861058300810835, 0.5085062463773259 L -0.855885057879238, 0.5171660929518229 L -0.8506247240339553, 0.5257733150913589 L -0.8452778345422833, 0.5343270369647303 L -0.8398449334790214, 0.5428263881846737 L -0.8343265736711096, 0.5512705038964323 L -0.8287233166413758, 0.5596585248657596 L -0.823035732551396, 0.5679895975663524 L -0.8172644001434808, 0.5762628742666982 L -0.8114099066817811, 0.5844775131163416 L -0.8054728478925348, 0.5926326782315412 L -0.7994538279034444, 0.6007275397803316 L -0.7933534591822081, 0.6087612740669568 L -0.7871723624741936, 0.6167330636156916 L -0.7809111667392774, 0.62464209725402 L -0.7745705090878425, 0.6324875701951782 L -0.7681510347159504, 0.6402686841200457 L -0.761653396839688, 0.6479846472583781 L -0.7550782566286999, 0.655634674469375 L -0.7484262831389104, 0.6632179873215711 L -0.7416981532444438, 0.6707338141720467 L -0.7348945515687486, 0.6781813902449461 L -0.7280161704149337, 0.6855599577092978 L -0.7210637096953227, 0.6928687657561274 L -0.7140378768602327, 0.7001070706748583 L -0.7069393868259909, 0.7072741359289848 L -0.6997689619021832, 0.7143692322310227 L -0.6925273317181606, 0.7213916376167142 L -0.6852152331487904, 0.7283406375184958 L -0.677833410239479, 0.7352155248382057 L -0.6703826141304592, 0.7420156000190372 L -0.6628636029803587, 0.7487401711167214 L -0.6552771418890528, 0.7553885538699365 L -0.6476240028198117, 0.7619600717699351 L -0.6399049645207486, 0.768454056129382 L -0.6321208124455785, 0.7748698461503982 L -0.6242723386736937, 0.781206788991799 L -0.6163603418295653, 0.787464239835525 L -0.6083856270014796, 0.793641561952256 L -0.6003490056596148, 0.7997381267662007 L -0.5922512955734712, 0.8057533139190585 L -0.5840933207286562, 0.8116865113331446 L -0.5758759112430433, 0.8175371152736703 L -0.5675999032822979, 0.8233045304101794 L -0.5592661389747989, 0.8289881698771224 L -0.5508754663259419, 0.8345874553335774 L -0.542428739131854, 0.8401018170220959 L -0.5339268168925139, 0.8455306938266807 L -0.5253705647242932, 0.8508735333298817 L -0.5167608532719268, 0.8561297918690076 L -0.5080985586199189, 0.8612989345914465 L -0.49938456220339833, 0.8663804355090898 L -0.4906197507184261, 0.8713737775518549 L -0.48180501603177056, 0.8762784526202988 L -0.47294125509015444, 0.8810939616373213 L -0.46402936982898635, 0.8858198145989475 L -0.4550702670805821, 0.8904555306241899 L -0.44606485848189376, 0.8950006380039782 L -0.4370140603817399, 0.8994546742491614 L -0.4279187937475684, 0.9038171861375651 L -0.4187799840717374, 0.9080877297601126 L -0.40959856127734523, 0.9122658705659928 L -0.40037545962360443, 0.9163511834068789 L -0.39111161761077573, 0.9203432525801895 L -0.38180797788467097, 0.9242416718713881 L -0.3724654871407334, 0.9280460445953186 L -0.36308509602770683, 0.9317559836365694 L -0.3536677590509014, 0.9353711114888643 L -0.34421443447506817, 0.9388910602934768 L -0.33472608422689, 0.9423154718766603 L -0.32520367379710047, 0.9456439977860955 L -0.31564817214224056, 0.9488762993263465 L -0.3060605515860606, 0.9520120475933256 L -0.29644178772058305, 0.9550509235077598 L -0.2867928593068294, 0.9579926178476602 L -0.2771147481752264, 0.9608368312797865 L -0.2674084391256998, 0.9635832743901053 L -0.2576749198274645, 0.9662316677132403 L -0.24791518071852559, 0.9687817417609091 L -0.2381302149048948, 0.9712332370493447 L -0.22832101805953692, 0.9735859041257 L -0.21848858832105467, 0.9758395035934304 L -0.20863392619212281, 0.9779938061366543 L -0.1987580344376815, 0.9800485925434868 L -0.18886191798289967, 0.9820036537283456 L -0.1789465838109184, 0.9838587907532269 L -0.169013040860385, 0.9856138148479484 L -0.1590622999227882, 0.9872685474293572 L -0.14909537353960398, 0.9888228201195025 L -0.13911327589926514, 0.9902764747627679 L -0.12911702273396145, 0.9916293634419655 L -0.1191076312162835, 0.9928813484933866 L -0.10908611985572005, 0.9940323025208102 L -0.0990535083950193, 0.9950821084084659 L -0.08901081770642379, 0.9960306593329513 L -0.07895906968779244, 0.996877858774102 L -0.06889928715861604, 0.9976236205248122 L -0.0588324937559401, 0.9982678686998081 L -0.04875971383020428, 0.9988105377433684 L -0.038681972341009174, 0.9992515724359954 L -0.028600294752821186, 0.9995909279000343 L -0.018515706930625986, 0.9998285696042393 L -0.008429235035541459, 0.999964473367287 L 0.0016580945796006285, 0.9999986253602378 L 0.011745255474690196, 0.9999310221079424 L 0.02183122122678557, 0.9997616704893958 L 0.031914965534557305, 0.9994905877370371 L 0.041995462322719876, 0.9991178014349965 L 0.05207168584644037, 0.9986433495162873 L 0.06214261079571333, 0.9980672802589475 L 0.07220721239969244, 0.9973896522811261 L 0.08226446653096514, 0.996610534535119 L 0.09231334980976404, 0.9957300063003526 L 0.10235283970810104, 0.9947481571753163 L 0.11258812367891115 ,1.094222972892848\", \"type\": \"path\"}, {\"fillcolor\": \"rgba(244,109,67, 0.75)\", \"layer\": \"below\", \"line\": {\"color\": \"rgba(244,109,67, 0.75)\", \"width\": 0.45}, \"path\": \"M -1.0711150884462897, 0.25042457407909785 L -1.0736035926379857, 0.23953147157484478 L -1.0759813183869493, 0.22861365331555056 L -1.0782480203505256, 0.21767224584262587 L -1.0804034646419103, 0.2067083781315031 L -1.0824474288542822, 0.19572318147514797 L -1.084379702083753, 0.18471778936732489 L -1.086200084951128, 0.1736933373856425 L -1.0879083896224802, 0.16265096307437682 L -1.08950443982853, 0.15159180582709889 L -1.090988070882836, 0.14051700676910403 L -1.092359129698784, 0.12942770863967026 L -1.093617474805387, 0.11832505567414206 L -1.0947629763618802, 0.107210193485868 L -1.0957955161711197, 0.09608426894798854 L -1.0967149876917777, 0.08494843007509877 L -1.0975212960493363, 0.07380382590479358 L -1.0982143580458772, 0.06265160637910208 L -1.0987941021686656, 0.051492922225836284 L -1.0992604685975302, 0.040328924839850754 L -1.0996134092110348, 0.02916076616424124 L -1.0998528875914437, 0.017989598571479037 L -1.0999788790284806, 0.0068165747445087296 L -1.0999913705218762, -0.004357152442193858 L -1.0998903607827117, -0.015530430041575642 L -1.0996758602335506, -0.026702105152975115 L -1.0993478910073635, -0.03787102504108148 L -1.0989064869452443, -0.04903603725487724 L -1.098351693592919, -0.06019598974655337 L -1.0976835681960444, -0.07134973099038291 L -1.096902179694304, -0.08249611010153877 L -1.0960076087142916, -0.09363397695484478 L -1.0949999475611942, -0.10476218230345342 L -1.0938793002092666, -0.11587957789742552 L -1.0926457822911024, -0.1269850166022148 L -1.0912995210857044, -0.13807735251702977 L -1.0898406555053497, -0.1491554410930757 L -1.0882693360812565, -0.1602181392516499 L -1.086585724948053, -0.17126430550209248 L -1.0847899958270464, -0.18229280005956594 L -1.0828823340082978, -0.19330248496266564 L -1.0808629363315039, -0.2042922241908377 L -1.0787320111656864, -0.21526088378159616 L -1.0764897783876903, -0.22620733194753312 L -1.0741364693594986, -0.2371304391930967 L -1.071672326904357, -0.24802907843114075 L -1.0690976052817203, -0.25890212509921773 L -1.0664125701610159, -0.2697484572756194 L -1.0636174985942313, -0.2805669557951371 L -1.0607126789873274, -0.29135650436454485 L -1.057698411070479, -0.3021159896777795 L -1.0545750058671477, -0.31284430153081844 L -1.0513427856619892, -0.32354033293623363 L -1.0480020839675992, -0.3342029802374138 L -1.0445532454901005, -0.3448311432224445 L -1.0409966260935737, -0.3554237252376333 L -1.0373325927633386, -0.3659796333006657 L -1.0335615235680882, -0.37649777821338126 L -1.029683807620876, -0.38697707467416537 L -1.0256998450389687, -0.39741644138993 L -1.0216100469025573, -0.40781480118768987 L -1.0174148352123429, -0.4181710811257054 L -1.0131146428459923, -0.4284842126041959 L -1.0087099135134712, -0.43875313147560063 L -1.004201101711262, -0.44897677815438036 L -0.9995886726754667, -0.4591540977263504 L -0.9948731023338009, -0.4692840400575315 L -0.990054877256487, -0.47936555990250557 L -0.9851344946060485, -0.4893976170122671 L -0.9801124620860091, -0.4993791762415625 L -0.9749892978885083, -0.509309207655697 L -0.9697655306408297, -0.5191866866368109 L -0.9644416993508584, -0.5290105939895994 L -0.9590183533514605, -0.5387799160464813 L -0.9534960522438045, -0.5484936447721888 L -0.947875365839617, -0.5581507778677842 L -0.9421568741023885, -0.5677503188740773 L -0.9363411670875301, -0.5772912772744467 L -0.9304288448814899, -0.5867726685970441 L -0.9244205175398335, -0.5961935145163747 L -0.9183168050242962, -0.605552842954245 L -0.9121183371388135, -0.6148496881800672 L -0.905825753464534, -0.624083090910505 L -0.8994397032938274, -0.6332520984084553 L -0.8929608455632857, -0.6423557645813587 L -0.8863898487857341, -0.6513931500788165 L -0.8797273909812487, -0.6603633223895201 L -0.8729741596071983, -0.6692653559374683 L -0.866130851487308, -0.6780983321774734 L -0.8591981727397591, -0.6868613396899401 L -0.8521768387043299, -0.6955534742749075 L -0.8450675738685838, -0.7041738390453496 L -0.8378711117931128, -0.7127215445197187 L -0.830588195035847, -0.7211957087137263 L -0.7550801773053154, -0.6556324624670239 L -0.7617010107210116, -0.6479286768361079 L -0.7682432489714397, -0.6401580354957723 L -0.7747062170039363, -0.6323213402499159 L -0.7810892479452355, -0.6244193997181273 L -0.7873916831702799, -0.6164530292522485 L -0.7936128723701802, -0.6084230508522438 L -0.7997521736193169, -0.6003302930813819 L -0.8058089534415764, -0.5921755909807422 L -0.8117825868757143, -0.5839597859830533 L -0.817672457539843, -0.5756837258258685 L -0.8234779576950308, -0.5673482644640954 L -0.8291984883080122, -0.5589542619818793 L -0.8348334591129966, -0.5505025845038591 L -0.8403822886725758, -0.5419941041057952 L -0.845844404437718, -0.5334296987245856 L -0.8512192428068455, -0.5248102520676788 L -0.8565062491839894, -0.5161366535218884 L -0.8617048780360154, -0.507409798061622 L -0.8668145929489132, -0.4986305861565352 L -0.8718348666831458, -0.48979992367861935 L -0.876765181228053, -0.4809187218087267 L -0.8816050278552997, -0.4719878969425553 L -0.8863539071713711, -0.4630083705960881 L -0.8910113291690991, -0.4539810693105113 L -0.8955768132782258, -0.4449069245566064 L -0.9000498884149881, -0.4357868726386414 L -0.904430093030728, -0.42662185459775587 L -0.9087169751595151, -0.41741281611486397 L -0.9129100924647836, -0.40816070741307303 L -0.9170090122849737, -0.3988664831596369 L -0.9210133116781747, -0.38953110236745075 L -0.9249225774657662, -0.3801555282960958 L -0.9287364062750519, -0.3707407283524453 L -0.9324544045808806, -0.36128767399084544 L -0.936076188746251, -0.3517973406128776 L -0.9396013850618983, -0.34227070746671023 L -0.9430296297848532, -0.33270875754605966 L -0.946360569175976, -0.32311247748875754 L -0.9495938595364549, -0.31348285747494953 L -0.952729167243272, -0.3038208911249216 L -0.9557661687836264, -0.294127575396576 L -0.958704550788316, -0.2844039104825622 L -0.9615440100640718, -0.27465089970707224 L -0.964284253624843, -0.2648695494223135 L -0.9669249987220284, -0.25506086890467006 L -0.9694659728736507, -0.24522587025056308 L -0.971906913892473, -0.2353655682720161 L -0.9742475699130518, -0.2254809803919461 L -0.976487699417726, -0.21557312653917882 L -0.9786270712615366, -0.2056430290432119 L -0.9806654646960784, -0.19569171252872378 L -0.9826026693922763, -0.18572020380985244 L -0.9844384854620888, -0.17572953178424147 L -0.986172723479133, -0.16572072732687812 L -0.9878052044982301, -0.15569482318372044 L -0.9893357600738696, -0.14565285386513627 L -0.9907642322775905, -0.13559585553915973 L -0.9920904737142767, -0.12552486592457252 L -0.9933143475373658, -0.11544092418383164 L -0.9944357274629695, -0.10534507081584138 L -0.9954544977829038, -0.09523834754859402 L -0.9963705533766287, -0.08512179723167707 L -0.9971837997220944, -0.07499646372867161 L -0.9978941529054949, -0.06486339180943901 L -0.9985015396299262, -0.05472362704232124 L -0.9990058972229493, -0.04457821568625203 L -0.9994071736430576, -0.034428204582801346 L -0.9997053274850459, -0.024274641048159195 L -0.9999003279842834, -0.014118572765068765 L -0.9999921550198875, -0.003961047674721689 L -0.9999807991168005, 0.006196886131371572 L -0.999866261446767, 0.016354180519526397 L -0.9996485538282134, 0.026509787422037488 L -0.9993276987250275, 0.036662658945318866 L -0.9989037292442414, 0.04681174747803298 L -0.9983766891326156, 0.0569560057991837 L -0.9977466327721239, 0.06709438718617597 L -0.9970136251743433, 0.07722584552281705 L -0.9961777419737452, 0.0873493354072623 L -0.9952390694198912, 0.09746381225987999 L -0.9941977043685336, 0.10756823243103823 L -0.9930537542716218, 0.11766155330879113 L -0.9918073371662144, 0.1277427334264582 L -0.9904585816623, 0.13781073257008988 L -0.9890076269295273, 0.1478645118857971 L -0.9874546226828435, 0.15790303398694772 L -0.9857997291670481, 0.16792526306120442 L -0.9840431171402565, 0.17793016497740724 L -0.9821849678562821, 0.18791670739227553 L -0.9802254730459323, 0.1978838598569326 L -0.9781648348972265, 0.20783059392322775 L -0.9760032660345322, 0.21775588324985887 L -0.9737409894966268, 0.22765870370827074 L -1.0711150884462897 ,0.25042457407909785\", \"type\": \"path\"}, {\"fillcolor\": \"rgba(253,174,97, 0.75)\", \"layer\": \"below\", \"line\": {\"color\": \"rgba(253,174,97, 0.75)\", \"width\": 0.45}, \"path\": \"M -0.8075250452460742, -0.746929247854391 L -0.799780191323057, -0.7552162905865144 L -0.7919502977376295, -0.7634230320820037 L -0.7840361970329255, -0.7715485997279418 L -0.7760387307057208, -0.7795921295425281 L -0.7679587491169573, -0.7875527662669458 L -0.7597971114013242, -0.7954296634563007 L -0.7515546853759092, -0.8032219835696223 L -0.7432323474479231, -0.8109288980589174 L -0.7348309825215121, -0.8185495874572714 L -0.726351483903669, -0.8260832414659787 L -0.7177947532092471, -0.8335290590407008 L -0.7091617002650928, -0.8408862484766432 L -0.7004532430133057, -0.8481540274927326 L -0.6916703074136344, -0.8553316233147987 L -0.6828138273450209, -0.8624182727577403 L -0.6738847445062998, -0.8694132223066771 L -0.6648840083160725, -0.8763157281970654 L -0.6558125758117543, -0.8831250564937856 L -0.6466714115478144, -0.8898404831691786 L -0.6374614874932154, -0.8964612941800317 L -0.6281837829280664, -0.9029867855435006 L -0.6188392843394944, -0.9094162634119661 L -0.609428985316756, -0.9157490441468064 L -0.5999538864455882, -0.9219844543910892 L -0.5904149952018175, -0.9281218311411698 L -0.5808133258442365, -0.9341605218171859 L -0.5711498993067596, -0.9400998843324462 L -0.5614257430898651, -0.9459392871617042 L -0.5516418911513475, -0.9516781094083047 L -0.541799383796374, -0.957315740870205 L -0.5318992675668722, -0.9628515821048564 L -0.521942595130251, -0.9682850444929422 L -0.5119304251674739, -0.9736155503009644 L -0.5018638222604868, -0.9788425327426751 L -0.49174385677902704, -0.9839654360393396 L -0.48157160476680977, -0.9889837154788342 L -0.4713481478271133, -0.9938968374735629 L -0.4610745730077745, -0.9987042796171941 L -0.4507519726856045, -1.0034055307402068 L -0.4403814444502346, -1.0080000909642444 L -0.42996409098741556, -1.0124874717552634 L -0.41950101996176753, -1.0168671959754807 L -0.4089933438990036, -1.0211387979341064 L -0.398442180067637, -1.0253018234368594 L -0.38784865036018334, -1.029355829834263 L -0.3772138811738684, -1.0333003860687109 L -0.3665390032908645, -1.037135072720299 L -0.35582515175805235, -1.0408594820514243 L -0.34507346576633396, -1.044473218050138 L -0.33428508852950434, -1.0479758964722528 L -0.3234611671626917, -1.0513671448822002 L -0.3126028525603916, -1.05464660269263 L -0.3017112992740895, -1.0578139212027515 L -0.29078766538950057, -1.0608687636354104 L -0.2798331124034307, -1.0638108051728978 L -0.2688488051002769, -1.0666397329914883 L -0.2578359114281776, -1.0693552462947014 L -0.24679560237482245, -1.0719570563452852 L -0.23572905184294854, -1.0744448864959173 L -0.2142991380390441, -0.976768078632652 L -0.22435963852256585, -0.97450641485935 L -0.23439628311652505, -0.9721411329951829 L -0.24440800463661536, -0.9696724845377166 L -0.25439373854857333, -0.9671007319753615 L -0.26435242308136414, -0.9644261487594639 L -0.2742829993400814, -0.9616490192752285 L -0.2841844114185378, -0.9587696388114818 L -0.2940556065115379, -0.9557883135292728 L -0.3038955350268221, -0.9527053604293205 L -0.3137031506966672, -0.9495211073183071 L -0.3234774106891385, -0.946235892774022 L -0.3332172757189677, -0.9428500661093626 L -0.34292171015806217, -0.9393639873351916 L -0.3525896821456212, -0.9357780271220573 L -0.36222016369785176, -0.9320925667607812 L -0.371812130817276, -0.9283079981219148 L -0.3813645636016068, -0.9244247236140734 L -0.3908764463521959, -0.9204431561411486 L -0.4003467676820314, -0.916363719058404 L -0.4097745206232768, -0.9121868461274607 L -0.4191587027343404, -0.9079129814701764 L -0.4284983162064666, -0.9035425795214208 L -0.437792367969827, -0.8990761049807583 L -0.4470398697991155, -0.894514032763036 L -0.4562398384186243, -0.8898568479478863 L -0.46539129560679443, -0.8851050457281493 L -0.4744932683002281, -0.8802591313572201 L -0.4835447886971565, -0.8753196200953239 L -0.49254489436034005, -0.8702870371547318 L -0.5014926283194068, -0.8651619176439133 L -0.5103870391726046, -0.8599448065106401 L -0.5192271811879633, -0.8546362584840419 L -0.5280121144038513, -0.8492368380156234 L -0.536740904728925, -0.8437471192192452 L -0.5454126240414437, -0.838167685810081 L -0.55402635028796, -0.8324991310425511 L -0.5625811675813586, -0.8267420576472418 L -0.5710761662982422, -0.8208970777668188 L -0.5795104431756504, -0.8149648128909379 L -0.587883101407104, -0.8089458937901624 L -0.5961932507379585, -0.802840960448896 L -0.6044400075600659, -0.7966506619973321 L -0.612622495005727, -0.7903756566424336 L -0.6207398430409281, -0.7840166115979457 L -0.6287911885578494, -0.7775742030134534 L -0.6367756754666415, -0.7710491159024842 L -0.644692454786448, -0.7644420440696755 L -0.6525406847356792, -0.7577536900370007 L -0.6603195308215172, -0.7509847649690714 L -0.6680281659286473, -0.7441359885975194 L -0.6756657704072028, -0.7372080891444703 L -0.6832315321599174, -0.7302018032451111 L -0.6907246467284766, -0.7231178758693643 L -0.698144317379052, -0.7159570602426779 L -0.7054897551870188, -0.7087201177659346 L -0.7127601791208413, -0.7014078179344925 L -0.7199548161251177, -0.6940209382563669 L -0.727072901202779, -0.6865602641695585 L -0.734113677496431, -0.6790265889585372 L -0.8075250452460742 ,-0.746929247854391\", \"type\": \"path\"}, {\"fillcolor\": \"rgba(254,224,139, 0.75)\", \"layer\": \"below\", \"line\": {\"color\": \"rgba(254,224,139, 0.75)\", \"width\": 0.45}, \"path\": \"M -0.20186360431337075, -1.0813191412592376 L -0.18923965103334078, -1.0835997205964847 L -0.17658996034148206, -1.0857329256804336 L -0.1639162526504957, -1.0877184663859574 L -0.1512202516394949, -1.0895560726709241 L -0.13850368401958466, -1.091245494612923 L -0.1257682792990149, -1.0927865024432564 L -0.11301576954796297, -1.0941788865781874 L -0.10024788916296712, -1.0954224576474454 L -0.08746637463103456, -1.0965170465199818 L -0.07467296429347943, -1.0974625043269701 L -0.06186939810949302, -1.098258702482056 L -0.049057417419509565, -1.098905532698843 L -0.03623876470836966, -1.0994029070056217 L -0.02341518336833766, -1.0997507577573327 L -0.010588417461995701, -1.0999490376447676 L 0.002239788514963175, -1.099997719701004 L 0.01506768987098618, -1.0998967973050708 L 0.013697899882714708, -0.9999061793682461 L 0.0020361713772392496, -0.9999979270009126 L -0.009625834056359727, -0.9999536705861524 L -0.021286530334852418, -0.9997734161430296 L -0.032944331553063325, -0.9994571881869287 L -0.044597652199554146, -0.999005029726221 L -0.056244907372266374, -0.9984170022564145 L -0.06788451299407221, -0.997693185751791 L -0.07951488602821323, -0.9968336786545288 L -0.09113444469360646, -0.995838597861314 L -0.10274160867996633, -0.994708078707443 L -0.11433479936274082, -0.9934422749484149 L -0.12591244001780422, -0.992041358739021 L -0.13747295603590445, -0.9905055206099309 L -0.14901477513681427, -0.9888349694417793 L -0.1605363275831655, -0.9870299324367577 L -0.17203604639394615, -0.9850906550877132 L -0.18351236755760975, -0.9830174011447614 L -0.20186360431337075 ,-1.0813191412592376\", \"type\": \"path\"}, {\"fillcolor\": \"rgba(217,239,139, 0.75)\", \"layer\": \"below\", \"line\": {\"color\": \"rgba(217,239,139, 0.75)\", \"width\": 0.45}, \"path\": \"M 0.04960884818656127, -1.098880777055274 L 0.06083066001405812, -1.0983167260869036 L 0.07204612498092365, -1.0976380805507948 L 0.08325407290434042, -1.0968449112544758 L 0.09445333438579631, -1.0959373009544868 L 0.10564274093308954, -1.0949153443477466 L 0.11682112508224897, -1.0937791480616723 L 0.1279873205193415, -1.0925288306430543 L 0.13914016220216494, -1.0911645225456863 L 0.1502784864817987, -1.0896863661167557 L 0.16140113122401883, -1.0880945155819908 L 0.17250693593055003, -1.0863891370295697 L 0.1835947418601471, -1.0845704083927914 L 0.19466339214949788, -1.0826385194315096 L 0.20571173193392056, -1.0805936717123357 L 0.21673860846786214, -1.0784360785876068 L 0.2277428712451708, -1.076165965173126 L 0.23872337211913514, -1.0737835683246737 L 0.24967896542228113, -1.0712891366132953 L 0.26060850808590186, -1.0686829302993666 L 0.27151085975932493, -1.0659652213054385 L 0.2823848829288918, -1.063136293187866 L 0.29322944303664095, -1.060196441107223 L 0.3040434085986879, -1.0571459717975051 L 0.31482565132327417, -1.0539852035341275 L 0.3255750462284935, -1.0507144661007168 L 0.33629047175966625, -1.0473341007547026 L 0.34697080990636303, -1.04384446019171 L 0.3576149463190476, -1.0402459085087645 L 0.3682217704253485, -1.0365388211662996 L 0.37879017554593103, -1.0327235849489849 L 0.38931905900996405, -1.028800597925369 L 0.3998073222701717, -1.024770269406346 L 0.410253871017447, -1.0206330199024525 L 0.4206576152950321, -1.016389281079989 L 0.43101746961223825, -1.0120394957159842 L 0.44133235305770613, -1.0075841176519946 L 0.4516011894121791, -1.0030236117467553 L 0.4618229072607952, -0.9983584538276756 L 0.4719964401048748, -0.9935891306411949 L 0.4821207264731937, -0.9887161398019961 L 0.4921947100327376, -0.9837399897410848 L 0.5022173396989104, -0.9786611996527448 L 0.5121875697452045, -0.9734802994403644 L 0.5221043599123073, -0.9681978296611494 L 0.5319666755166377, -0.9628143414697231 L 0.5417734875583045, -0.9573303965606189 L 0.5515237728284633, -0.9517465671096785 L 0.561216514016079, -0.9460634357143501 L 0.5708506998140666, -0.9402815953329038 L 0.5804253250248069, -0.934401649222564 L 0.5899393906650292, -0.9284242108765659 L 0.5993919040700365, -0.9223499039601492 L 0.6087818789972792, -0.9161793622454844 L 0.618108335729256, -0.9099132295455482 L 0.6273703011757368, -0.903552159646949 L 0.6365668089752863, -0.8970968162417152 L 0.6456968995960944, -0.8905478728580465 L 0.6547596204360895, -0.883906012790041 L 0.6637540259223317, -0.8771719290264006 L 0.6726791776096664, -0.8703463241781302 L 0.6815341442786421, -0.8634299104052275 L 0.6903180020326688, -0.8564234093423793 L 0.699029834394414, -0.849327552023669 L 0.7076687324014282, -0.8421430788063012 L 0.7162337947009771, -0.8348707392933582 L 0.7247241276440904, -0.8275112922555874 L 0.7331388453787997, -0.8200655055522337 L 0.741477069942565, -0.8125341560509248 L 0.749737931353882, -0.8049180295466128 L 0.7579205677030473, -0.7972179206795912 L 0.6890186979118611, -0.7247435642541737 L 0.6815799375944381, -0.7317436632241935 L 0.67407006358415, -0.7386674145917498 L 0.6664898594352724, -0.745514095956576 L 0.6588401160400822, -0.7522829929596249 L 0.6511216315463428, -0.7589733993575983 L 0.6433352112740256, -0.7655846170966374 L 0.6354816676312854, -0.7721159563851536 L 0.6275618200296988, -0.7785667357657993 L 0.6195764947987655, -0.7849362821865704 L 0.6115265250996967, -0.7912239310710274 L 0.6034127508384833, -0.7974290263876369 L 0.5952360185782631, -0.803550920718219 L 0.5869971814509949, -0.8095889753254968 L 0.578697099068442, -0.815542560219741 L 0.570336637432488, -0.821411054224499 L 0.5619166688447782, -0.8271938450414074 L 0.5534380718157084, -0.8328903293140766 L 0.5449017309727604, -0.8384999126910446 L 0.5363085369682083, -0.8440220098877871 L 0.527659386386188, -0.8494560447477854 L 0.5189551816491513, -0.8548014503026398 L 0.5101968309237082, -0.8600576688312274 L 0.5013852480258757, -0.8652241519178895 L 0.49252135232573124, -0.8703003605096535 L 0.4836060686514888, -0.8752857649724755 L 0.47464032719300664, -0.8801798451464994 L 0.4656250634047313, -0.8849820904003312 L 0.45656121790810034, -0.8896919996843133 L 0.4474497363933978, -0.8943090815828043 L 0.43829156952108517, -0.8988328543654509 L 0.4290876728226134, -0.9032628460374499 L 0.4198390066007229, -0.907598594388796 L 0.41054653582925366, -0.9118396470425046 L 0.40121123005246007, -0.9159855615018132 L 0.3918340632838529, -0.9200359051963491 L 0.3824160139045746, -0.9239902555272627 L 0.3729580645613154, -0.9278481999113204 L 0.3634612020637924, -0.931609335823951 L 0.3539264172817855, -0.9352732708412443 L 0.34435470504175547, -0.9388396226808952 L 0.33474706402304405, -0.9423080192420905 L 0.32510449665367963, -0.9456780986443313 L 0.31542800900578455, -0.948949509265191 L 0.3057186106906057, -0.9521219097770022 L 0.29597731475317585, -0.9551949691824698 L 0.28620513756661287, -0.9581683668492068 L 0.2764030987260799, -0.9610417925431864 L 0.26657222094240085, -0.9638149464611118 L 0.2567135299353562, -0.9664875392616963 L 0.24682805432665902, -0.9690592920958531 L 0.23691682553263804, -0.9715299366357877 L 0.2269808776566192, -0.9738992151029956 L 0.21702124738103193, -0.9761668802951577 L 0.2070389738592462, -0.9783326956119326 L 0.19703509860714738, -0.9803964350796425 L 0.18701066539447322, -0.9823578833748505 L 0.17696672013590714, -0.9842168358468267 L 0.1669043107819519, -0.9859730985389011 L 0.1568244872095909, -0.9876264882086997 L 0.14672830111274437, -0.9891768323472643 L 0.13661680589254427, -0.9906239691970505 L 0.12649105654742265, -0.9919677477688056 L 0.11635210956303772, -0.993208027857322 L 0.1062010228020445, -0.9943446800560657 L 0.09603885539371775, -0.9953775857706786 L 0.08586666762345119, -0.9963066372313515 L 0.07568552082212765, -0.9971317375040688 L 0.06549647725538513, -0.9978528005007226 L 0.0553006000127801, -0.998469750988094 L 0.04509895289687388, -0.9989825245957036 L 0.04960884818656127 ,-1.098880777055274\", \"type\": \"path\"}, {\"fillcolor\": \"rgba(166,217,106, 0.75)\", \"layer\": \"below\", \"line\": {\"color\": \"rgba(166,217,106, 0.75)\", \"width\": 0.45}, \"path\": \"M 0.7825877996945482, -0.7730176814079003 L 0.7905203740414039, -0.764903613683083 L 0.7983688240645439, -0.7567081476776879 L 0.8061323145602572, -0.7484321555236136 L 0.8138100193659176, -0.7400765179220626 L 0.8214011214479033, -0.7316421240498164 L 0.8289048129885417, -0.7231298714646153 L 0.8363202954720745, -0.7145406660096416 L 0.8436467797696315, -0.7058754217171265 L 0.8508834862232091, -0.6971350607110778 L 0.858029644728638, -0.6883205131091529 L 0.8650844948175344, -0.6794327169236786 L 0.8720472857382251, -0.6704726179618334 L 0.8789172765356429, -0.6614411697249942 L 0.8856937361301739, -0.6523393333072706 L 0.8923759433954578, -0.6431680772932273 L 0.898963187235125, -0.633928377654815 L 0.9054547666584727, -0.6246212176475046 L 0.9118499908550588, -0.6152475877056565 L 0.9181481792682171, -0.6058084853371222 L 0.9243486616674792, -0.5963049150170912 L 0.9304507782198964, -0.5867378880812021 L 0.93645387956026, -0.5771084226179152 L 0.9423573268602019, -0.5674175433601738 L 0.9481604918961777, -0.5576662815763551 L 0.9538627571163177, -0.5478556749605289 L 0.9594635157061483, -0.5379867675220253 L 0.9649621716531641, -0.5280606094743384 L 0.9703581398102545, -0.5180782571233642 L 0.9756508459579719, -0.5080407727549965 L 0.9808397268656398, -0.4979492245220765 L 0.9859242303512885, -0.4878046863307276 L 0.9909038153404174, -0.47760823772607225 L 0.9957779519235714, -0.4673609637773545 L 1.0005461214127362, -0.45706395496246505 L 1.005207816396532, -0.4467183070519007 L 1.0097625407942115, -0.43632512099215487 L 1.0142098099084513, -0.42588550278855847 L 1.0185491504769302, -0.41540056338758596 L 1.0227801007226944, -0.4048714185586276 L 1.0269022104032959, -0.3942991887752564 L 1.0309150408587076, -0.3836849990959895 L 1.0348181650580015, -0.37302997904456786 L 1.0386111676447947, -0.36233526248975023 L 1.042293644981448, -0.35160198752465466 L 1.0458652051920205, -0.3408312963456453 L 1.0493254682039705, -0.33002433513078744 L 1.0526740657886033, -0.31918225391786975 L 1.0559106416002553, -0.30830620648202517 L 1.0590348512142163, -0.2973973502129488 L 1.062046362163379, -0.28645684599173554 L 1.0649448539736235, -0.2754858580673389 L 1.067730018197917, -0.26448555393267853 L 1.0704015584491402, -0.25345710420039946 L 1.072959190431626, -0.2424016824782986 L 1.075402641971414, -0.2313204652444375 L 0.9776387654285581, -0.2102913320403977 L 0.9754174458469327, -0.22036516588936234 L 0.9730923258628547, -0.23041554927309038 L 0.9706636529071972, -0.24044141266607136 L 0.9681316854305667, -0.2504416891521262 L 0.9654966928757991, -0.26041531453794137 L 0.9627589556492874, -0.270361227466317 L 0.9599187650911412, -0.2802783695291138 L 0.9569764234441848, -0.2901656853798816 L 0.9539322438217913, -0.30002212284617036 L 0.950786550174564, -0.3098466330414957 L 0.9475396772558617, -0.31963817047695875 L 0.944191970586177, -0.32939569317250017 L 0.940743786416365, -0.33911816276778894 L 0.937195491689734, -0.3488045446327177 L 0.9335474640029962, -0.35845380797750576 L 0.9298000915660857, -0.3680649259623887 L 0.9259537731608456, -0.3776368758068963 L 0.9220089180985921, -0.38716863889868947 L 0.9179659461765558, -0.39665920090195894 L 0.9138252876332108, -0.40610755186536424 L 0.9095873831024874, -0.41551268632951366 L 0.905252683566883, -0.4248736034339586 L 0.9008216503094703, -0.434189307023702 L 0.8962947548648077, -0.44345880575520685 L 0.8916724789687633, -0.4526811132018877 L 0.8869553145072471, -0.4618552479590877 L 0.8821437634638677, -0.4709802337485129 L 0.8772383378665127, -0.48005509952212577 L 0.872239559732862, -0.4890788795654776 L 0.8671479610148343, -0.4980506136004808 L 0.8619640835419796, -0.5069693468875955 L 0.8566884789638198, -0.5158341303274306 L 0.8513217086911454, -0.524644020561741 L 0.8458643438362694, -0.5333980800738201 L 0.8403169651522537, -0.5420953772882646 L 0.8346801629711064, -0.550734986670111 L 0.8289545371409625, -0.559315988823324 L 0.8231406969622478, -0.5678374705886404 L 0.8172392611228408, -0.5762985251407409 L 0.8112508576322343, -0.5846982520847521 L 0.8051761237547035, -0.5930357575520641 L 0.7990157059414935, -0.6013101542954492 L 0.7927702597620228, -0.6095205617834849 L 0.7864404498341221, -0.6176661062942532 L 0.7800269497533072, -0.6257459210083207 L 0.7735304420210991, -0.6337591461009797 L 0.7669516179723922, -0.6417049288337513 L 0.7602911777018859, -0.6495824236451286 L 0.7535498299895833, -0.6573907922405593 L 0.7467282922253666, -0.6651292036816513 L 0.7398272903326523, -0.6727968344746024 L 0.7328475586911429, -0.6803928686578306 L 0.7257898400586762, -0.6879164978888072 L 0.7186548854921853, -0.6953669215300754 L 0.711443454267771, -0.7027433467344547 L 0.7825877996945482 ,-0.7730176814079003\", \"type\": \"path\"}, {\"fillcolor\": \"rgba(102,189,99, 0.75)\", \"layer\": \"below\", \"line\": {\"color\": \"rgba(102,189,99, 0.75)\", \"width\": 0.45}, \"path\": \"M 1.0821379470887018, -0.19742710925972193 L 1.0838272050669895, -0.18793240688257565 L 1.0854331579672367, -0.1784232596531968 L 1.0869556823527629, -0.16890039846323537 L 1.0883946611993676, -0.15936455525842014 L 1.089749983904323, -0.14981646298230403 L 1.0910215462948762, -0.14025685551992642 L 1.0922092506362555, -0.13068646764140945 L 1.0933130056391835, -0.12110603494547614 L 1.0943327264668923, -0.11151629380291388 L 1.0952683347416456, -0.10191798129997828 L 1.096119758550762, -0.09231183518173366 L 1.0968869324521426, -0.08269859379535129 L 1.097569797479302, -0.0730789960333615 L 1.0981683011458987, -0.06345378127685519 L 1.0986823974497706, -0.05382368933865744 L 1.099112046876471, -0.044189460406462044 L 1.0994572164023046, -0.03455183498594315 L 0.9995065603657315, -0.03141075907813013 L 0.9991927698877009, -0.04017223673314731 L 0.9988021794997914, -0.048930626671506765 L 0.9983348192235442, -0.057685255706231994 L 0.9977907249811836, -0.06643545093941954 L 0.997169938592857, -0.07518053981395571 L 0.9964725077734199, -0.08391985016521242 L 0.9956984861287687, -0.09265271027270752 L 0.9948479331517203, -0.10137844891173987 L 0.9939209142174394, -0.1100963954049783 L 0.9929175005784141, -0.11880587967400857 L 0.9918377693589783, -0.12750623229084218 L 0.9906818035493844, -0.1361967845293673 L 0.989449691999425, -0.14487686841674557 L 0.9881415294116026, -0.15354581678475943 L 0.9867574163338514, -0.162202963321088 L 0.9852974591518086, -0.1708476426205233 L 0.9837617700806379, -0.17947919023611084 L 1.0821379470887018 ,-0.19742710925972193\", \"type\": \"path\"}], \"showlegend\": false, \"title\": \"Pairwise interactions between common egg mutation genotypes\", \"width\": 800, \"xaxis\": {\"visible\": false}, \"yaxis\": {\"visible\": false}}, {\"showLink\": true, \"linkText\": \"Export to plot.ly\", \"plotlyServerURL\": \"https://plot.ly\"})});</script>"
      ],
      "text/vnd.plotly.v1+html": [
       "<div id=\"6409d981-2023-49a6-9512-59a344a16673\" style=\"height: 800px; width: 800px;\" class=\"plotly-graph-div\"></div><script type=\"text/javascript\">require([\"plotly\"], function(Plotly) { window.PLOTLYENV=window.PLOTLYENV || {};window.PLOTLYENV.BASE_URL=\"https://plot.ly\";Plotly.newPlot(\"6409d981-2023-49a6-9512-59a344a16673\", [{\"line\": {\"color\": \"rgba(26,152,80, 0.75)\", \"shape\": \"spline\", \"width\": 0.25}, \"mode\": \"lines\", \"x\": [1.1, 1.0999436876109558, 1.0997747562094322, 1.0994932230916672, 1.0990991170827562, 1.0985924785337005, 1.0979733593172771, 1.097241822822726, 1.0963979439492615, 1.0954418090984022, 1.0943735161651258, 1.0931931745278456, 1.0919009050372117, 1.0904968400037371, 1.0889811231842519, 1.0873539097671836, 1.0856153663566686, 1.0837656709554941, 1.0818050129468728, 1.079733593075053, 1.077551623424765, 1.0752593273995068, 1.0728569396986705, 1.0703447062935116, 1.0677228844019668, 1.0649917424623168, 1.062151560105702, 1.0592026281274933, 1.0561452484575176, 1.0529797341291447, 1.049706409247237, 1.046325608954966, 1.0428376793994976, 1.0392429776965522, 1.0355418718938403, 1.0317347409333795, 1.027821974612697, 1.0238039735449187, 1.0196811491177524, 1.0154539234513675, 1.0111227293551752, 1.0066880102835158, 1.002150220290254, 0.9975098239822905, 0.9927672964719932, 0.9879231233285516, 0.9829778005282612, 0.9779318344037431, 0.9727857415921017, 0.967540048982029, 0.9621952936598575, 0.9567520228545713, 0.951210793881776, 0.9455721740866385, 0.9398367407857979, 0.934005081208257, 0.9280777924352571, 0.9220554813391464, 0.9159387645212436, 0.909728268248707, 0.9034246283904139, 0.897028490351855, 0.890540509009055, 0.8839613486415222, 0.8772916828642352, 0.870532194558674, 0.8636835758029026, 0.8567465278007098, 0.8497217608098154, 0.8426099940691497, 0.8354119557252139, 0.828128382757527, 0.8207600209031699, 0.8133076245804328, 0.8057719568115719, 0.7981537891446873, 0.7904539015747273, 0.7826730824636271, 0.7748121284595921, 0.7668718444155314, 0.7588530433066528, 0.7507565461472246, 0.7425831819065163, 0.734333787423922, 0.7260092073232807, 0.7176102939263984, 0.709137907165782, 0.7005929144965939, 0.691976190807837, 0.683288618332778, 0.6745310865586188, 0.6657044921354255, 0.6568097387843236, 0.6478477372049699, 0.6388194049823089, 0.6297256664926254, 0.6205674528089006, 0.6113457016054833, 0.6020613570620854, 0.5927153697671103, 0.5833086966203261, 0.5738423007348932, 0.5643171513387526, 0.5547342236753929, 0.5450944989039972, 0.5353989639989867, 0.5256486116489675, 0.5158444401550942, 0.5059874533288566, 0.4960786603893039, 0.4861190758597139, 0.47610971946372105, 0.46605161602090933, 0.45594579534188673, 0.4457932921228451, 0.43559514583962283, 0.42535240064127616, 0.41506610524317367, 0.4047373128196208, 0.39436708089603134, 0.3839564712406495, 0.37350654975584135, 0.3630183863689594, 0.3524930549227987, 0.3419316330656483, 0.3313352021409567, 0.32070484707661573, 0.3100416562738804, 0.29934672149593033, 0.2886211377560893, 0.27786600320571075, 0.2670824190217416, 0.2562714892939784, 0.2454343209120221, 0.23457202345194963, 0.22368570906270685, 0.21277649235224175, 0.2018454902733822, 0.19089382200947722, 0.17992260885980624, 0.16893297412477556, 0.15792604299090585, 0.14690294241563065], \"y\": [0.0, 0.01113032276317038, 0.022259505935312347, 0.033386410042075834, 0.04450989584245554, 0.05562882444543341, 0.06674205742658539, 0.07784845694464021, 0.08894688585797875, 0.10003620784106142, 0.11111528750077235, 0.1221829904926678, 0.1332381836371174, 0.144279735035326, 0.15530651418522462, 0.16631739209721788, 0.17731124140977733, 0.1882869365048673, 0.19924335362319287, 0.21017937097925712, 0.22109386887621651, 0.23198572982052235, 0.24285383863633656, 0.2536970825797104, 0.26451435145251395, 0.27530453771610525, 0.28606653660472636, 0.2967992462386169, 0.3075015677368306, 0.3181724053297459, 0.3288106664712574, 0.3394152619506374, 0.3499851060040565, 0.3605191164257502, 0.37101621467882184, 0.3814753260056703, 0.39189537953803, 0.4022753084066129, 0.41261404985034145, 0.4229105453251603, 0.43316374061241675, 0.44337258592679823, 0.4535360360238156, 0.4636530503068216, 0.47372259293355407, 0.4837436329221913, 0.4937151442569107, 0.5036361059929383, 0.5135055023610797, 0.5233223228717203, 0.5330855624182864, 0.5427942213801527, 0.552447305724991, 0.5620438271105448, 0.571582802985822, 0.581063256691694, 0.590484217560893, 0.5998447210173941, 0.609143808675175, 0.6183805284363413, 0.627553934588608, 0.6366630879021278, 0.6457070557256545, 0.6546849120820346, 0.6635957377630137, 0.6724386204233508, 0.6812126546742302, 0.6899169421759607, 0.6985505917299527, 0.7071127193699656, 0.7156024484526122, 0.7240189097471165, 0.7323612415243096, 0.7406285896448598, 0.7488201076467235, 0.7569349568318128, 0.764972306351865, 0.7729313332935109, 0.7808112227625297, 0.7886111679672824, 0.7963303703013164, 0.8039680394251317, 0.8115233933471012, 0.8189956585035346, 0.8263840698378823, 0.8336878708790648, 0.8409063138189266, 0.8480386595888, 0.8550841779351762, 0.8620421474944735, 0.8689118558668936, 0.8756925996893633, 0.8823836847075476, 0.8889844258469327, 0.8954941472829674, 0.9019121825102592, 0.9082378744108138, 0.9144705753213165, 0.9206096470994427, 0.9266544611891955, 0.9326043986852606, 0.9384588503963743, 0.9442172169076963, 0.9498789086421802, 0.9554433459209397, 0.9609099590225986, 0.9662781882416229, 0.9715474839456266, 0.9767173066316468, 0.9817871269813807, 0.9867564259153816, 0.991624694646204, 0.9963914347304975, 1.00105615812004, 1.0056183872117077, 1.0100776548963737, 1.0144335046067354, 1.0186854903640588, 1.022833176823842, 1.0268761393203873, 1.0308139639102822, 1.0346462474147806, 1.0383725974610833, 1.0419926325225113, 1.0455059819575683, 1.0489122860478906, 1.0522111960350757, 1.055402374156392, 1.0584854936793597, 1.0614602389352041, 1.0643263053511758, 1.0670833994817346, 1.0697312390385945, 1.072269552919626, 1.0746980812366134, 1.0770165753418628, 1.0792247978536615, 1.0813225226805823, 1.0833095350446307, 1.085185631503238, 1.0869506199700878, 1.0886043197347854, 1.0901465614813588], \"type\": \"scatter\", \"uid\": \"5919fb2e-20a5-4f9a-b774-172a9b183579\"}, {\"line\": {\"color\": \"rgba(215,48,39, 0.75)\", \"shape\": \"spline\", \"width\": 0.25}, \"mode\": \"lines\", \"x\": [0.11258812367891115, 0.10154468479074044, 0.09049091318406166, 0.07942793363966169, 0.06835687187528466, 0.05727885443108441, 0.04619500855499187, 0.03510646208801304, 0.02401434334946413, 0.012919781022159217, 0.0018239040375606914, -0.009272158539095606, -0.020367277623688586, -0.031460324228103305, -0.0425501695751101, -0.05363568521322472, -0.06471574313153412, -0.07578921587447765, -0.08685497665657169, -0.09791189947706617, -0.10895885923452123, -0.11999473184129206, -0.13101839433791185, -0.1420287250073576, -0.15302460348919167, -0.1640049108935644, -0.17496852991506703, -0.1859143449464235, -0.19684124219201027, -0.20774810978118965, -0.21863383788144966, -0.22949731881133512, -0.24033744715316016, -0.2511531198654906, -0.2619432363953843, -0.2727066987903782, -0.28344241181021096, -0.29414928303826976, -0.3048262229927491, -0.3154721452375124, -0.3260859664926414, -0.3366666067446667, -0.34721298935646466, -0.35772404117681056, -0.368198692649579, -0.378635877922575, -0.3890345349559916, -0.39939360563047754, -0.40971203585480676, -0.4199887756731381, -0.4302227793718533, -0.4404130055859649, -0.4505584174050798, -0.46065798247891115, -0.4707106731223253, -0.4807154664199139, -0.4906713443300832, -0.5005772937886404, -0.510432306811885, -0.52023538059917, -0.5299855176349476, -0.5396817257902687, -0.5493230184237382, -0.5589084144819109, -0.5684369385991195, -0.5779076211967226, -0.5873194985817654, -0.5966716130450395, -0.605963012958536, -0.6151927528722789, -0.6243598936105278, -0.6334635023673476, -0.6425026528015219, -0.6514764251308184, -0.6603839062255763, -0.6692241897016276, -0.6779963760125219, -0.6866995725410631, -0.6953328936901364, -0.7038954609728235, -0.7123864031017929, -0.7208048560779582, -0.7291499632783947, -0.7374208755435052, -0.745616751263427, -0.7537367564636696, -0.7617800648899767, -0.7697458580924016, -0.77763332550859, -0.785441664546256, -0.7931700806648551, -0.8008177874564272, -0.8083840067256235, -0.8158679685688882, -0.8232689114528015, -0.8305860822915699, -0.8378187365236569, -0.8449661381875455, -0.8520275599966268, -0.8590022834132052, -0.8658895987216131, -0.872688805100429, -0.8793992106937889, -0.8860201326817884, -0.8925508973499593, -0.8989908401578289, -0.9053393058065357, -0.9115956483055134, -0.9177592310382207, -0.9238294268269237, -0.9298056179965117, -0.9356871964373509, -0.9414735636671618, -0.9471641308919185, -0.9527583190657615, -0.9582555589499187, -0.9636552911706284, -0.9689569662760589, -0.9741600447922187, -0.9792639972778489, -0.9842683043782989, -0.9891724568783722, -0.9939759557541429, -0.9986783122237324, -1.0032790477970475, -1.007777694324468, -1.0121737940444844, -1.016466899630276, -1.0206565742352307, -1.0247423915373957, -1.0287239357828577, -1.0326008018280488, -1.0363725951809715, -1.0400389320413403, -1.0435994393396362, -1.047053754775068, -1.0504015268524378, -1.053642414917909, -1.056776089193668, -1.0598022308114823, -1.0627205318451458], \"y\": [1.094222972892848, 1.095303006930388, 1.0962715879886311, 1.0971286175092387, 1.0978740082848424, 1.098507684467916, 1.0990295815784963, 1.099439646510741, 1.0997378375383355, 1.0999241243187368, 1.0999984878962616, 1.0999609207040157, 1.0998114265646632, 1.099550020690038, 1.099176729679595, 1.0986915915177053, 1.098094655569789, 1.0973859825772936, 1.0965656446515122, 1.0956337252662465, 1.0945903192493125, 1.0934355327728913, 1.0921694833427253, 1.090792299786162, 1.0893041222390447, 1.0877051021314528, 1.085995402172293, 1.0841751963327433, 1.0822446698285497, 1.0802040191011804, 1.0780534517978355, 1.0757931867503199, 1.0734234539527736, 1.07094449453827, 1.0683565607542793, 1.0656599159370002, 1.0628548344845645, 1.059941601829116, 1.0569205144077651, 1.0537918796324264, 1.0505560158585359, 1.0472132523526583, 1.0437639292589813, 1.0402083975647052, 1.0365470190643264, 1.0327801663228247, 1.0289082226377508, 1.0249315820002265, 1.0208506490548506, 1.016665839058527, 1.0123775778382085, 1.007986301747567, 1.0034924576225923, 0.998896502736124, 0.9941989047513217, 0.9894001416740776, 0.9845007018043761, 0.979501083686609, 0.9744017960588424, 0.9692033578010536, 0.9639062978823287, 0.9585111553070405, 0.9530184790599989, 0.9474288280505911, 0.9417427710559084, 0.9359608866628699, 0.9300837632093488, 0.9241119987243055, 0.9180462008669352, 0.9118869868648347, 0.9056349834511974, 0.8992908268010374, 0.8928551624664591, 0.8863286453109643, 0.8797119394428209, 0.8730057181474816, 0.8662106638190776, 0.8593274678909789, 0.8523568307654381, 0.8452994617423203, 0.8381560789469287, 0.8309274092569302, 0.8236141882283936, 0.816217160020941, 0.8087370773220264, 0.8011747012703454, 0.7935308013783857, 0.785806155454125, 0.7780015495218834, 0.7701177777423442, 0.7621556423317403, 0.7541159534802276, 0.7459995292694407, 0.7378071955892515, 0.7295397860537283, 0.7211981419163125, 0.712783111984216, 0.7042955525320503, 0.6957363272146961, 0.687106306979422, 0.6784063699772608, 0.6696374014736525, 0.6608002937583648, 0.6518959460546954, 0.6429252644279757, 0.6338891616933681, 0.6247885573229877, 0.6156243773523357, 0.6063975542860756, 0.5971090270031411, 0.5877597406612034, 0.5783506466004948, 0.5688827022470052, 0.5593568710150585, 0.5497741222092805, 0.5401354309259663, 0.5304417779538595, 0.520694149674352, 0.5108935379611123, 0.5010409400791612, 0.4911373585833891, 0.48118380121654675, 0.47118128080669586, 0.46113081516415444, 0.4510334269779234, 0.4408901437116269, 0.43070199749895993, 0.42047002503866415, 0.41019526748903784, 0.3998787703619925, 0.3895215834166664, 0.37912476055260597, 0.36868935970252575, 0.3582164427246583, 0.3477070752947043, 0.3371623267973928, 0.3265832702176699, 0.3159709820315103, 0.3053265420963873, 0.294651033541384, 0.2839455426569867], \"type\": \"scatter\", \"uid\": \"b1d94c29-238e-4277-b4e2-6ab695e69707\"}, {\"line\": {\"color\": \"rgba(244,109,67, 0.75)\", \"shape\": \"spline\", \"width\": 0.25}, \"mode\": \"lines\", \"x\": [-1.0711150884462897, -1.0736035926379857, -1.0759813183869493, -1.0782480203505256, -1.0804034646419103, -1.0824474288542822, -1.084379702083753, -1.086200084951128, -1.0879083896224802, -1.08950443982853, -1.090988070882836, -1.092359129698784, -1.093617474805387, -1.0947629763618802, -1.0957955161711197, -1.0967149876917777, -1.0975212960493363, -1.0982143580458772, -1.0987941021686656, -1.0992604685975302, -1.0996134092110348, -1.0998528875914437, -1.0999788790284806, -1.0999913705218762, -1.0998903607827117, -1.0996758602335506, -1.0993478910073635, -1.0989064869452443, -1.098351693592919, -1.0976835681960444, -1.096902179694304, -1.0960076087142916, -1.0949999475611942, -1.0938793002092666, -1.0926457822911024, -1.0912995210857044, -1.0898406555053497, -1.0882693360812565, -1.086585724948053, -1.0847899958270464, -1.0828823340082978, -1.0808629363315039, -1.0787320111656864, -1.0764897783876903, -1.0741364693594986, -1.071672326904357, -1.0690976052817203, -1.0664125701610159, -1.0636174985942313, -1.0607126789873274, -1.057698411070479, -1.0545750058671477, -1.0513427856619892, -1.0480020839675992, -1.0445532454901005, -1.0409966260935737, -1.0373325927633386, -1.0335615235680882, -1.029683807620876, -1.0256998450389687, -1.0216100469025573, -1.0174148352123429, -1.0131146428459923, -1.0087099135134712, -1.004201101711262, -0.9995886726754667, -0.9948731023338009, -0.990054877256487, -0.9851344946060485, -0.9801124620860091, -0.9749892978885083, -0.9697655306408297, -0.9644416993508584, -0.9590183533514605, -0.9534960522438045, -0.947875365839617, -0.9421568741023885, -0.9363411670875301, -0.9304288448814899, -0.9244205175398335, -0.9183168050242962, -0.9121183371388135, -0.905825753464534, -0.8994397032938274, -0.8929608455632857, -0.8863898487857341, -0.8797273909812487, -0.8729741596071983, -0.866130851487308, -0.8591981727397591, -0.8521768387043299, -0.8450675738685838, -0.8378711117931128, -0.830588195035847], \"y\": [0.25042457407909785, 0.23953147157484478, 0.22861365331555056, 0.21767224584262587, 0.2067083781315031, 0.19572318147514797, 0.18471778936732489, 0.1736933373856425, 0.16265096307437682, 0.15159180582709889, 0.14051700676910403, 0.12942770863967026, 0.11832505567414206, 0.107210193485868, 0.09608426894798854, 0.08494843007509877, 0.07380382590479358, 0.06265160637910208, 0.051492922225836284, 0.040328924839850754, 0.02916076616424124, 0.017989598571479037, 0.0068165747445087296, -0.004357152442193858, -0.015530430041575642, -0.026702105152975115, -0.03787102504108148, -0.04903603725487724, -0.06019598974655337, -0.07134973099038291, -0.08249611010153877, -0.09363397695484478, -0.10476218230345342, -0.11587957789742552, -0.1269850166022148, -0.13807735251702977, -0.1491554410930757, -0.1602181392516499, -0.17126430550209248, -0.18229280005956594, -0.19330248496266564, -0.2042922241908377, -0.21526088378159616, -0.22620733194753312, -0.2371304391930967, -0.24802907843114075, -0.25890212509921773, -0.2697484572756194, -0.2805669557951371, -0.29135650436454485, -0.3021159896777795, -0.31284430153081844, -0.32354033293623363, -0.3342029802374138, -0.3448311432224445, -0.3554237252376333, -0.3659796333006657, -0.37649777821338126, -0.38697707467416537, -0.39741644138993, -0.40781480118768987, -0.4181710811257054, -0.4284842126041959, -0.43875313147560063, -0.44897677815438036, -0.4591540977263504, -0.4692840400575315, -0.47936555990250557, -0.4893976170122671, -0.4993791762415625, -0.509309207655697, -0.5191866866368109, -0.5290105939895994, -0.5387799160464813, -0.5484936447721888, -0.5581507778677842, -0.5677503188740773, -0.5772912772744467, -0.5867726685970441, -0.5961935145163747, -0.605552842954245, -0.6148496881800672, -0.624083090910505, -0.6332520984084553, -0.6423557645813587, -0.6513931500788165, -0.6603633223895201, -0.6692653559374683, -0.6780983321774734, -0.6868613396899401, -0.6955534742749075, -0.7041738390453496, -0.7127215445197187, -0.7211957087137263], \"type\": \"scatter\", \"uid\": \"90100ca9-413a-442f-b33b-edc5e63c1b8a\"}, {\"line\": {\"color\": \"rgba(253,174,97, 0.75)\", \"shape\": \"spline\", \"width\": 0.25}, \"mode\": \"lines\", \"x\": [-0.8075250452460742, -0.799780191323057, -0.7919502977376295, -0.7840361970329255, -0.7760387307057208, -0.7679587491169573, -0.7597971114013242, -0.7515546853759092, -0.7432323474479231, -0.7348309825215121, -0.726351483903669, -0.7177947532092471, -0.7091617002650928, -0.7004532430133057, -0.6916703074136344, -0.6828138273450209, -0.6738847445062998, -0.6648840083160725, -0.6558125758117543, -0.6466714115478144, -0.6374614874932154, -0.6281837829280664, -0.6188392843394944, -0.609428985316756, -0.5999538864455882, -0.5904149952018175, -0.5808133258442365, -0.5711498993067596, -0.5614257430898651, -0.5516418911513475, -0.541799383796374, -0.5318992675668722, -0.521942595130251, -0.5119304251674739, -0.5018638222604868, -0.49174385677902704, -0.48157160476680977, -0.4713481478271133, -0.4610745730077745, -0.4507519726856045, -0.4403814444502346, -0.42996409098741556, -0.41950101996176753, -0.4089933438990036, -0.398442180067637, -0.38784865036018334, -0.3772138811738684, -0.3665390032908645, -0.35582515175805235, -0.34507346576633396, -0.33428508852950434, -0.3234611671626917, -0.3126028525603916, -0.3017112992740895, -0.29078766538950057, -0.2798331124034307, -0.2688488051002769, -0.2578359114281776, -0.24679560237482245, -0.23572905184294854], \"y\": [-0.746929247854391, -0.7552162905865144, -0.7634230320820037, -0.7715485997279418, -0.7795921295425281, -0.7875527662669458, -0.7954296634563007, -0.8032219835696223, -0.8109288980589174, -0.8185495874572714, -0.8260832414659787, -0.8335290590407008, -0.8408862484766432, -0.8481540274927326, -0.8553316233147987, -0.8624182727577403, -0.8694132223066771, -0.8763157281970654, -0.8831250564937856, -0.8898404831691786, -0.8964612941800317, -0.9029867855435006, -0.9094162634119661, -0.9157490441468064, -0.9219844543910892, -0.9281218311411698, -0.9341605218171859, -0.9400998843324462, -0.9459392871617042, -0.9516781094083047, -0.957315740870205, -0.9628515821048564, -0.9682850444929422, -0.9736155503009644, -0.9788425327426751, -0.9839654360393396, -0.9889837154788342, -0.9938968374735629, -0.9987042796171941, -1.0034055307402068, -1.0080000909642444, -1.0124874717552634, -1.0168671959754807, -1.0211387979341064, -1.0253018234368594, -1.029355829834263, -1.0333003860687109, -1.037135072720299, -1.0408594820514243, -1.044473218050138, -1.0479758964722528, -1.0513671448822002, -1.05464660269263, -1.0578139212027515, -1.0608687636354104, -1.0638108051728978, -1.0666397329914883, -1.0693552462947014, -1.0719570563452852, -1.0744448864959173], \"type\": \"scatter\", \"uid\": \"8739d626-042f-4d6f-8ef9-6862a6ef6d1c\"}, {\"line\": {\"color\": \"rgba(254,224,139, 0.75)\", \"shape\": \"spline\", \"width\": 0.25}, \"mode\": \"lines\", \"x\": [-0.20186360431337075, -0.18923965103334078, -0.17658996034148206, -0.1639162526504957, -0.1512202516394949, -0.13850368401958466, -0.1257682792990149, -0.11301576954796297, -0.10024788916296712, -0.08746637463103456, -0.07467296429347943, -0.06186939810949302, -0.049057417419509565, -0.03623876470836966, -0.02341518336833766, -0.010588417461995701, 0.002239788514963175, 0.01506768987098618], \"y\": [-1.0813191412592376, -1.0835997205964847, -1.0857329256804336, -1.0877184663859574, -1.0895560726709241, -1.091245494612923, -1.0927865024432564, -1.0941788865781874, -1.0954224576474454, -1.0965170465199818, -1.0974625043269701, -1.098258702482056, -1.098905532698843, -1.0994029070056217, -1.0997507577573327, -1.0999490376447676, -1.099997719701004, -1.0998967973050708], \"type\": \"scatter\", \"uid\": \"eeb4f8c1-dc95-49ef-b3cd-1fb69de487b4\"}, {\"line\": {\"color\": \"rgba(217,239,139, 0.75)\", \"shape\": \"spline\", \"width\": 0.25}, \"mode\": \"lines\", \"x\": [0.04960884818656127, 0.06083066001405812, 0.07204612498092365, 0.08325407290434042, 0.09445333438579631, 0.10564274093308954, 0.11682112508224897, 0.1279873205193415, 0.13914016220216494, 0.1502784864817987, 0.16140113122401883, 0.17250693593055003, 0.1835947418601471, 0.19466339214949788, 0.20571173193392056, 0.21673860846786214, 0.2277428712451708, 0.23872337211913514, 0.24967896542228113, 0.26060850808590186, 0.27151085975932493, 0.2823848829288918, 0.29322944303664095, 0.3040434085986879, 0.31482565132327417, 0.3255750462284935, 0.33629047175966625, 0.34697080990636303, 0.3576149463190476, 0.3682217704253485, 0.37879017554593103, 0.38931905900996405, 0.3998073222701717, 0.410253871017447, 0.4206576152950321, 0.43101746961223825, 0.44133235305770613, 0.4516011894121791, 0.4618229072607952, 0.4719964401048748, 0.4821207264731937, 0.4921947100327376, 0.5022173396989104, 0.5121875697452045, 0.5221043599123073, 0.5319666755166377, 0.5417734875583045, 0.5515237728284633, 0.561216514016079, 0.5708506998140666, 0.5804253250248069, 0.5899393906650292, 0.5993919040700365, 0.6087818789972792, 0.618108335729256, 0.6273703011757368, 0.6365668089752863, 0.6456968995960944, 0.6547596204360895, 0.6637540259223317, 0.6726791776096664, 0.6815341442786421, 0.6903180020326688, 0.699029834394414, 0.7076687324014282, 0.7162337947009771, 0.7247241276440904, 0.7331388453787997, 0.741477069942565, 0.749737931353882, 0.7579205677030473], \"y\": [-1.098880777055274, -1.0983167260869036, -1.0976380805507948, -1.0968449112544758, -1.0959373009544868, -1.0949153443477466, -1.0937791480616723, -1.0925288306430543, -1.0911645225456863, -1.0896863661167557, -1.0880945155819908, -1.0863891370295697, -1.0845704083927914, -1.0826385194315096, -1.0805936717123357, -1.0784360785876068, -1.076165965173126, -1.0737835683246737, -1.0712891366132953, -1.0686829302993666, -1.0659652213054385, -1.063136293187866, -1.060196441107223, -1.0571459717975051, -1.0539852035341275, -1.0507144661007168, -1.0473341007547026, -1.04384446019171, -1.0402459085087645, -1.0365388211662996, -1.0327235849489849, -1.028800597925369, -1.024770269406346, -1.0206330199024525, -1.016389281079989, -1.0120394957159842, -1.0075841176519946, -1.0030236117467553, -0.9983584538276756, -0.9935891306411949, -0.9887161398019961, -0.9837399897410848, -0.9786611996527448, -0.9734802994403644, -0.9681978296611494, -0.9628143414697231, -0.9573303965606189, -0.9517465671096785, -0.9460634357143501, -0.9402815953329038, -0.934401649222564, -0.9284242108765659, -0.9223499039601492, -0.9161793622454844, -0.9099132295455482, -0.903552159646949, -0.8970968162417152, -0.8905478728580465, -0.883906012790041, -0.8771719290264006, -0.8703463241781302, -0.8634299104052275, -0.8564234093423793, -0.849327552023669, -0.8421430788063012, -0.8348707392933582, -0.8275112922555874, -0.8200655055522337, -0.8125341560509248, -0.8049180295466128, -0.7972179206795912], \"type\": \"scatter\", \"uid\": \"13266ad4-34e3-49a9-9617-184134f40dd1\"}, {\"line\": {\"color\": \"rgba(166,217,106, 0.75)\", \"shape\": \"spline\", \"width\": 0.25}, \"mode\": \"lines\", \"x\": [0.7825877996945482, 0.7905203740414039, 0.7983688240645439, 0.8061323145602572, 0.8138100193659176, 0.8214011214479033, 0.8289048129885417, 0.8363202954720745, 0.8436467797696315, 0.8508834862232091, 0.858029644728638, 0.8650844948175344, 0.8720472857382251, 0.8789172765356429, 0.8856937361301739, 0.8923759433954578, 0.898963187235125, 0.9054547666584727, 0.9118499908550588, 0.9181481792682171, 0.9243486616674792, 0.9304507782198964, 0.93645387956026, 0.9423573268602019, 0.9481604918961777, 0.9538627571163177, 0.9594635157061483, 0.9649621716531641, 0.9703581398102545, 0.9756508459579719, 0.9808397268656398, 0.9859242303512885, 0.9909038153404174, 0.9957779519235714, 1.0005461214127362, 1.005207816396532, 1.0097625407942115, 1.0142098099084513, 1.0185491504769302, 1.0227801007226944, 1.0269022104032959, 1.0309150408587076, 1.0348181650580015, 1.0386111676447947, 1.042293644981448, 1.0458652051920205, 1.0493254682039705, 1.0526740657886033, 1.0559106416002553, 1.0590348512142163, 1.062046362163379, 1.0649448539736235, 1.067730018197917, 1.0704015584491402, 1.072959190431626, 1.075402641971414], \"y\": [-0.7730176814079003, -0.764903613683083, -0.7567081476776879, -0.7484321555236136, -0.7400765179220626, -0.7316421240498164, -0.7231298714646153, -0.7145406660096416, -0.7058754217171265, -0.6971350607110778, -0.6883205131091529, -0.6794327169236786, -0.6704726179618334, -0.6614411697249942, -0.6523393333072706, -0.6431680772932273, -0.633928377654815, -0.6246212176475046, -0.6152475877056565, -0.6058084853371222, -0.5963049150170912, -0.5867378880812021, -0.5771084226179152, -0.5674175433601738, -0.5576662815763551, -0.5478556749605289, -0.5379867675220253, -0.5280606094743384, -0.5180782571233642, -0.5080407727549965, -0.4979492245220765, -0.4878046863307276, -0.47760823772607225, -0.4673609637773545, -0.45706395496246505, -0.4467183070519007, -0.43632512099215487, -0.42588550278855847, -0.41540056338758596, -0.4048714185586276, -0.3942991887752564, -0.3836849990959895, -0.37302997904456786, -0.36233526248975023, -0.35160198752465466, -0.3408312963456453, -0.33002433513078744, -0.31918225391786975, -0.30830620648202517, -0.2973973502129488, -0.28645684599173554, -0.2754858580673389, -0.26448555393267853, -0.25345710420039946, -0.2424016824782986, -0.2313204652444375], \"type\": \"scatter\", \"uid\": \"dc51bba6-12e6-4733-b3b9-50344676031d\"}, {\"line\": {\"color\": \"rgba(102,189,99, 0.75)\", \"shape\": \"spline\", \"width\": 0.25}, \"mode\": \"lines\", \"x\": [1.0821379470887018, 1.0838272050669895, 1.0854331579672367, 1.0869556823527629, 1.0883946611993676, 1.089749983904323, 1.0910215462948762, 1.0922092506362555, 1.0933130056391835, 1.0943327264668923, 1.0952683347416456, 1.096119758550762, 1.0968869324521426, 1.097569797479302, 1.0981683011458987, 1.0986823974497706, 1.099112046876471, 1.0994572164023046], \"y\": [-0.19742710925972193, -0.18793240688257565, -0.1784232596531968, -0.16890039846323537, -0.15936455525842014, -0.14981646298230403, -0.14025685551992642, -0.13068646764140945, -0.12110603494547614, -0.11151629380291388, -0.10191798129997828, -0.09231183518173366, -0.08269859379535129, -0.0730789960333615, -0.06345378127685519, -0.05382368933865744, -0.044189460406462044, -0.03455183498594315], \"type\": \"scatter\", \"uid\": \"01694819-36c6-44a3-b6e8-bd78c6994ee9\"}, {\"marker\": {\"color\": \"rgba(26,152,80, 0.75)\", \"size\": 0.5}, \"mode\": \"markers\", \"x\": [0.648254463360541], \"y\": [0.6243125425082673], \"type\": \"scatter\", \"uid\": \"0b9126e3-1a75-45b5-b1ed-7233a3e0c1d9\"}, {\"marker\": {\"color\": \"rgba(26,152,80, 0.75)\", \"size\": 0.5}, \"mode\": \"markers\", \"text\": \"186 V\", \"x\": [0.8797146909137388], \"y\": [0.19000542779232704], \"type\": \"scatter\", \"uid\": \"65c2dfc4-cf66-4b80-80cf-7174881bdcdd\"}, {\"marker\": {\"color\": \"rgba(26,152,80, 0.75)\", \"size\": 0.5}, \"mode\": \"markers\", \"text\": \"138 S\", \"x\": [-0.8829355558919321], \"y\": [-0.17442707399312987], \"type\": \"scatter\", \"uid\": \"bdd92b9c-13e8-48de-8902-5ca1a4bc8527\"}, {\"marker\": {\"color\": \"rgba(26,152,80, 0.75)\", \"size\": 0.5}, \"mode\": \"markers\", \"text\": \"186 V\", \"x\": [0.8167651899532479], \"y\": [0.37801405328457705], \"type\": \"scatter\", \"uid\": \"2c8f039c-22a5-47c8-b9ef-5fce629de24a\"}, {\"marker\": {\"color\": \"rgba(26,152,80, 0.75)\", \"size\": 0.5}, \"mode\": \"markers\", \"text\": \"156 R/Q\", \"x\": [-0.307399788741763], \"y\": [-0.845875504954198], \"type\": \"scatter\", \"uid\": \"3b81d309-cf5c-4662-9180-24ff0222f5a1\"}, {\"marker\": {\"color\": \"rgba(26,152,80, 0.75)\", \"size\": 0.5}, \"mode\": \"markers\", \"text\": \"186 V\", \"x\": [0.3260808502164035], \"y\": [0.8388511662518849], \"type\": \"scatter\", \"uid\": \"13e32583-ec93-40b0-ac7b-925be9e465bf\"}, {\"marker\": {\"color\": \"rgba(26,152,80, 0.75)\", \"size\": 0.5}, \"mode\": \"markers\", \"text\": \"219 F/Y\", \"x\": [0.45369190698436784], \"y\": [-0.7772796495064617], \"type\": \"scatter\", \"uid\": \"190ec158-04ac-4089-9296-69c05f9b6591\"}, {\"marker\": {\"color\": \"rgba(26,152,80, 0.75)\", \"size\": 0.5}, \"mode\": \"markers\", \"text\": \"186 V\", \"x\": [0.899536114518463], \"y\": [0.028892536701135264], \"type\": \"scatter\", \"uid\": \"4bdfef77-9c4d-46df-91bf-95db82e6ecd3\"}, {\"marker\": {\"color\": \"rgba(26,152,80, 0.75)\", \"size\": 0.5}, \"mode\": \"markers\", \"text\": \"225 G\", \"x\": [0.7304974052082653], \"y\": [-0.5257124128114072], \"type\": \"scatter\", \"uid\": \"e1436bac-73ba-46b8-8154-620f433481f0\"}, {\"marker\": {\"color\": \"rgba(26,152,80, 0.75)\", \"size\": 0.5}, \"mode\": \"markers\", \"text\": \"186 V\", \"x\": [0.8958278993697459], \"y\": [0.08655850455494499], \"type\": \"scatter\", \"uid\": \"8d6e715a-37e7-4551-9aa7-e89ca368bb20\"}, {\"marker\": {\"color\": \"rgba(26,152,80, 0.75)\", \"size\": 0.5}, \"mode\": \"markers\", \"text\": \"246 H\", \"x\": [0.8984596737145817], \"y\": [-0.05263282919136453], \"type\": \"scatter\", \"uid\": \"591c8215-bb31-4a2f-ac49-97db6f050f06\"}, {\"marker\": {\"color\": \"rgba(215,48,39, 0.75)\", \"size\": 0.5}, \"mode\": \"markers\", \"x\": [-0.6581774863177644], \"y\": [0.6138423221841496], \"type\": \"scatter\", \"uid\": \"4067a9ea-f051-4f2d-950b-5ec3eca43cde\"}, {\"marker\": {\"color\": \"rgba(215,48,39, 0.75)\", \"size\": 0.5}, \"mode\": \"markers\", \"text\": \"194 P\", \"x\": [0.02006066627234595], \"y\": [0.8997763998175934], \"type\": \"scatter\", \"uid\": \"70a3e7a3-d187-4c19-b9a7-3daf960dc0ab\"}, {\"marker\": {\"color\": \"rgba(215,48,39, 0.75)\", \"size\": 0.5}, \"mode\": \"markers\", \"text\": \"138 S\", \"x\": [-0.8985832811776536], \"y\": [-0.050478577515634754], \"type\": \"scatter\", \"uid\": \"3225ac0a-0df4-41b0-b608-3cebe033cfe9\"}, {\"marker\": {\"color\": \"rgba(215,48,39, 0.75)\", \"size\": 0.5}, \"mode\": \"markers\", \"text\": \"194 P\", \"x\": [-0.21261340248789276], \"y\": [0.8745258950325722], \"type\": \"scatter\", \"uid\": \"c4103ff8-b0cb-423f-8297-1a4a8bdb6622\"}, {\"marker\": {\"color\": \"rgba(215,48,39, 0.75)\", \"size\": 0.5}, \"mode\": \"markers\", \"text\": \"203 I\", \"x\": [-0.06090906523254872], \"y\": [-0.8979365711298861], \"type\": \"scatter\", \"uid\": \"a3d92e8d-c279-4d8f-9361-2b7e36300f53\"}, {\"marker\": {\"color\": \"rgba(215,48,39, 0.75)\", \"size\": 0.5}, \"mode\": \"markers\", \"text\": \"194 P\", \"x\": [0.08133550976223951], \"y\": [0.8963172066025045], \"type\": \"scatter\", \"uid\": \"500f014c-b1d1-43ae-b141-57a4b1f51901\"}, {\"marker\": {\"color\": \"rgba(215,48,39, 0.75)\", \"size\": 0.5}, \"mode\": \"markers\", \"text\": \"219 F/Y\", \"x\": [0.06529610000581483], \"y\": [-0.8976282188768525], \"type\": \"scatter\", \"uid\": \"8c8b5904-fe4f-45c7-b44b-eb912422f00e\"}, {\"marker\": {\"color\": \"rgba(215,48,39, 0.75)\", \"size\": 0.5}, \"mode\": \"markers\", \"text\": \"194 P\", \"x\": [-0.08093176129737223], \"y\": [0.896353752718928], \"type\": \"scatter\", \"uid\": \"f22858b4-174c-4d21-ba41-b9354e5aabda\"}, {\"marker\": {\"color\": \"rgba(215,48,39, 0.75)\", \"size\": 0.5}, \"mode\": \"markers\", \"text\": \"225 G\", \"x\": [0.8092982679967856], \"y\": [-0.3937465090859892], \"type\": \"scatter\", \"uid\": \"42a2b4be-cc42-4e64-ae3a-1e5cf744f797\"}, {\"marker\": {\"color\": \"rgba(244,109,67, 0.75)\", \"size\": 0.5}, \"mode\": \"markers\", \"x\": [-0.7468578569188333], \"y\": [-0.502198508120651], \"type\": \"scatter\", \"uid\": \"3f031200-f48b-461d-9081-4ea3dfecfb6b\"}, {\"marker\": {\"color\": \"rgba(175,175,175,0.5)\", \"size\": 0.5}, \"mode\": \"markers\", \"text\": \"138 S\", \"x\": [-0.8990025378919914], \"y\": [0.042360793946274275], \"type\": \"scatter\", \"uid\": \"7b6b526d-ae3c-410a-96c1-df30a2942150\"}, {\"marker\": {\"color\": \"rgba(175,175,175,0.5)\", \"size\": 0.5}, \"mode\": \"markers\", \"text\": \"156 R/Q\", \"x\": [-0.5240773978811414], \"y\": [-0.7316712930203916], \"type\": \"scatter\", \"uid\": \"62403c6e-1e5d-406d-b5df-75531c36dfa2\"}, {\"marker\": {\"color\": \"rgba(175,175,175,0.5)\", \"size\": 0.5}, \"mode\": \"markers\", \"text\": \"138 S\", \"x\": [-0.8787445412025204], \"y\": [0.19444287414758066], \"type\": \"scatter\", \"uid\": \"debe7061-c1fd-4218-bd80-14dd11e0c976\"}, {\"marker\": {\"color\": \"rgba(175,175,175,0.5)\", \"size\": 0.5}, \"mode\": \"markers\", \"text\": \"203 I\", \"x\": [-0.1431875659019758], \"y\": [-0.8885366176872326], \"type\": \"scatter\", \"uid\": \"622de83a-7254-451d-9952-02434cd275a9\"}, {\"marker\": {\"color\": \"rgba(175,175,175,0.5)\", \"size\": 0.5}, \"mode\": \"markers\", \"text\": \"138 S\", \"x\": [-0.8923542635302305], \"y\": [0.11706352275333214], \"type\": \"scatter\", \"uid\": \"e8d5d769-5a76-4fc9-84b5-5df58631bc65\"}, {\"marker\": {\"color\": \"rgba(175,175,175,0.5)\", \"size\": 0.5}, \"mode\": \"markers\", \"text\": \"219 F/Y\", \"x\": [0.14951659014142246], \"y\": [-0.8874935432286152], \"type\": \"scatter\", \"uid\": \"76d1eab7-9135-4614-9227-ec5ecc6514f4\"}, {\"marker\": {\"color\": \"rgba(175,175,175,0.5)\", \"size\": 0.5}, \"mode\": \"markers\", \"text\": \"138 S\", \"x\": [-0.837897683704071], \"y\": [-0.32852316758997774], \"type\": \"scatter\", \"uid\": \"2b10d04c-c048-4e93-8e30-57e88fded59d\"}, {\"marker\": {\"color\": \"rgba(175,175,175,0.5)\", \"size\": 0.5}, \"mode\": \"markers\", \"text\": \"225 G\", \"x\": [0.8584244700030703], \"y\": [-0.27038385547208243], \"type\": \"scatter\", \"uid\": \"0797a7e1-0597-4c23-bb47-460e38eb5152\"}, {\"marker\": {\"color\": \"rgba(175,175,175,0.5)\", \"size\": 0.5}, \"mode\": \"markers\", \"text\": \"138 S\", \"x\": [-0.8844749150931573], \"y\": [0.1664455603822225], \"type\": \"scatter\", \"uid\": \"aea5fefc-58de-4df0-80e0-e26af50792c1\"}, {\"marker\": {\"color\": \"rgba(175,175,175,0.5)\", \"size\": 0.5}, \"mode\": \"markers\", \"text\": \"246 H\", \"x\": [0.8952717957807845], \"y\": [-0.09213257664609849], \"type\": \"scatter\", \"uid\": \"e4552d47-af64-47cf-9a14-447bb4c4adb4\"}, {\"marker\": {\"color\": \"rgba(253,174,97, 0.75)\", \"size\": 0.5}, \"mode\": \"markers\", \"x\": [-0.6363726791226451], \"y\": [-0.6364195261510028], \"type\": \"scatter\", \"uid\": \"a077cd66-01f4-46fe-a79f-89e056801169\"}, {\"marker\": {\"color\": \"rgba(175,175,175,0.5)\", \"size\": 0.5}, \"mode\": \"markers\", \"text\": \"156 R/Q\", \"x\": [-0.45340053096993593], \"y\": [-0.7774496501485998], \"type\": \"scatter\", \"uid\": \"d4f20602-fd71-4308-b135-8d69f6ce98c4\"}, {\"marker\": {\"color\": \"rgba(175,175,175,0.5)\", \"size\": 0.5}, \"mode\": \"markers\", \"text\": \"219 F/Y\", \"x\": [0.22214524889399312], \"y\": [-0.8721533628862678], \"type\": \"scatter\", \"uid\": \"e124d333-1b07-4761-b15f-7bc43e5f779a\"}, {\"marker\": {\"color\": \"rgba(175,175,175,0.5)\", \"size\": 0.5}, \"mode\": \"markers\", \"text\": \"156 R/Q\", \"x\": [-0.5875119786971552], \"y\": [-0.6817841849789077], \"type\": \"scatter\", \"uid\": \"f1f02f9b-2fcb-4fc8-8f31-7a2169872869\"}, {\"marker\": {\"color\": \"rgba(175,175,175,0.5)\", \"size\": 0.5}, \"mode\": \"markers\", \"text\": \"225 G\", \"x\": [0.7672884215756408], \"y\": [-0.470391834661234], \"type\": \"scatter\", \"uid\": \"dd1a1d26-68c7-4335-9432-d0c7e24a7411\"}, {\"marker\": {\"color\": \"rgba(175,175,175,0.5)\", \"size\": 0.5}, \"mode\": \"markers\", \"text\": \"156 R/Q\", \"x\": [-0.6583139619866449], \"y\": [-0.6136959568495186], \"type\": \"scatter\", \"uid\": \"e00c897c-6406-446e-a28f-52d7f77a5cf2\"}, {\"marker\": {\"color\": \"rgba(175,175,175,0.5)\", \"size\": 0.5}, \"mode\": \"markers\", \"text\": \"246 H\", \"x\": [0.8859276671504145], \"y\": [-0.15853128580007322], \"type\": \"scatter\", \"uid\": \"bb1b2603-f14e-4d22-b8a8-3b44c440fe80\"}, {\"marker\": {\"color\": \"rgba(175,175,175,0.5)\", \"size\": 0.5}, \"mode\": \"markers\", \"text\": \"203 I\", \"x\": [-0.16202794592413614], \"y\": [-0.8852948349220192], \"type\": \"scatter\", \"uid\": \"a7cdb1b2-16f3-497b-b38f-872dac747414\"}, {\"marker\": {\"color\": \"rgba(175,175,175,0.5)\", \"size\": 0.5}, \"mode\": \"markers\", \"text\": \"219 F/Y\", \"x\": [0.04412095050238301], \"y\": [-0.898917872626174], \"type\": \"scatter\", \"uid\": \"61b480c9-af3e-4f15-8fcd-e8a02323c18e\"}, {\"marker\": {\"color\": \"rgba(175,175,175,0.5)\", \"size\": 0.5}, \"mode\": \"markers\", \"text\": \"203 I\", \"x\": [-0.15575552303981452], \"y\": [-0.8864198875491196], \"type\": \"scatter\", \"uid\": \"f0c254a2-615b-479f-aed7-f93769d4ebf5\"}, {\"marker\": {\"color\": \"rgba(175,175,175,0.5)\", \"size\": 0.5}, \"mode\": \"markers\", \"text\": \"225 G\", \"x\": [0.6427521171996072], \"y\": [-0.6299759644902514], \"type\": \"scatter\", \"uid\": \"365c6da4-cbf7-48df-8daa-b319a2d442aa\"}, {\"marker\": {\"color\": \"rgba(217,239,139, 0.75)\", \"size\": 0.5}, \"mode\": \"markers\", \"x\": [0.05118263883397186], \"y\": [-0.8985434533076245], \"type\": \"scatter\", \"uid\": \"bffe3e1d-dad1-4d4e-8604-2d66ed0e6b9f\"}, {\"marker\": {\"color\": \"rgba(175,175,175,0.5)\", \"size\": 0.5}, \"mode\": \"markers\", \"text\": \"219 F/Y\", \"x\": [0.09698712859029934], \"y\": [-0.8947589043355807], \"type\": \"scatter\", \"uid\": \"45ae11b1-6ae6-471a-bb63-40d05876b26c\"}, {\"marker\": {\"color\": \"rgba(175,175,175,0.5)\", \"size\": 0.5}, \"mode\": \"markers\", \"text\": \"225 G\", \"x\": [0.7008289237569945], \"y\": [-0.5646581440354977], \"type\": \"scatter\", \"uid\": \"df7b7fe5-ab71-4739-91b5-6dafad7d12b6\"}, {\"marker\": {\"color\": \"rgba(166,217,106, 0.75)\", \"size\": 0.5}, \"mode\": \"markers\", \"x\": [0.6760584364433856], \"y\": [-0.5940917357729569], \"type\": \"scatter\", \"uid\": \"636244ef-bdf2-4d32-945d-08ff438a9c6a\"}, {\"marker\": {\"color\": \"rgba(175,175,175,0.5)\", \"size\": 0.5}, \"mode\": \"markers\", \"text\": \"225 G\", \"x\": [0.6548708215938452], \"y\": [-0.617368777170503], \"type\": \"scatter\", \"uid\": \"c2193415-2e54-498f-b453-933af0b03234\"}, {\"marker\": {\"color\": \"rgba(175,175,175,0.5)\", \"size\": 0.5}, \"mode\": \"markers\", \"text\": \"246 H\", \"x\": [0.8884854432255409], \"y\": [-0.1435047636014716], \"type\": \"scatter\", \"uid\": \"28aa0260-decb-4641-8a3f-62528fb947ee\"}, {\"marker\": {\"color\": \"rgba(102,189,99, 0.75)\", \"size\": 0.5}, \"mode\": \"markers\", \"x\": [0.8920475166558368], \"y\": [-0.11937850739624171], \"type\": \"scatter\", \"uid\": \"f66e4e2d-b441-4383-835a-7045dfabab36\"}], {\"annotations\": [{\"align\": \"left\", \"showarrow\": false, \"text\": \"186 V\", \"valign\": \"bottom\", \"x\": 0.9034127811900292, \"y\": 0.7898388106332178}, {\"align\": \"left\", \"showarrow\": false, \"text\": \"194 P\", \"valign\": \"bottom\", \"x\": -0.6811198839387574, \"y\": 0.9879654364922152}, {\"align\": \"left\", \"showarrow\": false, \"text\": \"138 S\", \"valign\": \"bottom\", \"x\": -1.1662882966709676, \"y\": -0.2824386819264193}, {\"align\": \"left\", \"showarrow\": false, \"text\": \"156 R/Q\", \"valign\": \"bottom\", \"x\": -0.6017911539832881, \"y\": -1.038194301172696}, {\"align\": \"left\", \"showarrow\": false, \"text\": \"203 I\", \"valign\": \"bottom\", \"x\": -0.10936133363232775, \"y\": -1.1950063174335768}, {\"align\": \"left\", \"showarrow\": false, \"text\": \"219 F/Y\", \"valign\": \"bottom\", \"x\": 0.47020087594062343, \"y\": -1.104043086235619}, {\"align\": \"left\", \"showarrow\": false, \"text\": \"225 G\", \"valign\": \"bottom\", \"x\": 1.0526860054398153, \"y\": -0.576066119426551}, {\"align\": \"left\", \"showarrow\": false, \"text\": \"246 H\", \"valign\": \"bottom\", \"x\": 1.1927050970609272, \"y\": -0.13211567448597394}], \"height\": 800, \"hovermode\": false, \"margin\": {\"b\": 25, \"l\": 25, \"r\": 25, \"t\": 25}, \"shapes\": [{\"fillcolor\": \"rgba(175,175,175,0.5)\", \"layer\": \"below\", \"line\": {\"color\": \"rgba(175,175,175,0.5)\", \"width\": 0.5}, \"path\": \"M 0.8419425508321818, 0.5395671794116085 Q 0.3601413685336339, 0.3468403013934818 0.5708545417708198, 0.8210512116425062L 0.5708545417708198, 0.8210512116425062 L 0.6487023093849854, 0.7610422549363384 L 0.7202827370672678, 0.6936806027869636 L 0.7849042612664601, 0.6196170596794061 L 0.8419425508321818, 0.5395671794116085 \", \"type\": \"path\"}, {\"fillcolor\": \"rgba(26,152,80, 0.75)\", \"layer\": \"below\", \"line\": {\"color\": \"rgba(26,152,80, 0.75)\", \"width\": 0.5}, \"path\": \"M 0.9917637692674677, 0.12808054484731504 Q -0.04040308570722415, 0.19587646787027457 -0.9614971069861514, -0.274815052821459L -0.9614971069861514, -0.274815052821459 L -0.9810395065465912, -0.19380785999236652 L -0.993769498442892, -0.11145485168696306 M -0.993769498442892, -0.11145485168696306 Q -0.040585068787509115, 0.19583884239729654 0.9562181344897686, 0.29265488082877894L 0.9562181344897686, 0.29265488082877894 L 0.9774607676819319, 0.2111171419914745 L 0.9917637692674677, 0.12808054484731504 \", \"type\": \"path\"}, {\"fillcolor\": \"rgba(26,152,80, 0.75)\", \"layer\": \"below\", \"line\": {\"color\": \"rgba(26,152,80, 0.75)\", \"width\": 0.5}, \"path\": \"M 0.9562181344897686, 0.29265488082877894 Q -0.14703327675401465, 0.1355773414954628 -0.214299138039045, -0.9767680786326518L -0.214299138039045, -0.9767680786326518 L -0.3415553208241811, -0.9398616721713311 L -0.46281508363219914, -0.8864548484624135 M -0.46281508363219914, -0.8864548484624135 Q -0.14755597108783544, 0.1350082789917932 0.8419425508321818, 0.5395671794116085L 0.8419425508321818, 0.5395671794116085 L 0.9075168777258309, 0.42001561476064114 L 0.9562181344897686, 0.29265488082877894 \", \"type\": \"path\"}, {\"fillcolor\": \"rgba(26,152,80, 0.75)\", \"layer\": \"below\", \"line\": {\"color\": \"rgba(26,152,80, 0.75)\", \"width\": 0.5}, \"path\": \"M 0.5708545417708198, 0.8210512116425062 Q -0.1994182055194059, -0.015243992502622131 0.6890186979118617, -0.7247435642541731L 0.6890186979118617, -0.7247435642541731 L 0.6005894250178884, -0.799557591769775 L 0.5041021188715198, -0.8636440550071796 L 0.40085133760011327, -0.9161431138988056 L 0.2922223840314641, -0.9563503951329594 M 0.2922223840314641, -0.9563503951329594 Q -0.19933938272930263, -0.01624224409066066 0.13354812946875513, 0.9910423286194171L 0.13354812946875513, 0.9910423286194171 L 0.22668031317457304, 0.9739692169771473 L 0.3177802863873488, 0.9481643789889886 L 0.4060313292125049, 0.9138591574733639 L 0.4906422626864182, 0.871361101992711 L 0.5708545417708198, 0.8210512116425062 \", \"type\": \"path\"}, {\"fillcolor\": \"rgba(26,152,80, 0.75)\", \"layer\": \"below\", \"line\": {\"color\": \"rgba(26,152,80, 0.75)\", \"width\": 0.5}, \"path\": \"M 1.0, 0.0 Q -0.19128138812532455, 0.058407452922113905 0.8294284721575524, -0.5586129335903245L 0.8294284721575524, -0.5586129335903245 L 0.8116637835647392, -0.5841249031237858 L 0.7931146667693103, -0.6090723482111184 M 0.7931146667693103, -0.6090723482111184 Q -0.1913408286303365, 0.05821243251279067 0.9979388180814162, 0.06417254371042298L 0.9979388180814162, 0.06417254371042298 L 0.9994845716871812, 0.03210281855681696 L 1.0, 0.0 \", \"type\": \"path\"}, {\"fillcolor\": \"rgba(26,152,80, 0.75)\", \"layer\": \"below\", \"line\": {\"color\": \"rgba(26,152,80, 0.75)\", \"width\": 0.5}, \"path\": \"M 0.9979388180814162, 0.06417254371042298 Q -0.1999731033827259, -0.0032799273591999248 0.9995065603657315, -0.03141075907812924L 0.9995065603657315, -0.03141075907812924 L 0.9982885263495352, -0.05848092132373836 L 0.9963374717387062, -0.08550814235687042 M 0.9963374717387062, -0.08550814235687042 Q -0.19995416154188683, -0.004281738207905531 0.9917637692674677, 0.12808054484731504L 0.9917637692674677, 0.12808054484731504 L 0.995364332633051, 0.0961761161721611 L 0.9979388180814162, 0.06417254371042298 \", \"type\": \"path\"}, {\"fillcolor\": \"rgba(175,175,175,0.5)\", \"layer\": \"below\", \"line\": {\"color\": \"rgba(175,175,175,0.5)\", \"width\": 0.5}, \"path\": \"M -0.3247700433623556, 0.9457930106182926 Q -0.36565415906542464, 0.34102351232452754 -0.9661095744046778, 0.25813231150635196L -0.9661095744046778, 0.25813231150635196 L -0.9393442581265934, 0.3429757494701337 L -0.905144228254745, 0.4251046060172977 L -0.8637801708818998, 0.5038688484032684 L -0.8155794738820801, 0.5786450741017585 L -0.7609236357039248, 0.6488414449055492 L -0.700245245890156, 0.713902371202278 L -0.6340245612217076, 0.773312909350168 L -0.5627857045856185, 0.8266028373493941 L -0.48709251665186065, 0.8733503765509905 L -0.40754409319221097, 0.9131855299467565 L -0.3247700433623556, 0.9457930106182926 \", \"type\": \"path\"}, {\"fillcolor\": \"rgba(215,48,39, 0.75)\", \"layer\": \"below\", \"line\": {\"color\": \"rgba(215,48,39, 0.75)\", \"width\": 0.5}, \"path\": \"M 0.07837964551772443, 0.996923583414755 Q -0.14375122045523275, 0.1390524599481472 -0.993769498442892, -0.11145485168696306L -0.993769498442892, -0.11145485168696306 L -0.9984258679751706, -0.05608730835070528 L -0.9999998506089283, -0.0005466096606262641 M -0.9999998506089283, -0.0005466096606262641 Q -0.14383441740704828, 0.13896640014469328 -0.03387069057235297, 0.9994262235503689L -0.03387069057235297, 0.9994262235503689 L 0.0222896291914955, 0.9997515553528815 L 0.07837964551772443, 0.996923583414755 \", \"type\": \"path\"}, {\"fillcolor\": \"rgba(215,48,39, 0.75)\", \"layer\": \"below\", \"line\": {\"color\": \"rgba(215,48,39, 0.75)\", \"width\": 0.5}, \"path\": \"M -0.14569403914950962, 0.9893296957820993 Q -0.19936103801311078, -0.015974245595176028 0.01369789988271382, -0.9999061793682461L 0.01369789988271382, -0.9999061793682461 L -0.06767673914727636, -0.9977073012554291 L -0.1486029069672014, -0.988896949151375 M -0.1486029069672014, -0.988896949151375 Q -0.19917598225030214, -0.018136374903142245 -0.3247700433623556, 0.9457930106182926L -0.3247700433623556, 0.9457930106182926 L -0.2362371138754364, 0.9716954389250801 L -0.14569403914950962, 0.9893296957820993 \", \"type\": \"path\"}, {\"fillcolor\": \"rgba(215,48,39, 0.75)\", \"layer\": \"below\", \"line\": {\"color\": \"rgba(215,48,39, 0.75)\", \"width\": 0.5}, \"path\": \"M 0.10235283970810104, 0.9947481571753163 Q -0.1999917814250353, 0.0018131085022440039 0.08430089389586815, -0.9964403440690053L 0.08430089389586815, -0.9964403440690053 L 0.07255122222868314, -0.9973646876409472 L 0.06079147252959756, -0.9981504880866828 M 0.06079147252959756, -0.9981504880866828 Q -0.19999222862091082, 0.001763091387688937 0.07837964551772443, 0.996923583414755L 0.07837964551772443, 0.996923583414755 L 0.09037278862471056, 0.9959080073361161 L 0.10235283970810104, 0.9947481571753163 \", \"type\": \"path\"}, {\"fillcolor\": \"rgba(215,48,39, 0.75)\", \"layer\": \"below\", \"line\": {\"color\": \"rgba(215,48,39, 0.75)\", \"width\": 0.5}, \"path\": \"M -0.03387069057235297, 0.9994262235503689 Q -0.16471245899735043, -0.11344516671522926 0.9216803140366756, -0.3879502528897938L 0.9216803140366756, -0.3879502528897938 L 0.8992202977742062, -0.43749612120665465 L 0.8740992679839563, -0.4857473311402872 M 0.8740992679839563, -0.4857473311402872 Q -0.16451220054292479, -0.11373537652166324 -0.14569403914950962, 0.9893296957820993L -0.14569403914950962, 0.9893296957820993 L -0.08992417921930247, 0.9959486141321422 L -0.03387069057235297, 0.9994262235503689 \", \"type\": \"path\"}, {\"fillcolor\": \"rgba(175,175,175,0.5)\", \"layer\": \"below\", \"line\": {\"color\": \"rgba(175,175,175,0.5)\", \"width\": 0.5}, \"path\": \"M -0.8920552758338827, -0.45192630467470624 Q -0.41492103162157407, -0.27899917117813944 -0.7550801773053154, -0.6556324624670239L -0.7550801773053154, -0.6556324624670239 L -0.8298420632431481, -0.5579983423562789 L -0.8920552758338827, -0.45192630467470624 \", \"type\": \"path\"}, {\"fillcolor\": \"rgba(175,175,175,0.5)\", \"layer\": \"below\", \"line\": {\"color\": \"rgba(175,175,175,0.5)\", \"width\": 0.5}, \"path\": \"M -0.9955177448387711, 0.09457494230041796 Q -0.1800322399781411, -0.08711138024651556 -0.543638507619516, -0.839319470185951L -0.543638507619516, -0.839319470185951 L -0.5823082198679349, -0.8129681033559907 L -0.6197028278283325, -0.7848365467927497 M -0.6197028278283325, -0.7848365467927497 Q -0.17995964747752613, -0.08726124729663526 -0.9999998506089283, -0.0005466096606262641L -0.9999998506089283, -0.0005466096606262641 L -0.9988917087688792, 0.04706754882919364 L -0.9955177448387711, 0.09457494230041796 \", \"type\": \"path\"}, {\"fillcolor\": \"rgba(175,175,175,0.5)\", \"layer\": \"below\", \"line\": {\"color\": \"rgba(175,175,175,0.5)\", \"width\": 0.5}, \"path\": \"M -0.9737409894966268, 0.22765870370827074 Q -0.16551928825470363, -0.11226471046440341 -0.1486029069672014, -0.988896949151375L -0.1486029069672014, -0.988896949151375 L -0.15909729544663975, -0.9872629085413696 L -0.1695737373886856, -0.9855175024260264 M -0.1695737373886856, -0.9855175024260264 Q -0.1653746668702407, -0.11247764025599456 -0.9788862103089907, 0.2044059374551103L -0.9788862103089907, 0.2044059374551103 L -0.976382823558356, 0.21604763794175627 L -0.9737409894966268, 0.22765870370827074 \", \"type\": \"path\"}, {\"fillcolor\": \"rgba(175,175,175,0.5)\", \"layer\": \"below\", \"line\": {\"color\": \"rgba(175,175,175,0.5)\", \"width\": 0.5}, \"path\": \"M -0.9862265254218918, 0.16540024351331079 Q -0.1388459706601844, -0.1439506736053403 0.2008852328887167, -0.9796147830689602L 0.2008852328887167, -0.9796147830689602 L 0.1661295446015805, -0.9861039369206835 L 0.1311661832553338, -0.9913603947960743 M 0.1311661832553338, -0.9913603947960743 Q -0.13879334200049367, -0.1440014174108505 -0.9955177448387711, 0.09457494230041796L -0.9955177448387711, 0.09457494230041796 L -0.9915047372558117, 0.1300705808370357 L -0.9862265254218918, 0.16540024351331079 \", \"type\": \"path\"}, {\"fillcolor\": \"rgba(175,175,175,0.5)\", \"layer\": \"below\", \"line\": {\"color\": \"rgba(175,175,175,0.5)\", \"width\": 0.5}, \"path\": \"M -0.9614971069861514, -0.274815052821459 Q 0.006651213183099563, -0.19988937281204563 0.9776387654285581, -0.2102913320403977L 0.9776387654285581, -0.2102913320403977 L 0.9538049666700781, -0.3004265060800916 L 0.9216803140366756, -0.3879502528897938 M 0.9216803140366756, -0.3879502528897938 Q 0.007050232684460037, -0.19987569691959794 -0.8920552758338827, -0.45192630467470624L -0.8920552758338827, -0.45192630467470624 L -0.9309974263378566, -0.36502574176664193 L -0.9614971069861514, -0.274815052821459 \", \"type\": \"path\"}, {\"fillcolor\": \"rgba(175,175,175,0.5)\", \"layer\": \"below\", \"line\": {\"color\": \"rgba(175,175,175,0.5)\", \"width\": 0.5}, \"path\": \"M -0.9788862103089907, 0.2044059374551103 Q -0.02904388407198933, -0.19787989488074034 0.9963374717387062, -0.08550814235687042L 0.9963374717387062, -0.08550814235687042 L 0.9947464397564273, -0.10236952960677609 L 0.9928700769308552, -0.11920155340983545 M 0.9928700769308552, -0.11920155340983545 Q -0.02846793276452222, -0.1979635744376087 -0.9862265254218918, 0.16540024351331079L -0.9862265254218918, 0.16540024351331079 L -0.9827499056590637, 0.18493951153580276 L -0.9788862103089907, 0.2044059374551103 \", \"type\": \"path\"}, {\"fillcolor\": \"rgba(175,175,175,0.5)\", \"layer\": \"below\", \"line\": {\"color\": \"rgba(175,175,175,0.5)\", \"width\": 0.5}, \"path\": \"M -0.7287951130410961, -0.6847318330612473 Q -0.35354037729035837, -0.3535664034172238 -0.6846781824090729, -0.7288455162330412L -0.6846781824090729, -0.7288455162330412 L -0.7070807545807167, -0.7071328068344476 L -0.7287951130410961, -0.6847318330612473 \", \"type\": \"path\"}, {\"fillcolor\": \"rgba(175,175,175,0.5)\", \"layer\": \"below\", \"line\": {\"color\": \"rgba(175,175,175,0.5)\", \"width\": 0.5}, \"path\": \"M -0.543638507619516, -0.839319470185951 Q -0.02773198597179706, -0.19806801093074078 0.2922223840314641, -0.9563503951329594L 0.2922223840314641, -0.9563503951329594 L 0.24682805432665902, -0.9690592920958531 L 0.2008852328887167, -0.9796147830689602 M 0.2008852328887167, -0.9796147830689602 Q -0.02780036332971191, -0.19805842521522787 -0.46281508363219914, -0.8864548484624135L -0.46281508363219914, -0.8864548484624135 L -0.5037783677443732, -0.8638329446095553 L -0.543638507619516, -0.839319470185951 \", \"type\": \"path\"}, {\"fillcolor\": \"rgba(175,175,175,0.5)\", \"layer\": \"below\", \"line\": {\"color\": \"rgba(175,175,175,0.5)\", \"width\": 0.5}, \"path\": \"M -0.6846781824090729, -0.7288455162330412 Q 0.03081835090587387, -0.19761130850091152 0.8740992679839563, -0.4857473311402872L 0.8740992679839563, -0.4857473311402872 L 0.8525426906396009, -0.5226575940680378 L 0.8294284721575524, -0.5586129335903245 M 0.8294284721575524, -0.5586129335903245 Q 0.03084833367617551, -0.1976066302263245 -0.6197028278283325, -0.7848365467927497L -0.6197028278283325, -0.7848365467927497 L -0.6527910874412836, -0.7575379833098974 L -0.6846781824090729, -0.7288455162330412 \", \"type\": \"path\"}, {\"fillcolor\": \"rgba(175,175,175,0.5)\", \"layer\": \"below\", \"line\": {\"color\": \"rgba(175,175,175,0.5)\", \"width\": 0.5}, \"path\": \"M -0.734113677496431, -0.6790265889585372 Q 0.05649567283976248, -0.19185473397959854 0.984955084771773, -0.1728105349283705L 0.984955084771773, -0.1728105349283705 L 0.9843640746115716, -0.17614587311119245 L 0.9837617700806379, -0.17947919023611084 M 0.9837617700806379, -0.17947919023611084 Q 0.056594012870948174, -0.19182574829037669 -0.7287951130410961, -0.6847318330612473L -0.7287951130410961, -0.6847318330612473 L -0.7314599577629388, -0.6818843964994651 L -0.734113677496431, -0.6790265889585372 \", \"type\": \"path\"}, {\"fillcolor\": \"rgba(175,175,175,0.5)\", \"layer\": \"below\", \"line\": {\"color\": \"rgba(175,175,175,0.5)\", \"width\": 0.5}, \"path\": \"M -0.18351236755760975, -0.9830174011447614 Q -0.013149178441964907, -0.1995672796484969 0.05294684712461983, -0.9985973319509531L 0.05294684712461983, -0.9985973319509531 L 0.04902327833598112, -0.9987976362513044 L 0.04509895289687388, -0.9989825245957036 M 0.04509895289687388, -0.9989825245957036 Q -0.013226686128193214, -0.1995621576704017 -0.17654747804242552, -0.984292125335187L -0.17654747804242552, -0.984292125335187 L -0.18003105102681793, -0.9836609276911324 L -0.18351236755760975, -0.9830174011447614 \", \"type\": \"path\"}, {\"fillcolor\": \"rgba(175,175,175,0.5)\", \"layer\": \"below\", \"line\": {\"color\": \"rgba(175,175,175,0.5)\", \"width\": 0.5}, \"path\": \"M -0.17654747804242552, -0.984292125335187 Q 0.06118737096511512, -0.1904103611528989 0.7168837986469401, -0.6971926700973938L 0.7168837986469401, -0.6971926700973938 L 0.7141690191106747, -0.6999732938780571 L 0.711443454267771, -0.7027433467344547 M 0.711443454267771, -0.7027433467344547 Q 0.06112151938537699, -0.19043150965116826 -0.1695737373886856, -0.9855175024260264L -0.1695737373886856, -0.9855175024260264 L -0.17306169226646057, -0.9849109861656884 L -0.17654747804242552, -0.984292125335187 \", \"type\": \"path\"}, {\"fillcolor\": \"rgba(175,175,175,0.5)\", \"layer\": \"below\", \"line\": {\"color\": \"rgba(175,175,175,0.5)\", \"width\": 0.5}, \"path\": \"M 0.05294684712461983, -0.9985973319509531 Q 0.028434799352206587, -0.4991908073931247 0.06079147252959756, -0.9981504880866828L 0.06079147252959756, -0.9981504880866828 L 0.056869598704413174, -0.9983816147862494 L 0.05294684712461983, -0.9985973319509531 \", \"type\": \"path\"}, {\"fillcolor\": \"rgba(175,175,175,0.5)\", \"layer\": \"below\", \"line\": {\"color\": \"rgba(175,175,175,0.5)\", \"width\": 0.5}, \"path\": \"M 0.08430089389586815, -0.9964403440690053 Q 0.09591204461965903, -0.17550179399902596 0.7931146667693103, -0.6090723482111184L 0.7931146667693103, -0.6090723482111184 L 0.7786988041744383, -0.6273979378172198 L 0.7638596063908597, -0.6453824460925482 M 0.7638596063908597, -0.6453824460925482 Q 0.0959568603655253, -0.1754772946816513 0.1311661832553338, -0.9913603947960743L 0.1311661832553338, -0.9913603947960743 L 0.1077634762114437, -0.9941765603728674 L 0.08430089389586815, -0.9964403440690053 \", \"type\": \"path\"}, {\"fillcolor\": \"rgba(175,175,175,0.5)\", \"layer\": \"below\", \"line\": {\"color\": \"rgba(175,175,175,0.5)\", \"width\": 0.5}, \"path\": \"M 0.7382088785891114, -0.6745721989321873 Q 0.3755880202463253, -0.3300509643183094 0.7638596063908597, -0.6453824460925482L 0.7638596063908597, -0.6453824460925482 L 0.7511760404926506, -0.6601019286366188 L 0.7382088785891114, -0.6745721989321873 \", \"type\": \"path\"}, {\"fillcolor\": \"rgba(175,175,175,0.5)\", \"layer\": \"below\", \"line\": {\"color\": \"rgba(175,175,175,0.5)\", \"width\": 0.5}, \"path\": \"M 0.7168837986469401, -0.6971926700973938 Q 0.17929662855283243, -0.08861556855083447 0.9892757822219598, -0.14605966831788175L 0.9892757822219598, -0.14605966831788175 L 0.9872060480283787, -0.15944973733496845 L 0.984955084771773, -0.1728105349283705 M 0.984955084771773, -0.1728105349283705 Q 0.17947308466980422, -0.0882576448762672 0.7382088785891114, -0.6745721989321873L 0.7382088785891114, -0.6745721989321873 L 0.7276342462153836, -0.6859653079672255 L 0.7168837986469401, -0.6971926700973938 \", \"type\": \"path\"}, {\"fillcolor\": \"rgba(175,175,175,0.5)\", \"layer\": \"below\", \"line\": {\"color\": \"rgba(175,175,175,0.5)\", \"width\": 0.5}, \"path\": \"M 0.9892757822219598, -0.14605966831788175 Q 0.4955819536976871, -0.06632139299791207 0.9928700769308552, -0.11920155340983545L 0.9928700769308552, -0.11920155340983545 L 0.9911639073953742, -0.13264278599582413 L 0.9892757822219598, -0.14605966831788175 \", \"type\": \"path\"}, {\"fillcolor\": \"rgba(26,152,80, 0.75)\", \"layer\": \"below\", \"line\": {\"color\": \"rgba(26,152,80, 0.75)\", \"width\": 0.45}, \"path\": \"M 1.1, 0.0 L 1.0999436876109558, 0.01113032276317038 L 1.0997747562094322, 0.022259505935312347 L 1.0994932230916672, 0.033386410042075834 L 1.0990991170827562, 0.04450989584245554 L 1.0985924785337005, 0.05562882444543341 L 1.0979733593172771, 0.06674205742658539 L 1.097241822822726, 0.07784845694464021 L 1.0963979439492615, 0.08894688585797875 L 1.0954418090984022, 0.10003620784106142 L 1.0943735161651258, 0.11111528750077235 L 1.0931931745278456, 0.1221829904926678 L 1.0919009050372117, 0.1332381836371174 L 1.0904968400037371, 0.144279735035326 L 1.0889811231842519, 0.15530651418522462 L 1.0873539097671836, 0.16631739209721788 L 1.0856153663566686, 0.17731124140977733 L 1.0837656709554941, 0.1882869365048673 L 1.0818050129468728, 0.19924335362319287 L 1.079733593075053, 0.21017937097925712 L 1.077551623424765, 0.22109386887621651 L 1.0752593273995068, 0.23198572982052235 L 1.0728569396986705, 0.24285383863633656 L 1.0703447062935116, 0.2536970825797104 L 1.0677228844019668, 0.26451435145251395 L 1.0649917424623168, 0.27530453771610525 L 1.062151560105702, 0.28606653660472636 L 1.0592026281274933, 0.2967992462386169 L 1.0561452484575176, 0.3075015677368306 L 1.0529797341291447, 0.3181724053297459 L 1.049706409247237, 0.3288106664712574 L 1.046325608954966, 0.3394152619506374 L 1.0428376793994976, 0.3499851060040565 L 1.0392429776965522, 0.3605191164257502 L 1.0355418718938403, 0.37101621467882184 L 1.0317347409333795, 0.3814753260056703 L 1.027821974612697, 0.39189537953803 L 1.0238039735449187, 0.4022753084066129 L 1.0196811491177524, 0.41261404985034145 L 1.0154539234513675, 0.4229105453251603 L 1.0111227293551752, 0.43316374061241675 L 1.0066880102835158, 0.44337258592679823 L 1.002150220290254, 0.4535360360238156 L 0.9975098239822905, 0.4636530503068216 L 0.9927672964719932, 0.47372259293355407 L 0.9879231233285516, 0.4837436329221913 L 0.9829778005282612, 0.4937151442569107 L 0.9779318344037431, 0.5036361059929383 L 0.9727857415921017, 0.5135055023610797 L 0.967540048982029, 0.5233223228717203 L 0.9621952936598575, 0.5330855624182864 L 0.9567520228545713, 0.5427942213801527 L 0.951210793881776, 0.552447305724991 L 0.9455721740866385, 0.5620438271105448 L 0.9398367407857979, 0.571582802985822 L 0.934005081208257, 0.581063256691694 L 0.9280777924352571, 0.590484217560893 L 0.9220554813391464, 0.5998447210173941 L 0.9159387645212436, 0.609143808675175 L 0.909728268248707, 0.6183805284363413 L 0.9034246283904139, 0.627553934588608 L 0.897028490351855, 0.6366630879021278 L 0.890540509009055, 0.6457070557256545 L 0.8839613486415222, 0.6546849120820346 L 0.8772916828642352, 0.6635957377630137 L 0.870532194558674, 0.6724386204233508 L 0.8636835758029026, 0.6812126546742302 L 0.8567465278007098, 0.6899169421759607 L 0.8497217608098154, 0.6985505917299527 L 0.8426099940691497, 0.7071127193699656 L 0.8354119557252139, 0.7156024484526122 L 0.828128382757527, 0.7240189097471165 L 0.8207600209031699, 0.7323612415243096 L 0.8133076245804328, 0.7406285896448598 L 0.8057719568115719, 0.7488201076467235 L 0.7981537891446873, 0.7569349568318128 L 0.7904539015747273, 0.764972306351865 L 0.7826730824636271, 0.7729313332935109 L 0.7748121284595921, 0.7808112227625297 L 0.7668718444155314, 0.7886111679672824 L 0.7588530433066528, 0.7963303703013164 L 0.7507565461472246, 0.8039680394251317 L 0.7425831819065163, 0.8115233933471012 L 0.734333787423922, 0.8189956585035346 L 0.7260092073232807, 0.8263840698378823 L 0.7176102939263984, 0.8336878708790648 L 0.709137907165782, 0.8409063138189266 L 0.7005929144965939, 0.8480386595888 L 0.691976190807837, 0.8550841779351762 L 0.683288618332778, 0.8620421474944735 L 0.6745310865586188, 0.8689118558668936 L 0.6657044921354255, 0.8756925996893633 L 0.6568097387843236, 0.8823836847075476 L 0.6478477372049699, 0.8889844258469327 L 0.6388194049823089, 0.8954941472829674 L 0.6297256664926254, 0.9019121825102592 L 0.6205674528089006, 0.9082378744108138 L 0.6113457016054833, 0.9144705753213165 L 0.6020613570620854, 0.9206096470994427 L 0.5927153697671103, 0.9266544611891955 L 0.5833086966203261, 0.9326043986852606 L 0.5738423007348932, 0.9384588503963743 L 0.5643171513387526, 0.9442172169076963 L 0.5547342236753929, 0.9498789086421802 L 0.5450944989039972, 0.9554433459209397 L 0.5353989639989867, 0.9609099590225986 L 0.5256486116489675, 0.9662781882416229 L 0.5158444401550942, 0.9715474839456266 L 0.5059874533288566, 0.9767173066316468 L 0.4960786603893039, 0.9817871269813807 L 0.4861190758597139, 0.9867564259153816 L 0.47610971946372105, 0.991624694646204 L 0.46605161602090933, 0.9963914347304975 L 0.45594579534188673, 1.00105615812004 L 0.4457932921228451, 1.0056183872117077 L 0.43559514583962283, 1.0100776548963737 L 0.42535240064127616, 1.0144335046067354 L 0.41506610524317367, 1.0186854903640588 L 0.4047373128196208, 1.022833176823842 L 0.39436708089603134, 1.0268761393203873 L 0.3839564712406495, 1.0308139639102822 L 0.37350654975584135, 1.0346462474147806 L 0.3630183863689594, 1.0383725974610833 L 0.3524930549227987, 1.0419926325225113 L 0.3419316330656483, 1.0455059819575683 L 0.3313352021409567, 1.0489122860478906 L 0.32070484707661573, 1.0522111960350757 L 0.3100416562738804, 1.055402374156392 L 0.29934672149593033, 1.0584854936793597 L 0.2886211377560893, 1.0614602389352041 L 0.27786600320571075, 1.0643263053511758 L 0.2670824190217416, 1.0670833994817346 L 0.2562714892939784, 1.0697312390385945 L 0.2454343209120221, 1.072269552919626 L 0.23457202345194963, 1.0746980812366134 L 0.22368570906270685, 1.0770165753418628 L 0.21277649235224175, 1.0792247978536615 L 0.2018454902733822, 1.0813225226805823 L 0.19089382200947722, 1.0833095350446307 L 0.17992260885980624, 1.085185631503238 L 0.16893297412477556, 1.0869506199700878 L 0.15792604299090585, 1.0886043197347854 L 0.14690294241563065, 1.0901465614813588 L 0.13354812946875513, 0.9910423286194171 L 0.14356912999173257, 0.9896402906679866 L 0.15357543102252322, 0.9881369272455343 L 0.1635660080543693, 0.9865323922756708 L 0.1735398381904338, 0.9848268500405734 L 0.18349590024852924, 0.9830204751641656 L 0.1934331748656743, 0.9811134525942377 L 0.20335064460246075, 0.9791059775835115 L 0.21324729404722692, 0.9769982556696484 L 0.22312210992002007, 0.9747905026542054 L 0.232974081176344, 0.9724829445805403 L 0.24280219911067416, 0.9700758177106676 L 0.252605457459737, 0.9675693685010688 L 0.26238285250553567, 0.9649638535774583 L 0.27213338317811847, 0.9622595397085089 L 0.2818560511580731, 0.9594567037785382 L 0.2915498609787415, 0.9565556327591598 L 0.3012138201281424, 0.9535566236799004 L 0.3108469391505893, 0.9504599835977893 L 0.3204482317479988, 0.9472660295659192 L 0.33001671488087214, 0.9439750886009848 L 0.33955140886894664, 0.9405874976498004 L 0.3490513374914995, 0.9371036035548019 L 0.3585155280873012, 0.9335237630185338 L 0.3679430116542007, 0.9298483425671289 L 0.37733282294833964, 0.9260777185127806 L 0.3866840005829783, 0.9222122769152139 L 0.39599558712692984, 0.9182524135421579 L 0.4052666292025864, 0.9141985338288251 L 0.41449617758353335, 0.9100510528363999 L 0.4236832872917357, 0.9058103952095431 L 0.4328270176942918, 0.9014769951329126 L 0.4419264325997399, 0.8970512962867104 L 0.45098060035391263, 0.8925337518012552 L 0.4599885939353242, 0.8879248242105879 L 0.46894949105008565, 0.8832249854051151 L 0.477862374226334, 0.8784347165832935 L 0.48672633090816964, 0.8735545082023622 L 0.4955404535490883, 0.868584859928127 L 0.5043038397049027, 0.8635262805838001 L 0.5130155921261387, 0.8583792880979056 L 0.5216748188499029, 0.8531444094512494 L 0.5302806332912056, 0.8478221806229641 L 0.5388321543337365, 0.8424131465356322 L 0.5473285064200776, 0.8369178609994933 L 0.5557688196413484, 0.8313368866557422 L 0.5641522298262732, 0.8256707949189216 L 0.5724778786296594, 0.8199201659184173 L 0.5807449136202808, 0.8140855884390612 L 0.5889524883681544, 0.8081676598608478 L 0.5970997625312032, 0.8021669860977705 L 0.6051859019412958, 0.7960841815357848 L 0.6132100786896534, 0.7899198689699032 L 0.6211714712116163, 0.7836746795404304 L 0.6290692643707608, 0.777349252668342 L 0.636902649542358, 0.7709442359898181 L 0.6446708246961653, 0.7644602852899332 L 0.6523729944785439, 0.7578980644355134 L 0.6600083702938915, 0.7512582453071657 L 0.6675761703853835, 0.744541507730486 L 0.6750756199150147, 0.7377485394064556 L 0.6825059510429314, 0.7308800358410288 L 0.689866403006048, 0.7239367002739239 L 0.6971562221959375, 0.7169192436066203 L 0.7043746622359928, 0.7098283843295724 L 0.7115209840578428, 0.7026648484486463 L 0.7185944559770248, 0.6954293694107863 L 0.7255943537678975, 0.6881226880289206 L 0.7325199607377926, 0.6807455524061122 L 0.7393705678003935, 0.6732987178589633 L 0.7461454735483363, 0.6657829468402814 L 0.7528439843250244, 0.6581990088610149 L 0.759465414295649, 0.6505476804114656 L 0.7660090855174088, 0.6428297448817868 L 0.772474328008923, 0.6350459924817752 L 0.778860479818827, 0.6271972201599642 L 0.7851668870935478, 0.6192842315220274 L 0.791392904144249, 0.6113078367485006 L 0.797537893512941, 0.6032688525118306 L 0.8036012260377474, 0.5951681018927587 L 0.8095822809173226, 0.5870064142960495 L 0.8154804457744135, 0.5787846253655706 L 0.821295116718558, 0.5705035768987344 L 0.8270256984079154, 0.5621641167603102 L 0.8326716041102213, 0.5537670987956136 L 0.8382322557628603, 0.5453133827430855 L 0.8437070840320519, 0.5368038341462663 L 0.8490955283711427, 0.5282393242651763 L 0.8543970370779981, 0.5196207299871108 L 0.8596110673514895, 0.5109489337368589 L 0.8647370853470691, 0.5022248233863554 L 0.8697745662314283, 0.4934492921637751 L 0.874722994236234, 0.4846232385620785 L 0.8795818627109354, 0.47574756624701847 L 0.8843506741746379, 0.46682318396461786 L 0.8890289403670391, 0.4578510054481257 L 0.8936161822984192, 0.44883194932446424 L 0.8981119302986832, 0.4397669390201739 L 0.9025157240654483, 0.4306569026668673 L 0.9068271127111731, 0.4215027730062014 L 0.9110456548093216, 0.41230548729437777 L 0.9151709184395598, 0.4030659872061802 L 0.9192024812319775, 0.39378521873856065 L 0.923139930410334, 0.38446413211378205 L 0.9269828628343204, 0.37510368168212854 L 0.9307308850408351, 0.3657048258241935 L 0.93438361328427, 0.3562685268527545 L 0.9379406735757995, 0.3467957509142457 L 0.9414017017216728, 0.337287467889838 L 0.9447663433605019, 0.3277446512961365 L 0.9480342539995432, 0.3181682781855059 L 0.951205099049969, 0.308559329046034 L 0.9542785538611245, 0.29891878770114305 L 0.9572543037537677, 0.2892476412088599 L 0.9601320440522887, 0.2795468797607551 L 0.962911480115903, 0.2698174965805608 L 0.9655923273688201, 0.2600604878224785 L 0.9681743113293788, 0.2502768524691866 L 0.9706571676381517, 0.24046759222955813 L 0.9730406420850105, 0.23063371143610034 L 0.9753244906351548, 0.22077621694212413 L 0.977508479454097, 0.21089611801865665 L 0.9795923849316045, 0.20099442625110592 L 0.9815759937045935, 0.19107215543568828 L 0.9834591026789752, 0.18113032147562988 L 0.9852415190504491, 0.17116994227715207 L 0.9869230603242442, 0.1611920376452521 L 0.9885035543338032, 0.15119762917928897 L 0.9899828392584108, 0.141187740168386 L 0.991360763639761, 0.13116339548666 L 0.9926371863974651, 0.12112562148828854 L 0.993811976843496, 0.11107544590242527 L 0.9948850146955689, 0.10101389772797485 L 0.9958561900894565, 0.09094200712823765 L 0.9967254035902376, 0.08086080532543521 L 0.9974925662024782, 0.07077132449512746 L 0.9981575993793428, 0.06067459766053216 L 0.9987204350306368, 0.05057165858675764 L 0.9991810155297782, 0.04046354167495957 L 0.9995392937196973, 0.030351281856432575 L 0.9997952329176656, 0.020235914486647587 L 0.9999488069190506, 0.0101184752392458 L 1.0, 0.0 L 1.1 ,0.0\", \"type\": \"path\"}, {\"fillcolor\": \"rgba(215,48,39, 0.75)\", \"layer\": \"below\", \"line\": {\"color\": \"rgba(215,48,39, 0.75)\", \"width\": 0.45}, \"path\": \"M 0.11258812367891115, 1.094222972892848 L 0.10154468479074044, 1.095303006930388 L 0.09049091318406166, 1.0962715879886311 L 0.07942793363966169, 1.0971286175092387 L 0.06835687187528466, 1.0978740082848424 L 0.05727885443108441, 1.098507684467916 L 0.04619500855499187, 1.0990295815784963 L 0.03510646208801304, 1.099439646510741 L 0.02401434334946413, 1.0997378375383355 L 0.012919781022159217, 1.0999241243187368 L 0.0018239040375606914, 1.0999984878962616 L -0.009272158539095606, 1.0999609207040157 L -0.020367277623688586, 1.0998114265646632 L -0.031460324228103305, 1.099550020690038 L -0.0425501695751101, 1.099176729679595 L -0.05363568521322472, 1.0986915915177053 L -0.06471574313153412, 1.098094655569789 L -0.07578921587447765, 1.0973859825772936 L -0.08685497665657169, 1.0965656446515122 L -0.09791189947706617, 1.0956337252662465 L -0.10895885923452123, 1.0945903192493125 L -0.11999473184129206, 1.0934355327728913 L -0.13101839433791185, 1.0921694833427253 L -0.1420287250073576, 1.090792299786162 L -0.15302460348919167, 1.0893041222390447 L -0.1640049108935644, 1.0877051021314528 L -0.17496852991506703, 1.085995402172293 L -0.1859143449464235, 1.0841751963327433 L -0.19684124219201027, 1.0822446698285497 L -0.20774810978118965, 1.0802040191011804 L -0.21863383788144966, 1.0780534517978355 L -0.22949731881133512, 1.0757931867503199 L -0.24033744715316016, 1.0734234539527736 L -0.2511531198654906, 1.07094449453827 L -0.2619432363953843, 1.0683565607542793 L -0.2727066987903782, 1.0656599159370002 L -0.28344241181021096, 1.0628548344845645 L -0.29414928303826976, 1.059941601829116 L -0.3048262229927491, 1.0569205144077651 L -0.3154721452375124, 1.0537918796324264 L -0.3260859664926414, 1.0505560158585359 L -0.3366666067446667, 1.0472132523526583 L -0.34721298935646466, 1.0437639292589813 L -0.35772404117681056, 1.0402083975647052 L -0.368198692649579, 1.0365470190643264 L -0.378635877922575, 1.0327801663228247 L -0.3890345349559916, 1.0289082226377508 L -0.39939360563047754, 1.0249315820002265 L -0.40971203585480676, 1.0208506490548506 L -0.4199887756731381, 1.016665839058527 L -0.4302227793718533, 1.0123775778382085 L -0.4404130055859649, 1.007986301747567 L -0.4505584174050798, 1.0034924576225923 L -0.46065798247891115, 0.998896502736124 L -0.4707106731223253, 0.9941989047513217 L -0.4807154664199139, 0.9894001416740776 L -0.4906713443300832, 0.9845007018043761 L -0.5005772937886404, 0.979501083686609 L -0.510432306811885, 0.9744017960588424 L -0.52023538059917, 0.9692033578010536 L -0.5299855176349476, 0.9639062978823287 L -0.5396817257902687, 0.9585111553070405 L -0.5493230184237382, 0.9530184790599989 L -0.5589084144819109, 0.9474288280505911 L -0.5684369385991195, 0.9417427710559084 L -0.5779076211967226, 0.9359608866628699 L -0.5873194985817654, 0.9300837632093488 L -0.5966716130450395, 0.9241119987243055 L -0.605963012958536, 0.9180462008669352 L -0.6151927528722789, 0.9118869868648347 L -0.6243598936105278, 0.9056349834511974 L -0.6334635023673476, 0.8992908268010374 L -0.6425026528015219, 0.8928551624664591 L -0.6514764251308184, 0.8863286453109643 L -0.6603839062255763, 0.8797119394428209 L -0.6692241897016276, 0.8730057181474816 L -0.6779963760125219, 0.8662106638190776 L -0.6866995725410631, 0.8593274678909789 L -0.6953328936901364, 0.8523568307654381 L -0.7038954609728235, 0.8452994617423203 L -0.7123864031017929, 0.8381560789469287 L -0.7208048560779582, 0.8309274092569302 L -0.7291499632783947, 0.8236141882283936 L -0.7374208755435052, 0.816217160020941 L -0.745616751263427, 0.8087370773220264 L -0.7537367564636696, 0.8011747012703454 L -0.7617800648899767, 0.7935308013783857 L -0.7697458580924016, 0.785806155454125 L -0.77763332550859, 0.7780015495218834 L -0.785441664546256, 0.7701177777423442 L -0.7931700806648551, 0.7621556423317403 L -0.8008177874564272, 0.7541159534802276 L -0.8083840067256235, 0.7459995292694407 L -0.8158679685688882, 0.7378071955892515 L -0.8232689114528015, 0.7295397860537283 L -0.8305860822915699, 0.7211981419163125 L -0.8378187365236569, 0.712783111984216 L -0.8449661381875455, 0.7042955525320503 L -0.8520275599966268, 0.6957363272146961 L -0.8590022834132052, 0.687106306979422 L -0.8658895987216131, 0.6784063699772608 L -0.872688805100429, 0.6696374014736525 L -0.8793992106937889, 0.6608002937583648 L -0.8860201326817884, 0.6518959460546954 L -0.8925508973499593, 0.6429252644279757 L -0.8989908401578289, 0.6338891616933681 L -0.9053393058065357, 0.6247885573229877 L -0.9115956483055134, 0.6156243773523357 L -0.9177592310382207, 0.6063975542860756 L -0.9238294268269237, 0.5971090270031411 L -0.9298056179965117, 0.5877597406612034 L -0.9356871964373509, 0.5783506466004948 L -0.9414735636671618, 0.5688827022470052 L -0.9471641308919185, 0.5593568710150585 L -0.9527583190657615, 0.5497741222092805 L -0.9582555589499187, 0.5401354309259663 L -0.9636552911706284, 0.5304417779538595 L -0.9689569662760589, 0.520694149674352 L -0.9741600447922187, 0.5108935379611123 L -0.9792639972778489, 0.5010409400791612 L -0.9842683043782989, 0.4911373585833891 L -0.9891724568783722, 0.48118380121654675 L -0.9939759557541429, 0.47118128080669586 L -0.9986783122237324, 0.46113081516415444 L -1.0032790477970475, 0.4510334269779234 L -1.007777694324468, 0.4408901437116269 L -1.0121737940444844, 0.43070199749895993 L -1.016466899630276, 0.42047002503866415 L -1.0206565742352307, 0.41019526748903784 L -1.0247423915373957, 0.3998787703619925 L -1.0287239357828577, 0.3895215834166664 L -1.0326008018280488, 0.37912476055260597 L -1.0363725951809715, 0.36868935970252575 L -1.0400389320413403, 0.3582164427246583 L -1.0435994393396362, 0.3477070752947043 L -1.047053754775068, 0.3371623267973928 L -1.0504015268524378, 0.3265832702176699 L -1.053642414917909, 0.3159709820315103 L -1.056776089193668, 0.3053265420963873 L -1.0598022308114823, 0.294651033541384 L -1.0627205318451458, 0.2839455426569867 L -0.9661095744046779, 0.2581323115063515 L -0.9634565734649838, 0.2678645759467127 L -0.9607055356306071, 0.27756958372398843 L -0.9578567408344627, 0.287246347301373 L -0.9549104789567615, 0.29689388201606354 L -0.9518670497955163, 0.30651120617944794 L -0.9487267630360329, 0.3160973411770039 L -0.9454899382194003, 0.32565131156787114 L -0.942156904709974, 0.3351721451841143 L -0.9387280016618625, 0.3446588732296418 L -0.935203577984416, 0.3541105303787876 L -0.9315839923067233, 0.3635261548745386 L -0.9278696129411187, 0.37290478862639803 L -0.9240608178457053, 0.38224547730787645 L -0.9201579945858948, 0.3915472704535999 L -0.916161540294971, 0.4008092215560244 L -0.9120718616336795, 0.4100303881617485 L -0.9078893747488476, 0.41920983196741307 L -0.9036145052310389, 0.428346618915178 L -0.8992476880712473, 0.43743981928776976 L -0.8947893676166353, 0.44648850780308097 L -0.890239997525317, 0.45549176370832833 L -0.8856000407201988, 0.4644486708737384 L -0.8808699693418717, 0.47335831788577454 L -0.8760502647005712, 0.4822197981398722 L -0.8711414172271987, 0.49103220993269653 L -0.8661439264234194, 0.49979465655389127 L -0.861058300810835, 0.5085062463773259 L -0.855885057879238, 0.5171660929518229 L -0.8506247240339553, 0.5257733150913589 L -0.8452778345422833, 0.5343270369647303 L -0.8398449334790214, 0.5428263881846737 L -0.8343265736711096, 0.5512705038964323 L -0.8287233166413758, 0.5596585248657596 L -0.823035732551396, 0.5679895975663524 L -0.8172644001434808, 0.5762628742666982 L -0.8114099066817811, 0.5844775131163416 L -0.8054728478925348, 0.5926326782315412 L -0.7994538279034444, 0.6007275397803316 L -0.7933534591822081, 0.6087612740669568 L -0.7871723624741936, 0.6167330636156916 L -0.7809111667392774, 0.62464209725402 L -0.7745705090878425, 0.6324875701951782 L -0.7681510347159504, 0.6402686841200457 L -0.761653396839688, 0.6479846472583781 L -0.7550782566286999, 0.655634674469375 L -0.7484262831389104, 0.6632179873215711 L -0.7416981532444438, 0.6707338141720467 L -0.7348945515687486, 0.6781813902449461 L -0.7280161704149337, 0.6855599577092978 L -0.7210637096953227, 0.6928687657561274 L -0.7140378768602327, 0.7001070706748583 L -0.7069393868259909, 0.7072741359289848 L -0.6997689619021832, 0.7143692322310227 L -0.6925273317181606, 0.7213916376167142 L -0.6852152331487904, 0.7283406375184958 L -0.677833410239479, 0.7352155248382057 L -0.6703826141304592, 0.7420156000190372 L -0.6628636029803587, 0.7487401711167214 L -0.6552771418890528, 0.7553885538699365 L -0.6476240028198117, 0.7619600717699351 L -0.6399049645207486, 0.768454056129382 L -0.6321208124455785, 0.7748698461503982 L -0.6242723386736937, 0.781206788991799 L -0.6163603418295653, 0.787464239835525 L -0.6083856270014796, 0.793641561952256 L -0.6003490056596148, 0.7997381267662007 L -0.5922512955734712, 0.8057533139190585 L -0.5840933207286562, 0.8116865113331446 L -0.5758759112430433, 0.8175371152736703 L -0.5675999032822979, 0.8233045304101794 L -0.5592661389747989, 0.8289881698771224 L -0.5508754663259419, 0.8345874553335774 L -0.542428739131854, 0.8401018170220959 L -0.5339268168925139, 0.8455306938266807 L -0.5253705647242932, 0.8508735333298817 L -0.5167608532719268, 0.8561297918690076 L -0.5080985586199189, 0.8612989345914465 L -0.49938456220339833, 0.8663804355090898 L -0.4906197507184261, 0.8713737775518549 L -0.48180501603177056, 0.8762784526202988 L -0.47294125509015444, 0.8810939616373213 L -0.46402936982898635, 0.8858198145989475 L -0.4550702670805821, 0.8904555306241899 L -0.44606485848189376, 0.8950006380039782 L -0.4370140603817399, 0.8994546742491614 L -0.4279187937475684, 0.9038171861375651 L -0.4187799840717374, 0.9080877297601126 L -0.40959856127734523, 0.9122658705659928 L -0.40037545962360443, 0.9163511834068789 L -0.39111161761077573, 0.9203432525801895 L -0.38180797788467097, 0.9242416718713881 L -0.3724654871407334, 0.9280460445953186 L -0.36308509602770683, 0.9317559836365694 L -0.3536677590509014, 0.9353711114888643 L -0.34421443447506817, 0.9388910602934768 L -0.33472608422689, 0.9423154718766603 L -0.32520367379710047, 0.9456439977860955 L -0.31564817214224056, 0.9488762993263465 L -0.3060605515860606, 0.9520120475933256 L -0.29644178772058305, 0.9550509235077598 L -0.2867928593068294, 0.9579926178476602 L -0.2771147481752264, 0.9608368312797865 L -0.2674084391256998, 0.9635832743901053 L -0.2576749198274645, 0.9662316677132403 L -0.24791518071852559, 0.9687817417609091 L -0.2381302149048948, 0.9712332370493447 L -0.22832101805953692, 0.9735859041257 L -0.21848858832105467, 0.9758395035934304 L -0.20863392619212281, 0.9779938061366543 L -0.1987580344376815, 0.9800485925434868 L -0.18886191798289967, 0.9820036537283456 L -0.1789465838109184, 0.9838587907532269 L -0.169013040860385, 0.9856138148479484 L -0.1590622999227882, 0.9872685474293572 L -0.14909537353960398, 0.9888228201195025 L -0.13911327589926514, 0.9902764747627679 L -0.12911702273396145, 0.9916293634419655 L -0.1191076312162835, 0.9928813484933866 L -0.10908611985572005, 0.9940323025208102 L -0.0990535083950193, 0.9950821084084659 L -0.08901081770642379, 0.9960306593329513 L -0.07895906968779244, 0.996877858774102 L -0.06889928715861604, 0.9976236205248122 L -0.0588324937559401, 0.9982678686998081 L -0.04875971383020428, 0.9988105377433684 L -0.038681972341009174, 0.9992515724359954 L -0.028600294752821186, 0.9995909279000343 L -0.018515706930625986, 0.9998285696042393 L -0.008429235035541459, 0.999964473367287 L 0.0016580945796006285, 0.9999986253602378 L 0.011745255474690196, 0.9999310221079424 L 0.02183122122678557, 0.9997616704893958 L 0.031914965534557305, 0.9994905877370371 L 0.041995462322719876, 0.9991178014349965 L 0.05207168584644037, 0.9986433495162873 L 0.06214261079571333, 0.9980672802589475 L 0.07220721239969244, 0.9973896522811261 L 0.08226446653096514, 0.996610534535119 L 0.09231334980976404, 0.9957300063003526 L 0.10235283970810104, 0.9947481571753163 L 0.11258812367891115 ,1.094222972892848\", \"type\": \"path\"}, {\"fillcolor\": \"rgba(244,109,67, 0.75)\", \"layer\": \"below\", \"line\": {\"color\": \"rgba(244,109,67, 0.75)\", \"width\": 0.45}, \"path\": \"M -1.0711150884462897, 0.25042457407909785 L -1.0736035926379857, 0.23953147157484478 L -1.0759813183869493, 0.22861365331555056 L -1.0782480203505256, 0.21767224584262587 L -1.0804034646419103, 0.2067083781315031 L -1.0824474288542822, 0.19572318147514797 L -1.084379702083753, 0.18471778936732489 L -1.086200084951128, 0.1736933373856425 L -1.0879083896224802, 0.16265096307437682 L -1.08950443982853, 0.15159180582709889 L -1.090988070882836, 0.14051700676910403 L -1.092359129698784, 0.12942770863967026 L -1.093617474805387, 0.11832505567414206 L -1.0947629763618802, 0.107210193485868 L -1.0957955161711197, 0.09608426894798854 L -1.0967149876917777, 0.08494843007509877 L -1.0975212960493363, 0.07380382590479358 L -1.0982143580458772, 0.06265160637910208 L -1.0987941021686656, 0.051492922225836284 L -1.0992604685975302, 0.040328924839850754 L -1.0996134092110348, 0.02916076616424124 L -1.0998528875914437, 0.017989598571479037 L -1.0999788790284806, 0.0068165747445087296 L -1.0999913705218762, -0.004357152442193858 L -1.0998903607827117, -0.015530430041575642 L -1.0996758602335506, -0.026702105152975115 L -1.0993478910073635, -0.03787102504108148 L -1.0989064869452443, -0.04903603725487724 L -1.098351693592919, -0.06019598974655337 L -1.0976835681960444, -0.07134973099038291 L -1.096902179694304, -0.08249611010153877 L -1.0960076087142916, -0.09363397695484478 L -1.0949999475611942, -0.10476218230345342 L -1.0938793002092666, -0.11587957789742552 L -1.0926457822911024, -0.1269850166022148 L -1.0912995210857044, -0.13807735251702977 L -1.0898406555053497, -0.1491554410930757 L -1.0882693360812565, -0.1602181392516499 L -1.086585724948053, -0.17126430550209248 L -1.0847899958270464, -0.18229280005956594 L -1.0828823340082978, -0.19330248496266564 L -1.0808629363315039, -0.2042922241908377 L -1.0787320111656864, -0.21526088378159616 L -1.0764897783876903, -0.22620733194753312 L -1.0741364693594986, -0.2371304391930967 L -1.071672326904357, -0.24802907843114075 L -1.0690976052817203, -0.25890212509921773 L -1.0664125701610159, -0.2697484572756194 L -1.0636174985942313, -0.2805669557951371 L -1.0607126789873274, -0.29135650436454485 L -1.057698411070479, -0.3021159896777795 L -1.0545750058671477, -0.31284430153081844 L -1.0513427856619892, -0.32354033293623363 L -1.0480020839675992, -0.3342029802374138 L -1.0445532454901005, -0.3448311432224445 L -1.0409966260935737, -0.3554237252376333 L -1.0373325927633386, -0.3659796333006657 L -1.0335615235680882, -0.37649777821338126 L -1.029683807620876, -0.38697707467416537 L -1.0256998450389687, -0.39741644138993 L -1.0216100469025573, -0.40781480118768987 L -1.0174148352123429, -0.4181710811257054 L -1.0131146428459923, -0.4284842126041959 L -1.0087099135134712, -0.43875313147560063 L -1.004201101711262, -0.44897677815438036 L -0.9995886726754667, -0.4591540977263504 L -0.9948731023338009, -0.4692840400575315 L -0.990054877256487, -0.47936555990250557 L -0.9851344946060485, -0.4893976170122671 L -0.9801124620860091, -0.4993791762415625 L -0.9749892978885083, -0.509309207655697 L -0.9697655306408297, -0.5191866866368109 L -0.9644416993508584, -0.5290105939895994 L -0.9590183533514605, -0.5387799160464813 L -0.9534960522438045, -0.5484936447721888 L -0.947875365839617, -0.5581507778677842 L -0.9421568741023885, -0.5677503188740773 L -0.9363411670875301, -0.5772912772744467 L -0.9304288448814899, -0.5867726685970441 L -0.9244205175398335, -0.5961935145163747 L -0.9183168050242962, -0.605552842954245 L -0.9121183371388135, -0.6148496881800672 L -0.905825753464534, -0.624083090910505 L -0.8994397032938274, -0.6332520984084553 L -0.8929608455632857, -0.6423557645813587 L -0.8863898487857341, -0.6513931500788165 L -0.8797273909812487, -0.6603633223895201 L -0.8729741596071983, -0.6692653559374683 L -0.866130851487308, -0.6780983321774734 L -0.8591981727397591, -0.6868613396899401 L -0.8521768387043299, -0.6955534742749075 L -0.8450675738685838, -0.7041738390453496 L -0.8378711117931128, -0.7127215445197187 L -0.830588195035847, -0.7211957087137263 L -0.7550801773053154, -0.6556324624670239 L -0.7617010107210116, -0.6479286768361079 L -0.7682432489714397, -0.6401580354957723 L -0.7747062170039363, -0.6323213402499159 L -0.7810892479452355, -0.6244193997181273 L -0.7873916831702799, -0.6164530292522485 L -0.7936128723701802, -0.6084230508522438 L -0.7997521736193169, -0.6003302930813819 L -0.8058089534415764, -0.5921755909807422 L -0.8117825868757143, -0.5839597859830533 L -0.817672457539843, -0.5756837258258685 L -0.8234779576950308, -0.5673482644640954 L -0.8291984883080122, -0.5589542619818793 L -0.8348334591129966, -0.5505025845038591 L -0.8403822886725758, -0.5419941041057952 L -0.845844404437718, -0.5334296987245856 L -0.8512192428068455, -0.5248102520676788 L -0.8565062491839894, -0.5161366535218884 L -0.8617048780360154, -0.507409798061622 L -0.8668145929489132, -0.4986305861565352 L -0.8718348666831458, -0.48979992367861935 L -0.876765181228053, -0.4809187218087267 L -0.8816050278552997, -0.4719878969425553 L -0.8863539071713711, -0.4630083705960881 L -0.8910113291690991, -0.4539810693105113 L -0.8955768132782258, -0.4449069245566064 L -0.9000498884149881, -0.4357868726386414 L -0.904430093030728, -0.42662185459775587 L -0.9087169751595151, -0.41741281611486397 L -0.9129100924647836, -0.40816070741307303 L -0.9170090122849737, -0.3988664831596369 L -0.9210133116781747, -0.38953110236745075 L -0.9249225774657662, -0.3801555282960958 L -0.9287364062750519, -0.3707407283524453 L -0.9324544045808806, -0.36128767399084544 L -0.936076188746251, -0.3517973406128776 L -0.9396013850618983, -0.34227070746671023 L -0.9430296297848532, -0.33270875754605966 L -0.946360569175976, -0.32311247748875754 L -0.9495938595364549, -0.31348285747494953 L -0.952729167243272, -0.3038208911249216 L -0.9557661687836264, -0.294127575396576 L -0.958704550788316, -0.2844039104825622 L -0.9615440100640718, -0.27465089970707224 L -0.964284253624843, -0.2648695494223135 L -0.9669249987220284, -0.25506086890467006 L -0.9694659728736507, -0.24522587025056308 L -0.971906913892473, -0.2353655682720161 L -0.9742475699130518, -0.2254809803919461 L -0.976487699417726, -0.21557312653917882 L -0.9786270712615366, -0.2056430290432119 L -0.9806654646960784, -0.19569171252872378 L -0.9826026693922763, -0.18572020380985244 L -0.9844384854620888, -0.17572953178424147 L -0.986172723479133, -0.16572072732687812 L -0.9878052044982301, -0.15569482318372044 L -0.9893357600738696, -0.14565285386513627 L -0.9907642322775905, -0.13559585553915973 L -0.9920904737142767, -0.12552486592457252 L -0.9933143475373658, -0.11544092418383164 L -0.9944357274629695, -0.10534507081584138 L -0.9954544977829038, -0.09523834754859402 L -0.9963705533766287, -0.08512179723167707 L -0.9971837997220944, -0.07499646372867161 L -0.9978941529054949, -0.06486339180943901 L -0.9985015396299262, -0.05472362704232124 L -0.9990058972229493, -0.04457821568625203 L -0.9994071736430576, -0.034428204582801346 L -0.9997053274850459, -0.024274641048159195 L -0.9999003279842834, -0.014118572765068765 L -0.9999921550198875, -0.003961047674721689 L -0.9999807991168005, 0.006196886131371572 L -0.999866261446767, 0.016354180519526397 L -0.9996485538282134, 0.026509787422037488 L -0.9993276987250275, 0.036662658945318866 L -0.9989037292442414, 0.04681174747803298 L -0.9983766891326156, 0.0569560057991837 L -0.9977466327721239, 0.06709438718617597 L -0.9970136251743433, 0.07722584552281705 L -0.9961777419737452, 0.0873493354072623 L -0.9952390694198912, 0.09746381225987999 L -0.9941977043685336, 0.10756823243103823 L -0.9930537542716218, 0.11766155330879113 L -0.9918073371662144, 0.1277427334264582 L -0.9904585816623, 0.13781073257008988 L -0.9890076269295273, 0.1478645118857971 L -0.9874546226828435, 0.15790303398694772 L -0.9857997291670481, 0.16792526306120442 L -0.9840431171402565, 0.17793016497740724 L -0.9821849678562821, 0.18791670739227553 L -0.9802254730459323, 0.1978838598569326 L -0.9781648348972265, 0.20783059392322775 L -0.9760032660345322, 0.21775588324985887 L -0.9737409894966268, 0.22765870370827074 L -1.0711150884462897 ,0.25042457407909785\", \"type\": \"path\"}, {\"fillcolor\": \"rgba(253,174,97, 0.75)\", \"layer\": \"below\", \"line\": {\"color\": \"rgba(253,174,97, 0.75)\", \"width\": 0.45}, \"path\": \"M -0.8075250452460742, -0.746929247854391 L -0.799780191323057, -0.7552162905865144 L -0.7919502977376295, -0.7634230320820037 L -0.7840361970329255, -0.7715485997279418 L -0.7760387307057208, -0.7795921295425281 L -0.7679587491169573, -0.7875527662669458 L -0.7597971114013242, -0.7954296634563007 L -0.7515546853759092, -0.8032219835696223 L -0.7432323474479231, -0.8109288980589174 L -0.7348309825215121, -0.8185495874572714 L -0.726351483903669, -0.8260832414659787 L -0.7177947532092471, -0.8335290590407008 L -0.7091617002650928, -0.8408862484766432 L -0.7004532430133057, -0.8481540274927326 L -0.6916703074136344, -0.8553316233147987 L -0.6828138273450209, -0.8624182727577403 L -0.6738847445062998, -0.8694132223066771 L -0.6648840083160725, -0.8763157281970654 L -0.6558125758117543, -0.8831250564937856 L -0.6466714115478144, -0.8898404831691786 L -0.6374614874932154, -0.8964612941800317 L -0.6281837829280664, -0.9029867855435006 L -0.6188392843394944, -0.9094162634119661 L -0.609428985316756, -0.9157490441468064 L -0.5999538864455882, -0.9219844543910892 L -0.5904149952018175, -0.9281218311411698 L -0.5808133258442365, -0.9341605218171859 L -0.5711498993067596, -0.9400998843324462 L -0.5614257430898651, -0.9459392871617042 L -0.5516418911513475, -0.9516781094083047 L -0.541799383796374, -0.957315740870205 L -0.5318992675668722, -0.9628515821048564 L -0.521942595130251, -0.9682850444929422 L -0.5119304251674739, -0.9736155503009644 L -0.5018638222604868, -0.9788425327426751 L -0.49174385677902704, -0.9839654360393396 L -0.48157160476680977, -0.9889837154788342 L -0.4713481478271133, -0.9938968374735629 L -0.4610745730077745, -0.9987042796171941 L -0.4507519726856045, -1.0034055307402068 L -0.4403814444502346, -1.0080000909642444 L -0.42996409098741556, -1.0124874717552634 L -0.41950101996176753, -1.0168671959754807 L -0.4089933438990036, -1.0211387979341064 L -0.398442180067637, -1.0253018234368594 L -0.38784865036018334, -1.029355829834263 L -0.3772138811738684, -1.0333003860687109 L -0.3665390032908645, -1.037135072720299 L -0.35582515175805235, -1.0408594820514243 L -0.34507346576633396, -1.044473218050138 L -0.33428508852950434, -1.0479758964722528 L -0.3234611671626917, -1.0513671448822002 L -0.3126028525603916, -1.05464660269263 L -0.3017112992740895, -1.0578139212027515 L -0.29078766538950057, -1.0608687636354104 L -0.2798331124034307, -1.0638108051728978 L -0.2688488051002769, -1.0666397329914883 L -0.2578359114281776, -1.0693552462947014 L -0.24679560237482245, -1.0719570563452852 L -0.23572905184294854, -1.0744448864959173 L -0.2142991380390441, -0.976768078632652 L -0.22435963852256585, -0.97450641485935 L -0.23439628311652505, -0.9721411329951829 L -0.24440800463661536, -0.9696724845377166 L -0.25439373854857333, -0.9671007319753615 L -0.26435242308136414, -0.9644261487594639 L -0.2742829993400814, -0.9616490192752285 L -0.2841844114185378, -0.9587696388114818 L -0.2940556065115379, -0.9557883135292728 L -0.3038955350268221, -0.9527053604293205 L -0.3137031506966672, -0.9495211073183071 L -0.3234774106891385, -0.946235892774022 L -0.3332172757189677, -0.9428500661093626 L -0.34292171015806217, -0.9393639873351916 L -0.3525896821456212, -0.9357780271220573 L -0.36222016369785176, -0.9320925667607812 L -0.371812130817276, -0.9283079981219148 L -0.3813645636016068, -0.9244247236140734 L -0.3908764463521959, -0.9204431561411486 L -0.4003467676820314, -0.916363719058404 L -0.4097745206232768, -0.9121868461274607 L -0.4191587027343404, -0.9079129814701764 L -0.4284983162064666, -0.9035425795214208 L -0.437792367969827, -0.8990761049807583 L -0.4470398697991155, -0.894514032763036 L -0.4562398384186243, -0.8898568479478863 L -0.46539129560679443, -0.8851050457281493 L -0.4744932683002281, -0.8802591313572201 L -0.4835447886971565, -0.8753196200953239 L -0.49254489436034005, -0.8702870371547318 L -0.5014926283194068, -0.8651619176439133 L -0.5103870391726046, -0.8599448065106401 L -0.5192271811879633, -0.8546362584840419 L -0.5280121144038513, -0.8492368380156234 L -0.536740904728925, -0.8437471192192452 L -0.5454126240414437, -0.838167685810081 L -0.55402635028796, -0.8324991310425511 L -0.5625811675813586, -0.8267420576472418 L -0.5710761662982422, -0.8208970777668188 L -0.5795104431756504, -0.8149648128909379 L -0.587883101407104, -0.8089458937901624 L -0.5961932507379585, -0.802840960448896 L -0.6044400075600659, -0.7966506619973321 L -0.612622495005727, -0.7903756566424336 L -0.6207398430409281, -0.7840166115979457 L -0.6287911885578494, -0.7775742030134534 L -0.6367756754666415, -0.7710491159024842 L -0.644692454786448, -0.7644420440696755 L -0.6525406847356792, -0.7577536900370007 L -0.6603195308215172, -0.7509847649690714 L -0.6680281659286473, -0.7441359885975194 L -0.6756657704072028, -0.7372080891444703 L -0.6832315321599174, -0.7302018032451111 L -0.6907246467284766, -0.7231178758693643 L -0.698144317379052, -0.7159570602426779 L -0.7054897551870188, -0.7087201177659346 L -0.7127601791208413, -0.7014078179344925 L -0.7199548161251177, -0.6940209382563669 L -0.727072901202779, -0.6865602641695585 L -0.734113677496431, -0.6790265889585372 L -0.8075250452460742 ,-0.746929247854391\", \"type\": \"path\"}, {\"fillcolor\": \"rgba(254,224,139, 0.75)\", \"layer\": \"below\", \"line\": {\"color\": \"rgba(254,224,139, 0.75)\", \"width\": 0.45}, \"path\": \"M -0.20186360431337075, -1.0813191412592376 L -0.18923965103334078, -1.0835997205964847 L -0.17658996034148206, -1.0857329256804336 L -0.1639162526504957, -1.0877184663859574 L -0.1512202516394949, -1.0895560726709241 L -0.13850368401958466, -1.091245494612923 L -0.1257682792990149, -1.0927865024432564 L -0.11301576954796297, -1.0941788865781874 L -0.10024788916296712, -1.0954224576474454 L -0.08746637463103456, -1.0965170465199818 L -0.07467296429347943, -1.0974625043269701 L -0.06186939810949302, -1.098258702482056 L -0.049057417419509565, -1.098905532698843 L -0.03623876470836966, -1.0994029070056217 L -0.02341518336833766, -1.0997507577573327 L -0.010588417461995701, -1.0999490376447676 L 0.002239788514963175, -1.099997719701004 L 0.01506768987098618, -1.0998967973050708 L 0.013697899882714708, -0.9999061793682461 L 0.0020361713772392496, -0.9999979270009126 L -0.009625834056359727, -0.9999536705861524 L -0.021286530334852418, -0.9997734161430296 L -0.032944331553063325, -0.9994571881869287 L -0.044597652199554146, -0.999005029726221 L -0.056244907372266374, -0.9984170022564145 L -0.06788451299407221, -0.997693185751791 L -0.07951488602821323, -0.9968336786545288 L -0.09113444469360646, -0.995838597861314 L -0.10274160867996633, -0.994708078707443 L -0.11433479936274082, -0.9934422749484149 L -0.12591244001780422, -0.992041358739021 L -0.13747295603590445, -0.9905055206099309 L -0.14901477513681427, -0.9888349694417793 L -0.1605363275831655, -0.9870299324367577 L -0.17203604639394615, -0.9850906550877132 L -0.18351236755760975, -0.9830174011447614 L -0.20186360431337075 ,-1.0813191412592376\", \"type\": \"path\"}, {\"fillcolor\": \"rgba(217,239,139, 0.75)\", \"layer\": \"below\", \"line\": {\"color\": \"rgba(217,239,139, 0.75)\", \"width\": 0.45}, \"path\": \"M 0.04960884818656127, -1.098880777055274 L 0.06083066001405812, -1.0983167260869036 L 0.07204612498092365, -1.0976380805507948 L 0.08325407290434042, -1.0968449112544758 L 0.09445333438579631, -1.0959373009544868 L 0.10564274093308954, -1.0949153443477466 L 0.11682112508224897, -1.0937791480616723 L 0.1279873205193415, -1.0925288306430543 L 0.13914016220216494, -1.0911645225456863 L 0.1502784864817987, -1.0896863661167557 L 0.16140113122401883, -1.0880945155819908 L 0.17250693593055003, -1.0863891370295697 L 0.1835947418601471, -1.0845704083927914 L 0.19466339214949788, -1.0826385194315096 L 0.20571173193392056, -1.0805936717123357 L 0.21673860846786214, -1.0784360785876068 L 0.2277428712451708, -1.076165965173126 L 0.23872337211913514, -1.0737835683246737 L 0.24967896542228113, -1.0712891366132953 L 0.26060850808590186, -1.0686829302993666 L 0.27151085975932493, -1.0659652213054385 L 0.2823848829288918, -1.063136293187866 L 0.29322944303664095, -1.060196441107223 L 0.3040434085986879, -1.0571459717975051 L 0.31482565132327417, -1.0539852035341275 L 0.3255750462284935, -1.0507144661007168 L 0.33629047175966625, -1.0473341007547026 L 0.34697080990636303, -1.04384446019171 L 0.3576149463190476, -1.0402459085087645 L 0.3682217704253485, -1.0365388211662996 L 0.37879017554593103, -1.0327235849489849 L 0.38931905900996405, -1.028800597925369 L 0.3998073222701717, -1.024770269406346 L 0.410253871017447, -1.0206330199024525 L 0.4206576152950321, -1.016389281079989 L 0.43101746961223825, -1.0120394957159842 L 0.44133235305770613, -1.0075841176519946 L 0.4516011894121791, -1.0030236117467553 L 0.4618229072607952, -0.9983584538276756 L 0.4719964401048748, -0.9935891306411949 L 0.4821207264731937, -0.9887161398019961 L 0.4921947100327376, -0.9837399897410848 L 0.5022173396989104, -0.9786611996527448 L 0.5121875697452045, -0.9734802994403644 L 0.5221043599123073, -0.9681978296611494 L 0.5319666755166377, -0.9628143414697231 L 0.5417734875583045, -0.9573303965606189 L 0.5515237728284633, -0.9517465671096785 L 0.561216514016079, -0.9460634357143501 L 0.5708506998140666, -0.9402815953329038 L 0.5804253250248069, -0.934401649222564 L 0.5899393906650292, -0.9284242108765659 L 0.5993919040700365, -0.9223499039601492 L 0.6087818789972792, -0.9161793622454844 L 0.618108335729256, -0.9099132295455482 L 0.6273703011757368, -0.903552159646949 L 0.6365668089752863, -0.8970968162417152 L 0.6456968995960944, -0.8905478728580465 L 0.6547596204360895, -0.883906012790041 L 0.6637540259223317, -0.8771719290264006 L 0.6726791776096664, -0.8703463241781302 L 0.6815341442786421, -0.8634299104052275 L 0.6903180020326688, -0.8564234093423793 L 0.699029834394414, -0.849327552023669 L 0.7076687324014282, -0.8421430788063012 L 0.7162337947009771, -0.8348707392933582 L 0.7247241276440904, -0.8275112922555874 L 0.7331388453787997, -0.8200655055522337 L 0.741477069942565, -0.8125341560509248 L 0.749737931353882, -0.8049180295466128 L 0.7579205677030473, -0.7972179206795912 L 0.6890186979118611, -0.7247435642541737 L 0.6815799375944381, -0.7317436632241935 L 0.67407006358415, -0.7386674145917498 L 0.6664898594352724, -0.745514095956576 L 0.6588401160400822, -0.7522829929596249 L 0.6511216315463428, -0.7589733993575983 L 0.6433352112740256, -0.7655846170966374 L 0.6354816676312854, -0.7721159563851536 L 0.6275618200296988, -0.7785667357657993 L 0.6195764947987655, -0.7849362821865704 L 0.6115265250996967, -0.7912239310710274 L 0.6034127508384833, -0.7974290263876369 L 0.5952360185782631, -0.803550920718219 L 0.5869971814509949, -0.8095889753254968 L 0.578697099068442, -0.815542560219741 L 0.570336637432488, -0.821411054224499 L 0.5619166688447782, -0.8271938450414074 L 0.5534380718157084, -0.8328903293140766 L 0.5449017309727604, -0.8384999126910446 L 0.5363085369682083, -0.8440220098877871 L 0.527659386386188, -0.8494560447477854 L 0.5189551816491513, -0.8548014503026398 L 0.5101968309237082, -0.8600576688312274 L 0.5013852480258757, -0.8652241519178895 L 0.49252135232573124, -0.8703003605096535 L 0.4836060686514888, -0.8752857649724755 L 0.47464032719300664, -0.8801798451464994 L 0.4656250634047313, -0.8849820904003312 L 0.45656121790810034, -0.8896919996843133 L 0.4474497363933978, -0.8943090815828043 L 0.43829156952108517, -0.8988328543654509 L 0.4290876728226134, -0.9032628460374499 L 0.4198390066007229, -0.907598594388796 L 0.41054653582925366, -0.9118396470425046 L 0.40121123005246007, -0.9159855615018132 L 0.3918340632838529, -0.9200359051963491 L 0.3824160139045746, -0.9239902555272627 L 0.3729580645613154, -0.9278481999113204 L 0.3634612020637924, -0.931609335823951 L 0.3539264172817855, -0.9352732708412443 L 0.34435470504175547, -0.9388396226808952 L 0.33474706402304405, -0.9423080192420905 L 0.32510449665367963, -0.9456780986443313 L 0.31542800900578455, -0.948949509265191 L 0.3057186106906057, -0.9521219097770022 L 0.29597731475317585, -0.9551949691824698 L 0.28620513756661287, -0.9581683668492068 L 0.2764030987260799, -0.9610417925431864 L 0.26657222094240085, -0.9638149464611118 L 0.2567135299353562, -0.9664875392616963 L 0.24682805432665902, -0.9690592920958531 L 0.23691682553263804, -0.9715299366357877 L 0.2269808776566192, -0.9738992151029956 L 0.21702124738103193, -0.9761668802951577 L 0.2070389738592462, -0.9783326956119326 L 0.19703509860714738, -0.9803964350796425 L 0.18701066539447322, -0.9823578833748505 L 0.17696672013590714, -0.9842168358468267 L 0.1669043107819519, -0.9859730985389011 L 0.1568244872095909, -0.9876264882086997 L 0.14672830111274437, -0.9891768323472643 L 0.13661680589254427, -0.9906239691970505 L 0.12649105654742265, -0.9919677477688056 L 0.11635210956303772, -0.993208027857322 L 0.1062010228020445, -0.9943446800560657 L 0.09603885539371775, -0.9953775857706786 L 0.08586666762345119, -0.9963066372313515 L 0.07568552082212765, -0.9971317375040688 L 0.06549647725538513, -0.9978528005007226 L 0.0553006000127801, -0.998469750988094 L 0.04509895289687388, -0.9989825245957036 L 0.04960884818656127 ,-1.098880777055274\", \"type\": \"path\"}, {\"fillcolor\": \"rgba(166,217,106, 0.75)\", \"layer\": \"below\", \"line\": {\"color\": \"rgba(166,217,106, 0.75)\", \"width\": 0.45}, \"path\": \"M 0.7825877996945482, -0.7730176814079003 L 0.7905203740414039, -0.764903613683083 L 0.7983688240645439, -0.7567081476776879 L 0.8061323145602572, -0.7484321555236136 L 0.8138100193659176, -0.7400765179220626 L 0.8214011214479033, -0.7316421240498164 L 0.8289048129885417, -0.7231298714646153 L 0.8363202954720745, -0.7145406660096416 L 0.8436467797696315, -0.7058754217171265 L 0.8508834862232091, -0.6971350607110778 L 0.858029644728638, -0.6883205131091529 L 0.8650844948175344, -0.6794327169236786 L 0.8720472857382251, -0.6704726179618334 L 0.8789172765356429, -0.6614411697249942 L 0.8856937361301739, -0.6523393333072706 L 0.8923759433954578, -0.6431680772932273 L 0.898963187235125, -0.633928377654815 L 0.9054547666584727, -0.6246212176475046 L 0.9118499908550588, -0.6152475877056565 L 0.9181481792682171, -0.6058084853371222 L 0.9243486616674792, -0.5963049150170912 L 0.9304507782198964, -0.5867378880812021 L 0.93645387956026, -0.5771084226179152 L 0.9423573268602019, -0.5674175433601738 L 0.9481604918961777, -0.5576662815763551 L 0.9538627571163177, -0.5478556749605289 L 0.9594635157061483, -0.5379867675220253 L 0.9649621716531641, -0.5280606094743384 L 0.9703581398102545, -0.5180782571233642 L 0.9756508459579719, -0.5080407727549965 L 0.9808397268656398, -0.4979492245220765 L 0.9859242303512885, -0.4878046863307276 L 0.9909038153404174, -0.47760823772607225 L 0.9957779519235714, -0.4673609637773545 L 1.0005461214127362, -0.45706395496246505 L 1.005207816396532, -0.4467183070519007 L 1.0097625407942115, -0.43632512099215487 L 1.0142098099084513, -0.42588550278855847 L 1.0185491504769302, -0.41540056338758596 L 1.0227801007226944, -0.4048714185586276 L 1.0269022104032959, -0.3942991887752564 L 1.0309150408587076, -0.3836849990959895 L 1.0348181650580015, -0.37302997904456786 L 1.0386111676447947, -0.36233526248975023 L 1.042293644981448, -0.35160198752465466 L 1.0458652051920205, -0.3408312963456453 L 1.0493254682039705, -0.33002433513078744 L 1.0526740657886033, -0.31918225391786975 L 1.0559106416002553, -0.30830620648202517 L 1.0590348512142163, -0.2973973502129488 L 1.062046362163379, -0.28645684599173554 L 1.0649448539736235, -0.2754858580673389 L 1.067730018197917, -0.26448555393267853 L 1.0704015584491402, -0.25345710420039946 L 1.072959190431626, -0.2424016824782986 L 1.075402641971414, -0.2313204652444375 L 0.9776387654285581, -0.2102913320403977 L 0.9754174458469327, -0.22036516588936234 L 0.9730923258628547, -0.23041554927309038 L 0.9706636529071972, -0.24044141266607136 L 0.9681316854305667, -0.2504416891521262 L 0.9654966928757991, -0.26041531453794137 L 0.9627589556492874, -0.270361227466317 L 0.9599187650911412, -0.2802783695291138 L 0.9569764234441848, -0.2901656853798816 L 0.9539322438217913, -0.30002212284617036 L 0.950786550174564, -0.3098466330414957 L 0.9475396772558617, -0.31963817047695875 L 0.944191970586177, -0.32939569317250017 L 0.940743786416365, -0.33911816276778894 L 0.937195491689734, -0.3488045446327177 L 0.9335474640029962, -0.35845380797750576 L 0.9298000915660857, -0.3680649259623887 L 0.9259537731608456, -0.3776368758068963 L 0.9220089180985921, -0.38716863889868947 L 0.9179659461765558, -0.39665920090195894 L 0.9138252876332108, -0.40610755186536424 L 0.9095873831024874, -0.41551268632951366 L 0.905252683566883, -0.4248736034339586 L 0.9008216503094703, -0.434189307023702 L 0.8962947548648077, -0.44345880575520685 L 0.8916724789687633, -0.4526811132018877 L 0.8869553145072471, -0.4618552479590877 L 0.8821437634638677, -0.4709802337485129 L 0.8772383378665127, -0.48005509952212577 L 0.872239559732862, -0.4890788795654776 L 0.8671479610148343, -0.4980506136004808 L 0.8619640835419796, -0.5069693468875955 L 0.8566884789638198, -0.5158341303274306 L 0.8513217086911454, -0.524644020561741 L 0.8458643438362694, -0.5333980800738201 L 0.8403169651522537, -0.5420953772882646 L 0.8346801629711064, -0.550734986670111 L 0.8289545371409625, -0.559315988823324 L 0.8231406969622478, -0.5678374705886404 L 0.8172392611228408, -0.5762985251407409 L 0.8112508576322343, -0.5846982520847521 L 0.8051761237547035, -0.5930357575520641 L 0.7990157059414935, -0.6013101542954492 L 0.7927702597620228, -0.6095205617834849 L 0.7864404498341221, -0.6176661062942532 L 0.7800269497533072, -0.6257459210083207 L 0.7735304420210991, -0.6337591461009797 L 0.7669516179723922, -0.6417049288337513 L 0.7602911777018859, -0.6495824236451286 L 0.7535498299895833, -0.6573907922405593 L 0.7467282922253666, -0.6651292036816513 L 0.7398272903326523, -0.6727968344746024 L 0.7328475586911429, -0.6803928686578306 L 0.7257898400586762, -0.6879164978888072 L 0.7186548854921853, -0.6953669215300754 L 0.711443454267771, -0.7027433467344547 L 0.7825877996945482 ,-0.7730176814079003\", \"type\": \"path\"}, {\"fillcolor\": \"rgba(102,189,99, 0.75)\", \"layer\": \"below\", \"line\": {\"color\": \"rgba(102,189,99, 0.75)\", \"width\": 0.45}, \"path\": \"M 1.0821379470887018, -0.19742710925972193 L 1.0838272050669895, -0.18793240688257565 L 1.0854331579672367, -0.1784232596531968 L 1.0869556823527629, -0.16890039846323537 L 1.0883946611993676, -0.15936455525842014 L 1.089749983904323, -0.14981646298230403 L 1.0910215462948762, -0.14025685551992642 L 1.0922092506362555, -0.13068646764140945 L 1.0933130056391835, -0.12110603494547614 L 1.0943327264668923, -0.11151629380291388 L 1.0952683347416456, -0.10191798129997828 L 1.096119758550762, -0.09231183518173366 L 1.0968869324521426, -0.08269859379535129 L 1.097569797479302, -0.0730789960333615 L 1.0981683011458987, -0.06345378127685519 L 1.0986823974497706, -0.05382368933865744 L 1.099112046876471, -0.044189460406462044 L 1.0994572164023046, -0.03455183498594315 L 0.9995065603657315, -0.03141075907813013 L 0.9991927698877009, -0.04017223673314731 L 0.9988021794997914, -0.048930626671506765 L 0.9983348192235442, -0.057685255706231994 L 0.9977907249811836, -0.06643545093941954 L 0.997169938592857, -0.07518053981395571 L 0.9964725077734199, -0.08391985016521242 L 0.9956984861287687, -0.09265271027270752 L 0.9948479331517203, -0.10137844891173987 L 0.9939209142174394, -0.1100963954049783 L 0.9929175005784141, -0.11880587967400857 L 0.9918377693589783, -0.12750623229084218 L 0.9906818035493844, -0.1361967845293673 L 0.989449691999425, -0.14487686841674557 L 0.9881415294116026, -0.15354581678475943 L 0.9867574163338514, -0.162202963321088 L 0.9852974591518086, -0.1708476426205233 L 0.9837617700806379, -0.17947919023611084 L 1.0821379470887018 ,-0.19742710925972193\", \"type\": \"path\"}], \"showlegend\": false, \"title\": \"Pairwise interactions between common egg mutation genotypes\", \"width\": 800, \"xaxis\": {\"visible\": false}, \"yaxis\": {\"visible\": false}}, {\"showLink\": true, \"linkText\": \"Export to plot.ly\", \"plotlyServerURL\": \"https://plot.ly\"})});</script>"
      ]
     },
     "metadata": {},
     "output_type": "display_data"
    }
   ],
   "source": [
    "data = ideograms + ribbon_info\n",
    "layout['shapes'] = shapes\n",
    "layout['annotations'] = annotations\n",
    "fig = go.Figure(data=data, layout=layout)\n",
    "from plotly.offline import download_plotlyjs, init_notebook_mode,  iplot, plot\n",
    "init_notebook_mode(connected=True)\n",
    "iplot(fig)"
   ]
  },
  {
   "cell_type": "code",
   "execution_count": null,
   "metadata": {
    "collapsed": true
   },
   "outputs": [],
   "source": []
  }
 ],
 "metadata": {
  "kernelspec": {
   "display_name": "Python [conda env:py3]",
   "language": "python",
   "name": "conda-env-py3-py"
  },
  "language_info": {
   "codemirror_mode": {
    "name": "ipython",
    "version": 3
   },
   "file_extension": ".py",
   "mimetype": "text/x-python",
   "name": "python",
   "nbconvert_exporter": "python",
   "pygments_lexer": "ipython3",
   "version": "3.6.7"
  }
 },
 "nbformat": 4,
 "nbformat_minor": 2
}
