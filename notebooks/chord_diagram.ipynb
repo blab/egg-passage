{
 "cells": [
  {
   "cell_type": "code",
   "execution_count": 51,
   "metadata": {},
   "outputs": [],
   "source": [
    "#Adapted from https://nbviewer.jupyter.org/github/empet/Plotly-plots/blob/master/Chord-diagram.ipynb?flush_cache=true"
   ]
  },
  {
   "cell_type": "code",
   "execution_count": 52,
   "metadata": {},
   "outputs": [],
   "source": [
    "import plotly.plotly as py\n",
    "import plotly.figure_factory as ff\n",
    "import plotly.graph_objs as go\n",
    "import numpy as np\n",
    "import pandas as pd\n",
    "import itertools"
   ]
  },
  {
   "cell_type": "code",
   "execution_count": 53,
   "metadata": {},
   "outputs": [],
   "source": [
    "df = pd.read_csv('../dataframes/h3n2_ha_12y_hi_egg.csv')"
   ]
  },
  {
   "cell_type": "code",
   "execution_count": 54,
   "metadata": {},
   "outputs": [
    {
     "name": "stdout",
     "output_type": "stream",
     "text": [
      "[[153   0  21  34 148   0  59   8]\n",
      " [  0 171  14   0 157  23   3  14]\n",
      " [ 21  14  90  12  84   3   9  24]\n",
      " [ 34   0  12  59  57   0  12  11]\n",
      " [148 157  84  57 522  20  65  38]\n",
      " [  0  23   3   0  20  23   1   1]\n",
      " [ 59   3   9  12  65   1  69   6]\n",
      " [  8  14  24  11  38   1   6  50]]\n"
     ]
    }
   ],
   "source": [
    "sites = ['186','194','138','156','160','203','219','225']\n",
    "egg_muts = {'160':['K'], '194': ['P'], \n",
    "            '186':['V'], '225':['G'], '219':['F','Y'], \n",
    "            '203':['I'], '156':['R','Q'], '138':['S'], \n",
    "            '246':['H'], '183':['L']}\n",
    "matrix = np.zeros((len(sites), len(sites)), dtype=int)\n",
    "for site_a in sites:\n",
    "    for site_b in sites:\n",
    "        both_muts = 0\n",
    "        for egg_genotype_a in egg_muts[site_a]:\n",
    "            for egg_genotype_b in egg_muts[site_b]:\n",
    "                both_muts+= len(df[(df[site_a]==egg_genotype_a)&(df[site_b]==egg_genotype_b)])\n",
    "        matrix[sites.index(site_a)][sites.index(site_b)] = both_muts\n",
    "print(matrix)"
   ]
  },
  {
   "cell_type": "code",
   "execution_count": 55,
   "metadata": {},
   "outputs": [],
   "source": [
    "labels = ['186 V','194 P','138 S','156 R/Q','160 K','203 I','219 F/Y','225 G']\n",
    "ideo_colors = ['rgba(26,152,80, 0.75)',\n",
    "               'rgba(215,48,39, 0.75)',\n",
    "             'rgba(244,109,67, 0.75)',\n",
    "             'rgba(253,174,97, 0.75)',\n",
    "             'rgba(254,224,139, 0.75)',\n",
    "             'rgba(217,239,139, 0.75)',\n",
    "             'rgba(166,217,106, 0.75)',\n",
    "             'rgba(102,189,99, 0.75)']"
   ]
  },
  {
   "cell_type": "code",
   "execution_count": 56,
   "metadata": {},
   "outputs": [],
   "source": [
    "def check_data(data_matrix):\n",
    "    L, M=data_matrix.shape\n",
    "    if L!=M:\n",
    "        raise ValueError('Data array must have (n,n) shape')\n",
    "    return L\n",
    "\n",
    "L=check_data(matrix)"
   ]
  },
  {
   "cell_type": "code",
   "execution_count": 57,
   "metadata": {},
   "outputs": [],
   "source": [
    "radii_sribb=[0.4, 0.4, 0.4, 0.4, 0.4, 0.5, 0.5, 0.5, 0.5, 0.5, 0.5]# these value are set after a few trials "
   ]
  },
  {
   "cell_type": "code",
   "execution_count": 58,
   "metadata": {},
   "outputs": [],
   "source": [
    "def moduloAB(x, a, b): #maps a real number onto the unit circle identified with \n",
    "                       #the interval [a,b), b-a=2*PI\n",
    "        if a>= b:\n",
    "            raise ValueError('Incorrect interval ends')\n",
    "        y = (x-a) % (b-a)\n",
    "        return y+b if y < 0 else y+a"
   ]
  },
  {
   "cell_type": "code",
   "execution_count": 59,
   "metadata": {},
   "outputs": [],
   "source": [
    "def test_2PI(x):\n",
    "    return True\n",
    "#      return 0 <= x < 2*pi"
   ]
  },
  {
   "cell_type": "code",
   "execution_count": 60,
   "metadata": {},
   "outputs": [],
   "source": [
    "pi = np.pi\n",
    "\n",
    "row_sum = [np.sum(matrix[k,:]) for k in range(L)]\n",
    "\n",
    "#set the gap between two consecutive ideograms\n",
    "gap = 2*pi*0.005\n",
    "ideogram_length = 2*pi * np.asarray(row_sum) / sum(row_sum) - gap*np.ones(L)"
   ]
  },
  {
   "cell_type": "code",
   "execution_count": 61,
   "metadata": {},
   "outputs": [],
   "source": [
    "def get_ideogram_ends(ideogram_len, gap):\n",
    "    ideo_ends = []\n",
    "    left = 0\n",
    "    for k in range(len(ideogram_len)):\n",
    "        right = left + ideogram_len[k]\n",
    "        ideo_ends.append([left, right])   \n",
    "        left = right + gap\n",
    "    return ideo_ends "
   ]
  },
  {
   "cell_type": "code",
   "execution_count": 62,
   "metadata": {},
   "outputs": [],
   "source": [
    "ideo_ends = get_ideogram_ends(ideogram_length, gap)"
   ]
  },
  {
   "cell_type": "code",
   "execution_count": 63,
   "metadata": {},
   "outputs": [],
   "source": [
    "def make_ideogram_arc(R, phi, a=100):\n",
    "    # R is the circle radius\n",
    "    # phi is the list of  angle coordinates of an arc ends\n",
    "    # a is a parameter that controls the number of points to be evaluated on an arc\n",
    "    if not test_2PI(phi[0]) or not test_2PI(phi[1]):\n",
    "        phi = [moduloAB(t, 0, 2*pi) for t in phi]\n",
    "    length = (phi[1]-phi[0]) % 2*pi \n",
    "    nr = 18 if length <= pi/4 else int(a*length/pi)\n",
    "\n",
    "    if phi[0] < phi[1]:   \n",
    "        theta = np.linspace(phi[0], phi[1], nr)\n",
    "    else:\n",
    "        phi = [moduloAB(t, -pi, pi) for t in phi]\n",
    "        theta = np.linspace(phi[0], phi[1], nr)\n",
    "    return R * np.exp(1j*theta)  "
   ]
  },
  {
   "cell_type": "code",
   "execution_count": 64,
   "metadata": {},
   "outputs": [
    {
     "data": {
      "text/plain": [
       "array([1.12583302-0.65j      , 1.13689513-0.6304518j ,\n",
       "       1.14761784-0.61071539j, 1.15799797-0.59079667j,\n",
       "       1.16803241-0.57070158j, 1.17771816-0.55043613j,\n",
       "       1.18705234-0.53000636j, 1.19603216-0.50941837j,\n",
       "       1.20465494-0.48867831j, 1.21291809-0.46779236j,\n",
       "       1.22081917-0.44676677j, 1.22835581-0.42560781j,\n",
       "       1.23552575-0.4043218j , 1.24232686-0.38291509j,\n",
       "       1.24875711-0.36139407j, 1.25481458-0.33976517j,\n",
       "       1.26049746-0.31803483j, 1.26580405-0.29620956j,\n",
       "       1.27073277-0.27429586j, 1.27528215-0.25230028j,\n",
       "       1.27945083-0.23022939j, 1.28323757-0.20808976j,\n",
       "       1.28664123-0.18588801j, 1.2896608 -0.16363078j,\n",
       "       1.29229537-0.14132469j, 1.29454417-0.11897642j,\n",
       "       1.29640652-0.09659263j, 1.29788186-0.07418j   ,\n",
       "       1.29896976-0.05174523j, 1.29966988-0.02929501j,\n",
       "       1.29998203-0.00683605j, 1.2999061 +0.01562495j,\n",
       "       1.29944212+0.03808129j, 1.29859022+0.06052626j,\n",
       "       1.29735067+0.08295316j, 1.29572384+0.1053553j ,\n",
       "       1.2937102 +0.12772599j, 1.29131035+0.15005855j,\n",
       "       1.28852503+0.17234631j, 1.28535505+0.19458263j,\n",
       "       1.28180136+0.21676085j, 1.27786503+0.23887437j])"
      ]
     },
     "execution_count": 64,
     "metadata": {},
     "output_type": "execute_result"
    }
   ],
   "source": [
    "make_ideogram_arc(1.3, [11*pi/6, pi/17])"
   ]
  },
  {
   "cell_type": "code",
   "execution_count": 65,
   "metadata": {},
   "outputs": [],
   "source": [
    "def map_data(data_matrix, row_value, ideogram_length):\n",
    "    mapped = np.zeros(data_matrix.shape)\n",
    "    for j  in range(L):\n",
    "        mapped[:, j] = ideogram_length * data_matrix[:,j] / row_value\n",
    "    return mapped  "
   ]
  },
  {
   "cell_type": "code",
   "execution_count": 66,
   "metadata": {},
   "outputs": [
    {
     "data": {
      "text/plain": [
       "array([[0.33381717, 0.        , 0.04581804, 0.07418159, 0.32290811,\n",
       "        0.        , 0.12872688, 0.01745449],\n",
       "       [0.        , 0.37172668, 0.03043376, 0.        , 0.34129292,\n",
       "        0.04999833, 0.00652152, 0.03043376],\n",
       "       [0.04481064, 0.02987376, 0.19204559, 0.02560608, 0.17924256,\n",
       "        0.00640152, 0.01920456, 0.05121216],\n",
       "       [0.07093301, 0.        , 0.02503518, 0.12308964, 0.11891711,\n",
       "        0.        , 0.02503518, 0.02294892],\n",
       "       [0.32963823, 0.3496838 , 0.18709197, 0.12695527, 1.16264296,\n",
       "        0.04454571, 0.14477355, 0.08463684],\n",
       "       [0.        , 0.04171287, 0.00544081, 0.        , 0.03627206,\n",
       "        0.04171287, 0.0018136 , 0.0018136 ],\n",
       "       [0.12483404, 0.00634749, 0.01904248, 0.02538997, 0.13752903,\n",
       "        0.00211583, 0.14599235, 0.01269499],\n",
       "       [0.01639518, 0.02869156, 0.04918553, 0.02254337, 0.07787709,\n",
       "        0.0020494 , 0.01229638, 0.10246986]])"
      ]
     },
     "execution_count": 66,
     "metadata": {},
     "output_type": "execute_result"
    }
   ],
   "source": [
    "mapped_data = map_data(matrix, row_sum, ideogram_length)\n",
    "mapped_data"
   ]
  },
  {
   "cell_type": "code",
   "execution_count": 67,
   "metadata": {},
   "outputs": [
    {
     "data": {
      "text/plain": [
       "array([[1, 5, 7, 2, 3, 6, 4, 0],\n",
       "       [0, 3, 6, 2, 7, 5, 4, 1],\n",
       "       [5, 6, 3, 1, 0, 7, 4, 2],\n",
       "       [1, 5, 7, 2, 6, 0, 4, 3],\n",
       "       [5, 7, 3, 6, 2, 0, 1, 4],\n",
       "       [0, 3, 6, 7, 2, 4, 1, 5],\n",
       "       [5, 1, 7, 2, 3, 0, 4, 6],\n",
       "       [5, 6, 0, 3, 1, 2, 4, 7]])"
      ]
     },
     "execution_count": 67,
     "metadata": {},
     "output_type": "execute_result"
    }
   ],
   "source": [
    "idx_sort = np.argsort(mapped_data, axis=1)\n",
    "idx_sort"
   ]
  },
  {
   "cell_type": "code",
   "execution_count": 68,
   "metadata": {},
   "outputs": [],
   "source": [
    "def make_ribbon_ends(mapped_data, ideo_ends,  idx_sort):\n",
    "    L = mapped_data.shape[0]\n",
    "    ribbon_boundary = np.zeros((L,L+1))\n",
    "    for k in range(L):\n",
    "        start = ideo_ends[k][0]\n",
    "        ribbon_boundary[k][0] = start\n",
    "        for j in range(1,L+1):\n",
    "            J = idx_sort[k][j-1]\n",
    "            ribbon_boundary[k][j] = start + mapped_data[k][J]\n",
    "            start = ribbon_boundary[k][j]\n",
    "    return [[(ribbon_boundary[k][j], ribbon_boundary[k][j+1] ) for j in range(L)] for k in range(L)] "
   ]
  },
  {
   "cell_type": "code",
   "execution_count": 69,
   "metadata": {},
   "outputs": [
    {
     "name": "stdout",
     "output_type": "stream",
     "text": [
      "ribbon ends starting from the ideogram[2]\n",
      " [(1.8161451246964333, 1.8225466445193144), (1.8225466445193144, 1.8417512039879576), (1.8417512039879576, 1.867357283279482), (1.867357283279482, 1.897231042452927), (1.897231042452927, 1.9420416812130947), (1.9420416812130947, 1.9932538397961435), (1.9932538397961435, 2.172496394836814), (2.172496394836814, 2.3645419895232473)]\n"
     ]
    }
   ],
   "source": [
    "ribbon_ends = make_ribbon_ends(mapped_data, ideo_ends,  idx_sort)\n",
    "print ('ribbon ends starting from the ideogram[2]\\n', ribbon_ends[2])"
   ]
  },
  {
   "cell_type": "code",
   "execution_count": 70,
   "metadata": {},
   "outputs": [],
   "source": [
    "def control_pts(angle, radius):\n",
    "    #angle is a  3-list containing angular coordinates of the control points b0, b1, b2\n",
    "    #radius is the distance from b1 to the  origin O(0,0) \n",
    "\n",
    "    if len(angle) != 3:\n",
    "        raise InvalidInputError('angle must have len =3')\n",
    "    b_cplx = np.array([np.exp(1j*angle[k]) for k in range(3)])\n",
    "    b_cplx[1] = radius * b_cplx[1]\n",
    "    return list(zip(b_cplx.real, b_cplx.imag))"
   ]
  },
  {
   "cell_type": "code",
   "execution_count": 71,
   "metadata": {},
   "outputs": [],
   "source": [
    "def ctrl_rib_chords(l, r, radius):\n",
    "    # this function returns a 2-list containing control poligons of the two quadratic Bezier\n",
    "    #curves that are opposite sides in a ribbon\n",
    "    #l (r) the list of angular variables of the ribbon arc ends defining \n",
    "    #the ribbon starting (ending) arc \n",
    "    # radius is a common parameter for both control polygons\n",
    "    if len(l) != 2 or len(r) != 2:\n",
    "        raise ValueError('the arc ends must be elements in a list of len 2')\n",
    "    return [control_pts([l[j], (l[j]+r[j])/2, r[j]], radius) for j in range(2)]"
   ]
  },
  {
   "cell_type": "code",
   "execution_count": 72,
   "metadata": {},
   "outputs": [],
   "source": [
    "#Define ribbon color\n",
    "ribbon_color = [L * ['rgba(175,175,175,0.5)'] for k in range(L)]"
   ]
  },
  {
   "cell_type": "code",
   "execution_count": 73,
   "metadata": {},
   "outputs": [],
   "source": [
    "#Change 186 and 194 ribbon colors\n",
    "for k_186 in range(len(ribbon_color[0])):\n",
    "    ribbon_color[0][k_186] = ideo_colors[0]\n",
    "for k_194 in range(len(ribbon_color[1])):\n",
    "    ribbon_color[1][k_194] = ideo_colors[1]\n"
   ]
  },
  {
   "cell_type": "code",
   "execution_count": 74,
   "metadata": {},
   "outputs": [],
   "source": [
    "def make_q_bezier(b):# defines the Plotly SVG path for a quadratic Bezier curve defined by the \n",
    "                     #list of its control points\n",
    "    if len(b) != 3:\n",
    "        raise valueError('control poligon must have 3 points')\n",
    "    A, B, C = b    \n",
    "    return f'M {A[0]}, {A[1]} Q {B[0]}, {B[1]} {C[0]}, {C[1]}'"
   ]
  },
  {
   "cell_type": "code",
   "execution_count": 75,
   "metadata": {},
   "outputs": [
    {
     "data": {
      "text/plain": [
       "'M 1, 4 Q -0.5, 2.35 3.745, 1.47'"
      ]
     },
     "execution_count": 75,
     "metadata": {},
     "output_type": "execute_result"
    }
   ],
   "source": [
    "b=[(1,4), (-0.5, 2.35), (3.745, 1.47)]\n",
    "make_q_bezier(b)"
   ]
  },
  {
   "cell_type": "code",
   "execution_count": 76,
   "metadata": {},
   "outputs": [],
   "source": [
    "def make_ribbon_arc(theta0, theta1):\n",
    "\n",
    "    if test_2PI(theta0) and test_2PI(theta1):\n",
    "        if theta0 < theta1:\n",
    "            theta0 = moduloAB(theta0, -pi, pi)\n",
    "            theta1 = moduloAB(theta1, -pi, pi)\n",
    "            if theta0  *theta1 > 0:\n",
    "                raise ValueError('incorrect angle coordinates for ribbon')\n",
    "    \n",
    "        nr = int(40 * (theta0 - theta1) / pi)\n",
    "        if nr <= 2: nr = 3\n",
    "        theta = np.linspace(theta0, theta1, nr)\n",
    "        pts=np.exp(1j*theta)# points in polar complex form, on the given arc\n",
    "    \n",
    "        string_arc = ''\n",
    "        for k in range(len(theta)):\n",
    "            string_arc += f'L {pts.real[k]}, {pts.imag[k]} '\n",
    "        return   string_arc \n",
    "    else:\n",
    "        raise ValueError('the angle coordinates for an arc side of a ribbon must be in [0, 2*pi]')"
   ]
  },
  {
   "cell_type": "code",
   "execution_count": 77,
   "metadata": {},
   "outputs": [
    {
     "data": {
      "text/plain": [
       "'L 0.5000000000000001, 0.8660254037844386 L 0.5877852522924732, 0.8090169943749473 L 0.6691306063588583, 0.7431448254773941 L 0.7431448254773942, 0.6691306063588581 L 0.8090169943749475, 0.5877852522924731 L 0.8660254037844387, 0.49999999999999994 '"
      ]
     },
     "execution_count": 77,
     "metadata": {},
     "output_type": "execute_result"
    }
   ],
   "source": [
    "make_ribbon_arc(np.pi/3, np.pi/6)"
   ]
  },
  {
   "cell_type": "code",
   "execution_count": 78,
   "metadata": {},
   "outputs": [],
   "source": [
    "def make_layout(title, plot_size):\n",
    "\n",
    "    return dict(title=title,\n",
    "                xaxis=dict(visible=False),\n",
    "                yaxis=dict(visible=False),\n",
    "                showlegend=False,\n",
    "                width=plot_size,\n",
    "                height=plot_size,\n",
    "                margin=dict(t=25, b=25, l=25, r=25),\n",
    "                hovermode=False,\n",
    "                 )  "
   ]
  },
  {
   "cell_type": "code",
   "execution_count": 79,
   "metadata": {},
   "outputs": [],
   "source": [
    "def make_ideo_shape(path, line_color, fill_color):\n",
    "    #line_color is the color of the shape boundary\n",
    "    #fill_color is the color assigned to an ideogram\n",
    "    \n",
    "    return  dict(line=dict(color=line_color, \n",
    "                           width=0.45),\n",
    "                 path=path,\n",
    "                 layer='below',\n",
    "                 type='path',\n",
    "                 fillcolor=fill_color)   "
   ]
  },
  {
   "cell_type": "code",
   "execution_count": 80,
   "metadata": {},
   "outputs": [],
   "source": [
    "def make_ribbon(l, r, line_color, fill_color, radius=0.2):\n",
    "    #l=[l[0], l[1]], r=[r[0], r[1]]  represent the opposite arcs in the ribbon \n",
    "    #line_color is the color of the shape boundary\n",
    "    #fill_color is the fill color for the ribbon shape\n",
    "    \n",
    "    poligon = ctrl_rib_chords(l,r, radius)\n",
    "    b, c = poligon  \n",
    "           \n",
    "    return  dict(line=dict(color=line_color, \n",
    "                             width=0.5),\n",
    "                 path=make_q_bezier(b) + make_ribbon_arc(r[0], r[1])+\n",
    "                         make_q_bezier(c[::-1]) + make_ribbon_arc(l[1], l[0]),\n",
    "                 type='path',\n",
    "                 layer='below',\n",
    "                 fillcolor = fill_color,    \n",
    "        )\n",
    "\n",
    "def make_self_rel(l, line_color, fill_color, radius):\n",
    "    #radius is the radius of Bezier control point b_1\n",
    "    \n",
    "    b = control_pts([l[0], (l[0]+l[1])/2, l[1]], radius) \n",
    "    \n",
    "    return  dict(line = dict(color=line_color, \n",
    "                             width=0.5),\n",
    "                 path =  make_q_bezier(b)+make_ribbon_arc(l[1], l[0]),\n",
    "                 type = 'path',\n",
    "                 layer = 'below',\n",
    "                 fillcolor = fill_color   \n",
    "                )"
   ]
  },
  {
   "cell_type": "code",
   "execution_count": 81,
   "metadata": {},
   "outputs": [],
   "source": [
    "def invPerm(perm):\n",
    "    # function that returns the inverse of a permutation, perm\n",
    "    inv = [0] * len(perm)\n",
    "    for i, s in enumerate(perm):\n",
    "        inv[s] = i\n",
    "    return inv"
   ]
  },
  {
   "cell_type": "code",
   "execution_count": 82,
   "metadata": {},
   "outputs": [],
   "source": [
    "layout=make_layout('Pairwise interactions between common egg mutation genotypes', 800)   "
   ]
  },
  {
   "cell_type": "code",
   "execution_count": 83,
   "metadata": {},
   "outputs": [],
   "source": [
    "ribbon_info=[]\n",
    "shapes=[]\n",
    "annotations = []\n",
    "for k in range(L):\n",
    "    \n",
    "    sigma = idx_sort[k]\n",
    "    sigma_inv = invPerm(sigma)\n",
    "    for j in range(k, L):\n",
    "        if matrix[k][j] == 0 and matrix[j][k]==0: continue\n",
    "        eta = idx_sort[j]\n",
    "        eta_inv = invPerm(eta)\n",
    "        l = ribbon_ends[k][sigma_inv[j]]  \n",
    "        \n",
    "        if j == k:\n",
    "            shapes.append(make_self_rel(l, 'rgba(175,175,175,0.5)',\n",
    "                                        'rgba(175,175,175,0.5)', radius=radii_sribb[k])) \n",
    "#             shapes.append(make_self_rel(l, ideo_colors[k] ,\n",
    "#                         ideo_colors[k], radius=radii_sribb[k])) \n",
    "\n",
    "            z = 0.9*np.exp(1j*(l[0]+l[1])/2)\n",
    "            \n",
    "\n",
    "            ribbon_info.append(go.Scatter(x=[z.real],\n",
    "                                       y=[z.imag],\n",
    "                                       mode='markers',\n",
    "                                       marker=dict(size=0.5, color=ideo_colors[k])\n",
    "                                       )\n",
    "                              )\n",
    "        else:\n",
    "            r = ribbon_ends[j][eta_inv[k]]\n",
    "            zi = 0.9 * np.exp(1j*(l[0]+l[1])/2)\n",
    "            zf = 0.9 * np.exp(1j*(r[0]+r[1])/2)\n",
    "            #texti and textf are the strings that will be displayed when hovering the mouse \n",
    "            #over the two ribbon ends\n",
    "            texti = f'{labels[k]}'\n",
    "            textf = f'{labels[j]}'\n",
    "            \n",
    "            ribbon_info.append(go.Scatter(x=[zi.real],\n",
    "                                          y=[zi.imag],\n",
    "                                          mode='markers',\n",
    "                                          marker=dict(size=0.5, color=ribbon_color[k][j]),\n",
    "                                          text=texti\n",
    "                                       )\n",
    "                              ),\n",
    "            ribbon_info.append(go.Scatter(x=[zf.real],\n",
    "                                          y=[zf.imag],\n",
    "                                          mode='markers',\n",
    "                                          marker=dict(size=0.5, color=ribbon_color[k][j]),\n",
    "                                          text=textf\n",
    "                                       )\n",
    "                              )\n",
    "            r = (r[1], r[0]) # IMPORTANT!!!  Reverse these arc ends because otherwise you get\n",
    "                          # a twisted ribbon\n",
    "            #append the ribbon shape\n",
    "            shapes.append(make_ribbon(l, r, ribbon_color[k][j] , ribbon_color[k][j]))\n",
    "           \n",
    "                                    "
   ]
  },
  {
   "cell_type": "code",
   "execution_count": 84,
   "metadata": {},
   "outputs": [],
   "source": [
    "ideograms = []\n",
    "for k in range(len(ideo_ends)):\n",
    "    z =  make_ideogram_arc(1.1, ideo_ends[k])\n",
    "    zi = make_ideogram_arc(1.0, ideo_ends[k])\n",
    "    m = len(z)\n",
    "    n = len(zi)\n",
    "    ideograms.append(go.Scatter(x=z.real,\n",
    "                                y=z.imag,\n",
    "                                mode='lines',\n",
    "                                line=dict(color=ideo_colors[k], shape='spline', width=0.25)\n",
    "#                                 text=f'{labels[k]} <br>{int(row_sum[k])} viruses'\n",
    "                             )\n",
    "                     )\n",
    "    \n",
    "       \n",
    "    path = 'M '\n",
    "    for s in range(m):\n",
    "        path += f'{z.real[s]}, {z.imag[s]} L '\n",
    "        \n",
    "    Zi = np.array(zi.tolist()[::-1]) \n",
    "\n",
    "    for s in range(m):\n",
    "        path += f'{Zi.real[s]}, {Zi.imag[s]} L '\n",
    "    path += f'{z.real[0]} ,{z.imag[0]}' \n",
    "   \n",
    "    shapes.append(make_ideo_shape(path,ideo_colors[k] , ideo_colors[k]))\n",
    "    \n",
    "    z_text =  make_ideogram_arc(1.2, ideo_ends[k])\n",
    "    Z_text = np.array(z_text.tolist()[::-1]) \n",
    "    annotations.append(dict(x=Z_text.real[int(len(Z_text)/2)], \n",
    "                            y=Z_text.imag[int(len(Z_text)/2)], \n",
    "                            showarrow=False,\n",
    "                            align='left',\n",
    "                            valign='bottom',\n",
    "                            text=f'{labels[k]}'))\n"
   ]
  },
  {
   "cell_type": "code",
   "execution_count": 85,
   "metadata": {},
   "outputs": [
    {
     "data": {
      "text/html": [
       "<script type=\"text/javascript\">window.PlotlyConfig = {MathJaxConfig: 'local'};</script><script type=\"text/javascript\">if (window.MathJax) {MathJax.Hub.Config({SVG: {font: \"STIX-Web\"}});}</script><script>requirejs.config({paths: { 'plotly': ['https://cdn.plot.ly/plotly-latest.min']},});if(!window._Plotly) {require(['plotly'],function(plotly) {window._Plotly=plotly;});}</script>"
      ],
      "text/vnd.plotly.v1+html": [
       "<script type=\"text/javascript\">window.PlotlyConfig = {MathJaxConfig: 'local'};</script><script type=\"text/javascript\">if (window.MathJax) {MathJax.Hub.Config({SVG: {font: \"STIX-Web\"}});}</script><script>requirejs.config({paths: { 'plotly': ['https://cdn.plot.ly/plotly-latest.min']},});if(!window._Plotly) {require(['plotly'],function(plotly) {window._Plotly=plotly;});}</script>"
      ]
     },
     "metadata": {},
     "output_type": "display_data"
    },
    {
     "data": {
      "application/vnd.plotly.v1+json": {
       "config": {
        "linkText": "Export to plot.ly",
        "plotlyServerURL": "https://plot.ly",
        "showLink": true
       },
       "data": [
        {
         "line": {
          "color": "rgba(26,152,80, 0.75)",
          "shape": "spline",
          "width": 0.25
         },
         "mode": "lines",
         "type": "scatter",
         "uid": "ae0e5d1f-0409-45f8-92b5-34d65445d9a9",
         "x": [
          1.1,
          1.0999434293201293,
          1.0997737230991382,
          1.0994908987922931,
          1.099094985489709,
          1.0985860239133582,
          1.0979640664128811,
          1.0972291769602027,
          1.096381431142952,
          1.095420916156688,
          1.0943477307959295,
          1.0931619854439965,
          1.0918638020616533,
          1.0904533141745665,
          1.0889306668595704,
          1.087296016729744,
          1.0855495319183048,
          1.0836913920613127,
          1.0817217882791952,
          1.0796409231570883,
          1.0774490107240007,
          1.075146276430799,
          1.0727329571270188,
          1.0702093010365028,
          1.0675755677318712,
          1.0648320281078212,
          1.0619789643532653,
          1.0590166699223058,
          1.0559454495040517,
          1.0527656189912795,
          1.049477505447942,
          1.0460814470755275,
          1.042577793178274,
          1.038966904127242,
          1.035249151323247,
          1.031424917158659,
          1.027494594978072,
          1.023458589037846,
          1.0193173144645264,
          1.0150711972121462,
          1.0107206740184138,
          1.006266192359793,
          1.0017082104054762,
          0.9970471969702598,
          0.9922836314663236,
          0.9874180038539204,
          0.9824508145909816,
          0.9773825745816408,
          0.9722138051236854,
          0.966945037854938,
          0.9615768146985739,
          0.9561096878073817,
          0.9505442195069707,
          0.9448809822379327,
          0.9391205584969634,
          0.9332635407769491,
          0.9273105315060248,
          0.921262142985612,
          0.9151189973274395,
          0.908881726389555,
          0.902550971711336,
          0.8961273844475027,
          0.8896116253011441,
          0.8830043644557595,
          0.8763062815063273,
          0.8695180653894042,
          0.8626404143122649,
          0.8556740356810862,
          0.8486196460281867,
          0.8414779709383283,
          0.8342497449740839,
          0.8269357116002845,
          0.8195366231075492,
          0.8120532405349079,
          0.8044863335915243,
          0.7968366805775261,
          0.7891050683039528,
          0.7812922920118277,
          0.7733991552903628,
          0.7654264699943046,
          0.7573750561604307,
          0.7492457419232034,
          0.7410393634295929,
          0.7327567647530728,
          0.7243987978068035,
          0.7159663222560078,
          0.7074602054295491,
          0.698881322230722,
          0.6902305550472628,
          0.6815087936605915,
          0.6727169351542923,
          0.6638558838218436
         ],
         "y": [
          0,
          0.01115581890647118,
          0.022310490372469533,
          0.03346286707554312,
          0.04461180192926963,
          0.05575614820124087,
          0.0668947596310108,
          0.07802649054799504,
          0.08915019598930979,
          0.10026473181753771,
          0.11136895483840935,
          0.12246172291838693,
          0.13354189510213973,
          0.14460833172989765,
          0.15565989455467208,
          0.16669544685933085,
          0.17771385357351657,
          0.18871398139039483,
          0.19969469888322144,
          0.21065487662171636,
          0.22159338728823202,
          0.2325091057937045,
          0.2434009093933753,
          0.2542676778022724,
          0.2651082933104377,
          0.2759216408978904,
          0.2867066083493128,
          0.2974620863684483,
          0.308186968692199,
          0.31888015220441107,
          0.32954053704933667,
          0.34016702674476074,
          0.35075852829478016,
          0.3613139523022248,
          0.3718322130807084,
          0.38231222876629767,
          0.3927529214287885,
          0.40315321718257646,
          0.4135120462971134,
          0.42382834330693425,
          0.43410104712124714,
          0.44432910113307234,
          0.4545114533279202,
          0.4646470563919975,
          0.4747348678199291,
          0.4847738500219863,
          0.4947629704308084,
          0.5047012016076083,
          0.5145875213478509,
          0.5244209127863921,
          0.5342003645020702,
          0.5439248706217352,
          0.5535934309237098,
          0.5632050509406675,
          0.5727587420619189,
          0.5822535216350969,
          0.5916884130672275,
          0.6010624459251782,
          0.6103746560354731,
          0.6196240855834627,
          0.6288097832118417,
          0.6379308041185013,
          0.6469862101537072,
          0.6559750699165942,
          0.6648964588509656,
          0.67374945934039,
          0.6825331608025826,
          0.6912466597830643,
          0.6998890600480874,
          0.7084594726768173,
          0.7169570161527651,
          0.725380816454455,
          0.7337300071453227,
          0.7420037294628344,
          0.7502011324068145,
          0.7583213728269762,
          0.7663636155096446,
          0.7743270332636626,
          0.7822108070054731,
          0.7900141258433663,
          0.7977361871608839,
          0.805376196699374,
          0.8129333686396837,
          0.820406925682987,
          0.8277960991307328,
          0.8351001289637108,
          0.8423182639202242,
          0.8494497615733599,
          0.8564938884073533,
          0.8634499198930332,
          0.8703171405623445,
          0.8770948440819379
         ]
        },
        {
         "line": {
          "color": "rgba(215,48,39, 0.75)",
          "shape": "spline",
          "width": 0.25
         },
         "mode": "lines",
         "type": "scatter",
         "uid": "65142459-e87b-4d64-a334-3152fdc841da",
         "x": [
          0.6359780961811974,
          0.6268565905118667,
          0.6176707984939181,
          0.6084216621626383,
          0.5991101300494962,
          0.5897371570848677,
          0.5803037045001042,
          0.5708107397289547,
          0.5612592363083525,
          0.5516501737785753,
          0.5419845375827897,
          0.5322633189659913,
          0.522487514873348,
          0.5126581278479603,
          0.5027761659280474,
          0.49284264254356847,
          0.4828585764122924,
          0.4728249914353246,
          0.46274291659210226,
          0.4526133858348687,
          0.442437437982639,
          0.4322161166146637,
          0.4219504699634074,
          0.41164155080704845,
          0.40129041636151275,
          0.39089812817205255,
          0.38046575200438154,
          0.36999435773537637,
          0.35948501924335746,
          0.3489388142979586,
          0.3383568244495981,
          0.32774013491856213,
          0.31708983448371114,
          0.3064070153708222,
          0.2956927731405772,
          0.284948206576209,
          0.27417441757081806,
          0.2633725110143686,
          0.2525435946803787,
          0.24168877911231423,
          0.2308091775096986,
          0.21990590561395018,
          0.2089800815939593,
          0.19803282593141586,
          0.18706526130590018,
          0.1760785124797481,
          0.16507370618270276,
          0.1540519709963645,
          0.14301443723845075,
          0.13196223684687813,
          0.12089650326367801,
          0.10981837131875825,
          0.09872897711352233,
          0.0876294579043581,
          0.07652095198600822,
          0.06540459857483398,
          0.05428153769198464,
          0.04315291004648432,
          0.0320198569182482,
          0.020883520041040306,
          0.00974504148538466,
          -0.0013944364585580429,
          -0.01253377139813634,
          -0.02367182095536436,
          -0.034807442884076716,
          -0.04593949518706986,
          -0.05706683623321794,
          -0.06818832487455104,
          -0.07930282056328396,
          -0.09040918346878339,
          -0.10150627459446153,
          -0.11259295589458428,
          -0.1236680903909817,
          -0.13473054228964923,
          -0.1457791770972273,
          -0.15681286173734796,
          -0.16783046466683466,
          -0.1788308559917477,
          -0.18981290758325767,
          -0.2007754931933394,
          -0.21171748857027256,
          -0.22263777157393763,
          -0.2335352222908954
         ],
         "y": [
          0.8975142679521813,
          0.9039086319600218,
          0.9102102969577337,
          0.9164186166874027,
          0.9225329544639996,
          0.9285526832406755,
          0.9344771856730671,
          0.9403058541826078,
          0.946038091018837,
          0.9516733083207009,
          0.9572109281768412,
          0.9626503826848601,
          0.9679911140095623,
          0.9732325744401615,
          0.9783742264464517,
          0.9834155427339313,
          0.9883560062978798,
          0.9931951104763784,
          0.9979323590022697,
          1.002567266054052,
          1.0070993563057016,
          1.0115281649754195,
          1.0158532378732963,
          1.0200741314478905,
          1.0241904128317176,
          1.02820165988564,
          1.032107461242162,
          1.0359074163476127,
          1.0396011355032289,
          1.0431882399051167,
          1.0466683616830996,
          1.0500411439384472,
          1.0533062407804736,
          1.0564633173620108,
          1.0595120499137494,
          1.0624521257774404,
          1.0652832434379613,
          1.068005112554236,
          1.0706174539890114,
          1.0731199998374827,
          1.07551249345477,
          1.0777946894822357,
          1.0799663538726483,
          1.0820272639141852,
          1.083977208253271,
          1.0858159869162542,
          1.087543411329914,
          1.0891593043408,
          1.090663500233399,
          1.0920558447471305,
          1.0933361950921663,
          1.0945044199640748,
          1.095560399557285,
          1.0965040255773748,
          1.0973352012521767,
          1.0980538413417007,
          1.0986598721468779,
          1.0991532315171166,
          1.0995338688566783,
          1.0998017451298645,
          1.099956832865021,
          1.0999991161573555,
          1.099928590670567,
          1.0997452636372922,
          1.0994491538583637,
          1.0990402917008808,
          1.0985187190950965,
          1.0978844895301156,
          1.0971376680484122,
          1.0962783312391557,
          1.0953065672303595,
          1.094222475679841,
          1.0930261677650028,
          1.0917177661714301,
          1.0902974050803091,
          1.0887652301546664,
          1.0871213985244308,
          1.0853660787703194,
          1.0834994509065474,
          1.0815217063623697,
          1.079433047962446,
          1.0772336899060442,
          1.0749238577450695
         ]
        },
        {
         "line": {
          "color": "rgba(244,109,67, 0.75)",
          "shape": "spline",
          "width": 0.25
         },
         "mode": "lines",
         "type": "scatter",
         "uid": "fc6d23e7-fba3-40fc-95d3-5989e85a77a9",
         "x": [
          -0.267184161079182,
          -0.2782106279365394,
          -0.2892073090789392,
          -0.3001730271825234,
          -0.3111066082383899,
          -0.3220068816782859,
          -0.33287268049992896,
          -0.3437028413919505,
          -0.3544962048584398,
          -0.3652516153430837,
          -0.3759679213528805,
          -0.38664397558142266,
          -0.3972786350317275,
          -0.40787076113861076,
          -0.41841921989058095,
          -0.42892288195125006,
          -0.43938062278024226,
          -0.44979132275358896,
          -0.46015386728359714,
          -0.4704671469381795,
          -0.4807300575596325,
          -0.49094150038284956,
          -0.5011003821529549,
          -0.5112056152423522,
          -0.5212561177671657,
          -0.53125081370307,
          -0.5411886330004892,
          -0.5510685116991606,
          -0.560889392042043,
          -0.5706502225885609,
          -0.580349958327176,
          -0.589987560787266,
          -0.5995619981503062,
          -0.6090722453603373,
          -0.6185172842337087,
          -0.6278961035680893,
          -0.6372076992507271,
          -0.6464510743659505,
          -0.6556252393019019,
          -0.6647292118564857,
          -0.6737620173425255,
          -0.6827226886921144,
          -0.6916102665601528,
          -0.7004237994270565,
          -0.7091623437006284,
          -0.7178249638170798,
          -0.7264107323411965,
          -0.7349187300656282,
          -0.7433480461093036,
          -0.7516977780149473,
          -0.7599670318457024,
          -0.7681549222808342,
          -0.7762605727105145,
          -0.7842831153296744
         ],
         "y": [
          1.0670579291062008,
          1.064236273814775,
          1.0613006795321103,
          1.0582514605480497,
          1.0550889433172945,
          1.0518134664244543,
          1.0484253805477968,
          1.0449250484217039,
          1.0413128447978366,
          1.037589156405014,
          1.033754381907808,
          1.029808931863864,
          1.0257532286799431,
          1.0215877065667003,
          1.0173128114921968,
          1.0129290011341536,
          1.008436744830952,
          1.003836523531385,
          0.9991288297431666,
          0.9943141674802032,
          0.9893930522086319,
          0.9843660107916347,
          0.9792335814330321,
          0.9739963136196607,
          0.9686547680625449,
          0.9632095166368665,
          0.9576611423207386,
          0.9520102391327901,
          0.9462574120685701,
          0.9404032770357759,
          0.934448460788312,
          0.9283936008591895,
          0.922239345492271,
          0.915986353572867,
          0.9096352945571966,
          0.9031868484007124,
          0.8966417054853043,
          0.8900005665453863,
          0.8832641425928737,
          0.8764331548410612,
          0.8695083346274092,
          0.8624904233352452,
          0.8553801723143895,
          0.8481783428007148,
          0.8408857058346468,
          0.8335030421786163,
          0.8260311422334675,
          0.8184708059538375,
          0.8108228427625118,
          0.803088071463766,
          0.795267320155703,
          0.7873614261415947,
          0.7793712358402408,
          0.7712976046953477
         ]
        },
        {
         "line": {
          "color": "rgba(253,174,97, 0.75)",
          "shape": "spline",
          "width": 0.25
         },
         "mode": "lines",
         "type": "scatter",
         "uid": "0307ff39-ff34-4fa0-b8ed-e456a8cc0791",
         "x": [
          -0.8081231621947061,
          -0.8158637657475476,
          -0.8235155938888088,
          -0.8310778140111105,
          -0.8385496032574608,
          -0.8459301486107926,
          -0.8532186469824303,
          -0.8604143052994739,
          -0.867516340591095,
          -0.8745239800737322,
          -0.8814364612351804,
          -0.8882530319175601,
          -0.8949729503991608,
          -0.9015954854751488,
          -0.9081199165371309,
          -0.914545533651566,
          -0.920871637637012,
          -0.9270975401402058,
          -0.9332225637109656,
          -0.9392460418759025,
          -0.9451673192109425,
          -0.9509857514126435,
          -0.9567007053683034,
          -0.9623115592248493,
          -0.9678177024565033,
          -0.9732185359312139,
          -0.978513471975849,
          -0.9837019344401414,
          -0.9887833587593804,
          -0.9937571920158439,
          -0.9986228929989605,
          -1.003379932264201,
          -1.0080277921906873,
          -1.0125659670375164,
          -1.0169939629987899,
          -1.0213112982573456,
          -1.0255175030371861,
          -1.029612119654595
         ],
         "y": [
          0.7462820879027104,
          0.7378118430468781,
          0.7292613157311738,
          0.7206314363518388,
          0.7119231439395376,
          0.703137386057179,
          0.6942751186968111,
          0.6853373061755968,
          0.6763249210308869,
          0.667238943914396,
          0.658080363485496,
          0.648850176303638,
          0.6395493867199167,
          0.6301790067677842,
          0.6207400560529299,
          0.6112335616423338,
          0.6016605579525119,
          0.5920220866369595,
          0.5823191964728047,
          0.5725529432466927,
          0.562724389639902,
          0.5528346051127137,
          0.5428846657880392,
          0.532875654334329,
          0.5228086598477643,
          0.5126847777337502,
          0.5025051095877231,
          0.49227076307528544,
          0.4819828518116785,
          0.47164249524060636,
          0.4612508185124304,
          0.45080895236173796,
          0.44031803298430644,
          0.42977920191347024,
          0.4191936058959111,
          0.4085623967668775,
          0.39788673132485225,
          0.38716777120567775
         ]
        },
        {
         "line": {
          "color": "rgba(254,224,139, 0.75)",
          "shape": "spline",
          "width": 0.25
         },
         "mode": "lines",
         "type": "scatter",
         "uid": "2a7ef39c-2053-4f50-92e8-52d4a296e3a9",
         "x": [
          -1.0412653018109916,
          -1.0604431259197045,
          -1.075897086417086,
          -1.0875729150074205,
          -1.0954296107240773,
          -1.0994395839089508,
          -1.0995887530966038,
          -1.095876594462895,
          -1.0883161436644457,
          -1.0769339500624855,
          -1.061769983491827,
          -1.04287749390236,
          -1.0203228243659475,
          -0.9941851781053739,
          -0.9645563403634461,
          -0.9315403560889371,
          -0.8952531645712135,
          -0.8558221923065641,
          -0.8133859055259326,
          -0.7680933239553934,
          -0.7201034975168625,
          -0.6695849478066621,
          -0.61671507631325,
          -0.561679541452223,
          -0.5046716066062102,
          -0.4458914614590719,
          -0.3855455190076314,
          -0.3238456907195515,
          -0.2610086423827188,
          -0.1972550332593112,
          -0.13280874121632763,
          -0.06789607655363919,
          -0.0027449872902821026,
          0.06241574130029019,
          0.12735729009505797,
          0.19185160964515177,
          0.25567222099678727,
          0.3185950109972084,
          0.3803990192928821,
          0.44086721425627423,
          0.49978725511647015,
          0.5569522376173398
         ],
         "y": [
          0.35463582904786217,
          0.29233606806147944,
          0.22900973655988008,
          0.16487921197732056,
          0.10016969576122647,
          0.03510842255233715,
          -0.030076137774925443,
          -0.09515508240975588,
          -0.1598998794225608,
          -0.22408317028017136,
          -0.28747956824053683,
          -0.34986644982326237,
          -0.41102473657663957,
          -0.47073966439592324,
          -0.5288015376912932,
          -0.5850064657571712,
          -0.639157078757036,
          -0.6910632208094906,
          -0.7405426177417197,
          -0.7874215171654604,
          -0.8315352986277746,
          -0.8727290516940236,
          -0.9108581199330347,
          -0.9457886088941971,
          -0.9773978562926701,
          -1.005574862751597,
          -1.0302206815887247,
          -1.0512487662786467,
          -1.0685852743705249,
          -1.082169326794041,
          -1.0919532216430037,
          -1.0979026016858793,
          -1.099996575015021,
          -1.0982277884109177,
          -1.092602453163841,
          -1.0831403232622099,
          -1.0698746260242693,
          -1.0528519454166805,
          -1.032132058469755,
          -1.0077877253637855,
          -0.979904433923607,
          -0.9485800994186196
         ]
        },
        {
         "line": {
          "color": "rgba(217,239,139, 0.75)",
          "shape": "spline",
          "width": 0.25
         },
         "mode": "lines",
         "type": "scatter",
         "uid": "1e072577-d8bf-4154-a9ad-bbb2381c66b0",
         "x": [
          0.58647303627805,
          0.5935050719636233,
          0.6005030569767009,
          0.6074665898277147,
          0.6143952710036896,
          0.6212887029911669,
          0.6281464902990124,
          0.6349682394811021,
          0.6417535591588974,
          0.6485020600439017,
          0.6552133549599892,
          0.6618870588656244,
          0.6685227888759471,
          0.6751201642847418,
          0.6816788065862819,
          0.6881983394970411,
          0.6946783889772834,
          0.701118583252525
         ],
         "y": [
          -0.9306177398474657,
          -0.9261488700816162,
          -0.9216268651475158,
          -0.9170519844823887,
          -0.9124244905570559,
          -0.9077446488608752,
          -0.9030127278865081,
          -0.8982289991145186,
          -0.8933937369977965,
          -0.8885072189458091,
          -0.8835697253086908,
          -0.8785815393611532,
          -0.8735429472862374,
          -0.8684542381588931,
          -0.8633157039293926,
          -0.8581276394065835,
          -0.8528903422409745,
          -0.8476041129076548
         ]
        },
        {
         "line": {
          "color": "rgba(166,217,106, 0.75)",
          "shape": "spline",
          "width": 0.25
         },
         "mode": "lines",
         "type": "scatter",
         "uid": "fb7216da-96ca-46cb-ab17-230b7499eae0",
         "x": [
          0.7273965121393989,
          0.7358595570030482,
          0.7442444870331771,
          0.7525504121313851,
          0.7607764505860073,
          0.7689217291657057,
          0.7769853832121721,
          0.784966556731913,
          0.7928644024871154,
          0.8006780820855893,
          0.8084067660697621,
          0.8160496340047337,
          0.8236058745653669,
          0.831074685622412,
          0.83845527432766,
          0.8457468571981052,
          0.8529486601991133,
          0.8600599188265937,
          0.8670798781881495,
          0.8740077930832175,
          0.8808429280821723,
          0.8875845576043944,
          0.894231965995297,
          0.9007844476022925,
          0.907241306849704,
          0.9136018583126024,
          0.9198654267895654,
          0.9260313473743572,
          0.9320989655265075,
          0.9380676371407964,
          0.943936728615629,
          0.9497056169202928,
          0.9553736896610983,
          0.9609403451463846,
          0.966404992450394,
          0.9717670514760008,
          0.9770259530162893,
          0.9821811388149806,
          0.987232061625693,
          0.992178185270033,
          0.9970189846945161,
          1.0017539460263005,
          1.0063825666277397,
          1.0109043551497388,
          1.0153188315839117,
          1.0196255273135395,
          1.023823985163313
         ],
         "y": [
          -0.8251632045404337,
          -0.8176250438723595,
          -0.8100000885930343,
          -0.8022891481260872,
          -0.794493041022863,
          -0.7866125948755343,
          -0.778648646229244,
          -0.7706020404933046,
          -0.762473631851456,
          -0.7542642831711857,
          -0.7459748659121359,
          -0.7376062600335902,
          -0.7291593539010641,
          -0.7206350441920024,
          -0.7120342358005889,
          -0.7033578417416899,
          -0.6946067830539361,
          -0.6857819887019441,
          -0.6768843954777093,
          -0.6679149479011558,
          -0.6588745981198738,
          -0.6497643058080459,
          -0.6405850380645697,
          -0.6313377693104009,
          -0.6220234811851088,
          -0.6126431624426731,
          -0.6031978088465265,
          -0.593688423063843,
          -0.5841160145591069,
          -0.574481599486949,
          -0.5647862005842781,
          -0.5550308470617165,
          -0.5452165744943376,
          -0.5353444247117434,
          -0.5254154456874617,
          -0.5154306914277028,
          -0.5053912218594738,
          -0.49529810271805796,
          -0.4851524054338842,
          -0.47495520701879274,
          -0.46470758995169903,
          -0.4544106420636912,
          -0.4440654564225451,
          -0.43367313121669315,
          -0.42323476963864964,
          -0.4127514797678948,
          -0.40222437445325504
         ]
        },
        {
         "line": {
          "color": "rgba(102,189,99, 0.75)",
          "shape": "spline",
          "width": 0.25
         },
         "mode": "lines",
         "type": "scatter",
         "uid": "ee575297-1222-470a-944c-13b5e6003ec4",
         "x": [
          1.035952962751821,
          1.039737599922788,
          1.04341013421131,
          1.0469701696504825,
          1.05041732240285,
          1.0537512208017916,
          1.0569715053915951,
          1.0600778289662107,
          1.0630698566066867,
          1.065947265717281,
          1.0687097460602426,
          1.071356999789259,
          1.0738887414815723,
          1.0763046981687518,
          1.0786046093661243,
          1.0807882271008606,
          1.0828553159387106,
          1.084805653009387,
          1.0866390280305969,
          1.0883552433307113,
          1.08995411387008,
          1.0914354672609812,
          1.0927991437862081,
          1.0940449964162902,
          1.0951728908253444,
          1.096182705405559,
          1.0970743312803048,
          1.0978476723158743,
          1.0985026451318456,
          1.099039179110074,
          1.0994572164023046
         ],
         "y": [
          -0.3698668124686571,
          -0.35909013256674244,
          -0.3482747361281552,
          -0.3374217892520282,
          -0.32653246208612646,
          -0.3156079287006811,
          -0.3046493669617999,
          -0.29365795840447717,
          -0.2826348881052001,
          -0.2715813445541725,
          -0.2604985195271791,
          -0.24938760795708798,
          -0.23824980780501126,
          -0.22708631993114897,
          -0.21589834796531096,
          -0.2046870981771409,
          -0.19345377934606367,
          -0.18219960263095378,
          -0.17092578143954743,
          -0.1596335312976204,
          -0.14832406971792902,
          -0.13699861606893712,
          -0.1256583914433513,
          -0.11430461852646179,
          -0.10293852146431144,
          -0.09156132573171617,
          -0.08017425800013311,
          -0.06877854600540007,
          -0.05737541841536859,
          -0.0459661046974282,
          -0.03455183498594412
         ]
        },
        {
         "marker": {
          "color": "rgba(26,152,80, 0.75)",
          "size": 0.5
         },
         "mode": "markers",
         "type": "scatter",
         "uid": "5eea0956-3fd5-4d88-bd00-37199d8be854",
         "x": [
          0.6548287158565043
         ],
         "y": [
          0.6174134375681516
         ]
        },
        {
         "marker": {
          "color": "rgba(26,152,80, 0.75)",
          "size": 0.5
         },
         "mode": "markers",
         "text": "186 V",
         "type": "scatter",
         "uid": "12852a57-3d82-443e-ad6d-06fd9545bef8",
         "x": [
          0.8992669535622123
         ],
         "y": [
          0.03631729933431159
         ]
        },
        {
         "marker": {
          "color": "rgba(26,152,80, 0.75)",
          "size": 0.5
         },
         "mode": "markers",
         "text": "138 S",
         "type": "scatter",
         "uid": "8d4c8d6d-a706-4d82-85e8-723317137813",
         "x": [
          -0.30762714382116246
         ],
         "y": [
          0.8457928472057645
         ]
        },
        {
         "marker": {
          "color": "rgba(26,152,80, 0.75)",
          "size": 0.5
         },
         "mode": "markers",
         "text": "186 V",
         "type": "scatter",
         "uid": "2ce54498-5801-45b8-9994-b4bca7cfb5bd",
         "x": [
          0.8954710442143288
         ],
         "y": [
          0.09017543442479067
         ]
        },
        {
         "marker": {
          "color": "rgba(26,152,80, 0.75)",
          "size": 0.5
         },
         "mode": "markers",
         "text": "156 R/Q",
         "type": "scatter",
         "uid": "8add8698-916c-4b5b-a6d5-cba09de19904",
         "x": [
          -0.7234156149845558
         ],
         "y": [
          0.5354155843795706
         ]
        },
        {
         "marker": {
          "color": "rgba(26,152,80, 0.75)",
          "size": 0.5
         },
         "mode": "markers",
         "text": "186 V",
         "type": "scatter",
         "uid": "1e4505cb-00ad-46db-a389-223dfb44067f",
         "x": [
          0.8189541702582397
         ],
         "y": [
          0.3732479966679503
         ]
        },
        {
         "marker": {
          "color": "rgba(26,152,80, 0.75)",
          "size": 0.5
         },
         "mode": "markers",
         "text": "160 K",
         "type": "scatter",
         "uid": "0f16f72c-1c8d-44a7-b748-5d36376763f1",
         "x": [
          -0.8200970645981159
         ],
         "y": [
          -0.370730096751739
         ]
        },
        {
         "marker": {
          "color": "rgba(26,152,80, 0.75)",
          "size": 0.5
         },
         "mode": "markers",
         "text": "186 V",
         "type": "scatter",
         "uid": "21e535f5-0120-414b-ac32-aac10c5af5cc",
         "x": [
          0.8817334773463945
         ],
         "y": [
          0.18040530736825644
         ]
        },
        {
         "marker": {
          "color": "rgba(26,152,80, 0.75)",
          "size": 0.5
         },
         "mode": "markers",
         "text": "219 F/Y",
         "type": "scatter",
         "uid": "f6c72cc2-e37b-4be9-bb45-c549a05ea428",
         "x": [
          0.6764597785318608
         ],
         "y": [
          -0.5936347092519321
         ]
        },
        {
         "marker": {
          "color": "rgba(26,152,80, 0.75)",
          "size": 0.5
         },
         "mode": "markers",
         "text": "186 V",
         "type": "scatter",
         "uid": "67d09a79-77c4-44ad-b63f-3c49a58fbf39",
         "x": [
          0.8999657260450941
         ],
         "y": [
          0.007854421947337265
         ]
        },
        {
         "marker": {
          "color": "rgba(26,152,80, 0.75)",
          "size": 0.5
         },
         "mode": "markers",
         "text": "225 G",
         "type": "scatter",
         "uid": "92b712bd-bf37-4b98-8832-026131e12bfe",
         "x": [
          0.8542039698229207
         ],
         "y": [
          -0.28343531526392907
         ]
        },
        {
         "marker": {
          "color": "rgba(215,48,39, 0.75)",
          "size": 0.5
         },
         "mode": "markers",
         "type": "scatter",
         "uid": "725c8b62-5cfc-4359-b30c-e52f55c72b80",
         "x": [
          -0.025259259357126074
         ],
         "y": [
          0.8996454689580388
         ]
        },
        {
         "marker": {
          "color": "rgba(215,48,39, 0.75)",
          "size": 0.5
         },
         "mode": "markers",
         "text": "194 P",
         "type": "scatter",
         "uid": "832093ac-bba7-4286-beb2-67be9ee09fce",
         "x": [
          0.5042608723151056
         ],
         "y": [
          0.7454669494028617
         ]
        },
        {
         "marker": {
          "color": "rgba(215,48,39, 0.75)",
          "size": 0.5
         },
         "mode": "markers",
         "text": "138 S",
         "type": "scatter",
         "uid": "0a0c8291-fd65-4ad9-b827-a95263d0c0a9",
         "x": [
          -0.2758362599533811
         ],
         "y": [
          0.8566880165468237
         ]
        },
        {
         "marker": {
          "color": "rgba(215,48,39, 0.75)",
          "size": 0.5
         },
         "mode": "markers",
         "text": "194 P",
         "type": "scatter",
         "uid": "71df25fd-830e-4152-9d3c-6db0b5005c10",
         "x": [
          0.29031035968199964
         ],
         "y": [
          0.851891950344237
         ]
        },
        {
         "marker": {
          "color": "rgba(215,48,39, 0.75)",
          "size": 0.5
         },
         "mode": "markers",
         "text": "160 K",
         "type": "scatter",
         "uid": "459d7f58-7d6c-498a-a7b8-967206c82ab6",
         "x": [
          -0.6497277798214236
         ],
         "y": [
          -0.6227791037987096
         ]
        },
        {
         "marker": {
          "color": "rgba(215,48,39, 0.75)",
          "size": 0.5
         },
         "mode": "markers",
         "text": "194 P",
         "type": "scatter",
         "uid": "43939f20-31f7-4e43-8856-0ac88ee16cf6",
         "x": [
          0.4503796187193883
         ],
         "y": [
          0.7792035671390234
         ]
        },
        {
         "marker": {
          "color": "rgba(215,48,39, 0.75)",
          "size": 0.5
         },
         "mode": "markers",
         "text": "203 I",
         "type": "scatter",
         "uid": "95a17bf9-5b04-4b6a-995d-90635f26e186",
         "x": [
          0.5291568134553353
         ],
         "y": [
          -0.7280062271531719
         ]
        },
        {
         "marker": {
          "color": "rgba(215,48,39, 0.75)",
          "size": 0.5
         },
         "mode": "markers",
         "text": "194 P",
         "type": "scatter",
         "uid": "966f76cc-0dfd-43c5-82e7-9e096fb2f565",
         "x": [
          0.5179484792992876
         ],
         "y": [
          0.7360226713842145
         ]
        },
        {
         "marker": {
          "color": "rgba(215,48,39, 0.75)",
          "size": 0.5
         },
         "mode": "markers",
         "text": "219 F/Y",
         "type": "scatter",
         "uid": "67701f91-3b5b-4220-ad2d-bb27434658a3",
         "x": [
          0.5987054297908833
         ],
         "y": [
          -0.6719760474443369
         ]
        },
        {
         "marker": {
          "color": "rgba(215,48,39, 0.75)",
          "size": 0.5
         },
         "mode": "markers",
         "text": "194 P",
         "type": "scatter",
         "uid": "a2b167ba-f23d-40e5-9c8c-7f2db3da3b06",
         "x": [
          0.4813435007858166
         ],
         "y": [
          0.7604659323409922
         ]
        },
        {
         "marker": {
          "color": "rgba(215,48,39, 0.75)",
          "size": 0.5
         },
         "mode": "markers",
         "text": "225 G",
         "type": "scatter",
         "uid": "7f5c03a2-2758-491c-a8c3-f3aaf373a075",
         "x": [
          0.8661107425982616
         ],
         "y": [
          -0.2446470550729926
         ]
        },
        {
         "marker": {
          "color": "rgba(244,109,67, 0.75)",
          "size": 0.5
         },
         "mode": "markers",
         "type": "scatter",
         "uid": "3725c4f1-48fb-4923-8f97-ddb6f48747f0",
         "x": [
          -0.5782269328915303
         ],
         "y": [
          0.6896764560856444
         ]
        },
        {
         "marker": {
          "color": "rgba(175,175,175,0.5)",
          "size": 0.5
         },
         "mode": "markers",
         "text": "138 S",
         "type": "scatter",
         "uid": "d72995ef-e309-4b3e-869c-c9160cbb3723",
         "x": [
          -0.2519687296277089
         ],
         "y": [
          0.8640091199112417
         ]
        },
        {
         "marker": {
          "color": "rgba(175,175,175,0.5)",
          "size": 0.5
         },
         "mode": "markers",
         "text": "156 R/Q",
         "type": "scatter",
         "uid": "2a3880c4-8d7c-4ff8-ab6c-fbc81415bf0b",
         "x": [
          -0.6824269858623472
         ],
         "y": [
          0.5867652076996658
         ]
        },
        {
         "marker": {
          "color": "rgba(175,175,175,0.5)",
          "size": 0.5
         },
         "mode": "markers",
         "text": "138 S",
         "type": "scatter",
         "uid": "1b233f5f-bf28-4fd5-b41a-d2a982777eb4",
         "x": [
          -0.44099139941064486
         ],
         "y": [
          0.7845550239759103
         ]
        },
        {
         "marker": {
          "color": "rgba(175,175,175,0.5)",
          "size": 0.5
         },
         "mode": "markers",
         "text": "160 K",
         "type": "scatter",
         "uid": "f59472e1-ae96-4889-b080-81f341484276",
         "x": [
          -0.8875988483748215
         ],
         "y": [
          -0.14889017551098085
         ]
        },
        {
         "marker": {
          "color": "rgba(175,175,175,0.5)",
          "size": 0.5
         },
         "mode": "markers",
         "text": "138 S",
         "type": "scatter",
         "uid": "a07ef487-123b-4a9e-a1b0-df697127a863",
         "x": [
          -0.22139851324795498
         ],
         "y": [
          0.8723432227808015
         ]
        },
        {
         "marker": {
          "color": "rgba(175,175,175,0.5)",
          "size": 0.5
         },
         "mode": "markers",
         "text": "203 I",
         "type": "scatter",
         "uid": "d5f14666-5420-488f-8990-1c1aa9559d37",
         "x": [
          0.48466503871653127
         ],
         "y": [
          -0.7583533478833618
         ]
        },
        {
         "marker": {
          "color": "rgba(175,175,175,0.5)",
          "size": 0.5
         },
         "mode": "markers",
         "text": "138 S",
         "type": "scatter",
         "uid": "16b67945-7a95-410f-9f89-3a4b628cefe9",
         "x": [
          -0.23254870765968355
         ],
         "y": [
          0.8694372309521896
         ]
        },
        {
         "marker": {
          "color": "rgba(175,175,175,0.5)",
          "size": 0.5
         },
         "mode": "markers",
         "text": "219 F/Y",
         "type": "scatter",
         "uid": "395f27cf-cf33-4143-b6a3-e41585e2c87f",
         "x": [
          0.6155720840004228
         ],
         "y": [
          -0.6565599815701353
         ]
        },
        {
         "marker": {
          "color": "rgba(175,175,175,0.5)",
          "size": 0.5
         },
         "mode": "markers",
         "text": "138 S",
         "type": "scatter",
         "uid": "e5ef781c-67b2-4a3a-8412-4f0928c2bc94",
         "x": [
          -0.3478647557351847
         ],
         "y": [
          0.8300542823920013
         ]
        },
        {
         "marker": {
          "color": "rgba(175,175,175,0.5)",
          "size": 0.5
         },
         "mode": "markers",
         "text": "225 G",
         "type": "scatter",
         "uid": "adcf56c7-73eb-48f7-bbb3-a11d97016410",
         "x": [
          0.8749780160775099
         ],
         "y": [
          -0.21074503880534148
         ]
        },
        {
         "marker": {
          "color": "rgba(253,174,97, 0.75)",
          "size": 0.5
         },
         "mode": "markers",
         "type": "scatter",
         "uid": "050f780e-a7fd-4992-9a2e-d3a8e7ee97fb",
         "x": [
          -0.8213315234441815
         ],
         "y": [
          0.36798713102071945
         ]
        },
        {
         "marker": {
          "color": "rgba(175,175,175,0.5)",
          "size": 0.5
         },
         "mode": "markers",
         "text": "156 R/Q",
         "type": "scatter",
         "uid": "17b4e3be-77d2-4f75-867f-cb634db568a5",
         "x": [
          -0.7709068605089388
         ],
         "y": [
          0.46443795325129467
         ]
        },
        {
         "marker": {
          "color": "rgba(175,175,175,0.5)",
          "size": 0.5
         },
         "mode": "markers",
         "text": "160 K",
         "type": "scatter",
         "uid": "39a08ef0-8bdb-44a9-ab72-ad36f5efa91a",
         "x": [
          -0.8917384090765067
         ],
         "y": [
          0.12166597625343281
         ]
        },
        {
         "marker": {
          "color": "rgba(175,175,175,0.5)",
          "size": 0.5
         },
         "mode": "markers",
         "text": "156 R/Q",
         "type": "scatter",
         "uid": "0c8087da-65cc-44c4-9537-75210037ad08",
         "x": [
          -0.69690137668287
         ],
         "y": [
          0.5694984382573147
         ]
        },
        {
         "marker": {
          "color": "rgba(175,175,175,0.5)",
          "size": 0.5
         },
         "mode": "markers",
         "text": "219 F/Y",
         "type": "scatter",
         "uid": "0dffd7c6-0f94-4923-b942-b71335029e52",
         "x": [
          0.6300052654667664
         ],
         "y": [
          -0.6427233973367933
         ]
        },
        {
         "marker": {
          "color": "rgba(175,175,175,0.5)",
          "size": 0.5
         },
         "mode": "markers",
         "text": "156 R/Q",
         "type": "scatter",
         "uid": "cd79bb86-d261-4f6f-8e1a-97b5a86aa145",
         "x": [
          -0.6681542377657295
         ],
         "y": [
          0.6029675899712166
         ]
        },
        {
         "marker": {
          "color": "rgba(175,175,175,0.5)",
          "size": 0.5
         },
         "mode": "markers",
         "text": "225 G",
         "type": "scatter",
         "uid": "a3a2264c-a8a7-4783-9cc0-26e1b00d08e2",
         "x": [
          0.8595600117786507
         ],
         "y": [
          -0.2667519187392769
         ]
        },
        {
         "marker": {
          "color": "rgba(254,224,139, 0.75)",
          "size": 0.5
         },
         "mode": "markers",
         "type": "scatter",
         "uid": "dd133b09-424b-4979-9fdf-f99c0584d389",
         "x": [
          -0.04534910695776427
         ],
         "y": [
          -0.8988567508219167
         ]
        },
        {
         "marker": {
          "color": "rgba(175,175,175,0.5)",
          "size": 0.5
         },
         "mode": "markers",
         "text": "160 K",
         "type": "scatter",
         "uid": "a6b73f7e-9bad-4864-8cf6-ea3b3f17c4c8",
         "x": [
          -0.8581951112003559
         ],
         "y": [
          0.2711109571961431
         ]
        },
        {
         "marker": {
          "color": "rgba(175,175,175,0.5)",
          "size": 0.5
         },
         "mode": "markers",
         "text": "203 I",
         "type": "scatter",
         "uid": "d2f28f76-6128-435d-9058-061cf289e3b4",
         "x": [
          0.5003750309148364
         ],
         "y": [
          -0.7480807633116738
         ]
        },
        {
         "marker": {
          "color": "rgba(175,175,175,0.5)",
          "size": 0.5
         },
         "mode": "markers",
         "text": "160 K",
         "type": "scatter",
         "uid": "d0d6fe8d-454c-43b3-afaa-4082a1c9ab8d",
         "x": [
          -0.8999999684415039
         ],
         "y": [
          -0.00023833860789956027
         ]
        },
        {
         "marker": {
          "color": "rgba(175,175,175,0.5)",
          "size": 0.5
         },
         "mode": "markers",
         "text": "219 F/Y",
         "type": "scatter",
         "uid": "8bd11c26-8221-42e5-a399-da18f9d567fd",
         "x": [
          0.7482984143089219
         ],
         "y": [
          -0.500049480694414
         ]
        },
        {
         "marker": {
          "color": "rgba(175,175,175,0.5)",
          "size": 0.5
         },
         "mode": "markers",
         "text": "160 K",
         "type": "scatter",
         "uid": "2f1e5f41-609e-495d-8474-170b2b8326fd",
         "x": [
          -0.8739047531493904
         ],
         "y": [
          0.21515223081089102
         ]
        },
        {
         "marker": {
          "color": "rgba(175,175,175,0.5)",
          "size": 0.5
         },
         "mode": "markers",
         "text": "225 G",
         "type": "scatter",
         "uid": "b4a256d2-6853-40f3-91ac-92e486eb1f70",
         "x": [
          0.8865927086254445
         ],
         "y": [
          -0.15476875980700242
         ]
        },
        {
         "marker": {
          "color": "rgba(217,239,139, 0.75)",
          "size": 0.5
         },
         "mode": "markers",
         "type": "scatter",
         "uid": "8fe76850-895e-40d5-992e-091112d3b4d3",
         "x": [
          0.5590549472874129
         ],
         "y": [
          -0.7053067176154414
         ]
        },
        {
         "marker": {
          "color": "rgba(175,175,175,0.5)",
          "size": 0.5
         },
         "mode": "markers",
         "text": "203 I",
         "type": "scatter",
         "uid": "c16d4403-e31a-4579-a250-19c2406223b4",
         "x": [
          0.4805318296050379
         ],
         "y": [
          -0.76097908035401
         ]
        },
        {
         "marker": {
          "color": "rgba(175,175,175,0.5)",
          "size": 0.5
         },
         "mode": "markers",
         "text": "219 F/Y",
         "type": "scatter",
         "uid": "f7171b89-d875-440d-acad-552ce963223e",
         "x": [
          0.5958565019746989
         ],
         "y": [
          -0.6745035426552449
         ]
        },
        {
         "marker": {
          "color": "rgba(175,175,175,0.5)",
          "size": 0.5
         },
         "mode": "markers",
         "text": "203 I",
         "type": "scatter",
         "uid": "a866a298-031c-4bee-9eeb-a3db408a45f4",
         "x": [
          0.48191115256662337
         ],
         "y": [
          -0.7601063353451994
         ]
        },
        {
         "marker": {
          "color": "rgba(175,175,175,0.5)",
          "size": 0.5
         },
         "mode": "markers",
         "text": "225 G",
         "type": "scatter",
         "uid": "0ac46fd0-f1f8-4e33-b3a6-f6b2eb642067",
         "x": [
          0.8479075261143659
         ],
         "y": [
          -0.3017496100388795
         ]
        },
        {
         "marker": {
          "color": "rgba(166,217,106, 0.75)",
          "size": 0.5
         },
         "mode": "markers",
         "type": "scatter",
         "uid": "3a61810f-6ccf-445f-96ac-1979992029a3",
         "x": [
          0.8114422325653833
         ],
         "y": [
          -0.38930900735701773
         ]
        },
        {
         "marker": {
          "color": "rgba(175,175,175,0.5)",
          "size": 0.5
         },
         "mode": "markers",
         "text": "219 F/Y",
         "type": "scatter",
         "uid": "2cf78555-793e-40eb-bf23-932e463e7663",
         "x": [
          0.6050762413769442
         ],
         "y": [
          -0.6662452567344477
         ]
        },
        {
         "marker": {
          "color": "rgba(175,175,175,0.5)",
          "size": 0.5
         },
         "mode": "markers",
         "text": "225 G",
         "type": "scatter",
         "uid": "6f58bf70-36ef-4868-83be-ef986fdddf66",
         "x": [
          0.8500501118696179
         ],
         "y": [
          -0.29565995215864144
         ]
        },
        {
         "marker": {
          "color": "rgba(102,189,99, 0.75)",
          "size": 0.5
         },
         "mode": "markers",
         "type": "scatter",
         "uid": "09e63bcb-81da-46a3-9ab3-2b880c6abee5",
         "x": [
          0.8969277257430207
         ],
         "y": [
          -0.07430110896516019
         ]
        }
       ],
       "layout": {
        "annotations": [
         {
          "align": "left",
          "showarrow": false,
          "text": "186 V",
          "valign": "bottom",
          "x": 1.0771832769315495,
          "y": 0.528844200023985
         },
         {
          "align": "left",
          "showarrow": false,
          "text": "194 P",
          "valign": "bottom",
          "x": 0.23989735157885472,
          "y": 1.1757760248897113
         },
         {
          "align": "left",
          "showarrow": false,
          "text": "138 S",
          "valign": "bottom",
          "x": -0.5903875996368972,
          "y": 1.0447212461680784
         },
         {
          "align": "left",
          "showarrow": false,
          "text": "156 R/Q",
          "valign": "bottom",
          "x": -1.0180609785937806,
          "y": 0.6352573052430596
         },
         {
          "align": "left",
          "showarrow": false,
          "text": "160 K",
          "valign": "bottom",
          "x": -0.7855674518365772,
          "y": -0.9071294166848449
         },
         {
          "align": "left",
          "showarrow": false,
          "text": "203 I",
          "valign": "bottom",
          "x": 0.7000947918097061,
          "y": -0.9746113494521415
         },
         {
          "align": "left",
          "showarrow": false,
          "text": "219 F/Y",
          "valign": "bottom",
          "x": 0.9826739428388644,
          "y": -0.6887321119749826
         },
         {
          "align": "left",
          "showarrow": false,
          "text": "225 G",
          "valign": "bottom",
          "x": 1.1790417022918478,
          "y": -0.2232950161932446
         }
        ],
        "height": 800,
        "hovermode": false,
        "margin": {
         "b": 25,
         "l": 25,
         "r": 25,
         "t": 25
        },
        "shapes": [
         {
          "fillcolor": "rgba(175,175,175,0.5)",
          "layer": "below",
          "line": {
           "color": "rgba(175,175,175,0.5)",
           "width": 0.5
          },
          "path": "M 0.8314471102192841, 0.555603908290791 Q 0.291034984825113, 0.2744059722525118 0.6035053489289487, 0.7973589491653981L 0.6035053489289487, 0.7973589491653981 L 0.6883140972806847, 0.7254127814456237 L 0.7646092435394496, 0.6444941463613387 L 0.8314471102192841, 0.555603908290791 ",
          "type": "path"
         },
         {
          "fillcolor": "rgba(26,152,80, 0.75)",
          "layer": "below",
          "line": {
           "color": "rgba(26,152,80, 0.75)",
           "width": 0.5
          },
          "path": "M 0.9998476742120326, 0.01745360629753062 Q 0.1114463484533397, 0.16607140457169858 -0.3627762292278691, 0.931876283369852L -0.3627762292278691, 0.931876283369852 L -0.3418079375790694, 0.9397698302286273 L -0.3206680660921076, 0.9471916339309315 M -0.3206680660921076, 0.9471916339309315 Q 0.11136268380232904, 0.16612751926259084 0.9979989608390799, 0.0632303263008876L 0.9979989608390799, 0.0632303263008876 L 0.9991855039580136, 0.04035255481590177 L 0.9998476742120326, 0.01745360629753062 ",
          "type": "path"
         },
         {
          "fillcolor": "rgba(26,152,80, 0.75)",
          "layer": "below",
          "line": {
           "color": "rgba(26,152,80, 0.75)",
           "width": 0.5
          },
          "path": "M 0.9979989608390799, 0.0632303263008876 Q 0.05319302238161842, 0.192796531011086 -0.8243844662518262, 0.5660302569674979L -0.8243844662518262, 0.5660302569674979 L -0.8037951277606175, 0.5949062048661895 L -0.7821948229995215, 0.6230339147050883 M -0.7821948229995215, 0.6230339147050883 Q 0.05287979481076291, 0.19288267755496247 0.9905680455862846, 0.13702170289179838L 0.9905680455862846, 0.13702170289179838 L 0.9949678269048097, 0.1001949271386563 L 0.9979989608390799, 0.0632303263008876 ",
          "type": "path"
         },
         {
          "fillcolor": "rgba(26,152,80, 0.75)",
          "layer": "below",
          "line": {
           "color": "rgba(26,152,80, 0.75)",
           "width": 0.5
          },
          "path": "M 0.9647825100234171, 0.26304887065508414 Q -0.08297063042483137, 0.18197767579268082 -0.8312844625113848, -0.5558472293599728L -0.8312844625113848, -0.5558472293599728 L -0.8872245994155344, -0.4613377398305329 L -0.9324636165268921, -0.36126389779991724 L -0.966455870564449, -0.2568327281549471 M -0.966455870564449, -0.2568327281549471 Q -0.08235779584284675, 0.18225584617209944 0.8314471102192841, 0.555603908290791L 0.8314471102192841, 0.555603908290791 L 0.8863229814889982, 0.4630675679471117 L 0.9309402531814032, 0.3651715281981126 L 0.9647825100234171, 0.26304887065508414 ",
          "type": "path"
         },
         {
          "fillcolor": "rgba(26,152,80, 0.75)",
          "layer": "below",
          "line": {
           "color": "rgba(26,152,80, 0.75)",
           "width": 0.5
          },
          "path": "M 0.9905680455862846, 0.13702170289179838 Q -0.19326751612238824, 0.05145548767510038 0.7913015084921592, -0.6114261383503597L 0.7913015084921592, -0.6114261383503597 L 0.7516219761465119, -0.6595941213910356 L 0.709015161912292, -0.7051932360555413 M 0.709015161912292, -0.7051932360555413 Q -0.1933673039524736, 0.05107921066492417 0.9647825100234171, 0.26304887065508414L 0.9647825100234171, 0.26304887065508414 L 0.9797038637182162, 0.20045034152028493 L 0.9905680455862846, 0.13702170289179838 ",
          "type": "path"
         },
         {
          "fillcolor": "rgba(26,152,80, 0.75)",
          "layer": "below",
          "line": {
           "color": "rgba(26,152,80, 0.75)",
           "width": 0.5
          },
          "path": "M 1.0, 0.0 Q -0.19756848200312524, 0.03109171785187791 0.9516652540509608, -0.30713717494324944L 0.9516652540509608, -0.30713717494324944 L 0.9491155220254675, -0.31492812807103227 L 0.9465020093571291, -0.32269791800214187 M 0.9465020093571291, -0.32269791800214187 Q -0.1975849222540315, 0.030987069849670146 0.9998476742120326, 0.01745360629753062L 0.9998476742120326, 0.01745360629753062 L 0.9999619178278822, 0.008727135497041405 L 1.0, 0.0 ",
          "type": "path"
         },
         {
          "fillcolor": "rgba(175,175,175,0.5)",
          "layer": "below",
          "line": {
           "color": "rgba(175,175,175,0.5)",
           "width": 0.5
          },
          "path": "M 0.15713981188646386, 0.9875763664245346 Q -0.011226337492056032, 0.3998424306480173 -0.21230474753717782, 0.9772035070409721L -0.21230474753717782, 0.9772035070409721 L -0.08990242897000673, 0.9959505777222547 L 0.03387843368690882, 0.9994259611051345 L 0.15713981188646386, 0.9875763664245346 ",
          "type": "path"
         },
         {
          "fillcolor": "rgba(215,48,39, 0.75)",
          "layer": "below",
          "line": {
           "color": "rgba(215,48,39, 0.75)",
           "width": 0.5
          },
          "path": "M 0.5728285960319157, 0.8196751793046464 Q 0.028256924648656007, 0.19799380346212903 -0.3206680660921076, 0.9471916339309315L -0.3206680660921076, 0.9471916339309315 L -0.3064847332815346, 0.9518755739409152 L -0.2922330218195183, 0.9563471445862286 M -0.2922330218195183, 0.9563471445862286 Q 0.02820148484166801, 0.1980017077015377 0.547621385654528, 0.8367262503195503L 0.547621385654528, 0.8367262503195503 L 0.5602898581278951, 0.8282966104476241 L 0.5728285960319157, 0.8196751793046464 ",
          "type": "path"
         },
         {
          "fillcolor": "rgba(215,48,39, 0.75)",
          "layer": "below",
          "line": {
           "color": "rgba(215,48,39, 0.75)",
           "width": 0.5
          },
          "path": "M 0.47862387091121433, 0.8780200397450877 Q -0.16887393808570925, 0.10715219566310363 -0.5905423473492979, -0.8070066517614221L -0.5905423473492979, -0.8070066517614221 L -0.6803880354706935, -0.7328520459058093 L -0.7610000732975986, -0.6487517926303169 L -0.8312844625113848, -0.5558472293599728 M -0.8312844625113848, -0.5558472293599728 Q -0.16842290242097646, 0.1078597512517725 0.15713981188646386, 0.9875763664245346L 0.15713981188646386, 0.9875763664245346 L 0.2682327819410025, 0.9633541273551438 L 0.3758579407229071, 0.9266772946368848 L 0.47862387091121433, 0.8780200397450877 ",
          "type": "path"
         },
         {
          "fillcolor": "rgba(215,48,39, 0.75)",
          "layer": "below",
          "line": {
           "color": "rgba(215,48,39, 0.75)",
           "width": 0.5
          },
          "path": "M 0.5219069998501529, 0.8530023936117721 Q -0.19974857024096454, -0.01002540207126157 0.6046936026382547, -0.7964581890647924L 0.6046936026382547, -0.7964581890647924 L 0.5879520149503725, -0.8088958079479687 L 0.5709546827631782, -0.8209815772785638 M 0.5709546827631782, -0.8209815772785638 Q -0.19970532378938255, -0.010852817614696982 0.47862387091121433, 0.8780200397450877L 0.47862387091121433, 0.8780200397450877 L 0.5004217985770981, 0.8657817412655815 L 0.5219069998501529, 0.8530023936117721 ",
          "type": "path"
         },
         {
          "fillcolor": "rgba(215,48,39, 0.75)",
          "layer": "below",
          "line": {
           "color": "rgba(215,48,39, 0.75)",
           "width": 0.5
          },
          "path": "M 0.5781619056192703, 0.8159220617747102 Q -0.19967233825424602, -0.011443659208573539 0.66759454754554, -0.7445250298596184L 0.66759454754554, -0.7445250298596184 L 0.6652282553232036, -0.7466400527159299 L 0.6628552624824542, -0.7487475549204262 M 0.6628552624824542, -0.7487475549204262 Q -0.19967134174505402, -0.011461033362217186 0.5728285960319157, 0.8196751793046464L 0.5728285960319157, 0.8196751793046464 L 0.5754983103325417, 0.8178029682046828 L 0.5781619056192703, 0.8159220617747102 ",
          "type": "path"
         },
         {
          "fillcolor": "rgba(215,48,39, 0.75)",
          "layer": "below",
          "line": {
           "color": "rgba(215,48,39, 0.75)",
           "width": 0.5
          },
          "path": "M 0.547621385654528, 0.8367262503195503 Q -0.1868130026730972, -0.07142059949525335 0.9661457258016528, -0.2579969699729002L 0.9661457258016528, -0.2579969699729002 L 0.962345269553624, -0.271830061192214 L 0.9583467646889321, -0.28560721036111214 M 0.9583467646889321, -0.28560721036111214 Q -0.18675071720588976, -0.07158330547750492 0.5219069998501529, 0.8530023936117721L 0.5219069998501529, 0.8530023936117721 L 0.5348261119842407, 0.844962147045547 L 0.547621385654528, 0.8367262503195503 ",
          "type": "path"
         },
         {
          "fillcolor": "rgba(175,175,175,0.5)",
          "layer": "below",
          "line": {
           "color": "rgba(175,175,175,0.5)",
           "width": 0.5
          },
          "path": "M -0.5660447834484145, 0.8243744920428079 Q -0.25698974795179125, 0.3065228693713975 -0.7129846502997039, 0.7011796406321342L -0.7129846502997039, 0.7011796406321342 L -0.642474369879478, 0.7663071734284937 L -0.5660447834484145, 0.8243744920428079 ",
          "type": "path"
         },
         {
          "fillcolor": "rgba(175,175,175,0.5)",
          "layer": "below",
          "line": {
           "color": "rgba(175,175,175,0.5)",
           "width": 0.5
          },
          "path": "M -0.2676515977956764, 0.9635157612605108 Q -0.10827140948837621, 0.16815856174278002 -0.7663535739615599, 0.6424190218824035L -0.7663535739615599, 0.6424190218824035 L -0.758252206513719, 0.6519613418885175 L -0.7500320300247143, 0.6614015073591881 M -0.7500320300247143, 0.6614015073591881 Q -0.10831940579670503, 0.16812764890953763 -0.2922330218195183, 0.9563471445862286L -0.2922330218195183, 0.9563471445862286 L -0.27996525514189874, 0.9600101332347131 L -0.2676515977956764, 0.9635157612605108 ",
          "type": "path"
         },
         {
          "fillcolor": "rgba(175,175,175,0.5)",
          "layer": "below",
          "line": {
           "color": "rgba(175,175,175,0.5)",
           "width": 0.5
          },
          "path": "M -0.4100031474354963, 0.9120841074665136 Q -0.18058255720951188, 0.0859647604060721 -0.966455870564449, -0.2568327281549471L -0.966455870564449, -0.2568327281549471 L -0.9862209426386905, -0.16543352834553426 L -0.9973620334915563, -0.0725876997127453 M -0.9973620334915563, -0.0725876997127453 Q -0.18024378071637584, 0.08667283030492906 -0.5660447834484145, 0.8243744920428079L -0.5660447834484145, 0.8243744920428079 L -0.4899904437896054, 0.871727804417678 L -0.4100031474354963, 0.9120841074665136 ",
          "type": "path"
         },
         {
          "fillcolor": "rgba(175,175,175,0.5)",
          "layer": "below",
          "line": {
           "color": "rgba(175,175,175,0.5)",
           "width": 0.5
          },
          "path": "M -0.24289469189016547, 0.9700526628238189 Q -0.18355366980910703, -0.07942323526279516 0.5408069674411983, -0.8411467315320524L 0.5408069674411983, -0.8411467315320524 L 0.5385167096850347, -0.8426148309815131 L 0.5362224665839488, -0.8440766945785353 M 0.5362224665839488, -0.8440766945785353 Q -0.1835154972603739, -0.07951139707788883 -0.2490994839989301, 0.968477902211231L -0.2490994839989301, 0.968477902211231 L -0.2459983480532833, 0.9692702475342239 L -0.24289469189016547, 0.9700526628238189 ",
          "type": "path"
         },
         {
          "fillcolor": "rgba(175,175,175,0.5)",
          "layer": "below",
          "line": {
           "color": "rgba(175,175,175,0.5)",
           "width": 0.5
          },
          "path": "M -0.2490994839989301, 0.968477902211231 Q -0.17481863221395336, -0.09715166406625526 0.6908837258041872, -0.7229658895265562L 0.6908837258041872, -0.7229658895265562 L 0.6839689822226921, -0.7295110906334836 L 0.6769922345710143, -0.7359901591261562 M 0.6769922345710143, -0.7359901591261562 Q -0.17481075854606234, -0.09716583091061534 -0.2676515977956764, 0.9635157612605108L -0.2676515977956764, 0.9635157612605108 L -0.25838745295520393, 0.9660413677246551 L -0.2490994839989301, 0.968477902211231 ",
          "type": "path"
         },
         {
          "fillcolor": "rgba(175,175,175,0.5)",
          "layer": "below",
          "line": {
           "color": "rgba(175,175,175,0.5)",
           "width": 0.5
          },
          "path": "M -0.3627762292278691, 0.931876283369852 Q -0.12970680227835055, -0.15223713555740886 0.9776619058610662, -0.21018372398477422L 0.9776619058610662, -0.21018372398477422 L 0.9721977956416776, -0.2341611542281572 L 0.9661457258016528, -0.2579969699729002 M 0.9661457258016528, -0.2579969699729002 Q -0.12955247181175422, -0.1523684909929367 -0.4100031474354963, 0.9120841074665136L -0.4100031474354963, 0.9120841074665136 L -0.38651639526131637, 0.9222825359911125 L -0.3627762292278691, 0.931876283369852 ",
          "type": "path"
         },
         {
          "fillcolor": "rgba(175,175,175,0.5)",
          "layer": "below",
          "line": {
           "color": "rgba(175,175,175,0.5)",
           "width": 0.5
          },
          "path": "M -0.8857145577615321, 0.4642302469349596 Q -0.3650362326418584, 0.16354983600920867 -0.9360110178678135, 0.35197070109607104L -0.9360110178678135, 0.35197070109607104 L -0.912590581604646, 0.4088745900230216 L -0.8857145577615321, 0.4642302469349596 ",
          "type": "path"
         },
         {
          "fillcolor": "rgba(175,175,175,0.5)",
          "layer": "below",
          "line": {
           "color": "rgba(175,175,175,0.5)",
           "width": 0.5
          },
          "path": "M -0.8243844662518262, 0.5660302569674979 Q -0.18875664331420794, 0.06611300632063925 -0.9974003390475628, 0.07205944537537608L -0.9974003390475628, 0.07205944537537608 L -0.9908204545294519, 0.1351844180593698 L -0.9802494886876234, 0.19776486019425393 M -0.9802494886876234, 0.19776486019425393 Q -0.18848940620023663, 0.06687109801911584 -0.8857145577615321, 0.4642302469349596L -0.8857145577615321, 0.4642302469349596 L -0.8565631783432652, 0.5160421702792163 L -0.8243844662518262, 0.5660302569674979 ",
          "type": "path"
         },
         {
          "fillcolor": "rgba(175,175,175,0.5)",
          "layer": "below",
          "line": {
           "color": "rgba(175,175,175,0.5)",
           "width": 0.5
          },
          "path": "M -0.7663535739615599, 0.6424190218824035 Q -0.13488315281164429, -0.14767035954310742 0.709015161912292, -0.7051932360555413L 0.709015161912292, -0.7051932360555413 L 0.7000058505186293, -0.7141371081519925 L 0.6908837258041872, -0.7229658895265562 M 0.6908837258041872, -0.7229658895265562 Q -0.13490934695055942, -0.14764642936885938 -0.7821948229995215, 0.6230339147050883L -0.7821948229995215, 0.6230339147050883 L -0.7743348629809667, 0.6327760425081275 L -0.7663535739615599, 0.6424190218824035 ",
          "type": "path"
         },
         {
          "fillcolor": "rgba(175,175,175,0.5)",
          "layer": "below",
          "line": {
           "color": "rgba(175,175,175,0.5)",
           "width": 0.5
          },
          "path": "M -0.7346574201770055, 0.6784382617297368 Q -0.09896568067300109, -0.17379814167283142 0.9583467646889321, -0.28560721036111214L 0.9583467646889321, -0.28560721036111214 L 0.9550666797540563, -0.29639102082141877 L 0.9516652540509608, -0.30713717494324944 M 0.9516652540509608, -0.30713717494324944 Q -0.09893043698212198, -0.1738182057165658 -0.7500320300247143, 0.6614015073591881L -0.7500320300247143, 0.6614015073591881 L -0.7423935975174771, 0.6699639888569073 L -0.7346574201770055, 0.6784382617297368 ",
          "type": "path"
         },
         {
          "fillcolor": "rgba(175,175,175,0.5)",
          "layer": "below",
          "line": {
           "color": "rgba(175,175,175,0.5)",
           "width": 0.5
          },
          "path": "M -0.5905423473492979, -0.8070066517614221 Q -0.02015515864789523, -0.3994918892541852 0.5063202160157634, -0.8623455449260178L 0.5063202160157634, -0.8623455449260178 L 0.4272763704705282, -0.9041210666926924 L 0.34481725202603053, -0.9386698368996508 L 0.2596019666192789, -0.9657157029516517 L 0.17231165057085224, -0.9850424838947549 L 0.08364402617800734, -0.9964956983774355 L -0.005692175265977483, -0.9999837994391416 L -0.09498287844872605, -0.9954789062564784 L -0.18351437173109414, -0.9830170269980789 L -0.27057901193261386, -0.9626977710068567 L -0.3554808806109974, -0.9346835526102029 L -0.4375413466243572, -0.8991982929221698 L -0.5161044905138948, -0.8565256300142997 L -0.5905423473492979, -0.8070066517614221 ",
          "type": "path"
         },
         {
          "fillcolor": "rgba(175,175,175,0.5)",
          "layer": "below",
          "line": {
           "color": "rgba(175,175,175,0.5)",
           "width": 0.5
          },
          "path": "M -0.9466048198281742, 0.3223962082253292 Q -0.12035056235268443, -0.15973647717848488 0.5709546827631782, -0.8209815772785638L 0.5709546827631782, -0.8209815772785638 L 0.5559722565720404, -0.831200848124082 L 0.5408069674411983, -0.8411467315320524 M 0.5408069674411983, -0.8411467315320524 Q -0.11968873289943932, -0.16023297793190602 -0.9600224096832635, 0.2799231553586454L -0.9600224096832635, 0.2799231553586454 L -0.9535501235559509, 0.3012343968846034 L -0.9466048198281742, 0.3223962082253292 ",
          "type": "path"
         },
         {
          "fillcolor": "rgba(175,175,175,0.5)",
          "layer": "below",
          "line": {
           "color": "rgba(175,175,175,0.5)",
           "width": 0.5
          },
          "path": "M -0.9974003390475628, 0.07205944537537608 Q -0.0583827763107448, -0.19128892134739414 0.8676538802249267, -0.49716872802965834L 0.8676538802249267, -0.49716872802965834 L 0.8314426825654687, -0.5556105341049045 L 0.7913015084921592, -0.6114261383503597 M 0.7913015084921592, -0.6114261383503597 Q -0.05768949669709816, -0.19149914352507036 -0.9973620334915563, -0.0725876997127453L -0.9973620334915563, -0.0725876997127453 L -0.9999999649350043, -0.00026482067544395584 L -0.9974003390475628, 0.07205944537537608 ",
          "type": "path"
         },
         {
          "fillcolor": "rgba(175,175,175,0.5)",
          "layer": "below",
          "line": {
           "color": "rgba(175,175,175,0.5)",
           "width": 0.5
          },
          "path": "M -0.9600224096832635, 0.2799231553586454 Q -0.041457207799020505, -0.19565607560591836 0.9910506786022707, -0.13348615074972664L 0.9910506786022707, -0.13348615074972664 L 0.9851030095838272, -0.17196528867444713 L 0.9776619058610662, -0.21018372398477422 M 0.9776619058610662, -0.21018372398477422 Q -0.040795679050428524, -0.19579507800456689 -0.9802494886876234, 0.19776486019425393L -0.9802494886876234, 0.19776486019425393 L -0.9710052812771005, 0.23905803423432334 L -0.9600224096832635, 0.2799231553586454 ",
          "type": "path"
         },
         {
          "fillcolor": "rgba(175,175,175,0.5)",
          "layer": "below",
          "line": {
           "color": "rgba(175,175,175,0.5)",
           "width": 0.5
          },
          "path": "M 0.6046936026382547, -0.7964581890647924 Q 0.3105860818263405, -0.39183706534191187 0.6373805302295674, -0.770549193552414L 0.6373805302295674, -0.770549193552414 L 0.621172163652681, -0.7836741306838237 L 0.6046936026382547, -0.7964581890647924 ",
          "type": "path"
         },
         {
          "fillcolor": "rgba(175,175,175,0.5)",
          "layer": "below",
          "line": {
           "color": "rgba(175,175,175,0.5)",
           "width": 0.5
          },
          "path": "M 0.5331573057073181, -0.8460161271340596 Q 0.11999613487143551, -0.1600028987734793 0.6628552624824542, -0.7487475549204262L 0.6628552624824542, -0.7487475549204262 L 0.6620627799718876, -0.7494483807280499 L 0.6612695564903626, -0.7501483677640306 M 0.6612695564903626, -0.7501483677640306 Q 0.1199719548100783, -0.16002103005245447 0.5346907654860796, -0.845047800602966L 0.5346907654860796, -0.845047800602966 L 0.5339242551167087, -0.8455323115044555 L 0.5331573057073181, -0.8460161271340596 ",
          "type": "path"
         },
         {
          "fillcolor": "rgba(175,175,175,0.5)",
          "layer": "below",
          "line": {
           "color": "rgba(175,175,175,0.5)",
           "width": 0.5
          },
          "path": "M 0.5346907654860796, -0.845047800602966 Q 0.15629565450316263, -0.12478649118966373 0.9424625370052027, -0.3343117801420061L 0.9424625370052027, -0.3343117801420061 L 0.9421194734604066, -0.3352773444876439 L 0.9417754206834734, -0.33624255678968823 M 0.9417754206834734, -0.33624255678968823 Q 0.15628094145706659, -0.12480491711985123 0.5362224665839488, -0.8440766945785353L 0.5362224665839488, -0.8440766945785353 L 0.5354568361851371, -0.8445625948279993 L 0.5346907654860796, -0.845047800602966 ",
          "type": "path"
         },
         {
          "fillcolor": "rgba(175,175,175,0.5)",
          "layer": "below",
          "line": {
           "color": "rgba(175,175,175,0.5)",
           "width": 0.5
          },
          "path": "M 0.8676538802249267, -0.49716872802965834 Q 0.4508012403141018, -0.21628278186500985 0.9307490774211936, -0.3656585222302318L 0.9307490774211936, -0.3656585222302318 L 0.9016024806282036, -0.4325655637300197 L 0.8676538802249267, -0.49716872802965834 ",
          "type": "path"
         },
         {
          "fillcolor": "rgba(175,175,175,0.5)",
          "layer": "below",
          "line": {
           "color": "rgba(175,175,175,0.5)",
           "width": 0.5
          },
          "path": "M 0.66759454754554, -0.7445250298596184 Q 0.1668306269035476, -0.11030658152154522 0.9465020093571291, -0.32269791800214187L 0.9465020093571291, -0.32269791800214187 L 0.9445001242995754, -0.32851105795404606 L 0.9424625370052027, -0.3343117801420061 M 0.9424625370052027, -0.3343117801420061 Q 0.16685260793060186, -0.11027332962578425 0.6769922345710143, -0.7359901591261562L 0.6769922345710143, -0.7359901591261562 L 0.6723069348632713, -0.7402725074827197 L 0.66759454754554, -0.7445250298596184 ",
          "type": "path"
         },
         {
          "fillcolor": "rgba(175,175,175,0.5)",
          "layer": "below",
          "line": {
           "color": "rgba(175,175,175,0.5)",
           "width": 0.5
          },
          "path": "M 0.9910506786022707, -0.13348615074972664 Q 0.49829318096834485, -0.04127839386953344 0.9995065603657315, -0.03141075907812924L 0.9995065603657315, -0.03141075907812924 L 0.9965863619366897, -0.08255678773906688 L 0.9910506786022707, -0.13348615074972664 ",
          "type": "path"
         },
         {
          "fillcolor": "rgba(26,152,80, 0.75)",
          "layer": "below",
          "line": {
           "color": "rgba(26,152,80, 0.75)",
           "width": 0.45
          },
          "path": "M 1.1, 0.0 L 1.0999434293201293, 0.01115581890647118 L 1.0997737230991382, 0.022310490372469533 L 1.0994908987922931, 0.03346286707554312 L 1.099094985489709, 0.04461180192926963 L 1.0985860239133582, 0.05575614820124087 L 1.0979640664128811, 0.0668947596310108 L 1.0972291769602027, 0.07802649054799504 L 1.096381431142952, 0.08915019598930979 L 1.095420916156688, 0.10026473181753771 L 1.0943477307959295, 0.11136895483840935 L 1.0931619854439965, 0.12246172291838693 L 1.0918638020616533, 0.13354189510213973 L 1.0904533141745665, 0.14460833172989765 L 1.0889306668595704, 0.15565989455467208 L 1.087296016729744, 0.16669544685933085 L 1.0855495319183048, 0.17771385357351657 L 1.0836913920613127, 0.18871398139039483 L 1.0817217882791952, 0.19969469888322144 L 1.0796409231570883, 0.21065487662171636 L 1.0774490107240007, 0.22159338728823202 L 1.075146276430799, 0.2325091057937045 L 1.0727329571270188, 0.2434009093933753 L 1.0702093010365028, 0.2542676778022724 L 1.0675755677318712, 0.2651082933104377 L 1.0648320281078212, 0.2759216408978904 L 1.0619789643532653, 0.2867066083493128 L 1.0590166699223058, 0.2974620863684483 L 1.0559454495040517, 0.308186968692199 L 1.0527656189912795, 0.31888015220441107 L 1.049477505447942, 0.32954053704933667 L 1.0460814470755275, 0.34016702674476074 L 1.042577793178274, 0.35075852829478016 L 1.038966904127242, 0.3613139523022248 L 1.035249151323247, 0.3718322130807084 L 1.031424917158659, 0.38231222876629767 L 1.027494594978072, 0.3927529214287885 L 1.023458589037846, 0.40315321718257646 L 1.0193173144645264, 0.4135120462971134 L 1.0150711972121462, 0.42382834330693425 L 1.0107206740184138, 0.43410104712124714 L 1.006266192359793, 0.44432910113307234 L 1.0017082104054762, 0.4545114533279202 L 0.9970471969702598, 0.4646470563919975 L 0.9922836314663236, 0.4747348678199291 L 0.9874180038539204, 0.4847738500219863 L 0.9824508145909816, 0.4947629704308084 L 0.9773825745816408, 0.5047012016076083 L 0.9722138051236854, 0.5145875213478509 L 0.966945037854938, 0.5244209127863921 L 0.9615768146985739, 0.5342003645020702 L 0.9561096878073817, 0.5439248706217352 L 0.9505442195069707, 0.5535934309237098 L 0.9448809822379327, 0.5632050509406675 L 0.9391205584969634, 0.5727587420619189 L 0.9332635407769491, 0.5822535216350969 L 0.9273105315060248, 0.5916884130672275 L 0.921262142985612, 0.6010624459251782 L 0.9151189973274395, 0.6103746560354731 L 0.908881726389555, 0.6196240855834627 L 0.902550971711336, 0.6288097832118417 L 0.8961273844475027, 0.6379308041185013 L 0.8896116253011441, 0.6469862101537072 L 0.8830043644557595, 0.6559750699165942 L 0.8763062815063273, 0.6648964588509656 L 0.8695180653894042, 0.67374945934039 L 0.8626404143122649, 0.6825331608025826 L 0.8556740356810862, 0.6912466597830643 L 0.8486196460281867, 0.6998890600480874 L 0.8414779709383283, 0.7084594726768173 L 0.8342497449740839, 0.7169570161527651 L 0.8269357116002845, 0.725380816454455 L 0.8195366231075492, 0.7337300071453227 L 0.8120532405349079, 0.7420037294628344 L 0.8044863335915243, 0.7502011324068145 L 0.7968366805775261, 0.7583213728269762 L 0.7891050683039528, 0.7663636155096446 L 0.7812922920118277, 0.7743270332636626 L 0.7733991552903628, 0.7822108070054731 L 0.7654264699943046, 0.7900141258433663 L 0.7573750561604307, 0.7977361871608839 L 0.7492457419232034, 0.805376196699374 L 0.7410393634295929, 0.8129333686396837 L 0.7327567647530728, 0.820406925682987 L 0.7243987978068035, 0.8277960991307328 L 0.7159663222560078, 0.8351001289637108 L 0.7074602054295491, 0.8423182639202242 L 0.698881322230722, 0.8494497615733599 L 0.6902305550472628, 0.8564938884073533 L 0.6815087936605915, 0.8634499198930332 L 0.6727169351542923, 0.8703171405623445 L 0.6638558838218436, 0.8770948440819379 L 0.6035053489289487, 0.7973589491653981 L 0.6115608501402657, 0.7911974005112222 L 0.6195534487823559, 0.7849544726300302 L 0.6274823227702389, 0.7786308076430484 L 0.6353466565733835, 0.7722270559757817 L 0.6431456412995901, 0.7657438762911128 L 0.6508784747781888, 0.7591819354215552 L 0.6585443616425486, 0.7525419083006661 L 0.6661425134118844, 0.7458244778936245 L 0.6736721485723571, 0.7390303351269851 L 0.6811324926574576, 0.7321601788176126 L 0.6885227783276642, 0.7252147156008035 L 0.6958422454493678, 0.7181946598576057 L 0.7030901411730571, 0.7111007336413391 L 0.7102657200107524, 0.7039336666033296 L 0.7173682439126843, 0.6966941959178586 L 0.7243969823432055, 0.6893830662063419 L 0.7313512123559311, 0.6820010294607404 L 0.738230218668098, 0.674548844966213 L 0.7450332937341355, 0.6670272792230205 L 0.7517597378184403, 0.6594371058676862 L 0.7584088590673489, 0.6517791055934228 L 0.7649799735802985, 0.6440540660698338 L 0.7714724054801697, 0.6362627818618976 L 0.7778854869828056, 0.6284060543482403 L 0.7842185584656953, 0.6204846916387114 L 0.790470968535822, 0.6124995084912636 L 0.7966420740966611, 0.6044513262281505 L 0.8027312404143268, 0.5963409726514491 L 0.8087378411828582, 0.5881692819579155 L 0.8146612585886388, 0.579937094653183 L 0.8205008833739418, 0.5716452574653106 L 0.8262561148995954, 0.5632946232576933 L 0.8319263612067631, 0.5548860509413391 L 0.8375110390778291, 0.5464204053865256 L 0.8430095740963861, 0.5378985573338432 L 0.8484214007063172, 0.5293213833046335 L 0.8537459622699667, 0.5206897655108353 L 0.8589827111253933, 0.5120045917642432 L 0.8641311086427005, 0.5032667553851907 L 0.8691906252794378, 0.4944771551106683 L 0.8741607406350671, 0.48563669500188195 L 0.879040943504489, 0.47674628435126554 L 0.883830731930623, 0.4678068375889553 L 0.888529613256037, 0.4588192741887348 L 0.8931371041736196, 0.44978451857346213 L 0.8976527307762913, 0.44070350001998754 L 0.9020760286057486, 0.4315771525635719 L 0.9064065427002361, 0.42240641490181585 L 0.910643827641342, 0.41319223029810925 L 0.9147874475998119, 0.40393554648461116 L 0.9188369763803762, 0.3946373155647701 L 0.9227919974655874, 0.3852984939153947 L 0.9266521040586603, 0.3759200420882849 L 0.9304168991253144, 0.36650292471143314 L 0.9340859954346108, 0.35704811038980766 L 0.9376590155987807, 0.3475565716057251 L 0.9411355921120426, 0.3380292846188258 L 0.9445153673884018, 0.32846722936565886 L 0.9477979937984309, 0.31887138935889103 L 0.9509831337050249, 0.3092427515861461 L 0.954070459498129, 0.2995823064084879 L 0.9570596536284358, 0.2898910474585555 L 0.9599504086400469, 0.2801699715383627 L 0.9627424272020961, 0.27042007851677113 L 0.965435422139332, 0.26064237122664796 L 0.9680291164616556, 0.25083785536171854 L 0.9705232433926101, 0.2410075393731252 L 0.9729175463968207, 0.23115243436570215 L 0.9752117792063806, 0.22127355399397752 L 0.9774057058461808, 0.21137191435791317 L 0.9794991006581824, 0.20144853389839273 L 0.9814917483246256, 0.1915044332924694 L 0.9833834438901773, 0.1815406353483831 L 0.9851739927830115, 0.1715581649003589 L 0.9868632108348225, 0.16155804870319687 L 0.9884509242997673, 0.1515413153266644 L 0.9899369698723366, 0.14150899504970188 L 0.9913211947041514, 0.1314621197544524 L 0.9926034564196847, 0.12140172282012701 L 0.9937836231309058, 0.11132883901671538 L 0.994861573450845, 0.10124450439855394 L 0.9958371965060798, 0.09114975619776156 L 0.9967103919481382, 0.08104563271755434 L 0.9974810699638206, 0.07093317322545004 L 0.9981491512844373, 0.06081341784637345 L 0.9987145671939619, 0.05068740745567352 L 0.999177259536099, 0.0405561835720633 L 0.9995371807202664, 0.030420788250493744 L 0.9997942937264893, 0.020282263974972303 L 0.9999485721092084, 0.010141653551337436 L 1.0, 0.0 L 1.1 ,0.0",
          "type": "path"
         },
         {
          "fillcolor": "rgba(215,48,39, 0.75)",
          "layer": "below",
          "line": {
           "color": "rgba(215,48,39, 0.75)",
           "width": 0.45
          },
          "path": "M 0.6359780961811974, 0.8975142679521813 L 0.6268565905118667, 0.9039086319600218 L 0.6176707984939181, 0.9102102969577337 L 0.6084216621626383, 0.9164186166874027 L 0.5991101300494962, 0.9225329544639996 L 0.5897371570848677, 0.9285526832406755 L 0.5803037045001042, 0.9344771856730671 L 0.5708107397289547, 0.9403058541826078 L 0.5612592363083525, 0.946038091018837 L 0.5516501737785753, 0.9516733083207009 L 0.5419845375827897, 0.9572109281768412 L 0.5322633189659913, 0.9626503826848601 L 0.522487514873348, 0.9679911140095623 L 0.5126581278479603, 0.9732325744401615 L 0.5027761659280474, 0.9783742264464517 L 0.49284264254356847, 0.9834155427339313 L 0.4828585764122924, 0.9883560062978798 L 0.4728249914353246, 0.9931951104763784 L 0.46274291659210226, 0.9979323590022697 L 0.4526133858348687, 1.002567266054052 L 0.442437437982639, 1.0070993563057016 L 0.4322161166146637, 1.0115281649754195 L 0.4219504699634074, 1.0158532378732963 L 0.41164155080704845, 1.0200741314478905 L 0.40129041636151275, 1.0241904128317176 L 0.39089812817205255, 1.02820165988564 L 0.38046575200438154, 1.032107461242162 L 0.36999435773537637, 1.0359074163476127 L 0.35948501924335746, 1.0396011355032289 L 0.3489388142979586, 1.0431882399051167 L 0.3383568244495981, 1.0466683616830996 L 0.32774013491856213, 1.0500411439384472 L 0.31708983448371114, 1.0533062407804736 L 0.3064070153708222, 1.0564633173620108 L 0.2956927731405772, 1.0595120499137494 L 0.284948206576209, 1.0624521257774404 L 0.27417441757081806, 1.0652832434379613 L 0.2633725110143686, 1.068005112554236 L 0.2525435946803787, 1.0706174539890114 L 0.24168877911231423, 1.0731199998374827 L 0.2308091775096986, 1.07551249345477 L 0.21990590561395018, 1.0777946894822357 L 0.2089800815939593, 1.0799663538726483 L 0.19803282593141586, 1.0820272639141852 L 0.18706526130590018, 1.083977208253271 L 0.1760785124797481, 1.0858159869162542 L 0.16507370618270276, 1.087543411329914 L 0.1540519709963645, 1.0891593043408 L 0.14301443723845075, 1.090663500233399 L 0.13196223684687813, 1.0920558447471305 L 0.12089650326367801, 1.0933361950921663 L 0.10981837131875825, 1.0945044199640748 L 0.09872897711352233, 1.095560399557285 L 0.0876294579043581, 1.0965040255773748 L 0.07652095198600822, 1.0973352012521767 L 0.06540459857483398, 1.0980538413417007 L 0.05428153769198464, 1.0986598721468779 L 0.04315291004648432, 1.0991532315171166 L 0.0320198569182482, 1.0995338688566783 L 0.020883520041040306, 1.0998017451298645 L 0.00974504148538466, 1.099956832865021 L -0.0013944364585580429, 1.0999991161573555 L -0.01253377139813634, 1.099928590670567 L -0.02367182095536436, 1.0997452636372922 L -0.034807442884076716, 1.0994491538583637 L -0.04593949518706986, 1.0990402917008808 L -0.05706683623321794, 1.0985187190950965 L -0.06818832487455104, 1.0978844895301156 L -0.07930282056328396, 1.0971376680484122 L -0.09040918346878339, 1.0962783312391557 L -0.10150627459446153, 1.0953065672303595 L -0.11259295589458428, 1.094222475679841 L -0.1236680903909817, 1.0930261677650028 L -0.13473054228964923, 1.0917177661714301 L -0.1457791770972273, 1.0902974050803091 L -0.15681286173734796, 1.0887652301546664 L -0.16783046466683466, 1.0871213985244308 L -0.1788308559917477, 1.0853660787703194 L -0.18981290758325767, 1.0834994509065474 L -0.2007754931933394, 1.0815217063623697 L -0.21171748857027256, 1.079433047962446 L -0.22263777157393763, 1.0772336899060442 L -0.2335352222908954, 1.0749238577450695 L -0.21230474753717762, 0.9772035070409721 L -0.2023979741581251, 0.9793033544600401 L -0.19247044415479322, 0.981302770874951 L -0.18252317563030854, 0.9832015512385177 L -0.17255718871205242, 0.984999500824134 L -0.16257350544704335, 0.9866964352457448 L -0.1525731496971224, 0.9882921804767553 L -0.14255714703395267, 0.9897865728678784 L -0.13252652463384298, 0.9911794591639173 L -0.12248231117240838, 0.9924706965194818 L -0.11242553671907426, 0.9936601525136389 L -0.10235723263144024, 0.9947477051634918 L -0.09227843144951048, 0.9957332429366903 L -0.08219016678980308, 0.9966166647628688 L -0.07209347323934905, 0.997397880044011 L -0.06198938624959185, 0.9980768086637415 L -0.051878942030198126, 0.9986533809955421 L -0.04176317744279078, 0.9991275379098916 L -0.03164312989461519, 0.9994992307803305 L -0.021519837232149418, 0.9997684214884474 L -0.0113943376346694, 0.999935082427788 L -0.0012676695077800389, 0.9999991965066867 L 0.008859128623076964, 0.9999607571500192 L 0.01898501821912755, 0.9998197682998768 L 0.029108960834771085, 0.999576244415162 L 0.03922991822407665, 0.999230210470106 L 0.04934685244725876, 0.998781701951707 L 0.05945872597712179, 0.9982307648560915 L 0.06956450180546202, 0.997577455683797 L 0.07966314354941645, 0.9968218414339771 L 0.08975361555774757, 0.9959639995975317 L 0.09983488301705296, 0.9950040181491587 L 0.10990591205788909, 0.993941995538333 L 0.11996566986079829, 0.9927780406792094 L 0.13001312476222796, 0.9915122729394535 L 0.14004724636033136, 0.9901448221279999 L 0.15006700562063885, 0.9886758284817401 L 0.16007137498158916, 0.9871054426511402 L 0.17005932845990923, 0.9854338256847919 L 0.1800298417558326, 0.9836611490128956 L 0.1899818923581448, 0.9817875944296802 L 0.1999144596490456, 0.9798133540747596 L 0.20982652500881688, 0.9777386304134271 L 0.21971707192028564, 0.9755636362158934 L 0.22958508607307151, 0.9732885945354648 L 0.23942955546760777, 0.9709137386856691 L 0.2492494705189255, 0.9684393122163284 L 0.25904382416019, 0.9658655688885822 L 0.26881161194597925, 0.9631927726488629 L 0.2785518321552929, 0.960421197601828 L 0.28826348589428286, 0.9575511279822486 L 0.2979455771986928, 0.9545828581258611 L 0.30759711313599825, 0.9515166924391815 L 0.31721710390723507, 0.9483529453682877 L 0.32680456294850674, 0.9450919413665717 L 0.3363585070321603, 0.9417340148614661 L 0.34587795636761953, 0.9382795102201471 L 0.35536193470186594, 0.9347287817142182 L 0.364809469419557, 0.9310821934833795 L 0.3742195916427713, 0.9273401194980823 L 0.38359133633037035, 0.9235029435211783 L 0.392923742376967, 0.9195710590685632 L 0.40221585271148996, 0.9155448693688196 L 0.41146671439533516, 0.9114247873218655 L 0.4206753787200929, 0.9072112354566088 L 0.4298409013048405, 0.9029046458876167 L 0.43896234219299307, 0.8985054602707997 L 0.44803876594869857, 0.8940141297581192 L 0.4570692417527703, 0.8894311149513197 L 0.4660528434981457, 0.8847568858546923 L 0.4749886498848617, 0.8799919218268747 L 0.4838757445145375, 0.8751367115316909 L 0.4927132159843543, 0.8701917528880374 L 0.5015001579805229, 0.8651575530188189 L 0.5102356693712295, 0.8600346281989426 L 0.5189188542990497, 0.8548235038023707 L 0.527548822272822, 0.8495247142482428 L 0.5361246882589706, 0.8441388029460686 L 0.5446455727722692, 0.8386663222399996 L 0.5531106019660348, 0.8331078333521842 L 0.5615189077217437, 0.8274639063252124 L 0.5698696277380606, 0.8217351199636561 L 0.5781619056192703, 0.8159220617747102 L 0.6359780961811974 ,0.8975142679521813",
          "type": "path"
         },
         {
          "fillcolor": "rgba(244,109,67, 0.75)",
          "layer": "below",
          "line": {
           "color": "rgba(244,109,67, 0.75)",
           "width": 0.45
          },
          "path": "M -0.267184161079182, 1.0670579291062008 L -0.2782106279365394, 1.064236273814775 L -0.2892073090789392, 1.0613006795321103 L -0.3001730271825234, 1.0582514605480497 L -0.3111066082383899, 1.0550889433172945 L -0.3220068816782859, 1.0518134664244543 L -0.33287268049992896, 1.0484253805477968 L -0.3437028413919505, 1.0449250484217039 L -0.3544962048584398, 1.0413128447978366 L -0.3652516153430837, 1.037589156405014 L -0.3759679213528805, 1.033754381907808 L -0.38664397558142266, 1.029808931863864 L -0.3972786350317275, 1.0257532286799431 L -0.40787076113861076, 1.0215877065667003 L -0.41841921989058095, 1.0173128114921968 L -0.42892288195125006, 1.0129290011341536 L -0.43938062278024226, 1.008436744830952 L -0.44979132275358896, 1.003836523531385 L -0.46015386728359714, 0.9991288297431666 L -0.4704671469381795, 0.9943141674802032 L -0.4807300575596325, 0.9893930522086319 L -0.49094150038284956, 0.9843660107916347 L -0.5011003821529549, 0.9792335814330321 L -0.5112056152423522, 0.9739963136196607 L -0.5212561177671657, 0.9686547680625449 L -0.53125081370307, 0.9632095166368665 L -0.5411886330004892, 0.9576611423207386 L -0.5510685116991606, 0.9520102391327901 L -0.560889392042043, 0.9462574120685701 L -0.5706502225885609, 0.9404032770357759 L -0.580349958327176, 0.934448460788312 L -0.589987560787266, 0.9283936008591895 L -0.5995619981503062, 0.922239345492271 L -0.6090722453603373, 0.915986353572867 L -0.6185172842337087, 0.9096352945571966 L -0.6278961035680893, 0.9031868484007124 L -0.6372076992507271, 0.8966417054853043 L -0.6464510743659505, 0.8900005665453863 L -0.6556252393019019, 0.8832641425928737 L -0.6647292118564857, 0.8764331548410612 L -0.6737620173425255, 0.8695083346274092 L -0.6827226886921144, 0.8624904233352452 L -0.6916102665601528, 0.8553801723143895 L -0.7004237994270565, 0.8481783428007148 L -0.7091623437006284, 0.8408857058346468 L -0.7178249638170798, 0.8335030421786163 L -0.7264107323411965, 0.8260311422334675 L -0.7349187300656282, 0.8184708059538375 L -0.7433480461093036, 0.8108228427625118 L -0.7516977780149473, 0.803088071463766 L -0.7599670318457024, 0.795267320155703 L -0.7681549222808342, 0.7873614261415947 L -0.7762605727105145, 0.7793712358402408 L -0.7842831153296744, 0.7712976046953477 L -0.7129846502997039, 0.7011796406321342 L -0.7056914297368313, 0.7085193053093097 L -0.6983226566189401, 0.7157831146741769 L -0.6908791198597294, 0.722970291050639 L -0.6833616163772248, 0.73008006496706 L -0.6757709510084577, 0.7371116752386471 L -0.6681079364232984, 0.7440643690489431 L -0.6603733930374512, 0.7509374020304249 L -0.652568148924618, 0.7577300383441965 L -0.6446930397278439, 0.7644415507587697 L -0.6367489085700513, 0.7710712207279224 L -0.6287366059637752, 0.7776183384676267 L -0.620656989720104, 0.784082203032041 L -0.6125109248568413, 0.7904621223885537 L -0.604299283505896, 0.7967574134918738 L -0.5960229448199107, 0.8029674023571578 L -0.5876827948781368, 0.8090914241321693 L -0.57927972659157, 0.8151288231684584 L -0.5708146396073539, 0.8210789530915567 L -0.5622884402124624, 0.8269411768701787 L -0.5537020412366702, 0.8327148668844244 L -0.5450563619548238, 0.8383994049929736 L -0.5363523279884236, 0.8439941825992632 L -0.5275908712065236, 0.8494986007166472 L -0.5187729296259644, 0.8549120700325235 L -0.5098994473109482, 0.8602340109714273 L -0.5009713742719641, 0.8654638537570819 L -0.4919896663640811, 0.8706010384733986 L -0.4829552851846091, 0.875645015124424 L -0.47386919797015065, 0.8805952436932226 L -0.4647323774930474, 0.8854511941996914 L -0.4555458019572317, 0.8902123467573018 L -0.4463104548934996, 0.8948781916287587 L -0.4370273250542113, 0.8994482292805744 L -0.42769740630743586, 0.9039219704365483 L -0.4183216975305428, 0.9082989361301514 L -0.4089012025032627, 0.9125786577558045 L -0.3994369298002202, 0.9167606771190472 L -0.3899298926829546, 0.9208445464855941 L -0.3803811089914372, 0.9248298286292698 L -0.37079160103510067, 0.9287160968788184 L -0.36116239548338863, 0.9325029351635845 L -0.35149452325583874, 0.9361899380580581 L -0.3417890194117095, 0.93977671082528 L -0.332046923039167, 0.9432628694591034 L -0.32226927714403614, 0.946648040725306 L -0.3124571285381368, 0.9499318622015488 L -0.3026115277272081, 0.9531139823161788 L -0.2927335287984417, 0.9561940603858674 L -0.2828241893076272, 0.9591717666520858 L -0.2728845701659304, 0.9620467823164087 L -0.26291573552630837, 0.9648187995746457 L -0.25291875266958125, 0.9674875216497953 L -0.24289469189016547, 0.9700526628238189 L -0.267184161079182 ,1.0670579291062008",
          "type": "path"
         },
         {
          "fillcolor": "rgba(253,174,97, 0.75)",
          "layer": "below",
          "line": {
           "color": "rgba(253,174,97, 0.75)",
           "width": 0.45
          },
          "path": "M -0.8081231621947061, 0.7462820879027104 L -0.8158637657475476, 0.7378118430468781 L -0.8235155938888088, 0.7292613157311738 L -0.8310778140111105, 0.7206314363518388 L -0.8385496032574608, 0.7119231439395376 L -0.8459301486107926, 0.703137386057179 L -0.8532186469824303, 0.6942751186968111 L -0.8604143052994739, 0.6853373061755968 L -0.867516340591095, 0.6763249210308869 L -0.8745239800737322, 0.667238943914396 L -0.8814364612351804, 0.658080363485496 L -0.8882530319175601, 0.648850176303638 L -0.8949729503991608, 0.6395493867199167 L -0.9015954854751488, 0.6301790067677842 L -0.9081199165371309, 0.6207400560529299 L -0.914545533651566, 0.6112335616423338 L -0.920871637637012, 0.6016605579525119 L -0.9270975401402058, 0.5920220866369595 L -0.9332225637109656, 0.5823191964728047 L -0.9392460418759025, 0.5725529432466927 L -0.9451673192109425, 0.562724389639902 L -0.9509857514126435, 0.5528346051127137 L -0.9567007053683034, 0.5428846657880392 L -0.9623115592248493, 0.532875654334329 L -0.9678177024565033, 0.5228086598477643 L -0.9732185359312139, 0.5126847777337502 L -0.978513471975849, 0.5025051095877231 L -0.9837019344401414, 0.49227076307528544 L -0.9887833587593804, 0.4819828518116785 L -0.9937571920158439, 0.47164249524060636 L -0.9986228929989605, 0.4612508185124304 L -1.003379932264201, 0.45080895236173796 L -1.0080277921906873, 0.44031803298430644 L -1.0125659670375164, 0.42977920191347024 L -1.0169939629987899, 0.4191936058959111 L -1.0213112982573456, 0.4085623967668775 L -1.0255175030371861, 0.39788673132485225 L -1.029612119654595, 0.38716777120567775 L -0.9360110178678136, 0.35197070109607065 L -0.9322886391247146, 0.3617152102953202 L -0.9284648165975868, 0.37142036069716133 L -0.9245399663625361, 0.38108509626901005 L -0.9205145154886513, 0.390708365375882 L -0.9163889019915338, 0.400289120894824 L -0.9121635747856371, 0.40982632032885263 L -0.9078389936354185, 0.4193189259203912 L -0.9034156291053126, 0.4287659047641876 L -0.8988939625085276, 0.4381662289197077 L -0.894274485854674, 0.44751887552298675 L -0.8895577017962263, 0.4568228268979301 L -0.8847441235738307, 0.4660770706670456 L -0.8798342749604575, 0.4752805998616038 L -0.8748286902044085, 0.4844324130312082 L -0.8697279139711849, 0.4935315143527628 L -0.8645325012842213, 0.5025769137388305 L -0.8592430174644932, 0.5115676269453654 L -0.8538600380690022, 0.5205026756788115 L -0.8483841488281505, 0.5293810877025497 L -0.8428159455820052, 0.5382018969426905 L -0.8371560342154654, 0.5469641435931927 L -0.8314050305923326, 0.5556668742203034 L -0.8255635604883007, 0.5643091418662999 L -0.8196322595228624, 0.572890006152531 L -0.8136117730901461, 0.5814085333817424 L -0.807502756288691, 0.5898637966396708 L -0.8013058738501639, 0.5982548758959054 L -0.7950218000670293, 0.6065808581039963 L -0.7886512187191772, 0.6148408373008063 L -0.7821948229995217, 0.623033914705088 L -0.775653315438573, 0.6311591988152828 L -0.7690274078279933, 0.6392158055065263 L -0.7623178211431461, 0.6472028581268523 L -0.7555252854646458, 0.6551194875925807 L -0.7486505398989171, 0.6629648324828852 L -0.7416943324977705, 0.6707380391335255 L -0.7346574201770055, 0.6784382617297368 L -0.8081231621947061 ,0.7462820879027104",
          "type": "path"
         },
         {
          "fillcolor": "rgba(254,224,139, 0.75)",
          "layer": "below",
          "line": {
           "color": "rgba(254,224,139, 0.75)",
           "width": 0.45
          },
          "path": "M -1.0412653018109916, 0.35463582904786217 L -1.0604431259197045, 0.29233606806147944 L -1.075897086417086, 0.22900973655988008 L -1.0875729150074205, 0.16487921197732056 L -1.0954296107240773, 0.10016969576122647 L -1.0994395839089508, 0.03510842255233715 L -1.0995887530966038, -0.030076137774925443 L -1.095876594462895, -0.09515508240975588 L -1.0883161436644457, -0.1598998794225608 L -1.0769339500624855, -0.22408317028017136 L -1.061769983491827, -0.28747956824053683 L -1.04287749390236, -0.34986644982326237 L -1.0203228243659475, -0.41102473657663957 L -0.9941851781053739, -0.47073966439592324 L -0.9645563403634461, -0.5288015376912932 L -0.9315403560889371, -0.5850064657571712 L -0.8952531645712135, -0.639157078757036 L -0.8558221923065641, -0.6910632208094906 L -0.8133859055259326, -0.7405426177417197 L -0.7680933239553934, -0.7874215171654604 L -0.7201034975168625, -0.8315352986277746 L -0.6695849478066621, -0.8727290516940236 L -0.61671507631325, -0.9108581199330347 L -0.561679541452223, -0.9457886088941971 L -0.5046716066062102, -0.9773978562926701 L -0.4458914614590719, -1.005574862751597 L -0.3855455190076314, -1.0302206815887247 L -0.3238456907195515, -1.0512487662786467 L -0.2610086423827188, -1.0685852743705249 L -0.1972550332593112, -1.082169326794041 L -0.13280874121632763, -1.0919532216430037 L -0.06789607655363919, -1.0979026016858793 L -0.0027449872902821026, -1.099996575015021 L 0.06241574130029019, -1.0982277884109177 L 0.12735729009505797, -1.092602453163841 L 0.19185160964515177, -1.0831403232622099 L 0.25567222099678727, -1.0698746260242693 L 0.3185950109972084, -1.0528519454166805 L 0.3803990192928821, -1.032132058469755 L 0.44086721425627423, -1.0077877253637855 L 0.49978725511647015, -0.979904433923607 L 0.5569522376173398, -0.9485800994186196 L 0.5063202160157634, -0.8623455449260178 L 0.4543520501058819, -0.8908222126578245 L 0.4007883765966129, -0.916170659421623 L 0.34581729026625646, -0.9383018713361408 L 0.28963182817928035, -0.9571381321969822 L 0.23242929181526112, -0.9726132963856993 L 0.17441055422286522, -0.9846730211474635 L 0.11577935463187088, -0.9932749574216736 L 0.05674158300026381, -0.9983888985553797 L -0.0024954429911655477, -0.9999968863772916 L -0.06172370595785381, -0.9980932742598903 L -0.12073521928757057, -0.9926847469481851 L -0.17932275750846471, -0.9837902970854919 L -0.23728058398428983, -0.971441158518659 L -0.2944051733814104, -0.9556806966169515 L -0.350495926370574, -0.9365642559897496 L -0.40535587405370166, -0.9141589661378154 L -0.4587923696420093, -0.888543505720609 L -0.5106177649565663, -0.8598078262674519 L -0.5606500693756817, -0.8280528363027587 L -0.6087135889151474, -0.7933900469945668 L -0.6546395431971477, -0.7559411805707041 L -0.6982666581412666, -0.7158377428776912 L -0.7394417322963023, -0.6732205615833815 L -0.7780201748241491, -0.6282392916449914 L -0.8138665132465577, -0.5810518897791236 L -0.846854869171761, -0.5318240597792465 L -0.8768694003304054, -0.4807286706284484 L -0.9038047073685216, -0.4279451494508393 L -0.9275662039690431, -0.3736588514333087 L -0.9480704490021453, -0.3180604089302385 L -0.9652454395380246, -0.26134506203685165 L -0.9790308636931685, -0.20371197298197394 L -0.9893783124222234, -0.14536352674778252 L -0.9962514495117227, -0.08650462037250534 L -0.9996261391787307, -0.0273419434317504 L -0.9994905308263188, 0.03191674777485195 L -0.995845100658252, 0.09106335978293315 L -0.9887026500067458, 0.14989019270665505 L -0.978088260379169, 0.20819066959989097 L -0.9640392053815494, 0.2657600618740722 L -0.9466048198281742, 0.3223962082253292 L -1.0412653018109916 ,0.35463582904786217",
          "type": "path"
         },
         {
          "fillcolor": "rgba(217,239,139, 0.75)",
          "layer": "below",
          "line": {
           "color": "rgba(217,239,139, 0.75)",
           "width": 0.45
          },
          "path": "M 0.58647303627805, -0.9306177398474657 L 0.5935050719636233, -0.9261488700816162 L 0.6005030569767009, -0.9216268651475158 L 0.6074665898277147, -0.9170519844823887 L 0.6143952710036896, -0.9124244905570559 L 0.6212887029911669, -0.9077446488608752 L 0.6281464902990124, -0.9030127278865081 L 0.6349682394811021, -0.8982289991145186 L 0.6417535591588974, -0.8933937369977965 L 0.6485020600439017, -0.8885072189458091 L 0.6552133549599892, -0.8835697253086908 L 0.6618870588656244, -0.8785815393611532 L 0.6685227888759471, -0.8735429472862374 L 0.6751201642847418, -0.8684542381588931 L 0.6816788065862819, -0.8633157039293926 L 0.6881983394970411, -0.8581276394065835 L 0.6946783889772834, -0.8528903422409745 L 0.701118583252525, -0.8476041129076548 L 0.6373805302295681, -0.7705491935524134 L 0.6315258081611667, -0.775354856582704 L 0.6256348540882192, -0.7801160358241668 L 0.619708005987529, -0.7848324581176296 L 0.6137456038952197, -0.789503852871721 L 0.6077479898872246, -0.7941299520783975 L 0.6017155080596585, -0.7987104903283211 L 0.595648504509081, -0.8032452048260825 L 0.5895473273126378, -0.8077338354052809 L 0.5834123265080885, -0.8121761245434512 L 0.5772438540737291, -0.816571817376835 L 0.571042263908193, -0.8209206617150073 L 0.5648079118101517, -0.8252224080553411 L 0.5585411554578996, -0.8294768095973235 L 0.5522423543888315, -0.8336836222567169 L 0.545911869978819, -0.8378426046795597 L 0.5395500654214758, -0.8419535182560146 L 0.5331573057073181, -0.8460161271340596 L 0.58647303627805 ,-0.9306177398474657",
          "type": "path"
         },
         {
          "fillcolor": "rgba(166,217,106, 0.75)",
          "layer": "below",
          "line": {
           "color": "rgba(166,217,106, 0.75)",
           "width": 0.45
          },
          "path": "M 0.7273965121393989, -0.8251632045404337 L 0.7358595570030482, -0.8176250438723595 L 0.7442444870331771, -0.8100000885930343 L 0.7525504121313851, -0.8022891481260872 L 0.7607764505860073, -0.794493041022863 L 0.7689217291657057, -0.7866125948755343 L 0.7769853832121721, -0.778648646229244 L 0.784966556731913, -0.7706020404933046 L 0.7928644024871154, -0.762473631851456 L 0.8006780820855893, -0.7542642831711857 L 0.8084067660697621, -0.7459748659121359 L 0.8160496340047337, -0.7376062600335902 L 0.8236058745653669, -0.7291593539010641 L 0.831074685622412, -0.7206350441920024 L 0.83845527432766, -0.7120342358005889 L 0.8457468571981052, -0.7033578417416899 L 0.8529486601991133, -0.6946067830539361 L 0.8600599188265937, -0.6857819887019441 L 0.8670798781881495, -0.6768843954777093 L 0.8740077930832175, -0.6679149479011558 L 0.8808429280821723, -0.6588745981198738 L 0.8875845576043944, -0.6497643058080459 L 0.894231965995297, -0.6405850380645697 L 0.9007844476022925, -0.6313377693104009 L 0.907241306849704, -0.6220234811851088 L 0.9136018583126024, -0.6126431624426731 L 0.9198654267895654, -0.6031978088465265 L 0.9260313473743572, -0.593688423063843 L 0.9320989655265075, -0.5841160145591069 L 0.9380676371407964, -0.574481599486949 L 0.943936728615629, -0.5647862005842781 L 0.9497056169202928, -0.5550308470617165 L 0.9553736896610983, -0.5452165744943376 L 0.9609403451463846, -0.5353444247117434 L 0.966404992450394, -0.5254154456874617 L 0.9717670514760008, -0.5154306914277028 L 0.9770259530162893, -0.5053912218594738 L 0.9821811388149806, -0.49529810271805796 L 0.987232061625693, -0.4851524054338842 L 0.992178185270033, -0.47495520701879274 L 0.9970189846945161, -0.46470758995169903 L 1.0017539460263005, -0.4544106420636912 L 1.0063825666277397, -0.4440654564225451 L 1.0109043551497388, -0.43367313121669315 L 1.0153188315839117, -0.42323476963864964 L 1.0196255273135395, -0.4127514797678948 L 1.023823985163313, -0.40222437445325504 L 0.9307490774211936, -0.3656585222302318 L 0.9269322975577631, -0.3752286179708134 L 0.9230171196217377, -0.38475888148968146 L 0.9190039592270351, -0.39424830110608466 L 0.9148932423888542, -0.40369586947504094 L 0.9106854054784549, -0.41310058369426467 L 0.9063808951768327, -0.42246144541063546 L 0.9019801684273027, -0.4317774609261752 L 0.8974836923869935, -0.4410476413035311 L 0.892891944377255, -0.45027100247096175 L 0.8882054118329902, -0.45944656532679434 L 0.8834245922509097, -0.4685733558433661 L 0.8785499931367218, -0.4776504051704197 L 0.8735821319512587, -0.4866767497379485 L 0.8685215360555438, -0.4956514313584887 L 0.8633687426548116, -0.504573497328833 L 0.8581242987414809, -0.5134420005311618 L 0.8527887610370876, -0.5222559995335899 L 0.8473626959331886, -0.5310145586900972 L 0.8418466794312338, -0.5397167482398572 L 0.836241297081423, -0.5483616444059332 L 0.8305471439205476, -0.5569483294933392 L 0.8247648244088218, -0.5654758919864624 L 0.8188949523657204, -0.5739434266458189 L 0.8129381509048154, -0.5823500346041542 L 0.8068950523676311, -0.5906948234618599 L 0.8007662982565202, -0.5989769073817034 L 0.7945525391665613, -0.6071954071828689 L 0.7882544347164995, -0.6153494504342811 L 0.7818726534787215, -0.6234381715472218 L 0.7754078729082847, -0.6314607118672145 L 0.7688607792710046, -0.6394162197651726 L 0.7622320675705999, -0.647303850727808 L 0.75552244147492, -0.6551227674472748 L 0.7487326132412426, -0.6628721399100582 L 0.741863303640667, -0.670551145485082 L 0.7349152418816018, -0.6781589690110326 L 0.7278891655323538, -0.685694802882896 L 0.7207858204428321, -0.6931578471376872 L 0.7136059606653754, -0.7005473095393677 L 0.7063503483747019, -0.707862405662949 L 0.6990197537870051, -0.7151023589777583 L 0.6916149550781884, -0.7222664009298754 L 0.6841367383012591, -0.7293537710237156 L 0.6765858973028882, -0.7363637169027584 L 0.6689632336391347, -0.7432954944294177 L 0.6612695564903626, -0.7501483677640306 L 0.7273965121393989 ,-0.8251632045404337",
          "type": "path"
         },
         {
          "fillcolor": "rgba(102,189,99, 0.75)",
          "layer": "below",
          "line": {
           "color": "rgba(102,189,99, 0.75)",
           "width": 0.45
          },
          "path": "M 1.035952962751821, -0.3698668124686571 L 1.039737599922788, -0.35909013256674244 L 1.04341013421131, -0.3482747361281552 L 1.0469701696504825, -0.3374217892520282 L 1.05041732240285, -0.32653246208612646 L 1.0537512208017916, -0.3156079287006811 L 1.0569715053915951, -0.3046493669617999 L 1.0600778289662107, -0.29365795840447717 L 1.0630698566066867, -0.2826348881052001 L 1.065947265717281, -0.2715813445541725 L 1.0687097460602426, -0.2604985195271791 L 1.071356999789259, -0.24938760795708798 L 1.0738887414815723, -0.23824980780501126 L 1.0763046981687518, -0.22708631993114897 L 1.0786046093661243, -0.21589834796531096 L 1.0807882271008606, -0.2046870981771409 L 1.0828553159387106, -0.19345377934606367 L 1.084805653009387, -0.18219960263095378 L 1.0866390280305969, -0.17092578143954743 L 1.0883552433307113, -0.1596335312976204 L 1.08995411387008, -0.14832406971792902 L 1.0914354672609812, -0.13699861606893712 L 1.0927991437862081, -0.1256583914433513 L 1.0940449964162902, -0.11430461852646179 L 1.0951728908253444, -0.10293852146431144 L 1.096182705405559, -0.09156132573171617 L 1.0970743312803048, -0.08017425800013311 L 1.0978476723158743, -0.06877854600540007 L 1.0985026451318456, -0.05737541841536859 L 1.099039179110074, -0.0459661046974282 L 1.0994572164023046, -0.03455183498594412 L 0.9995065603657315, -0.03141075907813102 L 0.9991265264637035, -0.04178736790675291 L 0.9986387683016777, -0.05215947128669871 L 0.9980433384689765, -0.06252595091400005 L 0.9973403011639135, -0.0728856890910301 L 0.9965297321868718, -0.08323756884701469 L 0.9956117189321312, -0.09358047405846494 L 0.9945863603784455, -0.10391328956951071 L 0.993453767078371, -0.11423490131213754 L 0.9922140611463464, -0.12454419642630647 L 0.9908673762455271, -0.13484006337993545 L 0.9894138575733739, -0.1451213920887458 L 0.9878536618459971, -0.1553870740359522 L 0.9861869572812609, -0.16563600239177614 L 0.9844139235806459, -0.17586707213278513 L 0.9825347519098733, -0.18607918016103717 L 0.9805496448782948, -0.19627122542300995 L 0.978458816517047, -0.20644210902831722 L 0.9762624922559748, -0.21659073436819204 L 0.9739609088993262, -0.22671600723371632 L 0.9715543146002205, -0.23681683593379918 L 0.9690429688338918, -0.24689213141288407 L 0.966427142369715, -0.2569408073683637 L 0.9637071172420096, -0.2669617803677065 L 0.9608831867196318, -0.2769539699652726 L 0.9579556552743559, -0.286916298818801 L 0.9549248385480452, -0.2968476928055695 L 0.9517910633186204, -0.3067470811382074 L 0.9485546674648273, -0.31661339648014103 L 0.9452159999298072, -0.3264455750606749 L 0.9417754206834734, -0.33624255678968823 L 1.035952962751821 ,-0.3698668124686571",
          "type": "path"
         }
        ],
        "showlegend": false,
        "title": "Pairwise interactions between common egg mutation genotypes",
        "width": 800,
        "xaxis": {
         "visible": false
        },
        "yaxis": {
         "visible": false
        }
       }
      },
      "text/html": [
       "<div id=\"fe42b53b-a5f7-4ba6-ac83-e53cbbae597c\" style=\"height: 800px; width: 800px;\" class=\"plotly-graph-div\"></div><script type=\"text/javascript\">require([\"plotly\"], function(Plotly) { window.PLOTLYENV=window.PLOTLYENV || {};window.PLOTLYENV.BASE_URL=\"https://plot.ly\";Plotly.newPlot(\"fe42b53b-a5f7-4ba6-ac83-e53cbbae597c\", [{\"line\": {\"color\": \"rgba(26,152,80, 0.75)\", \"shape\": \"spline\", \"width\": 0.25}, \"mode\": \"lines\", \"x\": [1.1, 1.0999434293201293, 1.0997737230991382, 1.0994908987922931, 1.099094985489709, 1.0985860239133582, 1.0979640664128811, 1.0972291769602027, 1.096381431142952, 1.095420916156688, 1.0943477307959295, 1.0931619854439965, 1.0918638020616533, 1.0904533141745665, 1.0889306668595704, 1.087296016729744, 1.0855495319183048, 1.0836913920613127, 1.0817217882791952, 1.0796409231570883, 1.0774490107240007, 1.075146276430799, 1.0727329571270188, 1.0702093010365028, 1.0675755677318712, 1.0648320281078212, 1.0619789643532653, 1.0590166699223058, 1.0559454495040517, 1.0527656189912795, 1.049477505447942, 1.0460814470755275, 1.042577793178274, 1.038966904127242, 1.035249151323247, 1.031424917158659, 1.027494594978072, 1.023458589037846, 1.0193173144645264, 1.0150711972121462, 1.0107206740184138, 1.006266192359793, 1.0017082104054762, 0.9970471969702598, 0.9922836314663236, 0.9874180038539204, 0.9824508145909816, 0.9773825745816408, 0.9722138051236854, 0.966945037854938, 0.9615768146985739, 0.9561096878073817, 0.9505442195069707, 0.9448809822379327, 0.9391205584969634, 0.9332635407769491, 0.9273105315060248, 0.921262142985612, 0.9151189973274395, 0.908881726389555, 0.902550971711336, 0.8961273844475027, 0.8896116253011441, 0.8830043644557595, 0.8763062815063273, 0.8695180653894042, 0.8626404143122649, 0.8556740356810862, 0.8486196460281867, 0.8414779709383283, 0.8342497449740839, 0.8269357116002845, 0.8195366231075492, 0.8120532405349079, 0.8044863335915243, 0.7968366805775261, 0.7891050683039528, 0.7812922920118277, 0.7733991552903628, 0.7654264699943046, 0.7573750561604307, 0.7492457419232034, 0.7410393634295929, 0.7327567647530728, 0.7243987978068035, 0.7159663222560078, 0.7074602054295491, 0.698881322230722, 0.6902305550472628, 0.6815087936605915, 0.6727169351542923, 0.6638558838218436], \"y\": [0.0, 0.01115581890647118, 0.022310490372469533, 0.03346286707554312, 0.04461180192926963, 0.05575614820124087, 0.0668947596310108, 0.07802649054799504, 0.08915019598930979, 0.10026473181753771, 0.11136895483840935, 0.12246172291838693, 0.13354189510213973, 0.14460833172989765, 0.15565989455467208, 0.16669544685933085, 0.17771385357351657, 0.18871398139039483, 0.19969469888322144, 0.21065487662171636, 0.22159338728823202, 0.2325091057937045, 0.2434009093933753, 0.2542676778022724, 0.2651082933104377, 0.2759216408978904, 0.2867066083493128, 0.2974620863684483, 0.308186968692199, 0.31888015220441107, 0.32954053704933667, 0.34016702674476074, 0.35075852829478016, 0.3613139523022248, 0.3718322130807084, 0.38231222876629767, 0.3927529214287885, 0.40315321718257646, 0.4135120462971134, 0.42382834330693425, 0.43410104712124714, 0.44432910113307234, 0.4545114533279202, 0.4646470563919975, 0.4747348678199291, 0.4847738500219863, 0.4947629704308084, 0.5047012016076083, 0.5145875213478509, 0.5244209127863921, 0.5342003645020702, 0.5439248706217352, 0.5535934309237098, 0.5632050509406675, 0.5727587420619189, 0.5822535216350969, 0.5916884130672275, 0.6010624459251782, 0.6103746560354731, 0.6196240855834627, 0.6288097832118417, 0.6379308041185013, 0.6469862101537072, 0.6559750699165942, 0.6648964588509656, 0.67374945934039, 0.6825331608025826, 0.6912466597830643, 0.6998890600480874, 0.7084594726768173, 0.7169570161527651, 0.725380816454455, 0.7337300071453227, 0.7420037294628344, 0.7502011324068145, 0.7583213728269762, 0.7663636155096446, 0.7743270332636626, 0.7822108070054731, 0.7900141258433663, 0.7977361871608839, 0.805376196699374, 0.8129333686396837, 0.820406925682987, 0.8277960991307328, 0.8351001289637108, 0.8423182639202242, 0.8494497615733599, 0.8564938884073533, 0.8634499198930332, 0.8703171405623445, 0.8770948440819379], \"type\": \"scatter\", \"uid\": \"ae0e5d1f-0409-45f8-92b5-34d65445d9a9\"}, {\"line\": {\"color\": \"rgba(215,48,39, 0.75)\", \"shape\": \"spline\", \"width\": 0.25}, \"mode\": \"lines\", \"x\": [0.6359780961811974, 0.6268565905118667, 0.6176707984939181, 0.6084216621626383, 0.5991101300494962, 0.5897371570848677, 0.5803037045001042, 0.5708107397289547, 0.5612592363083525, 0.5516501737785753, 0.5419845375827897, 0.5322633189659913, 0.522487514873348, 0.5126581278479603, 0.5027761659280474, 0.49284264254356847, 0.4828585764122924, 0.4728249914353246, 0.46274291659210226, 0.4526133858348687, 0.442437437982639, 0.4322161166146637, 0.4219504699634074, 0.41164155080704845, 0.40129041636151275, 0.39089812817205255, 0.38046575200438154, 0.36999435773537637, 0.35948501924335746, 0.3489388142979586, 0.3383568244495981, 0.32774013491856213, 0.31708983448371114, 0.3064070153708222, 0.2956927731405772, 0.284948206576209, 0.27417441757081806, 0.2633725110143686, 0.2525435946803787, 0.24168877911231423, 0.2308091775096986, 0.21990590561395018, 0.2089800815939593, 0.19803282593141586, 0.18706526130590018, 0.1760785124797481, 0.16507370618270276, 0.1540519709963645, 0.14301443723845075, 0.13196223684687813, 0.12089650326367801, 0.10981837131875825, 0.09872897711352233, 0.0876294579043581, 0.07652095198600822, 0.06540459857483398, 0.05428153769198464, 0.04315291004648432, 0.0320198569182482, 0.020883520041040306, 0.00974504148538466, -0.0013944364585580429, -0.01253377139813634, -0.02367182095536436, -0.034807442884076716, -0.04593949518706986, -0.05706683623321794, -0.06818832487455104, -0.07930282056328396, -0.09040918346878339, -0.10150627459446153, -0.11259295589458428, -0.1236680903909817, -0.13473054228964923, -0.1457791770972273, -0.15681286173734796, -0.16783046466683466, -0.1788308559917477, -0.18981290758325767, -0.2007754931933394, -0.21171748857027256, -0.22263777157393763, -0.2335352222908954], \"y\": [0.8975142679521813, 0.9039086319600218, 0.9102102969577337, 0.9164186166874027, 0.9225329544639996, 0.9285526832406755, 0.9344771856730671, 0.9403058541826078, 0.946038091018837, 0.9516733083207009, 0.9572109281768412, 0.9626503826848601, 0.9679911140095623, 0.9732325744401615, 0.9783742264464517, 0.9834155427339313, 0.9883560062978798, 0.9931951104763784, 0.9979323590022697, 1.002567266054052, 1.0070993563057016, 1.0115281649754195, 1.0158532378732963, 1.0200741314478905, 1.0241904128317176, 1.02820165988564, 1.032107461242162, 1.0359074163476127, 1.0396011355032289, 1.0431882399051167, 1.0466683616830996, 1.0500411439384472, 1.0533062407804736, 1.0564633173620108, 1.0595120499137494, 1.0624521257774404, 1.0652832434379613, 1.068005112554236, 1.0706174539890114, 1.0731199998374827, 1.07551249345477, 1.0777946894822357, 1.0799663538726483, 1.0820272639141852, 1.083977208253271, 1.0858159869162542, 1.087543411329914, 1.0891593043408, 1.090663500233399, 1.0920558447471305, 1.0933361950921663, 1.0945044199640748, 1.095560399557285, 1.0965040255773748, 1.0973352012521767, 1.0980538413417007, 1.0986598721468779, 1.0991532315171166, 1.0995338688566783, 1.0998017451298645, 1.099956832865021, 1.0999991161573555, 1.099928590670567, 1.0997452636372922, 1.0994491538583637, 1.0990402917008808, 1.0985187190950965, 1.0978844895301156, 1.0971376680484122, 1.0962783312391557, 1.0953065672303595, 1.094222475679841, 1.0930261677650028, 1.0917177661714301, 1.0902974050803091, 1.0887652301546664, 1.0871213985244308, 1.0853660787703194, 1.0834994509065474, 1.0815217063623697, 1.079433047962446, 1.0772336899060442, 1.0749238577450695], \"type\": \"scatter\", \"uid\": \"65142459-e87b-4d64-a334-3152fdc841da\"}, {\"line\": {\"color\": \"rgba(244,109,67, 0.75)\", \"shape\": \"spline\", \"width\": 0.25}, \"mode\": \"lines\", \"x\": [-0.267184161079182, -0.2782106279365394, -0.2892073090789392, -0.3001730271825234, -0.3111066082383899, -0.3220068816782859, -0.33287268049992896, -0.3437028413919505, -0.3544962048584398, -0.3652516153430837, -0.3759679213528805, -0.38664397558142266, -0.3972786350317275, -0.40787076113861076, -0.41841921989058095, -0.42892288195125006, -0.43938062278024226, -0.44979132275358896, -0.46015386728359714, -0.4704671469381795, -0.4807300575596325, -0.49094150038284956, -0.5011003821529549, -0.5112056152423522, -0.5212561177671657, -0.53125081370307, -0.5411886330004892, -0.5510685116991606, -0.560889392042043, -0.5706502225885609, -0.580349958327176, -0.589987560787266, -0.5995619981503062, -0.6090722453603373, -0.6185172842337087, -0.6278961035680893, -0.6372076992507271, -0.6464510743659505, -0.6556252393019019, -0.6647292118564857, -0.6737620173425255, -0.6827226886921144, -0.6916102665601528, -0.7004237994270565, -0.7091623437006284, -0.7178249638170798, -0.7264107323411965, -0.7349187300656282, -0.7433480461093036, -0.7516977780149473, -0.7599670318457024, -0.7681549222808342, -0.7762605727105145, -0.7842831153296744], \"y\": [1.0670579291062008, 1.064236273814775, 1.0613006795321103, 1.0582514605480497, 1.0550889433172945, 1.0518134664244543, 1.0484253805477968, 1.0449250484217039, 1.0413128447978366, 1.037589156405014, 1.033754381907808, 1.029808931863864, 1.0257532286799431, 1.0215877065667003, 1.0173128114921968, 1.0129290011341536, 1.008436744830952, 1.003836523531385, 0.9991288297431666, 0.9943141674802032, 0.9893930522086319, 0.9843660107916347, 0.9792335814330321, 0.9739963136196607, 0.9686547680625449, 0.9632095166368665, 0.9576611423207386, 0.9520102391327901, 0.9462574120685701, 0.9404032770357759, 0.934448460788312, 0.9283936008591895, 0.922239345492271, 0.915986353572867, 0.9096352945571966, 0.9031868484007124, 0.8966417054853043, 0.8900005665453863, 0.8832641425928737, 0.8764331548410612, 0.8695083346274092, 0.8624904233352452, 0.8553801723143895, 0.8481783428007148, 0.8408857058346468, 0.8335030421786163, 0.8260311422334675, 0.8184708059538375, 0.8108228427625118, 0.803088071463766, 0.795267320155703, 0.7873614261415947, 0.7793712358402408, 0.7712976046953477], \"type\": \"scatter\", \"uid\": \"fc6d23e7-fba3-40fc-95d3-5989e85a77a9\"}, {\"line\": {\"color\": \"rgba(253,174,97, 0.75)\", \"shape\": \"spline\", \"width\": 0.25}, \"mode\": \"lines\", \"x\": [-0.8081231621947061, -0.8158637657475476, -0.8235155938888088, -0.8310778140111105, -0.8385496032574608, -0.8459301486107926, -0.8532186469824303, -0.8604143052994739, -0.867516340591095, -0.8745239800737322, -0.8814364612351804, -0.8882530319175601, -0.8949729503991608, -0.9015954854751488, -0.9081199165371309, -0.914545533651566, -0.920871637637012, -0.9270975401402058, -0.9332225637109656, -0.9392460418759025, -0.9451673192109425, -0.9509857514126435, -0.9567007053683034, -0.9623115592248493, -0.9678177024565033, -0.9732185359312139, -0.978513471975849, -0.9837019344401414, -0.9887833587593804, -0.9937571920158439, -0.9986228929989605, -1.003379932264201, -1.0080277921906873, -1.0125659670375164, -1.0169939629987899, -1.0213112982573456, -1.0255175030371861, -1.029612119654595], \"y\": [0.7462820879027104, 0.7378118430468781, 0.7292613157311738, 0.7206314363518388, 0.7119231439395376, 0.703137386057179, 0.6942751186968111, 0.6853373061755968, 0.6763249210308869, 0.667238943914396, 0.658080363485496, 0.648850176303638, 0.6395493867199167, 0.6301790067677842, 0.6207400560529299, 0.6112335616423338, 0.6016605579525119, 0.5920220866369595, 0.5823191964728047, 0.5725529432466927, 0.562724389639902, 0.5528346051127137, 0.5428846657880392, 0.532875654334329, 0.5228086598477643, 0.5126847777337502, 0.5025051095877231, 0.49227076307528544, 0.4819828518116785, 0.47164249524060636, 0.4612508185124304, 0.45080895236173796, 0.44031803298430644, 0.42977920191347024, 0.4191936058959111, 0.4085623967668775, 0.39788673132485225, 0.38716777120567775], \"type\": \"scatter\", \"uid\": \"0307ff39-ff34-4fa0-b8ed-e456a8cc0791\"}, {\"line\": {\"color\": \"rgba(254,224,139, 0.75)\", \"shape\": \"spline\", \"width\": 0.25}, \"mode\": \"lines\", \"x\": [-1.0412653018109916, -1.0604431259197045, -1.075897086417086, -1.0875729150074205, -1.0954296107240773, -1.0994395839089508, -1.0995887530966038, -1.095876594462895, -1.0883161436644457, -1.0769339500624855, -1.061769983491827, -1.04287749390236, -1.0203228243659475, -0.9941851781053739, -0.9645563403634461, -0.9315403560889371, -0.8952531645712135, -0.8558221923065641, -0.8133859055259326, -0.7680933239553934, -0.7201034975168625, -0.6695849478066621, -0.61671507631325, -0.561679541452223, -0.5046716066062102, -0.4458914614590719, -0.3855455190076314, -0.3238456907195515, -0.2610086423827188, -0.1972550332593112, -0.13280874121632763, -0.06789607655363919, -0.0027449872902821026, 0.06241574130029019, 0.12735729009505797, 0.19185160964515177, 0.25567222099678727, 0.3185950109972084, 0.3803990192928821, 0.44086721425627423, 0.49978725511647015, 0.5569522376173398], \"y\": [0.35463582904786217, 0.29233606806147944, 0.22900973655988008, 0.16487921197732056, 0.10016969576122647, 0.03510842255233715, -0.030076137774925443, -0.09515508240975588, -0.1598998794225608, -0.22408317028017136, -0.28747956824053683, -0.34986644982326237, -0.41102473657663957, -0.47073966439592324, -0.5288015376912932, -0.5850064657571712, -0.639157078757036, -0.6910632208094906, -0.7405426177417197, -0.7874215171654604, -0.8315352986277746, -0.8727290516940236, -0.9108581199330347, -0.9457886088941971, -0.9773978562926701, -1.005574862751597, -1.0302206815887247, -1.0512487662786467, -1.0685852743705249, -1.082169326794041, -1.0919532216430037, -1.0979026016858793, -1.099996575015021, -1.0982277884109177, -1.092602453163841, -1.0831403232622099, -1.0698746260242693, -1.0528519454166805, -1.032132058469755, -1.0077877253637855, -0.979904433923607, -0.9485800994186196], \"type\": \"scatter\", \"uid\": \"2a7ef39c-2053-4f50-92e8-52d4a296e3a9\"}, {\"line\": {\"color\": \"rgba(217,239,139, 0.75)\", \"shape\": \"spline\", \"width\": 0.25}, \"mode\": \"lines\", \"x\": [0.58647303627805, 0.5935050719636233, 0.6005030569767009, 0.6074665898277147, 0.6143952710036896, 0.6212887029911669, 0.6281464902990124, 0.6349682394811021, 0.6417535591588974, 0.6485020600439017, 0.6552133549599892, 0.6618870588656244, 0.6685227888759471, 0.6751201642847418, 0.6816788065862819, 0.6881983394970411, 0.6946783889772834, 0.701118583252525], \"y\": [-0.9306177398474657, -0.9261488700816162, -0.9216268651475158, -0.9170519844823887, -0.9124244905570559, -0.9077446488608752, -0.9030127278865081, -0.8982289991145186, -0.8933937369977965, -0.8885072189458091, -0.8835697253086908, -0.8785815393611532, -0.8735429472862374, -0.8684542381588931, -0.8633157039293926, -0.8581276394065835, -0.8528903422409745, -0.8476041129076548], \"type\": \"scatter\", \"uid\": \"1e072577-d8bf-4154-a9ad-bbb2381c66b0\"}, {\"line\": {\"color\": \"rgba(166,217,106, 0.75)\", \"shape\": \"spline\", \"width\": 0.25}, \"mode\": \"lines\", \"x\": [0.7273965121393989, 0.7358595570030482, 0.7442444870331771, 0.7525504121313851, 0.7607764505860073, 0.7689217291657057, 0.7769853832121721, 0.784966556731913, 0.7928644024871154, 0.8006780820855893, 0.8084067660697621, 0.8160496340047337, 0.8236058745653669, 0.831074685622412, 0.83845527432766, 0.8457468571981052, 0.8529486601991133, 0.8600599188265937, 0.8670798781881495, 0.8740077930832175, 0.8808429280821723, 0.8875845576043944, 0.894231965995297, 0.9007844476022925, 0.907241306849704, 0.9136018583126024, 0.9198654267895654, 0.9260313473743572, 0.9320989655265075, 0.9380676371407964, 0.943936728615629, 0.9497056169202928, 0.9553736896610983, 0.9609403451463846, 0.966404992450394, 0.9717670514760008, 0.9770259530162893, 0.9821811388149806, 0.987232061625693, 0.992178185270033, 0.9970189846945161, 1.0017539460263005, 1.0063825666277397, 1.0109043551497388, 1.0153188315839117, 1.0196255273135395, 1.023823985163313], \"y\": [-0.8251632045404337, -0.8176250438723595, -0.8100000885930343, -0.8022891481260872, -0.794493041022863, -0.7866125948755343, -0.778648646229244, -0.7706020404933046, -0.762473631851456, -0.7542642831711857, -0.7459748659121359, -0.7376062600335902, -0.7291593539010641, -0.7206350441920024, -0.7120342358005889, -0.7033578417416899, -0.6946067830539361, -0.6857819887019441, -0.6768843954777093, -0.6679149479011558, -0.6588745981198738, -0.6497643058080459, -0.6405850380645697, -0.6313377693104009, -0.6220234811851088, -0.6126431624426731, -0.6031978088465265, -0.593688423063843, -0.5841160145591069, -0.574481599486949, -0.5647862005842781, -0.5550308470617165, -0.5452165744943376, -0.5353444247117434, -0.5254154456874617, -0.5154306914277028, -0.5053912218594738, -0.49529810271805796, -0.4851524054338842, -0.47495520701879274, -0.46470758995169903, -0.4544106420636912, -0.4440654564225451, -0.43367313121669315, -0.42323476963864964, -0.4127514797678948, -0.40222437445325504], \"type\": \"scatter\", \"uid\": \"fb7216da-96ca-46cb-ab17-230b7499eae0\"}, {\"line\": {\"color\": \"rgba(102,189,99, 0.75)\", \"shape\": \"spline\", \"width\": 0.25}, \"mode\": \"lines\", \"x\": [1.035952962751821, 1.039737599922788, 1.04341013421131, 1.0469701696504825, 1.05041732240285, 1.0537512208017916, 1.0569715053915951, 1.0600778289662107, 1.0630698566066867, 1.065947265717281, 1.0687097460602426, 1.071356999789259, 1.0738887414815723, 1.0763046981687518, 1.0786046093661243, 1.0807882271008606, 1.0828553159387106, 1.084805653009387, 1.0866390280305969, 1.0883552433307113, 1.08995411387008, 1.0914354672609812, 1.0927991437862081, 1.0940449964162902, 1.0951728908253444, 1.096182705405559, 1.0970743312803048, 1.0978476723158743, 1.0985026451318456, 1.099039179110074, 1.0994572164023046], \"y\": [-0.3698668124686571, -0.35909013256674244, -0.3482747361281552, -0.3374217892520282, -0.32653246208612646, -0.3156079287006811, -0.3046493669617999, -0.29365795840447717, -0.2826348881052001, -0.2715813445541725, -0.2604985195271791, -0.24938760795708798, -0.23824980780501126, -0.22708631993114897, -0.21589834796531096, -0.2046870981771409, -0.19345377934606367, -0.18219960263095378, -0.17092578143954743, -0.1596335312976204, -0.14832406971792902, -0.13699861606893712, -0.1256583914433513, -0.11430461852646179, -0.10293852146431144, -0.09156132573171617, -0.08017425800013311, -0.06877854600540007, -0.05737541841536859, -0.0459661046974282, -0.03455183498594412], \"type\": \"scatter\", \"uid\": \"ee575297-1222-470a-944c-13b5e6003ec4\"}, {\"marker\": {\"color\": \"rgba(26,152,80, 0.75)\", \"size\": 0.5}, \"mode\": \"markers\", \"x\": [0.6548287158565043], \"y\": [0.6174134375681516], \"type\": \"scatter\", \"uid\": \"5eea0956-3fd5-4d88-bd00-37199d8be854\"}, {\"marker\": {\"color\": \"rgba(26,152,80, 0.75)\", \"size\": 0.5}, \"mode\": \"markers\", \"text\": \"186 V\", \"x\": [0.8992669535622123], \"y\": [0.03631729933431159], \"type\": \"scatter\", \"uid\": \"12852a57-3d82-443e-ad6d-06fd9545bef8\"}, {\"marker\": {\"color\": \"rgba(26,152,80, 0.75)\", \"size\": 0.5}, \"mode\": \"markers\", \"text\": \"138 S\", \"x\": [-0.30762714382116246], \"y\": [0.8457928472057645], \"type\": \"scatter\", \"uid\": \"8d4c8d6d-a706-4d82-85e8-723317137813\"}, {\"marker\": {\"color\": \"rgba(26,152,80, 0.75)\", \"size\": 0.5}, \"mode\": \"markers\", \"text\": \"186 V\", \"x\": [0.8954710442143288], \"y\": [0.09017543442479067], \"type\": \"scatter\", \"uid\": \"2ce54498-5801-45b8-9994-b4bca7cfb5bd\"}, {\"marker\": {\"color\": \"rgba(26,152,80, 0.75)\", \"size\": 0.5}, \"mode\": \"markers\", \"text\": \"156 R/Q\", \"x\": [-0.7234156149845558], \"y\": [0.5354155843795706], \"type\": \"scatter\", \"uid\": \"8add8698-916c-4b5b-a6d5-cba09de19904\"}, {\"marker\": {\"color\": \"rgba(26,152,80, 0.75)\", \"size\": 0.5}, \"mode\": \"markers\", \"text\": \"186 V\", \"x\": [0.8189541702582397], \"y\": [0.3732479966679503], \"type\": \"scatter\", \"uid\": \"1e4505cb-00ad-46db-a389-223dfb44067f\"}, {\"marker\": {\"color\": \"rgba(26,152,80, 0.75)\", \"size\": 0.5}, \"mode\": \"markers\", \"text\": \"160 K\", \"x\": [-0.8200970645981159], \"y\": [-0.370730096751739], \"type\": \"scatter\", \"uid\": \"0f16f72c-1c8d-44a7-b748-5d36376763f1\"}, {\"marker\": {\"color\": \"rgba(26,152,80, 0.75)\", \"size\": 0.5}, \"mode\": \"markers\", \"text\": \"186 V\", \"x\": [0.8817334773463945], \"y\": [0.18040530736825644], \"type\": \"scatter\", \"uid\": \"21e535f5-0120-414b-ac32-aac10c5af5cc\"}, {\"marker\": {\"color\": \"rgba(26,152,80, 0.75)\", \"size\": 0.5}, \"mode\": \"markers\", \"text\": \"219 F/Y\", \"x\": [0.6764597785318608], \"y\": [-0.5936347092519321], \"type\": \"scatter\", \"uid\": \"f6c72cc2-e37b-4be9-bb45-c549a05ea428\"}, {\"marker\": {\"color\": \"rgba(26,152,80, 0.75)\", \"size\": 0.5}, \"mode\": \"markers\", \"text\": \"186 V\", \"x\": [0.8999657260450941], \"y\": [0.007854421947337265], \"type\": \"scatter\", \"uid\": \"67d09a79-77c4-44ad-b63f-3c49a58fbf39\"}, {\"marker\": {\"color\": \"rgba(26,152,80, 0.75)\", \"size\": 0.5}, \"mode\": \"markers\", \"text\": \"225 G\", \"x\": [0.8542039698229207], \"y\": [-0.28343531526392907], \"type\": \"scatter\", \"uid\": \"92b712bd-bf37-4b98-8832-026131e12bfe\"}, {\"marker\": {\"color\": \"rgba(215,48,39, 0.75)\", \"size\": 0.5}, \"mode\": \"markers\", \"x\": [-0.025259259357126074], \"y\": [0.8996454689580388], \"type\": \"scatter\", \"uid\": \"725c8b62-5cfc-4359-b30c-e52f55c72b80\"}, {\"marker\": {\"color\": \"rgba(215,48,39, 0.75)\", \"size\": 0.5}, \"mode\": \"markers\", \"text\": \"194 P\", \"x\": [0.5042608723151056], \"y\": [0.7454669494028617], \"type\": \"scatter\", \"uid\": \"832093ac-bba7-4286-beb2-67be9ee09fce\"}, {\"marker\": {\"color\": \"rgba(215,48,39, 0.75)\", \"size\": 0.5}, \"mode\": \"markers\", \"text\": \"138 S\", \"x\": [-0.2758362599533811], \"y\": [0.8566880165468237], \"type\": \"scatter\", \"uid\": \"0a0c8291-fd65-4ad9-b827-a95263d0c0a9\"}, {\"marker\": {\"color\": \"rgba(215,48,39, 0.75)\", \"size\": 0.5}, \"mode\": \"markers\", \"text\": \"194 P\", \"x\": [0.29031035968199964], \"y\": [0.851891950344237], \"type\": \"scatter\", \"uid\": \"71df25fd-830e-4152-9d3c-6db0b5005c10\"}, {\"marker\": {\"color\": \"rgba(215,48,39, 0.75)\", \"size\": 0.5}, \"mode\": \"markers\", \"text\": \"160 K\", \"x\": [-0.6497277798214236], \"y\": [-0.6227791037987096], \"type\": \"scatter\", \"uid\": \"459d7f58-7d6c-498a-a7b8-967206c82ab6\"}, {\"marker\": {\"color\": \"rgba(215,48,39, 0.75)\", \"size\": 0.5}, \"mode\": \"markers\", \"text\": \"194 P\", \"x\": [0.4503796187193883], \"y\": [0.7792035671390234], \"type\": \"scatter\", \"uid\": \"43939f20-31f7-4e43-8856-0ac88ee16cf6\"}, {\"marker\": {\"color\": \"rgba(215,48,39, 0.75)\", \"size\": 0.5}, \"mode\": \"markers\", \"text\": \"203 I\", \"x\": [0.5291568134553353], \"y\": [-0.7280062271531719], \"type\": \"scatter\", \"uid\": \"95a17bf9-5b04-4b6a-995d-90635f26e186\"}, {\"marker\": {\"color\": \"rgba(215,48,39, 0.75)\", \"size\": 0.5}, \"mode\": \"markers\", \"text\": \"194 P\", \"x\": [0.5179484792992876], \"y\": [0.7360226713842145], \"type\": \"scatter\", \"uid\": \"966f76cc-0dfd-43c5-82e7-9e096fb2f565\"}, {\"marker\": {\"color\": \"rgba(215,48,39, 0.75)\", \"size\": 0.5}, \"mode\": \"markers\", \"text\": \"219 F/Y\", \"x\": [0.5987054297908833], \"y\": [-0.6719760474443369], \"type\": \"scatter\", \"uid\": \"67701f91-3b5b-4220-ad2d-bb27434658a3\"}, {\"marker\": {\"color\": \"rgba(215,48,39, 0.75)\", \"size\": 0.5}, \"mode\": \"markers\", \"text\": \"194 P\", \"x\": [0.4813435007858166], \"y\": [0.7604659323409922], \"type\": \"scatter\", \"uid\": \"a2b167ba-f23d-40e5-9c8c-7f2db3da3b06\"}, {\"marker\": {\"color\": \"rgba(215,48,39, 0.75)\", \"size\": 0.5}, \"mode\": \"markers\", \"text\": \"225 G\", \"x\": [0.8661107425982616], \"y\": [-0.2446470550729926], \"type\": \"scatter\", \"uid\": \"7f5c03a2-2758-491c-a8c3-f3aaf373a075\"}, {\"marker\": {\"color\": \"rgba(244,109,67, 0.75)\", \"size\": 0.5}, \"mode\": \"markers\", \"x\": [-0.5782269328915303], \"y\": [0.6896764560856444], \"type\": \"scatter\", \"uid\": \"3725c4f1-48fb-4923-8f97-ddb6f48747f0\"}, {\"marker\": {\"color\": \"rgba(175,175,175,0.5)\", \"size\": 0.5}, \"mode\": \"markers\", \"text\": \"138 S\", \"x\": [-0.2519687296277089], \"y\": [0.8640091199112417], \"type\": \"scatter\", \"uid\": \"d72995ef-e309-4b3e-869c-c9160cbb3723\"}, {\"marker\": {\"color\": \"rgba(175,175,175,0.5)\", \"size\": 0.5}, \"mode\": \"markers\", \"text\": \"156 R/Q\", \"x\": [-0.6824269858623472], \"y\": [0.5867652076996658], \"type\": \"scatter\", \"uid\": \"2a3880c4-8d7c-4ff8-ab6c-fbc81415bf0b\"}, {\"marker\": {\"color\": \"rgba(175,175,175,0.5)\", \"size\": 0.5}, \"mode\": \"markers\", \"text\": \"138 S\", \"x\": [-0.44099139941064486], \"y\": [0.7845550239759103], \"type\": \"scatter\", \"uid\": \"1b233f5f-bf28-4fd5-b41a-d2a982777eb4\"}, {\"marker\": {\"color\": \"rgba(175,175,175,0.5)\", \"size\": 0.5}, \"mode\": \"markers\", \"text\": \"160 K\", \"x\": [-0.8875988483748215], \"y\": [-0.14889017551098085], \"type\": \"scatter\", \"uid\": \"f59472e1-ae96-4889-b080-81f341484276\"}, {\"marker\": {\"color\": \"rgba(175,175,175,0.5)\", \"size\": 0.5}, \"mode\": \"markers\", \"text\": \"138 S\", \"x\": [-0.22139851324795498], \"y\": [0.8723432227808015], \"type\": \"scatter\", \"uid\": \"a07ef487-123b-4a9e-a1b0-df697127a863\"}, {\"marker\": {\"color\": \"rgba(175,175,175,0.5)\", \"size\": 0.5}, \"mode\": \"markers\", \"text\": \"203 I\", \"x\": [0.48466503871653127], \"y\": [-0.7583533478833618], \"type\": \"scatter\", \"uid\": \"d5f14666-5420-488f-8990-1c1aa9559d37\"}, {\"marker\": {\"color\": \"rgba(175,175,175,0.5)\", \"size\": 0.5}, \"mode\": \"markers\", \"text\": \"138 S\", \"x\": [-0.23254870765968355], \"y\": [0.8694372309521896], \"type\": \"scatter\", \"uid\": \"16b67945-7a95-410f-9f89-3a4b628cefe9\"}, {\"marker\": {\"color\": \"rgba(175,175,175,0.5)\", \"size\": 0.5}, \"mode\": \"markers\", \"text\": \"219 F/Y\", \"x\": [0.6155720840004228], \"y\": [-0.6565599815701353], \"type\": \"scatter\", \"uid\": \"395f27cf-cf33-4143-b6a3-e41585e2c87f\"}, {\"marker\": {\"color\": \"rgba(175,175,175,0.5)\", \"size\": 0.5}, \"mode\": \"markers\", \"text\": \"138 S\", \"x\": [-0.3478647557351847], \"y\": [0.8300542823920013], \"type\": \"scatter\", \"uid\": \"e5ef781c-67b2-4a3a-8412-4f0928c2bc94\"}, {\"marker\": {\"color\": \"rgba(175,175,175,0.5)\", \"size\": 0.5}, \"mode\": \"markers\", \"text\": \"225 G\", \"x\": [0.8749780160775099], \"y\": [-0.21074503880534148], \"type\": \"scatter\", \"uid\": \"adcf56c7-73eb-48f7-bbb3-a11d97016410\"}, {\"marker\": {\"color\": \"rgba(253,174,97, 0.75)\", \"size\": 0.5}, \"mode\": \"markers\", \"x\": [-0.8213315234441815], \"y\": [0.36798713102071945], \"type\": \"scatter\", \"uid\": \"050f780e-a7fd-4992-9a2e-d3a8e7ee97fb\"}, {\"marker\": {\"color\": \"rgba(175,175,175,0.5)\", \"size\": 0.5}, \"mode\": \"markers\", \"text\": \"156 R/Q\", \"x\": [-0.7709068605089388], \"y\": [0.46443795325129467], \"type\": \"scatter\", \"uid\": \"17b4e3be-77d2-4f75-867f-cb634db568a5\"}, {\"marker\": {\"color\": \"rgba(175,175,175,0.5)\", \"size\": 0.5}, \"mode\": \"markers\", \"text\": \"160 K\", \"x\": [-0.8917384090765067], \"y\": [0.12166597625343281], \"type\": \"scatter\", \"uid\": \"39a08ef0-8bdb-44a9-ab72-ad36f5efa91a\"}, {\"marker\": {\"color\": \"rgba(175,175,175,0.5)\", \"size\": 0.5}, \"mode\": \"markers\", \"text\": \"156 R/Q\", \"x\": [-0.69690137668287], \"y\": [0.5694984382573147], \"type\": \"scatter\", \"uid\": \"0c8087da-65cc-44c4-9537-75210037ad08\"}, {\"marker\": {\"color\": \"rgba(175,175,175,0.5)\", \"size\": 0.5}, \"mode\": \"markers\", \"text\": \"219 F/Y\", \"x\": [0.6300052654667664], \"y\": [-0.6427233973367933], \"type\": \"scatter\", \"uid\": \"0dffd7c6-0f94-4923-b942-b71335029e52\"}, {\"marker\": {\"color\": \"rgba(175,175,175,0.5)\", \"size\": 0.5}, \"mode\": \"markers\", \"text\": \"156 R/Q\", \"x\": [-0.6681542377657295], \"y\": [0.6029675899712166], \"type\": \"scatter\", \"uid\": \"cd79bb86-d261-4f6f-8e1a-97b5a86aa145\"}, {\"marker\": {\"color\": \"rgba(175,175,175,0.5)\", \"size\": 0.5}, \"mode\": \"markers\", \"text\": \"225 G\", \"x\": [0.8595600117786507], \"y\": [-0.2667519187392769], \"type\": \"scatter\", \"uid\": \"a3a2264c-a8a7-4783-9cc0-26e1b00d08e2\"}, {\"marker\": {\"color\": \"rgba(254,224,139, 0.75)\", \"size\": 0.5}, \"mode\": \"markers\", \"x\": [-0.04534910695776427], \"y\": [-0.8988567508219167], \"type\": \"scatter\", \"uid\": \"dd133b09-424b-4979-9fdf-f99c0584d389\"}, {\"marker\": {\"color\": \"rgba(175,175,175,0.5)\", \"size\": 0.5}, \"mode\": \"markers\", \"text\": \"160 K\", \"x\": [-0.8581951112003559], \"y\": [0.2711109571961431], \"type\": \"scatter\", \"uid\": \"a6b73f7e-9bad-4864-8cf6-ea3b3f17c4c8\"}, {\"marker\": {\"color\": \"rgba(175,175,175,0.5)\", \"size\": 0.5}, \"mode\": \"markers\", \"text\": \"203 I\", \"x\": [0.5003750309148364], \"y\": [-0.7480807633116738], \"type\": \"scatter\", \"uid\": \"d2f28f76-6128-435d-9058-061cf289e3b4\"}, {\"marker\": {\"color\": \"rgba(175,175,175,0.5)\", \"size\": 0.5}, \"mode\": \"markers\", \"text\": \"160 K\", \"x\": [-0.8999999684415039], \"y\": [-0.00023833860789956027], \"type\": \"scatter\", \"uid\": \"d0d6fe8d-454c-43b3-afaa-4082a1c9ab8d\"}, {\"marker\": {\"color\": \"rgba(175,175,175,0.5)\", \"size\": 0.5}, \"mode\": \"markers\", \"text\": \"219 F/Y\", \"x\": [0.7482984143089219], \"y\": [-0.500049480694414], \"type\": \"scatter\", \"uid\": \"8bd11c26-8221-42e5-a399-da18f9d567fd\"}, {\"marker\": {\"color\": \"rgba(175,175,175,0.5)\", \"size\": 0.5}, \"mode\": \"markers\", \"text\": \"160 K\", \"x\": [-0.8739047531493904], \"y\": [0.21515223081089102], \"type\": \"scatter\", \"uid\": \"2f1e5f41-609e-495d-8474-170b2b8326fd\"}, {\"marker\": {\"color\": \"rgba(175,175,175,0.5)\", \"size\": 0.5}, \"mode\": \"markers\", \"text\": \"225 G\", \"x\": [0.8865927086254445], \"y\": [-0.15476875980700242], \"type\": \"scatter\", \"uid\": \"b4a256d2-6853-40f3-91ac-92e486eb1f70\"}, {\"marker\": {\"color\": \"rgba(217,239,139, 0.75)\", \"size\": 0.5}, \"mode\": \"markers\", \"x\": [0.5590549472874129], \"y\": [-0.7053067176154414], \"type\": \"scatter\", \"uid\": \"8fe76850-895e-40d5-992e-091112d3b4d3\"}, {\"marker\": {\"color\": \"rgba(175,175,175,0.5)\", \"size\": 0.5}, \"mode\": \"markers\", \"text\": \"203 I\", \"x\": [0.4805318296050379], \"y\": [-0.76097908035401], \"type\": \"scatter\", \"uid\": \"c16d4403-e31a-4579-a250-19c2406223b4\"}, {\"marker\": {\"color\": \"rgba(175,175,175,0.5)\", \"size\": 0.5}, \"mode\": \"markers\", \"text\": \"219 F/Y\", \"x\": [0.5958565019746989], \"y\": [-0.6745035426552449], \"type\": \"scatter\", \"uid\": \"f7171b89-d875-440d-acad-552ce963223e\"}, {\"marker\": {\"color\": \"rgba(175,175,175,0.5)\", \"size\": 0.5}, \"mode\": \"markers\", \"text\": \"203 I\", \"x\": [0.48191115256662337], \"y\": [-0.7601063353451994], \"type\": \"scatter\", \"uid\": \"a866a298-031c-4bee-9eeb-a3db408a45f4\"}, {\"marker\": {\"color\": \"rgba(175,175,175,0.5)\", \"size\": 0.5}, \"mode\": \"markers\", \"text\": \"225 G\", \"x\": [0.8479075261143659], \"y\": [-0.3017496100388795], \"type\": \"scatter\", \"uid\": \"0ac46fd0-f1f8-4e33-b3a6-f6b2eb642067\"}, {\"marker\": {\"color\": \"rgba(166,217,106, 0.75)\", \"size\": 0.5}, \"mode\": \"markers\", \"x\": [0.8114422325653833], \"y\": [-0.38930900735701773], \"type\": \"scatter\", \"uid\": \"3a61810f-6ccf-445f-96ac-1979992029a3\"}, {\"marker\": {\"color\": \"rgba(175,175,175,0.5)\", \"size\": 0.5}, \"mode\": \"markers\", \"text\": \"219 F/Y\", \"x\": [0.6050762413769442], \"y\": [-0.6662452567344477], \"type\": \"scatter\", \"uid\": \"2cf78555-793e-40eb-bf23-932e463e7663\"}, {\"marker\": {\"color\": \"rgba(175,175,175,0.5)\", \"size\": 0.5}, \"mode\": \"markers\", \"text\": \"225 G\", \"x\": [0.8500501118696179], \"y\": [-0.29565995215864144], \"type\": \"scatter\", \"uid\": \"6f58bf70-36ef-4868-83be-ef986fdddf66\"}, {\"marker\": {\"color\": \"rgba(102,189,99, 0.75)\", \"size\": 0.5}, \"mode\": \"markers\", \"x\": [0.8969277257430207], \"y\": [-0.07430110896516019], \"type\": \"scatter\", \"uid\": \"09e63bcb-81da-46a3-9ab3-2b880c6abee5\"}], {\"annotations\": [{\"align\": \"left\", \"showarrow\": false, \"text\": \"186 V\", \"valign\": \"bottom\", \"x\": 1.0771832769315495, \"y\": 0.528844200023985}, {\"align\": \"left\", \"showarrow\": false, \"text\": \"194 P\", \"valign\": \"bottom\", \"x\": 0.23989735157885472, \"y\": 1.1757760248897113}, {\"align\": \"left\", \"showarrow\": false, \"text\": \"138 S\", \"valign\": \"bottom\", \"x\": -0.5903875996368972, \"y\": 1.0447212461680784}, {\"align\": \"left\", \"showarrow\": false, \"text\": \"156 R/Q\", \"valign\": \"bottom\", \"x\": -1.0180609785937806, \"y\": 0.6352573052430596}, {\"align\": \"left\", \"showarrow\": false, \"text\": \"160 K\", \"valign\": \"bottom\", \"x\": -0.7855674518365772, \"y\": -0.9071294166848449}, {\"align\": \"left\", \"showarrow\": false, \"text\": \"203 I\", \"valign\": \"bottom\", \"x\": 0.7000947918097061, \"y\": -0.9746113494521415}, {\"align\": \"left\", \"showarrow\": false, \"text\": \"219 F/Y\", \"valign\": \"bottom\", \"x\": 0.9826739428388644, \"y\": -0.6887321119749826}, {\"align\": \"left\", \"showarrow\": false, \"text\": \"225 G\", \"valign\": \"bottom\", \"x\": 1.1790417022918478, \"y\": -0.2232950161932446}], \"height\": 800, \"hovermode\": false, \"margin\": {\"b\": 25, \"l\": 25, \"r\": 25, \"t\": 25}, \"shapes\": [{\"fillcolor\": \"rgba(175,175,175,0.5)\", \"layer\": \"below\", \"line\": {\"color\": \"rgba(175,175,175,0.5)\", \"width\": 0.5}, \"path\": \"M 0.8314471102192841, 0.555603908290791 Q 0.291034984825113, 0.2744059722525118 0.6035053489289487, 0.7973589491653981L 0.6035053489289487, 0.7973589491653981 L 0.6883140972806847, 0.7254127814456237 L 0.7646092435394496, 0.6444941463613387 L 0.8314471102192841, 0.555603908290791 \", \"type\": \"path\"}, {\"fillcolor\": \"rgba(26,152,80, 0.75)\", \"layer\": \"below\", \"line\": {\"color\": \"rgba(26,152,80, 0.75)\", \"width\": 0.5}, \"path\": \"M 0.9998476742120326, 0.01745360629753062 Q 0.1114463484533397, 0.16607140457169858 -0.3627762292278691, 0.931876283369852L -0.3627762292278691, 0.931876283369852 L -0.3418079375790694, 0.9397698302286273 L -0.3206680660921076, 0.9471916339309315 M -0.3206680660921076, 0.9471916339309315 Q 0.11136268380232904, 0.16612751926259084 0.9979989608390799, 0.0632303263008876L 0.9979989608390799, 0.0632303263008876 L 0.9991855039580136, 0.04035255481590177 L 0.9998476742120326, 0.01745360629753062 \", \"type\": \"path\"}, {\"fillcolor\": \"rgba(26,152,80, 0.75)\", \"layer\": \"below\", \"line\": {\"color\": \"rgba(26,152,80, 0.75)\", \"width\": 0.5}, \"path\": \"M 0.9979989608390799, 0.0632303263008876 Q 0.05319302238161842, 0.192796531011086 -0.8243844662518262, 0.5660302569674979L -0.8243844662518262, 0.5660302569674979 L -0.8037951277606175, 0.5949062048661895 L -0.7821948229995215, 0.6230339147050883 M -0.7821948229995215, 0.6230339147050883 Q 0.05287979481076291, 0.19288267755496247 0.9905680455862846, 0.13702170289179838L 0.9905680455862846, 0.13702170289179838 L 0.9949678269048097, 0.1001949271386563 L 0.9979989608390799, 0.0632303263008876 \", \"type\": \"path\"}, {\"fillcolor\": \"rgba(26,152,80, 0.75)\", \"layer\": \"below\", \"line\": {\"color\": \"rgba(26,152,80, 0.75)\", \"width\": 0.5}, \"path\": \"M 0.9647825100234171, 0.26304887065508414 Q -0.08297063042483137, 0.18197767579268082 -0.8312844625113848, -0.5558472293599728L -0.8312844625113848, -0.5558472293599728 L -0.8872245994155344, -0.4613377398305329 L -0.9324636165268921, -0.36126389779991724 L -0.966455870564449, -0.2568327281549471 M -0.966455870564449, -0.2568327281549471 Q -0.08235779584284675, 0.18225584617209944 0.8314471102192841, 0.555603908290791L 0.8314471102192841, 0.555603908290791 L 0.8863229814889982, 0.4630675679471117 L 0.9309402531814032, 0.3651715281981126 L 0.9647825100234171, 0.26304887065508414 \", \"type\": \"path\"}, {\"fillcolor\": \"rgba(26,152,80, 0.75)\", \"layer\": \"below\", \"line\": {\"color\": \"rgba(26,152,80, 0.75)\", \"width\": 0.5}, \"path\": \"M 0.9905680455862846, 0.13702170289179838 Q -0.19326751612238824, 0.05145548767510038 0.7913015084921592, -0.6114261383503597L 0.7913015084921592, -0.6114261383503597 L 0.7516219761465119, -0.6595941213910356 L 0.709015161912292, -0.7051932360555413 M 0.709015161912292, -0.7051932360555413 Q -0.1933673039524736, 0.05107921066492417 0.9647825100234171, 0.26304887065508414L 0.9647825100234171, 0.26304887065508414 L 0.9797038637182162, 0.20045034152028493 L 0.9905680455862846, 0.13702170289179838 \", \"type\": \"path\"}, {\"fillcolor\": \"rgba(26,152,80, 0.75)\", \"layer\": \"below\", \"line\": {\"color\": \"rgba(26,152,80, 0.75)\", \"width\": 0.5}, \"path\": \"M 1.0, 0.0 Q -0.19756848200312524, 0.03109171785187791 0.9516652540509608, -0.30713717494324944L 0.9516652540509608, -0.30713717494324944 L 0.9491155220254675, -0.31492812807103227 L 0.9465020093571291, -0.32269791800214187 M 0.9465020093571291, -0.32269791800214187 Q -0.1975849222540315, 0.030987069849670146 0.9998476742120326, 0.01745360629753062L 0.9998476742120326, 0.01745360629753062 L 0.9999619178278822, 0.008727135497041405 L 1.0, 0.0 \", \"type\": \"path\"}, {\"fillcolor\": \"rgba(175,175,175,0.5)\", \"layer\": \"below\", \"line\": {\"color\": \"rgba(175,175,175,0.5)\", \"width\": 0.5}, \"path\": \"M 0.15713981188646386, 0.9875763664245346 Q -0.011226337492056032, 0.3998424306480173 -0.21230474753717782, 0.9772035070409721L -0.21230474753717782, 0.9772035070409721 L -0.08990242897000673, 0.9959505777222547 L 0.03387843368690882, 0.9994259611051345 L 0.15713981188646386, 0.9875763664245346 \", \"type\": \"path\"}, {\"fillcolor\": \"rgba(215,48,39, 0.75)\", \"layer\": \"below\", \"line\": {\"color\": \"rgba(215,48,39, 0.75)\", \"width\": 0.5}, \"path\": \"M 0.5728285960319157, 0.8196751793046464 Q 0.028256924648656007, 0.19799380346212903 -0.3206680660921076, 0.9471916339309315L -0.3206680660921076, 0.9471916339309315 L -0.3064847332815346, 0.9518755739409152 L -0.2922330218195183, 0.9563471445862286 M -0.2922330218195183, 0.9563471445862286 Q 0.02820148484166801, 0.1980017077015377 0.547621385654528, 0.8367262503195503L 0.547621385654528, 0.8367262503195503 L 0.5602898581278951, 0.8282966104476241 L 0.5728285960319157, 0.8196751793046464 \", \"type\": \"path\"}, {\"fillcolor\": \"rgba(215,48,39, 0.75)\", \"layer\": \"below\", \"line\": {\"color\": \"rgba(215,48,39, 0.75)\", \"width\": 0.5}, \"path\": \"M 0.47862387091121433, 0.8780200397450877 Q -0.16887393808570925, 0.10715219566310363 -0.5905423473492979, -0.8070066517614221L -0.5905423473492979, -0.8070066517614221 L -0.6803880354706935, -0.7328520459058093 L -0.7610000732975986, -0.6487517926303169 L -0.8312844625113848, -0.5558472293599728 M -0.8312844625113848, -0.5558472293599728 Q -0.16842290242097646, 0.1078597512517725 0.15713981188646386, 0.9875763664245346L 0.15713981188646386, 0.9875763664245346 L 0.2682327819410025, 0.9633541273551438 L 0.3758579407229071, 0.9266772946368848 L 0.47862387091121433, 0.8780200397450877 \", \"type\": \"path\"}, {\"fillcolor\": \"rgba(215,48,39, 0.75)\", \"layer\": \"below\", \"line\": {\"color\": \"rgba(215,48,39, 0.75)\", \"width\": 0.5}, \"path\": \"M 0.5219069998501529, 0.8530023936117721 Q -0.19974857024096454, -0.01002540207126157 0.6046936026382547, -0.7964581890647924L 0.6046936026382547, -0.7964581890647924 L 0.5879520149503725, -0.8088958079479687 L 0.5709546827631782, -0.8209815772785638 M 0.5709546827631782, -0.8209815772785638 Q -0.19970532378938255, -0.010852817614696982 0.47862387091121433, 0.8780200397450877L 0.47862387091121433, 0.8780200397450877 L 0.5004217985770981, 0.8657817412655815 L 0.5219069998501529, 0.8530023936117721 \", \"type\": \"path\"}, {\"fillcolor\": \"rgba(215,48,39, 0.75)\", \"layer\": \"below\", \"line\": {\"color\": \"rgba(215,48,39, 0.75)\", \"width\": 0.5}, \"path\": \"M 0.5781619056192703, 0.8159220617747102 Q -0.19967233825424602, -0.011443659208573539 0.66759454754554, -0.7445250298596184L 0.66759454754554, -0.7445250298596184 L 0.6652282553232036, -0.7466400527159299 L 0.6628552624824542, -0.7487475549204262 M 0.6628552624824542, -0.7487475549204262 Q -0.19967134174505402, -0.011461033362217186 0.5728285960319157, 0.8196751793046464L 0.5728285960319157, 0.8196751793046464 L 0.5754983103325417, 0.8178029682046828 L 0.5781619056192703, 0.8159220617747102 \", \"type\": \"path\"}, {\"fillcolor\": \"rgba(215,48,39, 0.75)\", \"layer\": \"below\", \"line\": {\"color\": \"rgba(215,48,39, 0.75)\", \"width\": 0.5}, \"path\": \"M 0.547621385654528, 0.8367262503195503 Q -0.1868130026730972, -0.07142059949525335 0.9661457258016528, -0.2579969699729002L 0.9661457258016528, -0.2579969699729002 L 0.962345269553624, -0.271830061192214 L 0.9583467646889321, -0.28560721036111214 M 0.9583467646889321, -0.28560721036111214 Q -0.18675071720588976, -0.07158330547750492 0.5219069998501529, 0.8530023936117721L 0.5219069998501529, 0.8530023936117721 L 0.5348261119842407, 0.844962147045547 L 0.547621385654528, 0.8367262503195503 \", \"type\": \"path\"}, {\"fillcolor\": \"rgba(175,175,175,0.5)\", \"layer\": \"below\", \"line\": {\"color\": \"rgba(175,175,175,0.5)\", \"width\": 0.5}, \"path\": \"M -0.5660447834484145, 0.8243744920428079 Q -0.25698974795179125, 0.3065228693713975 -0.7129846502997039, 0.7011796406321342L -0.7129846502997039, 0.7011796406321342 L -0.642474369879478, 0.7663071734284937 L -0.5660447834484145, 0.8243744920428079 \", \"type\": \"path\"}, {\"fillcolor\": \"rgba(175,175,175,0.5)\", \"layer\": \"below\", \"line\": {\"color\": \"rgba(175,175,175,0.5)\", \"width\": 0.5}, \"path\": \"M -0.2676515977956764, 0.9635157612605108 Q -0.10827140948837621, 0.16815856174278002 -0.7663535739615599, 0.6424190218824035L -0.7663535739615599, 0.6424190218824035 L -0.758252206513719, 0.6519613418885175 L -0.7500320300247143, 0.6614015073591881 M -0.7500320300247143, 0.6614015073591881 Q -0.10831940579670503, 0.16812764890953763 -0.2922330218195183, 0.9563471445862286L -0.2922330218195183, 0.9563471445862286 L -0.27996525514189874, 0.9600101332347131 L -0.2676515977956764, 0.9635157612605108 \", \"type\": \"path\"}, {\"fillcolor\": \"rgba(175,175,175,0.5)\", \"layer\": \"below\", \"line\": {\"color\": \"rgba(175,175,175,0.5)\", \"width\": 0.5}, \"path\": \"M -0.4100031474354963, 0.9120841074665136 Q -0.18058255720951188, 0.0859647604060721 -0.966455870564449, -0.2568327281549471L -0.966455870564449, -0.2568327281549471 L -0.9862209426386905, -0.16543352834553426 L -0.9973620334915563, -0.0725876997127453 M -0.9973620334915563, -0.0725876997127453 Q -0.18024378071637584, 0.08667283030492906 -0.5660447834484145, 0.8243744920428079L -0.5660447834484145, 0.8243744920428079 L -0.4899904437896054, 0.871727804417678 L -0.4100031474354963, 0.9120841074665136 \", \"type\": \"path\"}, {\"fillcolor\": \"rgba(175,175,175,0.5)\", \"layer\": \"below\", \"line\": {\"color\": \"rgba(175,175,175,0.5)\", \"width\": 0.5}, \"path\": \"M -0.24289469189016547, 0.9700526628238189 Q -0.18355366980910703, -0.07942323526279516 0.5408069674411983, -0.8411467315320524L 0.5408069674411983, -0.8411467315320524 L 0.5385167096850347, -0.8426148309815131 L 0.5362224665839488, -0.8440766945785353 M 0.5362224665839488, -0.8440766945785353 Q -0.1835154972603739, -0.07951139707788883 -0.2490994839989301, 0.968477902211231L -0.2490994839989301, 0.968477902211231 L -0.2459983480532833, 0.9692702475342239 L -0.24289469189016547, 0.9700526628238189 \", \"type\": \"path\"}, {\"fillcolor\": \"rgba(175,175,175,0.5)\", \"layer\": \"below\", \"line\": {\"color\": \"rgba(175,175,175,0.5)\", \"width\": 0.5}, \"path\": \"M -0.2490994839989301, 0.968477902211231 Q -0.17481863221395336, -0.09715166406625526 0.6908837258041872, -0.7229658895265562L 0.6908837258041872, -0.7229658895265562 L 0.6839689822226921, -0.7295110906334836 L 0.6769922345710143, -0.7359901591261562 M 0.6769922345710143, -0.7359901591261562 Q -0.17481075854606234, -0.09716583091061534 -0.2676515977956764, 0.9635157612605108L -0.2676515977956764, 0.9635157612605108 L -0.25838745295520393, 0.9660413677246551 L -0.2490994839989301, 0.968477902211231 \", \"type\": \"path\"}, {\"fillcolor\": \"rgba(175,175,175,0.5)\", \"layer\": \"below\", \"line\": {\"color\": \"rgba(175,175,175,0.5)\", \"width\": 0.5}, \"path\": \"M -0.3627762292278691, 0.931876283369852 Q -0.12970680227835055, -0.15223713555740886 0.9776619058610662, -0.21018372398477422L 0.9776619058610662, -0.21018372398477422 L 0.9721977956416776, -0.2341611542281572 L 0.9661457258016528, -0.2579969699729002 M 0.9661457258016528, -0.2579969699729002 Q -0.12955247181175422, -0.1523684909929367 -0.4100031474354963, 0.9120841074665136L -0.4100031474354963, 0.9120841074665136 L -0.38651639526131637, 0.9222825359911125 L -0.3627762292278691, 0.931876283369852 \", \"type\": \"path\"}, {\"fillcolor\": \"rgba(175,175,175,0.5)\", \"layer\": \"below\", \"line\": {\"color\": \"rgba(175,175,175,0.5)\", \"width\": 0.5}, \"path\": \"M -0.8857145577615321, 0.4642302469349596 Q -0.3650362326418584, 0.16354983600920867 -0.9360110178678135, 0.35197070109607104L -0.9360110178678135, 0.35197070109607104 L -0.912590581604646, 0.4088745900230216 L -0.8857145577615321, 0.4642302469349596 \", \"type\": \"path\"}, {\"fillcolor\": \"rgba(175,175,175,0.5)\", \"layer\": \"below\", \"line\": {\"color\": \"rgba(175,175,175,0.5)\", \"width\": 0.5}, \"path\": \"M -0.8243844662518262, 0.5660302569674979 Q -0.18875664331420794, 0.06611300632063925 -0.9974003390475628, 0.07205944537537608L -0.9974003390475628, 0.07205944537537608 L -0.9908204545294519, 0.1351844180593698 L -0.9802494886876234, 0.19776486019425393 M -0.9802494886876234, 0.19776486019425393 Q -0.18848940620023663, 0.06687109801911584 -0.8857145577615321, 0.4642302469349596L -0.8857145577615321, 0.4642302469349596 L -0.8565631783432652, 0.5160421702792163 L -0.8243844662518262, 0.5660302569674979 \", \"type\": \"path\"}, {\"fillcolor\": \"rgba(175,175,175,0.5)\", \"layer\": \"below\", \"line\": {\"color\": \"rgba(175,175,175,0.5)\", \"width\": 0.5}, \"path\": \"M -0.7663535739615599, 0.6424190218824035 Q -0.13488315281164429, -0.14767035954310742 0.709015161912292, -0.7051932360555413L 0.709015161912292, -0.7051932360555413 L 0.7000058505186293, -0.7141371081519925 L 0.6908837258041872, -0.7229658895265562 M 0.6908837258041872, -0.7229658895265562 Q -0.13490934695055942, -0.14764642936885938 -0.7821948229995215, 0.6230339147050883L -0.7821948229995215, 0.6230339147050883 L -0.7743348629809667, 0.6327760425081275 L -0.7663535739615599, 0.6424190218824035 \", \"type\": \"path\"}, {\"fillcolor\": \"rgba(175,175,175,0.5)\", \"layer\": \"below\", \"line\": {\"color\": \"rgba(175,175,175,0.5)\", \"width\": 0.5}, \"path\": \"M -0.7346574201770055, 0.6784382617297368 Q -0.09896568067300109, -0.17379814167283142 0.9583467646889321, -0.28560721036111214L 0.9583467646889321, -0.28560721036111214 L 0.9550666797540563, -0.29639102082141877 L 0.9516652540509608, -0.30713717494324944 M 0.9516652540509608, -0.30713717494324944 Q -0.09893043698212198, -0.1738182057165658 -0.7500320300247143, 0.6614015073591881L -0.7500320300247143, 0.6614015073591881 L -0.7423935975174771, 0.6699639888569073 L -0.7346574201770055, 0.6784382617297368 \", \"type\": \"path\"}, {\"fillcolor\": \"rgba(175,175,175,0.5)\", \"layer\": \"below\", \"line\": {\"color\": \"rgba(175,175,175,0.5)\", \"width\": 0.5}, \"path\": \"M -0.5905423473492979, -0.8070066517614221 Q -0.02015515864789523, -0.3994918892541852 0.5063202160157634, -0.8623455449260178L 0.5063202160157634, -0.8623455449260178 L 0.4272763704705282, -0.9041210666926924 L 0.34481725202603053, -0.9386698368996508 L 0.2596019666192789, -0.9657157029516517 L 0.17231165057085224, -0.9850424838947549 L 0.08364402617800734, -0.9964956983774355 L -0.005692175265977483, -0.9999837994391416 L -0.09498287844872605, -0.9954789062564784 L -0.18351437173109414, -0.9830170269980789 L -0.27057901193261386, -0.9626977710068567 L -0.3554808806109974, -0.9346835526102029 L -0.4375413466243572, -0.8991982929221698 L -0.5161044905138948, -0.8565256300142997 L -0.5905423473492979, -0.8070066517614221 \", \"type\": \"path\"}, {\"fillcolor\": \"rgba(175,175,175,0.5)\", \"layer\": \"below\", \"line\": {\"color\": \"rgba(175,175,175,0.5)\", \"width\": 0.5}, \"path\": \"M -0.9466048198281742, 0.3223962082253292 Q -0.12035056235268443, -0.15973647717848488 0.5709546827631782, -0.8209815772785638L 0.5709546827631782, -0.8209815772785638 L 0.5559722565720404, -0.831200848124082 L 0.5408069674411983, -0.8411467315320524 M 0.5408069674411983, -0.8411467315320524 Q -0.11968873289943932, -0.16023297793190602 -0.9600224096832635, 0.2799231553586454L -0.9600224096832635, 0.2799231553586454 L -0.9535501235559509, 0.3012343968846034 L -0.9466048198281742, 0.3223962082253292 \", \"type\": \"path\"}, {\"fillcolor\": \"rgba(175,175,175,0.5)\", \"layer\": \"below\", \"line\": {\"color\": \"rgba(175,175,175,0.5)\", \"width\": 0.5}, \"path\": \"M -0.9974003390475628, 0.07205944537537608 Q -0.0583827763107448, -0.19128892134739414 0.8676538802249267, -0.49716872802965834L 0.8676538802249267, -0.49716872802965834 L 0.8314426825654687, -0.5556105341049045 L 0.7913015084921592, -0.6114261383503597 M 0.7913015084921592, -0.6114261383503597 Q -0.05768949669709816, -0.19149914352507036 -0.9973620334915563, -0.0725876997127453L -0.9973620334915563, -0.0725876997127453 L -0.9999999649350043, -0.00026482067544395584 L -0.9974003390475628, 0.07205944537537608 \", \"type\": \"path\"}, {\"fillcolor\": \"rgba(175,175,175,0.5)\", \"layer\": \"below\", \"line\": {\"color\": \"rgba(175,175,175,0.5)\", \"width\": 0.5}, \"path\": \"M -0.9600224096832635, 0.2799231553586454 Q -0.041457207799020505, -0.19565607560591836 0.9910506786022707, -0.13348615074972664L 0.9910506786022707, -0.13348615074972664 L 0.9851030095838272, -0.17196528867444713 L 0.9776619058610662, -0.21018372398477422 M 0.9776619058610662, -0.21018372398477422 Q -0.040795679050428524, -0.19579507800456689 -0.9802494886876234, 0.19776486019425393L -0.9802494886876234, 0.19776486019425393 L -0.9710052812771005, 0.23905803423432334 L -0.9600224096832635, 0.2799231553586454 \", \"type\": \"path\"}, {\"fillcolor\": \"rgba(175,175,175,0.5)\", \"layer\": \"below\", \"line\": {\"color\": \"rgba(175,175,175,0.5)\", \"width\": 0.5}, \"path\": \"M 0.6046936026382547, -0.7964581890647924 Q 0.3105860818263405, -0.39183706534191187 0.6373805302295674, -0.770549193552414L 0.6373805302295674, -0.770549193552414 L 0.621172163652681, -0.7836741306838237 L 0.6046936026382547, -0.7964581890647924 \", \"type\": \"path\"}, {\"fillcolor\": \"rgba(175,175,175,0.5)\", \"layer\": \"below\", \"line\": {\"color\": \"rgba(175,175,175,0.5)\", \"width\": 0.5}, \"path\": \"M 0.5331573057073181, -0.8460161271340596 Q 0.11999613487143551, -0.1600028987734793 0.6628552624824542, -0.7487475549204262L 0.6628552624824542, -0.7487475549204262 L 0.6620627799718876, -0.7494483807280499 L 0.6612695564903626, -0.7501483677640306 M 0.6612695564903626, -0.7501483677640306 Q 0.1199719548100783, -0.16002103005245447 0.5346907654860796, -0.845047800602966L 0.5346907654860796, -0.845047800602966 L 0.5339242551167087, -0.8455323115044555 L 0.5331573057073181, -0.8460161271340596 \", \"type\": \"path\"}, {\"fillcolor\": \"rgba(175,175,175,0.5)\", \"layer\": \"below\", \"line\": {\"color\": \"rgba(175,175,175,0.5)\", \"width\": 0.5}, \"path\": \"M 0.5346907654860796, -0.845047800602966 Q 0.15629565450316263, -0.12478649118966373 0.9424625370052027, -0.3343117801420061L 0.9424625370052027, -0.3343117801420061 L 0.9421194734604066, -0.3352773444876439 L 0.9417754206834734, -0.33624255678968823 M 0.9417754206834734, -0.33624255678968823 Q 0.15628094145706659, -0.12480491711985123 0.5362224665839488, -0.8440766945785353L 0.5362224665839488, -0.8440766945785353 L 0.5354568361851371, -0.8445625948279993 L 0.5346907654860796, -0.845047800602966 \", \"type\": \"path\"}, {\"fillcolor\": \"rgba(175,175,175,0.5)\", \"layer\": \"below\", \"line\": {\"color\": \"rgba(175,175,175,0.5)\", \"width\": 0.5}, \"path\": \"M 0.8676538802249267, -0.49716872802965834 Q 0.4508012403141018, -0.21628278186500985 0.9307490774211936, -0.3656585222302318L 0.9307490774211936, -0.3656585222302318 L 0.9016024806282036, -0.4325655637300197 L 0.8676538802249267, -0.49716872802965834 \", \"type\": \"path\"}, {\"fillcolor\": \"rgba(175,175,175,0.5)\", \"layer\": \"below\", \"line\": {\"color\": \"rgba(175,175,175,0.5)\", \"width\": 0.5}, \"path\": \"M 0.66759454754554, -0.7445250298596184 Q 0.1668306269035476, -0.11030658152154522 0.9465020093571291, -0.32269791800214187L 0.9465020093571291, -0.32269791800214187 L 0.9445001242995754, -0.32851105795404606 L 0.9424625370052027, -0.3343117801420061 M 0.9424625370052027, -0.3343117801420061 Q 0.16685260793060186, -0.11027332962578425 0.6769922345710143, -0.7359901591261562L 0.6769922345710143, -0.7359901591261562 L 0.6723069348632713, -0.7402725074827197 L 0.66759454754554, -0.7445250298596184 \", \"type\": \"path\"}, {\"fillcolor\": \"rgba(175,175,175,0.5)\", \"layer\": \"below\", \"line\": {\"color\": \"rgba(175,175,175,0.5)\", \"width\": 0.5}, \"path\": \"M 0.9910506786022707, -0.13348615074972664 Q 0.49829318096834485, -0.04127839386953344 0.9995065603657315, -0.03141075907812924L 0.9995065603657315, -0.03141075907812924 L 0.9965863619366897, -0.08255678773906688 L 0.9910506786022707, -0.13348615074972664 \", \"type\": \"path\"}, {\"fillcolor\": \"rgba(26,152,80, 0.75)\", \"layer\": \"below\", \"line\": {\"color\": \"rgba(26,152,80, 0.75)\", \"width\": 0.45}, \"path\": \"M 1.1, 0.0 L 1.0999434293201293, 0.01115581890647118 L 1.0997737230991382, 0.022310490372469533 L 1.0994908987922931, 0.03346286707554312 L 1.099094985489709, 0.04461180192926963 L 1.0985860239133582, 0.05575614820124087 L 1.0979640664128811, 0.0668947596310108 L 1.0972291769602027, 0.07802649054799504 L 1.096381431142952, 0.08915019598930979 L 1.095420916156688, 0.10026473181753771 L 1.0943477307959295, 0.11136895483840935 L 1.0931619854439965, 0.12246172291838693 L 1.0918638020616533, 0.13354189510213973 L 1.0904533141745665, 0.14460833172989765 L 1.0889306668595704, 0.15565989455467208 L 1.087296016729744, 0.16669544685933085 L 1.0855495319183048, 0.17771385357351657 L 1.0836913920613127, 0.18871398139039483 L 1.0817217882791952, 0.19969469888322144 L 1.0796409231570883, 0.21065487662171636 L 1.0774490107240007, 0.22159338728823202 L 1.075146276430799, 0.2325091057937045 L 1.0727329571270188, 0.2434009093933753 L 1.0702093010365028, 0.2542676778022724 L 1.0675755677318712, 0.2651082933104377 L 1.0648320281078212, 0.2759216408978904 L 1.0619789643532653, 0.2867066083493128 L 1.0590166699223058, 0.2974620863684483 L 1.0559454495040517, 0.308186968692199 L 1.0527656189912795, 0.31888015220441107 L 1.049477505447942, 0.32954053704933667 L 1.0460814470755275, 0.34016702674476074 L 1.042577793178274, 0.35075852829478016 L 1.038966904127242, 0.3613139523022248 L 1.035249151323247, 0.3718322130807084 L 1.031424917158659, 0.38231222876629767 L 1.027494594978072, 0.3927529214287885 L 1.023458589037846, 0.40315321718257646 L 1.0193173144645264, 0.4135120462971134 L 1.0150711972121462, 0.42382834330693425 L 1.0107206740184138, 0.43410104712124714 L 1.006266192359793, 0.44432910113307234 L 1.0017082104054762, 0.4545114533279202 L 0.9970471969702598, 0.4646470563919975 L 0.9922836314663236, 0.4747348678199291 L 0.9874180038539204, 0.4847738500219863 L 0.9824508145909816, 0.4947629704308084 L 0.9773825745816408, 0.5047012016076083 L 0.9722138051236854, 0.5145875213478509 L 0.966945037854938, 0.5244209127863921 L 0.9615768146985739, 0.5342003645020702 L 0.9561096878073817, 0.5439248706217352 L 0.9505442195069707, 0.5535934309237098 L 0.9448809822379327, 0.5632050509406675 L 0.9391205584969634, 0.5727587420619189 L 0.9332635407769491, 0.5822535216350969 L 0.9273105315060248, 0.5916884130672275 L 0.921262142985612, 0.6010624459251782 L 0.9151189973274395, 0.6103746560354731 L 0.908881726389555, 0.6196240855834627 L 0.902550971711336, 0.6288097832118417 L 0.8961273844475027, 0.6379308041185013 L 0.8896116253011441, 0.6469862101537072 L 0.8830043644557595, 0.6559750699165942 L 0.8763062815063273, 0.6648964588509656 L 0.8695180653894042, 0.67374945934039 L 0.8626404143122649, 0.6825331608025826 L 0.8556740356810862, 0.6912466597830643 L 0.8486196460281867, 0.6998890600480874 L 0.8414779709383283, 0.7084594726768173 L 0.8342497449740839, 0.7169570161527651 L 0.8269357116002845, 0.725380816454455 L 0.8195366231075492, 0.7337300071453227 L 0.8120532405349079, 0.7420037294628344 L 0.8044863335915243, 0.7502011324068145 L 0.7968366805775261, 0.7583213728269762 L 0.7891050683039528, 0.7663636155096446 L 0.7812922920118277, 0.7743270332636626 L 0.7733991552903628, 0.7822108070054731 L 0.7654264699943046, 0.7900141258433663 L 0.7573750561604307, 0.7977361871608839 L 0.7492457419232034, 0.805376196699374 L 0.7410393634295929, 0.8129333686396837 L 0.7327567647530728, 0.820406925682987 L 0.7243987978068035, 0.8277960991307328 L 0.7159663222560078, 0.8351001289637108 L 0.7074602054295491, 0.8423182639202242 L 0.698881322230722, 0.8494497615733599 L 0.6902305550472628, 0.8564938884073533 L 0.6815087936605915, 0.8634499198930332 L 0.6727169351542923, 0.8703171405623445 L 0.6638558838218436, 0.8770948440819379 L 0.6035053489289487, 0.7973589491653981 L 0.6115608501402657, 0.7911974005112222 L 0.6195534487823559, 0.7849544726300302 L 0.6274823227702389, 0.7786308076430484 L 0.6353466565733835, 0.7722270559757817 L 0.6431456412995901, 0.7657438762911128 L 0.6508784747781888, 0.7591819354215552 L 0.6585443616425486, 0.7525419083006661 L 0.6661425134118844, 0.7458244778936245 L 0.6736721485723571, 0.7390303351269851 L 0.6811324926574576, 0.7321601788176126 L 0.6885227783276642, 0.7252147156008035 L 0.6958422454493678, 0.7181946598576057 L 0.7030901411730571, 0.7111007336413391 L 0.7102657200107524, 0.7039336666033296 L 0.7173682439126843, 0.6966941959178586 L 0.7243969823432055, 0.6893830662063419 L 0.7313512123559311, 0.6820010294607404 L 0.738230218668098, 0.674548844966213 L 0.7450332937341355, 0.6670272792230205 L 0.7517597378184403, 0.6594371058676862 L 0.7584088590673489, 0.6517791055934228 L 0.7649799735802985, 0.6440540660698338 L 0.7714724054801697, 0.6362627818618976 L 0.7778854869828056, 0.6284060543482403 L 0.7842185584656953, 0.6204846916387114 L 0.790470968535822, 0.6124995084912636 L 0.7966420740966611, 0.6044513262281505 L 0.8027312404143268, 0.5963409726514491 L 0.8087378411828582, 0.5881692819579155 L 0.8146612585886388, 0.579937094653183 L 0.8205008833739418, 0.5716452574653106 L 0.8262561148995954, 0.5632946232576933 L 0.8319263612067631, 0.5548860509413391 L 0.8375110390778291, 0.5464204053865256 L 0.8430095740963861, 0.5378985573338432 L 0.8484214007063172, 0.5293213833046335 L 0.8537459622699667, 0.5206897655108353 L 0.8589827111253933, 0.5120045917642432 L 0.8641311086427005, 0.5032667553851907 L 0.8691906252794378, 0.4944771551106683 L 0.8741607406350671, 0.48563669500188195 L 0.879040943504489, 0.47674628435126554 L 0.883830731930623, 0.4678068375889553 L 0.888529613256037, 0.4588192741887348 L 0.8931371041736196, 0.44978451857346213 L 0.8976527307762913, 0.44070350001998754 L 0.9020760286057486, 0.4315771525635719 L 0.9064065427002361, 0.42240641490181585 L 0.910643827641342, 0.41319223029810925 L 0.9147874475998119, 0.40393554648461116 L 0.9188369763803762, 0.3946373155647701 L 0.9227919974655874, 0.3852984939153947 L 0.9266521040586603, 0.3759200420882849 L 0.9304168991253144, 0.36650292471143314 L 0.9340859954346108, 0.35704811038980766 L 0.9376590155987807, 0.3475565716057251 L 0.9411355921120426, 0.3380292846188258 L 0.9445153673884018, 0.32846722936565886 L 0.9477979937984309, 0.31887138935889103 L 0.9509831337050249, 0.3092427515861461 L 0.954070459498129, 0.2995823064084879 L 0.9570596536284358, 0.2898910474585555 L 0.9599504086400469, 0.2801699715383627 L 0.9627424272020961, 0.27042007851677113 L 0.965435422139332, 0.26064237122664796 L 0.9680291164616556, 0.25083785536171854 L 0.9705232433926101, 0.2410075393731252 L 0.9729175463968207, 0.23115243436570215 L 0.9752117792063806, 0.22127355399397752 L 0.9774057058461808, 0.21137191435791317 L 0.9794991006581824, 0.20144853389839273 L 0.9814917483246256, 0.1915044332924694 L 0.9833834438901773, 0.1815406353483831 L 0.9851739927830115, 0.1715581649003589 L 0.9868632108348225, 0.16155804870319687 L 0.9884509242997673, 0.1515413153266644 L 0.9899369698723366, 0.14150899504970188 L 0.9913211947041514, 0.1314621197544524 L 0.9926034564196847, 0.12140172282012701 L 0.9937836231309058, 0.11132883901671538 L 0.994861573450845, 0.10124450439855394 L 0.9958371965060798, 0.09114975619776156 L 0.9967103919481382, 0.08104563271755434 L 0.9974810699638206, 0.07093317322545004 L 0.9981491512844373, 0.06081341784637345 L 0.9987145671939619, 0.05068740745567352 L 0.999177259536099, 0.0405561835720633 L 0.9995371807202664, 0.030420788250493744 L 0.9997942937264893, 0.020282263974972303 L 0.9999485721092084, 0.010141653551337436 L 1.0, 0.0 L 1.1 ,0.0\", \"type\": \"path\"}, {\"fillcolor\": \"rgba(215,48,39, 0.75)\", \"layer\": \"below\", \"line\": {\"color\": \"rgba(215,48,39, 0.75)\", \"width\": 0.45}, \"path\": \"M 0.6359780961811974, 0.8975142679521813 L 0.6268565905118667, 0.9039086319600218 L 0.6176707984939181, 0.9102102969577337 L 0.6084216621626383, 0.9164186166874027 L 0.5991101300494962, 0.9225329544639996 L 0.5897371570848677, 0.9285526832406755 L 0.5803037045001042, 0.9344771856730671 L 0.5708107397289547, 0.9403058541826078 L 0.5612592363083525, 0.946038091018837 L 0.5516501737785753, 0.9516733083207009 L 0.5419845375827897, 0.9572109281768412 L 0.5322633189659913, 0.9626503826848601 L 0.522487514873348, 0.9679911140095623 L 0.5126581278479603, 0.9732325744401615 L 0.5027761659280474, 0.9783742264464517 L 0.49284264254356847, 0.9834155427339313 L 0.4828585764122924, 0.9883560062978798 L 0.4728249914353246, 0.9931951104763784 L 0.46274291659210226, 0.9979323590022697 L 0.4526133858348687, 1.002567266054052 L 0.442437437982639, 1.0070993563057016 L 0.4322161166146637, 1.0115281649754195 L 0.4219504699634074, 1.0158532378732963 L 0.41164155080704845, 1.0200741314478905 L 0.40129041636151275, 1.0241904128317176 L 0.39089812817205255, 1.02820165988564 L 0.38046575200438154, 1.032107461242162 L 0.36999435773537637, 1.0359074163476127 L 0.35948501924335746, 1.0396011355032289 L 0.3489388142979586, 1.0431882399051167 L 0.3383568244495981, 1.0466683616830996 L 0.32774013491856213, 1.0500411439384472 L 0.31708983448371114, 1.0533062407804736 L 0.3064070153708222, 1.0564633173620108 L 0.2956927731405772, 1.0595120499137494 L 0.284948206576209, 1.0624521257774404 L 0.27417441757081806, 1.0652832434379613 L 0.2633725110143686, 1.068005112554236 L 0.2525435946803787, 1.0706174539890114 L 0.24168877911231423, 1.0731199998374827 L 0.2308091775096986, 1.07551249345477 L 0.21990590561395018, 1.0777946894822357 L 0.2089800815939593, 1.0799663538726483 L 0.19803282593141586, 1.0820272639141852 L 0.18706526130590018, 1.083977208253271 L 0.1760785124797481, 1.0858159869162542 L 0.16507370618270276, 1.087543411329914 L 0.1540519709963645, 1.0891593043408 L 0.14301443723845075, 1.090663500233399 L 0.13196223684687813, 1.0920558447471305 L 0.12089650326367801, 1.0933361950921663 L 0.10981837131875825, 1.0945044199640748 L 0.09872897711352233, 1.095560399557285 L 0.0876294579043581, 1.0965040255773748 L 0.07652095198600822, 1.0973352012521767 L 0.06540459857483398, 1.0980538413417007 L 0.05428153769198464, 1.0986598721468779 L 0.04315291004648432, 1.0991532315171166 L 0.0320198569182482, 1.0995338688566783 L 0.020883520041040306, 1.0998017451298645 L 0.00974504148538466, 1.099956832865021 L -0.0013944364585580429, 1.0999991161573555 L -0.01253377139813634, 1.099928590670567 L -0.02367182095536436, 1.0997452636372922 L -0.034807442884076716, 1.0994491538583637 L -0.04593949518706986, 1.0990402917008808 L -0.05706683623321794, 1.0985187190950965 L -0.06818832487455104, 1.0978844895301156 L -0.07930282056328396, 1.0971376680484122 L -0.09040918346878339, 1.0962783312391557 L -0.10150627459446153, 1.0953065672303595 L -0.11259295589458428, 1.094222475679841 L -0.1236680903909817, 1.0930261677650028 L -0.13473054228964923, 1.0917177661714301 L -0.1457791770972273, 1.0902974050803091 L -0.15681286173734796, 1.0887652301546664 L -0.16783046466683466, 1.0871213985244308 L -0.1788308559917477, 1.0853660787703194 L -0.18981290758325767, 1.0834994509065474 L -0.2007754931933394, 1.0815217063623697 L -0.21171748857027256, 1.079433047962446 L -0.22263777157393763, 1.0772336899060442 L -0.2335352222908954, 1.0749238577450695 L -0.21230474753717762, 0.9772035070409721 L -0.2023979741581251, 0.9793033544600401 L -0.19247044415479322, 0.981302770874951 L -0.18252317563030854, 0.9832015512385177 L -0.17255718871205242, 0.984999500824134 L -0.16257350544704335, 0.9866964352457448 L -0.1525731496971224, 0.9882921804767553 L -0.14255714703395267, 0.9897865728678784 L -0.13252652463384298, 0.9911794591639173 L -0.12248231117240838, 0.9924706965194818 L -0.11242553671907426, 0.9936601525136389 L -0.10235723263144024, 0.9947477051634918 L -0.09227843144951048, 0.9957332429366903 L -0.08219016678980308, 0.9966166647628688 L -0.07209347323934905, 0.997397880044011 L -0.06198938624959185, 0.9980768086637415 L -0.051878942030198126, 0.9986533809955421 L -0.04176317744279078, 0.9991275379098916 L -0.03164312989461519, 0.9994992307803305 L -0.021519837232149418, 0.9997684214884474 L -0.0113943376346694, 0.999935082427788 L -0.0012676695077800389, 0.9999991965066867 L 0.008859128623076964, 0.9999607571500192 L 0.01898501821912755, 0.9998197682998768 L 0.029108960834771085, 0.999576244415162 L 0.03922991822407665, 0.999230210470106 L 0.04934685244725876, 0.998781701951707 L 0.05945872597712179, 0.9982307648560915 L 0.06956450180546202, 0.997577455683797 L 0.07966314354941645, 0.9968218414339771 L 0.08975361555774757, 0.9959639995975317 L 0.09983488301705296, 0.9950040181491587 L 0.10990591205788909, 0.993941995538333 L 0.11996566986079829, 0.9927780406792094 L 0.13001312476222796, 0.9915122729394535 L 0.14004724636033136, 0.9901448221279999 L 0.15006700562063885, 0.9886758284817401 L 0.16007137498158916, 0.9871054426511402 L 0.17005932845990923, 0.9854338256847919 L 0.1800298417558326, 0.9836611490128956 L 0.1899818923581448, 0.9817875944296802 L 0.1999144596490456, 0.9798133540747596 L 0.20982652500881688, 0.9777386304134271 L 0.21971707192028564, 0.9755636362158934 L 0.22958508607307151, 0.9732885945354648 L 0.23942955546760777, 0.9709137386856691 L 0.2492494705189255, 0.9684393122163284 L 0.25904382416019, 0.9658655688885822 L 0.26881161194597925, 0.9631927726488629 L 0.2785518321552929, 0.960421197601828 L 0.28826348589428286, 0.9575511279822486 L 0.2979455771986928, 0.9545828581258611 L 0.30759711313599825, 0.9515166924391815 L 0.31721710390723507, 0.9483529453682877 L 0.32680456294850674, 0.9450919413665717 L 0.3363585070321603, 0.9417340148614661 L 0.34587795636761953, 0.9382795102201471 L 0.35536193470186594, 0.9347287817142182 L 0.364809469419557, 0.9310821934833795 L 0.3742195916427713, 0.9273401194980823 L 0.38359133633037035, 0.9235029435211783 L 0.392923742376967, 0.9195710590685632 L 0.40221585271148996, 0.9155448693688196 L 0.41146671439533516, 0.9114247873218655 L 0.4206753787200929, 0.9072112354566088 L 0.4298409013048405, 0.9029046458876167 L 0.43896234219299307, 0.8985054602707997 L 0.44803876594869857, 0.8940141297581192 L 0.4570692417527703, 0.8894311149513197 L 0.4660528434981457, 0.8847568858546923 L 0.4749886498848617, 0.8799919218268747 L 0.4838757445145375, 0.8751367115316909 L 0.4927132159843543, 0.8701917528880374 L 0.5015001579805229, 0.8651575530188189 L 0.5102356693712295, 0.8600346281989426 L 0.5189188542990497, 0.8548235038023707 L 0.527548822272822, 0.8495247142482428 L 0.5361246882589706, 0.8441388029460686 L 0.5446455727722692, 0.8386663222399996 L 0.5531106019660348, 0.8331078333521842 L 0.5615189077217437, 0.8274639063252124 L 0.5698696277380606, 0.8217351199636561 L 0.5781619056192703, 0.8159220617747102 L 0.6359780961811974 ,0.8975142679521813\", \"type\": \"path\"}, {\"fillcolor\": \"rgba(244,109,67, 0.75)\", \"layer\": \"below\", \"line\": {\"color\": \"rgba(244,109,67, 0.75)\", \"width\": 0.45}, \"path\": \"M -0.267184161079182, 1.0670579291062008 L -0.2782106279365394, 1.064236273814775 L -0.2892073090789392, 1.0613006795321103 L -0.3001730271825234, 1.0582514605480497 L -0.3111066082383899, 1.0550889433172945 L -0.3220068816782859, 1.0518134664244543 L -0.33287268049992896, 1.0484253805477968 L -0.3437028413919505, 1.0449250484217039 L -0.3544962048584398, 1.0413128447978366 L -0.3652516153430837, 1.037589156405014 L -0.3759679213528805, 1.033754381907808 L -0.38664397558142266, 1.029808931863864 L -0.3972786350317275, 1.0257532286799431 L -0.40787076113861076, 1.0215877065667003 L -0.41841921989058095, 1.0173128114921968 L -0.42892288195125006, 1.0129290011341536 L -0.43938062278024226, 1.008436744830952 L -0.44979132275358896, 1.003836523531385 L -0.46015386728359714, 0.9991288297431666 L -0.4704671469381795, 0.9943141674802032 L -0.4807300575596325, 0.9893930522086319 L -0.49094150038284956, 0.9843660107916347 L -0.5011003821529549, 0.9792335814330321 L -0.5112056152423522, 0.9739963136196607 L -0.5212561177671657, 0.9686547680625449 L -0.53125081370307, 0.9632095166368665 L -0.5411886330004892, 0.9576611423207386 L -0.5510685116991606, 0.9520102391327901 L -0.560889392042043, 0.9462574120685701 L -0.5706502225885609, 0.9404032770357759 L -0.580349958327176, 0.934448460788312 L -0.589987560787266, 0.9283936008591895 L -0.5995619981503062, 0.922239345492271 L -0.6090722453603373, 0.915986353572867 L -0.6185172842337087, 0.9096352945571966 L -0.6278961035680893, 0.9031868484007124 L -0.6372076992507271, 0.8966417054853043 L -0.6464510743659505, 0.8900005665453863 L -0.6556252393019019, 0.8832641425928737 L -0.6647292118564857, 0.8764331548410612 L -0.6737620173425255, 0.8695083346274092 L -0.6827226886921144, 0.8624904233352452 L -0.6916102665601528, 0.8553801723143895 L -0.7004237994270565, 0.8481783428007148 L -0.7091623437006284, 0.8408857058346468 L -0.7178249638170798, 0.8335030421786163 L -0.7264107323411965, 0.8260311422334675 L -0.7349187300656282, 0.8184708059538375 L -0.7433480461093036, 0.8108228427625118 L -0.7516977780149473, 0.803088071463766 L -0.7599670318457024, 0.795267320155703 L -0.7681549222808342, 0.7873614261415947 L -0.7762605727105145, 0.7793712358402408 L -0.7842831153296744, 0.7712976046953477 L -0.7129846502997039, 0.7011796406321342 L -0.7056914297368313, 0.7085193053093097 L -0.6983226566189401, 0.7157831146741769 L -0.6908791198597294, 0.722970291050639 L -0.6833616163772248, 0.73008006496706 L -0.6757709510084577, 0.7371116752386471 L -0.6681079364232984, 0.7440643690489431 L -0.6603733930374512, 0.7509374020304249 L -0.652568148924618, 0.7577300383441965 L -0.6446930397278439, 0.7644415507587697 L -0.6367489085700513, 0.7710712207279224 L -0.6287366059637752, 0.7776183384676267 L -0.620656989720104, 0.784082203032041 L -0.6125109248568413, 0.7904621223885537 L -0.604299283505896, 0.7967574134918738 L -0.5960229448199107, 0.8029674023571578 L -0.5876827948781368, 0.8090914241321693 L -0.57927972659157, 0.8151288231684584 L -0.5708146396073539, 0.8210789530915567 L -0.5622884402124624, 0.8269411768701787 L -0.5537020412366702, 0.8327148668844244 L -0.5450563619548238, 0.8383994049929736 L -0.5363523279884236, 0.8439941825992632 L -0.5275908712065236, 0.8494986007166472 L -0.5187729296259644, 0.8549120700325235 L -0.5098994473109482, 0.8602340109714273 L -0.5009713742719641, 0.8654638537570819 L -0.4919896663640811, 0.8706010384733986 L -0.4829552851846091, 0.875645015124424 L -0.47386919797015065, 0.8805952436932226 L -0.4647323774930474, 0.8854511941996914 L -0.4555458019572317, 0.8902123467573018 L -0.4463104548934996, 0.8948781916287587 L -0.4370273250542113, 0.8994482292805744 L -0.42769740630743586, 0.9039219704365483 L -0.4183216975305428, 0.9082989361301514 L -0.4089012025032627, 0.9125786577558045 L -0.3994369298002202, 0.9167606771190472 L -0.3899298926829546, 0.9208445464855941 L -0.3803811089914372, 0.9248298286292698 L -0.37079160103510067, 0.9287160968788184 L -0.36116239548338863, 0.9325029351635845 L -0.35149452325583874, 0.9361899380580581 L -0.3417890194117095, 0.93977671082528 L -0.332046923039167, 0.9432628694591034 L -0.32226927714403614, 0.946648040725306 L -0.3124571285381368, 0.9499318622015488 L -0.3026115277272081, 0.9531139823161788 L -0.2927335287984417, 0.9561940603858674 L -0.2828241893076272, 0.9591717666520858 L -0.2728845701659304, 0.9620467823164087 L -0.26291573552630837, 0.9648187995746457 L -0.25291875266958125, 0.9674875216497953 L -0.24289469189016547, 0.9700526628238189 L -0.267184161079182 ,1.0670579291062008\", \"type\": \"path\"}, {\"fillcolor\": \"rgba(253,174,97, 0.75)\", \"layer\": \"below\", \"line\": {\"color\": \"rgba(253,174,97, 0.75)\", \"width\": 0.45}, \"path\": \"M -0.8081231621947061, 0.7462820879027104 L -0.8158637657475476, 0.7378118430468781 L -0.8235155938888088, 0.7292613157311738 L -0.8310778140111105, 0.7206314363518388 L -0.8385496032574608, 0.7119231439395376 L -0.8459301486107926, 0.703137386057179 L -0.8532186469824303, 0.6942751186968111 L -0.8604143052994739, 0.6853373061755968 L -0.867516340591095, 0.6763249210308869 L -0.8745239800737322, 0.667238943914396 L -0.8814364612351804, 0.658080363485496 L -0.8882530319175601, 0.648850176303638 L -0.8949729503991608, 0.6395493867199167 L -0.9015954854751488, 0.6301790067677842 L -0.9081199165371309, 0.6207400560529299 L -0.914545533651566, 0.6112335616423338 L -0.920871637637012, 0.6016605579525119 L -0.9270975401402058, 0.5920220866369595 L -0.9332225637109656, 0.5823191964728047 L -0.9392460418759025, 0.5725529432466927 L -0.9451673192109425, 0.562724389639902 L -0.9509857514126435, 0.5528346051127137 L -0.9567007053683034, 0.5428846657880392 L -0.9623115592248493, 0.532875654334329 L -0.9678177024565033, 0.5228086598477643 L -0.9732185359312139, 0.5126847777337502 L -0.978513471975849, 0.5025051095877231 L -0.9837019344401414, 0.49227076307528544 L -0.9887833587593804, 0.4819828518116785 L -0.9937571920158439, 0.47164249524060636 L -0.9986228929989605, 0.4612508185124304 L -1.003379932264201, 0.45080895236173796 L -1.0080277921906873, 0.44031803298430644 L -1.0125659670375164, 0.42977920191347024 L -1.0169939629987899, 0.4191936058959111 L -1.0213112982573456, 0.4085623967668775 L -1.0255175030371861, 0.39788673132485225 L -1.029612119654595, 0.38716777120567775 L -0.9360110178678136, 0.35197070109607065 L -0.9322886391247146, 0.3617152102953202 L -0.9284648165975868, 0.37142036069716133 L -0.9245399663625361, 0.38108509626901005 L -0.9205145154886513, 0.390708365375882 L -0.9163889019915338, 0.400289120894824 L -0.9121635747856371, 0.40982632032885263 L -0.9078389936354185, 0.4193189259203912 L -0.9034156291053126, 0.4287659047641876 L -0.8988939625085276, 0.4381662289197077 L -0.894274485854674, 0.44751887552298675 L -0.8895577017962263, 0.4568228268979301 L -0.8847441235738307, 0.4660770706670456 L -0.8798342749604575, 0.4752805998616038 L -0.8748286902044085, 0.4844324130312082 L -0.8697279139711849, 0.4935315143527628 L -0.8645325012842213, 0.5025769137388305 L -0.8592430174644932, 0.5115676269453654 L -0.8538600380690022, 0.5205026756788115 L -0.8483841488281505, 0.5293810877025497 L -0.8428159455820052, 0.5382018969426905 L -0.8371560342154654, 0.5469641435931927 L -0.8314050305923326, 0.5556668742203034 L -0.8255635604883007, 0.5643091418662999 L -0.8196322595228624, 0.572890006152531 L -0.8136117730901461, 0.5814085333817424 L -0.807502756288691, 0.5898637966396708 L -0.8013058738501639, 0.5982548758959054 L -0.7950218000670293, 0.6065808581039963 L -0.7886512187191772, 0.6148408373008063 L -0.7821948229995217, 0.623033914705088 L -0.775653315438573, 0.6311591988152828 L -0.7690274078279933, 0.6392158055065263 L -0.7623178211431461, 0.6472028581268523 L -0.7555252854646458, 0.6551194875925807 L -0.7486505398989171, 0.6629648324828852 L -0.7416943324977705, 0.6707380391335255 L -0.7346574201770055, 0.6784382617297368 L -0.8081231621947061 ,0.7462820879027104\", \"type\": \"path\"}, {\"fillcolor\": \"rgba(254,224,139, 0.75)\", \"layer\": \"below\", \"line\": {\"color\": \"rgba(254,224,139, 0.75)\", \"width\": 0.45}, \"path\": \"M -1.0412653018109916, 0.35463582904786217 L -1.0604431259197045, 0.29233606806147944 L -1.075897086417086, 0.22900973655988008 L -1.0875729150074205, 0.16487921197732056 L -1.0954296107240773, 0.10016969576122647 L -1.0994395839089508, 0.03510842255233715 L -1.0995887530966038, -0.030076137774925443 L -1.095876594462895, -0.09515508240975588 L -1.0883161436644457, -0.1598998794225608 L -1.0769339500624855, -0.22408317028017136 L -1.061769983491827, -0.28747956824053683 L -1.04287749390236, -0.34986644982326237 L -1.0203228243659475, -0.41102473657663957 L -0.9941851781053739, -0.47073966439592324 L -0.9645563403634461, -0.5288015376912932 L -0.9315403560889371, -0.5850064657571712 L -0.8952531645712135, -0.639157078757036 L -0.8558221923065641, -0.6910632208094906 L -0.8133859055259326, -0.7405426177417197 L -0.7680933239553934, -0.7874215171654604 L -0.7201034975168625, -0.8315352986277746 L -0.6695849478066621, -0.8727290516940236 L -0.61671507631325, -0.9108581199330347 L -0.561679541452223, -0.9457886088941971 L -0.5046716066062102, -0.9773978562926701 L -0.4458914614590719, -1.005574862751597 L -0.3855455190076314, -1.0302206815887247 L -0.3238456907195515, -1.0512487662786467 L -0.2610086423827188, -1.0685852743705249 L -0.1972550332593112, -1.082169326794041 L -0.13280874121632763, -1.0919532216430037 L -0.06789607655363919, -1.0979026016858793 L -0.0027449872902821026, -1.099996575015021 L 0.06241574130029019, -1.0982277884109177 L 0.12735729009505797, -1.092602453163841 L 0.19185160964515177, -1.0831403232622099 L 0.25567222099678727, -1.0698746260242693 L 0.3185950109972084, -1.0528519454166805 L 0.3803990192928821, -1.032132058469755 L 0.44086721425627423, -1.0077877253637855 L 0.49978725511647015, -0.979904433923607 L 0.5569522376173398, -0.9485800994186196 L 0.5063202160157634, -0.8623455449260178 L 0.4543520501058819, -0.8908222126578245 L 0.4007883765966129, -0.916170659421623 L 0.34581729026625646, -0.9383018713361408 L 0.28963182817928035, -0.9571381321969822 L 0.23242929181526112, -0.9726132963856993 L 0.17441055422286522, -0.9846730211474635 L 0.11577935463187088, -0.9932749574216736 L 0.05674158300026381, -0.9983888985553797 L -0.0024954429911655477, -0.9999968863772916 L -0.06172370595785381, -0.9980932742598903 L -0.12073521928757057, -0.9926847469481851 L -0.17932275750846471, -0.9837902970854919 L -0.23728058398428983, -0.971441158518659 L -0.2944051733814104, -0.9556806966169515 L -0.350495926370574, -0.9365642559897496 L -0.40535587405370166, -0.9141589661378154 L -0.4587923696420093, -0.888543505720609 L -0.5106177649565663, -0.8598078262674519 L -0.5606500693756817, -0.8280528363027587 L -0.6087135889151474, -0.7933900469945668 L -0.6546395431971477, -0.7559411805707041 L -0.6982666581412666, -0.7158377428776912 L -0.7394417322963023, -0.6732205615833815 L -0.7780201748241491, -0.6282392916449914 L -0.8138665132465577, -0.5810518897791236 L -0.846854869171761, -0.5318240597792465 L -0.8768694003304054, -0.4807286706284484 L -0.9038047073685216, -0.4279451494508393 L -0.9275662039690431, -0.3736588514333087 L -0.9480704490021453, -0.3180604089302385 L -0.9652454395380246, -0.26134506203685165 L -0.9790308636931685, -0.20371197298197394 L -0.9893783124222234, -0.14536352674778252 L -0.9962514495117227, -0.08650462037250534 L -0.9996261391787307, -0.0273419434317504 L -0.9994905308263188, 0.03191674777485195 L -0.995845100658252, 0.09106335978293315 L -0.9887026500067458, 0.14989019270665505 L -0.978088260379169, 0.20819066959989097 L -0.9640392053815494, 0.2657600618740722 L -0.9466048198281742, 0.3223962082253292 L -1.0412653018109916 ,0.35463582904786217\", \"type\": \"path\"}, {\"fillcolor\": \"rgba(217,239,139, 0.75)\", \"layer\": \"below\", \"line\": {\"color\": \"rgba(217,239,139, 0.75)\", \"width\": 0.45}, \"path\": \"M 0.58647303627805, -0.9306177398474657 L 0.5935050719636233, -0.9261488700816162 L 0.6005030569767009, -0.9216268651475158 L 0.6074665898277147, -0.9170519844823887 L 0.6143952710036896, -0.9124244905570559 L 0.6212887029911669, -0.9077446488608752 L 0.6281464902990124, -0.9030127278865081 L 0.6349682394811021, -0.8982289991145186 L 0.6417535591588974, -0.8933937369977965 L 0.6485020600439017, -0.8885072189458091 L 0.6552133549599892, -0.8835697253086908 L 0.6618870588656244, -0.8785815393611532 L 0.6685227888759471, -0.8735429472862374 L 0.6751201642847418, -0.8684542381588931 L 0.6816788065862819, -0.8633157039293926 L 0.6881983394970411, -0.8581276394065835 L 0.6946783889772834, -0.8528903422409745 L 0.701118583252525, -0.8476041129076548 L 0.6373805302295681, -0.7705491935524134 L 0.6315258081611667, -0.775354856582704 L 0.6256348540882192, -0.7801160358241668 L 0.619708005987529, -0.7848324581176296 L 0.6137456038952197, -0.789503852871721 L 0.6077479898872246, -0.7941299520783975 L 0.6017155080596585, -0.7987104903283211 L 0.595648504509081, -0.8032452048260825 L 0.5895473273126378, -0.8077338354052809 L 0.5834123265080885, -0.8121761245434512 L 0.5772438540737291, -0.816571817376835 L 0.571042263908193, -0.8209206617150073 L 0.5648079118101517, -0.8252224080553411 L 0.5585411554578996, -0.8294768095973235 L 0.5522423543888315, -0.8336836222567169 L 0.545911869978819, -0.8378426046795597 L 0.5395500654214758, -0.8419535182560146 L 0.5331573057073181, -0.8460161271340596 L 0.58647303627805 ,-0.9306177398474657\", \"type\": \"path\"}, {\"fillcolor\": \"rgba(166,217,106, 0.75)\", \"layer\": \"below\", \"line\": {\"color\": \"rgba(166,217,106, 0.75)\", \"width\": 0.45}, \"path\": \"M 0.7273965121393989, -0.8251632045404337 L 0.7358595570030482, -0.8176250438723595 L 0.7442444870331771, -0.8100000885930343 L 0.7525504121313851, -0.8022891481260872 L 0.7607764505860073, -0.794493041022863 L 0.7689217291657057, -0.7866125948755343 L 0.7769853832121721, -0.778648646229244 L 0.784966556731913, -0.7706020404933046 L 0.7928644024871154, -0.762473631851456 L 0.8006780820855893, -0.7542642831711857 L 0.8084067660697621, -0.7459748659121359 L 0.8160496340047337, -0.7376062600335902 L 0.8236058745653669, -0.7291593539010641 L 0.831074685622412, -0.7206350441920024 L 0.83845527432766, -0.7120342358005889 L 0.8457468571981052, -0.7033578417416899 L 0.8529486601991133, -0.6946067830539361 L 0.8600599188265937, -0.6857819887019441 L 0.8670798781881495, -0.6768843954777093 L 0.8740077930832175, -0.6679149479011558 L 0.8808429280821723, -0.6588745981198738 L 0.8875845576043944, -0.6497643058080459 L 0.894231965995297, -0.6405850380645697 L 0.9007844476022925, -0.6313377693104009 L 0.907241306849704, -0.6220234811851088 L 0.9136018583126024, -0.6126431624426731 L 0.9198654267895654, -0.6031978088465265 L 0.9260313473743572, -0.593688423063843 L 0.9320989655265075, -0.5841160145591069 L 0.9380676371407964, -0.574481599486949 L 0.943936728615629, -0.5647862005842781 L 0.9497056169202928, -0.5550308470617165 L 0.9553736896610983, -0.5452165744943376 L 0.9609403451463846, -0.5353444247117434 L 0.966404992450394, -0.5254154456874617 L 0.9717670514760008, -0.5154306914277028 L 0.9770259530162893, -0.5053912218594738 L 0.9821811388149806, -0.49529810271805796 L 0.987232061625693, -0.4851524054338842 L 0.992178185270033, -0.47495520701879274 L 0.9970189846945161, -0.46470758995169903 L 1.0017539460263005, -0.4544106420636912 L 1.0063825666277397, -0.4440654564225451 L 1.0109043551497388, -0.43367313121669315 L 1.0153188315839117, -0.42323476963864964 L 1.0196255273135395, -0.4127514797678948 L 1.023823985163313, -0.40222437445325504 L 0.9307490774211936, -0.3656585222302318 L 0.9269322975577631, -0.3752286179708134 L 0.9230171196217377, -0.38475888148968146 L 0.9190039592270351, -0.39424830110608466 L 0.9148932423888542, -0.40369586947504094 L 0.9106854054784549, -0.41310058369426467 L 0.9063808951768327, -0.42246144541063546 L 0.9019801684273027, -0.4317774609261752 L 0.8974836923869935, -0.4410476413035311 L 0.892891944377255, -0.45027100247096175 L 0.8882054118329902, -0.45944656532679434 L 0.8834245922509097, -0.4685733558433661 L 0.8785499931367218, -0.4776504051704197 L 0.8735821319512587, -0.4866767497379485 L 0.8685215360555438, -0.4956514313584887 L 0.8633687426548116, -0.504573497328833 L 0.8581242987414809, -0.5134420005311618 L 0.8527887610370876, -0.5222559995335899 L 0.8473626959331886, -0.5310145586900972 L 0.8418466794312338, -0.5397167482398572 L 0.836241297081423, -0.5483616444059332 L 0.8305471439205476, -0.5569483294933392 L 0.8247648244088218, -0.5654758919864624 L 0.8188949523657204, -0.5739434266458189 L 0.8129381509048154, -0.5823500346041542 L 0.8068950523676311, -0.5906948234618599 L 0.8007662982565202, -0.5989769073817034 L 0.7945525391665613, -0.6071954071828689 L 0.7882544347164995, -0.6153494504342811 L 0.7818726534787215, -0.6234381715472218 L 0.7754078729082847, -0.6314607118672145 L 0.7688607792710046, -0.6394162197651726 L 0.7622320675705999, -0.647303850727808 L 0.75552244147492, -0.6551227674472748 L 0.7487326132412426, -0.6628721399100582 L 0.741863303640667, -0.670551145485082 L 0.7349152418816018, -0.6781589690110326 L 0.7278891655323538, -0.685694802882896 L 0.7207858204428321, -0.6931578471376872 L 0.7136059606653754, -0.7005473095393677 L 0.7063503483747019, -0.707862405662949 L 0.6990197537870051, -0.7151023589777583 L 0.6916149550781884, -0.7222664009298754 L 0.6841367383012591, -0.7293537710237156 L 0.6765858973028882, -0.7363637169027584 L 0.6689632336391347, -0.7432954944294177 L 0.6612695564903626, -0.7501483677640306 L 0.7273965121393989 ,-0.8251632045404337\", \"type\": \"path\"}, {\"fillcolor\": \"rgba(102,189,99, 0.75)\", \"layer\": \"below\", \"line\": {\"color\": \"rgba(102,189,99, 0.75)\", \"width\": 0.45}, \"path\": \"M 1.035952962751821, -0.3698668124686571 L 1.039737599922788, -0.35909013256674244 L 1.04341013421131, -0.3482747361281552 L 1.0469701696504825, -0.3374217892520282 L 1.05041732240285, -0.32653246208612646 L 1.0537512208017916, -0.3156079287006811 L 1.0569715053915951, -0.3046493669617999 L 1.0600778289662107, -0.29365795840447717 L 1.0630698566066867, -0.2826348881052001 L 1.065947265717281, -0.2715813445541725 L 1.0687097460602426, -0.2604985195271791 L 1.071356999789259, -0.24938760795708798 L 1.0738887414815723, -0.23824980780501126 L 1.0763046981687518, -0.22708631993114897 L 1.0786046093661243, -0.21589834796531096 L 1.0807882271008606, -0.2046870981771409 L 1.0828553159387106, -0.19345377934606367 L 1.084805653009387, -0.18219960263095378 L 1.0866390280305969, -0.17092578143954743 L 1.0883552433307113, -0.1596335312976204 L 1.08995411387008, -0.14832406971792902 L 1.0914354672609812, -0.13699861606893712 L 1.0927991437862081, -0.1256583914433513 L 1.0940449964162902, -0.11430461852646179 L 1.0951728908253444, -0.10293852146431144 L 1.096182705405559, -0.09156132573171617 L 1.0970743312803048, -0.08017425800013311 L 1.0978476723158743, -0.06877854600540007 L 1.0985026451318456, -0.05737541841536859 L 1.099039179110074, -0.0459661046974282 L 1.0994572164023046, -0.03455183498594412 L 0.9995065603657315, -0.03141075907813102 L 0.9991265264637035, -0.04178736790675291 L 0.9986387683016777, -0.05215947128669871 L 0.9980433384689765, -0.06252595091400005 L 0.9973403011639135, -0.0728856890910301 L 0.9965297321868718, -0.08323756884701469 L 0.9956117189321312, -0.09358047405846494 L 0.9945863603784455, -0.10391328956951071 L 0.993453767078371, -0.11423490131213754 L 0.9922140611463464, -0.12454419642630647 L 0.9908673762455271, -0.13484006337993545 L 0.9894138575733739, -0.1451213920887458 L 0.9878536618459971, -0.1553870740359522 L 0.9861869572812609, -0.16563600239177614 L 0.9844139235806459, -0.17586707213278513 L 0.9825347519098733, -0.18607918016103717 L 0.9805496448782948, -0.19627122542300995 L 0.978458816517047, -0.20644210902831722 L 0.9762624922559748, -0.21659073436819204 L 0.9739609088993262, -0.22671600723371632 L 0.9715543146002205, -0.23681683593379918 L 0.9690429688338918, -0.24689213141288407 L 0.966427142369715, -0.2569408073683637 L 0.9637071172420096, -0.2669617803677065 L 0.9608831867196318, -0.2769539699652726 L 0.9579556552743559, -0.286916298818801 L 0.9549248385480452, -0.2968476928055695 L 0.9517910633186204, -0.3067470811382074 L 0.9485546674648273, -0.31661339648014103 L 0.9452159999298072, -0.3264455750606749 L 0.9417754206834734, -0.33624255678968823 L 1.035952962751821 ,-0.3698668124686571\", \"type\": \"path\"}], \"showlegend\": false, \"title\": \"Pairwise interactions between common egg mutation genotypes\", \"width\": 800, \"xaxis\": {\"visible\": false}, \"yaxis\": {\"visible\": false}}, {\"showLink\": true, \"linkText\": \"Export to plot.ly\", \"plotlyServerURL\": \"https://plot.ly\"})});</script>"
      ],
      "text/vnd.plotly.v1+html": [
       "<div id=\"fe42b53b-a5f7-4ba6-ac83-e53cbbae597c\" style=\"height: 800px; width: 800px;\" class=\"plotly-graph-div\"></div><script type=\"text/javascript\">require([\"plotly\"], function(Plotly) { window.PLOTLYENV=window.PLOTLYENV || {};window.PLOTLYENV.BASE_URL=\"https://plot.ly\";Plotly.newPlot(\"fe42b53b-a5f7-4ba6-ac83-e53cbbae597c\", [{\"line\": {\"color\": \"rgba(26,152,80, 0.75)\", \"shape\": \"spline\", \"width\": 0.25}, \"mode\": \"lines\", \"x\": [1.1, 1.0999434293201293, 1.0997737230991382, 1.0994908987922931, 1.099094985489709, 1.0985860239133582, 1.0979640664128811, 1.0972291769602027, 1.096381431142952, 1.095420916156688, 1.0943477307959295, 1.0931619854439965, 1.0918638020616533, 1.0904533141745665, 1.0889306668595704, 1.087296016729744, 1.0855495319183048, 1.0836913920613127, 1.0817217882791952, 1.0796409231570883, 1.0774490107240007, 1.075146276430799, 1.0727329571270188, 1.0702093010365028, 1.0675755677318712, 1.0648320281078212, 1.0619789643532653, 1.0590166699223058, 1.0559454495040517, 1.0527656189912795, 1.049477505447942, 1.0460814470755275, 1.042577793178274, 1.038966904127242, 1.035249151323247, 1.031424917158659, 1.027494594978072, 1.023458589037846, 1.0193173144645264, 1.0150711972121462, 1.0107206740184138, 1.006266192359793, 1.0017082104054762, 0.9970471969702598, 0.9922836314663236, 0.9874180038539204, 0.9824508145909816, 0.9773825745816408, 0.9722138051236854, 0.966945037854938, 0.9615768146985739, 0.9561096878073817, 0.9505442195069707, 0.9448809822379327, 0.9391205584969634, 0.9332635407769491, 0.9273105315060248, 0.921262142985612, 0.9151189973274395, 0.908881726389555, 0.902550971711336, 0.8961273844475027, 0.8896116253011441, 0.8830043644557595, 0.8763062815063273, 0.8695180653894042, 0.8626404143122649, 0.8556740356810862, 0.8486196460281867, 0.8414779709383283, 0.8342497449740839, 0.8269357116002845, 0.8195366231075492, 0.8120532405349079, 0.8044863335915243, 0.7968366805775261, 0.7891050683039528, 0.7812922920118277, 0.7733991552903628, 0.7654264699943046, 0.7573750561604307, 0.7492457419232034, 0.7410393634295929, 0.7327567647530728, 0.7243987978068035, 0.7159663222560078, 0.7074602054295491, 0.698881322230722, 0.6902305550472628, 0.6815087936605915, 0.6727169351542923, 0.6638558838218436], \"y\": [0.0, 0.01115581890647118, 0.022310490372469533, 0.03346286707554312, 0.04461180192926963, 0.05575614820124087, 0.0668947596310108, 0.07802649054799504, 0.08915019598930979, 0.10026473181753771, 0.11136895483840935, 0.12246172291838693, 0.13354189510213973, 0.14460833172989765, 0.15565989455467208, 0.16669544685933085, 0.17771385357351657, 0.18871398139039483, 0.19969469888322144, 0.21065487662171636, 0.22159338728823202, 0.2325091057937045, 0.2434009093933753, 0.2542676778022724, 0.2651082933104377, 0.2759216408978904, 0.2867066083493128, 0.2974620863684483, 0.308186968692199, 0.31888015220441107, 0.32954053704933667, 0.34016702674476074, 0.35075852829478016, 0.3613139523022248, 0.3718322130807084, 0.38231222876629767, 0.3927529214287885, 0.40315321718257646, 0.4135120462971134, 0.42382834330693425, 0.43410104712124714, 0.44432910113307234, 0.4545114533279202, 0.4646470563919975, 0.4747348678199291, 0.4847738500219863, 0.4947629704308084, 0.5047012016076083, 0.5145875213478509, 0.5244209127863921, 0.5342003645020702, 0.5439248706217352, 0.5535934309237098, 0.5632050509406675, 0.5727587420619189, 0.5822535216350969, 0.5916884130672275, 0.6010624459251782, 0.6103746560354731, 0.6196240855834627, 0.6288097832118417, 0.6379308041185013, 0.6469862101537072, 0.6559750699165942, 0.6648964588509656, 0.67374945934039, 0.6825331608025826, 0.6912466597830643, 0.6998890600480874, 0.7084594726768173, 0.7169570161527651, 0.725380816454455, 0.7337300071453227, 0.7420037294628344, 0.7502011324068145, 0.7583213728269762, 0.7663636155096446, 0.7743270332636626, 0.7822108070054731, 0.7900141258433663, 0.7977361871608839, 0.805376196699374, 0.8129333686396837, 0.820406925682987, 0.8277960991307328, 0.8351001289637108, 0.8423182639202242, 0.8494497615733599, 0.8564938884073533, 0.8634499198930332, 0.8703171405623445, 0.8770948440819379], \"type\": \"scatter\", \"uid\": \"ae0e5d1f-0409-45f8-92b5-34d65445d9a9\"}, {\"line\": {\"color\": \"rgba(215,48,39, 0.75)\", \"shape\": \"spline\", \"width\": 0.25}, \"mode\": \"lines\", \"x\": [0.6359780961811974, 0.6268565905118667, 0.6176707984939181, 0.6084216621626383, 0.5991101300494962, 0.5897371570848677, 0.5803037045001042, 0.5708107397289547, 0.5612592363083525, 0.5516501737785753, 0.5419845375827897, 0.5322633189659913, 0.522487514873348, 0.5126581278479603, 0.5027761659280474, 0.49284264254356847, 0.4828585764122924, 0.4728249914353246, 0.46274291659210226, 0.4526133858348687, 0.442437437982639, 0.4322161166146637, 0.4219504699634074, 0.41164155080704845, 0.40129041636151275, 0.39089812817205255, 0.38046575200438154, 0.36999435773537637, 0.35948501924335746, 0.3489388142979586, 0.3383568244495981, 0.32774013491856213, 0.31708983448371114, 0.3064070153708222, 0.2956927731405772, 0.284948206576209, 0.27417441757081806, 0.2633725110143686, 0.2525435946803787, 0.24168877911231423, 0.2308091775096986, 0.21990590561395018, 0.2089800815939593, 0.19803282593141586, 0.18706526130590018, 0.1760785124797481, 0.16507370618270276, 0.1540519709963645, 0.14301443723845075, 0.13196223684687813, 0.12089650326367801, 0.10981837131875825, 0.09872897711352233, 0.0876294579043581, 0.07652095198600822, 0.06540459857483398, 0.05428153769198464, 0.04315291004648432, 0.0320198569182482, 0.020883520041040306, 0.00974504148538466, -0.0013944364585580429, -0.01253377139813634, -0.02367182095536436, -0.034807442884076716, -0.04593949518706986, -0.05706683623321794, -0.06818832487455104, -0.07930282056328396, -0.09040918346878339, -0.10150627459446153, -0.11259295589458428, -0.1236680903909817, -0.13473054228964923, -0.1457791770972273, -0.15681286173734796, -0.16783046466683466, -0.1788308559917477, -0.18981290758325767, -0.2007754931933394, -0.21171748857027256, -0.22263777157393763, -0.2335352222908954], \"y\": [0.8975142679521813, 0.9039086319600218, 0.9102102969577337, 0.9164186166874027, 0.9225329544639996, 0.9285526832406755, 0.9344771856730671, 0.9403058541826078, 0.946038091018837, 0.9516733083207009, 0.9572109281768412, 0.9626503826848601, 0.9679911140095623, 0.9732325744401615, 0.9783742264464517, 0.9834155427339313, 0.9883560062978798, 0.9931951104763784, 0.9979323590022697, 1.002567266054052, 1.0070993563057016, 1.0115281649754195, 1.0158532378732963, 1.0200741314478905, 1.0241904128317176, 1.02820165988564, 1.032107461242162, 1.0359074163476127, 1.0396011355032289, 1.0431882399051167, 1.0466683616830996, 1.0500411439384472, 1.0533062407804736, 1.0564633173620108, 1.0595120499137494, 1.0624521257774404, 1.0652832434379613, 1.068005112554236, 1.0706174539890114, 1.0731199998374827, 1.07551249345477, 1.0777946894822357, 1.0799663538726483, 1.0820272639141852, 1.083977208253271, 1.0858159869162542, 1.087543411329914, 1.0891593043408, 1.090663500233399, 1.0920558447471305, 1.0933361950921663, 1.0945044199640748, 1.095560399557285, 1.0965040255773748, 1.0973352012521767, 1.0980538413417007, 1.0986598721468779, 1.0991532315171166, 1.0995338688566783, 1.0998017451298645, 1.099956832865021, 1.0999991161573555, 1.099928590670567, 1.0997452636372922, 1.0994491538583637, 1.0990402917008808, 1.0985187190950965, 1.0978844895301156, 1.0971376680484122, 1.0962783312391557, 1.0953065672303595, 1.094222475679841, 1.0930261677650028, 1.0917177661714301, 1.0902974050803091, 1.0887652301546664, 1.0871213985244308, 1.0853660787703194, 1.0834994509065474, 1.0815217063623697, 1.079433047962446, 1.0772336899060442, 1.0749238577450695], \"type\": \"scatter\", \"uid\": \"65142459-e87b-4d64-a334-3152fdc841da\"}, {\"line\": {\"color\": \"rgba(244,109,67, 0.75)\", \"shape\": \"spline\", \"width\": 0.25}, \"mode\": \"lines\", \"x\": [-0.267184161079182, -0.2782106279365394, -0.2892073090789392, -0.3001730271825234, -0.3111066082383899, -0.3220068816782859, -0.33287268049992896, -0.3437028413919505, -0.3544962048584398, -0.3652516153430837, -0.3759679213528805, -0.38664397558142266, -0.3972786350317275, -0.40787076113861076, -0.41841921989058095, -0.42892288195125006, -0.43938062278024226, -0.44979132275358896, -0.46015386728359714, -0.4704671469381795, -0.4807300575596325, -0.49094150038284956, -0.5011003821529549, -0.5112056152423522, -0.5212561177671657, -0.53125081370307, -0.5411886330004892, -0.5510685116991606, -0.560889392042043, -0.5706502225885609, -0.580349958327176, -0.589987560787266, -0.5995619981503062, -0.6090722453603373, -0.6185172842337087, -0.6278961035680893, -0.6372076992507271, -0.6464510743659505, -0.6556252393019019, -0.6647292118564857, -0.6737620173425255, -0.6827226886921144, -0.6916102665601528, -0.7004237994270565, -0.7091623437006284, -0.7178249638170798, -0.7264107323411965, -0.7349187300656282, -0.7433480461093036, -0.7516977780149473, -0.7599670318457024, -0.7681549222808342, -0.7762605727105145, -0.7842831153296744], \"y\": [1.0670579291062008, 1.064236273814775, 1.0613006795321103, 1.0582514605480497, 1.0550889433172945, 1.0518134664244543, 1.0484253805477968, 1.0449250484217039, 1.0413128447978366, 1.037589156405014, 1.033754381907808, 1.029808931863864, 1.0257532286799431, 1.0215877065667003, 1.0173128114921968, 1.0129290011341536, 1.008436744830952, 1.003836523531385, 0.9991288297431666, 0.9943141674802032, 0.9893930522086319, 0.9843660107916347, 0.9792335814330321, 0.9739963136196607, 0.9686547680625449, 0.9632095166368665, 0.9576611423207386, 0.9520102391327901, 0.9462574120685701, 0.9404032770357759, 0.934448460788312, 0.9283936008591895, 0.922239345492271, 0.915986353572867, 0.9096352945571966, 0.9031868484007124, 0.8966417054853043, 0.8900005665453863, 0.8832641425928737, 0.8764331548410612, 0.8695083346274092, 0.8624904233352452, 0.8553801723143895, 0.8481783428007148, 0.8408857058346468, 0.8335030421786163, 0.8260311422334675, 0.8184708059538375, 0.8108228427625118, 0.803088071463766, 0.795267320155703, 0.7873614261415947, 0.7793712358402408, 0.7712976046953477], \"type\": \"scatter\", \"uid\": \"fc6d23e7-fba3-40fc-95d3-5989e85a77a9\"}, {\"line\": {\"color\": \"rgba(253,174,97, 0.75)\", \"shape\": \"spline\", \"width\": 0.25}, \"mode\": \"lines\", \"x\": [-0.8081231621947061, -0.8158637657475476, -0.8235155938888088, -0.8310778140111105, -0.8385496032574608, -0.8459301486107926, -0.8532186469824303, -0.8604143052994739, -0.867516340591095, -0.8745239800737322, -0.8814364612351804, -0.8882530319175601, -0.8949729503991608, -0.9015954854751488, -0.9081199165371309, -0.914545533651566, -0.920871637637012, -0.9270975401402058, -0.9332225637109656, -0.9392460418759025, -0.9451673192109425, -0.9509857514126435, -0.9567007053683034, -0.9623115592248493, -0.9678177024565033, -0.9732185359312139, -0.978513471975849, -0.9837019344401414, -0.9887833587593804, -0.9937571920158439, -0.9986228929989605, -1.003379932264201, -1.0080277921906873, -1.0125659670375164, -1.0169939629987899, -1.0213112982573456, -1.0255175030371861, -1.029612119654595], \"y\": [0.7462820879027104, 0.7378118430468781, 0.7292613157311738, 0.7206314363518388, 0.7119231439395376, 0.703137386057179, 0.6942751186968111, 0.6853373061755968, 0.6763249210308869, 0.667238943914396, 0.658080363485496, 0.648850176303638, 0.6395493867199167, 0.6301790067677842, 0.6207400560529299, 0.6112335616423338, 0.6016605579525119, 0.5920220866369595, 0.5823191964728047, 0.5725529432466927, 0.562724389639902, 0.5528346051127137, 0.5428846657880392, 0.532875654334329, 0.5228086598477643, 0.5126847777337502, 0.5025051095877231, 0.49227076307528544, 0.4819828518116785, 0.47164249524060636, 0.4612508185124304, 0.45080895236173796, 0.44031803298430644, 0.42977920191347024, 0.4191936058959111, 0.4085623967668775, 0.39788673132485225, 0.38716777120567775], \"type\": \"scatter\", \"uid\": \"0307ff39-ff34-4fa0-b8ed-e456a8cc0791\"}, {\"line\": {\"color\": \"rgba(254,224,139, 0.75)\", \"shape\": \"spline\", \"width\": 0.25}, \"mode\": \"lines\", \"x\": [-1.0412653018109916, -1.0604431259197045, -1.075897086417086, -1.0875729150074205, -1.0954296107240773, -1.0994395839089508, -1.0995887530966038, -1.095876594462895, -1.0883161436644457, -1.0769339500624855, -1.061769983491827, -1.04287749390236, -1.0203228243659475, -0.9941851781053739, -0.9645563403634461, -0.9315403560889371, -0.8952531645712135, -0.8558221923065641, -0.8133859055259326, -0.7680933239553934, -0.7201034975168625, -0.6695849478066621, -0.61671507631325, -0.561679541452223, -0.5046716066062102, -0.4458914614590719, -0.3855455190076314, -0.3238456907195515, -0.2610086423827188, -0.1972550332593112, -0.13280874121632763, -0.06789607655363919, -0.0027449872902821026, 0.06241574130029019, 0.12735729009505797, 0.19185160964515177, 0.25567222099678727, 0.3185950109972084, 0.3803990192928821, 0.44086721425627423, 0.49978725511647015, 0.5569522376173398], \"y\": [0.35463582904786217, 0.29233606806147944, 0.22900973655988008, 0.16487921197732056, 0.10016969576122647, 0.03510842255233715, -0.030076137774925443, -0.09515508240975588, -0.1598998794225608, -0.22408317028017136, -0.28747956824053683, -0.34986644982326237, -0.41102473657663957, -0.47073966439592324, -0.5288015376912932, -0.5850064657571712, -0.639157078757036, -0.6910632208094906, -0.7405426177417197, -0.7874215171654604, -0.8315352986277746, -0.8727290516940236, -0.9108581199330347, -0.9457886088941971, -0.9773978562926701, -1.005574862751597, -1.0302206815887247, -1.0512487662786467, -1.0685852743705249, -1.082169326794041, -1.0919532216430037, -1.0979026016858793, -1.099996575015021, -1.0982277884109177, -1.092602453163841, -1.0831403232622099, -1.0698746260242693, -1.0528519454166805, -1.032132058469755, -1.0077877253637855, -0.979904433923607, -0.9485800994186196], \"type\": \"scatter\", \"uid\": \"2a7ef39c-2053-4f50-92e8-52d4a296e3a9\"}, {\"line\": {\"color\": \"rgba(217,239,139, 0.75)\", \"shape\": \"spline\", \"width\": 0.25}, \"mode\": \"lines\", \"x\": [0.58647303627805, 0.5935050719636233, 0.6005030569767009, 0.6074665898277147, 0.6143952710036896, 0.6212887029911669, 0.6281464902990124, 0.6349682394811021, 0.6417535591588974, 0.6485020600439017, 0.6552133549599892, 0.6618870588656244, 0.6685227888759471, 0.6751201642847418, 0.6816788065862819, 0.6881983394970411, 0.6946783889772834, 0.701118583252525], \"y\": [-0.9306177398474657, -0.9261488700816162, -0.9216268651475158, -0.9170519844823887, -0.9124244905570559, -0.9077446488608752, -0.9030127278865081, -0.8982289991145186, -0.8933937369977965, -0.8885072189458091, -0.8835697253086908, -0.8785815393611532, -0.8735429472862374, -0.8684542381588931, -0.8633157039293926, -0.8581276394065835, -0.8528903422409745, -0.8476041129076548], \"type\": \"scatter\", \"uid\": \"1e072577-d8bf-4154-a9ad-bbb2381c66b0\"}, {\"line\": {\"color\": \"rgba(166,217,106, 0.75)\", \"shape\": \"spline\", \"width\": 0.25}, \"mode\": \"lines\", \"x\": [0.7273965121393989, 0.7358595570030482, 0.7442444870331771, 0.7525504121313851, 0.7607764505860073, 0.7689217291657057, 0.7769853832121721, 0.784966556731913, 0.7928644024871154, 0.8006780820855893, 0.8084067660697621, 0.8160496340047337, 0.8236058745653669, 0.831074685622412, 0.83845527432766, 0.8457468571981052, 0.8529486601991133, 0.8600599188265937, 0.8670798781881495, 0.8740077930832175, 0.8808429280821723, 0.8875845576043944, 0.894231965995297, 0.9007844476022925, 0.907241306849704, 0.9136018583126024, 0.9198654267895654, 0.9260313473743572, 0.9320989655265075, 0.9380676371407964, 0.943936728615629, 0.9497056169202928, 0.9553736896610983, 0.9609403451463846, 0.966404992450394, 0.9717670514760008, 0.9770259530162893, 0.9821811388149806, 0.987232061625693, 0.992178185270033, 0.9970189846945161, 1.0017539460263005, 1.0063825666277397, 1.0109043551497388, 1.0153188315839117, 1.0196255273135395, 1.023823985163313], \"y\": [-0.8251632045404337, -0.8176250438723595, -0.8100000885930343, -0.8022891481260872, -0.794493041022863, -0.7866125948755343, -0.778648646229244, -0.7706020404933046, -0.762473631851456, -0.7542642831711857, -0.7459748659121359, -0.7376062600335902, -0.7291593539010641, -0.7206350441920024, -0.7120342358005889, -0.7033578417416899, -0.6946067830539361, -0.6857819887019441, -0.6768843954777093, -0.6679149479011558, -0.6588745981198738, -0.6497643058080459, -0.6405850380645697, -0.6313377693104009, -0.6220234811851088, -0.6126431624426731, -0.6031978088465265, -0.593688423063843, -0.5841160145591069, -0.574481599486949, -0.5647862005842781, -0.5550308470617165, -0.5452165744943376, -0.5353444247117434, -0.5254154456874617, -0.5154306914277028, -0.5053912218594738, -0.49529810271805796, -0.4851524054338842, -0.47495520701879274, -0.46470758995169903, -0.4544106420636912, -0.4440654564225451, -0.43367313121669315, -0.42323476963864964, -0.4127514797678948, -0.40222437445325504], \"type\": \"scatter\", \"uid\": \"fb7216da-96ca-46cb-ab17-230b7499eae0\"}, {\"line\": {\"color\": \"rgba(102,189,99, 0.75)\", \"shape\": \"spline\", \"width\": 0.25}, \"mode\": \"lines\", \"x\": [1.035952962751821, 1.039737599922788, 1.04341013421131, 1.0469701696504825, 1.05041732240285, 1.0537512208017916, 1.0569715053915951, 1.0600778289662107, 1.0630698566066867, 1.065947265717281, 1.0687097460602426, 1.071356999789259, 1.0738887414815723, 1.0763046981687518, 1.0786046093661243, 1.0807882271008606, 1.0828553159387106, 1.084805653009387, 1.0866390280305969, 1.0883552433307113, 1.08995411387008, 1.0914354672609812, 1.0927991437862081, 1.0940449964162902, 1.0951728908253444, 1.096182705405559, 1.0970743312803048, 1.0978476723158743, 1.0985026451318456, 1.099039179110074, 1.0994572164023046], \"y\": [-0.3698668124686571, -0.35909013256674244, -0.3482747361281552, -0.3374217892520282, -0.32653246208612646, -0.3156079287006811, -0.3046493669617999, -0.29365795840447717, -0.2826348881052001, -0.2715813445541725, -0.2604985195271791, -0.24938760795708798, -0.23824980780501126, -0.22708631993114897, -0.21589834796531096, -0.2046870981771409, -0.19345377934606367, -0.18219960263095378, -0.17092578143954743, -0.1596335312976204, -0.14832406971792902, -0.13699861606893712, -0.1256583914433513, -0.11430461852646179, -0.10293852146431144, -0.09156132573171617, -0.08017425800013311, -0.06877854600540007, -0.05737541841536859, -0.0459661046974282, -0.03455183498594412], \"type\": \"scatter\", \"uid\": \"ee575297-1222-470a-944c-13b5e6003ec4\"}, {\"marker\": {\"color\": \"rgba(26,152,80, 0.75)\", \"size\": 0.5}, \"mode\": \"markers\", \"x\": [0.6548287158565043], \"y\": [0.6174134375681516], \"type\": \"scatter\", \"uid\": \"5eea0956-3fd5-4d88-bd00-37199d8be854\"}, {\"marker\": {\"color\": \"rgba(26,152,80, 0.75)\", \"size\": 0.5}, \"mode\": \"markers\", \"text\": \"186 V\", \"x\": [0.8992669535622123], \"y\": [0.03631729933431159], \"type\": \"scatter\", \"uid\": \"12852a57-3d82-443e-ad6d-06fd9545bef8\"}, {\"marker\": {\"color\": \"rgba(26,152,80, 0.75)\", \"size\": 0.5}, \"mode\": \"markers\", \"text\": \"138 S\", \"x\": [-0.30762714382116246], \"y\": [0.8457928472057645], \"type\": \"scatter\", \"uid\": \"8d4c8d6d-a706-4d82-85e8-723317137813\"}, {\"marker\": {\"color\": \"rgba(26,152,80, 0.75)\", \"size\": 0.5}, \"mode\": \"markers\", \"text\": \"186 V\", \"x\": [0.8954710442143288], \"y\": [0.09017543442479067], \"type\": \"scatter\", \"uid\": \"2ce54498-5801-45b8-9994-b4bca7cfb5bd\"}, {\"marker\": {\"color\": \"rgba(26,152,80, 0.75)\", \"size\": 0.5}, \"mode\": \"markers\", \"text\": \"156 R/Q\", \"x\": [-0.7234156149845558], \"y\": [0.5354155843795706], \"type\": \"scatter\", \"uid\": \"8add8698-916c-4b5b-a6d5-cba09de19904\"}, {\"marker\": {\"color\": \"rgba(26,152,80, 0.75)\", \"size\": 0.5}, \"mode\": \"markers\", \"text\": \"186 V\", \"x\": [0.8189541702582397], \"y\": [0.3732479966679503], \"type\": \"scatter\", \"uid\": \"1e4505cb-00ad-46db-a389-223dfb44067f\"}, {\"marker\": {\"color\": \"rgba(26,152,80, 0.75)\", \"size\": 0.5}, \"mode\": \"markers\", \"text\": \"160 K\", \"x\": [-0.8200970645981159], \"y\": [-0.370730096751739], \"type\": \"scatter\", \"uid\": \"0f16f72c-1c8d-44a7-b748-5d36376763f1\"}, {\"marker\": {\"color\": \"rgba(26,152,80, 0.75)\", \"size\": 0.5}, \"mode\": \"markers\", \"text\": \"186 V\", \"x\": [0.8817334773463945], \"y\": [0.18040530736825644], \"type\": \"scatter\", \"uid\": \"21e535f5-0120-414b-ac32-aac10c5af5cc\"}, {\"marker\": {\"color\": \"rgba(26,152,80, 0.75)\", \"size\": 0.5}, \"mode\": \"markers\", \"text\": \"219 F/Y\", \"x\": [0.6764597785318608], \"y\": [-0.5936347092519321], \"type\": \"scatter\", \"uid\": \"f6c72cc2-e37b-4be9-bb45-c549a05ea428\"}, {\"marker\": {\"color\": \"rgba(26,152,80, 0.75)\", \"size\": 0.5}, \"mode\": \"markers\", \"text\": \"186 V\", \"x\": [0.8999657260450941], \"y\": [0.007854421947337265], \"type\": \"scatter\", \"uid\": \"67d09a79-77c4-44ad-b63f-3c49a58fbf39\"}, {\"marker\": {\"color\": \"rgba(26,152,80, 0.75)\", \"size\": 0.5}, \"mode\": \"markers\", \"text\": \"225 G\", \"x\": [0.8542039698229207], \"y\": [-0.28343531526392907], \"type\": \"scatter\", \"uid\": \"92b712bd-bf37-4b98-8832-026131e12bfe\"}, {\"marker\": {\"color\": \"rgba(215,48,39, 0.75)\", \"size\": 0.5}, \"mode\": \"markers\", \"x\": [-0.025259259357126074], \"y\": [0.8996454689580388], \"type\": \"scatter\", \"uid\": \"725c8b62-5cfc-4359-b30c-e52f55c72b80\"}, {\"marker\": {\"color\": \"rgba(215,48,39, 0.75)\", \"size\": 0.5}, \"mode\": \"markers\", \"text\": \"194 P\", \"x\": [0.5042608723151056], \"y\": [0.7454669494028617], \"type\": \"scatter\", \"uid\": \"832093ac-bba7-4286-beb2-67be9ee09fce\"}, {\"marker\": {\"color\": \"rgba(215,48,39, 0.75)\", \"size\": 0.5}, \"mode\": \"markers\", \"text\": \"138 S\", \"x\": [-0.2758362599533811], \"y\": [0.8566880165468237], \"type\": \"scatter\", \"uid\": \"0a0c8291-fd65-4ad9-b827-a95263d0c0a9\"}, {\"marker\": {\"color\": \"rgba(215,48,39, 0.75)\", \"size\": 0.5}, \"mode\": \"markers\", \"text\": \"194 P\", \"x\": [0.29031035968199964], \"y\": [0.851891950344237], \"type\": \"scatter\", \"uid\": \"71df25fd-830e-4152-9d3c-6db0b5005c10\"}, {\"marker\": {\"color\": \"rgba(215,48,39, 0.75)\", \"size\": 0.5}, \"mode\": \"markers\", \"text\": \"160 K\", \"x\": [-0.6497277798214236], \"y\": [-0.6227791037987096], \"type\": \"scatter\", \"uid\": \"459d7f58-7d6c-498a-a7b8-967206c82ab6\"}, {\"marker\": {\"color\": \"rgba(215,48,39, 0.75)\", \"size\": 0.5}, \"mode\": \"markers\", \"text\": \"194 P\", \"x\": [0.4503796187193883], \"y\": [0.7792035671390234], \"type\": \"scatter\", \"uid\": \"43939f20-31f7-4e43-8856-0ac88ee16cf6\"}, {\"marker\": {\"color\": \"rgba(215,48,39, 0.75)\", \"size\": 0.5}, \"mode\": \"markers\", \"text\": \"203 I\", \"x\": [0.5291568134553353], \"y\": [-0.7280062271531719], \"type\": \"scatter\", \"uid\": \"95a17bf9-5b04-4b6a-995d-90635f26e186\"}, {\"marker\": {\"color\": \"rgba(215,48,39, 0.75)\", \"size\": 0.5}, \"mode\": \"markers\", \"text\": \"194 P\", \"x\": [0.5179484792992876], \"y\": [0.7360226713842145], \"type\": \"scatter\", \"uid\": \"966f76cc-0dfd-43c5-82e7-9e096fb2f565\"}, {\"marker\": {\"color\": \"rgba(215,48,39, 0.75)\", \"size\": 0.5}, \"mode\": \"markers\", \"text\": \"219 F/Y\", \"x\": [0.5987054297908833], \"y\": [-0.6719760474443369], \"type\": \"scatter\", \"uid\": \"67701f91-3b5b-4220-ad2d-bb27434658a3\"}, {\"marker\": {\"color\": \"rgba(215,48,39, 0.75)\", \"size\": 0.5}, \"mode\": \"markers\", \"text\": \"194 P\", \"x\": [0.4813435007858166], \"y\": [0.7604659323409922], \"type\": \"scatter\", \"uid\": \"a2b167ba-f23d-40e5-9c8c-7f2db3da3b06\"}, {\"marker\": {\"color\": \"rgba(215,48,39, 0.75)\", \"size\": 0.5}, \"mode\": \"markers\", \"text\": \"225 G\", \"x\": [0.8661107425982616], \"y\": [-0.2446470550729926], \"type\": \"scatter\", \"uid\": \"7f5c03a2-2758-491c-a8c3-f3aaf373a075\"}, {\"marker\": {\"color\": \"rgba(244,109,67, 0.75)\", \"size\": 0.5}, \"mode\": \"markers\", \"x\": [-0.5782269328915303], \"y\": [0.6896764560856444], \"type\": \"scatter\", \"uid\": \"3725c4f1-48fb-4923-8f97-ddb6f48747f0\"}, {\"marker\": {\"color\": \"rgba(175,175,175,0.5)\", \"size\": 0.5}, \"mode\": \"markers\", \"text\": \"138 S\", \"x\": [-0.2519687296277089], \"y\": [0.8640091199112417], \"type\": \"scatter\", \"uid\": \"d72995ef-e309-4b3e-869c-c9160cbb3723\"}, {\"marker\": {\"color\": \"rgba(175,175,175,0.5)\", \"size\": 0.5}, \"mode\": \"markers\", \"text\": \"156 R/Q\", \"x\": [-0.6824269858623472], \"y\": [0.5867652076996658], \"type\": \"scatter\", \"uid\": \"2a3880c4-8d7c-4ff8-ab6c-fbc81415bf0b\"}, {\"marker\": {\"color\": \"rgba(175,175,175,0.5)\", \"size\": 0.5}, \"mode\": \"markers\", \"text\": \"138 S\", \"x\": [-0.44099139941064486], \"y\": [0.7845550239759103], \"type\": \"scatter\", \"uid\": \"1b233f5f-bf28-4fd5-b41a-d2a982777eb4\"}, {\"marker\": {\"color\": \"rgba(175,175,175,0.5)\", \"size\": 0.5}, \"mode\": \"markers\", \"text\": \"160 K\", \"x\": [-0.8875988483748215], \"y\": [-0.14889017551098085], \"type\": \"scatter\", \"uid\": \"f59472e1-ae96-4889-b080-81f341484276\"}, {\"marker\": {\"color\": \"rgba(175,175,175,0.5)\", \"size\": 0.5}, \"mode\": \"markers\", \"text\": \"138 S\", \"x\": [-0.22139851324795498], \"y\": [0.8723432227808015], \"type\": \"scatter\", \"uid\": \"a07ef487-123b-4a9e-a1b0-df697127a863\"}, {\"marker\": {\"color\": \"rgba(175,175,175,0.5)\", \"size\": 0.5}, \"mode\": \"markers\", \"text\": \"203 I\", \"x\": [0.48466503871653127], \"y\": [-0.7583533478833618], \"type\": \"scatter\", \"uid\": \"d5f14666-5420-488f-8990-1c1aa9559d37\"}, {\"marker\": {\"color\": \"rgba(175,175,175,0.5)\", \"size\": 0.5}, \"mode\": \"markers\", \"text\": \"138 S\", \"x\": [-0.23254870765968355], \"y\": [0.8694372309521896], \"type\": \"scatter\", \"uid\": \"16b67945-7a95-410f-9f89-3a4b628cefe9\"}, {\"marker\": {\"color\": \"rgba(175,175,175,0.5)\", \"size\": 0.5}, \"mode\": \"markers\", \"text\": \"219 F/Y\", \"x\": [0.6155720840004228], \"y\": [-0.6565599815701353], \"type\": \"scatter\", \"uid\": \"395f27cf-cf33-4143-b6a3-e41585e2c87f\"}, {\"marker\": {\"color\": \"rgba(175,175,175,0.5)\", \"size\": 0.5}, \"mode\": \"markers\", \"text\": \"138 S\", \"x\": [-0.3478647557351847], \"y\": [0.8300542823920013], \"type\": \"scatter\", \"uid\": \"e5ef781c-67b2-4a3a-8412-4f0928c2bc94\"}, {\"marker\": {\"color\": \"rgba(175,175,175,0.5)\", \"size\": 0.5}, \"mode\": \"markers\", \"text\": \"225 G\", \"x\": [0.8749780160775099], \"y\": [-0.21074503880534148], \"type\": \"scatter\", \"uid\": \"adcf56c7-73eb-48f7-bbb3-a11d97016410\"}, {\"marker\": {\"color\": \"rgba(253,174,97, 0.75)\", \"size\": 0.5}, \"mode\": \"markers\", \"x\": [-0.8213315234441815], \"y\": [0.36798713102071945], \"type\": \"scatter\", \"uid\": \"050f780e-a7fd-4992-9a2e-d3a8e7ee97fb\"}, {\"marker\": {\"color\": \"rgba(175,175,175,0.5)\", \"size\": 0.5}, \"mode\": \"markers\", \"text\": \"156 R/Q\", \"x\": [-0.7709068605089388], \"y\": [0.46443795325129467], \"type\": \"scatter\", \"uid\": \"17b4e3be-77d2-4f75-867f-cb634db568a5\"}, {\"marker\": {\"color\": \"rgba(175,175,175,0.5)\", \"size\": 0.5}, \"mode\": \"markers\", \"text\": \"160 K\", \"x\": [-0.8917384090765067], \"y\": [0.12166597625343281], \"type\": \"scatter\", \"uid\": \"39a08ef0-8bdb-44a9-ab72-ad36f5efa91a\"}, {\"marker\": {\"color\": \"rgba(175,175,175,0.5)\", \"size\": 0.5}, \"mode\": \"markers\", \"text\": \"156 R/Q\", \"x\": [-0.69690137668287], \"y\": [0.5694984382573147], \"type\": \"scatter\", \"uid\": \"0c8087da-65cc-44c4-9537-75210037ad08\"}, {\"marker\": {\"color\": \"rgba(175,175,175,0.5)\", \"size\": 0.5}, \"mode\": \"markers\", \"text\": \"219 F/Y\", \"x\": [0.6300052654667664], \"y\": [-0.6427233973367933], \"type\": \"scatter\", \"uid\": \"0dffd7c6-0f94-4923-b942-b71335029e52\"}, {\"marker\": {\"color\": \"rgba(175,175,175,0.5)\", \"size\": 0.5}, \"mode\": \"markers\", \"text\": \"156 R/Q\", \"x\": [-0.6681542377657295], \"y\": [0.6029675899712166], \"type\": \"scatter\", \"uid\": \"cd79bb86-d261-4f6f-8e1a-97b5a86aa145\"}, {\"marker\": {\"color\": \"rgba(175,175,175,0.5)\", \"size\": 0.5}, \"mode\": \"markers\", \"text\": \"225 G\", \"x\": [0.8595600117786507], \"y\": [-0.2667519187392769], \"type\": \"scatter\", \"uid\": \"a3a2264c-a8a7-4783-9cc0-26e1b00d08e2\"}, {\"marker\": {\"color\": \"rgba(254,224,139, 0.75)\", \"size\": 0.5}, \"mode\": \"markers\", \"x\": [-0.04534910695776427], \"y\": [-0.8988567508219167], \"type\": \"scatter\", \"uid\": \"dd133b09-424b-4979-9fdf-f99c0584d389\"}, {\"marker\": {\"color\": \"rgba(175,175,175,0.5)\", \"size\": 0.5}, \"mode\": \"markers\", \"text\": \"160 K\", \"x\": [-0.8581951112003559], \"y\": [0.2711109571961431], \"type\": \"scatter\", \"uid\": \"a6b73f7e-9bad-4864-8cf6-ea3b3f17c4c8\"}, {\"marker\": {\"color\": \"rgba(175,175,175,0.5)\", \"size\": 0.5}, \"mode\": \"markers\", \"text\": \"203 I\", \"x\": [0.5003750309148364], \"y\": [-0.7480807633116738], \"type\": \"scatter\", \"uid\": \"d2f28f76-6128-435d-9058-061cf289e3b4\"}, {\"marker\": {\"color\": \"rgba(175,175,175,0.5)\", \"size\": 0.5}, \"mode\": \"markers\", \"text\": \"160 K\", \"x\": [-0.8999999684415039], \"y\": [-0.00023833860789956027], \"type\": \"scatter\", \"uid\": \"d0d6fe8d-454c-43b3-afaa-4082a1c9ab8d\"}, {\"marker\": {\"color\": \"rgba(175,175,175,0.5)\", \"size\": 0.5}, \"mode\": \"markers\", \"text\": \"219 F/Y\", \"x\": [0.7482984143089219], \"y\": [-0.500049480694414], \"type\": \"scatter\", \"uid\": \"8bd11c26-8221-42e5-a399-da18f9d567fd\"}, {\"marker\": {\"color\": \"rgba(175,175,175,0.5)\", \"size\": 0.5}, \"mode\": \"markers\", \"text\": \"160 K\", \"x\": [-0.8739047531493904], \"y\": [0.21515223081089102], \"type\": \"scatter\", \"uid\": \"2f1e5f41-609e-495d-8474-170b2b8326fd\"}, {\"marker\": {\"color\": \"rgba(175,175,175,0.5)\", \"size\": 0.5}, \"mode\": \"markers\", \"text\": \"225 G\", \"x\": [0.8865927086254445], \"y\": [-0.15476875980700242], \"type\": \"scatter\", \"uid\": \"b4a256d2-6853-40f3-91ac-92e486eb1f70\"}, {\"marker\": {\"color\": \"rgba(217,239,139, 0.75)\", \"size\": 0.5}, \"mode\": \"markers\", \"x\": [0.5590549472874129], \"y\": [-0.7053067176154414], \"type\": \"scatter\", \"uid\": \"8fe76850-895e-40d5-992e-091112d3b4d3\"}, {\"marker\": {\"color\": \"rgba(175,175,175,0.5)\", \"size\": 0.5}, \"mode\": \"markers\", \"text\": \"203 I\", \"x\": [0.4805318296050379], \"y\": [-0.76097908035401], \"type\": \"scatter\", \"uid\": \"c16d4403-e31a-4579-a250-19c2406223b4\"}, {\"marker\": {\"color\": \"rgba(175,175,175,0.5)\", \"size\": 0.5}, \"mode\": \"markers\", \"text\": \"219 F/Y\", \"x\": [0.5958565019746989], \"y\": [-0.6745035426552449], \"type\": \"scatter\", \"uid\": \"f7171b89-d875-440d-acad-552ce963223e\"}, {\"marker\": {\"color\": \"rgba(175,175,175,0.5)\", \"size\": 0.5}, \"mode\": \"markers\", \"text\": \"203 I\", \"x\": [0.48191115256662337], \"y\": [-0.7601063353451994], \"type\": \"scatter\", \"uid\": \"a866a298-031c-4bee-9eeb-a3db408a45f4\"}, {\"marker\": {\"color\": \"rgba(175,175,175,0.5)\", \"size\": 0.5}, \"mode\": \"markers\", \"text\": \"225 G\", \"x\": [0.8479075261143659], \"y\": [-0.3017496100388795], \"type\": \"scatter\", \"uid\": \"0ac46fd0-f1f8-4e33-b3a6-f6b2eb642067\"}, {\"marker\": {\"color\": \"rgba(166,217,106, 0.75)\", \"size\": 0.5}, \"mode\": \"markers\", \"x\": [0.8114422325653833], \"y\": [-0.38930900735701773], \"type\": \"scatter\", \"uid\": \"3a61810f-6ccf-445f-96ac-1979992029a3\"}, {\"marker\": {\"color\": \"rgba(175,175,175,0.5)\", \"size\": 0.5}, \"mode\": \"markers\", \"text\": \"219 F/Y\", \"x\": [0.6050762413769442], \"y\": [-0.6662452567344477], \"type\": \"scatter\", \"uid\": \"2cf78555-793e-40eb-bf23-932e463e7663\"}, {\"marker\": {\"color\": \"rgba(175,175,175,0.5)\", \"size\": 0.5}, \"mode\": \"markers\", \"text\": \"225 G\", \"x\": [0.8500501118696179], \"y\": [-0.29565995215864144], \"type\": \"scatter\", \"uid\": \"6f58bf70-36ef-4868-83be-ef986fdddf66\"}, {\"marker\": {\"color\": \"rgba(102,189,99, 0.75)\", \"size\": 0.5}, \"mode\": \"markers\", \"x\": [0.8969277257430207], \"y\": [-0.07430110896516019], \"type\": \"scatter\", \"uid\": \"09e63bcb-81da-46a3-9ab3-2b880c6abee5\"}], {\"annotations\": [{\"align\": \"left\", \"showarrow\": false, \"text\": \"186 V\", \"valign\": \"bottom\", \"x\": 1.0771832769315495, \"y\": 0.528844200023985}, {\"align\": \"left\", \"showarrow\": false, \"text\": \"194 P\", \"valign\": \"bottom\", \"x\": 0.23989735157885472, \"y\": 1.1757760248897113}, {\"align\": \"left\", \"showarrow\": false, \"text\": \"138 S\", \"valign\": \"bottom\", \"x\": -0.5903875996368972, \"y\": 1.0447212461680784}, {\"align\": \"left\", \"showarrow\": false, \"text\": \"156 R/Q\", \"valign\": \"bottom\", \"x\": -1.0180609785937806, \"y\": 0.6352573052430596}, {\"align\": \"left\", \"showarrow\": false, \"text\": \"160 K\", \"valign\": \"bottom\", \"x\": -0.7855674518365772, \"y\": -0.9071294166848449}, {\"align\": \"left\", \"showarrow\": false, \"text\": \"203 I\", \"valign\": \"bottom\", \"x\": 0.7000947918097061, \"y\": -0.9746113494521415}, {\"align\": \"left\", \"showarrow\": false, \"text\": \"219 F/Y\", \"valign\": \"bottom\", \"x\": 0.9826739428388644, \"y\": -0.6887321119749826}, {\"align\": \"left\", \"showarrow\": false, \"text\": \"225 G\", \"valign\": \"bottom\", \"x\": 1.1790417022918478, \"y\": -0.2232950161932446}], \"height\": 800, \"hovermode\": false, \"margin\": {\"b\": 25, \"l\": 25, \"r\": 25, \"t\": 25}, \"shapes\": [{\"fillcolor\": \"rgba(175,175,175,0.5)\", \"layer\": \"below\", \"line\": {\"color\": \"rgba(175,175,175,0.5)\", \"width\": 0.5}, \"path\": \"M 0.8314471102192841, 0.555603908290791 Q 0.291034984825113, 0.2744059722525118 0.6035053489289487, 0.7973589491653981L 0.6035053489289487, 0.7973589491653981 L 0.6883140972806847, 0.7254127814456237 L 0.7646092435394496, 0.6444941463613387 L 0.8314471102192841, 0.555603908290791 \", \"type\": \"path\"}, {\"fillcolor\": \"rgba(26,152,80, 0.75)\", \"layer\": \"below\", \"line\": {\"color\": \"rgba(26,152,80, 0.75)\", \"width\": 0.5}, \"path\": \"M 0.9998476742120326, 0.01745360629753062 Q 0.1114463484533397, 0.16607140457169858 -0.3627762292278691, 0.931876283369852L -0.3627762292278691, 0.931876283369852 L -0.3418079375790694, 0.9397698302286273 L -0.3206680660921076, 0.9471916339309315 M -0.3206680660921076, 0.9471916339309315 Q 0.11136268380232904, 0.16612751926259084 0.9979989608390799, 0.0632303263008876L 0.9979989608390799, 0.0632303263008876 L 0.9991855039580136, 0.04035255481590177 L 0.9998476742120326, 0.01745360629753062 \", \"type\": \"path\"}, {\"fillcolor\": \"rgba(26,152,80, 0.75)\", \"layer\": \"below\", \"line\": {\"color\": \"rgba(26,152,80, 0.75)\", \"width\": 0.5}, \"path\": \"M 0.9979989608390799, 0.0632303263008876 Q 0.05319302238161842, 0.192796531011086 -0.8243844662518262, 0.5660302569674979L -0.8243844662518262, 0.5660302569674979 L -0.8037951277606175, 0.5949062048661895 L -0.7821948229995215, 0.6230339147050883 M -0.7821948229995215, 0.6230339147050883 Q 0.05287979481076291, 0.19288267755496247 0.9905680455862846, 0.13702170289179838L 0.9905680455862846, 0.13702170289179838 L 0.9949678269048097, 0.1001949271386563 L 0.9979989608390799, 0.0632303263008876 \", \"type\": \"path\"}, {\"fillcolor\": \"rgba(26,152,80, 0.75)\", \"layer\": \"below\", \"line\": {\"color\": \"rgba(26,152,80, 0.75)\", \"width\": 0.5}, \"path\": \"M 0.9647825100234171, 0.26304887065508414 Q -0.08297063042483137, 0.18197767579268082 -0.8312844625113848, -0.5558472293599728L -0.8312844625113848, -0.5558472293599728 L -0.8872245994155344, -0.4613377398305329 L -0.9324636165268921, -0.36126389779991724 L -0.966455870564449, -0.2568327281549471 M -0.966455870564449, -0.2568327281549471 Q -0.08235779584284675, 0.18225584617209944 0.8314471102192841, 0.555603908290791L 0.8314471102192841, 0.555603908290791 L 0.8863229814889982, 0.4630675679471117 L 0.9309402531814032, 0.3651715281981126 L 0.9647825100234171, 0.26304887065508414 \", \"type\": \"path\"}, {\"fillcolor\": \"rgba(26,152,80, 0.75)\", \"layer\": \"below\", \"line\": {\"color\": \"rgba(26,152,80, 0.75)\", \"width\": 0.5}, \"path\": \"M 0.9905680455862846, 0.13702170289179838 Q -0.19326751612238824, 0.05145548767510038 0.7913015084921592, -0.6114261383503597L 0.7913015084921592, -0.6114261383503597 L 0.7516219761465119, -0.6595941213910356 L 0.709015161912292, -0.7051932360555413 M 0.709015161912292, -0.7051932360555413 Q -0.1933673039524736, 0.05107921066492417 0.9647825100234171, 0.26304887065508414L 0.9647825100234171, 0.26304887065508414 L 0.9797038637182162, 0.20045034152028493 L 0.9905680455862846, 0.13702170289179838 \", \"type\": \"path\"}, {\"fillcolor\": \"rgba(26,152,80, 0.75)\", \"layer\": \"below\", \"line\": {\"color\": \"rgba(26,152,80, 0.75)\", \"width\": 0.5}, \"path\": \"M 1.0, 0.0 Q -0.19756848200312524, 0.03109171785187791 0.9516652540509608, -0.30713717494324944L 0.9516652540509608, -0.30713717494324944 L 0.9491155220254675, -0.31492812807103227 L 0.9465020093571291, -0.32269791800214187 M 0.9465020093571291, -0.32269791800214187 Q -0.1975849222540315, 0.030987069849670146 0.9998476742120326, 0.01745360629753062L 0.9998476742120326, 0.01745360629753062 L 0.9999619178278822, 0.008727135497041405 L 1.0, 0.0 \", \"type\": \"path\"}, {\"fillcolor\": \"rgba(175,175,175,0.5)\", \"layer\": \"below\", \"line\": {\"color\": \"rgba(175,175,175,0.5)\", \"width\": 0.5}, \"path\": \"M 0.15713981188646386, 0.9875763664245346 Q -0.011226337492056032, 0.3998424306480173 -0.21230474753717782, 0.9772035070409721L -0.21230474753717782, 0.9772035070409721 L -0.08990242897000673, 0.9959505777222547 L 0.03387843368690882, 0.9994259611051345 L 0.15713981188646386, 0.9875763664245346 \", \"type\": \"path\"}, {\"fillcolor\": \"rgba(215,48,39, 0.75)\", \"layer\": \"below\", \"line\": {\"color\": \"rgba(215,48,39, 0.75)\", \"width\": 0.5}, \"path\": \"M 0.5728285960319157, 0.8196751793046464 Q 0.028256924648656007, 0.19799380346212903 -0.3206680660921076, 0.9471916339309315L -0.3206680660921076, 0.9471916339309315 L -0.3064847332815346, 0.9518755739409152 L -0.2922330218195183, 0.9563471445862286 M -0.2922330218195183, 0.9563471445862286 Q 0.02820148484166801, 0.1980017077015377 0.547621385654528, 0.8367262503195503L 0.547621385654528, 0.8367262503195503 L 0.5602898581278951, 0.8282966104476241 L 0.5728285960319157, 0.8196751793046464 \", \"type\": \"path\"}, {\"fillcolor\": \"rgba(215,48,39, 0.75)\", \"layer\": \"below\", \"line\": {\"color\": \"rgba(215,48,39, 0.75)\", \"width\": 0.5}, \"path\": \"M 0.47862387091121433, 0.8780200397450877 Q -0.16887393808570925, 0.10715219566310363 -0.5905423473492979, -0.8070066517614221L -0.5905423473492979, -0.8070066517614221 L -0.6803880354706935, -0.7328520459058093 L -0.7610000732975986, -0.6487517926303169 L -0.8312844625113848, -0.5558472293599728 M -0.8312844625113848, -0.5558472293599728 Q -0.16842290242097646, 0.1078597512517725 0.15713981188646386, 0.9875763664245346L 0.15713981188646386, 0.9875763664245346 L 0.2682327819410025, 0.9633541273551438 L 0.3758579407229071, 0.9266772946368848 L 0.47862387091121433, 0.8780200397450877 \", \"type\": \"path\"}, {\"fillcolor\": \"rgba(215,48,39, 0.75)\", \"layer\": \"below\", \"line\": {\"color\": \"rgba(215,48,39, 0.75)\", \"width\": 0.5}, \"path\": \"M 0.5219069998501529, 0.8530023936117721 Q -0.19974857024096454, -0.01002540207126157 0.6046936026382547, -0.7964581890647924L 0.6046936026382547, -0.7964581890647924 L 0.5879520149503725, -0.8088958079479687 L 0.5709546827631782, -0.8209815772785638 M 0.5709546827631782, -0.8209815772785638 Q -0.19970532378938255, -0.010852817614696982 0.47862387091121433, 0.8780200397450877L 0.47862387091121433, 0.8780200397450877 L 0.5004217985770981, 0.8657817412655815 L 0.5219069998501529, 0.8530023936117721 \", \"type\": \"path\"}, {\"fillcolor\": \"rgba(215,48,39, 0.75)\", \"layer\": \"below\", \"line\": {\"color\": \"rgba(215,48,39, 0.75)\", \"width\": 0.5}, \"path\": \"M 0.5781619056192703, 0.8159220617747102 Q -0.19967233825424602, -0.011443659208573539 0.66759454754554, -0.7445250298596184L 0.66759454754554, -0.7445250298596184 L 0.6652282553232036, -0.7466400527159299 L 0.6628552624824542, -0.7487475549204262 M 0.6628552624824542, -0.7487475549204262 Q -0.19967134174505402, -0.011461033362217186 0.5728285960319157, 0.8196751793046464L 0.5728285960319157, 0.8196751793046464 L 0.5754983103325417, 0.8178029682046828 L 0.5781619056192703, 0.8159220617747102 \", \"type\": \"path\"}, {\"fillcolor\": \"rgba(215,48,39, 0.75)\", \"layer\": \"below\", \"line\": {\"color\": \"rgba(215,48,39, 0.75)\", \"width\": 0.5}, \"path\": \"M 0.547621385654528, 0.8367262503195503 Q -0.1868130026730972, -0.07142059949525335 0.9661457258016528, -0.2579969699729002L 0.9661457258016528, -0.2579969699729002 L 0.962345269553624, -0.271830061192214 L 0.9583467646889321, -0.28560721036111214 M 0.9583467646889321, -0.28560721036111214 Q -0.18675071720588976, -0.07158330547750492 0.5219069998501529, 0.8530023936117721L 0.5219069998501529, 0.8530023936117721 L 0.5348261119842407, 0.844962147045547 L 0.547621385654528, 0.8367262503195503 \", \"type\": \"path\"}, {\"fillcolor\": \"rgba(175,175,175,0.5)\", \"layer\": \"below\", \"line\": {\"color\": \"rgba(175,175,175,0.5)\", \"width\": 0.5}, \"path\": \"M -0.5660447834484145, 0.8243744920428079 Q -0.25698974795179125, 0.3065228693713975 -0.7129846502997039, 0.7011796406321342L -0.7129846502997039, 0.7011796406321342 L -0.642474369879478, 0.7663071734284937 L -0.5660447834484145, 0.8243744920428079 \", \"type\": \"path\"}, {\"fillcolor\": \"rgba(175,175,175,0.5)\", \"layer\": \"below\", \"line\": {\"color\": \"rgba(175,175,175,0.5)\", \"width\": 0.5}, \"path\": \"M -0.2676515977956764, 0.9635157612605108 Q -0.10827140948837621, 0.16815856174278002 -0.7663535739615599, 0.6424190218824035L -0.7663535739615599, 0.6424190218824035 L -0.758252206513719, 0.6519613418885175 L -0.7500320300247143, 0.6614015073591881 M -0.7500320300247143, 0.6614015073591881 Q -0.10831940579670503, 0.16812764890953763 -0.2922330218195183, 0.9563471445862286L -0.2922330218195183, 0.9563471445862286 L -0.27996525514189874, 0.9600101332347131 L -0.2676515977956764, 0.9635157612605108 \", \"type\": \"path\"}, {\"fillcolor\": \"rgba(175,175,175,0.5)\", \"layer\": \"below\", \"line\": {\"color\": \"rgba(175,175,175,0.5)\", \"width\": 0.5}, \"path\": \"M -0.4100031474354963, 0.9120841074665136 Q -0.18058255720951188, 0.0859647604060721 -0.966455870564449, -0.2568327281549471L -0.966455870564449, -0.2568327281549471 L -0.9862209426386905, -0.16543352834553426 L -0.9973620334915563, -0.0725876997127453 M -0.9973620334915563, -0.0725876997127453 Q -0.18024378071637584, 0.08667283030492906 -0.5660447834484145, 0.8243744920428079L -0.5660447834484145, 0.8243744920428079 L -0.4899904437896054, 0.871727804417678 L -0.4100031474354963, 0.9120841074665136 \", \"type\": \"path\"}, {\"fillcolor\": \"rgba(175,175,175,0.5)\", \"layer\": \"below\", \"line\": {\"color\": \"rgba(175,175,175,0.5)\", \"width\": 0.5}, \"path\": \"M -0.24289469189016547, 0.9700526628238189 Q -0.18355366980910703, -0.07942323526279516 0.5408069674411983, -0.8411467315320524L 0.5408069674411983, -0.8411467315320524 L 0.5385167096850347, -0.8426148309815131 L 0.5362224665839488, -0.8440766945785353 M 0.5362224665839488, -0.8440766945785353 Q -0.1835154972603739, -0.07951139707788883 -0.2490994839989301, 0.968477902211231L -0.2490994839989301, 0.968477902211231 L -0.2459983480532833, 0.9692702475342239 L -0.24289469189016547, 0.9700526628238189 \", \"type\": \"path\"}, {\"fillcolor\": \"rgba(175,175,175,0.5)\", \"layer\": \"below\", \"line\": {\"color\": \"rgba(175,175,175,0.5)\", \"width\": 0.5}, \"path\": \"M -0.2490994839989301, 0.968477902211231 Q -0.17481863221395336, -0.09715166406625526 0.6908837258041872, -0.7229658895265562L 0.6908837258041872, -0.7229658895265562 L 0.6839689822226921, -0.7295110906334836 L 0.6769922345710143, -0.7359901591261562 M 0.6769922345710143, -0.7359901591261562 Q -0.17481075854606234, -0.09716583091061534 -0.2676515977956764, 0.9635157612605108L -0.2676515977956764, 0.9635157612605108 L -0.25838745295520393, 0.9660413677246551 L -0.2490994839989301, 0.968477902211231 \", \"type\": \"path\"}, {\"fillcolor\": \"rgba(175,175,175,0.5)\", \"layer\": \"below\", \"line\": {\"color\": \"rgba(175,175,175,0.5)\", \"width\": 0.5}, \"path\": \"M -0.3627762292278691, 0.931876283369852 Q -0.12970680227835055, -0.15223713555740886 0.9776619058610662, -0.21018372398477422L 0.9776619058610662, -0.21018372398477422 L 0.9721977956416776, -0.2341611542281572 L 0.9661457258016528, -0.2579969699729002 M 0.9661457258016528, -0.2579969699729002 Q -0.12955247181175422, -0.1523684909929367 -0.4100031474354963, 0.9120841074665136L -0.4100031474354963, 0.9120841074665136 L -0.38651639526131637, 0.9222825359911125 L -0.3627762292278691, 0.931876283369852 \", \"type\": \"path\"}, {\"fillcolor\": \"rgba(175,175,175,0.5)\", \"layer\": \"below\", \"line\": {\"color\": \"rgba(175,175,175,0.5)\", \"width\": 0.5}, \"path\": \"M -0.8857145577615321, 0.4642302469349596 Q -0.3650362326418584, 0.16354983600920867 -0.9360110178678135, 0.35197070109607104L -0.9360110178678135, 0.35197070109607104 L -0.912590581604646, 0.4088745900230216 L -0.8857145577615321, 0.4642302469349596 \", \"type\": \"path\"}, {\"fillcolor\": \"rgba(175,175,175,0.5)\", \"layer\": \"below\", \"line\": {\"color\": \"rgba(175,175,175,0.5)\", \"width\": 0.5}, \"path\": \"M -0.8243844662518262, 0.5660302569674979 Q -0.18875664331420794, 0.06611300632063925 -0.9974003390475628, 0.07205944537537608L -0.9974003390475628, 0.07205944537537608 L -0.9908204545294519, 0.1351844180593698 L -0.9802494886876234, 0.19776486019425393 M -0.9802494886876234, 0.19776486019425393 Q -0.18848940620023663, 0.06687109801911584 -0.8857145577615321, 0.4642302469349596L -0.8857145577615321, 0.4642302469349596 L -0.8565631783432652, 0.5160421702792163 L -0.8243844662518262, 0.5660302569674979 \", \"type\": \"path\"}, {\"fillcolor\": \"rgba(175,175,175,0.5)\", \"layer\": \"below\", \"line\": {\"color\": \"rgba(175,175,175,0.5)\", \"width\": 0.5}, \"path\": \"M -0.7663535739615599, 0.6424190218824035 Q -0.13488315281164429, -0.14767035954310742 0.709015161912292, -0.7051932360555413L 0.709015161912292, -0.7051932360555413 L 0.7000058505186293, -0.7141371081519925 L 0.6908837258041872, -0.7229658895265562 M 0.6908837258041872, -0.7229658895265562 Q -0.13490934695055942, -0.14764642936885938 -0.7821948229995215, 0.6230339147050883L -0.7821948229995215, 0.6230339147050883 L -0.7743348629809667, 0.6327760425081275 L -0.7663535739615599, 0.6424190218824035 \", \"type\": \"path\"}, {\"fillcolor\": \"rgba(175,175,175,0.5)\", \"layer\": \"below\", \"line\": {\"color\": \"rgba(175,175,175,0.5)\", \"width\": 0.5}, \"path\": \"M -0.7346574201770055, 0.6784382617297368 Q -0.09896568067300109, -0.17379814167283142 0.9583467646889321, -0.28560721036111214L 0.9583467646889321, -0.28560721036111214 L 0.9550666797540563, -0.29639102082141877 L 0.9516652540509608, -0.30713717494324944 M 0.9516652540509608, -0.30713717494324944 Q -0.09893043698212198, -0.1738182057165658 -0.7500320300247143, 0.6614015073591881L -0.7500320300247143, 0.6614015073591881 L -0.7423935975174771, 0.6699639888569073 L -0.7346574201770055, 0.6784382617297368 \", \"type\": \"path\"}, {\"fillcolor\": \"rgba(175,175,175,0.5)\", \"layer\": \"below\", \"line\": {\"color\": \"rgba(175,175,175,0.5)\", \"width\": 0.5}, \"path\": \"M -0.5905423473492979, -0.8070066517614221 Q -0.02015515864789523, -0.3994918892541852 0.5063202160157634, -0.8623455449260178L 0.5063202160157634, -0.8623455449260178 L 0.4272763704705282, -0.9041210666926924 L 0.34481725202603053, -0.9386698368996508 L 0.2596019666192789, -0.9657157029516517 L 0.17231165057085224, -0.9850424838947549 L 0.08364402617800734, -0.9964956983774355 L -0.005692175265977483, -0.9999837994391416 L -0.09498287844872605, -0.9954789062564784 L -0.18351437173109414, -0.9830170269980789 L -0.27057901193261386, -0.9626977710068567 L -0.3554808806109974, -0.9346835526102029 L -0.4375413466243572, -0.8991982929221698 L -0.5161044905138948, -0.8565256300142997 L -0.5905423473492979, -0.8070066517614221 \", \"type\": \"path\"}, {\"fillcolor\": \"rgba(175,175,175,0.5)\", \"layer\": \"below\", \"line\": {\"color\": \"rgba(175,175,175,0.5)\", \"width\": 0.5}, \"path\": \"M -0.9466048198281742, 0.3223962082253292 Q -0.12035056235268443, -0.15973647717848488 0.5709546827631782, -0.8209815772785638L 0.5709546827631782, -0.8209815772785638 L 0.5559722565720404, -0.831200848124082 L 0.5408069674411983, -0.8411467315320524 M 0.5408069674411983, -0.8411467315320524 Q -0.11968873289943932, -0.16023297793190602 -0.9600224096832635, 0.2799231553586454L -0.9600224096832635, 0.2799231553586454 L -0.9535501235559509, 0.3012343968846034 L -0.9466048198281742, 0.3223962082253292 \", \"type\": \"path\"}, {\"fillcolor\": \"rgba(175,175,175,0.5)\", \"layer\": \"below\", \"line\": {\"color\": \"rgba(175,175,175,0.5)\", \"width\": 0.5}, \"path\": \"M -0.9974003390475628, 0.07205944537537608 Q -0.0583827763107448, -0.19128892134739414 0.8676538802249267, -0.49716872802965834L 0.8676538802249267, -0.49716872802965834 L 0.8314426825654687, -0.5556105341049045 L 0.7913015084921592, -0.6114261383503597 M 0.7913015084921592, -0.6114261383503597 Q -0.05768949669709816, -0.19149914352507036 -0.9973620334915563, -0.0725876997127453L -0.9973620334915563, -0.0725876997127453 L -0.9999999649350043, -0.00026482067544395584 L -0.9974003390475628, 0.07205944537537608 \", \"type\": \"path\"}, {\"fillcolor\": \"rgba(175,175,175,0.5)\", \"layer\": \"below\", \"line\": {\"color\": \"rgba(175,175,175,0.5)\", \"width\": 0.5}, \"path\": \"M -0.9600224096832635, 0.2799231553586454 Q -0.041457207799020505, -0.19565607560591836 0.9910506786022707, -0.13348615074972664L 0.9910506786022707, -0.13348615074972664 L 0.9851030095838272, -0.17196528867444713 L 0.9776619058610662, -0.21018372398477422 M 0.9776619058610662, -0.21018372398477422 Q -0.040795679050428524, -0.19579507800456689 -0.9802494886876234, 0.19776486019425393L -0.9802494886876234, 0.19776486019425393 L -0.9710052812771005, 0.23905803423432334 L -0.9600224096832635, 0.2799231553586454 \", \"type\": \"path\"}, {\"fillcolor\": \"rgba(175,175,175,0.5)\", \"layer\": \"below\", \"line\": {\"color\": \"rgba(175,175,175,0.5)\", \"width\": 0.5}, \"path\": \"M 0.6046936026382547, -0.7964581890647924 Q 0.3105860818263405, -0.39183706534191187 0.6373805302295674, -0.770549193552414L 0.6373805302295674, -0.770549193552414 L 0.621172163652681, -0.7836741306838237 L 0.6046936026382547, -0.7964581890647924 \", \"type\": \"path\"}, {\"fillcolor\": \"rgba(175,175,175,0.5)\", \"layer\": \"below\", \"line\": {\"color\": \"rgba(175,175,175,0.5)\", \"width\": 0.5}, \"path\": \"M 0.5331573057073181, -0.8460161271340596 Q 0.11999613487143551, -0.1600028987734793 0.6628552624824542, -0.7487475549204262L 0.6628552624824542, -0.7487475549204262 L 0.6620627799718876, -0.7494483807280499 L 0.6612695564903626, -0.7501483677640306 M 0.6612695564903626, -0.7501483677640306 Q 0.1199719548100783, -0.16002103005245447 0.5346907654860796, -0.845047800602966L 0.5346907654860796, -0.845047800602966 L 0.5339242551167087, -0.8455323115044555 L 0.5331573057073181, -0.8460161271340596 \", \"type\": \"path\"}, {\"fillcolor\": \"rgba(175,175,175,0.5)\", \"layer\": \"below\", \"line\": {\"color\": \"rgba(175,175,175,0.5)\", \"width\": 0.5}, \"path\": \"M 0.5346907654860796, -0.845047800602966 Q 0.15629565450316263, -0.12478649118966373 0.9424625370052027, -0.3343117801420061L 0.9424625370052027, -0.3343117801420061 L 0.9421194734604066, -0.3352773444876439 L 0.9417754206834734, -0.33624255678968823 M 0.9417754206834734, -0.33624255678968823 Q 0.15628094145706659, -0.12480491711985123 0.5362224665839488, -0.8440766945785353L 0.5362224665839488, -0.8440766945785353 L 0.5354568361851371, -0.8445625948279993 L 0.5346907654860796, -0.845047800602966 \", \"type\": \"path\"}, {\"fillcolor\": \"rgba(175,175,175,0.5)\", \"layer\": \"below\", \"line\": {\"color\": \"rgba(175,175,175,0.5)\", \"width\": 0.5}, \"path\": \"M 0.8676538802249267, -0.49716872802965834 Q 0.4508012403141018, -0.21628278186500985 0.9307490774211936, -0.3656585222302318L 0.9307490774211936, -0.3656585222302318 L 0.9016024806282036, -0.4325655637300197 L 0.8676538802249267, -0.49716872802965834 \", \"type\": \"path\"}, {\"fillcolor\": \"rgba(175,175,175,0.5)\", \"layer\": \"below\", \"line\": {\"color\": \"rgba(175,175,175,0.5)\", \"width\": 0.5}, \"path\": \"M 0.66759454754554, -0.7445250298596184 Q 0.1668306269035476, -0.11030658152154522 0.9465020093571291, -0.32269791800214187L 0.9465020093571291, -0.32269791800214187 L 0.9445001242995754, -0.32851105795404606 L 0.9424625370052027, -0.3343117801420061 M 0.9424625370052027, -0.3343117801420061 Q 0.16685260793060186, -0.11027332962578425 0.6769922345710143, -0.7359901591261562L 0.6769922345710143, -0.7359901591261562 L 0.6723069348632713, -0.7402725074827197 L 0.66759454754554, -0.7445250298596184 \", \"type\": \"path\"}, {\"fillcolor\": \"rgba(175,175,175,0.5)\", \"layer\": \"below\", \"line\": {\"color\": \"rgba(175,175,175,0.5)\", \"width\": 0.5}, \"path\": \"M 0.9910506786022707, -0.13348615074972664 Q 0.49829318096834485, -0.04127839386953344 0.9995065603657315, -0.03141075907812924L 0.9995065603657315, -0.03141075907812924 L 0.9965863619366897, -0.08255678773906688 L 0.9910506786022707, -0.13348615074972664 \", \"type\": \"path\"}, {\"fillcolor\": \"rgba(26,152,80, 0.75)\", \"layer\": \"below\", \"line\": {\"color\": \"rgba(26,152,80, 0.75)\", \"width\": 0.45}, \"path\": \"M 1.1, 0.0 L 1.0999434293201293, 0.01115581890647118 L 1.0997737230991382, 0.022310490372469533 L 1.0994908987922931, 0.03346286707554312 L 1.099094985489709, 0.04461180192926963 L 1.0985860239133582, 0.05575614820124087 L 1.0979640664128811, 0.0668947596310108 L 1.0972291769602027, 0.07802649054799504 L 1.096381431142952, 0.08915019598930979 L 1.095420916156688, 0.10026473181753771 L 1.0943477307959295, 0.11136895483840935 L 1.0931619854439965, 0.12246172291838693 L 1.0918638020616533, 0.13354189510213973 L 1.0904533141745665, 0.14460833172989765 L 1.0889306668595704, 0.15565989455467208 L 1.087296016729744, 0.16669544685933085 L 1.0855495319183048, 0.17771385357351657 L 1.0836913920613127, 0.18871398139039483 L 1.0817217882791952, 0.19969469888322144 L 1.0796409231570883, 0.21065487662171636 L 1.0774490107240007, 0.22159338728823202 L 1.075146276430799, 0.2325091057937045 L 1.0727329571270188, 0.2434009093933753 L 1.0702093010365028, 0.2542676778022724 L 1.0675755677318712, 0.2651082933104377 L 1.0648320281078212, 0.2759216408978904 L 1.0619789643532653, 0.2867066083493128 L 1.0590166699223058, 0.2974620863684483 L 1.0559454495040517, 0.308186968692199 L 1.0527656189912795, 0.31888015220441107 L 1.049477505447942, 0.32954053704933667 L 1.0460814470755275, 0.34016702674476074 L 1.042577793178274, 0.35075852829478016 L 1.038966904127242, 0.3613139523022248 L 1.035249151323247, 0.3718322130807084 L 1.031424917158659, 0.38231222876629767 L 1.027494594978072, 0.3927529214287885 L 1.023458589037846, 0.40315321718257646 L 1.0193173144645264, 0.4135120462971134 L 1.0150711972121462, 0.42382834330693425 L 1.0107206740184138, 0.43410104712124714 L 1.006266192359793, 0.44432910113307234 L 1.0017082104054762, 0.4545114533279202 L 0.9970471969702598, 0.4646470563919975 L 0.9922836314663236, 0.4747348678199291 L 0.9874180038539204, 0.4847738500219863 L 0.9824508145909816, 0.4947629704308084 L 0.9773825745816408, 0.5047012016076083 L 0.9722138051236854, 0.5145875213478509 L 0.966945037854938, 0.5244209127863921 L 0.9615768146985739, 0.5342003645020702 L 0.9561096878073817, 0.5439248706217352 L 0.9505442195069707, 0.5535934309237098 L 0.9448809822379327, 0.5632050509406675 L 0.9391205584969634, 0.5727587420619189 L 0.9332635407769491, 0.5822535216350969 L 0.9273105315060248, 0.5916884130672275 L 0.921262142985612, 0.6010624459251782 L 0.9151189973274395, 0.6103746560354731 L 0.908881726389555, 0.6196240855834627 L 0.902550971711336, 0.6288097832118417 L 0.8961273844475027, 0.6379308041185013 L 0.8896116253011441, 0.6469862101537072 L 0.8830043644557595, 0.6559750699165942 L 0.8763062815063273, 0.6648964588509656 L 0.8695180653894042, 0.67374945934039 L 0.8626404143122649, 0.6825331608025826 L 0.8556740356810862, 0.6912466597830643 L 0.8486196460281867, 0.6998890600480874 L 0.8414779709383283, 0.7084594726768173 L 0.8342497449740839, 0.7169570161527651 L 0.8269357116002845, 0.725380816454455 L 0.8195366231075492, 0.7337300071453227 L 0.8120532405349079, 0.7420037294628344 L 0.8044863335915243, 0.7502011324068145 L 0.7968366805775261, 0.7583213728269762 L 0.7891050683039528, 0.7663636155096446 L 0.7812922920118277, 0.7743270332636626 L 0.7733991552903628, 0.7822108070054731 L 0.7654264699943046, 0.7900141258433663 L 0.7573750561604307, 0.7977361871608839 L 0.7492457419232034, 0.805376196699374 L 0.7410393634295929, 0.8129333686396837 L 0.7327567647530728, 0.820406925682987 L 0.7243987978068035, 0.8277960991307328 L 0.7159663222560078, 0.8351001289637108 L 0.7074602054295491, 0.8423182639202242 L 0.698881322230722, 0.8494497615733599 L 0.6902305550472628, 0.8564938884073533 L 0.6815087936605915, 0.8634499198930332 L 0.6727169351542923, 0.8703171405623445 L 0.6638558838218436, 0.8770948440819379 L 0.6035053489289487, 0.7973589491653981 L 0.6115608501402657, 0.7911974005112222 L 0.6195534487823559, 0.7849544726300302 L 0.6274823227702389, 0.7786308076430484 L 0.6353466565733835, 0.7722270559757817 L 0.6431456412995901, 0.7657438762911128 L 0.6508784747781888, 0.7591819354215552 L 0.6585443616425486, 0.7525419083006661 L 0.6661425134118844, 0.7458244778936245 L 0.6736721485723571, 0.7390303351269851 L 0.6811324926574576, 0.7321601788176126 L 0.6885227783276642, 0.7252147156008035 L 0.6958422454493678, 0.7181946598576057 L 0.7030901411730571, 0.7111007336413391 L 0.7102657200107524, 0.7039336666033296 L 0.7173682439126843, 0.6966941959178586 L 0.7243969823432055, 0.6893830662063419 L 0.7313512123559311, 0.6820010294607404 L 0.738230218668098, 0.674548844966213 L 0.7450332937341355, 0.6670272792230205 L 0.7517597378184403, 0.6594371058676862 L 0.7584088590673489, 0.6517791055934228 L 0.7649799735802985, 0.6440540660698338 L 0.7714724054801697, 0.6362627818618976 L 0.7778854869828056, 0.6284060543482403 L 0.7842185584656953, 0.6204846916387114 L 0.790470968535822, 0.6124995084912636 L 0.7966420740966611, 0.6044513262281505 L 0.8027312404143268, 0.5963409726514491 L 0.8087378411828582, 0.5881692819579155 L 0.8146612585886388, 0.579937094653183 L 0.8205008833739418, 0.5716452574653106 L 0.8262561148995954, 0.5632946232576933 L 0.8319263612067631, 0.5548860509413391 L 0.8375110390778291, 0.5464204053865256 L 0.8430095740963861, 0.5378985573338432 L 0.8484214007063172, 0.5293213833046335 L 0.8537459622699667, 0.5206897655108353 L 0.8589827111253933, 0.5120045917642432 L 0.8641311086427005, 0.5032667553851907 L 0.8691906252794378, 0.4944771551106683 L 0.8741607406350671, 0.48563669500188195 L 0.879040943504489, 0.47674628435126554 L 0.883830731930623, 0.4678068375889553 L 0.888529613256037, 0.4588192741887348 L 0.8931371041736196, 0.44978451857346213 L 0.8976527307762913, 0.44070350001998754 L 0.9020760286057486, 0.4315771525635719 L 0.9064065427002361, 0.42240641490181585 L 0.910643827641342, 0.41319223029810925 L 0.9147874475998119, 0.40393554648461116 L 0.9188369763803762, 0.3946373155647701 L 0.9227919974655874, 0.3852984939153947 L 0.9266521040586603, 0.3759200420882849 L 0.9304168991253144, 0.36650292471143314 L 0.9340859954346108, 0.35704811038980766 L 0.9376590155987807, 0.3475565716057251 L 0.9411355921120426, 0.3380292846188258 L 0.9445153673884018, 0.32846722936565886 L 0.9477979937984309, 0.31887138935889103 L 0.9509831337050249, 0.3092427515861461 L 0.954070459498129, 0.2995823064084879 L 0.9570596536284358, 0.2898910474585555 L 0.9599504086400469, 0.2801699715383627 L 0.9627424272020961, 0.27042007851677113 L 0.965435422139332, 0.26064237122664796 L 0.9680291164616556, 0.25083785536171854 L 0.9705232433926101, 0.2410075393731252 L 0.9729175463968207, 0.23115243436570215 L 0.9752117792063806, 0.22127355399397752 L 0.9774057058461808, 0.21137191435791317 L 0.9794991006581824, 0.20144853389839273 L 0.9814917483246256, 0.1915044332924694 L 0.9833834438901773, 0.1815406353483831 L 0.9851739927830115, 0.1715581649003589 L 0.9868632108348225, 0.16155804870319687 L 0.9884509242997673, 0.1515413153266644 L 0.9899369698723366, 0.14150899504970188 L 0.9913211947041514, 0.1314621197544524 L 0.9926034564196847, 0.12140172282012701 L 0.9937836231309058, 0.11132883901671538 L 0.994861573450845, 0.10124450439855394 L 0.9958371965060798, 0.09114975619776156 L 0.9967103919481382, 0.08104563271755434 L 0.9974810699638206, 0.07093317322545004 L 0.9981491512844373, 0.06081341784637345 L 0.9987145671939619, 0.05068740745567352 L 0.999177259536099, 0.0405561835720633 L 0.9995371807202664, 0.030420788250493744 L 0.9997942937264893, 0.020282263974972303 L 0.9999485721092084, 0.010141653551337436 L 1.0, 0.0 L 1.1 ,0.0\", \"type\": \"path\"}, {\"fillcolor\": \"rgba(215,48,39, 0.75)\", \"layer\": \"below\", \"line\": {\"color\": \"rgba(215,48,39, 0.75)\", \"width\": 0.45}, \"path\": \"M 0.6359780961811974, 0.8975142679521813 L 0.6268565905118667, 0.9039086319600218 L 0.6176707984939181, 0.9102102969577337 L 0.6084216621626383, 0.9164186166874027 L 0.5991101300494962, 0.9225329544639996 L 0.5897371570848677, 0.9285526832406755 L 0.5803037045001042, 0.9344771856730671 L 0.5708107397289547, 0.9403058541826078 L 0.5612592363083525, 0.946038091018837 L 0.5516501737785753, 0.9516733083207009 L 0.5419845375827897, 0.9572109281768412 L 0.5322633189659913, 0.9626503826848601 L 0.522487514873348, 0.9679911140095623 L 0.5126581278479603, 0.9732325744401615 L 0.5027761659280474, 0.9783742264464517 L 0.49284264254356847, 0.9834155427339313 L 0.4828585764122924, 0.9883560062978798 L 0.4728249914353246, 0.9931951104763784 L 0.46274291659210226, 0.9979323590022697 L 0.4526133858348687, 1.002567266054052 L 0.442437437982639, 1.0070993563057016 L 0.4322161166146637, 1.0115281649754195 L 0.4219504699634074, 1.0158532378732963 L 0.41164155080704845, 1.0200741314478905 L 0.40129041636151275, 1.0241904128317176 L 0.39089812817205255, 1.02820165988564 L 0.38046575200438154, 1.032107461242162 L 0.36999435773537637, 1.0359074163476127 L 0.35948501924335746, 1.0396011355032289 L 0.3489388142979586, 1.0431882399051167 L 0.3383568244495981, 1.0466683616830996 L 0.32774013491856213, 1.0500411439384472 L 0.31708983448371114, 1.0533062407804736 L 0.3064070153708222, 1.0564633173620108 L 0.2956927731405772, 1.0595120499137494 L 0.284948206576209, 1.0624521257774404 L 0.27417441757081806, 1.0652832434379613 L 0.2633725110143686, 1.068005112554236 L 0.2525435946803787, 1.0706174539890114 L 0.24168877911231423, 1.0731199998374827 L 0.2308091775096986, 1.07551249345477 L 0.21990590561395018, 1.0777946894822357 L 0.2089800815939593, 1.0799663538726483 L 0.19803282593141586, 1.0820272639141852 L 0.18706526130590018, 1.083977208253271 L 0.1760785124797481, 1.0858159869162542 L 0.16507370618270276, 1.087543411329914 L 0.1540519709963645, 1.0891593043408 L 0.14301443723845075, 1.090663500233399 L 0.13196223684687813, 1.0920558447471305 L 0.12089650326367801, 1.0933361950921663 L 0.10981837131875825, 1.0945044199640748 L 0.09872897711352233, 1.095560399557285 L 0.0876294579043581, 1.0965040255773748 L 0.07652095198600822, 1.0973352012521767 L 0.06540459857483398, 1.0980538413417007 L 0.05428153769198464, 1.0986598721468779 L 0.04315291004648432, 1.0991532315171166 L 0.0320198569182482, 1.0995338688566783 L 0.020883520041040306, 1.0998017451298645 L 0.00974504148538466, 1.099956832865021 L -0.0013944364585580429, 1.0999991161573555 L -0.01253377139813634, 1.099928590670567 L -0.02367182095536436, 1.0997452636372922 L -0.034807442884076716, 1.0994491538583637 L -0.04593949518706986, 1.0990402917008808 L -0.05706683623321794, 1.0985187190950965 L -0.06818832487455104, 1.0978844895301156 L -0.07930282056328396, 1.0971376680484122 L -0.09040918346878339, 1.0962783312391557 L -0.10150627459446153, 1.0953065672303595 L -0.11259295589458428, 1.094222475679841 L -0.1236680903909817, 1.0930261677650028 L -0.13473054228964923, 1.0917177661714301 L -0.1457791770972273, 1.0902974050803091 L -0.15681286173734796, 1.0887652301546664 L -0.16783046466683466, 1.0871213985244308 L -0.1788308559917477, 1.0853660787703194 L -0.18981290758325767, 1.0834994509065474 L -0.2007754931933394, 1.0815217063623697 L -0.21171748857027256, 1.079433047962446 L -0.22263777157393763, 1.0772336899060442 L -0.2335352222908954, 1.0749238577450695 L -0.21230474753717762, 0.9772035070409721 L -0.2023979741581251, 0.9793033544600401 L -0.19247044415479322, 0.981302770874951 L -0.18252317563030854, 0.9832015512385177 L -0.17255718871205242, 0.984999500824134 L -0.16257350544704335, 0.9866964352457448 L -0.1525731496971224, 0.9882921804767553 L -0.14255714703395267, 0.9897865728678784 L -0.13252652463384298, 0.9911794591639173 L -0.12248231117240838, 0.9924706965194818 L -0.11242553671907426, 0.9936601525136389 L -0.10235723263144024, 0.9947477051634918 L -0.09227843144951048, 0.9957332429366903 L -0.08219016678980308, 0.9966166647628688 L -0.07209347323934905, 0.997397880044011 L -0.06198938624959185, 0.9980768086637415 L -0.051878942030198126, 0.9986533809955421 L -0.04176317744279078, 0.9991275379098916 L -0.03164312989461519, 0.9994992307803305 L -0.021519837232149418, 0.9997684214884474 L -0.0113943376346694, 0.999935082427788 L -0.0012676695077800389, 0.9999991965066867 L 0.008859128623076964, 0.9999607571500192 L 0.01898501821912755, 0.9998197682998768 L 0.029108960834771085, 0.999576244415162 L 0.03922991822407665, 0.999230210470106 L 0.04934685244725876, 0.998781701951707 L 0.05945872597712179, 0.9982307648560915 L 0.06956450180546202, 0.997577455683797 L 0.07966314354941645, 0.9968218414339771 L 0.08975361555774757, 0.9959639995975317 L 0.09983488301705296, 0.9950040181491587 L 0.10990591205788909, 0.993941995538333 L 0.11996566986079829, 0.9927780406792094 L 0.13001312476222796, 0.9915122729394535 L 0.14004724636033136, 0.9901448221279999 L 0.15006700562063885, 0.9886758284817401 L 0.16007137498158916, 0.9871054426511402 L 0.17005932845990923, 0.9854338256847919 L 0.1800298417558326, 0.9836611490128956 L 0.1899818923581448, 0.9817875944296802 L 0.1999144596490456, 0.9798133540747596 L 0.20982652500881688, 0.9777386304134271 L 0.21971707192028564, 0.9755636362158934 L 0.22958508607307151, 0.9732885945354648 L 0.23942955546760777, 0.9709137386856691 L 0.2492494705189255, 0.9684393122163284 L 0.25904382416019, 0.9658655688885822 L 0.26881161194597925, 0.9631927726488629 L 0.2785518321552929, 0.960421197601828 L 0.28826348589428286, 0.9575511279822486 L 0.2979455771986928, 0.9545828581258611 L 0.30759711313599825, 0.9515166924391815 L 0.31721710390723507, 0.9483529453682877 L 0.32680456294850674, 0.9450919413665717 L 0.3363585070321603, 0.9417340148614661 L 0.34587795636761953, 0.9382795102201471 L 0.35536193470186594, 0.9347287817142182 L 0.364809469419557, 0.9310821934833795 L 0.3742195916427713, 0.9273401194980823 L 0.38359133633037035, 0.9235029435211783 L 0.392923742376967, 0.9195710590685632 L 0.40221585271148996, 0.9155448693688196 L 0.41146671439533516, 0.9114247873218655 L 0.4206753787200929, 0.9072112354566088 L 0.4298409013048405, 0.9029046458876167 L 0.43896234219299307, 0.8985054602707997 L 0.44803876594869857, 0.8940141297581192 L 0.4570692417527703, 0.8894311149513197 L 0.4660528434981457, 0.8847568858546923 L 0.4749886498848617, 0.8799919218268747 L 0.4838757445145375, 0.8751367115316909 L 0.4927132159843543, 0.8701917528880374 L 0.5015001579805229, 0.8651575530188189 L 0.5102356693712295, 0.8600346281989426 L 0.5189188542990497, 0.8548235038023707 L 0.527548822272822, 0.8495247142482428 L 0.5361246882589706, 0.8441388029460686 L 0.5446455727722692, 0.8386663222399996 L 0.5531106019660348, 0.8331078333521842 L 0.5615189077217437, 0.8274639063252124 L 0.5698696277380606, 0.8217351199636561 L 0.5781619056192703, 0.8159220617747102 L 0.6359780961811974 ,0.8975142679521813\", \"type\": \"path\"}, {\"fillcolor\": \"rgba(244,109,67, 0.75)\", \"layer\": \"below\", \"line\": {\"color\": \"rgba(244,109,67, 0.75)\", \"width\": 0.45}, \"path\": \"M -0.267184161079182, 1.0670579291062008 L -0.2782106279365394, 1.064236273814775 L -0.2892073090789392, 1.0613006795321103 L -0.3001730271825234, 1.0582514605480497 L -0.3111066082383899, 1.0550889433172945 L -0.3220068816782859, 1.0518134664244543 L -0.33287268049992896, 1.0484253805477968 L -0.3437028413919505, 1.0449250484217039 L -0.3544962048584398, 1.0413128447978366 L -0.3652516153430837, 1.037589156405014 L -0.3759679213528805, 1.033754381907808 L -0.38664397558142266, 1.029808931863864 L -0.3972786350317275, 1.0257532286799431 L -0.40787076113861076, 1.0215877065667003 L -0.41841921989058095, 1.0173128114921968 L -0.42892288195125006, 1.0129290011341536 L -0.43938062278024226, 1.008436744830952 L -0.44979132275358896, 1.003836523531385 L -0.46015386728359714, 0.9991288297431666 L -0.4704671469381795, 0.9943141674802032 L -0.4807300575596325, 0.9893930522086319 L -0.49094150038284956, 0.9843660107916347 L -0.5011003821529549, 0.9792335814330321 L -0.5112056152423522, 0.9739963136196607 L -0.5212561177671657, 0.9686547680625449 L -0.53125081370307, 0.9632095166368665 L -0.5411886330004892, 0.9576611423207386 L -0.5510685116991606, 0.9520102391327901 L -0.560889392042043, 0.9462574120685701 L -0.5706502225885609, 0.9404032770357759 L -0.580349958327176, 0.934448460788312 L -0.589987560787266, 0.9283936008591895 L -0.5995619981503062, 0.922239345492271 L -0.6090722453603373, 0.915986353572867 L -0.6185172842337087, 0.9096352945571966 L -0.6278961035680893, 0.9031868484007124 L -0.6372076992507271, 0.8966417054853043 L -0.6464510743659505, 0.8900005665453863 L -0.6556252393019019, 0.8832641425928737 L -0.6647292118564857, 0.8764331548410612 L -0.6737620173425255, 0.8695083346274092 L -0.6827226886921144, 0.8624904233352452 L -0.6916102665601528, 0.8553801723143895 L -0.7004237994270565, 0.8481783428007148 L -0.7091623437006284, 0.8408857058346468 L -0.7178249638170798, 0.8335030421786163 L -0.7264107323411965, 0.8260311422334675 L -0.7349187300656282, 0.8184708059538375 L -0.7433480461093036, 0.8108228427625118 L -0.7516977780149473, 0.803088071463766 L -0.7599670318457024, 0.795267320155703 L -0.7681549222808342, 0.7873614261415947 L -0.7762605727105145, 0.7793712358402408 L -0.7842831153296744, 0.7712976046953477 L -0.7129846502997039, 0.7011796406321342 L -0.7056914297368313, 0.7085193053093097 L -0.6983226566189401, 0.7157831146741769 L -0.6908791198597294, 0.722970291050639 L -0.6833616163772248, 0.73008006496706 L -0.6757709510084577, 0.7371116752386471 L -0.6681079364232984, 0.7440643690489431 L -0.6603733930374512, 0.7509374020304249 L -0.652568148924618, 0.7577300383441965 L -0.6446930397278439, 0.7644415507587697 L -0.6367489085700513, 0.7710712207279224 L -0.6287366059637752, 0.7776183384676267 L -0.620656989720104, 0.784082203032041 L -0.6125109248568413, 0.7904621223885537 L -0.604299283505896, 0.7967574134918738 L -0.5960229448199107, 0.8029674023571578 L -0.5876827948781368, 0.8090914241321693 L -0.57927972659157, 0.8151288231684584 L -0.5708146396073539, 0.8210789530915567 L -0.5622884402124624, 0.8269411768701787 L -0.5537020412366702, 0.8327148668844244 L -0.5450563619548238, 0.8383994049929736 L -0.5363523279884236, 0.8439941825992632 L -0.5275908712065236, 0.8494986007166472 L -0.5187729296259644, 0.8549120700325235 L -0.5098994473109482, 0.8602340109714273 L -0.5009713742719641, 0.8654638537570819 L -0.4919896663640811, 0.8706010384733986 L -0.4829552851846091, 0.875645015124424 L -0.47386919797015065, 0.8805952436932226 L -0.4647323774930474, 0.8854511941996914 L -0.4555458019572317, 0.8902123467573018 L -0.4463104548934996, 0.8948781916287587 L -0.4370273250542113, 0.8994482292805744 L -0.42769740630743586, 0.9039219704365483 L -0.4183216975305428, 0.9082989361301514 L -0.4089012025032627, 0.9125786577558045 L -0.3994369298002202, 0.9167606771190472 L -0.3899298926829546, 0.9208445464855941 L -0.3803811089914372, 0.9248298286292698 L -0.37079160103510067, 0.9287160968788184 L -0.36116239548338863, 0.9325029351635845 L -0.35149452325583874, 0.9361899380580581 L -0.3417890194117095, 0.93977671082528 L -0.332046923039167, 0.9432628694591034 L -0.32226927714403614, 0.946648040725306 L -0.3124571285381368, 0.9499318622015488 L -0.3026115277272081, 0.9531139823161788 L -0.2927335287984417, 0.9561940603858674 L -0.2828241893076272, 0.9591717666520858 L -0.2728845701659304, 0.9620467823164087 L -0.26291573552630837, 0.9648187995746457 L -0.25291875266958125, 0.9674875216497953 L -0.24289469189016547, 0.9700526628238189 L -0.267184161079182 ,1.0670579291062008\", \"type\": \"path\"}, {\"fillcolor\": \"rgba(253,174,97, 0.75)\", \"layer\": \"below\", \"line\": {\"color\": \"rgba(253,174,97, 0.75)\", \"width\": 0.45}, \"path\": \"M -0.8081231621947061, 0.7462820879027104 L -0.8158637657475476, 0.7378118430468781 L -0.8235155938888088, 0.7292613157311738 L -0.8310778140111105, 0.7206314363518388 L -0.8385496032574608, 0.7119231439395376 L -0.8459301486107926, 0.703137386057179 L -0.8532186469824303, 0.6942751186968111 L -0.8604143052994739, 0.6853373061755968 L -0.867516340591095, 0.6763249210308869 L -0.8745239800737322, 0.667238943914396 L -0.8814364612351804, 0.658080363485496 L -0.8882530319175601, 0.648850176303638 L -0.8949729503991608, 0.6395493867199167 L -0.9015954854751488, 0.6301790067677842 L -0.9081199165371309, 0.6207400560529299 L -0.914545533651566, 0.6112335616423338 L -0.920871637637012, 0.6016605579525119 L -0.9270975401402058, 0.5920220866369595 L -0.9332225637109656, 0.5823191964728047 L -0.9392460418759025, 0.5725529432466927 L -0.9451673192109425, 0.562724389639902 L -0.9509857514126435, 0.5528346051127137 L -0.9567007053683034, 0.5428846657880392 L -0.9623115592248493, 0.532875654334329 L -0.9678177024565033, 0.5228086598477643 L -0.9732185359312139, 0.5126847777337502 L -0.978513471975849, 0.5025051095877231 L -0.9837019344401414, 0.49227076307528544 L -0.9887833587593804, 0.4819828518116785 L -0.9937571920158439, 0.47164249524060636 L -0.9986228929989605, 0.4612508185124304 L -1.003379932264201, 0.45080895236173796 L -1.0080277921906873, 0.44031803298430644 L -1.0125659670375164, 0.42977920191347024 L -1.0169939629987899, 0.4191936058959111 L -1.0213112982573456, 0.4085623967668775 L -1.0255175030371861, 0.39788673132485225 L -1.029612119654595, 0.38716777120567775 L -0.9360110178678136, 0.35197070109607065 L -0.9322886391247146, 0.3617152102953202 L -0.9284648165975868, 0.37142036069716133 L -0.9245399663625361, 0.38108509626901005 L -0.9205145154886513, 0.390708365375882 L -0.9163889019915338, 0.400289120894824 L -0.9121635747856371, 0.40982632032885263 L -0.9078389936354185, 0.4193189259203912 L -0.9034156291053126, 0.4287659047641876 L -0.8988939625085276, 0.4381662289197077 L -0.894274485854674, 0.44751887552298675 L -0.8895577017962263, 0.4568228268979301 L -0.8847441235738307, 0.4660770706670456 L -0.8798342749604575, 0.4752805998616038 L -0.8748286902044085, 0.4844324130312082 L -0.8697279139711849, 0.4935315143527628 L -0.8645325012842213, 0.5025769137388305 L -0.8592430174644932, 0.5115676269453654 L -0.8538600380690022, 0.5205026756788115 L -0.8483841488281505, 0.5293810877025497 L -0.8428159455820052, 0.5382018969426905 L -0.8371560342154654, 0.5469641435931927 L -0.8314050305923326, 0.5556668742203034 L -0.8255635604883007, 0.5643091418662999 L -0.8196322595228624, 0.572890006152531 L -0.8136117730901461, 0.5814085333817424 L -0.807502756288691, 0.5898637966396708 L -0.8013058738501639, 0.5982548758959054 L -0.7950218000670293, 0.6065808581039963 L -0.7886512187191772, 0.6148408373008063 L -0.7821948229995217, 0.623033914705088 L -0.775653315438573, 0.6311591988152828 L -0.7690274078279933, 0.6392158055065263 L -0.7623178211431461, 0.6472028581268523 L -0.7555252854646458, 0.6551194875925807 L -0.7486505398989171, 0.6629648324828852 L -0.7416943324977705, 0.6707380391335255 L -0.7346574201770055, 0.6784382617297368 L -0.8081231621947061 ,0.7462820879027104\", \"type\": \"path\"}, {\"fillcolor\": \"rgba(254,224,139, 0.75)\", \"layer\": \"below\", \"line\": {\"color\": \"rgba(254,224,139, 0.75)\", \"width\": 0.45}, \"path\": \"M -1.0412653018109916, 0.35463582904786217 L -1.0604431259197045, 0.29233606806147944 L -1.075897086417086, 0.22900973655988008 L -1.0875729150074205, 0.16487921197732056 L -1.0954296107240773, 0.10016969576122647 L -1.0994395839089508, 0.03510842255233715 L -1.0995887530966038, -0.030076137774925443 L -1.095876594462895, -0.09515508240975588 L -1.0883161436644457, -0.1598998794225608 L -1.0769339500624855, -0.22408317028017136 L -1.061769983491827, -0.28747956824053683 L -1.04287749390236, -0.34986644982326237 L -1.0203228243659475, -0.41102473657663957 L -0.9941851781053739, -0.47073966439592324 L -0.9645563403634461, -0.5288015376912932 L -0.9315403560889371, -0.5850064657571712 L -0.8952531645712135, -0.639157078757036 L -0.8558221923065641, -0.6910632208094906 L -0.8133859055259326, -0.7405426177417197 L -0.7680933239553934, -0.7874215171654604 L -0.7201034975168625, -0.8315352986277746 L -0.6695849478066621, -0.8727290516940236 L -0.61671507631325, -0.9108581199330347 L -0.561679541452223, -0.9457886088941971 L -0.5046716066062102, -0.9773978562926701 L -0.4458914614590719, -1.005574862751597 L -0.3855455190076314, -1.0302206815887247 L -0.3238456907195515, -1.0512487662786467 L -0.2610086423827188, -1.0685852743705249 L -0.1972550332593112, -1.082169326794041 L -0.13280874121632763, -1.0919532216430037 L -0.06789607655363919, -1.0979026016858793 L -0.0027449872902821026, -1.099996575015021 L 0.06241574130029019, -1.0982277884109177 L 0.12735729009505797, -1.092602453163841 L 0.19185160964515177, -1.0831403232622099 L 0.25567222099678727, -1.0698746260242693 L 0.3185950109972084, -1.0528519454166805 L 0.3803990192928821, -1.032132058469755 L 0.44086721425627423, -1.0077877253637855 L 0.49978725511647015, -0.979904433923607 L 0.5569522376173398, -0.9485800994186196 L 0.5063202160157634, -0.8623455449260178 L 0.4543520501058819, -0.8908222126578245 L 0.4007883765966129, -0.916170659421623 L 0.34581729026625646, -0.9383018713361408 L 0.28963182817928035, -0.9571381321969822 L 0.23242929181526112, -0.9726132963856993 L 0.17441055422286522, -0.9846730211474635 L 0.11577935463187088, -0.9932749574216736 L 0.05674158300026381, -0.9983888985553797 L -0.0024954429911655477, -0.9999968863772916 L -0.06172370595785381, -0.9980932742598903 L -0.12073521928757057, -0.9926847469481851 L -0.17932275750846471, -0.9837902970854919 L -0.23728058398428983, -0.971441158518659 L -0.2944051733814104, -0.9556806966169515 L -0.350495926370574, -0.9365642559897496 L -0.40535587405370166, -0.9141589661378154 L -0.4587923696420093, -0.888543505720609 L -0.5106177649565663, -0.8598078262674519 L -0.5606500693756817, -0.8280528363027587 L -0.6087135889151474, -0.7933900469945668 L -0.6546395431971477, -0.7559411805707041 L -0.6982666581412666, -0.7158377428776912 L -0.7394417322963023, -0.6732205615833815 L -0.7780201748241491, -0.6282392916449914 L -0.8138665132465577, -0.5810518897791236 L -0.846854869171761, -0.5318240597792465 L -0.8768694003304054, -0.4807286706284484 L -0.9038047073685216, -0.4279451494508393 L -0.9275662039690431, -0.3736588514333087 L -0.9480704490021453, -0.3180604089302385 L -0.9652454395380246, -0.26134506203685165 L -0.9790308636931685, -0.20371197298197394 L -0.9893783124222234, -0.14536352674778252 L -0.9962514495117227, -0.08650462037250534 L -0.9996261391787307, -0.0273419434317504 L -0.9994905308263188, 0.03191674777485195 L -0.995845100658252, 0.09106335978293315 L -0.9887026500067458, 0.14989019270665505 L -0.978088260379169, 0.20819066959989097 L -0.9640392053815494, 0.2657600618740722 L -0.9466048198281742, 0.3223962082253292 L -1.0412653018109916 ,0.35463582904786217\", \"type\": \"path\"}, {\"fillcolor\": \"rgba(217,239,139, 0.75)\", \"layer\": \"below\", \"line\": {\"color\": \"rgba(217,239,139, 0.75)\", \"width\": 0.45}, \"path\": \"M 0.58647303627805, -0.9306177398474657 L 0.5935050719636233, -0.9261488700816162 L 0.6005030569767009, -0.9216268651475158 L 0.6074665898277147, -0.9170519844823887 L 0.6143952710036896, -0.9124244905570559 L 0.6212887029911669, -0.9077446488608752 L 0.6281464902990124, -0.9030127278865081 L 0.6349682394811021, -0.8982289991145186 L 0.6417535591588974, -0.8933937369977965 L 0.6485020600439017, -0.8885072189458091 L 0.6552133549599892, -0.8835697253086908 L 0.6618870588656244, -0.8785815393611532 L 0.6685227888759471, -0.8735429472862374 L 0.6751201642847418, -0.8684542381588931 L 0.6816788065862819, -0.8633157039293926 L 0.6881983394970411, -0.8581276394065835 L 0.6946783889772834, -0.8528903422409745 L 0.701118583252525, -0.8476041129076548 L 0.6373805302295681, -0.7705491935524134 L 0.6315258081611667, -0.775354856582704 L 0.6256348540882192, -0.7801160358241668 L 0.619708005987529, -0.7848324581176296 L 0.6137456038952197, -0.789503852871721 L 0.6077479898872246, -0.7941299520783975 L 0.6017155080596585, -0.7987104903283211 L 0.595648504509081, -0.8032452048260825 L 0.5895473273126378, -0.8077338354052809 L 0.5834123265080885, -0.8121761245434512 L 0.5772438540737291, -0.816571817376835 L 0.571042263908193, -0.8209206617150073 L 0.5648079118101517, -0.8252224080553411 L 0.5585411554578996, -0.8294768095973235 L 0.5522423543888315, -0.8336836222567169 L 0.545911869978819, -0.8378426046795597 L 0.5395500654214758, -0.8419535182560146 L 0.5331573057073181, -0.8460161271340596 L 0.58647303627805 ,-0.9306177398474657\", \"type\": \"path\"}, {\"fillcolor\": \"rgba(166,217,106, 0.75)\", \"layer\": \"below\", \"line\": {\"color\": \"rgba(166,217,106, 0.75)\", \"width\": 0.45}, \"path\": \"M 0.7273965121393989, -0.8251632045404337 L 0.7358595570030482, -0.8176250438723595 L 0.7442444870331771, -0.8100000885930343 L 0.7525504121313851, -0.8022891481260872 L 0.7607764505860073, -0.794493041022863 L 0.7689217291657057, -0.7866125948755343 L 0.7769853832121721, -0.778648646229244 L 0.784966556731913, -0.7706020404933046 L 0.7928644024871154, -0.762473631851456 L 0.8006780820855893, -0.7542642831711857 L 0.8084067660697621, -0.7459748659121359 L 0.8160496340047337, -0.7376062600335902 L 0.8236058745653669, -0.7291593539010641 L 0.831074685622412, -0.7206350441920024 L 0.83845527432766, -0.7120342358005889 L 0.8457468571981052, -0.7033578417416899 L 0.8529486601991133, -0.6946067830539361 L 0.8600599188265937, -0.6857819887019441 L 0.8670798781881495, -0.6768843954777093 L 0.8740077930832175, -0.6679149479011558 L 0.8808429280821723, -0.6588745981198738 L 0.8875845576043944, -0.6497643058080459 L 0.894231965995297, -0.6405850380645697 L 0.9007844476022925, -0.6313377693104009 L 0.907241306849704, -0.6220234811851088 L 0.9136018583126024, -0.6126431624426731 L 0.9198654267895654, -0.6031978088465265 L 0.9260313473743572, -0.593688423063843 L 0.9320989655265075, -0.5841160145591069 L 0.9380676371407964, -0.574481599486949 L 0.943936728615629, -0.5647862005842781 L 0.9497056169202928, -0.5550308470617165 L 0.9553736896610983, -0.5452165744943376 L 0.9609403451463846, -0.5353444247117434 L 0.966404992450394, -0.5254154456874617 L 0.9717670514760008, -0.5154306914277028 L 0.9770259530162893, -0.5053912218594738 L 0.9821811388149806, -0.49529810271805796 L 0.987232061625693, -0.4851524054338842 L 0.992178185270033, -0.47495520701879274 L 0.9970189846945161, -0.46470758995169903 L 1.0017539460263005, -0.4544106420636912 L 1.0063825666277397, -0.4440654564225451 L 1.0109043551497388, -0.43367313121669315 L 1.0153188315839117, -0.42323476963864964 L 1.0196255273135395, -0.4127514797678948 L 1.023823985163313, -0.40222437445325504 L 0.9307490774211936, -0.3656585222302318 L 0.9269322975577631, -0.3752286179708134 L 0.9230171196217377, -0.38475888148968146 L 0.9190039592270351, -0.39424830110608466 L 0.9148932423888542, -0.40369586947504094 L 0.9106854054784549, -0.41310058369426467 L 0.9063808951768327, -0.42246144541063546 L 0.9019801684273027, -0.4317774609261752 L 0.8974836923869935, -0.4410476413035311 L 0.892891944377255, -0.45027100247096175 L 0.8882054118329902, -0.45944656532679434 L 0.8834245922509097, -0.4685733558433661 L 0.8785499931367218, -0.4776504051704197 L 0.8735821319512587, -0.4866767497379485 L 0.8685215360555438, -0.4956514313584887 L 0.8633687426548116, -0.504573497328833 L 0.8581242987414809, -0.5134420005311618 L 0.8527887610370876, -0.5222559995335899 L 0.8473626959331886, -0.5310145586900972 L 0.8418466794312338, -0.5397167482398572 L 0.836241297081423, -0.5483616444059332 L 0.8305471439205476, -0.5569483294933392 L 0.8247648244088218, -0.5654758919864624 L 0.8188949523657204, -0.5739434266458189 L 0.8129381509048154, -0.5823500346041542 L 0.8068950523676311, -0.5906948234618599 L 0.8007662982565202, -0.5989769073817034 L 0.7945525391665613, -0.6071954071828689 L 0.7882544347164995, -0.6153494504342811 L 0.7818726534787215, -0.6234381715472218 L 0.7754078729082847, -0.6314607118672145 L 0.7688607792710046, -0.6394162197651726 L 0.7622320675705999, -0.647303850727808 L 0.75552244147492, -0.6551227674472748 L 0.7487326132412426, -0.6628721399100582 L 0.741863303640667, -0.670551145485082 L 0.7349152418816018, -0.6781589690110326 L 0.7278891655323538, -0.685694802882896 L 0.7207858204428321, -0.6931578471376872 L 0.7136059606653754, -0.7005473095393677 L 0.7063503483747019, -0.707862405662949 L 0.6990197537870051, -0.7151023589777583 L 0.6916149550781884, -0.7222664009298754 L 0.6841367383012591, -0.7293537710237156 L 0.6765858973028882, -0.7363637169027584 L 0.6689632336391347, -0.7432954944294177 L 0.6612695564903626, -0.7501483677640306 L 0.7273965121393989 ,-0.8251632045404337\", \"type\": \"path\"}, {\"fillcolor\": \"rgba(102,189,99, 0.75)\", \"layer\": \"below\", \"line\": {\"color\": \"rgba(102,189,99, 0.75)\", \"width\": 0.45}, \"path\": \"M 1.035952962751821, -0.3698668124686571 L 1.039737599922788, -0.35909013256674244 L 1.04341013421131, -0.3482747361281552 L 1.0469701696504825, -0.3374217892520282 L 1.05041732240285, -0.32653246208612646 L 1.0537512208017916, -0.3156079287006811 L 1.0569715053915951, -0.3046493669617999 L 1.0600778289662107, -0.29365795840447717 L 1.0630698566066867, -0.2826348881052001 L 1.065947265717281, -0.2715813445541725 L 1.0687097460602426, -0.2604985195271791 L 1.071356999789259, -0.24938760795708798 L 1.0738887414815723, -0.23824980780501126 L 1.0763046981687518, -0.22708631993114897 L 1.0786046093661243, -0.21589834796531096 L 1.0807882271008606, -0.2046870981771409 L 1.0828553159387106, -0.19345377934606367 L 1.084805653009387, -0.18219960263095378 L 1.0866390280305969, -0.17092578143954743 L 1.0883552433307113, -0.1596335312976204 L 1.08995411387008, -0.14832406971792902 L 1.0914354672609812, -0.13699861606893712 L 1.0927991437862081, -0.1256583914433513 L 1.0940449964162902, -0.11430461852646179 L 1.0951728908253444, -0.10293852146431144 L 1.096182705405559, -0.09156132573171617 L 1.0970743312803048, -0.08017425800013311 L 1.0978476723158743, -0.06877854600540007 L 1.0985026451318456, -0.05737541841536859 L 1.099039179110074, -0.0459661046974282 L 1.0994572164023046, -0.03455183498594412 L 0.9995065603657315, -0.03141075907813102 L 0.9991265264637035, -0.04178736790675291 L 0.9986387683016777, -0.05215947128669871 L 0.9980433384689765, -0.06252595091400005 L 0.9973403011639135, -0.0728856890910301 L 0.9965297321868718, -0.08323756884701469 L 0.9956117189321312, -0.09358047405846494 L 0.9945863603784455, -0.10391328956951071 L 0.993453767078371, -0.11423490131213754 L 0.9922140611463464, -0.12454419642630647 L 0.9908673762455271, -0.13484006337993545 L 0.9894138575733739, -0.1451213920887458 L 0.9878536618459971, -0.1553870740359522 L 0.9861869572812609, -0.16563600239177614 L 0.9844139235806459, -0.17586707213278513 L 0.9825347519098733, -0.18607918016103717 L 0.9805496448782948, -0.19627122542300995 L 0.978458816517047, -0.20644210902831722 L 0.9762624922559748, -0.21659073436819204 L 0.9739609088993262, -0.22671600723371632 L 0.9715543146002205, -0.23681683593379918 L 0.9690429688338918, -0.24689213141288407 L 0.966427142369715, -0.2569408073683637 L 0.9637071172420096, -0.2669617803677065 L 0.9608831867196318, -0.2769539699652726 L 0.9579556552743559, -0.286916298818801 L 0.9549248385480452, -0.2968476928055695 L 0.9517910633186204, -0.3067470811382074 L 0.9485546674648273, -0.31661339648014103 L 0.9452159999298072, -0.3264455750606749 L 0.9417754206834734, -0.33624255678968823 L 1.035952962751821 ,-0.3698668124686571\", \"type\": \"path\"}], \"showlegend\": false, \"title\": \"Pairwise interactions between common egg mutation genotypes\", \"width\": 800, \"xaxis\": {\"visible\": false}, \"yaxis\": {\"visible\": false}}, {\"showLink\": true, \"linkText\": \"Export to plot.ly\", \"plotlyServerURL\": \"https://plot.ly\"})});</script>"
      ]
     },
     "metadata": {},
     "output_type": "display_data"
    }
   ],
   "source": [
    "data = ideograms + ribbon_info\n",
    "layout['shapes'] = shapes\n",
    "layout['annotations'] = annotations\n",
    "fig = go.Figure(data=data, layout=layout)\n",
    "from plotly.offline import download_plotlyjs, init_notebook_mode,  iplot, plot\n",
    "init_notebook_mode(connected=True)\n",
    "iplot(fig)"
   ]
  },
  {
   "cell_type": "code",
   "execution_count": null,
   "metadata": {
    "collapsed": true
   },
   "outputs": [],
   "source": []
  }
 ],
 "metadata": {
  "kernelspec": {
   "display_name": "Python [conda env:py3]",
   "language": "python",
   "name": "conda-env-py3-py"
  },
  "language_info": {
   "codemirror_mode": {
    "name": "ipython",
    "version": 3
   },
   "file_extension": ".py",
   "mimetype": "text/x-python",
   "name": "python",
   "nbconvert_exporter": "python",
   "pygments_lexer": "ipython3",
   "version": "3.6.7"
  }
 },
 "nbformat": 4,
 "nbformat_minor": 2
}
