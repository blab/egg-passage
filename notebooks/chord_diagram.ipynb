{
 "cells": [
  {
   "cell_type": "code",
   "execution_count": 583,
   "metadata": {},
   "outputs": [],
   "source": [
    "import plotly.plotly as py\n",
    "import plotly.figure_factory as ff\n",
    "import plotly.graph_objs as go\n",
    "import numpy as np\n",
    "import pandas as pd\n",
    "import itertools"
   ]
  },
  {
   "cell_type": "code",
   "execution_count": 584,
   "metadata": {},
   "outputs": [],
   "source": [
    "df = pd.read_csv('../egg_passage/data/h3n2_12y_hi_egg_df.csv')\n",
    "\n",
    "mut_sites = [col for col in df.columns if col[0:3]=='mut']\n"
   ]
  },
  {
   "cell_type": "code",
   "execution_count": 585,
   "metadata": {},
   "outputs": [
    {
     "name": "stdout",
     "output_type": "stream",
     "text": [
      "[[ 52   7  52  13  11   1   2   5]\n",
      " [  7  28  27  22   0   0   3   2]\n",
      " [ 52  27 286  80  91  14  29  13]\n",
      " [ 13  22  80  82   0   0  26   1]\n",
      " [ 11   0  91   0  98  16   2   6]\n",
      " [  1   0  14   0  16  16   1   0]\n",
      " [  2   3  29  26   2   1  29   0]\n",
      " [  5   2  13   1   6   0   0  15]]\n"
     ]
    }
   ],
   "source": [
    "#Find epistasis between common egg genotypes\n",
    "sites = ['138','156','160','186','194','203','219','225']\n",
    "egg_muts = {'160':['K'], '194': ['P'], \n",
    "            '186':['V'], '225':['G'], '219':['F','Y'], \n",
    "            '203':['I'], '156':['R','Q'], '138':['S'], \n",
    "            '246':['H'], '183':['L']}\n",
    "matrix = np.zeros((len(sites), len(sites)), dtype=int)\n",
    "for site_a in sites:\n",
    "    for site_b in sites:\n",
    "        both_muts = 0\n",
    "        for egg_genotype_a in egg_muts[site_a]:\n",
    "            for egg_genotype_b in egg_muts[site_b]:\n",
    "                both_muts+= len(df[(df[site_a]==egg_genotype_a)&(df[site_b]==egg_genotype_b)])\n",
    "        matrix[sites.index(site_a)][sites.index(site_b)] = both_muts\n",
    "print(matrix)"
   ]
  },
  {
   "cell_type": "code",
   "execution_count": 586,
   "metadata": {},
   "outputs": [],
   "source": [
    "labels = ['138 S','156 R/Q','160 K','186 V','194 P','203 I','219 F/Y','225 G']\n",
    "ideo_colors = ['rgba(215,48,39, 0.75)',\n",
    "             'rgba(244,109,67, 0.75)',\n",
    "             'rgba(253,174,97, 0.75)',\n",
    "             'rgba(254,224,139, 0.75)',\n",
    "             'rgba(217,239,139, 0.75)',\n",
    "             'rgba(166,217,106, 0.75)',\n",
    "             'rgba(102,189,99, 0.75)',\n",
    "             'rgba(26,152,80, 0.75)']"
   ]
  },
  {
   "cell_type": "code",
   "execution_count": 587,
   "metadata": {},
   "outputs": [],
   "source": [
    "def check_data(data_matrix):\n",
    "    L, M=data_matrix.shape\n",
    "    if L!=M:\n",
    "        raise ValueError('Data array must have (n,n) shape')\n",
    "    return L\n",
    "\n",
    "L=check_data(matrix)"
   ]
  },
  {
   "cell_type": "code",
   "execution_count": 588,
   "metadata": {},
   "outputs": [],
   "source": [
    "radii_sribb=[0.4, 0.4, 0.4, 0.4, 0.4, 0.5, 0.5, 0.5, 0.5, 0.5, 0.5]# these value are set after a few trials "
   ]
  },
  {
   "cell_type": "code",
   "execution_count": 589,
   "metadata": {},
   "outputs": [],
   "source": [
    "def moduloAB(x, a, b): #maps a real number onto the unit circle identified with \n",
    "                       #the interval [a,b), b-a=2*PI\n",
    "        if a>= b:\n",
    "            raise ValueError('Incorrect interval ends')\n",
    "        y = (x-a) % (b-a)\n",
    "        return y+b if y < 0 else y+a"
   ]
  },
  {
   "cell_type": "code",
   "execution_count": 590,
   "metadata": {},
   "outputs": [],
   "source": [
    "def test_2PI(x):\n",
    "    return True\n",
    "#      return 0 <= x < 2*pi"
   ]
  },
  {
   "cell_type": "code",
   "execution_count": 591,
   "metadata": {},
   "outputs": [],
   "source": [
    "pi = np.pi\n",
    "\n",
    "row_sum = [np.sum(matrix[k,:]) for k in range(L)]\n",
    "\n",
    "#set the gap between two consecutive ideograms\n",
    "gap = 2*pi*0.005\n",
    "ideogram_length = 2*pi * np.asarray(row_sum) / sum(row_sum) - gap*np.ones(L)"
   ]
  },
  {
   "cell_type": "code",
   "execution_count": 592,
   "metadata": {},
   "outputs": [],
   "source": [
    "def get_ideogram_ends(ideogram_len, gap):\n",
    "    ideo_ends = []\n",
    "    left = 0\n",
    "    for k in range(len(ideogram_len)):\n",
    "        right = left + ideogram_len[k]\n",
    "        ideo_ends.append([left, right])   \n",
    "        left = right + gap\n",
    "    return ideo_ends "
   ]
  },
  {
   "cell_type": "code",
   "execution_count": 593,
   "metadata": {},
   "outputs": [],
   "source": [
    "ideo_ends = get_ideogram_ends(ideogram_length, gap)"
   ]
  },
  {
   "cell_type": "code",
   "execution_count": 594,
   "metadata": {},
   "outputs": [],
   "source": [
    "def make_ideogram_arc(R, phi, a=100):\n",
    "    # R is the circle radius\n",
    "    # phi is the list of  angle coordinates of an arc ends\n",
    "    # a is a parameter that controls the number of points to be evaluated on an arc\n",
    "    if not test_2PI(phi[0]) or not test_2PI(phi[1]):\n",
    "        phi = [moduloAB(t, 0, 2*pi) for t in phi]\n",
    "    length = (phi[1]-phi[0]) % 2*pi \n",
    "    nr = 18 if length <= pi/4 else int(a*length/pi)\n",
    "\n",
    "    if phi[0] < phi[1]:   \n",
    "        theta = np.linspace(phi[0], phi[1], nr)\n",
    "    else:\n",
    "        phi = [moduloAB(t, -pi, pi) for t in phi]\n",
    "        theta = np.linspace(phi[0], phi[1], nr)\n",
    "    return R * np.exp(1j*theta)  "
   ]
  },
  {
   "cell_type": "code",
   "execution_count": 595,
   "metadata": {},
   "outputs": [
    {
     "data": {
      "text/plain": [
       "array([1.12583302-0.65j      , 1.13689513-0.6304518j ,\n",
       "       1.14761784-0.61071539j, 1.15799797-0.59079667j,\n",
       "       1.16803241-0.57070158j, 1.17771816-0.55043613j,\n",
       "       1.18705234-0.53000636j, 1.19603216-0.50941837j,\n",
       "       1.20465494-0.48867831j, 1.21291809-0.46779236j,\n",
       "       1.22081917-0.44676677j, 1.22835581-0.42560781j,\n",
       "       1.23552575-0.4043218j , 1.24232686-0.38291509j,\n",
       "       1.24875711-0.36139407j, 1.25481458-0.33976517j,\n",
       "       1.26049746-0.31803483j, 1.26580405-0.29620956j,\n",
       "       1.27073277-0.27429586j, 1.27528215-0.25230028j,\n",
       "       1.27945083-0.23022939j, 1.28323757-0.20808976j,\n",
       "       1.28664123-0.18588801j, 1.2896608 -0.16363078j,\n",
       "       1.29229537-0.14132469j, 1.29454417-0.11897642j,\n",
       "       1.29640652-0.09659263j, 1.29788186-0.07418j   ,\n",
       "       1.29896976-0.05174523j, 1.29966988-0.02929501j,\n",
       "       1.29998203-0.00683605j, 1.2999061 +0.01562495j,\n",
       "       1.29944212+0.03808129j, 1.29859022+0.06052626j,\n",
       "       1.29735067+0.08295316j, 1.29572384+0.1053553j ,\n",
       "       1.2937102 +0.12772599j, 1.29131035+0.15005855j,\n",
       "       1.28852503+0.17234631j, 1.28535505+0.19458263j,\n",
       "       1.28180136+0.21676085j, 1.27786503+0.23887437j])"
      ]
     },
     "execution_count": 595,
     "metadata": {},
     "output_type": "execute_result"
    }
   ],
   "source": [
    "make_ideogram_arc(1.3, [11*pi/6, pi/17])"
   ]
  },
  {
   "cell_type": "code",
   "execution_count": 596,
   "metadata": {},
   "outputs": [],
   "source": [
    "def map_data(data_matrix, row_value, ideogram_length):\n",
    "    mapped = np.zeros(data_matrix.shape)\n",
    "    for j  in range(L):\n",
    "        mapped[:, j] = ideogram_length * data_matrix[:,j] / row_value\n",
    "    return mapped  "
   ]
  },
  {
   "cell_type": "code",
   "execution_count": 597,
   "metadata": {},
   "outputs": [
    {
     "data": {
      "text/plain": [
       "array([[0.21328417, 0.02871133, 0.21328417, 0.05332104, 0.0451178 ,\n",
       "        0.00410162, 0.00820324, 0.02050809],\n",
       "       [0.02777826, 0.11111303, 0.10714471, 0.08730309, 0.        ,\n",
       "        0.        , 0.01190497, 0.00793664],\n",
       "       [0.22194863, 0.11524256, 1.22071748, 0.34145944, 0.38841011,\n",
       "        0.0597554 , 0.12377905, 0.05548716],\n",
       "       [0.05435379, 0.09198334, 0.33448486, 0.34284698, 0.        ,\n",
       "        0.        , 0.10870758, 0.00418106],\n",
       "       [0.04599167, 0.        , 0.38047653, 0.        , 0.40974395,\n",
       "        0.06689697, 0.00836212, 0.02508636],\n",
       "       [0.00366681, 0.        , 0.05133537, 0.        , 0.05866899,\n",
       "        0.05866899, 0.00366681, 0.        ],\n",
       "       [0.00795967, 0.0119395 , 0.11541515, 0.10347566, 0.00795967,\n",
       "        0.00397983, 0.11541515, 0.        ],\n",
       "       [0.01786656, 0.00714662, 0.04645306, 0.00357331, 0.02143987,\n",
       "        0.        , 0.        , 0.05359968]])"
      ]
     },
     "execution_count": 597,
     "metadata": {},
     "output_type": "execute_result"
    }
   ],
   "source": [
    "mapped_data = map_data(matrix, row_sum, ideogram_length)\n",
    "mapped_data"
   ]
  },
  {
   "cell_type": "code",
   "execution_count": 598,
   "metadata": {},
   "outputs": [
    {
     "data": {
      "text/plain": [
       "array([[5, 6, 7, 1, 4, 3, 0, 2],\n",
       "       [4, 5, 7, 6, 0, 3, 2, 1],\n",
       "       [7, 5, 1, 6, 0, 3, 4, 2],\n",
       "       [4, 5, 7, 0, 1, 6, 2, 3],\n",
       "       [1, 3, 6, 7, 0, 5, 2, 4],\n",
       "       [1, 3, 7, 0, 6, 2, 4, 5],\n",
       "       [7, 5, 0, 4, 1, 3, 2, 6],\n",
       "       [5, 6, 3, 1, 0, 4, 2, 7]])"
      ]
     },
     "execution_count": 598,
     "metadata": {},
     "output_type": "execute_result"
    }
   ],
   "source": [
    "idx_sort = np.argsort(mapped_data, axis=1)\n",
    "idx_sort"
   ]
  },
  {
   "cell_type": "code",
   "execution_count": 599,
   "metadata": {},
   "outputs": [],
   "source": [
    "def make_ribbon_ends(mapped_data, ideo_ends,  idx_sort):\n",
    "    L = mapped_data.shape[0]\n",
    "    ribbon_boundary = np.zeros((L,L+1))\n",
    "    for k in range(L):\n",
    "        start = ideo_ends[k][0]\n",
    "        ribbon_boundary[k][0] = start\n",
    "        for j in range(1,L+1):\n",
    "            J = idx_sort[k][j-1]\n",
    "            ribbon_boundary[k][j] = start + mapped_data[k][J]\n",
    "            start = ribbon_boundary[k][j]\n",
    "    return [[(ribbon_boundary[k][j], ribbon_boundary[k][j+1] ) for j in range(L)] for k in range(L)] "
   ]
  },
  {
   "cell_type": "code",
   "execution_count": 600,
   "metadata": {},
   "outputs": [
    {
     "name": "stdout",
     "output_type": "stream",
     "text": [
      "ribbon ends starting from the ideogram[2]\n",
      " [(1.0025440104990813, 1.0580311688050041), (1.0580311688050041, 1.1177865700575365), (1.1177865700575365, 1.2330291296159914), (1.2330291296159914, 1.3568081750676653), (1.3568081750676653, 1.5787568082913566), (1.5787568082913566, 1.9202162440201123), (1.9202162440201123, 2.3086263521615717), (2.3086263521615717, 3.5293438348918733)]\n"
     ]
    }
   ],
   "source": [
    "ribbon_ends = make_ribbon_ends(mapped_data, ideo_ends,  idx_sort)\n",
    "print ('ribbon ends starting from the ideogram[2]\\n', ribbon_ends[2])"
   ]
  },
  {
   "cell_type": "code",
   "execution_count": 601,
   "metadata": {},
   "outputs": [],
   "source": [
    "def control_pts(angle, radius):\n",
    "    #angle is a  3-list containing angular coordinates of the control points b0, b1, b2\n",
    "    #radius is the distance from b1 to the  origin O(0,0) \n",
    "\n",
    "    if len(angle) != 3:\n",
    "        raise InvalidInputError('angle must have len =3')\n",
    "    b_cplx = np.array([np.exp(1j*angle[k]) for k in range(3)])\n",
    "    b_cplx[1] = radius * b_cplx[1]\n",
    "    return list(zip(b_cplx.real, b_cplx.imag))"
   ]
  },
  {
   "cell_type": "code",
   "execution_count": 602,
   "metadata": {},
   "outputs": [],
   "source": [
    "def ctrl_rib_chords(l, r, radius):\n",
    "    # this function returns a 2-list containing control poligons of the two quadratic Bezier\n",
    "    #curves that are opposite sides in a ribbon\n",
    "    #l (r) the list of angular variables of the ribbon arc ends defining \n",
    "    #the ribbon starting (ending) arc \n",
    "    # radius is a common parameter for both control polygons\n",
    "    if len(l) != 2 or len(r) != 2:\n",
    "        raise ValueError('the arc ends must be elements in a list of len 2')\n",
    "    return [control_pts([l[j], (l[j]+r[j])/2, r[j]], radius) for j in range(2)]"
   ]
  },
  {
   "cell_type": "code",
   "execution_count": 603,
   "metadata": {},
   "outputs": [],
   "source": [
    "#Define ribbon color\n",
    "ribbon_color = [L * [ideo_colors[k]] for k in range(L)]"
   ]
  },
  {
   "cell_type": "code",
   "execution_count": 604,
   "metadata": {},
   "outputs": [],
   "source": [
    "def make_q_bezier(b):# defines the Plotly SVG path for a quadratic Bezier curve defined by the \n",
    "                     #list of its control points\n",
    "    if len(b) != 3:\n",
    "        raise valueError('control poligon must have 3 points')\n",
    "    A, B, C = b    \n",
    "    return f'M {A[0]}, {A[1]} Q {B[0]}, {B[1]} {C[0]}, {C[1]}'"
   ]
  },
  {
   "cell_type": "code",
   "execution_count": 605,
   "metadata": {},
   "outputs": [
    {
     "data": {
      "text/plain": [
       "'M 1, 4 Q -0.5, 2.35 3.745, 1.47'"
      ]
     },
     "execution_count": 605,
     "metadata": {},
     "output_type": "execute_result"
    }
   ],
   "source": [
    "b=[(1,4), (-0.5, 2.35), (3.745, 1.47)]\n",
    "make_q_bezier(b)"
   ]
  },
  {
   "cell_type": "code",
   "execution_count": 606,
   "metadata": {},
   "outputs": [],
   "source": [
    "def make_ribbon_arc(theta0, theta1):\n",
    "\n",
    "    if test_2PI(theta0) and test_2PI(theta1):\n",
    "        if theta0 < theta1:\n",
    "            theta0 = moduloAB(theta0, -pi, pi)\n",
    "            theta1 = moduloAB(theta1, -pi, pi)\n",
    "            if theta0  *theta1 > 0:\n",
    "                raise ValueError('incorrect angle coordinates for ribbon')\n",
    "    \n",
    "        nr = int(40 * (theta0 - theta1) / pi)\n",
    "        if nr <= 2: nr = 3\n",
    "        theta = np.linspace(theta0, theta1, nr)\n",
    "        pts=np.exp(1j*theta)# points in polar complex form, on the given arc\n",
    "    \n",
    "        string_arc = ''\n",
    "        for k in range(len(theta)):\n",
    "            string_arc += f'L {pts.real[k]}, {pts.imag[k]} '\n",
    "        return   string_arc \n",
    "    else:\n",
    "        raise ValueError('the angle coordinates for an arc side of a ribbon must be in [0, 2*pi]')"
   ]
  },
  {
   "cell_type": "code",
   "execution_count": 607,
   "metadata": {},
   "outputs": [
    {
     "data": {
      "text/plain": [
       "'L 0.5000000000000001, 0.8660254037844386 L 0.5877852522924732, 0.8090169943749473 L 0.6691306063588583, 0.7431448254773941 L 0.7431448254773942, 0.6691306063588581 L 0.8090169943749475, 0.5877852522924731 L 0.8660254037844387, 0.49999999999999994 '"
      ]
     },
     "execution_count": 607,
     "metadata": {},
     "output_type": "execute_result"
    }
   ],
   "source": [
    "make_ribbon_arc(np.pi/3, np.pi/6)"
   ]
  },
  {
   "cell_type": "code",
   "execution_count": 608,
   "metadata": {},
   "outputs": [],
   "source": [
    "def make_layout(title, plot_size):\n",
    "\n",
    "    return dict(title=title,\n",
    "                xaxis=dict(visible=False),\n",
    "                yaxis=dict(visible=False),\n",
    "                showlegend=False,\n",
    "                width=plot_size,\n",
    "                height=plot_size,\n",
    "                margin=dict(t=25, b=25, l=25, r=25),\n",
    "                hovermode=False,\n",
    "                 )  "
   ]
  },
  {
   "cell_type": "code",
   "execution_count": 609,
   "metadata": {},
   "outputs": [],
   "source": [
    "def make_ideo_shape(path, line_color, fill_color):\n",
    "    #line_color is the color of the shape boundary\n",
    "    #fill_color is the color assigned to an ideogram\n",
    "    \n",
    "    return  dict(line=dict(color=line_color, \n",
    "                           width=0.45),\n",
    "                 path=path,\n",
    "                 layer='below',\n",
    "                 type='path',\n",
    "                 fillcolor=fill_color)   "
   ]
  },
  {
   "cell_type": "code",
   "execution_count": 610,
   "metadata": {},
   "outputs": [],
   "source": [
    "def make_ribbon(l, r, line_color, fill_color, radius=0.2):\n",
    "    #l=[l[0], l[1]], r=[r[0], r[1]]  represent the opposite arcs in the ribbon \n",
    "    #line_color is the color of the shape boundary\n",
    "    #fill_color is the fill color for the ribbon shape\n",
    "    \n",
    "    poligon = ctrl_rib_chords(l,r, radius)\n",
    "    b, c = poligon  \n",
    "           \n",
    "    return  dict(line=dict(color=line_color, \n",
    "                             width=0.5),\n",
    "                 path=make_q_bezier(b) + make_ribbon_arc(r[0], r[1])+\n",
    "                         make_q_bezier(c[::-1]) + make_ribbon_arc(l[1], l[0]),\n",
    "                 type='path',\n",
    "                 layer='below',\n",
    "                 fillcolor = fill_color,    \n",
    "        )\n",
    "\n",
    "def make_self_rel(l, line_color, fill_color, radius):\n",
    "    #radius is the radius of Bezier control point b_1\n",
    "    \n",
    "    b = control_pts([l[0], (l[0]+l[1])/2, l[1]], radius) \n",
    "    \n",
    "    return  dict(line = dict(color=line_color, \n",
    "                             width=0.5),\n",
    "                 path =  make_q_bezier(b)+make_ribbon_arc(l[1], l[0]),\n",
    "                 type = 'path',\n",
    "                 layer = 'below',\n",
    "                 fillcolor = fill_color   \n",
    "                )"
   ]
  },
  {
   "cell_type": "code",
   "execution_count": 611,
   "metadata": {},
   "outputs": [],
   "source": [
    "def invPerm(perm):\n",
    "    # function that returns the inverse of a permutation, perm\n",
    "    inv = [0] * len(perm)\n",
    "    for i, s in enumerate(perm):\n",
    "        inv[s] = i\n",
    "    return inv"
   ]
  },
  {
   "cell_type": "code",
   "execution_count": 612,
   "metadata": {},
   "outputs": [],
   "source": [
    "layout=make_layout('Pairwise interactions between common egg mutation genotypes', 800)   "
   ]
  },
  {
   "cell_type": "code",
   "execution_count": 613,
   "metadata": {},
   "outputs": [],
   "source": [
    "ribbon_info=[]\n",
    "shapes=[]\n",
    "annotations = []\n",
    "for k in range(L):\n",
    "    \n",
    "    sigma = idx_sort[k]\n",
    "    sigma_inv = invPerm(sigma)\n",
    "    for j in range(k, L):\n",
    "        if matrix[k][j] == 0 and matrix[j][k]==0: continue\n",
    "        eta = idx_sort[j]\n",
    "        eta_inv = invPerm(eta)\n",
    "        l = ribbon_ends[k][sigma_inv[j]]  \n",
    "        \n",
    "        if j == k:\n",
    "            shapes.append(make_self_rel(l, ideo_colors[k] ,\n",
    "                        ideo_colors[k], radius=radii_sribb[k])) \n",
    "#             shapes.append(make_self_rel(l, 'rgb(175,175,175)' ,\n",
    "#                                     ideo_colors[k], radius=radii_sribb[k])) \n",
    "            z = 0.9*np.exp(1j*(l[0]+l[1])/2)\n",
    "            \n",
    "\n",
    "            ribbon_info.append(go.Scatter(x=[z.real],\n",
    "                                       y=[z.imag],\n",
    "                                       mode='markers',\n",
    "                                       marker=dict(size=0.5, color=ideo_colors[k])\n",
    "                                       )\n",
    "                              )\n",
    "        else:\n",
    "            r = ribbon_ends[j][eta_inv[k]]\n",
    "            zi = 0.9 * np.exp(1j*(l[0]+l[1])/2)\n",
    "            zf = 0.9 * np.exp(1j*(r[0]+r[1])/2)\n",
    "            #texti and textf are the strings that will be displayed when hovering the mouse \n",
    "            #over the two ribbon ends\n",
    "            texti = f'{labels[k]}'\n",
    "            textf = f'{labels[j]}'\n",
    "            \n",
    "            ribbon_info.append(go.Scatter(x=[zi.real],\n",
    "                                          y=[zi.imag],\n",
    "                                          mode='markers',\n",
    "                                          marker=dict(size=0.5, color=ribbon_color[k][j]),\n",
    "                                          text=texti\n",
    "                                       )\n",
    "                              ),\n",
    "            ribbon_info.append(go.Scatter(x=[zf.real],\n",
    "                                          y=[zf.imag],\n",
    "                                          mode='markers',\n",
    "                                          marker=dict(size=0.5, color=ribbon_color[k][j]),\n",
    "                                          text=textf\n",
    "                                       )\n",
    "                              )\n",
    "            r = (r[1], r[0]) # IMPORTANT!!!  Reverse these arc ends because otherwise you get\n",
    "                          # a twisted ribbon\n",
    "            #append the ribbon shape\n",
    "            shapes.append(make_ribbon(l, r, ribbon_color[k][j] , ribbon_color[k][j]))\n",
    "           \n",
    "                                    "
   ]
  },
  {
   "cell_type": "code",
   "execution_count": 614,
   "metadata": {},
   "outputs": [],
   "source": [
    "ideograms = []\n",
    "for k in range(len(ideo_ends)):\n",
    "    z =  make_ideogram_arc(1.1, ideo_ends[k])\n",
    "    zi = make_ideogram_arc(1.0, ideo_ends[k])\n",
    "    m = len(z)\n",
    "    n = len(zi)\n",
    "    ideograms.append(go.Scatter(x=z.real,\n",
    "                                y=z.imag,\n",
    "                                mode='lines',\n",
    "                                line=dict(color=ideo_colors[k], shape='spline', width=0.25)\n",
    "#                                 text=f'{labels[k]} <br>{int(row_sum[k])} viruses'\n",
    "                             )\n",
    "                     )\n",
    "    \n",
    "       \n",
    "    path = 'M '\n",
    "    for s in range(m):\n",
    "        path += f'{z.real[s]}, {z.imag[s]} L '\n",
    "        \n",
    "    Zi = np.array(zi.tolist()[::-1]) \n",
    "\n",
    "    for s in range(m):\n",
    "        path += f'{Zi.real[s]}, {Zi.imag[s]} L '\n",
    "    path += f'{z.real[0]} ,{z.imag[0]}' \n",
    "   \n",
    "    shapes.append(make_ideo_shape(path,ideo_colors[k] , ideo_colors[k]))\n",
    "    \n",
    "    z_text =  make_ideogram_arc(1.2, ideo_ends[k])\n",
    "    Z_text = np.array(z_text.tolist()[::-1]) \n",
    "    annotations.append(dict(x=Z_text.real[int(len(Z_text)/2)], \n",
    "                            y=Z_text.imag[int(len(Z_text)/2)], \n",
    "                            showarrow=False,\n",
    "                            align='left',\n",
    "                            valign='bottom',\n",
    "                            text=f'{labels[k]}'))\n"
   ]
  },
  {
   "cell_type": "code",
   "execution_count": 615,
   "metadata": {},
   "outputs": [
    {
     "data": {
      "text/html": [
       "<script type=\"text/javascript\">window.PlotlyConfig = {MathJaxConfig: 'local'};</script><script type=\"text/javascript\">if (window.MathJax) {MathJax.Hub.Config({SVG: {font: \"STIX-Web\"}});}</script><script>requirejs.config({paths: { 'plotly': ['https://cdn.plot.ly/plotly-latest.min']},});if(!window._Plotly) {require(['plotly'],function(plotly) {window._Plotly=plotly;});}</script>"
      ],
      "text/vnd.plotly.v1+html": [
       "<script type=\"text/javascript\">window.PlotlyConfig = {MathJaxConfig: 'local'};</script><script type=\"text/javascript\">if (window.MathJax) {MathJax.Hub.Config({SVG: {font: \"STIX-Web\"}});}</script><script>requirejs.config({paths: { 'plotly': ['https://cdn.plot.ly/plotly-latest.min']},});if(!window._Plotly) {require(['plotly'],function(plotly) {window._Plotly=plotly;});}</script>"
      ]
     },
     "metadata": {},
     "output_type": "display_data"
    },
    {
     "data": {
      "application/vnd.plotly.v1+json": {
       "config": {
        "linkText": "Export to plot.ly",
        "plotlyServerURL": "https://plot.ly",
        "showLink": true
       },
       "data": [
        {
         "line": {
          "color": "rgba(215,48,39, 0.75)",
          "shape": "spline",
          "width": 0.25
         },
         "mode": "lines",
         "type": "scatter",
         "uid": "424f7e31-0a3c-42f4-8436-304631245d82",
         "x": [
          1.1,
          1.0999417639690854,
          1.099767062042587,
          1.09947591271859,
          1.0990683468250604,
          1.0985444075165793,
          1.0979041502697757,
          1.0971476428774511,
          1.0962749654414017,
          1.0952862103639367,
          1.0941814823380946,
          1.0929608983365586,
          1.0916245875992694,
          1.0901726916197425,
          1.0886053641300852,
          1.08692277108472,
          1.0851250906428114,
          1.0832125131494026,
          1.081185241115261,
          1.0790434891954352,
          1.0767874841665275,
          1.0744174649026805,
          1.0719336823502854,
          1.0693363995014105,
          1.0666258913659543,
          1.063802444942527,
          1.0608663591880618,
          1.05781794498616,
          1.0546575251141737,
          1.0513854342090292,
          1.048002018731794,
          1.044507636930992,
          1.040902658804672,
          1.037187466061229,
          1.03336245207899,
          1.029428021864559,
          1.025384592009936,
          1.0212325906484039,
          1.0169724574091987,
          1.012604643370959,
          1.008129611013963,
          1.0035478341711614,
          0.998859797978005,
          0.9940659988210764,
          0.9891669442855321,
          0.9841631531013564,
          0.9790551550884365,
          0.973843491100464,
          0.9685287129676664,
          0.9631113834383772,
          0.9575920761194513,
          0.9519713754155278,
          0.9462498764671521,
          0.9404281850877599,
          0.9345069176995318,
          0.928486701268123,
          0.9223681732362796,
          0.916151981456343
         ],
         "y": [
          0,
          0.011318828410097063,
          0.022636458340846474,
          0.033951691439799994,
          0.04526332960829479,
          0.05657017512831255,
          0.06787103078929825,
          0.07916470001492529,
          0.09044998698979337,
          0.10172569678604586,
          0.11299063548989316,
          0.12424361032802866,
          0.13548342979392414,
          0.14670890377399068,
          0.15791884367359235,
          0.16911206254289918,
          0.18028737520256538,
          0.19144359836922098,
          0.20257955078076192,
          0.21369405332142655,
          0.22478592914664475,
          0.23585400380764662,
          0.24689710537581733,
          0.25791406456678545,
          0.26890371486423087,
          0.27986489264340014,
          0.29079643729431487,
          0.30169719134466205,
          0.31256600058235096,
          0.32340171417772556,
          0.33420318480541894,
          0.34496926876583567,
          0.3556988261062514,
          0.36639072074151546,
          0.3770438205743431,
          0.38765699761518685,
          0.39822912810167144,
          0.40875909261758286,
          0.4192457762113954,
          0.4296880685143273,
          0.44008486385791074,
          0.45043506139106365,
          0.4607375651966524,
          0.47099128440753135,
          0.48119513332204783,
          0.49134803151900036,
          0.5014489039720376,
          0.5114966811634858,
          0.521490299197594,
          0.5314286999131825,
          0.5413108309956852,
          0.5511356460885728,
          0.5609021049041443,
          0.5706091733336769,
          0.5802558235569213,
          0.5898410341509308,
          0.5993637901982138,
          0.6088230833941964
         ]
        },
        {
         "line": {
          "color": "rgba(244,109,67, 0.75)",
          "shape": "spline",
          "width": 0.25
         },
         "mode": "lines",
         "type": "scatter",
         "uid": "63f91939-6db6-4b1d-a0e0-071f16f698ec",
         "x": [
          0.8965763205639805,
          0.8899080107392033,
          0.8831436774659959,
          0.8762840506339641,
          0.8693298704151431,
          0.8622818871841305,
          0.8551408614371195,
          0.847907563709839,
          0.84058277449441,
          0.8331672841551304,
          0.8256618928431901,
          0.8180674104103346,
          0.8103846563214787,
          0.8026144595662844,
          0.7947576585697108,
          0.7868151011015454,
          0.7787876441849281,
          0.7706761540038756,
          0.7624815058098178,
          0.7542045838271565,
          0.7458462811578548,
          0.7374074996850684,
          0.7288891499758309,
          0.7202921511828013,
          0.7116174309450839,
          0.7028659252881349,
          0.6940385785227612,
          0.6851363431432284,
          0.6761601797244831,
          0.6671110568185045,
          0.6579899508497951,
          0.648797846010022,
          0.6395357341518199,
          0.6302046146817675,
          0.6208054944525486
         ],
         "y": [
          0.6372996951230674,
          0.646578481255133,
          0.6557874998441471,
          0.6649257572124367,
          0.673992267317653,
          0.6829860518591683,
          0.6919061403836371,
          0.7007515703897107,
          0.709521387431894,
          0.7182146452235323,
          0.7268304057389183,
          0.7353677393145074,
          0.7438257247492311,
          0.7522034494038972,
          0.7605000092996654,
          0.7687145092155899,
          0.776846062785215,
          0.7848937925922176,
          0.7928568302650819,
          0.8007343165707997,
          0.8085254015075832,
          0.8162292443965826,
          0.8238450139725984,
          0.8313718884737761,
          0.838809055730277,
          0.8461557132519133,
          0.8534110683147398,
          0.8605743380465889,
          0.8676447495115469,
          0.8746215397933543,
          0.8815039560777277,
          0.8882912557335888,
          0.8949827063931979,
          0.9015775860311775,
          0.9080751830424212
         ]
        },
        {
         "line": {
          "color": "rgba(253,174,97, 0.75)",
          "shape": "spline",
          "width": 0.25
         },
         "mode": "lines",
         "type": "scatter",
         "uid": "dd18c2fc-2afd-423d-8676-c7bed55b96a3",
         "x": [
          0.5919758336170414,
          0.5453336076545716,
          0.4973530161519863,
          0.4481518137632445,
          0.39785075078300053,
          0.34657327679950445,
          0.29444523772285713,
          0.2415945669321764,
          0.18815097129966962,
          0.13424561286217135,
          0.08001078692139714,
          0.025579597362921477,
          -0.02891437000928122,
          -0.0833373753210291,
          -0.13755585285424307,
          -0.1914367388458444,
          -0.24484779805474421,
          -0.29765794829546427,
          -0.34973758214191036,
          -0.40095888501177307,
          -0.45119614885090203,
          -0.5003260806478119,
          -0.548228105021154,
          -0.5947846601375425,
          -0.6398814862334853,
          -0.6834079060333342,
          -0.725257096375033,
          -0.7653263503770529,
          -0.8035173295030898,
          -0.8397363049059049,
          -0.8738943874580057,
          -0.90590774590461,
          -0.9356978126035133,
          -0.9631914763469194,
          -0.9883212617920123,
          -1.0110254950599074,
          -1.0312484550965666,
          -1.0489405104242089,
          -1.064058240947589,
          -1.0765645445162195,
          -1.0864287279809977,
          -1.093626582521771,
          -1.098140443060971,
          -1.099959231617498,
          -1.0990784844944612,
          -1.095500363234048,
          -1.089233649312636,
          -1.0802937225891667,
          -1.0687025235596777,
          -1.0544884995106225,
          -1.0376865347031339,
          -1.01833786475957
         ],
         "y": [
          0.9271270745768397,
          0.9553068911938456,
          0.9811421799741984,
          1.0045695355826367,
          1.0255314622679321,
          1.0439765149697835,
          1.0598594255760196,
          1.0731412140202492,
          1.0837892839472953,
          1.0917775027116379,
          1.0970862655125253,
          1.0997025435083576,
          1.0996199157922553,
          1.096838585150341,
          1.0913653775640595,
          1.0832137254577547,
          1.072403634732624,
          1.0589616356679477,
          1.0429207178100983,
          1.024320249009125,
          1.003205878801612,
          0.9796294263769334,
          0.9536487534018564,
          0.9253276220156125,
          0.8947355383439434,
          0.8619475819161706,
          0.8270442214039443,
          0.7901111171338755,
          0.7512389108587382,
          0.7105230033031846,
          0.6680633200299184,
          0.6239640662009543,
          0.5783334708358153,
          0.5312835211943261,
          0.4829296879358784,
          0.43339064172968644,
          0.3827879620115353,
          0.3312458386017857,
          0.27889076691694675,
          0.2258512375228107,
          0.17225742079106998,
          0.11824084743333123,
          0.06393408569655605,
          0.009470416012180637,
          -0.045016496102633474,
          -0.09939292808881654,
          -0.15352542852921083,
          -0.20728114466695016,
          -0.2605281484545896,
          -0.31313576033381385,
          -0.36497486995107215,
          -0.41591825302205726
         ]
        },
        {
         "line": {
          "color": "rgba(254,224,139, 0.75)",
          "shape": "spline",
          "width": 0.25
         },
         "mode": "lines",
         "type": "scatter",
         "uid": "b380cb67-bb8f-4442-b924-5240761a2760",
         "x": [
          -1.0047710684541495,
          -1.0001615123049503,
          -0.995448308443978,
          -0.990631945305139,
          -0.9857129220128372,
          -0.9806917483302483,
          -0.975568944606492,
          -0.970345041722708,
          -0.9650205810370409,
          -0.9595961143285386,
          -0.9540722037399693,
          -0.9484494217195683,
          -0.9427283509617136,
          -0.9369095843465411,
          -0.9309937248785024,
          -0.9249813856238773,
          -0.9188731896472393,
          -0.9126697699468874,
          -0.9063717693892477,
          -0.899979840642253,
          -0.893494646107706,
          -0.8869168578526329,
          -0.8802471575396381,
          -0.8734862363562624,
          -0.8666347949433538,
          -0.8596935433224593,
          -0.8526632008222461,
          -0.8455444960039562,
          -0.8383381665859035,
          -0.8310449593670255,
          -0.8236656301494908,
          -0.8162009436603743,
          -0.8086516734724079,
          -0.8010186019238151,
          -0.7933025200372362,
          -0.7855042274377526,
          -0.777624532270023,
          -0.7696642511145334,
          -0.7616242089029741,
          -0.7535052388327507,
          -0.7453081822806403,
          -0.7370338887155989,
          -0.7286832156107278,
          -0.7202570283544154,
          -0.7117562001606551,
          -0.703181611978553,
          -0.6945341524010353,
          -0.685814717572762,
          -0.6770242110972564,
          -0.6681635439432683,
          -0.6592336343503655,
          -0.6502354077337783,
          -0.641169796588496,
          -0.632037740392632,
          -0.6228401855100666,
          -0.6135780850923697,
          -0.6042523989800306,
          -0.5948640936029853,
          -0.5854141418804651,
          -0.5759035231201722,
          -0.5663332229167932,
          -0.556704233049861,
          -0.5470175513809736,
          -0.537274181750389,
          -0.5274751338729928,
          -0.5176214232336619,
          -0.5077140709820283,
          -0.4977541038266565,
          -0.48774255392864574,
          -0.4776804587946623,
          -0.46756886116942736,
          -0.45740880892765245,
          -0.44720135496544816,
          -0.43694755709121175,
          -0.4266484779160051,
          -0.4163051847434362,
          -0.4059187494590502,
          -0.39549024841925395,
          -0.38502076233976845,
          -0.3745113761836345,
          -0.3639631790487765,
          -0.3533772640551386,
          -0.3427547282314041,
          -0.3320966724013062,
          -0.32140420106955314,
          -0.31067842230736464,
          -0.29992044763764186,
          -0.28913139191977905,
          -0.27831237323412983,
          -0.26746451276614025,
          -0.2565889346901557,
          -0.24568676605292689,
          -0.23475913665680948
         ],
         "y": [
          -0.44769978780149877,
          -0.45790495662732744,
          -0.46806267231645704,
          -0.4781718822149169,
          -0.48823153869543745,
          -0.4982405992660185,
          -0.508198026677963,
          -0.5181027890333695,
          -0.5279538598920667,
          -0.537750218377985,
          -0.5474908492849527,
          -0.5571747431819004,
          -0.5668008965174706,
          -0.5763683117240155,
          -0.5858759973209787,
          -0.5953229680176401,
          -0.6047082448152241,
          -0.6140308551083534,
          -0.6232898327858434,
          -0.6324842183308174,
          -0.6416130589201451,
          -0.6506754085231843,
          -0.6596703279998181,
          -0.6685968851977788,
          -0.6774541550492487,
          -0.6862412196667255,
          -0.6949571684381436,
          -0.7036010981212408,
          -0.7121721129371651,
          -0.7206693246633015,
          -0.729091852725322,
          -0.7374388242884387,
          -0.7457093743478584,
          -0.7539026458184218,
          -0.762017789623425,
          -0.7700539647826116,
          -0.7780103384993209,
          -0.7858860862467949,
          -0.793680391853622,
          -0.801392447588321,
          -0.8090214542430428,
          -0.8165666212163967,
          -0.8240271665953798,
          -0.831402317236407,
          -0.8386913088454331,
          -0.8458933860571578,
          -0.8530078025133039,
          -0.8600338209399633,
          -0.8669707132240038,
          -0.87381776048852,
          -0.8805742531673344,
          -0.887239491078529,
          -0.8938127834970067,
          -0.900293449226071,
          -0.9066808166680191,
          -0.9129742238937422,
          -0.9191730187113186,
          -0.9252765587336031,
          -0.9312842114447978,
          -0.937195354266,
          -0.9430093746197213,
          -0.9487256699933686,
          -0.9543436480016849,
          -0.9598627264481366,
          -0.9652823333852477,
          -0.9706019071738725,
          -0.9758208965413973,
          -0.98093876063887,
          -0.9859549690970487,
          -0.9908690020813655,
          -0.9956803503457949,
          -1.0003885152856298,
          -1.0049930089891508,
          -1.0094933542881908,
          -1.013889084807582,
          -1.018179745013489,
          -1.0223648902606157,
          -1.0264440868382831,
          -1.0304169120153763,
          -1.034282954084152,
          -1.0380418124029054,
          -1.0416930974374867,
          -1.045236430801671,
          -1.048671445296371,
          -1.0519977849476883,
          -1.0552151050438043,
          -1.0583230721707038,
          -1.0613213642467259,
          -1.064209670555942,
          -1.0669876917803558,
          -1.069655140030922,
          -1.07221173887738,
          -1.0746572233769005
         ]
        },
        {
         "line": {
          "color": "rgba(217,239,139, 0.75)",
          "shape": "spline",
          "width": 0.25
         },
         "mode": "lines",
         "type": "scatter",
         "uid": "689167c0-16d8-4029-829d-aa98edd669aa",
         "x": [
          -0.20088749805921444,
          -0.18986762809699834,
          -0.1788280819675332,
          -0.16777000370973805,
          -0.15669453928303534,
          -0.1456028364485902,
          -0.13449604465037274,
          -0.12337531489603609,
          -0.11224179963763735,
          -0.10109665265220787,
          -0.08994102892218618,
          -0.07877608451572705,
          -0.06760297646689312,
          -0.056422862655756106,
          -0.045236901688400805,
          -0.03404625277685844,
          -0.022852075618976484,
          -0.011655530278238015,
          -0.0004577770635441849,
          0.010740023591033637,
          0.021936711246504908,
          0.03313112557922123,
          0.04432210650112089,
          0.05550849427994984,
          0.06668912965944596,
          0.07786285397947286,
          0.08902850929609694,
          0.10018493850158036,
          0.11133098544429708,
          0.12246549504854513,
          0.13358731343424815,
          0.1446952880365331,
          0.15578826772517074,
          0.16686510292387222,
          0.17792464572941508,
          0.18896575003060528,
          0.19998727162704902,
          0.21098806834772724,
          0.2219670001693599,
          0.23292292933454686,
          0.24385472046967857,
          0.25476124070259004,
          0.26564135977996556,
          0.27649395018446693,
          0.2873178872515789,
          0.29811204928615986,
          0.3088753176786825,
          0.3196065770211608,
          0.33030471522273486,
          0.34096862362492186,
          0.35159719711650644,
          0.36218933424806443,
          0.37274393734610695,
          0.383259912626833,
          0.39373617030948255,
          0.404171624729266,
          0.4145651944498767,
          0.4249158023755602,
          0.4352223758627348,
          0.4454838468311502,
          0.45569915187457366,
          0.46586723237099437,
          0.4759870345923251,
          0.4860575098136039,
          0.496077614421674,
          0.5060463100233342,
          0.515962563552949,
          0.5258253473795058,
          0.535633639413109,
          0.5453864232109005,
          0.5550826880823967,
          0.5647214291942231,
          0.5743016476742491,
          0.5838223507151016,
          0.5932825516770504,
          0.6026812701902547,
          0.6120175322563588,
          0.6212903703494324,
          0.6304988235162299,
          0.6396419374757799,
          0.6487187647182767,
          0.6577283646032713,
          0.6666698034571514,
          0.6755421546698982,
          0.6843444987911141,
          0.6930759236253031,
          0.7017355243264043,
          0.7103224034915616,
          0.7188356712541228,
          0.727274445375857,
          0.7356378513383809,
          0.7439250224337893,
          0.7521350998544686
         ],
         "y": [
          -1.08150090759255,
          -1.0834898632662975,
          -1.0853665358300917,
          -1.0871307308025262,
          -1.0887822653583579,
          -1.090320968347452,
          -1.0917466803125189,
          -1.0930592535056387,
          -1.094258551903573,
          -1.0953444512218606,
          -1.0963168389276974,
          -1.097175614251598,
          -1.0979206881978392,
          -1.0985519835536823,
          -1.0990694348973744,
          -1.099472988604929,
          -1.0997626028556822,
          -1.0999382476366268,
          -1.0999999047455231,
          -1.0999475677927855,
          -1.0997812422021425,
          -1.0995009452100775,
          -1.099106705864041,
          -1.09859856501944,
          -1.0979765753354058,
          -1.0972408012693347,
          -1.09639131907021,
          -1.0954282167706995,
          -1.0943515941780328,
          -1.093161562863658,
          -1.0918582461516788,
          -1.0904417791060763,
          -1.08891230851671,
          -1.0872699928841068,
          -1.0855150024030356,
          -1.0836475189448693,
          -1.0816677360387381,
          -1.0795758588514728,
          -1.077372104166344,
          -1.0750567003605966,
          -1.0726298873817823,
          -1.0700919167228942,
          -1.0674430513963034,
          -1.0646835659065044,
          -1.0618137462216664,
          -1.0588338897439986,
          -1.0557443052789313,
          -1.052545313003111,
          -1.0492372444312241,
          -1.0458204423816388,
          -1.0422952609408798,
          -1.0386620654269338,
          -1.0349212323513908,
          -1.031073149380427,
          -1.0271182152946283,
          -1.0230568399476667,
          -1.0188894442238257,
          -1.0146164599943834,
          -1.010238330072858,
          -1.0057555081691179,
          -1.0011684588423642,
          -0.9964776574529858,
          -0.9916835901133007,
          -0.9867867536371769,
          -0.9817876554885486,
          -0.9766868137288266,
          -0.971484756963211,
          -0.9661820242859118,
          -0.9607791652242818,
          -0.9552767396818688,
          -0.9496753178803906,
          -0.9439754803006455,
          -0.938177817622354,
          -0.932282930662947,
          -0.9262914303153021,
          -0.9202039374844369,
          -0.9140210830231636,
          -0.9077435076667116,
          -0.9013718619663308,
          -0.8949068062218717,
          -0.8883490104133585,
          -0.8816991541315589,
          -0.8749579265075568,
          -0.8681260261413384,
          -0.8612041610293919,
          -0.8541930484913426,
          -0.847093415095612,
          -0.8399059965841245,
          -0.8326315377960619,
          -0.8252707925906744,
          -0.8178245237691583,
          -0.8102935029956037,
          -0.8026785107170298
         ]
        },
        {
         "line": {
          "color": "rgba(166,217,106, 0.75)",
          "shape": "spline",
          "width": 0.25
         },
         "mode": "lines",
         "type": "scatter",
         "uid": "19719c26-a2b3-4c39-9173-0e4685030e65",
         "x": [
          0.7769767079031992,
          0.7849966340560205,
          0.7929324156929323,
          0.8007832021701531,
          0.8085481519546142,
          0.8162264327141584,
          0.8238172214067642,
          0.8313197043687632,
          0.8387330774020629,
          0.8460565458603434,
          0.8532893247342421,
          0.8604306387354952,
          0.8674797223800446,
          0.8744358200700876,
          0.8812981861750746,
          0.8880660851116289,
          0.8947387914223991,
          0.9013155898538173
         ],
         "y": [
          -0.7786573029105339,
          -0.7705714013125056,
          -0.7624029014526186,
          -0.7541526789199359,
          -0.745821618063447,
          -0.7374106118972792,
          -0.7289205620049681,
          -0.7203523784428232,
          -0.7117069796423705,
          -0.7029852923119125,
          -0.6941882513371868,
          -0.6853167996811607,
          -0.6763718882829483,
          -0.6673544759558848,
          -0.6582655292847436,
          -0.6491060225221342,
          -0.6398769374840642,
          -0.6305792634447039
         ]
        },
        {
         "line": {
          "color": "rgba(102,189,99, 0.75)",
          "shape": "spline",
          "width": 0.25
         },
         "mode": "lines",
         "type": "scatter",
         "uid": "e560b1b7-b3d3-4b61-976d-1a9e65991195",
         "x": [
          0.9206778183425246,
          0.9269245641214793,
          0.9330698697981413,
          0.9391130628469779,
          0.9450534819173841,
          0.95089047690606,
          0.956623409028155,
          0.9622516508871767,
          0.967774586543649,
          0.9731916115825209,
          0.9785021331793109,
          0.9837055701649842,
          0.9888013530895552,
          0.9937889242844051,
          0.9986677379233128,
          1.0034372600821881,
          1.008096968797503,
          1.0126463541234136,
          1.017084918187569,
          1.0214121752455934,
          1.0256276517342484,
          1.029730886323257,
          1.0337214299657898,
          1.0375988459476082,
          1.0413627099348568,
          1.045012610020502,
          1.0485481467694089,
          1.0519689332620554,
          1.0552745951368752,
          1.0584647706312265,
          1.0615391106209837,
          1.0644972786587426,
          1.0673389510106421,
          1.0700638166917915,
          1.0726715775003048,
          1.0751619480499344
         ],
         "y": [
          -0.6019571037973134,
          -0.5922928772391289,
          -0.5825638317599882,
          -0.5727710320801571,
          -0.5629155498969883,
          -0.5529984637676367,
          -0.5430208589910255,
          -0.5329838274890742,
          -0.5228884676872013,
          -0.5127358843941158,
          -0.5025271886809096,
          -0.4922634977594657,
          -0.48194593486019266,
          -0.4715756291091018,
          -0.4611537154042388,
          -0.450681334291483,
          -0.44015963183973006,
          -0.42958975951546846,
          -0.41897287405676553,
          -0.40831013734668103,
          -0.3976027162861081,
          -0.38685178266607456,
          -0.37605851303950416,
          -0.36522408859245836,
          -0.35434969501486996,
          -0.3434365223707846,
          -0.33248576496812365,
          -0.32149862122798206,
          -0.3104762935534766,
          -0.2994199881981581,
          -0.2883309151340024,
          -0.27721028791899394,
          -0.26605932356431794,
          -0.25487924240117343,
          -0.24367126794722385,
          -0.23243662677269836
         ]
        },
        {
         "line": {
          "color": "rgba(26,152,80, 0.75)",
          "shape": "spline",
          "width": 0.25
         },
         "mode": "lines",
         "type": "scatter",
         "uid": "e84a0be9-4990-46c7-81d2-eb9452d8ae0a",
         "x": [
          1.081932431415999,
          1.083643085934891,
          1.085269285312793,
          1.08681090280973,
          1.0882678182777261,
          1.0896399181701695,
          1.0909270955506607,
          1.092129250101347,
          1.0932462881307419,
          1.0942781225810252,
          1.0952246730348303,
          1.0960858657215096,
          1.0968616335228845,
          1.0975519159784775,
          1.098156659290222,
          1.0986758163266581,
          1.0991093466266026,
          1.0994572164023049
         ],
         "y": [
          -0.1985502804084257,
          -0.18899116991411677,
          -0.17941733014583555,
          -0.16982950725330412,
          -0.16022844847603768,
          -0.1506149020851074,
          -0.14098961732482293,
          -0.13135334435433918,
          -0.12170683418919151,
          -0.1120508386427644,
          -0.10238611026769802,
          -0.09271340229723689,
          -0.08303346858652577,
          -0.07334706355385692,
          -0.06365494212187352,
          -0.053957859658733856,
          -0.044256571919240616,
          -0.03455183498594022
         ]
        },
        {
         "marker": {
          "color": "rgba(215,48,39, 0.75)",
          "size": 0.5
         },
         "mode": "markers",
         "type": "scatter",
         "uid": "2f26342f-ddad-410c-ac8d-2fbd3274fc52",
         "x": [
          0.8682037547752147
         ],
         "y": [
          0.2371122944813675
         ]
        },
        {
         "marker": {
          "color": "rgba(215,48,39, 0.75)",
          "size": 0.5
         },
         "mode": "markers",
         "text": "138 S",
         "type": "scatter",
         "uid": "03a07ebb-4fc4-40ea-b6d1-22a111f822de",
         "x": [
          0.8989989904544659
         ],
         "y": [
          0.04243601255833425
         ]
        },
        {
         "marker": {
          "color": "rgba(215,48,39, 0.75)",
          "size": 0.5
         },
         "mode": "markers",
         "text": "156 R/Q",
         "type": "scatter",
         "uid": "00fb055c-2a38-49fe-be76-69c723240380",
         "x": [
          0.7155603888115639
         ],
         "y": [
          0.5458693341486069
         ]
        },
        {
         "marker": {
          "color": "rgba(215,48,39, 0.75)",
          "size": 0.5
         },
         "mode": "markers",
         "text": "138 S",
         "type": "scatter",
         "uid": "47b0d671-5ef8-49ca-8995-7a6242672cc7",
         "x": [
          0.7983414011954725
         ],
         "y": [
          0.4155129446085281
         ]
        },
        {
         "marker": {
          "color": "rgba(215,48,39, 0.75)",
          "size": 0.5
         },
         "mode": "markers",
         "text": "160 K",
         "type": "scatter",
         "uid": "99363cd1-8ab9-48d3-b620-c8bb3a95a027",
         "x": [
          0.09254856347742725
         ],
         "y": [
          0.8952288888313785
         ]
        },
        {
         "marker": {
          "color": "rgba(215,48,39, 0.75)",
          "size": 0.5
         },
         "mode": "markers",
         "text": "138 S",
         "type": "scatter",
         "uid": "1facbb6e-7ea2-42d7-878f-c945ad44ec5a",
         "x": [
          0.8920155209685797
         ],
         "y": [
          0.1196173497079473
         ]
        },
        {
         "marker": {
          "color": "rgba(215,48,39, 0.75)",
          "size": 0.5
         },
         "mode": "markers",
         "text": "186 V",
         "type": "scatter",
         "uid": "552c3deb-1d97-4117-a1da-2c007a70a5fc",
         "x": [
          -0.8101967344515356
         ],
         "y": [
          -0.3918944392104435
         ]
        },
        {
         "marker": {
          "color": "rgba(215,48,39, 0.75)",
          "size": 0.5
         },
         "mode": "markers",
         "text": "138 S",
         "type": "scatter",
         "uid": "cb3871d0-f797-40e7-b1dd-bf97e2fc9b87",
         "x": [
          0.8968203823683097
         ],
         "y": [
          0.07558572463606308
         ]
        },
        {
         "marker": {
          "color": "rgba(215,48,39, 0.75)",
          "size": 0.5
         },
         "mode": "markers",
         "text": "194 P",
         "type": "scatter",
         "uid": "9e2c740e-758d-4035-a53e-76ead9d64f1d",
         "x": [
          -0.11418169030431584
         ],
         "y": [
          -0.8927275853244646
         ]
        },
        {
         "marker": {
          "color": "rgba(215,48,39, 0.75)",
          "size": 0.5
         },
         "mode": "markers",
         "text": "138 S",
         "type": "scatter",
         "uid": "ee090b11-0a43-43cb-9962-5d91513f8c94",
         "x": [
          0.8999981073822138
         ],
         "y": [
          0.0018457270744566474
         ]
        },
        {
         "marker": {
          "color": "rgba(215,48,39, 0.75)",
          "size": 0.5
         },
         "mode": "markers",
         "text": "203 I",
         "type": "scatter",
         "uid": "53b5a4ad-6746-4ee1-82a9-730b65ab0846",
         "x": [
          0.6368751786992618
         ],
         "y": [
          -0.635916666519115
         ]
        },
        {
         "marker": {
          "color": "rgba(215,48,39, 0.75)",
          "size": 0.5
         },
         "mode": "markers",
         "text": "138 S",
         "type": "scatter",
         "uid": "58f4e673-a3c3-4f3b-8819-a25e1028d042",
         "x": [
          0.8999697182746187
         ],
         "y": [
          0.0073828306701138185
         ]
        },
        {
         "marker": {
          "color": "rgba(215,48,39, 0.75)",
          "size": 0.5
         },
         "mode": "markers",
         "text": "219 F/Y",
         "type": "scatter",
         "uid": "ef161e97-b476-435a-a648-58fbc969af3f",
         "x": [
          0.7571781654113281
         ],
         "y": [
          -0.48649894740311145
         ]
        },
        {
         "marker": {
          "color": "rgba(215,48,39, 0.75)",
          "size": 0.5
         },
         "mode": "markers",
         "text": "138 S",
         "type": "scatter",
         "uid": "a4b4942f-106c-4b42-a971-ab964b022f8e",
         "x": [
          0.8997710028793023
         ],
         "y": [
          0.02030129004705118
         ]
        },
        {
         "marker": {
          "color": "rgba(215,48,39, 0.75)",
          "size": 0.5
         },
         "mode": "markers",
         "text": "225 G",
         "type": "scatter",
         "uid": "757bc3de-343c-477d-8909-f566f5c36865",
         "x": [
          0.8882389562924632
         ],
         "y": [
          -0.14502260694276467
         ]
        },
        {
         "marker": {
          "color": "rgba(244,109,67, 0.75)",
          "size": 0.5
         },
         "mode": "markers",
         "type": "scatter",
         "uid": "b697b697-6444-452b-9d04-c0a1f6bab440",
         "x": [
          0.5484037240222775
         ],
         "y": [
          0.7136198956576937
         ]
        },
        {
         "marker": {
          "color": "rgba(244,109,67, 0.75)",
          "size": 0.5
         },
         "mode": "markers",
         "text": "156 R/Q",
         "type": "scatter",
         "uid": "fea054f8-175c-41f1-b61a-4490e7e7df69",
         "x": [
          0.6228635130823966
         ],
         "y": [
          0.649646861048874
         ]
        },
        {
         "marker": {
          "color": "rgba(244,109,67, 0.75)",
          "size": 0.5
         },
         "mode": "markers",
         "text": "160 K",
         "type": "scatter",
         "uid": "639db5d3-2aed-4d8d-8078-6f1b9101e080",
         "x": [
          0.3466500503943412
         ],
         "y": [
          0.8305623050449621
         ]
        },
        {
         "marker": {
          "color": "rgba(244,109,67, 0.75)",
          "size": 0.5
         },
         "mode": "markers",
         "text": "156 R/Q",
         "type": "scatter",
         "uid": "b6bb4c66-5d48-49aa-bd10-eb64a5bc79b3",
         "x": [
          0.6829837700995662
         ],
         "y": [
          0.5861170273764301
         ]
        },
        {
         "marker": {
          "color": "rgba(244,109,67, 0.75)",
          "size": 0.5
         },
         "mode": "markers",
         "text": "186 V",
         "type": "scatter",
         "uid": "2ad996d1-b83e-4a5a-98d8-8751f563f8d5",
         "x": [
          -0.7793801773141127
         ],
         "y": [
          -0.4500739263830136
         ]
        },
        {
         "marker": {
          "color": "rgba(244,109,67, 0.75)",
          "size": 0.5
         },
         "mode": "markers",
         "text": "156 R/Q",
         "type": "scatter",
         "uid": "b32348eb-8e68-4605-a516-f8f727c3192c",
         "x": [
          0.7262497561139983
         ],
         "y": [
          0.5315649459326283
         ]
        },
        {
         "marker": {
          "color": "rgba(244,109,67, 0.75)",
          "size": 0.5
         },
         "mode": "markers",
         "text": "219 F/Y",
         "type": "scatter",
         "uid": "21f3629a-b0b2-49cf-8cae-45e973a437de",
         "x": [
          0.765769104184222
         ],
         "y": [
          -0.47286116258040706
         ]
        },
        {
         "marker": {
          "color": "rgba(244,109,67, 0.75)",
          "size": 0.5
         },
         "mode": "markers",
         "text": "156 R/Q",
         "type": "scatter",
         "uid": "e4076968-1da7-4bbf-98b7-494c61ac79e4",
         "x": [
          0.7314874830551048
         ],
         "y": [
          0.5243339223564577
         ]
        },
        {
         "marker": {
          "color": "rgba(244,109,67, 0.75)",
          "size": 0.5
         },
         "mode": "markers",
         "text": "225 G",
         "type": "scatter",
         "uid": "f340738d-36d6-48ed-872b-e1d4293633c6",
         "x": [
          0.8863557989496302
         ],
         "y": [
          -0.15611981830748722
         ]
        },
        {
         "marker": {
          "color": "rgba(253,174,97, 0.75)",
          "size": 0.5
         },
         "mode": "markers",
         "type": "scatter",
         "uid": "8dd1c55b-17c5-4cd2-973f-69ec25cc17c8",
         "x": [
          -0.8777925768455577
         ],
         "y": [
          0.19869623055014346
         ]
        },
        {
         "marker": {
          "color": "rgba(253,174,97, 0.75)",
          "size": 0.5
         },
         "mode": "markers",
         "text": "160 K",
         "type": "scatter",
         "uid": "28d3a65e-c8fd-460d-82e8-07f1f505c0c5",
         "x": [
          -0.15996670301437507
         ],
         "y": [
          0.8856696076566649
         ]
        },
        {
         "marker": {
          "color": "rgba(253,174,97, 0.75)",
          "size": 0.5
         },
         "mode": "markers",
         "text": "186 V",
         "type": "scatter",
         "uid": "10c7bb56-e688-46da-bca6-b107b6a3ae4f",
         "x": [
          -0.5969303655488619
         ],
         "y": [
          -0.6735533673627518
         ]
        },
        {
         "marker": {
          "color": "rgba(253,174,97, 0.75)",
          "size": 0.5
         },
         "mode": "markers",
         "text": "160 K",
         "type": "scatter",
         "uid": "e5d052b3-328b-494f-b2b1-fa08ce3d7068",
         "x": [
          -0.4655175985953996
         ],
         "y": [
          0.7702553897234167
         ]
        },
        {
         "marker": {
          "color": "rgba(253,174,97, 0.75)",
          "size": 0.5
         },
         "mode": "markers",
         "text": "194 P",
         "type": "scatter",
         "uid": "bbb5eb5d-b860-478f-9820-5cf670de8b58",
         "x": [
          0.13709196234292545
         ],
         "y": [
          -0.889497495140355
         ]
        },
        {
         "marker": {
          "color": "rgba(253,174,97, 0.75)",
          "size": 0.5
         },
         "mode": "markers",
         "text": "160 K",
         "type": "scatter",
         "uid": "be2d3cd8-1756-466b-ad51-1c226585eb7d",
         "x": [
          0.4179045662856262
         ],
         "y": [
          0.797092073400321
         ]
        },
        {
         "marker": {
          "color": "rgba(253,174,97, 0.75)",
          "size": 0.5
         },
         "mode": "markers",
         "text": "203 I",
         "type": "scatter",
         "uid": "9561ee04-8962-452c-a719-a92000f6812c",
         "x": [
          0.6563828403971717
         ],
         "y": [
          -0.6157609656613037
         ]
        },
        {
         "marker": {
          "color": "rgba(253,174,97, 0.75)",
          "size": 0.5
         },
         "mode": "markers",
         "text": "160 K",
         "type": "scatter",
         "uid": "56ad3ef5-641d-4820-a175-ccab79953ffb",
         "x": [
          0.2451523754417651
         ],
         "y": [
          0.8659678474488877
         ]
        },
        {
         "marker": {
          "color": "rgba(253,174,97, 0.75)",
          "size": 0.5
         },
         "mode": "markers",
         "text": "219 F/Y",
         "type": "scatter",
         "uid": "a64948a0-be05-479a-81ae-c321ed69b248",
         "x": [
          0.8337687514945491
         ],
         "y": [
          -0.3388652667819778
         ]
        },
        {
         "marker": {
          "color": "rgba(253,174,97, 0.75)",
          "size": 0.5
         },
         "mode": "markers",
         "text": "160 K",
         "type": "scatter",
         "uid": "ff2557b9-3fd8-4195-b7de-eea997625de1",
         "x": [
          0.463115046029029
         ],
         "y": [
          0.7717023092757532
         ]
        },
        {
         "marker": {
          "color": "rgba(253,174,97, 0.75)",
          "size": 0.5
         },
         "mode": "markers",
         "text": "225 G",
         "type": "scatter",
         "uid": "58b9ba19-fe70-4fbe-a37d-ae44d17329ea",
         "x": [
          0.8947327835796177
         ],
         "y": [
          -0.09722780460274197
         ]
        },
        {
         "marker": {
          "color": "rgba(254,224,139, 0.75)",
          "size": 0.5
         },
         "mode": "markers",
         "type": "scatter",
         "uid": "0c9af353-e560-4ed2-aaa2-d0aeaf3c7540",
         "x": [
          -0.33924994183524726
         ],
         "y": [
          -0.8336123061500361
         ]
        },
        {
         "marker": {
          "color": "rgba(254,224,139, 0.75)",
          "size": 0.5
         },
         "mode": "markers",
         "text": "186 V",
         "type": "scatter",
         "uid": "c2980a55-04ec-455d-b3f9-132a7d7571cd",
         "x": [
          -0.7303724774242856
         ],
         "y": [
          -0.5258859612321968
         ]
        },
        {
         "marker": {
          "color": "rgba(254,224,139, 0.75)",
          "size": 0.5
         },
         "mode": "markers",
         "text": "219 F/Y",
         "type": "scatter",
         "uid": "de918008-387c-4620-a38d-4b995ea1223e",
         "x": [
          0.7917669187319283
         ],
         "y": [
          -0.4279078713949394
         ]
        },
        {
         "marker": {
          "color": "rgba(254,224,139, 0.75)",
          "size": 0.5
         },
         "mode": "markers",
         "text": "186 V",
         "type": "scatter",
         "uid": "6c8e2f55-5b1e-4c2d-a8e4-b5c1f56896eb",
         "x": [
          -0.8213178629081519
         ],
         "y": [
          -0.36801761923579995
         ]
        },
        {
         "marker": {
          "color": "rgba(254,224,139, 0.75)",
          "size": 0.5
         },
         "mode": "markers",
         "text": "225 G",
         "type": "scatter",
         "uid": "227d7fcd-33cd-4742-acfd-bd88002b2b59",
         "x": [
          0.8855062735512236
         ],
         "y": [
          -0.16086839186560428
         ]
        },
        {
         "marker": {
          "color": "rgba(217,239,139, 0.75)",
          "size": 0.5
         },
         "mode": "markers",
         "type": "scatter",
         "uid": "3137d6d7-cbe8-45b0-ad4b-90d87ae06789",
         "x": [
          0.46890601757459105
         ],
         "y": [
          -0.7681973357688356
         ]
        },
        {
         "marker": {
          "color": "rgba(217,239,139, 0.75)",
          "size": 0.5
         },
         "mode": "markers",
         "text": "194 P",
         "type": "scatter",
         "uid": "ef6f3828-6929-4bad-9426-1b14a20ae972",
         "x": [
          -0.06363720033029964
         ],
         "y": [
          -0.8977473512821529
         ]
        },
        {
         "marker": {
          "color": "rgba(217,239,139, 0.75)",
          "size": 0.5
         },
         "mode": "markers",
         "text": "203 I",
         "type": "scatter",
         "uid": "c8c64dc8-b931-4557-9c58-d733263a2265",
         "x": [
          0.6892413537215636
         ],
         "y": [
          -0.5787455022028823
         ]
        },
        {
         "marker": {
          "color": "rgba(217,239,139, 0.75)",
          "size": 0.5
         },
         "mode": "markers",
         "text": "194 P",
         "type": "scatter",
         "uid": "f954ed33-acb6-415b-926b-2edb78ddc93f",
         "x": [
          -0.16066140086524255
         ],
         "y": [
          -0.8855438522580448
         ]
        },
        {
         "marker": {
          "color": "rgba(217,239,139, 0.75)",
          "size": 0.5
         },
         "mode": "markers",
         "text": "219 F/Y",
         "type": "scatter",
         "uid": "c5d0fc5a-c5be-4162-b26b-1fb982cb51bb",
         "x": [
          0.7610265077125161
         ],
         "y": [
          -0.4804567145528218
         ]
        },
        {
         "marker": {
          "color": "rgba(217,239,139, 0.75)",
          "size": 0.5
         },
         "mode": "markers",
         "text": "194 P",
         "type": "scatter",
         "uid": "a0130c78-d7cc-49b5-9c3b-aeaf4b65b124",
         "x": [
          -0.14582957279509354
         ],
         "y": [
          -0.8881068267378652
         ]
        },
        {
         "marker": {
          "color": "rgba(217,239,139, 0.75)",
          "size": 0.5
         },
         "mode": "markers",
         "text": "225 G",
         "type": "scatter",
         "uid": "39e2c34c-70b5-4d82-bef7-34929d2fe82c",
         "x": [
          0.8909173983960885
         ],
         "y": [
          -0.12753897143675458
         ]
        },
        {
         "marker": {
          "color": "rgba(166,217,106, 0.75)",
          "size": 0.5
         },
         "mode": "markers",
         "type": "scatter",
         "uid": "4b772997-a76f-4f2b-bf0b-86b61ad1fefe",
         "x": [
          0.7219904312199116
         ],
         "y": [
          -0.5373358514252387
         ]
        },
        {
         "marker": {
          "color": "rgba(166,217,106, 0.75)",
          "size": 0.5
         },
         "mode": "markers",
         "text": "203 I",
         "type": "scatter",
         "uid": "029f2e12-db9d-47e8-a049-6dae63f7d915",
         "x": [
          0.6392026787363246
         ],
         "y": [
          -0.6335770951481018
         ]
        },
        {
         "marker": {
          "color": "rgba(166,217,106, 0.75)",
          "size": 0.5
         },
         "mode": "markers",
         "text": "219 F/Y",
         "type": "scatter",
         "uid": "11c05dc6-f3ed-446e-916d-f47fe5c882a9",
         "x": [
          0.7542604137836596
         ],
         "y": [
          -0.491010415570691
         ]
        },
        {
         "marker": {
          "color": "rgba(102,189,99, 0.75)",
          "size": 0.5
         },
         "mode": "markers",
         "type": "scatter",
         "uid": "fba4a1e8-8ba0-4a24-bb90-92f1b0770f2e",
         "x": [
          0.8672451550639765
         ],
         "y": [
          -0.24059476515098865
         ]
        },
        {
         "marker": {
          "color": "rgba(26,152,80, 0.75)",
          "size": 0.5
         },
         "mode": "markers",
         "type": "scatter",
         "uid": "c5293a20-617c-406d-a5a4-7797323dcb8a",
         "x": [
          0.8984753466523737
         ],
         "y": [
          -0.0523646011910418
         ]
        }
       ],
       "layout": {
        "annotations": [
         {
          "align": "left",
          "showarrow": false,
          "text": "138 S",
          "valign": "bottom",
          "x": 1.150535481942735,
          "y": 0.34098109154438283
         },
         {
          "align": "left",
          "showarrow": false,
          "text": "156 R/Q",
          "valign": "bottom",
          "x": 0.8407376225496823,
          "y": 0.8562477737369646
         },
         {
          "align": "left",
          "showarrow": false,
          "text": "160 K",
          "valign": "bottom",
          "x": -0.74553589749091,
          "y": 0.9403064529994587
         },
         {
          "align": "left",
          "showarrow": false,
          "text": "186 V",
          "valign": "bottom",
          "x": -0.7576736208011293,
          "y": -0.9305539663781495
         },
         {
          "align": "left",
          "showarrow": false,
          "text": "194 P",
          "valign": "bottom",
          "x": 0.33695489201310813,
          "y": -1.1517210603042884
         },
         {
          "align": "left",
          "showarrow": false,
          "text": "203 I",
          "valign": "bottom",
          "x": 0.9149815389840685,
          "y": -0.7764076141553132
         },
         {
          "align": "left",
          "showarrow": false,
          "text": "219 F/Y",
          "valign": "bottom",
          "x": 1.1047051135891783,
          "y": -0.4686433740168746
         },
         {
          "align": "left",
          "showarrow": false,
          "text": "225 G",
          "valign": "bottom",
          "x": 1.1926323143244455,
          "y": -0.13277109184275435
         }
        ],
        "height": 800,
        "hovermode": false,
        "margin": {
         "b": 25,
         "l": 25,
         "r": 25,
         "t": 25
        },
        "shapes": [
         {
          "fillcolor": "rgba(215,48,39, 0.75)",
          "layer": "below",
          "line": {
           "color": "rgba(215,48,39, 0.75)",
           "width": 0.5
          },
          "path": "M 0.9872331575236549, 0.1592818027455565 Q 0.385868335455651, 0.10538324199171889 0.9311481610328193, 0.36464105940664293L 0.9311481610328193, 0.36464105940664293 L 0.9646708386391275, 0.2634581049792972 L 0.9872331575236549, 0.1592818027455565 ",
          "type": "path"
         },
         {
          "fillcolor": "rgba(215,48,39, 0.75)",
          "layer": "below",
          "line": {
           "color": "rgba(215,48,39, 0.75)",
           "width": 0.5
          },
          "path": "M 0.9994617034973292, 0.032807060859162206 Q 0.18793002339745557, 0.06842737979662677 0.7865666285393407, 0.6175054160639037L 0.7865666285393407, 0.6175054160639037 L 0.7950670986795154, 0.606521482387341 L 0.8034141965666994, 0.5954205478106083 M 0.8034141965666994, 0.5954205478106083 Q 0.18789807907583267, 0.0685150485631597 0.998107978475786, 0.06148547229207763L 0.998107978475786, 0.06148547229207763 L 0.9988877671716287, 0.04715112506481583 L 0.9994617034973292, 0.032807060859162206 ",
          "type": "path"
         },
         {
          "fillcolor": "rgba(215,48,39, 0.75)",
          "layer": "below",
          "line": {
           "color": "rgba(215,48,39, 0.75)",
           "width": 0.5
          },
          "path": "M 0.9311481610328193, 0.36464105940664293 Q 0.11206767461048484, 0.16565275822454179 -0.007960397421748549, 0.9999683155344913L -0.007960397421748549, 0.9999683155344913 L 0.10283173719714139, 0.9946987653681983 L 0.21235876737597592, 0.9771917692646394 M 0.21235876737597592, 0.9771917692646394 Q 0.11278426707496197, 0.16516570194917482 0.8328654376875845, 0.5534755303583604L 0.8328654376875845, 0.5534755303583604 L 0.8870460013283027, 0.46168104956503125 L 0.9311481610328193, 0.36464105940664293 ",
          "type": "path"
         },
         {
          "fillcolor": "rgba(215,48,39, 0.75)",
          "layer": "below",
          "line": {
           "color": "rgba(215,48,39, 0.75)",
           "width": 0.5
          },
          "path": "M 0.9943191199097287, 0.10644006661940207 Q -0.057606574896467845, 0.19152410430203726 -0.8880537677279139, -0.4597396063254245L -0.8880537677279139, -0.4597396063254245 L -0.9002185938350395, -0.4354382657893816 L -0.9117185741708207, -0.4108153374837967 M -0.9117185741708207, -0.4108153374837967 Q -0.05750766919260758, 0.1915538252920928 0.9872331575236549, 0.1592818027455565L 0.9872331575236549, 0.1592818027455565 L 0.9911283566317552, 0.13290816634216365 L 0.9943191199097287, 0.10644006661940207 ",
          "type": "path"
         },
         {
          "fillcolor": "rgba(215,48,39, 0.75)",
          "layer": "below",
          "line": {
           "color": "rgba(215,48,39, 0.75)",
           "width": 0.5
          },
          "path": "M 0.998107978475786, 0.06148547229207763 Q -0.1383706404989663, 0.14440763777552013 -0.10402699497193994, -0.994574473992324L -0.10402699497193994, -0.994574473992324 L -0.12686854478257314, -0.9919195392494051 L -0.14964300840008182, -0.9887400922572994 M -0.14964300840008182, -0.9887400922572994 Q -0.13830753102243765, 0.14446808250432844 0.9943191199097287, 0.10644006661940207L 0.9943191199097287, 0.10644006661940207 L 0.9964670915203442, 0.08398413848451454 L 0.998107978475786, 0.06148547229207763 ",
          "type": "path"
         },
         {
          "fillcolor": "rgba(215,48,39, 0.75)",
          "layer": "below",
          "line": {
           "color": "rgba(215,48,39, 0.75)",
           "width": 0.5
          },
          "path": "M 1.0, 0.0 Q -0.18487473242797062, 0.07629766254405357 0.7089333345156863, -0.7052754973855749L 0.7089333345156863, -0.7052754973855749 L 0.7076390874436242, -0.7065740739101278 L 0.706342461730181, -0.7078702753732126 M 0.706342461730181, -0.7078702753732126 Q -0.1848913154253619, 0.07625746835739651 0.9999915883742385, 0.004101607095691587L 0.9999915883742385, 0.004101607095691587 L 0.9999978970913486, 0.002050807860507386 L 1.0, 0.0 ",
          "type": "path"
         },
         {
          "fillcolor": "rgba(215,48,39, 0.75)",
          "layer": "below",
          "line": {
           "color": "rgba(215,48,39, 0.75)",
           "width": 0.5
          },
          "path": "M 0.9999915883742385, 0.004101607095691587 Q -0.19212756264817676, 0.05556077457047301 0.8434537203768565, -0.5372018443587472L 0.8434537203768565, -0.5372018443587472 L 0.8413090726792535, -0.5405543860034572 L 0.8391510994458332, -0.5438983657806387 M 0.8391510994458332, -0.5438983657806387 Q -0.19213432772943345, 0.05553737577486596 0.99992429621721, 0.01230454527876433L 0.99992429621721, 0.01230454527876433 L 0.9999663536384652, 0.008203145189015354 L 0.9999915883742385, 0.004101607095691587 ",
          "type": "path"
         },
         {
          "fillcolor": "rgba(215,48,39, 0.75)",
          "layer": "below",
          "line": {
           "color": "rgba(215,48,39, 0.75)",
           "width": 0.5
          },
          "path": "M 0.99992429621721, 0.01230454527876433 Q -0.19950596862803194, 0.014048789335410409 0.9883322495708899, -0.15231337583463908L 0.9883322495708899, -0.15231337583463908 L 0.9869321736582924, -0.1611362299364052 L 0.9854533376299481, -0.16994622488892033 M 0.9854533376299481, -0.16994622488892033 Q -0.1995243497765359, 0.01378527642996518 0.9994617034973292, 0.032807060859162206L 0.9994617034973292, 0.032807060859162206 L 0.9997455587547803, 0.022556988941167977 L 0.99992429621721, 0.01230454527876433 ",
          "type": "path"
         },
         {
          "fillcolor": "rgba(244,109,67, 0.75)",
          "layer": "below",
          "line": {
           "color": "rgba(244,109,67, 0.75)",
           "width": 0.5
          },
          "path": "M 0.6524260585264245, 0.757852385465451 Q 0.24373498845434557, 0.3171643980700861 0.5643686313204987, 0.8255228936749283L 0.5643686313204987, 0.8255228936749283 L 0.6093374711358639, 0.7929109951752152 L 0.6524260585264245, 0.757852385465451 ",
          "type": "path"
         },
         {
          "fillcolor": "rgba(244,109,67, 0.75)",
          "layer": "below",
          "line": {
           "color": "rgba(244,109,67, 0.75)",
           "width": 0.5
          },
          "path": "M 0.7297293161821417, 0.6837361516728101 Q 0.10924428366956679, 0.16752816624533093 0.331381277328721, 0.943496925822223L 0.331381277328721, 0.943496925822223 L 0.3851667226603791, 0.9228470056055135 L 0.4376736866568466, 0.8991338854743516 M 0.4376736866568466, 0.8991338854743516 Q 0.1099216956152605, 0.16708447214827005 0.6524260585264245, 0.757852385465451L 0.6524260585264245, 0.757852385465451 L 0.6920705700915518, 0.72182984560986 L 0.7297293161821417, 0.6837361516728101 ",
          "type": "path"
         },
         {
          "fillcolor": "rgba(244,109,67, 0.75)",
          "layer": "below",
          "line": {
           "color": "rgba(244,109,67, 0.75)",
           "width": 0.5
          },
          "path": "M 0.7865666285393407, 0.6175054160639037 Q -0.11582032026348246, 0.16305107608986935 -0.8420707590805753, -0.5393670704645064L -0.8420707590805753, -0.5393670704645064 L -0.8659779747934585, -0.5000821404255706 L -0.8880537677279139, -0.4597396063254245 M -0.8880537677279139, -0.4597396063254245 Q -0.11543844425003769, 0.1633216629511558 0.7297293161821417, 0.6837361516728101L 0.7297293161821417, 0.6837361516728101 L 0.7588708556661847, 0.6512411415293667 L 0.7865666285393407, 0.6175054160639037 ",
          "type": "path"
         },
         {
          "fillcolor": "rgba(244,109,67, 0.75)",
          "layer": "below",
          "line": {
           "color": "rgba(244,109,67, 0.75)",
           "width": 0.5
          },
          "path": "M 0.8104455587417925, 0.5858139604991535 Q -0.19984530712290574, -0.007864681872236243 0.8539758943235758, -0.520312571359033L 0.8539758943235758, -0.520312571359033 L 0.8508545602046911, -0.5254012917560078 L 0.8477029034994928, -0.5304712880057973 M 0.8477029034994928, -0.5304712880057973 Q -0.19984544288246928, -0.007861231399069513 0.8034141965666994, 0.5954205478106083L 0.8034141965666994, 0.5954205478106083 L 0.8069441734599981, 0.5906277177029203 L 0.8104455587417925, 0.5858139604991535 ",
          "type": "path"
         },
         {
          "fillcolor": "rgba(244,109,67, 0.75)",
          "layer": "below",
          "line": {
           "color": "rgba(244,109,67, 0.75)",
           "width": 0.5
          },
          "path": "M 0.8150693823308913, 0.5793633592027885 Q -0.1950217146347265, -0.04434558400710616 0.9854533376299481, -0.16994622488892033L 0.9854533376299481, -0.16994622488892033 L 0.9848397766107002, -0.1734664647860969 L 0.9842136406194048, -0.17698448976872833 M 0.9842136406194048, -0.17698448976872833 Q -0.1950041824572708, -0.04442261613380554 0.8104455587417925, 0.5858139604991535L 0.8104455587417925, 0.5858139604991535 L 0.8127638700612275, 0.5825932470627307 L 0.8150693823308913, 0.5793633592027885 ",
          "type": "path"
         },
         {
          "fillcolor": "rgba(253,174,97, 0.75)",
          "layer": "below",
          "line": {
           "color": "rgba(253,174,97, 0.75)",
           "width": 0.5
          },
          "path": "M -0.6726838673063658, 0.739930006599105 Q -0.39013003415358116, 0.08830943580006377 -0.9257616952359727, -0.37810750274732435L -0.9257616952359727, -0.37810750274732435 L -0.9551717138627105, -0.2960523552288892 L -0.9773243412175805, -0.21174780297236223 L -0.9920512617170276, -0.12583439166481314 L -0.9992405802716738, -0.03896489109863606 L -0.9988376724648075, 0.04820066457099978 L -0.9908455995885066, 0.13499999176330646 L -0.9753250853839529, 0.2207735895001594 L -0.9523940546626628, 0.30486975029217456 L -0.9222267373141904, 0.3866495118098861 L -0.885052344508049, 0.4654915117172446 L -0.8411533271480636, 0.5407967087804277 L -0.7908632298114108, 0.6119929343809973 L -0.7345641564781139, 0.6785392398510178 L -0.6726838673063658, 0.739930006599105 ",
          "type": "path"
         },
         {
          "fillcolor": "rgba(253,174,97, 0.75)",
          "layer": "below",
          "line": {
           "color": "rgba(253,174,97, 0.75)",
           "width": 0.5
          },
          "path": "M -0.007960397421748549, 0.9999683155344913 Q -0.1924861768442659, 0.05430535630928133 -0.5294215692472558, -0.8483588875091562L -0.5294215692472558, -0.8483588875091562 L -0.6205262076497803, -0.7841857086301571 L -0.7039249952170402, -0.7102743139862864 L -0.7785822647863706, -0.6275425539038176 M -0.7785822647863706, -0.6275425539038176 Q -0.19267438451098717, 0.05363377250681024 -0.3423528358643133, 0.939571463900252L -0.3423528358643133, 0.939571463900252 L -0.23342655457669773, 0.9723744359136823 L -0.12147950731257917, 0.9925939397876118 L -0.007960397421748549, 0.9999683155344913 ",
          "type": "path"
         },
         {
          "fillcolor": "rgba(253,174,97, 0.75)",
          "layer": "below",
          "line": {
           "color": "rgba(253,174,97, 0.75)",
           "width": 0.5
          },
          "path": "M -0.3423528358643133, 0.939571463900252 Q -0.18812775128499296, -0.06788187678940404 0.3364626047918916, -0.9416968278467627L 0.3364626047918916, -0.9416968278467627 L 0.21464901115866372, -0.976691252140925 L 0.08938747583083159, -0.9959969272867224 L -0.03730990494175316, -0.9993037431097901 M -0.03730990494175316, -0.9993037431097901 Q -0.1878569986121778, -0.06862760430340135 -0.6726838673063658, 0.739930006599105L -0.6726838673063658, 0.739930006599105 L -0.5715224587975418, 0.8205864239006224 L -0.46079428542924816, 0.8875069726575384 L -0.3423528358643133, 0.939571463900252 ",
          "type": "path"
         },
         {
          "fillcolor": "rgba(253,174,97, 0.75)",
          "layer": "below",
          "line": {
           "color": "rgba(253,174,97, 0.75)",
           "width": 0.5
          },
          "path": "M 0.49058865393148243, 0.8713912856080764 Q -0.19728002890010735, -0.03287233178788525 0.746633391154621, -0.6652357320626656L 0.746633391154621, -0.6652357320626656 L 0.7293142671079685, -0.6841788507347818 L 0.7115146753418734, -0.7026712366200487 M 0.7115146753418734, -0.7026712366200487 Q -0.19713988791011217, -0.033702590327575985 0.4376736866568466, 0.8991338854743516L 0.4376736866568466, 0.8991338854743516 L 0.4643384069840291, 0.8856578593336899 L 0.49058865393148243, 0.8713912856080764 ",
          "type": "path"
         },
         {
          "fillcolor": "rgba(253,174,97, 0.75)",
          "layer": "below",
          "line": {
           "color": "rgba(253,174,97, 0.75)",
           "width": 0.5
          },
          "path": "M 0.331381277328721, 0.943496925822223 Q -0.17988435794624666, -0.08741634724847872 0.9465834277757029, -0.32245901175250247L 0.9465834277757029, -0.32245901175250247 L 0.9264097238828323, -0.37651696309108645 L 0.9031517792809078, -0.4293213989329327 M 0.9031517792809078, -0.4293213989329327 Q -0.17951721566512532, -0.08816784719976375 0.21235876737597592, 0.9771917692646394L 0.21235876737597592, 0.9771917692646394 L 0.2723915282686279, 0.9621864971654307 L 0.331381277328721, 0.943496925822223 ",
          "type": "path"
         },
         {
          "fillcolor": "rgba(253,174,97, 0.75)",
          "layer": "below",
          "line": {
           "color": "rgba(253,174,97, 0.75)",
           "width": 0.5
          },
          "path": "M 0.5381598487427649, 0.8428427950698543 Q -0.1793200887630043, -0.0885680854824596 0.9963883492448801, -0.08491323506416988L 0.9963883492448801, -0.08491323506416988 L 0.9941475373106864, -0.10803089400304663 L 0.9913704350792941, -0.13109027595779574 M 0.9913704350792941, -0.13109027595779574 Q -0.1789181942335994, -0.08937717702069138 0.49058865393148243, 0.8713912856080764L 0.49058865393148243, 0.8713912856080764 L 0.5145722733655878, 0.8574470103063925 L 0.5381598487427649, 0.8428427950698543 ",
          "type": "path"
         },
         {
          "fillcolor": "rgba(254,224,139, 0.75)",
          "layer": "below",
          "line": {
           "color": "rgba(254,224,139, 0.75)",
           "width": 0.5
          },
          "path": "M -0.5294215692472558, -0.8483588875091562 Q -0.15077775192677656, -0.3704943582889049 -0.21341739696073586, -0.9769611121608186L -0.21341739696073586, -0.9769611121608186 L -0.3234317648649694, -0.9462514958911986 L -0.4292265637988229, -0.9031968539191526 L -0.5294215692472558, -0.8483588875091562 ",
          "type": "path"
         },
         {
          "fillcolor": "rgba(254,224,139, 0.75)",
          "layer": "below",
          "line": {
           "color": "rgba(254,224,139, 0.75)",
           "width": 0.5
          },
          "path": "M -0.8420707590805753, -0.5393670704645064 Q 0.01258607995030555, -0.19960358361383324 0.9031517792809078, -0.4293213989329327L 0.9031517792809078, -0.4293213989329327 L 0.8797410208132537, -0.47545319043882156 L 0.8539758943235758, -0.520312571359033 M 0.8539758943235758, -0.520312571359033 Q 0.013108191534818323, -0.19956997598508278 -0.7785822647863706, -0.6275425539038176L -0.7785822647863706, -0.6275425539038176 L -0.8115249749158728, -0.5843177347024409 L -0.8420707590805753, -0.5393670704645064 ",
          "type": "path"
         },
         {
          "fillcolor": "rgba(254,224,139, 0.75)",
          "layer": "below",
          "line": {
           "color": "rgba(254,224,139, 0.75)",
           "width": 0.5
          },
          "path": "M -0.9134282440492267, -0.40699980709227157 Q 0.024066079566694716, -0.19854677991417924 0.9842136406194048, -0.17698448976872833L 0.9842136406194048, -0.17698448976872833 L 0.9838958595013595, -0.1787426576284492 L 0.9835749376509082, -0.18050025491675062 M 0.9835749376509082, -0.18050025491675062 Q 0.024126411716301276, -0.19853945768460113 -0.9117185741708207, -0.4108153374837967L -0.9117185741708207, -0.4108153374837967 L -0.9125754032312798, -0.4089084658175555 L -0.9134282440492267, -0.40699980709227157 ",
          "type": "path"
         },
         {
          "fillcolor": "rgba(217,239,139, 0.75)",
          "layer": "below",
          "line": {
           "color": "rgba(217,239,139, 0.75)",
           "width": 0.5
          },
          "path": "M 0.3364626047918916, -0.9416968278467627 Q 0.20840267447759603, -0.34142103811948254 0.6837591816858805, -0.7297077370154815L 0.6837591816858805, -0.7297077370154815 L 0.6055572527291556, -0.7958017426891686 L 0.52100668619399, -0.8535525952987063 L 0.4309939067769158, -0.9023548372570356 L 0.3364626047918916, -0.9416968278467627 ",
          "type": "path"
         },
         {
          "fillcolor": "rgba(217,239,139, 0.75)",
          "layer": "below",
          "line": {
           "color": "rgba(217,239,139, 0.75)",
           "width": 0.5
          },
          "path": "M -0.10402699497193994, -0.994574473992324 Q 0.07764783885061532, -0.1843117281179602 0.78435510783524, -0.6203120705038465L 0.78435510783524, -0.6203120705038465 L 0.7658237263572929, -0.6430505580032025 L 0.746633391154621, -0.6652357320626656 M 0.746633391154621, -0.6652357320626656 Q 0.07840543629737406, -0.18399072682887696 -0.03730990494175316, -0.9993037431097901L -0.03730990494175316, -0.9993037431097901 L -0.0707080003669996, -0.9974970569801699 L -0.10402699497193994, -0.994574473992324 ",
          "type": "path"
         },
         {
          "fillcolor": "rgba(217,239,139, 0.75)",
          "layer": "below",
          "line": {
           "color": "rgba(217,239,139, 0.75)",
           "width": 0.5
          },
          "path": "M -0.18262499823564948, -0.9831826432659544 Q 0.08045347669626404, -0.18310444584303165 0.8477029034994928, -0.5304712880057973L 0.8477029034994928, -0.5304712880057973 L 0.8455850085694623, -0.5338407939475798 L 0.8434537203768565, -0.5372018443587472 M 0.8434537203768565, -0.5372018443587472 Q 0.08049032077016244, -0.1830882526606127 -0.1743972163970778, -0.9846753835213669L -0.1743972163970778, -0.9846753835213669 L -0.17851266762804727, -0.9839376136200497 L -0.18262499823564948, -0.9831826432659544 ",
          "type": "path"
         },
         {
          "fillcolor": "rgba(217,239,139, 0.75)",
          "layer": "below",
          "line": {
           "color": "rgba(217,239,139, 0.75)",
           "width": 0.5
          },
          "path": "M -0.1743972163970778, -0.9846753835213669 Q 0.11815467726240443, -0.16136750676953848 0.9913704350792941, -0.13109027595779574L 0.9913704350792941, -0.13109027595779574 L 0.9899082204400983, -0.14170996826306065 L 0.9883322495708899, -0.15231337583463908 M 0.9883322495708899, -0.15231337583463908 Q 0.11844869333180763, -0.16115181366645365 -0.14964300840008182, -0.9887400922572994L -0.14964300840008182, -0.9887400922572994 L -0.16203285866121503, -0.9867853630420724 L -0.1743972163970778, -0.9846753835213669 ",
          "type": "path"
         },
         {
          "fillcolor": "rgba(166,217,106, 0.75)",
          "layer": "below",
          "line": {
           "color": "rgba(166,217,106, 0.75)",
           "width": 0.5
          },
          "path": "M 0.78435510783524, -0.6203120705038465 Q 0.4011057951221731, -0.2985199174584659 0.8193778089580153, -0.5732538758588225L 0.8193778089580153, -0.5732538758588225 L 0.8022115902443462, -0.5970398349169318 L 0.78435510783524, -0.6203120705038465 ",
          "type": "path"
         },
         {
          "fillcolor": "rgba(166,217,106, 0.75)",
          "layer": "below",
          "line": {
           "color": "rgba(166,217,106, 0.75)",
           "width": 0.5
          },
          "path": "M 0.7089333345156863, -0.7052754973855749 Q 0.1556472933680183, -0.12559426765266818 0.8391510994458332, -0.5438983657806387L 0.8391510994458332, -0.5438983657806387 L 0.8380671264262884, -0.5455671284118788 L 0.8369798348568405, -0.5472337307248303 M 0.8369798348568405, -0.5472337307248303 Q 0.15562763463968993, -0.12561862655058442 0.7115146753418734, -0.7026712366200487L 0.7115146753418734, -0.7026712366200487 L 0.7102251985959163, -0.7039745501645576 L 0.7089333345156863, -0.7052754973855749 ",
          "type": "path"
         },
         {
          "fillcolor": "rgba(102,189,99, 0.75)",
          "layer": "below",
          "line": {
           "color": "rgba(102,189,99, 0.75)",
           "width": 0.5
          },
          "path": "M 0.9465834277757029, -0.32245901175250247 Q 0.4818028639244314, -0.13366375841721592 0.9774199527726676, -0.21130602433881582L 0.9774199527726676, -0.21130602433881582 L 0.9636057278488628, -0.26732751683443184 L 0.9465834277757029, -0.32245901175250247 ",
          "type": "path"
         },
         {
          "fillcolor": "rgba(26,152,80, 0.75)",
          "layer": "below",
          "line": {
           "color": "rgba(26,152,80, 0.75)",
           "width": 0.5
          },
          "path": "M 0.9963883492448801, -0.08491323506416988 Q 0.49915297036242984, -0.02909144510613433 0.9995065603657316, -0.031410759078128354L 0.9995065603657316, -0.031410759078128354 L 0.9983059407248597, -0.05818289021226866 L 0.9963883492448801, -0.08491323506416988 ",
          "type": "path"
         },
         {
          "fillcolor": "rgba(215,48,39, 0.75)",
          "layer": "below",
          "line": {
           "color": "rgba(215,48,39, 0.75)",
           "width": 0.45
          },
          "path": "M 1.1, 0.0 L 1.0999417639690854, 0.011318828410097063 L 1.099767062042587, 0.022636458340846474 L 1.09947591271859, 0.033951691439799994 L 1.0990683468250604, 0.04526332960829479 L 1.0985444075165793, 0.05657017512831255 L 1.0979041502697757, 0.06787103078929825 L 1.0971476428774511, 0.07916470001492529 L 1.0962749654414017, 0.09044998698979337 L 1.0952862103639367, 0.10172569678604586 L 1.0941814823380946, 0.11299063548989316 L 1.0929608983365586, 0.12424361032802866 L 1.0916245875992694, 0.13548342979392414 L 1.0901726916197425, 0.14670890377399068 L 1.0886053641300852, 0.15791884367359235 L 1.08692277108472, 0.16911206254289918 L 1.0851250906428114, 0.18028737520256538 L 1.0832125131494026, 0.19144359836922098 L 1.081185241115261, 0.20257955078076192 L 1.0790434891954352, 0.21369405332142655 L 1.0767874841665275, 0.22478592914664475 L 1.0744174649026805, 0.23585400380764662 L 1.0719336823502854, 0.24689710537581733 L 1.0693363995014105, 0.25791406456678545 L 1.0666258913659543, 0.26890371486423087 L 1.063802444942527, 0.27986489264340014 L 1.0608663591880618, 0.29079643729431487 L 1.05781794498616, 0.30169719134466205 L 1.0546575251141737, 0.31256600058235096 L 1.0513854342090292, 0.32340171417772556 L 1.048002018731794, 0.33420318480541894 L 1.044507636930992, 0.34496926876583567 L 1.040902658804672, 0.3556988261062514 L 1.037187466061229, 0.36639072074151546 L 1.03336245207899, 0.3770438205743431 L 1.029428021864559, 0.38765699761518685 L 1.025384592009936, 0.39822912810167144 L 1.0212325906484039, 0.40875909261758286 L 1.0169724574091987, 0.4192457762113954 L 1.012604643370959, 0.4296880685143273 L 1.008129611013963, 0.44008486385791074 L 1.0035478341711614, 0.45043506139106365 L 0.998859797978005, 0.4607375651966524 L 0.9940659988210764, 0.47099128440753135 L 0.9891669442855321, 0.48119513332204783 L 0.9841631531013564, 0.49134803151900036 L 0.9790551550884365, 0.5014489039720376 L 0.973843491100464, 0.5114966811634858 L 0.9685287129676664, 0.521490299197594 L 0.9631113834383772, 0.5314286999131825 L 0.9575920761194513, 0.5413108309956852 L 0.9519713754155278, 0.5511356460885728 L 0.9462498764671521, 0.5609021049041443 L 0.9404281850877599, 0.5706091733336769 L 0.9345069176995318, 0.5802558235569213 L 0.928486701268123, 0.5898410341509308 L 0.9223681732362796, 0.5993637901982138 L 0.916151981456343, 0.6088230833941964 L 0.8328654376875845, 0.5534755303583604 L 0.8385165211238905, 0.544876172907467 L 0.8440788193346572, 0.5362191219553916 L 0.8495517433632106, 0.5275052941426557 L 0.8549347137161454, 0.5187356121215244 L 0.8602271604246836, 0.5099110044583129 L 0.8654285231050252, 0.5010324055350661 L 0.8705382510176829, 0.49210075545062293 L 0.8755558031257974, 0.483116999921075 L 0.8804806481524239, 0.4740820901796309 L 0.8853122646367854, 0.46499698287589614 L 0.8900501409894876, 0.4558626399745796 L 0.8946937755466875, 0.44668002865363665 L 0.8992426766232109, 0.4374501212018616 L 0.9036963625646148, 0.42817389491593755 L 0.9080543617981862, 0.41885233199695665 L 0.9123162128828739, 0.40948641944642145 L 0.9164814645581482, 0.400077148961737 L 0.9205496757917808, 0.3906255168312066 L 0.9245204158265443, 0.38113252382854124 L 0.9283932642258217, 0.3715991751068935 L 0.9321678109181235, 0.36202648009242855 L 0.9358436562405082, 0.35241545237744254 L 0.9394204109808999, 0.34276710961303913 L 0.942897696419299, 0.33308247340137764 L 0.9462751443678834, 0.3233625691875013 L 0.9495523972099926, 0.3136084261507597 L 0.9527291079379944, 0.3038210770958354 L 0.9558049401900265, 0.29400155834338687 L 0.9587795682856124, 0.284150909620319 L 0.9616526772601454, 0.2742701739496928 L 0.964423962898238, 0.26436039754028623 L 0.9670931317659336, 0.2544226296758183 L 0.9696599012417766, 0.24445792260384624 L 0.9721239995467368, 0.2344673314243504 L 0.9744851657729867, 0.22445191397801573 L 0.9767431499115277, 0.21441273073422418 L 0.9788977128786613, 0.20435084467876793 L 0.9809486265413048, 0.19426732120129683 L 0.9828956737411462, 0.18416322798251084 L 0.9847386483176386, 0.17403963488110996 L 0.9864773551298285, 0.16389761382051396 L 0.9881116100770182, 0.15373823867536288 L 0.9896412401182593, 0.14356258515781123 L 0.9910660832906749, 0.13337173070362787 L 0.9923859887266084, 0.12316675435811285 L 0.9936008166695987, 0.11294873666184423 L 0.994710438489177, 0.1027187595362665 L 0.9957147366944877, 0.0924779061691326 L 0.9966136049467287, 0.08222726089981215 L 0.9974069480704101, 0.07196790910447753 L 0.9980946820634324, 0.06170093708118023 L 0.9986767341059811, 0.051427431934829584 L 0.9991530425682366, 0.04114848146208617 L 0.9995235570169, 0.03086517403618181 L 0.9997882382205335, 0.02057859849167861 L 0.9999470581537139, 0.010289844009179148 L 1.0, 0.0 L 1.1 ,0.0",
          "type": "path"
         },
         {
          "fillcolor": "rgba(244,109,67, 0.75)",
          "layer": "below",
          "line": {
           "color": "rgba(244,109,67, 0.75)",
           "width": 0.45
          },
          "path": "M 0.8965763205639805, 0.6372996951230674 L 0.8899080107392033, 0.646578481255133 L 0.8831436774659959, 0.6557874998441471 L 0.8762840506339641, 0.6649257572124367 L 0.8693298704151431, 0.673992267317653 L 0.8622818871841305, 0.6829860518591683 L 0.8551408614371195, 0.6919061403836371 L 0.847907563709839, 0.7007515703897107 L 0.84058277449441, 0.709521387431894 L 0.8331672841551304, 0.7182146452235323 L 0.8256618928431901, 0.7268304057389183 L 0.8180674104103346, 0.7353677393145074 L 0.8103846563214787, 0.7438257247492311 L 0.8026144595662844, 0.7522034494038972 L 0.7947576585697108, 0.7605000092996654 L 0.7868151011015454, 0.7687145092155899 L 0.7787876441849281, 0.776846062785215 L 0.7706761540038756, 0.7848937925922176 L 0.7624815058098178, 0.7928568302650819 L 0.7542045838271565, 0.8007343165707997 L 0.7458462811578548, 0.8085254015075832 L 0.7374074996850684, 0.8162292443965826 L 0.7288891499758309, 0.8238450139725984 L 0.7202921511828013, 0.8313718884737761 L 0.7116174309450839, 0.838809055730277 L 0.7028659252881349, 0.8461557132519133 L 0.6940385785227612, 0.8534110683147398 L 0.6851363431432284, 0.8605743380465889 L 0.6761601797244831, 0.8676447495115469 L 0.6671110568185045, 0.8746215397933543 L 0.6579899508497951, 0.8815039560777277 L 0.648797846010022, 0.8882912557335888 L 0.6395357341518199, 0.8949827063931979 L 0.6302046146817675, 0.9015775860311775 L 0.6208054944525486, 0.9080751830424212 L 0.5643686313204987, 0.8255228936749283 L 0.572913286074334, 0.8196159873010704 L 0.5813961219561998, 0.8136206421756343 L 0.5898162236454745, 0.8075375052123533 L 0.5981726825907228, 0.8013672327979342 L 0.6064645971077313, 0.7951104907212312 L 0.6146910724768028, 0.7887679541014062 L 0.6228512210392985, 0.7823403073150808 L 0.6309441622934192, 0.7758282439224906 L 0.6389690229892134, 0.7692324665926484 L 0.6469249372228035, 0.7625536870275245 L 0.6548110465298194, 0.7557926258852509 L 0.662626499978028, 0.7489500127023621 L 0.670370454259153, 0.7420265858150751 L 0.6780420737798679, 0.735023092279621 L 0.6856405307519604, 0.7279402877916361 L 0.6931650052816525, 0.7207789366046199 L 0.7006146854580686, 0.7135398114474705 L 0.7079887674408436, 0.7062236934411045 L 0.7152864555468594, 0.6988313720141726 L 0.7225069623361007, 0.6913636448178776 L 0.7296495086966222, 0.6838213176399065 L 0.736713323928617, 0.6762052043174828 L 0.7436976458275768, 0.6685161266495521 L 0.7506017207665364, 0.6607549143081075 L 0.7574248037773912, 0.6529224047486657 L 0.7641661586312818, 0.6450194431199036 L 0.7708250579180354, 0.6370468821724642 L 0.7774007831246541, 0.6290055821669427 L 0.7838926247128458, 0.6208964107810621 L 0.7902998821955846, 0.6127202430160482 L 0.7966218642126945, 0.6044779611022152 L 0.8028578886054507, 0.59617045440377 L 0.8090072824901848, 0.587798619322848 L 0.8150693823308913, 0.5793633592027885 L 0.8965763205639805 ,0.6372996951230674",
          "type": "path"
         },
         {
          "fillcolor": "rgba(253,174,97, 0.75)",
          "layer": "below",
          "line": {
           "color": "rgba(253,174,97, 0.75)",
           "width": 0.45
          },
          "path": "M 0.5919758336170414, 0.9271270745768397 L 0.5453336076545716, 0.9553068911938456 L 0.4973530161519863, 0.9811421799741984 L 0.4481518137632445, 1.0045695355826367 L 0.39785075078300053, 1.0255314622679321 L 0.34657327679950445, 1.0439765149697835 L 0.29444523772285713, 1.0598594255760196 L 0.2415945669321764, 1.0731412140202492 L 0.18815097129966962, 1.0837892839472953 L 0.13424561286217135, 1.0917775027116379 L 0.08001078692139714, 1.0970862655125253 L 0.025579597362921477, 1.0997025435083576 L -0.02891437000928122, 1.0996199157922553 L -0.0833373753210291, 1.096838585150341 L -0.13755585285424307, 1.0913653775640595 L -0.1914367388458444, 1.0832137254577547 L -0.24484779805474421, 1.072403634732624 L -0.29765794829546427, 1.0589616356679477 L -0.34973758214191036, 1.0429207178100983 L -0.40095888501177307, 1.024320249009125 L -0.45119614885090203, 1.003205878801612 L -0.5003260806478119, 0.9796294263769334 L -0.548228105021154, 0.9536487534018564 L -0.5947846601375425, 0.9253276220156125 L -0.6398814862334853, 0.8947355383439434 L -0.6834079060333342, 0.8619475819161706 L -0.725257096375033, 0.8270442214039443 L -0.7653263503770529, 0.7901111171338755 L -0.8035173295030898, 0.7512389108587382 L -0.8397363049059049, 0.7105230033031846 L -0.8738943874580057, 0.6680633200299184 L -0.90590774590461, 0.6239640662009543 L -0.9356978126035133, 0.5783334708358153 L -0.9631914763469194, 0.5312835211943261 L -0.9883212617920123, 0.4829296879358784 L -1.0110254950599074, 0.43339064172968644 L -1.0312484550965666, 0.3827879620115353 L -1.0489405104242089, 0.3312458386017857 L -1.064058240947589, 0.27889076691694675 L -1.0765645445162195, 0.2258512375228107 L -1.0864287279809977, 0.17225742079106998 L -1.093626582521771, 0.11824084743333123 L -1.098140443060971, 0.06393408569655605 L -1.099959231617498, 0.009470416012180637 L -1.0990784844944612, -0.045016496102633474 L -1.095500363234048, -0.09939292808881654 L -1.089233649312636, -0.15352542852921083 L -1.0802937225891667, -0.20728114466695016 L -1.0687025235596777, -0.2605281484545896 L -1.0544884995106225, -0.31313576033381385 L -1.0376865347031339, -0.36497486995107215 L -1.01833786475957, -0.41591825302205726 L -0.9257616952359726, -0.37810750274732474 L -0.943351395184667, -0.3317953363191565 L -0.9586259086460205, -0.28466887303073984 L -0.971547748690616, -0.23684377132235415 L -0.9820852023537877, -0.18843740424268196 L -0.9902124084660326, -0.13956857139019166 L -0.9959094211218619, -0.09035720735346958 L -0.9991622586313283, -0.040924087366030426 L -0.999962937834089, 0.008609469101982396 L -0.9983094936917917, 0.05812189608777823 L -0.9942059841107008, 0.10749167948484656 L -0.987662479982725, 0.15659765526460906 L -0.9786950404692903, 0.2053193068389188 L -0.9673256735887172, 0.25353706083358796 L -0.9535822822038262, 0.30113258054707787 L -0.9374985955423333, 0.347989056374123 L -0.9191140864180976, 0.3939914924815331 L -0.8984738743563747, 0.4390269890326167 L -0.8756286148608358, 0.48298501926756915 L -0.8506343750941029, 0.5257577007598321 L -0.8235524962769181, 0.5672400601826857 L -0.7944494431436415, 0.6073302909362894 L -0.7633966408235499, 0.645930003002895 L -0.7304702995482635, 0.6829444644170346 L -0.6957512276155026, 0.7182828337580686 L -0.6593246330682118, 0.7518583830944947 L -0.6212799145757584, 0.7835887108328823 L -0.5817104420304411, 0.8133959439490394 L -0.5407133273977659, 0.8412069291051022 L -0.4983891863828673, 0.8669534121835057 L -0.4548418914980108, 0.8905722057972121 L -0.4101783171371836, 0.9120053443651018 L -0.36450807728343004, 0.9312002263719318 L -0.31794325649264576, 0.9481097434637257 L -0.2705981348140584, 0.9626923960617705 L -0.22258890732249473, 0.9749123952114763 L -0.1740333989507676, 0.9847397504161406 L -0.12505077532203915, 0.9921503432400539 L -0.07576125029184463, 0.99712598650031 L -0.02628579091752838, 0.9996544689020501 L 0.023254179420837705, 0.9997295850075977 L 0.07273707901945194, 0.9973511504659319 L 0.12204146623833757, 0.9925250024651252 L 0.1710463375451542, 0.985262985406632 L 0.21963142448379672, 0.9755829218365901 L 0.26767748883896103, 0.9635085687054723 L 0.31506661527227675, 0.9490695590634394 L 0.3616825007118186, 0.9323013293344836 L 0.40741073978476766, 0.9132450323478515 L 0.45213910559271475, 0.8919474363401803 L 0.49575782514051964, 0.8684608101762232 L 0.5381598487427649, 0.8428427950698543 L 0.5919758336170414 ,0.9271270745768397",
          "type": "path"
         },
         {
          "fillcolor": "rgba(254,224,139, 0.75)",
          "layer": "below",
          "line": {
           "color": "rgba(254,224,139, 0.75)",
           "width": 0.45
          },
          "path": "M -1.0047710684541495, -0.44769978780149877 L -1.0001615123049503, -0.45790495662732744 L -0.995448308443978, -0.46806267231645704 L -0.990631945305139, -0.4781718822149169 L -0.9857129220128372, -0.48823153869543745 L -0.9806917483302483, -0.4982405992660185 L -0.975568944606492, -0.508198026677963 L -0.970345041722708, -0.5181027890333695 L -0.9650205810370409, -0.5279538598920667 L -0.9595961143285386, -0.537750218377985 L -0.9540722037399693, -0.5474908492849527 L -0.9484494217195683, -0.5571747431819004 L -0.9427283509617136, -0.5668008965174706 L -0.9369095843465411, -0.5763683117240155 L -0.9309937248785024, -0.5858759973209787 L -0.9249813856238773, -0.5953229680176401 L -0.9188731896472393, -0.6047082448152241 L -0.9126697699468874, -0.6140308551083534 L -0.9063717693892477, -0.6232898327858434 L -0.899979840642253, -0.6324842183308174 L -0.893494646107706, -0.6416130589201451 L -0.8869168578526329, -0.6506754085231843 L -0.8802471575396381, -0.6596703279998181 L -0.8734862363562624, -0.6685968851977788 L -0.8666347949433538, -0.6774541550492487 L -0.8596935433224593, -0.6862412196667255 L -0.8526632008222461, -0.6949571684381436 L -0.8455444960039562, -0.7036010981212408 L -0.8383381665859035, -0.7121721129371651 L -0.8310449593670255, -0.7206693246633015 L -0.8236656301494908, -0.729091852725322 L -0.8162009436603743, -0.7374388242884387 L -0.8086516734724079, -0.7457093743478584 L -0.8010186019238151, -0.7539026458184218 L -0.7933025200372362, -0.762017789623425 L -0.7855042274377526, -0.7700539647826116 L -0.777624532270023, -0.7780103384993209 L -0.7696642511145334, -0.7858860862467949 L -0.7616242089029741, -0.793680391853622 L -0.7535052388327507, -0.801392447588321 L -0.7453081822806403, -0.8090214542430428 L -0.7370338887155989, -0.8165666212163967 L -0.7286832156107278, -0.8240271665953798 L -0.7202570283544154, -0.831402317236407 L -0.7117562001606551, -0.8386913088454331 L -0.703181611978553, -0.8458933860571578 L -0.6945341524010353, -0.8530078025133039 L -0.685814717572762, -0.8600338209399633 L -0.6770242110972564, -0.8669707132240038 L -0.6681635439432683, -0.87381776048852 L -0.6592336343503655, -0.8805742531673344 L -0.6502354077337783, -0.887239491078529 L -0.641169796588496, -0.8938127834970067 L -0.632037740392632, -0.900293449226071 L -0.6228401855100666, -0.9066808166680191 L -0.6135780850923697, -0.9129742238937422 L -0.6042523989800306, -0.9191730187113186 L -0.5948640936029853, -0.9252765587336031 L -0.5854141418804651, -0.9312842114447978 L -0.5759035231201722, -0.937195354266 L -0.5663332229167932, -0.9430093746197213 L -0.556704233049861, -0.9487256699933686 L -0.5470175513809736, -0.9543436480016849 L -0.537274181750389, -0.9598627264481366 L -0.5274751338729928, -0.9652823333852477 L -0.5176214232336619, -0.9706019071738725 L -0.5077140709820283, -0.9758208965413973 L -0.4977541038266565, -0.98093876063887 L -0.48774255392864574, -0.9859549690970487 L -0.4776804587946623, -0.9908690020813655 L -0.46756886116942736, -0.9956803503457949 L -0.45740880892765245, -1.0003885152856298 L -0.44720135496544816, -1.0049930089891508 L -0.43694755709121175, -1.0094933542881908 L -0.4266484779160051, -1.013889084807582 L -0.4163051847434362, -1.018179745013489 L -0.4059187494590502, -1.0223648902606157 L -0.39549024841925395, -1.0264440868382831 L -0.38502076233976845, -1.0304169120153763 L -0.3745113761836345, -1.034282954084152 L -0.3639631790487765, -1.0380418124029054 L -0.3533772640551386, -1.0416930974374867 L -0.3427547282314041, -1.045236430801671 L -0.3320966724013062, -1.048671445296371 L -0.32140420106955314, -1.0519977849476883 L -0.31067842230736464, -1.0552151050438043 L -0.29992044763764186, -1.0583230721707038 L -0.28913139191977905, -1.0613213642467259 L -0.27831237323412983, -1.064209670555942 L -0.26746451276614025, -1.0669876917803558 L -0.2565889346901557, -1.069655140030922 L -0.24568676605292689, -1.07221173887738 L -0.23475913665680948, -1.0746572233769005 L -0.21341739696073586, -0.9769611121608186 L -0.22335160550266078, -0.9747379444339817 L -0.23326266790014152, -0.9724137636644744 L -0.2431495570601275, -0.9699888107094142 L -0.25301124839466343, -0.9674633368690381 L -0.2628467199270718, -0.9648376038606598 L -0.2726549523978562, -0.9621118837915488 L -0.2824349293703315, -0.9592864591307311 L -0.29218563733595737, -0.9563616226797165 L -0.30190606581936924, -0.9533376775421554 L -0.31159520748309466, -0.9502149370924281 L -0.32125205823194414, -0.9469937249431696 L -0.33087561731706955, -0.943674374911732 L -0.3404648874396677, -0.9402572309855928 L -0.3500188748543349, -0.9367426472867056 L -0.35953658947204903, -0.9331309880348028 L -0.3690170449627729, -0.9294226275096507 L -0.37845925885766923, -0.9256179500122628 L -0.3878622526509137, -0.9217173498250746 L -0.3972250519011016, -0.9177212311710824 L -0.40654668633222557, -0.9136300081719553 L -0.4158261899342295, -0.9094441048051178 L -0.4250626010631158, -0.9051639548598135 L -0.4342549625406021, -0.9007900018921504 L -0.4434023217533143, -0.8963226991791351 L -0.4525037307515059, -0.8917625096716999 L -0.4615582463472984, -0.8871099059467247 L -0.47056493021241985, -0.8823653701580658 L -0.47952284897544795, -0.8775293939865888 L -0.4884310743185354, -0.872602478589215 L -0.49728868307361235, -0.8675851345469863 L -0.5060947573180554, -0.8624778818121532 L -0.514848384469812, -0.8572812496542921 L -0.5235486573819748, -0.8519957766054544 L -0.5321946744367865, -0.8466220104043616 L -0.5407855396390775, -0.8411605079396391 L -0.5493203627091187, -0.8356118351921078 L -0.5577982591748815, -0.8299765671761292 L -0.5662183504636968, -0.8242552878800173 L -0.5745797639933018, -0.8184485902055191 L -0.582881633262269, -0.8125570759063696 L -0.5911230979397984, -0.8065813555259354 L -0.5993033039548777, -0.8005220483339403 L -0.6074214035847892, -0.7943797822622909 L -0.6154765555429603, -0.7881551938400033 L -0.6234679250661472, -0.7818489281272393 L -0.6313946840009411, -0.775461638648458 L -0.6392560108895936, -0.7689939873246888 L -0.6470510910551409, -0.7624466444049391 L -0.6547791166858321, -0.7558202883967335 L -0.6624392869188434, -0.7491156059957997 L -0.6700308079232717, -0.742333292014906 L -0.6775528929824003, -0.7354740493118571 L -0.6850047625752278, -0.7285385887166553 L -0.6923856444572491, -0.7215276289578382 L -0.6996947737404848, -0.7144418965879953 L -0.7069313929727482, -0.7072821259084735 L -0.7140947522161387, -0.7000490588932832 L -0.7211841091247602, -0.6927434451122045 L -0.7281987290216501, -0.6853660416531107 L -0.7351378849749162, -0.6779176130435076 L -0.7420008578730675, -0.6703989311713078 L -0.748786936499537, -0.6628107752048381 L -0.7554954176063867, -0.6551539315120922 L -0.7621256059871849, -0.6474291935792409 L -0.768676814549051, -0.6396373619284007 L -0.77514836438386, -0.6317792440346759 L -0.7815395848385993, -0.6238556542424777 L -0.787849813584867, -0.6158674136811351 L -0.7940783966875112, -0.6078153501797989 L -0.8002246886723983, -0.5997002981816527 L -0.8062880525933025, -0.5915230986574402 L -0.8122678600979145, -0.5832845990183136 L -0.8181634914929572, -0.5749856530280157 L -0.823974335808407, -0.566627120714403 L -0.8296997908608067, -0.5582098682803213 L -0.835339263315672, -0.54973476801384 L -0.8408921687489793, -0.5412026981978546 L -0.8463579317077294, -0.5326145430190715 L -0.8517359857695828, -0.5239711924763777 L -0.8570257736015577, -0.5152735422886096 L -0.8622267470177892, -0.5065224938017276 L -0.8673383670363356, -0.49771895389541154 L -0.872360103935035, -0.4888638348890772 L -0.8772914373064008, -0.4799580544473333 L -0.8821318561115526, -0.47100253548488136 L -0.8868808587331745, -0.4619982060708754 L -0.8915379530274984, -0.45294599933274404 L -0.8961026563753065, -0.44384685335948854 L -0.9005744957319445, -0.43470171110446987 L -0.9049530076763436, -0.4255115202876882 L -0.9092377384590458, -0.4162772332975704 L -0.9134282440492267, -0.40699980709227157 L -1.0047710684541495 ,-0.44769978780149877",
          "type": "path"
         },
         {
          "fillcolor": "rgba(217,239,139, 0.75)",
          "layer": "below",
          "line": {
           "color": "rgba(217,239,139, 0.75)",
           "width": 0.45
          },
          "path": "M -0.20088749805921444, -1.08150090759255 L -0.18986762809699834, -1.0834898632662975 L -0.1788280819675332, -1.0853665358300917 L -0.16777000370973805, -1.0871307308025262 L -0.15669453928303534, -1.0887822653583579 L -0.1456028364485902, -1.090320968347452 L -0.13449604465037274, -1.0917466803125189 L -0.12337531489603609, -1.0930592535056387 L -0.11224179963763735, -1.094258551903573 L -0.10109665265220787, -1.0953444512218606 L -0.08994102892218618, -1.0963168389276974 L -0.07877608451572705, -1.097175614251598 L -0.06760297646689312, -1.0979206881978392 L -0.056422862655756106, -1.0985519835536823 L -0.045236901688400805, -1.0990694348973744 L -0.03404625277685844, -1.099472988604929 L -0.022852075618976484, -1.0997626028556822 L -0.011655530278238015, -1.0999382476366268 L -0.0004577770635441849, -1.0999999047455231 L 0.010740023591033637, -1.0999475677927855 L 0.021936711246504908, -1.0997812422021425 L 0.03313112557922123, -1.0995009452100775 L 0.04432210650112089, -1.099106705864041 L 0.05550849427994984, -1.09859856501944 L 0.06668912965944596, -1.0979765753354058 L 0.07786285397947286, -1.0972408012693347 L 0.08902850929609694, -1.09639131907021 L 0.10018493850158036, -1.0954282167706995 L 0.11133098544429708, -1.0943515941780328 L 0.12246549504854513, -1.093161562863658 L 0.13358731343424815, -1.0918582461516788 L 0.1446952880365331, -1.0904417791060763 L 0.15578826772517074, -1.08891230851671 L 0.16686510292387222, -1.0872699928841068 L 0.17792464572941508, -1.0855150024030356 L 0.18896575003060528, -1.0836475189448693 L 0.19998727162704902, -1.0816677360387381 L 0.21098806834772724, -1.0795758588514728 L 0.2219670001693599, -1.077372104166344 L 0.23292292933454686, -1.0750567003605966 L 0.24385472046967857, -1.0726298873817823 L 0.25476124070259004, -1.0700919167228942 L 0.26564135977996556, -1.0674430513963034 L 0.27649395018446693, -1.0646835659065044 L 0.2873178872515789, -1.0618137462216664 L 0.29811204928615986, -1.0588338897439986 L 0.3088753176786825, -1.0557443052789313 L 0.3196065770211608, -1.052545313003111 L 0.33030471522273486, -1.0492372444312241 L 0.34096862362492186, -1.0458204423816388 L 0.35159719711650644, -1.0422952609408798 L 0.36218933424806443, -1.0386620654269338 L 0.37274393734610695, -1.0349212323513908 L 0.383259912626833, -1.031073149380427 L 0.39373617030948255, -1.0271182152946283 L 0.404171624729266, -1.0230568399476667 L 0.4145651944498767, -1.0188894442238257 L 0.4249158023755602, -1.0146164599943834 L 0.4352223758627348, -1.010238330072858 L 0.4454838468311502, -1.0057555081691179 L 0.45569915187457366, -1.0011684588423642 L 0.46586723237099437, -0.9964776574529858 L 0.4759870345923251, -0.9916835901133007 L 0.4860575098136039, -0.9867867536371769 L 0.496077614421674, -0.9817876554885486 L 0.5060463100233342, -0.9766868137288266 L 0.515962563552949, -0.971484756963211 L 0.5258253473795058, -0.9661820242859118 L 0.535633639413109, -0.9607791652242818 L 0.5453864232109005, -0.9552767396818688 L 0.5550826880823967, -0.9496753178803906 L 0.5647214291942231, -0.9439754803006455 L 0.5743016476742491, -0.938177817622354 L 0.5838223507151016, -0.932282930662947 L 0.5932825516770504, -0.9262914303153021 L 0.6026812701902547, -0.9202039374844369 L 0.6120175322563588, -0.9140210830231636 L 0.6212903703494324, -0.9077435076667116 L 0.6304988235162299, -0.9013718619663308 L 0.6396419374757799, -0.8949068062218717 L 0.6487187647182767, -0.8883490104133585 L 0.6577283646032713, -0.8816991541315589 L 0.6666698034571514, -0.8749579265075568 L 0.6755421546698982, -0.8681260261413384 L 0.6843444987911141, -0.8612041610293919 L 0.6930759236253031, -0.8541930484913426 L 0.7017355243264043, -0.847093415095612 L 0.7103224034915616, -0.8399059965841245 L 0.7188356712541228, -0.8326315377960619 L 0.727274445375857, -0.8252707925906744 L 0.7356378513383809, -0.8178245237691583 L 0.7439250224337893, -0.8102935029956037 L 0.7521350998544686, -0.8026785107170298 L 0.6837591816858805, -0.7297077370154815 L 0.6762954749398085, -0.7366304572687306 L 0.6687616830348917, -0.7434768397901438 L 0.6611585867053245, -0.7502461750824312 L 0.6534869738673843, -0.7569377616327835 L 0.6457476395377832, -0.7635509059855676 L 0.6379413857512766, -0.7700849228141926 L 0.6300690214775483, -0.7765391349921296 L 0.6221313625373764, -0.7829128736630835 L 0.6141292315180892, -0.7892054783103075 L 0.6060634576883195, -0.7954162968250515 L 0.5979348769120648, -0.8015446855741444 L 0.5897443315620697, -0.8075900094666895 L 0.5814926704325272, -0.8135516420198833 L 0.573180748651118, -0.8194289654239371 L 0.564809427590393, -0.8252213706061015 L 0.556379574778508, -0.830928257293785 L 0.5478920638093224, -0.8365490340767607 L 0.5393477742518639, -0.8420831184684564 L 0.5307475915591832, -0.8475299369663154 L 0.52209240697659, -0.8528889251112308 L 0.5133831174492937, -0.8581595275460413 L 0.5046206255294515, -0.8633411980730823 L 0.4958058392826368, -0.8684333997107897 L 0.48693967219373546, -0.873435604749347 L 0.47802304307227794, -0.8783472948053743 L 0.46905687595722634, -0.8831679608756463 L 0.4600421000212129, -0.8878971033898423 L 0.450979649474249, -0.8925342322623169 L 0.4418704634669126, -0.8970788669428881 L 0.4327154859930228, -0.9015305364666368 L 0.42351566579181305, -0.9058887795027143 L 0.4142719562496124, -0.9101531444021491 L 0.40498531530104565, -0.9143231892446525 L 0.3956567053297589, -0.9183984818844162 L 0.3862870930686911, -0.9223785999948939 L 0.3768774494998879, -0.9262631311125686 L 0.3674287497538781, -0.9300516726796969 L 0.35794197300862046, -0.9337438320860256 L 0.34841810238803, -0.9373392267094791 L 0.3388581248600972, -0.9408374839558098 L 0.329263031134604, -0.9442382412972125 L 0.3196338155604604, -0.9475411463098906 L 0.30997147602265623, -0.9507458567105807 L 0.30027701383884986, -0.9538520403920218 L 0.2905514336556007, -0.9568593754573737 L 0.2807957433442568, -0.9597675502535737 L 0.2710109538965089, -0.9625762634036351 L 0.2611980793196172, -0.9652852238378784 L 0.25135813653133354, -0.9678941508240948 L 0.24149214525451412, -0.9704027739966393 L 0.23160112791144546, -0.9728108333844491 L 0.22168610951788958, -0.9751180794379839 L 0.21174811757686077, -0.9773242730550878 L 0.20178818197214535, -0.9794291856057672 L 0.1918073348615702, -0.9814325989558842 L 0.18180661057004455, -0.9833343054897618 L 0.17178704548236842, -0.9851341081316993 L 0.16174967793583186, -0.9868318203663959 L 0.1516955481126111, -0.9884272662582788 L 0.14162569793197338, -0.9899202804697363 L 0.1315411709423028, -0.9913107082782511 L 0.12144301221295287, -0.9925984055924353 L 0.11133226822595012, -0.9937832389669616 L 0.1012099867675428, -0.9948650856163934 L 0.0910772168196185, -0.9958438334279086 L 0.08093500845099721, -0.9967193809729181 L 0.07078441270861169, -0.9974916375175769 L 0.060626481508587224, -0.9981605230321869 L 0.05046226752722712, -0.9987259681994909 L 0.040292824091928074, -0.9991879144218554 L 0.0301192050720193, -0.9995463138273432 L 0.019942464769549913, -0.9998011292746749 L 0.009763657810030578, -0.9999523343570775 L -0.0004161609668583499, -0.999999913405021 L -0.010595936616580013, -0.9999438614878424 L -0.02077461419906953, -0.9997841844142564 L -0.030951138888053124, -0.9995208987317536 L -0.041124456080364365, -0.9991540317248858 L -0.05129351150523282, -0.9986836214124384 L -0.06145725133353919, -0.9981097165434901 L -0.07161462228702459, -0.9974323765923617 L -0.08176457174744198, -0.9966516717524521 L -0.0919060478656435, -0.9957676829289641 L -0.1020379996705794, -0.9947805017305209 L -0.11215937717821461, -0.9936902304596714 L -0.12226913150033884, -0.9924969821022898 L -0.1323662149532638, -0.9912008803158653 L -0.14244958116639575, -0.9898020594166889 L -0.15251818519067095, -0.9883006643659328 L -0.16257098360684835, -0.9866968507546287 L -0.17260693463363483, -0.9849907847875431 L -0.18262499823564948, -0.9831826432659544 L -0.20088749805921444 ,-1.08150090759255",
          "type": "path"
         },
         {
          "fillcolor": "rgba(166,217,106, 0.75)",
          "layer": "below",
          "line": {
           "color": "rgba(166,217,106, 0.75)",
           "width": 0.45
          },
          "path": "M 0.7769767079031992, -0.7786573029105339 L 0.7849966340560205, -0.7705714013125056 L 0.7929324156929323, -0.7624029014526186 L 0.8007832021701531, -0.7541526789199359 L 0.8085481519546142, -0.745821618063447 L 0.8162264327141584, -0.7374106118972792 L 0.8238172214067642, -0.7289205620049681 L 0.8313197043687632, -0.7203523784428232 L 0.8387330774020629, -0.7117069796423705 L 0.8460565458603434, -0.7029852923119125 L 0.8532893247342421, -0.6941882513371868 L 0.8604306387354952, -0.6853167996811607 L 0.8674797223800446, -0.6763718882829483 L 0.8744358200700876, -0.6673544759558848 L 0.8812981861750746, -0.6582655292847436 L 0.8880660851116289, -0.6491060225221342 L 0.8947387914223991, -0.6398769374840642 L 0.9013155898538173, -0.6305792634447039 L 0.8193778089580157, -0.5732538758588217 L 0.81339890129309, -0.5817063068036946 L 0.8073328046469352, -0.590096384111031 L 0.8011801692500677, -0.598423208440676 L 0.7949416546091704, -0.6066858872326225 L 0.7886179294364041, -0.6148835348026802 L 0.7822096715777228, -0.6230152724374187 L 0.7757175679402201, -0.6310802284883515 L 0.7691423144184939, -0.639077538465375 L 0.7624846158200571, -0.6470063451294277 L 0.7557451857897847, -0.6548657985843847 L 0.7489247467334219, -0.6626550563681528 L 0.7420240297401439, -0.670373283542981 L 0.7350437745041947, -0.6780196527849518 L 0.7279847292455937, -0.685593344472669 L 0.7208476506299384, -0.6930935467751077 L 0.7136333036872913, -0.7005194557386414 L 0.706342461730181, -0.7078702753732126 L 0.7769767079031992 ,-0.7786573029105339",
          "type": "path"
         },
         {
          "fillcolor": "rgba(102,189,99, 0.75)",
          "layer": "below",
          "line": {
           "color": "rgba(102,189,99, 0.75)",
           "width": 0.45
          },
          "path": "M 0.9206778183425246, -0.6019571037973134 L 0.9269245641214793, -0.5922928772391289 L 0.9330698697981413, -0.5825638317599882 L 0.9391130628469779, -0.5727710320801571 L 0.9450534819173841, -0.5629155498969883 L 0.95089047690606, -0.5529984637676367 L 0.956623409028155, -0.5430208589910255 L 0.9622516508871767, -0.5329838274890742 L 0.967774586543649, -0.5228884676872013 L 0.9731916115825209, -0.5127358843941158 L 0.9785021331793109, -0.5025271886809096 L 0.9837055701649842, -0.4922634977594657 L 0.9888013530895552, -0.48194593486019266 L 0.9937889242844051, -0.4715756291091018 L 0.9986677379233128, -0.4611537154042388 L 1.0034372600821881, -0.450681334291483 L 1.008096968797503, -0.44015963183973006 L 1.0126463541234136, -0.42958975951546846 L 1.017084918187569, -0.41897287405676553 L 1.0214121752455934, -0.40831013734668103 L 1.0256276517342484, -0.3976027162861081 L 1.029730886323257, -0.38685178266607456 L 1.0337214299657898, -0.37605851303950416 L 1.0375988459476082, -0.36522408859245836 L 1.0413627099348568, -0.35434969501486996 L 1.045012610020502, -0.3434365223707846 L 1.0485481467694089, -0.33248576496812365 L 1.0519689332620554, -0.32149862122798206 L 1.0552745951368752, -0.3104762935534766 L 1.0584647706312265, -0.2994199881981581 L 1.0615391106209837, -0.2883309151340024 L 1.0644972786587426, -0.27721028791899394 L 1.0673389510106421, -0.26605932356431794 L 1.0700638166917915, -0.25487924240117343 L 1.0726715775003048, -0.24367126794722385 L 1.0751619480499344, -0.23243662677269836 L 0.9774199527726675, -0.21130602433881668 L 0.9751559795457315, -0.2215193344974762 L 0.9727852879016285, -0.23170840218288494 L 0.9703081372824018, -0.24187211233119812 L 0.967724798780675, -0.25200935265363084 L 0.9650355551099851, -0.26211901375818397 L 0.9622407005738423, -0.2721999892710528 L 0.9593405410335227, -0.282251175957706 L 0.9563353938745958, -0.29227147384362 L 0.9532255879721898, -0.30225978633465783 L 0.9500114636550018, -0.3122150203370769 L 0.9466933726680516, -0.32213608637715446 L 0.9432716781341892, -0.33202189872041665 L 0.9397467545143543, -0.3418713754904583 L 0.9361189875665972, -0.3516834387873405 L 0.9323887743038621, -0.3614570148055528 L 0.9285565229505393, -0.3711910339515282 L 0.9246226528977899, -0.3808844309606959 L 0.9205875946576487, -0.3905361450140622 L 0.9164517898159117, -0.4001451198543 L 0.9122156909838073, -0.40971030390134816 L 0.9078797617484661, -0.41923065036748974 L 0.9034444766221864, -0.4287051173719107 L 0.8989103209905046, -0.43813266805472056 L 0.8942777910590765, -0.4475122706904233 L 0.8895473937993734, -0.4568428988008269 L 0.8847196468932007, -0.46612353126737793 L 0.8797950786760445, -0.47535315244291027 L 0.8747742280792514, -0.48453075226279474 L 0.86965764457105, -0.4936553263554777 L 0.8644458880964181, -0.5027258761523969 L 0.8591395290158037, -0.5117414089972621 L 0.8537391480427071, -0.5207009382546882 L 0.8482453361801284, -0.529603483418171 L 0.8426586946558902, -0.5384480702173899 L 0.8369798348568405, -0.5472337307248303 L 0.9206778183425246 ,-0.6019571037973134",
          "type": "path"
         },
         {
          "fillcolor": "rgba(26,152,80, 0.75)",
          "layer": "below",
          "line": {
           "color": "rgba(26,152,80, 0.75)",
           "width": 0.45
          },
          "path": "M 1.081932431415999, -0.1985502804084257 L 1.083643085934891, -0.18899116991411677 L 1.085269285312793, -0.17941733014583555 L 1.08681090280973, -0.16982950725330412 L 1.0882678182777261, -0.16022844847603768 L 1.0896399181701695, -0.1506149020851074 L 1.0909270955506607, -0.14098961732482293 L 1.092129250101347, -0.13135334435433918 L 1.0932462881307419, -0.12170683418919151 L 1.0942781225810252, -0.1120508386427644 L 1.0952246730348303, -0.10238611026769802 L 1.0960858657215096, -0.09271340229723689 L 1.0968616335228845, -0.08303346858652577 L 1.0975519159784775, -0.07334706355385692 L 1.098156659290222, -0.06365494212187352 L 1.0986758163266581, -0.053957859658733856 L 1.0991093466266026, -0.044256571919240616 L 1.0994572164023049, -0.03455183498594022 L 0.9995065603657316, -0.03141075907812747 L 0.9991903151150932, -0.040233247199309645 L 0.9987961966605982, -0.049052599689758045 L 0.9983242357183837, -0.05786812920170319 L 0.997774469071343, -0.06667914868532447 L 0.9971469395662585, -0.07548497144229616 L 0.9964416961104631, -0.08428491117930625 L 0.9956587936680275, -0.09307828206154364 L 0.9947982932554774, -0.10186439876614944 L 0.9938602619370379, -0.11064257653562863 L 0.9928447728194063, -0.11941213123121744 L 0.991751905046055, -0.12817237938620266 L 0.9905817437910631, -0.13692263825918852 L 0.9893343802524782, -0.14566222588730696 L 0.9880099116452089, -0.15439046113936736 L 0.986608441193448, -0.1631066637689414 L 0.9851300781226281, -0.17181015446737888 L 0.9835749376509082, -0.18050025491675062 L 1.081932431415999 ,-0.1985502804084257",
          "type": "path"
         }
        ],
        "showlegend": false,
        "title": "Pairwise interactions between common egg mutation genotypes",
        "width": 800,
        "xaxis": {
         "visible": false
        },
        "yaxis": {
         "visible": false
        }
       }
      },
      "text/html": [
       "<div id=\"12ff7c32-d60f-48ba-b08a-6c56ddc53e5c\" style=\"height: 800px; width: 800px;\" class=\"plotly-graph-div\"></div><script type=\"text/javascript\">require([\"plotly\"], function(Plotly) { window.PLOTLYENV=window.PLOTLYENV || {};window.PLOTLYENV.BASE_URL=\"https://plot.ly\";Plotly.newPlot(\"12ff7c32-d60f-48ba-b08a-6c56ddc53e5c\", [{\"line\": {\"color\": \"rgba(215,48,39, 0.75)\", \"shape\": \"spline\", \"width\": 0.25}, \"mode\": \"lines\", \"x\": [1.1, 1.0999417639690854, 1.099767062042587, 1.09947591271859, 1.0990683468250604, 1.0985444075165793, 1.0979041502697757, 1.0971476428774511, 1.0962749654414017, 1.0952862103639367, 1.0941814823380946, 1.0929608983365586, 1.0916245875992694, 1.0901726916197425, 1.0886053641300852, 1.08692277108472, 1.0851250906428114, 1.0832125131494026, 1.081185241115261, 1.0790434891954352, 1.0767874841665275, 1.0744174649026805, 1.0719336823502854, 1.0693363995014105, 1.0666258913659543, 1.063802444942527, 1.0608663591880618, 1.05781794498616, 1.0546575251141737, 1.0513854342090292, 1.048002018731794, 1.044507636930992, 1.040902658804672, 1.037187466061229, 1.03336245207899, 1.029428021864559, 1.025384592009936, 1.0212325906484039, 1.0169724574091987, 1.012604643370959, 1.008129611013963, 1.0035478341711614, 0.998859797978005, 0.9940659988210764, 0.9891669442855321, 0.9841631531013564, 0.9790551550884365, 0.973843491100464, 0.9685287129676664, 0.9631113834383772, 0.9575920761194513, 0.9519713754155278, 0.9462498764671521, 0.9404281850877599, 0.9345069176995318, 0.928486701268123, 0.9223681732362796, 0.916151981456343], \"y\": [0.0, 0.011318828410097063, 0.022636458340846474, 0.033951691439799994, 0.04526332960829479, 0.05657017512831255, 0.06787103078929825, 0.07916470001492529, 0.09044998698979337, 0.10172569678604586, 0.11299063548989316, 0.12424361032802866, 0.13548342979392414, 0.14670890377399068, 0.15791884367359235, 0.16911206254289918, 0.18028737520256538, 0.19144359836922098, 0.20257955078076192, 0.21369405332142655, 0.22478592914664475, 0.23585400380764662, 0.24689710537581733, 0.25791406456678545, 0.26890371486423087, 0.27986489264340014, 0.29079643729431487, 0.30169719134466205, 0.31256600058235096, 0.32340171417772556, 0.33420318480541894, 0.34496926876583567, 0.3556988261062514, 0.36639072074151546, 0.3770438205743431, 0.38765699761518685, 0.39822912810167144, 0.40875909261758286, 0.4192457762113954, 0.4296880685143273, 0.44008486385791074, 0.45043506139106365, 0.4607375651966524, 0.47099128440753135, 0.48119513332204783, 0.49134803151900036, 0.5014489039720376, 0.5114966811634858, 0.521490299197594, 0.5314286999131825, 0.5413108309956852, 0.5511356460885728, 0.5609021049041443, 0.5706091733336769, 0.5802558235569213, 0.5898410341509308, 0.5993637901982138, 0.6088230833941964], \"type\": \"scatter\", \"uid\": \"424f7e31-0a3c-42f4-8436-304631245d82\"}, {\"line\": {\"color\": \"rgba(244,109,67, 0.75)\", \"shape\": \"spline\", \"width\": 0.25}, \"mode\": \"lines\", \"x\": [0.8965763205639805, 0.8899080107392033, 0.8831436774659959, 0.8762840506339641, 0.8693298704151431, 0.8622818871841305, 0.8551408614371195, 0.847907563709839, 0.84058277449441, 0.8331672841551304, 0.8256618928431901, 0.8180674104103346, 0.8103846563214787, 0.8026144595662844, 0.7947576585697108, 0.7868151011015454, 0.7787876441849281, 0.7706761540038756, 0.7624815058098178, 0.7542045838271565, 0.7458462811578548, 0.7374074996850684, 0.7288891499758309, 0.7202921511828013, 0.7116174309450839, 0.7028659252881349, 0.6940385785227612, 0.6851363431432284, 0.6761601797244831, 0.6671110568185045, 0.6579899508497951, 0.648797846010022, 0.6395357341518199, 0.6302046146817675, 0.6208054944525486], \"y\": [0.6372996951230674, 0.646578481255133, 0.6557874998441471, 0.6649257572124367, 0.673992267317653, 0.6829860518591683, 0.6919061403836371, 0.7007515703897107, 0.709521387431894, 0.7182146452235323, 0.7268304057389183, 0.7353677393145074, 0.7438257247492311, 0.7522034494038972, 0.7605000092996654, 0.7687145092155899, 0.776846062785215, 0.7848937925922176, 0.7928568302650819, 0.8007343165707997, 0.8085254015075832, 0.8162292443965826, 0.8238450139725984, 0.8313718884737761, 0.838809055730277, 0.8461557132519133, 0.8534110683147398, 0.8605743380465889, 0.8676447495115469, 0.8746215397933543, 0.8815039560777277, 0.8882912557335888, 0.8949827063931979, 0.9015775860311775, 0.9080751830424212], \"type\": \"scatter\", \"uid\": \"63f91939-6db6-4b1d-a0e0-071f16f698ec\"}, {\"line\": {\"color\": \"rgba(253,174,97, 0.75)\", \"shape\": \"spline\", \"width\": 0.25}, \"mode\": \"lines\", \"x\": [0.5919758336170414, 0.5453336076545716, 0.4973530161519863, 0.4481518137632445, 0.39785075078300053, 0.34657327679950445, 0.29444523772285713, 0.2415945669321764, 0.18815097129966962, 0.13424561286217135, 0.08001078692139714, 0.025579597362921477, -0.02891437000928122, -0.0833373753210291, -0.13755585285424307, -0.1914367388458444, -0.24484779805474421, -0.29765794829546427, -0.34973758214191036, -0.40095888501177307, -0.45119614885090203, -0.5003260806478119, -0.548228105021154, -0.5947846601375425, -0.6398814862334853, -0.6834079060333342, -0.725257096375033, -0.7653263503770529, -0.8035173295030898, -0.8397363049059049, -0.8738943874580057, -0.90590774590461, -0.9356978126035133, -0.9631914763469194, -0.9883212617920123, -1.0110254950599074, -1.0312484550965666, -1.0489405104242089, -1.064058240947589, -1.0765645445162195, -1.0864287279809977, -1.093626582521771, -1.098140443060971, -1.099959231617498, -1.0990784844944612, -1.095500363234048, -1.089233649312636, -1.0802937225891667, -1.0687025235596777, -1.0544884995106225, -1.0376865347031339, -1.01833786475957], \"y\": [0.9271270745768397, 0.9553068911938456, 0.9811421799741984, 1.0045695355826367, 1.0255314622679321, 1.0439765149697835, 1.0598594255760196, 1.0731412140202492, 1.0837892839472953, 1.0917775027116379, 1.0970862655125253, 1.0997025435083576, 1.0996199157922553, 1.096838585150341, 1.0913653775640595, 1.0832137254577547, 1.072403634732624, 1.0589616356679477, 1.0429207178100983, 1.024320249009125, 1.003205878801612, 0.9796294263769334, 0.9536487534018564, 0.9253276220156125, 0.8947355383439434, 0.8619475819161706, 0.8270442214039443, 0.7901111171338755, 0.7512389108587382, 0.7105230033031846, 0.6680633200299184, 0.6239640662009543, 0.5783334708358153, 0.5312835211943261, 0.4829296879358784, 0.43339064172968644, 0.3827879620115353, 0.3312458386017857, 0.27889076691694675, 0.2258512375228107, 0.17225742079106998, 0.11824084743333123, 0.06393408569655605, 0.009470416012180637, -0.045016496102633474, -0.09939292808881654, -0.15352542852921083, -0.20728114466695016, -0.2605281484545896, -0.31313576033381385, -0.36497486995107215, -0.41591825302205726], \"type\": \"scatter\", \"uid\": \"dd18c2fc-2afd-423d-8676-c7bed55b96a3\"}, {\"line\": {\"color\": \"rgba(254,224,139, 0.75)\", \"shape\": \"spline\", \"width\": 0.25}, \"mode\": \"lines\", \"x\": [-1.0047710684541495, -1.0001615123049503, -0.995448308443978, -0.990631945305139, -0.9857129220128372, -0.9806917483302483, -0.975568944606492, -0.970345041722708, -0.9650205810370409, -0.9595961143285386, -0.9540722037399693, -0.9484494217195683, -0.9427283509617136, -0.9369095843465411, -0.9309937248785024, -0.9249813856238773, -0.9188731896472393, -0.9126697699468874, -0.9063717693892477, -0.899979840642253, -0.893494646107706, -0.8869168578526329, -0.8802471575396381, -0.8734862363562624, -0.8666347949433538, -0.8596935433224593, -0.8526632008222461, -0.8455444960039562, -0.8383381665859035, -0.8310449593670255, -0.8236656301494908, -0.8162009436603743, -0.8086516734724079, -0.8010186019238151, -0.7933025200372362, -0.7855042274377526, -0.777624532270023, -0.7696642511145334, -0.7616242089029741, -0.7535052388327507, -0.7453081822806403, -0.7370338887155989, -0.7286832156107278, -0.7202570283544154, -0.7117562001606551, -0.703181611978553, -0.6945341524010353, -0.685814717572762, -0.6770242110972564, -0.6681635439432683, -0.6592336343503655, -0.6502354077337783, -0.641169796588496, -0.632037740392632, -0.6228401855100666, -0.6135780850923697, -0.6042523989800306, -0.5948640936029853, -0.5854141418804651, -0.5759035231201722, -0.5663332229167932, -0.556704233049861, -0.5470175513809736, -0.537274181750389, -0.5274751338729928, -0.5176214232336619, -0.5077140709820283, -0.4977541038266565, -0.48774255392864574, -0.4776804587946623, -0.46756886116942736, -0.45740880892765245, -0.44720135496544816, -0.43694755709121175, -0.4266484779160051, -0.4163051847434362, -0.4059187494590502, -0.39549024841925395, -0.38502076233976845, -0.3745113761836345, -0.3639631790487765, -0.3533772640551386, -0.3427547282314041, -0.3320966724013062, -0.32140420106955314, -0.31067842230736464, -0.29992044763764186, -0.28913139191977905, -0.27831237323412983, -0.26746451276614025, -0.2565889346901557, -0.24568676605292689, -0.23475913665680948], \"y\": [-0.44769978780149877, -0.45790495662732744, -0.46806267231645704, -0.4781718822149169, -0.48823153869543745, -0.4982405992660185, -0.508198026677963, -0.5181027890333695, -0.5279538598920667, -0.537750218377985, -0.5474908492849527, -0.5571747431819004, -0.5668008965174706, -0.5763683117240155, -0.5858759973209787, -0.5953229680176401, -0.6047082448152241, -0.6140308551083534, -0.6232898327858434, -0.6324842183308174, -0.6416130589201451, -0.6506754085231843, -0.6596703279998181, -0.6685968851977788, -0.6774541550492487, -0.6862412196667255, -0.6949571684381436, -0.7036010981212408, -0.7121721129371651, -0.7206693246633015, -0.729091852725322, -0.7374388242884387, -0.7457093743478584, -0.7539026458184218, -0.762017789623425, -0.7700539647826116, -0.7780103384993209, -0.7858860862467949, -0.793680391853622, -0.801392447588321, -0.8090214542430428, -0.8165666212163967, -0.8240271665953798, -0.831402317236407, -0.8386913088454331, -0.8458933860571578, -0.8530078025133039, -0.8600338209399633, -0.8669707132240038, -0.87381776048852, -0.8805742531673344, -0.887239491078529, -0.8938127834970067, -0.900293449226071, -0.9066808166680191, -0.9129742238937422, -0.9191730187113186, -0.9252765587336031, -0.9312842114447978, -0.937195354266, -0.9430093746197213, -0.9487256699933686, -0.9543436480016849, -0.9598627264481366, -0.9652823333852477, -0.9706019071738725, -0.9758208965413973, -0.98093876063887, -0.9859549690970487, -0.9908690020813655, -0.9956803503457949, -1.0003885152856298, -1.0049930089891508, -1.0094933542881908, -1.013889084807582, -1.018179745013489, -1.0223648902606157, -1.0264440868382831, -1.0304169120153763, -1.034282954084152, -1.0380418124029054, -1.0416930974374867, -1.045236430801671, -1.048671445296371, -1.0519977849476883, -1.0552151050438043, -1.0583230721707038, -1.0613213642467259, -1.064209670555942, -1.0669876917803558, -1.069655140030922, -1.07221173887738, -1.0746572233769005], \"type\": \"scatter\", \"uid\": \"b380cb67-bb8f-4442-b924-5240761a2760\"}, {\"line\": {\"color\": \"rgba(217,239,139, 0.75)\", \"shape\": \"spline\", \"width\": 0.25}, \"mode\": \"lines\", \"x\": [-0.20088749805921444, -0.18986762809699834, -0.1788280819675332, -0.16777000370973805, -0.15669453928303534, -0.1456028364485902, -0.13449604465037274, -0.12337531489603609, -0.11224179963763735, -0.10109665265220787, -0.08994102892218618, -0.07877608451572705, -0.06760297646689312, -0.056422862655756106, -0.045236901688400805, -0.03404625277685844, -0.022852075618976484, -0.011655530278238015, -0.0004577770635441849, 0.010740023591033637, 0.021936711246504908, 0.03313112557922123, 0.04432210650112089, 0.05550849427994984, 0.06668912965944596, 0.07786285397947286, 0.08902850929609694, 0.10018493850158036, 0.11133098544429708, 0.12246549504854513, 0.13358731343424815, 0.1446952880365331, 0.15578826772517074, 0.16686510292387222, 0.17792464572941508, 0.18896575003060528, 0.19998727162704902, 0.21098806834772724, 0.2219670001693599, 0.23292292933454686, 0.24385472046967857, 0.25476124070259004, 0.26564135977996556, 0.27649395018446693, 0.2873178872515789, 0.29811204928615986, 0.3088753176786825, 0.3196065770211608, 0.33030471522273486, 0.34096862362492186, 0.35159719711650644, 0.36218933424806443, 0.37274393734610695, 0.383259912626833, 0.39373617030948255, 0.404171624729266, 0.4145651944498767, 0.4249158023755602, 0.4352223758627348, 0.4454838468311502, 0.45569915187457366, 0.46586723237099437, 0.4759870345923251, 0.4860575098136039, 0.496077614421674, 0.5060463100233342, 0.515962563552949, 0.5258253473795058, 0.535633639413109, 0.5453864232109005, 0.5550826880823967, 0.5647214291942231, 0.5743016476742491, 0.5838223507151016, 0.5932825516770504, 0.6026812701902547, 0.6120175322563588, 0.6212903703494324, 0.6304988235162299, 0.6396419374757799, 0.6487187647182767, 0.6577283646032713, 0.6666698034571514, 0.6755421546698982, 0.6843444987911141, 0.6930759236253031, 0.7017355243264043, 0.7103224034915616, 0.7188356712541228, 0.727274445375857, 0.7356378513383809, 0.7439250224337893, 0.7521350998544686], \"y\": [-1.08150090759255, -1.0834898632662975, -1.0853665358300917, -1.0871307308025262, -1.0887822653583579, -1.090320968347452, -1.0917466803125189, -1.0930592535056387, -1.094258551903573, -1.0953444512218606, -1.0963168389276974, -1.097175614251598, -1.0979206881978392, -1.0985519835536823, -1.0990694348973744, -1.099472988604929, -1.0997626028556822, -1.0999382476366268, -1.0999999047455231, -1.0999475677927855, -1.0997812422021425, -1.0995009452100775, -1.099106705864041, -1.09859856501944, -1.0979765753354058, -1.0972408012693347, -1.09639131907021, -1.0954282167706995, -1.0943515941780328, -1.093161562863658, -1.0918582461516788, -1.0904417791060763, -1.08891230851671, -1.0872699928841068, -1.0855150024030356, -1.0836475189448693, -1.0816677360387381, -1.0795758588514728, -1.077372104166344, -1.0750567003605966, -1.0726298873817823, -1.0700919167228942, -1.0674430513963034, -1.0646835659065044, -1.0618137462216664, -1.0588338897439986, -1.0557443052789313, -1.052545313003111, -1.0492372444312241, -1.0458204423816388, -1.0422952609408798, -1.0386620654269338, -1.0349212323513908, -1.031073149380427, -1.0271182152946283, -1.0230568399476667, -1.0188894442238257, -1.0146164599943834, -1.010238330072858, -1.0057555081691179, -1.0011684588423642, -0.9964776574529858, -0.9916835901133007, -0.9867867536371769, -0.9817876554885486, -0.9766868137288266, -0.971484756963211, -0.9661820242859118, -0.9607791652242818, -0.9552767396818688, -0.9496753178803906, -0.9439754803006455, -0.938177817622354, -0.932282930662947, -0.9262914303153021, -0.9202039374844369, -0.9140210830231636, -0.9077435076667116, -0.9013718619663308, -0.8949068062218717, -0.8883490104133585, -0.8816991541315589, -0.8749579265075568, -0.8681260261413384, -0.8612041610293919, -0.8541930484913426, -0.847093415095612, -0.8399059965841245, -0.8326315377960619, -0.8252707925906744, -0.8178245237691583, -0.8102935029956037, -0.8026785107170298], \"type\": \"scatter\", \"uid\": \"689167c0-16d8-4029-829d-aa98edd669aa\"}, {\"line\": {\"color\": \"rgba(166,217,106, 0.75)\", \"shape\": \"spline\", \"width\": 0.25}, \"mode\": \"lines\", \"x\": [0.7769767079031992, 0.7849966340560205, 0.7929324156929323, 0.8007832021701531, 0.8085481519546142, 0.8162264327141584, 0.8238172214067642, 0.8313197043687632, 0.8387330774020629, 0.8460565458603434, 0.8532893247342421, 0.8604306387354952, 0.8674797223800446, 0.8744358200700876, 0.8812981861750746, 0.8880660851116289, 0.8947387914223991, 0.9013155898538173], \"y\": [-0.7786573029105339, -0.7705714013125056, -0.7624029014526186, -0.7541526789199359, -0.745821618063447, -0.7374106118972792, -0.7289205620049681, -0.7203523784428232, -0.7117069796423705, -0.7029852923119125, -0.6941882513371868, -0.6853167996811607, -0.6763718882829483, -0.6673544759558848, -0.6582655292847436, -0.6491060225221342, -0.6398769374840642, -0.6305792634447039], \"type\": \"scatter\", \"uid\": \"19719c26-a2b3-4c39-9173-0e4685030e65\"}, {\"line\": {\"color\": \"rgba(102,189,99, 0.75)\", \"shape\": \"spline\", \"width\": 0.25}, \"mode\": \"lines\", \"x\": [0.9206778183425246, 0.9269245641214793, 0.9330698697981413, 0.9391130628469779, 0.9450534819173841, 0.95089047690606, 0.956623409028155, 0.9622516508871767, 0.967774586543649, 0.9731916115825209, 0.9785021331793109, 0.9837055701649842, 0.9888013530895552, 0.9937889242844051, 0.9986677379233128, 1.0034372600821881, 1.008096968797503, 1.0126463541234136, 1.017084918187569, 1.0214121752455934, 1.0256276517342484, 1.029730886323257, 1.0337214299657898, 1.0375988459476082, 1.0413627099348568, 1.045012610020502, 1.0485481467694089, 1.0519689332620554, 1.0552745951368752, 1.0584647706312265, 1.0615391106209837, 1.0644972786587426, 1.0673389510106421, 1.0700638166917915, 1.0726715775003048, 1.0751619480499344], \"y\": [-0.6019571037973134, -0.5922928772391289, -0.5825638317599882, -0.5727710320801571, -0.5629155498969883, -0.5529984637676367, -0.5430208589910255, -0.5329838274890742, -0.5228884676872013, -0.5127358843941158, -0.5025271886809096, -0.4922634977594657, -0.48194593486019266, -0.4715756291091018, -0.4611537154042388, -0.450681334291483, -0.44015963183973006, -0.42958975951546846, -0.41897287405676553, -0.40831013734668103, -0.3976027162861081, -0.38685178266607456, -0.37605851303950416, -0.36522408859245836, -0.35434969501486996, -0.3434365223707846, -0.33248576496812365, -0.32149862122798206, -0.3104762935534766, -0.2994199881981581, -0.2883309151340024, -0.27721028791899394, -0.26605932356431794, -0.25487924240117343, -0.24367126794722385, -0.23243662677269836], \"type\": \"scatter\", \"uid\": \"e560b1b7-b3d3-4b61-976d-1a9e65991195\"}, {\"line\": {\"color\": \"rgba(26,152,80, 0.75)\", \"shape\": \"spline\", \"width\": 0.25}, \"mode\": \"lines\", \"x\": [1.081932431415999, 1.083643085934891, 1.085269285312793, 1.08681090280973, 1.0882678182777261, 1.0896399181701695, 1.0909270955506607, 1.092129250101347, 1.0932462881307419, 1.0942781225810252, 1.0952246730348303, 1.0960858657215096, 1.0968616335228845, 1.0975519159784775, 1.098156659290222, 1.0986758163266581, 1.0991093466266026, 1.0994572164023049], \"y\": [-0.1985502804084257, -0.18899116991411677, -0.17941733014583555, -0.16982950725330412, -0.16022844847603768, -0.1506149020851074, -0.14098961732482293, -0.13135334435433918, -0.12170683418919151, -0.1120508386427644, -0.10238611026769802, -0.09271340229723689, -0.08303346858652577, -0.07334706355385692, -0.06365494212187352, -0.053957859658733856, -0.044256571919240616, -0.03455183498594022], \"type\": \"scatter\", \"uid\": \"e84a0be9-4990-46c7-81d2-eb9452d8ae0a\"}, {\"marker\": {\"color\": \"rgba(215,48,39, 0.75)\", \"size\": 0.5}, \"mode\": \"markers\", \"x\": [0.8682037547752147], \"y\": [0.2371122944813675], \"type\": \"scatter\", \"uid\": \"2f26342f-ddad-410c-ac8d-2fbd3274fc52\"}, {\"marker\": {\"color\": \"rgba(215,48,39, 0.75)\", \"size\": 0.5}, \"mode\": \"markers\", \"text\": \"138 S\", \"x\": [0.8989989904544659], \"y\": [0.04243601255833425], \"type\": \"scatter\", \"uid\": \"03a07ebb-4fc4-40ea-b6d1-22a111f822de\"}, {\"marker\": {\"color\": \"rgba(215,48,39, 0.75)\", \"size\": 0.5}, \"mode\": \"markers\", \"text\": \"156 R/Q\", \"x\": [0.7155603888115639], \"y\": [0.5458693341486069], \"type\": \"scatter\", \"uid\": \"00fb055c-2a38-49fe-be76-69c723240380\"}, {\"marker\": {\"color\": \"rgba(215,48,39, 0.75)\", \"size\": 0.5}, \"mode\": \"markers\", \"text\": \"138 S\", \"x\": [0.7983414011954725], \"y\": [0.4155129446085281], \"type\": \"scatter\", \"uid\": \"47b0d671-5ef8-49ca-8995-7a6242672cc7\"}, {\"marker\": {\"color\": \"rgba(215,48,39, 0.75)\", \"size\": 0.5}, \"mode\": \"markers\", \"text\": \"160 K\", \"x\": [0.09254856347742725], \"y\": [0.8952288888313785], \"type\": \"scatter\", \"uid\": \"99363cd1-8ab9-48d3-b620-c8bb3a95a027\"}, {\"marker\": {\"color\": \"rgba(215,48,39, 0.75)\", \"size\": 0.5}, \"mode\": \"markers\", \"text\": \"138 S\", \"x\": [0.8920155209685797], \"y\": [0.1196173497079473], \"type\": \"scatter\", \"uid\": \"1facbb6e-7ea2-42d7-878f-c945ad44ec5a\"}, {\"marker\": {\"color\": \"rgba(215,48,39, 0.75)\", \"size\": 0.5}, \"mode\": \"markers\", \"text\": \"186 V\", \"x\": [-0.8101967344515356], \"y\": [-0.3918944392104435], \"type\": \"scatter\", \"uid\": \"552c3deb-1d97-4117-a1da-2c007a70a5fc\"}, {\"marker\": {\"color\": \"rgba(215,48,39, 0.75)\", \"size\": 0.5}, \"mode\": \"markers\", \"text\": \"138 S\", \"x\": [0.8968203823683097], \"y\": [0.07558572463606308], \"type\": \"scatter\", \"uid\": \"cb3871d0-f797-40e7-b1dd-bf97e2fc9b87\"}, {\"marker\": {\"color\": \"rgba(215,48,39, 0.75)\", \"size\": 0.5}, \"mode\": \"markers\", \"text\": \"194 P\", \"x\": [-0.11418169030431584], \"y\": [-0.8927275853244646], \"type\": \"scatter\", \"uid\": \"9e2c740e-758d-4035-a53e-76ead9d64f1d\"}, {\"marker\": {\"color\": \"rgba(215,48,39, 0.75)\", \"size\": 0.5}, \"mode\": \"markers\", \"text\": \"138 S\", \"x\": [0.8999981073822138], \"y\": [0.0018457270744566474], \"type\": \"scatter\", \"uid\": \"ee090b11-0a43-43cb-9962-5d91513f8c94\"}, {\"marker\": {\"color\": \"rgba(215,48,39, 0.75)\", \"size\": 0.5}, \"mode\": \"markers\", \"text\": \"203 I\", \"x\": [0.6368751786992618], \"y\": [-0.635916666519115], \"type\": \"scatter\", \"uid\": \"53b5a4ad-6746-4ee1-82a9-730b65ab0846\"}, {\"marker\": {\"color\": \"rgba(215,48,39, 0.75)\", \"size\": 0.5}, \"mode\": \"markers\", \"text\": \"138 S\", \"x\": [0.8999697182746187], \"y\": [0.0073828306701138185], \"type\": \"scatter\", \"uid\": \"58f4e673-a3c3-4f3b-8819-a25e1028d042\"}, {\"marker\": {\"color\": \"rgba(215,48,39, 0.75)\", \"size\": 0.5}, \"mode\": \"markers\", \"text\": \"219 F/Y\", \"x\": [0.7571781654113281], \"y\": [-0.48649894740311145], \"type\": \"scatter\", \"uid\": \"ef161e97-b476-435a-a648-58fbc969af3f\"}, {\"marker\": {\"color\": \"rgba(215,48,39, 0.75)\", \"size\": 0.5}, \"mode\": \"markers\", \"text\": \"138 S\", \"x\": [0.8997710028793023], \"y\": [0.02030129004705118], \"type\": \"scatter\", \"uid\": \"a4b4942f-106c-4b42-a971-ab964b022f8e\"}, {\"marker\": {\"color\": \"rgba(215,48,39, 0.75)\", \"size\": 0.5}, \"mode\": \"markers\", \"text\": \"225 G\", \"x\": [0.8882389562924632], \"y\": [-0.14502260694276467], \"type\": \"scatter\", \"uid\": \"757bc3de-343c-477d-8909-f566f5c36865\"}, {\"marker\": {\"color\": \"rgba(244,109,67, 0.75)\", \"size\": 0.5}, \"mode\": \"markers\", \"x\": [0.5484037240222775], \"y\": [0.7136198956576937], \"type\": \"scatter\", \"uid\": \"b697b697-6444-452b-9d04-c0a1f6bab440\"}, {\"marker\": {\"color\": \"rgba(244,109,67, 0.75)\", \"size\": 0.5}, \"mode\": \"markers\", \"text\": \"156 R/Q\", \"x\": [0.6228635130823966], \"y\": [0.649646861048874], \"type\": \"scatter\", \"uid\": \"fea054f8-175c-41f1-b61a-4490e7e7df69\"}, {\"marker\": {\"color\": \"rgba(244,109,67, 0.75)\", \"size\": 0.5}, \"mode\": \"markers\", \"text\": \"160 K\", \"x\": [0.3466500503943412], \"y\": [0.8305623050449621], \"type\": \"scatter\", \"uid\": \"639db5d3-2aed-4d8d-8078-6f1b9101e080\"}, {\"marker\": {\"color\": \"rgba(244,109,67, 0.75)\", \"size\": 0.5}, \"mode\": \"markers\", \"text\": \"156 R/Q\", \"x\": [0.6829837700995662], \"y\": [0.5861170273764301], \"type\": \"scatter\", \"uid\": \"b6bb4c66-5d48-49aa-bd10-eb64a5bc79b3\"}, {\"marker\": {\"color\": \"rgba(244,109,67, 0.75)\", \"size\": 0.5}, \"mode\": \"markers\", \"text\": \"186 V\", \"x\": [-0.7793801773141127], \"y\": [-0.4500739263830136], \"type\": \"scatter\", \"uid\": \"2ad996d1-b83e-4a5a-98d8-8751f563f8d5\"}, {\"marker\": {\"color\": \"rgba(244,109,67, 0.75)\", \"size\": 0.5}, \"mode\": \"markers\", \"text\": \"156 R/Q\", \"x\": [0.7262497561139983], \"y\": [0.5315649459326283], \"type\": \"scatter\", \"uid\": \"b32348eb-8e68-4605-a516-f8f727c3192c\"}, {\"marker\": {\"color\": \"rgba(244,109,67, 0.75)\", \"size\": 0.5}, \"mode\": \"markers\", \"text\": \"219 F/Y\", \"x\": [0.765769104184222], \"y\": [-0.47286116258040706], \"type\": \"scatter\", \"uid\": \"21f3629a-b0b2-49cf-8cae-45e973a437de\"}, {\"marker\": {\"color\": \"rgba(244,109,67, 0.75)\", \"size\": 0.5}, \"mode\": \"markers\", \"text\": \"156 R/Q\", \"x\": [0.7314874830551048], \"y\": [0.5243339223564577], \"type\": \"scatter\", \"uid\": \"e4076968-1da7-4bbf-98b7-494c61ac79e4\"}, {\"marker\": {\"color\": \"rgba(244,109,67, 0.75)\", \"size\": 0.5}, \"mode\": \"markers\", \"text\": \"225 G\", \"x\": [0.8863557989496302], \"y\": [-0.15611981830748722], \"type\": \"scatter\", \"uid\": \"f340738d-36d6-48ed-872b-e1d4293633c6\"}, {\"marker\": {\"color\": \"rgba(253,174,97, 0.75)\", \"size\": 0.5}, \"mode\": \"markers\", \"x\": [-0.8777925768455577], \"y\": [0.19869623055014346], \"type\": \"scatter\", \"uid\": \"8dd1c55b-17c5-4cd2-973f-69ec25cc17c8\"}, {\"marker\": {\"color\": \"rgba(253,174,97, 0.75)\", \"size\": 0.5}, \"mode\": \"markers\", \"text\": \"160 K\", \"x\": [-0.15996670301437507], \"y\": [0.8856696076566649], \"type\": \"scatter\", \"uid\": \"28d3a65e-c8fd-460d-82e8-07f1f505c0c5\"}, {\"marker\": {\"color\": \"rgba(253,174,97, 0.75)\", \"size\": 0.5}, \"mode\": \"markers\", \"text\": \"186 V\", \"x\": [-0.5969303655488619], \"y\": [-0.6735533673627518], \"type\": \"scatter\", \"uid\": \"10c7bb56-e688-46da-bca6-b107b6a3ae4f\"}, {\"marker\": {\"color\": \"rgba(253,174,97, 0.75)\", \"size\": 0.5}, \"mode\": \"markers\", \"text\": \"160 K\", \"x\": [-0.4655175985953996], \"y\": [0.7702553897234167], \"type\": \"scatter\", \"uid\": \"e5d052b3-328b-494f-b2b1-fa08ce3d7068\"}, {\"marker\": {\"color\": \"rgba(253,174,97, 0.75)\", \"size\": 0.5}, \"mode\": \"markers\", \"text\": \"194 P\", \"x\": [0.13709196234292545], \"y\": [-0.889497495140355], \"type\": \"scatter\", \"uid\": \"bbb5eb5d-b860-478f-9820-5cf670de8b58\"}, {\"marker\": {\"color\": \"rgba(253,174,97, 0.75)\", \"size\": 0.5}, \"mode\": \"markers\", \"text\": \"160 K\", \"x\": [0.4179045662856262], \"y\": [0.797092073400321], \"type\": \"scatter\", \"uid\": \"be2d3cd8-1756-466b-ad51-1c226585eb7d\"}, {\"marker\": {\"color\": \"rgba(253,174,97, 0.75)\", \"size\": 0.5}, \"mode\": \"markers\", \"text\": \"203 I\", \"x\": [0.6563828403971717], \"y\": [-0.6157609656613037], \"type\": \"scatter\", \"uid\": \"9561ee04-8962-452c-a719-a92000f6812c\"}, {\"marker\": {\"color\": \"rgba(253,174,97, 0.75)\", \"size\": 0.5}, \"mode\": \"markers\", \"text\": \"160 K\", \"x\": [0.2451523754417651], \"y\": [0.8659678474488877], \"type\": \"scatter\", \"uid\": \"56ad3ef5-641d-4820-a175-ccab79953ffb\"}, {\"marker\": {\"color\": \"rgba(253,174,97, 0.75)\", \"size\": 0.5}, \"mode\": \"markers\", \"text\": \"219 F/Y\", \"x\": [0.8337687514945491], \"y\": [-0.3388652667819778], \"type\": \"scatter\", \"uid\": \"a64948a0-be05-479a-81ae-c321ed69b248\"}, {\"marker\": {\"color\": \"rgba(253,174,97, 0.75)\", \"size\": 0.5}, \"mode\": \"markers\", \"text\": \"160 K\", \"x\": [0.463115046029029], \"y\": [0.7717023092757532], \"type\": \"scatter\", \"uid\": \"ff2557b9-3fd8-4195-b7de-eea997625de1\"}, {\"marker\": {\"color\": \"rgba(253,174,97, 0.75)\", \"size\": 0.5}, \"mode\": \"markers\", \"text\": \"225 G\", \"x\": [0.8947327835796177], \"y\": [-0.09722780460274197], \"type\": \"scatter\", \"uid\": \"58b9ba19-fe70-4fbe-a37d-ae44d17329ea\"}, {\"marker\": {\"color\": \"rgba(254,224,139, 0.75)\", \"size\": 0.5}, \"mode\": \"markers\", \"x\": [-0.33924994183524726], \"y\": [-0.8336123061500361], \"type\": \"scatter\", \"uid\": \"0c9af353-e560-4ed2-aaa2-d0aeaf3c7540\"}, {\"marker\": {\"color\": \"rgba(254,224,139, 0.75)\", \"size\": 0.5}, \"mode\": \"markers\", \"text\": \"186 V\", \"x\": [-0.7303724774242856], \"y\": [-0.5258859612321968], \"type\": \"scatter\", \"uid\": \"c2980a55-04ec-455d-b3f9-132a7d7571cd\"}, {\"marker\": {\"color\": \"rgba(254,224,139, 0.75)\", \"size\": 0.5}, \"mode\": \"markers\", \"text\": \"219 F/Y\", \"x\": [0.7917669187319283], \"y\": [-0.4279078713949394], \"type\": \"scatter\", \"uid\": \"de918008-387c-4620-a38d-4b995ea1223e\"}, {\"marker\": {\"color\": \"rgba(254,224,139, 0.75)\", \"size\": 0.5}, \"mode\": \"markers\", \"text\": \"186 V\", \"x\": [-0.8213178629081519], \"y\": [-0.36801761923579995], \"type\": \"scatter\", \"uid\": \"6c8e2f55-5b1e-4c2d-a8e4-b5c1f56896eb\"}, {\"marker\": {\"color\": \"rgba(254,224,139, 0.75)\", \"size\": 0.5}, \"mode\": \"markers\", \"text\": \"225 G\", \"x\": [0.8855062735512236], \"y\": [-0.16086839186560428], \"type\": \"scatter\", \"uid\": \"227d7fcd-33cd-4742-acfd-bd88002b2b59\"}, {\"marker\": {\"color\": \"rgba(217,239,139, 0.75)\", \"size\": 0.5}, \"mode\": \"markers\", \"x\": [0.46890601757459105], \"y\": [-0.7681973357688356], \"type\": \"scatter\", \"uid\": \"3137d6d7-cbe8-45b0-ad4b-90d87ae06789\"}, {\"marker\": {\"color\": \"rgba(217,239,139, 0.75)\", \"size\": 0.5}, \"mode\": \"markers\", \"text\": \"194 P\", \"x\": [-0.06363720033029964], \"y\": [-0.8977473512821529], \"type\": \"scatter\", \"uid\": \"ef6f3828-6929-4bad-9426-1b14a20ae972\"}, {\"marker\": {\"color\": \"rgba(217,239,139, 0.75)\", \"size\": 0.5}, \"mode\": \"markers\", \"text\": \"203 I\", \"x\": [0.6892413537215636], \"y\": [-0.5787455022028823], \"type\": \"scatter\", \"uid\": \"c8c64dc8-b931-4557-9c58-d733263a2265\"}, {\"marker\": {\"color\": \"rgba(217,239,139, 0.75)\", \"size\": 0.5}, \"mode\": \"markers\", \"text\": \"194 P\", \"x\": [-0.16066140086524255], \"y\": [-0.8855438522580448], \"type\": \"scatter\", \"uid\": \"f954ed33-acb6-415b-926b-2edb78ddc93f\"}, {\"marker\": {\"color\": \"rgba(217,239,139, 0.75)\", \"size\": 0.5}, \"mode\": \"markers\", \"text\": \"219 F/Y\", \"x\": [0.7610265077125161], \"y\": [-0.4804567145528218], \"type\": \"scatter\", \"uid\": \"c5d0fc5a-c5be-4162-b26b-1fb982cb51bb\"}, {\"marker\": {\"color\": \"rgba(217,239,139, 0.75)\", \"size\": 0.5}, \"mode\": \"markers\", \"text\": \"194 P\", \"x\": [-0.14582957279509354], \"y\": [-0.8881068267378652], \"type\": \"scatter\", \"uid\": \"a0130c78-d7cc-49b5-9c3b-aeaf4b65b124\"}, {\"marker\": {\"color\": \"rgba(217,239,139, 0.75)\", \"size\": 0.5}, \"mode\": \"markers\", \"text\": \"225 G\", \"x\": [0.8909173983960885], \"y\": [-0.12753897143675458], \"type\": \"scatter\", \"uid\": \"39e2c34c-70b5-4d82-bef7-34929d2fe82c\"}, {\"marker\": {\"color\": \"rgba(166,217,106, 0.75)\", \"size\": 0.5}, \"mode\": \"markers\", \"x\": [0.7219904312199116], \"y\": [-0.5373358514252387], \"type\": \"scatter\", \"uid\": \"4b772997-a76f-4f2b-bf0b-86b61ad1fefe\"}, {\"marker\": {\"color\": \"rgba(166,217,106, 0.75)\", \"size\": 0.5}, \"mode\": \"markers\", \"text\": \"203 I\", \"x\": [0.6392026787363246], \"y\": [-0.6335770951481018], \"type\": \"scatter\", \"uid\": \"029f2e12-db9d-47e8-a049-6dae63f7d915\"}, {\"marker\": {\"color\": \"rgba(166,217,106, 0.75)\", \"size\": 0.5}, \"mode\": \"markers\", \"text\": \"219 F/Y\", \"x\": [0.7542604137836596], \"y\": [-0.491010415570691], \"type\": \"scatter\", \"uid\": \"11c05dc6-f3ed-446e-916d-f47fe5c882a9\"}, {\"marker\": {\"color\": \"rgba(102,189,99, 0.75)\", \"size\": 0.5}, \"mode\": \"markers\", \"x\": [0.8672451550639765], \"y\": [-0.24059476515098865], \"type\": \"scatter\", \"uid\": \"fba4a1e8-8ba0-4a24-bb90-92f1b0770f2e\"}, {\"marker\": {\"color\": \"rgba(26,152,80, 0.75)\", \"size\": 0.5}, \"mode\": \"markers\", \"x\": [0.8984753466523737], \"y\": [-0.0523646011910418], \"type\": \"scatter\", \"uid\": \"c5293a20-617c-406d-a5a4-7797323dcb8a\"}], {\"annotations\": [{\"align\": \"left\", \"showarrow\": false, \"text\": \"138 S\", \"valign\": \"bottom\", \"x\": 1.150535481942735, \"y\": 0.34098109154438283}, {\"align\": \"left\", \"showarrow\": false, \"text\": \"156 R/Q\", \"valign\": \"bottom\", \"x\": 0.8407376225496823, \"y\": 0.8562477737369646}, {\"align\": \"left\", \"showarrow\": false, \"text\": \"160 K\", \"valign\": \"bottom\", \"x\": -0.74553589749091, \"y\": 0.9403064529994587}, {\"align\": \"left\", \"showarrow\": false, \"text\": \"186 V\", \"valign\": \"bottom\", \"x\": -0.7576736208011293, \"y\": -0.9305539663781495}, {\"align\": \"left\", \"showarrow\": false, \"text\": \"194 P\", \"valign\": \"bottom\", \"x\": 0.33695489201310813, \"y\": -1.1517210603042884}, {\"align\": \"left\", \"showarrow\": false, \"text\": \"203 I\", \"valign\": \"bottom\", \"x\": 0.9149815389840685, \"y\": -0.7764076141553132}, {\"align\": \"left\", \"showarrow\": false, \"text\": \"219 F/Y\", \"valign\": \"bottom\", \"x\": 1.1047051135891783, \"y\": -0.4686433740168746}, {\"align\": \"left\", \"showarrow\": false, \"text\": \"225 G\", \"valign\": \"bottom\", \"x\": 1.1926323143244455, \"y\": -0.13277109184275435}], \"height\": 800, \"hovermode\": false, \"margin\": {\"b\": 25, \"l\": 25, \"r\": 25, \"t\": 25}, \"shapes\": [{\"fillcolor\": \"rgba(215,48,39, 0.75)\", \"layer\": \"below\", \"line\": {\"color\": \"rgba(215,48,39, 0.75)\", \"width\": 0.5}, \"path\": \"M 0.9872331575236549, 0.1592818027455565 Q 0.385868335455651, 0.10538324199171889 0.9311481610328193, 0.36464105940664293L 0.9311481610328193, 0.36464105940664293 L 0.9646708386391275, 0.2634581049792972 L 0.9872331575236549, 0.1592818027455565 \", \"type\": \"path\"}, {\"fillcolor\": \"rgba(215,48,39, 0.75)\", \"layer\": \"below\", \"line\": {\"color\": \"rgba(215,48,39, 0.75)\", \"width\": 0.5}, \"path\": \"M 0.9994617034973292, 0.032807060859162206 Q 0.18793002339745557, 0.06842737979662677 0.7865666285393407, 0.6175054160639037L 0.7865666285393407, 0.6175054160639037 L 0.7950670986795154, 0.606521482387341 L 0.8034141965666994, 0.5954205478106083 M 0.8034141965666994, 0.5954205478106083 Q 0.18789807907583267, 0.0685150485631597 0.998107978475786, 0.06148547229207763L 0.998107978475786, 0.06148547229207763 L 0.9988877671716287, 0.04715112506481583 L 0.9994617034973292, 0.032807060859162206 \", \"type\": \"path\"}, {\"fillcolor\": \"rgba(215,48,39, 0.75)\", \"layer\": \"below\", \"line\": {\"color\": \"rgba(215,48,39, 0.75)\", \"width\": 0.5}, \"path\": \"M 0.9311481610328193, 0.36464105940664293 Q 0.11206767461048484, 0.16565275822454179 -0.007960397421748549, 0.9999683155344913L -0.007960397421748549, 0.9999683155344913 L 0.10283173719714139, 0.9946987653681983 L 0.21235876737597592, 0.9771917692646394 M 0.21235876737597592, 0.9771917692646394 Q 0.11278426707496197, 0.16516570194917482 0.8328654376875845, 0.5534755303583604L 0.8328654376875845, 0.5534755303583604 L 0.8870460013283027, 0.46168104956503125 L 0.9311481610328193, 0.36464105940664293 \", \"type\": \"path\"}, {\"fillcolor\": \"rgba(215,48,39, 0.75)\", \"layer\": \"below\", \"line\": {\"color\": \"rgba(215,48,39, 0.75)\", \"width\": 0.5}, \"path\": \"M 0.9943191199097287, 0.10644006661940207 Q -0.057606574896467845, 0.19152410430203726 -0.8880537677279139, -0.4597396063254245L -0.8880537677279139, -0.4597396063254245 L -0.9002185938350395, -0.4354382657893816 L -0.9117185741708207, -0.4108153374837967 M -0.9117185741708207, -0.4108153374837967 Q -0.05750766919260758, 0.1915538252920928 0.9872331575236549, 0.1592818027455565L 0.9872331575236549, 0.1592818027455565 L 0.9911283566317552, 0.13290816634216365 L 0.9943191199097287, 0.10644006661940207 \", \"type\": \"path\"}, {\"fillcolor\": \"rgba(215,48,39, 0.75)\", \"layer\": \"below\", \"line\": {\"color\": \"rgba(215,48,39, 0.75)\", \"width\": 0.5}, \"path\": \"M 0.998107978475786, 0.06148547229207763 Q -0.1383706404989663, 0.14440763777552013 -0.10402699497193994, -0.994574473992324L -0.10402699497193994, -0.994574473992324 L -0.12686854478257314, -0.9919195392494051 L -0.14964300840008182, -0.9887400922572994 M -0.14964300840008182, -0.9887400922572994 Q -0.13830753102243765, 0.14446808250432844 0.9943191199097287, 0.10644006661940207L 0.9943191199097287, 0.10644006661940207 L 0.9964670915203442, 0.08398413848451454 L 0.998107978475786, 0.06148547229207763 \", \"type\": \"path\"}, {\"fillcolor\": \"rgba(215,48,39, 0.75)\", \"layer\": \"below\", \"line\": {\"color\": \"rgba(215,48,39, 0.75)\", \"width\": 0.5}, \"path\": \"M 1.0, 0.0 Q -0.18487473242797062, 0.07629766254405357 0.7089333345156863, -0.7052754973855749L 0.7089333345156863, -0.7052754973855749 L 0.7076390874436242, -0.7065740739101278 L 0.706342461730181, -0.7078702753732126 M 0.706342461730181, -0.7078702753732126 Q -0.1848913154253619, 0.07625746835739651 0.9999915883742385, 0.004101607095691587L 0.9999915883742385, 0.004101607095691587 L 0.9999978970913486, 0.002050807860507386 L 1.0, 0.0 \", \"type\": \"path\"}, {\"fillcolor\": \"rgba(215,48,39, 0.75)\", \"layer\": \"below\", \"line\": {\"color\": \"rgba(215,48,39, 0.75)\", \"width\": 0.5}, \"path\": \"M 0.9999915883742385, 0.004101607095691587 Q -0.19212756264817676, 0.05556077457047301 0.8434537203768565, -0.5372018443587472L 0.8434537203768565, -0.5372018443587472 L 0.8413090726792535, -0.5405543860034572 L 0.8391510994458332, -0.5438983657806387 M 0.8391510994458332, -0.5438983657806387 Q -0.19213432772943345, 0.05553737577486596 0.99992429621721, 0.01230454527876433L 0.99992429621721, 0.01230454527876433 L 0.9999663536384652, 0.008203145189015354 L 0.9999915883742385, 0.004101607095691587 \", \"type\": \"path\"}, {\"fillcolor\": \"rgba(215,48,39, 0.75)\", \"layer\": \"below\", \"line\": {\"color\": \"rgba(215,48,39, 0.75)\", \"width\": 0.5}, \"path\": \"M 0.99992429621721, 0.01230454527876433 Q -0.19950596862803194, 0.014048789335410409 0.9883322495708899, -0.15231337583463908L 0.9883322495708899, -0.15231337583463908 L 0.9869321736582924, -0.1611362299364052 L 0.9854533376299481, -0.16994622488892033 M 0.9854533376299481, -0.16994622488892033 Q -0.1995243497765359, 0.01378527642996518 0.9994617034973292, 0.032807060859162206L 0.9994617034973292, 0.032807060859162206 L 0.9997455587547803, 0.022556988941167977 L 0.99992429621721, 0.01230454527876433 \", \"type\": \"path\"}, {\"fillcolor\": \"rgba(244,109,67, 0.75)\", \"layer\": \"below\", \"line\": {\"color\": \"rgba(244,109,67, 0.75)\", \"width\": 0.5}, \"path\": \"M 0.6524260585264245, 0.757852385465451 Q 0.24373498845434557, 0.3171643980700861 0.5643686313204987, 0.8255228936749283L 0.5643686313204987, 0.8255228936749283 L 0.6093374711358639, 0.7929109951752152 L 0.6524260585264245, 0.757852385465451 \", \"type\": \"path\"}, {\"fillcolor\": \"rgba(244,109,67, 0.75)\", \"layer\": \"below\", \"line\": {\"color\": \"rgba(244,109,67, 0.75)\", \"width\": 0.5}, \"path\": \"M 0.7297293161821417, 0.6837361516728101 Q 0.10924428366956679, 0.16752816624533093 0.331381277328721, 0.943496925822223L 0.331381277328721, 0.943496925822223 L 0.3851667226603791, 0.9228470056055135 L 0.4376736866568466, 0.8991338854743516 M 0.4376736866568466, 0.8991338854743516 Q 0.1099216956152605, 0.16708447214827005 0.6524260585264245, 0.757852385465451L 0.6524260585264245, 0.757852385465451 L 0.6920705700915518, 0.72182984560986 L 0.7297293161821417, 0.6837361516728101 \", \"type\": \"path\"}, {\"fillcolor\": \"rgba(244,109,67, 0.75)\", \"layer\": \"below\", \"line\": {\"color\": \"rgba(244,109,67, 0.75)\", \"width\": 0.5}, \"path\": \"M 0.7865666285393407, 0.6175054160639037 Q -0.11582032026348246, 0.16305107608986935 -0.8420707590805753, -0.5393670704645064L -0.8420707590805753, -0.5393670704645064 L -0.8659779747934585, -0.5000821404255706 L -0.8880537677279139, -0.4597396063254245 M -0.8880537677279139, -0.4597396063254245 Q -0.11543844425003769, 0.1633216629511558 0.7297293161821417, 0.6837361516728101L 0.7297293161821417, 0.6837361516728101 L 0.7588708556661847, 0.6512411415293667 L 0.7865666285393407, 0.6175054160639037 \", \"type\": \"path\"}, {\"fillcolor\": \"rgba(244,109,67, 0.75)\", \"layer\": \"below\", \"line\": {\"color\": \"rgba(244,109,67, 0.75)\", \"width\": 0.5}, \"path\": \"M 0.8104455587417925, 0.5858139604991535 Q -0.19984530712290574, -0.007864681872236243 0.8539758943235758, -0.520312571359033L 0.8539758943235758, -0.520312571359033 L 0.8508545602046911, -0.5254012917560078 L 0.8477029034994928, -0.5304712880057973 M 0.8477029034994928, -0.5304712880057973 Q -0.19984544288246928, -0.007861231399069513 0.8034141965666994, 0.5954205478106083L 0.8034141965666994, 0.5954205478106083 L 0.8069441734599981, 0.5906277177029203 L 0.8104455587417925, 0.5858139604991535 \", \"type\": \"path\"}, {\"fillcolor\": \"rgba(244,109,67, 0.75)\", \"layer\": \"below\", \"line\": {\"color\": \"rgba(244,109,67, 0.75)\", \"width\": 0.5}, \"path\": \"M 0.8150693823308913, 0.5793633592027885 Q -0.1950217146347265, -0.04434558400710616 0.9854533376299481, -0.16994622488892033L 0.9854533376299481, -0.16994622488892033 L 0.9848397766107002, -0.1734664647860969 L 0.9842136406194048, -0.17698448976872833 M 0.9842136406194048, -0.17698448976872833 Q -0.1950041824572708, -0.04442261613380554 0.8104455587417925, 0.5858139604991535L 0.8104455587417925, 0.5858139604991535 L 0.8127638700612275, 0.5825932470627307 L 0.8150693823308913, 0.5793633592027885 \", \"type\": \"path\"}, {\"fillcolor\": \"rgba(253,174,97, 0.75)\", \"layer\": \"below\", \"line\": {\"color\": \"rgba(253,174,97, 0.75)\", \"width\": 0.5}, \"path\": \"M -0.6726838673063658, 0.739930006599105 Q -0.39013003415358116, 0.08830943580006377 -0.9257616952359727, -0.37810750274732435L -0.9257616952359727, -0.37810750274732435 L -0.9551717138627105, -0.2960523552288892 L -0.9773243412175805, -0.21174780297236223 L -0.9920512617170276, -0.12583439166481314 L -0.9992405802716738, -0.03896489109863606 L -0.9988376724648075, 0.04820066457099978 L -0.9908455995885066, 0.13499999176330646 L -0.9753250853839529, 0.2207735895001594 L -0.9523940546626628, 0.30486975029217456 L -0.9222267373141904, 0.3866495118098861 L -0.885052344508049, 0.4654915117172446 L -0.8411533271480636, 0.5407967087804277 L -0.7908632298114108, 0.6119929343809973 L -0.7345641564781139, 0.6785392398510178 L -0.6726838673063658, 0.739930006599105 \", \"type\": \"path\"}, {\"fillcolor\": \"rgba(253,174,97, 0.75)\", \"layer\": \"below\", \"line\": {\"color\": \"rgba(253,174,97, 0.75)\", \"width\": 0.5}, \"path\": \"M -0.007960397421748549, 0.9999683155344913 Q -0.1924861768442659, 0.05430535630928133 -0.5294215692472558, -0.8483588875091562L -0.5294215692472558, -0.8483588875091562 L -0.6205262076497803, -0.7841857086301571 L -0.7039249952170402, -0.7102743139862864 L -0.7785822647863706, -0.6275425539038176 M -0.7785822647863706, -0.6275425539038176 Q -0.19267438451098717, 0.05363377250681024 -0.3423528358643133, 0.939571463900252L -0.3423528358643133, 0.939571463900252 L -0.23342655457669773, 0.9723744359136823 L -0.12147950731257917, 0.9925939397876118 L -0.007960397421748549, 0.9999683155344913 \", \"type\": \"path\"}, {\"fillcolor\": \"rgba(253,174,97, 0.75)\", \"layer\": \"below\", \"line\": {\"color\": \"rgba(253,174,97, 0.75)\", \"width\": 0.5}, \"path\": \"M -0.3423528358643133, 0.939571463900252 Q -0.18812775128499296, -0.06788187678940404 0.3364626047918916, -0.9416968278467627L 0.3364626047918916, -0.9416968278467627 L 0.21464901115866372, -0.976691252140925 L 0.08938747583083159, -0.9959969272867224 L -0.03730990494175316, -0.9993037431097901 M -0.03730990494175316, -0.9993037431097901 Q -0.1878569986121778, -0.06862760430340135 -0.6726838673063658, 0.739930006599105L -0.6726838673063658, 0.739930006599105 L -0.5715224587975418, 0.8205864239006224 L -0.46079428542924816, 0.8875069726575384 L -0.3423528358643133, 0.939571463900252 \", \"type\": \"path\"}, {\"fillcolor\": \"rgba(253,174,97, 0.75)\", \"layer\": \"below\", \"line\": {\"color\": \"rgba(253,174,97, 0.75)\", \"width\": 0.5}, \"path\": \"M 0.49058865393148243, 0.8713912856080764 Q -0.19728002890010735, -0.03287233178788525 0.746633391154621, -0.6652357320626656L 0.746633391154621, -0.6652357320626656 L 0.7293142671079685, -0.6841788507347818 L 0.7115146753418734, -0.7026712366200487 M 0.7115146753418734, -0.7026712366200487 Q -0.19713988791011217, -0.033702590327575985 0.4376736866568466, 0.8991338854743516L 0.4376736866568466, 0.8991338854743516 L 0.4643384069840291, 0.8856578593336899 L 0.49058865393148243, 0.8713912856080764 \", \"type\": \"path\"}, {\"fillcolor\": \"rgba(253,174,97, 0.75)\", \"layer\": \"below\", \"line\": {\"color\": \"rgba(253,174,97, 0.75)\", \"width\": 0.5}, \"path\": \"M 0.331381277328721, 0.943496925822223 Q -0.17988435794624666, -0.08741634724847872 0.9465834277757029, -0.32245901175250247L 0.9465834277757029, -0.32245901175250247 L 0.9264097238828323, -0.37651696309108645 L 0.9031517792809078, -0.4293213989329327 M 0.9031517792809078, -0.4293213989329327 Q -0.17951721566512532, -0.08816784719976375 0.21235876737597592, 0.9771917692646394L 0.21235876737597592, 0.9771917692646394 L 0.2723915282686279, 0.9621864971654307 L 0.331381277328721, 0.943496925822223 \", \"type\": \"path\"}, {\"fillcolor\": \"rgba(253,174,97, 0.75)\", \"layer\": \"below\", \"line\": {\"color\": \"rgba(253,174,97, 0.75)\", \"width\": 0.5}, \"path\": \"M 0.5381598487427649, 0.8428427950698543 Q -0.1793200887630043, -0.0885680854824596 0.9963883492448801, -0.08491323506416988L 0.9963883492448801, -0.08491323506416988 L 0.9941475373106864, -0.10803089400304663 L 0.9913704350792941, -0.13109027595779574 M 0.9913704350792941, -0.13109027595779574 Q -0.1789181942335994, -0.08937717702069138 0.49058865393148243, 0.8713912856080764L 0.49058865393148243, 0.8713912856080764 L 0.5145722733655878, 0.8574470103063925 L 0.5381598487427649, 0.8428427950698543 \", \"type\": \"path\"}, {\"fillcolor\": \"rgba(254,224,139, 0.75)\", \"layer\": \"below\", \"line\": {\"color\": \"rgba(254,224,139, 0.75)\", \"width\": 0.5}, \"path\": \"M -0.5294215692472558, -0.8483588875091562 Q -0.15077775192677656, -0.3704943582889049 -0.21341739696073586, -0.9769611121608186L -0.21341739696073586, -0.9769611121608186 L -0.3234317648649694, -0.9462514958911986 L -0.4292265637988229, -0.9031968539191526 L -0.5294215692472558, -0.8483588875091562 \", \"type\": \"path\"}, {\"fillcolor\": \"rgba(254,224,139, 0.75)\", \"layer\": \"below\", \"line\": {\"color\": \"rgba(254,224,139, 0.75)\", \"width\": 0.5}, \"path\": \"M -0.8420707590805753, -0.5393670704645064 Q 0.01258607995030555, -0.19960358361383324 0.9031517792809078, -0.4293213989329327L 0.9031517792809078, -0.4293213989329327 L 0.8797410208132537, -0.47545319043882156 L 0.8539758943235758, -0.520312571359033 M 0.8539758943235758, -0.520312571359033 Q 0.013108191534818323, -0.19956997598508278 -0.7785822647863706, -0.6275425539038176L -0.7785822647863706, -0.6275425539038176 L -0.8115249749158728, -0.5843177347024409 L -0.8420707590805753, -0.5393670704645064 \", \"type\": \"path\"}, {\"fillcolor\": \"rgba(254,224,139, 0.75)\", \"layer\": \"below\", \"line\": {\"color\": \"rgba(254,224,139, 0.75)\", \"width\": 0.5}, \"path\": \"M -0.9134282440492267, -0.40699980709227157 Q 0.024066079566694716, -0.19854677991417924 0.9842136406194048, -0.17698448976872833L 0.9842136406194048, -0.17698448976872833 L 0.9838958595013595, -0.1787426576284492 L 0.9835749376509082, -0.18050025491675062 M 0.9835749376509082, -0.18050025491675062 Q 0.024126411716301276, -0.19853945768460113 -0.9117185741708207, -0.4108153374837967L -0.9117185741708207, -0.4108153374837967 L -0.9125754032312798, -0.4089084658175555 L -0.9134282440492267, -0.40699980709227157 \", \"type\": \"path\"}, {\"fillcolor\": \"rgba(217,239,139, 0.75)\", \"layer\": \"below\", \"line\": {\"color\": \"rgba(217,239,139, 0.75)\", \"width\": 0.5}, \"path\": \"M 0.3364626047918916, -0.9416968278467627 Q 0.20840267447759603, -0.34142103811948254 0.6837591816858805, -0.7297077370154815L 0.6837591816858805, -0.7297077370154815 L 0.6055572527291556, -0.7958017426891686 L 0.52100668619399, -0.8535525952987063 L 0.4309939067769158, -0.9023548372570356 L 0.3364626047918916, -0.9416968278467627 \", \"type\": \"path\"}, {\"fillcolor\": \"rgba(217,239,139, 0.75)\", \"layer\": \"below\", \"line\": {\"color\": \"rgba(217,239,139, 0.75)\", \"width\": 0.5}, \"path\": \"M -0.10402699497193994, -0.994574473992324 Q 0.07764783885061532, -0.1843117281179602 0.78435510783524, -0.6203120705038465L 0.78435510783524, -0.6203120705038465 L 0.7658237263572929, -0.6430505580032025 L 0.746633391154621, -0.6652357320626656 M 0.746633391154621, -0.6652357320626656 Q 0.07840543629737406, -0.18399072682887696 -0.03730990494175316, -0.9993037431097901L -0.03730990494175316, -0.9993037431097901 L -0.0707080003669996, -0.9974970569801699 L -0.10402699497193994, -0.994574473992324 \", \"type\": \"path\"}, {\"fillcolor\": \"rgba(217,239,139, 0.75)\", \"layer\": \"below\", \"line\": {\"color\": \"rgba(217,239,139, 0.75)\", \"width\": 0.5}, \"path\": \"M -0.18262499823564948, -0.9831826432659544 Q 0.08045347669626404, -0.18310444584303165 0.8477029034994928, -0.5304712880057973L 0.8477029034994928, -0.5304712880057973 L 0.8455850085694623, -0.5338407939475798 L 0.8434537203768565, -0.5372018443587472 M 0.8434537203768565, -0.5372018443587472 Q 0.08049032077016244, -0.1830882526606127 -0.1743972163970778, -0.9846753835213669L -0.1743972163970778, -0.9846753835213669 L -0.17851266762804727, -0.9839376136200497 L -0.18262499823564948, -0.9831826432659544 \", \"type\": \"path\"}, {\"fillcolor\": \"rgba(217,239,139, 0.75)\", \"layer\": \"below\", \"line\": {\"color\": \"rgba(217,239,139, 0.75)\", \"width\": 0.5}, \"path\": \"M -0.1743972163970778, -0.9846753835213669 Q 0.11815467726240443, -0.16136750676953848 0.9913704350792941, -0.13109027595779574L 0.9913704350792941, -0.13109027595779574 L 0.9899082204400983, -0.14170996826306065 L 0.9883322495708899, -0.15231337583463908 M 0.9883322495708899, -0.15231337583463908 Q 0.11844869333180763, -0.16115181366645365 -0.14964300840008182, -0.9887400922572994L -0.14964300840008182, -0.9887400922572994 L -0.16203285866121503, -0.9867853630420724 L -0.1743972163970778, -0.9846753835213669 \", \"type\": \"path\"}, {\"fillcolor\": \"rgba(166,217,106, 0.75)\", \"layer\": \"below\", \"line\": {\"color\": \"rgba(166,217,106, 0.75)\", \"width\": 0.5}, \"path\": \"M 0.78435510783524, -0.6203120705038465 Q 0.4011057951221731, -0.2985199174584659 0.8193778089580153, -0.5732538758588225L 0.8193778089580153, -0.5732538758588225 L 0.8022115902443462, -0.5970398349169318 L 0.78435510783524, -0.6203120705038465 \", \"type\": \"path\"}, {\"fillcolor\": \"rgba(166,217,106, 0.75)\", \"layer\": \"below\", \"line\": {\"color\": \"rgba(166,217,106, 0.75)\", \"width\": 0.5}, \"path\": \"M 0.7089333345156863, -0.7052754973855749 Q 0.1556472933680183, -0.12559426765266818 0.8391510994458332, -0.5438983657806387L 0.8391510994458332, -0.5438983657806387 L 0.8380671264262884, -0.5455671284118788 L 0.8369798348568405, -0.5472337307248303 M 0.8369798348568405, -0.5472337307248303 Q 0.15562763463968993, -0.12561862655058442 0.7115146753418734, -0.7026712366200487L 0.7115146753418734, -0.7026712366200487 L 0.7102251985959163, -0.7039745501645576 L 0.7089333345156863, -0.7052754973855749 \", \"type\": \"path\"}, {\"fillcolor\": \"rgba(102,189,99, 0.75)\", \"layer\": \"below\", \"line\": {\"color\": \"rgba(102,189,99, 0.75)\", \"width\": 0.5}, \"path\": \"M 0.9465834277757029, -0.32245901175250247 Q 0.4818028639244314, -0.13366375841721592 0.9774199527726676, -0.21130602433881582L 0.9774199527726676, -0.21130602433881582 L 0.9636057278488628, -0.26732751683443184 L 0.9465834277757029, -0.32245901175250247 \", \"type\": \"path\"}, {\"fillcolor\": \"rgba(26,152,80, 0.75)\", \"layer\": \"below\", \"line\": {\"color\": \"rgba(26,152,80, 0.75)\", \"width\": 0.5}, \"path\": \"M 0.9963883492448801, -0.08491323506416988 Q 0.49915297036242984, -0.02909144510613433 0.9995065603657316, -0.031410759078128354L 0.9995065603657316, -0.031410759078128354 L 0.9983059407248597, -0.05818289021226866 L 0.9963883492448801, -0.08491323506416988 \", \"type\": \"path\"}, {\"fillcolor\": \"rgba(215,48,39, 0.75)\", \"layer\": \"below\", \"line\": {\"color\": \"rgba(215,48,39, 0.75)\", \"width\": 0.45}, \"path\": \"M 1.1, 0.0 L 1.0999417639690854, 0.011318828410097063 L 1.099767062042587, 0.022636458340846474 L 1.09947591271859, 0.033951691439799994 L 1.0990683468250604, 0.04526332960829479 L 1.0985444075165793, 0.05657017512831255 L 1.0979041502697757, 0.06787103078929825 L 1.0971476428774511, 0.07916470001492529 L 1.0962749654414017, 0.09044998698979337 L 1.0952862103639367, 0.10172569678604586 L 1.0941814823380946, 0.11299063548989316 L 1.0929608983365586, 0.12424361032802866 L 1.0916245875992694, 0.13548342979392414 L 1.0901726916197425, 0.14670890377399068 L 1.0886053641300852, 0.15791884367359235 L 1.08692277108472, 0.16911206254289918 L 1.0851250906428114, 0.18028737520256538 L 1.0832125131494026, 0.19144359836922098 L 1.081185241115261, 0.20257955078076192 L 1.0790434891954352, 0.21369405332142655 L 1.0767874841665275, 0.22478592914664475 L 1.0744174649026805, 0.23585400380764662 L 1.0719336823502854, 0.24689710537581733 L 1.0693363995014105, 0.25791406456678545 L 1.0666258913659543, 0.26890371486423087 L 1.063802444942527, 0.27986489264340014 L 1.0608663591880618, 0.29079643729431487 L 1.05781794498616, 0.30169719134466205 L 1.0546575251141737, 0.31256600058235096 L 1.0513854342090292, 0.32340171417772556 L 1.048002018731794, 0.33420318480541894 L 1.044507636930992, 0.34496926876583567 L 1.040902658804672, 0.3556988261062514 L 1.037187466061229, 0.36639072074151546 L 1.03336245207899, 0.3770438205743431 L 1.029428021864559, 0.38765699761518685 L 1.025384592009936, 0.39822912810167144 L 1.0212325906484039, 0.40875909261758286 L 1.0169724574091987, 0.4192457762113954 L 1.012604643370959, 0.4296880685143273 L 1.008129611013963, 0.44008486385791074 L 1.0035478341711614, 0.45043506139106365 L 0.998859797978005, 0.4607375651966524 L 0.9940659988210764, 0.47099128440753135 L 0.9891669442855321, 0.48119513332204783 L 0.9841631531013564, 0.49134803151900036 L 0.9790551550884365, 0.5014489039720376 L 0.973843491100464, 0.5114966811634858 L 0.9685287129676664, 0.521490299197594 L 0.9631113834383772, 0.5314286999131825 L 0.9575920761194513, 0.5413108309956852 L 0.9519713754155278, 0.5511356460885728 L 0.9462498764671521, 0.5609021049041443 L 0.9404281850877599, 0.5706091733336769 L 0.9345069176995318, 0.5802558235569213 L 0.928486701268123, 0.5898410341509308 L 0.9223681732362796, 0.5993637901982138 L 0.916151981456343, 0.6088230833941964 L 0.8328654376875845, 0.5534755303583604 L 0.8385165211238905, 0.544876172907467 L 0.8440788193346572, 0.5362191219553916 L 0.8495517433632106, 0.5275052941426557 L 0.8549347137161454, 0.5187356121215244 L 0.8602271604246836, 0.5099110044583129 L 0.8654285231050252, 0.5010324055350661 L 0.8705382510176829, 0.49210075545062293 L 0.8755558031257974, 0.483116999921075 L 0.8804806481524239, 0.4740820901796309 L 0.8853122646367854, 0.46499698287589614 L 0.8900501409894876, 0.4558626399745796 L 0.8946937755466875, 0.44668002865363665 L 0.8992426766232109, 0.4374501212018616 L 0.9036963625646148, 0.42817389491593755 L 0.9080543617981862, 0.41885233199695665 L 0.9123162128828739, 0.40948641944642145 L 0.9164814645581482, 0.400077148961737 L 0.9205496757917808, 0.3906255168312066 L 0.9245204158265443, 0.38113252382854124 L 0.9283932642258217, 0.3715991751068935 L 0.9321678109181235, 0.36202648009242855 L 0.9358436562405082, 0.35241545237744254 L 0.9394204109808999, 0.34276710961303913 L 0.942897696419299, 0.33308247340137764 L 0.9462751443678834, 0.3233625691875013 L 0.9495523972099926, 0.3136084261507597 L 0.9527291079379944, 0.3038210770958354 L 0.9558049401900265, 0.29400155834338687 L 0.9587795682856124, 0.284150909620319 L 0.9616526772601454, 0.2742701739496928 L 0.964423962898238, 0.26436039754028623 L 0.9670931317659336, 0.2544226296758183 L 0.9696599012417766, 0.24445792260384624 L 0.9721239995467368, 0.2344673314243504 L 0.9744851657729867, 0.22445191397801573 L 0.9767431499115277, 0.21441273073422418 L 0.9788977128786613, 0.20435084467876793 L 0.9809486265413048, 0.19426732120129683 L 0.9828956737411462, 0.18416322798251084 L 0.9847386483176386, 0.17403963488110996 L 0.9864773551298285, 0.16389761382051396 L 0.9881116100770182, 0.15373823867536288 L 0.9896412401182593, 0.14356258515781123 L 0.9910660832906749, 0.13337173070362787 L 0.9923859887266084, 0.12316675435811285 L 0.9936008166695987, 0.11294873666184423 L 0.994710438489177, 0.1027187595362665 L 0.9957147366944877, 0.0924779061691326 L 0.9966136049467287, 0.08222726089981215 L 0.9974069480704101, 0.07196790910447753 L 0.9980946820634324, 0.06170093708118023 L 0.9986767341059811, 0.051427431934829584 L 0.9991530425682366, 0.04114848146208617 L 0.9995235570169, 0.03086517403618181 L 0.9997882382205335, 0.02057859849167861 L 0.9999470581537139, 0.010289844009179148 L 1.0, 0.0 L 1.1 ,0.0\", \"type\": \"path\"}, {\"fillcolor\": \"rgba(244,109,67, 0.75)\", \"layer\": \"below\", \"line\": {\"color\": \"rgba(244,109,67, 0.75)\", \"width\": 0.45}, \"path\": \"M 0.8965763205639805, 0.6372996951230674 L 0.8899080107392033, 0.646578481255133 L 0.8831436774659959, 0.6557874998441471 L 0.8762840506339641, 0.6649257572124367 L 0.8693298704151431, 0.673992267317653 L 0.8622818871841305, 0.6829860518591683 L 0.8551408614371195, 0.6919061403836371 L 0.847907563709839, 0.7007515703897107 L 0.84058277449441, 0.709521387431894 L 0.8331672841551304, 0.7182146452235323 L 0.8256618928431901, 0.7268304057389183 L 0.8180674104103346, 0.7353677393145074 L 0.8103846563214787, 0.7438257247492311 L 0.8026144595662844, 0.7522034494038972 L 0.7947576585697108, 0.7605000092996654 L 0.7868151011015454, 0.7687145092155899 L 0.7787876441849281, 0.776846062785215 L 0.7706761540038756, 0.7848937925922176 L 0.7624815058098178, 0.7928568302650819 L 0.7542045838271565, 0.8007343165707997 L 0.7458462811578548, 0.8085254015075832 L 0.7374074996850684, 0.8162292443965826 L 0.7288891499758309, 0.8238450139725984 L 0.7202921511828013, 0.8313718884737761 L 0.7116174309450839, 0.838809055730277 L 0.7028659252881349, 0.8461557132519133 L 0.6940385785227612, 0.8534110683147398 L 0.6851363431432284, 0.8605743380465889 L 0.6761601797244831, 0.8676447495115469 L 0.6671110568185045, 0.8746215397933543 L 0.6579899508497951, 0.8815039560777277 L 0.648797846010022, 0.8882912557335888 L 0.6395357341518199, 0.8949827063931979 L 0.6302046146817675, 0.9015775860311775 L 0.6208054944525486, 0.9080751830424212 L 0.5643686313204987, 0.8255228936749283 L 0.572913286074334, 0.8196159873010704 L 0.5813961219561998, 0.8136206421756343 L 0.5898162236454745, 0.8075375052123533 L 0.5981726825907228, 0.8013672327979342 L 0.6064645971077313, 0.7951104907212312 L 0.6146910724768028, 0.7887679541014062 L 0.6228512210392985, 0.7823403073150808 L 0.6309441622934192, 0.7758282439224906 L 0.6389690229892134, 0.7692324665926484 L 0.6469249372228035, 0.7625536870275245 L 0.6548110465298194, 0.7557926258852509 L 0.662626499978028, 0.7489500127023621 L 0.670370454259153, 0.7420265858150751 L 0.6780420737798679, 0.735023092279621 L 0.6856405307519604, 0.7279402877916361 L 0.6931650052816525, 0.7207789366046199 L 0.7006146854580686, 0.7135398114474705 L 0.7079887674408436, 0.7062236934411045 L 0.7152864555468594, 0.6988313720141726 L 0.7225069623361007, 0.6913636448178776 L 0.7296495086966222, 0.6838213176399065 L 0.736713323928617, 0.6762052043174828 L 0.7436976458275768, 0.6685161266495521 L 0.7506017207665364, 0.6607549143081075 L 0.7574248037773912, 0.6529224047486657 L 0.7641661586312818, 0.6450194431199036 L 0.7708250579180354, 0.6370468821724642 L 0.7774007831246541, 0.6290055821669427 L 0.7838926247128458, 0.6208964107810621 L 0.7902998821955846, 0.6127202430160482 L 0.7966218642126945, 0.6044779611022152 L 0.8028578886054507, 0.59617045440377 L 0.8090072824901848, 0.587798619322848 L 0.8150693823308913, 0.5793633592027885 L 0.8965763205639805 ,0.6372996951230674\", \"type\": \"path\"}, {\"fillcolor\": \"rgba(253,174,97, 0.75)\", \"layer\": \"below\", \"line\": {\"color\": \"rgba(253,174,97, 0.75)\", \"width\": 0.45}, \"path\": \"M 0.5919758336170414, 0.9271270745768397 L 0.5453336076545716, 0.9553068911938456 L 0.4973530161519863, 0.9811421799741984 L 0.4481518137632445, 1.0045695355826367 L 0.39785075078300053, 1.0255314622679321 L 0.34657327679950445, 1.0439765149697835 L 0.29444523772285713, 1.0598594255760196 L 0.2415945669321764, 1.0731412140202492 L 0.18815097129966962, 1.0837892839472953 L 0.13424561286217135, 1.0917775027116379 L 0.08001078692139714, 1.0970862655125253 L 0.025579597362921477, 1.0997025435083576 L -0.02891437000928122, 1.0996199157922553 L -0.0833373753210291, 1.096838585150341 L -0.13755585285424307, 1.0913653775640595 L -0.1914367388458444, 1.0832137254577547 L -0.24484779805474421, 1.072403634732624 L -0.29765794829546427, 1.0589616356679477 L -0.34973758214191036, 1.0429207178100983 L -0.40095888501177307, 1.024320249009125 L -0.45119614885090203, 1.003205878801612 L -0.5003260806478119, 0.9796294263769334 L -0.548228105021154, 0.9536487534018564 L -0.5947846601375425, 0.9253276220156125 L -0.6398814862334853, 0.8947355383439434 L -0.6834079060333342, 0.8619475819161706 L -0.725257096375033, 0.8270442214039443 L -0.7653263503770529, 0.7901111171338755 L -0.8035173295030898, 0.7512389108587382 L -0.8397363049059049, 0.7105230033031846 L -0.8738943874580057, 0.6680633200299184 L -0.90590774590461, 0.6239640662009543 L -0.9356978126035133, 0.5783334708358153 L -0.9631914763469194, 0.5312835211943261 L -0.9883212617920123, 0.4829296879358784 L -1.0110254950599074, 0.43339064172968644 L -1.0312484550965666, 0.3827879620115353 L -1.0489405104242089, 0.3312458386017857 L -1.064058240947589, 0.27889076691694675 L -1.0765645445162195, 0.2258512375228107 L -1.0864287279809977, 0.17225742079106998 L -1.093626582521771, 0.11824084743333123 L -1.098140443060971, 0.06393408569655605 L -1.099959231617498, 0.009470416012180637 L -1.0990784844944612, -0.045016496102633474 L -1.095500363234048, -0.09939292808881654 L -1.089233649312636, -0.15352542852921083 L -1.0802937225891667, -0.20728114466695016 L -1.0687025235596777, -0.2605281484545896 L -1.0544884995106225, -0.31313576033381385 L -1.0376865347031339, -0.36497486995107215 L -1.01833786475957, -0.41591825302205726 L -0.9257616952359726, -0.37810750274732474 L -0.943351395184667, -0.3317953363191565 L -0.9586259086460205, -0.28466887303073984 L -0.971547748690616, -0.23684377132235415 L -0.9820852023537877, -0.18843740424268196 L -0.9902124084660326, -0.13956857139019166 L -0.9959094211218619, -0.09035720735346958 L -0.9991622586313283, -0.040924087366030426 L -0.999962937834089, 0.008609469101982396 L -0.9983094936917917, 0.05812189608777823 L -0.9942059841107008, 0.10749167948484656 L -0.987662479982725, 0.15659765526460906 L -0.9786950404692903, 0.2053193068389188 L -0.9673256735887172, 0.25353706083358796 L -0.9535822822038262, 0.30113258054707787 L -0.9374985955423333, 0.347989056374123 L -0.9191140864180976, 0.3939914924815331 L -0.8984738743563747, 0.4390269890326167 L -0.8756286148608358, 0.48298501926756915 L -0.8506343750941029, 0.5257577007598321 L -0.8235524962769181, 0.5672400601826857 L -0.7944494431436415, 0.6073302909362894 L -0.7633966408235499, 0.645930003002895 L -0.7304702995482635, 0.6829444644170346 L -0.6957512276155026, 0.7182828337580686 L -0.6593246330682118, 0.7518583830944947 L -0.6212799145757584, 0.7835887108328823 L -0.5817104420304411, 0.8133959439490394 L -0.5407133273977659, 0.8412069291051022 L -0.4983891863828673, 0.8669534121835057 L -0.4548418914980108, 0.8905722057972121 L -0.4101783171371836, 0.9120053443651018 L -0.36450807728343004, 0.9312002263719318 L -0.31794325649264576, 0.9481097434637257 L -0.2705981348140584, 0.9626923960617705 L -0.22258890732249473, 0.9749123952114763 L -0.1740333989507676, 0.9847397504161406 L -0.12505077532203915, 0.9921503432400539 L -0.07576125029184463, 0.99712598650031 L -0.02628579091752838, 0.9996544689020501 L 0.023254179420837705, 0.9997295850075977 L 0.07273707901945194, 0.9973511504659319 L 0.12204146623833757, 0.9925250024651252 L 0.1710463375451542, 0.985262985406632 L 0.21963142448379672, 0.9755829218365901 L 0.26767748883896103, 0.9635085687054723 L 0.31506661527227675, 0.9490695590634394 L 0.3616825007118186, 0.9323013293344836 L 0.40741073978476766, 0.9132450323478515 L 0.45213910559271475, 0.8919474363401803 L 0.49575782514051964, 0.8684608101762232 L 0.5381598487427649, 0.8428427950698543 L 0.5919758336170414 ,0.9271270745768397\", \"type\": \"path\"}, {\"fillcolor\": \"rgba(254,224,139, 0.75)\", \"layer\": \"below\", \"line\": {\"color\": \"rgba(254,224,139, 0.75)\", \"width\": 0.45}, \"path\": \"M -1.0047710684541495, -0.44769978780149877 L -1.0001615123049503, -0.45790495662732744 L -0.995448308443978, -0.46806267231645704 L -0.990631945305139, -0.4781718822149169 L -0.9857129220128372, -0.48823153869543745 L -0.9806917483302483, -0.4982405992660185 L -0.975568944606492, -0.508198026677963 L -0.970345041722708, -0.5181027890333695 L -0.9650205810370409, -0.5279538598920667 L -0.9595961143285386, -0.537750218377985 L -0.9540722037399693, -0.5474908492849527 L -0.9484494217195683, -0.5571747431819004 L -0.9427283509617136, -0.5668008965174706 L -0.9369095843465411, -0.5763683117240155 L -0.9309937248785024, -0.5858759973209787 L -0.9249813856238773, -0.5953229680176401 L -0.9188731896472393, -0.6047082448152241 L -0.9126697699468874, -0.6140308551083534 L -0.9063717693892477, -0.6232898327858434 L -0.899979840642253, -0.6324842183308174 L -0.893494646107706, -0.6416130589201451 L -0.8869168578526329, -0.6506754085231843 L -0.8802471575396381, -0.6596703279998181 L -0.8734862363562624, -0.6685968851977788 L -0.8666347949433538, -0.6774541550492487 L -0.8596935433224593, -0.6862412196667255 L -0.8526632008222461, -0.6949571684381436 L -0.8455444960039562, -0.7036010981212408 L -0.8383381665859035, -0.7121721129371651 L -0.8310449593670255, -0.7206693246633015 L -0.8236656301494908, -0.729091852725322 L -0.8162009436603743, -0.7374388242884387 L -0.8086516734724079, -0.7457093743478584 L -0.8010186019238151, -0.7539026458184218 L -0.7933025200372362, -0.762017789623425 L -0.7855042274377526, -0.7700539647826116 L -0.777624532270023, -0.7780103384993209 L -0.7696642511145334, -0.7858860862467949 L -0.7616242089029741, -0.793680391853622 L -0.7535052388327507, -0.801392447588321 L -0.7453081822806403, -0.8090214542430428 L -0.7370338887155989, -0.8165666212163967 L -0.7286832156107278, -0.8240271665953798 L -0.7202570283544154, -0.831402317236407 L -0.7117562001606551, -0.8386913088454331 L -0.703181611978553, -0.8458933860571578 L -0.6945341524010353, -0.8530078025133039 L -0.685814717572762, -0.8600338209399633 L -0.6770242110972564, -0.8669707132240038 L -0.6681635439432683, -0.87381776048852 L -0.6592336343503655, -0.8805742531673344 L -0.6502354077337783, -0.887239491078529 L -0.641169796588496, -0.8938127834970067 L -0.632037740392632, -0.900293449226071 L -0.6228401855100666, -0.9066808166680191 L -0.6135780850923697, -0.9129742238937422 L -0.6042523989800306, -0.9191730187113186 L -0.5948640936029853, -0.9252765587336031 L -0.5854141418804651, -0.9312842114447978 L -0.5759035231201722, -0.937195354266 L -0.5663332229167932, -0.9430093746197213 L -0.556704233049861, -0.9487256699933686 L -0.5470175513809736, -0.9543436480016849 L -0.537274181750389, -0.9598627264481366 L -0.5274751338729928, -0.9652823333852477 L -0.5176214232336619, -0.9706019071738725 L -0.5077140709820283, -0.9758208965413973 L -0.4977541038266565, -0.98093876063887 L -0.48774255392864574, -0.9859549690970487 L -0.4776804587946623, -0.9908690020813655 L -0.46756886116942736, -0.9956803503457949 L -0.45740880892765245, -1.0003885152856298 L -0.44720135496544816, -1.0049930089891508 L -0.43694755709121175, -1.0094933542881908 L -0.4266484779160051, -1.013889084807582 L -0.4163051847434362, -1.018179745013489 L -0.4059187494590502, -1.0223648902606157 L -0.39549024841925395, -1.0264440868382831 L -0.38502076233976845, -1.0304169120153763 L -0.3745113761836345, -1.034282954084152 L -0.3639631790487765, -1.0380418124029054 L -0.3533772640551386, -1.0416930974374867 L -0.3427547282314041, -1.045236430801671 L -0.3320966724013062, -1.048671445296371 L -0.32140420106955314, -1.0519977849476883 L -0.31067842230736464, -1.0552151050438043 L -0.29992044763764186, -1.0583230721707038 L -0.28913139191977905, -1.0613213642467259 L -0.27831237323412983, -1.064209670555942 L -0.26746451276614025, -1.0669876917803558 L -0.2565889346901557, -1.069655140030922 L -0.24568676605292689, -1.07221173887738 L -0.23475913665680948, -1.0746572233769005 L -0.21341739696073586, -0.9769611121608186 L -0.22335160550266078, -0.9747379444339817 L -0.23326266790014152, -0.9724137636644744 L -0.2431495570601275, -0.9699888107094142 L -0.25301124839466343, -0.9674633368690381 L -0.2628467199270718, -0.9648376038606598 L -0.2726549523978562, -0.9621118837915488 L -0.2824349293703315, -0.9592864591307311 L -0.29218563733595737, -0.9563616226797165 L -0.30190606581936924, -0.9533376775421554 L -0.31159520748309466, -0.9502149370924281 L -0.32125205823194414, -0.9469937249431696 L -0.33087561731706955, -0.943674374911732 L -0.3404648874396677, -0.9402572309855928 L -0.3500188748543349, -0.9367426472867056 L -0.35953658947204903, -0.9331309880348028 L -0.3690170449627729, -0.9294226275096507 L -0.37845925885766923, -0.9256179500122628 L -0.3878622526509137, -0.9217173498250746 L -0.3972250519011016, -0.9177212311710824 L -0.40654668633222557, -0.9136300081719553 L -0.4158261899342295, -0.9094441048051178 L -0.4250626010631158, -0.9051639548598135 L -0.4342549625406021, -0.9007900018921504 L -0.4434023217533143, -0.8963226991791351 L -0.4525037307515059, -0.8917625096716999 L -0.4615582463472984, -0.8871099059467247 L -0.47056493021241985, -0.8823653701580658 L -0.47952284897544795, -0.8775293939865888 L -0.4884310743185354, -0.872602478589215 L -0.49728868307361235, -0.8675851345469863 L -0.5060947573180554, -0.8624778818121532 L -0.514848384469812, -0.8572812496542921 L -0.5235486573819748, -0.8519957766054544 L -0.5321946744367865, -0.8466220104043616 L -0.5407855396390775, -0.8411605079396391 L -0.5493203627091187, -0.8356118351921078 L -0.5577982591748815, -0.8299765671761292 L -0.5662183504636968, -0.8242552878800173 L -0.5745797639933018, -0.8184485902055191 L -0.582881633262269, -0.8125570759063696 L -0.5911230979397984, -0.8065813555259354 L -0.5993033039548777, -0.8005220483339403 L -0.6074214035847892, -0.7943797822622909 L -0.6154765555429603, -0.7881551938400033 L -0.6234679250661472, -0.7818489281272393 L -0.6313946840009411, -0.775461638648458 L -0.6392560108895936, -0.7689939873246888 L -0.6470510910551409, -0.7624466444049391 L -0.6547791166858321, -0.7558202883967335 L -0.6624392869188434, -0.7491156059957997 L -0.6700308079232717, -0.742333292014906 L -0.6775528929824003, -0.7354740493118571 L -0.6850047625752278, -0.7285385887166553 L -0.6923856444572491, -0.7215276289578382 L -0.6996947737404848, -0.7144418965879953 L -0.7069313929727482, -0.7072821259084735 L -0.7140947522161387, -0.7000490588932832 L -0.7211841091247602, -0.6927434451122045 L -0.7281987290216501, -0.6853660416531107 L -0.7351378849749162, -0.6779176130435076 L -0.7420008578730675, -0.6703989311713078 L -0.748786936499537, -0.6628107752048381 L -0.7554954176063867, -0.6551539315120922 L -0.7621256059871849, -0.6474291935792409 L -0.768676814549051, -0.6396373619284007 L -0.77514836438386, -0.6317792440346759 L -0.7815395848385993, -0.6238556542424777 L -0.787849813584867, -0.6158674136811351 L -0.7940783966875112, -0.6078153501797989 L -0.8002246886723983, -0.5997002981816527 L -0.8062880525933025, -0.5915230986574402 L -0.8122678600979145, -0.5832845990183136 L -0.8181634914929572, -0.5749856530280157 L -0.823974335808407, -0.566627120714403 L -0.8296997908608067, -0.5582098682803213 L -0.835339263315672, -0.54973476801384 L -0.8408921687489793, -0.5412026981978546 L -0.8463579317077294, -0.5326145430190715 L -0.8517359857695828, -0.5239711924763777 L -0.8570257736015577, -0.5152735422886096 L -0.8622267470177892, -0.5065224938017276 L -0.8673383670363356, -0.49771895389541154 L -0.872360103935035, -0.4888638348890772 L -0.8772914373064008, -0.4799580544473333 L -0.8821318561115526, -0.47100253548488136 L -0.8868808587331745, -0.4619982060708754 L -0.8915379530274984, -0.45294599933274404 L -0.8961026563753065, -0.44384685335948854 L -0.9005744957319445, -0.43470171110446987 L -0.9049530076763436, -0.4255115202876882 L -0.9092377384590458, -0.4162772332975704 L -0.9134282440492267, -0.40699980709227157 L -1.0047710684541495 ,-0.44769978780149877\", \"type\": \"path\"}, {\"fillcolor\": \"rgba(217,239,139, 0.75)\", \"layer\": \"below\", \"line\": {\"color\": \"rgba(217,239,139, 0.75)\", \"width\": 0.45}, \"path\": \"M -0.20088749805921444, -1.08150090759255 L -0.18986762809699834, -1.0834898632662975 L -0.1788280819675332, -1.0853665358300917 L -0.16777000370973805, -1.0871307308025262 L -0.15669453928303534, -1.0887822653583579 L -0.1456028364485902, -1.090320968347452 L -0.13449604465037274, -1.0917466803125189 L -0.12337531489603609, -1.0930592535056387 L -0.11224179963763735, -1.094258551903573 L -0.10109665265220787, -1.0953444512218606 L -0.08994102892218618, -1.0963168389276974 L -0.07877608451572705, -1.097175614251598 L -0.06760297646689312, -1.0979206881978392 L -0.056422862655756106, -1.0985519835536823 L -0.045236901688400805, -1.0990694348973744 L -0.03404625277685844, -1.099472988604929 L -0.022852075618976484, -1.0997626028556822 L -0.011655530278238015, -1.0999382476366268 L -0.0004577770635441849, -1.0999999047455231 L 0.010740023591033637, -1.0999475677927855 L 0.021936711246504908, -1.0997812422021425 L 0.03313112557922123, -1.0995009452100775 L 0.04432210650112089, -1.099106705864041 L 0.05550849427994984, -1.09859856501944 L 0.06668912965944596, -1.0979765753354058 L 0.07786285397947286, -1.0972408012693347 L 0.08902850929609694, -1.09639131907021 L 0.10018493850158036, -1.0954282167706995 L 0.11133098544429708, -1.0943515941780328 L 0.12246549504854513, -1.093161562863658 L 0.13358731343424815, -1.0918582461516788 L 0.1446952880365331, -1.0904417791060763 L 0.15578826772517074, -1.08891230851671 L 0.16686510292387222, -1.0872699928841068 L 0.17792464572941508, -1.0855150024030356 L 0.18896575003060528, -1.0836475189448693 L 0.19998727162704902, -1.0816677360387381 L 0.21098806834772724, -1.0795758588514728 L 0.2219670001693599, -1.077372104166344 L 0.23292292933454686, -1.0750567003605966 L 0.24385472046967857, -1.0726298873817823 L 0.25476124070259004, -1.0700919167228942 L 0.26564135977996556, -1.0674430513963034 L 0.27649395018446693, -1.0646835659065044 L 0.2873178872515789, -1.0618137462216664 L 0.29811204928615986, -1.0588338897439986 L 0.3088753176786825, -1.0557443052789313 L 0.3196065770211608, -1.052545313003111 L 0.33030471522273486, -1.0492372444312241 L 0.34096862362492186, -1.0458204423816388 L 0.35159719711650644, -1.0422952609408798 L 0.36218933424806443, -1.0386620654269338 L 0.37274393734610695, -1.0349212323513908 L 0.383259912626833, -1.031073149380427 L 0.39373617030948255, -1.0271182152946283 L 0.404171624729266, -1.0230568399476667 L 0.4145651944498767, -1.0188894442238257 L 0.4249158023755602, -1.0146164599943834 L 0.4352223758627348, -1.010238330072858 L 0.4454838468311502, -1.0057555081691179 L 0.45569915187457366, -1.0011684588423642 L 0.46586723237099437, -0.9964776574529858 L 0.4759870345923251, -0.9916835901133007 L 0.4860575098136039, -0.9867867536371769 L 0.496077614421674, -0.9817876554885486 L 0.5060463100233342, -0.9766868137288266 L 0.515962563552949, -0.971484756963211 L 0.5258253473795058, -0.9661820242859118 L 0.535633639413109, -0.9607791652242818 L 0.5453864232109005, -0.9552767396818688 L 0.5550826880823967, -0.9496753178803906 L 0.5647214291942231, -0.9439754803006455 L 0.5743016476742491, -0.938177817622354 L 0.5838223507151016, -0.932282930662947 L 0.5932825516770504, -0.9262914303153021 L 0.6026812701902547, -0.9202039374844369 L 0.6120175322563588, -0.9140210830231636 L 0.6212903703494324, -0.9077435076667116 L 0.6304988235162299, -0.9013718619663308 L 0.6396419374757799, -0.8949068062218717 L 0.6487187647182767, -0.8883490104133585 L 0.6577283646032713, -0.8816991541315589 L 0.6666698034571514, -0.8749579265075568 L 0.6755421546698982, -0.8681260261413384 L 0.6843444987911141, -0.8612041610293919 L 0.6930759236253031, -0.8541930484913426 L 0.7017355243264043, -0.847093415095612 L 0.7103224034915616, -0.8399059965841245 L 0.7188356712541228, -0.8326315377960619 L 0.727274445375857, -0.8252707925906744 L 0.7356378513383809, -0.8178245237691583 L 0.7439250224337893, -0.8102935029956037 L 0.7521350998544686, -0.8026785107170298 L 0.6837591816858805, -0.7297077370154815 L 0.6762954749398085, -0.7366304572687306 L 0.6687616830348917, -0.7434768397901438 L 0.6611585867053245, -0.7502461750824312 L 0.6534869738673843, -0.7569377616327835 L 0.6457476395377832, -0.7635509059855676 L 0.6379413857512766, -0.7700849228141926 L 0.6300690214775483, -0.7765391349921296 L 0.6221313625373764, -0.7829128736630835 L 0.6141292315180892, -0.7892054783103075 L 0.6060634576883195, -0.7954162968250515 L 0.5979348769120648, -0.8015446855741444 L 0.5897443315620697, -0.8075900094666895 L 0.5814926704325272, -0.8135516420198833 L 0.573180748651118, -0.8194289654239371 L 0.564809427590393, -0.8252213706061015 L 0.556379574778508, -0.830928257293785 L 0.5478920638093224, -0.8365490340767607 L 0.5393477742518639, -0.8420831184684564 L 0.5307475915591832, -0.8475299369663154 L 0.52209240697659, -0.8528889251112308 L 0.5133831174492937, -0.8581595275460413 L 0.5046206255294515, -0.8633411980730823 L 0.4958058392826368, -0.8684333997107897 L 0.48693967219373546, -0.873435604749347 L 0.47802304307227794, -0.8783472948053743 L 0.46905687595722634, -0.8831679608756463 L 0.4600421000212129, -0.8878971033898423 L 0.450979649474249, -0.8925342322623169 L 0.4418704634669126, -0.8970788669428881 L 0.4327154859930228, -0.9015305364666368 L 0.42351566579181305, -0.9058887795027143 L 0.4142719562496124, -0.9101531444021491 L 0.40498531530104565, -0.9143231892446525 L 0.3956567053297589, -0.9183984818844162 L 0.3862870930686911, -0.9223785999948939 L 0.3768774494998879, -0.9262631311125686 L 0.3674287497538781, -0.9300516726796969 L 0.35794197300862046, -0.9337438320860256 L 0.34841810238803, -0.9373392267094791 L 0.3388581248600972, -0.9408374839558098 L 0.329263031134604, -0.9442382412972125 L 0.3196338155604604, -0.9475411463098906 L 0.30997147602265623, -0.9507458567105807 L 0.30027701383884986, -0.9538520403920218 L 0.2905514336556007, -0.9568593754573737 L 0.2807957433442568, -0.9597675502535737 L 0.2710109538965089, -0.9625762634036351 L 0.2611980793196172, -0.9652852238378784 L 0.25135813653133354, -0.9678941508240948 L 0.24149214525451412, -0.9704027739966393 L 0.23160112791144546, -0.9728108333844491 L 0.22168610951788958, -0.9751180794379839 L 0.21174811757686077, -0.9773242730550878 L 0.20178818197214535, -0.9794291856057672 L 0.1918073348615702, -0.9814325989558842 L 0.18180661057004455, -0.9833343054897618 L 0.17178704548236842, -0.9851341081316993 L 0.16174967793583186, -0.9868318203663959 L 0.1516955481126111, -0.9884272662582788 L 0.14162569793197338, -0.9899202804697363 L 0.1315411709423028, -0.9913107082782511 L 0.12144301221295287, -0.9925984055924353 L 0.11133226822595012, -0.9937832389669616 L 0.1012099867675428, -0.9948650856163934 L 0.0910772168196185, -0.9958438334279086 L 0.08093500845099721, -0.9967193809729181 L 0.07078441270861169, -0.9974916375175769 L 0.060626481508587224, -0.9981605230321869 L 0.05046226752722712, -0.9987259681994909 L 0.040292824091928074, -0.9991879144218554 L 0.0301192050720193, -0.9995463138273432 L 0.019942464769549913, -0.9998011292746749 L 0.009763657810030578, -0.9999523343570775 L -0.0004161609668583499, -0.999999913405021 L -0.010595936616580013, -0.9999438614878424 L -0.02077461419906953, -0.9997841844142564 L -0.030951138888053124, -0.9995208987317536 L -0.041124456080364365, -0.9991540317248858 L -0.05129351150523282, -0.9986836214124384 L -0.06145725133353919, -0.9981097165434901 L -0.07161462228702459, -0.9974323765923617 L -0.08176457174744198, -0.9966516717524521 L -0.0919060478656435, -0.9957676829289641 L -0.1020379996705794, -0.9947805017305209 L -0.11215937717821461, -0.9936902304596714 L -0.12226913150033884, -0.9924969821022898 L -0.1323662149532638, -0.9912008803158653 L -0.14244958116639575, -0.9898020594166889 L -0.15251818519067095, -0.9883006643659328 L -0.16257098360684835, -0.9866968507546287 L -0.17260693463363483, -0.9849907847875431 L -0.18262499823564948, -0.9831826432659544 L -0.20088749805921444 ,-1.08150090759255\", \"type\": \"path\"}, {\"fillcolor\": \"rgba(166,217,106, 0.75)\", \"layer\": \"below\", \"line\": {\"color\": \"rgba(166,217,106, 0.75)\", \"width\": 0.45}, \"path\": \"M 0.7769767079031992, -0.7786573029105339 L 0.7849966340560205, -0.7705714013125056 L 0.7929324156929323, -0.7624029014526186 L 0.8007832021701531, -0.7541526789199359 L 0.8085481519546142, -0.745821618063447 L 0.8162264327141584, -0.7374106118972792 L 0.8238172214067642, -0.7289205620049681 L 0.8313197043687632, -0.7203523784428232 L 0.8387330774020629, -0.7117069796423705 L 0.8460565458603434, -0.7029852923119125 L 0.8532893247342421, -0.6941882513371868 L 0.8604306387354952, -0.6853167996811607 L 0.8674797223800446, -0.6763718882829483 L 0.8744358200700876, -0.6673544759558848 L 0.8812981861750746, -0.6582655292847436 L 0.8880660851116289, -0.6491060225221342 L 0.8947387914223991, -0.6398769374840642 L 0.9013155898538173, -0.6305792634447039 L 0.8193778089580157, -0.5732538758588217 L 0.81339890129309, -0.5817063068036946 L 0.8073328046469352, -0.590096384111031 L 0.8011801692500677, -0.598423208440676 L 0.7949416546091704, -0.6066858872326225 L 0.7886179294364041, -0.6148835348026802 L 0.7822096715777228, -0.6230152724374187 L 0.7757175679402201, -0.6310802284883515 L 0.7691423144184939, -0.639077538465375 L 0.7624846158200571, -0.6470063451294277 L 0.7557451857897847, -0.6548657985843847 L 0.7489247467334219, -0.6626550563681528 L 0.7420240297401439, -0.670373283542981 L 0.7350437745041947, -0.6780196527849518 L 0.7279847292455937, -0.685593344472669 L 0.7208476506299384, -0.6930935467751077 L 0.7136333036872913, -0.7005194557386414 L 0.706342461730181, -0.7078702753732126 L 0.7769767079031992 ,-0.7786573029105339\", \"type\": \"path\"}, {\"fillcolor\": \"rgba(102,189,99, 0.75)\", \"layer\": \"below\", \"line\": {\"color\": \"rgba(102,189,99, 0.75)\", \"width\": 0.45}, \"path\": \"M 0.9206778183425246, -0.6019571037973134 L 0.9269245641214793, -0.5922928772391289 L 0.9330698697981413, -0.5825638317599882 L 0.9391130628469779, -0.5727710320801571 L 0.9450534819173841, -0.5629155498969883 L 0.95089047690606, -0.5529984637676367 L 0.956623409028155, -0.5430208589910255 L 0.9622516508871767, -0.5329838274890742 L 0.967774586543649, -0.5228884676872013 L 0.9731916115825209, -0.5127358843941158 L 0.9785021331793109, -0.5025271886809096 L 0.9837055701649842, -0.4922634977594657 L 0.9888013530895552, -0.48194593486019266 L 0.9937889242844051, -0.4715756291091018 L 0.9986677379233128, -0.4611537154042388 L 1.0034372600821881, -0.450681334291483 L 1.008096968797503, -0.44015963183973006 L 1.0126463541234136, -0.42958975951546846 L 1.017084918187569, -0.41897287405676553 L 1.0214121752455934, -0.40831013734668103 L 1.0256276517342484, -0.3976027162861081 L 1.029730886323257, -0.38685178266607456 L 1.0337214299657898, -0.37605851303950416 L 1.0375988459476082, -0.36522408859245836 L 1.0413627099348568, -0.35434969501486996 L 1.045012610020502, -0.3434365223707846 L 1.0485481467694089, -0.33248576496812365 L 1.0519689332620554, -0.32149862122798206 L 1.0552745951368752, -0.3104762935534766 L 1.0584647706312265, -0.2994199881981581 L 1.0615391106209837, -0.2883309151340024 L 1.0644972786587426, -0.27721028791899394 L 1.0673389510106421, -0.26605932356431794 L 1.0700638166917915, -0.25487924240117343 L 1.0726715775003048, -0.24367126794722385 L 1.0751619480499344, -0.23243662677269836 L 0.9774199527726675, -0.21130602433881668 L 0.9751559795457315, -0.2215193344974762 L 0.9727852879016285, -0.23170840218288494 L 0.9703081372824018, -0.24187211233119812 L 0.967724798780675, -0.25200935265363084 L 0.9650355551099851, -0.26211901375818397 L 0.9622407005738423, -0.2721999892710528 L 0.9593405410335227, -0.282251175957706 L 0.9563353938745958, -0.29227147384362 L 0.9532255879721898, -0.30225978633465783 L 0.9500114636550018, -0.3122150203370769 L 0.9466933726680516, -0.32213608637715446 L 0.9432716781341892, -0.33202189872041665 L 0.9397467545143543, -0.3418713754904583 L 0.9361189875665972, -0.3516834387873405 L 0.9323887743038621, -0.3614570148055528 L 0.9285565229505393, -0.3711910339515282 L 0.9246226528977899, -0.3808844309606959 L 0.9205875946576487, -0.3905361450140622 L 0.9164517898159117, -0.4001451198543 L 0.9122156909838073, -0.40971030390134816 L 0.9078797617484661, -0.41923065036748974 L 0.9034444766221864, -0.4287051173719107 L 0.8989103209905046, -0.43813266805472056 L 0.8942777910590765, -0.4475122706904233 L 0.8895473937993734, -0.4568428988008269 L 0.8847196468932007, -0.46612353126737793 L 0.8797950786760445, -0.47535315244291027 L 0.8747742280792514, -0.48453075226279474 L 0.86965764457105, -0.4936553263554777 L 0.8644458880964181, -0.5027258761523969 L 0.8591395290158037, -0.5117414089972621 L 0.8537391480427071, -0.5207009382546882 L 0.8482453361801284, -0.529603483418171 L 0.8426586946558902, -0.5384480702173899 L 0.8369798348568405, -0.5472337307248303 L 0.9206778183425246 ,-0.6019571037973134\", \"type\": \"path\"}, {\"fillcolor\": \"rgba(26,152,80, 0.75)\", \"layer\": \"below\", \"line\": {\"color\": \"rgba(26,152,80, 0.75)\", \"width\": 0.45}, \"path\": \"M 1.081932431415999, -0.1985502804084257 L 1.083643085934891, -0.18899116991411677 L 1.085269285312793, -0.17941733014583555 L 1.08681090280973, -0.16982950725330412 L 1.0882678182777261, -0.16022844847603768 L 1.0896399181701695, -0.1506149020851074 L 1.0909270955506607, -0.14098961732482293 L 1.092129250101347, -0.13135334435433918 L 1.0932462881307419, -0.12170683418919151 L 1.0942781225810252, -0.1120508386427644 L 1.0952246730348303, -0.10238611026769802 L 1.0960858657215096, -0.09271340229723689 L 1.0968616335228845, -0.08303346858652577 L 1.0975519159784775, -0.07334706355385692 L 1.098156659290222, -0.06365494212187352 L 1.0986758163266581, -0.053957859658733856 L 1.0991093466266026, -0.044256571919240616 L 1.0994572164023049, -0.03455183498594022 L 0.9995065603657316, -0.03141075907812747 L 0.9991903151150932, -0.040233247199309645 L 0.9987961966605982, -0.049052599689758045 L 0.9983242357183837, -0.05786812920170319 L 0.997774469071343, -0.06667914868532447 L 0.9971469395662585, -0.07548497144229616 L 0.9964416961104631, -0.08428491117930625 L 0.9956587936680275, -0.09307828206154364 L 0.9947982932554774, -0.10186439876614944 L 0.9938602619370379, -0.11064257653562863 L 0.9928447728194063, -0.11941213123121744 L 0.991751905046055, -0.12817237938620266 L 0.9905817437910631, -0.13692263825918852 L 0.9893343802524782, -0.14566222588730696 L 0.9880099116452089, -0.15439046113936736 L 0.986608441193448, -0.1631066637689414 L 0.9851300781226281, -0.17181015446737888 L 0.9835749376509082, -0.18050025491675062 L 1.081932431415999 ,-0.1985502804084257\", \"type\": \"path\"}], \"showlegend\": false, \"title\": \"Pairwise interactions between common egg mutation genotypes\", \"width\": 800, \"xaxis\": {\"visible\": false}, \"yaxis\": {\"visible\": false}}, {\"showLink\": true, \"linkText\": \"Export to plot.ly\", \"plotlyServerURL\": \"https://plot.ly\"})});</script>"
      ],
      "text/vnd.plotly.v1+html": [
       "<div id=\"12ff7c32-d60f-48ba-b08a-6c56ddc53e5c\" style=\"height: 800px; width: 800px;\" class=\"plotly-graph-div\"></div><script type=\"text/javascript\">require([\"plotly\"], function(Plotly) { window.PLOTLYENV=window.PLOTLYENV || {};window.PLOTLYENV.BASE_URL=\"https://plot.ly\";Plotly.newPlot(\"12ff7c32-d60f-48ba-b08a-6c56ddc53e5c\", [{\"line\": {\"color\": \"rgba(215,48,39, 0.75)\", \"shape\": \"spline\", \"width\": 0.25}, \"mode\": \"lines\", \"x\": [1.1, 1.0999417639690854, 1.099767062042587, 1.09947591271859, 1.0990683468250604, 1.0985444075165793, 1.0979041502697757, 1.0971476428774511, 1.0962749654414017, 1.0952862103639367, 1.0941814823380946, 1.0929608983365586, 1.0916245875992694, 1.0901726916197425, 1.0886053641300852, 1.08692277108472, 1.0851250906428114, 1.0832125131494026, 1.081185241115261, 1.0790434891954352, 1.0767874841665275, 1.0744174649026805, 1.0719336823502854, 1.0693363995014105, 1.0666258913659543, 1.063802444942527, 1.0608663591880618, 1.05781794498616, 1.0546575251141737, 1.0513854342090292, 1.048002018731794, 1.044507636930992, 1.040902658804672, 1.037187466061229, 1.03336245207899, 1.029428021864559, 1.025384592009936, 1.0212325906484039, 1.0169724574091987, 1.012604643370959, 1.008129611013963, 1.0035478341711614, 0.998859797978005, 0.9940659988210764, 0.9891669442855321, 0.9841631531013564, 0.9790551550884365, 0.973843491100464, 0.9685287129676664, 0.9631113834383772, 0.9575920761194513, 0.9519713754155278, 0.9462498764671521, 0.9404281850877599, 0.9345069176995318, 0.928486701268123, 0.9223681732362796, 0.916151981456343], \"y\": [0.0, 0.011318828410097063, 0.022636458340846474, 0.033951691439799994, 0.04526332960829479, 0.05657017512831255, 0.06787103078929825, 0.07916470001492529, 0.09044998698979337, 0.10172569678604586, 0.11299063548989316, 0.12424361032802866, 0.13548342979392414, 0.14670890377399068, 0.15791884367359235, 0.16911206254289918, 0.18028737520256538, 0.19144359836922098, 0.20257955078076192, 0.21369405332142655, 0.22478592914664475, 0.23585400380764662, 0.24689710537581733, 0.25791406456678545, 0.26890371486423087, 0.27986489264340014, 0.29079643729431487, 0.30169719134466205, 0.31256600058235096, 0.32340171417772556, 0.33420318480541894, 0.34496926876583567, 0.3556988261062514, 0.36639072074151546, 0.3770438205743431, 0.38765699761518685, 0.39822912810167144, 0.40875909261758286, 0.4192457762113954, 0.4296880685143273, 0.44008486385791074, 0.45043506139106365, 0.4607375651966524, 0.47099128440753135, 0.48119513332204783, 0.49134803151900036, 0.5014489039720376, 0.5114966811634858, 0.521490299197594, 0.5314286999131825, 0.5413108309956852, 0.5511356460885728, 0.5609021049041443, 0.5706091733336769, 0.5802558235569213, 0.5898410341509308, 0.5993637901982138, 0.6088230833941964], \"type\": \"scatter\", \"uid\": \"424f7e31-0a3c-42f4-8436-304631245d82\"}, {\"line\": {\"color\": \"rgba(244,109,67, 0.75)\", \"shape\": \"spline\", \"width\": 0.25}, \"mode\": \"lines\", \"x\": [0.8965763205639805, 0.8899080107392033, 0.8831436774659959, 0.8762840506339641, 0.8693298704151431, 0.8622818871841305, 0.8551408614371195, 0.847907563709839, 0.84058277449441, 0.8331672841551304, 0.8256618928431901, 0.8180674104103346, 0.8103846563214787, 0.8026144595662844, 0.7947576585697108, 0.7868151011015454, 0.7787876441849281, 0.7706761540038756, 0.7624815058098178, 0.7542045838271565, 0.7458462811578548, 0.7374074996850684, 0.7288891499758309, 0.7202921511828013, 0.7116174309450839, 0.7028659252881349, 0.6940385785227612, 0.6851363431432284, 0.6761601797244831, 0.6671110568185045, 0.6579899508497951, 0.648797846010022, 0.6395357341518199, 0.6302046146817675, 0.6208054944525486], \"y\": [0.6372996951230674, 0.646578481255133, 0.6557874998441471, 0.6649257572124367, 0.673992267317653, 0.6829860518591683, 0.6919061403836371, 0.7007515703897107, 0.709521387431894, 0.7182146452235323, 0.7268304057389183, 0.7353677393145074, 0.7438257247492311, 0.7522034494038972, 0.7605000092996654, 0.7687145092155899, 0.776846062785215, 0.7848937925922176, 0.7928568302650819, 0.8007343165707997, 0.8085254015075832, 0.8162292443965826, 0.8238450139725984, 0.8313718884737761, 0.838809055730277, 0.8461557132519133, 0.8534110683147398, 0.8605743380465889, 0.8676447495115469, 0.8746215397933543, 0.8815039560777277, 0.8882912557335888, 0.8949827063931979, 0.9015775860311775, 0.9080751830424212], \"type\": \"scatter\", \"uid\": \"63f91939-6db6-4b1d-a0e0-071f16f698ec\"}, {\"line\": {\"color\": \"rgba(253,174,97, 0.75)\", \"shape\": \"spline\", \"width\": 0.25}, \"mode\": \"lines\", \"x\": [0.5919758336170414, 0.5453336076545716, 0.4973530161519863, 0.4481518137632445, 0.39785075078300053, 0.34657327679950445, 0.29444523772285713, 0.2415945669321764, 0.18815097129966962, 0.13424561286217135, 0.08001078692139714, 0.025579597362921477, -0.02891437000928122, -0.0833373753210291, -0.13755585285424307, -0.1914367388458444, -0.24484779805474421, -0.29765794829546427, -0.34973758214191036, -0.40095888501177307, -0.45119614885090203, -0.5003260806478119, -0.548228105021154, -0.5947846601375425, -0.6398814862334853, -0.6834079060333342, -0.725257096375033, -0.7653263503770529, -0.8035173295030898, -0.8397363049059049, -0.8738943874580057, -0.90590774590461, -0.9356978126035133, -0.9631914763469194, -0.9883212617920123, -1.0110254950599074, -1.0312484550965666, -1.0489405104242089, -1.064058240947589, -1.0765645445162195, -1.0864287279809977, -1.093626582521771, -1.098140443060971, -1.099959231617498, -1.0990784844944612, -1.095500363234048, -1.089233649312636, -1.0802937225891667, -1.0687025235596777, -1.0544884995106225, -1.0376865347031339, -1.01833786475957], \"y\": [0.9271270745768397, 0.9553068911938456, 0.9811421799741984, 1.0045695355826367, 1.0255314622679321, 1.0439765149697835, 1.0598594255760196, 1.0731412140202492, 1.0837892839472953, 1.0917775027116379, 1.0970862655125253, 1.0997025435083576, 1.0996199157922553, 1.096838585150341, 1.0913653775640595, 1.0832137254577547, 1.072403634732624, 1.0589616356679477, 1.0429207178100983, 1.024320249009125, 1.003205878801612, 0.9796294263769334, 0.9536487534018564, 0.9253276220156125, 0.8947355383439434, 0.8619475819161706, 0.8270442214039443, 0.7901111171338755, 0.7512389108587382, 0.7105230033031846, 0.6680633200299184, 0.6239640662009543, 0.5783334708358153, 0.5312835211943261, 0.4829296879358784, 0.43339064172968644, 0.3827879620115353, 0.3312458386017857, 0.27889076691694675, 0.2258512375228107, 0.17225742079106998, 0.11824084743333123, 0.06393408569655605, 0.009470416012180637, -0.045016496102633474, -0.09939292808881654, -0.15352542852921083, -0.20728114466695016, -0.2605281484545896, -0.31313576033381385, -0.36497486995107215, -0.41591825302205726], \"type\": \"scatter\", \"uid\": \"dd18c2fc-2afd-423d-8676-c7bed55b96a3\"}, {\"line\": {\"color\": \"rgba(254,224,139, 0.75)\", \"shape\": \"spline\", \"width\": 0.25}, \"mode\": \"lines\", \"x\": [-1.0047710684541495, -1.0001615123049503, -0.995448308443978, -0.990631945305139, -0.9857129220128372, -0.9806917483302483, -0.975568944606492, -0.970345041722708, -0.9650205810370409, -0.9595961143285386, -0.9540722037399693, -0.9484494217195683, -0.9427283509617136, -0.9369095843465411, -0.9309937248785024, -0.9249813856238773, -0.9188731896472393, -0.9126697699468874, -0.9063717693892477, -0.899979840642253, -0.893494646107706, -0.8869168578526329, -0.8802471575396381, -0.8734862363562624, -0.8666347949433538, -0.8596935433224593, -0.8526632008222461, -0.8455444960039562, -0.8383381665859035, -0.8310449593670255, -0.8236656301494908, -0.8162009436603743, -0.8086516734724079, -0.8010186019238151, -0.7933025200372362, -0.7855042274377526, -0.777624532270023, -0.7696642511145334, -0.7616242089029741, -0.7535052388327507, -0.7453081822806403, -0.7370338887155989, -0.7286832156107278, -0.7202570283544154, -0.7117562001606551, -0.703181611978553, -0.6945341524010353, -0.685814717572762, -0.6770242110972564, -0.6681635439432683, -0.6592336343503655, -0.6502354077337783, -0.641169796588496, -0.632037740392632, -0.6228401855100666, -0.6135780850923697, -0.6042523989800306, -0.5948640936029853, -0.5854141418804651, -0.5759035231201722, -0.5663332229167932, -0.556704233049861, -0.5470175513809736, -0.537274181750389, -0.5274751338729928, -0.5176214232336619, -0.5077140709820283, -0.4977541038266565, -0.48774255392864574, -0.4776804587946623, -0.46756886116942736, -0.45740880892765245, -0.44720135496544816, -0.43694755709121175, -0.4266484779160051, -0.4163051847434362, -0.4059187494590502, -0.39549024841925395, -0.38502076233976845, -0.3745113761836345, -0.3639631790487765, -0.3533772640551386, -0.3427547282314041, -0.3320966724013062, -0.32140420106955314, -0.31067842230736464, -0.29992044763764186, -0.28913139191977905, -0.27831237323412983, -0.26746451276614025, -0.2565889346901557, -0.24568676605292689, -0.23475913665680948], \"y\": [-0.44769978780149877, -0.45790495662732744, -0.46806267231645704, -0.4781718822149169, -0.48823153869543745, -0.4982405992660185, -0.508198026677963, -0.5181027890333695, -0.5279538598920667, -0.537750218377985, -0.5474908492849527, -0.5571747431819004, -0.5668008965174706, -0.5763683117240155, -0.5858759973209787, -0.5953229680176401, -0.6047082448152241, -0.6140308551083534, -0.6232898327858434, -0.6324842183308174, -0.6416130589201451, -0.6506754085231843, -0.6596703279998181, -0.6685968851977788, -0.6774541550492487, -0.6862412196667255, -0.6949571684381436, -0.7036010981212408, -0.7121721129371651, -0.7206693246633015, -0.729091852725322, -0.7374388242884387, -0.7457093743478584, -0.7539026458184218, -0.762017789623425, -0.7700539647826116, -0.7780103384993209, -0.7858860862467949, -0.793680391853622, -0.801392447588321, -0.8090214542430428, -0.8165666212163967, -0.8240271665953798, -0.831402317236407, -0.8386913088454331, -0.8458933860571578, -0.8530078025133039, -0.8600338209399633, -0.8669707132240038, -0.87381776048852, -0.8805742531673344, -0.887239491078529, -0.8938127834970067, -0.900293449226071, -0.9066808166680191, -0.9129742238937422, -0.9191730187113186, -0.9252765587336031, -0.9312842114447978, -0.937195354266, -0.9430093746197213, -0.9487256699933686, -0.9543436480016849, -0.9598627264481366, -0.9652823333852477, -0.9706019071738725, -0.9758208965413973, -0.98093876063887, -0.9859549690970487, -0.9908690020813655, -0.9956803503457949, -1.0003885152856298, -1.0049930089891508, -1.0094933542881908, -1.013889084807582, -1.018179745013489, -1.0223648902606157, -1.0264440868382831, -1.0304169120153763, -1.034282954084152, -1.0380418124029054, -1.0416930974374867, -1.045236430801671, -1.048671445296371, -1.0519977849476883, -1.0552151050438043, -1.0583230721707038, -1.0613213642467259, -1.064209670555942, -1.0669876917803558, -1.069655140030922, -1.07221173887738, -1.0746572233769005], \"type\": \"scatter\", \"uid\": \"b380cb67-bb8f-4442-b924-5240761a2760\"}, {\"line\": {\"color\": \"rgba(217,239,139, 0.75)\", \"shape\": \"spline\", \"width\": 0.25}, \"mode\": \"lines\", \"x\": [-0.20088749805921444, -0.18986762809699834, -0.1788280819675332, -0.16777000370973805, -0.15669453928303534, -0.1456028364485902, -0.13449604465037274, -0.12337531489603609, -0.11224179963763735, -0.10109665265220787, -0.08994102892218618, -0.07877608451572705, -0.06760297646689312, -0.056422862655756106, -0.045236901688400805, -0.03404625277685844, -0.022852075618976484, -0.011655530278238015, -0.0004577770635441849, 0.010740023591033637, 0.021936711246504908, 0.03313112557922123, 0.04432210650112089, 0.05550849427994984, 0.06668912965944596, 0.07786285397947286, 0.08902850929609694, 0.10018493850158036, 0.11133098544429708, 0.12246549504854513, 0.13358731343424815, 0.1446952880365331, 0.15578826772517074, 0.16686510292387222, 0.17792464572941508, 0.18896575003060528, 0.19998727162704902, 0.21098806834772724, 0.2219670001693599, 0.23292292933454686, 0.24385472046967857, 0.25476124070259004, 0.26564135977996556, 0.27649395018446693, 0.2873178872515789, 0.29811204928615986, 0.3088753176786825, 0.3196065770211608, 0.33030471522273486, 0.34096862362492186, 0.35159719711650644, 0.36218933424806443, 0.37274393734610695, 0.383259912626833, 0.39373617030948255, 0.404171624729266, 0.4145651944498767, 0.4249158023755602, 0.4352223758627348, 0.4454838468311502, 0.45569915187457366, 0.46586723237099437, 0.4759870345923251, 0.4860575098136039, 0.496077614421674, 0.5060463100233342, 0.515962563552949, 0.5258253473795058, 0.535633639413109, 0.5453864232109005, 0.5550826880823967, 0.5647214291942231, 0.5743016476742491, 0.5838223507151016, 0.5932825516770504, 0.6026812701902547, 0.6120175322563588, 0.6212903703494324, 0.6304988235162299, 0.6396419374757799, 0.6487187647182767, 0.6577283646032713, 0.6666698034571514, 0.6755421546698982, 0.6843444987911141, 0.6930759236253031, 0.7017355243264043, 0.7103224034915616, 0.7188356712541228, 0.727274445375857, 0.7356378513383809, 0.7439250224337893, 0.7521350998544686], \"y\": [-1.08150090759255, -1.0834898632662975, -1.0853665358300917, -1.0871307308025262, -1.0887822653583579, -1.090320968347452, -1.0917466803125189, -1.0930592535056387, -1.094258551903573, -1.0953444512218606, -1.0963168389276974, -1.097175614251598, -1.0979206881978392, -1.0985519835536823, -1.0990694348973744, -1.099472988604929, -1.0997626028556822, -1.0999382476366268, -1.0999999047455231, -1.0999475677927855, -1.0997812422021425, -1.0995009452100775, -1.099106705864041, -1.09859856501944, -1.0979765753354058, -1.0972408012693347, -1.09639131907021, -1.0954282167706995, -1.0943515941780328, -1.093161562863658, -1.0918582461516788, -1.0904417791060763, -1.08891230851671, -1.0872699928841068, -1.0855150024030356, -1.0836475189448693, -1.0816677360387381, -1.0795758588514728, -1.077372104166344, -1.0750567003605966, -1.0726298873817823, -1.0700919167228942, -1.0674430513963034, -1.0646835659065044, -1.0618137462216664, -1.0588338897439986, -1.0557443052789313, -1.052545313003111, -1.0492372444312241, -1.0458204423816388, -1.0422952609408798, -1.0386620654269338, -1.0349212323513908, -1.031073149380427, -1.0271182152946283, -1.0230568399476667, -1.0188894442238257, -1.0146164599943834, -1.010238330072858, -1.0057555081691179, -1.0011684588423642, -0.9964776574529858, -0.9916835901133007, -0.9867867536371769, -0.9817876554885486, -0.9766868137288266, -0.971484756963211, -0.9661820242859118, -0.9607791652242818, -0.9552767396818688, -0.9496753178803906, -0.9439754803006455, -0.938177817622354, -0.932282930662947, -0.9262914303153021, -0.9202039374844369, -0.9140210830231636, -0.9077435076667116, -0.9013718619663308, -0.8949068062218717, -0.8883490104133585, -0.8816991541315589, -0.8749579265075568, -0.8681260261413384, -0.8612041610293919, -0.8541930484913426, -0.847093415095612, -0.8399059965841245, -0.8326315377960619, -0.8252707925906744, -0.8178245237691583, -0.8102935029956037, -0.8026785107170298], \"type\": \"scatter\", \"uid\": \"689167c0-16d8-4029-829d-aa98edd669aa\"}, {\"line\": {\"color\": \"rgba(166,217,106, 0.75)\", \"shape\": \"spline\", \"width\": 0.25}, \"mode\": \"lines\", \"x\": [0.7769767079031992, 0.7849966340560205, 0.7929324156929323, 0.8007832021701531, 0.8085481519546142, 0.8162264327141584, 0.8238172214067642, 0.8313197043687632, 0.8387330774020629, 0.8460565458603434, 0.8532893247342421, 0.8604306387354952, 0.8674797223800446, 0.8744358200700876, 0.8812981861750746, 0.8880660851116289, 0.8947387914223991, 0.9013155898538173], \"y\": [-0.7786573029105339, -0.7705714013125056, -0.7624029014526186, -0.7541526789199359, -0.745821618063447, -0.7374106118972792, -0.7289205620049681, -0.7203523784428232, -0.7117069796423705, -0.7029852923119125, -0.6941882513371868, -0.6853167996811607, -0.6763718882829483, -0.6673544759558848, -0.6582655292847436, -0.6491060225221342, -0.6398769374840642, -0.6305792634447039], \"type\": \"scatter\", \"uid\": \"19719c26-a2b3-4c39-9173-0e4685030e65\"}, {\"line\": {\"color\": \"rgba(102,189,99, 0.75)\", \"shape\": \"spline\", \"width\": 0.25}, \"mode\": \"lines\", \"x\": [0.9206778183425246, 0.9269245641214793, 0.9330698697981413, 0.9391130628469779, 0.9450534819173841, 0.95089047690606, 0.956623409028155, 0.9622516508871767, 0.967774586543649, 0.9731916115825209, 0.9785021331793109, 0.9837055701649842, 0.9888013530895552, 0.9937889242844051, 0.9986677379233128, 1.0034372600821881, 1.008096968797503, 1.0126463541234136, 1.017084918187569, 1.0214121752455934, 1.0256276517342484, 1.029730886323257, 1.0337214299657898, 1.0375988459476082, 1.0413627099348568, 1.045012610020502, 1.0485481467694089, 1.0519689332620554, 1.0552745951368752, 1.0584647706312265, 1.0615391106209837, 1.0644972786587426, 1.0673389510106421, 1.0700638166917915, 1.0726715775003048, 1.0751619480499344], \"y\": [-0.6019571037973134, -0.5922928772391289, -0.5825638317599882, -0.5727710320801571, -0.5629155498969883, -0.5529984637676367, -0.5430208589910255, -0.5329838274890742, -0.5228884676872013, -0.5127358843941158, -0.5025271886809096, -0.4922634977594657, -0.48194593486019266, -0.4715756291091018, -0.4611537154042388, -0.450681334291483, -0.44015963183973006, -0.42958975951546846, -0.41897287405676553, -0.40831013734668103, -0.3976027162861081, -0.38685178266607456, -0.37605851303950416, -0.36522408859245836, -0.35434969501486996, -0.3434365223707846, -0.33248576496812365, -0.32149862122798206, -0.3104762935534766, -0.2994199881981581, -0.2883309151340024, -0.27721028791899394, -0.26605932356431794, -0.25487924240117343, -0.24367126794722385, -0.23243662677269836], \"type\": \"scatter\", \"uid\": \"e560b1b7-b3d3-4b61-976d-1a9e65991195\"}, {\"line\": {\"color\": \"rgba(26,152,80, 0.75)\", \"shape\": \"spline\", \"width\": 0.25}, \"mode\": \"lines\", \"x\": [1.081932431415999, 1.083643085934891, 1.085269285312793, 1.08681090280973, 1.0882678182777261, 1.0896399181701695, 1.0909270955506607, 1.092129250101347, 1.0932462881307419, 1.0942781225810252, 1.0952246730348303, 1.0960858657215096, 1.0968616335228845, 1.0975519159784775, 1.098156659290222, 1.0986758163266581, 1.0991093466266026, 1.0994572164023049], \"y\": [-0.1985502804084257, -0.18899116991411677, -0.17941733014583555, -0.16982950725330412, -0.16022844847603768, -0.1506149020851074, -0.14098961732482293, -0.13135334435433918, -0.12170683418919151, -0.1120508386427644, -0.10238611026769802, -0.09271340229723689, -0.08303346858652577, -0.07334706355385692, -0.06365494212187352, -0.053957859658733856, -0.044256571919240616, -0.03455183498594022], \"type\": \"scatter\", \"uid\": \"e84a0be9-4990-46c7-81d2-eb9452d8ae0a\"}, {\"marker\": {\"color\": \"rgba(215,48,39, 0.75)\", \"size\": 0.5}, \"mode\": \"markers\", \"x\": [0.8682037547752147], \"y\": [0.2371122944813675], \"type\": \"scatter\", \"uid\": \"2f26342f-ddad-410c-ac8d-2fbd3274fc52\"}, {\"marker\": {\"color\": \"rgba(215,48,39, 0.75)\", \"size\": 0.5}, \"mode\": \"markers\", \"text\": \"138 S\", \"x\": [0.8989989904544659], \"y\": [0.04243601255833425], \"type\": \"scatter\", \"uid\": \"03a07ebb-4fc4-40ea-b6d1-22a111f822de\"}, {\"marker\": {\"color\": \"rgba(215,48,39, 0.75)\", \"size\": 0.5}, \"mode\": \"markers\", \"text\": \"156 R/Q\", \"x\": [0.7155603888115639], \"y\": [0.5458693341486069], \"type\": \"scatter\", \"uid\": \"00fb055c-2a38-49fe-be76-69c723240380\"}, {\"marker\": {\"color\": \"rgba(215,48,39, 0.75)\", \"size\": 0.5}, \"mode\": \"markers\", \"text\": \"138 S\", \"x\": [0.7983414011954725], \"y\": [0.4155129446085281], \"type\": \"scatter\", \"uid\": \"47b0d671-5ef8-49ca-8995-7a6242672cc7\"}, {\"marker\": {\"color\": \"rgba(215,48,39, 0.75)\", \"size\": 0.5}, \"mode\": \"markers\", \"text\": \"160 K\", \"x\": [0.09254856347742725], \"y\": [0.8952288888313785], \"type\": \"scatter\", \"uid\": \"99363cd1-8ab9-48d3-b620-c8bb3a95a027\"}, {\"marker\": {\"color\": \"rgba(215,48,39, 0.75)\", \"size\": 0.5}, \"mode\": \"markers\", \"text\": \"138 S\", \"x\": [0.8920155209685797], \"y\": [0.1196173497079473], \"type\": \"scatter\", \"uid\": \"1facbb6e-7ea2-42d7-878f-c945ad44ec5a\"}, {\"marker\": {\"color\": \"rgba(215,48,39, 0.75)\", \"size\": 0.5}, \"mode\": \"markers\", \"text\": \"186 V\", \"x\": [-0.8101967344515356], \"y\": [-0.3918944392104435], \"type\": \"scatter\", \"uid\": \"552c3deb-1d97-4117-a1da-2c007a70a5fc\"}, {\"marker\": {\"color\": \"rgba(215,48,39, 0.75)\", \"size\": 0.5}, \"mode\": \"markers\", \"text\": \"138 S\", \"x\": [0.8968203823683097], \"y\": [0.07558572463606308], \"type\": \"scatter\", \"uid\": \"cb3871d0-f797-40e7-b1dd-bf97e2fc9b87\"}, {\"marker\": {\"color\": \"rgba(215,48,39, 0.75)\", \"size\": 0.5}, \"mode\": \"markers\", \"text\": \"194 P\", \"x\": [-0.11418169030431584], \"y\": [-0.8927275853244646], \"type\": \"scatter\", \"uid\": \"9e2c740e-758d-4035-a53e-76ead9d64f1d\"}, {\"marker\": {\"color\": \"rgba(215,48,39, 0.75)\", \"size\": 0.5}, \"mode\": \"markers\", \"text\": \"138 S\", \"x\": [0.8999981073822138], \"y\": [0.0018457270744566474], \"type\": \"scatter\", \"uid\": \"ee090b11-0a43-43cb-9962-5d91513f8c94\"}, {\"marker\": {\"color\": \"rgba(215,48,39, 0.75)\", \"size\": 0.5}, \"mode\": \"markers\", \"text\": \"203 I\", \"x\": [0.6368751786992618], \"y\": [-0.635916666519115], \"type\": \"scatter\", \"uid\": \"53b5a4ad-6746-4ee1-82a9-730b65ab0846\"}, {\"marker\": {\"color\": \"rgba(215,48,39, 0.75)\", \"size\": 0.5}, \"mode\": \"markers\", \"text\": \"138 S\", \"x\": [0.8999697182746187], \"y\": [0.0073828306701138185], \"type\": \"scatter\", \"uid\": \"58f4e673-a3c3-4f3b-8819-a25e1028d042\"}, {\"marker\": {\"color\": \"rgba(215,48,39, 0.75)\", \"size\": 0.5}, \"mode\": \"markers\", \"text\": \"219 F/Y\", \"x\": [0.7571781654113281], \"y\": [-0.48649894740311145], \"type\": \"scatter\", \"uid\": \"ef161e97-b476-435a-a648-58fbc969af3f\"}, {\"marker\": {\"color\": \"rgba(215,48,39, 0.75)\", \"size\": 0.5}, \"mode\": \"markers\", \"text\": \"138 S\", \"x\": [0.8997710028793023], \"y\": [0.02030129004705118], \"type\": \"scatter\", \"uid\": \"a4b4942f-106c-4b42-a971-ab964b022f8e\"}, {\"marker\": {\"color\": \"rgba(215,48,39, 0.75)\", \"size\": 0.5}, \"mode\": \"markers\", \"text\": \"225 G\", \"x\": [0.8882389562924632], \"y\": [-0.14502260694276467], \"type\": \"scatter\", \"uid\": \"757bc3de-343c-477d-8909-f566f5c36865\"}, {\"marker\": {\"color\": \"rgba(244,109,67, 0.75)\", \"size\": 0.5}, \"mode\": \"markers\", \"x\": [0.5484037240222775], \"y\": [0.7136198956576937], \"type\": \"scatter\", \"uid\": \"b697b697-6444-452b-9d04-c0a1f6bab440\"}, {\"marker\": {\"color\": \"rgba(244,109,67, 0.75)\", \"size\": 0.5}, \"mode\": \"markers\", \"text\": \"156 R/Q\", \"x\": [0.6228635130823966], \"y\": [0.649646861048874], \"type\": \"scatter\", \"uid\": \"fea054f8-175c-41f1-b61a-4490e7e7df69\"}, {\"marker\": {\"color\": \"rgba(244,109,67, 0.75)\", \"size\": 0.5}, \"mode\": \"markers\", \"text\": \"160 K\", \"x\": [0.3466500503943412], \"y\": [0.8305623050449621], \"type\": \"scatter\", \"uid\": \"639db5d3-2aed-4d8d-8078-6f1b9101e080\"}, {\"marker\": {\"color\": \"rgba(244,109,67, 0.75)\", \"size\": 0.5}, \"mode\": \"markers\", \"text\": \"156 R/Q\", \"x\": [0.6829837700995662], \"y\": [0.5861170273764301], \"type\": \"scatter\", \"uid\": \"b6bb4c66-5d48-49aa-bd10-eb64a5bc79b3\"}, {\"marker\": {\"color\": \"rgba(244,109,67, 0.75)\", \"size\": 0.5}, \"mode\": \"markers\", \"text\": \"186 V\", \"x\": [-0.7793801773141127], \"y\": [-0.4500739263830136], \"type\": \"scatter\", \"uid\": \"2ad996d1-b83e-4a5a-98d8-8751f563f8d5\"}, {\"marker\": {\"color\": \"rgba(244,109,67, 0.75)\", \"size\": 0.5}, \"mode\": \"markers\", \"text\": \"156 R/Q\", \"x\": [0.7262497561139983], \"y\": [0.5315649459326283], \"type\": \"scatter\", \"uid\": \"b32348eb-8e68-4605-a516-f8f727c3192c\"}, {\"marker\": {\"color\": \"rgba(244,109,67, 0.75)\", \"size\": 0.5}, \"mode\": \"markers\", \"text\": \"219 F/Y\", \"x\": [0.765769104184222], \"y\": [-0.47286116258040706], \"type\": \"scatter\", \"uid\": \"21f3629a-b0b2-49cf-8cae-45e973a437de\"}, {\"marker\": {\"color\": \"rgba(244,109,67, 0.75)\", \"size\": 0.5}, \"mode\": \"markers\", \"text\": \"156 R/Q\", \"x\": [0.7314874830551048], \"y\": [0.5243339223564577], \"type\": \"scatter\", \"uid\": \"e4076968-1da7-4bbf-98b7-494c61ac79e4\"}, {\"marker\": {\"color\": \"rgba(244,109,67, 0.75)\", \"size\": 0.5}, \"mode\": \"markers\", \"text\": \"225 G\", \"x\": [0.8863557989496302], \"y\": [-0.15611981830748722], \"type\": \"scatter\", \"uid\": \"f340738d-36d6-48ed-872b-e1d4293633c6\"}, {\"marker\": {\"color\": \"rgba(253,174,97, 0.75)\", \"size\": 0.5}, \"mode\": \"markers\", \"x\": [-0.8777925768455577], \"y\": [0.19869623055014346], \"type\": \"scatter\", \"uid\": \"8dd1c55b-17c5-4cd2-973f-69ec25cc17c8\"}, {\"marker\": {\"color\": \"rgba(253,174,97, 0.75)\", \"size\": 0.5}, \"mode\": \"markers\", \"text\": \"160 K\", \"x\": [-0.15996670301437507], \"y\": [0.8856696076566649], \"type\": \"scatter\", \"uid\": \"28d3a65e-c8fd-460d-82e8-07f1f505c0c5\"}, {\"marker\": {\"color\": \"rgba(253,174,97, 0.75)\", \"size\": 0.5}, \"mode\": \"markers\", \"text\": \"186 V\", \"x\": [-0.5969303655488619], \"y\": [-0.6735533673627518], \"type\": \"scatter\", \"uid\": \"10c7bb56-e688-46da-bca6-b107b6a3ae4f\"}, {\"marker\": {\"color\": \"rgba(253,174,97, 0.75)\", \"size\": 0.5}, \"mode\": \"markers\", \"text\": \"160 K\", \"x\": [-0.4655175985953996], \"y\": [0.7702553897234167], \"type\": \"scatter\", \"uid\": \"e5d052b3-328b-494f-b2b1-fa08ce3d7068\"}, {\"marker\": {\"color\": \"rgba(253,174,97, 0.75)\", \"size\": 0.5}, \"mode\": \"markers\", \"text\": \"194 P\", \"x\": [0.13709196234292545], \"y\": [-0.889497495140355], \"type\": \"scatter\", \"uid\": \"bbb5eb5d-b860-478f-9820-5cf670de8b58\"}, {\"marker\": {\"color\": \"rgba(253,174,97, 0.75)\", \"size\": 0.5}, \"mode\": \"markers\", \"text\": \"160 K\", \"x\": [0.4179045662856262], \"y\": [0.797092073400321], \"type\": \"scatter\", \"uid\": \"be2d3cd8-1756-466b-ad51-1c226585eb7d\"}, {\"marker\": {\"color\": \"rgba(253,174,97, 0.75)\", \"size\": 0.5}, \"mode\": \"markers\", \"text\": \"203 I\", \"x\": [0.6563828403971717], \"y\": [-0.6157609656613037], \"type\": \"scatter\", \"uid\": \"9561ee04-8962-452c-a719-a92000f6812c\"}, {\"marker\": {\"color\": \"rgba(253,174,97, 0.75)\", \"size\": 0.5}, \"mode\": \"markers\", \"text\": \"160 K\", \"x\": [0.2451523754417651], \"y\": [0.8659678474488877], \"type\": \"scatter\", \"uid\": \"56ad3ef5-641d-4820-a175-ccab79953ffb\"}, {\"marker\": {\"color\": \"rgba(253,174,97, 0.75)\", \"size\": 0.5}, \"mode\": \"markers\", \"text\": \"219 F/Y\", \"x\": [0.8337687514945491], \"y\": [-0.3388652667819778], \"type\": \"scatter\", \"uid\": \"a64948a0-be05-479a-81ae-c321ed69b248\"}, {\"marker\": {\"color\": \"rgba(253,174,97, 0.75)\", \"size\": 0.5}, \"mode\": \"markers\", \"text\": \"160 K\", \"x\": [0.463115046029029], \"y\": [0.7717023092757532], \"type\": \"scatter\", \"uid\": \"ff2557b9-3fd8-4195-b7de-eea997625de1\"}, {\"marker\": {\"color\": \"rgba(253,174,97, 0.75)\", \"size\": 0.5}, \"mode\": \"markers\", \"text\": \"225 G\", \"x\": [0.8947327835796177], \"y\": [-0.09722780460274197], \"type\": \"scatter\", \"uid\": \"58b9ba19-fe70-4fbe-a37d-ae44d17329ea\"}, {\"marker\": {\"color\": \"rgba(254,224,139, 0.75)\", \"size\": 0.5}, \"mode\": \"markers\", \"x\": [-0.33924994183524726], \"y\": [-0.8336123061500361], \"type\": \"scatter\", \"uid\": \"0c9af353-e560-4ed2-aaa2-d0aeaf3c7540\"}, {\"marker\": {\"color\": \"rgba(254,224,139, 0.75)\", \"size\": 0.5}, \"mode\": \"markers\", \"text\": \"186 V\", \"x\": [-0.7303724774242856], \"y\": [-0.5258859612321968], \"type\": \"scatter\", \"uid\": \"c2980a55-04ec-455d-b3f9-132a7d7571cd\"}, {\"marker\": {\"color\": \"rgba(254,224,139, 0.75)\", \"size\": 0.5}, \"mode\": \"markers\", \"text\": \"219 F/Y\", \"x\": [0.7917669187319283], \"y\": [-0.4279078713949394], \"type\": \"scatter\", \"uid\": \"de918008-387c-4620-a38d-4b995ea1223e\"}, {\"marker\": {\"color\": \"rgba(254,224,139, 0.75)\", \"size\": 0.5}, \"mode\": \"markers\", \"text\": \"186 V\", \"x\": [-0.8213178629081519], \"y\": [-0.36801761923579995], \"type\": \"scatter\", \"uid\": \"6c8e2f55-5b1e-4c2d-a8e4-b5c1f56896eb\"}, {\"marker\": {\"color\": \"rgba(254,224,139, 0.75)\", \"size\": 0.5}, \"mode\": \"markers\", \"text\": \"225 G\", \"x\": [0.8855062735512236], \"y\": [-0.16086839186560428], \"type\": \"scatter\", \"uid\": \"227d7fcd-33cd-4742-acfd-bd88002b2b59\"}, {\"marker\": {\"color\": \"rgba(217,239,139, 0.75)\", \"size\": 0.5}, \"mode\": \"markers\", \"x\": [0.46890601757459105], \"y\": [-0.7681973357688356], \"type\": \"scatter\", \"uid\": \"3137d6d7-cbe8-45b0-ad4b-90d87ae06789\"}, {\"marker\": {\"color\": \"rgba(217,239,139, 0.75)\", \"size\": 0.5}, \"mode\": \"markers\", \"text\": \"194 P\", \"x\": [-0.06363720033029964], \"y\": [-0.8977473512821529], \"type\": \"scatter\", \"uid\": \"ef6f3828-6929-4bad-9426-1b14a20ae972\"}, {\"marker\": {\"color\": \"rgba(217,239,139, 0.75)\", \"size\": 0.5}, \"mode\": \"markers\", \"text\": \"203 I\", \"x\": [0.6892413537215636], \"y\": [-0.5787455022028823], \"type\": \"scatter\", \"uid\": \"c8c64dc8-b931-4557-9c58-d733263a2265\"}, {\"marker\": {\"color\": \"rgba(217,239,139, 0.75)\", \"size\": 0.5}, \"mode\": \"markers\", \"text\": \"194 P\", \"x\": [-0.16066140086524255], \"y\": [-0.8855438522580448], \"type\": \"scatter\", \"uid\": \"f954ed33-acb6-415b-926b-2edb78ddc93f\"}, {\"marker\": {\"color\": \"rgba(217,239,139, 0.75)\", \"size\": 0.5}, \"mode\": \"markers\", \"text\": \"219 F/Y\", \"x\": [0.7610265077125161], \"y\": [-0.4804567145528218], \"type\": \"scatter\", \"uid\": \"c5d0fc5a-c5be-4162-b26b-1fb982cb51bb\"}, {\"marker\": {\"color\": \"rgba(217,239,139, 0.75)\", \"size\": 0.5}, \"mode\": \"markers\", \"text\": \"194 P\", \"x\": [-0.14582957279509354], \"y\": [-0.8881068267378652], \"type\": \"scatter\", \"uid\": \"a0130c78-d7cc-49b5-9c3b-aeaf4b65b124\"}, {\"marker\": {\"color\": \"rgba(217,239,139, 0.75)\", \"size\": 0.5}, \"mode\": \"markers\", \"text\": \"225 G\", \"x\": [0.8909173983960885], \"y\": [-0.12753897143675458], \"type\": \"scatter\", \"uid\": \"39e2c34c-70b5-4d82-bef7-34929d2fe82c\"}, {\"marker\": {\"color\": \"rgba(166,217,106, 0.75)\", \"size\": 0.5}, \"mode\": \"markers\", \"x\": [0.7219904312199116], \"y\": [-0.5373358514252387], \"type\": \"scatter\", \"uid\": \"4b772997-a76f-4f2b-bf0b-86b61ad1fefe\"}, {\"marker\": {\"color\": \"rgba(166,217,106, 0.75)\", \"size\": 0.5}, \"mode\": \"markers\", \"text\": \"203 I\", \"x\": [0.6392026787363246], \"y\": [-0.6335770951481018], \"type\": \"scatter\", \"uid\": \"029f2e12-db9d-47e8-a049-6dae63f7d915\"}, {\"marker\": {\"color\": \"rgba(166,217,106, 0.75)\", \"size\": 0.5}, \"mode\": \"markers\", \"text\": \"219 F/Y\", \"x\": [0.7542604137836596], \"y\": [-0.491010415570691], \"type\": \"scatter\", \"uid\": \"11c05dc6-f3ed-446e-916d-f47fe5c882a9\"}, {\"marker\": {\"color\": \"rgba(102,189,99, 0.75)\", \"size\": 0.5}, \"mode\": \"markers\", \"x\": [0.8672451550639765], \"y\": [-0.24059476515098865], \"type\": \"scatter\", \"uid\": \"fba4a1e8-8ba0-4a24-bb90-92f1b0770f2e\"}, {\"marker\": {\"color\": \"rgba(26,152,80, 0.75)\", \"size\": 0.5}, \"mode\": \"markers\", \"x\": [0.8984753466523737], \"y\": [-0.0523646011910418], \"type\": \"scatter\", \"uid\": \"c5293a20-617c-406d-a5a4-7797323dcb8a\"}], {\"annotations\": [{\"align\": \"left\", \"showarrow\": false, \"text\": \"138 S\", \"valign\": \"bottom\", \"x\": 1.150535481942735, \"y\": 0.34098109154438283}, {\"align\": \"left\", \"showarrow\": false, \"text\": \"156 R/Q\", \"valign\": \"bottom\", \"x\": 0.8407376225496823, \"y\": 0.8562477737369646}, {\"align\": \"left\", \"showarrow\": false, \"text\": \"160 K\", \"valign\": \"bottom\", \"x\": -0.74553589749091, \"y\": 0.9403064529994587}, {\"align\": \"left\", \"showarrow\": false, \"text\": \"186 V\", \"valign\": \"bottom\", \"x\": -0.7576736208011293, \"y\": -0.9305539663781495}, {\"align\": \"left\", \"showarrow\": false, \"text\": \"194 P\", \"valign\": \"bottom\", \"x\": 0.33695489201310813, \"y\": -1.1517210603042884}, {\"align\": \"left\", \"showarrow\": false, \"text\": \"203 I\", \"valign\": \"bottom\", \"x\": 0.9149815389840685, \"y\": -0.7764076141553132}, {\"align\": \"left\", \"showarrow\": false, \"text\": \"219 F/Y\", \"valign\": \"bottom\", \"x\": 1.1047051135891783, \"y\": -0.4686433740168746}, {\"align\": \"left\", \"showarrow\": false, \"text\": \"225 G\", \"valign\": \"bottom\", \"x\": 1.1926323143244455, \"y\": -0.13277109184275435}], \"height\": 800, \"hovermode\": false, \"margin\": {\"b\": 25, \"l\": 25, \"r\": 25, \"t\": 25}, \"shapes\": [{\"fillcolor\": \"rgba(215,48,39, 0.75)\", \"layer\": \"below\", \"line\": {\"color\": \"rgba(215,48,39, 0.75)\", \"width\": 0.5}, \"path\": \"M 0.9872331575236549, 0.1592818027455565 Q 0.385868335455651, 0.10538324199171889 0.9311481610328193, 0.36464105940664293L 0.9311481610328193, 0.36464105940664293 L 0.9646708386391275, 0.2634581049792972 L 0.9872331575236549, 0.1592818027455565 \", \"type\": \"path\"}, {\"fillcolor\": \"rgba(215,48,39, 0.75)\", \"layer\": \"below\", \"line\": {\"color\": \"rgba(215,48,39, 0.75)\", \"width\": 0.5}, \"path\": \"M 0.9994617034973292, 0.032807060859162206 Q 0.18793002339745557, 0.06842737979662677 0.7865666285393407, 0.6175054160639037L 0.7865666285393407, 0.6175054160639037 L 0.7950670986795154, 0.606521482387341 L 0.8034141965666994, 0.5954205478106083 M 0.8034141965666994, 0.5954205478106083 Q 0.18789807907583267, 0.0685150485631597 0.998107978475786, 0.06148547229207763L 0.998107978475786, 0.06148547229207763 L 0.9988877671716287, 0.04715112506481583 L 0.9994617034973292, 0.032807060859162206 \", \"type\": \"path\"}, {\"fillcolor\": \"rgba(215,48,39, 0.75)\", \"layer\": \"below\", \"line\": {\"color\": \"rgba(215,48,39, 0.75)\", \"width\": 0.5}, \"path\": \"M 0.9311481610328193, 0.36464105940664293 Q 0.11206767461048484, 0.16565275822454179 -0.007960397421748549, 0.9999683155344913L -0.007960397421748549, 0.9999683155344913 L 0.10283173719714139, 0.9946987653681983 L 0.21235876737597592, 0.9771917692646394 M 0.21235876737597592, 0.9771917692646394 Q 0.11278426707496197, 0.16516570194917482 0.8328654376875845, 0.5534755303583604L 0.8328654376875845, 0.5534755303583604 L 0.8870460013283027, 0.46168104956503125 L 0.9311481610328193, 0.36464105940664293 \", \"type\": \"path\"}, {\"fillcolor\": \"rgba(215,48,39, 0.75)\", \"layer\": \"below\", \"line\": {\"color\": \"rgba(215,48,39, 0.75)\", \"width\": 0.5}, \"path\": \"M 0.9943191199097287, 0.10644006661940207 Q -0.057606574896467845, 0.19152410430203726 -0.8880537677279139, -0.4597396063254245L -0.8880537677279139, -0.4597396063254245 L -0.9002185938350395, -0.4354382657893816 L -0.9117185741708207, -0.4108153374837967 M -0.9117185741708207, -0.4108153374837967 Q -0.05750766919260758, 0.1915538252920928 0.9872331575236549, 0.1592818027455565L 0.9872331575236549, 0.1592818027455565 L 0.9911283566317552, 0.13290816634216365 L 0.9943191199097287, 0.10644006661940207 \", \"type\": \"path\"}, {\"fillcolor\": \"rgba(215,48,39, 0.75)\", \"layer\": \"below\", \"line\": {\"color\": \"rgba(215,48,39, 0.75)\", \"width\": 0.5}, \"path\": \"M 0.998107978475786, 0.06148547229207763 Q -0.1383706404989663, 0.14440763777552013 -0.10402699497193994, -0.994574473992324L -0.10402699497193994, -0.994574473992324 L -0.12686854478257314, -0.9919195392494051 L -0.14964300840008182, -0.9887400922572994 M -0.14964300840008182, -0.9887400922572994 Q -0.13830753102243765, 0.14446808250432844 0.9943191199097287, 0.10644006661940207L 0.9943191199097287, 0.10644006661940207 L 0.9964670915203442, 0.08398413848451454 L 0.998107978475786, 0.06148547229207763 \", \"type\": \"path\"}, {\"fillcolor\": \"rgba(215,48,39, 0.75)\", \"layer\": \"below\", \"line\": {\"color\": \"rgba(215,48,39, 0.75)\", \"width\": 0.5}, \"path\": \"M 1.0, 0.0 Q -0.18487473242797062, 0.07629766254405357 0.7089333345156863, -0.7052754973855749L 0.7089333345156863, -0.7052754973855749 L 0.7076390874436242, -0.7065740739101278 L 0.706342461730181, -0.7078702753732126 M 0.706342461730181, -0.7078702753732126 Q -0.1848913154253619, 0.07625746835739651 0.9999915883742385, 0.004101607095691587L 0.9999915883742385, 0.004101607095691587 L 0.9999978970913486, 0.002050807860507386 L 1.0, 0.0 \", \"type\": \"path\"}, {\"fillcolor\": \"rgba(215,48,39, 0.75)\", \"layer\": \"below\", \"line\": {\"color\": \"rgba(215,48,39, 0.75)\", \"width\": 0.5}, \"path\": \"M 0.9999915883742385, 0.004101607095691587 Q -0.19212756264817676, 0.05556077457047301 0.8434537203768565, -0.5372018443587472L 0.8434537203768565, -0.5372018443587472 L 0.8413090726792535, -0.5405543860034572 L 0.8391510994458332, -0.5438983657806387 M 0.8391510994458332, -0.5438983657806387 Q -0.19213432772943345, 0.05553737577486596 0.99992429621721, 0.01230454527876433L 0.99992429621721, 0.01230454527876433 L 0.9999663536384652, 0.008203145189015354 L 0.9999915883742385, 0.004101607095691587 \", \"type\": \"path\"}, {\"fillcolor\": \"rgba(215,48,39, 0.75)\", \"layer\": \"below\", \"line\": {\"color\": \"rgba(215,48,39, 0.75)\", \"width\": 0.5}, \"path\": \"M 0.99992429621721, 0.01230454527876433 Q -0.19950596862803194, 0.014048789335410409 0.9883322495708899, -0.15231337583463908L 0.9883322495708899, -0.15231337583463908 L 0.9869321736582924, -0.1611362299364052 L 0.9854533376299481, -0.16994622488892033 M 0.9854533376299481, -0.16994622488892033 Q -0.1995243497765359, 0.01378527642996518 0.9994617034973292, 0.032807060859162206L 0.9994617034973292, 0.032807060859162206 L 0.9997455587547803, 0.022556988941167977 L 0.99992429621721, 0.01230454527876433 \", \"type\": \"path\"}, {\"fillcolor\": \"rgba(244,109,67, 0.75)\", \"layer\": \"below\", \"line\": {\"color\": \"rgba(244,109,67, 0.75)\", \"width\": 0.5}, \"path\": \"M 0.6524260585264245, 0.757852385465451 Q 0.24373498845434557, 0.3171643980700861 0.5643686313204987, 0.8255228936749283L 0.5643686313204987, 0.8255228936749283 L 0.6093374711358639, 0.7929109951752152 L 0.6524260585264245, 0.757852385465451 \", \"type\": \"path\"}, {\"fillcolor\": \"rgba(244,109,67, 0.75)\", \"layer\": \"below\", \"line\": {\"color\": \"rgba(244,109,67, 0.75)\", \"width\": 0.5}, \"path\": \"M 0.7297293161821417, 0.6837361516728101 Q 0.10924428366956679, 0.16752816624533093 0.331381277328721, 0.943496925822223L 0.331381277328721, 0.943496925822223 L 0.3851667226603791, 0.9228470056055135 L 0.4376736866568466, 0.8991338854743516 M 0.4376736866568466, 0.8991338854743516 Q 0.1099216956152605, 0.16708447214827005 0.6524260585264245, 0.757852385465451L 0.6524260585264245, 0.757852385465451 L 0.6920705700915518, 0.72182984560986 L 0.7297293161821417, 0.6837361516728101 \", \"type\": \"path\"}, {\"fillcolor\": \"rgba(244,109,67, 0.75)\", \"layer\": \"below\", \"line\": {\"color\": \"rgba(244,109,67, 0.75)\", \"width\": 0.5}, \"path\": \"M 0.7865666285393407, 0.6175054160639037 Q -0.11582032026348246, 0.16305107608986935 -0.8420707590805753, -0.5393670704645064L -0.8420707590805753, -0.5393670704645064 L -0.8659779747934585, -0.5000821404255706 L -0.8880537677279139, -0.4597396063254245 M -0.8880537677279139, -0.4597396063254245 Q -0.11543844425003769, 0.1633216629511558 0.7297293161821417, 0.6837361516728101L 0.7297293161821417, 0.6837361516728101 L 0.7588708556661847, 0.6512411415293667 L 0.7865666285393407, 0.6175054160639037 \", \"type\": \"path\"}, {\"fillcolor\": \"rgba(244,109,67, 0.75)\", \"layer\": \"below\", \"line\": {\"color\": \"rgba(244,109,67, 0.75)\", \"width\": 0.5}, \"path\": \"M 0.8104455587417925, 0.5858139604991535 Q -0.19984530712290574, -0.007864681872236243 0.8539758943235758, -0.520312571359033L 0.8539758943235758, -0.520312571359033 L 0.8508545602046911, -0.5254012917560078 L 0.8477029034994928, -0.5304712880057973 M 0.8477029034994928, -0.5304712880057973 Q -0.19984544288246928, -0.007861231399069513 0.8034141965666994, 0.5954205478106083L 0.8034141965666994, 0.5954205478106083 L 0.8069441734599981, 0.5906277177029203 L 0.8104455587417925, 0.5858139604991535 \", \"type\": \"path\"}, {\"fillcolor\": \"rgba(244,109,67, 0.75)\", \"layer\": \"below\", \"line\": {\"color\": \"rgba(244,109,67, 0.75)\", \"width\": 0.5}, \"path\": \"M 0.8150693823308913, 0.5793633592027885 Q -0.1950217146347265, -0.04434558400710616 0.9854533376299481, -0.16994622488892033L 0.9854533376299481, -0.16994622488892033 L 0.9848397766107002, -0.1734664647860969 L 0.9842136406194048, -0.17698448976872833 M 0.9842136406194048, -0.17698448976872833 Q -0.1950041824572708, -0.04442261613380554 0.8104455587417925, 0.5858139604991535L 0.8104455587417925, 0.5858139604991535 L 0.8127638700612275, 0.5825932470627307 L 0.8150693823308913, 0.5793633592027885 \", \"type\": \"path\"}, {\"fillcolor\": \"rgba(253,174,97, 0.75)\", \"layer\": \"below\", \"line\": {\"color\": \"rgba(253,174,97, 0.75)\", \"width\": 0.5}, \"path\": \"M -0.6726838673063658, 0.739930006599105 Q -0.39013003415358116, 0.08830943580006377 -0.9257616952359727, -0.37810750274732435L -0.9257616952359727, -0.37810750274732435 L -0.9551717138627105, -0.2960523552288892 L -0.9773243412175805, -0.21174780297236223 L -0.9920512617170276, -0.12583439166481314 L -0.9992405802716738, -0.03896489109863606 L -0.9988376724648075, 0.04820066457099978 L -0.9908455995885066, 0.13499999176330646 L -0.9753250853839529, 0.2207735895001594 L -0.9523940546626628, 0.30486975029217456 L -0.9222267373141904, 0.3866495118098861 L -0.885052344508049, 0.4654915117172446 L -0.8411533271480636, 0.5407967087804277 L -0.7908632298114108, 0.6119929343809973 L -0.7345641564781139, 0.6785392398510178 L -0.6726838673063658, 0.739930006599105 \", \"type\": \"path\"}, {\"fillcolor\": \"rgba(253,174,97, 0.75)\", \"layer\": \"below\", \"line\": {\"color\": \"rgba(253,174,97, 0.75)\", \"width\": 0.5}, \"path\": \"M -0.007960397421748549, 0.9999683155344913 Q -0.1924861768442659, 0.05430535630928133 -0.5294215692472558, -0.8483588875091562L -0.5294215692472558, -0.8483588875091562 L -0.6205262076497803, -0.7841857086301571 L -0.7039249952170402, -0.7102743139862864 L -0.7785822647863706, -0.6275425539038176 M -0.7785822647863706, -0.6275425539038176 Q -0.19267438451098717, 0.05363377250681024 -0.3423528358643133, 0.939571463900252L -0.3423528358643133, 0.939571463900252 L -0.23342655457669773, 0.9723744359136823 L -0.12147950731257917, 0.9925939397876118 L -0.007960397421748549, 0.9999683155344913 \", \"type\": \"path\"}, {\"fillcolor\": \"rgba(253,174,97, 0.75)\", \"layer\": \"below\", \"line\": {\"color\": \"rgba(253,174,97, 0.75)\", \"width\": 0.5}, \"path\": \"M -0.3423528358643133, 0.939571463900252 Q -0.18812775128499296, -0.06788187678940404 0.3364626047918916, -0.9416968278467627L 0.3364626047918916, -0.9416968278467627 L 0.21464901115866372, -0.976691252140925 L 0.08938747583083159, -0.9959969272867224 L -0.03730990494175316, -0.9993037431097901 M -0.03730990494175316, -0.9993037431097901 Q -0.1878569986121778, -0.06862760430340135 -0.6726838673063658, 0.739930006599105L -0.6726838673063658, 0.739930006599105 L -0.5715224587975418, 0.8205864239006224 L -0.46079428542924816, 0.8875069726575384 L -0.3423528358643133, 0.939571463900252 \", \"type\": \"path\"}, {\"fillcolor\": \"rgba(253,174,97, 0.75)\", \"layer\": \"below\", \"line\": {\"color\": \"rgba(253,174,97, 0.75)\", \"width\": 0.5}, \"path\": \"M 0.49058865393148243, 0.8713912856080764 Q -0.19728002890010735, -0.03287233178788525 0.746633391154621, -0.6652357320626656L 0.746633391154621, -0.6652357320626656 L 0.7293142671079685, -0.6841788507347818 L 0.7115146753418734, -0.7026712366200487 M 0.7115146753418734, -0.7026712366200487 Q -0.19713988791011217, -0.033702590327575985 0.4376736866568466, 0.8991338854743516L 0.4376736866568466, 0.8991338854743516 L 0.4643384069840291, 0.8856578593336899 L 0.49058865393148243, 0.8713912856080764 \", \"type\": \"path\"}, {\"fillcolor\": \"rgba(253,174,97, 0.75)\", \"layer\": \"below\", \"line\": {\"color\": \"rgba(253,174,97, 0.75)\", \"width\": 0.5}, \"path\": \"M 0.331381277328721, 0.943496925822223 Q -0.17988435794624666, -0.08741634724847872 0.9465834277757029, -0.32245901175250247L 0.9465834277757029, -0.32245901175250247 L 0.9264097238828323, -0.37651696309108645 L 0.9031517792809078, -0.4293213989329327 M 0.9031517792809078, -0.4293213989329327 Q -0.17951721566512532, -0.08816784719976375 0.21235876737597592, 0.9771917692646394L 0.21235876737597592, 0.9771917692646394 L 0.2723915282686279, 0.9621864971654307 L 0.331381277328721, 0.943496925822223 \", \"type\": \"path\"}, {\"fillcolor\": \"rgba(253,174,97, 0.75)\", \"layer\": \"below\", \"line\": {\"color\": \"rgba(253,174,97, 0.75)\", \"width\": 0.5}, \"path\": \"M 0.5381598487427649, 0.8428427950698543 Q -0.1793200887630043, -0.0885680854824596 0.9963883492448801, -0.08491323506416988L 0.9963883492448801, -0.08491323506416988 L 0.9941475373106864, -0.10803089400304663 L 0.9913704350792941, -0.13109027595779574 M 0.9913704350792941, -0.13109027595779574 Q -0.1789181942335994, -0.08937717702069138 0.49058865393148243, 0.8713912856080764L 0.49058865393148243, 0.8713912856080764 L 0.5145722733655878, 0.8574470103063925 L 0.5381598487427649, 0.8428427950698543 \", \"type\": \"path\"}, {\"fillcolor\": \"rgba(254,224,139, 0.75)\", \"layer\": \"below\", \"line\": {\"color\": \"rgba(254,224,139, 0.75)\", \"width\": 0.5}, \"path\": \"M -0.5294215692472558, -0.8483588875091562 Q -0.15077775192677656, -0.3704943582889049 -0.21341739696073586, -0.9769611121608186L -0.21341739696073586, -0.9769611121608186 L -0.3234317648649694, -0.9462514958911986 L -0.4292265637988229, -0.9031968539191526 L -0.5294215692472558, -0.8483588875091562 \", \"type\": \"path\"}, {\"fillcolor\": \"rgba(254,224,139, 0.75)\", \"layer\": \"below\", \"line\": {\"color\": \"rgba(254,224,139, 0.75)\", \"width\": 0.5}, \"path\": \"M -0.8420707590805753, -0.5393670704645064 Q 0.01258607995030555, -0.19960358361383324 0.9031517792809078, -0.4293213989329327L 0.9031517792809078, -0.4293213989329327 L 0.8797410208132537, -0.47545319043882156 L 0.8539758943235758, -0.520312571359033 M 0.8539758943235758, -0.520312571359033 Q 0.013108191534818323, -0.19956997598508278 -0.7785822647863706, -0.6275425539038176L -0.7785822647863706, -0.6275425539038176 L -0.8115249749158728, -0.5843177347024409 L -0.8420707590805753, -0.5393670704645064 \", \"type\": \"path\"}, {\"fillcolor\": \"rgba(254,224,139, 0.75)\", \"layer\": \"below\", \"line\": {\"color\": \"rgba(254,224,139, 0.75)\", \"width\": 0.5}, \"path\": \"M -0.9134282440492267, -0.40699980709227157 Q 0.024066079566694716, -0.19854677991417924 0.9842136406194048, -0.17698448976872833L 0.9842136406194048, -0.17698448976872833 L 0.9838958595013595, -0.1787426576284492 L 0.9835749376509082, -0.18050025491675062 M 0.9835749376509082, -0.18050025491675062 Q 0.024126411716301276, -0.19853945768460113 -0.9117185741708207, -0.4108153374837967L -0.9117185741708207, -0.4108153374837967 L -0.9125754032312798, -0.4089084658175555 L -0.9134282440492267, -0.40699980709227157 \", \"type\": \"path\"}, {\"fillcolor\": \"rgba(217,239,139, 0.75)\", \"layer\": \"below\", \"line\": {\"color\": \"rgba(217,239,139, 0.75)\", \"width\": 0.5}, \"path\": \"M 0.3364626047918916, -0.9416968278467627 Q 0.20840267447759603, -0.34142103811948254 0.6837591816858805, -0.7297077370154815L 0.6837591816858805, -0.7297077370154815 L 0.6055572527291556, -0.7958017426891686 L 0.52100668619399, -0.8535525952987063 L 0.4309939067769158, -0.9023548372570356 L 0.3364626047918916, -0.9416968278467627 \", \"type\": \"path\"}, {\"fillcolor\": \"rgba(217,239,139, 0.75)\", \"layer\": \"below\", \"line\": {\"color\": \"rgba(217,239,139, 0.75)\", \"width\": 0.5}, \"path\": \"M -0.10402699497193994, -0.994574473992324 Q 0.07764783885061532, -0.1843117281179602 0.78435510783524, -0.6203120705038465L 0.78435510783524, -0.6203120705038465 L 0.7658237263572929, -0.6430505580032025 L 0.746633391154621, -0.6652357320626656 M 0.746633391154621, -0.6652357320626656 Q 0.07840543629737406, -0.18399072682887696 -0.03730990494175316, -0.9993037431097901L -0.03730990494175316, -0.9993037431097901 L -0.0707080003669996, -0.9974970569801699 L -0.10402699497193994, -0.994574473992324 \", \"type\": \"path\"}, {\"fillcolor\": \"rgba(217,239,139, 0.75)\", \"layer\": \"below\", \"line\": {\"color\": \"rgba(217,239,139, 0.75)\", \"width\": 0.5}, \"path\": \"M -0.18262499823564948, -0.9831826432659544 Q 0.08045347669626404, -0.18310444584303165 0.8477029034994928, -0.5304712880057973L 0.8477029034994928, -0.5304712880057973 L 0.8455850085694623, -0.5338407939475798 L 0.8434537203768565, -0.5372018443587472 M 0.8434537203768565, -0.5372018443587472 Q 0.08049032077016244, -0.1830882526606127 -0.1743972163970778, -0.9846753835213669L -0.1743972163970778, -0.9846753835213669 L -0.17851266762804727, -0.9839376136200497 L -0.18262499823564948, -0.9831826432659544 \", \"type\": \"path\"}, {\"fillcolor\": \"rgba(217,239,139, 0.75)\", \"layer\": \"below\", \"line\": {\"color\": \"rgba(217,239,139, 0.75)\", \"width\": 0.5}, \"path\": \"M -0.1743972163970778, -0.9846753835213669 Q 0.11815467726240443, -0.16136750676953848 0.9913704350792941, -0.13109027595779574L 0.9913704350792941, -0.13109027595779574 L 0.9899082204400983, -0.14170996826306065 L 0.9883322495708899, -0.15231337583463908 M 0.9883322495708899, -0.15231337583463908 Q 0.11844869333180763, -0.16115181366645365 -0.14964300840008182, -0.9887400922572994L -0.14964300840008182, -0.9887400922572994 L -0.16203285866121503, -0.9867853630420724 L -0.1743972163970778, -0.9846753835213669 \", \"type\": \"path\"}, {\"fillcolor\": \"rgba(166,217,106, 0.75)\", \"layer\": \"below\", \"line\": {\"color\": \"rgba(166,217,106, 0.75)\", \"width\": 0.5}, \"path\": \"M 0.78435510783524, -0.6203120705038465 Q 0.4011057951221731, -0.2985199174584659 0.8193778089580153, -0.5732538758588225L 0.8193778089580153, -0.5732538758588225 L 0.8022115902443462, -0.5970398349169318 L 0.78435510783524, -0.6203120705038465 \", \"type\": \"path\"}, {\"fillcolor\": \"rgba(166,217,106, 0.75)\", \"layer\": \"below\", \"line\": {\"color\": \"rgba(166,217,106, 0.75)\", \"width\": 0.5}, \"path\": \"M 0.7089333345156863, -0.7052754973855749 Q 0.1556472933680183, -0.12559426765266818 0.8391510994458332, -0.5438983657806387L 0.8391510994458332, -0.5438983657806387 L 0.8380671264262884, -0.5455671284118788 L 0.8369798348568405, -0.5472337307248303 M 0.8369798348568405, -0.5472337307248303 Q 0.15562763463968993, -0.12561862655058442 0.7115146753418734, -0.7026712366200487L 0.7115146753418734, -0.7026712366200487 L 0.7102251985959163, -0.7039745501645576 L 0.7089333345156863, -0.7052754973855749 \", \"type\": \"path\"}, {\"fillcolor\": \"rgba(102,189,99, 0.75)\", \"layer\": \"below\", \"line\": {\"color\": \"rgba(102,189,99, 0.75)\", \"width\": 0.5}, \"path\": \"M 0.9465834277757029, -0.32245901175250247 Q 0.4818028639244314, -0.13366375841721592 0.9774199527726676, -0.21130602433881582L 0.9774199527726676, -0.21130602433881582 L 0.9636057278488628, -0.26732751683443184 L 0.9465834277757029, -0.32245901175250247 \", \"type\": \"path\"}, {\"fillcolor\": \"rgba(26,152,80, 0.75)\", \"layer\": \"below\", \"line\": {\"color\": \"rgba(26,152,80, 0.75)\", \"width\": 0.5}, \"path\": \"M 0.9963883492448801, -0.08491323506416988 Q 0.49915297036242984, -0.02909144510613433 0.9995065603657316, -0.031410759078128354L 0.9995065603657316, -0.031410759078128354 L 0.9983059407248597, -0.05818289021226866 L 0.9963883492448801, -0.08491323506416988 \", \"type\": \"path\"}, {\"fillcolor\": \"rgba(215,48,39, 0.75)\", \"layer\": \"below\", \"line\": {\"color\": \"rgba(215,48,39, 0.75)\", \"width\": 0.45}, \"path\": \"M 1.1, 0.0 L 1.0999417639690854, 0.011318828410097063 L 1.099767062042587, 0.022636458340846474 L 1.09947591271859, 0.033951691439799994 L 1.0990683468250604, 0.04526332960829479 L 1.0985444075165793, 0.05657017512831255 L 1.0979041502697757, 0.06787103078929825 L 1.0971476428774511, 0.07916470001492529 L 1.0962749654414017, 0.09044998698979337 L 1.0952862103639367, 0.10172569678604586 L 1.0941814823380946, 0.11299063548989316 L 1.0929608983365586, 0.12424361032802866 L 1.0916245875992694, 0.13548342979392414 L 1.0901726916197425, 0.14670890377399068 L 1.0886053641300852, 0.15791884367359235 L 1.08692277108472, 0.16911206254289918 L 1.0851250906428114, 0.18028737520256538 L 1.0832125131494026, 0.19144359836922098 L 1.081185241115261, 0.20257955078076192 L 1.0790434891954352, 0.21369405332142655 L 1.0767874841665275, 0.22478592914664475 L 1.0744174649026805, 0.23585400380764662 L 1.0719336823502854, 0.24689710537581733 L 1.0693363995014105, 0.25791406456678545 L 1.0666258913659543, 0.26890371486423087 L 1.063802444942527, 0.27986489264340014 L 1.0608663591880618, 0.29079643729431487 L 1.05781794498616, 0.30169719134466205 L 1.0546575251141737, 0.31256600058235096 L 1.0513854342090292, 0.32340171417772556 L 1.048002018731794, 0.33420318480541894 L 1.044507636930992, 0.34496926876583567 L 1.040902658804672, 0.3556988261062514 L 1.037187466061229, 0.36639072074151546 L 1.03336245207899, 0.3770438205743431 L 1.029428021864559, 0.38765699761518685 L 1.025384592009936, 0.39822912810167144 L 1.0212325906484039, 0.40875909261758286 L 1.0169724574091987, 0.4192457762113954 L 1.012604643370959, 0.4296880685143273 L 1.008129611013963, 0.44008486385791074 L 1.0035478341711614, 0.45043506139106365 L 0.998859797978005, 0.4607375651966524 L 0.9940659988210764, 0.47099128440753135 L 0.9891669442855321, 0.48119513332204783 L 0.9841631531013564, 0.49134803151900036 L 0.9790551550884365, 0.5014489039720376 L 0.973843491100464, 0.5114966811634858 L 0.9685287129676664, 0.521490299197594 L 0.9631113834383772, 0.5314286999131825 L 0.9575920761194513, 0.5413108309956852 L 0.9519713754155278, 0.5511356460885728 L 0.9462498764671521, 0.5609021049041443 L 0.9404281850877599, 0.5706091733336769 L 0.9345069176995318, 0.5802558235569213 L 0.928486701268123, 0.5898410341509308 L 0.9223681732362796, 0.5993637901982138 L 0.916151981456343, 0.6088230833941964 L 0.8328654376875845, 0.5534755303583604 L 0.8385165211238905, 0.544876172907467 L 0.8440788193346572, 0.5362191219553916 L 0.8495517433632106, 0.5275052941426557 L 0.8549347137161454, 0.5187356121215244 L 0.8602271604246836, 0.5099110044583129 L 0.8654285231050252, 0.5010324055350661 L 0.8705382510176829, 0.49210075545062293 L 0.8755558031257974, 0.483116999921075 L 0.8804806481524239, 0.4740820901796309 L 0.8853122646367854, 0.46499698287589614 L 0.8900501409894876, 0.4558626399745796 L 0.8946937755466875, 0.44668002865363665 L 0.8992426766232109, 0.4374501212018616 L 0.9036963625646148, 0.42817389491593755 L 0.9080543617981862, 0.41885233199695665 L 0.9123162128828739, 0.40948641944642145 L 0.9164814645581482, 0.400077148961737 L 0.9205496757917808, 0.3906255168312066 L 0.9245204158265443, 0.38113252382854124 L 0.9283932642258217, 0.3715991751068935 L 0.9321678109181235, 0.36202648009242855 L 0.9358436562405082, 0.35241545237744254 L 0.9394204109808999, 0.34276710961303913 L 0.942897696419299, 0.33308247340137764 L 0.9462751443678834, 0.3233625691875013 L 0.9495523972099926, 0.3136084261507597 L 0.9527291079379944, 0.3038210770958354 L 0.9558049401900265, 0.29400155834338687 L 0.9587795682856124, 0.284150909620319 L 0.9616526772601454, 0.2742701739496928 L 0.964423962898238, 0.26436039754028623 L 0.9670931317659336, 0.2544226296758183 L 0.9696599012417766, 0.24445792260384624 L 0.9721239995467368, 0.2344673314243504 L 0.9744851657729867, 0.22445191397801573 L 0.9767431499115277, 0.21441273073422418 L 0.9788977128786613, 0.20435084467876793 L 0.9809486265413048, 0.19426732120129683 L 0.9828956737411462, 0.18416322798251084 L 0.9847386483176386, 0.17403963488110996 L 0.9864773551298285, 0.16389761382051396 L 0.9881116100770182, 0.15373823867536288 L 0.9896412401182593, 0.14356258515781123 L 0.9910660832906749, 0.13337173070362787 L 0.9923859887266084, 0.12316675435811285 L 0.9936008166695987, 0.11294873666184423 L 0.994710438489177, 0.1027187595362665 L 0.9957147366944877, 0.0924779061691326 L 0.9966136049467287, 0.08222726089981215 L 0.9974069480704101, 0.07196790910447753 L 0.9980946820634324, 0.06170093708118023 L 0.9986767341059811, 0.051427431934829584 L 0.9991530425682366, 0.04114848146208617 L 0.9995235570169, 0.03086517403618181 L 0.9997882382205335, 0.02057859849167861 L 0.9999470581537139, 0.010289844009179148 L 1.0, 0.0 L 1.1 ,0.0\", \"type\": \"path\"}, {\"fillcolor\": \"rgba(244,109,67, 0.75)\", \"layer\": \"below\", \"line\": {\"color\": \"rgba(244,109,67, 0.75)\", \"width\": 0.45}, \"path\": \"M 0.8965763205639805, 0.6372996951230674 L 0.8899080107392033, 0.646578481255133 L 0.8831436774659959, 0.6557874998441471 L 0.8762840506339641, 0.6649257572124367 L 0.8693298704151431, 0.673992267317653 L 0.8622818871841305, 0.6829860518591683 L 0.8551408614371195, 0.6919061403836371 L 0.847907563709839, 0.7007515703897107 L 0.84058277449441, 0.709521387431894 L 0.8331672841551304, 0.7182146452235323 L 0.8256618928431901, 0.7268304057389183 L 0.8180674104103346, 0.7353677393145074 L 0.8103846563214787, 0.7438257247492311 L 0.8026144595662844, 0.7522034494038972 L 0.7947576585697108, 0.7605000092996654 L 0.7868151011015454, 0.7687145092155899 L 0.7787876441849281, 0.776846062785215 L 0.7706761540038756, 0.7848937925922176 L 0.7624815058098178, 0.7928568302650819 L 0.7542045838271565, 0.8007343165707997 L 0.7458462811578548, 0.8085254015075832 L 0.7374074996850684, 0.8162292443965826 L 0.7288891499758309, 0.8238450139725984 L 0.7202921511828013, 0.8313718884737761 L 0.7116174309450839, 0.838809055730277 L 0.7028659252881349, 0.8461557132519133 L 0.6940385785227612, 0.8534110683147398 L 0.6851363431432284, 0.8605743380465889 L 0.6761601797244831, 0.8676447495115469 L 0.6671110568185045, 0.8746215397933543 L 0.6579899508497951, 0.8815039560777277 L 0.648797846010022, 0.8882912557335888 L 0.6395357341518199, 0.8949827063931979 L 0.6302046146817675, 0.9015775860311775 L 0.6208054944525486, 0.9080751830424212 L 0.5643686313204987, 0.8255228936749283 L 0.572913286074334, 0.8196159873010704 L 0.5813961219561998, 0.8136206421756343 L 0.5898162236454745, 0.8075375052123533 L 0.5981726825907228, 0.8013672327979342 L 0.6064645971077313, 0.7951104907212312 L 0.6146910724768028, 0.7887679541014062 L 0.6228512210392985, 0.7823403073150808 L 0.6309441622934192, 0.7758282439224906 L 0.6389690229892134, 0.7692324665926484 L 0.6469249372228035, 0.7625536870275245 L 0.6548110465298194, 0.7557926258852509 L 0.662626499978028, 0.7489500127023621 L 0.670370454259153, 0.7420265858150751 L 0.6780420737798679, 0.735023092279621 L 0.6856405307519604, 0.7279402877916361 L 0.6931650052816525, 0.7207789366046199 L 0.7006146854580686, 0.7135398114474705 L 0.7079887674408436, 0.7062236934411045 L 0.7152864555468594, 0.6988313720141726 L 0.7225069623361007, 0.6913636448178776 L 0.7296495086966222, 0.6838213176399065 L 0.736713323928617, 0.6762052043174828 L 0.7436976458275768, 0.6685161266495521 L 0.7506017207665364, 0.6607549143081075 L 0.7574248037773912, 0.6529224047486657 L 0.7641661586312818, 0.6450194431199036 L 0.7708250579180354, 0.6370468821724642 L 0.7774007831246541, 0.6290055821669427 L 0.7838926247128458, 0.6208964107810621 L 0.7902998821955846, 0.6127202430160482 L 0.7966218642126945, 0.6044779611022152 L 0.8028578886054507, 0.59617045440377 L 0.8090072824901848, 0.587798619322848 L 0.8150693823308913, 0.5793633592027885 L 0.8965763205639805 ,0.6372996951230674\", \"type\": \"path\"}, {\"fillcolor\": \"rgba(253,174,97, 0.75)\", \"layer\": \"below\", \"line\": {\"color\": \"rgba(253,174,97, 0.75)\", \"width\": 0.45}, \"path\": \"M 0.5919758336170414, 0.9271270745768397 L 0.5453336076545716, 0.9553068911938456 L 0.4973530161519863, 0.9811421799741984 L 0.4481518137632445, 1.0045695355826367 L 0.39785075078300053, 1.0255314622679321 L 0.34657327679950445, 1.0439765149697835 L 0.29444523772285713, 1.0598594255760196 L 0.2415945669321764, 1.0731412140202492 L 0.18815097129966962, 1.0837892839472953 L 0.13424561286217135, 1.0917775027116379 L 0.08001078692139714, 1.0970862655125253 L 0.025579597362921477, 1.0997025435083576 L -0.02891437000928122, 1.0996199157922553 L -0.0833373753210291, 1.096838585150341 L -0.13755585285424307, 1.0913653775640595 L -0.1914367388458444, 1.0832137254577547 L -0.24484779805474421, 1.072403634732624 L -0.29765794829546427, 1.0589616356679477 L -0.34973758214191036, 1.0429207178100983 L -0.40095888501177307, 1.024320249009125 L -0.45119614885090203, 1.003205878801612 L -0.5003260806478119, 0.9796294263769334 L -0.548228105021154, 0.9536487534018564 L -0.5947846601375425, 0.9253276220156125 L -0.6398814862334853, 0.8947355383439434 L -0.6834079060333342, 0.8619475819161706 L -0.725257096375033, 0.8270442214039443 L -0.7653263503770529, 0.7901111171338755 L -0.8035173295030898, 0.7512389108587382 L -0.8397363049059049, 0.7105230033031846 L -0.8738943874580057, 0.6680633200299184 L -0.90590774590461, 0.6239640662009543 L -0.9356978126035133, 0.5783334708358153 L -0.9631914763469194, 0.5312835211943261 L -0.9883212617920123, 0.4829296879358784 L -1.0110254950599074, 0.43339064172968644 L -1.0312484550965666, 0.3827879620115353 L -1.0489405104242089, 0.3312458386017857 L -1.064058240947589, 0.27889076691694675 L -1.0765645445162195, 0.2258512375228107 L -1.0864287279809977, 0.17225742079106998 L -1.093626582521771, 0.11824084743333123 L -1.098140443060971, 0.06393408569655605 L -1.099959231617498, 0.009470416012180637 L -1.0990784844944612, -0.045016496102633474 L -1.095500363234048, -0.09939292808881654 L -1.089233649312636, -0.15352542852921083 L -1.0802937225891667, -0.20728114466695016 L -1.0687025235596777, -0.2605281484545896 L -1.0544884995106225, -0.31313576033381385 L -1.0376865347031339, -0.36497486995107215 L -1.01833786475957, -0.41591825302205726 L -0.9257616952359726, -0.37810750274732474 L -0.943351395184667, -0.3317953363191565 L -0.9586259086460205, -0.28466887303073984 L -0.971547748690616, -0.23684377132235415 L -0.9820852023537877, -0.18843740424268196 L -0.9902124084660326, -0.13956857139019166 L -0.9959094211218619, -0.09035720735346958 L -0.9991622586313283, -0.040924087366030426 L -0.999962937834089, 0.008609469101982396 L -0.9983094936917917, 0.05812189608777823 L -0.9942059841107008, 0.10749167948484656 L -0.987662479982725, 0.15659765526460906 L -0.9786950404692903, 0.2053193068389188 L -0.9673256735887172, 0.25353706083358796 L -0.9535822822038262, 0.30113258054707787 L -0.9374985955423333, 0.347989056374123 L -0.9191140864180976, 0.3939914924815331 L -0.8984738743563747, 0.4390269890326167 L -0.8756286148608358, 0.48298501926756915 L -0.8506343750941029, 0.5257577007598321 L -0.8235524962769181, 0.5672400601826857 L -0.7944494431436415, 0.6073302909362894 L -0.7633966408235499, 0.645930003002895 L -0.7304702995482635, 0.6829444644170346 L -0.6957512276155026, 0.7182828337580686 L -0.6593246330682118, 0.7518583830944947 L -0.6212799145757584, 0.7835887108328823 L -0.5817104420304411, 0.8133959439490394 L -0.5407133273977659, 0.8412069291051022 L -0.4983891863828673, 0.8669534121835057 L -0.4548418914980108, 0.8905722057972121 L -0.4101783171371836, 0.9120053443651018 L -0.36450807728343004, 0.9312002263719318 L -0.31794325649264576, 0.9481097434637257 L -0.2705981348140584, 0.9626923960617705 L -0.22258890732249473, 0.9749123952114763 L -0.1740333989507676, 0.9847397504161406 L -0.12505077532203915, 0.9921503432400539 L -0.07576125029184463, 0.99712598650031 L -0.02628579091752838, 0.9996544689020501 L 0.023254179420837705, 0.9997295850075977 L 0.07273707901945194, 0.9973511504659319 L 0.12204146623833757, 0.9925250024651252 L 0.1710463375451542, 0.985262985406632 L 0.21963142448379672, 0.9755829218365901 L 0.26767748883896103, 0.9635085687054723 L 0.31506661527227675, 0.9490695590634394 L 0.3616825007118186, 0.9323013293344836 L 0.40741073978476766, 0.9132450323478515 L 0.45213910559271475, 0.8919474363401803 L 0.49575782514051964, 0.8684608101762232 L 0.5381598487427649, 0.8428427950698543 L 0.5919758336170414 ,0.9271270745768397\", \"type\": \"path\"}, {\"fillcolor\": \"rgba(254,224,139, 0.75)\", \"layer\": \"below\", \"line\": {\"color\": \"rgba(254,224,139, 0.75)\", \"width\": 0.45}, \"path\": \"M -1.0047710684541495, -0.44769978780149877 L -1.0001615123049503, -0.45790495662732744 L -0.995448308443978, -0.46806267231645704 L -0.990631945305139, -0.4781718822149169 L -0.9857129220128372, -0.48823153869543745 L -0.9806917483302483, -0.4982405992660185 L -0.975568944606492, -0.508198026677963 L -0.970345041722708, -0.5181027890333695 L -0.9650205810370409, -0.5279538598920667 L -0.9595961143285386, -0.537750218377985 L -0.9540722037399693, -0.5474908492849527 L -0.9484494217195683, -0.5571747431819004 L -0.9427283509617136, -0.5668008965174706 L -0.9369095843465411, -0.5763683117240155 L -0.9309937248785024, -0.5858759973209787 L -0.9249813856238773, -0.5953229680176401 L -0.9188731896472393, -0.6047082448152241 L -0.9126697699468874, -0.6140308551083534 L -0.9063717693892477, -0.6232898327858434 L -0.899979840642253, -0.6324842183308174 L -0.893494646107706, -0.6416130589201451 L -0.8869168578526329, -0.6506754085231843 L -0.8802471575396381, -0.6596703279998181 L -0.8734862363562624, -0.6685968851977788 L -0.8666347949433538, -0.6774541550492487 L -0.8596935433224593, -0.6862412196667255 L -0.8526632008222461, -0.6949571684381436 L -0.8455444960039562, -0.7036010981212408 L -0.8383381665859035, -0.7121721129371651 L -0.8310449593670255, -0.7206693246633015 L -0.8236656301494908, -0.729091852725322 L -0.8162009436603743, -0.7374388242884387 L -0.8086516734724079, -0.7457093743478584 L -0.8010186019238151, -0.7539026458184218 L -0.7933025200372362, -0.762017789623425 L -0.7855042274377526, -0.7700539647826116 L -0.777624532270023, -0.7780103384993209 L -0.7696642511145334, -0.7858860862467949 L -0.7616242089029741, -0.793680391853622 L -0.7535052388327507, -0.801392447588321 L -0.7453081822806403, -0.8090214542430428 L -0.7370338887155989, -0.8165666212163967 L -0.7286832156107278, -0.8240271665953798 L -0.7202570283544154, -0.831402317236407 L -0.7117562001606551, -0.8386913088454331 L -0.703181611978553, -0.8458933860571578 L -0.6945341524010353, -0.8530078025133039 L -0.685814717572762, -0.8600338209399633 L -0.6770242110972564, -0.8669707132240038 L -0.6681635439432683, -0.87381776048852 L -0.6592336343503655, -0.8805742531673344 L -0.6502354077337783, -0.887239491078529 L -0.641169796588496, -0.8938127834970067 L -0.632037740392632, -0.900293449226071 L -0.6228401855100666, -0.9066808166680191 L -0.6135780850923697, -0.9129742238937422 L -0.6042523989800306, -0.9191730187113186 L -0.5948640936029853, -0.9252765587336031 L -0.5854141418804651, -0.9312842114447978 L -0.5759035231201722, -0.937195354266 L -0.5663332229167932, -0.9430093746197213 L -0.556704233049861, -0.9487256699933686 L -0.5470175513809736, -0.9543436480016849 L -0.537274181750389, -0.9598627264481366 L -0.5274751338729928, -0.9652823333852477 L -0.5176214232336619, -0.9706019071738725 L -0.5077140709820283, -0.9758208965413973 L -0.4977541038266565, -0.98093876063887 L -0.48774255392864574, -0.9859549690970487 L -0.4776804587946623, -0.9908690020813655 L -0.46756886116942736, -0.9956803503457949 L -0.45740880892765245, -1.0003885152856298 L -0.44720135496544816, -1.0049930089891508 L -0.43694755709121175, -1.0094933542881908 L -0.4266484779160051, -1.013889084807582 L -0.4163051847434362, -1.018179745013489 L -0.4059187494590502, -1.0223648902606157 L -0.39549024841925395, -1.0264440868382831 L -0.38502076233976845, -1.0304169120153763 L -0.3745113761836345, -1.034282954084152 L -0.3639631790487765, -1.0380418124029054 L -0.3533772640551386, -1.0416930974374867 L -0.3427547282314041, -1.045236430801671 L -0.3320966724013062, -1.048671445296371 L -0.32140420106955314, -1.0519977849476883 L -0.31067842230736464, -1.0552151050438043 L -0.29992044763764186, -1.0583230721707038 L -0.28913139191977905, -1.0613213642467259 L -0.27831237323412983, -1.064209670555942 L -0.26746451276614025, -1.0669876917803558 L -0.2565889346901557, -1.069655140030922 L -0.24568676605292689, -1.07221173887738 L -0.23475913665680948, -1.0746572233769005 L -0.21341739696073586, -0.9769611121608186 L -0.22335160550266078, -0.9747379444339817 L -0.23326266790014152, -0.9724137636644744 L -0.2431495570601275, -0.9699888107094142 L -0.25301124839466343, -0.9674633368690381 L -0.2628467199270718, -0.9648376038606598 L -0.2726549523978562, -0.9621118837915488 L -0.2824349293703315, -0.9592864591307311 L -0.29218563733595737, -0.9563616226797165 L -0.30190606581936924, -0.9533376775421554 L -0.31159520748309466, -0.9502149370924281 L -0.32125205823194414, -0.9469937249431696 L -0.33087561731706955, -0.943674374911732 L -0.3404648874396677, -0.9402572309855928 L -0.3500188748543349, -0.9367426472867056 L -0.35953658947204903, -0.9331309880348028 L -0.3690170449627729, -0.9294226275096507 L -0.37845925885766923, -0.9256179500122628 L -0.3878622526509137, -0.9217173498250746 L -0.3972250519011016, -0.9177212311710824 L -0.40654668633222557, -0.9136300081719553 L -0.4158261899342295, -0.9094441048051178 L -0.4250626010631158, -0.9051639548598135 L -0.4342549625406021, -0.9007900018921504 L -0.4434023217533143, -0.8963226991791351 L -0.4525037307515059, -0.8917625096716999 L -0.4615582463472984, -0.8871099059467247 L -0.47056493021241985, -0.8823653701580658 L -0.47952284897544795, -0.8775293939865888 L -0.4884310743185354, -0.872602478589215 L -0.49728868307361235, -0.8675851345469863 L -0.5060947573180554, -0.8624778818121532 L -0.514848384469812, -0.8572812496542921 L -0.5235486573819748, -0.8519957766054544 L -0.5321946744367865, -0.8466220104043616 L -0.5407855396390775, -0.8411605079396391 L -0.5493203627091187, -0.8356118351921078 L -0.5577982591748815, -0.8299765671761292 L -0.5662183504636968, -0.8242552878800173 L -0.5745797639933018, -0.8184485902055191 L -0.582881633262269, -0.8125570759063696 L -0.5911230979397984, -0.8065813555259354 L -0.5993033039548777, -0.8005220483339403 L -0.6074214035847892, -0.7943797822622909 L -0.6154765555429603, -0.7881551938400033 L -0.6234679250661472, -0.7818489281272393 L -0.6313946840009411, -0.775461638648458 L -0.6392560108895936, -0.7689939873246888 L -0.6470510910551409, -0.7624466444049391 L -0.6547791166858321, -0.7558202883967335 L -0.6624392869188434, -0.7491156059957997 L -0.6700308079232717, -0.742333292014906 L -0.6775528929824003, -0.7354740493118571 L -0.6850047625752278, -0.7285385887166553 L -0.6923856444572491, -0.7215276289578382 L -0.6996947737404848, -0.7144418965879953 L -0.7069313929727482, -0.7072821259084735 L -0.7140947522161387, -0.7000490588932832 L -0.7211841091247602, -0.6927434451122045 L -0.7281987290216501, -0.6853660416531107 L -0.7351378849749162, -0.6779176130435076 L -0.7420008578730675, -0.6703989311713078 L -0.748786936499537, -0.6628107752048381 L -0.7554954176063867, -0.6551539315120922 L -0.7621256059871849, -0.6474291935792409 L -0.768676814549051, -0.6396373619284007 L -0.77514836438386, -0.6317792440346759 L -0.7815395848385993, -0.6238556542424777 L -0.787849813584867, -0.6158674136811351 L -0.7940783966875112, -0.6078153501797989 L -0.8002246886723983, -0.5997002981816527 L -0.8062880525933025, -0.5915230986574402 L -0.8122678600979145, -0.5832845990183136 L -0.8181634914929572, -0.5749856530280157 L -0.823974335808407, -0.566627120714403 L -0.8296997908608067, -0.5582098682803213 L -0.835339263315672, -0.54973476801384 L -0.8408921687489793, -0.5412026981978546 L -0.8463579317077294, -0.5326145430190715 L -0.8517359857695828, -0.5239711924763777 L -0.8570257736015577, -0.5152735422886096 L -0.8622267470177892, -0.5065224938017276 L -0.8673383670363356, -0.49771895389541154 L -0.872360103935035, -0.4888638348890772 L -0.8772914373064008, -0.4799580544473333 L -0.8821318561115526, -0.47100253548488136 L -0.8868808587331745, -0.4619982060708754 L -0.8915379530274984, -0.45294599933274404 L -0.8961026563753065, -0.44384685335948854 L -0.9005744957319445, -0.43470171110446987 L -0.9049530076763436, -0.4255115202876882 L -0.9092377384590458, -0.4162772332975704 L -0.9134282440492267, -0.40699980709227157 L -1.0047710684541495 ,-0.44769978780149877\", \"type\": \"path\"}, {\"fillcolor\": \"rgba(217,239,139, 0.75)\", \"layer\": \"below\", \"line\": {\"color\": \"rgba(217,239,139, 0.75)\", \"width\": 0.45}, \"path\": \"M -0.20088749805921444, -1.08150090759255 L -0.18986762809699834, -1.0834898632662975 L -0.1788280819675332, -1.0853665358300917 L -0.16777000370973805, -1.0871307308025262 L -0.15669453928303534, -1.0887822653583579 L -0.1456028364485902, -1.090320968347452 L -0.13449604465037274, -1.0917466803125189 L -0.12337531489603609, -1.0930592535056387 L -0.11224179963763735, -1.094258551903573 L -0.10109665265220787, -1.0953444512218606 L -0.08994102892218618, -1.0963168389276974 L -0.07877608451572705, -1.097175614251598 L -0.06760297646689312, -1.0979206881978392 L -0.056422862655756106, -1.0985519835536823 L -0.045236901688400805, -1.0990694348973744 L -0.03404625277685844, -1.099472988604929 L -0.022852075618976484, -1.0997626028556822 L -0.011655530278238015, -1.0999382476366268 L -0.0004577770635441849, -1.0999999047455231 L 0.010740023591033637, -1.0999475677927855 L 0.021936711246504908, -1.0997812422021425 L 0.03313112557922123, -1.0995009452100775 L 0.04432210650112089, -1.099106705864041 L 0.05550849427994984, -1.09859856501944 L 0.06668912965944596, -1.0979765753354058 L 0.07786285397947286, -1.0972408012693347 L 0.08902850929609694, -1.09639131907021 L 0.10018493850158036, -1.0954282167706995 L 0.11133098544429708, -1.0943515941780328 L 0.12246549504854513, -1.093161562863658 L 0.13358731343424815, -1.0918582461516788 L 0.1446952880365331, -1.0904417791060763 L 0.15578826772517074, -1.08891230851671 L 0.16686510292387222, -1.0872699928841068 L 0.17792464572941508, -1.0855150024030356 L 0.18896575003060528, -1.0836475189448693 L 0.19998727162704902, -1.0816677360387381 L 0.21098806834772724, -1.0795758588514728 L 0.2219670001693599, -1.077372104166344 L 0.23292292933454686, -1.0750567003605966 L 0.24385472046967857, -1.0726298873817823 L 0.25476124070259004, -1.0700919167228942 L 0.26564135977996556, -1.0674430513963034 L 0.27649395018446693, -1.0646835659065044 L 0.2873178872515789, -1.0618137462216664 L 0.29811204928615986, -1.0588338897439986 L 0.3088753176786825, -1.0557443052789313 L 0.3196065770211608, -1.052545313003111 L 0.33030471522273486, -1.0492372444312241 L 0.34096862362492186, -1.0458204423816388 L 0.35159719711650644, -1.0422952609408798 L 0.36218933424806443, -1.0386620654269338 L 0.37274393734610695, -1.0349212323513908 L 0.383259912626833, -1.031073149380427 L 0.39373617030948255, -1.0271182152946283 L 0.404171624729266, -1.0230568399476667 L 0.4145651944498767, -1.0188894442238257 L 0.4249158023755602, -1.0146164599943834 L 0.4352223758627348, -1.010238330072858 L 0.4454838468311502, -1.0057555081691179 L 0.45569915187457366, -1.0011684588423642 L 0.46586723237099437, -0.9964776574529858 L 0.4759870345923251, -0.9916835901133007 L 0.4860575098136039, -0.9867867536371769 L 0.496077614421674, -0.9817876554885486 L 0.5060463100233342, -0.9766868137288266 L 0.515962563552949, -0.971484756963211 L 0.5258253473795058, -0.9661820242859118 L 0.535633639413109, -0.9607791652242818 L 0.5453864232109005, -0.9552767396818688 L 0.5550826880823967, -0.9496753178803906 L 0.5647214291942231, -0.9439754803006455 L 0.5743016476742491, -0.938177817622354 L 0.5838223507151016, -0.932282930662947 L 0.5932825516770504, -0.9262914303153021 L 0.6026812701902547, -0.9202039374844369 L 0.6120175322563588, -0.9140210830231636 L 0.6212903703494324, -0.9077435076667116 L 0.6304988235162299, -0.9013718619663308 L 0.6396419374757799, -0.8949068062218717 L 0.6487187647182767, -0.8883490104133585 L 0.6577283646032713, -0.8816991541315589 L 0.6666698034571514, -0.8749579265075568 L 0.6755421546698982, -0.8681260261413384 L 0.6843444987911141, -0.8612041610293919 L 0.6930759236253031, -0.8541930484913426 L 0.7017355243264043, -0.847093415095612 L 0.7103224034915616, -0.8399059965841245 L 0.7188356712541228, -0.8326315377960619 L 0.727274445375857, -0.8252707925906744 L 0.7356378513383809, -0.8178245237691583 L 0.7439250224337893, -0.8102935029956037 L 0.7521350998544686, -0.8026785107170298 L 0.6837591816858805, -0.7297077370154815 L 0.6762954749398085, -0.7366304572687306 L 0.6687616830348917, -0.7434768397901438 L 0.6611585867053245, -0.7502461750824312 L 0.6534869738673843, -0.7569377616327835 L 0.6457476395377832, -0.7635509059855676 L 0.6379413857512766, -0.7700849228141926 L 0.6300690214775483, -0.7765391349921296 L 0.6221313625373764, -0.7829128736630835 L 0.6141292315180892, -0.7892054783103075 L 0.6060634576883195, -0.7954162968250515 L 0.5979348769120648, -0.8015446855741444 L 0.5897443315620697, -0.8075900094666895 L 0.5814926704325272, -0.8135516420198833 L 0.573180748651118, -0.8194289654239371 L 0.564809427590393, -0.8252213706061015 L 0.556379574778508, -0.830928257293785 L 0.5478920638093224, -0.8365490340767607 L 0.5393477742518639, -0.8420831184684564 L 0.5307475915591832, -0.8475299369663154 L 0.52209240697659, -0.8528889251112308 L 0.5133831174492937, -0.8581595275460413 L 0.5046206255294515, -0.8633411980730823 L 0.4958058392826368, -0.8684333997107897 L 0.48693967219373546, -0.873435604749347 L 0.47802304307227794, -0.8783472948053743 L 0.46905687595722634, -0.8831679608756463 L 0.4600421000212129, -0.8878971033898423 L 0.450979649474249, -0.8925342322623169 L 0.4418704634669126, -0.8970788669428881 L 0.4327154859930228, -0.9015305364666368 L 0.42351566579181305, -0.9058887795027143 L 0.4142719562496124, -0.9101531444021491 L 0.40498531530104565, -0.9143231892446525 L 0.3956567053297589, -0.9183984818844162 L 0.3862870930686911, -0.9223785999948939 L 0.3768774494998879, -0.9262631311125686 L 0.3674287497538781, -0.9300516726796969 L 0.35794197300862046, -0.9337438320860256 L 0.34841810238803, -0.9373392267094791 L 0.3388581248600972, -0.9408374839558098 L 0.329263031134604, -0.9442382412972125 L 0.3196338155604604, -0.9475411463098906 L 0.30997147602265623, -0.9507458567105807 L 0.30027701383884986, -0.9538520403920218 L 0.2905514336556007, -0.9568593754573737 L 0.2807957433442568, -0.9597675502535737 L 0.2710109538965089, -0.9625762634036351 L 0.2611980793196172, -0.9652852238378784 L 0.25135813653133354, -0.9678941508240948 L 0.24149214525451412, -0.9704027739966393 L 0.23160112791144546, -0.9728108333844491 L 0.22168610951788958, -0.9751180794379839 L 0.21174811757686077, -0.9773242730550878 L 0.20178818197214535, -0.9794291856057672 L 0.1918073348615702, -0.9814325989558842 L 0.18180661057004455, -0.9833343054897618 L 0.17178704548236842, -0.9851341081316993 L 0.16174967793583186, -0.9868318203663959 L 0.1516955481126111, -0.9884272662582788 L 0.14162569793197338, -0.9899202804697363 L 0.1315411709423028, -0.9913107082782511 L 0.12144301221295287, -0.9925984055924353 L 0.11133226822595012, -0.9937832389669616 L 0.1012099867675428, -0.9948650856163934 L 0.0910772168196185, -0.9958438334279086 L 0.08093500845099721, -0.9967193809729181 L 0.07078441270861169, -0.9974916375175769 L 0.060626481508587224, -0.9981605230321869 L 0.05046226752722712, -0.9987259681994909 L 0.040292824091928074, -0.9991879144218554 L 0.0301192050720193, -0.9995463138273432 L 0.019942464769549913, -0.9998011292746749 L 0.009763657810030578, -0.9999523343570775 L -0.0004161609668583499, -0.999999913405021 L -0.010595936616580013, -0.9999438614878424 L -0.02077461419906953, -0.9997841844142564 L -0.030951138888053124, -0.9995208987317536 L -0.041124456080364365, -0.9991540317248858 L -0.05129351150523282, -0.9986836214124384 L -0.06145725133353919, -0.9981097165434901 L -0.07161462228702459, -0.9974323765923617 L -0.08176457174744198, -0.9966516717524521 L -0.0919060478656435, -0.9957676829289641 L -0.1020379996705794, -0.9947805017305209 L -0.11215937717821461, -0.9936902304596714 L -0.12226913150033884, -0.9924969821022898 L -0.1323662149532638, -0.9912008803158653 L -0.14244958116639575, -0.9898020594166889 L -0.15251818519067095, -0.9883006643659328 L -0.16257098360684835, -0.9866968507546287 L -0.17260693463363483, -0.9849907847875431 L -0.18262499823564948, -0.9831826432659544 L -0.20088749805921444 ,-1.08150090759255\", \"type\": \"path\"}, {\"fillcolor\": \"rgba(166,217,106, 0.75)\", \"layer\": \"below\", \"line\": {\"color\": \"rgba(166,217,106, 0.75)\", \"width\": 0.45}, \"path\": \"M 0.7769767079031992, -0.7786573029105339 L 0.7849966340560205, -0.7705714013125056 L 0.7929324156929323, -0.7624029014526186 L 0.8007832021701531, -0.7541526789199359 L 0.8085481519546142, -0.745821618063447 L 0.8162264327141584, -0.7374106118972792 L 0.8238172214067642, -0.7289205620049681 L 0.8313197043687632, -0.7203523784428232 L 0.8387330774020629, -0.7117069796423705 L 0.8460565458603434, -0.7029852923119125 L 0.8532893247342421, -0.6941882513371868 L 0.8604306387354952, -0.6853167996811607 L 0.8674797223800446, -0.6763718882829483 L 0.8744358200700876, -0.6673544759558848 L 0.8812981861750746, -0.6582655292847436 L 0.8880660851116289, -0.6491060225221342 L 0.8947387914223991, -0.6398769374840642 L 0.9013155898538173, -0.6305792634447039 L 0.8193778089580157, -0.5732538758588217 L 0.81339890129309, -0.5817063068036946 L 0.8073328046469352, -0.590096384111031 L 0.8011801692500677, -0.598423208440676 L 0.7949416546091704, -0.6066858872326225 L 0.7886179294364041, -0.6148835348026802 L 0.7822096715777228, -0.6230152724374187 L 0.7757175679402201, -0.6310802284883515 L 0.7691423144184939, -0.639077538465375 L 0.7624846158200571, -0.6470063451294277 L 0.7557451857897847, -0.6548657985843847 L 0.7489247467334219, -0.6626550563681528 L 0.7420240297401439, -0.670373283542981 L 0.7350437745041947, -0.6780196527849518 L 0.7279847292455937, -0.685593344472669 L 0.7208476506299384, -0.6930935467751077 L 0.7136333036872913, -0.7005194557386414 L 0.706342461730181, -0.7078702753732126 L 0.7769767079031992 ,-0.7786573029105339\", \"type\": \"path\"}, {\"fillcolor\": \"rgba(102,189,99, 0.75)\", \"layer\": \"below\", \"line\": {\"color\": \"rgba(102,189,99, 0.75)\", \"width\": 0.45}, \"path\": \"M 0.9206778183425246, -0.6019571037973134 L 0.9269245641214793, -0.5922928772391289 L 0.9330698697981413, -0.5825638317599882 L 0.9391130628469779, -0.5727710320801571 L 0.9450534819173841, -0.5629155498969883 L 0.95089047690606, -0.5529984637676367 L 0.956623409028155, -0.5430208589910255 L 0.9622516508871767, -0.5329838274890742 L 0.967774586543649, -0.5228884676872013 L 0.9731916115825209, -0.5127358843941158 L 0.9785021331793109, -0.5025271886809096 L 0.9837055701649842, -0.4922634977594657 L 0.9888013530895552, -0.48194593486019266 L 0.9937889242844051, -0.4715756291091018 L 0.9986677379233128, -0.4611537154042388 L 1.0034372600821881, -0.450681334291483 L 1.008096968797503, -0.44015963183973006 L 1.0126463541234136, -0.42958975951546846 L 1.017084918187569, -0.41897287405676553 L 1.0214121752455934, -0.40831013734668103 L 1.0256276517342484, -0.3976027162861081 L 1.029730886323257, -0.38685178266607456 L 1.0337214299657898, -0.37605851303950416 L 1.0375988459476082, -0.36522408859245836 L 1.0413627099348568, -0.35434969501486996 L 1.045012610020502, -0.3434365223707846 L 1.0485481467694089, -0.33248576496812365 L 1.0519689332620554, -0.32149862122798206 L 1.0552745951368752, -0.3104762935534766 L 1.0584647706312265, -0.2994199881981581 L 1.0615391106209837, -0.2883309151340024 L 1.0644972786587426, -0.27721028791899394 L 1.0673389510106421, -0.26605932356431794 L 1.0700638166917915, -0.25487924240117343 L 1.0726715775003048, -0.24367126794722385 L 1.0751619480499344, -0.23243662677269836 L 0.9774199527726675, -0.21130602433881668 L 0.9751559795457315, -0.2215193344974762 L 0.9727852879016285, -0.23170840218288494 L 0.9703081372824018, -0.24187211233119812 L 0.967724798780675, -0.25200935265363084 L 0.9650355551099851, -0.26211901375818397 L 0.9622407005738423, -0.2721999892710528 L 0.9593405410335227, -0.282251175957706 L 0.9563353938745958, -0.29227147384362 L 0.9532255879721898, -0.30225978633465783 L 0.9500114636550018, -0.3122150203370769 L 0.9466933726680516, -0.32213608637715446 L 0.9432716781341892, -0.33202189872041665 L 0.9397467545143543, -0.3418713754904583 L 0.9361189875665972, -0.3516834387873405 L 0.9323887743038621, -0.3614570148055528 L 0.9285565229505393, -0.3711910339515282 L 0.9246226528977899, -0.3808844309606959 L 0.9205875946576487, -0.3905361450140622 L 0.9164517898159117, -0.4001451198543 L 0.9122156909838073, -0.40971030390134816 L 0.9078797617484661, -0.41923065036748974 L 0.9034444766221864, -0.4287051173719107 L 0.8989103209905046, -0.43813266805472056 L 0.8942777910590765, -0.4475122706904233 L 0.8895473937993734, -0.4568428988008269 L 0.8847196468932007, -0.46612353126737793 L 0.8797950786760445, -0.47535315244291027 L 0.8747742280792514, -0.48453075226279474 L 0.86965764457105, -0.4936553263554777 L 0.8644458880964181, -0.5027258761523969 L 0.8591395290158037, -0.5117414089972621 L 0.8537391480427071, -0.5207009382546882 L 0.8482453361801284, -0.529603483418171 L 0.8426586946558902, -0.5384480702173899 L 0.8369798348568405, -0.5472337307248303 L 0.9206778183425246 ,-0.6019571037973134\", \"type\": \"path\"}, {\"fillcolor\": \"rgba(26,152,80, 0.75)\", \"layer\": \"below\", \"line\": {\"color\": \"rgba(26,152,80, 0.75)\", \"width\": 0.45}, \"path\": \"M 1.081932431415999, -0.1985502804084257 L 1.083643085934891, -0.18899116991411677 L 1.085269285312793, -0.17941733014583555 L 1.08681090280973, -0.16982950725330412 L 1.0882678182777261, -0.16022844847603768 L 1.0896399181701695, -0.1506149020851074 L 1.0909270955506607, -0.14098961732482293 L 1.092129250101347, -0.13135334435433918 L 1.0932462881307419, -0.12170683418919151 L 1.0942781225810252, -0.1120508386427644 L 1.0952246730348303, -0.10238611026769802 L 1.0960858657215096, -0.09271340229723689 L 1.0968616335228845, -0.08303346858652577 L 1.0975519159784775, -0.07334706355385692 L 1.098156659290222, -0.06365494212187352 L 1.0986758163266581, -0.053957859658733856 L 1.0991093466266026, -0.044256571919240616 L 1.0994572164023049, -0.03455183498594022 L 0.9995065603657316, -0.03141075907812747 L 0.9991903151150932, -0.040233247199309645 L 0.9987961966605982, -0.049052599689758045 L 0.9983242357183837, -0.05786812920170319 L 0.997774469071343, -0.06667914868532447 L 0.9971469395662585, -0.07548497144229616 L 0.9964416961104631, -0.08428491117930625 L 0.9956587936680275, -0.09307828206154364 L 0.9947982932554774, -0.10186439876614944 L 0.9938602619370379, -0.11064257653562863 L 0.9928447728194063, -0.11941213123121744 L 0.991751905046055, -0.12817237938620266 L 0.9905817437910631, -0.13692263825918852 L 0.9893343802524782, -0.14566222588730696 L 0.9880099116452089, -0.15439046113936736 L 0.986608441193448, -0.1631066637689414 L 0.9851300781226281, -0.17181015446737888 L 0.9835749376509082, -0.18050025491675062 L 1.081932431415999 ,-0.1985502804084257\", \"type\": \"path\"}], \"showlegend\": false, \"title\": \"Pairwise interactions between common egg mutation genotypes\", \"width\": 800, \"xaxis\": {\"visible\": false}, \"yaxis\": {\"visible\": false}}, {\"showLink\": true, \"linkText\": \"Export to plot.ly\", \"plotlyServerURL\": \"https://plot.ly\"})});</script>"
      ]
     },
     "metadata": {},
     "output_type": "display_data"
    }
   ],
   "source": [
    "data = ideograms + ribbon_info\n",
    "layout['shapes'] = shapes\n",
    "layout['annotations'] = annotations\n",
    "fig = go.Figure(data=data, layout=layout)\n",
    "from plotly.offline import download_plotlyjs, init_notebook_mode,  iplot, plot\n",
    "init_notebook_mode(connected=True)\n",
    "iplot(fig)"
   ]
  },
  {
   "cell_type": "code",
   "execution_count": null,
   "metadata": {},
   "outputs": [],
   "source": []
  },
  {
   "cell_type": "code",
   "execution_count": null,
   "metadata": {},
   "outputs": [],
   "source": []
  }
 ],
 "metadata": {
  "kernelspec": {
   "display_name": "Python [conda env:py3]",
   "language": "python",
   "name": "conda-env-py3-py"
  },
  "language_info": {
   "codemirror_mode": {
    "name": "ipython",
    "version": 3
   },
   "file_extension": ".py",
   "mimetype": "text/x-python",
   "name": "python",
   "nbconvert_exporter": "python",
   "pygments_lexer": "ipython3",
   "version": "3.6.7"
  }
 },
 "nbformat": 4,
 "nbformat_minor": 2
}
