{
 "cells": [
  {
   "cell_type": "code",
   "execution_count": 77,
   "metadata": {},
   "outputs": [],
   "source": [
    "#Adapted from https://nbviewer.jupyter.org/github/empet/Plotly-plots/blob/master/Chord-diagram.ipynb?flush_cache=true"
   ]
  },
  {
   "cell_type": "code",
   "execution_count": 78,
   "metadata": {},
   "outputs": [],
   "source": [
    "import plotly.plotly as py\n",
    "import plotly.figure_factory as ff\n",
    "import plotly.graph_objs as go\n",
    "import numpy as np\n",
    "import pandas as pd\n",
    "import itertools"
   ]
  },
  {
   "cell_type": "code",
   "execution_count": 79,
   "metadata": {},
   "outputs": [],
   "source": [
    "df = pd.read_csv('../dataframes/h3n2_ha_12y_hi_egg.csv')"
   ]
  },
  {
   "cell_type": "code",
   "execution_count": 80,
   "metadata": {},
   "outputs": [
    {
     "name": "stdout",
     "output_type": "stream",
     "text": [
      "[[38  1 11 27  0 39 13 18]\n",
      " [ 1 86 14  0 22  0 17  0]\n",
      " [11 14  9  7  3  2 11  2]\n",
      " [27  0  7  6  0  9  6  2]\n",
      " [ 0 22  3  0  1  1  1  0]\n",
      " [39  0  2  9  1  2  6  0]\n",
      " [13 17 11  6  1  6  6  7]\n",
      " [18  0  2  2  0  0  7 12]]\n"
     ]
    }
   ],
   "source": [
    "sites = ['186','194','138','156','203','219','225','246']\n",
    "for site in sites:\n",
    "    if site not in df.columns:\n",
    "        sites.remove(site)\n",
    "\n",
    "matrix = np.zeros((len(sites), len(sites)), dtype=int)\n",
    "for site_a in sites:\n",
    "    for site_b in sites:\n",
    "        #Set diagonal to be number of viruses with ONLY that mutation\n",
    "        if site_a == site_b:         \n",
    "            other_sites = sites.copy()\n",
    "            other_sites.remove(site_a)\n",
    "            mask = df['mut'+str(site_a)]==True\n",
    "            for other_site in other_sites:\n",
    "                res = df['mut'+str(other_site)]==False\n",
    "                mask &= res\n",
    "            matrix_entry = len(df[mask])\n",
    "        else:\n",
    "            matrix_entry = len(df[(df['mut'+str(site_a)]==True)&(df['mut'+str(site_b)]==True)])\n",
    "        matrix[sites.index(site_a)][sites.index(site_b)] = matrix_entry\n",
    "print(matrix)"
   ]
  },
  {
   "cell_type": "code",
   "execution_count": 81,
   "metadata": {},
   "outputs": [],
   "source": [
    "labels = ['mut 186','mut 194','mut 138','mut 156','mut 203','mut 219','mut 225','mut246']\n",
    "ideo_colors = ['rgba(26,152,80, 0.75)',\n",
    "               'rgba(215,48,39, 0.75)',\n",
    "             'rgba(244,109,67, 0.75)',\n",
    "             'rgba(253,174,97, 0.75)',\n",
    "             'rgba(254,224,139, 0.75)',\n",
    "             'rgba(217,239,139, 0.75)',\n",
    "             'rgba(166,217,106, 0.75)',\n",
    "             'rgba(102,189,99, 0.75)']"
   ]
  },
  {
   "cell_type": "code",
   "execution_count": 82,
   "metadata": {},
   "outputs": [],
   "source": [
    "def check_data(data_matrix):\n",
    "    L, M=data_matrix.shape\n",
    "    if L!=M:\n",
    "        raise ValueError('Data array must have (n,n) shape')\n",
    "    return L\n",
    "\n",
    "L=check_data(matrix)"
   ]
  },
  {
   "cell_type": "code",
   "execution_count": 83,
   "metadata": {},
   "outputs": [],
   "source": [
    "radii_sribb=[0.5, 0.5, 0.5, 0.5, 0.5, 0.5, 0.5, 0.5, 0.5, 0.5, 0.5]# these value are set after a few trials "
   ]
  },
  {
   "cell_type": "code",
   "execution_count": 84,
   "metadata": {},
   "outputs": [],
   "source": [
    "def moduloAB(x, a, b): #maps a real number onto the unit circle identified with \n",
    "                       #the interval [a,b), b-a=2*PI\n",
    "        if a>= b:\n",
    "            raise ValueError('Incorrect interval ends')\n",
    "        y = (x-a) % (b-a)\n",
    "        return y+b if y < 0 else y+a"
   ]
  },
  {
   "cell_type": "code",
   "execution_count": 85,
   "metadata": {},
   "outputs": [],
   "source": [
    "def test_2PI(x):\n",
    "    return True\n",
    "#      return 0 <= x < 2*pi"
   ]
  },
  {
   "cell_type": "code",
   "execution_count": 86,
   "metadata": {},
   "outputs": [],
   "source": [
    "pi = np.pi\n",
    "\n",
    "row_sum = [np.sum(matrix[k,:]) for k in range(L)]\n",
    "\n",
    "#set the gap between two consecutive ideograms\n",
    "gap = 2*pi*0.005\n",
    "ideogram_length = 2*pi * np.asarray(row_sum) / sum(row_sum) - gap*np.ones(L)"
   ]
  },
  {
   "cell_type": "code",
   "execution_count": 87,
   "metadata": {},
   "outputs": [],
   "source": [
    "def get_ideogram_ends(ideogram_len, gap):\n",
    "    ideo_ends = []\n",
    "    left = 0\n",
    "    for k in range(len(ideogram_len)):\n",
    "        right = left + ideogram_len[k]\n",
    "        ideo_ends.append([left, right])   \n",
    "        left = right + gap\n",
    "    return ideo_ends "
   ]
  },
  {
   "cell_type": "code",
   "execution_count": 88,
   "metadata": {},
   "outputs": [],
   "source": [
    "ideo_ends = get_ideogram_ends(ideogram_length, gap)"
   ]
  },
  {
   "cell_type": "code",
   "execution_count": 89,
   "metadata": {},
   "outputs": [],
   "source": [
    "def make_ideogram_arc(R, phi, a=100):\n",
    "    # R is the circle radius\n",
    "    # phi is the list of  angle coordinates of an arc ends\n",
    "    # a is a parameter that controls the number of points to be evaluated on an arc\n",
    "    if not test_2PI(phi[0]) or not test_2PI(phi[1]):\n",
    "        phi = [moduloAB(t, 0, 2*pi) for t in phi]\n",
    "    length = (phi[1]-phi[0]) % 2*pi \n",
    "    nr = 18 if length <= pi/4 else int(a*length/pi)\n",
    "\n",
    "    if phi[0] < phi[1]:   \n",
    "        theta = np.linspace(phi[0], phi[1], nr)\n",
    "    else:\n",
    "        phi = [moduloAB(t, -pi, pi) for t in phi]\n",
    "        theta = np.linspace(phi[0], phi[1], nr)\n",
    "    return R * np.exp(1j*theta)  "
   ]
  },
  {
   "cell_type": "code",
   "execution_count": 90,
   "metadata": {},
   "outputs": [
    {
     "data": {
      "text/plain": [
       "array([1.12583302-0.65j      , 1.13689513-0.6304518j ,\n",
       "       1.14761784-0.61071539j, 1.15799797-0.59079667j,\n",
       "       1.16803241-0.57070158j, 1.17771816-0.55043613j,\n",
       "       1.18705234-0.53000636j, 1.19603216-0.50941837j,\n",
       "       1.20465494-0.48867831j, 1.21291809-0.46779236j,\n",
       "       1.22081917-0.44676677j, 1.22835581-0.42560781j,\n",
       "       1.23552575-0.4043218j , 1.24232686-0.38291509j,\n",
       "       1.24875711-0.36139407j, 1.25481458-0.33976517j,\n",
       "       1.26049746-0.31803483j, 1.26580405-0.29620956j,\n",
       "       1.27073277-0.27429586j, 1.27528215-0.25230028j,\n",
       "       1.27945083-0.23022939j, 1.28323757-0.20808976j,\n",
       "       1.28664123-0.18588801j, 1.2896608 -0.16363078j,\n",
       "       1.29229537-0.14132469j, 1.29454417-0.11897642j,\n",
       "       1.29640652-0.09659263j, 1.29788186-0.07418j   ,\n",
       "       1.29896976-0.05174523j, 1.29966988-0.02929501j,\n",
       "       1.29998203-0.00683605j, 1.2999061 +0.01562495j,\n",
       "       1.29944212+0.03808129j, 1.29859022+0.06052626j,\n",
       "       1.29735067+0.08295316j, 1.29572384+0.1053553j ,\n",
       "       1.2937102 +0.12772599j, 1.29131035+0.15005855j,\n",
       "       1.28852503+0.17234631j, 1.28535505+0.19458263j,\n",
       "       1.28180136+0.21676085j, 1.27786503+0.23887437j])"
      ]
     },
     "execution_count": 90,
     "metadata": {},
     "output_type": "execute_result"
    }
   ],
   "source": [
    "make_ideogram_arc(1.3, [11*pi/6, pi/17])"
   ]
  },
  {
   "cell_type": "code",
   "execution_count": 91,
   "metadata": {},
   "outputs": [],
   "source": [
    "def map_data(data_matrix, row_value, ideogram_length):\n",
    "    mapped = np.zeros(data_matrix.shape)\n",
    "    for j  in range(L):\n",
    "        mapped[:, j] = ideogram_length * data_matrix[:,j] / row_value\n",
    "    return mapped  "
   ]
  },
  {
   "cell_type": "code",
   "execution_count": 92,
   "metadata": {},
   "outputs": [
    {
     "data": {
      "text/plain": [
       "array([[0.39114483, 0.01029329, 0.11322614, 0.2779187 , 0.        ,\n",
       "        0.40143812, 0.13381271, 0.18527913],\n",
       "       [0.0102826 , 0.88430355, 0.14395639, 0.        , 0.22621719,\n",
       "        0.        , 0.17480419, 0.        ],\n",
       "       [0.10971978, 0.13964336, 0.08977073, 0.06982168, 0.02992358,\n",
       "        0.01994905, 0.10971978, 0.01994905],\n",
       "       [0.26880774, 0.        , 0.0696909 , 0.05973505, 0.        ,\n",
       "        0.08960258, 0.05973505, 0.01991168],\n",
       "       [0.        , 0.20647003, 0.028155  , 0.        , 0.009385  ,\n",
       "        0.009385  , 0.009385  , 0.        ],\n",
       "       [0.38900649, 0.        , 0.01994905, 0.08977073, 0.00997453,\n",
       "        0.01994905, 0.05984715, 0.        ],\n",
       "       [0.13049536, 0.17064778, 0.11041915, 0.06022863, 0.0100381 ,\n",
       "        0.06022863, 0.06022863, 0.07026673],\n",
       "       [0.17533362, 0.        , 0.01948151, 0.01948151, 0.        ,\n",
       "        0.        , 0.0681853 , 0.11688908]])"
      ]
     },
     "execution_count": 92,
     "metadata": {},
     "output_type": "execute_result"
    }
   ],
   "source": [
    "mapped_data = map_data(matrix, row_sum, ideogram_length)\n",
    "mapped_data"
   ]
  },
  {
   "cell_type": "code",
   "execution_count": 93,
   "metadata": {},
   "outputs": [
    {
     "data": {
      "text/plain": [
       "array([[4, 1, 2, 6, 7, 3, 0, 5],\n",
       "       [3, 5, 7, 0, 2, 6, 4, 1],\n",
       "       [5, 7, 4, 3, 2, 0, 6, 1],\n",
       "       [1, 4, 7, 3, 6, 2, 5, 0],\n",
       "       [0, 3, 7, 4, 5, 6, 2, 1],\n",
       "       [1, 7, 4, 2, 5, 6, 3, 0],\n",
       "       [4, 3, 5, 6, 7, 2, 0, 1],\n",
       "       [1, 4, 5, 2, 3, 6, 7, 0]])"
      ]
     },
     "execution_count": 93,
     "metadata": {},
     "output_type": "execute_result"
    }
   ],
   "source": [
    "idx_sort = np.argsort(mapped_data, axis=1)\n",
    "idx_sort"
   ]
  },
  {
   "cell_type": "code",
   "execution_count": 94,
   "metadata": {},
   "outputs": [],
   "source": [
    "def make_ribbon_ends(mapped_data, ideo_ends,  idx_sort):\n",
    "    L = mapped_data.shape[0]\n",
    "    ribbon_boundary = np.zeros((L,L+1))\n",
    "    for k in range(L):\n",
    "        start = ideo_ends[k][0]\n",
    "        ribbon_boundary[k][0] = start\n",
    "        for j in range(1,L+1):\n",
    "            J = idx_sort[k][j-1]\n",
    "            ribbon_boundary[k][j] = start + mapped_data[k][J]\n",
    "            start = ribbon_boundary[k][j]\n",
    "    return [[(ribbon_boundary[k][j], ribbon_boundary[k][j+1] ) for j in range(L)] for k in range(L)] "
   ]
  },
  {
   "cell_type": "code",
   "execution_count": 95,
   "metadata": {},
   "outputs": [
    {
     "name": "stdout",
     "output_type": "stream",
     "text": [
      "ribbon ends starting from the ideogram[2]\n",
      " [(3.0155086674925435, 3.0354577185131846), (3.0354577185131846, 3.0554067695338256), (3.0554067695338256, 3.0853303460647874), (3.0853303460647874, 3.1551520246370313), (3.1551520246370313, 3.2449227542299157), (3.2449227542299157, 3.3546425348434417), (3.3546425348434417, 3.4643623154569676), (3.4643623154569676, 3.604005672601455)]\n"
     ]
    }
   ],
   "source": [
    "ribbon_ends = make_ribbon_ends(mapped_data, ideo_ends,  idx_sort)\n",
    "print ('ribbon ends starting from the ideogram[2]\\n', ribbon_ends[2])"
   ]
  },
  {
   "cell_type": "code",
   "execution_count": 96,
   "metadata": {},
   "outputs": [],
   "source": [
    "def control_pts(angle, radius):\n",
    "    #angle is a  3-list containing angular coordinates of the control points b0, b1, b2\n",
    "    #radius is the distance from b1 to the  origin O(0,0) \n",
    "\n",
    "    if len(angle) != 3:\n",
    "        raise InvalidInputError('angle must have len =3')\n",
    "    b_cplx = np.array([np.exp(1j*angle[k]) for k in range(3)])\n",
    "    b_cplx[1] = radius * b_cplx[1]\n",
    "    return list(zip(b_cplx.real, b_cplx.imag))"
   ]
  },
  {
   "cell_type": "code",
   "execution_count": 97,
   "metadata": {},
   "outputs": [],
   "source": [
    "def ctrl_rib_chords(l, r, radius):\n",
    "    # this function returns a 2-list containing control poligons of the two quadratic Bezier\n",
    "    #curves that are opposite sides in a ribbon\n",
    "    #l (r) the list of angular variables of the ribbon arc ends defining \n",
    "    #the ribbon starting (ending) arc \n",
    "    # radius is a common parameter for both control polygons\n",
    "    if len(l) != 2 or len(r) != 2:\n",
    "        raise ValueError('the arc ends must be elements in a list of len 2')\n",
    "    return [control_pts([l[j], (l[j]+r[j])/2, r[j]], radius) for j in range(2)]"
   ]
  },
  {
   "cell_type": "code",
   "execution_count": 98,
   "metadata": {},
   "outputs": [],
   "source": [
    "#Define ribbon color\n",
    "ribbon_color = [L * ['rgba(175,175,175,0.5)'] for k in range(L)]"
   ]
  },
  {
   "cell_type": "code",
   "execution_count": 99,
   "metadata": {},
   "outputs": [],
   "source": [
    "#Change 186 and 194 ribbon colors\n",
    "for k_186 in range(len(ribbon_color[0])):\n",
    "    ribbon_color[0][k_186] = ideo_colors[0]\n",
    "for k_194 in range(len(ribbon_color[1])):\n",
    "    ribbon_color[1][k_194] = ideo_colors[1]\n"
   ]
  },
  {
   "cell_type": "code",
   "execution_count": 100,
   "metadata": {},
   "outputs": [],
   "source": [
    "def make_q_bezier(b):# defines the Plotly SVG path for a quadratic Bezier curve defined by the \n",
    "                     #list of its control points\n",
    "    if len(b) != 3:\n",
    "        raise valueError('control poligon must have 3 points')\n",
    "    A, B, C = b    \n",
    "    return f'M {A[0]}, {A[1]} Q {B[0]}, {B[1]} {C[0]}, {C[1]}'"
   ]
  },
  {
   "cell_type": "code",
   "execution_count": 101,
   "metadata": {},
   "outputs": [
    {
     "data": {
      "text/plain": [
       "'M 1, 4 Q -0.5, 2.35 3.745, 1.47'"
      ]
     },
     "execution_count": 101,
     "metadata": {},
     "output_type": "execute_result"
    }
   ],
   "source": [
    "b=[(1,4), (-0.5, 2.35), (3.745, 1.47)]\n",
    "make_q_bezier(b)"
   ]
  },
  {
   "cell_type": "code",
   "execution_count": 102,
   "metadata": {},
   "outputs": [],
   "source": [
    "def make_ribbon_arc(theta0, theta1):\n",
    "\n",
    "    if test_2PI(theta0) and test_2PI(theta1):\n",
    "        if theta0 < theta1:\n",
    "            theta0 = moduloAB(theta0, -pi, pi)\n",
    "            theta1 = moduloAB(theta1, -pi, pi)\n",
    "            if theta0  *theta1 > 0:\n",
    "                raise ValueError('incorrect angle coordinates for ribbon')\n",
    "    \n",
    "        nr = int(40 * (theta0 - theta1) / pi)\n",
    "        if nr <= 2: nr = 3\n",
    "        theta = np.linspace(theta0, theta1, nr)\n",
    "        pts=np.exp(1j*theta)# points in polar complex form, on the given arc\n",
    "    \n",
    "        string_arc = ''\n",
    "        for k in range(len(theta)):\n",
    "            string_arc += f'L {pts.real[k]}, {pts.imag[k]} '\n",
    "        return   string_arc \n",
    "    else:\n",
    "        raise ValueError('the angle coordinates for an arc side of a ribbon must be in [0, 2*pi]')"
   ]
  },
  {
   "cell_type": "code",
   "execution_count": 103,
   "metadata": {},
   "outputs": [
    {
     "data": {
      "text/plain": [
       "'L 0.5000000000000001, 0.8660254037844386 L 0.5877852522924732, 0.8090169943749473 L 0.6691306063588583, 0.7431448254773941 L 0.7431448254773942, 0.6691306063588581 L 0.8090169943749475, 0.5877852522924731 L 0.8660254037844387, 0.49999999999999994 '"
      ]
     },
     "execution_count": 103,
     "metadata": {},
     "output_type": "execute_result"
    }
   ],
   "source": [
    "make_ribbon_arc(np.pi/3, np.pi/6)"
   ]
  },
  {
   "cell_type": "code",
   "execution_count": 104,
   "metadata": {},
   "outputs": [],
   "source": [
    "def make_layout(title, plot_size):\n",
    "\n",
    "    return dict(title=title,\n",
    "                xaxis=dict(visible=False),\n",
    "                yaxis=dict(visible=False),\n",
    "                showlegend=False,\n",
    "                width=plot_size,\n",
    "                height=plot_size,\n",
    "                margin=dict(t=25, b=25, l=25, r=25),\n",
    "                hovermode=False,\n",
    "                 )  "
   ]
  },
  {
   "cell_type": "code",
   "execution_count": 105,
   "metadata": {},
   "outputs": [],
   "source": [
    "def make_ideo_shape(path, line_color, fill_color):\n",
    "    #line_color is the color of the shape boundary\n",
    "    #fill_color is the color assigned to an ideogram\n",
    "    \n",
    "    return  dict(line=dict(color=line_color, \n",
    "                           width=0.45),\n",
    "                 path=path,\n",
    "                 layer='below',\n",
    "                 type='path',\n",
    "                 fillcolor=fill_color)   "
   ]
  },
  {
   "cell_type": "code",
   "execution_count": 106,
   "metadata": {},
   "outputs": [],
   "source": [
    "def make_ribbon(l, r, line_color, fill_color, radius=0.2):\n",
    "    #l=[l[0], l[1]], r=[r[0], r[1]]  represent the opposite arcs in the ribbon \n",
    "    #line_color is the color of the shape boundary\n",
    "    #fill_color is the fill color for the ribbon shape\n",
    "    \n",
    "    poligon = ctrl_rib_chords(l,r, radius)\n",
    "    b, c = poligon  \n",
    "           \n",
    "    return  dict(line=dict(color=line_color, \n",
    "                             width=0.5),\n",
    "                 path=make_q_bezier(b) + make_ribbon_arc(r[0], r[1])+\n",
    "                         make_q_bezier(c[::-1]) + make_ribbon_arc(l[1], l[0]),\n",
    "                 type='path',\n",
    "                 layer='below',\n",
    "                 fillcolor = fill_color,    \n",
    "        )\n",
    "\n",
    "def make_self_rel(l, line_color, fill_color, radius):\n",
    "    #radius is the radius of Bezier control point b_1\n",
    "    \n",
    "    b = control_pts([l[0], (l[0]+l[1])/2, l[1]], radius) \n",
    "    \n",
    "    return  dict(line = dict(color=line_color, \n",
    "                             width=0.5),\n",
    "                 path =  make_q_bezier(b)+make_ribbon_arc(l[1], l[0]),\n",
    "                 type = 'path',\n",
    "                 layer = 'below',\n",
    "                 fillcolor = fill_color   \n",
    "                )"
   ]
  },
  {
   "cell_type": "code",
   "execution_count": 107,
   "metadata": {},
   "outputs": [],
   "source": [
    "def invPerm(perm):\n",
    "    # function that returns the inverse of a permutation, perm\n",
    "    inv = [0] * len(perm)\n",
    "    for i, s in enumerate(perm):\n",
    "        inv[s] = i\n",
    "    return inv"
   ]
  },
  {
   "cell_type": "code",
   "execution_count": 108,
   "metadata": {},
   "outputs": [],
   "source": [
    "layout=make_layout('Pairwise epistasis between HA1 residues commonly mutated during egg-passaging', 800)   "
   ]
  },
  {
   "cell_type": "code",
   "execution_count": 109,
   "metadata": {},
   "outputs": [],
   "source": [
    "ribbon_info=[]\n",
    "shapes=[]\n",
    "annotations = []\n",
    "for k in range(L):\n",
    "    \n",
    "    sigma = idx_sort[k]\n",
    "    sigma_inv = invPerm(sigma)\n",
    "    for j in range(k, L):\n",
    "        if matrix[k][j] == 0 and matrix[j][k]==0: continue\n",
    "        eta = idx_sort[j]\n",
    "        eta_inv = invPerm(eta)\n",
    "        l = ribbon_ends[k][sigma_inv[j]]  \n",
    "        \n",
    "        if j == k:\n",
    "            shapes.append(make_self_rel(l, 'rgba(175,175,175,0.5)',\n",
    "                                        'rgba(175,175,175,0.5)', radius=radii_sribb[k])) \n",
    "#             shapes.append(make_self_rel(l, ideo_colors[k] ,\n",
    "#                         ideo_colors[k], radius=radii_sribb[k])) \n",
    "\n",
    "            z = 0.9*np.exp(1j*(l[0]+l[1])/2)\n",
    "            \n",
    "\n",
    "            ribbon_info.append(go.Scatter(x=[z.real],\n",
    "                                       y=[z.imag],\n",
    "                                       mode='markers',\n",
    "                                       marker=dict(size=0.5, color=ideo_colors[k])\n",
    "                                       )\n",
    "                              )\n",
    "        else:\n",
    "            r = ribbon_ends[j][eta_inv[k]]\n",
    "            zi = 0.9 * np.exp(1j*(l[0]+l[1])/2)\n",
    "            zf = 0.9 * np.exp(1j*(r[0]+r[1])/2)\n",
    "            #texti and textf are the strings that will be displayed when hovering the mouse \n",
    "            #over the two ribbon ends\n",
    "            texti = f'{labels[k]}'\n",
    "            textf = f'{labels[j]}'\n",
    "            \n",
    "            ribbon_info.append(go.Scatter(x=[zi.real],\n",
    "                                          y=[zi.imag],\n",
    "                                          mode='markers',\n",
    "                                          marker=dict(size=0.5, color=ribbon_color[k][j]),\n",
    "                                          text=texti\n",
    "                                       )\n",
    "                              ),\n",
    "            ribbon_info.append(go.Scatter(x=[zf.real],\n",
    "                                          y=[zf.imag],\n",
    "                                          mode='markers',\n",
    "                                          marker=dict(size=0.5, color=ribbon_color[k][j]),\n",
    "                                          text=textf\n",
    "                                       )\n",
    "                              )\n",
    "            r = (r[1], r[0]) # IMPORTANT!!!  Reverse these arc ends because otherwise you get\n",
    "                          # a twisted ribbon\n",
    "            #append the ribbon shape\n",
    "            shapes.append(make_ribbon(l, r, ribbon_color[k][j] , ribbon_color[k][j]))\n",
    "           \n",
    "                                    "
   ]
  },
  {
   "cell_type": "code",
   "execution_count": 110,
   "metadata": {},
   "outputs": [],
   "source": [
    "ideograms = []\n",
    "for k in range(len(ideo_ends)):\n",
    "    z =  make_ideogram_arc(1.1, ideo_ends[k])\n",
    "    zi = make_ideogram_arc(1.0, ideo_ends[k])\n",
    "    m = len(z)\n",
    "    n = len(zi)\n",
    "    ideograms.append(go.Scatter(x=z.real,\n",
    "                                y=z.imag,\n",
    "                                mode='lines',\n",
    "                                line=dict(color=ideo_colors[k], shape='spline', width=0.25)\n",
    "#                                 text=f'{labels[k]} <br>{int(row_sum[k])} viruses'\n",
    "                             )\n",
    "                     )\n",
    "    \n",
    "       \n",
    "    path = 'M '\n",
    "    for s in range(m):\n",
    "        path += f'{z.real[s]}, {z.imag[s]} L '\n",
    "        \n",
    "    Zi = np.array(zi.tolist()[::-1]) \n",
    "\n",
    "    for s in range(m):\n",
    "        path += f'{Zi.real[s]}, {Zi.imag[s]} L '\n",
    "    path += f'{z.real[0]} ,{z.imag[0]}' \n",
    "   \n",
    "    shapes.append(make_ideo_shape(path,ideo_colors[k] , ideo_colors[k]))\n",
    "    \n",
    "    z_text =  make_ideogram_arc(1.2, ideo_ends[k])\n",
    "    Z_text = np.array(z_text.tolist()[::-1]) \n",
    "    annotations.append(dict(x=Z_text.real[int(len(Z_text)/2)], \n",
    "                            y=Z_text.imag[int(len(Z_text)/2)], \n",
    "                            showarrow=False,\n",
    "                            align='left',\n",
    "                            valign='bottom',\n",
    "                            text=f'{labels[k]}'))\n"
   ]
  },
  {
   "cell_type": "code",
   "execution_count": 111,
   "metadata": {},
   "outputs": [
    {
     "data": {
      "text/html": [
       "<script type=\"text/javascript\">window.PlotlyConfig = {MathJaxConfig: 'local'};</script><script type=\"text/javascript\">if (window.MathJax) {MathJax.Hub.Config({SVG: {font: \"STIX-Web\"}});}</script><script>requirejs.config({paths: { 'plotly': ['https://cdn.plot.ly/plotly-latest.min']},});if(!window._Plotly) {require(['plotly'],function(plotly) {window._Plotly=plotly;});}</script>"
      ],
      "text/vnd.plotly.v1+html": [
       "<script type=\"text/javascript\">window.PlotlyConfig = {MathJaxConfig: 'local'};</script><script type=\"text/javascript\">if (window.MathJax) {MathJax.Hub.Config({SVG: {font: \"STIX-Web\"}});}</script><script>requirejs.config({paths: { 'plotly': ['https://cdn.plot.ly/plotly-latest.min']},});if(!window._Plotly) {require(['plotly'],function(plotly) {window._Plotly=plotly;});}</script>"
      ]
     },
     "metadata": {},
     "output_type": "display_data"
    },
    {
     "data": {
      "application/vnd.plotly.v1+json": {
       "config": {
        "linkText": "Export to plot.ly",
        "plotlyServerURL": "https://plot.ly",
        "showLink": true
       },
       "data": [
        {
         "line": {
          "color": "rgba(26,152,80, 0.75)",
          "shape": "spline",
          "width": 0.25
         },
         "mode": "lines",
         "type": "scatter",
         "uid": "7df70df4-ddea-42cf-a104-8ffc74c38bac",
         "x": [
          1.1,
          1.099944034658493,
          1.0997761443287348,
          1.0994963460944334,
          1.099104668426505,
          1.0986011511801759,
          1.097985845590927,
          1.0972588142692812,
          1.0964201311944315,
          1.0954698817067139,
          1.0944081624989226,
          1.0932350816064726,
          1.0919507583964054,
          1.0905553235552428,
          1.089048919075689,
          1.0874316982421826,
          1.0857038256152989,
          1.083865477015004,
          1.0819168395027658,
          1.0798581113625187,
          1.077689502080487,
          1.0754112323238691,
          1.0730235339183831,
          1.0705266498246775,
          1.0679208341136086,
          1.0652063519403876,
          1.0623834795175997,
          1.059452504087098,
          1.0564137238907751,
          1.0532674481402153,
          1.0500139969852313,
          1.0466537014812867,
          1.043186903555809,
          1.0396139559733986,
          1.035935222299931,
          1.0321510768655628,
          1.0282619047266428,
          1.024268101626529,
          1.02017007395532,
          1.0159682387085034,
          1.011663023444524,
          1.0072548662412772,
          1.0027442156515325,
          0.9981315306572913,
          0.9934172806230825,
          0.988601945248203,
          0.9836860145179045,
          0.9786699886535367,
          0.9735543780616459,
          0.968339703282039,
          0.9630264949348156,
          0.9576152936663755,
          0.9521066500944038,
          0.9465011247518436,
          0.9407992880298588,
          0.9350017201197938,
          0.9291090109541358,
          0.9231217601464863,
          0.9170405769305475,
          0.9108660800981293,
          0.9045988979361842,
          0.8982396681628755,
          0.8917890378626872,
          0.8852476634205786,
          0.8786162104551941,
          0.8718953537511339,
          0.8650857771902899,
          0.8581881736822581,
          0.8512032450938312,
          0.8441317021775795,
          0.836974264499529,
          0.8297316603659418,
          0.8224046267492063,
          0.8149939092128471,
          0.8075002618356604,
          0.7999244471349816,
          0.792267235989096,
          0.7845294075587977,
          0.7767117492081063,
          0.7688150564241477,
          0.76084013273621,
          0.7527877896339797,
          0.7446588464849693,
          0.7364541304511412,
          0.7281744764047403,
          0.7198207268433419,
          0.7113937318041224,
          0.702894348777364,
          0.6943234426192008,
          0.6856818854636149,
          0.6769705566336923,
          0.6681903425521475,
          0.6593421366511254,
          0.6504268392812893,
          0.6414453576202065,
          0.6323986055800377,
          0.6232875037145419,
          0.6141129791254052,
          0.6048759653679039,
          0.5955774023559093,
          0.5862182362662481,
          0.5767994194424229,
          0.5673219102977062,
          0.5577866732176184,
          0.5481946784617949,
          0.5385469020652578,
          0.5288443257390996,
          0.5190879367705884,
          0.5092787279227072,
          0.49941769733313435,
          0.4895058484126783,
          0.47954418974317453,
          0.4695337349748586,
          0.4594755027232211,
          0.4493705164653581,
          0.4392198044358276,
          0.42902439952202087,
          0.4187853391590612,
          0.4085036652242394,
          0.39818042393099734,
          0.3878166657224704,
          0.37741344516459957,
          0.36697182083882307,
          0.3564928552343617,
          0.345977614640104,
          0.335427169036106,
          0.32484259198471593,
          0.314224960521332,
          0.30357535504481065,
          0.29289485920752895,
          0.28218455980511775,
          0.271445546665875,
          0.2606789125398689,
          0.24988575298774654,
          0.23906716626925376,
          0.22822425323148215,
          0.2173581171968521,
          0.20646986385084318,
          0.1955606011294864,
          0.18463143910662505,
          0.17368348988095908,
          0.16271786746288341,
          0.15173568766113193,
          0.14073806796923702,
          0.12972612745182038,
          0.11870098663072154,
          0.10766376737097905,
          0.09661559276667525,
          0.08555758702665468,
          0.07449087536013146,
          0.06341658386219245
         ],
         "y": [
          0,
          0.011095973107211651,
          0.02219081714183367,
          0.033283403146165395,
          0.044372602392272406,
          0.055457286496840445,
          0.06653632753599421,
          0.07760859816006947,
          0.08867297170832673,
          0.09972832232359471,
          0.11077352506683222,
          0.12180745603159646,
          0.13282899245840632,
          0.14383701284898895,
          0.15483039708039809,
          0.16580802651899218,
          0.17676878413426128,
          0.18771155461249062,
          0.19863522447024964,
          0.2095386821676945,
          0.2204208182216731,
          0.23128052531862067,
          0.24211669842723488,
          0.25292823491091815,
          0.26371403463997667,
          0.2744730001035647,
          0.28520403652136134,
          0.2959060519549706,
          0.3065779574190313,
          0.31721866699202755,
          0.3278270979267864,
          0.33840217076065293,
          0.3489428094253316,
          0.35944794135638136,
          0.3699164976023548,
          0.38034741293356933,
          0.39073962595049994,
          0.4010920791917821,
          0.41140371924181396,
          0.4216734968379464,
          0.43190036697725165,
          0.4420832890228571,
          0.45222122680983573,
          0.46231314875064156,
          0.47235802794007814,
          0.4823548422597925,
          0.4923025744822804,
          0.5022002123743942,
          0.5120467488003435,
          0.5218411818241763,
          0.5315825148117304,
          0.5412697565320472,
          0.5509019212582335,
          0.5604780288677652,
          0.569997104942219,
          0.5794581808664254,
          0.5888602939270298,
          0.598202487410453,
          0.6074838107002429,
          0.6167033193738042,
          0.6258600752984977,
          0.634953146727101,
          0.6439816083926178,
          0.6529445416024291,
          0.6618410343317753,
          0.6706701813165584,
          0.6794310841454578,
          0.6881228513513488,
          0.6967445985020131,
          0.705295448290135,
          0.7137745306225717,
          0.7221809827088896,
          0.7305139491491581,
          0.7387725820209908,
          0.7469560409658255,
          0.755063493274436,
          0.7630941139716636,
          0.7710470859003631,
          0.7789215998045528,
          0.7867168544117603,
          0.7944320565145558,
          0.8020664210512664,
          0.8096191711858577,
          0.8170895383869836,
          0.8244767625061864,
          0.831780091855247,
          0.8389987832826724,
          0.8461321022493152,
          0.8531793229031173,
          0.8601397281529685,
          0.8670126097416745,
          0.8737972683180257,
          0.8804930135079603,
          0.8870991639848118,
          0.8936150475386399,
          0.9000400011446292,
          0.9063733710305567,
          0.912614512743316,
          0.9187627912144932,
          0.9248175808249903,
          0.9307782654686826,
          0.9366442386151127,
          0.942414903371207,
          0.9480896725420134,
          0.9536679686904501,
          0.9591492241960653,
          0.9645328813127924,
          0.9698183922257062,
          0.9750052191067642,
          0.9800928341695341,
          0.9850807197228988,
          0.9899683682237339,
          0.994755282328553,
          0.9994409749441151,
          1.0040249692769885,
          1.0085067988820668,
          1.0128860077100332,
          1.0171621501537649,
          1.0213347910936759,
          1.0254035059419933,
          1.0293678806859605,
          1.033227511929966,
          1.0369820069365905,
          1.0406309836665697,
          1.0441740708176697,
          1.0476109078624676,
          1.0509411450850383,
          1.0541644436165392,
          1.0572804754696916,
          1.0602889235721564,
          1.063189481798796,
          1.0659818550028253,
          1.0686657590458448,
          1.071240920826752,
          1.0737070783095308,
          1.076063980549917,
          1.078311387720931,
          1.0804490711372816,
          1.0824768132786373,
          1.0843944078117596,
          1.0862016596114972,
          1.087898384780643,
          1.0894844106686445,
          1.0909595758891741,
          1.0923237303365492,
          1.093576735201007,
          1.0947184629828293,
          1.095748797505315,
          1.0966676339266042,
          1.0974748787503437,
          1.0981704498352018
         ]
        },
        {
         "line": {
          "color": "rgba(215,48,39, 0.75)",
          "shape": "spline",
          "width": 0.25
         },
         "mode": "lines",
         "type": "scatter",
         "uid": "5763c5dc-a531-4f1e-8f3b-96922cabb989",
         "x": [
          0.028890924179751594,
          0.017741926051835537,
          0.006591104522628573,
          -0.0045603943979988,
          -0.015711424630558884,
          -0.026860840143732485,
          -0.03800749507215091,
          -0.04915024383416088,
          -0.060287941249559114,
          -0.07141944265728804,
          -0.08254360403307598,
          -0.09365928210701191,
          -0.10476533448104484,
          -0.11586061974639121,
          -0.1269439976008418,
          -0.1380143289659549,
          -0.1490704761041224,
          -0.16011130273550095,
          -0.1711356741547904,
          -0.18214245734785092,
          -0.19313052110814855,
          -0.2040987361530122,
          -0.2150459752396943,
          -0.22597111328122196,
          -0.2368730274620251,
          -0.2477505973533337,
          -0.25860270502832766,
          -0.2694282351770292,
          -0.2802260752209289,
          -0.2909951154273284,
          -0.30173424902339174,
          -0.3124423723098927,
          -0.32311838477464483,
          -0.33376118920560677,
          -0.3443696918036456,
          -0.35494280229494984,
          -0.36547943404308253,
          -0.3759785041606575,
          -0.38643893362063164,
          -0.39685964736720125,
          -0.4072395744262878,
          -0.4175776480156075,
          -0.42787280565430763,
          -0.4381239892721606,
          -0.44833014531830734,
          -0.45849022486953317,
          -0.4686031837380699,
          -0.4786679825789108,
          -0.48868358699662756,
          -0.49864896765167954,
          -0.5085631003662004,
          -0.5184249662292602,
          -0.5282335517015793,
          -0.5379878487196952,
          -0.5476868547995642,
          -0.5573295731395909,
          -0.5669150127230707,
          -0.5764421884200439,
          -0.5859101210885386,
          -0.5953178376752009,
          -0.6046643713152994,
          -0.6139487614320932,
          -0.623170053835554,
          -0.6323273008204316,
          -0.6414195612636527,
          -0.6504459007210438,
          -0.6594053915233675,
          -0.6682971128716609,
          -0.677120150931872,
          -0.685873598928776,
          -0.6945565572391678,
          -0.7031681334843206,
          -0.7117074426216968,
          -0.7201736070359097,
          -0.7285657566289171,
          -0.7368830289094452,
          -0.7451245690816302,
          -0.7532895301328676,
          -0.7613770729208641,
          -0.7693863662598781,
          -0.7773165870061448,
          -0.7851669201424725,
          -0.7929365588620055,
          -0.8006247046511421,
          -0.8082305673716011,
          -0.8157533653416273,
          -0.8231923254163271,
          -0.8305466830671281,
          -0.8378156824603511,
          -0.8449985765348919,
          -0.8520946270789977,
          -0.8591031048061365,
          -0.8660232894299486,
          -0.8728544697382723,
          -0.8795959436662388,
          -0.886247018368425,
          -0.8928070102900599,
          -0.8992752452372765,
          -0.9056510584464007,
          -0.9119337946522709,
          -0.9181228081555829,
          -0.9242174628892503,
          -0.9302171324837764,
          -0.9361212003316254,
          -0.941929059650597,
          -0.9476401135461858,
          -0.9532537750729265,
          -0.958769467294716,
          -0.964186623344108,
          -0.9695046864805713,
          -0.9747231101477085,
          -0.9798413580294275,
          -0.98485890410506,
          -0.9897752327034235,
          -0.9945898385558181,
          -0.9993022268479546,
          -1.0039119132708088,
          -1.0084184240703953,
          -1.0128212960964575,
          -1.0171200768500666,
          -1.0213143245301262,
          -1.0254036080787787,
          -1.0293875072257068,
          -1.033265612531325,
          -1.0370375254288597,
          -1.0407028582653117,
          -1.0442612343412967,
          -1.0477122879497593,
          -1.051055664413559,
          -1.0542910201219204,
          -1.0574180225657488,
          -1.0604363503718028,
          -1.0633456933357215,
          -1.066145752453908,
          -1.068836239954257,
          -1.0714168793257308,
          -1.0738874053467777,
          -1.0762475641125893,
          -1.0784971130611951,
          -1.080635820998392,
          -1.0826634681215048,
          -1.0845798460419755,
          -1.0863847578067811
         ],
         "y": [
          1.099620532047324,
          1.0998569107206497,
          1.0999802531596519,
          1.0999905466879862,
          1.09988779024775,
          1.0996719943995905,
          1.0993431813216201,
          1.0989013848071367,
          1.0983466502611503,
          1.0976790346957177,
          1.0968986067240813,
          1.0960054465536198,
          1.0949996459776026,
          1.093881308365758,
          1.0926505486536477,
          1.0913074933308566,
          1.0898522804279902,
          1.0882850595024913,
          1.086605991623268,
          1.0848152493541408,
          1.0829130167361067,
          1.0808994892684256,
          1.0787748738885277,
          1.076539388950746,
          1.0741932642038745,
          1.0717367407675573,
          1.0691700711075072,
          1.0664935190095586,
          1.063707359552558,
          1.060811879080092,
          1.057807375171061,
          1.0546941566090933,
          1.0514725433508119,
          1.0481428664929506,
          1.0447054682383272,
          1.0411607018606726,
          1.0375089316683246,
          1.0337505329667862,
          1.0298858920201546,
          1.025915406011422,
          1.0218394830016582,
          1.0176585418880704,
          1.0133730123609526,
          1.0089833348595247,
          1.0044899605266673,
          0.9998933511625553,
          0.9951939791771979,
          0.9903923275418867,
          0.9854888897395595,
          0.9804841697140829,
          0.9753786818184607,
          0.9701729507619714,
          0.9648675115562422,
          0.9594629094602639,
          0.9539596999243528,
          0.9483584485330647,
          0.9426597309470691,
          0.9368641328439844,
          0.9309722498581867,
          0.9249846875195953,
          0.9189020611914385,
          0.9127249960070114,
          0.9064541268054291,
          0.9000900980663812,
          0.8936335638438965,
          0.8870851876991241,
          0.8804456426321359,
          0.8737156110127612,
          0.866895784510456,
          0.859986864023218,
          0.8529895596055527,
          0.845904590395499,
          0.8387326845407209,
          0.8314745791236718,
          0.8241310200858438,
          0.8167027621511034,
          0.8091905687481257,
          0.801595211931935,
          0.7939174723045573,
          0.7861581389347952,
          0.7783180092771326,
          0.770397889089777,
          0.7623985923518493,
          0.7543209411797286,
          0.7461657657425593,
          0.7379339041769322,
          0.7296262025007463,
          0.7212435145262601,
          0.7127867017723438,
          0.7042566333759355,
          0.695654186002718,
          0.6869802437570214,
          0.67823569809096,
          0.669421447712814,
          0.6605383984946667,
          0.6515874633793047,
          0.6425695622863916,
          0.6334856220179242,
          0.6243365761629813,
          0.6151233650017777,
          0.6058469354090248,
          0.5965082407566195,
          0.5871082408156615,
          0.5776479016578154,
          0.5681281955560226,
          0.5585501008845778,
          0.5489146020185787,
          0.5392226892327572,
          0.5294753585997062,
          0.5196736118875089,
          0.5098184564567844,
          0.4999109051571564,
          0.4899519762231604,
          0.479942693169595,
          0.4698840846863321,
          0.45977718453259436,
          0.44962303143071364,
          0.43942266895937526,
          0.42917714544636687,
          0.4188875138608396,
          0.4085548317050877,
          0.3981801609058673,
          0.3877645677052577,
          0.37730912255108007,
          0.3668148999868836,
          0.3562829785415107,
          0.34571444061825296,
          0.33511037238360847,
          0.3244718636556528,
          0.3138000077920341,
          0.3030959015776055,
          0.2923606451117034,
          0.28159534169508876,
          0.2708010977165537,
          0.25997902253921573,
          0.24913022838650556,
          0.23825583022785746,
          0.22735694566412148,
          0.2164346948127033,
          0.20549020019244557,
          0.1945245866082629,
          0.18353898103554134,
          0.17253451250431523
         ]
        },
        {
         "line": {
          "color": "rgba(244,109,67, 0.75)",
          "shape": "spline",
          "width": 0.25
         },
         "mode": "lines",
         "type": "scatter",
         "uid": "555b33a9-612f-4e84-a78c-fe7d2fd787d9",
         "x": [
          -1.0912681325141496,
          -1.092638085359732,
          -1.093891568955204,
          -1.0950284496860632,
          -1.0960486063670352,
          -1.0969519302549913,
          -1.0977383250605408,
          -1.0984077069582938,
          -1.0989600045957975,
          -1.099395159101141,
          -1.0997131240892317,
          -1.099913865666739,
          -1.0999973624357078,
          -1.0999636054958386,
          -1.0998125984454368,
          -1.0995443573810286,
          -1.0991589108956463,
          -1.0986563000757792,
          -1.0980365784969943,
          -1.0972998122182263,
          -1.096446079774735,
          -1.0954754721697346,
          -1.0943880928646923,
          -1.0931840577683012,
          -1.091863495224124,
          -1.0904265459969131,
          -1.0888733632576049,
          -1.0872041125669933,
          -1.0854189718580822,
          -1.0835181314171172,
          -1.0815017938633043,
          -1.0793701741272097,
          -1.0771234994278511,
          -1.0747620092484764,
          -1.0722859553110364,
          -1.0696956015493524,
          -1.0669912240809827,
          -1.06417311117779,
          -1.061241563235212,
          -1.0581968927402428,
          -1.055039424238122,
          -1.0517694942977407,
          -1.048387451475765,
          -1.044893656279481,
          -1.0412884811283682,
          -1.0375723103144001,
          -1.0337455399610818,
          -1.029808577981224,
          -1.0257618440334648,
          -1.0216057694775327,
          -1.0173407973282675,
          -1.0129673822083987,
          -1.0084859903000827,
          -1.0038970992952125,
          -0.9992011983444972,
          -0.9943987880053213,
          -0.9894903801883884,
          -0.9844764981031539
         ],
         "y": [
          0.13832520724394706,
          0.12705122754786582,
          0.11576370488509106,
          0.10446384244386761,
          0.09315284472779274,
          0.08183191742742468,
          0.07050226729175957,
          0.059165101999600685,
          0.047821630030825894,
          0.03647306053757034,
          0.025120603215337406,
          0.013765468174051354,
          0.0024088658090680986,
          -0.00894799332784921,
          -0.02030389865756645,
          -0.03165763970262014,
          -0.04300800621624769,
          -0.05435378831139318,
          -0.0656937765896746,
          -0.07702676227029967,
          -0.0883515373189133,
          -0.09966689457637039,
          -0.11097162788741038,
          -0.12226453222922741,
          -0.13354440383991908,
          -0.14481004034680145,
          -0.15606024089457332,
          -0.16729380627332394,
          -0.1785095390463602,
          -0.18970624367784725,
          -0.20088272666024626,
          -0.21203779664153566,
          -0.22317026455220282,
          -0.23427894373199276,
          -0.24536265005639796,
          -0.2564202020628821,
          -0.2674504210768159,
          -0.27845213133711766,
          -0.28942416012158306,
          -0.30036533787189157,
          -0.31127449831827275,
          -0.32215047860382723,
          -0.33299211940847917,
          -0.3437982650725536,
          -0.35456776371996385,
          -0.36529946738099467,
          -0.37599223211467014,
          -0.38664491813069163,
          -0.3972563899109314,
          -0.40782551633047537,
          -0.41835117077819334,
          -0.42883223127682957,
          -0.4392675806025998,
          -0.4496561064042814,
          -0.45999670132178216,
          -0.47028826310418176,
          -0.4805296947272237,
          -0.49071990451025244
         ]
        },
        {
         "line": {
          "color": "rgba(253,174,97, 0.75)",
          "shape": "spline",
          "width": 0.25
         },
         "mode": "lines",
         "type": "scatter",
         "uid": "66b2b093-bb08-43f1-89ab-338f32acc822",
         "x": [
          -0.9685768336845704,
          -0.9631456245943585,
          -0.9576118813749238,
          -0.9519761931350444,
          -0.9462391598363171,
          -0.9404013922292851,
          -0.9344635117884197,
          -0.9284261506459602,
          -0.9222899515246188,
          -0.9160555676691565,
          -0.9097236627768414,
          -0.9032949109267928,
          -0.8967699965082204,
          -0.8901496141475664,
          -0.8834344686345562,
          -0.876625274847169,
          -0.8697227576755331,
          -0.8627276519447572,
          -0.8556407023367008,
          -0.8484626633106981,
          -0.8411942990232404,
          -0.8338363832466255,
          -0.8263896992865842,
          -0.8188550398988907,
          -0.8112332072049686,
          -0.8035250126064976,
          -0.7957312766990362,
          -0.7878528291846608,
          -0.7798905087836385,
          -0.7718451631451387,
          -0.763717648756995,
          -0.7555088308545247,
          -0.7472195833284199,
          -0.7388507886317123,
          -0.7304033376858313,
          -0.7218781297857596,
          -0.7132760725042938,
          -0.7045980815954281,
          -0.6958450808968654,
          -0.6870180022316672,
          -0.6781177853090545,
          -0.6691453776243684,
          -0.6601017343582013,
          -0.6509878182747136,
          -0.6418045996191362,
          -0.6325530560144828,
          -0.6232341723574744,
          -0.6138489407136892,
          -0.6043983602119504,
          -0.5948834369379603,
          -0.585305183827195,
          -0.5756646205570726,
          -0.5659627734383963,
          -0.5562006753060981,
          -0.5463793654092866,
          -0.5364998893006094
         ],
         "y": [
          -0.5214009179600401,
          -0.5313666397363908,
          -0.5412757935189593,
          -0.5511273244034528,
          -0.5609201836199699,
          -0.5706533286446532,
          -0.5803257233106716,
          -0.5899363379185291,
          -0.5994841493456824,
          -0.6089681411554627,
          -0.6183873037052814,
          -0.6277406342541143,
          -0.6370271370692512,
          -0.6462458235322986,
          -0.6553957122444268,
          -0.6644758291308462,
          -0.6734852075445058,
          -0.682422888368998,
          -0.6912879201206671,
          -0.7000793590498989,
          -0.708796269241592,
          -0.717437722714792,
          -0.7260027995214818,
          -0.7344905878445184,
          -0.7429001840947012,
          -0.7512306930069672,
          -0.7594812277356973,
          -0.767650909949129,
          -0.7757388699228612,
          -0.7837442466324422,
          -0.7916661878450332,
          -0.7995038502101347,
          -0.8072563993493659,
          -0.8149230099452937,
          -0.8225028658292916,
          -0.8299951600684272,
          -0.8373990950513678,
          -0.8447138825732904,
          -0.8519387439197934,
          -0.8590729099497953,
          -0.8661156211774172,
          -0.8730661278528343,
          -0.8799236900420938,
          -0.8866875777058844,
          -0.8933570707772568,
          -0.8999314592382793,
          -0.9064100431956246,
          -0.9127921329550786,
          -0.9190770490949633,
          -0.9252641225384675,
          -0.9313526946248739,
          -0.9373421171796784,
          -0.9432317525835944,
          -0.9490209738404314,
          -0.9547091646438435,
          -0.9602957194429401
         ]
        },
        {
         "line": {
          "color": "rgba(254,224,139, 0.75)",
          "shape": "spline",
          "width": 0.25
         },
         "mode": "lines",
         "type": "scatter",
         "uid": "d2a25ba6-249b-4104-8eee-67aa0f7b6604",
         "x": [
          -0.5060715415042679,
          -0.4957777594320006,
          -0.485429201679863,
          -0.47502701160145455,
          -0.46457233847590945,
          -0.4540663373809169,
          -0.4435101690651004,
          -0.4329049998197785,
          -0.4222520013501053,
          -0.41155235064561263,
          -0.40080722985017647,
          -0.39001782613140595,
          -0.37918533154947703,
          -0.36831094292543437,
          -0.35739586170895715,
          -0.3464412938456199,
          -0.33544844964365056,
          -0.3244185436402161,
          -0.31335279446723213,
          -0.3022524247167205,
          -0.2911186608057376,
          -0.27995273284087197,
          -0.2687558744823332,
          -0.2575293228076582,
          -0.24627431817503045,
          -0.23499210408623683
         ],
         "y": [
          -0.9766737402426126,
          -0.9819391087295514,
          -0.9870959883195003,
          -0.9921438092580086,
          -0.9970820138398974,
          -1.001910056470879,
          -1.0066274037278373,
          -1.0112335344177614,
          -1.0157279396353291,
          -1.0201101228191352,
          -1.0243795998065501,
          -1.0285358988872155,
          -1.03257856085516,
          -1.0365071390595328,
          -1.0403211994539534,
          -1.0440203206444658,
          -1.0476040939360973,
          -1.0510721233780114,
          -1.0544240258072541,
          -1.0576594308910896,
          -1.0607779811679134,
          -1.063779332086748,
          -1.0666631520453103,
          -1.0694291224266474,
          -1.0720769376343398,
          -1.0746063051262649
         ]
        },
        {
         "line": {
          "color": "rgba(217,239,139, 0.75)",
          "shape": "spline",
          "width": 0.25
         },
         "mode": "lines",
         "type": "scatter",
         "uid": "efbf5ee7-5243-4573-81d9-ca3ef33e18e6",
         "x": [
          -0.201121949914182,
          -0.18994591321902654,
          -0.17874962932731941,
          -0.16753429170175094,
          -0.1563010958360353,
          -0.1450512391274776,
          -0.13378592074933773,
          -0.12250634152300412,
          -0.11121370378999655,
          -0.09990921128379743,
          -0.08859406900154415,
          -0.07726948307558203,
          -0.06593666064489727,
          -0.054596809726442416,
          -0.043251139086368434,
          -0.03190085811117683,
          -0.0205471766788056,
          -0.009191305029662934,
          0.0021655463623778434,
          0.013522166919008172,
          0.024877346086525285,
          0.036229873464870624,
          0.04757853893665283,
          0.058922132796135764,
          0.07025944587819238,
          0.08158926968719123,
          0.09291039652581641,
          0.10422161962380157,
          0.11552173326656501,
          0.12680953292373223,
          0.1380838153775323,
          0.14934337885105448,
          0.16058702313635062,
          0.1718135497223713,
          0.18302176192272018,
          0.1942104650032145,
          0.20537846630923792,
          0.2165245753928673,
          0.2276476041397737,
          0.23874636689586504,
          0.2498196805936712,
          0.2608663648784527,
          0.27188524223402,
          0.2828751381082502,
          0.29383488103828803,
          0.30476330277541736,
          0.31565923840959004,
          0.32652152649359895,
          0.3373490091668821,
          0.34814053227894415,
          0.3588949455123822,
          0.36961110250550505,
          0.38028786097452455,
          0.39092408283532293,
          0.4015186343247623,
          0.41207038612153896,
          0.42257821346656227,
          0.43304099628284837
         ],
         "y": [
          -1.081457332150796,
          -1.083476141893023,
          -1.0853794589982555,
          -1.0871670805832896,
          -1.0888388160974307,
          -1.0903944873428073,
          -1.091833928493364,
          -1.0931569861125388,
          -1.0943635191696182,
          -1.0954533990547703,
          -1.0964265095927541,
          -1.0972827470553033,
          -1.0980220201721822,
          -1.0986442501409155,
          -1.099149370635189,
          -1.099537327811917,
          -1.0998080803169843,
          -1.0999615992896534,
          -1.0999978683656404,
          -1.09991688367886,
          -1.099718653861837,
          -1.0994032000447878,
          -1.098970555853365,
          -1.0984207674050754,
          -1.0977538933043642,
          -1.096970004636367,
          -1.0960691849593327,
          -1.0950515302957171,
          -1.0939171491219475,
          -1.0926661623568588,
          -1.0912987033488053,
          -1.0898149178614462,
          -1.0882149640582073,
          -1.0864990124854226,
          -1.0846672460541544,
          -1.082719860020696,
          -1.0806570619657587,
          -1.078479071772345,
          -1.0761861216023096,
          -1.0737784558716128,
          -1.0712563312242669,
          -1.0686200165049793,
          -1.065869792730495,
          -1.0630059530596423,
          -1.0600288027620832,
          -1.056938659185773,
          -1.0537358517231334,
          -1.0504207217759416,
          -1.0469936227189367,
          -1.0434549198621537,
          -1.0398049904119833,
          -1.0360442234309621,
          -1.0321730197963037,
          -1.0281917921571646,
          -1.0241009648906585,
          -1.0199009740566218,
          -1.0155922673511297,
          -1.011175304058776
         ]
        },
        {
         "line": {
          "color": "rgba(166,217,106, 0.75)",
          "shape": "spline",
          "width": 0.25
         },
         "mode": "lines",
         "type": "scatter",
         "uid": "69a09758-7efd-423b-b64b-396b19bca268",
         "x": [
          0.4645891005535625,
          0.4747251858943903,
          0.484811976144842,
          0.49484842390054173,
          0.5048334869846388,
          0.5147661285560265,
          0.5246453172170068,
          0.5344700271203899,
          0.5442392380760174,
          0.5539519356566978,
          0.5636071113035446,
          0.5732037624307031,
          0.5827408925294593,
          0.5922175112717155,
          0.6016326346128261,
          0.6109852848937797,
          0.6202744909427179,
          0.6294992881757823,
          0.6386587186972745,
          0.6477518313991247,
          0.656777682059653,
          0.6657353334416172,
          0.6746238553895347,
          0.683442324926269,
          0.6921898263488708,
          0.7008654513236641,
          0.7094682989805666,
          0.7179974760066361,
          0.7264520967388299,
          0.7348312832559734,
          0.7431341654699198,
          0.751359881215905,
          0.7595075763420647,
          0.7675764047981405,
          0.7755655287233212,
          0.7834741185332563,
          0.7913013530061924,
          0.7990464193682503,
          0.8067085133778232,
          0.8142868394090883,
          0.8217806105346237,
          0.8291890486071227,
          0.8365113843401957,
          0.843746857388252,
          0.8508947164254546,
          0.8579542192237358,
          0.8649246327298711,
          0.8718052331415975,
          0.8785953059827736,
          0.8852941461775693,
          0.8919010581236815,
          0.8984153557645637,
          0.9048363626606661,
          0.911163412059677,
          0.9173958469657568,
          0.9235330202077612,
          0.9295742945064417,
          0.9355190425406209,
          0.941366647012333,
          0.9471165007109232,
          0.9527680065761005,
          0.9583205777599354,
          0.9637736376877981,
          0.9691266201182293,
          0.9743789692017386,
          0.9795301395385233,
          0.984579596235102
         ],
         "y": [
          -0.9970742036813669,
          -0.9922882634988368,
          -0.9873992848825309,
          -0.9824077755001485,
          -0.9773142536661025,
          -0.9721192482876988,
          -0.966823298810215,
          -0.9614269551608847,
          -0.9559307776917931,
          -0.9503353371216908,
          -0.9446412144767314,
          -0.938849001030137,
          -0.9329592982408018,
          -0.9269727176908368,
          -0.9208898810220633,
          -0.9147114198714625,
          -0.908437975805587,
          -0.90207020025394,
          -0.8956087544413329,
          -0.8890543093192227,
          -0.8824075454960421,
          -0.875669153166525,
          -0.8688398320400373,
          -0.8619202912679201,
          -0.8549112493698514,
          -0.8478134341592358,
          -0.8406275826676289,
          -0.833354441068205,
          -0.8259947645982739,
          -0.8185493174808588,
          -0.81101887284534,
          -0.8034042126471713,
          -0.7957061275866882,
          -0.7879254170269934,
          -0.7800628889109619,
          -0.7721193596773346,
          -0.7640956541759477,
          -0.7559926055820774,
          -0.7478110553099243,
          -0.7395518529252414,
          -0.7312158560571161,
          -0.7228039303089151,
          -0.7143169491683995,
          -0.705755793917024,
          -0.697121353538425,
          -0.6884145246261079,
          -0.6796362112903475,
          -0.6707873250643045,
          -0.6618687848093734,
          -0.6528815166197681,
          -0.6438264537263575,
          -0.6347045363997589,
          -0.6255167118527016,
          -0.6162639341416692,
          -0.6069471640678304,
          -0.5975673690772707,
          -0.5881255231605337,
          -0.5786226067514819,
          -0.5690596066254904,
          -0.5594375157969796,
          -0.5497573334163027,
          -0.5400200646659934,
          -0.5302267206563896,
          -0.5203783183206402,
          -0.5104758803091068,
          -0.5005204348831737,
          -0.49051301580847323
         ]
        },
        {
         "line": {
          "color": "rgba(102,189,99, 0.75)",
          "shape": "spline",
          "width": 0.25
         },
         "mode": "lines",
         "type": "scatter",
         "uid": "e440aeca-7923-4cd7-9c06-0a32282780e7",
         "x": [
          0.9995011518034738,
          1.0042734665294468,
          1.008934855114133,
          1.0134848026879608,
          1.0179228066904784,
          1.0222483769258626,
          1.0264610356170618,
          1.0305603174585705,
          1.0345457696678233,
          1.0384169520352065,
          1.0421734369726805,
          1.0458148095610105,
          1.049340667595594,
          1.0527506216308868,
          1.0560442950234192,
          1.0592213239733979,
          1.0622813575648868,
          1.0652240578045717,
          1.068049099659089,
          1.0707561710909286,
          1.0733449730928994,
          1.0758152197211563,
          1.0781666381267838,
          1.0803989685859325,
          1.0825119645285077,
          1.0845053925654033,
          1.0863790325142813,
          1.0881326774238909,
          1.0897661335969284,
          1.0912792206114306,
          1.092671771340704,
          1.093943631971784,
          1.0950946620224247,
          1.0961247343566158,
          1.097033735198625,
          1.0978215641455644,
          1.0984881341784816,
          1.099033371671971,
          1.0994572164023046
         ],
         "y": [
          -0.45934458475476736,
          -0.4488148888182388,
          -0.4382356194284346,
          -0.42760794510923816,
          -0.4169330397310568,
          -0.40621208238116163,
          -0.39544625723345683,
          -0.3846367534176767,
          -0.3737847648880453,
          -0.36289149029139844,
          -0.35195813283478805,
          -0.34098590015258307,
          -0.32997600417308115,
          -0.3189296609846464,
          -0.30784809070138724,
          -0.2967325173283889,
          -0.28558416862652064,
          -0.27440427597681927,
          -0.2631940742444812,
          -0.25195480164246614,
          -0.24068769959473085,
          -0.22939401259910921,
          -0.21807498808985198,
          -0.2067318762998428,
          -0.19536593012250456,
          -0.1839784049734114,
          -0.17257055865162663,
          -0.16114365120076798,
          -0.1496989447698343,
          -0.13823770347379513,
          -0.12676119325396396,
          -0.11527068173816982,
          -0.10376743810074257,
          -0.09225273292232733,
          -0.08072783804954267,
          -0.0691940264545038,
          -0.05765257209421168,
          -0.04610474976984323,
          -0.03455183498594315
         ]
        },
        {
         "marker": {
          "color": "rgba(26,152,80, 0.75)",
          "size": 0.5
         },
         "mode": "markers",
         "type": "scatter",
         "uid": "805fa06e-8cc9-44bb-b658-251069b300fe",
         "x": [
          0.5480248571327632
         ],
         "y": [
          0.7139108879717515
         ]
        },
        {
         "marker": {
          "color": "rgba(26,152,80, 0.75)",
          "size": 0.5
         },
         "mode": "markers",
         "text": "mut 186",
         "type": "scatter",
         "uid": "b396167b-c2a8-4456-a715-905c4176e93e",
         "x": [
          0.8999880804581216
         ],
         "y": [
          0.004631957826407091
         ]
        },
        {
         "marker": {
          "color": "rgba(26,152,80, 0.75)",
          "size": 0.5
         },
         "mode": "markers",
         "text": "mut 194",
         "type": "scatter",
         "uid": "b8a878b7-c3ef-45b9-b793-a0c399551ac0",
         "x": [
          0.01901216336533623
         ],
         "y": [
          0.8997991651719676
         ]
        },
        {
         "marker": {
          "color": "rgba(26,152,80, 0.75)",
          "size": 0.5
         },
         "mode": "markers",
         "text": "mut 186",
         "type": "scatter",
         "uid": "521c7c57-13f8-46bb-b1af-266087fe98eb",
         "x": [
          0.8979863443150297
         ],
         "y": [
          0.06017080208646801
         ]
        },
        {
         "marker": {
          "color": "rgba(26,152,80, 0.75)",
          "size": 0.5
         },
         "mode": "markers",
         "text": "mut 138",
         "type": "scatter",
         "uid": "dad613a5-23d7-4f26-9f04-64e1b6ff34d1",
         "x": [
          -0.8887626301239745
         ],
         "y": [
          -0.14177795066622736
         ]
        },
        {
         "marker": {
          "color": "rgba(26,152,80, 0.75)",
          "size": 0.5
         },
         "mode": "markers",
         "text": "mut 186",
         "type": "scatter",
         "uid": "e4f0bff9-4d74-4c33-a730-418c55435417",
         "x": [
          0.7520408001831428
         ],
         "y": [
          0.49440331194268744
         ]
        },
        {
         "marker": {
          "color": "rgba(26,152,80, 0.75)",
          "size": 0.5
         },
         "mode": "markers",
         "text": "mut 156",
         "type": "scatter",
         "uid": "047c7bfb-f165-4b58-8dab-3f6ceafdcdb7",
         "x": [
          -0.5402786968768123
         ],
         "y": [
          -0.719790893038453
         ]
        },
        {
         "marker": {
          "color": "rgba(26,152,80, 0.75)",
          "size": 0.5
         },
         "mode": "markers",
         "text": "mut 186",
         "type": "scatter",
         "uid": "26290280-06b8-4a2a-8c9d-32a64a3f893a",
         "x": [
          0.22998275940131524
         ],
         "y": [
          0.8701194920113885
         ]
        },
        {
         "marker": {
          "color": "rgba(26,152,80, 0.75)",
          "size": 0.5
         },
         "mode": "markers",
         "text": "mut 219",
         "type": "scatter",
         "uid": "b5c543be-80d1-40ff-8266-cd75409d281e",
         "x": [
          0.18772066069202042
         ],
         "y": [
          -0.8802050633513485
         ]
        },
        {
         "marker": {
          "color": "rgba(26,152,80, 0.75)",
          "size": 0.5
         },
         "mode": "markers",
         "text": "mut 186",
         "type": "scatter",
         "uid": "e79f5906-e7fc-4638-9983-06e94aa3da1f",
         "x": [
          0.8837313614924567
         ],
         "y": [
          0.17034929032634313
         ]
        },
        {
         "marker": {
          "color": "rgba(26,152,80, 0.75)",
          "size": 0.5
         },
         "mode": "markers",
         "text": "mut 225",
         "type": "scatter",
         "uid": "7576d000-10f1-44a1-a98f-77360ca825bf",
         "x": [
          0.6894593021053516
         ],
         "y": [
          -0.5784858431633411
         ]
        },
        {
         "marker": {
          "color": "rgba(26,152,80, 0.75)",
          "size": 0.5
         },
         "mode": "markers",
         "text": "mut 186",
         "type": "scatter",
         "uid": "a6491dd2-ab02-45dd-8353-5effd2482f77",
         "x": [
          0.845444177335009
         ],
         "y": [
          0.3085840939036389
         ]
        },
        {
         "marker": {
          "color": "rgba(26,152,80, 0.75)",
          "size": 0.5
         },
         "mode": "markers",
         "text": "mut246",
         "type": "scatter",
         "uid": "a7479a57-0da0-4b7b-89ba-7b359f8723a9",
         "x": [
          0.8936262231687431
         ],
         "y": [
          -0.10692134148600928
         ]
        },
        {
         "marker": {
          "color": "rgba(215,48,39, 0.75)",
          "size": 0.5
         },
         "mode": "markers",
         "type": "scatter",
         "uid": "49232b68-1e07-4546-a656-196d663acb6f",
         "x": [
          -0.742979014261861
         ],
         "y": [
          0.5079194664181256
         ]
        },
        {
         "marker": {
          "color": "rgba(215,48,39, 0.75)",
          "size": 0.5
         },
         "mode": "markers",
         "text": "mut 194",
         "type": "scatter",
         "uid": "45d5a255-5393-4b71-b383-abb334577a50",
         "x": [
          -0.050367639227954376
         ],
         "y": [
          0.8985895063479222
         ]
        },
        {
         "marker": {
          "color": "rgba(215,48,39, 0.75)",
          "size": 0.5
         },
         "mode": "markers",
         "text": "mut 138",
         "type": "scatter",
         "uid": "3804f75f-7219-46ba-822e-7fc8c5cdc803",
         "x": [
          -0.8315286821494614
         ],
         "y": [
          -0.34432550117988636
         ]
        },
        {
         "marker": {
          "color": "rgba(215,48,39, 0.75)",
          "size": 0.5
         },
         "mode": "markers",
         "text": "mut 194",
         "type": "scatter",
         "uid": "aee1e11d-ccc6-4508-a1f2-930016d500c1",
         "x": [
          -0.3635990889446758
         ],
         "y": [
          0.8232834885497229
         ]
        },
        {
         "marker": {
          "color": "rgba(215,48,39, 0.75)",
          "size": 0.5
         },
         "mode": "markers",
         "text": "mut 203",
         "type": "scatter",
         "uid": "9e35d053-43e1-4c6c-b237-8bf6c6e3f544",
         "x": [
          -0.2818481385843938
         ],
         "y": [
          -0.8547289785519807
         ]
        },
        {
         "marker": {
          "color": "rgba(215,48,39, 0.75)",
          "size": 0.5
         },
         "mode": "markers",
         "text": "mut 194",
         "type": "scatter",
         "uid": "ee5c748f-ea8a-4e23-a14c-62142437d4c9",
         "x": [
          -0.19234116005655344
         ],
         "y": [
          0.8792069597928006
         ]
        },
        {
         "marker": {
          "color": "rgba(215,48,39, 0.75)",
          "size": 0.5
         },
         "mode": "markers",
         "text": "mut 225",
         "type": "scatter",
         "uid": "f3f6dbf0-f473-47e2-bb5f-31f206ff2480",
         "x": [
          0.7684331767883712
         ],
         "y": [
          -0.4685194262898091
         ]
        },
        {
         "marker": {
          "color": "rgba(244,109,67, 0.75)",
          "size": 0.5
         },
         "mode": "markers",
         "type": "scatter",
         "uid": "264644d9-9ccc-483a-b03d-6d0836138de8",
         "x": [
          -0.8984633332687275
         ],
         "y": [
          -0.052570322156587565
         ]
        },
        {
         "marker": {
          "color": "rgba(175,175,175,0.5)",
          "size": 0.5
         },
         "mode": "markers",
         "text": "mut 138",
         "type": "scatter",
         "uid": "0604634b-8751-4d7e-8828-b8a0b8327309",
         "x": [
          -0.8997948594553755
         ],
         "y": [
          0.019214861375534128
         ]
        },
        {
         "marker": {
          "color": "rgba(175,175,175,0.5)",
          "size": 0.5
         },
         "mode": "markers",
         "text": "mut 156",
         "type": "scatter",
         "uid": "08da2a7e-a11c-4d95-ae10-5dc1ae27d37d",
         "x": [
          -0.7065245397598058
         ],
         "y": [
          -0.5575150892282599
         ]
        },
        {
         "marker": {
          "color": "rgba(175,175,175,0.5)",
          "size": 0.5
         },
         "mode": "markers",
         "text": "mut 138",
         "type": "scatter",
         "uid": "ea1d77c6-9b96-4394-af41-1eee6562558b",
         "x": [
          -0.8977181725433747
         ],
         "y": [
          0.06404750335012106
         ]
        },
        {
         "marker": {
          "color": "rgba(175,175,175,0.5)",
          "size": 0.5
         },
         "mode": "markers",
         "text": "mut 203",
         "type": "scatter",
         "uid": "be91b238-7395-4b26-b58c-efeb2d7b9b7f",
         "x": [
          -0.37995150924822324
         ],
         "y": [
          -0.8158657062409214
         ]
        },
        {
         "marker": {
          "color": "rgba(175,175,175,0.5)",
          "size": 0.5
         },
         "mode": "markers",
         "text": "mut 138",
         "type": "scatter",
         "uid": "29c3bb29-2e8b-4cce-a8c1-092b9d9cb744",
         "x": [
          -0.8939401794233409
         ],
         "y": [
          0.10426387491631467
         ]
        },
        {
         "marker": {
          "color": "rgba(175,175,175,0.5)",
          "size": 0.5
         },
         "mode": "markers",
         "text": "mut 219",
         "type": "scatter",
         "uid": "13d84647-dba7-47a4-a43a-8e3eec0c0a2a",
         "x": [
          -0.14687125769179882
         ],
         "y": [
          -0.887935151722258
         ]
        },
        {
         "marker": {
          "color": "rgba(175,175,175,0.5)",
          "size": 0.5
         },
         "mode": "markers",
         "text": "mut 138",
         "type": "scatter",
         "uid": "0e05fe79-610f-4dd7-b0d8-151109fa1a27",
         "x": [
          -0.8678936881902456
         ],
         "y": [
          -0.23824471872327582
         ]
        },
        {
         "marker": {
          "color": "rgba(175,175,175,0.5)",
          "size": 0.5
         },
         "mode": "markers",
         "text": "mut 225",
         "type": "scatter",
         "uid": "6391306a-f00d-428e-a3c4-fbcaf4c345ad",
         "x": [
          0.6149489154113678
         ],
         "y": [
          -0.6571436916187984
         ]
        },
        {
         "marker": {
          "color": "rgba(175,175,175,0.5)",
          "size": 0.5
         },
         "mode": "markers",
         "text": "mut 138",
         "type": "scatter",
         "uid": "ab22f08c-3054-43d5-87a9-66a47ad9848d",
         "x": [
          -0.8958421344373185
         ],
         "y": [
          0.0864110534988979
         ]
        },
        {
         "marker": {
          "color": "rgba(175,175,175,0.5)",
          "size": 0.5
         },
         "mode": "markers",
         "text": "mut246",
         "type": "scatter",
         "uid": "ba6aee70-c01c-40df-8925-955fec26a8e1",
         "x": [
          0.821395659087152
         ],
         "y": [
          -0.36784394956663785
         ]
        },
        {
         "marker": {
          "color": "rgba(253,174,97, 0.75)",
          "size": 0.5
         },
         "mode": "markers",
         "type": "scatter",
         "uid": "7ef169db-9961-49f6-be36-adbf4298919b",
         "x": [
          -0.770263217093086
         ],
         "y": [
          -0.4655046470159127
         ]
        },
        {
         "marker": {
          "color": "rgba(175,175,175,0.5)",
          "size": 0.5
         },
         "mode": "markers",
         "text": "mut 156",
         "type": "scatter",
         "uid": "e5a05a77-e537-4fe1-9dd0-80c7808a9b7d",
         "x": [
          -0.6599274427060449
         ],
         "y": [
          -0.6119605954336111
         ]
        },
        {
         "marker": {
          "color": "rgba(175,175,175,0.5)",
          "size": 0.5
         },
         "mode": "markers",
         "text": "mut 219",
         "type": "scatter",
         "uid": "d312c34b-a44e-4dff-bae0-4d0a89212fdf",
         "x": [
          -0.026336840586531976
         ],
         "y": [
          -0.8996145679277986
         ]
        },
        {
         "marker": {
          "color": "rgba(175,175,175,0.5)",
          "size": 0.5
         },
         "mode": "markers",
         "text": "mut 156",
         "type": "scatter",
         "uid": "3d91a37e-ab39-4e4a-b75f-b4bf28518e3e",
         "x": [
          -0.7410989588205638
         ],
         "y": [
          -0.510658724820282
         ]
        },
        {
         "marker": {
          "color": "rgba(175,175,175,0.5)",
          "size": 0.5
         },
         "mode": "markers",
         "text": "mut 225",
         "type": "scatter",
         "uid": "e233422e-4c38-47d0-ac87-467393bb342a",
         "x": [
          0.41255903860401244
         ],
         "y": [
          -0.7998718895336508
         ]
        },
        {
         "marker": {
          "color": "rgba(175,175,175,0.5)",
          "size": 0.5
         },
         "mode": "markers",
         "text": "mut 156",
         "type": "scatter",
         "uid": "416077c7-c4c4-4713-a1ed-6d0907f9f2ab",
         "x": [
          -0.7881855811117091
         ],
         "y": [
          -0.4344692045791019
         ]
        },
        {
         "marker": {
          "color": "rgba(175,175,175,0.5)",
          "size": 0.5
         },
         "mode": "markers",
         "text": "mut246",
         "type": "scatter",
         "uid": "0d1753af-dda3-406c-8d19-df48143048d7",
         "x": [
          0.8284054956991064
         ],
         "y": [
          -0.35177312958143614
         ]
        },
        {
         "marker": {
          "color": "rgba(254,224,139, 0.75)",
          "size": 0.5
         },
         "mode": "markers",
         "type": "scatter",
         "uid": "bcb62040-e133-43c6-ba3b-3108bc2aadbe",
         "x": [
          -0.41030422719970905
         ],
         "y": [
          -0.8010308615415823
         ]
        },
        {
         "marker": {
          "color": "rgba(175,175,175,0.5)",
          "size": 0.5
         },
         "mode": "markers",
         "text": "mut 203",
         "type": "scatter",
         "uid": "7cad8e97-8f44-4ffd-8bb1-573d0a09f2df",
         "x": [
          -0.40276859244027613
         ],
         "y": [
          -0.8048462343477036
         ]
        },
        {
         "marker": {
          "color": "rgba(175,175,175,0.5)",
          "size": 0.5
         },
         "mode": "markers",
         "text": "mut 219",
         "type": "scatter",
         "uid": "96c51cba-a97e-4fff-9003-bd8388015f3b",
         "x": [
          -0.1601394211407526
         ],
         "y": [
          -0.8856383944910613
         ]
        },
        {
         "marker": {
          "color": "rgba(175,175,175,0.5)",
          "size": 0.5
         },
         "mode": "markers",
         "text": "mut 203",
         "type": "scatter",
         "uid": "e6db3ada-8f14-411c-ab05-711cf426e4ca",
         "x": [
          -0.3951974827874405
         ],
         "y": [
          -0.8085907182242885
         ]
        },
        {
         "marker": {
          "color": "rgba(175,175,175,0.5)",
          "size": 0.5
         },
         "mode": "markers",
         "text": "mut 225",
         "type": "scatter",
         "uid": "2b550e4b-fef3-409a-86da-aeb392575645",
         "x": [
          0.3842080325452691
         ],
         "y": [
          -0.8138698837822256
         ]
        },
        {
         "marker": {
          "color": "rgba(217,239,139, 0.75)",
          "size": 0.5
         },
         "mode": "markers",
         "type": "scatter",
         "uid": "e477bf6a-1153-48e9-8b50-29ecf6560eab",
         "x": [
          -0.12912974509822112
         ],
         "y": [
          -0.8906882220681198
         ]
        },
        {
         "marker": {
          "color": "rgba(175,175,175,0.5)",
          "size": 0.5
         },
         "mode": "markers",
         "text": "mut 219",
         "type": "scatter",
         "uid": "10186c24-6872-480c-9863-a03e84f1521c",
         "x": [
          -0.0934996385176396
         ],
         "y": [
          -0.895130056247175
         ]
        },
        {
         "marker": {
          "color": "rgba(175,175,175,0.5)",
          "size": 0.5
         },
         "mode": "markers",
         "text": "mut 225",
         "type": "scatter",
         "uid": "94368384-8726-4d8d-828e-b24fe5d002e6",
         "x": [
          0.4599570531522872
         ],
         "y": [
          -0.7735887209980923
         ]
        },
        {
         "marker": {
          "color": "rgba(166,217,106, 0.75)",
          "size": 0.5
         },
         "mode": "markers",
         "type": "scatter",
         "uid": "e6508f62-e230-4532-bb16-ea388efdd2ec",
         "x": [
          0.5056870835704793
         ],
         "y": [
          -0.7445002172665788
         ]
        },
        {
         "marker": {
          "color": "rgba(175,175,175,0.5)",
          "size": 0.5
         },
         "mode": "markers",
         "text": "mut 225",
         "type": "scatter",
         "uid": "30111f55-75ed-42ec-ab4e-c1663ee90c70",
         "x": [
          0.5531534956955022
         ],
         "y": [
          -0.7099445120569959
         ]
        },
        {
         "marker": {
          "color": "rgba(175,175,175,0.5)",
          "size": 0.5
         },
         "mode": "markers",
         "text": "mut246",
         "type": "scatter",
         "uid": "606d528e-9209-4046-b0a3-3e1f3d5695d0",
         "x": [
          0.8430242643569434
         ],
         "y": [
          -0.31513503408131976
         ]
        },
        {
         "marker": {
          "color": "rgba(102,189,99, 0.75)",
          "size": 0.5
         },
         "mode": "markers",
         "type": "scatter",
         "uid": "59be4d01-9d7c-4efb-8abc-47a935814440",
         "x": [
          0.8685374843144726
         ],
         "y": [
          -0.23588691854506708
         ]
        }
       ],
       "layout": {
        "annotations": [
         {
          "align": "left",
          "showarrow": false,
          "text": "mut 186",
          "valign": "bottom",
          "x": 0.8726448514199798,
          "y": 0.8237056290266573
         },
         {
          "align": "left",
          "showarrow": false,
          "text": "mut 194",
          "valign": "bottom",
          "x": -0.7670925092556223,
          "y": 0.9228050077041806
         },
         {
          "align": "left",
          "showarrow": false,
          "text": "mut 138",
          "valign": "bottom",
          "x": -1.1840934238451806,
          "y": -0.19473767895966562
         },
         {
          "align": "left",
          "showarrow": false,
          "text": "mut 156",
          "valign": "bottom",
          "x": -0.8594758136559936,
          "y": -0.8374373563081406
         },
         {
          "align": "left",
          "showarrow": false,
          "text": "mut 203",
          "valign": "bottom",
          "x": -0.4136567253267022,
          "y": -1.12644933911472
         },
         {
          "align": "left",
          "showarrow": false,
          "text": "mut 219",
          "valign": "bottom",
          "x": 0.1260237090180709,
          "y": -1.1933641626784879
         },
         {
          "align": "left",
          "showarrow": false,
          "text": "mut 225",
          "valign": "bottom",
          "x": 0.8373560779616077,
          "y": -0.8595550003930835
         },
         {
          "align": "left",
          "showarrow": false,
          "text": "mut246",
          "valign": "bottom",
          "x": 1.1680976411901036,
          "y": -0.27485978360996305
         }
        ],
        "height": 800,
        "hovermode": false,
        "margin": {
         "b": 25,
         "l": 25,
         "r": 25,
         "t": 25
        },
        "shapes": [
         {
          "fillcolor": "rgba(175,175,175,0.5)",
          "layer": "below",
          "line": {
           "color": "rgba(175,175,175,0.5)",
           "width": 0.5
          },
          "path": "M 0.7514561801168654, 0.6597830017241799 Q 0.3044582539626462, 0.39661715998430636 0.4431607902141944, 0.8964421420352408L 0.4431607902141944, 0.8964421420352408 L 0.5559481026334738, 0.8312170036628465 L 0.6592980311616735, 0.7518817101820878 L 0.7514561801168654, 0.6597830017241799 ",
          "type": "path"
         },
         {
          "fillcolor": "rgba(26,152,80, 0.75)",
          "layer": "below",
          "line": {
           "color": "rgba(26,152,80, 0.75)",
           "width": 0.5
          },
          "path": "M 1.0, 0.0 Q 0.14254713024194549, 0.14028654839215995 0.01598421701070828, 0.9998722442425105L 0.01598421701070828, 0.9998722442425105 L 0.0211246259614847, 0.9997768501910751 L 0.0262644765270469, 0.9996550291339309 M 0.0262644765270469, 0.9996550291339309 Q 0.14254638071067652, 0.1402873099973297 0.999947024609122, 0.010293103291237261L 0.999947024609122, 0.010293103291237261 L 0.9999867560645795, 0.0051466198071189895 L 1.0, 0.0 ",
          "type": "path"
         },
         {
          "fillcolor": "rgba(26,152,80, 0.75)",
          "layer": "below",
          "line": {
           "color": "rgba(26,152,80, 0.75)",
           "width": 0.5
          },
          "path": "M 0.999947024609122, 0.010293103291237261 Q -0.022287925392490762, 0.19875424116656926 -0.9773905890605603, -0.21144180385120379L -0.9773905890605603, -0.21144180385120379 L -0.9875140334710828, -0.1575310562958082 L -0.9946661934886006, -0.10314632097606656 M -0.9946661934886006, -0.10314632097606656 Q -0.022636342424883743, 0.19871486104874847 0.9923811704900641, 0.12320556990968516L 0.9923811704900641, 0.12320556990968516 L 0.9977626047944774, 0.06685644676274223 L 0.999947024609122, 0.010293103291237261 ",
          "type": "path"
         },
         {
          "fillcolor": "rgba(26,152,80, 0.75)",
          "layer": "below",
          "line": {
           "color": "rgba(26,152,80, 0.75)",
           "width": 0.5
          },
          "path": "M 0.9036363423124314, 0.42830054967535386 Q -0.1366145464682343, 0.14607007117571574 -0.4877271720914631, -0.872996108584491L -0.4877271720914631, -0.872996108584491 L -0.6003096631964581, -0.7997676589316144 L -0.7020642349520972, -0.7121136215528576 M -0.7020642349520972, -0.7121136215528576 Q -0.1372785456364576, 0.1454462131096545 0.7514561801168654, 0.6597830017241799L 0.7514561801168654, 0.6597830017241799 L 0.8356008890923808, 0.5493370132696527 L 0.9036363423124314, 0.42830054967535386 ",
          "type": "path"
         },
         {
          "fillcolor": "rgba(26,152,80, 0.75)",
          "layer": "below",
          "line": {
           "color": "rgba(26,152,80, 0.75)",
           "width": 0.5
          },
          "path": "M 0.4431607902141944, 0.8964421420352408 Q -0.19992575647663147, 0.005449027183512055 0.3936736329844068, -0.9192502764170695L 0.3936736329844068, -0.9192502764170695 L 0.2715042952377883, -0.96243722791018 L 0.14477627551888092, -0.9894644157557567 L 0.015617395556511671, -0.9998780410410218 M 0.015617395556511671, -0.9998780410410218 Q -0.19995576419822905, 0.0042062291785183534 0.05765143987472041, 0.9983367725774562L 0.05765143987472041, 0.9983367725774562 L 0.15738585248868447, 0.9875371858499356 L 0.2555363993347947, 0.9667994355682095 L 0.35111533412717133, 0.936332217826966 L 0.4431607902141944, 0.8964421420352408 ",
          "type": "path"
         },
         {
          "fillcolor": "rgba(26,152,80, 0.75)",
          "layer": "below",
          "line": {
           "color": "rgba(26,152,80, 0.75)",
           "width": 0.5
          },
          "path": "M 0.9923811704900641, 0.12320556990968516 Q -0.19354951764734216, 0.050384364821650686 0.8063447795617436, -0.5914457679902049L 0.8063447795617436, -0.5914457679902049 L 0.7660658912281684, -0.6427620479592678 L 0.7225268184106326, -0.6913428937057275 M 0.7225268184106326, -0.6913428937057275 Q -0.19363282260635106, 0.050063260076600884 0.9670723965794551, 0.2545014337367655L 0.9670723965794551, 0.2545014337367655 L 0.9819237349916186, 0.18927698925149236 L 0.9923811704900641, 0.12320556990968516 ",
          "type": "path"
         },
         {
          "fillcolor": "rgba(26,152,80, 0.75)",
          "layer": "below",
          "line": {
           "color": "rgba(26,152,80, 0.75)",
           "width": 0.5
          },
          "path": "M 0.9670723965794551, 0.2545014337367655 Q -0.19872540290309743, -0.02254360754186439 0.9995065603657315, -0.03141075907812924L 0.9995065603657315, -0.03141075907812924 L 0.9929180257430479, -0.11880149054001031 L 0.9787033358348601, -0.20527976136413686 M 0.9787033358348601, -0.20527976136413686 Q -0.19861084246497085, -0.02353153746261666 0.9036363423124314, 0.42830054967535386L 0.9036363423124314, 0.42830054967535386 L 0.9393824192611211, 0.34287121544848764 L 0.9670723965794551, 0.2545014337367655 ",
          "type": "path"
         },
         {
          "fillcolor": "rgba(175,175,175,0.5)",
          "layer": "below",
          "line": {
           "color": "rgba(175,175,175,0.5)",
           "width": 0.5
          },
          "path": "M -0.5046641249348137, 0.8633157713164857 Q -0.4127661190343672, 0.2821774813434031 -0.9876225070970737, 0.15684955682210475L -0.9876225070970737, 0.15684955682210475 L -0.9699112630394194, 0.24345870662040037 L -0.9446203244412849, 0.32816526728531414 L -0.9119473357640974, 0.4103072711916822 L -0.8721476309578122, 0.4892427922971128 L -0.8255322380687344, 0.5643549626868062 L -0.772465448607282, 0.6350567932932853 L -0.7133619706706694, 0.7007957611179301 L -0.6486836880683857, 0.7610581271059375 L -0.5789360507773624, 0.8153729509312356 L -0.5046641249348137, 0.8633157713164857 ",
          "type": "path"
         },
         {
          "fillcolor": "rgba(215,48,39, 0.75)",
          "layer": "below",
          "line": {
           "color": "rgba(215,48,39, 0.75)",
           "width": 0.5
          },
          "path": "M 0.01598421701070828, 0.9998722442425105 Q -0.16921858517257893, 0.10660708434335242 -0.8949786346392304, -0.44610900410022986L -0.8949786346392304, -0.44610900410022986 L -0.923920757943846, -0.3825838901998737 L -0.9483605353858356, -0.31719441187179054 M -0.9483605353858356, -0.31719441187179054 Q -0.1694480915022274, 0.10624191398056032 -0.12762248743089746, 0.9918228171916345L -0.12762248743089746, 0.9918228171916345 L -0.055964043586615976, 0.9984327848310247 L 0.01598421701070828, 0.9998722442425105 ",
          "type": "path"
         },
         {
          "fillcolor": "rgba(215,48,39, 0.75)",
          "layer": "below",
          "line": {
           "color": "rgba(215,48,39, 0.75)",
           "width": 0.5
          },
          "path": "M -0.29817077573566303, 0.9545125397275789 Q -0.19980867992250123, -0.008745937778618098 -0.2136291855329434, -0.9769148228420589L -0.2136291855329434, -0.9769148228420589 L -0.3131645984271042, -0.9496988650577564 L -0.4093654325545427, -0.9123705073211388 M -0.4093654325545427, -0.9123705073211388 Q -0.19971258828892396, -0.01071830578677234 -0.5046641249348137, 0.8633157713164857L -0.5046641249348137, 0.8633157713164857 L -0.40399898771630643, 0.9147594317219143 L -0.29817077573566303, 0.9545125397275789 ",
          "type": "path"
         },
         {
          "fillcolor": "rgba(215,48,39, 0.75)",
          "layer": "below",
          "line": {
           "color": "rgba(215,48,39, 0.75)",
           "width": 0.5
          },
          "path": "M -0.12762248743089746, 0.9918228171916345 Q -0.16297504014491931, -0.11592728880536259 0.8950723602137287, -0.4459209234622492L 0.8950723602137287, -0.4459209234622492 L 0.853814640875968, -0.5205771403220101 L 0.8063447795617436, -0.5914457679902049 M 0.8063447795617436, -0.5914457679902049 Q -0.16273376746595228, -0.11626573410225978 -0.29817077573566303, 0.9545125397275789L -0.29817077573566303, 0.9545125397275789 L -0.21371240006283715, 0.9768966219920007 L -0.12762248743089746, 0.9918228171916345 ",
          "type": "path"
         },
         {
          "fillcolor": "rgba(175,175,175,0.5)",
          "layer": "below",
          "line": {
           "color": "rgba(175,175,175,0.5)",
           "width": 0.5
          },
          "path": "M -0.9999080731368609, -0.013558955554542815 Q -0.4991462962604042, -0.029205734531437537 -0.9946661934886006, -0.10314632097606656L -0.9946661934886006, -0.10314632097606656 L -0.9982925925208084, -0.058411469062875074 L -0.9999080731368609, -0.013558955554542815 ",
          "type": "path"
         },
         {
          "fillcolor": "rgba(175,175,175,0.5)",
          "layer": "below",
          "line": {
           "color": "rgba(175,175,175,0.5)",
           "width": 0.5
          },
          "path": "M -0.9984176938342756, 0.05623262966149363 Q -0.18963718696648843, -0.06354319254992713 -0.7629696871519569, -0.6464342630826782L -0.7629696871519569, -0.6464342630826782 L -0.7850272663997842, -0.6194612102536221 L -0.8061317578747192, -0.5917360804833646 M -0.8061317578747192, -0.5917360804833646 Q -0.18963303137880005, -0.06355559306691304 -0.9999080731368609, -0.013558955554542815L -0.9999080731368609, -0.013558955554542815 L -0.9997720660615284, 0.0213498459728157 L -0.9984176938342756, 0.05623262966149363 ",
          "type": "path"
         },
         {
          "fillcolor": "rgba(175,175,175,0.5)",
          "layer": "below",
          "line": {
           "color": "rgba(175,175,175,0.5)",
           "width": 0.5
          },
          "path": "M -0.9962882950956875, 0.08607922545729714 Q -0.17241706037809362, -0.10135263830101722 -0.4093654325545427, -0.9123705073211388L -0.4093654325545427, -0.9123705073211388 L -0.4221683436091369, -0.9065174513788015 L -0.4348875923829749, -0.900484748339104 M -0.4348875923829749, -0.900484748339104 Q -0.17232736825201775, -0.10150506465853551 -0.9984176938342756, 0.05623262966149363L -0.9984176938342756, 0.05623262966149363 L -0.9974646361593053, 0.07116389261124562 L -0.9962882950956875, 0.08607922545729714 ",
          "type": "path"
         },
         {
          "fillcolor": "rgba(175,175,175,0.5)",
          "layer": "below",
          "line": {
           "color": "rgba(175,175,175,0.5)",
           "width": 0.5
          },
          "path": "M -0.9920619386492268, 0.12575018840358823 Q -0.15977404400258796, -0.1203006852144205 -0.15334151843836452, -0.9881732533938655L -0.15334151843836452, -0.9881732533938655 L -0.1631902863242209, -0.9865946130247311 L -0.17302281835393887, -0.9849178160277434 M -0.17302281835393887, -0.9849178160277434 Q -0.15977404400258796, -0.1203006852144205 -0.9943729729501075, 0.1059357855795892L -0.9943729729501075, 0.1059357855795892 L -0.9932668660259344, 0.1158487499070163 L -0.9920619386492268, 0.12575018840358823 ",
          "type": "path"
         },
         {
          "fillcolor": "rgba(175,175,175,0.5)",
          "layer": "below",
          "line": {
           "color": "rgba(175,175,175,0.5)",
           "width": 0.5
          },
          "path": "M -0.9773905890605603, -0.21144180385120379 Q -0.054337887116951714, -0.1924769960895728 0.7225268184106326, -0.6913428937057275L 0.7225268184106326, -0.6913428937057275 L 0.6832765726792975, -0.7301596573542204 L 0.6419441625804286, -0.7667513887362136 M 0.6419441625804286, -0.7667513887362136 Q -0.05440518991518204, -0.19245798323346575 -0.9483605353858356, -0.31719441187179054L -0.9483605353858356, -0.31719441187179054 L -0.964326320211384, -0.26471635413697314 L -0.9773905890605603, -0.21144180385120379 ",
          "type": "path"
         },
         {
          "fillcolor": "rgba(175,175,175,0.5)",
          "layer": "below",
          "line": {
           "color": "rgba(175,175,175,0.5)",
           "width": 0.5
          },
          "path": "M -0.9943729729501075, 0.1059357855795892 Q -0.05116870865778807, -0.19334364032544338 0.916599681321729, -0.3998062333192228L 0.916599681321729, -0.3998062333192228 L 0.9126618434301689, -0.4087154995184865 L 0.9086374107304306, -0.4175859861406976 M 0.9086374107304306, -0.4175859861406976 Q -0.05112350955324405, -0.19335559668900038 -0.9962882950956875, 0.08607922545729714L -0.9962882950956875, 0.08607922545729714 L -0.9953801493747984, 0.09601228166544211 L -0.9943729729501075, 0.1059357855795892 ",
          "type": "path"
         },
         {
          "fillcolor": "rgba(175,175,175,0.5)",
          "layer": "below",
          "line": {
           "color": "rgba(175,175,175,0.5)",
           "width": 0.5
          },
          "path": "M -0.8709123155901626, -0.491438438213151 Q -0.4279240094961589, -0.25861369278661817 -0.8400203035326955, -0.542554964637536L -0.8400203035326955, -0.542554964637536 L -0.8558480189923178, -0.5172273855732363 L -0.8709123155901626, -0.491438438213151 ",
          "type": "path"
         },
         {
          "fillcolor": "rgba(175,175,175,0.5)",
          "layer": "below",
          "line": {
           "color": "rgba(175,175,175,0.5)",
           "width": 0.5
          },
          "path": "M -0.7629696871519569, -0.6464342630826782 Q -0.08267151576755014, -0.18211375697814736 0.015617395556511671, -0.9998780410410218L 0.015617395556511671, -0.9998780410410218 L -0.02926315620725775, -0.9995717421419984 L -0.07408476150566021, -0.9972519481618722 M -0.07408476150566021, -0.9972519481618722 Q -0.0826868266414774, -0.18210680574861082 -0.7020642349520972, -0.7121136215528576L -0.7020642349520972, -0.7121136215528576 L -0.7332527141178277, -0.6799562171484568 L -0.7629696871519569, -0.6464342630826782 ",
          "type": "path"
         },
         {
          "fillcolor": "rgba(175,175,175,0.5)",
          "layer": "below",
          "line": {
           "color": "rgba(175,175,175,0.5)",
           "width": 0.5
          },
          "path": "M -0.8400203035326955, -0.542554964637536 Q -0.0486095783144563, -0.19400285795856398 0.4849510396955947, -0.8745413021110906L 0.4849510396955947, -0.8745413021110906 L 0.45839893178223606, -0.8887465439262787 L 0.4314311461912198, -0.9021458674162013 M 0.4314311461912198, -0.9021458674162013 Q -0.04865745412777748, -0.19399085586130918 -0.8061317578747192, -0.5917360804833646L -0.8061317578747192, -0.5917360804833646 L -0.8234432875784041, -0.5673985831336466 L -0.8400203035326955, -0.542554964637536 ",
          "type": "path"
         },
         {
          "fillcolor": "rgba(175,175,175,0.5)",
          "layer": "below",
          "line": {
           "color": "rgba(175,175,175,0.5)",
           "width": 0.5
          },
          "path": "M -0.8805243942587002, -0.4740008345091273 Q 0.010196080219453129, -0.19973993078039876 0.9242140864187139, -0.3818747470902231L 0.9242140864187139, -0.3818747470902231 L 0.9204505507767848, -0.39085903286826235 L 0.916599681321729, -0.3998062333192228 M 0.916599681321729, -0.3998062333192228 Q 0.010239041147105969, -0.1997377331311935 -0.8709123155901626, -0.491438438213151L -0.8709123155901626, -0.491438438213151 L -0.8757617567907878, -0.48274356064344653 L -0.8805243942587002, -0.4740008345091273 ",
          "type": "path"
         },
         {
          "fillcolor": "rgba(175,175,175,0.5)",
          "layer": "below",
          "line": {
           "color": "rgba(175,175,175,0.5)",
           "width": 0.5
          },
          "path": "M -0.46006503773115265, -0.887885218402375 Q -0.22794679288872724, -0.44501714530087905 -0.45171209526458633, -0.8921637646708576L -0.45171209526458633, -0.8921637646708576 L -0.4558935857774545, -0.8900342906017581 L -0.46006503773115265, -0.887885218402375 ",
          "type": "path"
         },
         {
          "fillcolor": "rgba(175,175,175,0.5)",
          "layer": "below",
          "line": {
           "color": "rgba(175,175,175,0.5)",
           "width": 0.5
          },
          "path": "M -0.45171209526458633, -0.8921637646708576 Q -0.06315829528550164, -0.18976572329224628 -0.17302281835393887, -0.9849178160277434L -0.17302281835393887, -0.9849178160277434 L -0.1779326901563918, -0.9840426605456236 L -0.18283813628561998, -0.9831430292279965 M -0.18283813628561998, -0.9831430292279965 Q -0.06321422826936288, -0.18974709838179052 -0.4433193670780582, -0.896363731290769L -0.4433193670780582, -0.896363731290769 L -0.44752065826697346, -0.8942735937196707 L -0.45171209526458633, -0.8921637646708576 ",
          "type": "path"
         },
         {
          "fillcolor": "rgba(175,175,175,0.5)",
          "layer": "below",
          "line": {
           "color": "rgba(175,175,175,0.5)",
           "width": 0.5
          },
          "path": "M -0.4433193670780582, -0.896363731290769 Q -0.0013219791754307889, -0.1999956308799263 0.4314311461912198, -0.9021458674162013L 0.4314311461912198, -0.9021458674162013 L 0.42689781393918785, -0.9042998708691395 L 0.42235372777596586, -0.906431094255788 M 0.42235372777596586, -0.906431094255788 Q -0.001387287972079611, -0.19999518852233053 -0.4348875923829749, -0.900484748339104L -0.4348875923829749, -0.900484748339104 L -0.4391083142082672, -0.8984341313603206 L -0.4433193670780582, -0.896363731290769 ",
          "type": "path"
         },
         {
          "fillcolor": "rgba(175,175,175,0.5)",
          "layer": "below",
          "line": {
           "color": "rgba(175,175,175,0.5)",
           "width": 0.5
          },
          "path": "M -0.15334151843836452, -0.9881732533938655 Q -0.07173874727678951, -0.49482679003784436 -0.13359919604489806, -0.9910354457920044L -0.13359919604489806, -0.9910354457920044 L -0.14347749455357903, -0.9896535800756887 L -0.15334151843836452, -0.9881732533938655 ",
          "type": "path"
         },
         {
          "fillcolor": "rgba(175,175,175,0.5)",
          "layer": "below",
          "line": {
           "color": "rgba(175,175,175,0.5)",
           "width": 0.5
          },
          "path": "M -0.13359919604489806, -0.9910354457920044 Q 0.042917208319447966, -0.1953410177870104 0.5367123111013723, -0.8437653080757846L 0.5367123111013723, -0.8437653080757846 L 0.5110633923914302, -0.8595430233312136 L 0.4849510396955947, -0.8745413021110906 M 0.4849510396955947, -0.8745413021110906 Q 0.042879948834840004, -0.19534920012101792 -0.07408476150566021, -0.9972519481618722L -0.07408476150566021, -0.9972519481618722 L -0.10388848724182177, -0.99458895138575 L -0.13359919604489806, -0.9910354457920044 ",
          "type": "path"
         },
         {
          "fillcolor": "rgba(175,175,175,0.5)",
          "layer": "below",
          "line": {
           "color": "rgba(175,175,175,0.5)",
           "width": 0.5
          },
          "path": "M 0.5367123111013723, -0.8437653080757846 Q 0.2809372686502663, -0.413611231814766 0.5865272537984115, -0.8099294910988819L 0.5865272537984115, -0.8099294910988819 L 0.5618745373005326, -0.827222463629532 L 0.5367123111013723, -0.8437653080757846 ",
          "type": "path"
         },
         {
          "fillcolor": "rgba(175,175,175,0.5)",
          "layer": "below",
          "line": {
           "color": "rgba(175,175,175,0.5)",
           "width": 0.5
          },
          "path": "M 0.5865272537984115, -0.8099294910988819 Q 0.16115240959464772, -0.11844788255532007 0.948084546018262, -0.31801838563414236L 0.948084546018262, -0.31801838563414236 L 0.9366936270632704, -0.35015003786813303 L 0.9242140864187139, -0.3818747470902231 M 0.9242140864187139, -0.3818747470902231 Q 0.1612755930137216, -0.11828010440506227 0.6419441625804286, -0.7667513887362136L 0.6419441625804286, -0.7667513887362136 L 0.6146149952172246, -0.7888272356188843 L 0.5865272537984115, -0.8099294910988819 ",
          "type": "path"
         },
         {
          "fillcolor": "rgba(175,175,175,0.5)",
          "layer": "below",
          "line": {
           "color": "rgba(175,175,175,0.5)",
           "width": 0.5
          },
          "path": "M 0.948084546018262, -0.31801838563414236 Q 0.48252082461915147, -0.13104828808059282 0.9787033358348601, -0.20527976136413686L 0.9787033358348601, -0.20527976136413686 L 0.9650416492383029, -0.26209657616118565 L 0.948084546018262, -0.31801838563414236 ",
          "type": "path"
         },
         {
          "fillcolor": "rgba(26,152,80, 0.75)",
          "layer": "below",
          "line": {
           "color": "rgba(26,152,80, 0.75)",
           "width": 0.45
          },
          "path": "M 1.1, 0.0 L 1.099944034658493, 0.011095973107211651 L 1.0997761443287348, 0.02219081714183367 L 1.0994963460944334, 0.033283403146165395 L 1.099104668426505, 0.044372602392272406 L 1.0986011511801759, 0.055457286496840445 L 1.097985845590927, 0.06653632753599421 L 1.0972588142692812, 0.07760859816006947 L 1.0964201311944315, 0.08867297170832673 L 1.0954698817067139, 0.09972832232359471 L 1.0944081624989226, 0.11077352506683222 L 1.0932350816064726, 0.12180745603159646 L 1.0919507583964054, 0.13282899245840632 L 1.0905553235552428, 0.14383701284898895 L 1.089048919075689, 0.15483039708039809 L 1.0874316982421826, 0.16580802651899218 L 1.0857038256152989, 0.17676878413426128 L 1.083865477015004, 0.18771155461249062 L 1.0819168395027658, 0.19863522447024964 L 1.0798581113625187, 0.2095386821676945 L 1.077689502080487, 0.2204208182216731 L 1.0754112323238691, 0.23128052531862067 L 1.0730235339183831, 0.24211669842723488 L 1.0705266498246775, 0.25292823491091815 L 1.0679208341136086, 0.26371403463997667 L 1.0652063519403876, 0.2744730001035647 L 1.0623834795175997, 0.28520403652136134 L 1.059452504087098, 0.2959060519549706 L 1.0564137238907751, 0.3065779574190313 L 1.0532674481402153, 0.31721866699202755 L 1.0500139969852313, 0.3278270979267864 L 1.0466537014812867, 0.33840217076065293 L 1.043186903555809, 0.3489428094253316 L 1.0396139559733986, 0.35944794135638136 L 1.035935222299931, 0.3699164976023548 L 1.0321510768655628, 0.38034741293356933 L 1.0282619047266428, 0.39073962595049994 L 1.024268101626529, 0.4010920791917821 L 1.02017007395532, 0.41140371924181396 L 1.0159682387085034, 0.4216734968379464 L 1.011663023444524, 0.43190036697725165 L 1.0072548662412772, 0.4420832890228571 L 1.0027442156515325, 0.45222122680983573 L 0.9981315306572913, 0.46231314875064156 L 0.9934172806230825, 0.47235802794007814 L 0.988601945248203, 0.4823548422597925 L 0.9836860145179045, 0.4923025744822804 L 0.9786699886535367, 0.5022002123743942 L 0.9735543780616459, 0.5120467488003435 L 0.968339703282039, 0.5218411818241763 L 0.9630264949348156, 0.5315825148117304 L 0.9576152936663755, 0.5412697565320472 L 0.9521066500944038, 0.5509019212582335 L 0.9465011247518436, 0.5604780288677652 L 0.9407992880298588, 0.569997104942219 L 0.9350017201197938, 0.5794581808664254 L 0.9291090109541358, 0.5888602939270298 L 0.9231217601464863, 0.598202487410453 L 0.9170405769305475, 0.6074838107002429 L 0.9108660800981293, 0.6167033193738042 L 0.9045988979361842, 0.6258600752984977 L 0.8982396681628755, 0.634953146727101 L 0.8917890378626872, 0.6439816083926178 L 0.8852476634205786, 0.6529445416024291 L 0.8786162104551941, 0.6618410343317753 L 0.8718953537511339, 0.6706701813165584 L 0.8650857771902899, 0.6794310841454578 L 0.8581881736822581, 0.6881228513513488 L 0.8512032450938312, 0.6967445985020131 L 0.8441317021775795, 0.705295448290135 L 0.836974264499529, 0.7137745306225717 L 0.8297316603659418, 0.7221809827088896 L 0.8224046267492063, 0.7305139491491581 L 0.8149939092128471, 0.7387725820209908 L 0.8075002618356604, 0.7469560409658255 L 0.7999244471349816, 0.755063493274436 L 0.792267235989096, 0.7630941139716636 L 0.7845294075587977, 0.7710470859003631 L 0.7767117492081063, 0.7789215998045528 L 0.7688150564241477, 0.7867168544117603 L 0.76084013273621, 0.7944320565145558 L 0.7527877896339797, 0.8020664210512664 L 0.7446588464849693, 0.8096191711858577 L 0.7364541304511412, 0.8170895383869836 L 0.7281744764047403, 0.8244767625061864 L 0.7198207268433419, 0.831780091855247 L 0.7113937318041224, 0.8389987832826724 L 0.702894348777364, 0.8461321022493152 L 0.6943234426192008, 0.8531793229031173 L 0.6856818854636149, 0.8601397281529685 L 0.6769705566336923, 0.8670126097416745 L 0.6681903425521475, 0.8737972683180257 L 0.6593421366511254, 0.8804930135079603 L 0.6504268392812893, 0.8870991639848118 L 0.6414453576202065, 0.8936150475386399 L 0.6323986055800377, 0.9000400011446292 L 0.6232875037145419, 0.9063733710305567 L 0.6141129791254052, 0.912614512743316 L 0.6048759653679039, 0.9187627912144932 L 0.5955774023559093, 0.9248175808249903 L 0.5862182362662481, 0.9307782654686826 L 0.5767994194424229, 0.9366442386151127 L 0.5673219102977062, 0.942414903371207 L 0.5577866732176184, 0.9480896725420134 L 0.5481946784617949, 0.9536679686904501 L 0.5385469020652578, 0.9591492241960653 L 0.5288443257390996, 0.9645328813127924 L 0.5190879367705884, 0.9698183922257062 L 0.5092787279227072, 0.9750052191067642 L 0.49941769733313435, 0.9800928341695341 L 0.4895058484126783, 0.9850807197228988 L 0.47954418974317453, 0.9899683682237339 L 0.4695337349748586, 0.994755282328553 L 0.4594755027232211, 0.9994409749441151 L 0.4493705164653581, 1.0040249692769885 L 0.4392198044358276, 1.0085067988820668 L 0.42902439952202087, 1.0128860077100332 L 0.4187853391590612, 1.0171621501537649 L 0.4085036652242394, 1.0213347910936759 L 0.39818042393099734, 1.0254035059419933 L 0.3878166657224704, 1.0293678806859605 L 0.37741344516459957, 1.033227511929966 L 0.36697182083882307, 1.0369820069365905 L 0.3564928552343617, 1.0406309836665697 L 0.345977614640104, 1.0441740708176697 L 0.335427169036106, 1.0476109078624676 L 0.32484259198471593, 1.0509411450850383 L 0.314224960521332, 1.0541644436165392 L 0.30357535504481065, 1.0572804754696916 L 0.29289485920752895, 1.0602889235721564 L 0.28218455980511775, 1.063189481798796 L 0.271445546665875, 1.0659818550028253 L 0.2606789125398689, 1.0686657590458448 L 0.24988575298774654, 1.071240920826752 L 0.23906716626925376, 1.0737070783095308 L 0.22822425323148215, 1.076063980549917 L 0.2173581171968521, 1.078311387720931 L 0.20646986385084318, 1.0804490711372816 L 0.1955606011294864, 1.0824768132786373 L 0.18463143910662505, 1.0843944078117596 L 0.17368348988095908, 1.0862016596114972 L 0.16271786746288341, 1.087898384780643 L 0.15173568766113193, 1.0894844106686445 L 0.14073806796923702, 1.0909595758891741 L 0.12972612745182038, 1.0923237303365492 L 0.11870098663072154, 1.093576735201007 L 0.10766376737097905, 1.0947184629828293 L 0.09661559276667525, 1.095748797505315 L 0.08555758702665468, 1.0966676339266042 L 0.07449087536013146, 1.0974748787503437 L 0.06341658386219245, 1.0981704498352018 L 0.05765143987472041, 0.9983367725774562 L 0.06771897760011951, 0.9977044352275851 L 0.07777962456968607, 0.9969705762969129 L 0.08783235706061386, 0.9961352704593773 L 0.09787615215543549, 0.9951986027116628 L 0.10790998784611049, 0.9941606683645517 L 0.11793284313801852, 0.9930215730332265 L 0.12794369815385181, 0.9917814326265219 L 0.13794153423739267, 0.9904403733351312 L 0.14792533405716674, 0.9889985316187662 L 0.15789408170996277, 0.9874560541922701 L 0.16784676282420458, 0.9858130980106905 L 0.17778236466316943, 0.9840698302533066 L 0.18769987622803924, 0.9822264283066195 L 0.19759828836077462, 0.9802830797463007 L 0.20747659384680195, 0.9782399823181064 L 0.2173337875175034, 0.9760973439177553 L 0.22716886635249683, 0.9738553825697743 L 0.236980829581699, 0.9715143264053133 L 0.24676867878715908, 0.969074413638932 L 0.25653141800465246, 0.9665358925443598 L 0.2662680538250263, 0.963899021429233 L 0.2759775954952824, 0.9611640686088105 L 0.2856590550193927, 0.9583313123786719 L 0.2953114472588326, 0.9554010409863984 L 0.3049337900328236, 0.9523735526022432 L 0.31452510421827634, 0.9492491552887906 L 0.3240844138494197, 0.9460281669696088 L 0.33361074621711184, 0.9427109153969003 L 0.3431031319678178, 0.9392977381181509 L 0.3525606052022458, 0.9357889824417822 L 0.3619822035736339, 0.9321850054018119 L 0.3713669683856722, 0.9284861737215235 L 0.3807139446900556, 0.9246928637761499 L 0.3900221813836553, 0.9208054615545757 L 0.3992907313052978, 0.9168243626200606 L 0.40851865133214366, 0.9127499720699894 L 0.4177050024756555, 0.9085827044946501 L 0.4268488499771442, 0.9043229839350482 L 0.4359492634028859, 0.899971243839758 L 0.4450053167387984, 0.895527927020817 L 0.45401608848466757, 0.8909934856086673 L 0.46298066174791563, 0.8863683810061492 L 0.4718981243368985, 0.881653083841551 L 0.4807675688537268, 0.8768480739207203 L 0.489588092786598, 0.8719538401782411 L 0.49835879860163174, 0.8669708806276819 L 0.5070787938341985, 0.8618997023109212 L 0.5157471911797329, 0.8567408212465518 L 0.5243631085840207, 0.8514947623773751 L 0.5329256693329528, 0.8461620595169841 L 0.5414340021417356, 0.8407432552954457 L 0.5498872412435489, 0.8352389011040847 L 0.558284526477641, 0.829649557039378 L 0.5666250033768562, 0.8239757918459606 L 0.5749078232545797, 0.8182181828587538 L 0.5831321432910967, 0.812377315944218 L 0.5912971266193539, 0.806453785440738 L 0.5994019424101139, 0.8004481940981456 L 0.6074457659564977, 0.794361153016387 L 0.6154277787579021, 0.7881932815833403 L 0.6233471686032862, 0.7819452074117894 L 0.6312031296538189, 0.7756175662755611 L 0.6389948625248764, 0.769211002044832 L 0.6467215743673839, 0.7627261666206112 L 0.6543824789484926, 0.7561637198684064 L 0.661976796731582, 0.7495243295510785 L 0.6695037549555828, 0.7428086712608941 L 0.6769625877136084, 0.7360174283507797 L 0.6843525360308906, 0.7291512918647876 L 0.691672847942009, 0.722210960467778 L 0.6989227785674069, 0.7151971403743275 L 0.7061015901891875, 0.7081105452768661 L 0.7132085523261797, 0.7009518962730573 L 0.720242941808269, 0.6937219217924214 L 0.7272040428499832, 0.6864213575222144 L 0.7340911471233276, 0.6790509463325686 L 0.740903553829861, 0.6716114382009007 L 0.7476405697720057, 0.6641035901355983 L 0.7543015094235834, 0.6565281660989906 L 0.7608856949995718, 0.6488859369296106 L 0.7673924565250722, 0.6411776802637591 L 0.7738211319034828, 0.6334041804563755 L 0.780171066983871, 0.6255662285012261 L 0.7864416156275362, 0.6176646219504162 L 0.792632139773758, 0.6097001648332349 L 0.7987420095047219, 0.6016736675743412 L 0.8047706031096168, 0.5935859469112992 L 0.8107173071478974, 0.5854378258114706 L 0.816581516511705, 0.5772301333882736 L 0.8223626344874401, 0.5689637048168161 L 0.8280600728164811, 0.5606393812489129 L 0.8336732517550431, 0.5522580097274935 L 0.8392016001331692, 0.5438204431004118 L 0.8446445554128507, 0.5353275399336633 L 0.850001563745267, 0.5267801644240231 L 0.8552720800271443, 0.5181791863111082 L 0.8604555679562214, 0.5095254807888774 L 0.8655515000858215, 0.5008199284165759 L 0.8705593578785231, 0.4920634150291338 L 0.8754786317589233, 0.4832568316470276 L 0.8803088211654899, 0.47440107438561474 L 0.8850494346014962, 0.4654970443639486 L 0.8896999896850333, 0.4565456476130855 L 0.8942600131980949, 0.4475477949838912 L 0.89872904113473, 0.4385044020543568 L 0.9031066187482568, 0.42941638903643464 L 0.9073923005975375, 0.4202846806824014 L 0.9115856505923022, 0.4111102061907597 L 0.9156862420375247, 0.4018938991116882 L 0.91969365767684, 0.3926366972520469 L 0.9236074897350031, 0.38333954257995123 L 0.9274273399593816, 0.37400338112892173 L 0.9311528196604808, 0.36462916290162006 L 0.9347835497514935, 0.3552178417731817 L 0.9383191607868753, 0.3457703753941539 L 0.9417592929999371, 0.33628772509304977 L 0.9451035963394532, 0.3267708557785285 L 0.9483517305052809, 0.3172207358412105 L 0.9515033649829877, 0.307638337055139 L 0.954558179077483, 0.2980246344788967 L 0.9575158619456503, 0.2883806063563887 L 0.9603761126279773, 0.2787072340173012 L 0.9631386400791799, 0.26900550177724597 L 0.9658031631978178, 0.2592763968376012 L 0.9683694108548977, 0.2495209091850588 L 0.9708371219214622, 0.23974003149088788 L 0.9732060452951613, 0.22993475900992555 L 0.9754759399258028, 0.2201060894793044 L 0.977646574839881, 0.21025502301692786 L 0.9797177291640792, 0.20038256201970278 L 0.9816891921477443, 0.19048971106154045 L 0.9835607631843326, 0.18057747679113603 L 0.9853322518318217, 0.17064686782953692 L 0.9870034778320897, 0.16069889466751025 L 0.9885742711292569, 0.15073456956272016 L 0.9900444718869899, 0.14075490643672553 L 0.991413930504766, 0.13076092077180812 L 0.9926825076330957, 0.1207536295076421 L 0.9938500741877023, 0.11073405093781495 L 0.9949165113626568, 0.1007032046062111 L 0.995881710642467, 0.09066211120326792 L 0.9967455738131195, 0.08061179246211521 L 0.9975080129720738, 0.07055327105460861 L 0.9981689505372063, 0.06048757048726746 L 0.9987283192547052, 0.05041571499712767 L 0.9991860622059135, 0.040338729447520365 L 0.9995421328131212, 0.030257639223786718 L 0.9997964948443042, 0.020173470128939698 L 0.9999491224168118, 0.010087248279283319 L 1.0, 0.0 L 1.1 ,0.0",
          "type": "path"
         },
         {
          "fillcolor": "rgba(215,48,39, 0.75)",
          "layer": "below",
          "line": {
           "color": "rgba(215,48,39, 0.75)",
           "width": 0.45
          },
          "path": "M 0.028890924179751594, 1.099620532047324 L 0.017741926051835537, 1.0998569107206497 L 0.006591104522628573, 1.0999802531596519 L -0.0045603943979988, 1.0999905466879862 L -0.015711424630558884, 1.09988779024775 L -0.026860840143732485, 1.0996719943995905 L -0.03800749507215091, 1.0993431813216201 L -0.04915024383416088, 1.0989013848071367 L -0.060287941249559114, 1.0983466502611503 L -0.07141944265728804, 1.0976790346957177 L -0.08254360403307598, 1.0968986067240813 L -0.09365928210701191, 1.0960054465536198 L -0.10476533448104484, 1.0949996459776026 L -0.11586061974639121, 1.093881308365758 L -0.1269439976008418, 1.0926505486536477 L -0.1380143289659549, 1.0913074933308566 L -0.1490704761041224, 1.0898522804279902 L -0.16011130273550095, 1.0882850595024913 L -0.1711356741547904, 1.086605991623268 L -0.18214245734785092, 1.0848152493541408 L -0.19313052110814855, 1.0829130167361067 L -0.2040987361530122, 1.0808994892684256 L -0.2150459752396943, 1.0787748738885277 L -0.22597111328122196, 1.076539388950746 L -0.2368730274620251, 1.0741932642038745 L -0.2477505973533337, 1.0717367407675573 L -0.25860270502832766, 1.0691700711075072 L -0.2694282351770292, 1.0664935190095586 L -0.2802260752209289, 1.063707359552558 L -0.2909951154273284, 1.060811879080092 L -0.30173424902339174, 1.057807375171061 L -0.3124423723098927, 1.0546941566090933 L -0.32311838477464483, 1.0514725433508119 L -0.33376118920560677, 1.0481428664929506 L -0.3443696918036456, 1.0447054682383272 L -0.35494280229494984, 1.0411607018606726 L -0.36547943404308253, 1.0375089316683246 L -0.3759785041606575, 1.0337505329667862 L -0.38643893362063164, 1.0298858920201546 L -0.39685964736720125, 1.025915406011422 L -0.4072395744262878, 1.0218394830016582 L -0.4175776480156075, 1.0176585418880704 L -0.42787280565430763, 1.0133730123609526 L -0.4381239892721606, 1.0089833348595247 L -0.44833014531830734, 1.0044899605266673 L -0.45849022486953317, 0.9998933511625553 L -0.4686031837380699, 0.9951939791771979 L -0.4786679825789108, 0.9903923275418867 L -0.48868358699662756, 0.9854888897395595 L -0.49864896765167954, 0.9804841697140829 L -0.5085631003662004, 0.9753786818184607 L -0.5184249662292602, 0.9701729507619714 L -0.5282335517015793, 0.9648675115562422 L -0.5379878487196952, 0.9594629094602639 L -0.5476868547995642, 0.9539596999243528 L -0.5573295731395909, 0.9483584485330647 L -0.5669150127230707, 0.9426597309470691 L -0.5764421884200439, 0.9368641328439844 L -0.5859101210885386, 0.9309722498581867 L -0.5953178376752009, 0.9249846875195953 L -0.6046643713152994, 0.9189020611914385 L -0.6139487614320932, 0.9127249960070114 L -0.623170053835554, 0.9064541268054291 L -0.6323273008204316, 0.9000900980663812 L -0.6414195612636527, 0.8936335638438965 L -0.6504459007210438, 0.8870851876991241 L -0.6594053915233675, 0.8804456426321359 L -0.6682971128716609, 0.8737156110127612 L -0.677120150931872, 0.866895784510456 L -0.685873598928776, 0.859986864023218 L -0.6945565572391678, 0.8529895596055527 L -0.7031681334843206, 0.845904590395499 L -0.7117074426216968, 0.8387326845407209 L -0.7201736070359097, 0.8314745791236718 L -0.7285657566289171, 0.8241310200858438 L -0.7368830289094452, 0.8167027621511034 L -0.7451245690816302, 0.8091905687481257 L -0.7532895301328676, 0.801595211931935 L -0.7613770729208641, 0.7939174723045573 L -0.7693863662598781, 0.7861581389347952 L -0.7773165870061448, 0.7783180092771326 L -0.7851669201424725, 0.770397889089777 L -0.7929365588620055, 0.7623985923518493 L -0.8006247046511421, 0.7543209411797286 L -0.8082305673716011, 0.7461657657425593 L -0.8157533653416273, 0.7379339041769322 L -0.8231923254163271, 0.7296262025007463 L -0.8305466830671281, 0.7212435145262601 L -0.8378156824603511, 0.7127867017723438 L -0.8449985765348919, 0.7042566333759355 L -0.8520946270789977, 0.695654186002718 L -0.8591031048061365, 0.6869802437570214 L -0.8660232894299486, 0.67823569809096 L -0.8728544697382723, 0.669421447712814 L -0.8795959436662388, 0.6605383984946667 L -0.886247018368425, 0.6515874633793047 L -0.8928070102900599, 0.6425695622863916 L -0.8992752452372765, 0.6334856220179242 L -0.9056510584464007, 0.6243365761629813 L -0.9119337946522709, 0.6151233650017777 L -0.9181228081555829, 0.6058469354090248 L -0.9242174628892503, 0.5965082407566195 L -0.9302171324837764, 0.5871082408156615 L -0.9361212003316254, 0.5776479016578154 L -0.941929059650597, 0.5681281955560226 L -0.9476401135461858, 0.5585501008845778 L -0.9532537750729265, 0.5489146020185787 L -0.958769467294716, 0.5392226892327572 L -0.964186623344108, 0.5294753585997062 L -0.9695046864805713, 0.5196736118875089 L -0.9747231101477085, 0.5098184564567844 L -0.9798413580294275, 0.4999109051571564 L -0.98485890410506, 0.4899519762231604 L -0.9897752327034235, 0.479942693169595 L -0.9945898385558181, 0.4698840846863321 L -0.9993022268479546, 0.45977718453259436 L -1.0039119132708088, 0.44962303143071364 L -1.0084184240703953, 0.43942266895937526 L -1.0128212960964575, 0.42917714544636687 L -1.0171200768500666, 0.4188875138608396 L -1.0213143245301262, 0.4085548317050877 L -1.0254036080787787, 0.3981801609058673 L -1.0293875072257068, 0.3877645677052577 L -1.033265612531325, 0.37730912255108007 L -1.0370375254288597, 0.3668148999868836 L -1.0407028582653117, 0.3562829785415107 L -1.0442612343412967, 0.34571444061825296 L -1.0477122879497593, 0.33511037238360847 L -1.051055664413559, 0.3244718636556528 L -1.0542910201219204, 0.3138000077920341 L -1.0574180225657488, 0.3030959015776055 L -1.0604363503718028, 0.2923606451117034 L -1.0633456933357215, 0.28159534169508876 L -1.066145752453908, 0.2708010977165537 L -1.068836239954257, 0.25997902253921573 L -1.0714168793257308, 0.24913022838650556 L -1.0738874053467777, 0.23825583022785746 L -1.0762475641125893, 0.22735694566412148 L -1.0784971130611951, 0.2164346948127033 L -1.080635820998392, 0.20549020019244557 L -1.0826634681215048, 0.1945245866082629 L -1.0845798460419755, 0.18353898103554134 L -1.0863847578067811, 0.17253451250431523 L -0.9876225070970737, 0.15684955682210475 L -0.9859816782199777, 0.1668536191232194 L -0.9842395164740951, 0.176840533280239 L -0.982396200907629, 0.18680927290222324 L -0.9804519209647227, 0.1967588134660939 L -0.9784068764659901, 0.2066881324219286 L -0.9762612775879798, 0.2165962092980522 L -0.9740153448415735, 0.22648202580591412 L -0.9716693090493245, 0.23634456594474154 L -0.9692234113217345, 0.2461828161059579 L -0.966677903032474, 0.2559957651773534 L -0.9640330457925479, 0.2657824046470031 L -0.961289111423408, 0.27554172870691407 L -0.9584463819290184, 0.2852727343563946 L -0.9555051494668716, 0.29497442150513886 L -0.952465716317963, 0.3046457930760077 L -0.9493283948557242, 0.3142858551075027 L -0.9460935075139197, 0.3238936168559188 L -0.9427613867535087, 0.3334680908971669 L -0.9393323750284772, 0.3430082932282546 L -0.9358068247506426, 0.35251324336841605 L -0.9321850982534352, 0.3619819644598793 L -0.92846756775466, 0.3714134833682615 L -0.9246546153182422, 0.38080683078258143 L -0.9207466328149614, 0.39016104131487894 L -0.9167440218821774, 0.39947515359943203 L -0.9126471938825533, 0.40874821039155784 L -0.9084565698617768, 0.41797925866599484 L -0.904172580505289, 0.4271673497148473 L -0.8997956660940213, 0.4363115392450863 L -0.8953262764591454, 0.4454108874756003 L -0.8907648709358431, 0.45446445923377854 L -0.8861119183160986, 0.4634713240516221 L -0.8813678968005193, 0.47243055626137176 L -0.876533293949189, 0.481341235090642 L -0.8716086066315599, 0.490202444757052 L -0.8665943409753877, 0.49901327456234423 L -0.8614910123147144, 0.5077728189859798 L -0.8562991451369063, 0.5164801777782023 L -0.8510192730287502, 0.5251344560525595 L -0.8456519386216148, 0.533734764377874 L -0.8401976935356821, 0.542280218869654 L -0.8346570983232571, 0.5507699412809316 L -0.8290307224111553, 0.5592030590925251 L -0.8233191440421824, 0.5675787056027103 L -0.8175229502157059, 0.5758960200162947 L -0.8116427366273271, 0.5841541475330833 L -0.805679107607659, 0.5923522394357316 L -0.799632676060217, 0.6004894531769697 L -0.7935040633984293, 0.6085649524661945 L -0.7872938994817713, 0.6165779073554181 L -0.7810028225510331, 0.6245274943245649 L -0.7746314791627251, 0.6324128963661072 L -0.7681805241226289, 0.6402333030690321 L -0.761650620418501, 0.6479879107021307 L -0.7550424391519346, 0.6556759222966001 L -0.7483566594693882, 0.6632965477279511 L -0.7415939684923885, 0.670849003797211 L -0.73475506124691, 0.6783325143114175 L -0.7278406405919473, 0.6857463101633896 L -0.7208514171472777, 0.693089629410772 L -0.7137881092204295, 0.7003617173543427 L -0.7066514427328588, 0.707561826615575 L -0.6994421511453437, 0.7146892172134501 L -0.6921609753826037, 0.7217431566405066 L -0.6848086637571523, 0.7287229199381227 L -0.677385971892391, 0.7356277897710233 L -0.6698936626449502, 0.742457056501003 L -0.6623325060262882, 0.749210018259858 L -0.6547032791235542, 0.7558859810215198 L -0.6470067660197243, 0.7624842586733825 L -0.6392437577130187, 0.7690041730868172 L -0.631415052035607, 0.775445054186866 L -0.6235214535716145, 0.7818062400211072 L -0.615563773574429, 0.7880870768276872 L -0.6075428298833281, 0.7942869191025101 L -0.599459446839425, 0.800405129665578 L -0.5913144552009488, 0.8064410797264764 L -0.5831086920578661, 0.8123941489489968 L -0.5748430007458469, 0.8182637255148919 L -0.5665182307595945, 0.8240492061867537 L -0.5581352376655392, 0.8297499963700103 L -0.5496948830139085, 0.8353655101740349 L -0.5411980342501825, 0.8408951704723593 L -0.5326455646259441, 0.8463384089619879 L -0.5240383531091308, 0.8516946662218039 L -0.5153772842937006, 0.8569633917700628 L -0.5066632483087189, 0.8621440441209679 L -0.4978971407268765, 0.8672360908403207 L -0.48907986247245017, 0.8722390086002398 L -0.48021231972870837, 0.8771522832329474 L -0.47129542384478196, 0.8819754097836103 L -0.4623300912420004, 0.8867078925622369 L -0.45331724331970863, 0.8913492451946208 L -0.4442578063605705, 0.8958989906723267 L -0.43515271143537343, 0.9003566614017151 L -0.42600289430733623, 0.904721799251998 L -0.4168092953359392, 0.9089939556023229 L -0.4075728593802794, 0.9131726913878793 L -0.39829453570196416, 0.9172575771450224 L -0.38897527786755237, 0.9212481930554113 L -0.37961604365055224, 0.9251441289891549 L -0.37021779493298884, 0.928944984546962 L -0.36078149760654654, 0.9326503691012926 L -0.3513081214733015, 0.936259901836504 L -0.3417986401460522, 0.9397732117879875 L -0.33225403094825684, 0.943189937880295 L -0.32267527481359076, 0.9465097289642477 L -0.3130633561851323, 0.9497322438530246 L -0.30341926291418797, 0.9528571513572278 L -0.293743986158768, 0.9558841303189197 L -0.2840385202817206, 0.9588128696446302 L -0.2743038627485379, 0.9616430683373282 L -0.264541014024844, 0.9643744355273564 L -0.2547509774735717, 0.9670066905023252 L -0.24493475925184469, 0.9695395627359622 L -0.23509336820757057, 0.9719727919159156 L -0.2252278157757579, 0.9743061279705066 L -0.21533911587456825, 0.9765393310944313 L -0.20542828480111086, 0.9786721717734053 L -0.1954963411269948, 0.9807044308077524 L -0.18554430559364743, 0.9826358993349322 L -0.17557320100740775, 0.984466378851006 L -0.1655840521344099, 0.986195681231037 L -0.15557788559526398, 0.9878236287484254 L -0.1455557297595463, 0.9893500540931738 L -0.13551861464011128, 0.9907748003890818 L -0.1254675717872317, 0.9920977212098695 L -0.11540363418258345, 0.9933186805942252 L -0.10532783613308291, 0.9944375530597799 L -0.09524121316458621, 0.9954542236160022 L -0.08514480191546536, 0.9963685877760179 L -0.07503964003006906, 0.9971805515673466 L -0.06492676605208003, 0.9978900315415614 L -0.05480721931778101, 0.9984969547828639 L -0.04468203984923716, 0.9990012589155788 L -0.034552268247409916, 0.9994028921105637 L -0.02441894558521135, 0.9997018130905367 L -0.014283113300508077, 0.9998979911343181 L -0.004145813089089818, 0.9999914060799875 L 0.005991913202389611, 0.9999820483269563 L 0.01612902368348685, 0.9998699188369543 L 0.0262644765270469, 0.9996550291339309 L 0.028890924179751594 ,1.099620532047324",
          "type": "path"
         },
         {
          "fillcolor": "rgba(244,109,67, 0.75)",
          "layer": "below",
          "line": {
           "color": "rgba(244,109,67, 0.75)",
           "width": 0.45
          },
          "path": "M -1.0912681325141496, 0.13832520724394706 L -1.092638085359732, 0.12705122754786582 L -1.093891568955204, 0.11576370488509106 L -1.0950284496860632, 0.10446384244386761 L -1.0960486063670352, 0.09315284472779274 L -1.0969519302549913, 0.08183191742742468 L -1.0977383250605408, 0.07050226729175957 L -1.0984077069582938, 0.059165101999600685 L -1.0989600045957975, 0.047821630030825894 L -1.099395159101141, 0.03647306053757034 L -1.0997131240892317, 0.025120603215337406 L -1.099913865666739, 0.013765468174051354 L -1.0999973624357078, 0.0024088658090680986 L -1.0999636054958386, -0.00894799332784921 L -1.0998125984454368, -0.02030389865756645 L -1.0995443573810286, -0.03165763970262014 L -1.0991589108956463, -0.04300800621624769 L -1.0986563000757792, -0.05435378831139318 L -1.0980365784969943, -0.0656937765896746 L -1.0972998122182263, -0.07702676227029967 L -1.096446079774735, -0.0883515373189133 L -1.0954754721697346, -0.09966689457637039 L -1.0943880928646923, -0.11097162788741038 L -1.0931840577683012, -0.12226453222922741 L -1.091863495224124, -0.13354440383991908 L -1.0904265459969131, -0.14481004034680145 L -1.0888733632576049, -0.15606024089457332 L -1.0872041125669933, -0.16729380627332394 L -1.0854189718580822, -0.1785095390463602 L -1.0835181314171172, -0.18970624367784725 L -1.0815017938633043, -0.20088272666024626 L -1.0793701741272097, -0.21203779664153566 L -1.0771234994278511, -0.22317026455220282 L -1.0747620092484764, -0.23427894373199276 L -1.0722859553110364, -0.24536265005639796 L -1.0696956015493524, -0.2564202020628821 L -1.0669912240809827, -0.2674504210768159 L -1.06417311117779, -0.27845213133711766 L -1.061241563235212, -0.28942416012158306 L -1.0581968927402428, -0.30036533787189157 L -1.055039424238122, -0.31127449831827275 L -1.0517694942977407, -0.32215047860382723 L -1.048387451475765, -0.33299211940847917 L -1.044893656279481, -0.3437982650725536 L -1.0412884811283682, -0.35456776371996385 L -1.0375723103144001, -0.36529946738099467 L -1.0337455399610818, -0.37599223211467014 L -1.029808577981224, -0.38664491813069163 L -1.0257618440334648, -0.3972563899109314 L -1.0216057694775327, -0.40782551633047537 L -1.0173407973282675, -0.41835117077819334 L -1.0129673822083987, -0.42883223127682957 L -1.0084859903000827, -0.4392675806025998 L -1.0038970992952125, -0.4496561064042814 L -0.9992011983444972, -0.45999670132178216 L -0.9943987880053213, -0.47028826310418176 L -0.9894903801883884, -0.4805296947272237 L -0.9844764981031539, -0.49071990451025244 L -0.8949786346392307, -0.44610900410022947 L -0.8995367092621712, -0.4368451770247488 L -0.9039988981866557, -0.4275347846401652 L -0.9083647257677246, -0.4181788193834383 L -0.9126337266320113, -0.4087782785493467 L -0.9168054457273479, -0.3993341641841816 L -0.9208794383712714, -0.38984748297893596 L -0.924855270298425, -0.3803192461619939 L -0.9287325177068477, -0.3707504693913412 L -0.9325107673031497, -0.3611421726463012 L -0.9361896163465673, -0.35149538011881054 L -0.9397686726918923, -0.3418111201042456 L -0.9432475548312728, -0.3320904248918133 L -0.9466258919348801, -0.32233433065451256 L -0.9499033238904373, -0.3125438773386851 L -0.9530795013416044, -0.30272010855316284 L -0.9561540857252188, -0.29286407145802473 L -0.9591267493073835, -0.2829768166529752 L -0.9619971752184023, -0.27305939806535595 L -0.9647650574865563, -0.26311287283780277 L -0.967430101070718, -0.25313830121556147 L -0.9699920218918024, -0.24313674643346894 L -0.9724505468630475, -0.23310927460262007 L -0.9748054139191239, -0.2230569545967254 L -0.9770563720440694, -0.21298085793817523 L -0.9792031812980464, -0.20288205868382073 L -0.9812456128429178, -0.19276163331048696 L -0.9831834489666401, -0.18262066060022386 L -0.9850164831064702, -0.17246022152531568 L -0.9867445198709838, -0.1622813991330547 L -0.988367375060903, -0.15208527843029448 L -0.9898848756887316, -0.14187294626779393 L -0.9912968599971936, -0.13164549122436495 L -0.9926031774764763, -0.12140400349083552 L -0.9938036888802737, -0.11114957475384309 L -0.9948982662406293, -0.10088329807946397 L -0.9958867928815768, -0.09060626779670035 L -0.9967691634315773, -0.08031957938083027 L -0.9975452838347512, -0.07002432933663606 L -0.9982150713609039, -0.05972161508152236 L -0.9987784546143446, -0.04941253482853925 L -0.9992353735414966, -0.03909818746931608 L -0.9995857794372988, -0.028779672456927394 L -0.9998296349503969, -0.01845808968869677 L -0.999966914087126, -0.008134539388953825 L -0.9999976022142798, 0.0021898780082437257 L -0.9999216960606718, 0.01251406197641032 L -0.9997392037174833, 0.022836912013943094 L -0.9994501446374008, 0.033157327761427574 L -0.999054549632543, 0.04347420911893263 L -0.9985524608711761, 0.053786456363273345 L -0.9979439318732188, 0.06409297026523597 L -0.9972290275045375, 0.0743926522067497 L -0.9964078239700319, 0.0846844042979934 L -0.9954804088055119, 0.0949671294944251 L -0.9944468808683672, 0.10523973171371914 L -0.9933073503270289, 0.11550111595260529 L -0.9920619386492268, 0.12575018840358823 L -1.0912681325141496 ,0.13832520724394706",
          "type": "path"
         },
         {
          "fillcolor": "rgba(253,174,97, 0.75)",
          "layer": "below",
          "line": {
           "color": "rgba(253,174,97, 0.75)",
           "width": 0.45
          },
          "path": "M -0.9685768336845704, -0.5214009179600401 L -0.9631456245943585, -0.5313666397363908 L -0.9576118813749238, -0.5412757935189593 L -0.9519761931350444, -0.5511273244034528 L -0.9462391598363171, -0.5609201836199699 L -0.9404013922292851, -0.5706533286446532 L -0.9344635117884197, -0.5803257233106716 L -0.9284261506459602, -0.5899363379185291 L -0.9222899515246188, -0.5994841493456824 L -0.9160555676691565, -0.6089681411554627 L -0.9097236627768414, -0.6183873037052814 L -0.9032949109267928, -0.6277406342541143 L -0.8967699965082204, -0.6370271370692512 L -0.8901496141475664, -0.6462458235322986 L -0.8834344686345562, -0.6553957122444268 L -0.876625274847169, -0.6644758291308462 L -0.8697227576755331, -0.6734852075445058 L -0.8627276519447572, -0.682422888368998 L -0.8556407023367008, -0.6912879201206671 L -0.8484626633106981, -0.7000793590498989 L -0.8411942990232404, -0.708796269241592 L -0.8338363832466255, -0.717437722714792 L -0.8263896992865842, -0.7260027995214818 L -0.8188550398988907, -0.7344905878445184 L -0.8112332072049686, -0.7429001840947012 L -0.8035250126064976, -0.7512306930069672 L -0.7957312766990362, -0.7594812277356973 L -0.7878528291846608, -0.767650909949129 L -0.7798905087836385, -0.7757388699228612 L -0.7718451631451387, -0.7837442466324422 L -0.763717648756995, -0.7916661878450332 L -0.7555088308545247, -0.7995038502101347 L -0.7472195833284199, -0.8072563993493659 L -0.7388507886317123, -0.8149230099452937 L -0.7304033376858313, -0.8225028658292916 L -0.7218781297857596, -0.8299951600684272 L -0.7132760725042938, -0.8373990950513678 L -0.7045980815954281, -0.8447138825732904 L -0.6958450808968654, -0.8519387439197934 L -0.6870180022316672, -0.8590729099497953 L -0.6781177853090545, -0.8661156211774172 L -0.6691453776243684, -0.8730661278528343 L -0.6601017343582013, -0.8799236900420938 L -0.6509878182747136, -0.8866875777058844 L -0.6418045996191362, -0.8933570707772568 L -0.6325530560144828, -0.8999314592382793 L -0.6232341723574744, -0.9064100431956246 L -0.6138489407136892, -0.9127921329550786 L -0.6043983602119504, -0.9190770490949633 L -0.5948834369379603, -0.9252641225384675 L -0.585305183827195, -0.9313526946248739 L -0.5756646205570726, -0.9373421171796784 L -0.5659627734383963, -0.9432317525835944 L -0.5562006753060981, -0.9490209738404314 L -0.5463793654092866, -0.9547091646438435 L -0.5364998893006094, -0.9602957194429401 L -0.4877271720914631, -0.872996108584491 L -0.4967085140084423, -0.867917422403494 L -0.5056369775509982, -0.8627463398549375 L -0.5145116122167238, -0.8574834114396311 L -0.5233314732337023, -0.8521291974360712 L -0.5320956216610863, -0.8466842678407944 L -0.5408031244890548, -0.8411492023076976 L -0.5494530547381367, -0.8355245900863303 L -0.5580444915578993, -0.8298110299591622 L -0.5665765203249766, -0.8240091301778405 L -0.5750482327404388, -0.8181195083984357 L -0.5834587269264874, -0.8121427916156879 L -0.5918071075224669, -0.8060796160962584 L -0.6000924857801829, -0.7999306273109943 L -0.6083139796585167, -0.793696479866213 L -0.6164707139173222, -0.7873778374340156 L -0.6245618202106065, -0.7809753726816321 L -0.6325864371789685, -0.7744897671998121 L -0.6405437105412982, -0.7679217114302639 L -0.6484327931857216, -0.7612719045921524 L -0.6562528452597814, -0.7545410546076611 L -0.6640030342598466, -0.7477298780266286 L -0.6716825351197384, -0.7408390999502669 L -0.6792905302985635, -0.733869453953969 L -0.6868262098677497, -0.7268216820092133 L -0.6942887715972681, -0.7196965344045756 L -0.7016774210410351, -0.7124947696658566 L -0.7089913716214895, -0.7052171544753283 L -0.716229844713328, -0.6978644635901172 L -0.7233920697263965, -0.6904374797597247 L -0.730477284187725, -0.6829369936426974 L -0.7374847338226986, -0.6753638037224555 L -0.7444136726353552, -0.6677187162222894 L -0.7512633629878038, -0.6600025450195289 L -0.7580330756787503, -0.6522161115589018 L -0.7647220900211276, -0.6443602447650836 L -0.7713296939188163, -0.6364357809544535 L -0.7778551839424551, -0.6284435637460609 L -0.7842978654043247, -0.6203844439718164 L -0.7906570524323028, -0.6122592795859143 L -0.7969320680428809, -0.6040689355734965 L -0.8031222442132329, -0.5958142838585698 L -0.809226921952333, -0.5874962032111806 L -0.8152454513711094, -0.5791155791538647 L -0.8211771917516297, -0.5706733038673766 L -0.8270215116153102, -0.5621702760957104 L -0.8327777887901422, -0.5536074010504206 L -0.8384454104769261, -0.5449855903142566 L -0.8440237733145093, -0.5363057617441173 L -0.8495122834440179, -0.5275688393733378 L -0.8549103565720773, -0.518775753313321 L -0.8602174180330155, -0.509927439654518 L -0.8654329028500404, -0.5010248403667752 L -0.8705562557953852, -0.4920689031990539 L -0.8755869314494167, -0.48306058157853704 L -0.8805243942587002, -0.4740008345091273 L -0.9685768336845704 ,-0.5214009179600401",
          "type": "path"
         },
         {
          "fillcolor": "rgba(254,224,139, 0.75)",
          "layer": "below",
          "line": {
           "color": "rgba(254,224,139, 0.75)",
           "width": 0.45
          },
          "path": "M -0.5060715415042679, -0.9766737402426126 L -0.4957777594320006, -0.9819391087295514 L -0.485429201679863, -0.9870959883195003 L -0.47502701160145455, -0.9921438092580086 L -0.46457233847590945, -0.9970820138398974 L -0.4540663373809169, -1.001910056470879 L -0.4435101690651004, -1.0066274037278373 L -0.4329049998197785, -1.0112335344177614 L -0.4222520013501053, -1.0157279396353291 L -0.41155235064561263, -1.0201101228191352 L -0.40080722985017647, -1.0243795998065501 L -0.39001782613140595, -1.0285358988872155 L -0.37918533154947703, -1.03257856085516 L -0.36831094292543437, -1.0365071390595328 L -0.35739586170895715, -1.0403211994539534 L -0.3464412938456199, -1.0440203206444658 L -0.33544844964365056, -1.0476040939360973 L -0.3244185436402161, -1.0510721233780114 L -0.31335279446723213, -1.0544240258072541 L -0.3022524247167205, -1.0576594308910896 L -0.2911186608057376, -1.0607779811679134 L -0.27995273284087197, -1.063779332086748 L -0.2687558744823332, -1.0666631520453103 L -0.2575293228076582, -1.0694291224266474 L -0.24627431817503045, -1.0720769376343398 L -0.23499210408623683, -1.0746063051262649 L -0.21362918553294255, -0.976914822842059 L -0.2238857437954822, -0.9746153978493998 L -0.23411756618878019, -0.9722082931151339 L -0.2443235222566665, -0.9696937745866455 L -0.25450248440079265, -0.9670721200788617 L -0.264653328005216, -0.9643436192435576 L -0.27477493156065497, -0.9615085735373541 L -0.2848661767883928, -0.9585672961884127 L -0.2949259487638328, -0.9555201121618284 L -0.3049531360396823, -0.9523673581237247 L -0.31494663076874535, -0.9491093824040597 L -0.32490532882632467, -0.9457465449581394 L -0.33482812993221306, -0.9422792173268479 L -0.34471393777225184, -0.9387077825956 L -0.35456166011945994, -0.9350326353520141 L -0.36437020895470584, -0.9312541816423183 L -0.37413850058692055, -0.9273728389264864 L -0.383865455772823, -0.9233890360321173 L -0.39354999983616223, -0.9193032131070558 L -0.40319106278645483, -0.9151158215707611 L -0.4127875794371971, -0.9108273240644352 L -0.422338489523554, -0.9064381943999066 L -0.4318427378195041, -0.9019489175072805 L -0.44129927425442084, -0.8973599893813639 L -0.4507070540290914, -0.8926719170268648 L -0.46006503773115265, -0.887885218402375 L -0.5060715415042679 ,-0.9766737402426126",
          "type": "path"
         },
         {
          "fillcolor": "rgba(217,239,139, 0.75)",
          "layer": "below",
          "line": {
           "color": "rgba(217,239,139, 0.75)",
           "width": 0.45
          },
          "path": "M -0.201121949914182, -1.081457332150796 L -0.18994591321902654, -1.083476141893023 L -0.17874962932731941, -1.0853794589982555 L -0.16753429170175094, -1.0871670805832896 L -0.1563010958360353, -1.0888388160974307 L -0.1450512391274776, -1.0903944873428073 L -0.13378592074933773, -1.091833928493364 L -0.12250634152300412, -1.0931569861125388 L -0.11121370378999655, -1.0943635191696182 L -0.09990921128379743, -1.0954533990547703 L -0.08859406900154415, -1.0964265095927541 L -0.07726948307558203, -1.0972827470553033 L -0.06593666064489727, -1.0980220201721822 L -0.054596809726442416, -1.0986442501409155 L -0.043251139086368434, -1.099149370635189 L -0.03190085811117683, -1.099537327811917 L -0.0205471766788056, -1.0998080803169843 L -0.009191305029662934, -1.0999615992896534 L 0.0021655463623778434, -1.0999978683656404 L 0.013522166919008172, -1.09991688367886 L 0.024877346086525285, -1.099718653861837 L 0.036229873464870624, -1.0994032000447878 L 0.04757853893665283, -1.098970555853365 L 0.058922132796135764, -1.0984207674050754 L 0.07025944587819238, -1.0977538933043642 L 0.08158926968719123, -1.096970004636367 L 0.09291039652581641, -1.0960691849593327 L 0.10422161962380157, -1.0950515302957171 L 0.11552173326656501, -1.0939171491219475 L 0.12680953292373223, -1.0926661623568588 L 0.1380838153775323, -1.0912987033488053 L 0.14934337885105448, -1.0898149178614462 L 0.16058702313635062, -1.0882149640582073 L 0.1718135497223713, -1.0864990124854226 L 0.18302176192272018, -1.0846672460541544 L 0.1942104650032145, -1.082719860020696 L 0.20537846630923792, -1.0806570619657587 L 0.2165245753928673, -1.078479071772345 L 0.2276476041397737, -1.0761861216023096 L 0.23874636689586504, -1.0737784558716128 L 0.2498196805936712, -1.0712563312242669 L 0.2608663648784527, -1.0686200165049793 L 0.27188524223402, -1.065869792730495 L 0.2828751381082502, -1.0630059530596423 L 0.29383488103828803, -1.0600288027620832 L 0.30476330277541736, -1.056938659185773 L 0.31565923840959004, -1.0537358517231334 L 0.32652152649359895, -1.0504207217759416 L 0.3373490091668821, -1.0469936227189367 L 0.34814053227894415, -1.0434549198621537 L 0.3588949455123822, -1.0398049904119833 L 0.36961110250550505, -1.0360442234309621 L 0.38028786097452455, -1.0321730197963037 L 0.39092408283532293, -1.0281917921571646 L 0.4015186343247623, -1.0241009648906585 L 0.41207038612153896, -1.0199009740566218 L 0.42257821346656227, -1.0155922673511297 L 0.43304099628284837, -1.011175304058776 L 0.39367363298440755, -0.9192502764170691 L 0.3841620122423293, -0.9232656975919361 L 0.37460944192867174, -0.927182703687838 L 0.36501694029523846, -0.9310008771733259 L 0.35538552985029354, -0.9347198110519677 L 0.34571623724956774, -0.9383391089057306 L 0.33601009318682273, -0.9418583849372382 L 0.3262681322839838, -0.9452772640108937 L 0.31649139298085827, -0.948595381692867 L 0.30668091742443826, -0.9518123842899423 L 0.2968377513578172, -0.9549279288872196 L 0.2869629440087182, -0.9579416833846668 L 0.27705754797765214, -0.9608533265325208 L 0.2671226191257164, -0.9636625479655301 L 0.25715921646204565, -0.9663690482360384 L 0.24716840203092724, -0.9689725388459045 L 0.23715124079859337, -0.9714727422772538 L 0.2271088005397011, -0.9738693920220608 L 0.21704215172351365, -0.976162232610557 L 0.20695236739979425, -0.9783510196384632 L 0.1968405230844248, -0.9804355197930408 L 0.18670769664476172, -0.9824155108779623 L 0.17655496818474045, -0.9842907818369963 L 0.16638341992974562, -0.9860611327765039 L 0.15619413611124663, -0.9877263749867478 L 0.14598820285122782, -0.9892863309620066 L 0.13576670804641314, -0.9907408344194965 L 0.1255307412523021, -0.9920897303170957 L 0.11528139356702928, -0.9933328748698714 L 0.10501975751505908, -0.9944701355654066 L 0.09474692693072868, -0.9955013911779246 L 0.08446399684165128, -0.9964265317812114 L 0.07417206335199202, -0.9972454587603335 L 0.06387222352562943, -0.9979580848221492 L 0.05356557526921433, -0.9985643340046139 L 0.04325321721513893, -0.999064141684877 L 0.032936248604427835, -0.9994574545861706 L 0.02261576916956844, -0.9997442307834883 L 0.012292879017280156, -0.9999244397080544 L 0.0019686785112525847, -0.9999980621505821 L -0.008355731845148122, -0.9999650902633211 L -0.018679251526186907, -0.9998255275608947 L -0.02900078010106984, -0.9995793889199244 L -0.03931921735124403, -0.9992267005774443 L -0.04963346338767492, -0.998767500128105 L -0.059942418768088424, -0.9982018365201655 L -0.07024498461416548, -0.9975297700502755 L -0.08054006272867649, -0.9967513723570491 L -0.09082655571254311, -0.9958667264134274 L -0.10110336708181504, -0.9948759265178345 L -0.11136940138454919, -0.993779078284126 L -0.12162356431757976, -0.9925762986303308 L -0.13186476284316145, -0.9912677157661883 L -0.14209190530548663, -0.9898534691794825 L -0.1523039015470463, -0.9883337096211723 L -0.16249966302483582, -0.9867085990893232 L -0.17267810292638774, -0.9849783108118391 L -0.18283813628561998, -0.9831430292279965 L -0.201121949914182 ,-1.081457332150796",
          "type": "path"
         },
         {
          "fillcolor": "rgba(166,217,106, 0.75)",
          "layer": "below",
          "line": {
           "color": "rgba(166,217,106, 0.75)",
           "width": 0.45
          },
          "path": "M 0.4645891005535625, -0.9970742036813669 L 0.4747251858943903, -0.9922882634988368 L 0.484811976144842, -0.9873992848825309 L 0.49484842390054173, -0.9824077755001485 L 0.5048334869846388, -0.9773142536661025 L 0.5147661285560265, -0.9721192482876988 L 0.5246453172170068, -0.966823298810215 L 0.5344700271203899, -0.9614269551608847 L 0.5442392380760174, -0.9559307776917931 L 0.5539519356566978, -0.9503353371216908 L 0.5636071113035446, -0.9446412144767314 L 0.5732037624307031, -0.938849001030137 L 0.5827408925294593, -0.9329592982408018 L 0.5922175112717155, -0.9269727176908368 L 0.6016326346128261, -0.9208898810220633 L 0.6109852848937797, -0.9147114198714625 L 0.6202744909427179, -0.908437975805587 L 0.6294992881757823, -0.90207020025394 L 0.6386587186972745, -0.8956087544413329 L 0.6477518313991247, -0.8890543093192227 L 0.656777682059653, -0.8824075454960421 L 0.6657353334416172, -0.875669153166525 L 0.6746238553895347, -0.8688398320400373 L 0.683442324926269, -0.8619202912679201 L 0.6921898263488708, -0.8549112493698514 L 0.7008654513236641, -0.8478134341592358 L 0.7094682989805666, -0.8406275826676289 L 0.7179974760066361, -0.833354441068205 L 0.7264520967388299, -0.8259947645982739 L 0.7348312832559734, -0.8185493174808588 L 0.7431341654699198, -0.81101887284534 L 0.751359881215905, -0.8034042126471713 L 0.7595075763420647, -0.7957061275866882 L 0.7675764047981405, -0.7879254170269934 L 0.7755655287233212, -0.7800628889109619 L 0.7834741185332563, -0.7721193596773346 L 0.7913013530061924, -0.7640956541759477 L 0.7990464193682503, -0.7559926055820774 L 0.8067085133778232, -0.7478110553099243 L 0.8142868394090883, -0.7395518529252414 L 0.8217806105346237, -0.7312158560571161 L 0.8291890486071227, -0.7228039303089151 L 0.8365113843401957, -0.7143169491683995 L 0.843746857388252, -0.705755793917024 L 0.8508947164254546, -0.697121353538425 L 0.8579542192237358, -0.6884145246261079 L 0.8649246327298711, -0.6796362112903475 L 0.8718052331415975, -0.6707873250643045 L 0.8785953059827736, -0.6618687848093734 L 0.8852941461775693, -0.6528815166197681 L 0.8919010581236815, -0.6438264537263575 L 0.8984153557645637, -0.6347045363997589 L 0.9048363626606661, -0.6255167118527016 L 0.911163412059677, -0.6162639341416692 L 0.9173958469657568, -0.6069471640678304 L 0.9235330202077612, -0.5975673690772707 L 0.9295742945064417, -0.5881255231605337 L 0.9355190425406209, -0.5786226067514819 L 0.941366647012333, -0.5690596066254904 L 0.9471165007109232, -0.5594375157969796 L 0.9527680065761005, -0.5497573334163027 L 0.9583205777599354, -0.5400200646659934 L 0.9637736376877981, -0.5302267206563896 L 0.9691266201182293, -0.5203783183206402 L 0.9743789692017386, -0.5104758803091068 L 0.9795301395385233, -0.5005204348831737 L 0.984579596235102, -0.49051301580847323 L 0.895072360213729, -0.4459209234622484 L 0.8904819450350211, -0.4550185771665215 L 0.8857990629106713, -0.46406898209918795 L 0.8810242001074811, -0.4730711984733092 L 0.8761578524434528, -0.4820242915058088 L 0.8712005252363049, -0.49092733151453943 L 0.8661527332510004, -0.4997793940148206 L 0.8610150006462938, -0.508579559815436 L 0.8557878609203027, -0.5173269151140821 L 0.8504718568551098, -0.5260205515922562 L 0.8450675404604014, -0.534659566509576 L 0.8395754729161464, -0.5432430627975188 L 0.8339962245143243, -0.551770149152573 L 0.8283303745997063, -0.5602399401287902 L 0.8225785115096964, -0.5686515562297287 L 0.8167412325132396, -0.5770041239997807 L 0.8108191437488013, -0.5852967761148704 L 0.8048128601614266, -0.5935286514725164 L 0.798723005438885, -0.6016988952812485 L 0.7925502119469068, -0.6098066591493677 L 0.7862951206635191, -0.6178511011730431 L 0.779958381112487, -0.6258313860237343 L 0.7735406512958677, -0.6337466850349317 L 0.7670425976256835, -0.6415961762882036 L 0.7604648948547232, -0.6493790446985449 L 0.7538082260064751, -0.6570944820990137 L 0.7470732823042033, -0.664741687324651 L 0.7402607630991711, -0.672319866295674 L 0.733371375798021, -0.6798282320999312 L 0.7264058357893184, -0.6872660050746158 L 0.7193648663692658, -0.6946324128872251 L 0.7122491986665966, -0.7019266906157586 L 0.7050595715666556, -0.7091480808281471 L 0.6977967316346732, -0.716295833660903 L 0.6904614330382406, -0.7233692068969892 L 0.6830544374690045, -0.7303674660428829 L 0.6755765140635634, -0.7372898844048545 L 0.6680284393236121, -0.744135743164417 L 0.6604109970352999, -0.7509043314529762 L 0.6527249781878509, -0.7575949464256408 L 0.6449711808914241, -0.7642068933342081 L 0.63715041029424, -0.7707394855993053 L 0.6292634784989735, -0.777192044881683 L 0.6213112044784264, -0.7835639011526546 L 0.6132944139904861, -0.7898543927636702 L 0.6052139394923792, -0.7960628665150227 L 0.59707062005423, -0.8021886777236745 L 0.5888653012719315, -0.8082311902902024 L 0.5805988351793404, -0.814189776764848 L 0.572272080159802, -0.8200638184126727 L 0.5638859008570163, -0.8258527052778063 L 0.5554411680852542, -0.8315558362467841 L 0.5469387587389328, -0.8371726191109665 L 0.5383795557015595, -0.8427024706280334 L 0.5297644477540538, -0.848144816582547 L 0.5210943294824574, -0.853499091845579 L 0.5123701011850404, -0.8587647404333921 L 0.5035926687788161, -0.8639412155651734 L 0.4947629437054703, -0.8690279797198118 L 0.48588184283671804, -0.8740245046917133 L 0.4769502883790971, -0.87893027164565 L 0.4679692077782059, -0.8837447711706352 L 0.45893953362239887, -0.8884675033328203 L 0.44986220354594697, -0.8930979777274076 L 0.4407381601316745, -0.8976357135295735 L 0.43156835081308204, -0.902080239544397 L 0.42235372777596586, -0.906431094255788 L 0.4645891005535625 ,-0.9970742036813669",
          "type": "path"
         },
         {
          "fillcolor": "rgba(102,189,99, 0.75)",
          "layer": "below",
          "line": {
           "color": "rgba(102,189,99, 0.75)",
           "width": 0.45
          },
          "path": "M 0.9995011518034738, -0.45934458475476736 L 1.0042734665294468, -0.4488148888182388 L 1.008934855114133, -0.4382356194284346 L 1.0134848026879608, -0.42760794510923816 L 1.0179228066904784, -0.4169330397310568 L 1.0222483769258626, -0.40621208238116163 L 1.0264610356170618, -0.39544625723345683 L 1.0305603174585705, -0.3846367534176767 L 1.0345457696678233, -0.3737847648880453 L 1.0384169520352065, -0.36289149029139844 L 1.0421734369726805, -0.35195813283478805 L 1.0458148095610105, -0.34098590015258307 L 1.049340667595594, -0.32997600417308115 L 1.0527506216308868, -0.3189296609846464 L 1.0560442950234192, -0.30784809070138724 L 1.0592213239733979, -0.2967325173283889 L 1.0622813575648868, -0.28558416862652064 L 1.0652240578045717, -0.27440427597681927 L 1.068049099659089, -0.2631940742444812 L 1.0707561710909286, -0.25195480164246614 L 1.0733449730928994, -0.24068769959473085 L 1.0758152197211563, -0.22939401259910921 L 1.0781666381267838, -0.21807498808985198 L 1.0803989685859325, -0.2067318762998428 L 1.0825119645285077, -0.19536593012250456 L 1.0845053925654033, -0.1839784049734114 L 1.0863790325142813, -0.17257055865162663 L 1.0881326774238909, -0.16114365120076798 L 1.0897661335969284, -0.1496989447698343 L 1.0912792206114306, -0.13823770347379513 L 1.092671771340704, -0.12676119325396396 L 1.093943631971784, -0.11527068173816982 L 1.0950946620224247, -0.10376743810074257 L 1.0961247343566158, -0.09225273292232733 L 1.097033735198625, -0.08072783804954267 L 1.0978215641455644, -0.0691940264545038 L 1.0984881341784816, -0.05765257209421168 L 1.099033371671971, -0.04610474976984323 L 1.0994572164023046, -0.03455183498594315 L 0.9995065603657315, -0.03141075907813013 L 0.9991212469745189, -0.04191340888167566 L 0.9986255765258923, -0.05241142917655607 L 0.9980196037686948, -0.06290366041318526 L 0.9973033956351136, -0.07338894368140242 L 0.9964770312332871, -0.08386612083847939 L 0.9955406018385679, -0.0943340346370387 L 0.9944942108834398, -0.10479152885288165 L 0.9933379739460944, -0.1152374484126945 L 0.992072018737664, -0.12567063952163193 L 0.9906964850881166, -0.13608994979075845 L 0.9892115249308099, -0.1464942283643345 L 0.9876173022857101, -0.15688232604693328 L 0.9859139932412757, -0.16725309543037398 L 0.9841017859350069, -0.17760539102045866 L 0.9821808805326658, -0.18793806936349344 L 0.980151489206167, -0.1982499891725927 L 0.978013836110142, -0.20854001145373563 L 0.9757681573571811, -0.2188069996315735 L 0.9734147009917531, -0.2290498196749692 L 0.9709537269628081, -0.23926734022225565 L 0.9683855070950652, -0.24945843270619933 L 0.965710325058988, -0.2596219714786551 L 0.9629284763394524, -0.26975683393489897 L 0.9600402682031084, -0.2798619006376247 L 0.9570460196644425, -0.28993605544058765 L 0.95394606145054, -0.29997818561189193 L 0.950740735964555, -0.3099871819568937 L 0.9474303972478914, -0.3199619389407164 L 0.9440154109410966, -0.3299013548103622 L 0.9404961542434757, -0.3398043317164048 L 0.9368730158714277, -0.3496697758342515 L 0.9331463960155106, -0.3594965974849607 L 0.9293167062962386, -0.36928371125560144 L 0.9253843697186167, -0.3790300361191425 L 0.9213498206254189, -0.38873449555385287 L 0.9172135046492117, -0.3983960176622132 L 0.9129758786631335, -0.40801353528930795 L 0.9086374107304306, -0.4175859861406976 L 0.9995011518034738 ,-0.45934458475476736",
          "type": "path"
         }
        ],
        "showlegend": false,
        "title": "Pairwise epistasis between HA1 residues commonly mutated during egg-passaging",
        "width": 800,
        "xaxis": {
         "visible": false
        },
        "yaxis": {
         "visible": false
        }
       }
      },
      "text/html": [
       "<div id=\"86b1bb27-01aa-4239-ad56-0a65ee6198b9\" style=\"height: 800px; width: 800px;\" class=\"plotly-graph-div\"></div><script type=\"text/javascript\">require([\"plotly\"], function(Plotly) { window.PLOTLYENV=window.PLOTLYENV || {};window.PLOTLYENV.BASE_URL=\"https://plot.ly\";Plotly.newPlot(\"86b1bb27-01aa-4239-ad56-0a65ee6198b9\", [{\"line\": {\"color\": \"rgba(26,152,80, 0.75)\", \"shape\": \"spline\", \"width\": 0.25}, \"mode\": \"lines\", \"x\": [1.1, 1.099944034658493, 1.0997761443287348, 1.0994963460944334, 1.099104668426505, 1.0986011511801759, 1.097985845590927, 1.0972588142692812, 1.0964201311944315, 1.0954698817067139, 1.0944081624989226, 1.0932350816064726, 1.0919507583964054, 1.0905553235552428, 1.089048919075689, 1.0874316982421826, 1.0857038256152989, 1.083865477015004, 1.0819168395027658, 1.0798581113625187, 1.077689502080487, 1.0754112323238691, 1.0730235339183831, 1.0705266498246775, 1.0679208341136086, 1.0652063519403876, 1.0623834795175997, 1.059452504087098, 1.0564137238907751, 1.0532674481402153, 1.0500139969852313, 1.0466537014812867, 1.043186903555809, 1.0396139559733986, 1.035935222299931, 1.0321510768655628, 1.0282619047266428, 1.024268101626529, 1.02017007395532, 1.0159682387085034, 1.011663023444524, 1.0072548662412772, 1.0027442156515325, 0.9981315306572913, 0.9934172806230825, 0.988601945248203, 0.9836860145179045, 0.9786699886535367, 0.9735543780616459, 0.968339703282039, 0.9630264949348156, 0.9576152936663755, 0.9521066500944038, 0.9465011247518436, 0.9407992880298588, 0.9350017201197938, 0.9291090109541358, 0.9231217601464863, 0.9170405769305475, 0.9108660800981293, 0.9045988979361842, 0.8982396681628755, 0.8917890378626872, 0.8852476634205786, 0.8786162104551941, 0.8718953537511339, 0.8650857771902899, 0.8581881736822581, 0.8512032450938312, 0.8441317021775795, 0.836974264499529, 0.8297316603659418, 0.8224046267492063, 0.8149939092128471, 0.8075002618356604, 0.7999244471349816, 0.792267235989096, 0.7845294075587977, 0.7767117492081063, 0.7688150564241477, 0.76084013273621, 0.7527877896339797, 0.7446588464849693, 0.7364541304511412, 0.7281744764047403, 0.7198207268433419, 0.7113937318041224, 0.702894348777364, 0.6943234426192008, 0.6856818854636149, 0.6769705566336923, 0.6681903425521475, 0.6593421366511254, 0.6504268392812893, 0.6414453576202065, 0.6323986055800377, 0.6232875037145419, 0.6141129791254052, 0.6048759653679039, 0.5955774023559093, 0.5862182362662481, 0.5767994194424229, 0.5673219102977062, 0.5577866732176184, 0.5481946784617949, 0.5385469020652578, 0.5288443257390996, 0.5190879367705884, 0.5092787279227072, 0.49941769733313435, 0.4895058484126783, 0.47954418974317453, 0.4695337349748586, 0.4594755027232211, 0.4493705164653581, 0.4392198044358276, 0.42902439952202087, 0.4187853391590612, 0.4085036652242394, 0.39818042393099734, 0.3878166657224704, 0.37741344516459957, 0.36697182083882307, 0.3564928552343617, 0.345977614640104, 0.335427169036106, 0.32484259198471593, 0.314224960521332, 0.30357535504481065, 0.29289485920752895, 0.28218455980511775, 0.271445546665875, 0.2606789125398689, 0.24988575298774654, 0.23906716626925376, 0.22822425323148215, 0.2173581171968521, 0.20646986385084318, 0.1955606011294864, 0.18463143910662505, 0.17368348988095908, 0.16271786746288341, 0.15173568766113193, 0.14073806796923702, 0.12972612745182038, 0.11870098663072154, 0.10766376737097905, 0.09661559276667525, 0.08555758702665468, 0.07449087536013146, 0.06341658386219245], \"y\": [0.0, 0.011095973107211651, 0.02219081714183367, 0.033283403146165395, 0.044372602392272406, 0.055457286496840445, 0.06653632753599421, 0.07760859816006947, 0.08867297170832673, 0.09972832232359471, 0.11077352506683222, 0.12180745603159646, 0.13282899245840632, 0.14383701284898895, 0.15483039708039809, 0.16580802651899218, 0.17676878413426128, 0.18771155461249062, 0.19863522447024964, 0.2095386821676945, 0.2204208182216731, 0.23128052531862067, 0.24211669842723488, 0.25292823491091815, 0.26371403463997667, 0.2744730001035647, 0.28520403652136134, 0.2959060519549706, 0.3065779574190313, 0.31721866699202755, 0.3278270979267864, 0.33840217076065293, 0.3489428094253316, 0.35944794135638136, 0.3699164976023548, 0.38034741293356933, 0.39073962595049994, 0.4010920791917821, 0.41140371924181396, 0.4216734968379464, 0.43190036697725165, 0.4420832890228571, 0.45222122680983573, 0.46231314875064156, 0.47235802794007814, 0.4823548422597925, 0.4923025744822804, 0.5022002123743942, 0.5120467488003435, 0.5218411818241763, 0.5315825148117304, 0.5412697565320472, 0.5509019212582335, 0.5604780288677652, 0.569997104942219, 0.5794581808664254, 0.5888602939270298, 0.598202487410453, 0.6074838107002429, 0.6167033193738042, 0.6258600752984977, 0.634953146727101, 0.6439816083926178, 0.6529445416024291, 0.6618410343317753, 0.6706701813165584, 0.6794310841454578, 0.6881228513513488, 0.6967445985020131, 0.705295448290135, 0.7137745306225717, 0.7221809827088896, 0.7305139491491581, 0.7387725820209908, 0.7469560409658255, 0.755063493274436, 0.7630941139716636, 0.7710470859003631, 0.7789215998045528, 0.7867168544117603, 0.7944320565145558, 0.8020664210512664, 0.8096191711858577, 0.8170895383869836, 0.8244767625061864, 0.831780091855247, 0.8389987832826724, 0.8461321022493152, 0.8531793229031173, 0.8601397281529685, 0.8670126097416745, 0.8737972683180257, 0.8804930135079603, 0.8870991639848118, 0.8936150475386399, 0.9000400011446292, 0.9063733710305567, 0.912614512743316, 0.9187627912144932, 0.9248175808249903, 0.9307782654686826, 0.9366442386151127, 0.942414903371207, 0.9480896725420134, 0.9536679686904501, 0.9591492241960653, 0.9645328813127924, 0.9698183922257062, 0.9750052191067642, 0.9800928341695341, 0.9850807197228988, 0.9899683682237339, 0.994755282328553, 0.9994409749441151, 1.0040249692769885, 1.0085067988820668, 1.0128860077100332, 1.0171621501537649, 1.0213347910936759, 1.0254035059419933, 1.0293678806859605, 1.033227511929966, 1.0369820069365905, 1.0406309836665697, 1.0441740708176697, 1.0476109078624676, 1.0509411450850383, 1.0541644436165392, 1.0572804754696916, 1.0602889235721564, 1.063189481798796, 1.0659818550028253, 1.0686657590458448, 1.071240920826752, 1.0737070783095308, 1.076063980549917, 1.078311387720931, 1.0804490711372816, 1.0824768132786373, 1.0843944078117596, 1.0862016596114972, 1.087898384780643, 1.0894844106686445, 1.0909595758891741, 1.0923237303365492, 1.093576735201007, 1.0947184629828293, 1.095748797505315, 1.0966676339266042, 1.0974748787503437, 1.0981704498352018], \"type\": \"scatter\", \"uid\": \"7df70df4-ddea-42cf-a104-8ffc74c38bac\"}, {\"line\": {\"color\": \"rgba(215,48,39, 0.75)\", \"shape\": \"spline\", \"width\": 0.25}, \"mode\": \"lines\", \"x\": [0.028890924179751594, 0.017741926051835537, 0.006591104522628573, -0.0045603943979988, -0.015711424630558884, -0.026860840143732485, -0.03800749507215091, -0.04915024383416088, -0.060287941249559114, -0.07141944265728804, -0.08254360403307598, -0.09365928210701191, -0.10476533448104484, -0.11586061974639121, -0.1269439976008418, -0.1380143289659549, -0.1490704761041224, -0.16011130273550095, -0.1711356741547904, -0.18214245734785092, -0.19313052110814855, -0.2040987361530122, -0.2150459752396943, -0.22597111328122196, -0.2368730274620251, -0.2477505973533337, -0.25860270502832766, -0.2694282351770292, -0.2802260752209289, -0.2909951154273284, -0.30173424902339174, -0.3124423723098927, -0.32311838477464483, -0.33376118920560677, -0.3443696918036456, -0.35494280229494984, -0.36547943404308253, -0.3759785041606575, -0.38643893362063164, -0.39685964736720125, -0.4072395744262878, -0.4175776480156075, -0.42787280565430763, -0.4381239892721606, -0.44833014531830734, -0.45849022486953317, -0.4686031837380699, -0.4786679825789108, -0.48868358699662756, -0.49864896765167954, -0.5085631003662004, -0.5184249662292602, -0.5282335517015793, -0.5379878487196952, -0.5476868547995642, -0.5573295731395909, -0.5669150127230707, -0.5764421884200439, -0.5859101210885386, -0.5953178376752009, -0.6046643713152994, -0.6139487614320932, -0.623170053835554, -0.6323273008204316, -0.6414195612636527, -0.6504459007210438, -0.6594053915233675, -0.6682971128716609, -0.677120150931872, -0.685873598928776, -0.6945565572391678, -0.7031681334843206, -0.7117074426216968, -0.7201736070359097, -0.7285657566289171, -0.7368830289094452, -0.7451245690816302, -0.7532895301328676, -0.7613770729208641, -0.7693863662598781, -0.7773165870061448, -0.7851669201424725, -0.7929365588620055, -0.8006247046511421, -0.8082305673716011, -0.8157533653416273, -0.8231923254163271, -0.8305466830671281, -0.8378156824603511, -0.8449985765348919, -0.8520946270789977, -0.8591031048061365, -0.8660232894299486, -0.8728544697382723, -0.8795959436662388, -0.886247018368425, -0.8928070102900599, -0.8992752452372765, -0.9056510584464007, -0.9119337946522709, -0.9181228081555829, -0.9242174628892503, -0.9302171324837764, -0.9361212003316254, -0.941929059650597, -0.9476401135461858, -0.9532537750729265, -0.958769467294716, -0.964186623344108, -0.9695046864805713, -0.9747231101477085, -0.9798413580294275, -0.98485890410506, -0.9897752327034235, -0.9945898385558181, -0.9993022268479546, -1.0039119132708088, -1.0084184240703953, -1.0128212960964575, -1.0171200768500666, -1.0213143245301262, -1.0254036080787787, -1.0293875072257068, -1.033265612531325, -1.0370375254288597, -1.0407028582653117, -1.0442612343412967, -1.0477122879497593, -1.051055664413559, -1.0542910201219204, -1.0574180225657488, -1.0604363503718028, -1.0633456933357215, -1.066145752453908, -1.068836239954257, -1.0714168793257308, -1.0738874053467777, -1.0762475641125893, -1.0784971130611951, -1.080635820998392, -1.0826634681215048, -1.0845798460419755, -1.0863847578067811], \"y\": [1.099620532047324, 1.0998569107206497, 1.0999802531596519, 1.0999905466879862, 1.09988779024775, 1.0996719943995905, 1.0993431813216201, 1.0989013848071367, 1.0983466502611503, 1.0976790346957177, 1.0968986067240813, 1.0960054465536198, 1.0949996459776026, 1.093881308365758, 1.0926505486536477, 1.0913074933308566, 1.0898522804279902, 1.0882850595024913, 1.086605991623268, 1.0848152493541408, 1.0829130167361067, 1.0808994892684256, 1.0787748738885277, 1.076539388950746, 1.0741932642038745, 1.0717367407675573, 1.0691700711075072, 1.0664935190095586, 1.063707359552558, 1.060811879080092, 1.057807375171061, 1.0546941566090933, 1.0514725433508119, 1.0481428664929506, 1.0447054682383272, 1.0411607018606726, 1.0375089316683246, 1.0337505329667862, 1.0298858920201546, 1.025915406011422, 1.0218394830016582, 1.0176585418880704, 1.0133730123609526, 1.0089833348595247, 1.0044899605266673, 0.9998933511625553, 0.9951939791771979, 0.9903923275418867, 0.9854888897395595, 0.9804841697140829, 0.9753786818184607, 0.9701729507619714, 0.9648675115562422, 0.9594629094602639, 0.9539596999243528, 0.9483584485330647, 0.9426597309470691, 0.9368641328439844, 0.9309722498581867, 0.9249846875195953, 0.9189020611914385, 0.9127249960070114, 0.9064541268054291, 0.9000900980663812, 0.8936335638438965, 0.8870851876991241, 0.8804456426321359, 0.8737156110127612, 0.866895784510456, 0.859986864023218, 0.8529895596055527, 0.845904590395499, 0.8387326845407209, 0.8314745791236718, 0.8241310200858438, 0.8167027621511034, 0.8091905687481257, 0.801595211931935, 0.7939174723045573, 0.7861581389347952, 0.7783180092771326, 0.770397889089777, 0.7623985923518493, 0.7543209411797286, 0.7461657657425593, 0.7379339041769322, 0.7296262025007463, 0.7212435145262601, 0.7127867017723438, 0.7042566333759355, 0.695654186002718, 0.6869802437570214, 0.67823569809096, 0.669421447712814, 0.6605383984946667, 0.6515874633793047, 0.6425695622863916, 0.6334856220179242, 0.6243365761629813, 0.6151233650017777, 0.6058469354090248, 0.5965082407566195, 0.5871082408156615, 0.5776479016578154, 0.5681281955560226, 0.5585501008845778, 0.5489146020185787, 0.5392226892327572, 0.5294753585997062, 0.5196736118875089, 0.5098184564567844, 0.4999109051571564, 0.4899519762231604, 0.479942693169595, 0.4698840846863321, 0.45977718453259436, 0.44962303143071364, 0.43942266895937526, 0.42917714544636687, 0.4188875138608396, 0.4085548317050877, 0.3981801609058673, 0.3877645677052577, 0.37730912255108007, 0.3668148999868836, 0.3562829785415107, 0.34571444061825296, 0.33511037238360847, 0.3244718636556528, 0.3138000077920341, 0.3030959015776055, 0.2923606451117034, 0.28159534169508876, 0.2708010977165537, 0.25997902253921573, 0.24913022838650556, 0.23825583022785746, 0.22735694566412148, 0.2164346948127033, 0.20549020019244557, 0.1945245866082629, 0.18353898103554134, 0.17253451250431523], \"type\": \"scatter\", \"uid\": \"5763c5dc-a531-4f1e-8f3b-96922cabb989\"}, {\"line\": {\"color\": \"rgba(244,109,67, 0.75)\", \"shape\": \"spline\", \"width\": 0.25}, \"mode\": \"lines\", \"x\": [-1.0912681325141496, -1.092638085359732, -1.093891568955204, -1.0950284496860632, -1.0960486063670352, -1.0969519302549913, -1.0977383250605408, -1.0984077069582938, -1.0989600045957975, -1.099395159101141, -1.0997131240892317, -1.099913865666739, -1.0999973624357078, -1.0999636054958386, -1.0998125984454368, -1.0995443573810286, -1.0991589108956463, -1.0986563000757792, -1.0980365784969943, -1.0972998122182263, -1.096446079774735, -1.0954754721697346, -1.0943880928646923, -1.0931840577683012, -1.091863495224124, -1.0904265459969131, -1.0888733632576049, -1.0872041125669933, -1.0854189718580822, -1.0835181314171172, -1.0815017938633043, -1.0793701741272097, -1.0771234994278511, -1.0747620092484764, -1.0722859553110364, -1.0696956015493524, -1.0669912240809827, -1.06417311117779, -1.061241563235212, -1.0581968927402428, -1.055039424238122, -1.0517694942977407, -1.048387451475765, -1.044893656279481, -1.0412884811283682, -1.0375723103144001, -1.0337455399610818, -1.029808577981224, -1.0257618440334648, -1.0216057694775327, -1.0173407973282675, -1.0129673822083987, -1.0084859903000827, -1.0038970992952125, -0.9992011983444972, -0.9943987880053213, -0.9894903801883884, -0.9844764981031539], \"y\": [0.13832520724394706, 0.12705122754786582, 0.11576370488509106, 0.10446384244386761, 0.09315284472779274, 0.08183191742742468, 0.07050226729175957, 0.059165101999600685, 0.047821630030825894, 0.03647306053757034, 0.025120603215337406, 0.013765468174051354, 0.0024088658090680986, -0.00894799332784921, -0.02030389865756645, -0.03165763970262014, -0.04300800621624769, -0.05435378831139318, -0.0656937765896746, -0.07702676227029967, -0.0883515373189133, -0.09966689457637039, -0.11097162788741038, -0.12226453222922741, -0.13354440383991908, -0.14481004034680145, -0.15606024089457332, -0.16729380627332394, -0.1785095390463602, -0.18970624367784725, -0.20088272666024626, -0.21203779664153566, -0.22317026455220282, -0.23427894373199276, -0.24536265005639796, -0.2564202020628821, -0.2674504210768159, -0.27845213133711766, -0.28942416012158306, -0.30036533787189157, -0.31127449831827275, -0.32215047860382723, -0.33299211940847917, -0.3437982650725536, -0.35456776371996385, -0.36529946738099467, -0.37599223211467014, -0.38664491813069163, -0.3972563899109314, -0.40782551633047537, -0.41835117077819334, -0.42883223127682957, -0.4392675806025998, -0.4496561064042814, -0.45999670132178216, -0.47028826310418176, -0.4805296947272237, -0.49071990451025244], \"type\": \"scatter\", \"uid\": \"555b33a9-612f-4e84-a78c-fe7d2fd787d9\"}, {\"line\": {\"color\": \"rgba(253,174,97, 0.75)\", \"shape\": \"spline\", \"width\": 0.25}, \"mode\": \"lines\", \"x\": [-0.9685768336845704, -0.9631456245943585, -0.9576118813749238, -0.9519761931350444, -0.9462391598363171, -0.9404013922292851, -0.9344635117884197, -0.9284261506459602, -0.9222899515246188, -0.9160555676691565, -0.9097236627768414, -0.9032949109267928, -0.8967699965082204, -0.8901496141475664, -0.8834344686345562, -0.876625274847169, -0.8697227576755331, -0.8627276519447572, -0.8556407023367008, -0.8484626633106981, -0.8411942990232404, -0.8338363832466255, -0.8263896992865842, -0.8188550398988907, -0.8112332072049686, -0.8035250126064976, -0.7957312766990362, -0.7878528291846608, -0.7798905087836385, -0.7718451631451387, -0.763717648756995, -0.7555088308545247, -0.7472195833284199, -0.7388507886317123, -0.7304033376858313, -0.7218781297857596, -0.7132760725042938, -0.7045980815954281, -0.6958450808968654, -0.6870180022316672, -0.6781177853090545, -0.6691453776243684, -0.6601017343582013, -0.6509878182747136, -0.6418045996191362, -0.6325530560144828, -0.6232341723574744, -0.6138489407136892, -0.6043983602119504, -0.5948834369379603, -0.585305183827195, -0.5756646205570726, -0.5659627734383963, -0.5562006753060981, -0.5463793654092866, -0.5364998893006094], \"y\": [-0.5214009179600401, -0.5313666397363908, -0.5412757935189593, -0.5511273244034528, -0.5609201836199699, -0.5706533286446532, -0.5803257233106716, -0.5899363379185291, -0.5994841493456824, -0.6089681411554627, -0.6183873037052814, -0.6277406342541143, -0.6370271370692512, -0.6462458235322986, -0.6553957122444268, -0.6644758291308462, -0.6734852075445058, -0.682422888368998, -0.6912879201206671, -0.7000793590498989, -0.708796269241592, -0.717437722714792, -0.7260027995214818, -0.7344905878445184, -0.7429001840947012, -0.7512306930069672, -0.7594812277356973, -0.767650909949129, -0.7757388699228612, -0.7837442466324422, -0.7916661878450332, -0.7995038502101347, -0.8072563993493659, -0.8149230099452937, -0.8225028658292916, -0.8299951600684272, -0.8373990950513678, -0.8447138825732904, -0.8519387439197934, -0.8590729099497953, -0.8661156211774172, -0.8730661278528343, -0.8799236900420938, -0.8866875777058844, -0.8933570707772568, -0.8999314592382793, -0.9064100431956246, -0.9127921329550786, -0.9190770490949633, -0.9252641225384675, -0.9313526946248739, -0.9373421171796784, -0.9432317525835944, -0.9490209738404314, -0.9547091646438435, -0.9602957194429401], \"type\": \"scatter\", \"uid\": \"66b2b093-bb08-43f1-89ab-338f32acc822\"}, {\"line\": {\"color\": \"rgba(254,224,139, 0.75)\", \"shape\": \"spline\", \"width\": 0.25}, \"mode\": \"lines\", \"x\": [-0.5060715415042679, -0.4957777594320006, -0.485429201679863, -0.47502701160145455, -0.46457233847590945, -0.4540663373809169, -0.4435101690651004, -0.4329049998197785, -0.4222520013501053, -0.41155235064561263, -0.40080722985017647, -0.39001782613140595, -0.37918533154947703, -0.36831094292543437, -0.35739586170895715, -0.3464412938456199, -0.33544844964365056, -0.3244185436402161, -0.31335279446723213, -0.3022524247167205, -0.2911186608057376, -0.27995273284087197, -0.2687558744823332, -0.2575293228076582, -0.24627431817503045, -0.23499210408623683], \"y\": [-0.9766737402426126, -0.9819391087295514, -0.9870959883195003, -0.9921438092580086, -0.9970820138398974, -1.001910056470879, -1.0066274037278373, -1.0112335344177614, -1.0157279396353291, -1.0201101228191352, -1.0243795998065501, -1.0285358988872155, -1.03257856085516, -1.0365071390595328, -1.0403211994539534, -1.0440203206444658, -1.0476040939360973, -1.0510721233780114, -1.0544240258072541, -1.0576594308910896, -1.0607779811679134, -1.063779332086748, -1.0666631520453103, -1.0694291224266474, -1.0720769376343398, -1.0746063051262649], \"type\": \"scatter\", \"uid\": \"d2a25ba6-249b-4104-8eee-67aa0f7b6604\"}, {\"line\": {\"color\": \"rgba(217,239,139, 0.75)\", \"shape\": \"spline\", \"width\": 0.25}, \"mode\": \"lines\", \"x\": [-0.201121949914182, -0.18994591321902654, -0.17874962932731941, -0.16753429170175094, -0.1563010958360353, -0.1450512391274776, -0.13378592074933773, -0.12250634152300412, -0.11121370378999655, -0.09990921128379743, -0.08859406900154415, -0.07726948307558203, -0.06593666064489727, -0.054596809726442416, -0.043251139086368434, -0.03190085811117683, -0.0205471766788056, -0.009191305029662934, 0.0021655463623778434, 0.013522166919008172, 0.024877346086525285, 0.036229873464870624, 0.04757853893665283, 0.058922132796135764, 0.07025944587819238, 0.08158926968719123, 0.09291039652581641, 0.10422161962380157, 0.11552173326656501, 0.12680953292373223, 0.1380838153775323, 0.14934337885105448, 0.16058702313635062, 0.1718135497223713, 0.18302176192272018, 0.1942104650032145, 0.20537846630923792, 0.2165245753928673, 0.2276476041397737, 0.23874636689586504, 0.2498196805936712, 0.2608663648784527, 0.27188524223402, 0.2828751381082502, 0.29383488103828803, 0.30476330277541736, 0.31565923840959004, 0.32652152649359895, 0.3373490091668821, 0.34814053227894415, 0.3588949455123822, 0.36961110250550505, 0.38028786097452455, 0.39092408283532293, 0.4015186343247623, 0.41207038612153896, 0.42257821346656227, 0.43304099628284837], \"y\": [-1.081457332150796, -1.083476141893023, -1.0853794589982555, -1.0871670805832896, -1.0888388160974307, -1.0903944873428073, -1.091833928493364, -1.0931569861125388, -1.0943635191696182, -1.0954533990547703, -1.0964265095927541, -1.0972827470553033, -1.0980220201721822, -1.0986442501409155, -1.099149370635189, -1.099537327811917, -1.0998080803169843, -1.0999615992896534, -1.0999978683656404, -1.09991688367886, -1.099718653861837, -1.0994032000447878, -1.098970555853365, -1.0984207674050754, -1.0977538933043642, -1.096970004636367, -1.0960691849593327, -1.0950515302957171, -1.0939171491219475, -1.0926661623568588, -1.0912987033488053, -1.0898149178614462, -1.0882149640582073, -1.0864990124854226, -1.0846672460541544, -1.082719860020696, -1.0806570619657587, -1.078479071772345, -1.0761861216023096, -1.0737784558716128, -1.0712563312242669, -1.0686200165049793, -1.065869792730495, -1.0630059530596423, -1.0600288027620832, -1.056938659185773, -1.0537358517231334, -1.0504207217759416, -1.0469936227189367, -1.0434549198621537, -1.0398049904119833, -1.0360442234309621, -1.0321730197963037, -1.0281917921571646, -1.0241009648906585, -1.0199009740566218, -1.0155922673511297, -1.011175304058776], \"type\": \"scatter\", \"uid\": \"efbf5ee7-5243-4573-81d9-ca3ef33e18e6\"}, {\"line\": {\"color\": \"rgba(166,217,106, 0.75)\", \"shape\": \"spline\", \"width\": 0.25}, \"mode\": \"lines\", \"x\": [0.4645891005535625, 0.4747251858943903, 0.484811976144842, 0.49484842390054173, 0.5048334869846388, 0.5147661285560265, 0.5246453172170068, 0.5344700271203899, 0.5442392380760174, 0.5539519356566978, 0.5636071113035446, 0.5732037624307031, 0.5827408925294593, 0.5922175112717155, 0.6016326346128261, 0.6109852848937797, 0.6202744909427179, 0.6294992881757823, 0.6386587186972745, 0.6477518313991247, 0.656777682059653, 0.6657353334416172, 0.6746238553895347, 0.683442324926269, 0.6921898263488708, 0.7008654513236641, 0.7094682989805666, 0.7179974760066361, 0.7264520967388299, 0.7348312832559734, 0.7431341654699198, 0.751359881215905, 0.7595075763420647, 0.7675764047981405, 0.7755655287233212, 0.7834741185332563, 0.7913013530061924, 0.7990464193682503, 0.8067085133778232, 0.8142868394090883, 0.8217806105346237, 0.8291890486071227, 0.8365113843401957, 0.843746857388252, 0.8508947164254546, 0.8579542192237358, 0.8649246327298711, 0.8718052331415975, 0.8785953059827736, 0.8852941461775693, 0.8919010581236815, 0.8984153557645637, 0.9048363626606661, 0.911163412059677, 0.9173958469657568, 0.9235330202077612, 0.9295742945064417, 0.9355190425406209, 0.941366647012333, 0.9471165007109232, 0.9527680065761005, 0.9583205777599354, 0.9637736376877981, 0.9691266201182293, 0.9743789692017386, 0.9795301395385233, 0.984579596235102], \"y\": [-0.9970742036813669, -0.9922882634988368, -0.9873992848825309, -0.9824077755001485, -0.9773142536661025, -0.9721192482876988, -0.966823298810215, -0.9614269551608847, -0.9559307776917931, -0.9503353371216908, -0.9446412144767314, -0.938849001030137, -0.9329592982408018, -0.9269727176908368, -0.9208898810220633, -0.9147114198714625, -0.908437975805587, -0.90207020025394, -0.8956087544413329, -0.8890543093192227, -0.8824075454960421, -0.875669153166525, -0.8688398320400373, -0.8619202912679201, -0.8549112493698514, -0.8478134341592358, -0.8406275826676289, -0.833354441068205, -0.8259947645982739, -0.8185493174808588, -0.81101887284534, -0.8034042126471713, -0.7957061275866882, -0.7879254170269934, -0.7800628889109619, -0.7721193596773346, -0.7640956541759477, -0.7559926055820774, -0.7478110553099243, -0.7395518529252414, -0.7312158560571161, -0.7228039303089151, -0.7143169491683995, -0.705755793917024, -0.697121353538425, -0.6884145246261079, -0.6796362112903475, -0.6707873250643045, -0.6618687848093734, -0.6528815166197681, -0.6438264537263575, -0.6347045363997589, -0.6255167118527016, -0.6162639341416692, -0.6069471640678304, -0.5975673690772707, -0.5881255231605337, -0.5786226067514819, -0.5690596066254904, -0.5594375157969796, -0.5497573334163027, -0.5400200646659934, -0.5302267206563896, -0.5203783183206402, -0.5104758803091068, -0.5005204348831737, -0.49051301580847323], \"type\": \"scatter\", \"uid\": \"69a09758-7efd-423b-b64b-396b19bca268\"}, {\"line\": {\"color\": \"rgba(102,189,99, 0.75)\", \"shape\": \"spline\", \"width\": 0.25}, \"mode\": \"lines\", \"x\": [0.9995011518034738, 1.0042734665294468, 1.008934855114133, 1.0134848026879608, 1.0179228066904784, 1.0222483769258626, 1.0264610356170618, 1.0305603174585705, 1.0345457696678233, 1.0384169520352065, 1.0421734369726805, 1.0458148095610105, 1.049340667595594, 1.0527506216308868, 1.0560442950234192, 1.0592213239733979, 1.0622813575648868, 1.0652240578045717, 1.068049099659089, 1.0707561710909286, 1.0733449730928994, 1.0758152197211563, 1.0781666381267838, 1.0803989685859325, 1.0825119645285077, 1.0845053925654033, 1.0863790325142813, 1.0881326774238909, 1.0897661335969284, 1.0912792206114306, 1.092671771340704, 1.093943631971784, 1.0950946620224247, 1.0961247343566158, 1.097033735198625, 1.0978215641455644, 1.0984881341784816, 1.099033371671971, 1.0994572164023046], \"y\": [-0.45934458475476736, -0.4488148888182388, -0.4382356194284346, -0.42760794510923816, -0.4169330397310568, -0.40621208238116163, -0.39544625723345683, -0.3846367534176767, -0.3737847648880453, -0.36289149029139844, -0.35195813283478805, -0.34098590015258307, -0.32997600417308115, -0.3189296609846464, -0.30784809070138724, -0.2967325173283889, -0.28558416862652064, -0.27440427597681927, -0.2631940742444812, -0.25195480164246614, -0.24068769959473085, -0.22939401259910921, -0.21807498808985198, -0.2067318762998428, -0.19536593012250456, -0.1839784049734114, -0.17257055865162663, -0.16114365120076798, -0.1496989447698343, -0.13823770347379513, -0.12676119325396396, -0.11527068173816982, -0.10376743810074257, -0.09225273292232733, -0.08072783804954267, -0.0691940264545038, -0.05765257209421168, -0.04610474976984323, -0.03455183498594315], \"type\": \"scatter\", \"uid\": \"e440aeca-7923-4cd7-9c06-0a32282780e7\"}, {\"marker\": {\"color\": \"rgba(26,152,80, 0.75)\", \"size\": 0.5}, \"mode\": \"markers\", \"x\": [0.5480248571327632], \"y\": [0.7139108879717515], \"type\": \"scatter\", \"uid\": \"805fa06e-8cc9-44bb-b658-251069b300fe\"}, {\"marker\": {\"color\": \"rgba(26,152,80, 0.75)\", \"size\": 0.5}, \"mode\": \"markers\", \"text\": \"mut 186\", \"x\": [0.8999880804581216], \"y\": [0.004631957826407091], \"type\": \"scatter\", \"uid\": \"b396167b-c2a8-4456-a715-905c4176e93e\"}, {\"marker\": {\"color\": \"rgba(26,152,80, 0.75)\", \"size\": 0.5}, \"mode\": \"markers\", \"text\": \"mut 194\", \"x\": [0.01901216336533623], \"y\": [0.8997991651719676], \"type\": \"scatter\", \"uid\": \"b8a878b7-c3ef-45b9-b793-a0c399551ac0\"}, {\"marker\": {\"color\": \"rgba(26,152,80, 0.75)\", \"size\": 0.5}, \"mode\": \"markers\", \"text\": \"mut 186\", \"x\": [0.8979863443150297], \"y\": [0.06017080208646801], \"type\": \"scatter\", \"uid\": \"521c7c57-13f8-46bb-b1af-266087fe98eb\"}, {\"marker\": {\"color\": \"rgba(26,152,80, 0.75)\", \"size\": 0.5}, \"mode\": \"markers\", \"text\": \"mut 138\", \"x\": [-0.8887626301239745], \"y\": [-0.14177795066622736], \"type\": \"scatter\", \"uid\": \"dad613a5-23d7-4f26-9f04-64e1b6ff34d1\"}, {\"marker\": {\"color\": \"rgba(26,152,80, 0.75)\", \"size\": 0.5}, \"mode\": \"markers\", \"text\": \"mut 186\", \"x\": [0.7520408001831428], \"y\": [0.49440331194268744], \"type\": \"scatter\", \"uid\": \"e4f0bff9-4d74-4c33-a730-418c55435417\"}, {\"marker\": {\"color\": \"rgba(26,152,80, 0.75)\", \"size\": 0.5}, \"mode\": \"markers\", \"text\": \"mut 156\", \"x\": [-0.5402786968768123], \"y\": [-0.719790893038453], \"type\": \"scatter\", \"uid\": \"047c7bfb-f165-4b58-8dab-3f6ceafdcdb7\"}, {\"marker\": {\"color\": \"rgba(26,152,80, 0.75)\", \"size\": 0.5}, \"mode\": \"markers\", \"text\": \"mut 186\", \"x\": [0.22998275940131524], \"y\": [0.8701194920113885], \"type\": \"scatter\", \"uid\": \"26290280-06b8-4a2a-8c9d-32a64a3f893a\"}, {\"marker\": {\"color\": \"rgba(26,152,80, 0.75)\", \"size\": 0.5}, \"mode\": \"markers\", \"text\": \"mut 219\", \"x\": [0.18772066069202042], \"y\": [-0.8802050633513485], \"type\": \"scatter\", \"uid\": \"b5c543be-80d1-40ff-8266-cd75409d281e\"}, {\"marker\": {\"color\": \"rgba(26,152,80, 0.75)\", \"size\": 0.5}, \"mode\": \"markers\", \"text\": \"mut 186\", \"x\": [0.8837313614924567], \"y\": [0.17034929032634313], \"type\": \"scatter\", \"uid\": \"e79f5906-e7fc-4638-9983-06e94aa3da1f\"}, {\"marker\": {\"color\": \"rgba(26,152,80, 0.75)\", \"size\": 0.5}, \"mode\": \"markers\", \"text\": \"mut 225\", \"x\": [0.6894593021053516], \"y\": [-0.5784858431633411], \"type\": \"scatter\", \"uid\": \"7576d000-10f1-44a1-a98f-77360ca825bf\"}, {\"marker\": {\"color\": \"rgba(26,152,80, 0.75)\", \"size\": 0.5}, \"mode\": \"markers\", \"text\": \"mut 186\", \"x\": [0.845444177335009], \"y\": [0.3085840939036389], \"type\": \"scatter\", \"uid\": \"a6491dd2-ab02-45dd-8353-5effd2482f77\"}, {\"marker\": {\"color\": \"rgba(26,152,80, 0.75)\", \"size\": 0.5}, \"mode\": \"markers\", \"text\": \"mut246\", \"x\": [0.8936262231687431], \"y\": [-0.10692134148600928], \"type\": \"scatter\", \"uid\": \"a7479a57-0da0-4b7b-89ba-7b359f8723a9\"}, {\"marker\": {\"color\": \"rgba(215,48,39, 0.75)\", \"size\": 0.5}, \"mode\": \"markers\", \"x\": [-0.742979014261861], \"y\": [0.5079194664181256], \"type\": \"scatter\", \"uid\": \"49232b68-1e07-4546-a656-196d663acb6f\"}, {\"marker\": {\"color\": \"rgba(215,48,39, 0.75)\", \"size\": 0.5}, \"mode\": \"markers\", \"text\": \"mut 194\", \"x\": [-0.050367639227954376], \"y\": [0.8985895063479222], \"type\": \"scatter\", \"uid\": \"45d5a255-5393-4b71-b383-abb334577a50\"}, {\"marker\": {\"color\": \"rgba(215,48,39, 0.75)\", \"size\": 0.5}, \"mode\": \"markers\", \"text\": \"mut 138\", \"x\": [-0.8315286821494614], \"y\": [-0.34432550117988636], \"type\": \"scatter\", \"uid\": \"3804f75f-7219-46ba-822e-7fc8c5cdc803\"}, {\"marker\": {\"color\": \"rgba(215,48,39, 0.75)\", \"size\": 0.5}, \"mode\": \"markers\", \"text\": \"mut 194\", \"x\": [-0.3635990889446758], \"y\": [0.8232834885497229], \"type\": \"scatter\", \"uid\": \"aee1e11d-ccc6-4508-a1f2-930016d500c1\"}, {\"marker\": {\"color\": \"rgba(215,48,39, 0.75)\", \"size\": 0.5}, \"mode\": \"markers\", \"text\": \"mut 203\", \"x\": [-0.2818481385843938], \"y\": [-0.8547289785519807], \"type\": \"scatter\", \"uid\": \"9e35d053-43e1-4c6c-b237-8bf6c6e3f544\"}, {\"marker\": {\"color\": \"rgba(215,48,39, 0.75)\", \"size\": 0.5}, \"mode\": \"markers\", \"text\": \"mut 194\", \"x\": [-0.19234116005655344], \"y\": [0.8792069597928006], \"type\": \"scatter\", \"uid\": \"ee5c748f-ea8a-4e23-a14c-62142437d4c9\"}, {\"marker\": {\"color\": \"rgba(215,48,39, 0.75)\", \"size\": 0.5}, \"mode\": \"markers\", \"text\": \"mut 225\", \"x\": [0.7684331767883712], \"y\": [-0.4685194262898091], \"type\": \"scatter\", \"uid\": \"f3f6dbf0-f473-47e2-bb5f-31f206ff2480\"}, {\"marker\": {\"color\": \"rgba(244,109,67, 0.75)\", \"size\": 0.5}, \"mode\": \"markers\", \"x\": [-0.8984633332687275], \"y\": [-0.052570322156587565], \"type\": \"scatter\", \"uid\": \"264644d9-9ccc-483a-b03d-6d0836138de8\"}, {\"marker\": {\"color\": \"rgba(175,175,175,0.5)\", \"size\": 0.5}, \"mode\": \"markers\", \"text\": \"mut 138\", \"x\": [-0.8997948594553755], \"y\": [0.019214861375534128], \"type\": \"scatter\", \"uid\": \"0604634b-8751-4d7e-8828-b8a0b8327309\"}, {\"marker\": {\"color\": \"rgba(175,175,175,0.5)\", \"size\": 0.5}, \"mode\": \"markers\", \"text\": \"mut 156\", \"x\": [-0.7065245397598058], \"y\": [-0.5575150892282599], \"type\": \"scatter\", \"uid\": \"08da2a7e-a11c-4d95-ae10-5dc1ae27d37d\"}, {\"marker\": {\"color\": \"rgba(175,175,175,0.5)\", \"size\": 0.5}, \"mode\": \"markers\", \"text\": \"mut 138\", \"x\": [-0.8977181725433747], \"y\": [0.06404750335012106], \"type\": \"scatter\", \"uid\": \"ea1d77c6-9b96-4394-af41-1eee6562558b\"}, {\"marker\": {\"color\": \"rgba(175,175,175,0.5)\", \"size\": 0.5}, \"mode\": \"markers\", \"text\": \"mut 203\", \"x\": [-0.37995150924822324], \"y\": [-0.8158657062409214], \"type\": \"scatter\", \"uid\": \"be91b238-7395-4b26-b58c-efeb2d7b9b7f\"}, {\"marker\": {\"color\": \"rgba(175,175,175,0.5)\", \"size\": 0.5}, \"mode\": \"markers\", \"text\": \"mut 138\", \"x\": [-0.8939401794233409], \"y\": [0.10426387491631467], \"type\": \"scatter\", \"uid\": \"29c3bb29-2e8b-4cce-a8c1-092b9d9cb744\"}, {\"marker\": {\"color\": \"rgba(175,175,175,0.5)\", \"size\": 0.5}, \"mode\": \"markers\", \"text\": \"mut 219\", \"x\": [-0.14687125769179882], \"y\": [-0.887935151722258], \"type\": \"scatter\", \"uid\": \"13d84647-dba7-47a4-a43a-8e3eec0c0a2a\"}, {\"marker\": {\"color\": \"rgba(175,175,175,0.5)\", \"size\": 0.5}, \"mode\": \"markers\", \"text\": \"mut 138\", \"x\": [-0.8678936881902456], \"y\": [-0.23824471872327582], \"type\": \"scatter\", \"uid\": \"0e05fe79-610f-4dd7-b0d8-151109fa1a27\"}, {\"marker\": {\"color\": \"rgba(175,175,175,0.5)\", \"size\": 0.5}, \"mode\": \"markers\", \"text\": \"mut 225\", \"x\": [0.6149489154113678], \"y\": [-0.6571436916187984], \"type\": \"scatter\", \"uid\": \"6391306a-f00d-428e-a3c4-fbcaf4c345ad\"}, {\"marker\": {\"color\": \"rgba(175,175,175,0.5)\", \"size\": 0.5}, \"mode\": \"markers\", \"text\": \"mut 138\", \"x\": [-0.8958421344373185], \"y\": [0.0864110534988979], \"type\": \"scatter\", \"uid\": \"ab22f08c-3054-43d5-87a9-66a47ad9848d\"}, {\"marker\": {\"color\": \"rgba(175,175,175,0.5)\", \"size\": 0.5}, \"mode\": \"markers\", \"text\": \"mut246\", \"x\": [0.821395659087152], \"y\": [-0.36784394956663785], \"type\": \"scatter\", \"uid\": \"ba6aee70-c01c-40df-8925-955fec26a8e1\"}, {\"marker\": {\"color\": \"rgba(253,174,97, 0.75)\", \"size\": 0.5}, \"mode\": \"markers\", \"x\": [-0.770263217093086], \"y\": [-0.4655046470159127], \"type\": \"scatter\", \"uid\": \"7ef169db-9961-49f6-be36-adbf4298919b\"}, {\"marker\": {\"color\": \"rgba(175,175,175,0.5)\", \"size\": 0.5}, \"mode\": \"markers\", \"text\": \"mut 156\", \"x\": [-0.6599274427060449], \"y\": [-0.6119605954336111], \"type\": \"scatter\", \"uid\": \"e5a05a77-e537-4fe1-9dd0-80c7808a9b7d\"}, {\"marker\": {\"color\": \"rgba(175,175,175,0.5)\", \"size\": 0.5}, \"mode\": \"markers\", \"text\": \"mut 219\", \"x\": [-0.026336840586531976], \"y\": [-0.8996145679277986], \"type\": \"scatter\", \"uid\": \"d312c34b-a44e-4dff-bae0-4d0a89212fdf\"}, {\"marker\": {\"color\": \"rgba(175,175,175,0.5)\", \"size\": 0.5}, \"mode\": \"markers\", \"text\": \"mut 156\", \"x\": [-0.7410989588205638], \"y\": [-0.510658724820282], \"type\": \"scatter\", \"uid\": \"3d91a37e-ab39-4e4a-b75f-b4bf28518e3e\"}, {\"marker\": {\"color\": \"rgba(175,175,175,0.5)\", \"size\": 0.5}, \"mode\": \"markers\", \"text\": \"mut 225\", \"x\": [0.41255903860401244], \"y\": [-0.7998718895336508], \"type\": \"scatter\", \"uid\": \"e233422e-4c38-47d0-ac87-467393bb342a\"}, {\"marker\": {\"color\": \"rgba(175,175,175,0.5)\", \"size\": 0.5}, \"mode\": \"markers\", \"text\": \"mut 156\", \"x\": [-0.7881855811117091], \"y\": [-0.4344692045791019], \"type\": \"scatter\", \"uid\": \"416077c7-c4c4-4713-a1ed-6d0907f9f2ab\"}, {\"marker\": {\"color\": \"rgba(175,175,175,0.5)\", \"size\": 0.5}, \"mode\": \"markers\", \"text\": \"mut246\", \"x\": [0.8284054956991064], \"y\": [-0.35177312958143614], \"type\": \"scatter\", \"uid\": \"0d1753af-dda3-406c-8d19-df48143048d7\"}, {\"marker\": {\"color\": \"rgba(254,224,139, 0.75)\", \"size\": 0.5}, \"mode\": \"markers\", \"x\": [-0.41030422719970905], \"y\": [-0.8010308615415823], \"type\": \"scatter\", \"uid\": \"bcb62040-e133-43c6-ba3b-3108bc2aadbe\"}, {\"marker\": {\"color\": \"rgba(175,175,175,0.5)\", \"size\": 0.5}, \"mode\": \"markers\", \"text\": \"mut 203\", \"x\": [-0.40276859244027613], \"y\": [-0.8048462343477036], \"type\": \"scatter\", \"uid\": \"7cad8e97-8f44-4ffd-8bb1-573d0a09f2df\"}, {\"marker\": {\"color\": \"rgba(175,175,175,0.5)\", \"size\": 0.5}, \"mode\": \"markers\", \"text\": \"mut 219\", \"x\": [-0.1601394211407526], \"y\": [-0.8856383944910613], \"type\": \"scatter\", \"uid\": \"96c51cba-a97e-4fff-9003-bd8388015f3b\"}, {\"marker\": {\"color\": \"rgba(175,175,175,0.5)\", \"size\": 0.5}, \"mode\": \"markers\", \"text\": \"mut 203\", \"x\": [-0.3951974827874405], \"y\": [-0.8085907182242885], \"type\": \"scatter\", \"uid\": \"e6db3ada-8f14-411c-ab05-711cf426e4ca\"}, {\"marker\": {\"color\": \"rgba(175,175,175,0.5)\", \"size\": 0.5}, \"mode\": \"markers\", \"text\": \"mut 225\", \"x\": [0.3842080325452691], \"y\": [-0.8138698837822256], \"type\": \"scatter\", \"uid\": \"2b550e4b-fef3-409a-86da-aeb392575645\"}, {\"marker\": {\"color\": \"rgba(217,239,139, 0.75)\", \"size\": 0.5}, \"mode\": \"markers\", \"x\": [-0.12912974509822112], \"y\": [-0.8906882220681198], \"type\": \"scatter\", \"uid\": \"e477bf6a-1153-48e9-8b50-29ecf6560eab\"}, {\"marker\": {\"color\": \"rgba(175,175,175,0.5)\", \"size\": 0.5}, \"mode\": \"markers\", \"text\": \"mut 219\", \"x\": [-0.0934996385176396], \"y\": [-0.895130056247175], \"type\": \"scatter\", \"uid\": \"10186c24-6872-480c-9863-a03e84f1521c\"}, {\"marker\": {\"color\": \"rgba(175,175,175,0.5)\", \"size\": 0.5}, \"mode\": \"markers\", \"text\": \"mut 225\", \"x\": [0.4599570531522872], \"y\": [-0.7735887209980923], \"type\": \"scatter\", \"uid\": \"94368384-8726-4d8d-828e-b24fe5d002e6\"}, {\"marker\": {\"color\": \"rgba(166,217,106, 0.75)\", \"size\": 0.5}, \"mode\": \"markers\", \"x\": [0.5056870835704793], \"y\": [-0.7445002172665788], \"type\": \"scatter\", \"uid\": \"e6508f62-e230-4532-bb16-ea388efdd2ec\"}, {\"marker\": {\"color\": \"rgba(175,175,175,0.5)\", \"size\": 0.5}, \"mode\": \"markers\", \"text\": \"mut 225\", \"x\": [0.5531534956955022], \"y\": [-0.7099445120569959], \"type\": \"scatter\", \"uid\": \"30111f55-75ed-42ec-ab4e-c1663ee90c70\"}, {\"marker\": {\"color\": \"rgba(175,175,175,0.5)\", \"size\": 0.5}, \"mode\": \"markers\", \"text\": \"mut246\", \"x\": [0.8430242643569434], \"y\": [-0.31513503408131976], \"type\": \"scatter\", \"uid\": \"606d528e-9209-4046-b0a3-3e1f3d5695d0\"}, {\"marker\": {\"color\": \"rgba(102,189,99, 0.75)\", \"size\": 0.5}, \"mode\": \"markers\", \"x\": [0.8685374843144726], \"y\": [-0.23588691854506708], \"type\": \"scatter\", \"uid\": \"59be4d01-9d7c-4efb-8abc-47a935814440\"}], {\"annotations\": [{\"align\": \"left\", \"showarrow\": false, \"text\": \"mut 186\", \"valign\": \"bottom\", \"x\": 0.8726448514199798, \"y\": 0.8237056290266573}, {\"align\": \"left\", \"showarrow\": false, \"text\": \"mut 194\", \"valign\": \"bottom\", \"x\": -0.7670925092556223, \"y\": 0.9228050077041806}, {\"align\": \"left\", \"showarrow\": false, \"text\": \"mut 138\", \"valign\": \"bottom\", \"x\": -1.1840934238451806, \"y\": -0.19473767895966562}, {\"align\": \"left\", \"showarrow\": false, \"text\": \"mut 156\", \"valign\": \"bottom\", \"x\": -0.8594758136559936, \"y\": -0.8374373563081406}, {\"align\": \"left\", \"showarrow\": false, \"text\": \"mut 203\", \"valign\": \"bottom\", \"x\": -0.4136567253267022, \"y\": -1.12644933911472}, {\"align\": \"left\", \"showarrow\": false, \"text\": \"mut 219\", \"valign\": \"bottom\", \"x\": 0.1260237090180709, \"y\": -1.1933641626784879}, {\"align\": \"left\", \"showarrow\": false, \"text\": \"mut 225\", \"valign\": \"bottom\", \"x\": 0.8373560779616077, \"y\": -0.8595550003930835}, {\"align\": \"left\", \"showarrow\": false, \"text\": \"mut246\", \"valign\": \"bottom\", \"x\": 1.1680976411901036, \"y\": -0.27485978360996305}], \"height\": 800, \"hovermode\": false, \"margin\": {\"b\": 25, \"l\": 25, \"r\": 25, \"t\": 25}, \"shapes\": [{\"fillcolor\": \"rgba(175,175,175,0.5)\", \"layer\": \"below\", \"line\": {\"color\": \"rgba(175,175,175,0.5)\", \"width\": 0.5}, \"path\": \"M 0.7514561801168654, 0.6597830017241799 Q 0.3044582539626462, 0.39661715998430636 0.4431607902141944, 0.8964421420352408L 0.4431607902141944, 0.8964421420352408 L 0.5559481026334738, 0.8312170036628465 L 0.6592980311616735, 0.7518817101820878 L 0.7514561801168654, 0.6597830017241799 \", \"type\": \"path\"}, {\"fillcolor\": \"rgba(26,152,80, 0.75)\", \"layer\": \"below\", \"line\": {\"color\": \"rgba(26,152,80, 0.75)\", \"width\": 0.5}, \"path\": \"M 1.0, 0.0 Q 0.14254713024194549, 0.14028654839215995 0.01598421701070828, 0.9998722442425105L 0.01598421701070828, 0.9998722442425105 L 0.0211246259614847, 0.9997768501910751 L 0.0262644765270469, 0.9996550291339309 M 0.0262644765270469, 0.9996550291339309 Q 0.14254638071067652, 0.1402873099973297 0.999947024609122, 0.010293103291237261L 0.999947024609122, 0.010293103291237261 L 0.9999867560645795, 0.0051466198071189895 L 1.0, 0.0 \", \"type\": \"path\"}, {\"fillcolor\": \"rgba(26,152,80, 0.75)\", \"layer\": \"below\", \"line\": {\"color\": \"rgba(26,152,80, 0.75)\", \"width\": 0.5}, \"path\": \"M 0.999947024609122, 0.010293103291237261 Q -0.022287925392490762, 0.19875424116656926 -0.9773905890605603, -0.21144180385120379L -0.9773905890605603, -0.21144180385120379 L -0.9875140334710828, -0.1575310562958082 L -0.9946661934886006, -0.10314632097606656 M -0.9946661934886006, -0.10314632097606656 Q -0.022636342424883743, 0.19871486104874847 0.9923811704900641, 0.12320556990968516L 0.9923811704900641, 0.12320556990968516 L 0.9977626047944774, 0.06685644676274223 L 0.999947024609122, 0.010293103291237261 \", \"type\": \"path\"}, {\"fillcolor\": \"rgba(26,152,80, 0.75)\", \"layer\": \"below\", \"line\": {\"color\": \"rgba(26,152,80, 0.75)\", \"width\": 0.5}, \"path\": \"M 0.9036363423124314, 0.42830054967535386 Q -0.1366145464682343, 0.14607007117571574 -0.4877271720914631, -0.872996108584491L -0.4877271720914631, -0.872996108584491 L -0.6003096631964581, -0.7997676589316144 L -0.7020642349520972, -0.7121136215528576 M -0.7020642349520972, -0.7121136215528576 Q -0.1372785456364576, 0.1454462131096545 0.7514561801168654, 0.6597830017241799L 0.7514561801168654, 0.6597830017241799 L 0.8356008890923808, 0.5493370132696527 L 0.9036363423124314, 0.42830054967535386 \", \"type\": \"path\"}, {\"fillcolor\": \"rgba(26,152,80, 0.75)\", \"layer\": \"below\", \"line\": {\"color\": \"rgba(26,152,80, 0.75)\", \"width\": 0.5}, \"path\": \"M 0.4431607902141944, 0.8964421420352408 Q -0.19992575647663147, 0.005449027183512055 0.3936736329844068, -0.9192502764170695L 0.3936736329844068, -0.9192502764170695 L 0.2715042952377883, -0.96243722791018 L 0.14477627551888092, -0.9894644157557567 L 0.015617395556511671, -0.9998780410410218 M 0.015617395556511671, -0.9998780410410218 Q -0.19995576419822905, 0.0042062291785183534 0.05765143987472041, 0.9983367725774562L 0.05765143987472041, 0.9983367725774562 L 0.15738585248868447, 0.9875371858499356 L 0.2555363993347947, 0.9667994355682095 L 0.35111533412717133, 0.936332217826966 L 0.4431607902141944, 0.8964421420352408 \", \"type\": \"path\"}, {\"fillcolor\": \"rgba(26,152,80, 0.75)\", \"layer\": \"below\", \"line\": {\"color\": \"rgba(26,152,80, 0.75)\", \"width\": 0.5}, \"path\": \"M 0.9923811704900641, 0.12320556990968516 Q -0.19354951764734216, 0.050384364821650686 0.8063447795617436, -0.5914457679902049L 0.8063447795617436, -0.5914457679902049 L 0.7660658912281684, -0.6427620479592678 L 0.7225268184106326, -0.6913428937057275 M 0.7225268184106326, -0.6913428937057275 Q -0.19363282260635106, 0.050063260076600884 0.9670723965794551, 0.2545014337367655L 0.9670723965794551, 0.2545014337367655 L 0.9819237349916186, 0.18927698925149236 L 0.9923811704900641, 0.12320556990968516 \", \"type\": \"path\"}, {\"fillcolor\": \"rgba(26,152,80, 0.75)\", \"layer\": \"below\", \"line\": {\"color\": \"rgba(26,152,80, 0.75)\", \"width\": 0.5}, \"path\": \"M 0.9670723965794551, 0.2545014337367655 Q -0.19872540290309743, -0.02254360754186439 0.9995065603657315, -0.03141075907812924L 0.9995065603657315, -0.03141075907812924 L 0.9929180257430479, -0.11880149054001031 L 0.9787033358348601, -0.20527976136413686 M 0.9787033358348601, -0.20527976136413686 Q -0.19861084246497085, -0.02353153746261666 0.9036363423124314, 0.42830054967535386L 0.9036363423124314, 0.42830054967535386 L 0.9393824192611211, 0.34287121544848764 L 0.9670723965794551, 0.2545014337367655 \", \"type\": \"path\"}, {\"fillcolor\": \"rgba(175,175,175,0.5)\", \"layer\": \"below\", \"line\": {\"color\": \"rgba(175,175,175,0.5)\", \"width\": 0.5}, \"path\": \"M -0.5046641249348137, 0.8633157713164857 Q -0.4127661190343672, 0.2821774813434031 -0.9876225070970737, 0.15684955682210475L -0.9876225070970737, 0.15684955682210475 L -0.9699112630394194, 0.24345870662040037 L -0.9446203244412849, 0.32816526728531414 L -0.9119473357640974, 0.4103072711916822 L -0.8721476309578122, 0.4892427922971128 L -0.8255322380687344, 0.5643549626868062 L -0.772465448607282, 0.6350567932932853 L -0.7133619706706694, 0.7007957611179301 L -0.6486836880683857, 0.7610581271059375 L -0.5789360507773624, 0.8153729509312356 L -0.5046641249348137, 0.8633157713164857 \", \"type\": \"path\"}, {\"fillcolor\": \"rgba(215,48,39, 0.75)\", \"layer\": \"below\", \"line\": {\"color\": \"rgba(215,48,39, 0.75)\", \"width\": 0.5}, \"path\": \"M 0.01598421701070828, 0.9998722442425105 Q -0.16921858517257893, 0.10660708434335242 -0.8949786346392304, -0.44610900410022986L -0.8949786346392304, -0.44610900410022986 L -0.923920757943846, -0.3825838901998737 L -0.9483605353858356, -0.31719441187179054 M -0.9483605353858356, -0.31719441187179054 Q -0.1694480915022274, 0.10624191398056032 -0.12762248743089746, 0.9918228171916345L -0.12762248743089746, 0.9918228171916345 L -0.055964043586615976, 0.9984327848310247 L 0.01598421701070828, 0.9998722442425105 \", \"type\": \"path\"}, {\"fillcolor\": \"rgba(215,48,39, 0.75)\", \"layer\": \"below\", \"line\": {\"color\": \"rgba(215,48,39, 0.75)\", \"width\": 0.5}, \"path\": \"M -0.29817077573566303, 0.9545125397275789 Q -0.19980867992250123, -0.008745937778618098 -0.2136291855329434, -0.9769148228420589L -0.2136291855329434, -0.9769148228420589 L -0.3131645984271042, -0.9496988650577564 L -0.4093654325545427, -0.9123705073211388 M -0.4093654325545427, -0.9123705073211388 Q -0.19971258828892396, -0.01071830578677234 -0.5046641249348137, 0.8633157713164857L -0.5046641249348137, 0.8633157713164857 L -0.40399898771630643, 0.9147594317219143 L -0.29817077573566303, 0.9545125397275789 \", \"type\": \"path\"}, {\"fillcolor\": \"rgba(215,48,39, 0.75)\", \"layer\": \"below\", \"line\": {\"color\": \"rgba(215,48,39, 0.75)\", \"width\": 0.5}, \"path\": \"M -0.12762248743089746, 0.9918228171916345 Q -0.16297504014491931, -0.11592728880536259 0.8950723602137287, -0.4459209234622492L 0.8950723602137287, -0.4459209234622492 L 0.853814640875968, -0.5205771403220101 L 0.8063447795617436, -0.5914457679902049 M 0.8063447795617436, -0.5914457679902049 Q -0.16273376746595228, -0.11626573410225978 -0.29817077573566303, 0.9545125397275789L -0.29817077573566303, 0.9545125397275789 L -0.21371240006283715, 0.9768966219920007 L -0.12762248743089746, 0.9918228171916345 \", \"type\": \"path\"}, {\"fillcolor\": \"rgba(175,175,175,0.5)\", \"layer\": \"below\", \"line\": {\"color\": \"rgba(175,175,175,0.5)\", \"width\": 0.5}, \"path\": \"M -0.9999080731368609, -0.013558955554542815 Q -0.4991462962604042, -0.029205734531437537 -0.9946661934886006, -0.10314632097606656L -0.9946661934886006, -0.10314632097606656 L -0.9982925925208084, -0.058411469062875074 L -0.9999080731368609, -0.013558955554542815 \", \"type\": \"path\"}, {\"fillcolor\": \"rgba(175,175,175,0.5)\", \"layer\": \"below\", \"line\": {\"color\": \"rgba(175,175,175,0.5)\", \"width\": 0.5}, \"path\": \"M -0.9984176938342756, 0.05623262966149363 Q -0.18963718696648843, -0.06354319254992713 -0.7629696871519569, -0.6464342630826782L -0.7629696871519569, -0.6464342630826782 L -0.7850272663997842, -0.6194612102536221 L -0.8061317578747192, -0.5917360804833646 M -0.8061317578747192, -0.5917360804833646 Q -0.18963303137880005, -0.06355559306691304 -0.9999080731368609, -0.013558955554542815L -0.9999080731368609, -0.013558955554542815 L -0.9997720660615284, 0.0213498459728157 L -0.9984176938342756, 0.05623262966149363 \", \"type\": \"path\"}, {\"fillcolor\": \"rgba(175,175,175,0.5)\", \"layer\": \"below\", \"line\": {\"color\": \"rgba(175,175,175,0.5)\", \"width\": 0.5}, \"path\": \"M -0.9962882950956875, 0.08607922545729714 Q -0.17241706037809362, -0.10135263830101722 -0.4093654325545427, -0.9123705073211388L -0.4093654325545427, -0.9123705073211388 L -0.4221683436091369, -0.9065174513788015 L -0.4348875923829749, -0.900484748339104 M -0.4348875923829749, -0.900484748339104 Q -0.17232736825201775, -0.10150506465853551 -0.9984176938342756, 0.05623262966149363L -0.9984176938342756, 0.05623262966149363 L -0.9974646361593053, 0.07116389261124562 L -0.9962882950956875, 0.08607922545729714 \", \"type\": \"path\"}, {\"fillcolor\": \"rgba(175,175,175,0.5)\", \"layer\": \"below\", \"line\": {\"color\": \"rgba(175,175,175,0.5)\", \"width\": 0.5}, \"path\": \"M -0.9920619386492268, 0.12575018840358823 Q -0.15977404400258796, -0.1203006852144205 -0.15334151843836452, -0.9881732533938655L -0.15334151843836452, -0.9881732533938655 L -0.1631902863242209, -0.9865946130247311 L -0.17302281835393887, -0.9849178160277434 M -0.17302281835393887, -0.9849178160277434 Q -0.15977404400258796, -0.1203006852144205 -0.9943729729501075, 0.1059357855795892L -0.9943729729501075, 0.1059357855795892 L -0.9932668660259344, 0.1158487499070163 L -0.9920619386492268, 0.12575018840358823 \", \"type\": \"path\"}, {\"fillcolor\": \"rgba(175,175,175,0.5)\", \"layer\": \"below\", \"line\": {\"color\": \"rgba(175,175,175,0.5)\", \"width\": 0.5}, \"path\": \"M -0.9773905890605603, -0.21144180385120379 Q -0.054337887116951714, -0.1924769960895728 0.7225268184106326, -0.6913428937057275L 0.7225268184106326, -0.6913428937057275 L 0.6832765726792975, -0.7301596573542204 L 0.6419441625804286, -0.7667513887362136 M 0.6419441625804286, -0.7667513887362136 Q -0.05440518991518204, -0.19245798323346575 -0.9483605353858356, -0.31719441187179054L -0.9483605353858356, -0.31719441187179054 L -0.964326320211384, -0.26471635413697314 L -0.9773905890605603, -0.21144180385120379 \", \"type\": \"path\"}, {\"fillcolor\": \"rgba(175,175,175,0.5)\", \"layer\": \"below\", \"line\": {\"color\": \"rgba(175,175,175,0.5)\", \"width\": 0.5}, \"path\": \"M -0.9943729729501075, 0.1059357855795892 Q -0.05116870865778807, -0.19334364032544338 0.916599681321729, -0.3998062333192228L 0.916599681321729, -0.3998062333192228 L 0.9126618434301689, -0.4087154995184865 L 0.9086374107304306, -0.4175859861406976 M 0.9086374107304306, -0.4175859861406976 Q -0.05112350955324405, -0.19335559668900038 -0.9962882950956875, 0.08607922545729714L -0.9962882950956875, 0.08607922545729714 L -0.9953801493747984, 0.09601228166544211 L -0.9943729729501075, 0.1059357855795892 \", \"type\": \"path\"}, {\"fillcolor\": \"rgba(175,175,175,0.5)\", \"layer\": \"below\", \"line\": {\"color\": \"rgba(175,175,175,0.5)\", \"width\": 0.5}, \"path\": \"M -0.8709123155901626, -0.491438438213151 Q -0.4279240094961589, -0.25861369278661817 -0.8400203035326955, -0.542554964637536L -0.8400203035326955, -0.542554964637536 L -0.8558480189923178, -0.5172273855732363 L -0.8709123155901626, -0.491438438213151 \", \"type\": \"path\"}, {\"fillcolor\": \"rgba(175,175,175,0.5)\", \"layer\": \"below\", \"line\": {\"color\": \"rgba(175,175,175,0.5)\", \"width\": 0.5}, \"path\": \"M -0.7629696871519569, -0.6464342630826782 Q -0.08267151576755014, -0.18211375697814736 0.015617395556511671, -0.9998780410410218L 0.015617395556511671, -0.9998780410410218 L -0.02926315620725775, -0.9995717421419984 L -0.07408476150566021, -0.9972519481618722 M -0.07408476150566021, -0.9972519481618722 Q -0.0826868266414774, -0.18210680574861082 -0.7020642349520972, -0.7121136215528576L -0.7020642349520972, -0.7121136215528576 L -0.7332527141178277, -0.6799562171484568 L -0.7629696871519569, -0.6464342630826782 \", \"type\": \"path\"}, {\"fillcolor\": \"rgba(175,175,175,0.5)\", \"layer\": \"below\", \"line\": {\"color\": \"rgba(175,175,175,0.5)\", \"width\": 0.5}, \"path\": \"M -0.8400203035326955, -0.542554964637536 Q -0.0486095783144563, -0.19400285795856398 0.4849510396955947, -0.8745413021110906L 0.4849510396955947, -0.8745413021110906 L 0.45839893178223606, -0.8887465439262787 L 0.4314311461912198, -0.9021458674162013 M 0.4314311461912198, -0.9021458674162013 Q -0.04865745412777748, -0.19399085586130918 -0.8061317578747192, -0.5917360804833646L -0.8061317578747192, -0.5917360804833646 L -0.8234432875784041, -0.5673985831336466 L -0.8400203035326955, -0.542554964637536 \", \"type\": \"path\"}, {\"fillcolor\": \"rgba(175,175,175,0.5)\", \"layer\": \"below\", \"line\": {\"color\": \"rgba(175,175,175,0.5)\", \"width\": 0.5}, \"path\": \"M -0.8805243942587002, -0.4740008345091273 Q 0.010196080219453129, -0.19973993078039876 0.9242140864187139, -0.3818747470902231L 0.9242140864187139, -0.3818747470902231 L 0.9204505507767848, -0.39085903286826235 L 0.916599681321729, -0.3998062333192228 M 0.916599681321729, -0.3998062333192228 Q 0.010239041147105969, -0.1997377331311935 -0.8709123155901626, -0.491438438213151L -0.8709123155901626, -0.491438438213151 L -0.8757617567907878, -0.48274356064344653 L -0.8805243942587002, -0.4740008345091273 \", \"type\": \"path\"}, {\"fillcolor\": \"rgba(175,175,175,0.5)\", \"layer\": \"below\", \"line\": {\"color\": \"rgba(175,175,175,0.5)\", \"width\": 0.5}, \"path\": \"M -0.46006503773115265, -0.887885218402375 Q -0.22794679288872724, -0.44501714530087905 -0.45171209526458633, -0.8921637646708576L -0.45171209526458633, -0.8921637646708576 L -0.4558935857774545, -0.8900342906017581 L -0.46006503773115265, -0.887885218402375 \", \"type\": \"path\"}, {\"fillcolor\": \"rgba(175,175,175,0.5)\", \"layer\": \"below\", \"line\": {\"color\": \"rgba(175,175,175,0.5)\", \"width\": 0.5}, \"path\": \"M -0.45171209526458633, -0.8921637646708576 Q -0.06315829528550164, -0.18976572329224628 -0.17302281835393887, -0.9849178160277434L -0.17302281835393887, -0.9849178160277434 L -0.1779326901563918, -0.9840426605456236 L -0.18283813628561998, -0.9831430292279965 M -0.18283813628561998, -0.9831430292279965 Q -0.06321422826936288, -0.18974709838179052 -0.4433193670780582, -0.896363731290769L -0.4433193670780582, -0.896363731290769 L -0.44752065826697346, -0.8942735937196707 L -0.45171209526458633, -0.8921637646708576 \", \"type\": \"path\"}, {\"fillcolor\": \"rgba(175,175,175,0.5)\", \"layer\": \"below\", \"line\": {\"color\": \"rgba(175,175,175,0.5)\", \"width\": 0.5}, \"path\": \"M -0.4433193670780582, -0.896363731290769 Q -0.0013219791754307889, -0.1999956308799263 0.4314311461912198, -0.9021458674162013L 0.4314311461912198, -0.9021458674162013 L 0.42689781393918785, -0.9042998708691395 L 0.42235372777596586, -0.906431094255788 M 0.42235372777596586, -0.906431094255788 Q -0.001387287972079611, -0.19999518852233053 -0.4348875923829749, -0.900484748339104L -0.4348875923829749, -0.900484748339104 L -0.4391083142082672, -0.8984341313603206 L -0.4433193670780582, -0.896363731290769 \", \"type\": \"path\"}, {\"fillcolor\": \"rgba(175,175,175,0.5)\", \"layer\": \"below\", \"line\": {\"color\": \"rgba(175,175,175,0.5)\", \"width\": 0.5}, \"path\": \"M -0.15334151843836452, -0.9881732533938655 Q -0.07173874727678951, -0.49482679003784436 -0.13359919604489806, -0.9910354457920044L -0.13359919604489806, -0.9910354457920044 L -0.14347749455357903, -0.9896535800756887 L -0.15334151843836452, -0.9881732533938655 \", \"type\": \"path\"}, {\"fillcolor\": \"rgba(175,175,175,0.5)\", \"layer\": \"below\", \"line\": {\"color\": \"rgba(175,175,175,0.5)\", \"width\": 0.5}, \"path\": \"M -0.13359919604489806, -0.9910354457920044 Q 0.042917208319447966, -0.1953410177870104 0.5367123111013723, -0.8437653080757846L 0.5367123111013723, -0.8437653080757846 L 0.5110633923914302, -0.8595430233312136 L 0.4849510396955947, -0.8745413021110906 M 0.4849510396955947, -0.8745413021110906 Q 0.042879948834840004, -0.19534920012101792 -0.07408476150566021, -0.9972519481618722L -0.07408476150566021, -0.9972519481618722 L -0.10388848724182177, -0.99458895138575 L -0.13359919604489806, -0.9910354457920044 \", \"type\": \"path\"}, {\"fillcolor\": \"rgba(175,175,175,0.5)\", \"layer\": \"below\", \"line\": {\"color\": \"rgba(175,175,175,0.5)\", \"width\": 0.5}, \"path\": \"M 0.5367123111013723, -0.8437653080757846 Q 0.2809372686502663, -0.413611231814766 0.5865272537984115, -0.8099294910988819L 0.5865272537984115, -0.8099294910988819 L 0.5618745373005326, -0.827222463629532 L 0.5367123111013723, -0.8437653080757846 \", \"type\": \"path\"}, {\"fillcolor\": \"rgba(175,175,175,0.5)\", \"layer\": \"below\", \"line\": {\"color\": \"rgba(175,175,175,0.5)\", \"width\": 0.5}, \"path\": \"M 0.5865272537984115, -0.8099294910988819 Q 0.16115240959464772, -0.11844788255532007 0.948084546018262, -0.31801838563414236L 0.948084546018262, -0.31801838563414236 L 0.9366936270632704, -0.35015003786813303 L 0.9242140864187139, -0.3818747470902231 M 0.9242140864187139, -0.3818747470902231 Q 0.1612755930137216, -0.11828010440506227 0.6419441625804286, -0.7667513887362136L 0.6419441625804286, -0.7667513887362136 L 0.6146149952172246, -0.7888272356188843 L 0.5865272537984115, -0.8099294910988819 \", \"type\": \"path\"}, {\"fillcolor\": \"rgba(175,175,175,0.5)\", \"layer\": \"below\", \"line\": {\"color\": \"rgba(175,175,175,0.5)\", \"width\": 0.5}, \"path\": \"M 0.948084546018262, -0.31801838563414236 Q 0.48252082461915147, -0.13104828808059282 0.9787033358348601, -0.20527976136413686L 0.9787033358348601, -0.20527976136413686 L 0.9650416492383029, -0.26209657616118565 L 0.948084546018262, -0.31801838563414236 \", \"type\": \"path\"}, {\"fillcolor\": \"rgba(26,152,80, 0.75)\", \"layer\": \"below\", \"line\": {\"color\": \"rgba(26,152,80, 0.75)\", \"width\": 0.45}, \"path\": \"M 1.1, 0.0 L 1.099944034658493, 0.011095973107211651 L 1.0997761443287348, 0.02219081714183367 L 1.0994963460944334, 0.033283403146165395 L 1.099104668426505, 0.044372602392272406 L 1.0986011511801759, 0.055457286496840445 L 1.097985845590927, 0.06653632753599421 L 1.0972588142692812, 0.07760859816006947 L 1.0964201311944315, 0.08867297170832673 L 1.0954698817067139, 0.09972832232359471 L 1.0944081624989226, 0.11077352506683222 L 1.0932350816064726, 0.12180745603159646 L 1.0919507583964054, 0.13282899245840632 L 1.0905553235552428, 0.14383701284898895 L 1.089048919075689, 0.15483039708039809 L 1.0874316982421826, 0.16580802651899218 L 1.0857038256152989, 0.17676878413426128 L 1.083865477015004, 0.18771155461249062 L 1.0819168395027658, 0.19863522447024964 L 1.0798581113625187, 0.2095386821676945 L 1.077689502080487, 0.2204208182216731 L 1.0754112323238691, 0.23128052531862067 L 1.0730235339183831, 0.24211669842723488 L 1.0705266498246775, 0.25292823491091815 L 1.0679208341136086, 0.26371403463997667 L 1.0652063519403876, 0.2744730001035647 L 1.0623834795175997, 0.28520403652136134 L 1.059452504087098, 0.2959060519549706 L 1.0564137238907751, 0.3065779574190313 L 1.0532674481402153, 0.31721866699202755 L 1.0500139969852313, 0.3278270979267864 L 1.0466537014812867, 0.33840217076065293 L 1.043186903555809, 0.3489428094253316 L 1.0396139559733986, 0.35944794135638136 L 1.035935222299931, 0.3699164976023548 L 1.0321510768655628, 0.38034741293356933 L 1.0282619047266428, 0.39073962595049994 L 1.024268101626529, 0.4010920791917821 L 1.02017007395532, 0.41140371924181396 L 1.0159682387085034, 0.4216734968379464 L 1.011663023444524, 0.43190036697725165 L 1.0072548662412772, 0.4420832890228571 L 1.0027442156515325, 0.45222122680983573 L 0.9981315306572913, 0.46231314875064156 L 0.9934172806230825, 0.47235802794007814 L 0.988601945248203, 0.4823548422597925 L 0.9836860145179045, 0.4923025744822804 L 0.9786699886535367, 0.5022002123743942 L 0.9735543780616459, 0.5120467488003435 L 0.968339703282039, 0.5218411818241763 L 0.9630264949348156, 0.5315825148117304 L 0.9576152936663755, 0.5412697565320472 L 0.9521066500944038, 0.5509019212582335 L 0.9465011247518436, 0.5604780288677652 L 0.9407992880298588, 0.569997104942219 L 0.9350017201197938, 0.5794581808664254 L 0.9291090109541358, 0.5888602939270298 L 0.9231217601464863, 0.598202487410453 L 0.9170405769305475, 0.6074838107002429 L 0.9108660800981293, 0.6167033193738042 L 0.9045988979361842, 0.6258600752984977 L 0.8982396681628755, 0.634953146727101 L 0.8917890378626872, 0.6439816083926178 L 0.8852476634205786, 0.6529445416024291 L 0.8786162104551941, 0.6618410343317753 L 0.8718953537511339, 0.6706701813165584 L 0.8650857771902899, 0.6794310841454578 L 0.8581881736822581, 0.6881228513513488 L 0.8512032450938312, 0.6967445985020131 L 0.8441317021775795, 0.705295448290135 L 0.836974264499529, 0.7137745306225717 L 0.8297316603659418, 0.7221809827088896 L 0.8224046267492063, 0.7305139491491581 L 0.8149939092128471, 0.7387725820209908 L 0.8075002618356604, 0.7469560409658255 L 0.7999244471349816, 0.755063493274436 L 0.792267235989096, 0.7630941139716636 L 0.7845294075587977, 0.7710470859003631 L 0.7767117492081063, 0.7789215998045528 L 0.7688150564241477, 0.7867168544117603 L 0.76084013273621, 0.7944320565145558 L 0.7527877896339797, 0.8020664210512664 L 0.7446588464849693, 0.8096191711858577 L 0.7364541304511412, 0.8170895383869836 L 0.7281744764047403, 0.8244767625061864 L 0.7198207268433419, 0.831780091855247 L 0.7113937318041224, 0.8389987832826724 L 0.702894348777364, 0.8461321022493152 L 0.6943234426192008, 0.8531793229031173 L 0.6856818854636149, 0.8601397281529685 L 0.6769705566336923, 0.8670126097416745 L 0.6681903425521475, 0.8737972683180257 L 0.6593421366511254, 0.8804930135079603 L 0.6504268392812893, 0.8870991639848118 L 0.6414453576202065, 0.8936150475386399 L 0.6323986055800377, 0.9000400011446292 L 0.6232875037145419, 0.9063733710305567 L 0.6141129791254052, 0.912614512743316 L 0.6048759653679039, 0.9187627912144932 L 0.5955774023559093, 0.9248175808249903 L 0.5862182362662481, 0.9307782654686826 L 0.5767994194424229, 0.9366442386151127 L 0.5673219102977062, 0.942414903371207 L 0.5577866732176184, 0.9480896725420134 L 0.5481946784617949, 0.9536679686904501 L 0.5385469020652578, 0.9591492241960653 L 0.5288443257390996, 0.9645328813127924 L 0.5190879367705884, 0.9698183922257062 L 0.5092787279227072, 0.9750052191067642 L 0.49941769733313435, 0.9800928341695341 L 0.4895058484126783, 0.9850807197228988 L 0.47954418974317453, 0.9899683682237339 L 0.4695337349748586, 0.994755282328553 L 0.4594755027232211, 0.9994409749441151 L 0.4493705164653581, 1.0040249692769885 L 0.4392198044358276, 1.0085067988820668 L 0.42902439952202087, 1.0128860077100332 L 0.4187853391590612, 1.0171621501537649 L 0.4085036652242394, 1.0213347910936759 L 0.39818042393099734, 1.0254035059419933 L 0.3878166657224704, 1.0293678806859605 L 0.37741344516459957, 1.033227511929966 L 0.36697182083882307, 1.0369820069365905 L 0.3564928552343617, 1.0406309836665697 L 0.345977614640104, 1.0441740708176697 L 0.335427169036106, 1.0476109078624676 L 0.32484259198471593, 1.0509411450850383 L 0.314224960521332, 1.0541644436165392 L 0.30357535504481065, 1.0572804754696916 L 0.29289485920752895, 1.0602889235721564 L 0.28218455980511775, 1.063189481798796 L 0.271445546665875, 1.0659818550028253 L 0.2606789125398689, 1.0686657590458448 L 0.24988575298774654, 1.071240920826752 L 0.23906716626925376, 1.0737070783095308 L 0.22822425323148215, 1.076063980549917 L 0.2173581171968521, 1.078311387720931 L 0.20646986385084318, 1.0804490711372816 L 0.1955606011294864, 1.0824768132786373 L 0.18463143910662505, 1.0843944078117596 L 0.17368348988095908, 1.0862016596114972 L 0.16271786746288341, 1.087898384780643 L 0.15173568766113193, 1.0894844106686445 L 0.14073806796923702, 1.0909595758891741 L 0.12972612745182038, 1.0923237303365492 L 0.11870098663072154, 1.093576735201007 L 0.10766376737097905, 1.0947184629828293 L 0.09661559276667525, 1.095748797505315 L 0.08555758702665468, 1.0966676339266042 L 0.07449087536013146, 1.0974748787503437 L 0.06341658386219245, 1.0981704498352018 L 0.05765143987472041, 0.9983367725774562 L 0.06771897760011951, 0.9977044352275851 L 0.07777962456968607, 0.9969705762969129 L 0.08783235706061386, 0.9961352704593773 L 0.09787615215543549, 0.9951986027116628 L 0.10790998784611049, 0.9941606683645517 L 0.11793284313801852, 0.9930215730332265 L 0.12794369815385181, 0.9917814326265219 L 0.13794153423739267, 0.9904403733351312 L 0.14792533405716674, 0.9889985316187662 L 0.15789408170996277, 0.9874560541922701 L 0.16784676282420458, 0.9858130980106905 L 0.17778236466316943, 0.9840698302533066 L 0.18769987622803924, 0.9822264283066195 L 0.19759828836077462, 0.9802830797463007 L 0.20747659384680195, 0.9782399823181064 L 0.2173337875175034, 0.9760973439177553 L 0.22716886635249683, 0.9738553825697743 L 0.236980829581699, 0.9715143264053133 L 0.24676867878715908, 0.969074413638932 L 0.25653141800465246, 0.9665358925443598 L 0.2662680538250263, 0.963899021429233 L 0.2759775954952824, 0.9611640686088105 L 0.2856590550193927, 0.9583313123786719 L 0.2953114472588326, 0.9554010409863984 L 0.3049337900328236, 0.9523735526022432 L 0.31452510421827634, 0.9492491552887906 L 0.3240844138494197, 0.9460281669696088 L 0.33361074621711184, 0.9427109153969003 L 0.3431031319678178, 0.9392977381181509 L 0.3525606052022458, 0.9357889824417822 L 0.3619822035736339, 0.9321850054018119 L 0.3713669683856722, 0.9284861737215235 L 0.3807139446900556, 0.9246928637761499 L 0.3900221813836553, 0.9208054615545757 L 0.3992907313052978, 0.9168243626200606 L 0.40851865133214366, 0.9127499720699894 L 0.4177050024756555, 0.9085827044946501 L 0.4268488499771442, 0.9043229839350482 L 0.4359492634028859, 0.899971243839758 L 0.4450053167387984, 0.895527927020817 L 0.45401608848466757, 0.8909934856086673 L 0.46298066174791563, 0.8863683810061492 L 0.4718981243368985, 0.881653083841551 L 0.4807675688537268, 0.8768480739207203 L 0.489588092786598, 0.8719538401782411 L 0.49835879860163174, 0.8669708806276819 L 0.5070787938341985, 0.8618997023109212 L 0.5157471911797329, 0.8567408212465518 L 0.5243631085840207, 0.8514947623773751 L 0.5329256693329528, 0.8461620595169841 L 0.5414340021417356, 0.8407432552954457 L 0.5498872412435489, 0.8352389011040847 L 0.558284526477641, 0.829649557039378 L 0.5666250033768562, 0.8239757918459606 L 0.5749078232545797, 0.8182181828587538 L 0.5831321432910967, 0.812377315944218 L 0.5912971266193539, 0.806453785440738 L 0.5994019424101139, 0.8004481940981456 L 0.6074457659564977, 0.794361153016387 L 0.6154277787579021, 0.7881932815833403 L 0.6233471686032862, 0.7819452074117894 L 0.6312031296538189, 0.7756175662755611 L 0.6389948625248764, 0.769211002044832 L 0.6467215743673839, 0.7627261666206112 L 0.6543824789484926, 0.7561637198684064 L 0.661976796731582, 0.7495243295510785 L 0.6695037549555828, 0.7428086712608941 L 0.6769625877136084, 0.7360174283507797 L 0.6843525360308906, 0.7291512918647876 L 0.691672847942009, 0.722210960467778 L 0.6989227785674069, 0.7151971403743275 L 0.7061015901891875, 0.7081105452768661 L 0.7132085523261797, 0.7009518962730573 L 0.720242941808269, 0.6937219217924214 L 0.7272040428499832, 0.6864213575222144 L 0.7340911471233276, 0.6790509463325686 L 0.740903553829861, 0.6716114382009007 L 0.7476405697720057, 0.6641035901355983 L 0.7543015094235834, 0.6565281660989906 L 0.7608856949995718, 0.6488859369296106 L 0.7673924565250722, 0.6411776802637591 L 0.7738211319034828, 0.6334041804563755 L 0.780171066983871, 0.6255662285012261 L 0.7864416156275362, 0.6176646219504162 L 0.792632139773758, 0.6097001648332349 L 0.7987420095047219, 0.6016736675743412 L 0.8047706031096168, 0.5935859469112992 L 0.8107173071478974, 0.5854378258114706 L 0.816581516511705, 0.5772301333882736 L 0.8223626344874401, 0.5689637048168161 L 0.8280600728164811, 0.5606393812489129 L 0.8336732517550431, 0.5522580097274935 L 0.8392016001331692, 0.5438204431004118 L 0.8446445554128507, 0.5353275399336633 L 0.850001563745267, 0.5267801644240231 L 0.8552720800271443, 0.5181791863111082 L 0.8604555679562214, 0.5095254807888774 L 0.8655515000858215, 0.5008199284165759 L 0.8705593578785231, 0.4920634150291338 L 0.8754786317589233, 0.4832568316470276 L 0.8803088211654899, 0.47440107438561474 L 0.8850494346014962, 0.4654970443639486 L 0.8896999896850333, 0.4565456476130855 L 0.8942600131980949, 0.4475477949838912 L 0.89872904113473, 0.4385044020543568 L 0.9031066187482568, 0.42941638903643464 L 0.9073923005975375, 0.4202846806824014 L 0.9115856505923022, 0.4111102061907597 L 0.9156862420375247, 0.4018938991116882 L 0.91969365767684, 0.3926366972520469 L 0.9236074897350031, 0.38333954257995123 L 0.9274273399593816, 0.37400338112892173 L 0.9311528196604808, 0.36462916290162006 L 0.9347835497514935, 0.3552178417731817 L 0.9383191607868753, 0.3457703753941539 L 0.9417592929999371, 0.33628772509304977 L 0.9451035963394532, 0.3267708557785285 L 0.9483517305052809, 0.3172207358412105 L 0.9515033649829877, 0.307638337055139 L 0.954558179077483, 0.2980246344788967 L 0.9575158619456503, 0.2883806063563887 L 0.9603761126279773, 0.2787072340173012 L 0.9631386400791799, 0.26900550177724597 L 0.9658031631978178, 0.2592763968376012 L 0.9683694108548977, 0.2495209091850588 L 0.9708371219214622, 0.23974003149088788 L 0.9732060452951613, 0.22993475900992555 L 0.9754759399258028, 0.2201060894793044 L 0.977646574839881, 0.21025502301692786 L 0.9797177291640792, 0.20038256201970278 L 0.9816891921477443, 0.19048971106154045 L 0.9835607631843326, 0.18057747679113603 L 0.9853322518318217, 0.17064686782953692 L 0.9870034778320897, 0.16069889466751025 L 0.9885742711292569, 0.15073456956272016 L 0.9900444718869899, 0.14075490643672553 L 0.991413930504766, 0.13076092077180812 L 0.9926825076330957, 0.1207536295076421 L 0.9938500741877023, 0.11073405093781495 L 0.9949165113626568, 0.1007032046062111 L 0.995881710642467, 0.09066211120326792 L 0.9967455738131195, 0.08061179246211521 L 0.9975080129720738, 0.07055327105460861 L 0.9981689505372063, 0.06048757048726746 L 0.9987283192547052, 0.05041571499712767 L 0.9991860622059135, 0.040338729447520365 L 0.9995421328131212, 0.030257639223786718 L 0.9997964948443042, 0.020173470128939698 L 0.9999491224168118, 0.010087248279283319 L 1.0, 0.0 L 1.1 ,0.0\", \"type\": \"path\"}, {\"fillcolor\": \"rgba(215,48,39, 0.75)\", \"layer\": \"below\", \"line\": {\"color\": \"rgba(215,48,39, 0.75)\", \"width\": 0.45}, \"path\": \"M 0.028890924179751594, 1.099620532047324 L 0.017741926051835537, 1.0998569107206497 L 0.006591104522628573, 1.0999802531596519 L -0.0045603943979988, 1.0999905466879862 L -0.015711424630558884, 1.09988779024775 L -0.026860840143732485, 1.0996719943995905 L -0.03800749507215091, 1.0993431813216201 L -0.04915024383416088, 1.0989013848071367 L -0.060287941249559114, 1.0983466502611503 L -0.07141944265728804, 1.0976790346957177 L -0.08254360403307598, 1.0968986067240813 L -0.09365928210701191, 1.0960054465536198 L -0.10476533448104484, 1.0949996459776026 L -0.11586061974639121, 1.093881308365758 L -0.1269439976008418, 1.0926505486536477 L -0.1380143289659549, 1.0913074933308566 L -0.1490704761041224, 1.0898522804279902 L -0.16011130273550095, 1.0882850595024913 L -0.1711356741547904, 1.086605991623268 L -0.18214245734785092, 1.0848152493541408 L -0.19313052110814855, 1.0829130167361067 L -0.2040987361530122, 1.0808994892684256 L -0.2150459752396943, 1.0787748738885277 L -0.22597111328122196, 1.076539388950746 L -0.2368730274620251, 1.0741932642038745 L -0.2477505973533337, 1.0717367407675573 L -0.25860270502832766, 1.0691700711075072 L -0.2694282351770292, 1.0664935190095586 L -0.2802260752209289, 1.063707359552558 L -0.2909951154273284, 1.060811879080092 L -0.30173424902339174, 1.057807375171061 L -0.3124423723098927, 1.0546941566090933 L -0.32311838477464483, 1.0514725433508119 L -0.33376118920560677, 1.0481428664929506 L -0.3443696918036456, 1.0447054682383272 L -0.35494280229494984, 1.0411607018606726 L -0.36547943404308253, 1.0375089316683246 L -0.3759785041606575, 1.0337505329667862 L -0.38643893362063164, 1.0298858920201546 L -0.39685964736720125, 1.025915406011422 L -0.4072395744262878, 1.0218394830016582 L -0.4175776480156075, 1.0176585418880704 L -0.42787280565430763, 1.0133730123609526 L -0.4381239892721606, 1.0089833348595247 L -0.44833014531830734, 1.0044899605266673 L -0.45849022486953317, 0.9998933511625553 L -0.4686031837380699, 0.9951939791771979 L -0.4786679825789108, 0.9903923275418867 L -0.48868358699662756, 0.9854888897395595 L -0.49864896765167954, 0.9804841697140829 L -0.5085631003662004, 0.9753786818184607 L -0.5184249662292602, 0.9701729507619714 L -0.5282335517015793, 0.9648675115562422 L -0.5379878487196952, 0.9594629094602639 L -0.5476868547995642, 0.9539596999243528 L -0.5573295731395909, 0.9483584485330647 L -0.5669150127230707, 0.9426597309470691 L -0.5764421884200439, 0.9368641328439844 L -0.5859101210885386, 0.9309722498581867 L -0.5953178376752009, 0.9249846875195953 L -0.6046643713152994, 0.9189020611914385 L -0.6139487614320932, 0.9127249960070114 L -0.623170053835554, 0.9064541268054291 L -0.6323273008204316, 0.9000900980663812 L -0.6414195612636527, 0.8936335638438965 L -0.6504459007210438, 0.8870851876991241 L -0.6594053915233675, 0.8804456426321359 L -0.6682971128716609, 0.8737156110127612 L -0.677120150931872, 0.866895784510456 L -0.685873598928776, 0.859986864023218 L -0.6945565572391678, 0.8529895596055527 L -0.7031681334843206, 0.845904590395499 L -0.7117074426216968, 0.8387326845407209 L -0.7201736070359097, 0.8314745791236718 L -0.7285657566289171, 0.8241310200858438 L -0.7368830289094452, 0.8167027621511034 L -0.7451245690816302, 0.8091905687481257 L -0.7532895301328676, 0.801595211931935 L -0.7613770729208641, 0.7939174723045573 L -0.7693863662598781, 0.7861581389347952 L -0.7773165870061448, 0.7783180092771326 L -0.7851669201424725, 0.770397889089777 L -0.7929365588620055, 0.7623985923518493 L -0.8006247046511421, 0.7543209411797286 L -0.8082305673716011, 0.7461657657425593 L -0.8157533653416273, 0.7379339041769322 L -0.8231923254163271, 0.7296262025007463 L -0.8305466830671281, 0.7212435145262601 L -0.8378156824603511, 0.7127867017723438 L -0.8449985765348919, 0.7042566333759355 L -0.8520946270789977, 0.695654186002718 L -0.8591031048061365, 0.6869802437570214 L -0.8660232894299486, 0.67823569809096 L -0.8728544697382723, 0.669421447712814 L -0.8795959436662388, 0.6605383984946667 L -0.886247018368425, 0.6515874633793047 L -0.8928070102900599, 0.6425695622863916 L -0.8992752452372765, 0.6334856220179242 L -0.9056510584464007, 0.6243365761629813 L -0.9119337946522709, 0.6151233650017777 L -0.9181228081555829, 0.6058469354090248 L -0.9242174628892503, 0.5965082407566195 L -0.9302171324837764, 0.5871082408156615 L -0.9361212003316254, 0.5776479016578154 L -0.941929059650597, 0.5681281955560226 L -0.9476401135461858, 0.5585501008845778 L -0.9532537750729265, 0.5489146020185787 L -0.958769467294716, 0.5392226892327572 L -0.964186623344108, 0.5294753585997062 L -0.9695046864805713, 0.5196736118875089 L -0.9747231101477085, 0.5098184564567844 L -0.9798413580294275, 0.4999109051571564 L -0.98485890410506, 0.4899519762231604 L -0.9897752327034235, 0.479942693169595 L -0.9945898385558181, 0.4698840846863321 L -0.9993022268479546, 0.45977718453259436 L -1.0039119132708088, 0.44962303143071364 L -1.0084184240703953, 0.43942266895937526 L -1.0128212960964575, 0.42917714544636687 L -1.0171200768500666, 0.4188875138608396 L -1.0213143245301262, 0.4085548317050877 L -1.0254036080787787, 0.3981801609058673 L -1.0293875072257068, 0.3877645677052577 L -1.033265612531325, 0.37730912255108007 L -1.0370375254288597, 0.3668148999868836 L -1.0407028582653117, 0.3562829785415107 L -1.0442612343412967, 0.34571444061825296 L -1.0477122879497593, 0.33511037238360847 L -1.051055664413559, 0.3244718636556528 L -1.0542910201219204, 0.3138000077920341 L -1.0574180225657488, 0.3030959015776055 L -1.0604363503718028, 0.2923606451117034 L -1.0633456933357215, 0.28159534169508876 L -1.066145752453908, 0.2708010977165537 L -1.068836239954257, 0.25997902253921573 L -1.0714168793257308, 0.24913022838650556 L -1.0738874053467777, 0.23825583022785746 L -1.0762475641125893, 0.22735694566412148 L -1.0784971130611951, 0.2164346948127033 L -1.080635820998392, 0.20549020019244557 L -1.0826634681215048, 0.1945245866082629 L -1.0845798460419755, 0.18353898103554134 L -1.0863847578067811, 0.17253451250431523 L -0.9876225070970737, 0.15684955682210475 L -0.9859816782199777, 0.1668536191232194 L -0.9842395164740951, 0.176840533280239 L -0.982396200907629, 0.18680927290222324 L -0.9804519209647227, 0.1967588134660939 L -0.9784068764659901, 0.2066881324219286 L -0.9762612775879798, 0.2165962092980522 L -0.9740153448415735, 0.22648202580591412 L -0.9716693090493245, 0.23634456594474154 L -0.9692234113217345, 0.2461828161059579 L -0.966677903032474, 0.2559957651773534 L -0.9640330457925479, 0.2657824046470031 L -0.961289111423408, 0.27554172870691407 L -0.9584463819290184, 0.2852727343563946 L -0.9555051494668716, 0.29497442150513886 L -0.952465716317963, 0.3046457930760077 L -0.9493283948557242, 0.3142858551075027 L -0.9460935075139197, 0.3238936168559188 L -0.9427613867535087, 0.3334680908971669 L -0.9393323750284772, 0.3430082932282546 L -0.9358068247506426, 0.35251324336841605 L -0.9321850982534352, 0.3619819644598793 L -0.92846756775466, 0.3714134833682615 L -0.9246546153182422, 0.38080683078258143 L -0.9207466328149614, 0.39016104131487894 L -0.9167440218821774, 0.39947515359943203 L -0.9126471938825533, 0.40874821039155784 L -0.9084565698617768, 0.41797925866599484 L -0.904172580505289, 0.4271673497148473 L -0.8997956660940213, 0.4363115392450863 L -0.8953262764591454, 0.4454108874756003 L -0.8907648709358431, 0.45446445923377854 L -0.8861119183160986, 0.4634713240516221 L -0.8813678968005193, 0.47243055626137176 L -0.876533293949189, 0.481341235090642 L -0.8716086066315599, 0.490202444757052 L -0.8665943409753877, 0.49901327456234423 L -0.8614910123147144, 0.5077728189859798 L -0.8562991451369063, 0.5164801777782023 L -0.8510192730287502, 0.5251344560525595 L -0.8456519386216148, 0.533734764377874 L -0.8401976935356821, 0.542280218869654 L -0.8346570983232571, 0.5507699412809316 L -0.8290307224111553, 0.5592030590925251 L -0.8233191440421824, 0.5675787056027103 L -0.8175229502157059, 0.5758960200162947 L -0.8116427366273271, 0.5841541475330833 L -0.805679107607659, 0.5923522394357316 L -0.799632676060217, 0.6004894531769697 L -0.7935040633984293, 0.6085649524661945 L -0.7872938994817713, 0.6165779073554181 L -0.7810028225510331, 0.6245274943245649 L -0.7746314791627251, 0.6324128963661072 L -0.7681805241226289, 0.6402333030690321 L -0.761650620418501, 0.6479879107021307 L -0.7550424391519346, 0.6556759222966001 L -0.7483566594693882, 0.6632965477279511 L -0.7415939684923885, 0.670849003797211 L -0.73475506124691, 0.6783325143114175 L -0.7278406405919473, 0.6857463101633896 L -0.7208514171472777, 0.693089629410772 L -0.7137881092204295, 0.7003617173543427 L -0.7066514427328588, 0.707561826615575 L -0.6994421511453437, 0.7146892172134501 L -0.6921609753826037, 0.7217431566405066 L -0.6848086637571523, 0.7287229199381227 L -0.677385971892391, 0.7356277897710233 L -0.6698936626449502, 0.742457056501003 L -0.6623325060262882, 0.749210018259858 L -0.6547032791235542, 0.7558859810215198 L -0.6470067660197243, 0.7624842586733825 L -0.6392437577130187, 0.7690041730868172 L -0.631415052035607, 0.775445054186866 L -0.6235214535716145, 0.7818062400211072 L -0.615563773574429, 0.7880870768276872 L -0.6075428298833281, 0.7942869191025101 L -0.599459446839425, 0.800405129665578 L -0.5913144552009488, 0.8064410797264764 L -0.5831086920578661, 0.8123941489489968 L -0.5748430007458469, 0.8182637255148919 L -0.5665182307595945, 0.8240492061867537 L -0.5581352376655392, 0.8297499963700103 L -0.5496948830139085, 0.8353655101740349 L -0.5411980342501825, 0.8408951704723593 L -0.5326455646259441, 0.8463384089619879 L -0.5240383531091308, 0.8516946662218039 L -0.5153772842937006, 0.8569633917700628 L -0.5066632483087189, 0.8621440441209679 L -0.4978971407268765, 0.8672360908403207 L -0.48907986247245017, 0.8722390086002398 L -0.48021231972870837, 0.8771522832329474 L -0.47129542384478196, 0.8819754097836103 L -0.4623300912420004, 0.8867078925622369 L -0.45331724331970863, 0.8913492451946208 L -0.4442578063605705, 0.8958989906723267 L -0.43515271143537343, 0.9003566614017151 L -0.42600289430733623, 0.904721799251998 L -0.4168092953359392, 0.9089939556023229 L -0.4075728593802794, 0.9131726913878793 L -0.39829453570196416, 0.9172575771450224 L -0.38897527786755237, 0.9212481930554113 L -0.37961604365055224, 0.9251441289891549 L -0.37021779493298884, 0.928944984546962 L -0.36078149760654654, 0.9326503691012926 L -0.3513081214733015, 0.936259901836504 L -0.3417986401460522, 0.9397732117879875 L -0.33225403094825684, 0.943189937880295 L -0.32267527481359076, 0.9465097289642477 L -0.3130633561851323, 0.9497322438530246 L -0.30341926291418797, 0.9528571513572278 L -0.293743986158768, 0.9558841303189197 L -0.2840385202817206, 0.9588128696446302 L -0.2743038627485379, 0.9616430683373282 L -0.264541014024844, 0.9643744355273564 L -0.2547509774735717, 0.9670066905023252 L -0.24493475925184469, 0.9695395627359622 L -0.23509336820757057, 0.9719727919159156 L -0.2252278157757579, 0.9743061279705066 L -0.21533911587456825, 0.9765393310944313 L -0.20542828480111086, 0.9786721717734053 L -0.1954963411269948, 0.9807044308077524 L -0.18554430559364743, 0.9826358993349322 L -0.17557320100740775, 0.984466378851006 L -0.1655840521344099, 0.986195681231037 L -0.15557788559526398, 0.9878236287484254 L -0.1455557297595463, 0.9893500540931738 L -0.13551861464011128, 0.9907748003890818 L -0.1254675717872317, 0.9920977212098695 L -0.11540363418258345, 0.9933186805942252 L -0.10532783613308291, 0.9944375530597799 L -0.09524121316458621, 0.9954542236160022 L -0.08514480191546536, 0.9963685877760179 L -0.07503964003006906, 0.9971805515673466 L -0.06492676605208003, 0.9978900315415614 L -0.05480721931778101, 0.9984969547828639 L -0.04468203984923716, 0.9990012589155788 L -0.034552268247409916, 0.9994028921105637 L -0.02441894558521135, 0.9997018130905367 L -0.014283113300508077, 0.9998979911343181 L -0.004145813089089818, 0.9999914060799875 L 0.005991913202389611, 0.9999820483269563 L 0.01612902368348685, 0.9998699188369543 L 0.0262644765270469, 0.9996550291339309 L 0.028890924179751594 ,1.099620532047324\", \"type\": \"path\"}, {\"fillcolor\": \"rgba(244,109,67, 0.75)\", \"layer\": \"below\", \"line\": {\"color\": \"rgba(244,109,67, 0.75)\", \"width\": 0.45}, \"path\": \"M -1.0912681325141496, 0.13832520724394706 L -1.092638085359732, 0.12705122754786582 L -1.093891568955204, 0.11576370488509106 L -1.0950284496860632, 0.10446384244386761 L -1.0960486063670352, 0.09315284472779274 L -1.0969519302549913, 0.08183191742742468 L -1.0977383250605408, 0.07050226729175957 L -1.0984077069582938, 0.059165101999600685 L -1.0989600045957975, 0.047821630030825894 L -1.099395159101141, 0.03647306053757034 L -1.0997131240892317, 0.025120603215337406 L -1.099913865666739, 0.013765468174051354 L -1.0999973624357078, 0.0024088658090680986 L -1.0999636054958386, -0.00894799332784921 L -1.0998125984454368, -0.02030389865756645 L -1.0995443573810286, -0.03165763970262014 L -1.0991589108956463, -0.04300800621624769 L -1.0986563000757792, -0.05435378831139318 L -1.0980365784969943, -0.0656937765896746 L -1.0972998122182263, -0.07702676227029967 L -1.096446079774735, -0.0883515373189133 L -1.0954754721697346, -0.09966689457637039 L -1.0943880928646923, -0.11097162788741038 L -1.0931840577683012, -0.12226453222922741 L -1.091863495224124, -0.13354440383991908 L -1.0904265459969131, -0.14481004034680145 L -1.0888733632576049, -0.15606024089457332 L -1.0872041125669933, -0.16729380627332394 L -1.0854189718580822, -0.1785095390463602 L -1.0835181314171172, -0.18970624367784725 L -1.0815017938633043, -0.20088272666024626 L -1.0793701741272097, -0.21203779664153566 L -1.0771234994278511, -0.22317026455220282 L -1.0747620092484764, -0.23427894373199276 L -1.0722859553110364, -0.24536265005639796 L -1.0696956015493524, -0.2564202020628821 L -1.0669912240809827, -0.2674504210768159 L -1.06417311117779, -0.27845213133711766 L -1.061241563235212, -0.28942416012158306 L -1.0581968927402428, -0.30036533787189157 L -1.055039424238122, -0.31127449831827275 L -1.0517694942977407, -0.32215047860382723 L -1.048387451475765, -0.33299211940847917 L -1.044893656279481, -0.3437982650725536 L -1.0412884811283682, -0.35456776371996385 L -1.0375723103144001, -0.36529946738099467 L -1.0337455399610818, -0.37599223211467014 L -1.029808577981224, -0.38664491813069163 L -1.0257618440334648, -0.3972563899109314 L -1.0216057694775327, -0.40782551633047537 L -1.0173407973282675, -0.41835117077819334 L -1.0129673822083987, -0.42883223127682957 L -1.0084859903000827, -0.4392675806025998 L -1.0038970992952125, -0.4496561064042814 L -0.9992011983444972, -0.45999670132178216 L -0.9943987880053213, -0.47028826310418176 L -0.9894903801883884, -0.4805296947272237 L -0.9844764981031539, -0.49071990451025244 L -0.8949786346392307, -0.44610900410022947 L -0.8995367092621712, -0.4368451770247488 L -0.9039988981866557, -0.4275347846401652 L -0.9083647257677246, -0.4181788193834383 L -0.9126337266320113, -0.4087782785493467 L -0.9168054457273479, -0.3993341641841816 L -0.9208794383712714, -0.38984748297893596 L -0.924855270298425, -0.3803192461619939 L -0.9287325177068477, -0.3707504693913412 L -0.9325107673031497, -0.3611421726463012 L -0.9361896163465673, -0.35149538011881054 L -0.9397686726918923, -0.3418111201042456 L -0.9432475548312728, -0.3320904248918133 L -0.9466258919348801, -0.32233433065451256 L -0.9499033238904373, -0.3125438773386851 L -0.9530795013416044, -0.30272010855316284 L -0.9561540857252188, -0.29286407145802473 L -0.9591267493073835, -0.2829768166529752 L -0.9619971752184023, -0.27305939806535595 L -0.9647650574865563, -0.26311287283780277 L -0.967430101070718, -0.25313830121556147 L -0.9699920218918024, -0.24313674643346894 L -0.9724505468630475, -0.23310927460262007 L -0.9748054139191239, -0.2230569545967254 L -0.9770563720440694, -0.21298085793817523 L -0.9792031812980464, -0.20288205868382073 L -0.9812456128429178, -0.19276163331048696 L -0.9831834489666401, -0.18262066060022386 L -0.9850164831064702, -0.17246022152531568 L -0.9867445198709838, -0.1622813991330547 L -0.988367375060903, -0.15208527843029448 L -0.9898848756887316, -0.14187294626779393 L -0.9912968599971936, -0.13164549122436495 L -0.9926031774764763, -0.12140400349083552 L -0.9938036888802737, -0.11114957475384309 L -0.9948982662406293, -0.10088329807946397 L -0.9958867928815768, -0.09060626779670035 L -0.9967691634315773, -0.08031957938083027 L -0.9975452838347512, -0.07002432933663606 L -0.9982150713609039, -0.05972161508152236 L -0.9987784546143446, -0.04941253482853925 L -0.9992353735414966, -0.03909818746931608 L -0.9995857794372988, -0.028779672456927394 L -0.9998296349503969, -0.01845808968869677 L -0.999966914087126, -0.008134539388953825 L -0.9999976022142798, 0.0021898780082437257 L -0.9999216960606718, 0.01251406197641032 L -0.9997392037174833, 0.022836912013943094 L -0.9994501446374008, 0.033157327761427574 L -0.999054549632543, 0.04347420911893263 L -0.9985524608711761, 0.053786456363273345 L -0.9979439318732188, 0.06409297026523597 L -0.9972290275045375, 0.0743926522067497 L -0.9964078239700319, 0.0846844042979934 L -0.9954804088055119, 0.0949671294944251 L -0.9944468808683672, 0.10523973171371914 L -0.9933073503270289, 0.11550111595260529 L -0.9920619386492268, 0.12575018840358823 L -1.0912681325141496 ,0.13832520724394706\", \"type\": \"path\"}, {\"fillcolor\": \"rgba(253,174,97, 0.75)\", \"layer\": \"below\", \"line\": {\"color\": \"rgba(253,174,97, 0.75)\", \"width\": 0.45}, \"path\": \"M -0.9685768336845704, -0.5214009179600401 L -0.9631456245943585, -0.5313666397363908 L -0.9576118813749238, -0.5412757935189593 L -0.9519761931350444, -0.5511273244034528 L -0.9462391598363171, -0.5609201836199699 L -0.9404013922292851, -0.5706533286446532 L -0.9344635117884197, -0.5803257233106716 L -0.9284261506459602, -0.5899363379185291 L -0.9222899515246188, -0.5994841493456824 L -0.9160555676691565, -0.6089681411554627 L -0.9097236627768414, -0.6183873037052814 L -0.9032949109267928, -0.6277406342541143 L -0.8967699965082204, -0.6370271370692512 L -0.8901496141475664, -0.6462458235322986 L -0.8834344686345562, -0.6553957122444268 L -0.876625274847169, -0.6644758291308462 L -0.8697227576755331, -0.6734852075445058 L -0.8627276519447572, -0.682422888368998 L -0.8556407023367008, -0.6912879201206671 L -0.8484626633106981, -0.7000793590498989 L -0.8411942990232404, -0.708796269241592 L -0.8338363832466255, -0.717437722714792 L -0.8263896992865842, -0.7260027995214818 L -0.8188550398988907, -0.7344905878445184 L -0.8112332072049686, -0.7429001840947012 L -0.8035250126064976, -0.7512306930069672 L -0.7957312766990362, -0.7594812277356973 L -0.7878528291846608, -0.767650909949129 L -0.7798905087836385, -0.7757388699228612 L -0.7718451631451387, -0.7837442466324422 L -0.763717648756995, -0.7916661878450332 L -0.7555088308545247, -0.7995038502101347 L -0.7472195833284199, -0.8072563993493659 L -0.7388507886317123, -0.8149230099452937 L -0.7304033376858313, -0.8225028658292916 L -0.7218781297857596, -0.8299951600684272 L -0.7132760725042938, -0.8373990950513678 L -0.7045980815954281, -0.8447138825732904 L -0.6958450808968654, -0.8519387439197934 L -0.6870180022316672, -0.8590729099497953 L -0.6781177853090545, -0.8661156211774172 L -0.6691453776243684, -0.8730661278528343 L -0.6601017343582013, -0.8799236900420938 L -0.6509878182747136, -0.8866875777058844 L -0.6418045996191362, -0.8933570707772568 L -0.6325530560144828, -0.8999314592382793 L -0.6232341723574744, -0.9064100431956246 L -0.6138489407136892, -0.9127921329550786 L -0.6043983602119504, -0.9190770490949633 L -0.5948834369379603, -0.9252641225384675 L -0.585305183827195, -0.9313526946248739 L -0.5756646205570726, -0.9373421171796784 L -0.5659627734383963, -0.9432317525835944 L -0.5562006753060981, -0.9490209738404314 L -0.5463793654092866, -0.9547091646438435 L -0.5364998893006094, -0.9602957194429401 L -0.4877271720914631, -0.872996108584491 L -0.4967085140084423, -0.867917422403494 L -0.5056369775509982, -0.8627463398549375 L -0.5145116122167238, -0.8574834114396311 L -0.5233314732337023, -0.8521291974360712 L -0.5320956216610863, -0.8466842678407944 L -0.5408031244890548, -0.8411492023076976 L -0.5494530547381367, -0.8355245900863303 L -0.5580444915578993, -0.8298110299591622 L -0.5665765203249766, -0.8240091301778405 L -0.5750482327404388, -0.8181195083984357 L -0.5834587269264874, -0.8121427916156879 L -0.5918071075224669, -0.8060796160962584 L -0.6000924857801829, -0.7999306273109943 L -0.6083139796585167, -0.793696479866213 L -0.6164707139173222, -0.7873778374340156 L -0.6245618202106065, -0.7809753726816321 L -0.6325864371789685, -0.7744897671998121 L -0.6405437105412982, -0.7679217114302639 L -0.6484327931857216, -0.7612719045921524 L -0.6562528452597814, -0.7545410546076611 L -0.6640030342598466, -0.7477298780266286 L -0.6716825351197384, -0.7408390999502669 L -0.6792905302985635, -0.733869453953969 L -0.6868262098677497, -0.7268216820092133 L -0.6942887715972681, -0.7196965344045756 L -0.7016774210410351, -0.7124947696658566 L -0.7089913716214895, -0.7052171544753283 L -0.716229844713328, -0.6978644635901172 L -0.7233920697263965, -0.6904374797597247 L -0.730477284187725, -0.6829369936426974 L -0.7374847338226986, -0.6753638037224555 L -0.7444136726353552, -0.6677187162222894 L -0.7512633629878038, -0.6600025450195289 L -0.7580330756787503, -0.6522161115589018 L -0.7647220900211276, -0.6443602447650836 L -0.7713296939188163, -0.6364357809544535 L -0.7778551839424551, -0.6284435637460609 L -0.7842978654043247, -0.6203844439718164 L -0.7906570524323028, -0.6122592795859143 L -0.7969320680428809, -0.6040689355734965 L -0.8031222442132329, -0.5958142838585698 L -0.809226921952333, -0.5874962032111806 L -0.8152454513711094, -0.5791155791538647 L -0.8211771917516297, -0.5706733038673766 L -0.8270215116153102, -0.5621702760957104 L -0.8327777887901422, -0.5536074010504206 L -0.8384454104769261, -0.5449855903142566 L -0.8440237733145093, -0.5363057617441173 L -0.8495122834440179, -0.5275688393733378 L -0.8549103565720773, -0.518775753313321 L -0.8602174180330155, -0.509927439654518 L -0.8654329028500404, -0.5010248403667752 L -0.8705562557953852, -0.4920689031990539 L -0.8755869314494167, -0.48306058157853704 L -0.8805243942587002, -0.4740008345091273 L -0.9685768336845704 ,-0.5214009179600401\", \"type\": \"path\"}, {\"fillcolor\": \"rgba(254,224,139, 0.75)\", \"layer\": \"below\", \"line\": {\"color\": \"rgba(254,224,139, 0.75)\", \"width\": 0.45}, \"path\": \"M -0.5060715415042679, -0.9766737402426126 L -0.4957777594320006, -0.9819391087295514 L -0.485429201679863, -0.9870959883195003 L -0.47502701160145455, -0.9921438092580086 L -0.46457233847590945, -0.9970820138398974 L -0.4540663373809169, -1.001910056470879 L -0.4435101690651004, -1.0066274037278373 L -0.4329049998197785, -1.0112335344177614 L -0.4222520013501053, -1.0157279396353291 L -0.41155235064561263, -1.0201101228191352 L -0.40080722985017647, -1.0243795998065501 L -0.39001782613140595, -1.0285358988872155 L -0.37918533154947703, -1.03257856085516 L -0.36831094292543437, -1.0365071390595328 L -0.35739586170895715, -1.0403211994539534 L -0.3464412938456199, -1.0440203206444658 L -0.33544844964365056, -1.0476040939360973 L -0.3244185436402161, -1.0510721233780114 L -0.31335279446723213, -1.0544240258072541 L -0.3022524247167205, -1.0576594308910896 L -0.2911186608057376, -1.0607779811679134 L -0.27995273284087197, -1.063779332086748 L -0.2687558744823332, -1.0666631520453103 L -0.2575293228076582, -1.0694291224266474 L -0.24627431817503045, -1.0720769376343398 L -0.23499210408623683, -1.0746063051262649 L -0.21362918553294255, -0.976914822842059 L -0.2238857437954822, -0.9746153978493998 L -0.23411756618878019, -0.9722082931151339 L -0.2443235222566665, -0.9696937745866455 L -0.25450248440079265, -0.9670721200788617 L -0.264653328005216, -0.9643436192435576 L -0.27477493156065497, -0.9615085735373541 L -0.2848661767883928, -0.9585672961884127 L -0.2949259487638328, -0.9555201121618284 L -0.3049531360396823, -0.9523673581237247 L -0.31494663076874535, -0.9491093824040597 L -0.32490532882632467, -0.9457465449581394 L -0.33482812993221306, -0.9422792173268479 L -0.34471393777225184, -0.9387077825956 L -0.35456166011945994, -0.9350326353520141 L -0.36437020895470584, -0.9312541816423183 L -0.37413850058692055, -0.9273728389264864 L -0.383865455772823, -0.9233890360321173 L -0.39354999983616223, -0.9193032131070558 L -0.40319106278645483, -0.9151158215707611 L -0.4127875794371971, -0.9108273240644352 L -0.422338489523554, -0.9064381943999066 L -0.4318427378195041, -0.9019489175072805 L -0.44129927425442084, -0.8973599893813639 L -0.4507070540290914, -0.8926719170268648 L -0.46006503773115265, -0.887885218402375 L -0.5060715415042679 ,-0.9766737402426126\", \"type\": \"path\"}, {\"fillcolor\": \"rgba(217,239,139, 0.75)\", \"layer\": \"below\", \"line\": {\"color\": \"rgba(217,239,139, 0.75)\", \"width\": 0.45}, \"path\": \"M -0.201121949914182, -1.081457332150796 L -0.18994591321902654, -1.083476141893023 L -0.17874962932731941, -1.0853794589982555 L -0.16753429170175094, -1.0871670805832896 L -0.1563010958360353, -1.0888388160974307 L -0.1450512391274776, -1.0903944873428073 L -0.13378592074933773, -1.091833928493364 L -0.12250634152300412, -1.0931569861125388 L -0.11121370378999655, -1.0943635191696182 L -0.09990921128379743, -1.0954533990547703 L -0.08859406900154415, -1.0964265095927541 L -0.07726948307558203, -1.0972827470553033 L -0.06593666064489727, -1.0980220201721822 L -0.054596809726442416, -1.0986442501409155 L -0.043251139086368434, -1.099149370635189 L -0.03190085811117683, -1.099537327811917 L -0.0205471766788056, -1.0998080803169843 L -0.009191305029662934, -1.0999615992896534 L 0.0021655463623778434, -1.0999978683656404 L 0.013522166919008172, -1.09991688367886 L 0.024877346086525285, -1.099718653861837 L 0.036229873464870624, -1.0994032000447878 L 0.04757853893665283, -1.098970555853365 L 0.058922132796135764, -1.0984207674050754 L 0.07025944587819238, -1.0977538933043642 L 0.08158926968719123, -1.096970004636367 L 0.09291039652581641, -1.0960691849593327 L 0.10422161962380157, -1.0950515302957171 L 0.11552173326656501, -1.0939171491219475 L 0.12680953292373223, -1.0926661623568588 L 0.1380838153775323, -1.0912987033488053 L 0.14934337885105448, -1.0898149178614462 L 0.16058702313635062, -1.0882149640582073 L 0.1718135497223713, -1.0864990124854226 L 0.18302176192272018, -1.0846672460541544 L 0.1942104650032145, -1.082719860020696 L 0.20537846630923792, -1.0806570619657587 L 0.2165245753928673, -1.078479071772345 L 0.2276476041397737, -1.0761861216023096 L 0.23874636689586504, -1.0737784558716128 L 0.2498196805936712, -1.0712563312242669 L 0.2608663648784527, -1.0686200165049793 L 0.27188524223402, -1.065869792730495 L 0.2828751381082502, -1.0630059530596423 L 0.29383488103828803, -1.0600288027620832 L 0.30476330277541736, -1.056938659185773 L 0.31565923840959004, -1.0537358517231334 L 0.32652152649359895, -1.0504207217759416 L 0.3373490091668821, -1.0469936227189367 L 0.34814053227894415, -1.0434549198621537 L 0.3588949455123822, -1.0398049904119833 L 0.36961110250550505, -1.0360442234309621 L 0.38028786097452455, -1.0321730197963037 L 0.39092408283532293, -1.0281917921571646 L 0.4015186343247623, -1.0241009648906585 L 0.41207038612153896, -1.0199009740566218 L 0.42257821346656227, -1.0155922673511297 L 0.43304099628284837, -1.011175304058776 L 0.39367363298440755, -0.9192502764170691 L 0.3841620122423293, -0.9232656975919361 L 0.37460944192867174, -0.927182703687838 L 0.36501694029523846, -0.9310008771733259 L 0.35538552985029354, -0.9347198110519677 L 0.34571623724956774, -0.9383391089057306 L 0.33601009318682273, -0.9418583849372382 L 0.3262681322839838, -0.9452772640108937 L 0.31649139298085827, -0.948595381692867 L 0.30668091742443826, -0.9518123842899423 L 0.2968377513578172, -0.9549279288872196 L 0.2869629440087182, -0.9579416833846668 L 0.27705754797765214, -0.9608533265325208 L 0.2671226191257164, -0.9636625479655301 L 0.25715921646204565, -0.9663690482360384 L 0.24716840203092724, -0.9689725388459045 L 0.23715124079859337, -0.9714727422772538 L 0.2271088005397011, -0.9738693920220608 L 0.21704215172351365, -0.976162232610557 L 0.20695236739979425, -0.9783510196384632 L 0.1968405230844248, -0.9804355197930408 L 0.18670769664476172, -0.9824155108779623 L 0.17655496818474045, -0.9842907818369963 L 0.16638341992974562, -0.9860611327765039 L 0.15619413611124663, -0.9877263749867478 L 0.14598820285122782, -0.9892863309620066 L 0.13576670804641314, -0.9907408344194965 L 0.1255307412523021, -0.9920897303170957 L 0.11528139356702928, -0.9933328748698714 L 0.10501975751505908, -0.9944701355654066 L 0.09474692693072868, -0.9955013911779246 L 0.08446399684165128, -0.9964265317812114 L 0.07417206335199202, -0.9972454587603335 L 0.06387222352562943, -0.9979580848221492 L 0.05356557526921433, -0.9985643340046139 L 0.04325321721513893, -0.999064141684877 L 0.032936248604427835, -0.9994574545861706 L 0.02261576916956844, -0.9997442307834883 L 0.012292879017280156, -0.9999244397080544 L 0.0019686785112525847, -0.9999980621505821 L -0.008355731845148122, -0.9999650902633211 L -0.018679251526186907, -0.9998255275608947 L -0.02900078010106984, -0.9995793889199244 L -0.03931921735124403, -0.9992267005774443 L -0.04963346338767492, -0.998767500128105 L -0.059942418768088424, -0.9982018365201655 L -0.07024498461416548, -0.9975297700502755 L -0.08054006272867649, -0.9967513723570491 L -0.09082655571254311, -0.9958667264134274 L -0.10110336708181504, -0.9948759265178345 L -0.11136940138454919, -0.993779078284126 L -0.12162356431757976, -0.9925762986303308 L -0.13186476284316145, -0.9912677157661883 L -0.14209190530548663, -0.9898534691794825 L -0.1523039015470463, -0.9883337096211723 L -0.16249966302483582, -0.9867085990893232 L -0.17267810292638774, -0.9849783108118391 L -0.18283813628561998, -0.9831430292279965 L -0.201121949914182 ,-1.081457332150796\", \"type\": \"path\"}, {\"fillcolor\": \"rgba(166,217,106, 0.75)\", \"layer\": \"below\", \"line\": {\"color\": \"rgba(166,217,106, 0.75)\", \"width\": 0.45}, \"path\": \"M 0.4645891005535625, -0.9970742036813669 L 0.4747251858943903, -0.9922882634988368 L 0.484811976144842, -0.9873992848825309 L 0.49484842390054173, -0.9824077755001485 L 0.5048334869846388, -0.9773142536661025 L 0.5147661285560265, -0.9721192482876988 L 0.5246453172170068, -0.966823298810215 L 0.5344700271203899, -0.9614269551608847 L 0.5442392380760174, -0.9559307776917931 L 0.5539519356566978, -0.9503353371216908 L 0.5636071113035446, -0.9446412144767314 L 0.5732037624307031, -0.938849001030137 L 0.5827408925294593, -0.9329592982408018 L 0.5922175112717155, -0.9269727176908368 L 0.6016326346128261, -0.9208898810220633 L 0.6109852848937797, -0.9147114198714625 L 0.6202744909427179, -0.908437975805587 L 0.6294992881757823, -0.90207020025394 L 0.6386587186972745, -0.8956087544413329 L 0.6477518313991247, -0.8890543093192227 L 0.656777682059653, -0.8824075454960421 L 0.6657353334416172, -0.875669153166525 L 0.6746238553895347, -0.8688398320400373 L 0.683442324926269, -0.8619202912679201 L 0.6921898263488708, -0.8549112493698514 L 0.7008654513236641, -0.8478134341592358 L 0.7094682989805666, -0.8406275826676289 L 0.7179974760066361, -0.833354441068205 L 0.7264520967388299, -0.8259947645982739 L 0.7348312832559734, -0.8185493174808588 L 0.7431341654699198, -0.81101887284534 L 0.751359881215905, -0.8034042126471713 L 0.7595075763420647, -0.7957061275866882 L 0.7675764047981405, -0.7879254170269934 L 0.7755655287233212, -0.7800628889109619 L 0.7834741185332563, -0.7721193596773346 L 0.7913013530061924, -0.7640956541759477 L 0.7990464193682503, -0.7559926055820774 L 0.8067085133778232, -0.7478110553099243 L 0.8142868394090883, -0.7395518529252414 L 0.8217806105346237, -0.7312158560571161 L 0.8291890486071227, -0.7228039303089151 L 0.8365113843401957, -0.7143169491683995 L 0.843746857388252, -0.705755793917024 L 0.8508947164254546, -0.697121353538425 L 0.8579542192237358, -0.6884145246261079 L 0.8649246327298711, -0.6796362112903475 L 0.8718052331415975, -0.6707873250643045 L 0.8785953059827736, -0.6618687848093734 L 0.8852941461775693, -0.6528815166197681 L 0.8919010581236815, -0.6438264537263575 L 0.8984153557645637, -0.6347045363997589 L 0.9048363626606661, -0.6255167118527016 L 0.911163412059677, -0.6162639341416692 L 0.9173958469657568, -0.6069471640678304 L 0.9235330202077612, -0.5975673690772707 L 0.9295742945064417, -0.5881255231605337 L 0.9355190425406209, -0.5786226067514819 L 0.941366647012333, -0.5690596066254904 L 0.9471165007109232, -0.5594375157969796 L 0.9527680065761005, -0.5497573334163027 L 0.9583205777599354, -0.5400200646659934 L 0.9637736376877981, -0.5302267206563896 L 0.9691266201182293, -0.5203783183206402 L 0.9743789692017386, -0.5104758803091068 L 0.9795301395385233, -0.5005204348831737 L 0.984579596235102, -0.49051301580847323 L 0.895072360213729, -0.4459209234622484 L 0.8904819450350211, -0.4550185771665215 L 0.8857990629106713, -0.46406898209918795 L 0.8810242001074811, -0.4730711984733092 L 0.8761578524434528, -0.4820242915058088 L 0.8712005252363049, -0.49092733151453943 L 0.8661527332510004, -0.4997793940148206 L 0.8610150006462938, -0.508579559815436 L 0.8557878609203027, -0.5173269151140821 L 0.8504718568551098, -0.5260205515922562 L 0.8450675404604014, -0.534659566509576 L 0.8395754729161464, -0.5432430627975188 L 0.8339962245143243, -0.551770149152573 L 0.8283303745997063, -0.5602399401287902 L 0.8225785115096964, -0.5686515562297287 L 0.8167412325132396, -0.5770041239997807 L 0.8108191437488013, -0.5852967761148704 L 0.8048128601614266, -0.5935286514725164 L 0.798723005438885, -0.6016988952812485 L 0.7925502119469068, -0.6098066591493677 L 0.7862951206635191, -0.6178511011730431 L 0.779958381112487, -0.6258313860237343 L 0.7735406512958677, -0.6337466850349317 L 0.7670425976256835, -0.6415961762882036 L 0.7604648948547232, -0.6493790446985449 L 0.7538082260064751, -0.6570944820990137 L 0.7470732823042033, -0.664741687324651 L 0.7402607630991711, -0.672319866295674 L 0.733371375798021, -0.6798282320999312 L 0.7264058357893184, -0.6872660050746158 L 0.7193648663692658, -0.6946324128872251 L 0.7122491986665966, -0.7019266906157586 L 0.7050595715666556, -0.7091480808281471 L 0.6977967316346732, -0.716295833660903 L 0.6904614330382406, -0.7233692068969892 L 0.6830544374690045, -0.7303674660428829 L 0.6755765140635634, -0.7372898844048545 L 0.6680284393236121, -0.744135743164417 L 0.6604109970352999, -0.7509043314529762 L 0.6527249781878509, -0.7575949464256408 L 0.6449711808914241, -0.7642068933342081 L 0.63715041029424, -0.7707394855993053 L 0.6292634784989735, -0.777192044881683 L 0.6213112044784264, -0.7835639011526546 L 0.6132944139904861, -0.7898543927636702 L 0.6052139394923792, -0.7960628665150227 L 0.59707062005423, -0.8021886777236745 L 0.5888653012719315, -0.8082311902902024 L 0.5805988351793404, -0.814189776764848 L 0.572272080159802, -0.8200638184126727 L 0.5638859008570163, -0.8258527052778063 L 0.5554411680852542, -0.8315558362467841 L 0.5469387587389328, -0.8371726191109665 L 0.5383795557015595, -0.8427024706280334 L 0.5297644477540538, -0.848144816582547 L 0.5210943294824574, -0.853499091845579 L 0.5123701011850404, -0.8587647404333921 L 0.5035926687788161, -0.8639412155651734 L 0.4947629437054703, -0.8690279797198118 L 0.48588184283671804, -0.8740245046917133 L 0.4769502883790971, -0.87893027164565 L 0.4679692077782059, -0.8837447711706352 L 0.45893953362239887, -0.8884675033328203 L 0.44986220354594697, -0.8930979777274076 L 0.4407381601316745, -0.8976357135295735 L 0.43156835081308204, -0.902080239544397 L 0.42235372777596586, -0.906431094255788 L 0.4645891005535625 ,-0.9970742036813669\", \"type\": \"path\"}, {\"fillcolor\": \"rgba(102,189,99, 0.75)\", \"layer\": \"below\", \"line\": {\"color\": \"rgba(102,189,99, 0.75)\", \"width\": 0.45}, \"path\": \"M 0.9995011518034738, -0.45934458475476736 L 1.0042734665294468, -0.4488148888182388 L 1.008934855114133, -0.4382356194284346 L 1.0134848026879608, -0.42760794510923816 L 1.0179228066904784, -0.4169330397310568 L 1.0222483769258626, -0.40621208238116163 L 1.0264610356170618, -0.39544625723345683 L 1.0305603174585705, -0.3846367534176767 L 1.0345457696678233, -0.3737847648880453 L 1.0384169520352065, -0.36289149029139844 L 1.0421734369726805, -0.35195813283478805 L 1.0458148095610105, -0.34098590015258307 L 1.049340667595594, -0.32997600417308115 L 1.0527506216308868, -0.3189296609846464 L 1.0560442950234192, -0.30784809070138724 L 1.0592213239733979, -0.2967325173283889 L 1.0622813575648868, -0.28558416862652064 L 1.0652240578045717, -0.27440427597681927 L 1.068049099659089, -0.2631940742444812 L 1.0707561710909286, -0.25195480164246614 L 1.0733449730928994, -0.24068769959473085 L 1.0758152197211563, -0.22939401259910921 L 1.0781666381267838, -0.21807498808985198 L 1.0803989685859325, -0.2067318762998428 L 1.0825119645285077, -0.19536593012250456 L 1.0845053925654033, -0.1839784049734114 L 1.0863790325142813, -0.17257055865162663 L 1.0881326774238909, -0.16114365120076798 L 1.0897661335969284, -0.1496989447698343 L 1.0912792206114306, -0.13823770347379513 L 1.092671771340704, -0.12676119325396396 L 1.093943631971784, -0.11527068173816982 L 1.0950946620224247, -0.10376743810074257 L 1.0961247343566158, -0.09225273292232733 L 1.097033735198625, -0.08072783804954267 L 1.0978215641455644, -0.0691940264545038 L 1.0984881341784816, -0.05765257209421168 L 1.099033371671971, -0.04610474976984323 L 1.0994572164023046, -0.03455183498594315 L 0.9995065603657315, -0.03141075907813013 L 0.9991212469745189, -0.04191340888167566 L 0.9986255765258923, -0.05241142917655607 L 0.9980196037686948, -0.06290366041318526 L 0.9973033956351136, -0.07338894368140242 L 0.9964770312332871, -0.08386612083847939 L 0.9955406018385679, -0.0943340346370387 L 0.9944942108834398, -0.10479152885288165 L 0.9933379739460944, -0.1152374484126945 L 0.992072018737664, -0.12567063952163193 L 0.9906964850881166, -0.13608994979075845 L 0.9892115249308099, -0.1464942283643345 L 0.9876173022857101, -0.15688232604693328 L 0.9859139932412757, -0.16725309543037398 L 0.9841017859350069, -0.17760539102045866 L 0.9821808805326658, -0.18793806936349344 L 0.980151489206167, -0.1982499891725927 L 0.978013836110142, -0.20854001145373563 L 0.9757681573571811, -0.2188069996315735 L 0.9734147009917531, -0.2290498196749692 L 0.9709537269628081, -0.23926734022225565 L 0.9683855070950652, -0.24945843270619933 L 0.965710325058988, -0.2596219714786551 L 0.9629284763394524, -0.26975683393489897 L 0.9600402682031084, -0.2798619006376247 L 0.9570460196644425, -0.28993605544058765 L 0.95394606145054, -0.29997818561189193 L 0.950740735964555, -0.3099871819568937 L 0.9474303972478914, -0.3199619389407164 L 0.9440154109410966, -0.3299013548103622 L 0.9404961542434757, -0.3398043317164048 L 0.9368730158714277, -0.3496697758342515 L 0.9331463960155106, -0.3594965974849607 L 0.9293167062962386, -0.36928371125560144 L 0.9253843697186167, -0.3790300361191425 L 0.9213498206254189, -0.38873449555385287 L 0.9172135046492117, -0.3983960176622132 L 0.9129758786631335, -0.40801353528930795 L 0.9086374107304306, -0.4175859861406976 L 0.9995011518034738 ,-0.45934458475476736\", \"type\": \"path\"}], \"showlegend\": false, \"title\": \"Pairwise epistasis between HA1 residues commonly mutated during egg-passaging\", \"width\": 800, \"xaxis\": {\"visible\": false}, \"yaxis\": {\"visible\": false}}, {\"showLink\": true, \"linkText\": \"Export to plot.ly\", \"plotlyServerURL\": \"https://plot.ly\"})});</script>"
      ],
      "text/vnd.plotly.v1+html": [
       "<div id=\"86b1bb27-01aa-4239-ad56-0a65ee6198b9\" style=\"height: 800px; width: 800px;\" class=\"plotly-graph-div\"></div><script type=\"text/javascript\">require([\"plotly\"], function(Plotly) { window.PLOTLYENV=window.PLOTLYENV || {};window.PLOTLYENV.BASE_URL=\"https://plot.ly\";Plotly.newPlot(\"86b1bb27-01aa-4239-ad56-0a65ee6198b9\", [{\"line\": {\"color\": \"rgba(26,152,80, 0.75)\", \"shape\": \"spline\", \"width\": 0.25}, \"mode\": \"lines\", \"x\": [1.1, 1.099944034658493, 1.0997761443287348, 1.0994963460944334, 1.099104668426505, 1.0986011511801759, 1.097985845590927, 1.0972588142692812, 1.0964201311944315, 1.0954698817067139, 1.0944081624989226, 1.0932350816064726, 1.0919507583964054, 1.0905553235552428, 1.089048919075689, 1.0874316982421826, 1.0857038256152989, 1.083865477015004, 1.0819168395027658, 1.0798581113625187, 1.077689502080487, 1.0754112323238691, 1.0730235339183831, 1.0705266498246775, 1.0679208341136086, 1.0652063519403876, 1.0623834795175997, 1.059452504087098, 1.0564137238907751, 1.0532674481402153, 1.0500139969852313, 1.0466537014812867, 1.043186903555809, 1.0396139559733986, 1.035935222299931, 1.0321510768655628, 1.0282619047266428, 1.024268101626529, 1.02017007395532, 1.0159682387085034, 1.011663023444524, 1.0072548662412772, 1.0027442156515325, 0.9981315306572913, 0.9934172806230825, 0.988601945248203, 0.9836860145179045, 0.9786699886535367, 0.9735543780616459, 0.968339703282039, 0.9630264949348156, 0.9576152936663755, 0.9521066500944038, 0.9465011247518436, 0.9407992880298588, 0.9350017201197938, 0.9291090109541358, 0.9231217601464863, 0.9170405769305475, 0.9108660800981293, 0.9045988979361842, 0.8982396681628755, 0.8917890378626872, 0.8852476634205786, 0.8786162104551941, 0.8718953537511339, 0.8650857771902899, 0.8581881736822581, 0.8512032450938312, 0.8441317021775795, 0.836974264499529, 0.8297316603659418, 0.8224046267492063, 0.8149939092128471, 0.8075002618356604, 0.7999244471349816, 0.792267235989096, 0.7845294075587977, 0.7767117492081063, 0.7688150564241477, 0.76084013273621, 0.7527877896339797, 0.7446588464849693, 0.7364541304511412, 0.7281744764047403, 0.7198207268433419, 0.7113937318041224, 0.702894348777364, 0.6943234426192008, 0.6856818854636149, 0.6769705566336923, 0.6681903425521475, 0.6593421366511254, 0.6504268392812893, 0.6414453576202065, 0.6323986055800377, 0.6232875037145419, 0.6141129791254052, 0.6048759653679039, 0.5955774023559093, 0.5862182362662481, 0.5767994194424229, 0.5673219102977062, 0.5577866732176184, 0.5481946784617949, 0.5385469020652578, 0.5288443257390996, 0.5190879367705884, 0.5092787279227072, 0.49941769733313435, 0.4895058484126783, 0.47954418974317453, 0.4695337349748586, 0.4594755027232211, 0.4493705164653581, 0.4392198044358276, 0.42902439952202087, 0.4187853391590612, 0.4085036652242394, 0.39818042393099734, 0.3878166657224704, 0.37741344516459957, 0.36697182083882307, 0.3564928552343617, 0.345977614640104, 0.335427169036106, 0.32484259198471593, 0.314224960521332, 0.30357535504481065, 0.29289485920752895, 0.28218455980511775, 0.271445546665875, 0.2606789125398689, 0.24988575298774654, 0.23906716626925376, 0.22822425323148215, 0.2173581171968521, 0.20646986385084318, 0.1955606011294864, 0.18463143910662505, 0.17368348988095908, 0.16271786746288341, 0.15173568766113193, 0.14073806796923702, 0.12972612745182038, 0.11870098663072154, 0.10766376737097905, 0.09661559276667525, 0.08555758702665468, 0.07449087536013146, 0.06341658386219245], \"y\": [0.0, 0.011095973107211651, 0.02219081714183367, 0.033283403146165395, 0.044372602392272406, 0.055457286496840445, 0.06653632753599421, 0.07760859816006947, 0.08867297170832673, 0.09972832232359471, 0.11077352506683222, 0.12180745603159646, 0.13282899245840632, 0.14383701284898895, 0.15483039708039809, 0.16580802651899218, 0.17676878413426128, 0.18771155461249062, 0.19863522447024964, 0.2095386821676945, 0.2204208182216731, 0.23128052531862067, 0.24211669842723488, 0.25292823491091815, 0.26371403463997667, 0.2744730001035647, 0.28520403652136134, 0.2959060519549706, 0.3065779574190313, 0.31721866699202755, 0.3278270979267864, 0.33840217076065293, 0.3489428094253316, 0.35944794135638136, 0.3699164976023548, 0.38034741293356933, 0.39073962595049994, 0.4010920791917821, 0.41140371924181396, 0.4216734968379464, 0.43190036697725165, 0.4420832890228571, 0.45222122680983573, 0.46231314875064156, 0.47235802794007814, 0.4823548422597925, 0.4923025744822804, 0.5022002123743942, 0.5120467488003435, 0.5218411818241763, 0.5315825148117304, 0.5412697565320472, 0.5509019212582335, 0.5604780288677652, 0.569997104942219, 0.5794581808664254, 0.5888602939270298, 0.598202487410453, 0.6074838107002429, 0.6167033193738042, 0.6258600752984977, 0.634953146727101, 0.6439816083926178, 0.6529445416024291, 0.6618410343317753, 0.6706701813165584, 0.6794310841454578, 0.6881228513513488, 0.6967445985020131, 0.705295448290135, 0.7137745306225717, 0.7221809827088896, 0.7305139491491581, 0.7387725820209908, 0.7469560409658255, 0.755063493274436, 0.7630941139716636, 0.7710470859003631, 0.7789215998045528, 0.7867168544117603, 0.7944320565145558, 0.8020664210512664, 0.8096191711858577, 0.8170895383869836, 0.8244767625061864, 0.831780091855247, 0.8389987832826724, 0.8461321022493152, 0.8531793229031173, 0.8601397281529685, 0.8670126097416745, 0.8737972683180257, 0.8804930135079603, 0.8870991639848118, 0.8936150475386399, 0.9000400011446292, 0.9063733710305567, 0.912614512743316, 0.9187627912144932, 0.9248175808249903, 0.9307782654686826, 0.9366442386151127, 0.942414903371207, 0.9480896725420134, 0.9536679686904501, 0.9591492241960653, 0.9645328813127924, 0.9698183922257062, 0.9750052191067642, 0.9800928341695341, 0.9850807197228988, 0.9899683682237339, 0.994755282328553, 0.9994409749441151, 1.0040249692769885, 1.0085067988820668, 1.0128860077100332, 1.0171621501537649, 1.0213347910936759, 1.0254035059419933, 1.0293678806859605, 1.033227511929966, 1.0369820069365905, 1.0406309836665697, 1.0441740708176697, 1.0476109078624676, 1.0509411450850383, 1.0541644436165392, 1.0572804754696916, 1.0602889235721564, 1.063189481798796, 1.0659818550028253, 1.0686657590458448, 1.071240920826752, 1.0737070783095308, 1.076063980549917, 1.078311387720931, 1.0804490711372816, 1.0824768132786373, 1.0843944078117596, 1.0862016596114972, 1.087898384780643, 1.0894844106686445, 1.0909595758891741, 1.0923237303365492, 1.093576735201007, 1.0947184629828293, 1.095748797505315, 1.0966676339266042, 1.0974748787503437, 1.0981704498352018], \"type\": \"scatter\", \"uid\": \"7df70df4-ddea-42cf-a104-8ffc74c38bac\"}, {\"line\": {\"color\": \"rgba(215,48,39, 0.75)\", \"shape\": \"spline\", \"width\": 0.25}, \"mode\": \"lines\", \"x\": [0.028890924179751594, 0.017741926051835537, 0.006591104522628573, -0.0045603943979988, -0.015711424630558884, -0.026860840143732485, -0.03800749507215091, -0.04915024383416088, -0.060287941249559114, -0.07141944265728804, -0.08254360403307598, -0.09365928210701191, -0.10476533448104484, -0.11586061974639121, -0.1269439976008418, -0.1380143289659549, -0.1490704761041224, -0.16011130273550095, -0.1711356741547904, -0.18214245734785092, -0.19313052110814855, -0.2040987361530122, -0.2150459752396943, -0.22597111328122196, -0.2368730274620251, -0.2477505973533337, -0.25860270502832766, -0.2694282351770292, -0.2802260752209289, -0.2909951154273284, -0.30173424902339174, -0.3124423723098927, -0.32311838477464483, -0.33376118920560677, -0.3443696918036456, -0.35494280229494984, -0.36547943404308253, -0.3759785041606575, -0.38643893362063164, -0.39685964736720125, -0.4072395744262878, -0.4175776480156075, -0.42787280565430763, -0.4381239892721606, -0.44833014531830734, -0.45849022486953317, -0.4686031837380699, -0.4786679825789108, -0.48868358699662756, -0.49864896765167954, -0.5085631003662004, -0.5184249662292602, -0.5282335517015793, -0.5379878487196952, -0.5476868547995642, -0.5573295731395909, -0.5669150127230707, -0.5764421884200439, -0.5859101210885386, -0.5953178376752009, -0.6046643713152994, -0.6139487614320932, -0.623170053835554, -0.6323273008204316, -0.6414195612636527, -0.6504459007210438, -0.6594053915233675, -0.6682971128716609, -0.677120150931872, -0.685873598928776, -0.6945565572391678, -0.7031681334843206, -0.7117074426216968, -0.7201736070359097, -0.7285657566289171, -0.7368830289094452, -0.7451245690816302, -0.7532895301328676, -0.7613770729208641, -0.7693863662598781, -0.7773165870061448, -0.7851669201424725, -0.7929365588620055, -0.8006247046511421, -0.8082305673716011, -0.8157533653416273, -0.8231923254163271, -0.8305466830671281, -0.8378156824603511, -0.8449985765348919, -0.8520946270789977, -0.8591031048061365, -0.8660232894299486, -0.8728544697382723, -0.8795959436662388, -0.886247018368425, -0.8928070102900599, -0.8992752452372765, -0.9056510584464007, -0.9119337946522709, -0.9181228081555829, -0.9242174628892503, -0.9302171324837764, -0.9361212003316254, -0.941929059650597, -0.9476401135461858, -0.9532537750729265, -0.958769467294716, -0.964186623344108, -0.9695046864805713, -0.9747231101477085, -0.9798413580294275, -0.98485890410506, -0.9897752327034235, -0.9945898385558181, -0.9993022268479546, -1.0039119132708088, -1.0084184240703953, -1.0128212960964575, -1.0171200768500666, -1.0213143245301262, -1.0254036080787787, -1.0293875072257068, -1.033265612531325, -1.0370375254288597, -1.0407028582653117, -1.0442612343412967, -1.0477122879497593, -1.051055664413559, -1.0542910201219204, -1.0574180225657488, -1.0604363503718028, -1.0633456933357215, -1.066145752453908, -1.068836239954257, -1.0714168793257308, -1.0738874053467777, -1.0762475641125893, -1.0784971130611951, -1.080635820998392, -1.0826634681215048, -1.0845798460419755, -1.0863847578067811], \"y\": [1.099620532047324, 1.0998569107206497, 1.0999802531596519, 1.0999905466879862, 1.09988779024775, 1.0996719943995905, 1.0993431813216201, 1.0989013848071367, 1.0983466502611503, 1.0976790346957177, 1.0968986067240813, 1.0960054465536198, 1.0949996459776026, 1.093881308365758, 1.0926505486536477, 1.0913074933308566, 1.0898522804279902, 1.0882850595024913, 1.086605991623268, 1.0848152493541408, 1.0829130167361067, 1.0808994892684256, 1.0787748738885277, 1.076539388950746, 1.0741932642038745, 1.0717367407675573, 1.0691700711075072, 1.0664935190095586, 1.063707359552558, 1.060811879080092, 1.057807375171061, 1.0546941566090933, 1.0514725433508119, 1.0481428664929506, 1.0447054682383272, 1.0411607018606726, 1.0375089316683246, 1.0337505329667862, 1.0298858920201546, 1.025915406011422, 1.0218394830016582, 1.0176585418880704, 1.0133730123609526, 1.0089833348595247, 1.0044899605266673, 0.9998933511625553, 0.9951939791771979, 0.9903923275418867, 0.9854888897395595, 0.9804841697140829, 0.9753786818184607, 0.9701729507619714, 0.9648675115562422, 0.9594629094602639, 0.9539596999243528, 0.9483584485330647, 0.9426597309470691, 0.9368641328439844, 0.9309722498581867, 0.9249846875195953, 0.9189020611914385, 0.9127249960070114, 0.9064541268054291, 0.9000900980663812, 0.8936335638438965, 0.8870851876991241, 0.8804456426321359, 0.8737156110127612, 0.866895784510456, 0.859986864023218, 0.8529895596055527, 0.845904590395499, 0.8387326845407209, 0.8314745791236718, 0.8241310200858438, 0.8167027621511034, 0.8091905687481257, 0.801595211931935, 0.7939174723045573, 0.7861581389347952, 0.7783180092771326, 0.770397889089777, 0.7623985923518493, 0.7543209411797286, 0.7461657657425593, 0.7379339041769322, 0.7296262025007463, 0.7212435145262601, 0.7127867017723438, 0.7042566333759355, 0.695654186002718, 0.6869802437570214, 0.67823569809096, 0.669421447712814, 0.6605383984946667, 0.6515874633793047, 0.6425695622863916, 0.6334856220179242, 0.6243365761629813, 0.6151233650017777, 0.6058469354090248, 0.5965082407566195, 0.5871082408156615, 0.5776479016578154, 0.5681281955560226, 0.5585501008845778, 0.5489146020185787, 0.5392226892327572, 0.5294753585997062, 0.5196736118875089, 0.5098184564567844, 0.4999109051571564, 0.4899519762231604, 0.479942693169595, 0.4698840846863321, 0.45977718453259436, 0.44962303143071364, 0.43942266895937526, 0.42917714544636687, 0.4188875138608396, 0.4085548317050877, 0.3981801609058673, 0.3877645677052577, 0.37730912255108007, 0.3668148999868836, 0.3562829785415107, 0.34571444061825296, 0.33511037238360847, 0.3244718636556528, 0.3138000077920341, 0.3030959015776055, 0.2923606451117034, 0.28159534169508876, 0.2708010977165537, 0.25997902253921573, 0.24913022838650556, 0.23825583022785746, 0.22735694566412148, 0.2164346948127033, 0.20549020019244557, 0.1945245866082629, 0.18353898103554134, 0.17253451250431523], \"type\": \"scatter\", \"uid\": \"5763c5dc-a531-4f1e-8f3b-96922cabb989\"}, {\"line\": {\"color\": \"rgba(244,109,67, 0.75)\", \"shape\": \"spline\", \"width\": 0.25}, \"mode\": \"lines\", \"x\": [-1.0912681325141496, -1.092638085359732, -1.093891568955204, -1.0950284496860632, -1.0960486063670352, -1.0969519302549913, -1.0977383250605408, -1.0984077069582938, -1.0989600045957975, -1.099395159101141, -1.0997131240892317, -1.099913865666739, -1.0999973624357078, -1.0999636054958386, -1.0998125984454368, -1.0995443573810286, -1.0991589108956463, -1.0986563000757792, -1.0980365784969943, -1.0972998122182263, -1.096446079774735, -1.0954754721697346, -1.0943880928646923, -1.0931840577683012, -1.091863495224124, -1.0904265459969131, -1.0888733632576049, -1.0872041125669933, -1.0854189718580822, -1.0835181314171172, -1.0815017938633043, -1.0793701741272097, -1.0771234994278511, -1.0747620092484764, -1.0722859553110364, -1.0696956015493524, -1.0669912240809827, -1.06417311117779, -1.061241563235212, -1.0581968927402428, -1.055039424238122, -1.0517694942977407, -1.048387451475765, -1.044893656279481, -1.0412884811283682, -1.0375723103144001, -1.0337455399610818, -1.029808577981224, -1.0257618440334648, -1.0216057694775327, -1.0173407973282675, -1.0129673822083987, -1.0084859903000827, -1.0038970992952125, -0.9992011983444972, -0.9943987880053213, -0.9894903801883884, -0.9844764981031539], \"y\": [0.13832520724394706, 0.12705122754786582, 0.11576370488509106, 0.10446384244386761, 0.09315284472779274, 0.08183191742742468, 0.07050226729175957, 0.059165101999600685, 0.047821630030825894, 0.03647306053757034, 0.025120603215337406, 0.013765468174051354, 0.0024088658090680986, -0.00894799332784921, -0.02030389865756645, -0.03165763970262014, -0.04300800621624769, -0.05435378831139318, -0.0656937765896746, -0.07702676227029967, -0.0883515373189133, -0.09966689457637039, -0.11097162788741038, -0.12226453222922741, -0.13354440383991908, -0.14481004034680145, -0.15606024089457332, -0.16729380627332394, -0.1785095390463602, -0.18970624367784725, -0.20088272666024626, -0.21203779664153566, -0.22317026455220282, -0.23427894373199276, -0.24536265005639796, -0.2564202020628821, -0.2674504210768159, -0.27845213133711766, -0.28942416012158306, -0.30036533787189157, -0.31127449831827275, -0.32215047860382723, -0.33299211940847917, -0.3437982650725536, -0.35456776371996385, -0.36529946738099467, -0.37599223211467014, -0.38664491813069163, -0.3972563899109314, -0.40782551633047537, -0.41835117077819334, -0.42883223127682957, -0.4392675806025998, -0.4496561064042814, -0.45999670132178216, -0.47028826310418176, -0.4805296947272237, -0.49071990451025244], \"type\": \"scatter\", \"uid\": \"555b33a9-612f-4e84-a78c-fe7d2fd787d9\"}, {\"line\": {\"color\": \"rgba(253,174,97, 0.75)\", \"shape\": \"spline\", \"width\": 0.25}, \"mode\": \"lines\", \"x\": [-0.9685768336845704, -0.9631456245943585, -0.9576118813749238, -0.9519761931350444, -0.9462391598363171, -0.9404013922292851, -0.9344635117884197, -0.9284261506459602, -0.9222899515246188, -0.9160555676691565, -0.9097236627768414, -0.9032949109267928, -0.8967699965082204, -0.8901496141475664, -0.8834344686345562, -0.876625274847169, -0.8697227576755331, -0.8627276519447572, -0.8556407023367008, -0.8484626633106981, -0.8411942990232404, -0.8338363832466255, -0.8263896992865842, -0.8188550398988907, -0.8112332072049686, -0.8035250126064976, -0.7957312766990362, -0.7878528291846608, -0.7798905087836385, -0.7718451631451387, -0.763717648756995, -0.7555088308545247, -0.7472195833284199, -0.7388507886317123, -0.7304033376858313, -0.7218781297857596, -0.7132760725042938, -0.7045980815954281, -0.6958450808968654, -0.6870180022316672, -0.6781177853090545, -0.6691453776243684, -0.6601017343582013, -0.6509878182747136, -0.6418045996191362, -0.6325530560144828, -0.6232341723574744, -0.6138489407136892, -0.6043983602119504, -0.5948834369379603, -0.585305183827195, -0.5756646205570726, -0.5659627734383963, -0.5562006753060981, -0.5463793654092866, -0.5364998893006094], \"y\": [-0.5214009179600401, -0.5313666397363908, -0.5412757935189593, -0.5511273244034528, -0.5609201836199699, -0.5706533286446532, -0.5803257233106716, -0.5899363379185291, -0.5994841493456824, -0.6089681411554627, -0.6183873037052814, -0.6277406342541143, -0.6370271370692512, -0.6462458235322986, -0.6553957122444268, -0.6644758291308462, -0.6734852075445058, -0.682422888368998, -0.6912879201206671, -0.7000793590498989, -0.708796269241592, -0.717437722714792, -0.7260027995214818, -0.7344905878445184, -0.7429001840947012, -0.7512306930069672, -0.7594812277356973, -0.767650909949129, -0.7757388699228612, -0.7837442466324422, -0.7916661878450332, -0.7995038502101347, -0.8072563993493659, -0.8149230099452937, -0.8225028658292916, -0.8299951600684272, -0.8373990950513678, -0.8447138825732904, -0.8519387439197934, -0.8590729099497953, -0.8661156211774172, -0.8730661278528343, -0.8799236900420938, -0.8866875777058844, -0.8933570707772568, -0.8999314592382793, -0.9064100431956246, -0.9127921329550786, -0.9190770490949633, -0.9252641225384675, -0.9313526946248739, -0.9373421171796784, -0.9432317525835944, -0.9490209738404314, -0.9547091646438435, -0.9602957194429401], \"type\": \"scatter\", \"uid\": \"66b2b093-bb08-43f1-89ab-338f32acc822\"}, {\"line\": {\"color\": \"rgba(254,224,139, 0.75)\", \"shape\": \"spline\", \"width\": 0.25}, \"mode\": \"lines\", \"x\": [-0.5060715415042679, -0.4957777594320006, -0.485429201679863, -0.47502701160145455, -0.46457233847590945, -0.4540663373809169, -0.4435101690651004, -0.4329049998197785, -0.4222520013501053, -0.41155235064561263, -0.40080722985017647, -0.39001782613140595, -0.37918533154947703, -0.36831094292543437, -0.35739586170895715, -0.3464412938456199, -0.33544844964365056, -0.3244185436402161, -0.31335279446723213, -0.3022524247167205, -0.2911186608057376, -0.27995273284087197, -0.2687558744823332, -0.2575293228076582, -0.24627431817503045, -0.23499210408623683], \"y\": [-0.9766737402426126, -0.9819391087295514, -0.9870959883195003, -0.9921438092580086, -0.9970820138398974, -1.001910056470879, -1.0066274037278373, -1.0112335344177614, -1.0157279396353291, -1.0201101228191352, -1.0243795998065501, -1.0285358988872155, -1.03257856085516, -1.0365071390595328, -1.0403211994539534, -1.0440203206444658, -1.0476040939360973, -1.0510721233780114, -1.0544240258072541, -1.0576594308910896, -1.0607779811679134, -1.063779332086748, -1.0666631520453103, -1.0694291224266474, -1.0720769376343398, -1.0746063051262649], \"type\": \"scatter\", \"uid\": \"d2a25ba6-249b-4104-8eee-67aa0f7b6604\"}, {\"line\": {\"color\": \"rgba(217,239,139, 0.75)\", \"shape\": \"spline\", \"width\": 0.25}, \"mode\": \"lines\", \"x\": [-0.201121949914182, -0.18994591321902654, -0.17874962932731941, -0.16753429170175094, -0.1563010958360353, -0.1450512391274776, -0.13378592074933773, -0.12250634152300412, -0.11121370378999655, -0.09990921128379743, -0.08859406900154415, -0.07726948307558203, -0.06593666064489727, -0.054596809726442416, -0.043251139086368434, -0.03190085811117683, -0.0205471766788056, -0.009191305029662934, 0.0021655463623778434, 0.013522166919008172, 0.024877346086525285, 0.036229873464870624, 0.04757853893665283, 0.058922132796135764, 0.07025944587819238, 0.08158926968719123, 0.09291039652581641, 0.10422161962380157, 0.11552173326656501, 0.12680953292373223, 0.1380838153775323, 0.14934337885105448, 0.16058702313635062, 0.1718135497223713, 0.18302176192272018, 0.1942104650032145, 0.20537846630923792, 0.2165245753928673, 0.2276476041397737, 0.23874636689586504, 0.2498196805936712, 0.2608663648784527, 0.27188524223402, 0.2828751381082502, 0.29383488103828803, 0.30476330277541736, 0.31565923840959004, 0.32652152649359895, 0.3373490091668821, 0.34814053227894415, 0.3588949455123822, 0.36961110250550505, 0.38028786097452455, 0.39092408283532293, 0.4015186343247623, 0.41207038612153896, 0.42257821346656227, 0.43304099628284837], \"y\": [-1.081457332150796, -1.083476141893023, -1.0853794589982555, -1.0871670805832896, -1.0888388160974307, -1.0903944873428073, -1.091833928493364, -1.0931569861125388, -1.0943635191696182, -1.0954533990547703, -1.0964265095927541, -1.0972827470553033, -1.0980220201721822, -1.0986442501409155, -1.099149370635189, -1.099537327811917, -1.0998080803169843, -1.0999615992896534, -1.0999978683656404, -1.09991688367886, -1.099718653861837, -1.0994032000447878, -1.098970555853365, -1.0984207674050754, -1.0977538933043642, -1.096970004636367, -1.0960691849593327, -1.0950515302957171, -1.0939171491219475, -1.0926661623568588, -1.0912987033488053, -1.0898149178614462, -1.0882149640582073, -1.0864990124854226, -1.0846672460541544, -1.082719860020696, -1.0806570619657587, -1.078479071772345, -1.0761861216023096, -1.0737784558716128, -1.0712563312242669, -1.0686200165049793, -1.065869792730495, -1.0630059530596423, -1.0600288027620832, -1.056938659185773, -1.0537358517231334, -1.0504207217759416, -1.0469936227189367, -1.0434549198621537, -1.0398049904119833, -1.0360442234309621, -1.0321730197963037, -1.0281917921571646, -1.0241009648906585, -1.0199009740566218, -1.0155922673511297, -1.011175304058776], \"type\": \"scatter\", \"uid\": \"efbf5ee7-5243-4573-81d9-ca3ef33e18e6\"}, {\"line\": {\"color\": \"rgba(166,217,106, 0.75)\", \"shape\": \"spline\", \"width\": 0.25}, \"mode\": \"lines\", \"x\": [0.4645891005535625, 0.4747251858943903, 0.484811976144842, 0.49484842390054173, 0.5048334869846388, 0.5147661285560265, 0.5246453172170068, 0.5344700271203899, 0.5442392380760174, 0.5539519356566978, 0.5636071113035446, 0.5732037624307031, 0.5827408925294593, 0.5922175112717155, 0.6016326346128261, 0.6109852848937797, 0.6202744909427179, 0.6294992881757823, 0.6386587186972745, 0.6477518313991247, 0.656777682059653, 0.6657353334416172, 0.6746238553895347, 0.683442324926269, 0.6921898263488708, 0.7008654513236641, 0.7094682989805666, 0.7179974760066361, 0.7264520967388299, 0.7348312832559734, 0.7431341654699198, 0.751359881215905, 0.7595075763420647, 0.7675764047981405, 0.7755655287233212, 0.7834741185332563, 0.7913013530061924, 0.7990464193682503, 0.8067085133778232, 0.8142868394090883, 0.8217806105346237, 0.8291890486071227, 0.8365113843401957, 0.843746857388252, 0.8508947164254546, 0.8579542192237358, 0.8649246327298711, 0.8718052331415975, 0.8785953059827736, 0.8852941461775693, 0.8919010581236815, 0.8984153557645637, 0.9048363626606661, 0.911163412059677, 0.9173958469657568, 0.9235330202077612, 0.9295742945064417, 0.9355190425406209, 0.941366647012333, 0.9471165007109232, 0.9527680065761005, 0.9583205777599354, 0.9637736376877981, 0.9691266201182293, 0.9743789692017386, 0.9795301395385233, 0.984579596235102], \"y\": [-0.9970742036813669, -0.9922882634988368, -0.9873992848825309, -0.9824077755001485, -0.9773142536661025, -0.9721192482876988, -0.966823298810215, -0.9614269551608847, -0.9559307776917931, -0.9503353371216908, -0.9446412144767314, -0.938849001030137, -0.9329592982408018, -0.9269727176908368, -0.9208898810220633, -0.9147114198714625, -0.908437975805587, -0.90207020025394, -0.8956087544413329, -0.8890543093192227, -0.8824075454960421, -0.875669153166525, -0.8688398320400373, -0.8619202912679201, -0.8549112493698514, -0.8478134341592358, -0.8406275826676289, -0.833354441068205, -0.8259947645982739, -0.8185493174808588, -0.81101887284534, -0.8034042126471713, -0.7957061275866882, -0.7879254170269934, -0.7800628889109619, -0.7721193596773346, -0.7640956541759477, -0.7559926055820774, -0.7478110553099243, -0.7395518529252414, -0.7312158560571161, -0.7228039303089151, -0.7143169491683995, -0.705755793917024, -0.697121353538425, -0.6884145246261079, -0.6796362112903475, -0.6707873250643045, -0.6618687848093734, -0.6528815166197681, -0.6438264537263575, -0.6347045363997589, -0.6255167118527016, -0.6162639341416692, -0.6069471640678304, -0.5975673690772707, -0.5881255231605337, -0.5786226067514819, -0.5690596066254904, -0.5594375157969796, -0.5497573334163027, -0.5400200646659934, -0.5302267206563896, -0.5203783183206402, -0.5104758803091068, -0.5005204348831737, -0.49051301580847323], \"type\": \"scatter\", \"uid\": \"69a09758-7efd-423b-b64b-396b19bca268\"}, {\"line\": {\"color\": \"rgba(102,189,99, 0.75)\", \"shape\": \"spline\", \"width\": 0.25}, \"mode\": \"lines\", \"x\": [0.9995011518034738, 1.0042734665294468, 1.008934855114133, 1.0134848026879608, 1.0179228066904784, 1.0222483769258626, 1.0264610356170618, 1.0305603174585705, 1.0345457696678233, 1.0384169520352065, 1.0421734369726805, 1.0458148095610105, 1.049340667595594, 1.0527506216308868, 1.0560442950234192, 1.0592213239733979, 1.0622813575648868, 1.0652240578045717, 1.068049099659089, 1.0707561710909286, 1.0733449730928994, 1.0758152197211563, 1.0781666381267838, 1.0803989685859325, 1.0825119645285077, 1.0845053925654033, 1.0863790325142813, 1.0881326774238909, 1.0897661335969284, 1.0912792206114306, 1.092671771340704, 1.093943631971784, 1.0950946620224247, 1.0961247343566158, 1.097033735198625, 1.0978215641455644, 1.0984881341784816, 1.099033371671971, 1.0994572164023046], \"y\": [-0.45934458475476736, -0.4488148888182388, -0.4382356194284346, -0.42760794510923816, -0.4169330397310568, -0.40621208238116163, -0.39544625723345683, -0.3846367534176767, -0.3737847648880453, -0.36289149029139844, -0.35195813283478805, -0.34098590015258307, -0.32997600417308115, -0.3189296609846464, -0.30784809070138724, -0.2967325173283889, -0.28558416862652064, -0.27440427597681927, -0.2631940742444812, -0.25195480164246614, -0.24068769959473085, -0.22939401259910921, -0.21807498808985198, -0.2067318762998428, -0.19536593012250456, -0.1839784049734114, -0.17257055865162663, -0.16114365120076798, -0.1496989447698343, -0.13823770347379513, -0.12676119325396396, -0.11527068173816982, -0.10376743810074257, -0.09225273292232733, -0.08072783804954267, -0.0691940264545038, -0.05765257209421168, -0.04610474976984323, -0.03455183498594315], \"type\": \"scatter\", \"uid\": \"e440aeca-7923-4cd7-9c06-0a32282780e7\"}, {\"marker\": {\"color\": \"rgba(26,152,80, 0.75)\", \"size\": 0.5}, \"mode\": \"markers\", \"x\": [0.5480248571327632], \"y\": [0.7139108879717515], \"type\": \"scatter\", \"uid\": \"805fa06e-8cc9-44bb-b658-251069b300fe\"}, {\"marker\": {\"color\": \"rgba(26,152,80, 0.75)\", \"size\": 0.5}, \"mode\": \"markers\", \"text\": \"mut 186\", \"x\": [0.8999880804581216], \"y\": [0.004631957826407091], \"type\": \"scatter\", \"uid\": \"b396167b-c2a8-4456-a715-905c4176e93e\"}, {\"marker\": {\"color\": \"rgba(26,152,80, 0.75)\", \"size\": 0.5}, \"mode\": \"markers\", \"text\": \"mut 194\", \"x\": [0.01901216336533623], \"y\": [0.8997991651719676], \"type\": \"scatter\", \"uid\": \"b8a878b7-c3ef-45b9-b793-a0c399551ac0\"}, {\"marker\": {\"color\": \"rgba(26,152,80, 0.75)\", \"size\": 0.5}, \"mode\": \"markers\", \"text\": \"mut 186\", \"x\": [0.8979863443150297], \"y\": [0.06017080208646801], \"type\": \"scatter\", \"uid\": \"521c7c57-13f8-46bb-b1af-266087fe98eb\"}, {\"marker\": {\"color\": \"rgba(26,152,80, 0.75)\", \"size\": 0.5}, \"mode\": \"markers\", \"text\": \"mut 138\", \"x\": [-0.8887626301239745], \"y\": [-0.14177795066622736], \"type\": \"scatter\", \"uid\": \"dad613a5-23d7-4f26-9f04-64e1b6ff34d1\"}, {\"marker\": {\"color\": \"rgba(26,152,80, 0.75)\", \"size\": 0.5}, \"mode\": \"markers\", \"text\": \"mut 186\", \"x\": [0.7520408001831428], \"y\": [0.49440331194268744], \"type\": \"scatter\", \"uid\": \"e4f0bff9-4d74-4c33-a730-418c55435417\"}, {\"marker\": {\"color\": \"rgba(26,152,80, 0.75)\", \"size\": 0.5}, \"mode\": \"markers\", \"text\": \"mut 156\", \"x\": [-0.5402786968768123], \"y\": [-0.719790893038453], \"type\": \"scatter\", \"uid\": \"047c7bfb-f165-4b58-8dab-3f6ceafdcdb7\"}, {\"marker\": {\"color\": \"rgba(26,152,80, 0.75)\", \"size\": 0.5}, \"mode\": \"markers\", \"text\": \"mut 186\", \"x\": [0.22998275940131524], \"y\": [0.8701194920113885], \"type\": \"scatter\", \"uid\": \"26290280-06b8-4a2a-8c9d-32a64a3f893a\"}, {\"marker\": {\"color\": \"rgba(26,152,80, 0.75)\", \"size\": 0.5}, \"mode\": \"markers\", \"text\": \"mut 219\", \"x\": [0.18772066069202042], \"y\": [-0.8802050633513485], \"type\": \"scatter\", \"uid\": \"b5c543be-80d1-40ff-8266-cd75409d281e\"}, {\"marker\": {\"color\": \"rgba(26,152,80, 0.75)\", \"size\": 0.5}, \"mode\": \"markers\", \"text\": \"mut 186\", \"x\": [0.8837313614924567], \"y\": [0.17034929032634313], \"type\": \"scatter\", \"uid\": \"e79f5906-e7fc-4638-9983-06e94aa3da1f\"}, {\"marker\": {\"color\": \"rgba(26,152,80, 0.75)\", \"size\": 0.5}, \"mode\": \"markers\", \"text\": \"mut 225\", \"x\": [0.6894593021053516], \"y\": [-0.5784858431633411], \"type\": \"scatter\", \"uid\": \"7576d000-10f1-44a1-a98f-77360ca825bf\"}, {\"marker\": {\"color\": \"rgba(26,152,80, 0.75)\", \"size\": 0.5}, \"mode\": \"markers\", \"text\": \"mut 186\", \"x\": [0.845444177335009], \"y\": [0.3085840939036389], \"type\": \"scatter\", \"uid\": \"a6491dd2-ab02-45dd-8353-5effd2482f77\"}, {\"marker\": {\"color\": \"rgba(26,152,80, 0.75)\", \"size\": 0.5}, \"mode\": \"markers\", \"text\": \"mut246\", \"x\": [0.8936262231687431], \"y\": [-0.10692134148600928], \"type\": \"scatter\", \"uid\": \"a7479a57-0da0-4b7b-89ba-7b359f8723a9\"}, {\"marker\": {\"color\": \"rgba(215,48,39, 0.75)\", \"size\": 0.5}, \"mode\": \"markers\", \"x\": [-0.742979014261861], \"y\": [0.5079194664181256], \"type\": \"scatter\", \"uid\": \"49232b68-1e07-4546-a656-196d663acb6f\"}, {\"marker\": {\"color\": \"rgba(215,48,39, 0.75)\", \"size\": 0.5}, \"mode\": \"markers\", \"text\": \"mut 194\", \"x\": [-0.050367639227954376], \"y\": [0.8985895063479222], \"type\": \"scatter\", \"uid\": \"45d5a255-5393-4b71-b383-abb334577a50\"}, {\"marker\": {\"color\": \"rgba(215,48,39, 0.75)\", \"size\": 0.5}, \"mode\": \"markers\", \"text\": \"mut 138\", \"x\": [-0.8315286821494614], \"y\": [-0.34432550117988636], \"type\": \"scatter\", \"uid\": \"3804f75f-7219-46ba-822e-7fc8c5cdc803\"}, {\"marker\": {\"color\": \"rgba(215,48,39, 0.75)\", \"size\": 0.5}, \"mode\": \"markers\", \"text\": \"mut 194\", \"x\": [-0.3635990889446758], \"y\": [0.8232834885497229], \"type\": \"scatter\", \"uid\": \"aee1e11d-ccc6-4508-a1f2-930016d500c1\"}, {\"marker\": {\"color\": \"rgba(215,48,39, 0.75)\", \"size\": 0.5}, \"mode\": \"markers\", \"text\": \"mut 203\", \"x\": [-0.2818481385843938], \"y\": [-0.8547289785519807], \"type\": \"scatter\", \"uid\": \"9e35d053-43e1-4c6c-b237-8bf6c6e3f544\"}, {\"marker\": {\"color\": \"rgba(215,48,39, 0.75)\", \"size\": 0.5}, \"mode\": \"markers\", \"text\": \"mut 194\", \"x\": [-0.19234116005655344], \"y\": [0.8792069597928006], \"type\": \"scatter\", \"uid\": \"ee5c748f-ea8a-4e23-a14c-62142437d4c9\"}, {\"marker\": {\"color\": \"rgba(215,48,39, 0.75)\", \"size\": 0.5}, \"mode\": \"markers\", \"text\": \"mut 225\", \"x\": [0.7684331767883712], \"y\": [-0.4685194262898091], \"type\": \"scatter\", \"uid\": \"f3f6dbf0-f473-47e2-bb5f-31f206ff2480\"}, {\"marker\": {\"color\": \"rgba(244,109,67, 0.75)\", \"size\": 0.5}, \"mode\": \"markers\", \"x\": [-0.8984633332687275], \"y\": [-0.052570322156587565], \"type\": \"scatter\", \"uid\": \"264644d9-9ccc-483a-b03d-6d0836138de8\"}, {\"marker\": {\"color\": \"rgba(175,175,175,0.5)\", \"size\": 0.5}, \"mode\": \"markers\", \"text\": \"mut 138\", \"x\": [-0.8997948594553755], \"y\": [0.019214861375534128], \"type\": \"scatter\", \"uid\": \"0604634b-8751-4d7e-8828-b8a0b8327309\"}, {\"marker\": {\"color\": \"rgba(175,175,175,0.5)\", \"size\": 0.5}, \"mode\": \"markers\", \"text\": \"mut 156\", \"x\": [-0.7065245397598058], \"y\": [-0.5575150892282599], \"type\": \"scatter\", \"uid\": \"08da2a7e-a11c-4d95-ae10-5dc1ae27d37d\"}, {\"marker\": {\"color\": \"rgba(175,175,175,0.5)\", \"size\": 0.5}, \"mode\": \"markers\", \"text\": \"mut 138\", \"x\": [-0.8977181725433747], \"y\": [0.06404750335012106], \"type\": \"scatter\", \"uid\": \"ea1d77c6-9b96-4394-af41-1eee6562558b\"}, {\"marker\": {\"color\": \"rgba(175,175,175,0.5)\", \"size\": 0.5}, \"mode\": \"markers\", \"text\": \"mut 203\", \"x\": [-0.37995150924822324], \"y\": [-0.8158657062409214], \"type\": \"scatter\", \"uid\": \"be91b238-7395-4b26-b58c-efeb2d7b9b7f\"}, {\"marker\": {\"color\": \"rgba(175,175,175,0.5)\", \"size\": 0.5}, \"mode\": \"markers\", \"text\": \"mut 138\", \"x\": [-0.8939401794233409], \"y\": [0.10426387491631467], \"type\": \"scatter\", \"uid\": \"29c3bb29-2e8b-4cce-a8c1-092b9d9cb744\"}, {\"marker\": {\"color\": \"rgba(175,175,175,0.5)\", \"size\": 0.5}, \"mode\": \"markers\", \"text\": \"mut 219\", \"x\": [-0.14687125769179882], \"y\": [-0.887935151722258], \"type\": \"scatter\", \"uid\": \"13d84647-dba7-47a4-a43a-8e3eec0c0a2a\"}, {\"marker\": {\"color\": \"rgba(175,175,175,0.5)\", \"size\": 0.5}, \"mode\": \"markers\", \"text\": \"mut 138\", \"x\": [-0.8678936881902456], \"y\": [-0.23824471872327582], \"type\": \"scatter\", \"uid\": \"0e05fe79-610f-4dd7-b0d8-151109fa1a27\"}, {\"marker\": {\"color\": \"rgba(175,175,175,0.5)\", \"size\": 0.5}, \"mode\": \"markers\", \"text\": \"mut 225\", \"x\": [0.6149489154113678], \"y\": [-0.6571436916187984], \"type\": \"scatter\", \"uid\": \"6391306a-f00d-428e-a3c4-fbcaf4c345ad\"}, {\"marker\": {\"color\": \"rgba(175,175,175,0.5)\", \"size\": 0.5}, \"mode\": \"markers\", \"text\": \"mut 138\", \"x\": [-0.8958421344373185], \"y\": [0.0864110534988979], \"type\": \"scatter\", \"uid\": \"ab22f08c-3054-43d5-87a9-66a47ad9848d\"}, {\"marker\": {\"color\": \"rgba(175,175,175,0.5)\", \"size\": 0.5}, \"mode\": \"markers\", \"text\": \"mut246\", \"x\": [0.821395659087152], \"y\": [-0.36784394956663785], \"type\": \"scatter\", \"uid\": \"ba6aee70-c01c-40df-8925-955fec26a8e1\"}, {\"marker\": {\"color\": \"rgba(253,174,97, 0.75)\", \"size\": 0.5}, \"mode\": \"markers\", \"x\": [-0.770263217093086], \"y\": [-0.4655046470159127], \"type\": \"scatter\", \"uid\": \"7ef169db-9961-49f6-be36-adbf4298919b\"}, {\"marker\": {\"color\": \"rgba(175,175,175,0.5)\", \"size\": 0.5}, \"mode\": \"markers\", \"text\": \"mut 156\", \"x\": [-0.6599274427060449], \"y\": [-0.6119605954336111], \"type\": \"scatter\", \"uid\": \"e5a05a77-e537-4fe1-9dd0-80c7808a9b7d\"}, {\"marker\": {\"color\": \"rgba(175,175,175,0.5)\", \"size\": 0.5}, \"mode\": \"markers\", \"text\": \"mut 219\", \"x\": [-0.026336840586531976], \"y\": [-0.8996145679277986], \"type\": \"scatter\", \"uid\": \"d312c34b-a44e-4dff-bae0-4d0a89212fdf\"}, {\"marker\": {\"color\": \"rgba(175,175,175,0.5)\", \"size\": 0.5}, \"mode\": \"markers\", \"text\": \"mut 156\", \"x\": [-0.7410989588205638], \"y\": [-0.510658724820282], \"type\": \"scatter\", \"uid\": \"3d91a37e-ab39-4e4a-b75f-b4bf28518e3e\"}, {\"marker\": {\"color\": \"rgba(175,175,175,0.5)\", \"size\": 0.5}, \"mode\": \"markers\", \"text\": \"mut 225\", \"x\": [0.41255903860401244], \"y\": [-0.7998718895336508], \"type\": \"scatter\", \"uid\": \"e233422e-4c38-47d0-ac87-467393bb342a\"}, {\"marker\": {\"color\": \"rgba(175,175,175,0.5)\", \"size\": 0.5}, \"mode\": \"markers\", \"text\": \"mut 156\", \"x\": [-0.7881855811117091], \"y\": [-0.4344692045791019], \"type\": \"scatter\", \"uid\": \"416077c7-c4c4-4713-a1ed-6d0907f9f2ab\"}, {\"marker\": {\"color\": \"rgba(175,175,175,0.5)\", \"size\": 0.5}, \"mode\": \"markers\", \"text\": \"mut246\", \"x\": [0.8284054956991064], \"y\": [-0.35177312958143614], \"type\": \"scatter\", \"uid\": \"0d1753af-dda3-406c-8d19-df48143048d7\"}, {\"marker\": {\"color\": \"rgba(254,224,139, 0.75)\", \"size\": 0.5}, \"mode\": \"markers\", \"x\": [-0.41030422719970905], \"y\": [-0.8010308615415823], \"type\": \"scatter\", \"uid\": \"bcb62040-e133-43c6-ba3b-3108bc2aadbe\"}, {\"marker\": {\"color\": \"rgba(175,175,175,0.5)\", \"size\": 0.5}, \"mode\": \"markers\", \"text\": \"mut 203\", \"x\": [-0.40276859244027613], \"y\": [-0.8048462343477036], \"type\": \"scatter\", \"uid\": \"7cad8e97-8f44-4ffd-8bb1-573d0a09f2df\"}, {\"marker\": {\"color\": \"rgba(175,175,175,0.5)\", \"size\": 0.5}, \"mode\": \"markers\", \"text\": \"mut 219\", \"x\": [-0.1601394211407526], \"y\": [-0.8856383944910613], \"type\": \"scatter\", \"uid\": \"96c51cba-a97e-4fff-9003-bd8388015f3b\"}, {\"marker\": {\"color\": \"rgba(175,175,175,0.5)\", \"size\": 0.5}, \"mode\": \"markers\", \"text\": \"mut 203\", \"x\": [-0.3951974827874405], \"y\": [-0.8085907182242885], \"type\": \"scatter\", \"uid\": \"e6db3ada-8f14-411c-ab05-711cf426e4ca\"}, {\"marker\": {\"color\": \"rgba(175,175,175,0.5)\", \"size\": 0.5}, \"mode\": \"markers\", \"text\": \"mut 225\", \"x\": [0.3842080325452691], \"y\": [-0.8138698837822256], \"type\": \"scatter\", \"uid\": \"2b550e4b-fef3-409a-86da-aeb392575645\"}, {\"marker\": {\"color\": \"rgba(217,239,139, 0.75)\", \"size\": 0.5}, \"mode\": \"markers\", \"x\": [-0.12912974509822112], \"y\": [-0.8906882220681198], \"type\": \"scatter\", \"uid\": \"e477bf6a-1153-48e9-8b50-29ecf6560eab\"}, {\"marker\": {\"color\": \"rgba(175,175,175,0.5)\", \"size\": 0.5}, \"mode\": \"markers\", \"text\": \"mut 219\", \"x\": [-0.0934996385176396], \"y\": [-0.895130056247175], \"type\": \"scatter\", \"uid\": \"10186c24-6872-480c-9863-a03e84f1521c\"}, {\"marker\": {\"color\": \"rgba(175,175,175,0.5)\", \"size\": 0.5}, \"mode\": \"markers\", \"text\": \"mut 225\", \"x\": [0.4599570531522872], \"y\": [-0.7735887209980923], \"type\": \"scatter\", \"uid\": \"94368384-8726-4d8d-828e-b24fe5d002e6\"}, {\"marker\": {\"color\": \"rgba(166,217,106, 0.75)\", \"size\": 0.5}, \"mode\": \"markers\", \"x\": [0.5056870835704793], \"y\": [-0.7445002172665788], \"type\": \"scatter\", \"uid\": \"e6508f62-e230-4532-bb16-ea388efdd2ec\"}, {\"marker\": {\"color\": \"rgba(175,175,175,0.5)\", \"size\": 0.5}, \"mode\": \"markers\", \"text\": \"mut 225\", \"x\": [0.5531534956955022], \"y\": [-0.7099445120569959], \"type\": \"scatter\", \"uid\": \"30111f55-75ed-42ec-ab4e-c1663ee90c70\"}, {\"marker\": {\"color\": \"rgba(175,175,175,0.5)\", \"size\": 0.5}, \"mode\": \"markers\", \"text\": \"mut246\", \"x\": [0.8430242643569434], \"y\": [-0.31513503408131976], \"type\": \"scatter\", \"uid\": \"606d528e-9209-4046-b0a3-3e1f3d5695d0\"}, {\"marker\": {\"color\": \"rgba(102,189,99, 0.75)\", \"size\": 0.5}, \"mode\": \"markers\", \"x\": [0.8685374843144726], \"y\": [-0.23588691854506708], \"type\": \"scatter\", \"uid\": \"59be4d01-9d7c-4efb-8abc-47a935814440\"}], {\"annotations\": [{\"align\": \"left\", \"showarrow\": false, \"text\": \"mut 186\", \"valign\": \"bottom\", \"x\": 0.8726448514199798, \"y\": 0.8237056290266573}, {\"align\": \"left\", \"showarrow\": false, \"text\": \"mut 194\", \"valign\": \"bottom\", \"x\": -0.7670925092556223, \"y\": 0.9228050077041806}, {\"align\": \"left\", \"showarrow\": false, \"text\": \"mut 138\", \"valign\": \"bottom\", \"x\": -1.1840934238451806, \"y\": -0.19473767895966562}, {\"align\": \"left\", \"showarrow\": false, \"text\": \"mut 156\", \"valign\": \"bottom\", \"x\": -0.8594758136559936, \"y\": -0.8374373563081406}, {\"align\": \"left\", \"showarrow\": false, \"text\": \"mut 203\", \"valign\": \"bottom\", \"x\": -0.4136567253267022, \"y\": -1.12644933911472}, {\"align\": \"left\", \"showarrow\": false, \"text\": \"mut 219\", \"valign\": \"bottom\", \"x\": 0.1260237090180709, \"y\": -1.1933641626784879}, {\"align\": \"left\", \"showarrow\": false, \"text\": \"mut 225\", \"valign\": \"bottom\", \"x\": 0.8373560779616077, \"y\": -0.8595550003930835}, {\"align\": \"left\", \"showarrow\": false, \"text\": \"mut246\", \"valign\": \"bottom\", \"x\": 1.1680976411901036, \"y\": -0.27485978360996305}], \"height\": 800, \"hovermode\": false, \"margin\": {\"b\": 25, \"l\": 25, \"r\": 25, \"t\": 25}, \"shapes\": [{\"fillcolor\": \"rgba(175,175,175,0.5)\", \"layer\": \"below\", \"line\": {\"color\": \"rgba(175,175,175,0.5)\", \"width\": 0.5}, \"path\": \"M 0.7514561801168654, 0.6597830017241799 Q 0.3044582539626462, 0.39661715998430636 0.4431607902141944, 0.8964421420352408L 0.4431607902141944, 0.8964421420352408 L 0.5559481026334738, 0.8312170036628465 L 0.6592980311616735, 0.7518817101820878 L 0.7514561801168654, 0.6597830017241799 \", \"type\": \"path\"}, {\"fillcolor\": \"rgba(26,152,80, 0.75)\", \"layer\": \"below\", \"line\": {\"color\": \"rgba(26,152,80, 0.75)\", \"width\": 0.5}, \"path\": \"M 1.0, 0.0 Q 0.14254713024194549, 0.14028654839215995 0.01598421701070828, 0.9998722442425105L 0.01598421701070828, 0.9998722442425105 L 0.0211246259614847, 0.9997768501910751 L 0.0262644765270469, 0.9996550291339309 M 0.0262644765270469, 0.9996550291339309 Q 0.14254638071067652, 0.1402873099973297 0.999947024609122, 0.010293103291237261L 0.999947024609122, 0.010293103291237261 L 0.9999867560645795, 0.0051466198071189895 L 1.0, 0.0 \", \"type\": \"path\"}, {\"fillcolor\": \"rgba(26,152,80, 0.75)\", \"layer\": \"below\", \"line\": {\"color\": \"rgba(26,152,80, 0.75)\", \"width\": 0.5}, \"path\": \"M 0.999947024609122, 0.010293103291237261 Q -0.022287925392490762, 0.19875424116656926 -0.9773905890605603, -0.21144180385120379L -0.9773905890605603, -0.21144180385120379 L -0.9875140334710828, -0.1575310562958082 L -0.9946661934886006, -0.10314632097606656 M -0.9946661934886006, -0.10314632097606656 Q -0.022636342424883743, 0.19871486104874847 0.9923811704900641, 0.12320556990968516L 0.9923811704900641, 0.12320556990968516 L 0.9977626047944774, 0.06685644676274223 L 0.999947024609122, 0.010293103291237261 \", \"type\": \"path\"}, {\"fillcolor\": \"rgba(26,152,80, 0.75)\", \"layer\": \"below\", \"line\": {\"color\": \"rgba(26,152,80, 0.75)\", \"width\": 0.5}, \"path\": \"M 0.9036363423124314, 0.42830054967535386 Q -0.1366145464682343, 0.14607007117571574 -0.4877271720914631, -0.872996108584491L -0.4877271720914631, -0.872996108584491 L -0.6003096631964581, -0.7997676589316144 L -0.7020642349520972, -0.7121136215528576 M -0.7020642349520972, -0.7121136215528576 Q -0.1372785456364576, 0.1454462131096545 0.7514561801168654, 0.6597830017241799L 0.7514561801168654, 0.6597830017241799 L 0.8356008890923808, 0.5493370132696527 L 0.9036363423124314, 0.42830054967535386 \", \"type\": \"path\"}, {\"fillcolor\": \"rgba(26,152,80, 0.75)\", \"layer\": \"below\", \"line\": {\"color\": \"rgba(26,152,80, 0.75)\", \"width\": 0.5}, \"path\": \"M 0.4431607902141944, 0.8964421420352408 Q -0.19992575647663147, 0.005449027183512055 0.3936736329844068, -0.9192502764170695L 0.3936736329844068, -0.9192502764170695 L 0.2715042952377883, -0.96243722791018 L 0.14477627551888092, -0.9894644157557567 L 0.015617395556511671, -0.9998780410410218 M 0.015617395556511671, -0.9998780410410218 Q -0.19995576419822905, 0.0042062291785183534 0.05765143987472041, 0.9983367725774562L 0.05765143987472041, 0.9983367725774562 L 0.15738585248868447, 0.9875371858499356 L 0.2555363993347947, 0.9667994355682095 L 0.35111533412717133, 0.936332217826966 L 0.4431607902141944, 0.8964421420352408 \", \"type\": \"path\"}, {\"fillcolor\": \"rgba(26,152,80, 0.75)\", \"layer\": \"below\", \"line\": {\"color\": \"rgba(26,152,80, 0.75)\", \"width\": 0.5}, \"path\": \"M 0.9923811704900641, 0.12320556990968516 Q -0.19354951764734216, 0.050384364821650686 0.8063447795617436, -0.5914457679902049L 0.8063447795617436, -0.5914457679902049 L 0.7660658912281684, -0.6427620479592678 L 0.7225268184106326, -0.6913428937057275 M 0.7225268184106326, -0.6913428937057275 Q -0.19363282260635106, 0.050063260076600884 0.9670723965794551, 0.2545014337367655L 0.9670723965794551, 0.2545014337367655 L 0.9819237349916186, 0.18927698925149236 L 0.9923811704900641, 0.12320556990968516 \", \"type\": \"path\"}, {\"fillcolor\": \"rgba(26,152,80, 0.75)\", \"layer\": \"below\", \"line\": {\"color\": \"rgba(26,152,80, 0.75)\", \"width\": 0.5}, \"path\": \"M 0.9670723965794551, 0.2545014337367655 Q -0.19872540290309743, -0.02254360754186439 0.9995065603657315, -0.03141075907812924L 0.9995065603657315, -0.03141075907812924 L 0.9929180257430479, -0.11880149054001031 L 0.9787033358348601, -0.20527976136413686 M 0.9787033358348601, -0.20527976136413686 Q -0.19861084246497085, -0.02353153746261666 0.9036363423124314, 0.42830054967535386L 0.9036363423124314, 0.42830054967535386 L 0.9393824192611211, 0.34287121544848764 L 0.9670723965794551, 0.2545014337367655 \", \"type\": \"path\"}, {\"fillcolor\": \"rgba(175,175,175,0.5)\", \"layer\": \"below\", \"line\": {\"color\": \"rgba(175,175,175,0.5)\", \"width\": 0.5}, \"path\": \"M -0.5046641249348137, 0.8633157713164857 Q -0.4127661190343672, 0.2821774813434031 -0.9876225070970737, 0.15684955682210475L -0.9876225070970737, 0.15684955682210475 L -0.9699112630394194, 0.24345870662040037 L -0.9446203244412849, 0.32816526728531414 L -0.9119473357640974, 0.4103072711916822 L -0.8721476309578122, 0.4892427922971128 L -0.8255322380687344, 0.5643549626868062 L -0.772465448607282, 0.6350567932932853 L -0.7133619706706694, 0.7007957611179301 L -0.6486836880683857, 0.7610581271059375 L -0.5789360507773624, 0.8153729509312356 L -0.5046641249348137, 0.8633157713164857 \", \"type\": \"path\"}, {\"fillcolor\": \"rgba(215,48,39, 0.75)\", \"layer\": \"below\", \"line\": {\"color\": \"rgba(215,48,39, 0.75)\", \"width\": 0.5}, \"path\": \"M 0.01598421701070828, 0.9998722442425105 Q -0.16921858517257893, 0.10660708434335242 -0.8949786346392304, -0.44610900410022986L -0.8949786346392304, -0.44610900410022986 L -0.923920757943846, -0.3825838901998737 L -0.9483605353858356, -0.31719441187179054 M -0.9483605353858356, -0.31719441187179054 Q -0.1694480915022274, 0.10624191398056032 -0.12762248743089746, 0.9918228171916345L -0.12762248743089746, 0.9918228171916345 L -0.055964043586615976, 0.9984327848310247 L 0.01598421701070828, 0.9998722442425105 \", \"type\": \"path\"}, {\"fillcolor\": \"rgba(215,48,39, 0.75)\", \"layer\": \"below\", \"line\": {\"color\": \"rgba(215,48,39, 0.75)\", \"width\": 0.5}, \"path\": \"M -0.29817077573566303, 0.9545125397275789 Q -0.19980867992250123, -0.008745937778618098 -0.2136291855329434, -0.9769148228420589L -0.2136291855329434, -0.9769148228420589 L -0.3131645984271042, -0.9496988650577564 L -0.4093654325545427, -0.9123705073211388 M -0.4093654325545427, -0.9123705073211388 Q -0.19971258828892396, -0.01071830578677234 -0.5046641249348137, 0.8633157713164857L -0.5046641249348137, 0.8633157713164857 L -0.40399898771630643, 0.9147594317219143 L -0.29817077573566303, 0.9545125397275789 \", \"type\": \"path\"}, {\"fillcolor\": \"rgba(215,48,39, 0.75)\", \"layer\": \"below\", \"line\": {\"color\": \"rgba(215,48,39, 0.75)\", \"width\": 0.5}, \"path\": \"M -0.12762248743089746, 0.9918228171916345 Q -0.16297504014491931, -0.11592728880536259 0.8950723602137287, -0.4459209234622492L 0.8950723602137287, -0.4459209234622492 L 0.853814640875968, -0.5205771403220101 L 0.8063447795617436, -0.5914457679902049 M 0.8063447795617436, -0.5914457679902049 Q -0.16273376746595228, -0.11626573410225978 -0.29817077573566303, 0.9545125397275789L -0.29817077573566303, 0.9545125397275789 L -0.21371240006283715, 0.9768966219920007 L -0.12762248743089746, 0.9918228171916345 \", \"type\": \"path\"}, {\"fillcolor\": \"rgba(175,175,175,0.5)\", \"layer\": \"below\", \"line\": {\"color\": \"rgba(175,175,175,0.5)\", \"width\": 0.5}, \"path\": \"M -0.9999080731368609, -0.013558955554542815 Q -0.4991462962604042, -0.029205734531437537 -0.9946661934886006, -0.10314632097606656L -0.9946661934886006, -0.10314632097606656 L -0.9982925925208084, -0.058411469062875074 L -0.9999080731368609, -0.013558955554542815 \", \"type\": \"path\"}, {\"fillcolor\": \"rgba(175,175,175,0.5)\", \"layer\": \"below\", \"line\": {\"color\": \"rgba(175,175,175,0.5)\", \"width\": 0.5}, \"path\": \"M -0.9984176938342756, 0.05623262966149363 Q -0.18963718696648843, -0.06354319254992713 -0.7629696871519569, -0.6464342630826782L -0.7629696871519569, -0.6464342630826782 L -0.7850272663997842, -0.6194612102536221 L -0.8061317578747192, -0.5917360804833646 M -0.8061317578747192, -0.5917360804833646 Q -0.18963303137880005, -0.06355559306691304 -0.9999080731368609, -0.013558955554542815L -0.9999080731368609, -0.013558955554542815 L -0.9997720660615284, 0.0213498459728157 L -0.9984176938342756, 0.05623262966149363 \", \"type\": \"path\"}, {\"fillcolor\": \"rgba(175,175,175,0.5)\", \"layer\": \"below\", \"line\": {\"color\": \"rgba(175,175,175,0.5)\", \"width\": 0.5}, \"path\": \"M -0.9962882950956875, 0.08607922545729714 Q -0.17241706037809362, -0.10135263830101722 -0.4093654325545427, -0.9123705073211388L -0.4093654325545427, -0.9123705073211388 L -0.4221683436091369, -0.9065174513788015 L -0.4348875923829749, -0.900484748339104 M -0.4348875923829749, -0.900484748339104 Q -0.17232736825201775, -0.10150506465853551 -0.9984176938342756, 0.05623262966149363L -0.9984176938342756, 0.05623262966149363 L -0.9974646361593053, 0.07116389261124562 L -0.9962882950956875, 0.08607922545729714 \", \"type\": \"path\"}, {\"fillcolor\": \"rgba(175,175,175,0.5)\", \"layer\": \"below\", \"line\": {\"color\": \"rgba(175,175,175,0.5)\", \"width\": 0.5}, \"path\": \"M -0.9920619386492268, 0.12575018840358823 Q -0.15977404400258796, -0.1203006852144205 -0.15334151843836452, -0.9881732533938655L -0.15334151843836452, -0.9881732533938655 L -0.1631902863242209, -0.9865946130247311 L -0.17302281835393887, -0.9849178160277434 M -0.17302281835393887, -0.9849178160277434 Q -0.15977404400258796, -0.1203006852144205 -0.9943729729501075, 0.1059357855795892L -0.9943729729501075, 0.1059357855795892 L -0.9932668660259344, 0.1158487499070163 L -0.9920619386492268, 0.12575018840358823 \", \"type\": \"path\"}, {\"fillcolor\": \"rgba(175,175,175,0.5)\", \"layer\": \"below\", \"line\": {\"color\": \"rgba(175,175,175,0.5)\", \"width\": 0.5}, \"path\": \"M -0.9773905890605603, -0.21144180385120379 Q -0.054337887116951714, -0.1924769960895728 0.7225268184106326, -0.6913428937057275L 0.7225268184106326, -0.6913428937057275 L 0.6832765726792975, -0.7301596573542204 L 0.6419441625804286, -0.7667513887362136 M 0.6419441625804286, -0.7667513887362136 Q -0.05440518991518204, -0.19245798323346575 -0.9483605353858356, -0.31719441187179054L -0.9483605353858356, -0.31719441187179054 L -0.964326320211384, -0.26471635413697314 L -0.9773905890605603, -0.21144180385120379 \", \"type\": \"path\"}, {\"fillcolor\": \"rgba(175,175,175,0.5)\", \"layer\": \"below\", \"line\": {\"color\": \"rgba(175,175,175,0.5)\", \"width\": 0.5}, \"path\": \"M -0.9943729729501075, 0.1059357855795892 Q -0.05116870865778807, -0.19334364032544338 0.916599681321729, -0.3998062333192228L 0.916599681321729, -0.3998062333192228 L 0.9126618434301689, -0.4087154995184865 L 0.9086374107304306, -0.4175859861406976 M 0.9086374107304306, -0.4175859861406976 Q -0.05112350955324405, -0.19335559668900038 -0.9962882950956875, 0.08607922545729714L -0.9962882950956875, 0.08607922545729714 L -0.9953801493747984, 0.09601228166544211 L -0.9943729729501075, 0.1059357855795892 \", \"type\": \"path\"}, {\"fillcolor\": \"rgba(175,175,175,0.5)\", \"layer\": \"below\", \"line\": {\"color\": \"rgba(175,175,175,0.5)\", \"width\": 0.5}, \"path\": \"M -0.8709123155901626, -0.491438438213151 Q -0.4279240094961589, -0.25861369278661817 -0.8400203035326955, -0.542554964637536L -0.8400203035326955, -0.542554964637536 L -0.8558480189923178, -0.5172273855732363 L -0.8709123155901626, -0.491438438213151 \", \"type\": \"path\"}, {\"fillcolor\": \"rgba(175,175,175,0.5)\", \"layer\": \"below\", \"line\": {\"color\": \"rgba(175,175,175,0.5)\", \"width\": 0.5}, \"path\": \"M -0.7629696871519569, -0.6464342630826782 Q -0.08267151576755014, -0.18211375697814736 0.015617395556511671, -0.9998780410410218L 0.015617395556511671, -0.9998780410410218 L -0.02926315620725775, -0.9995717421419984 L -0.07408476150566021, -0.9972519481618722 M -0.07408476150566021, -0.9972519481618722 Q -0.0826868266414774, -0.18210680574861082 -0.7020642349520972, -0.7121136215528576L -0.7020642349520972, -0.7121136215528576 L -0.7332527141178277, -0.6799562171484568 L -0.7629696871519569, -0.6464342630826782 \", \"type\": \"path\"}, {\"fillcolor\": \"rgba(175,175,175,0.5)\", \"layer\": \"below\", \"line\": {\"color\": \"rgba(175,175,175,0.5)\", \"width\": 0.5}, \"path\": \"M -0.8400203035326955, -0.542554964637536 Q -0.0486095783144563, -0.19400285795856398 0.4849510396955947, -0.8745413021110906L 0.4849510396955947, -0.8745413021110906 L 0.45839893178223606, -0.8887465439262787 L 0.4314311461912198, -0.9021458674162013 M 0.4314311461912198, -0.9021458674162013 Q -0.04865745412777748, -0.19399085586130918 -0.8061317578747192, -0.5917360804833646L -0.8061317578747192, -0.5917360804833646 L -0.8234432875784041, -0.5673985831336466 L -0.8400203035326955, -0.542554964637536 \", \"type\": \"path\"}, {\"fillcolor\": \"rgba(175,175,175,0.5)\", \"layer\": \"below\", \"line\": {\"color\": \"rgba(175,175,175,0.5)\", \"width\": 0.5}, \"path\": \"M -0.8805243942587002, -0.4740008345091273 Q 0.010196080219453129, -0.19973993078039876 0.9242140864187139, -0.3818747470902231L 0.9242140864187139, -0.3818747470902231 L 0.9204505507767848, -0.39085903286826235 L 0.916599681321729, -0.3998062333192228 M 0.916599681321729, -0.3998062333192228 Q 0.010239041147105969, -0.1997377331311935 -0.8709123155901626, -0.491438438213151L -0.8709123155901626, -0.491438438213151 L -0.8757617567907878, -0.48274356064344653 L -0.8805243942587002, -0.4740008345091273 \", \"type\": \"path\"}, {\"fillcolor\": \"rgba(175,175,175,0.5)\", \"layer\": \"below\", \"line\": {\"color\": \"rgba(175,175,175,0.5)\", \"width\": 0.5}, \"path\": \"M -0.46006503773115265, -0.887885218402375 Q -0.22794679288872724, -0.44501714530087905 -0.45171209526458633, -0.8921637646708576L -0.45171209526458633, -0.8921637646708576 L -0.4558935857774545, -0.8900342906017581 L -0.46006503773115265, -0.887885218402375 \", \"type\": \"path\"}, {\"fillcolor\": \"rgba(175,175,175,0.5)\", \"layer\": \"below\", \"line\": {\"color\": \"rgba(175,175,175,0.5)\", \"width\": 0.5}, \"path\": \"M -0.45171209526458633, -0.8921637646708576 Q -0.06315829528550164, -0.18976572329224628 -0.17302281835393887, -0.9849178160277434L -0.17302281835393887, -0.9849178160277434 L -0.1779326901563918, -0.9840426605456236 L -0.18283813628561998, -0.9831430292279965 M -0.18283813628561998, -0.9831430292279965 Q -0.06321422826936288, -0.18974709838179052 -0.4433193670780582, -0.896363731290769L -0.4433193670780582, -0.896363731290769 L -0.44752065826697346, -0.8942735937196707 L -0.45171209526458633, -0.8921637646708576 \", \"type\": \"path\"}, {\"fillcolor\": \"rgba(175,175,175,0.5)\", \"layer\": \"below\", \"line\": {\"color\": \"rgba(175,175,175,0.5)\", \"width\": 0.5}, \"path\": \"M -0.4433193670780582, -0.896363731290769 Q -0.0013219791754307889, -0.1999956308799263 0.4314311461912198, -0.9021458674162013L 0.4314311461912198, -0.9021458674162013 L 0.42689781393918785, -0.9042998708691395 L 0.42235372777596586, -0.906431094255788 M 0.42235372777596586, -0.906431094255788 Q -0.001387287972079611, -0.19999518852233053 -0.4348875923829749, -0.900484748339104L -0.4348875923829749, -0.900484748339104 L -0.4391083142082672, -0.8984341313603206 L -0.4433193670780582, -0.896363731290769 \", \"type\": \"path\"}, {\"fillcolor\": \"rgba(175,175,175,0.5)\", \"layer\": \"below\", \"line\": {\"color\": \"rgba(175,175,175,0.5)\", \"width\": 0.5}, \"path\": \"M -0.15334151843836452, -0.9881732533938655 Q -0.07173874727678951, -0.49482679003784436 -0.13359919604489806, -0.9910354457920044L -0.13359919604489806, -0.9910354457920044 L -0.14347749455357903, -0.9896535800756887 L -0.15334151843836452, -0.9881732533938655 \", \"type\": \"path\"}, {\"fillcolor\": \"rgba(175,175,175,0.5)\", \"layer\": \"below\", \"line\": {\"color\": \"rgba(175,175,175,0.5)\", \"width\": 0.5}, \"path\": \"M -0.13359919604489806, -0.9910354457920044 Q 0.042917208319447966, -0.1953410177870104 0.5367123111013723, -0.8437653080757846L 0.5367123111013723, -0.8437653080757846 L 0.5110633923914302, -0.8595430233312136 L 0.4849510396955947, -0.8745413021110906 M 0.4849510396955947, -0.8745413021110906 Q 0.042879948834840004, -0.19534920012101792 -0.07408476150566021, -0.9972519481618722L -0.07408476150566021, -0.9972519481618722 L -0.10388848724182177, -0.99458895138575 L -0.13359919604489806, -0.9910354457920044 \", \"type\": \"path\"}, {\"fillcolor\": \"rgba(175,175,175,0.5)\", \"layer\": \"below\", \"line\": {\"color\": \"rgba(175,175,175,0.5)\", \"width\": 0.5}, \"path\": \"M 0.5367123111013723, -0.8437653080757846 Q 0.2809372686502663, -0.413611231814766 0.5865272537984115, -0.8099294910988819L 0.5865272537984115, -0.8099294910988819 L 0.5618745373005326, -0.827222463629532 L 0.5367123111013723, -0.8437653080757846 \", \"type\": \"path\"}, {\"fillcolor\": \"rgba(175,175,175,0.5)\", \"layer\": \"below\", \"line\": {\"color\": \"rgba(175,175,175,0.5)\", \"width\": 0.5}, \"path\": \"M 0.5865272537984115, -0.8099294910988819 Q 0.16115240959464772, -0.11844788255532007 0.948084546018262, -0.31801838563414236L 0.948084546018262, -0.31801838563414236 L 0.9366936270632704, -0.35015003786813303 L 0.9242140864187139, -0.3818747470902231 M 0.9242140864187139, -0.3818747470902231 Q 0.1612755930137216, -0.11828010440506227 0.6419441625804286, -0.7667513887362136L 0.6419441625804286, -0.7667513887362136 L 0.6146149952172246, -0.7888272356188843 L 0.5865272537984115, -0.8099294910988819 \", \"type\": \"path\"}, {\"fillcolor\": \"rgba(175,175,175,0.5)\", \"layer\": \"below\", \"line\": {\"color\": \"rgba(175,175,175,0.5)\", \"width\": 0.5}, \"path\": \"M 0.948084546018262, -0.31801838563414236 Q 0.48252082461915147, -0.13104828808059282 0.9787033358348601, -0.20527976136413686L 0.9787033358348601, -0.20527976136413686 L 0.9650416492383029, -0.26209657616118565 L 0.948084546018262, -0.31801838563414236 \", \"type\": \"path\"}, {\"fillcolor\": \"rgba(26,152,80, 0.75)\", \"layer\": \"below\", \"line\": {\"color\": \"rgba(26,152,80, 0.75)\", \"width\": 0.45}, \"path\": \"M 1.1, 0.0 L 1.099944034658493, 0.011095973107211651 L 1.0997761443287348, 0.02219081714183367 L 1.0994963460944334, 0.033283403146165395 L 1.099104668426505, 0.044372602392272406 L 1.0986011511801759, 0.055457286496840445 L 1.097985845590927, 0.06653632753599421 L 1.0972588142692812, 0.07760859816006947 L 1.0964201311944315, 0.08867297170832673 L 1.0954698817067139, 0.09972832232359471 L 1.0944081624989226, 0.11077352506683222 L 1.0932350816064726, 0.12180745603159646 L 1.0919507583964054, 0.13282899245840632 L 1.0905553235552428, 0.14383701284898895 L 1.089048919075689, 0.15483039708039809 L 1.0874316982421826, 0.16580802651899218 L 1.0857038256152989, 0.17676878413426128 L 1.083865477015004, 0.18771155461249062 L 1.0819168395027658, 0.19863522447024964 L 1.0798581113625187, 0.2095386821676945 L 1.077689502080487, 0.2204208182216731 L 1.0754112323238691, 0.23128052531862067 L 1.0730235339183831, 0.24211669842723488 L 1.0705266498246775, 0.25292823491091815 L 1.0679208341136086, 0.26371403463997667 L 1.0652063519403876, 0.2744730001035647 L 1.0623834795175997, 0.28520403652136134 L 1.059452504087098, 0.2959060519549706 L 1.0564137238907751, 0.3065779574190313 L 1.0532674481402153, 0.31721866699202755 L 1.0500139969852313, 0.3278270979267864 L 1.0466537014812867, 0.33840217076065293 L 1.043186903555809, 0.3489428094253316 L 1.0396139559733986, 0.35944794135638136 L 1.035935222299931, 0.3699164976023548 L 1.0321510768655628, 0.38034741293356933 L 1.0282619047266428, 0.39073962595049994 L 1.024268101626529, 0.4010920791917821 L 1.02017007395532, 0.41140371924181396 L 1.0159682387085034, 0.4216734968379464 L 1.011663023444524, 0.43190036697725165 L 1.0072548662412772, 0.4420832890228571 L 1.0027442156515325, 0.45222122680983573 L 0.9981315306572913, 0.46231314875064156 L 0.9934172806230825, 0.47235802794007814 L 0.988601945248203, 0.4823548422597925 L 0.9836860145179045, 0.4923025744822804 L 0.9786699886535367, 0.5022002123743942 L 0.9735543780616459, 0.5120467488003435 L 0.968339703282039, 0.5218411818241763 L 0.9630264949348156, 0.5315825148117304 L 0.9576152936663755, 0.5412697565320472 L 0.9521066500944038, 0.5509019212582335 L 0.9465011247518436, 0.5604780288677652 L 0.9407992880298588, 0.569997104942219 L 0.9350017201197938, 0.5794581808664254 L 0.9291090109541358, 0.5888602939270298 L 0.9231217601464863, 0.598202487410453 L 0.9170405769305475, 0.6074838107002429 L 0.9108660800981293, 0.6167033193738042 L 0.9045988979361842, 0.6258600752984977 L 0.8982396681628755, 0.634953146727101 L 0.8917890378626872, 0.6439816083926178 L 0.8852476634205786, 0.6529445416024291 L 0.8786162104551941, 0.6618410343317753 L 0.8718953537511339, 0.6706701813165584 L 0.8650857771902899, 0.6794310841454578 L 0.8581881736822581, 0.6881228513513488 L 0.8512032450938312, 0.6967445985020131 L 0.8441317021775795, 0.705295448290135 L 0.836974264499529, 0.7137745306225717 L 0.8297316603659418, 0.7221809827088896 L 0.8224046267492063, 0.7305139491491581 L 0.8149939092128471, 0.7387725820209908 L 0.8075002618356604, 0.7469560409658255 L 0.7999244471349816, 0.755063493274436 L 0.792267235989096, 0.7630941139716636 L 0.7845294075587977, 0.7710470859003631 L 0.7767117492081063, 0.7789215998045528 L 0.7688150564241477, 0.7867168544117603 L 0.76084013273621, 0.7944320565145558 L 0.7527877896339797, 0.8020664210512664 L 0.7446588464849693, 0.8096191711858577 L 0.7364541304511412, 0.8170895383869836 L 0.7281744764047403, 0.8244767625061864 L 0.7198207268433419, 0.831780091855247 L 0.7113937318041224, 0.8389987832826724 L 0.702894348777364, 0.8461321022493152 L 0.6943234426192008, 0.8531793229031173 L 0.6856818854636149, 0.8601397281529685 L 0.6769705566336923, 0.8670126097416745 L 0.6681903425521475, 0.8737972683180257 L 0.6593421366511254, 0.8804930135079603 L 0.6504268392812893, 0.8870991639848118 L 0.6414453576202065, 0.8936150475386399 L 0.6323986055800377, 0.9000400011446292 L 0.6232875037145419, 0.9063733710305567 L 0.6141129791254052, 0.912614512743316 L 0.6048759653679039, 0.9187627912144932 L 0.5955774023559093, 0.9248175808249903 L 0.5862182362662481, 0.9307782654686826 L 0.5767994194424229, 0.9366442386151127 L 0.5673219102977062, 0.942414903371207 L 0.5577866732176184, 0.9480896725420134 L 0.5481946784617949, 0.9536679686904501 L 0.5385469020652578, 0.9591492241960653 L 0.5288443257390996, 0.9645328813127924 L 0.5190879367705884, 0.9698183922257062 L 0.5092787279227072, 0.9750052191067642 L 0.49941769733313435, 0.9800928341695341 L 0.4895058484126783, 0.9850807197228988 L 0.47954418974317453, 0.9899683682237339 L 0.4695337349748586, 0.994755282328553 L 0.4594755027232211, 0.9994409749441151 L 0.4493705164653581, 1.0040249692769885 L 0.4392198044358276, 1.0085067988820668 L 0.42902439952202087, 1.0128860077100332 L 0.4187853391590612, 1.0171621501537649 L 0.4085036652242394, 1.0213347910936759 L 0.39818042393099734, 1.0254035059419933 L 0.3878166657224704, 1.0293678806859605 L 0.37741344516459957, 1.033227511929966 L 0.36697182083882307, 1.0369820069365905 L 0.3564928552343617, 1.0406309836665697 L 0.345977614640104, 1.0441740708176697 L 0.335427169036106, 1.0476109078624676 L 0.32484259198471593, 1.0509411450850383 L 0.314224960521332, 1.0541644436165392 L 0.30357535504481065, 1.0572804754696916 L 0.29289485920752895, 1.0602889235721564 L 0.28218455980511775, 1.063189481798796 L 0.271445546665875, 1.0659818550028253 L 0.2606789125398689, 1.0686657590458448 L 0.24988575298774654, 1.071240920826752 L 0.23906716626925376, 1.0737070783095308 L 0.22822425323148215, 1.076063980549917 L 0.2173581171968521, 1.078311387720931 L 0.20646986385084318, 1.0804490711372816 L 0.1955606011294864, 1.0824768132786373 L 0.18463143910662505, 1.0843944078117596 L 0.17368348988095908, 1.0862016596114972 L 0.16271786746288341, 1.087898384780643 L 0.15173568766113193, 1.0894844106686445 L 0.14073806796923702, 1.0909595758891741 L 0.12972612745182038, 1.0923237303365492 L 0.11870098663072154, 1.093576735201007 L 0.10766376737097905, 1.0947184629828293 L 0.09661559276667525, 1.095748797505315 L 0.08555758702665468, 1.0966676339266042 L 0.07449087536013146, 1.0974748787503437 L 0.06341658386219245, 1.0981704498352018 L 0.05765143987472041, 0.9983367725774562 L 0.06771897760011951, 0.9977044352275851 L 0.07777962456968607, 0.9969705762969129 L 0.08783235706061386, 0.9961352704593773 L 0.09787615215543549, 0.9951986027116628 L 0.10790998784611049, 0.9941606683645517 L 0.11793284313801852, 0.9930215730332265 L 0.12794369815385181, 0.9917814326265219 L 0.13794153423739267, 0.9904403733351312 L 0.14792533405716674, 0.9889985316187662 L 0.15789408170996277, 0.9874560541922701 L 0.16784676282420458, 0.9858130980106905 L 0.17778236466316943, 0.9840698302533066 L 0.18769987622803924, 0.9822264283066195 L 0.19759828836077462, 0.9802830797463007 L 0.20747659384680195, 0.9782399823181064 L 0.2173337875175034, 0.9760973439177553 L 0.22716886635249683, 0.9738553825697743 L 0.236980829581699, 0.9715143264053133 L 0.24676867878715908, 0.969074413638932 L 0.25653141800465246, 0.9665358925443598 L 0.2662680538250263, 0.963899021429233 L 0.2759775954952824, 0.9611640686088105 L 0.2856590550193927, 0.9583313123786719 L 0.2953114472588326, 0.9554010409863984 L 0.3049337900328236, 0.9523735526022432 L 0.31452510421827634, 0.9492491552887906 L 0.3240844138494197, 0.9460281669696088 L 0.33361074621711184, 0.9427109153969003 L 0.3431031319678178, 0.9392977381181509 L 0.3525606052022458, 0.9357889824417822 L 0.3619822035736339, 0.9321850054018119 L 0.3713669683856722, 0.9284861737215235 L 0.3807139446900556, 0.9246928637761499 L 0.3900221813836553, 0.9208054615545757 L 0.3992907313052978, 0.9168243626200606 L 0.40851865133214366, 0.9127499720699894 L 0.4177050024756555, 0.9085827044946501 L 0.4268488499771442, 0.9043229839350482 L 0.4359492634028859, 0.899971243839758 L 0.4450053167387984, 0.895527927020817 L 0.45401608848466757, 0.8909934856086673 L 0.46298066174791563, 0.8863683810061492 L 0.4718981243368985, 0.881653083841551 L 0.4807675688537268, 0.8768480739207203 L 0.489588092786598, 0.8719538401782411 L 0.49835879860163174, 0.8669708806276819 L 0.5070787938341985, 0.8618997023109212 L 0.5157471911797329, 0.8567408212465518 L 0.5243631085840207, 0.8514947623773751 L 0.5329256693329528, 0.8461620595169841 L 0.5414340021417356, 0.8407432552954457 L 0.5498872412435489, 0.8352389011040847 L 0.558284526477641, 0.829649557039378 L 0.5666250033768562, 0.8239757918459606 L 0.5749078232545797, 0.8182181828587538 L 0.5831321432910967, 0.812377315944218 L 0.5912971266193539, 0.806453785440738 L 0.5994019424101139, 0.8004481940981456 L 0.6074457659564977, 0.794361153016387 L 0.6154277787579021, 0.7881932815833403 L 0.6233471686032862, 0.7819452074117894 L 0.6312031296538189, 0.7756175662755611 L 0.6389948625248764, 0.769211002044832 L 0.6467215743673839, 0.7627261666206112 L 0.6543824789484926, 0.7561637198684064 L 0.661976796731582, 0.7495243295510785 L 0.6695037549555828, 0.7428086712608941 L 0.6769625877136084, 0.7360174283507797 L 0.6843525360308906, 0.7291512918647876 L 0.691672847942009, 0.722210960467778 L 0.6989227785674069, 0.7151971403743275 L 0.7061015901891875, 0.7081105452768661 L 0.7132085523261797, 0.7009518962730573 L 0.720242941808269, 0.6937219217924214 L 0.7272040428499832, 0.6864213575222144 L 0.7340911471233276, 0.6790509463325686 L 0.740903553829861, 0.6716114382009007 L 0.7476405697720057, 0.6641035901355983 L 0.7543015094235834, 0.6565281660989906 L 0.7608856949995718, 0.6488859369296106 L 0.7673924565250722, 0.6411776802637591 L 0.7738211319034828, 0.6334041804563755 L 0.780171066983871, 0.6255662285012261 L 0.7864416156275362, 0.6176646219504162 L 0.792632139773758, 0.6097001648332349 L 0.7987420095047219, 0.6016736675743412 L 0.8047706031096168, 0.5935859469112992 L 0.8107173071478974, 0.5854378258114706 L 0.816581516511705, 0.5772301333882736 L 0.8223626344874401, 0.5689637048168161 L 0.8280600728164811, 0.5606393812489129 L 0.8336732517550431, 0.5522580097274935 L 0.8392016001331692, 0.5438204431004118 L 0.8446445554128507, 0.5353275399336633 L 0.850001563745267, 0.5267801644240231 L 0.8552720800271443, 0.5181791863111082 L 0.8604555679562214, 0.5095254807888774 L 0.8655515000858215, 0.5008199284165759 L 0.8705593578785231, 0.4920634150291338 L 0.8754786317589233, 0.4832568316470276 L 0.8803088211654899, 0.47440107438561474 L 0.8850494346014962, 0.4654970443639486 L 0.8896999896850333, 0.4565456476130855 L 0.8942600131980949, 0.4475477949838912 L 0.89872904113473, 0.4385044020543568 L 0.9031066187482568, 0.42941638903643464 L 0.9073923005975375, 0.4202846806824014 L 0.9115856505923022, 0.4111102061907597 L 0.9156862420375247, 0.4018938991116882 L 0.91969365767684, 0.3926366972520469 L 0.9236074897350031, 0.38333954257995123 L 0.9274273399593816, 0.37400338112892173 L 0.9311528196604808, 0.36462916290162006 L 0.9347835497514935, 0.3552178417731817 L 0.9383191607868753, 0.3457703753941539 L 0.9417592929999371, 0.33628772509304977 L 0.9451035963394532, 0.3267708557785285 L 0.9483517305052809, 0.3172207358412105 L 0.9515033649829877, 0.307638337055139 L 0.954558179077483, 0.2980246344788967 L 0.9575158619456503, 0.2883806063563887 L 0.9603761126279773, 0.2787072340173012 L 0.9631386400791799, 0.26900550177724597 L 0.9658031631978178, 0.2592763968376012 L 0.9683694108548977, 0.2495209091850588 L 0.9708371219214622, 0.23974003149088788 L 0.9732060452951613, 0.22993475900992555 L 0.9754759399258028, 0.2201060894793044 L 0.977646574839881, 0.21025502301692786 L 0.9797177291640792, 0.20038256201970278 L 0.9816891921477443, 0.19048971106154045 L 0.9835607631843326, 0.18057747679113603 L 0.9853322518318217, 0.17064686782953692 L 0.9870034778320897, 0.16069889466751025 L 0.9885742711292569, 0.15073456956272016 L 0.9900444718869899, 0.14075490643672553 L 0.991413930504766, 0.13076092077180812 L 0.9926825076330957, 0.1207536295076421 L 0.9938500741877023, 0.11073405093781495 L 0.9949165113626568, 0.1007032046062111 L 0.995881710642467, 0.09066211120326792 L 0.9967455738131195, 0.08061179246211521 L 0.9975080129720738, 0.07055327105460861 L 0.9981689505372063, 0.06048757048726746 L 0.9987283192547052, 0.05041571499712767 L 0.9991860622059135, 0.040338729447520365 L 0.9995421328131212, 0.030257639223786718 L 0.9997964948443042, 0.020173470128939698 L 0.9999491224168118, 0.010087248279283319 L 1.0, 0.0 L 1.1 ,0.0\", \"type\": \"path\"}, {\"fillcolor\": \"rgba(215,48,39, 0.75)\", \"layer\": \"below\", \"line\": {\"color\": \"rgba(215,48,39, 0.75)\", \"width\": 0.45}, \"path\": \"M 0.028890924179751594, 1.099620532047324 L 0.017741926051835537, 1.0998569107206497 L 0.006591104522628573, 1.0999802531596519 L -0.0045603943979988, 1.0999905466879862 L -0.015711424630558884, 1.09988779024775 L -0.026860840143732485, 1.0996719943995905 L -0.03800749507215091, 1.0993431813216201 L -0.04915024383416088, 1.0989013848071367 L -0.060287941249559114, 1.0983466502611503 L -0.07141944265728804, 1.0976790346957177 L -0.08254360403307598, 1.0968986067240813 L -0.09365928210701191, 1.0960054465536198 L -0.10476533448104484, 1.0949996459776026 L -0.11586061974639121, 1.093881308365758 L -0.1269439976008418, 1.0926505486536477 L -0.1380143289659549, 1.0913074933308566 L -0.1490704761041224, 1.0898522804279902 L -0.16011130273550095, 1.0882850595024913 L -0.1711356741547904, 1.086605991623268 L -0.18214245734785092, 1.0848152493541408 L -0.19313052110814855, 1.0829130167361067 L -0.2040987361530122, 1.0808994892684256 L -0.2150459752396943, 1.0787748738885277 L -0.22597111328122196, 1.076539388950746 L -0.2368730274620251, 1.0741932642038745 L -0.2477505973533337, 1.0717367407675573 L -0.25860270502832766, 1.0691700711075072 L -0.2694282351770292, 1.0664935190095586 L -0.2802260752209289, 1.063707359552558 L -0.2909951154273284, 1.060811879080092 L -0.30173424902339174, 1.057807375171061 L -0.3124423723098927, 1.0546941566090933 L -0.32311838477464483, 1.0514725433508119 L -0.33376118920560677, 1.0481428664929506 L -0.3443696918036456, 1.0447054682383272 L -0.35494280229494984, 1.0411607018606726 L -0.36547943404308253, 1.0375089316683246 L -0.3759785041606575, 1.0337505329667862 L -0.38643893362063164, 1.0298858920201546 L -0.39685964736720125, 1.025915406011422 L -0.4072395744262878, 1.0218394830016582 L -0.4175776480156075, 1.0176585418880704 L -0.42787280565430763, 1.0133730123609526 L -0.4381239892721606, 1.0089833348595247 L -0.44833014531830734, 1.0044899605266673 L -0.45849022486953317, 0.9998933511625553 L -0.4686031837380699, 0.9951939791771979 L -0.4786679825789108, 0.9903923275418867 L -0.48868358699662756, 0.9854888897395595 L -0.49864896765167954, 0.9804841697140829 L -0.5085631003662004, 0.9753786818184607 L -0.5184249662292602, 0.9701729507619714 L -0.5282335517015793, 0.9648675115562422 L -0.5379878487196952, 0.9594629094602639 L -0.5476868547995642, 0.9539596999243528 L -0.5573295731395909, 0.9483584485330647 L -0.5669150127230707, 0.9426597309470691 L -0.5764421884200439, 0.9368641328439844 L -0.5859101210885386, 0.9309722498581867 L -0.5953178376752009, 0.9249846875195953 L -0.6046643713152994, 0.9189020611914385 L -0.6139487614320932, 0.9127249960070114 L -0.623170053835554, 0.9064541268054291 L -0.6323273008204316, 0.9000900980663812 L -0.6414195612636527, 0.8936335638438965 L -0.6504459007210438, 0.8870851876991241 L -0.6594053915233675, 0.8804456426321359 L -0.6682971128716609, 0.8737156110127612 L -0.677120150931872, 0.866895784510456 L -0.685873598928776, 0.859986864023218 L -0.6945565572391678, 0.8529895596055527 L -0.7031681334843206, 0.845904590395499 L -0.7117074426216968, 0.8387326845407209 L -0.7201736070359097, 0.8314745791236718 L -0.7285657566289171, 0.8241310200858438 L -0.7368830289094452, 0.8167027621511034 L -0.7451245690816302, 0.8091905687481257 L -0.7532895301328676, 0.801595211931935 L -0.7613770729208641, 0.7939174723045573 L -0.7693863662598781, 0.7861581389347952 L -0.7773165870061448, 0.7783180092771326 L -0.7851669201424725, 0.770397889089777 L -0.7929365588620055, 0.7623985923518493 L -0.8006247046511421, 0.7543209411797286 L -0.8082305673716011, 0.7461657657425593 L -0.8157533653416273, 0.7379339041769322 L -0.8231923254163271, 0.7296262025007463 L -0.8305466830671281, 0.7212435145262601 L -0.8378156824603511, 0.7127867017723438 L -0.8449985765348919, 0.7042566333759355 L -0.8520946270789977, 0.695654186002718 L -0.8591031048061365, 0.6869802437570214 L -0.8660232894299486, 0.67823569809096 L -0.8728544697382723, 0.669421447712814 L -0.8795959436662388, 0.6605383984946667 L -0.886247018368425, 0.6515874633793047 L -0.8928070102900599, 0.6425695622863916 L -0.8992752452372765, 0.6334856220179242 L -0.9056510584464007, 0.6243365761629813 L -0.9119337946522709, 0.6151233650017777 L -0.9181228081555829, 0.6058469354090248 L -0.9242174628892503, 0.5965082407566195 L -0.9302171324837764, 0.5871082408156615 L -0.9361212003316254, 0.5776479016578154 L -0.941929059650597, 0.5681281955560226 L -0.9476401135461858, 0.5585501008845778 L -0.9532537750729265, 0.5489146020185787 L -0.958769467294716, 0.5392226892327572 L -0.964186623344108, 0.5294753585997062 L -0.9695046864805713, 0.5196736118875089 L -0.9747231101477085, 0.5098184564567844 L -0.9798413580294275, 0.4999109051571564 L -0.98485890410506, 0.4899519762231604 L -0.9897752327034235, 0.479942693169595 L -0.9945898385558181, 0.4698840846863321 L -0.9993022268479546, 0.45977718453259436 L -1.0039119132708088, 0.44962303143071364 L -1.0084184240703953, 0.43942266895937526 L -1.0128212960964575, 0.42917714544636687 L -1.0171200768500666, 0.4188875138608396 L -1.0213143245301262, 0.4085548317050877 L -1.0254036080787787, 0.3981801609058673 L -1.0293875072257068, 0.3877645677052577 L -1.033265612531325, 0.37730912255108007 L -1.0370375254288597, 0.3668148999868836 L -1.0407028582653117, 0.3562829785415107 L -1.0442612343412967, 0.34571444061825296 L -1.0477122879497593, 0.33511037238360847 L -1.051055664413559, 0.3244718636556528 L -1.0542910201219204, 0.3138000077920341 L -1.0574180225657488, 0.3030959015776055 L -1.0604363503718028, 0.2923606451117034 L -1.0633456933357215, 0.28159534169508876 L -1.066145752453908, 0.2708010977165537 L -1.068836239954257, 0.25997902253921573 L -1.0714168793257308, 0.24913022838650556 L -1.0738874053467777, 0.23825583022785746 L -1.0762475641125893, 0.22735694566412148 L -1.0784971130611951, 0.2164346948127033 L -1.080635820998392, 0.20549020019244557 L -1.0826634681215048, 0.1945245866082629 L -1.0845798460419755, 0.18353898103554134 L -1.0863847578067811, 0.17253451250431523 L -0.9876225070970737, 0.15684955682210475 L -0.9859816782199777, 0.1668536191232194 L -0.9842395164740951, 0.176840533280239 L -0.982396200907629, 0.18680927290222324 L -0.9804519209647227, 0.1967588134660939 L -0.9784068764659901, 0.2066881324219286 L -0.9762612775879798, 0.2165962092980522 L -0.9740153448415735, 0.22648202580591412 L -0.9716693090493245, 0.23634456594474154 L -0.9692234113217345, 0.2461828161059579 L -0.966677903032474, 0.2559957651773534 L -0.9640330457925479, 0.2657824046470031 L -0.961289111423408, 0.27554172870691407 L -0.9584463819290184, 0.2852727343563946 L -0.9555051494668716, 0.29497442150513886 L -0.952465716317963, 0.3046457930760077 L -0.9493283948557242, 0.3142858551075027 L -0.9460935075139197, 0.3238936168559188 L -0.9427613867535087, 0.3334680908971669 L -0.9393323750284772, 0.3430082932282546 L -0.9358068247506426, 0.35251324336841605 L -0.9321850982534352, 0.3619819644598793 L -0.92846756775466, 0.3714134833682615 L -0.9246546153182422, 0.38080683078258143 L -0.9207466328149614, 0.39016104131487894 L -0.9167440218821774, 0.39947515359943203 L -0.9126471938825533, 0.40874821039155784 L -0.9084565698617768, 0.41797925866599484 L -0.904172580505289, 0.4271673497148473 L -0.8997956660940213, 0.4363115392450863 L -0.8953262764591454, 0.4454108874756003 L -0.8907648709358431, 0.45446445923377854 L -0.8861119183160986, 0.4634713240516221 L -0.8813678968005193, 0.47243055626137176 L -0.876533293949189, 0.481341235090642 L -0.8716086066315599, 0.490202444757052 L -0.8665943409753877, 0.49901327456234423 L -0.8614910123147144, 0.5077728189859798 L -0.8562991451369063, 0.5164801777782023 L -0.8510192730287502, 0.5251344560525595 L -0.8456519386216148, 0.533734764377874 L -0.8401976935356821, 0.542280218869654 L -0.8346570983232571, 0.5507699412809316 L -0.8290307224111553, 0.5592030590925251 L -0.8233191440421824, 0.5675787056027103 L -0.8175229502157059, 0.5758960200162947 L -0.8116427366273271, 0.5841541475330833 L -0.805679107607659, 0.5923522394357316 L -0.799632676060217, 0.6004894531769697 L -0.7935040633984293, 0.6085649524661945 L -0.7872938994817713, 0.6165779073554181 L -0.7810028225510331, 0.6245274943245649 L -0.7746314791627251, 0.6324128963661072 L -0.7681805241226289, 0.6402333030690321 L -0.761650620418501, 0.6479879107021307 L -0.7550424391519346, 0.6556759222966001 L -0.7483566594693882, 0.6632965477279511 L -0.7415939684923885, 0.670849003797211 L -0.73475506124691, 0.6783325143114175 L -0.7278406405919473, 0.6857463101633896 L -0.7208514171472777, 0.693089629410772 L -0.7137881092204295, 0.7003617173543427 L -0.7066514427328588, 0.707561826615575 L -0.6994421511453437, 0.7146892172134501 L -0.6921609753826037, 0.7217431566405066 L -0.6848086637571523, 0.7287229199381227 L -0.677385971892391, 0.7356277897710233 L -0.6698936626449502, 0.742457056501003 L -0.6623325060262882, 0.749210018259858 L -0.6547032791235542, 0.7558859810215198 L -0.6470067660197243, 0.7624842586733825 L -0.6392437577130187, 0.7690041730868172 L -0.631415052035607, 0.775445054186866 L -0.6235214535716145, 0.7818062400211072 L -0.615563773574429, 0.7880870768276872 L -0.6075428298833281, 0.7942869191025101 L -0.599459446839425, 0.800405129665578 L -0.5913144552009488, 0.8064410797264764 L -0.5831086920578661, 0.8123941489489968 L -0.5748430007458469, 0.8182637255148919 L -0.5665182307595945, 0.8240492061867537 L -0.5581352376655392, 0.8297499963700103 L -0.5496948830139085, 0.8353655101740349 L -0.5411980342501825, 0.8408951704723593 L -0.5326455646259441, 0.8463384089619879 L -0.5240383531091308, 0.8516946662218039 L -0.5153772842937006, 0.8569633917700628 L -0.5066632483087189, 0.8621440441209679 L -0.4978971407268765, 0.8672360908403207 L -0.48907986247245017, 0.8722390086002398 L -0.48021231972870837, 0.8771522832329474 L -0.47129542384478196, 0.8819754097836103 L -0.4623300912420004, 0.8867078925622369 L -0.45331724331970863, 0.8913492451946208 L -0.4442578063605705, 0.8958989906723267 L -0.43515271143537343, 0.9003566614017151 L -0.42600289430733623, 0.904721799251998 L -0.4168092953359392, 0.9089939556023229 L -0.4075728593802794, 0.9131726913878793 L -0.39829453570196416, 0.9172575771450224 L -0.38897527786755237, 0.9212481930554113 L -0.37961604365055224, 0.9251441289891549 L -0.37021779493298884, 0.928944984546962 L -0.36078149760654654, 0.9326503691012926 L -0.3513081214733015, 0.936259901836504 L -0.3417986401460522, 0.9397732117879875 L -0.33225403094825684, 0.943189937880295 L -0.32267527481359076, 0.9465097289642477 L -0.3130633561851323, 0.9497322438530246 L -0.30341926291418797, 0.9528571513572278 L -0.293743986158768, 0.9558841303189197 L -0.2840385202817206, 0.9588128696446302 L -0.2743038627485379, 0.9616430683373282 L -0.264541014024844, 0.9643744355273564 L -0.2547509774735717, 0.9670066905023252 L -0.24493475925184469, 0.9695395627359622 L -0.23509336820757057, 0.9719727919159156 L -0.2252278157757579, 0.9743061279705066 L -0.21533911587456825, 0.9765393310944313 L -0.20542828480111086, 0.9786721717734053 L -0.1954963411269948, 0.9807044308077524 L -0.18554430559364743, 0.9826358993349322 L -0.17557320100740775, 0.984466378851006 L -0.1655840521344099, 0.986195681231037 L -0.15557788559526398, 0.9878236287484254 L -0.1455557297595463, 0.9893500540931738 L -0.13551861464011128, 0.9907748003890818 L -0.1254675717872317, 0.9920977212098695 L -0.11540363418258345, 0.9933186805942252 L -0.10532783613308291, 0.9944375530597799 L -0.09524121316458621, 0.9954542236160022 L -0.08514480191546536, 0.9963685877760179 L -0.07503964003006906, 0.9971805515673466 L -0.06492676605208003, 0.9978900315415614 L -0.05480721931778101, 0.9984969547828639 L -0.04468203984923716, 0.9990012589155788 L -0.034552268247409916, 0.9994028921105637 L -0.02441894558521135, 0.9997018130905367 L -0.014283113300508077, 0.9998979911343181 L -0.004145813089089818, 0.9999914060799875 L 0.005991913202389611, 0.9999820483269563 L 0.01612902368348685, 0.9998699188369543 L 0.0262644765270469, 0.9996550291339309 L 0.028890924179751594 ,1.099620532047324\", \"type\": \"path\"}, {\"fillcolor\": \"rgba(244,109,67, 0.75)\", \"layer\": \"below\", \"line\": {\"color\": \"rgba(244,109,67, 0.75)\", \"width\": 0.45}, \"path\": \"M -1.0912681325141496, 0.13832520724394706 L -1.092638085359732, 0.12705122754786582 L -1.093891568955204, 0.11576370488509106 L -1.0950284496860632, 0.10446384244386761 L -1.0960486063670352, 0.09315284472779274 L -1.0969519302549913, 0.08183191742742468 L -1.0977383250605408, 0.07050226729175957 L -1.0984077069582938, 0.059165101999600685 L -1.0989600045957975, 0.047821630030825894 L -1.099395159101141, 0.03647306053757034 L -1.0997131240892317, 0.025120603215337406 L -1.099913865666739, 0.013765468174051354 L -1.0999973624357078, 0.0024088658090680986 L -1.0999636054958386, -0.00894799332784921 L -1.0998125984454368, -0.02030389865756645 L -1.0995443573810286, -0.03165763970262014 L -1.0991589108956463, -0.04300800621624769 L -1.0986563000757792, -0.05435378831139318 L -1.0980365784969943, -0.0656937765896746 L -1.0972998122182263, -0.07702676227029967 L -1.096446079774735, -0.0883515373189133 L -1.0954754721697346, -0.09966689457637039 L -1.0943880928646923, -0.11097162788741038 L -1.0931840577683012, -0.12226453222922741 L -1.091863495224124, -0.13354440383991908 L -1.0904265459969131, -0.14481004034680145 L -1.0888733632576049, -0.15606024089457332 L -1.0872041125669933, -0.16729380627332394 L -1.0854189718580822, -0.1785095390463602 L -1.0835181314171172, -0.18970624367784725 L -1.0815017938633043, -0.20088272666024626 L -1.0793701741272097, -0.21203779664153566 L -1.0771234994278511, -0.22317026455220282 L -1.0747620092484764, -0.23427894373199276 L -1.0722859553110364, -0.24536265005639796 L -1.0696956015493524, -0.2564202020628821 L -1.0669912240809827, -0.2674504210768159 L -1.06417311117779, -0.27845213133711766 L -1.061241563235212, -0.28942416012158306 L -1.0581968927402428, -0.30036533787189157 L -1.055039424238122, -0.31127449831827275 L -1.0517694942977407, -0.32215047860382723 L -1.048387451475765, -0.33299211940847917 L -1.044893656279481, -0.3437982650725536 L -1.0412884811283682, -0.35456776371996385 L -1.0375723103144001, -0.36529946738099467 L -1.0337455399610818, -0.37599223211467014 L -1.029808577981224, -0.38664491813069163 L -1.0257618440334648, -0.3972563899109314 L -1.0216057694775327, -0.40782551633047537 L -1.0173407973282675, -0.41835117077819334 L -1.0129673822083987, -0.42883223127682957 L -1.0084859903000827, -0.4392675806025998 L -1.0038970992952125, -0.4496561064042814 L -0.9992011983444972, -0.45999670132178216 L -0.9943987880053213, -0.47028826310418176 L -0.9894903801883884, -0.4805296947272237 L -0.9844764981031539, -0.49071990451025244 L -0.8949786346392307, -0.44610900410022947 L -0.8995367092621712, -0.4368451770247488 L -0.9039988981866557, -0.4275347846401652 L -0.9083647257677246, -0.4181788193834383 L -0.9126337266320113, -0.4087782785493467 L -0.9168054457273479, -0.3993341641841816 L -0.9208794383712714, -0.38984748297893596 L -0.924855270298425, -0.3803192461619939 L -0.9287325177068477, -0.3707504693913412 L -0.9325107673031497, -0.3611421726463012 L -0.9361896163465673, -0.35149538011881054 L -0.9397686726918923, -0.3418111201042456 L -0.9432475548312728, -0.3320904248918133 L -0.9466258919348801, -0.32233433065451256 L -0.9499033238904373, -0.3125438773386851 L -0.9530795013416044, -0.30272010855316284 L -0.9561540857252188, -0.29286407145802473 L -0.9591267493073835, -0.2829768166529752 L -0.9619971752184023, -0.27305939806535595 L -0.9647650574865563, -0.26311287283780277 L -0.967430101070718, -0.25313830121556147 L -0.9699920218918024, -0.24313674643346894 L -0.9724505468630475, -0.23310927460262007 L -0.9748054139191239, -0.2230569545967254 L -0.9770563720440694, -0.21298085793817523 L -0.9792031812980464, -0.20288205868382073 L -0.9812456128429178, -0.19276163331048696 L -0.9831834489666401, -0.18262066060022386 L -0.9850164831064702, -0.17246022152531568 L -0.9867445198709838, -0.1622813991330547 L -0.988367375060903, -0.15208527843029448 L -0.9898848756887316, -0.14187294626779393 L -0.9912968599971936, -0.13164549122436495 L -0.9926031774764763, -0.12140400349083552 L -0.9938036888802737, -0.11114957475384309 L -0.9948982662406293, -0.10088329807946397 L -0.9958867928815768, -0.09060626779670035 L -0.9967691634315773, -0.08031957938083027 L -0.9975452838347512, -0.07002432933663606 L -0.9982150713609039, -0.05972161508152236 L -0.9987784546143446, -0.04941253482853925 L -0.9992353735414966, -0.03909818746931608 L -0.9995857794372988, -0.028779672456927394 L -0.9998296349503969, -0.01845808968869677 L -0.999966914087126, -0.008134539388953825 L -0.9999976022142798, 0.0021898780082437257 L -0.9999216960606718, 0.01251406197641032 L -0.9997392037174833, 0.022836912013943094 L -0.9994501446374008, 0.033157327761427574 L -0.999054549632543, 0.04347420911893263 L -0.9985524608711761, 0.053786456363273345 L -0.9979439318732188, 0.06409297026523597 L -0.9972290275045375, 0.0743926522067497 L -0.9964078239700319, 0.0846844042979934 L -0.9954804088055119, 0.0949671294944251 L -0.9944468808683672, 0.10523973171371914 L -0.9933073503270289, 0.11550111595260529 L -0.9920619386492268, 0.12575018840358823 L -1.0912681325141496 ,0.13832520724394706\", \"type\": \"path\"}, {\"fillcolor\": \"rgba(253,174,97, 0.75)\", \"layer\": \"below\", \"line\": {\"color\": \"rgba(253,174,97, 0.75)\", \"width\": 0.45}, \"path\": \"M -0.9685768336845704, -0.5214009179600401 L -0.9631456245943585, -0.5313666397363908 L -0.9576118813749238, -0.5412757935189593 L -0.9519761931350444, -0.5511273244034528 L -0.9462391598363171, -0.5609201836199699 L -0.9404013922292851, -0.5706533286446532 L -0.9344635117884197, -0.5803257233106716 L -0.9284261506459602, -0.5899363379185291 L -0.9222899515246188, -0.5994841493456824 L -0.9160555676691565, -0.6089681411554627 L -0.9097236627768414, -0.6183873037052814 L -0.9032949109267928, -0.6277406342541143 L -0.8967699965082204, -0.6370271370692512 L -0.8901496141475664, -0.6462458235322986 L -0.8834344686345562, -0.6553957122444268 L -0.876625274847169, -0.6644758291308462 L -0.8697227576755331, -0.6734852075445058 L -0.8627276519447572, -0.682422888368998 L -0.8556407023367008, -0.6912879201206671 L -0.8484626633106981, -0.7000793590498989 L -0.8411942990232404, -0.708796269241592 L -0.8338363832466255, -0.717437722714792 L -0.8263896992865842, -0.7260027995214818 L -0.8188550398988907, -0.7344905878445184 L -0.8112332072049686, -0.7429001840947012 L -0.8035250126064976, -0.7512306930069672 L -0.7957312766990362, -0.7594812277356973 L -0.7878528291846608, -0.767650909949129 L -0.7798905087836385, -0.7757388699228612 L -0.7718451631451387, -0.7837442466324422 L -0.763717648756995, -0.7916661878450332 L -0.7555088308545247, -0.7995038502101347 L -0.7472195833284199, -0.8072563993493659 L -0.7388507886317123, -0.8149230099452937 L -0.7304033376858313, -0.8225028658292916 L -0.7218781297857596, -0.8299951600684272 L -0.7132760725042938, -0.8373990950513678 L -0.7045980815954281, -0.8447138825732904 L -0.6958450808968654, -0.8519387439197934 L -0.6870180022316672, -0.8590729099497953 L -0.6781177853090545, -0.8661156211774172 L -0.6691453776243684, -0.8730661278528343 L -0.6601017343582013, -0.8799236900420938 L -0.6509878182747136, -0.8866875777058844 L -0.6418045996191362, -0.8933570707772568 L -0.6325530560144828, -0.8999314592382793 L -0.6232341723574744, -0.9064100431956246 L -0.6138489407136892, -0.9127921329550786 L -0.6043983602119504, -0.9190770490949633 L -0.5948834369379603, -0.9252641225384675 L -0.585305183827195, -0.9313526946248739 L -0.5756646205570726, -0.9373421171796784 L -0.5659627734383963, -0.9432317525835944 L -0.5562006753060981, -0.9490209738404314 L -0.5463793654092866, -0.9547091646438435 L -0.5364998893006094, -0.9602957194429401 L -0.4877271720914631, -0.872996108584491 L -0.4967085140084423, -0.867917422403494 L -0.5056369775509982, -0.8627463398549375 L -0.5145116122167238, -0.8574834114396311 L -0.5233314732337023, -0.8521291974360712 L -0.5320956216610863, -0.8466842678407944 L -0.5408031244890548, -0.8411492023076976 L -0.5494530547381367, -0.8355245900863303 L -0.5580444915578993, -0.8298110299591622 L -0.5665765203249766, -0.8240091301778405 L -0.5750482327404388, -0.8181195083984357 L -0.5834587269264874, -0.8121427916156879 L -0.5918071075224669, -0.8060796160962584 L -0.6000924857801829, -0.7999306273109943 L -0.6083139796585167, -0.793696479866213 L -0.6164707139173222, -0.7873778374340156 L -0.6245618202106065, -0.7809753726816321 L -0.6325864371789685, -0.7744897671998121 L -0.6405437105412982, -0.7679217114302639 L -0.6484327931857216, -0.7612719045921524 L -0.6562528452597814, -0.7545410546076611 L -0.6640030342598466, -0.7477298780266286 L -0.6716825351197384, -0.7408390999502669 L -0.6792905302985635, -0.733869453953969 L -0.6868262098677497, -0.7268216820092133 L -0.6942887715972681, -0.7196965344045756 L -0.7016774210410351, -0.7124947696658566 L -0.7089913716214895, -0.7052171544753283 L -0.716229844713328, -0.6978644635901172 L -0.7233920697263965, -0.6904374797597247 L -0.730477284187725, -0.6829369936426974 L -0.7374847338226986, -0.6753638037224555 L -0.7444136726353552, -0.6677187162222894 L -0.7512633629878038, -0.6600025450195289 L -0.7580330756787503, -0.6522161115589018 L -0.7647220900211276, -0.6443602447650836 L -0.7713296939188163, -0.6364357809544535 L -0.7778551839424551, -0.6284435637460609 L -0.7842978654043247, -0.6203844439718164 L -0.7906570524323028, -0.6122592795859143 L -0.7969320680428809, -0.6040689355734965 L -0.8031222442132329, -0.5958142838585698 L -0.809226921952333, -0.5874962032111806 L -0.8152454513711094, -0.5791155791538647 L -0.8211771917516297, -0.5706733038673766 L -0.8270215116153102, -0.5621702760957104 L -0.8327777887901422, -0.5536074010504206 L -0.8384454104769261, -0.5449855903142566 L -0.8440237733145093, -0.5363057617441173 L -0.8495122834440179, -0.5275688393733378 L -0.8549103565720773, -0.518775753313321 L -0.8602174180330155, -0.509927439654518 L -0.8654329028500404, -0.5010248403667752 L -0.8705562557953852, -0.4920689031990539 L -0.8755869314494167, -0.48306058157853704 L -0.8805243942587002, -0.4740008345091273 L -0.9685768336845704 ,-0.5214009179600401\", \"type\": \"path\"}, {\"fillcolor\": \"rgba(254,224,139, 0.75)\", \"layer\": \"below\", \"line\": {\"color\": \"rgba(254,224,139, 0.75)\", \"width\": 0.45}, \"path\": \"M -0.5060715415042679, -0.9766737402426126 L -0.4957777594320006, -0.9819391087295514 L -0.485429201679863, -0.9870959883195003 L -0.47502701160145455, -0.9921438092580086 L -0.46457233847590945, -0.9970820138398974 L -0.4540663373809169, -1.001910056470879 L -0.4435101690651004, -1.0066274037278373 L -0.4329049998197785, -1.0112335344177614 L -0.4222520013501053, -1.0157279396353291 L -0.41155235064561263, -1.0201101228191352 L -0.40080722985017647, -1.0243795998065501 L -0.39001782613140595, -1.0285358988872155 L -0.37918533154947703, -1.03257856085516 L -0.36831094292543437, -1.0365071390595328 L -0.35739586170895715, -1.0403211994539534 L -0.3464412938456199, -1.0440203206444658 L -0.33544844964365056, -1.0476040939360973 L -0.3244185436402161, -1.0510721233780114 L -0.31335279446723213, -1.0544240258072541 L -0.3022524247167205, -1.0576594308910896 L -0.2911186608057376, -1.0607779811679134 L -0.27995273284087197, -1.063779332086748 L -0.2687558744823332, -1.0666631520453103 L -0.2575293228076582, -1.0694291224266474 L -0.24627431817503045, -1.0720769376343398 L -0.23499210408623683, -1.0746063051262649 L -0.21362918553294255, -0.976914822842059 L -0.2238857437954822, -0.9746153978493998 L -0.23411756618878019, -0.9722082931151339 L -0.2443235222566665, -0.9696937745866455 L -0.25450248440079265, -0.9670721200788617 L -0.264653328005216, -0.9643436192435576 L -0.27477493156065497, -0.9615085735373541 L -0.2848661767883928, -0.9585672961884127 L -0.2949259487638328, -0.9555201121618284 L -0.3049531360396823, -0.9523673581237247 L -0.31494663076874535, -0.9491093824040597 L -0.32490532882632467, -0.9457465449581394 L -0.33482812993221306, -0.9422792173268479 L -0.34471393777225184, -0.9387077825956 L -0.35456166011945994, -0.9350326353520141 L -0.36437020895470584, -0.9312541816423183 L -0.37413850058692055, -0.9273728389264864 L -0.383865455772823, -0.9233890360321173 L -0.39354999983616223, -0.9193032131070558 L -0.40319106278645483, -0.9151158215707611 L -0.4127875794371971, -0.9108273240644352 L -0.422338489523554, -0.9064381943999066 L -0.4318427378195041, -0.9019489175072805 L -0.44129927425442084, -0.8973599893813639 L -0.4507070540290914, -0.8926719170268648 L -0.46006503773115265, -0.887885218402375 L -0.5060715415042679 ,-0.9766737402426126\", \"type\": \"path\"}, {\"fillcolor\": \"rgba(217,239,139, 0.75)\", \"layer\": \"below\", \"line\": {\"color\": \"rgba(217,239,139, 0.75)\", \"width\": 0.45}, \"path\": \"M -0.201121949914182, -1.081457332150796 L -0.18994591321902654, -1.083476141893023 L -0.17874962932731941, -1.0853794589982555 L -0.16753429170175094, -1.0871670805832896 L -0.1563010958360353, -1.0888388160974307 L -0.1450512391274776, -1.0903944873428073 L -0.13378592074933773, -1.091833928493364 L -0.12250634152300412, -1.0931569861125388 L -0.11121370378999655, -1.0943635191696182 L -0.09990921128379743, -1.0954533990547703 L -0.08859406900154415, -1.0964265095927541 L -0.07726948307558203, -1.0972827470553033 L -0.06593666064489727, -1.0980220201721822 L -0.054596809726442416, -1.0986442501409155 L -0.043251139086368434, -1.099149370635189 L -0.03190085811117683, -1.099537327811917 L -0.0205471766788056, -1.0998080803169843 L -0.009191305029662934, -1.0999615992896534 L 0.0021655463623778434, -1.0999978683656404 L 0.013522166919008172, -1.09991688367886 L 0.024877346086525285, -1.099718653861837 L 0.036229873464870624, -1.0994032000447878 L 0.04757853893665283, -1.098970555853365 L 0.058922132796135764, -1.0984207674050754 L 0.07025944587819238, -1.0977538933043642 L 0.08158926968719123, -1.096970004636367 L 0.09291039652581641, -1.0960691849593327 L 0.10422161962380157, -1.0950515302957171 L 0.11552173326656501, -1.0939171491219475 L 0.12680953292373223, -1.0926661623568588 L 0.1380838153775323, -1.0912987033488053 L 0.14934337885105448, -1.0898149178614462 L 0.16058702313635062, -1.0882149640582073 L 0.1718135497223713, -1.0864990124854226 L 0.18302176192272018, -1.0846672460541544 L 0.1942104650032145, -1.082719860020696 L 0.20537846630923792, -1.0806570619657587 L 0.2165245753928673, -1.078479071772345 L 0.2276476041397737, -1.0761861216023096 L 0.23874636689586504, -1.0737784558716128 L 0.2498196805936712, -1.0712563312242669 L 0.2608663648784527, -1.0686200165049793 L 0.27188524223402, -1.065869792730495 L 0.2828751381082502, -1.0630059530596423 L 0.29383488103828803, -1.0600288027620832 L 0.30476330277541736, -1.056938659185773 L 0.31565923840959004, -1.0537358517231334 L 0.32652152649359895, -1.0504207217759416 L 0.3373490091668821, -1.0469936227189367 L 0.34814053227894415, -1.0434549198621537 L 0.3588949455123822, -1.0398049904119833 L 0.36961110250550505, -1.0360442234309621 L 0.38028786097452455, -1.0321730197963037 L 0.39092408283532293, -1.0281917921571646 L 0.4015186343247623, -1.0241009648906585 L 0.41207038612153896, -1.0199009740566218 L 0.42257821346656227, -1.0155922673511297 L 0.43304099628284837, -1.011175304058776 L 0.39367363298440755, -0.9192502764170691 L 0.3841620122423293, -0.9232656975919361 L 0.37460944192867174, -0.927182703687838 L 0.36501694029523846, -0.9310008771733259 L 0.35538552985029354, -0.9347198110519677 L 0.34571623724956774, -0.9383391089057306 L 0.33601009318682273, -0.9418583849372382 L 0.3262681322839838, -0.9452772640108937 L 0.31649139298085827, -0.948595381692867 L 0.30668091742443826, -0.9518123842899423 L 0.2968377513578172, -0.9549279288872196 L 0.2869629440087182, -0.9579416833846668 L 0.27705754797765214, -0.9608533265325208 L 0.2671226191257164, -0.9636625479655301 L 0.25715921646204565, -0.9663690482360384 L 0.24716840203092724, -0.9689725388459045 L 0.23715124079859337, -0.9714727422772538 L 0.2271088005397011, -0.9738693920220608 L 0.21704215172351365, -0.976162232610557 L 0.20695236739979425, -0.9783510196384632 L 0.1968405230844248, -0.9804355197930408 L 0.18670769664476172, -0.9824155108779623 L 0.17655496818474045, -0.9842907818369963 L 0.16638341992974562, -0.9860611327765039 L 0.15619413611124663, -0.9877263749867478 L 0.14598820285122782, -0.9892863309620066 L 0.13576670804641314, -0.9907408344194965 L 0.1255307412523021, -0.9920897303170957 L 0.11528139356702928, -0.9933328748698714 L 0.10501975751505908, -0.9944701355654066 L 0.09474692693072868, -0.9955013911779246 L 0.08446399684165128, -0.9964265317812114 L 0.07417206335199202, -0.9972454587603335 L 0.06387222352562943, -0.9979580848221492 L 0.05356557526921433, -0.9985643340046139 L 0.04325321721513893, -0.999064141684877 L 0.032936248604427835, -0.9994574545861706 L 0.02261576916956844, -0.9997442307834883 L 0.012292879017280156, -0.9999244397080544 L 0.0019686785112525847, -0.9999980621505821 L -0.008355731845148122, -0.9999650902633211 L -0.018679251526186907, -0.9998255275608947 L -0.02900078010106984, -0.9995793889199244 L -0.03931921735124403, -0.9992267005774443 L -0.04963346338767492, -0.998767500128105 L -0.059942418768088424, -0.9982018365201655 L -0.07024498461416548, -0.9975297700502755 L -0.08054006272867649, -0.9967513723570491 L -0.09082655571254311, -0.9958667264134274 L -0.10110336708181504, -0.9948759265178345 L -0.11136940138454919, -0.993779078284126 L -0.12162356431757976, -0.9925762986303308 L -0.13186476284316145, -0.9912677157661883 L -0.14209190530548663, -0.9898534691794825 L -0.1523039015470463, -0.9883337096211723 L -0.16249966302483582, -0.9867085990893232 L -0.17267810292638774, -0.9849783108118391 L -0.18283813628561998, -0.9831430292279965 L -0.201121949914182 ,-1.081457332150796\", \"type\": \"path\"}, {\"fillcolor\": \"rgba(166,217,106, 0.75)\", \"layer\": \"below\", \"line\": {\"color\": \"rgba(166,217,106, 0.75)\", \"width\": 0.45}, \"path\": \"M 0.4645891005535625, -0.9970742036813669 L 0.4747251858943903, -0.9922882634988368 L 0.484811976144842, -0.9873992848825309 L 0.49484842390054173, -0.9824077755001485 L 0.5048334869846388, -0.9773142536661025 L 0.5147661285560265, -0.9721192482876988 L 0.5246453172170068, -0.966823298810215 L 0.5344700271203899, -0.9614269551608847 L 0.5442392380760174, -0.9559307776917931 L 0.5539519356566978, -0.9503353371216908 L 0.5636071113035446, -0.9446412144767314 L 0.5732037624307031, -0.938849001030137 L 0.5827408925294593, -0.9329592982408018 L 0.5922175112717155, -0.9269727176908368 L 0.6016326346128261, -0.9208898810220633 L 0.6109852848937797, -0.9147114198714625 L 0.6202744909427179, -0.908437975805587 L 0.6294992881757823, -0.90207020025394 L 0.6386587186972745, -0.8956087544413329 L 0.6477518313991247, -0.8890543093192227 L 0.656777682059653, -0.8824075454960421 L 0.6657353334416172, -0.875669153166525 L 0.6746238553895347, -0.8688398320400373 L 0.683442324926269, -0.8619202912679201 L 0.6921898263488708, -0.8549112493698514 L 0.7008654513236641, -0.8478134341592358 L 0.7094682989805666, -0.8406275826676289 L 0.7179974760066361, -0.833354441068205 L 0.7264520967388299, -0.8259947645982739 L 0.7348312832559734, -0.8185493174808588 L 0.7431341654699198, -0.81101887284534 L 0.751359881215905, -0.8034042126471713 L 0.7595075763420647, -0.7957061275866882 L 0.7675764047981405, -0.7879254170269934 L 0.7755655287233212, -0.7800628889109619 L 0.7834741185332563, -0.7721193596773346 L 0.7913013530061924, -0.7640956541759477 L 0.7990464193682503, -0.7559926055820774 L 0.8067085133778232, -0.7478110553099243 L 0.8142868394090883, -0.7395518529252414 L 0.8217806105346237, -0.7312158560571161 L 0.8291890486071227, -0.7228039303089151 L 0.8365113843401957, -0.7143169491683995 L 0.843746857388252, -0.705755793917024 L 0.8508947164254546, -0.697121353538425 L 0.8579542192237358, -0.6884145246261079 L 0.8649246327298711, -0.6796362112903475 L 0.8718052331415975, -0.6707873250643045 L 0.8785953059827736, -0.6618687848093734 L 0.8852941461775693, -0.6528815166197681 L 0.8919010581236815, -0.6438264537263575 L 0.8984153557645637, -0.6347045363997589 L 0.9048363626606661, -0.6255167118527016 L 0.911163412059677, -0.6162639341416692 L 0.9173958469657568, -0.6069471640678304 L 0.9235330202077612, -0.5975673690772707 L 0.9295742945064417, -0.5881255231605337 L 0.9355190425406209, -0.5786226067514819 L 0.941366647012333, -0.5690596066254904 L 0.9471165007109232, -0.5594375157969796 L 0.9527680065761005, -0.5497573334163027 L 0.9583205777599354, -0.5400200646659934 L 0.9637736376877981, -0.5302267206563896 L 0.9691266201182293, -0.5203783183206402 L 0.9743789692017386, -0.5104758803091068 L 0.9795301395385233, -0.5005204348831737 L 0.984579596235102, -0.49051301580847323 L 0.895072360213729, -0.4459209234622484 L 0.8904819450350211, -0.4550185771665215 L 0.8857990629106713, -0.46406898209918795 L 0.8810242001074811, -0.4730711984733092 L 0.8761578524434528, -0.4820242915058088 L 0.8712005252363049, -0.49092733151453943 L 0.8661527332510004, -0.4997793940148206 L 0.8610150006462938, -0.508579559815436 L 0.8557878609203027, -0.5173269151140821 L 0.8504718568551098, -0.5260205515922562 L 0.8450675404604014, -0.534659566509576 L 0.8395754729161464, -0.5432430627975188 L 0.8339962245143243, -0.551770149152573 L 0.8283303745997063, -0.5602399401287902 L 0.8225785115096964, -0.5686515562297287 L 0.8167412325132396, -0.5770041239997807 L 0.8108191437488013, -0.5852967761148704 L 0.8048128601614266, -0.5935286514725164 L 0.798723005438885, -0.6016988952812485 L 0.7925502119469068, -0.6098066591493677 L 0.7862951206635191, -0.6178511011730431 L 0.779958381112487, -0.6258313860237343 L 0.7735406512958677, -0.6337466850349317 L 0.7670425976256835, -0.6415961762882036 L 0.7604648948547232, -0.6493790446985449 L 0.7538082260064751, -0.6570944820990137 L 0.7470732823042033, -0.664741687324651 L 0.7402607630991711, -0.672319866295674 L 0.733371375798021, -0.6798282320999312 L 0.7264058357893184, -0.6872660050746158 L 0.7193648663692658, -0.6946324128872251 L 0.7122491986665966, -0.7019266906157586 L 0.7050595715666556, -0.7091480808281471 L 0.6977967316346732, -0.716295833660903 L 0.6904614330382406, -0.7233692068969892 L 0.6830544374690045, -0.7303674660428829 L 0.6755765140635634, -0.7372898844048545 L 0.6680284393236121, -0.744135743164417 L 0.6604109970352999, -0.7509043314529762 L 0.6527249781878509, -0.7575949464256408 L 0.6449711808914241, -0.7642068933342081 L 0.63715041029424, -0.7707394855993053 L 0.6292634784989735, -0.777192044881683 L 0.6213112044784264, -0.7835639011526546 L 0.6132944139904861, -0.7898543927636702 L 0.6052139394923792, -0.7960628665150227 L 0.59707062005423, -0.8021886777236745 L 0.5888653012719315, -0.8082311902902024 L 0.5805988351793404, -0.814189776764848 L 0.572272080159802, -0.8200638184126727 L 0.5638859008570163, -0.8258527052778063 L 0.5554411680852542, -0.8315558362467841 L 0.5469387587389328, -0.8371726191109665 L 0.5383795557015595, -0.8427024706280334 L 0.5297644477540538, -0.848144816582547 L 0.5210943294824574, -0.853499091845579 L 0.5123701011850404, -0.8587647404333921 L 0.5035926687788161, -0.8639412155651734 L 0.4947629437054703, -0.8690279797198118 L 0.48588184283671804, -0.8740245046917133 L 0.4769502883790971, -0.87893027164565 L 0.4679692077782059, -0.8837447711706352 L 0.45893953362239887, -0.8884675033328203 L 0.44986220354594697, -0.8930979777274076 L 0.4407381601316745, -0.8976357135295735 L 0.43156835081308204, -0.902080239544397 L 0.42235372777596586, -0.906431094255788 L 0.4645891005535625 ,-0.9970742036813669\", \"type\": \"path\"}, {\"fillcolor\": \"rgba(102,189,99, 0.75)\", \"layer\": \"below\", \"line\": {\"color\": \"rgba(102,189,99, 0.75)\", \"width\": 0.45}, \"path\": \"M 0.9995011518034738, -0.45934458475476736 L 1.0042734665294468, -0.4488148888182388 L 1.008934855114133, -0.4382356194284346 L 1.0134848026879608, -0.42760794510923816 L 1.0179228066904784, -0.4169330397310568 L 1.0222483769258626, -0.40621208238116163 L 1.0264610356170618, -0.39544625723345683 L 1.0305603174585705, -0.3846367534176767 L 1.0345457696678233, -0.3737847648880453 L 1.0384169520352065, -0.36289149029139844 L 1.0421734369726805, -0.35195813283478805 L 1.0458148095610105, -0.34098590015258307 L 1.049340667595594, -0.32997600417308115 L 1.0527506216308868, -0.3189296609846464 L 1.0560442950234192, -0.30784809070138724 L 1.0592213239733979, -0.2967325173283889 L 1.0622813575648868, -0.28558416862652064 L 1.0652240578045717, -0.27440427597681927 L 1.068049099659089, -0.2631940742444812 L 1.0707561710909286, -0.25195480164246614 L 1.0733449730928994, -0.24068769959473085 L 1.0758152197211563, -0.22939401259910921 L 1.0781666381267838, -0.21807498808985198 L 1.0803989685859325, -0.2067318762998428 L 1.0825119645285077, -0.19536593012250456 L 1.0845053925654033, -0.1839784049734114 L 1.0863790325142813, -0.17257055865162663 L 1.0881326774238909, -0.16114365120076798 L 1.0897661335969284, -0.1496989447698343 L 1.0912792206114306, -0.13823770347379513 L 1.092671771340704, -0.12676119325396396 L 1.093943631971784, -0.11527068173816982 L 1.0950946620224247, -0.10376743810074257 L 1.0961247343566158, -0.09225273292232733 L 1.097033735198625, -0.08072783804954267 L 1.0978215641455644, -0.0691940264545038 L 1.0984881341784816, -0.05765257209421168 L 1.099033371671971, -0.04610474976984323 L 1.0994572164023046, -0.03455183498594315 L 0.9995065603657315, -0.03141075907813013 L 0.9991212469745189, -0.04191340888167566 L 0.9986255765258923, -0.05241142917655607 L 0.9980196037686948, -0.06290366041318526 L 0.9973033956351136, -0.07338894368140242 L 0.9964770312332871, -0.08386612083847939 L 0.9955406018385679, -0.0943340346370387 L 0.9944942108834398, -0.10479152885288165 L 0.9933379739460944, -0.1152374484126945 L 0.992072018737664, -0.12567063952163193 L 0.9906964850881166, -0.13608994979075845 L 0.9892115249308099, -0.1464942283643345 L 0.9876173022857101, -0.15688232604693328 L 0.9859139932412757, -0.16725309543037398 L 0.9841017859350069, -0.17760539102045866 L 0.9821808805326658, -0.18793806936349344 L 0.980151489206167, -0.1982499891725927 L 0.978013836110142, -0.20854001145373563 L 0.9757681573571811, -0.2188069996315735 L 0.9734147009917531, -0.2290498196749692 L 0.9709537269628081, -0.23926734022225565 L 0.9683855070950652, -0.24945843270619933 L 0.965710325058988, -0.2596219714786551 L 0.9629284763394524, -0.26975683393489897 L 0.9600402682031084, -0.2798619006376247 L 0.9570460196644425, -0.28993605544058765 L 0.95394606145054, -0.29997818561189193 L 0.950740735964555, -0.3099871819568937 L 0.9474303972478914, -0.3199619389407164 L 0.9440154109410966, -0.3299013548103622 L 0.9404961542434757, -0.3398043317164048 L 0.9368730158714277, -0.3496697758342515 L 0.9331463960155106, -0.3594965974849607 L 0.9293167062962386, -0.36928371125560144 L 0.9253843697186167, -0.3790300361191425 L 0.9213498206254189, -0.38873449555385287 L 0.9172135046492117, -0.3983960176622132 L 0.9129758786631335, -0.40801353528930795 L 0.9086374107304306, -0.4175859861406976 L 0.9995011518034738 ,-0.45934458475476736\", \"type\": \"path\"}], \"showlegend\": false, \"title\": \"Pairwise epistasis between HA1 residues commonly mutated during egg-passaging\", \"width\": 800, \"xaxis\": {\"visible\": false}, \"yaxis\": {\"visible\": false}}, {\"showLink\": true, \"linkText\": \"Export to plot.ly\", \"plotlyServerURL\": \"https://plot.ly\"})});</script>"
      ]
     },
     "metadata": {},
     "output_type": "display_data"
    }
   ],
   "source": [
    "data = ideograms + ribbon_info\n",
    "layout['shapes'] = shapes\n",
    "layout['annotations'] = annotations\n",
    "fig = go.Figure(data=data, layout=layout)\n",
    "from plotly.offline import download_plotlyjs, init_notebook_mode,  iplot, plot\n",
    "init_notebook_mode(connected=True)\n",
    "iplot(fig)"
   ]
  },
  {
   "cell_type": "code",
   "execution_count": null,
   "metadata": {
    "collapsed": true
   },
   "outputs": [],
   "source": []
  },
  {
   "cell_type": "code",
   "execution_count": null,
   "metadata": {},
   "outputs": [],
   "source": []
  }
 ],
 "metadata": {
  "kernelspec": {
   "display_name": "Python [conda env:py3]",
   "language": "python",
   "name": "conda-env-py3-py"
  },
  "language_info": {
   "codemirror_mode": {
    "name": "ipython",
    "version": 3
   },
   "file_extension": ".py",
   "mimetype": "text/x-python",
   "name": "python",
   "nbconvert_exporter": "python",
   "pygments_lexer": "ipython3",
   "version": "3.6.7"
  }
 },
 "nbformat": 4,
 "nbformat_minor": 2
}
