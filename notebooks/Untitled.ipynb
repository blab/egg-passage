{
 "cells": [
  {
   "cell_type": "code",
   "execution_count": 122,
   "metadata": {},
   "outputs": [],
   "source": [
    "import pandas as pd\n",
    "import numpy as np\n",
    "import ast\n",
    "import re\n",
    "import json"
   ]
  },
  {
   "cell_type": "code",
   "execution_count": 219,
   "metadata": {},
   "outputs": [],
   "source": [
    "tree_path = '../auspice/flu_seasonal_h3n2_ha_12y_hi_tree.json'\n",
    "with open(tree_path, 'r') as tree_json:\n",
    "    tree = json.load(tree_json)"
   ]
  },
  {
   "cell_type": "code",
   "execution_count": 305,
   "metadata": {},
   "outputs": [],
   "source": [
    "leaf_paths = {}\n",
    "clock_lengths = {}\n",
    "\n",
    "def find_path(branch):\n",
    "    \n",
    "    node_path.append(branch['clade'])\n",
    "    if branch['clade'] not in clock_lengths.keys():\n",
    "        clock_lengths[str(branch['clade'])] = branch['attr']['clock_length']\n",
    "    if 'children' in branch.keys():\n",
    "        for child in branch['children']:\n",
    "            find_path(child)\n",
    "            node_path.remove(child['clade'])\n",
    "\n",
    "\n",
    "    elif 'children' not in branch.keys():\n",
    "\n",
    "        node_path_list = [str(node) for node in node_path]\n",
    "        leaf_paths[branch['strain']] = [branch['attr']['clade_membership'], node_path_list]\n",
    "\n",
    "node_path = []\n",
    "find_path(tree)\n",
    "\n",
    "df = pd.DataFrame(leaf_paths).T\n",
    "df.reset_index(inplace=True)\n",
    "df.columns = ['strain', 'clade_membership', 'path']\n",
    "df['clade'] = 'unassigned'\n"
   ]
  },
  {
   "cell_type": "code",
   "execution_count": 306,
   "metadata": {},
   "outputs": [],
   "source": [
    "#Find clades\n",
    "max_path_length=df['path'].map(len).max()\n",
    "\n",
    "current_clade = 0\n",
    "\n",
    "for internal_branch in reversed(range(0,max_path_length)):\n",
    "    exclude_assigned = df[df['clade']=='unassigned']\n",
    "    sub_df = exclude_assigned[exclude_assigned['path'].map(len) > internal_branch]\n",
    "\n",
    "    path_group= sub_df.groupby((sub_df.path.apply(lambda col: col[0:(internal_branch+1)])).map(tuple))\n",
    "    for k, v in path_group:\n",
    "        if len(v)>=100:\n",
    "            current_clade+=1\n",
    "            df.at[v.index, 'clade']=current_clade\n",
    "            \n",
    "        elif len(v)>=50:\n",
    "            if clock_lengths[str(k[-1])] >= 0.0008:\n",
    "                current_clade+=1\n",
    "                df.at[v.index, 'clade']=current_clade\n",
    "            \n",
    "        elif len(v)>=20:\n",
    "            if clock_lengths[str(k[-1])] >= 0.003:\n",
    "                current_clade+=1\n",
    "                df.at[v.index, 'clade']=current_clade"
   ]
  },
  {
   "cell_type": "code",
   "execution_count": 307,
   "metadata": {},
   "outputs": [],
   "source": [
    "df = df.set_index('strain')"
   ]
  },
  {
   "cell_type": "code",
   "execution_count": 308,
   "metadata": {},
   "outputs": [
    {
     "data": {
      "text/plain": [
       "clade       clade_membership\n",
       "1           A1b/131K             40\n",
       "2           A2/re               103\n",
       "3           A1b/135N             53\n",
       "4           A1b/135K            119\n",
       "5           A3                   75\n",
       "6           A2                   68\n",
       "            A2/re                26\n",
       "7           A1                   82\n",
       "            A1a                   4\n",
       "            A1b                  31\n",
       "8           3c2.A               119\n",
       "9           A1                   67\n",
       "10          3c3.A                44\n",
       "11          3c2.A               110\n",
       "12          3c3                  18\n",
       "            3c3.B                35\n",
       "13          A4                   29\n",
       "14          3c3.A               110\n",
       "15          3c2.A                88\n",
       "16          3c3                  89\n",
       "17          3c3                 100\n",
       "18          3c2                  81\n",
       "19          3c                   39\n",
       "            3c2                  21\n",
       "            3c3                  41\n",
       "            3c3.A                21\n",
       "20          3c                  112\n",
       "21          3b                   87\n",
       "22          unassigned          128\n",
       "23          3b                    3\n",
       "            3c                   25\n",
       "            unassigned           53\n",
       "24          unassigned           67\n",
       "25          unassigned          114\n",
       "26          unassigned           66\n",
       "27          unassigned           70\n",
       "28          unassigned           86\n",
       "29          unassigned          112\n",
       "30          unassigned           73\n",
       "31          unassigned          140\n",
       "32          unassigned           76\n",
       "33          unassigned           26\n",
       "34          unassigned           26\n",
       "35          unassigned          102\n",
       "36          unassigned           65\n",
       "unassigned  unassigned            7\n",
       "dtype: int64"
      ]
     },
     "execution_count": 308,
     "metadata": {},
     "output_type": "execute_result"
    }
   ],
   "source": [
    "df.groupby(['clade', 'clade_membership']).size()"
   ]
  },
  {
   "cell_type": "code",
   "execution_count": 270,
   "metadata": {},
   "outputs": [],
   "source": [
    "def add_clades(branch, clade_assignments):\n",
    "    if 'children' in branch.keys():\n",
    "        for child in branch['children']:\n",
    "            add_clades(child, df)\n",
    "\n",
    "    elif 'children' not in branch.keys():\n",
    "        assigned_clade = df.loc[branch['strain']]['clade']\n",
    "        branch['attr']['kk_clade'] = assigned_clade\n",
    "\n",
    "add_clades(tree, df)\n",
    "\n",
    "with open(tree_path, 'w') as outfile:\n",
    "    json.dump(tree, outfile, indent=2, sort_keys = True)\n"
   ]
  },
  {
   "cell_type": "code",
   "execution_count": null,
   "metadata": {},
   "outputs": [],
   "source": []
  }
 ],
 "metadata": {
  "kernelspec": {
   "display_name": "Python [conda env:py3]",
   "language": "python",
   "name": "conda-env-py3-py"
  },
  "language_info": {
   "codemirror_mode": {
    "name": "ipython",
    "version": 3
   },
   "file_extension": ".py",
   "mimetype": "text/x-python",
   "name": "python",
   "nbconvert_exporter": "python",
   "pygments_lexer": "ipython3",
   "version": "3.6.7"
  }
 },
 "nbformat": 4,
 "nbformat_minor": 2
}
