{
 "cells": [
  {
   "cell_type": "code",
   "execution_count": 39,
   "metadata": {},
   "outputs": [],
   "source": [
    "import json\n",
    "import pandas as pd\n",
    "import numpy as np\n",
    "from ete3 import Tree, faces, AttrFace, TreeStyle, NodeStyle, TextFace"
   ]
  },
  {
   "cell_type": "code",
   "execution_count": 51,
   "metadata": {},
   "outputs": [],
   "source": [
    "df = pd.read_csv('../dataframes/h3n2_ha_12y_hi_egg.csv')\n",
    "clade_muts = pd.read_csv('../results/kk_clades_h3n2_ha_12y_hi.csv')"
   ]
  },
  {
   "cell_type": "code",
   "execution_count": 52,
   "metadata": {},
   "outputs": [
    {
     "data": {
      "text/html": [
       "<div>\n",
       "<style scoped>\n",
       "    .dataframe tbody tr th:only-of-type {\n",
       "        vertical-align: middle;\n",
       "    }\n",
       "\n",
       "    .dataframe tbody tr th {\n",
       "        vertical-align: top;\n",
       "    }\n",
       "\n",
       "    .dataframe thead th {\n",
       "        text-align: right;\n",
       "    }\n",
       "</style>\n",
       "<table border=\"1\" class=\"dataframe\">\n",
       "  <thead>\n",
       "    <tr style=\"text-align: right;\">\n",
       "      <th></th>\n",
       "      <th>kk_clade</th>\n",
       "      <th>clade_mrca</th>\n",
       "      <th>aa_muts</th>\n",
       "      <th>nt_muts</th>\n",
       "    </tr>\n",
       "  </thead>\n",
       "  <tbody>\n",
       "    <tr>\n",
       "      <th>0</th>\n",
       "      <td>c1</td>\n",
       "      <td>NODE_0002901</td>\n",
       "      <td>{'HA1': ['E62G', 'R142G']}</td>\n",
       "      <td>['A233G', 'A472G']</td>\n",
       "    </tr>\n",
       "    <tr>\n",
       "      <th>1</th>\n",
       "      <td>c2</td>\n",
       "      <td>NODE_0002467</td>\n",
       "      <td>{'HA1': ['T131K', 'R261Q']}</td>\n",
       "      <td>['C440A', 'T441A', 'C465T', 'T705C', 'G830A', ...</td>\n",
       "    </tr>\n",
       "    <tr>\n",
       "      <th>2</th>\n",
       "      <td>c3</td>\n",
       "      <td>NODE_0002730</td>\n",
       "      <td>{'HA1': ['N121K']}</td>\n",
       "      <td>['C411A']</td>\n",
       "    </tr>\n",
       "    <tr>\n",
       "      <th>3</th>\n",
       "      <td>c4</td>\n",
       "      <td>NODE_0002664</td>\n",
       "      <td>{'HA1': ['N171K'], 'HA2': ['G155E']}</td>\n",
       "      <td>['A234G', 'T561G', 'G1269A', 'G1499A']</td>\n",
       "    </tr>\n",
       "    <tr>\n",
       "      <th>4</th>\n",
       "      <td>c5</td>\n",
       "      <td>NODE_0001875</td>\n",
       "      <td>{'HA1': ['L3I', 'S91N', 'N144K', 'F193S'], 'HA...</td>\n",
       "      <td>['A26G', 'C55A', 'T183C', 'G320A', 'G375A', 'T...</td>\n",
       "    </tr>\n",
       "  </tbody>\n",
       "</table>\n",
       "</div>"
      ],
      "text/plain": [
       "  kk_clade    clade_mrca                                            aa_muts  \\\n",
       "0       c1  NODE_0002901                         {'HA1': ['E62G', 'R142G']}   \n",
       "1       c2  NODE_0002467                        {'HA1': ['T131K', 'R261Q']}   \n",
       "2       c3  NODE_0002730                                 {'HA1': ['N121K']}   \n",
       "3       c4  NODE_0002664               {'HA1': ['N171K'], 'HA2': ['G155E']}   \n",
       "4       c5  NODE_0001875  {'HA1': ['L3I', 'S91N', 'N144K', 'F193S'], 'HA...   \n",
       "\n",
       "                                             nt_muts  \n",
       "0                                 ['A233G', 'A472G']  \n",
       "1  ['C440A', 'T441A', 'C465T', 'T705C', 'G830A', ...  \n",
       "2                                          ['C411A']  \n",
       "3             ['A234G', 'T561G', 'G1269A', 'G1499A']  \n",
       "4  ['A26G', 'C55A', 'T183C', 'G320A', 'G375A', 'T...  "
      ]
     },
     "execution_count": 52,
     "metadata": {},
     "output_type": "execute_result"
    }
   ],
   "source": [
    "clade_muts.head()"
   ]
  },
  {
   "cell_type": "code",
   "execution_count": 72,
   "metadata": {},
   "outputs": [],
   "source": []
  },
  {
   "cell_type": "code",
   "execution_count": 84,
   "metadata": {},
   "outputs": [],
   "source": [
    "def add_mut_labels(label_branch, n):\n",
    "    for k,v in clade_muts.iterrows():\n",
    "        if v['kk_clade'] == label_branch:\n",
    "            label_mut = TextFace(v['aa_muts'])\n",
    "            n.add_face(label_mut, column=0, position = \"branch-bottom\")"
   ]
  },
  {
   "cell_type": "code",
   "execution_count": 86,
   "metadata": {},
   "outputs": [
    {
     "ename": "AttributeError",
     "evalue": "'TreeNode' object has no attribute 'get_node'",
     "output_type": "error",
     "traceback": [
      "\u001b[0;31m---------------------------------------------------------------------------\u001b[0m",
      "\u001b[0;31mAttributeError\u001b[0m                            Traceback (most recent call last)",
      "\u001b[0;32m<ipython-input-86-795529355c89>\u001b[0m in \u001b[0;36m<module>\u001b[0;34m()\u001b[0m\n\u001b[1;32m     12\u001b[0m \u001b[0mn1\u001b[0m \u001b[0;34m=\u001b[0m \u001b[0mt\u001b[0m\u001b[0;34m.\u001b[0m\u001b[0mget_common_ancestor\u001b[0m\u001b[0;34m(\u001b[0m\u001b[0;34m\"c1\"\u001b[0m\u001b[0;34m,\u001b[0m \u001b[0;34m\"c3\"\u001b[0m\u001b[0;34m)\u001b[0m\u001b[0;34m\u001b[0m\u001b[0;34m\u001b[0m\u001b[0m\n\u001b[1;32m     13\u001b[0m \u001b[0madd_mut_labels\u001b[0m\u001b[0;34m(\u001b[0m\u001b[0;34m\"c3\"\u001b[0m\u001b[0;34m,\u001b[0m \u001b[0mn1\u001b[0m\u001b[0;34m)\u001b[0m\u001b[0;34m\u001b[0m\u001b[0;34m\u001b[0m\u001b[0m\n\u001b[0;32m---> 14\u001b[0;31m \u001b[0mn2\u001b[0m \u001b[0;34m=\u001b[0m \u001b[0mt\u001b[0m\u001b[0;34m.\u001b[0m\u001b[0mget_node\u001b[0m\u001b[0;34m(\u001b[0m\u001b[0;34m\"c1\"\u001b[0m\u001b[0;34m)\u001b[0m\u001b[0;34m\u001b[0m\u001b[0;34m\u001b[0m\u001b[0m\n\u001b[0m\u001b[1;32m     15\u001b[0m \u001b[0madd_mut_labels\u001b[0m\u001b[0;34m(\u001b[0m\u001b[0;34m\"c1\"\u001b[0m\u001b[0;34m,\u001b[0m \u001b[0mn2\u001b[0m\u001b[0;34m)\u001b[0m\u001b[0;34m\u001b[0m\u001b[0;34m\u001b[0m\u001b[0m\n\u001b[1;32m     16\u001b[0m \u001b[0;31m# n1.add_face(mundo, column=1, position = \"branch-bottom\")\u001b[0m\u001b[0;34m\u001b[0m\u001b[0;34m\u001b[0m\u001b[0;34m\u001b[0m\u001b[0m\n",
      "\u001b[0;31mAttributeError\u001b[0m: 'TreeNode' object has no attribute 'get_node'"
     ]
    }
   ],
   "source": [
    "t = Tree(\"((((((((((((c1, c3), c4), c2), c7), c9), ((((c5,c6),c8), c10), c11)), c12), (c13, c14)), (c15, c16)), c17), c18), unassigned);\")\n",
    "\n",
    "\n",
    "def layout(node):\n",
    "    if node.is_leaf():\n",
    "        N = AttrFace(\"name\", fsize=20)\n",
    "        faces.add_face_to_node(N, node, 0)\n",
    "  \n",
    "\n",
    "ts = TreeStyle()\n",
    "\n",
    "n1 = t.get_common_ancestor(\"c1\", \"c3\")\n",
    "add_mut_labels(\"c3\", n1)\n",
    "n2 = t.get_node(\"c1\")\n",
    "add_mut_labels(\"c1\", n2)\n",
    "# n1.add_face(mundo, column=1, position = \"branch-bottom\")\n",
    "ts.layout_fn = layout\n",
    "# ts.scale =  80 \n",
    "ts.show_leaf_name = False\n",
    "ts.tree_width = 800\n",
    "t.render(\"%%inline\", tree_style = ts)\n",
    "\n"
   ]
  },
  {
   "cell_type": "code",
   "execution_count": 30,
   "metadata": {},
   "outputs": [
    {
     "data": {
      "image/png": "[encoded data removed]",
      "text/plain": [
       "<IPython.core.display.Image object>"
      ]
     },
     "execution_count": 30,
     "metadata": {},
     "output_type": "execute_result"
    }
   ],
   "source": [
    "clade_counts_df = df.groupby('kk_clade').size().reset_index().rename(columns={0:'clade_size'})\n",
    "clade_counts = clade_counts_df.set_index('kk_clade').T.to_dict('list')\n",
    "\n",
    "style1 = NodeStyle()\n",
    "style1[\"fgcolor\"] = \"#0f0f0f\"\n",
    "style1[\"size\"] = 1\n",
    "style1[\"vt_line_color\"] = \"#ff0000\"\n",
    "style1[\"hz_line_color\"] = \"#ff0000\"\n",
    "style1[\"vt_line_width\"] = 2\n",
    "style1[\"hz_line_width\"] = 5\n",
    "style1[\"vt_line_type\"] = 0 # 0 solid, 1 dashed, 2 dotted\n",
    "style1[\"hz_line_type\"] = 0\n",
    "for l in t.iter_leaves():\n",
    "#     print(clade_counts[l.name])\n",
    "    if l.name == 'c8':\n",
    "        l.img_style = style1\n",
    "t.render(\"%%inline\")  "
   ]
  }
 ],
 "metadata": {
  "kernelspec": {
   "display_name": "Python [conda env:py3]",
   "language": "python",
   "name": "conda-env-py3-py"
  },
  "language_info": {
   "codemirror_mode": {
    "name": "ipython",
    "version": 3
   },
   "file_extension": ".py",
   "mimetype": "text/x-python",
   "name": "python",
   "nbconvert_exporter": "python",
   "pygments_lexer": "ipython3",
   "version": "3.6.7"
  }
 },
 "nbformat": 4,
 "nbformat_minor": 2
}
