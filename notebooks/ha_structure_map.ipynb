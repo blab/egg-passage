{
 "cells": [
  {
   "cell_type": "code",
   "execution_count": 1,
   "metadata": {},
   "outputs": [
    {
     "data": {
      "application/vnd.jupyter.widget-view+json": {
       "model_id": "1027072adf82424689247d7a5bb719a6",
       "version_major": 2,
       "version_minor": 0
      },
      "text/plain": [
       "_ColormakerRegistry()"
      ]
     },
     "metadata": {},
     "output_type": "display_data"
    }
   ],
   "source": [
    "from IPython.display import display, Image\n",
    "\n",
    "import pandas as pd\n",
    "\n",
    "import yaml\n",
    "import ast\n",
    "\n",
    "from dms_struct.colorschemes import ValueToColorMap\n",
    "from dms_struct.struct_widget import colored_struct"
   ]
  },
  {
   "cell_type": "code",
   "execution_count": 2,
   "metadata": {},
   "outputs": [],
   "source": [
    "df = pd.read_csv('../dataframes/h3n2_ha_12y_hi_egg.csv')\n",
    "top_muts = ['T160K', 'G186V', 'L194P', 'T203I', 'S219F', 'S219Y', 'H156Q', 'H156R', 'D225G', 'N246H', 'A138S']"
   ]
  },
  {
   "cell_type": "code",
   "execution_count": 82,
   "metadata": {},
   "outputs": [],
   "source": [
    "#Determine prevalence of each mutation\n",
    "#pdb_chain A is HA1\n",
    "all_egg_muts = []\n",
    "top_egg_muts = []\n",
    "\n",
    "\n",
    "for egg_muts in df['egg_muts']:\n",
    "    for egg_mut in ast.literal_eval(egg_muts):\n",
    "        all_egg_muts.append(egg_mut)\n",
    "        if egg_mut in top_muts:\n",
    "            top_egg_muts.append(egg_mut)\n",
    "            \n",
    "all_muts_count = dict(zip(list(all_egg_muts),[list(all_egg_muts).count(i) for i in list(all_egg_muts)]))\n",
    "top_muts_count = dict(zip(list(top_egg_muts),[list(top_egg_muts).count(i) for i in list(top_egg_muts)]))\n",
    "\n",
    "all_muts_df = pd.DataFrame(list(all_muts_count.items()), columns=['mutation','count'])\n",
    "all_muts_df['site'] = all_muts_df['mutation'].str[1:-1]\n",
    "all_muts_df['freq'] = all_muts_df['count']/len(df)\n",
    "all_muts_df['pdb_chain'] = 'A'\n",
    "all_sites_df = all_muts_df.groupby('site').sum().reset_index()\n",
    "all_sites_df['pdb_chain'] = 'A'\n",
    "\n",
    "top_muts_df = pd.DataFrame(list(top_muts_count.items()), columns=['mutation','count'])\n",
    "top_muts_df['site'] = top_muts_df['mutation'].str[1:-1]\n",
    "top_muts_df['freq'] = top_muts_df['count']/len(df)\n",
    "top_muts_df['pdb_chain'] = 'A'\n",
    "top_sites_df = top_muts_df.groupby('site').sum().reset_index()\n",
    "top_sites_df['pdb_chain'] = 'A'\n",
    "top_sites_df['zoom_site'] = True"
   ]
  },
  {
   "cell_type": "code",
   "execution_count": 83,
   "metadata": {},
   "outputs": [
    {
     "data": {
      "image/png": "[encoded data removed]",
      "text/plain": [
       "<Figure size 252x28.8 with 1 Axes>"
      ]
     },
     "metadata": {
      "needs_background": "light"
     },
     "output_type": "display_data"
    }
   ],
   "source": [
    "#Make color bar for frequency of mutation\n",
    "colormapper = ValueToColorMap(top_sites_df['freq'].min(),\n",
    "                              top_sites_df['freq'].max())\n",
    "\n",
    "_ = colormapper.scale_bar(label='frequency of mutation', orientation='horizontal')"
   ]
  },
  {
   "cell_type": "code",
   "execution_count": 84,
   "metadata": {},
   "outputs": [],
   "source": [
    "#Add color hex code to dataframe\n",
    "top_sites_df = top_sites_df.assign(color=lambda x: (x['freq']\n",
    "                                          .apply(colormapper.val_to_color)\n",
    "                                          )\n",
    "                         )"
   ]
  },
  {
   "cell_type": "code",
   "execution_count": 85,
   "metadata": {},
   "outputs": [
    {
     "name": "stderr",
     "output_type": "stream",
     "text": [
      "/Users/katekistler/anaconda3/envs/nextstrain/lib/python3.6/site-packages/ipykernel_launcher.py:7: FutureWarning: Sorting because non-concatenation axis is not aligned. A future version\n",
      "of pandas will change to not sort by default.\n",
      "\n",
      "To accept the future behavior, pass 'sort=False'.\n",
      "\n",
      "To retain the current behavior and silence the warning, pass 'sort=True'.\n",
      "\n",
      "  import sys\n"
     ]
    }
   ],
   "source": [
    "#Sites are invisible if not in the dataframe, so make all other positions gray, and no zoom\n",
    "grey_sites = []\n",
    "for pos in range(1,324):\n",
    "    if pos not in list((top_sites_df['site'].astype(int))):\n",
    "        grey_sites.append({'site':str(pos), 'pdb_chain':'A', 'count':0, 'freq':0.0, 'zoom_site':False, 'color':'gray'})\n",
    "grey_sites_df = pd.DataFrame(grey_sites)\n",
    "map_df = pd.concat([top_sites_df, grey_sites_df], axis=0)"
   ]
  },
  {
   "cell_type": "code",
   "execution_count": 86,
   "metadata": {},
   "outputs": [],
   "source": [
    "with open('pdb_orientations.yaml') as f:\n",
    "    orientation = yaml.safe_load(f)['4o5n']"
   ]
  },
  {
   "cell_type": "code",
   "execution_count": 116,
   "metadata": {},
   "outputs": [
    {
     "data": {
      "application/vnd.jupyter.widget-view+json": {
       "model_id": "382de3f7d487428b8c7d73fb9120bfb9",
       "version_major": 2,
       "version_minor": 0
      },
      "text/plain": [
       "NGLWidget()"
      ]
     },
     "metadata": {},
     "output_type": "display_data"
    }
   ],
   "source": [
    "w_cartoon = colored_struct(\n",
    "                pdb='4o5n',\n",
    "                prop_df=map_df,\n",
    "                chain_col='pdb_chain',\n",
    "                site_col='site',\n",
    "                highlight_col='zoom_site',\n",
    "#                 representation=['surface', 'spacefill'],\n",
    "                orientation=orientation,\n",
    "                )\n",
    "w_cartoon"
   ]
  },
  {
   "cell_type": "code",
   "execution_count": 118,
   "metadata": {},
   "outputs": [
    {
     "data": {
      "application/vnd.jupyter.widget-view+json": {
       "model_id": "ec8d270fc426490aa4ab56b2f640a1f4",
       "version_major": 2,
       "version_minor": 0
      },
      "text/plain": [
       "Image(value=b'', width='99%')"
      ]
     },
     "metadata": {},
     "output_type": "display_data"
    },
    {
     "data": {
      "image/png": "\n",
      "text/plain": [
       "<IPython.core.display.Image object>"
      ]
     },
     "metadata": {},
     "output_type": "display_data"
    }
   ],
   "source": [
    "#take static image\n",
    "image = w_cartoon.render_image(trim=True, factor=3)\n",
    "display(image)\n",
    "\n",
    "#Save static image\n",
    "with open('top_muts_mapped.png', 'wb') as f:\n",
    "    f.write(image.value)\n",
    "        \n",
    "display(Image('top_muts_mapped.png'))"
   ]
  },
  {
   "cell_type": "code",
   "execution_count": 114,
   "metadata": {},
   "outputs": [],
   "source": [
    "def map_ha_muts(df): \n",
    "    #Make color bar for frequency of mutation\n",
    "    colormapper = ValueToColorMap(df['freq'].min(),\n",
    "                                  df['freq'].max())\n",
    "\n",
    "    _ = colormapper.scale_bar(label='frequency of mutation', orientation='horizontal')\n",
    "\n",
    "    #Add color hex code to dataframe\n",
    "    df = df.assign(color=lambda x: (x['freq'].apply(colormapper.val_to_color)))\n",
    "    \n",
    "    #Sites are invisible if not in the dataframe, so make all other positions gray, and no zoom\n",
    "    grey_sites = []\n",
    "    for pos in range(1,324):\n",
    "        if pos not in list((df['site'].astype(int))):\n",
    "            grey_sites.append({'site':str(pos), 'pdb_chain':'A', 'count':0, 'freq':0.0, 'zoom_site':False, 'color':'gray'})\n",
    "    grey_sites_df = pd.DataFrame(grey_sites)\n",
    "    map_df = pd.concat([df, grey_sites_df], axis=0, sort=True)\n",
    "\n",
    "    #Open HA structure file\n",
    "    with open('pdb_orientations.yaml') as f:\n",
    "        orientation = yaml.safe_load(f)['4o5n']\n",
    "\n",
    "    #Make cartoon \n",
    "    ha_cartoon = colored_struct(\n",
    "                    pdb='4o5n',\n",
    "                    prop_df=map_df,\n",
    "                    chain_col='pdb_chain',\n",
    "                    site_col='site',\n",
    "                    highlight_col='zoom_site',\n",
    "#                     representation=['surface', 'spacefill'],\n",
    "                    orientation=orientation,\n",
    "                    )\n",
    "    ha_cartoon\n",
    "    return(ha_cartoon)\n",
    "    "
   ]
  },
  {
   "cell_type": "code",
   "execution_count": 115,
   "metadata": {},
   "outputs": [
    {
     "data": {
      "application/vnd.jupyter.widget-view+json": {
       "model_id": "dacf9f91b42d4db6a638e8e7dca67fb9",
       "version_major": 2,
       "version_minor": 0
      },
      "text/plain": [
       "NGLWidget()"
      ]
     },
     "metadata": {},
     "output_type": "display_data"
    },
    {
     "data": {
      "image/png": "[encoded data removed]",
      "text/plain": [
       "<Figure size 252x28.8 with 1 Axes>"
      ]
     },
     "metadata": {
      "needs_background": "light"
     },
     "output_type": "display_data"
    }
   ],
   "source": [
    "map_ha_muts(top_sites_df)"
   ]
  }
 ],
 "metadata": {
  "kernelspec": {
   "display_name": "Python 3",
   "language": "python",
   "name": "python3"
  },
  "language_info": {
   "codemirror_mode": {
    "name": "ipython",
    "version": 3
   },
   "file_extension": ".py",
   "mimetype": "text/x-python",
   "name": "python",
   "nbconvert_exporter": "python",
   "pygments_lexer": "ipython3",
   "version": "3.6.9"
  }
 },
 "nbformat": 4,
 "nbformat_minor": 2
}
