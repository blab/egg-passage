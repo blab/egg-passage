{
 "cells": [
  {
   "cell_type": "code",
   "execution_count": 350,
   "metadata": {},
   "outputs": [],
   "source": [
    "import plotly.plotly as py\n",
    "import plotly.figure_factory as ff\n",
    "import plotly.graph_objs as go\n",
    "import numpy as np\n",
    "import pandas as pd\n",
    "import itertools"
   ]
  },
  {
   "cell_type": "code",
   "execution_count": 351,
   "metadata": {},
   "outputs": [],
   "source": [
    "df = pd.read_csv('../egg_passage/data/h3n2_12y_hi_egg_df.csv')\n"
   ]
  },
  {
   "cell_type": "code",
   "execution_count": 352,
   "metadata": {},
   "outputs": [
    {
     "name": "stdout",
     "output_type": "stream",
     "text": [
      "[[ 82   0  13  22  80   0  26   1]\n",
      " [  0  98  11   0  91  16   2   6]\n",
      " [ 13  11  52   7  52   1   2   5]\n",
      " [ 22   0   7  28  27   0   3   2]\n",
      " [ 80  91  52  27 286  14  29  13]\n",
      " [  0  16   1   0  14  16   1   0]\n",
      " [ 26   2   2   3  29   1  29   0]\n",
      " [  1   6   5   2  13   0   0  15]]\n"
     ]
    }
   ],
   "source": [
    "sites = ['186','194','138','156','160','203','219','225']\n",
    "egg_muts = {'160':['K'], '194': ['P'], \n",
    "            '186':['V'], '225':['G'], '219':['F','Y'], \n",
    "            '203':['I'], '156':['R','Q'], '138':['S'], \n",
    "            '246':['H'], '183':['L']}\n",
    "matrix = np.zeros((len(sites), len(sites)), dtype=int)\n",
    "for site_a in sites:\n",
    "    for site_b in sites:\n",
    "        both_muts = 0\n",
    "        for egg_genotype_a in egg_muts[site_a]:\n",
    "            for egg_genotype_b in egg_muts[site_b]:\n",
    "                both_muts+= len(df[(df[site_a]==egg_genotype_a)&(df[site_b]==egg_genotype_b)])\n",
    "        matrix[sites.index(site_a)][sites.index(site_b)] = both_muts\n",
    "print(matrix)"
   ]
  },
  {
   "cell_type": "code",
   "execution_count": 353,
   "metadata": {},
   "outputs": [],
   "source": [
    "labels = ['186 V','194 P','138 S','156 R/Q','160 K','203 I','219 F/Y','225 G']\n",
    "ideo_colors = ['rgba(26,152,80, 0.75)',\n",
    "               'rgba(215,48,39, 0.75)',\n",
    "             'rgba(244,109,67, 0.75)',\n",
    "             'rgba(253,174,97, 0.75)',\n",
    "             'rgba(254,224,139, 0.75)',\n",
    "             'rgba(217,239,139, 0.75)',\n",
    "             'rgba(166,217,106, 0.75)',\n",
    "             'rgba(102,189,99, 0.75)']"
   ]
  },
  {
   "cell_type": "code",
   "execution_count": 354,
   "metadata": {},
   "outputs": [],
   "source": [
    "def check_data(data_matrix):\n",
    "    L, M=data_matrix.shape\n",
    "    if L!=M:\n",
    "        raise ValueError('Data array must have (n,n) shape')\n",
    "    return L\n",
    "\n",
    "L=check_data(matrix)"
   ]
  },
  {
   "cell_type": "code",
   "execution_count": 355,
   "metadata": {},
   "outputs": [],
   "source": [
    "radii_sribb=[0.4, 0.4, 0.4, 0.4, 0.4, 0.5, 0.5, 0.5, 0.5, 0.5, 0.5]# these value are set after a few trials "
   ]
  },
  {
   "cell_type": "code",
   "execution_count": 356,
   "metadata": {},
   "outputs": [],
   "source": [
    "def moduloAB(x, a, b): #maps a real number onto the unit circle identified with \n",
    "                       #the interval [a,b), b-a=2*PI\n",
    "        if a>= b:\n",
    "            raise ValueError('Incorrect interval ends')\n",
    "        y = (x-a) % (b-a)\n",
    "        return y+b if y < 0 else y+a"
   ]
  },
  {
   "cell_type": "code",
   "execution_count": 357,
   "metadata": {},
   "outputs": [],
   "source": [
    "def test_2PI(x):\n",
    "    return True\n",
    "#      return 0 <= x < 2*pi"
   ]
  },
  {
   "cell_type": "code",
   "execution_count": 358,
   "metadata": {},
   "outputs": [],
   "source": [
    "pi = np.pi\n",
    "\n",
    "row_sum = [np.sum(matrix[k,:]) for k in range(L)]\n",
    "\n",
    "#set the gap between two consecutive ideograms\n",
    "gap = 2*pi*0.005\n",
    "ideogram_length = 2*pi * np.asarray(row_sum) / sum(row_sum) - gap*np.ones(L)"
   ]
  },
  {
   "cell_type": "code",
   "execution_count": 359,
   "metadata": {},
   "outputs": [],
   "source": [
    "def get_ideogram_ends(ideogram_len, gap):\n",
    "    ideo_ends = []\n",
    "    left = 0\n",
    "    for k in range(len(ideogram_len)):\n",
    "        right = left + ideogram_len[k]\n",
    "        ideo_ends.append([left, right])   \n",
    "        left = right + gap\n",
    "    return ideo_ends "
   ]
  },
  {
   "cell_type": "code",
   "execution_count": 360,
   "metadata": {},
   "outputs": [],
   "source": [
    "ideo_ends = get_ideogram_ends(ideogram_length, gap)"
   ]
  },
  {
   "cell_type": "code",
   "execution_count": 361,
   "metadata": {},
   "outputs": [],
   "source": [
    "def make_ideogram_arc(R, phi, a=100):\n",
    "    # R is the circle radius\n",
    "    # phi is the list of  angle coordinates of an arc ends\n",
    "    # a is a parameter that controls the number of points to be evaluated on an arc\n",
    "    if not test_2PI(phi[0]) or not test_2PI(phi[1]):\n",
    "        phi = [moduloAB(t, 0, 2*pi) for t in phi]\n",
    "    length = (phi[1]-phi[0]) % 2*pi \n",
    "    nr = 18 if length <= pi/4 else int(a*length/pi)\n",
    "\n",
    "    if phi[0] < phi[1]:   \n",
    "        theta = np.linspace(phi[0], phi[1], nr)\n",
    "    else:\n",
    "        phi = [moduloAB(t, -pi, pi) for t in phi]\n",
    "        theta = np.linspace(phi[0], phi[1], nr)\n",
    "    return R * np.exp(1j*theta)  "
   ]
  },
  {
   "cell_type": "code",
   "execution_count": 362,
   "metadata": {},
   "outputs": [
    {
     "data": {
      "text/plain": [
       "array([1.12583302-0.65j      , 1.13689513-0.6304518j ,\n",
       "       1.14761784-0.61071539j, 1.15799797-0.59079667j,\n",
       "       1.16803241-0.57070158j, 1.17771816-0.55043613j,\n",
       "       1.18705234-0.53000636j, 1.19603216-0.50941837j,\n",
       "       1.20465494-0.48867831j, 1.21291809-0.46779236j,\n",
       "       1.22081917-0.44676677j, 1.22835581-0.42560781j,\n",
       "       1.23552575-0.4043218j , 1.24232686-0.38291509j,\n",
       "       1.24875711-0.36139407j, 1.25481458-0.33976517j,\n",
       "       1.26049746-0.31803483j, 1.26580405-0.29620956j,\n",
       "       1.27073277-0.27429586j, 1.27528215-0.25230028j,\n",
       "       1.27945083-0.23022939j, 1.28323757-0.20808976j,\n",
       "       1.28664123-0.18588801j, 1.2896608 -0.16363078j,\n",
       "       1.29229537-0.14132469j, 1.29454417-0.11897642j,\n",
       "       1.29640652-0.09659263j, 1.29788186-0.07418j   ,\n",
       "       1.29896976-0.05174523j, 1.29966988-0.02929501j,\n",
       "       1.29998203-0.00683605j, 1.2999061 +0.01562495j,\n",
       "       1.29944212+0.03808129j, 1.29859022+0.06052626j,\n",
       "       1.29735067+0.08295316j, 1.29572384+0.1053553j ,\n",
       "       1.2937102 +0.12772599j, 1.29131035+0.15005855j,\n",
       "       1.28852503+0.17234631j, 1.28535505+0.19458263j,\n",
       "       1.28180136+0.21676085j, 1.27786503+0.23887437j])"
      ]
     },
     "execution_count": 362,
     "metadata": {},
     "output_type": "execute_result"
    }
   ],
   "source": [
    "make_ideogram_arc(1.3, [11*pi/6, pi/17])"
   ]
  },
  {
   "cell_type": "code",
   "execution_count": 363,
   "metadata": {},
   "outputs": [],
   "source": [
    "def map_data(data_matrix, row_value, ideogram_length):\n",
    "    mapped = np.zeros(data_matrix.shape)\n",
    "    for j  in range(L):\n",
    "        mapped[:, j] = ideogram_length * data_matrix[:,j] / row_value\n",
    "    return mapped  "
   ]
  },
  {
   "cell_type": "code",
   "execution_count": 364,
   "metadata": {},
   "outputs": [
    {
     "data": {
      "text/plain": [
       "array([[0.34284698, 0.        , 0.05435379, 0.09198334, 0.33448486,\n",
       "        0.        , 0.10870758, 0.00418106],\n",
       "       [0.        , 0.40974395, 0.04599167, 0.        , 0.38047653,\n",
       "        0.06689697, 0.00836212, 0.02508636],\n",
       "       [0.05332104, 0.0451178 , 0.21328417, 0.02871133, 0.21328417,\n",
       "        0.00410162, 0.00820324, 0.02050809],\n",
       "       [0.08730309, 0.        , 0.02777826, 0.11111303, 0.10714471,\n",
       "        0.        , 0.01190497, 0.00793664],\n",
       "       [0.34145944, 0.38841011, 0.22194863, 0.11524256, 1.22071748,\n",
       "        0.0597554 , 0.12377905, 0.05548716],\n",
       "       [0.        , 0.05866899, 0.00366681, 0.        , 0.05133537,\n",
       "        0.05866899, 0.00366681, 0.        ],\n",
       "       [0.10347566, 0.00795967, 0.00795967, 0.0119395 , 0.11541515,\n",
       "        0.00397983, 0.11541515, 0.        ],\n",
       "       [0.00357331, 0.02143987, 0.01786656, 0.00714662, 0.04645306,\n",
       "        0.        , 0.        , 0.05359968]])"
      ]
     },
     "execution_count": 364,
     "metadata": {},
     "output_type": "execute_result"
    }
   ],
   "source": [
    "mapped_data = map_data(matrix, row_sum, ideogram_length)\n",
    "mapped_data"
   ]
  },
  {
   "cell_type": "code",
   "execution_count": 365,
   "metadata": {},
   "outputs": [
    {
     "data": {
      "text/plain": [
       "array([[1, 5, 7, 2, 3, 6, 4, 0],\n",
       "       [0, 3, 6, 7, 2, 5, 4, 1],\n",
       "       [5, 6, 7, 3, 1, 0, 2, 4],\n",
       "       [1, 5, 7, 6, 2, 0, 4, 3],\n",
       "       [7, 5, 3, 6, 2, 0, 1, 4],\n",
       "       [0, 3, 7, 2, 6, 4, 1, 5],\n",
       "       [7, 5, 1, 2, 3, 0, 4, 6],\n",
       "       [5, 6, 0, 3, 2, 1, 4, 7]])"
      ]
     },
     "execution_count": 365,
     "metadata": {},
     "output_type": "execute_result"
    }
   ],
   "source": [
    "idx_sort = np.argsort(mapped_data, axis=1)\n",
    "idx_sort"
   ]
  },
  {
   "cell_type": "code",
   "execution_count": 366,
   "metadata": {},
   "outputs": [],
   "source": [
    "def make_ribbon_ends(mapped_data, ideo_ends,  idx_sort):\n",
    "    L = mapped_data.shape[0]\n",
    "    ribbon_boundary = np.zeros((L,L+1))\n",
    "    for k in range(L):\n",
    "        start = ideo_ends[k][0]\n",
    "        ribbon_boundary[k][0] = start\n",
    "        for j in range(1,L+1):\n",
    "            J = idx_sort[k][j-1]\n",
    "            ribbon_boundary[k][j] = start + mapped_data[k][J]\n",
    "            start = ribbon_boundary[k][j]\n",
    "    return [[(ribbon_boundary[k][j], ribbon_boundary[k][j+1] ) for j in range(L)] for k in range(L)] "
   ]
  },
  {
   "cell_type": "code",
   "execution_count": 367,
   "metadata": {},
   "outputs": [
    {
     "name": "stdout",
     "output_type": "stream",
     "text": [
      "ribbon ends starting from the ideogram[2]\n",
      " [(1.9359470547568465, 1.9400486733529714), (1.9400486733529714, 1.9482519105452212), (1.9482519105452212, 1.9687600035258457), (1.9687600035258457, 1.9974713336987202), (1.9974713336987202, 2.042589138256094), (2.042589138256094, 2.095910180005718), (2.095910180005718, 2.3091943470042136), (2.3091943470042136, 2.5224785140027093)]\n"
     ]
    }
   ],
   "source": [
    "ribbon_ends = make_ribbon_ends(mapped_data, ideo_ends,  idx_sort)\n",
    "print ('ribbon ends starting from the ideogram[2]\\n', ribbon_ends[2])"
   ]
  },
  {
   "cell_type": "code",
   "execution_count": 368,
   "metadata": {},
   "outputs": [],
   "source": [
    "def control_pts(angle, radius):\n",
    "    #angle is a  3-list containing angular coordinates of the control points b0, b1, b2\n",
    "    #radius is the distance from b1 to the  origin O(0,0) \n",
    "\n",
    "    if len(angle) != 3:\n",
    "        raise InvalidInputError('angle must have len =3')\n",
    "    b_cplx = np.array([np.exp(1j*angle[k]) for k in range(3)])\n",
    "    b_cplx[1] = radius * b_cplx[1]\n",
    "    return list(zip(b_cplx.real, b_cplx.imag))"
   ]
  },
  {
   "cell_type": "code",
   "execution_count": 369,
   "metadata": {},
   "outputs": [],
   "source": [
    "def ctrl_rib_chords(l, r, radius):\n",
    "    # this function returns a 2-list containing control poligons of the two quadratic Bezier\n",
    "    #curves that are opposite sides in a ribbon\n",
    "    #l (r) the list of angular variables of the ribbon arc ends defining \n",
    "    #the ribbon starting (ending) arc \n",
    "    # radius is a common parameter for both control polygons\n",
    "    if len(l) != 2 or len(r) != 2:\n",
    "        raise ValueError('the arc ends must be elements in a list of len 2')\n",
    "    return [control_pts([l[j], (l[j]+r[j])/2, r[j]], radius) for j in range(2)]"
   ]
  },
  {
   "cell_type": "code",
   "execution_count": 370,
   "metadata": {},
   "outputs": [],
   "source": [
    "#Define ribbon color\n",
    "ribbon_color = [L * ['rgba(175,175,175,0.5)'] for k in range(L)]"
   ]
  },
  {
   "cell_type": "code",
   "execution_count": 371,
   "metadata": {},
   "outputs": [],
   "source": [
    "#Change 186 and 194 ribbon colors\n",
    "for k_186 in range(len(ribbon_color[0])):\n",
    "    ribbon_color[0][k_186] = ideo_colors[0]\n",
    "for k_194 in range(len(ribbon_color[1])):\n",
    "    ribbon_color[1][k_194] = ideo_colors[1]\n"
   ]
  },
  {
   "cell_type": "code",
   "execution_count": 372,
   "metadata": {},
   "outputs": [],
   "source": [
    "def make_q_bezier(b):# defines the Plotly SVG path for a quadratic Bezier curve defined by the \n",
    "                     #list of its control points\n",
    "    if len(b) != 3:\n",
    "        raise valueError('control poligon must have 3 points')\n",
    "    A, B, C = b    \n",
    "    return f'M {A[0]}, {A[1]} Q {B[0]}, {B[1]} {C[0]}, {C[1]}'"
   ]
  },
  {
   "cell_type": "code",
   "execution_count": 373,
   "metadata": {},
   "outputs": [
    {
     "data": {
      "text/plain": [
       "'M 1, 4 Q -0.5, 2.35 3.745, 1.47'"
      ]
     },
     "execution_count": 373,
     "metadata": {},
     "output_type": "execute_result"
    }
   ],
   "source": [
    "b=[(1,4), (-0.5, 2.35), (3.745, 1.47)]\n",
    "make_q_bezier(b)"
   ]
  },
  {
   "cell_type": "code",
   "execution_count": 374,
   "metadata": {},
   "outputs": [],
   "source": [
    "def make_ribbon_arc(theta0, theta1):\n",
    "\n",
    "    if test_2PI(theta0) and test_2PI(theta1):\n",
    "        if theta0 < theta1:\n",
    "            theta0 = moduloAB(theta0, -pi, pi)\n",
    "            theta1 = moduloAB(theta1, -pi, pi)\n",
    "            if theta0  *theta1 > 0:\n",
    "                raise ValueError('incorrect angle coordinates for ribbon')\n",
    "    \n",
    "        nr = int(40 * (theta0 - theta1) / pi)\n",
    "        if nr <= 2: nr = 3\n",
    "        theta = np.linspace(theta0, theta1, nr)\n",
    "        pts=np.exp(1j*theta)# points in polar complex form, on the given arc\n",
    "    \n",
    "        string_arc = ''\n",
    "        for k in range(len(theta)):\n",
    "            string_arc += f'L {pts.real[k]}, {pts.imag[k]} '\n",
    "        return   string_arc \n",
    "    else:\n",
    "        raise ValueError('the angle coordinates for an arc side of a ribbon must be in [0, 2*pi]')"
   ]
  },
  {
   "cell_type": "code",
   "execution_count": 375,
   "metadata": {},
   "outputs": [
    {
     "data": {
      "text/plain": [
       "'L 0.5000000000000001, 0.8660254037844386 L 0.5877852522924732, 0.8090169943749473 L 0.6691306063588583, 0.7431448254773941 L 0.7431448254773942, 0.6691306063588581 L 0.8090169943749475, 0.5877852522924731 L 0.8660254037844387, 0.49999999999999994 '"
      ]
     },
     "execution_count": 375,
     "metadata": {},
     "output_type": "execute_result"
    }
   ],
   "source": [
    "make_ribbon_arc(np.pi/3, np.pi/6)"
   ]
  },
  {
   "cell_type": "code",
   "execution_count": 376,
   "metadata": {},
   "outputs": [],
   "source": [
    "def make_layout(title, plot_size):\n",
    "\n",
    "    return dict(title=title,\n",
    "                xaxis=dict(visible=False),\n",
    "                yaxis=dict(visible=False),\n",
    "                showlegend=False,\n",
    "                width=plot_size,\n",
    "                height=plot_size,\n",
    "                margin=dict(t=25, b=25, l=25, r=25),\n",
    "                hovermode=False,\n",
    "                 )  "
   ]
  },
  {
   "cell_type": "code",
   "execution_count": 377,
   "metadata": {},
   "outputs": [],
   "source": [
    "def make_ideo_shape(path, line_color, fill_color):\n",
    "    #line_color is the color of the shape boundary\n",
    "    #fill_color is the color assigned to an ideogram\n",
    "    \n",
    "    return  dict(line=dict(color=line_color, \n",
    "                           width=0.45),\n",
    "                 path=path,\n",
    "                 layer='below',\n",
    "                 type='path',\n",
    "                 fillcolor=fill_color)   "
   ]
  },
  {
   "cell_type": "code",
   "execution_count": 378,
   "metadata": {},
   "outputs": [],
   "source": [
    "def make_ribbon(l, r, line_color, fill_color, radius=0.2):\n",
    "    #l=[l[0], l[1]], r=[r[0], r[1]]  represent the opposite arcs in the ribbon \n",
    "    #line_color is the color of the shape boundary\n",
    "    #fill_color is the fill color for the ribbon shape\n",
    "    \n",
    "    poligon = ctrl_rib_chords(l,r, radius)\n",
    "    b, c = poligon  \n",
    "           \n",
    "    return  dict(line=dict(color=line_color, \n",
    "                             width=0.5),\n",
    "                 path=make_q_bezier(b) + make_ribbon_arc(r[0], r[1])+\n",
    "                         make_q_bezier(c[::-1]) + make_ribbon_arc(l[1], l[0]),\n",
    "                 type='path',\n",
    "                 layer='below',\n",
    "                 fillcolor = fill_color,    \n",
    "        )\n",
    "\n",
    "def make_self_rel(l, line_color, fill_color, radius):\n",
    "    #radius is the radius of Bezier control point b_1\n",
    "    \n",
    "    b = control_pts([l[0], (l[0]+l[1])/2, l[1]], radius) \n",
    "    \n",
    "    return  dict(line = dict(color=line_color, \n",
    "                             width=0.5),\n",
    "                 path =  make_q_bezier(b)+make_ribbon_arc(l[1], l[0]),\n",
    "                 type = 'path',\n",
    "                 layer = 'below',\n",
    "                 fillcolor = fill_color   \n",
    "                )"
   ]
  },
  {
   "cell_type": "code",
   "execution_count": 379,
   "metadata": {},
   "outputs": [],
   "source": [
    "def invPerm(perm):\n",
    "    # function that returns the inverse of a permutation, perm\n",
    "    inv = [0] * len(perm)\n",
    "    for i, s in enumerate(perm):\n",
    "        inv[s] = i\n",
    "    return inv"
   ]
  },
  {
   "cell_type": "code",
   "execution_count": 380,
   "metadata": {},
   "outputs": [],
   "source": [
    "layout=make_layout('Pairwise interactions between common egg mutation genotypes', 800)   "
   ]
  },
  {
   "cell_type": "code",
   "execution_count": 381,
   "metadata": {},
   "outputs": [],
   "source": [
    "ribbon_info=[]\n",
    "shapes=[]\n",
    "annotations = []\n",
    "for k in range(L):\n",
    "    \n",
    "    sigma = idx_sort[k]\n",
    "    sigma_inv = invPerm(sigma)\n",
    "    for j in range(k, L):\n",
    "        if matrix[k][j] == 0 and matrix[j][k]==0: continue\n",
    "        eta = idx_sort[j]\n",
    "        eta_inv = invPerm(eta)\n",
    "        l = ribbon_ends[k][sigma_inv[j]]  \n",
    "        \n",
    "        if j == k:\n",
    "            shapes.append(make_self_rel(l, 'rgba(175,175,175,0.5)',\n",
    "                                        'rgba(175,175,175,0.5)', radius=radii_sribb[k])) \n",
    "#             shapes.append(make_self_rel(l, ideo_colors[k] ,\n",
    "#                         ideo_colors[k], radius=radii_sribb[k])) \n",
    "\n",
    "            z = 0.9*np.exp(1j*(l[0]+l[1])/2)\n",
    "            \n",
    "\n",
    "            ribbon_info.append(go.Scatter(x=[z.real],\n",
    "                                       y=[z.imag],\n",
    "                                       mode='markers',\n",
    "                                       marker=dict(size=0.5, color=ideo_colors[k])\n",
    "                                       )\n",
    "                              )\n",
    "        else:\n",
    "            r = ribbon_ends[j][eta_inv[k]]\n",
    "            zi = 0.9 * np.exp(1j*(l[0]+l[1])/2)\n",
    "            zf = 0.9 * np.exp(1j*(r[0]+r[1])/2)\n",
    "            #texti and textf are the strings that will be displayed when hovering the mouse \n",
    "            #over the two ribbon ends\n",
    "            texti = f'{labels[k]}'\n",
    "            textf = f'{labels[j]}'\n",
    "            \n",
    "            ribbon_info.append(go.Scatter(x=[zi.real],\n",
    "                                          y=[zi.imag],\n",
    "                                          mode='markers',\n",
    "                                          marker=dict(size=0.5, color=ribbon_color[k][j]),\n",
    "                                          text=texti\n",
    "                                       )\n",
    "                              ),\n",
    "            ribbon_info.append(go.Scatter(x=[zf.real],\n",
    "                                          y=[zf.imag],\n",
    "                                          mode='markers',\n",
    "                                          marker=dict(size=0.5, color=ribbon_color[k][j]),\n",
    "                                          text=textf\n",
    "                                       )\n",
    "                              )\n",
    "            r = (r[1], r[0]) # IMPORTANT!!!  Reverse these arc ends because otherwise you get\n",
    "                          # a twisted ribbon\n",
    "            #append the ribbon shape\n",
    "            shapes.append(make_ribbon(l, r, ribbon_color[k][j] , ribbon_color[k][j]))\n",
    "           \n",
    "                                    "
   ]
  },
  {
   "cell_type": "code",
   "execution_count": 382,
   "metadata": {},
   "outputs": [],
   "source": [
    "ideograms = []\n",
    "for k in range(len(ideo_ends)):\n",
    "    z =  make_ideogram_arc(1.1, ideo_ends[k])\n",
    "    zi = make_ideogram_arc(1.0, ideo_ends[k])\n",
    "    m = len(z)\n",
    "    n = len(zi)\n",
    "    ideograms.append(go.Scatter(x=z.real,\n",
    "                                y=z.imag,\n",
    "                                mode='lines',\n",
    "                                line=dict(color=ideo_colors[k], shape='spline', width=0.25)\n",
    "#                                 text=f'{labels[k]} <br>{int(row_sum[k])} viruses'\n",
    "                             )\n",
    "                     )\n",
    "    \n",
    "       \n",
    "    path = 'M '\n",
    "    for s in range(m):\n",
    "        path += f'{z.real[s]}, {z.imag[s]} L '\n",
    "        \n",
    "    Zi = np.array(zi.tolist()[::-1]) \n",
    "\n",
    "    for s in range(m):\n",
    "        path += f'{Zi.real[s]}, {Zi.imag[s]} L '\n",
    "    path += f'{z.real[0]} ,{z.imag[0]}' \n",
    "   \n",
    "    shapes.append(make_ideo_shape(path,ideo_colors[k] , ideo_colors[k]))\n",
    "    \n",
    "    z_text =  make_ideogram_arc(1.2, ideo_ends[k])\n",
    "    Z_text = np.array(z_text.tolist()[::-1]) \n",
    "    annotations.append(dict(x=Z_text.real[int(len(Z_text)/2)], \n",
    "                            y=Z_text.imag[int(len(Z_text)/2)], \n",
    "                            showarrow=False,\n",
    "                            align='left',\n",
    "                            valign='bottom',\n",
    "                            text=f'{labels[k]}'))\n"
   ]
  },
  {
   "cell_type": "code",
   "execution_count": 383,
   "metadata": {},
   "outputs": [
    {
     "data": {
      "text/html": [
       "<script type=\"text/javascript\">window.PlotlyConfig = {MathJaxConfig: 'local'};</script><script type=\"text/javascript\">if (window.MathJax) {MathJax.Hub.Config({SVG: {font: \"STIX-Web\"}});}</script><script>requirejs.config({paths: { 'plotly': ['https://cdn.plot.ly/plotly-latest.min']},});if(!window._Plotly) {require(['plotly'],function(plotly) {window._Plotly=plotly;});}</script>"
      ],
      "text/vnd.plotly.v1+html": [
       "<script type=\"text/javascript\">window.PlotlyConfig = {MathJaxConfig: 'local'};</script><script type=\"text/javascript\">if (window.MathJax) {MathJax.Hub.Config({SVG: {font: \"STIX-Web\"}});}</script><script>requirejs.config({paths: { 'plotly': ['https://cdn.plot.ly/plotly-latest.min']},});if(!window._Plotly) {require(['plotly'],function(plotly) {window._Plotly=plotly;});}</script>"
      ]
     },
     "metadata": {},
     "output_type": "display_data"
    },
    {
     "data": {
      "application/vnd.plotly.v1+json": {
       "config": {
        "linkText": "Export to plot.ly",
        "plotlyServerURL": "https://plot.ly",
        "showLink": true
       },
       "data": [
        {
         "line": {
          "color": "rgba(26,152,80, 0.75)",
          "shape": "spline",
          "width": 0.25
         },
         "mode": "lines",
         "type": "scatter",
         "uid": "2dcafd27-0073-4a8f-8b4c-254c5bbe59ff",
         "x": [
          1.1,
          1.0999430029642472,
          1.099772017763647,
          1.0994870621175623,
          1.0990881655562244,
          1.098575369417672,
          1.0979487268434693,
          1.097208302773196,
          1.0963541739377203,
          1.0953864288512447,
          1.0943051678021358,
          1.0931105028425292,
          1.0918025577767183,
          1.0903814681483244,
          1.08884738122625,
          1.087200455989417,
          1.085440863110292,
          1.0835687849371995,
          1.0815844154754237,
          1.079487960367105,
          1.0772796368699284,
          1.0749596738346092,
          1.0725283116811763,
          1.0699858023740583,
          1.0673324093959713,
          1.0645684077206143,
          1.0616940837841733,
          1.0587097354556374,
          1.0556156720059315,
          1.0524122140758645,
          1.0490996936429022,
          1.0456784539867636,
          1.0421488496538471,
          1.038511246420488,
          1.0347660212550525,
          1.0309135622788725,
          1.0269542687260251,
          1.0228885509019572,
          1.0187168301409677,
          1.0144395387625427,
          1.010057120026554,
          1.005570028087324,
          1.0009787279465618,
          0.996283695405173,
          0.9914854170139533,
          0.9865843900231663,
          0.9815811223310131,
          0.9764761324309985,
          0.9712699493581985,
          0.9659631126344362,
          0.9605561722123708,
          0.9550496884185049,
          0.949444231895118,
          0.9437403835411299,
          0.9379387344519016,
          0.9320398858579797,
          0.9260444490627897,
          0.9199530453792872,
          0.9137663060655693,
          0.9074848722594577,
          0.9011093949120562,
          0.894640534720293,
          0.8880789620584509,
          0.8814253569086963,
          0.8746804087906124,
          0.8678448166897426,
          0.860919288985155,
          0.8539045433760317,
          0.8468013068072936,
          0.8396103153942648,
          0.8323323143463908,
          0.8249680578900093,
          0.8175183091901905,
          0.8099838402716488,
          0.802365431938738,
          0.7946638736945341,
          0.7868799636590204,
          0.7790145084863759,
          0.7710683232813819,
          0.7630422315149517,
          0.7549370649387931,
          0.7467536634992137,
          0.7384928752500759,
          0.730155556264913,
          0.7217425705482127,
          0.7132547899458799,
          0.7046930940548862,
          0.696058370132117,
          0.687351513002423,
          0.6785734249658903,
          0.6697250157043326,
          0.6608072021870209,
          0.651820908575657
         ],
         "y": [
          0,
          0.011197777904307515,
          0.022394395371983095,
          0.03358869208665198,
          0.04477950797244132,
          0.055965683314199925,
          0.06714605887768073,
          0.07831947602967332,
          0.08948477685807427,
          0.10064080429188263,
          0.11178640222110842,
          0.12292041561658133,
          0.1340416906496476,
          0.14514907481174236,
          0.15624141703382521,
          0.16731756780566673,
          0.17837637929497313,
          0.18941670546633743,
          0.20043740220000425,
          0.21143732741043575,
          0.22241534116466746,
          0.2333703058004403,
          0.24430108604409795,
          0.25520654912823615,
          0.26608556490909246,
          0.2769370059836644,
          0.28775974780654295,
          0.2985526688064506,
          0.30931465050247087,
          0.3200445776199574,
          0.330741338206111,
          0.34140382374521244,
          0.35203092927349905,
          0.3626215534936731,
          0.37317459888903026,
          0.38368897183719675,
          0.39416358272346175,
          0.4045973460536959,
          0.41498918056684186,
          0.42533800934696636,
          0.4356427599348621,
          0.44590236443918785,
          0.4561157596471351,
          0.46628188713460944,
          0.47639969337591664,
          0.48646812985294025,
          0.4964861531638005,
          0.5064527251309832,
          0.5163668129089268,
          0.5262273890910579,
          0.5360334318162614,
          0.5457839248747777,
          0.5554778578135132,
          0.5651142260407547,
          0.5746920309302762,
          0.5842102799248269,
          0.593667986638992,
          0.6030641709614122,
          0.6123978591563531,
          0.6216680839646154,
          0.6308738847037718,
          0.6400143073677247,
          0.6490884047255695,
          0.6580952364197582,
          0.6670338690635488,
          0.6759033763377331,
          0.6847028390866328,
          0.6934313454133515,
          0.7020879907742762,
          0.710671878072816,
          0.7191821177523682,
          0.7276178278885053,
          0.7359781342803687,
          0.7442621705412631,
          0.7524690781884413,
          0.7605980067320698,
          0.7686481137633651,
          0.776618565041894,
          0.7845085345820264,
          0.7923172047385334,
          0.8000437662913203,
          0.8076874185292867,
          0.815247369333306,
          0.822722835258312,
          0.8301130416144891,
          0.8374172225475536,
          0.8446346211181208,
          0.8517644893801462,
          0.8588060884584365,
          0.8657586886252205,
          0.87262156937577,
          0.8793940195030677,
          0.88607533717151
         ]
        },
        {
         "line": {
          "color": "rgba(215,48,39, 0.75)",
          "shape": "spline",
          "width": 0.25
         },
         "mode": "lines",
         "type": "scatter",
         "uid": "e584a736-58f0-4cb4-b7e8-9000c750e870",
         "x": [
          0.6236669753639553,
          0.6144106194702478,
          0.6050905916055498,
          0.5957078576134271,
          0.5862633898357434,
          0.576758167011894,
          0.5671931741773794,
          0.5575694025617243,
          0.5478878494857551,
          0.5381495182582486,
          0.5283554180719555,
          0.5185065638990187,
          0.5086039763857897,
          0.49864868174705895,
          0.488641711659707,
          0.47858410315579153,
          0.46847689851507934,
          0.45832114515703226,
          0.448117895532264,
          0.43786820701347184,
          0.42757314178586087,
          0.4172337667370695,
          0.4068511533466053,
          0.39642637757480775,
          0.3859605197513446,
          0.3754546644632572,
          0.3649099004425625,
          0.3543273204534274,
          0.3437080211789251,
          0.33305310310738323,
          0.32236367041834074,
          0.3116408308681194,
          0.3008856956750273,
          0.2900993794042009,
          0.2792829998521018,
          0.26843767793067985,
          0.25756453755120956,
          0.24666470550782055,
          0.23573931136072435,
          0.22478948731915932,
          0.21381636812405688,
          0.20282109093044778,
          0.19180479518961857,
          0.18076862253102732,
          0.1697137166439974,
          0.158641223159194,
          0.147552289529903,
          0.13644806491311795,
          0.12532970005045216,
          0.1141983471488872,
          0.10305515976136705,
          0.09190129266725497,
          0.08073790175266307,
          0.06956614389066633,
          0.058387176821414075,
          0.04720215903215286,
          0.03601224963717194,
          0.024818608257681736,
          0.013622394901641827,
          0.0024247698435487432,
          -0.008773106495804943,
          -0.01997007366958662,
          -0.031164971325181392,
          -0.04235663932443981,
          -0.0535439178639056,
          -0.06472564759500649,
          -0.0759006697441981,
          -0.08706782623304932,
          -0.09822595979825559,
          -0.10937391411156666,
          -0.12051053389961744,
          -0.13163466506365135,
          -0.14274515479912012,
          -0.15384085171514958,
          -0.16492060595385954,
          -0.17598326930952646,
          -0.18702769534757022,
          -0.19805273952336191,
          -0.2090572593008344,
          -0.22004011427088394,
          -0.23100016626955133,
          -0.2419362794959714,
          -0.2528473206300786,
          -0.2637321589500513,
          -0.2745896664494913,
          -0.28541871795432044,
          -0.2962181912393829,
          -0.306986967144742,
          -0.3177239296916612,
          -0.32842796619825293,
          -0.33909796739478715,
          -0.349732827538646,
          -0.3603314445289137
         ],
         "y": [
          0.9061123020025585,
          0.9124141552399253,
          0.9186214541096055,
          0.9247335553431707,
          0.9307498255376163,
          0.9366696412210018,
          0.9424923889170612,
          0.9482174652087791,
          0.9538442768009224,
          0.9593722405815248,
          0.964800783682315,
          0.9701293435380836,
          0.9753573679449821,
          0.9804843151177486,
          0.9855096537458534,
          0.9904328630485596,
          0.9952534328288912,
          0.9999708635265063,
          1.0045846662694664,
          1.009094362924899,
          1.0134994861485467,
          1.017799579433199,
          1.021994197156,
          1.0260829046246294,
          1.030065278122349,
          1.0339409049519142,
          1.0377093834783413,
          1.0413703231705302,
          1.0449233446417339,
          1.0483680796888768,
          1.05170417133071,
          1.0549312738448076,
          1.0580490528033921,
          1.061057185107993,
          1.0639553590229296,
          1.066743274207616,
          1.0694206417476857,
          1.0719871841849324,
          1.0744426355460637,
          1.076786741370263,
          1.0790192587355603,
          1.0811399562840065,
          1.0831486142456486,
          1.0850450244613055,
          1.0868289904041395,
          1.088500327200022,
          1.0900588616466929,
          1.0915044322317091,
          1.092836889149183,
          1.0940560943153064,
          1.09516192138266,
          1.0961542557533077,
          1.097032994590672,
          1.0977980468301916,
          1.098449333188757,
          1.0989867861729292,
          1.0994103500859314,
          1.0997199810334228,
          1.0999156469280469,
          1.0999973274927561,
          1.0999650142629143,
          1.0998187105871728,
          1.099558431627124,
          1.09918420435573,
          1.0986960675545279,
          1.0980940718096093,
          1.0973782795063798,
          1.0965487648230934,
          1.0956056137231645,
          1.09454892394626,
          1.0933788049981714,
          1.092095378139465,
          1.0906987763729157,
          1.0891891444297255,
          1.0875666387545233,
          1.0858314274891525,
          1.0839836904552471,
          1.0820236191355952,
          1.0799514166542974,
          1.0777672977557153,
          1.0754714887822177,
          1.0730642276507252,
          1.0705457638280536,
          1.0679163583050617,
          1.065176283569606,
          1.0623258235782995,
          1.0593652737270882,
          1.056294940820637,
          1.0531151430405359,
          1.0498262099123261,
          1.0464284822713514,
          1.0429223122274371,
          1.0393080631284002
         ]
        },
        {
         "line": {
          "color": "rgba(244,109,67, 0.75)",
          "shape": "spline",
          "width": 0.25
         },
         "mode": "lines",
         "type": "scatter",
         "uid": "873186d1-4ddd-498f-8714-2e9ae39d91d4",
         "x": [
          -0.3927990978915923,
          -0.4033508798501255,
          -0.41385995352809773,
          -0.4243252061859828,
          -0.4347455297241852,
          -0.4451198208003712,
          -0.4554469809462936,
          -0.46572591668410246,
          -0.4759555396421266,
          -0.48613476667011274,
          -0.49626251995391607,
          -0.5063377271296214,
          -0.5163593213970901,
          -0.5263262416329146,
          -0.5362374325027772,
          -0.5460918445731916,
          -0.5558884344226184,
          -0.5656261647519502,
          -0.5753040044943426,
          -0.5849209289243879,
          -0.5944759197666155,
          -0.6039679653033128,
          -0.6133960604816487,
          -0.6227592070200914,
          -0.6320564135141111,
          -0.641286695541154,
          -0.6504490757648759,
          -0.6595425840386252,
          -0.6685662575081678,
          -0.6775191407136361,
          -0.6864002856906977,
          -0.6952087520709272,
          -0.7039436071813788,
          -0.7126039261433395,
          -0.7211887919702588,
          -0.7296972956648422,
          -0.7381285363153005,
          -0.7464816211907412,
          -0.7547556658356925,
          -0.7629497941637552,
          -0.7710631385503646,
          -0.7790948399246581,
          -0.787044047860436,
          -0.7949099206662096,
          -0.8026916254743206,
          -0.8103883383291296,
          -0.8179992442742584,
          -0.8255235374388823,
          -0.832960421123057,
          -0.8403091078820764,
          -0.8475688196098509,
          -0.8547387876212964,
          -0.8618182527337234,
          -0.8688064653472247,
          -0.8757026855240443,
          -0.8825061830669252,
          -0.8892162375964253,
          -0.8958321386271931
         ],
         "y": [
          1.0274769431454662,
          1.0233807051748287,
          1.0191761078762203,
          1.0148635964479282,
          1.0104436275145872,
          1.0059166690788286,
          1.001283200471728,
          0.9965437123020509,
          0.9916987064043051,
          0.9867486957856064,
          0.9816942045713569,
          0.9765357679497506,
          0.9712739321151046,
          0.9659092542100272,
          0.9604423022664244,
          0.9548736551453545,
          0.9492039024757382,
          0.9434336445919236,
          0.9375634924701226,
          0.9315940676637177,
          0.9255260022374503,
          0.9193599387004943,
          0.9130965299384253,
          0.9067364391440917,
          0.9002803397473919,
          0.893728915343969,
          0.8870828596228307,
          0.8803428762928983,
          0.8735096790084941,
          0.8665839912937789,
          0.8595665464661413,
          0.8524580875585522,
          0.8452593672408895,
          0.837971147740242,
          0.8305942007602022,
          0.823129307399157,
          0.8155772580675801,
          0.8079388524043406,
          0.8002148991920361,
          0.792406216271354,
          0.7845136304544755,
          0.7765379774375311,
          0.7684801017121132,
          0.7603408564758576,
          0.7521211035421045,
          0.743821713248647,
          0.7354435643655753,
          0.7269875440022302,
          0.7184545475132715,
          0.7098454784038772,
          0.7011612482340736,
          0.692402776522218,
          0.6835709906476374,
          0.6746668257524316,
          0.6656912246424591,
          0.6566451376875084,
          0.6475295227206693,
          0.6383453449369155
         ]
        },
        {
         "line": {
          "color": "rgba(253,174,97, 0.75)",
          "shape": "spline",
          "width": 0.25
         },
         "mode": "lines",
         "type": "scatter",
         "uid": "e6d0df2a-cb0c-4520-98bb-07fba568e571",
         "x": [
          -0.9154410113828011,
          -0.9217268593168384,
          -0.9279132504637986,
          -0.9339995172955728,
          -0.9399850030877336,
          -0.9458690619903956,
          -0.951651059097906,
          -0.957330370517352,
          -0.9629063834358803,
          -0.9683784961868214,
          -0.973746118314611,
          -0.979008670638502,
          -0.9841655853150596,
          -0.9892163058994325,
          -0.9941602874053955,
          -0.9989969963641547,
          -1.0037259108819103,
          -1.0083465206961701,
          -1.0128583272308085,
          -1.0172608436498638,
          -1.0215535949100694,
          -1.0257361178121123,
          -1.0298079610506137,
          -1.033768685262825,
          -1.0376178630760375,
          -1.0413550791536965,
          -1.044979930240217,
          -1.048492025204497,
          -1.0518909850821196,
          -1.055176443116247,
          -1.0583480447971922,
          -1.0614054479006727,
          -1.0643483225247372,
          -1.0671763511253631,
          -1.0698892285507196
         ],
         "y": [
          0.6098915925625098,
          0.6003495621834977,
          0.5907427524851304,
          0.581072200067803,
          0.5713389484099205,
          0.5615440477553025,
          0.5516885549998605,
          0.5417735335775546,
          0.5318000533456477,
          0.5217691904692636,
          0.5116820273052669,
          0.501539652285473,
          0.4913431597992041,
          0.4810936500752016,
          0.4707922290629078,
          0.460440008313132,
          0.4500381048581103,
          0.4395876410909755,
          0.42908974464464744,
          0.4185455482701588,
          0.40795618971442776,
          0.3973228115974925,
          0.38664656128921937,
          0.3759285907854983,
          0.3651700565839398,
          0.3543721195590855,
          0.3435359448371469,
          0.3326627016702849,
          0.3217535633104444,
          0.3108097068827577,
          0.29983231325852905,
          0.28882256692781555,
          0.2777816558716179,
          0.2667107714336936,
          0.25561110819200816
         ]
        },
        {
         "line": {
          "color": "rgba(254,224,139, 0.75)",
          "shape": "spline",
          "width": 0.25
         },
         "mode": "lines",
         "type": "scatter",
         "uid": "5e6752a2-35b6-464d-915f-8e77306e59b4",
         "x": [
          -1.0773902417381882,
          -1.0870566849693946,
          -1.0940552581355734,
          -1.0983687852383557,
          -1.0999866799578273,
          -1.0989049716336259,
          -1.0951263150097927,
          -1.0886599837194626,
          -1.0795218475253798,
          -1.0677343333720994,
          -1.05332637034546,
          -1.0363333186744064,
          -1.016796882949411,
          -0.9947650097704704,
          -0.9702917700758749,
          -0.9434372264405368,
          -0.9142672856695613,
          -0.882853537048823,
          -0.8492730766495149,
          -0.8136083181178689,
          -0.7759467904144064,
          -0.7363809229991105,
          -0.6950078189897254,
          -0.6519290168498922,
          -0.607250241192003,
          -0.5610811433063436,
          -0.5135350320533266,
          -0.4647285957792667,
          -0.414781615938174,
          -0.3638166731223948,
          -0.31195884622356573,
          -0.2593354054622142,
          -0.2060755000393598,
          -0.15230984117669644,
          -0.09817038132324402,
          -0.043789990315762604,
          0.01069787071230333,
          0.06515947687305053,
          0.11946116771364368,
          0.1734696752477136,
          0.22705245102355745,
          0.28007799142644296,
          0.33241616041665856,
          0.38393850891124565,
          0.43451859002557786,
          0.48403226940110855,
          0.5323580298576917,
          0.5793772696227856,
          0.6249745934056178,
          0.6690380956019536,
          0.7114596349344396,
          0.7521350998544678
         ],
         "y": [
          0.22187894674197595,
          0.16824911192440425,
          0.11420635772978717,
          0.05988331665847267,
          0.0054133090948701055,
          -0.04906998388934216,
          -0.10343284861721797,
          -0.15754186696855993,
          -0.21126424381657877,
          -0.2644681329355932,
          -0.3170229605799224,
          -0.36879974593984133,
          -0.41967141768812655,
          -0.4695131258403282,
          -0.5182025481633854,
          -0.5656201903806013,
          -0.6116496794362056,
          -0.656178049099772,
          -0.6990960172095587,
          -0.7402982538743509,
          -0.7796836399755874,
          -0.817155515335348,
          -0.8526219159411428,
          -0.8859957996453105,
          -0.9171952597850985,
          -0.9461437261991681,
          -0.9727701531471805,
          -0.9970091936712676,
          -1.0188013599714703,
          -1.038093169401549,
          -1.0548372757268591,
          -1.068992585322157,
          -1.0805243580241621,
          -1.0894042923913645,
          -1.0956105951618254,
          -1.0991280347385128,
          -1.0999479785709063,
          -1.0980684143411241,
          -1.0934939549025833,
          -1.0862358269590693,
          -1.0763118435119978,
          -1.0637463601434927,
          -1.0485702152425684,
          -1.030820654321114,
          -1.0105412386054238,
          -0.9877817381276153,
          -0.9625980095793037,
          -0.9350518592273085,
          -0.9052108912278304,
          -0.8731483417113678,
          -0.8389428990455513,
          -0.8026785107170303
         ]
        },
        {
         "line": {
          "color": "rgba(217,239,139, 0.75)",
          "shape": "spline",
          "width": 0.25
         },
         "mode": "lines",
         "type": "scatter",
         "uid": "f724dcdc-84ab-426f-828e-dd1e048deb82",
         "x": [
          0.7769767079031984,
          0.7849966340560197,
          0.7929324156929316,
          0.8007832021701524,
          0.8085481519546136,
          0.8162264327141576,
          0.8238172214067635,
          0.8313197043687626,
          0.8387330774020622,
          0.8460565458603426,
          0.8532893247342416,
          0.8604306387354945,
          0.8674797223800439,
          0.8744358200700869,
          0.881298186175074,
          0.8880660851116282,
          0.8947387914223984,
          0.9013155898538169
         ],
         "y": [
          -0.7786573029105345,
          -0.7705714013125063,
          -0.7624029014526192,
          -0.7541526789199365,
          -0.7458216180634478,
          -0.7374106118972799,
          -0.728920562004969,
          -0.720352378442824,
          -0.7117069796423713,
          -0.7029852923119132,
          -0.6941882513371875,
          -0.6853167996811613,
          -0.676371888282949,
          -0.6673544759558856,
          -0.6582655292847445,
          -0.649106022522135,
          -0.6398769374840649,
          -0.6305792634447048
         ]
        },
        {
         "line": {
          "color": "rgba(166,217,106, 0.75)",
          "shape": "spline",
          "width": 0.25
         },
         "mode": "lines",
         "type": "scatter",
         "uid": "9d00dd77-f15d-4f3c-aa57-8a07be7e86fa",
         "x": [
          0.920677818342524,
          0.9269245641214787,
          0.9330698697981408,
          0.9391130628469773,
          0.9450534819173837,
          0.9508904769060593,
          0.9566234090281546,
          0.9622516508871761,
          0.9677745865436485,
          0.9731916115825203,
          0.9785021331793103,
          0.9837055701649838,
          0.9888013530895547,
          0.9937889242844047,
          0.9986677379233124,
          1.0034372600821877,
          1.0080969687975025,
          1.0126463541234136,
          1.0170849181875685,
          1.021412175245593,
          1.025627651734248,
          1.0297308863232566,
          1.0337214299657895,
          1.0375988459476078,
          1.0413627099348566,
          1.0450126100205017,
          1.0485481467694087,
          1.051968933262055,
          1.055274595136875,
          1.0584647706312262,
          1.0615391106209835,
          1.0644972786587423,
          1.067338951010642,
          1.0700638166917913,
          1.0726715775003046,
          1.0751619480499341
         ],
         "y": [
          -0.6019571037973143,
          -0.5922928772391297,
          -0.5825638317599889,
          -0.5727710320801579,
          -0.5629155498969892,
          -0.5529984637676375,
          -0.5430208589910264,
          -0.5329838274890751,
          -0.5228884676872022,
          -0.5127358843941167,
          -0.5025271886809105,
          -0.4922634977594666,
          -0.4819459348601935,
          -0.4715756291091027,
          -0.4611537154042396,
          -0.45068133429148394,
          -0.44015963183973095,
          -0.42958975951546846,
          -0.4189728740567665,
          -0.408310137346682,
          -0.39760271628610905,
          -0.3868517826660755,
          -0.3760585130395051,
          -0.3652240885924593,
          -0.35434969501487085,
          -0.3434365223707855,
          -0.33248576496812454,
          -0.321498621227983,
          -0.31047629355347756,
          -0.2994199881981591,
          -0.28833091513400333,
          -0.2772102879189949,
          -0.2660593235643189,
          -0.2548792424011744,
          -0.2436712679472248,
          -0.23243662677269933
         ]
        },
        {
         "line": {
          "color": "rgba(102,189,99, 0.75)",
          "shape": "spline",
          "width": 0.25
         },
         "mode": "lines",
         "type": "scatter",
         "uid": "5e1db6a7-e3cb-4b64-801f-584d42bd70d1",
         "x": [
          1.081932431415999,
          1.083643085934891,
          1.0852692853127928,
          1.0868109028097297,
          1.088267818277726,
          1.0896399181701695,
          1.0909270955506605,
          1.0921292501013469,
          1.0932462881307417,
          1.0942781225810252,
          1.0952246730348303,
          1.0960858657215093,
          1.0968616335228845,
          1.0975519159784772,
          1.098156659290222,
          1.0986758163266581,
          1.0991093466266026,
          1.0994572164023049
         ],
         "y": [
          -0.19855028040842665,
          -0.18899116991411774,
          -0.17941733014583652,
          -0.1698295072533051,
          -0.16022844847603865,
          -0.15061490208510836,
          -0.1409896173248239,
          -0.13135334435434015,
          -0.12170683418919247,
          -0.11205083864276537,
          -0.10238611026769899,
          -0.09271340229723786,
          -0.08303346858652676,
          -0.07334706355385788,
          -0.06365494212187449,
          -0.05395785965873483,
          -0.04425657191924159,
          -0.03455183498594119
         ]
        },
        {
         "marker": {
          "color": "rgba(26,152,80, 0.75)",
          "size": 0.5
         },
         "mode": "markers",
         "type": "scatter",
         "uid": "6a1ef721-35d2-4140-a848-24dac049ef86",
         "x": [
          0.6491605264571807
         ],
         "y": [
          0.6233703641414438
         ]
        },
        {
         "marker": {
          "color": "rgba(26,152,80, 0.75)",
          "size": 0.5
         },
         "mode": "markers",
         "text": "186 V",
         "type": "scatter",
         "uid": "b01dd23c-045d-4e1b-a6a4-c80b3ee1df17",
         "x": [
          0.8995575416436682
         ],
         "y": [
          0.028217534832088376
         ]
        },
        {
         "marker": {
          "color": "rgba(26,152,80, 0.75)",
          "size": 0.5
         },
         "mode": "markers",
         "text": "138 S",
         "type": "scatter",
         "uid": "070addb1-aee5-4051-a400-07bf351b323c",
         "x": [
          -0.4302608734244004
         ],
         "y": [
          0.79049072151422
         ]
        },
        {
         "marker": {
          "color": "rgba(26,152,80, 0.75)",
          "size": 0.5
         },
         "mode": "markers",
         "text": "186 V",
         "type": "scatter",
         "uid": "214840f5-9405-455e-9617-aef4d029029f",
         "x": [
          0.8950878680259527
         ],
         "y": [
          0.09390265444999275
         ]
        },
        {
         "marker": {
          "color": "rgba(26,152,80, 0.75)",
          "size": 0.5
         },
         "mode": "markers",
         "text": "156 R/Q",
         "type": "scatter",
         "uid": "fdc75225-13bd-4893-84e5-42b27a03745f",
         "x": [
          -0.7913610367126818
         ],
         "y": [
          0.42865803337045916
         ]
        },
        {
         "marker": {
          "color": "rgba(26,152,80, 0.75)",
          "size": 0.5
         },
         "mode": "markers",
         "text": "186 V",
         "type": "scatter",
         "uid": "815640b1-ceab-4bc8-8aad-b1fb2d479316",
         "x": [
          0.8193891462059499
         ],
         "y": [
          0.37229212599769607
         ]
        },
        {
         "marker": {
          "color": "rgba(26,152,80, 0.75)",
          "size": 0.5
         },
         "mode": "markers",
         "text": "160 K",
         "type": "scatter",
         "uid": "f4a76982-287d-4382-87e5-712efa30db8d",
         "x": [
          -0.7701548404319782
         ],
         "y": [
          -0.46568392903255124
         ]
        },
        {
         "marker": {
          "color": "rgba(26,152,80, 0.75)",
          "size": 0.5
         },
         "mode": "markers",
         "text": "186 V",
         "type": "scatter",
         "uid": "75f08f25-5d6f-484b-8126-9b52fc4642c4",
         "x": [
          0.8811783343295865
         ],
         "y": [
          0.18309763272127655
         ]
        },
        {
         "marker": {
          "color": "rgba(26,152,80, 0.75)",
          "size": 0.5
         },
         "mode": "markers",
         "text": "219 F/Y",
         "type": "scatter",
         "uid": "2859f42f-cfa2-4456-ac42-3d7796f596df",
         "x": [
          0.7917669187319276
         ],
         "y": [
          -0.4279078713949408
         ]
        },
        {
         "marker": {
          "color": "rgba(26,152,80, 0.75)",
          "size": 0.5
         },
         "mode": "markers",
         "text": "186 V",
         "type": "scatter",
         "uid": "f7aefc05-3b63-4de1-9dbe-c6dddd587ec5",
         "x": [
          0.8999980333579843
         ],
         "y": [
          0.0018814759526793318
         ]
        },
        {
         "marker": {
          "color": "rgba(26,152,80, 0.75)",
          "size": 0.5
         },
         "mode": "markers",
         "text": "225 G",
         "type": "scatter",
         "uid": "d81307df-2846-4644-9061-44f3716c3f9c",
         "x": [
          0.8855062735512235
         ],
         "y": [
          -0.16086839186560506
         ]
        },
        {
         "marker": {
          "color": "rgba(215,48,39, 0.75)",
          "size": 0.5
         },
         "mode": "markers",
         "type": "scatter",
         "uid": "611fe67a-bfc6-44d4-a85b-b6cc846fa792",
         "x": [
          -0.11565583279056073
         ],
         "y": [
          0.8925378021918858
         ]
        },
        {
         "marker": {
          "color": "rgba(215,48,39, 0.75)",
          "size": 0.5
         },
         "mode": "markers",
         "text": "194 P",
         "type": "scatter",
         "uid": "2dbddeb8-1ded-4b29-a39c-50f2c17a05f2",
         "x": [
          0.46763673589025107
         ],
         "y": [
          0.7689706647499055
         ]
        },
        {
         "marker": {
          "color": "rgba(215,48,39, 0.75)",
          "size": 0.5
         },
         "mode": "markers",
         "text": "138 S",
         "type": "scatter",
         "uid": "97b6f702-133c-4c9b-9e77-d65a7851cd45",
         "x": [
          -0.3908480240541471
         ],
         "y": [
          0.8107020550689191
         ]
        },
        {
         "marker": {
          "color": "rgba(215,48,39, 0.75)",
          "size": 0.5
         },
         "mode": "markers",
         "text": "194 P",
         "type": "scatter",
         "uid": "f5566a59-dd95-4bc9-aba8-143a938ae9ad",
         "x": [
          0.23680163849502253
         ],
         "y": [
          0.8682885372997117
         ]
        },
        {
         "marker": {
          "color": "rgba(215,48,39, 0.75)",
          "size": 0.5
         },
         "mode": "markers",
         "text": "160 K",
         "type": "scatter",
         "uid": "febe64f8-c23e-4dd1-a5ab-23a68bcbd1ae",
         "x": [
          -0.5532406913576391
         ],
         "y": [
          -0.7098765649224671
         ]
        },
        {
         "marker": {
          "color": "rgba(215,48,39, 0.75)",
          "size": 0.5
         },
         "mode": "markers",
         "text": "194 P",
         "type": "scatter",
         "uid": "7a631254-1901-4df5-9fdc-45eef1b63887",
         "x": [
          0.4235110149433492
         ],
         "y": [
          0.7941274584231767
         ]
        },
        {
         "marker": {
          "color": "rgba(215,48,39, 0.75)",
          "size": 0.5
         },
         "mode": "markers",
         "text": "203 I",
         "type": "scatter",
         "uid": "aaf30c8b-5dce-4b27-80a9-7609ae142b06",
         "x": [
          0.6892413537215631
         ],
         "y": [
          -0.5787455022028829
         ]
        },
        {
         "marker": {
          "color": "rgba(215,48,39, 0.75)",
          "size": 0.5
         },
         "mode": "markers",
         "text": "194 P",
         "type": "scatter",
         "uid": "8237ca21-06e5-4e7b-96e5-69b24def281d",
         "x": [
          0.5071688383195991
         ],
         "y": [
          0.7434916068373255
         ]
        },
        {
         "marker": {
          "color": "rgba(215,48,39, 0.75)",
          "size": 0.5
         },
         "mode": "markers",
         "text": "219 F/Y",
         "type": "scatter",
         "uid": "c4f3e942-6c47-4f1a-9fa5-498114b88476",
         "x": [
          0.7571781654113272
         ],
         "y": [
          -0.4864989474031129
         ]
        },
        {
         "marker": {
          "color": "rgba(215,48,39, 0.75)",
          "size": 0.5
         },
         "mode": "markers",
         "text": "194 P",
         "type": "scatter",
         "uid": "40a0326f-a6e0-494f-b88f-a21da29dc97d",
         "x": [
          0.49466415776831235
         ],
         "y": [
          0.7518692512793472
         ]
        },
        {
         "marker": {
          "color": "rgba(215,48,39, 0.75)",
          "size": 0.5
         },
         "mode": "markers",
         "text": "225 G",
         "type": "scatter",
         "uid": "8c293e14-8df9-4cb0-8af6-0772b78a198f",
         "x": [
          0.8909173983960883
         ],
         "y": [
          -0.12753897143675616
         ]
        },
        {
         "marker": {
          "color": "rgba(244,109,67, 0.75)",
          "size": 0.5
         },
         "mode": "markers",
         "type": "scatter",
         "uid": "7bdc7d40-3f07-4ded-9c1d-45c250534381",
         "x": [
          -0.5315064247070184
         ],
         "y": [
          0.7262925860114247
         ]
        },
        {
         "marker": {
          "color": "rgba(175,175,175,0.5)",
          "size": 0.5
         },
         "mode": "markers",
         "text": "138 S",
         "type": "scatter",
         "uid": "0f879f36-382f-40b1-9b59-d3bdb865ce0f",
         "x": [
          -0.3606618335624421
         ],
         "y": [
          0.8245744610472588
         ]
        },
        {
         "marker": {
          "color": "rgba(175,175,175,0.5)",
          "size": 0.5
         },
         "mode": "markers",
         "text": "156 R/Q",
         "type": "scatter",
         "uid": "9d33bae7-e58a-4dd4-8f7e-403834d1c1fc",
         "x": [
          -0.765399663654546
         ],
         "y": [
          0.47345892628348224
         ]
        },
        {
         "marker": {
          "color": "rgba(175,175,175,0.5)",
          "size": 0.5
         },
         "mode": "markers",
         "text": "138 S",
         "type": "scatter",
         "uid": "346ca04f-0da9-418f-8f1c-63a572130f3c",
         "x": [
          -0.6731979566934845
         ],
         "y": [
          0.597331156983894
         ]
        },
        {
         "marker": {
          "color": "rgba(175,175,175,0.5)",
          "size": 0.5
         },
         "mode": "markers",
         "text": "160 K",
         "type": "scatter",
         "uid": "906e0ce1-6d4f-4371-b460-a4cf2b8a5ffd",
         "x": [
          -0.8692545766882486
         ],
         "y": [
          -0.2332305316774239
         ]
        },
        {
         "marker": {
          "color": "rgba(175,175,175,0.5)",
          "size": 0.5
         },
         "mode": "markers",
         "text": "138 S",
         "type": "scatter",
         "uid": "f5960568-e359-42a6-8fd3-c9d51e601ca1",
         "x": [
          -0.32310444245110675
         ],
         "y": [
          0.8400020947999829
         ]
        },
        {
         "marker": {
          "color": "rgba(175,175,175,0.5)",
          "size": 0.5
         },
         "mode": "markers",
         "text": "203 I",
         "type": "scatter",
         "uid": "44fdf50e-406d-45df-ac7c-35d1ac2f46d6",
         "x": [
          0.6368751786992607
         ],
         "y": [
          -0.6359166665191163
         ]
        },
        {
         "marker": {
          "color": "rgba(175,175,175,0.5)",
          "size": 0.5
         },
         "mode": "markers",
         "text": "138 S",
         "type": "scatter",
         "uid": "f2e444bc-45eb-4527-a5e7-51d912e3d284",
         "x": [
          -0.32826634705155433
         ],
         "y": [
          0.8379983325719859
         ]
        },
        {
         "marker": {
          "color": "rgba(175,175,175,0.5)",
          "size": 0.5
         },
         "mode": "markers",
         "text": "219 F/Y",
         "type": "scatter",
         "uid": "c3b9ddbe-1a9a-43e3-af21-0ae37a74b290",
         "x": [
          0.7610265077125161
         ],
         "y": [
          -0.4804567145528218
         ]
        },
        {
         "marker": {
          "color": "rgba(175,175,175,0.5)",
          "size": 0.5
         },
         "mode": "markers",
         "text": "138 S",
         "type": "scatter",
         "uid": "85ef727b-fddf-4b67-b444-b7b1a10f2e18",
         "x": [
          -0.3402621324358698
         ],
         "y": [
          0.8331996646843989
         ]
        },
        {
         "marker": {
          "color": "rgba(175,175,175,0.5)",
          "size": 0.5
         },
         "mode": "markers",
         "text": "225 G",
         "type": "scatter",
         "uid": "5af53bb8-c1f2-4ea4-a8e5-68a00e326012",
         "x": [
          0.8882389562924632
         ],
         "y": [
          -0.14502260694276467
         ]
        },
        {
         "marker": {
          "color": "rgba(253,174,97, 0.75)",
          "size": 0.5
         },
         "mode": "markers",
         "type": "scatter",
         "uid": "31c2f97c-9039-46aa-ad1c-2563a6903e56",
         "x": [
          -0.8624004336677216
         ],
         "y": [
          0.25742084610560545
         ]
        },
        {
         "marker": {
          "color": "rgba(175,175,175,0.5)",
          "size": 0.5
         },
         "mode": "markers",
         "text": "156 R/Q",
         "type": "scatter",
         "uid": "7db4c9f0-6416-4b5b-88b5-e61780b1e925",
         "x": [
          -0.8292339972389978
         ],
         "y": [
          0.3498156340460412
         ]
        },
        {
         "marker": {
          "color": "rgba(175,175,175,0.5)",
          "size": 0.5
         },
         "mode": "markers",
         "text": "160 K",
         "type": "scatter",
         "uid": "6990ed25-146d-473c-af71-864359c012a1",
         "x": [
          -0.8995885866894745
         ],
         "y": [
          0.027209827232706856
         ]
        },
        {
         "marker": {
          "color": "rgba(175,175,175,0.5)",
          "size": 0.5
         },
         "mode": "markers",
         "text": "156 R/Q",
         "type": "scatter",
         "uid": "a0642d3c-c659-49a6-9122-53d5ef939a1d",
         "x": [
          -0.7558554316142809
         ],
         "y": [
          0.488551498308202
         ]
        },
        {
         "marker": {
          "color": "rgba(175,175,175,0.5)",
          "size": 0.5
         },
         "mode": "markers",
         "text": "219 F/Y",
         "type": "scatter",
         "uid": "394c83a7-734a-4752-ab25-6799f97a8c50",
         "x": [
          0.7657691041842216
         ],
         "y": [
          -0.4728611625804077
         ]
        },
        {
         "marker": {
          "color": "rgba(175,175,175,0.5)",
          "size": 0.5
         },
         "mode": "markers",
         "text": "156 R/Q",
         "type": "scatter",
         "uid": "e4879532-d921-4769-8ab4-a1cb77793a1b",
         "x": [
          -0.750971490175747
         ],
         "y": [
          0.4960260284936849
         ]
        },
        {
         "marker": {
          "color": "rgba(175,175,175,0.5)",
          "size": 0.5
         },
         "mode": "markers",
         "text": "225 G",
         "type": "scatter",
         "uid": "cc13e6cd-5bb9-457d-965c-8926354375f5",
         "x": [
          0.88635579894963
         ],
         "y": [
          -0.156119818307488
         ]
        },
        {
         "marker": {
          "color": "rgba(254,224,139, 0.75)",
          "size": 0.5
         },
         "mode": "markers",
         "type": "scatter",
         "uid": "9ddd0423-9d6a-4483-9316-b482d46f04ac",
         "x": [
          0.12785485158243848
         ],
         "y": [
          -0.8908721215341923
         ]
        },
        {
         "marker": {
          "color": "rgba(175,175,175,0.5)",
          "size": 0.5
         },
         "mode": "markers",
         "text": "160 K",
         "type": "scatter",
         "uid": "c8d7722e-1a3a-476e-8784-820459274689",
         "x": [
          -0.8937693305678311
         ],
         "y": [
          0.10571841720500214
         ]
        },
        {
         "marker": {
          "color": "rgba(175,175,175,0.5)",
          "size": 0.5
         },
         "mode": "markers",
         "text": "203 I",
         "type": "scatter",
         "uid": "423a2f47-422f-4316-ae64-29320e68c98a",
         "x": [
          0.6563828403971707
         ],
         "y": [
          -0.6157609656613048
         ]
        },
        {
         "marker": {
          "color": "rgba(175,175,175,0.5)",
          "size": 0.5
         },
         "mode": "markers",
         "text": "160 K",
         "type": "scatter",
         "uid": "e09d508b-22af-4b3b-a167-2c688208a3f8",
         "x": [
          -0.8964160260714078
         ],
         "y": [
          -0.08023906905208379
         ]
        },
        {
         "marker": {
          "color": "rgba(175,175,175,0.5)",
          "size": 0.5
         },
         "mode": "markers",
         "text": "219 F/Y",
         "type": "scatter",
         "uid": "ac014ccb-b3ec-4a16-8bf9-567c777ec513",
         "x": [
          0.8337687514945491
         ],
         "y": [
          -0.3388652667819778
         ]
        },
        {
         "marker": {
          "color": "rgba(175,175,175,0.5)",
          "size": 0.5
         },
         "mode": "markers",
         "text": "160 K",
         "type": "scatter",
         "uid": "fa71f4e9-56c1-46c4-8d6f-1ebe990fa79c",
         "x": [
          -0.8861977291392489
         ],
         "y": [
          0.157014600812913
         ]
        },
        {
         "marker": {
          "color": "rgba(175,175,175,0.5)",
          "size": 0.5
         },
         "mode": "markers",
         "text": "225 G",
         "type": "scatter",
         "uid": "b64dabf5-22a4-4f5f-94f0-f22d26588c6f",
         "x": [
          0.8947327835796177
         ],
         "y": [
          -0.09722780460274197
         ]
        },
        {
         "marker": {
          "color": "rgba(217,239,139, 0.75)",
          "size": 0.5
         },
         "mode": "markers",
         "type": "scatter",
         "uid": "a419b4c0-01a2-4631-84e3-5b57ed50e962",
         "x": [
          0.7219904312199111
         ],
         "y": [
          -0.5373358514252393
         ]
        },
        {
         "marker": {
          "color": "rgba(175,175,175,0.5)",
          "size": 0.5
         },
         "mode": "markers",
         "text": "203 I",
         "type": "scatter",
         "uid": "e105c676-9066-4866-830f-504a3afa09f1",
         "x": [
          0.6392026787363246
         ],
         "y": [
          -0.6335770951481018
         ]
        },
        {
         "marker": {
          "color": "rgba(175,175,175,0.5)",
          "size": 0.5
         },
         "mode": "markers",
         "text": "219 F/Y",
         "type": "scatter",
         "uid": "dc6b40e7-49a0-4a45-ad5c-6f1778ed99df",
         "x": [
          0.7542604137836588
         ],
         "y": [
          -0.49101041557069225
         ]
        },
        {
         "marker": {
          "color": "rgba(166,217,106, 0.75)",
          "size": 0.5
         },
         "mode": "markers",
         "type": "scatter",
         "uid": "5490271e-d398-47d6-993c-aa52aec4f0fd",
         "x": [
          0.8672451550639761
         ],
         "y": [
          -0.2405947651509902
         ]
        },
        {
         "marker": {
          "color": "rgba(102,189,99, 0.75)",
          "size": 0.5
         },
         "mode": "markers",
         "type": "scatter",
         "uid": "7f4a1a5f-8961-4dee-9e89-188fede29d7c",
         "x": [
          0.8984753466523737
         ],
         "y": [
          -0.052364601191042595
         ]
        }
       ],
       "layout": {
        "annotations": [
         {
          "align": "left",
          "showarrow": false,
          "text": "186 V",
          "valign": "bottom",
          "x": 1.0708157698156506,
          "y": 0.5416212579968732
         },
         {
          "align": "left",
          "showarrow": false,
          "text": "194 P",
          "valign": "bottom",
          "x": 0.16096613403262147,
          "y": 1.189155121796392
         },
         {
          "align": "left",
          "showarrow": false,
          "text": "138 S",
          "valign": "bottom",
          "x": -0.7293450081907283,
          "y": 0.9529196498274479
         },
         {
          "align": "left",
          "showarrow": false,
          "text": "156 R/Q",
          "valign": "bottom",
          "x": -1.1000143862140037,
          "y": 0.4795501539174277
         },
         {
          "align": "left",
          "showarrow": false,
          "text": "160 K",
          "valign": "bottom",
          "x": -0.6120885199705567,
          "y": -1.0321567922172743
         },
         {
          "align": "left",
          "showarrow": false,
          "text": "203 I",
          "valign": "bottom",
          "x": 0.9149815389840676,
          "y": -0.776407614155314
         },
         {
          "align": "left",
          "showarrow": false,
          "text": "219 F/Y",
          "valign": "bottom",
          "x": 1.1047051135891783,
          "y": -0.4686433740168746
         },
         {
          "align": "left",
          "showarrow": false,
          "text": "225 G",
          "valign": "bottom",
          "x": 1.1926323143244453,
          "y": -0.1327710918427554
         }
        ],
        "height": 800,
        "hovermode": false,
        "margin": {
         "b": 25,
         "l": 25,
         "r": 25,
         "t": 25
        },
        "shapes": [
         {
          "fillcolor": "rgba(175,175,175,0.5)",
          "layer": "below",
          "line": {
           "color": "rgba(175,175,175,0.5)",
           "width": 0.5
          },
          "path": "M 0.8288705179205476, 0.5594404923869233 Q 0.28851578953652474, 0.277053495173975 0.5925644623415064, 0.8055230337922817L 0.5925644623415064, 0.8055230337922817 L 0.680555885338843, 0.7326961764132958 L 0.7596686117814838, 0.650310387641158 L 0.8288705179205476, 0.5594404923869233 ",
          "type": "path"
         },
         {
          "fillcolor": "rgba(26,152,80, 0.75)",
          "layer": "below",
          "line": {
           "color": "rgba(26,152,80, 0.75)",
           "width": 0.5
          },
          "path": "M 0.9999912593783691, 0.004181048536349972 Q 0.09950629504250144, 0.1734891848125256 -0.501311521334239, 0.8652668713047731L -0.501311521334239, 0.8652668713047731 L -0.47806763713822265, 0.8783230239046889 L -0.45448397054109646, 0.8907549160802873 M -0.45448397054109646, 0.8907549160802873 Q 0.09941669651189121, 0.17354054412344835 0.998287324764133, 0.05850142917288928L 0.998287324764133, 0.05850142917288928 L 0.9995083796040758, 0.031352816480098196 L 0.9999912593783691, 0.004181048536349972 ",
          "type": "path"
         },
         {
          "fillcolor": "rgba(26,152,80, 0.75)",
          "layer": "below",
          "line": {
           "color": "rgba(26,152,80, 0.75)",
           "width": 0.5
          },
          "path": "M 0.998287324764133, 0.05850142917288928 Q 0.039169222997289366, 0.1961269282117798 -0.8992364983092883, 0.4374628214013727L -0.8992364983092883, 0.4374628214013727 L -0.8792900407918686, 0.47628670374495463 L -0.8576683994499936, 0.5142031860897852 M -0.8576683994499936, 0.5142031860897852 Q 0.03871015543755493, 0.19621805183519772 0.9886935084631471, 0.14995047956853283L 0.9886935084631471, 0.14995047956853283 L 0.9945420755843919, 0.10433628272221417 L 0.998287324764133, 0.05850142917288928 ",
          "type": "path"
         },
         {
          "fillcolor": "rgba(26,152,80, 0.75)",
          "layer": "below",
          "line": {
           "color": "rgba(26,152,80, 0.75)",
           "width": 0.5
          },
          "path": "M 0.9665887293527299, 0.25633226150501454 Q -0.09357736256110233, 0.1767576793695482 -0.7553746640971014, -0.6552931533597701L -0.7553746640971014, -0.6552931533597701 L -0.8249114299488349, -0.5652620036228938 L -0.8837730419572677, -0.46791581540870963 L -0.9311977737832535, -0.3645143427920396 M -0.9311977737832535, -0.3645143427920396 Q -0.09296038966909377, 0.17708293523818225 0.8288705179205476, 0.5594404923869233L 0.8288705179205476, 0.5594404923869233 L 0.8859695963770551, 0.4637433280333832 L 0.9320664810984756, 0.3622872821569991 L 0.9665887293527299, 0.25633226150501454 ",
          "type": "path"
         },
         {
          "fillcolor": "rgba(26,152,80, 0.75)",
          "layer": "below",
          "line": {
           "color": "rgba(26,152,80, 0.75)",
           "width": 0.5
          },
          "path": "M 0.9886935084631471, 0.14995047956853283 Q -0.19785435304743748, 0.029217374628463428 0.9031517792809074, -0.4293213989329335L 0.9031517792809074, -0.4293213989329335 L 0.8797410208132529, -0.4754531904388231 L 0.8539758943235753, -0.5203125713590337 M 0.8539758943235753, -0.5203125713590337 Q -0.19793010749747175, 0.028699695922418375 0.9665887293527299, 0.25633226150501454L 0.9665887293527299, 0.25633226150501454 L 0.979087038143985, 0.2034418141347517 L 0.9886935084631471, 0.14995047956853283 ",
          "type": "path"
         },
         {
          "fillcolor": "rgba(26,152,80, 0.75)",
          "layer": "below",
          "line": {
           "color": "rgba(26,152,80, 0.75)",
           "width": 0.5
          },
          "path": "M 1.0, 0.0 Q -0.19920911829629712, 0.017768713729809125 0.9842136406194046, -0.17698448976872921L 0.9842136406194046, -0.17698448976872921 L 0.9838958595013594, -0.17874265762845007 L 0.9835749376509081, -0.18050025491675148 M 0.9835749376509081, -0.18050025491675148 Q -0.19921450855402892, 0.017708178381096763 0.9999912593783691, 0.004181048536349972L 0.9999912593783691, 0.004181048536349972 L 0.9999978148422048, 0.0020905288363103685 L 1.0, 0.0 ",
          "type": "path"
         },
         {
          "fillcolor": "rgba(175,175,175,0.5)",
          "layer": "below",
          "line": {
           "color": "rgba(175,175,175,0.5)",
           "width": 0.5
          },
          "path": "M 0.07593598098975045, 0.9971126951308584 Q -0.05140259235136033, 0.39668346764083817 -0.3275740404808306, 0.9448255119349092L -0.3275740404808306, 0.9448255119349092 L -0.2292419422734807, 0.9733694734799742 L -0.1285064808784008, 0.9917086691020953 L -0.02642376277076248, 0.9996508314211691 L 0.07593598098975045, 0.9971126951308584 ",
          "type": "path"
         },
         {
          "fillcolor": "rgba(215,48,39, 0.75)",
          "layer": "below",
          "line": {
           "color": "rgba(215,48,39, 0.75)",
           "width": 0.5
          },
          "path": "M 0.5391051772102465, 0.8422384507401147 Q 0.009754279074973794, 0.1997619934815618 -0.45448397054109646, 0.8907549160802873L -0.45448397054109646, 0.8907549160802873 L -0.43427558228238566, 0.9007800611876879 L -0.41384619878382606, 0.9103468150942133 M -0.41384619878382606, 0.9103468150942133 Q 0.009666995805131173, 0.19976623636666827 0.4998128144047106, 0.8661334484690233L 0.4998128144047106, 0.8661334484690233 L 0.5195963732113901, 0.8544118497221173 L 0.5391051772102465, 0.8422384507401147 ",
          "type": "path"
         },
         {
          "fillcolor": "rgba(215,48,39, 0.75)",
          "layer": "below",
          "line": {
           "color": "rgba(215,48,39, 0.75)",
           "width": 0.5
          },
          "path": "M 0.44079635162885883, 0.8976071392266705 Q -0.17901913213211174, 0.08917483014094009 -0.4509376409798964, -0.892555457071148L -0.4509376409798964, -0.892555457071148 L -0.56240011288693, -0.8268652326859367 L -0.6644485196874957, -0.7473340382219289 L -0.7553746640971014, -0.6552931533597701 M -0.7553746640971014, -0.6552931533597701 Q -0.17866398664052824, 0.0898842582308668 0.07593598098975045, 0.9971126951308584L 0.07593598098975045, 0.9971126951308584 L 0.20144668186050452, 0.9794994815554486 L 0.32372151218204265, 0.9461524097895495 L 0.44079635162885883, 0.8976071392266705 ",
          "type": "path"
         },
         {
          "fillcolor": "rgba(215,48,39, 0.75)",
          "layer": "below",
          "line": {
           "color": "rgba(215,48,39, 0.75)",
           "width": 0.5
          },
          "path": "M 0.4998128144047106, 0.8661334484690233 Q -0.19643338650505918, -0.03760218964573786 0.7843551078352395, -0.6203120705038472L 0.7843551078352395, -0.6203120705038472 L 0.7658237263572923, -0.6430505580032032 L 0.7466333911546206, -0.6652357320626663 M 0.7466333911546206, -0.6652357320626663 Q -0.1962770295879459, -0.038409994221981075 0.44079635162885883, 0.8976071392266705L 0.44079635162885883, 0.8976071392266705 L 0.4705677943814991, 0.8823638426924185 L 0.4998128144047106, 0.8661334484690233 ",
          "type": "path"
         },
         {
          "fillcolor": "rgba(215,48,39, 0.75)",
          "layer": "below",
          "line": {
           "color": "rgba(215,48,39, 0.75)",
           "width": 0.5
          },
          "path": "M 0.5669699776035957, 0.8237384563659622 Q -0.19599626297359643, -0.039817896734820564 0.843453720376856, -0.537201844358748L 0.843453720376856, -0.537201844358748 L 0.8413090726792525, -0.5405543860034587 L 0.8391510994458327, -0.5438983657806393 M 0.8391510994458327, -0.5438983657806393 Q -0.19598824653807426, -0.039857335823296355 0.5600620342823608, 0.8284506730973811L 0.5600620342823608, 0.8284506730973811 L 0.5635209314662213, 0.8261017853748062 L 0.5669699776035957, 0.8237384563659622 ",
          "type": "path"
         },
         {
          "fillcolor": "rgba(215,48,39, 0.75)",
          "layer": "below",
          "line": {
           "color": "rgba(215,48,39, 0.75)",
           "width": 0.5
          },
          "path": "M 0.5600620342823608, 0.8284506730973811 Q -0.18241879124430446, -0.08199624748100899 0.991370435079294, -0.13109027595779663L 0.991370435079294, -0.13109027595779663 L 0.9899082204400981, -0.1417099682630624 L 0.9883322495708898, -0.15231337583463994 M 0.9883322495708898, -0.15231337583463994 Q -0.18226898881803674, -0.08232870529317467 0.5391051772102465, 0.8422384507401147L 0.5391051772102465, 0.8422384507401147 L 0.5496268419647915, 0.8354102791992747 L 0.5600620342823608, 0.8284506730973811 ",
          "type": "path"
         },
         {
          "fillcolor": "rgba(175,175,175,0.5)",
          "layer": "below",
          "line": {
           "color": "rgba(175,175,175,0.5)",
           "width": 0.5
          },
          "path": "M -0.501311521334239, 0.8652668713047731 Q -0.23622507764756373, 0.32279670489396656 -0.6731040352014253, 0.7395478062948726L -0.6731040352014253, 0.7395478062948726 L -0.5905626941189093, 0.8069917622349163 L -0.501311521334239, 0.8652668713047731 ",
          "type": "path"
         },
         {
          "fillcolor": "rgba(175,175,175,0.5)",
          "layer": "below",
          "line": {
           "color": "rgba(175,175,175,0.5)",
           "width": 0.5
          },
          "path": "M -0.3875419582873673, 0.9218520654458568 Q -0.13102390788923476, 0.1511050481004302 -0.8576683994499936, 0.5142031860897852L -0.8576683994499936, 0.5142031860897852 L -0.8504440707272733, 0.5260654736483136 L -0.8430556872683093, 0.5378262806562716 M -0.8430556872683093, 0.5378262806562716 Q -0.13109438964880785, 0.1510439042219399 -0.41384619878382606, 0.9103468150942133L -0.41384619878382606, 0.9103468150942133 L -0.40073537062493564, 0.9161938456080654 L -0.3875419582873673, 0.9218520654458568 ",
          "type": "path"
         },
         {
          "fillcolor": "rgba(175,175,175,0.5)",
          "layer": "below",
          "line": {
           "color": "rgba(175,175,175,0.5)",
           "width": 0.5
          },
          "path": "M -0.6731040352014253, 0.7395478062948726 Q -0.1947495192127037, 0.04552608885486161 -0.9311977737832535, -0.3645143427920396L -0.9311977737832535, -0.3645143427920396 L -0.9658384185424984, -0.25914503519713766 L -0.9885966765505411, -0.15058755298239246 M -0.9885966765505411, -0.15058755298239246 Q -0.19455046264965703, 0.04636935930983308 -0.814392853297448, 0.5803139499426507L -0.814392853297448, 0.5803139499426507 L -0.7479977296594271, 0.6637012855376601 L -0.6731040352014253, 0.7395478062948726 ",
          "type": "path"
         },
         {
          "fillcolor": "rgba(175,175,175,0.5)",
          "layer": "below",
          "line": {
           "color": "rgba(175,175,175,0.5)",
           "width": 0.5
          },
          "path": "M -0.3570900889923566, 0.9340699483140601 Q -0.16766774167252707, -0.10902994268747801 0.7089333345156856, -0.7052754973855756L 0.7089333345156856, -0.7052754973855756 L 0.7076390874436229, -0.7065740739101292 L 0.7063424617301803, -0.7078702753732131 M 0.7063424617301803, -0.7078702753732131 Q -0.16764403423691482, -0.1090663916372598 -0.36091827321204206, 0.9325974480244077L -0.36091827321204206, 0.9325974480244077 L -0.3590049360567853, 0.9333356608888699 L -0.3570900889923566, 0.9340699483140601 ",
          "type": "path"
         },
         {
          "fillcolor": "rgba(175,175,175,0.5)",
          "layer": "below",
          "line": {
           "color": "rgba(175,175,175,0.5)",
           "width": 0.5
          },
          "path": "M -0.36091827321204206, 0.9325974480244077 Q -0.15419239289384912, -0.12737623786903454 0.8477029034994923, -0.5304712880057981L 0.8477029034994923, -0.5304712880057981 L 0.8455850085694623, -0.5338407939475798 L 0.843453720376856, -0.537201844358748 M 0.843453720376856, -0.537201844358748 Q -0.15417687915015021, -0.1273950153480111 -0.36855636189438645, 0.9296054045169778L -0.36855636189438645, 0.9296054045169778 L -0.3647403856128381, 0.9311092584133176 L -0.36091827321204206, 0.9325974480244077 ",
          "type": "path"
         },
         {
          "fillcolor": "rgba(175,175,175,0.5)",
          "layer": "below",
          "line": {
           "color": "rgba(175,175,175,0.5)",
           "width": 0.5
          },
          "path": "M -0.36855636189438645, 0.9296054045169778 Q -0.12468642260578054, -0.1563754968585958 0.9883322495708898, -0.15231337583463994L 0.9883322495708898, -0.15231337583463994 L 0.9869321736582924, -0.1611362299364052 L 0.9854533376299479, -0.1699462248889212 M 0.9854533376299479, -0.1699462248889212 Q -0.1244797784511722, -0.15654004202358926 -0.3875419582873673, 0.9218520654458568L -0.3875419582873673, 0.9218520654458568 L -0.3780690360398553, 0.9257774052048876 L -0.36855636189438645, 0.9296054045169778 ",
          "type": "path"
         },
         {
          "fillcolor": "rgba(175,175,175,0.5)",
          "layer": "below",
          "line": {
           "color": "rgba(175,175,175,0.5)",
           "width": 0.5
          },
          "path": "M -0.9408620178215341, 0.33878999899759615 Q -0.38328908163009845, 0.11440926493582465 -0.9726265714097448, 0.23237373472000783L -0.9726265714097448, 0.23237373472000783 L -0.9582227040752461, 0.2860231623395616 L -0.9408620178215341, 0.33878999899759615 ",
          "type": "path"
         },
         {
          "fillcolor": "rgba(175,175,175,0.5)",
          "layer": "below",
          "line": {
           "color": "rgba(175,175,175,0.5)",
           "width": 0.5
          },
          "path": "M -0.8992364983092883, 0.4374628214013727 Q -0.19549307656339732, 0.0422191546075674 -0.9996250945489522, -0.02738010861918614L -0.9996250945489522, -0.02738010861918614 L -0.9995428740994161, 0.030233141369674286 L -0.9961428776503537, 0.08774603869390593 M -0.9961428776503537, 0.08774603869390593 Q -0.19532053233306068, 0.04301034351327365 -0.9408620178215341, 0.33878999899759615L -0.9408620178215341, 0.33878999899759615 L -0.9213711080433309, 0.3886840378289347 L -0.8992364983092883, 0.4374628214013727 ",
          "type": "path"
         },
         {
          "fillcolor": "rgba(175,175,175,0.5)",
          "layer": "below",
          "line": {
           "color": "rgba(175,175,175,0.5)",
           "width": 0.5
          },
          "path": "M -0.8365932924996657, 0.5478244818776984 Q -0.10682784839841238, -0.16907930330636517 0.8539758943235753, -0.5203125713590337L 0.8539758943235753, -0.5203125713590337 L 0.8508545602046906, -0.5254012917560086 L 0.8477029034994923, -0.5304712880057981 M 0.8477029034994923, -0.5304712880057981 Q -0.10683076765744924, -0.16907745882204436 -0.8430556872683093, 0.5378262806562716L -0.8430556872683093, 0.5378262806562716 L -0.8398393684603122, 0.5428349981202244 L -0.8365932924996657, 0.5478244818776984 ",
          "type": "path"
         },
         {
          "fillcolor": "rgba(175,175,175,0.5)",
          "layer": "below",
          "line": {
           "color": "rgba(175,175,175,0.5)",
           "width": 0.5
          },
          "path": "M -0.8322191012570919, 0.5544469023295543 Q -0.07404229426200502, -0.18578950094238011 0.9854533376299479, -0.1699462248889212L 0.9854533376299479, -0.1699462248889212 L 0.9848397766107, -0.17346646478609778 L 0.9842136406194046, -0.17698448976872921 M 0.9842136406194046, -0.17698448976872921 Q -0.07396889971860769, -0.18581873391673553 -0.8365932924996657, 0.5478244818776984L -0.8365932924996657, 0.5478244818776984 L -0.8344127668619411, 0.5511400316596499 L -0.8322191012570919, 0.5544469023295543 ",
          "type": "path"
         },
         {
          "fillcolor": "rgba(175,175,175,0.5)",
          "layer": "below",
          "line": {
           "color": "rgba(175,175,175,0.5)",
           "width": 0.5
          },
          "path": "M -0.4509376409798964, -0.892555457071148 Q 0.05682437848108377, -0.3959431651263077 0.6837591816858791, -0.7297077370154827L 0.6837591816858791, -0.7297077370154827 L 0.6176159604531204, -0.786479831523714 L 0.5467800953577913, -0.837276255079842 L 0.47178979704999485, -0.8817110566390356 L 0.3932148415485506, -0.9194466207376849 L 0.31165224108483786, -0.9501962326944883 L 0.227721708005993, -0.9737262570675771 L 0.14206094620270943, -0.9898579128157692 L 0.05532080583734902, -0.9984686316762817 L -0.031839661813262636, -0.9994929894379535 L -0.11875821182708798, -0.9929232030341685 L -0.20477443737143014, -0.9788091896785677 L -0.28923478747168996, -0.9572581875942385 L -0.3714975326893378, -0.9284339412180784 L -0.4509376409798964, -0.892555457071148 ",
          "type": "path"
         },
         {
          "fillcolor": "rgba(175,175,175,0.5)",
          "layer": "below",
          "line": {
           "color": "rgba(175,175,175,0.5)",
           "width": 0.5
          },
          "path": "M -0.9891247592002917, 0.14707892689629243 Q -0.08477364972302837, -0.18114477169556206 0.7466333911546206, -0.6652357320626663L 0.7466333911546206, -0.6652357320626663 L 0.7293142671079673, -0.684178850734783 L 0.7115146753418728, -0.7026712366200494 M 0.7115146753418728, -0.7026712366200494 Q -0.08401027810119993, -0.18150006383844347 -0.9961428776503537, 0.08774603869390593L -0.9961428776503537, 0.08774603869390593 L -0.9930770339642568, 0.11746490800555792 L -0.9891247592002917, 0.14707892689629243 ",
          "type": "path"
         },
         {
          "fillcolor": "rgba(175,175,175,0.5)",
          "layer": "below",
          "line": {
           "color": "rgba(175,175,175,0.5)",
           "width": 0.5
          },
          "path": "M -0.9996250945489522, -0.02738010861918614 Q -0.029980823452408007, -0.19774010778068152 0.9465834277757027, -0.3224590117525033L 0.9465834277757027, -0.3224590117525033 L 0.9264097238828323, -0.37651696309108645 L 0.9031517792809074, -0.4293213989329335 M 0.9031517792809074, -0.4293213989329335 Q -0.029153625391672596, -0.19786375647531315 -0.9885966765505411, -0.15058755298239246L -0.9885966765505411, -0.15058755298239246 L -0.9960178067460087, -0.08915452116898198 L -0.9996250945489522, -0.02738010861918614 ",
          "type": "path"
         },
         {
          "fillcolor": "rgba(175,175,175,0.5)",
          "layer": "below",
          "line": {
           "color": "rgba(175,175,175,0.5)",
           "width": 0.5
          },
          "path": "M -0.9794456743074438, 0.2017081334017963 Q -0.0287121686912256, -0.19792829855542793 0.99638834924488, -0.08491323506417077L 0.99638834924488, -0.08491323506417077 L 0.9941475373106864, -0.10803089400304663 L 0.991370435079294, -0.13109027595779663 M 0.991370435079294, -0.13109027595779663 Q -0.027817826744128107, -0.19805597318746454 -0.9891247592002917, 0.14707892689629243L -0.9891247592002917, 0.14707892689629243 L -0.9846641434880543, 0.1744606675699033 L -0.9794456743074438, 0.2017081334017963 ",
          "type": "path"
         },
         {
          "fillcolor": "rgba(175,175,175,0.5)",
          "layer": "below",
          "line": {
           "color": "rgba(175,175,175,0.5)",
           "width": 0.5
          },
          "path": "M 0.7843551078352395, -0.6203120705038472 Q 0.4011057951221728, -0.2985199174584663 0.8193778089580147, -0.5732538758588231L 0.8193778089580147, -0.5732538758588231 L 0.8022115902443456, -0.5970398349169326 L 0.7843551078352395, -0.6203120705038472 ",
          "type": "path"
         },
         {
          "fillcolor": "rgba(175,175,175,0.5)",
          "layer": "below",
          "line": {
           "color": "rgba(175,175,175,0.5)",
           "width": 0.5
          },
          "path": "M 0.7089333345156856, -0.7052754973855756 Q 0.1556472933680182, -0.12559426765266832 0.8391510994458327, -0.5438983657806393L 0.8391510994458327, -0.5438983657806393 L 0.8380671264262876, -0.5455671284118803 L 0.83697983485684, -0.5472337307248311 M 0.83697983485684, -0.5472337307248311 Q 0.1556276346396898, -0.12561862655058456 0.7115146753418728, -0.7026712366200494L 0.7115146753418728, -0.7026712366200494 L 0.7102251985959163, -0.7039745501645576 L 0.7089333345156856, -0.7052754973855756 ",
          "type": "path"
         },
         {
          "fillcolor": "rgba(175,175,175,0.5)",
          "layer": "below",
          "line": {
           "color": "rgba(175,175,175,0.5)",
           "width": 0.5
          },
          "path": "M 0.9465834277757027, -0.3224590117525033 Q 0.48180286392443117, -0.13366375841721678 0.9774199527726675, -0.21130602433881668L 0.9774199527726675, -0.21130602433881668 L 0.9636057278488623, -0.26732751683443357 L 0.9465834277757027, -0.3224590117525033 ",
          "type": "path"
         },
         {
          "fillcolor": "rgba(175,175,175,0.5)",
          "layer": "below",
          "line": {
           "color": "rgba(175,175,175,0.5)",
           "width": 0.5
          },
          "path": "M 0.99638834924488, -0.08491323506417077 Q 0.49915297036242984, -0.029091445106134775 0.9995065603657315, -0.03141075907812924L 0.9995065603657315, -0.03141075907812924 L 0.9983059407248597, -0.05818289021226955 L 0.99638834924488, -0.08491323506417077 ",
          "type": "path"
         },
         {
          "fillcolor": "rgba(26,152,80, 0.75)",
          "layer": "below",
          "line": {
           "color": "rgba(26,152,80, 0.75)",
           "width": 0.45
          },
          "path": "M 1.1, 0.0 L 1.0999430029642472, 0.011197777904307515 L 1.099772017763647, 0.022394395371983095 L 1.0994870621175623, 0.03358869208665198 L 1.0990881655562244, 0.04477950797244132 L 1.098575369417672, 0.055965683314199925 L 1.0979487268434693, 0.06714605887768073 L 1.097208302773196, 0.07831947602967332 L 1.0963541739377203, 0.08948477685807427 L 1.0953864288512447, 0.10064080429188263 L 1.0943051678021358, 0.11178640222110842 L 1.0931105028425292, 0.12292041561658133 L 1.0918025577767183, 0.1340416906496476 L 1.0903814681483244, 0.14514907481174236 L 1.08884738122625, 0.15624141703382521 L 1.087200455989417, 0.16731756780566673 L 1.085440863110292, 0.17837637929497313 L 1.0835687849371995, 0.18941670546633743 L 1.0815844154754237, 0.20043740220000425 L 1.079487960367105, 0.21143732741043575 L 1.0772796368699284, 0.22241534116466746 L 1.0749596738346092, 0.2333703058004403 L 1.0725283116811763, 0.24430108604409795 L 1.0699858023740583, 0.25520654912823615 L 1.0673324093959713, 0.26608556490909246 L 1.0645684077206143, 0.2769370059836644 L 1.0616940837841733, 0.28775974780654295 L 1.0587097354556374, 0.2985526688064506 L 1.0556156720059315, 0.30931465050247087 L 1.0524122140758645, 0.3200445776199574 L 1.0490996936429022, 0.330741338206111 L 1.0456784539867636, 0.34140382374521244 L 1.0421488496538471, 0.35203092927349905 L 1.038511246420488, 0.3626215534936731 L 1.0347660212550525, 0.37317459888903026 L 1.0309135622788725, 0.38368897183719675 L 1.0269542687260251, 0.39416358272346175 L 1.0228885509019572, 0.4045973460536959 L 1.0187168301409677, 0.41498918056684186 L 1.0144395387625427, 0.42533800934696636 L 1.010057120026554, 0.4356427599348621 L 1.005570028087324, 0.44590236443918785 L 1.0009787279465618, 0.4561157596471351 L 0.996283695405173, 0.46628188713460944 L 0.9914854170139533, 0.47639969337591664 L 0.9865843900231663, 0.48646812985294025 L 0.9815811223310131, 0.4964861531638005 L 0.9764761324309985, 0.5064527251309832 L 0.9712699493581985, 0.5163668129089268 L 0.9659631126344362, 0.5262273890910579 L 0.9605561722123708, 0.5360334318162614 L 0.9550496884185049, 0.5457839248747777 L 0.949444231895118, 0.5554778578135132 L 0.9437403835411299, 0.5651142260407547 L 0.9379387344519016, 0.5746920309302762 L 0.9320398858579797, 0.5842102799248269 L 0.9260444490627897, 0.593667986638992 L 0.9199530453792872, 0.6030641709614122 L 0.9137663060655693, 0.6123978591563531 L 0.9074848722594577, 0.6216680839646154 L 0.9011093949120562, 0.6308738847037718 L 0.894640534720293, 0.6400143073677247 L 0.8880789620584509, 0.6490884047255695 L 0.8814253569086963, 0.6580952364197582 L 0.8746804087906124, 0.6670338690635488 L 0.8678448166897426, 0.6759033763377331 L 0.860919288985155, 0.6847028390866328 L 0.8539045433760317, 0.6934313454133515 L 0.8468013068072936, 0.7020879907742762 L 0.8396103153942648, 0.710671878072816 L 0.8323323143463908, 0.7191821177523682 L 0.8249680578900093, 0.7276178278885053 L 0.8175183091901905, 0.7359781342803687 L 0.8099838402716488, 0.7442621705412631 L 0.802365431938738, 0.7524690781884413 L 0.7946638736945341, 0.7605980067320698 L 0.7868799636590204, 0.7686481137633651 L 0.7790145084863759, 0.776618565041894 L 0.7710683232813819, 0.7845085345820264 L 0.7630422315149517, 0.7923172047385334 L 0.7549370649387931, 0.8000437662913203 L 0.7467536634992137, 0.8076874185292867 L 0.7384928752500759, 0.815247369333306 L 0.730155556264913, 0.822722835258312 L 0.7217425705482127, 0.8301130416144891 L 0.7132547899458799, 0.8374172225475536 L 0.7046930940548862, 0.8446346211181208 L 0.696058370132117, 0.8517644893801462 L 0.687351513002423, 0.8588060884584365 L 0.6785734249658903, 0.8657586886252205 L 0.6697250157043326, 0.87262156937577 L 0.6608072021870209, 0.8793940195030677 L 0.651820908575657, 0.88607533717151 L 0.5925644623415063, 0.8055230337922817 L 0.600733820170019, 0.7994491086391524 L 0.6088409233675751, 0.7932923357961544 L 0.616884931787173, 0.787053353295655 L 0.6248650118203846, 0.7807328076894877 L 0.6327803364837427, 0.774331353981951 L 0.640630085504442, 0.767849655561928 L 0.6484134454053453, 0.7612883841341396 L 0.6561296095892842, 0.7546482196495354 L 0.6637777784226482, 0.747929850234829 L 0.6713571593182508, 0.7411339721211873 L 0.6788669668174669, 0.7342612895720788 L 0.68630642267163, 0.7273125148102911 L 0.6936747559226832, 0.7202883679441212 L 0.7009712029830744, 0.7131895768927512 L 0.7081950077148871, 0.7060168773108126 L 0.7153454215082002, 0.69877101251215 L 0.7224217033586673, 0.6914527333927907 L 0.7294231199443072, 0.6840627983531284 L 0.7363489457014989, 0.67660197321933 L 0.7431984629001731, 0.6690710311639715 L 0.7499709617181902, 0.6614707526259138 L 0.7566657403149006, 0.6538019252294256 L 0.763282104903877, 0.6460653437025599 L 0.7698193698248122, 0.6382618097947965 L 0.7762768576145742, 0.6303921321939558 L 0.7826538990774136, 0.6224571264423934 L 0.7889498333543113, 0.6144576148524846 L 0.7951640079914657, 0.606394426421408 L 0.8012957790079056, 0.5982683967452347 L 0.807344510962228, 0.5900803679323359 L 0.8133095770184482, 0.5818311885161133 L 0.8191903590109602, 0.5735217133670653 L 0.8249862475085978, 0.5651528036041957 L 0.8306966418777902, 0.5567253265057756 L 0.8363209503448065, 0.5482401554194656 L 0.8418585900570815, 0.5396981696718108 L 0.8473089871436178, 0.5311002544771153 L 0.8526715767744559, 0.5224473008457056 L 0.8579458032192089, 0.5137402054915952 L 0.8631311199046526, 0.5049798707395574 L 0.868226989471368, 0.49616720443161605 L 0.8732328838294279, 0.48730311983296487 L 0.8781482842131237, 0.47838853553732535 L 0.8829726812347258, 0.46942437537175163 L 0.8877055749372713, 0.46041156830089375 L 0.8923464748463755, 0.4513510483307277 L 0.8968949000210602, 0.44224375441176383 L 0.9013503791035938, 0.4330906303417424 L 0.905712450368339, 0.42389262466782673 L 0.9099806617696016, 0.41465069058830456 L 0.9141545709884764, 0.4053657858538071 L 0.9182337454786853, 0.39603887266805643 L 0.9222177625114023, 0.3866709175881512 L 0.9261062092190615, 0.37726289142440167 L 0.9298986826381429, 0.3678157691397235 L 0.9335947897509318, 0.3583305297486016 L 0.9371941475262477, 0.3488081562156334 L 0.9406963829591385, 0.33924963535366387 L 0.9441011331095344, 0.32965595772152095 L 0.947408045139861, 0.32002811752136273 L 0.9506167763516032, 0.31036711249564763 L 0.9537269942208201, 0.30067394382373724 L 0.9567383764326041, 0.29094961601814306 L 0.9596506109144831, 0.281195136820428 L 0.9624633958687613, 0.27141151709677325 L 0.9651764398037938, 0.2615997707332208 L 0.9677894615641948, 0.25176091453060395 L 0.9703021903599739, 0.24189596809917496 L 0.9727143657945984, 0.23200595375294195 L 0.9750257378919783, 0.2220918964037254 L 0.9772360671223719, 0.2121548234549457 L 0.9793451244272076, 0.2021957646951522 L 0.9813526912428227, 0.1922157521913052 L 0.9832585595231124, 0.18221582018182203 L 0.9850625317610904, 0.17219700496939766 L 0.9867644210093565, 0.1621603448136119 L 0.98836405089947, 0.15210687982333337 L 0.9898612556602272, 0.142037651848932 L 0.9912558801348403, 0.13195370437431123 L 0.9925477797970166, 0.12185608240877054 L 0.9937368207659356, 0.11174583237871029 L 0.9948228798201234, 0.10162400201918946 L 0.9958058444102225, 0.09149164026534784 L 0.9966856126706547, 0.08134979714370387 L 0.9974620934301782, 0.07119952366333937 L 0.9981352062213357, 0.06104187170698247 L 0.9987048812887928, 0.05087789392199993 L 0.9991710595965675, 0.04070864361131028 L 0.9995336928341475, 0.030535174624229073 L 0.9997927434214972, 0.020358541247257358 L 0.999948184512952, 0.010179798094825013 L 1.0, 0.0 L 1.1 ,0.0",
          "type": "path"
         },
         {
          "fillcolor": "rgba(215,48,39, 0.75)",
          "layer": "below",
          "line": {
           "color": "rgba(215,48,39, 0.75)",
           "width": 0.45
          },
          "path": "M 0.6236669753639553, 0.9061123020025585 L 0.6144106194702478, 0.9124141552399253 L 0.6050905916055498, 0.9186214541096055 L 0.5957078576134271, 0.9247335553431707 L 0.5862633898357434, 0.9307498255376163 L 0.576758167011894, 0.9366696412210018 L 0.5671931741773794, 0.9424923889170612 L 0.5575694025617243, 0.9482174652087791 L 0.5478878494857551, 0.9538442768009224 L 0.5381495182582486, 0.9593722405815248 L 0.5283554180719555, 0.964800783682315 L 0.5185065638990187, 0.9701293435380836 L 0.5086039763857897, 0.9753573679449821 L 0.49864868174705895, 0.9804843151177486 L 0.488641711659707, 0.9855096537458534 L 0.47858410315579153, 0.9904328630485596 L 0.46847689851507934, 0.9952534328288912 L 0.45832114515703226, 0.9999708635265063 L 0.448117895532264, 1.0045846662694664 L 0.43786820701347184, 1.009094362924899 L 0.42757314178586087, 1.0134994861485467 L 0.4172337667370695, 1.017799579433199 L 0.4068511533466053, 1.021994197156 L 0.39642637757480775, 1.0260829046246294 L 0.3859605197513446, 1.030065278122349 L 0.3754546644632572, 1.0339409049519142 L 0.3649099004425625, 1.0377093834783413 L 0.3543273204534274, 1.0413703231705302 L 0.3437080211789251, 1.0449233446417339 L 0.33305310310738323, 1.0483680796888768 L 0.32236367041834074, 1.05170417133071 L 0.3116408308681194, 1.0549312738448076 L 0.3008856956750273, 1.0580490528033921 L 0.2900993794042009, 1.061057185107993 L 0.2792829998521018, 1.0639553590229296 L 0.26843767793067985, 1.066743274207616 L 0.25756453755120956, 1.0694206417476857 L 0.24666470550782055, 1.0719871841849324 L 0.23573931136072435, 1.0744426355460637 L 0.22478948731915932, 1.076786741370263 L 0.21381636812405688, 1.0790192587355603 L 0.20282109093044778, 1.0811399562840065 L 0.19180479518961857, 1.0831486142456486 L 0.18076862253102732, 1.0850450244613055 L 0.1697137166439974, 1.0868289904041395 L 0.158641223159194, 1.088500327200022 L 0.147552289529903, 1.0900588616466929 L 0.13644806491311795, 1.0915044322317091 L 0.12532970005045216, 1.092836889149183 L 0.1141983471488872, 1.0940560943153064 L 0.10305515976136705, 1.09516192138266 L 0.09190129266725497, 1.0961542557533077 L 0.08073790175266307, 1.097032994590672 L 0.06956614389066633, 1.0977980468301916 L 0.058387176821414075, 1.098449333188757 L 0.04720215903215286, 1.0989867861729292 L 0.03601224963717194, 1.0994103500859314 L 0.024818608257681736, 1.0997199810334228 L 0.013622394901641827, 1.0999156469280469 L 0.0024247698435487432, 1.0999973274927561 L -0.008773106495804943, 1.0999650142629143 L -0.01997007366958662, 1.0998187105871728 L -0.031164971325181392, 1.099558431627124 L -0.04235663932443981, 1.09918420435573 L -0.0535439178639056, 1.0986960675545279 L -0.06472564759500649, 1.0980940718096093 L -0.0759006697441981, 1.0973782795063798 L -0.08706782623304932, 1.0965487648230934 L -0.09822595979825559, 1.0956056137231645 L -0.10937391411156666, 1.09454892394626 L -0.12051053389961744, 1.0933788049981714 L -0.13163466506365135, 1.092095378139465 L -0.14274515479912012, 1.0906987763729157 L -0.15384085171514958, 1.0891891444297255 L -0.16492060595385954, 1.0875666387545233 L -0.17598326930952646, 1.0858314274891525 L -0.18702769534757022, 1.0839836904552471 L -0.19805273952336191, 1.0820236191355952 L -0.2090572593008344, 1.0799514166542974 L -0.22004011427088394, 1.0777672977557153 L -0.23100016626955133, 1.0754714887822177 L -0.2419362794959714, 1.0730642276507252 L -0.2528473206300786, 1.0705457638280536 L -0.2637321589500513, 1.0679163583050617 L -0.2745896664494913, 1.065176283569606 L -0.28541871795432044, 1.0623258235782995 L -0.2962181912393829, 1.0593652737270882 L -0.306986967144742, 1.056294940820637 L -0.3177239296916612, 1.0531151430405359 L -0.32842796619825293, 1.0498262099123261 L -0.33909796739478715, 1.0464284822713514 L -0.349732827538646, 1.0429223122274371 L -0.3603314445289137, 1.0393080631284002 L -0.3275740404808306, 0.9448255119349092 L -0.3179389341260418, 0.9481111929340337 L -0.30827087944980647, 0.9512986202466831 L -0.2985708783620481, 0.95438746355666 L -0.2888399360833283, 0.9573774027641235 L -0.27907906104067454, 0.9602681280187609 L -0.26928926476307535, 0.9630593397518983 L -0.2594715617766549, 0.965750748707545 L -0.24962696949953753, 0.9683420759723689 L -0.23975650813641025, 0.9708330530046015 L -0.2298612005727987, 0.9732234216618667 L -0.2199420722690649, 0.975512934227932 L -0.21000015115413756, 0.9777013534383796 L -0.20003646751898538, 0.9797884525051956 L -0.19005205390984944, 0.9817740151402703 L -0.18004794502123808, 0.9836578355778137 L -0.17002517758870017, 0.985439718595679 L -0.15998479028138768, 0.9871194795355932 L -0.14992782359441775, 0.9886969443222939 L -0.13985531974104506, 0.9901719494815686 L -0.12976832254465465, 0.991544342157196 L -0.11966787733059212, 0.9928139801267861 L -0.10955503081783402, 0.9939807318165194 L -0.09943083101051514, 0.9950444763147818 L -0.08929632708932325, 0.9960051033846948 L -0.0791525693027721, 0.9968625134755393 L -0.0690006088583619, 0.9976166177330725 L -0.05884149781364225, 0.9982673380087356 L -0.048676288967186905, 0.9988146068677525 L -0.038506035749490734, 0.9992583675961182 L -0.02833179211380126, 0.9995985742064764 L -0.018154612426896925, 0.9998351914428844 L -0.007975551359822674, 0.9999681947844675 L 0.0022043362214079483, 0.9999975704479601 L 0.012383995365128932, 0.9999233153891335 L 0.02256237114334703, 0.9997454373031116 L 0.0327384087610654, 0.999463954623574 L 0.0429110536655935, 0.9990788965208446 L 0.053079251655830974, 0.99859030289887 L 0.06324194899151483, 0.9979982243910831 L 0.07339809250242096, 0.9973027223551564 L 0.08354662969750451, 0.9965038688666432 L 0.09368650887397004, 0.9956017467115089 L 0.10381667922626109, 0.9945964493775511 L 0.11393609095495649, 0.9934880810447119 L 0.12404369537556176, 0.9922767565742809 L 0.13413844502718456, 0.9909626014969934 L 0.14421929378108544, 0.9895457520000199 L 0.15428519694908854, 0.9880263549128541 L 0.164335111391843, 0.9864045676920958 L 0.17436799562692595, 0.9846805584051349 L 0.1843828099367707, 0.982854505712733 L 0.19437851647641533, 0.9809265988505093 L 0.2043540793810539, 0.9788970376093299 L 0.21430846487338576, 0.9767660323146033 L 0.22424064137074592, 0.974533803804484 L 0.2341495795920087, 0.9722005834069869 L 0.24403425266425438, 0.9697666129160144 L 0.25389363622918343, 0.9672321445662996 L 0.2637267085492735, 0.9645974410072663 L 0.27353245061366116, 0.9618627752758109 L 0.2833098462437449, 0.9590284307680068 L 0.29305788219849155, 0.9560947012097364 L 0.30277554827943925, 0.9530618906262515 L 0.31246183743538647, 0.9499303133106671 L 0.3221157458667522, 0.946700293791391 L 0.33173627312960224, 0.943372166798492 L 0.3413224222393247, 0.9399462772290128 L 0.3508731997739496, 0.9364229801112263 L 0.36038761597709795, 0.9328026405678448 L 0.36986468486055024, 0.9290856337781819 L 0.37930342430642683, 0.9252723449392718 L 0.3887028561689644, 0.9213631692259515 L 0.39806200637588346, 0.917358511749908 L 0.40737990502933086, 0.9132587875176966 L 0.41665558650639295, 0.9090644213877329 L 0.425888089559163, 0.9047758480262647 L 0.4350764574143559, 0.9003935118623269 L 0.4442197378724609, 0.8959178670416849 L 0.4533169834064172, 0.8913493773797714 L 0.4623672512598088, 0.88668851631362 L 0.4713696035445625, 0.8819357668528032 L 0.4803231073381413, 0.8770916215293773 L 0.489226834780226, 0.8721565823468407 L 0.49807986316886826, 0.8671311607281112 L 0.5068812750561129, 0.8620158774625264 L 0.5156301583430721, 0.8568112626518738 L 0.524325606374449, 0.8515178556554561 L 0.532966718032494, 0.8461362050341966 L 0.5415525978303882, 0.8406668684937915 L 0.5500823560050452, 0.835110412826914 L 0.5585551086093161, 0.8294674138544775 L 0.5669699776035957, 0.8237384563659622 L 0.6236669753639553 ,0.9061123020025585",
          "type": "path"
         },
         {
          "fillcolor": "rgba(244,109,67, 0.75)",
          "layer": "below",
          "line": {
           "color": "rgba(244,109,67, 0.75)",
           "width": 0.45
          },
          "path": "M -0.3927990978915923, 1.0274769431454662 L -0.4033508798501255, 1.0233807051748287 L -0.41385995352809773, 1.0191761078762203 L -0.4243252061859828, 1.0148635964479282 L -0.4347455297241852, 1.0104436275145872 L -0.4451198208003712, 1.0059166690788286 L -0.4554469809462936, 1.001283200471728 L -0.46572591668410246, 0.9965437123020509 L -0.4759555396421266, 0.9916987064043051 L -0.48613476667011274, 0.9867486957856064 L -0.49626251995391607, 0.9816942045713569 L -0.5063377271296214, 0.9765357679497506 L -0.5163593213970901, 0.9712739321151046 L -0.5263262416329146, 0.9659092542100272 L -0.5362374325027772, 0.9604423022664244 L -0.5460918445731916, 0.9548736551453545 L -0.5558884344226184, 0.9492039024757382 L -0.5656261647519502, 0.9434336445919236 L -0.5753040044943426, 0.9375634924701226 L -0.5849209289243879, 0.9315940676637177 L -0.5944759197666155, 0.9255260022374503 L -0.6039679653033128, 0.9193599387004943 L -0.6133960604816487, 0.9130965299384253 L -0.6227592070200914, 0.9067364391440917 L -0.6320564135141111, 0.9002803397473919 L -0.641286695541154, 0.893728915343969 L -0.6504490757648759, 0.8870828596228307 L -0.6595425840386252, 0.8803428762928983 L -0.6685662575081678, 0.8735096790084941 L -0.6775191407136361, 0.8665839912937789 L -0.6864002856906977, 0.8595665464661413 L -0.6952087520709272, 0.8524580875585522 L -0.7039436071813788, 0.8452593672408895 L -0.7126039261433395, 0.837971147740242 L -0.7211887919702588, 0.8305942007602022 L -0.7296972956648422, 0.823129307399157 L -0.7381285363153005, 0.8155772580675801 L -0.7464816211907412, 0.8079388524043406 L -0.7547556658356925, 0.8002148991920361 L -0.7629497941637552, 0.792406216271354 L -0.7710631385503646, 0.7845136304544755 L -0.7790948399246581, 0.7765379774375311 L -0.787044047860436, 0.7684801017121132 L -0.7949099206662096, 0.7603408564758576 L -0.8026916254743206, 0.7521211035421045 L -0.8103883383291296, 0.743821713248647 L -0.8179992442742584, 0.7354435643655753 L -0.8255235374388823, 0.7269875440022302 L -0.832960421123057, 0.7184545475132715 L -0.8403091078820764, 0.7098454784038772 L -0.8475688196098509, 0.7011612482340736 L -0.8547387876212964, 0.692402776522218 L -0.8618182527337234, 0.6835709906476374 L -0.8688064653472247, 0.6746668257524316 L -0.8757026855240443, 0.6656912246424591 L -0.8825061830669252, 0.6566451376875084 L -0.8892162375964253, 0.6475295227206693 L -0.8958321386271931, 0.6383453449369155 L -0.8143928532974483, 0.5803139499426504 L -0.808378397814932, 0.5886632024733357 L -0.8022783482426592, 0.5969501251704622 L -0.7960933504764038, 0.6051738405840537 L -0.7898240594065679, 0.613333477956756 L -0.7834711388488393, 0.621428173316034 L -0.7770352614739058, 0.6294570695656527 L -0.770517108736228, 0.6374193165764305 L -0.7639173708018875, 0.645314071276252 L -0.7572367464755063, 0.6531404977393377 L -0.7504759431262565, 0.6608977672747547 L -0.7436356766129621, 0.6685850585141594 L -0.7367166712082995, 0.67620155749877 L -0.7297196595221096, 0.6837464577655494 L -0.7226453824238268, 0.6912189604325978 L -0.7154945889640327, 0.6986182742837392 L -0.7082680362951437, 0.7059436158523009 L -0.7009664895912404, 0.7131942095040686 L -0.6935907219670501, 0.7203692875194126 L -0.6861415143960841, 0.7274680901745783 L -0.6786196556279466, 0.7344898658221277 L -0.6710259421048186, 0.7414338709705273 L -0.6633611778771292, 0.74829937036287 L -0.655626174518417, 0.7550856370547292 L -0.6478217510393994, 0.761791952491129 L -0.6399487338012534, 0.7684176065826267 L -0.6320079564281156, 0.774961897780502 L -0.624000259718816, 0.7814241331510374 L -0.615926491557851, 0.7878036284488898 L -0.607787506825607, 0.79409970818954 L -0.599584167307841, 0.8003117057208166 L -0.5913173416044326, 0.8064389632934824 L -0.5829879050374127, 0.8124808321308808 L -0.5745967395582828, 0.8184366724976289 L -0.5661447336546285, 0.8243058537673561 L -0.5576327822560443, 0.8300877544894775 L -0.5490617866393752, 0.8357817624549947 L -0.5404326543332868, 0.8413872747613184 L -0.5317462990221707, 0.8469036978761069 L -0.5230036404494023, 0.8523304477001113 L -0.5142056043199547, 0.8576669496290213 L -0.5053531222023803, 0.8629126386143073 L -0.4964471314301741, 0.8680669592230494 L -0.48748857500252474, 0.8731293656967494 L -0.4784784014844678, 0.8780993220091156 L -0.4694175649064455, 0.8829763019228223 L -0.4603070246632922, 0.8877597890452278 L -0.45114774541265096, 0.8924492768830516 L -0.4419406969728297, 0.8970442688960057 L -0.43268685422011505, 0.9015442785493682 L -0.42338719698554766, 0.9059488293655007 L -0.414042709951176, 0.9102574549742981 L -0.404654382545792, 0.9144696991625714 L -0.3952232088401683, 0.9185851159223519 L -0.3857501874418025, 0.9226032694981166 L -0.37623632138917973, 0.9265237344329275 L -0.3666826180455686, 0.9303460956134806 L -0.3570900889923566, 0.9340699483140601 L -0.3927990978915923 ,1.0274769431454662",
          "type": "path"
         },
         {
          "fillcolor": "rgba(253,174,97, 0.75)",
          "layer": "below",
          "line": {
           "color": "rgba(253,174,97, 0.75)",
           "width": 0.45
          },
          "path": "M -0.9154410113828011, 0.6098915925625098 L -0.9217268593168384, 0.6003495621834977 L -0.9279132504637986, 0.5907427524851304 L -0.9339995172955728, 0.581072200067803 L -0.9399850030877336, 0.5713389484099205 L -0.9458690619903956, 0.5615440477553025 L -0.951651059097906, 0.5516885549998605 L -0.957330370517352, 0.5417735335775546 L -0.9629063834358803, 0.5318000533456477 L -0.9683784961868214, 0.5217691904692636 L -0.973746118314611, 0.5116820273052669 L -0.979008670638502, 0.501539652285473 L -0.9841655853150596, 0.4913431597992041 L -0.9892163058994325, 0.4810936500752016 L -0.9941602874053955, 0.4707922290629078 L -0.9989969963641547, 0.460440008313132 L -1.0037259108819103, 0.4500381048581103 L -1.0083465206961701, 0.4395876410909755 L -1.0128583272308085, 0.42908974464464744 L -1.0172608436498638, 0.4185455482701588 L -1.0215535949100694, 0.40795618971442776 L -1.0257361178121123, 0.3973228115974925 L -1.0298079610506137, 0.38664656128921937 L -1.033768685262825, 0.3759285907854983 L -1.0376178630760375, 0.3651700565839398 L -1.0413550791536965, 0.3543721195590855 L -1.044979930240217, 0.3435359448371469 L -1.048492025204497, 0.3326627016702849 L -1.0518909850821196, 0.3217535633104444 L -1.055176443116247, 0.3108097068827577 L -1.0583480447971922, 0.29983231325852905 L -1.0614054479006727, 0.28882256692781555 L -1.0643483225247372, 0.2777816558716179 L -1.0671763511253631, 0.2667107714336936 L -1.0698892285507196, 0.25561110819200816 L -0.972626571409745, 0.23237373472000739 L -0.9701603192048754, 0.24246433766699416 L -0.9675893841133975, 0.25252877806510715 L -0.964914043546066, 0.26256596993437775 L -0.9621345861792655, 0.2725748302350264 L -0.9592513119238608, 0.28255427898432517 L -0.956264531892836, 0.2925032393731313 L -0.9531745683677243, 0.3024206378820771 L -0.9499817547638336, 0.3123054043974062 L -0.9466864355942695, 0.32215647232644135 L -0.9432889664327613, 0.3319727787126725 L -0.9397897138752953, 0.34175326435045295 L -0.9361890555005578, 0.3514968738992903 L -0.9324873798291929, 0.36120255599772044 L -0.9286850862818812, 0.37086926337675247 L -0.9247825851362397, 0.3804959529728716 L -0.9207802974825531, 0.39008158604058857 L -0.9166786551783365, 0.3996251282645231 L -0.9124781008017366, 0.40912554987100935 L -0.908179087603777, 0.4185818257392109 L -0.9037820794594504, 0.42799293551173434 L -0.8992875508176659, 0.4373578637047287 L -0.8946959866500541, 0.44667559981745825 L -0.8900078823986382, 0.45594513844133905 L -0.8852237439223736, 0.4651654793684244 L -0.8803440874425648, 0.4743356276993306 L -0.8753694394871638, 0.4834545939505888 L -0.8703003368339564, 0.4925213941614133 L -0.8651373264526417, 0.5015350499998731 L -0.859880965445814, 0.5104945888684568 L -0.8545318209888486, 0.5193990440090186 L -0.8490904702687025, 0.5282474546070937 L -0.843557500421635, 0.537038865895573 L -0.837933508469853, 0.5457723292577251 L -0.8322191012570919, 0.5544469023295543 L -0.9154410113828011 ,0.6098915925625098",
          "type": "path"
         },
         {
          "fillcolor": "rgba(254,224,139, 0.75)",
          "layer": "below",
          "line": {
           "color": "rgba(254,224,139, 0.75)",
           "width": 0.45
          },
          "path": "M -1.0773902417381882, 0.22187894674197595 L -1.0870566849693946, 0.16824911192440425 L -1.0940552581355734, 0.11420635772978717 L -1.0983687852383557, 0.05988331665847267 L -1.0999866799578273, 0.0054133090948701055 L -1.0989049716336259, -0.04906998388934216 L -1.0951263150097927, -0.10343284861721797 L -1.0886599837194626, -0.15754186696855993 L -1.0795218475253798, -0.21126424381657877 L -1.0677343333720994, -0.2644681329355932 L -1.05332637034546, -0.3170229605799224 L -1.0363333186744064, -0.36879974593984133 L -1.016796882949411, -0.41967141768812655 L -0.9947650097704704, -0.4695131258403282 L -0.9702917700758749, -0.5182025481633854 L -0.9434372264405368, -0.5656201903806013 L -0.9142672856695613, -0.6116496794362056 L -0.882853537048823, -0.656178049099772 L -0.8492730766495149, -0.6990960172095587 L -0.8136083181178689, -0.7402982538743509 L -0.7759467904144064, -0.7796836399755874 L -0.7363809229991105, -0.817155515335348 L -0.6950078189897254, -0.8526219159411428 L -0.6519290168498922, -0.8859957996453105 L -0.607250241192003, -0.9171952597850985 L -0.5610811433063436, -0.9461437261991681 L -0.5135350320533266, -0.9727701531471805 L -0.4647285957792667, -0.9970091936712676 L -0.414781615938174, -1.0188013599714703 L -0.3638166731223948, -1.038093169401549 L -0.31195884622356573, -1.0548372757268591 L -0.2593354054622142, -1.068992585322157 L -0.2060755000393598, -1.0805243580241621 L -0.15230984117669644, -1.0894042923913645 L -0.09817038132324402, -1.0956105951618254 L -0.043789990315762604, -1.0991280347385128 L 0.01069787071230333, -1.0999479785709063 L 0.06515947687305053, -1.0980684143411241 L 0.11946116771364368, -1.0934939549025833 L 0.1734696752477136, -1.0862358269590693 L 0.22705245102355745, -1.0763118435119978 L 0.28007799142644296, -1.0637463601434927 L 0.33241616041665856, -1.0485702152425684 L 0.38393850891124565, -1.030820654321114 L 0.43451859002557786, -1.0105412386054238 L 0.48403226940110855, -0.9877817381276153 L 0.5323580298576917, -0.9625980095793037 L 0.5793772696227856, -0.9350518592273085 L 0.6249745934056178, -0.9052108912278304 L 0.6690380956019536, -0.8731483417113678 L 0.7114596349344396, -0.8389428990455513 L 0.7521350998544678, -0.8026785107170303 L 0.6837591816858798, -0.7297077370154821 L 0.646781486304036, -0.762675362768683 L 0.6082164505472305, -0.793771219737607 L 0.5681587212778343, -0.8229189920253003 L 0.5267066087479868, -0.8500471447520985 L 0.4839618453251742, -0.8750890996175488 L 0.44002933581918957, -0.897983398297832 L 0.39501690002325257, -0.9186738532776579 L 0.34903500810113236, -0.9371096857464671 L 0.30219650946968957, -0.9532456502205168 L 0.25461635584222087, -0.9670421455849934 L 0.20641131911232494, -0.9784653122836343 L 0.1576997047706487, -0.9874871154173356 L 0.10860106155785788, -0.9940854135478029 L 0.059235888066409566, -0.9982440130373854 L 0.009725337011184845, -0.999952707791733 L -0.03980908210523873, -0.999207304307739 L -0.0892458012029491, -0.9960096319652957 L -0.13846349197881494, -0.9903675385376041 L -0.18734136367214524, -0.9822948709310565 L -0.23575945951110377, -0.9718114412019608 L -0.28359895111233246, -0.9589429779335082 L -0.33074243011126797, -0.9437210630923171 L -0.37707419630743083, -0.9261830545195183 L -0.42248054161751514, -0.9063719942466069 L -0.46685002913938783, -0.8843365028610731 L -0.5100737666421306, -0.8601306601810619 L -0.5520456738109117, -0.8338138725319076 L -0.5926627425908111, -0.8054507269502822 L -0.6318252899906595, -0.7751108326737661 L -0.669437202726464, -0.7428686503048618 L -0.7054061731040058, -0.7088033090687158 L -0.739643925561699, -0.6729984126130462 L -0.7720664333177407, -0.6355418338268715 L -0.802594124589839, -0.5965254991816108 L -0.8311520778814193, -0.5560451631238232 L -0.8576702058550334, -0.5142001730732738 L -0.8820834273417043, -0.47109322560307765 L -0.904331827064064, -0.42683011440029833 L -0.9243608026812826, -0.38151947062556957 L -0.9421211987949148, -0.3352724963089466 L -0.9575694275867818, -0.28820269143629307 L -0.9706675757928176, -0.24042557539599377 L -0.9813834977503452, -0.19205840346961706 L -0.9896908942904206, -0.1432198790623272 L -0.9955693772816298, -0.09402986237928905 L -0.9990045196669325, -0.044609076263038325 L -0.999987890870752, 0.00492119008624555 L -0.9985170774894142, 0.0544393787804297 L -0.9945956892141575, 0.10382396157253378 L -0.9882333499721768, 0.15295373811309476 L -0.9794456743074438, 0.2017081334017963 L -1.0773902417381882 ,0.22187894674197595",
          "type": "path"
         },
         {
          "fillcolor": "rgba(217,239,139, 0.75)",
          "layer": "below",
          "line": {
           "color": "rgba(217,239,139, 0.75)",
           "width": 0.45
          },
          "path": "M 0.7769767079031984, -0.7786573029105345 L 0.7849966340560197, -0.7705714013125063 L 0.7929324156929316, -0.7624029014526192 L 0.8007832021701524, -0.7541526789199365 L 0.8085481519546136, -0.7458216180634478 L 0.8162264327141576, -0.7374106118972799 L 0.8238172214067635, -0.728920562004969 L 0.8313197043687626, -0.720352378442824 L 0.8387330774020622, -0.7117069796423713 L 0.8460565458603426, -0.7029852923119132 L 0.8532893247342416, -0.6941882513371875 L 0.8604306387354945, -0.6853167996811613 L 0.8674797223800439, -0.676371888282949 L 0.8744358200700869, -0.6673544759558856 L 0.881298186175074, -0.6582655292847445 L 0.8880660851116282, -0.649106022522135 L 0.8947387914223984, -0.6398769374840649 L 0.9013155898538169, -0.6305792634447048 L 0.8193778089580153, -0.5732538758588225 L 0.8133989012930894, -0.5817063068036954 L 0.8073328046469347, -0.5900963841110318 L 0.8011801692500673, -0.5984232084406768 L 0.7949416546091699, -0.6066858872326232 L 0.7886179294364035, -0.6148835348026809 L 0.7822096715777223, -0.6230152724374194 L 0.7757175679402195, -0.6310802284883522 L 0.7691423144184932, -0.6390775384653756 L 0.7624846158200564, -0.6470063451294283 L 0.7557451857897841, -0.6548657985843853 L 0.7489247467334214, -0.6626550563681536 L 0.7420240297401433, -0.6703732835429816 L 0.7350437745041941, -0.6780196527849525 L 0.7279847292455931, -0.6855933444726695 L 0.7208476506299377, -0.6930935467751084 L 0.7136333036872906, -0.700519455738642 L 0.7063424617301803, -0.7078702753732131 L 0.7769767079031984 ,-0.7786573029105345",
          "type": "path"
         },
         {
          "fillcolor": "rgba(166,217,106, 0.75)",
          "layer": "below",
          "line": {
           "color": "rgba(166,217,106, 0.75)",
           "width": 0.45
          },
          "path": "M 0.920677818342524, -0.6019571037973143 L 0.9269245641214787, -0.5922928772391297 L 0.9330698697981408, -0.5825638317599889 L 0.9391130628469773, -0.5727710320801579 L 0.9450534819173837, -0.5629155498969892 L 0.9508904769060593, -0.5529984637676375 L 0.9566234090281546, -0.5430208589910264 L 0.9622516508871761, -0.5329838274890751 L 0.9677745865436485, -0.5228884676872022 L 0.9731916115825203, -0.5127358843941167 L 0.9785021331793103, -0.5025271886809105 L 0.9837055701649838, -0.4922634977594666 L 0.9888013530895547, -0.4819459348601935 L 0.9937889242844047, -0.4715756291091027 L 0.9986677379233124, -0.4611537154042396 L 1.0034372600821877, -0.45068133429148394 L 1.0080969687975025, -0.44015963183973095 L 1.0126463541234136, -0.42958975951546846 L 1.0170849181875685, -0.4189728740567665 L 1.021412175245593, -0.408310137346682 L 1.025627651734248, -0.39760271628610905 L 1.0297308863232566, -0.3868517826660755 L 1.0337214299657895, -0.3760585130395051 L 1.0375988459476078, -0.3652240885924593 L 1.0413627099348566, -0.35434969501487085 L 1.0450126100205017, -0.3434365223707855 L 1.0485481467694087, -0.33248576496812454 L 1.051968933262055, -0.321498621227983 L 1.055274595136875, -0.31047629355347756 L 1.0584647706312262, -0.2994199881981591 L 1.0615391106209835, -0.28833091513400333 L 1.0644972786587423, -0.2772102879189949 L 1.067338951010642, -0.2660593235643189 L 1.0700638166917913, -0.2548792424011744 L 1.0726715775003046, -0.2436712679472248 L 1.0751619480499341, -0.23243662677269933 L 0.9774199527726672, -0.21130602433881757 L 0.9751559795457314, -0.22151933449747707 L 0.9727852879016284, -0.2317084021828858 L 0.9703081372824016, -0.24187211233119899 L 0.9677247987806747, -0.25200935265363167 L 0.9650355551099848, -0.2621190137581848 L 0.962240700573842, -0.2721999892710537 L 0.9593405410335225, -0.2822511759577068 L 0.9563353938745954, -0.2922714738436209 L 0.9532255879721896, -0.30225978633465866 L 0.9500114636550014, -0.3122150203370777 L 0.9466933726680513, -0.3221360863771553 L 0.9432716781341889, -0.33202189872041754 L 0.939746754514354, -0.34187137549045915 L 0.9361189875665968, -0.3516834387873413 L 0.9323887743038618, -0.36145701480555364 L 0.928556522950539, -0.371191033951529 L 0.9246226528977896, -0.38088443096069674 L 0.9205875946576487, -0.3905361450140622 L 0.9164517898159112, -0.40014511985430085 L 0.9122156909838068, -0.409710303901349 L 0.9078797617484657, -0.4192306503674905 L 0.903444476622186, -0.4287051173719115 L 0.8989103209905043, -0.43813266805472134 L 0.8942777910590761, -0.44751227069042415 L 0.889547393799373, -0.45684289880082773 L 0.8847196468932003, -0.4661235312673787 L 0.879795078676044, -0.47535315244291104 L 0.874774228079251, -0.4845307522627955 L 0.8696576445710495, -0.4936553263554785 L 0.8644458880964175, -0.5027258761523977 L 0.8591395290158033, -0.5117414089972628 L 0.8537391480427066, -0.520700938254689 L 0.8482453361801279, -0.5296034834181718 L 0.8426586946558897, -0.5384480702173906 L 0.83697983485684, -0.5472337307248311 L 0.920677818342524 ,-0.6019571037973143",
          "type": "path"
         },
         {
          "fillcolor": "rgba(102,189,99, 0.75)",
          "layer": "below",
          "line": {
           "color": "rgba(102,189,99, 0.75)",
           "width": 0.45
          },
          "path": "M 1.081932431415999, -0.19855028040842665 L 1.083643085934891, -0.18899116991411774 L 1.0852692853127928, -0.17941733014583652 L 1.0868109028097297, -0.1698295072533051 L 1.088267818277726, -0.16022844847603865 L 1.0896399181701695, -0.15061490208510836 L 1.0909270955506605, -0.1409896173248239 L 1.0921292501013469, -0.13135334435434015 L 1.0932462881307417, -0.12170683418919247 L 1.0942781225810252, -0.11205083864276537 L 1.0952246730348303, -0.10238611026769899 L 1.0960858657215093, -0.09271340229723786 L 1.0968616335228845, -0.08303346858652676 L 1.0975519159784772, -0.07334706355385788 L 1.098156659290222, -0.06365494212187449 L 1.0986758163266581, -0.05395785965873483 L 1.0991093466266026, -0.04425657191924159 L 1.0994572164023049, -0.03455183498594119 L 0.9995065603657316, -0.031410759078128354 L 0.9991903151150932, -0.04023324719931053 L 0.9987961966605982, -0.04905259968975893 L 0.9983242357183837, -0.05786812920170408 L 0.9977744690713429, -0.06667914868532535 L 0.9971469395662585, -0.07548497144229704 L 0.996441696110463, -0.08428491117930714 L 0.9956587936680275, -0.09307828206154453 L 0.9947982932554773, -0.10186439876615033 L 0.9938602619370378, -0.1106425765356295 L 0.9928447728194062, -0.11941213123121831 L 0.9917519050460549, -0.12817237938620354 L 0.990581743791063, -0.1369226382591894 L 0.9893343802524781, -0.14566222588730784 L 0.9880099116452088, -0.15439046113936825 L 0.9866084411934479, -0.16310666376894228 L 0.985130078122628, -0.17181015446737974 L 0.9835749376509081, -0.18050025491675148 L 1.081932431415999 ,-0.19855028040842665",
          "type": "path"
         }
        ],
        "showlegend": false,
        "title": "Pairwise interactions between common egg mutation genotypes",
        "width": 800,
        "xaxis": {
         "visible": false
        },
        "yaxis": {
         "visible": false
        }
       }
      },
      "text/html": [
       "<div id=\"ebc41734-b040-4b85-857d-960a0fb33f52\" style=\"height: 800px; width: 800px;\" class=\"plotly-graph-div\"></div><script type=\"text/javascript\">require([\"plotly\"], function(Plotly) { window.PLOTLYENV=window.PLOTLYENV || {};window.PLOTLYENV.BASE_URL=\"https://plot.ly\";Plotly.newPlot(\"ebc41734-b040-4b85-857d-960a0fb33f52\", [{\"line\": {\"color\": \"rgba(26,152,80, 0.75)\", \"shape\": \"spline\", \"width\": 0.25}, \"mode\": \"lines\", \"x\": [1.1, 1.0999430029642472, 1.099772017763647, 1.0994870621175623, 1.0990881655562244, 1.098575369417672, 1.0979487268434693, 1.097208302773196, 1.0963541739377203, 1.0953864288512447, 1.0943051678021358, 1.0931105028425292, 1.0918025577767183, 1.0903814681483244, 1.08884738122625, 1.087200455989417, 1.085440863110292, 1.0835687849371995, 1.0815844154754237, 1.079487960367105, 1.0772796368699284, 1.0749596738346092, 1.0725283116811763, 1.0699858023740583, 1.0673324093959713, 1.0645684077206143, 1.0616940837841733, 1.0587097354556374, 1.0556156720059315, 1.0524122140758645, 1.0490996936429022, 1.0456784539867636, 1.0421488496538471, 1.038511246420488, 1.0347660212550525, 1.0309135622788725, 1.0269542687260251, 1.0228885509019572, 1.0187168301409677, 1.0144395387625427, 1.010057120026554, 1.005570028087324, 1.0009787279465618, 0.996283695405173, 0.9914854170139533, 0.9865843900231663, 0.9815811223310131, 0.9764761324309985, 0.9712699493581985, 0.9659631126344362, 0.9605561722123708, 0.9550496884185049, 0.949444231895118, 0.9437403835411299, 0.9379387344519016, 0.9320398858579797, 0.9260444490627897, 0.9199530453792872, 0.9137663060655693, 0.9074848722594577, 0.9011093949120562, 0.894640534720293, 0.8880789620584509, 0.8814253569086963, 0.8746804087906124, 0.8678448166897426, 0.860919288985155, 0.8539045433760317, 0.8468013068072936, 0.8396103153942648, 0.8323323143463908, 0.8249680578900093, 0.8175183091901905, 0.8099838402716488, 0.802365431938738, 0.7946638736945341, 0.7868799636590204, 0.7790145084863759, 0.7710683232813819, 0.7630422315149517, 0.7549370649387931, 0.7467536634992137, 0.7384928752500759, 0.730155556264913, 0.7217425705482127, 0.7132547899458799, 0.7046930940548862, 0.696058370132117, 0.687351513002423, 0.6785734249658903, 0.6697250157043326, 0.6608072021870209, 0.651820908575657], \"y\": [0.0, 0.011197777904307515, 0.022394395371983095, 0.03358869208665198, 0.04477950797244132, 0.055965683314199925, 0.06714605887768073, 0.07831947602967332, 0.08948477685807427, 0.10064080429188263, 0.11178640222110842, 0.12292041561658133, 0.1340416906496476, 0.14514907481174236, 0.15624141703382521, 0.16731756780566673, 0.17837637929497313, 0.18941670546633743, 0.20043740220000425, 0.21143732741043575, 0.22241534116466746, 0.2333703058004403, 0.24430108604409795, 0.25520654912823615, 0.26608556490909246, 0.2769370059836644, 0.28775974780654295, 0.2985526688064506, 0.30931465050247087, 0.3200445776199574, 0.330741338206111, 0.34140382374521244, 0.35203092927349905, 0.3626215534936731, 0.37317459888903026, 0.38368897183719675, 0.39416358272346175, 0.4045973460536959, 0.41498918056684186, 0.42533800934696636, 0.4356427599348621, 0.44590236443918785, 0.4561157596471351, 0.46628188713460944, 0.47639969337591664, 0.48646812985294025, 0.4964861531638005, 0.5064527251309832, 0.5163668129089268, 0.5262273890910579, 0.5360334318162614, 0.5457839248747777, 0.5554778578135132, 0.5651142260407547, 0.5746920309302762, 0.5842102799248269, 0.593667986638992, 0.6030641709614122, 0.6123978591563531, 0.6216680839646154, 0.6308738847037718, 0.6400143073677247, 0.6490884047255695, 0.6580952364197582, 0.6670338690635488, 0.6759033763377331, 0.6847028390866328, 0.6934313454133515, 0.7020879907742762, 0.710671878072816, 0.7191821177523682, 0.7276178278885053, 0.7359781342803687, 0.7442621705412631, 0.7524690781884413, 0.7605980067320698, 0.7686481137633651, 0.776618565041894, 0.7845085345820264, 0.7923172047385334, 0.8000437662913203, 0.8076874185292867, 0.815247369333306, 0.822722835258312, 0.8301130416144891, 0.8374172225475536, 0.8446346211181208, 0.8517644893801462, 0.8588060884584365, 0.8657586886252205, 0.87262156937577, 0.8793940195030677, 0.88607533717151], \"type\": \"scatter\", \"uid\": \"2dcafd27-0073-4a8f-8b4c-254c5bbe59ff\"}, {\"line\": {\"color\": \"rgba(215,48,39, 0.75)\", \"shape\": \"spline\", \"width\": 0.25}, \"mode\": \"lines\", \"x\": [0.6236669753639553, 0.6144106194702478, 0.6050905916055498, 0.5957078576134271, 0.5862633898357434, 0.576758167011894, 0.5671931741773794, 0.5575694025617243, 0.5478878494857551, 0.5381495182582486, 0.5283554180719555, 0.5185065638990187, 0.5086039763857897, 0.49864868174705895, 0.488641711659707, 0.47858410315579153, 0.46847689851507934, 0.45832114515703226, 0.448117895532264, 0.43786820701347184, 0.42757314178586087, 0.4172337667370695, 0.4068511533466053, 0.39642637757480775, 0.3859605197513446, 0.3754546644632572, 0.3649099004425625, 0.3543273204534274, 0.3437080211789251, 0.33305310310738323, 0.32236367041834074, 0.3116408308681194, 0.3008856956750273, 0.2900993794042009, 0.2792829998521018, 0.26843767793067985, 0.25756453755120956, 0.24666470550782055, 0.23573931136072435, 0.22478948731915932, 0.21381636812405688, 0.20282109093044778, 0.19180479518961857, 0.18076862253102732, 0.1697137166439974, 0.158641223159194, 0.147552289529903, 0.13644806491311795, 0.12532970005045216, 0.1141983471488872, 0.10305515976136705, 0.09190129266725497, 0.08073790175266307, 0.06956614389066633, 0.058387176821414075, 0.04720215903215286, 0.03601224963717194, 0.024818608257681736, 0.013622394901641827, 0.0024247698435487432, -0.008773106495804943, -0.01997007366958662, -0.031164971325181392, -0.04235663932443981, -0.0535439178639056, -0.06472564759500649, -0.0759006697441981, -0.08706782623304932, -0.09822595979825559, -0.10937391411156666, -0.12051053389961744, -0.13163466506365135, -0.14274515479912012, -0.15384085171514958, -0.16492060595385954, -0.17598326930952646, -0.18702769534757022, -0.19805273952336191, -0.2090572593008344, -0.22004011427088394, -0.23100016626955133, -0.2419362794959714, -0.2528473206300786, -0.2637321589500513, -0.2745896664494913, -0.28541871795432044, -0.2962181912393829, -0.306986967144742, -0.3177239296916612, -0.32842796619825293, -0.33909796739478715, -0.349732827538646, -0.3603314445289137], \"y\": [0.9061123020025585, 0.9124141552399253, 0.9186214541096055, 0.9247335553431707, 0.9307498255376163, 0.9366696412210018, 0.9424923889170612, 0.9482174652087791, 0.9538442768009224, 0.9593722405815248, 0.964800783682315, 0.9701293435380836, 0.9753573679449821, 0.9804843151177486, 0.9855096537458534, 0.9904328630485596, 0.9952534328288912, 0.9999708635265063, 1.0045846662694664, 1.009094362924899, 1.0134994861485467, 1.017799579433199, 1.021994197156, 1.0260829046246294, 1.030065278122349, 1.0339409049519142, 1.0377093834783413, 1.0413703231705302, 1.0449233446417339, 1.0483680796888768, 1.05170417133071, 1.0549312738448076, 1.0580490528033921, 1.061057185107993, 1.0639553590229296, 1.066743274207616, 1.0694206417476857, 1.0719871841849324, 1.0744426355460637, 1.076786741370263, 1.0790192587355603, 1.0811399562840065, 1.0831486142456486, 1.0850450244613055, 1.0868289904041395, 1.088500327200022, 1.0900588616466929, 1.0915044322317091, 1.092836889149183, 1.0940560943153064, 1.09516192138266, 1.0961542557533077, 1.097032994590672, 1.0977980468301916, 1.098449333188757, 1.0989867861729292, 1.0994103500859314, 1.0997199810334228, 1.0999156469280469, 1.0999973274927561, 1.0999650142629143, 1.0998187105871728, 1.099558431627124, 1.09918420435573, 1.0986960675545279, 1.0980940718096093, 1.0973782795063798, 1.0965487648230934, 1.0956056137231645, 1.09454892394626, 1.0933788049981714, 1.092095378139465, 1.0906987763729157, 1.0891891444297255, 1.0875666387545233, 1.0858314274891525, 1.0839836904552471, 1.0820236191355952, 1.0799514166542974, 1.0777672977557153, 1.0754714887822177, 1.0730642276507252, 1.0705457638280536, 1.0679163583050617, 1.065176283569606, 1.0623258235782995, 1.0593652737270882, 1.056294940820637, 1.0531151430405359, 1.0498262099123261, 1.0464284822713514, 1.0429223122274371, 1.0393080631284002], \"type\": \"scatter\", \"uid\": \"e584a736-58f0-4cb4-b7e8-9000c750e870\"}, {\"line\": {\"color\": \"rgba(244,109,67, 0.75)\", \"shape\": \"spline\", \"width\": 0.25}, \"mode\": \"lines\", \"x\": [-0.3927990978915923, -0.4033508798501255, -0.41385995352809773, -0.4243252061859828, -0.4347455297241852, -0.4451198208003712, -0.4554469809462936, -0.46572591668410246, -0.4759555396421266, -0.48613476667011274, -0.49626251995391607, -0.5063377271296214, -0.5163593213970901, -0.5263262416329146, -0.5362374325027772, -0.5460918445731916, -0.5558884344226184, -0.5656261647519502, -0.5753040044943426, -0.5849209289243879, -0.5944759197666155, -0.6039679653033128, -0.6133960604816487, -0.6227592070200914, -0.6320564135141111, -0.641286695541154, -0.6504490757648759, -0.6595425840386252, -0.6685662575081678, -0.6775191407136361, -0.6864002856906977, -0.6952087520709272, -0.7039436071813788, -0.7126039261433395, -0.7211887919702588, -0.7296972956648422, -0.7381285363153005, -0.7464816211907412, -0.7547556658356925, -0.7629497941637552, -0.7710631385503646, -0.7790948399246581, -0.787044047860436, -0.7949099206662096, -0.8026916254743206, -0.8103883383291296, -0.8179992442742584, -0.8255235374388823, -0.832960421123057, -0.8403091078820764, -0.8475688196098509, -0.8547387876212964, -0.8618182527337234, -0.8688064653472247, -0.8757026855240443, -0.8825061830669252, -0.8892162375964253, -0.8958321386271931], \"y\": [1.0274769431454662, 1.0233807051748287, 1.0191761078762203, 1.0148635964479282, 1.0104436275145872, 1.0059166690788286, 1.001283200471728, 0.9965437123020509, 0.9916987064043051, 0.9867486957856064, 0.9816942045713569, 0.9765357679497506, 0.9712739321151046, 0.9659092542100272, 0.9604423022664244, 0.9548736551453545, 0.9492039024757382, 0.9434336445919236, 0.9375634924701226, 0.9315940676637177, 0.9255260022374503, 0.9193599387004943, 0.9130965299384253, 0.9067364391440917, 0.9002803397473919, 0.893728915343969, 0.8870828596228307, 0.8803428762928983, 0.8735096790084941, 0.8665839912937789, 0.8595665464661413, 0.8524580875585522, 0.8452593672408895, 0.837971147740242, 0.8305942007602022, 0.823129307399157, 0.8155772580675801, 0.8079388524043406, 0.8002148991920361, 0.792406216271354, 0.7845136304544755, 0.7765379774375311, 0.7684801017121132, 0.7603408564758576, 0.7521211035421045, 0.743821713248647, 0.7354435643655753, 0.7269875440022302, 0.7184545475132715, 0.7098454784038772, 0.7011612482340736, 0.692402776522218, 0.6835709906476374, 0.6746668257524316, 0.6656912246424591, 0.6566451376875084, 0.6475295227206693, 0.6383453449369155], \"type\": \"scatter\", \"uid\": \"873186d1-4ddd-498f-8714-2e9ae39d91d4\"}, {\"line\": {\"color\": \"rgba(253,174,97, 0.75)\", \"shape\": \"spline\", \"width\": 0.25}, \"mode\": \"lines\", \"x\": [-0.9154410113828011, -0.9217268593168384, -0.9279132504637986, -0.9339995172955728, -0.9399850030877336, -0.9458690619903956, -0.951651059097906, -0.957330370517352, -0.9629063834358803, -0.9683784961868214, -0.973746118314611, -0.979008670638502, -0.9841655853150596, -0.9892163058994325, -0.9941602874053955, -0.9989969963641547, -1.0037259108819103, -1.0083465206961701, -1.0128583272308085, -1.0172608436498638, -1.0215535949100694, -1.0257361178121123, -1.0298079610506137, -1.033768685262825, -1.0376178630760375, -1.0413550791536965, -1.044979930240217, -1.048492025204497, -1.0518909850821196, -1.055176443116247, -1.0583480447971922, -1.0614054479006727, -1.0643483225247372, -1.0671763511253631, -1.0698892285507196], \"y\": [0.6098915925625098, 0.6003495621834977, 0.5907427524851304, 0.581072200067803, 0.5713389484099205, 0.5615440477553025, 0.5516885549998605, 0.5417735335775546, 0.5318000533456477, 0.5217691904692636, 0.5116820273052669, 0.501539652285473, 0.4913431597992041, 0.4810936500752016, 0.4707922290629078, 0.460440008313132, 0.4500381048581103, 0.4395876410909755, 0.42908974464464744, 0.4185455482701588, 0.40795618971442776, 0.3973228115974925, 0.38664656128921937, 0.3759285907854983, 0.3651700565839398, 0.3543721195590855, 0.3435359448371469, 0.3326627016702849, 0.3217535633104444, 0.3108097068827577, 0.29983231325852905, 0.28882256692781555, 0.2777816558716179, 0.2667107714336936, 0.25561110819200816], \"type\": \"scatter\", \"uid\": \"e6d0df2a-cb0c-4520-98bb-07fba568e571\"}, {\"line\": {\"color\": \"rgba(254,224,139, 0.75)\", \"shape\": \"spline\", \"width\": 0.25}, \"mode\": \"lines\", \"x\": [-1.0773902417381882, -1.0870566849693946, -1.0940552581355734, -1.0983687852383557, -1.0999866799578273, -1.0989049716336259, -1.0951263150097927, -1.0886599837194626, -1.0795218475253798, -1.0677343333720994, -1.05332637034546, -1.0363333186744064, -1.016796882949411, -0.9947650097704704, -0.9702917700758749, -0.9434372264405368, -0.9142672856695613, -0.882853537048823, -0.8492730766495149, -0.8136083181178689, -0.7759467904144064, -0.7363809229991105, -0.6950078189897254, -0.6519290168498922, -0.607250241192003, -0.5610811433063436, -0.5135350320533266, -0.4647285957792667, -0.414781615938174, -0.3638166731223948, -0.31195884622356573, -0.2593354054622142, -0.2060755000393598, -0.15230984117669644, -0.09817038132324402, -0.043789990315762604, 0.01069787071230333, 0.06515947687305053, 0.11946116771364368, 0.1734696752477136, 0.22705245102355745, 0.28007799142644296, 0.33241616041665856, 0.38393850891124565, 0.43451859002557786, 0.48403226940110855, 0.5323580298576917, 0.5793772696227856, 0.6249745934056178, 0.6690380956019536, 0.7114596349344396, 0.7521350998544678], \"y\": [0.22187894674197595, 0.16824911192440425, 0.11420635772978717, 0.05988331665847267, 0.0054133090948701055, -0.04906998388934216, -0.10343284861721797, -0.15754186696855993, -0.21126424381657877, -0.2644681329355932, -0.3170229605799224, -0.36879974593984133, -0.41967141768812655, -0.4695131258403282, -0.5182025481633854, -0.5656201903806013, -0.6116496794362056, -0.656178049099772, -0.6990960172095587, -0.7402982538743509, -0.7796836399755874, -0.817155515335348, -0.8526219159411428, -0.8859957996453105, -0.9171952597850985, -0.9461437261991681, -0.9727701531471805, -0.9970091936712676, -1.0188013599714703, -1.038093169401549, -1.0548372757268591, -1.068992585322157, -1.0805243580241621, -1.0894042923913645, -1.0956105951618254, -1.0991280347385128, -1.0999479785709063, -1.0980684143411241, -1.0934939549025833, -1.0862358269590693, -1.0763118435119978, -1.0637463601434927, -1.0485702152425684, -1.030820654321114, -1.0105412386054238, -0.9877817381276153, -0.9625980095793037, -0.9350518592273085, -0.9052108912278304, -0.8731483417113678, -0.8389428990455513, -0.8026785107170303], \"type\": \"scatter\", \"uid\": \"5e6752a2-35b6-464d-915f-8e77306e59b4\"}, {\"line\": {\"color\": \"rgba(217,239,139, 0.75)\", \"shape\": \"spline\", \"width\": 0.25}, \"mode\": \"lines\", \"x\": [0.7769767079031984, 0.7849966340560197, 0.7929324156929316, 0.8007832021701524, 0.8085481519546136, 0.8162264327141576, 0.8238172214067635, 0.8313197043687626, 0.8387330774020622, 0.8460565458603426, 0.8532893247342416, 0.8604306387354945, 0.8674797223800439, 0.8744358200700869, 0.881298186175074, 0.8880660851116282, 0.8947387914223984, 0.9013155898538169], \"y\": [-0.7786573029105345, -0.7705714013125063, -0.7624029014526192, -0.7541526789199365, -0.7458216180634478, -0.7374106118972799, -0.728920562004969, -0.720352378442824, -0.7117069796423713, -0.7029852923119132, -0.6941882513371875, -0.6853167996811613, -0.676371888282949, -0.6673544759558856, -0.6582655292847445, -0.649106022522135, -0.6398769374840649, -0.6305792634447048], \"type\": \"scatter\", \"uid\": \"f724dcdc-84ab-426f-828e-dd1e048deb82\"}, {\"line\": {\"color\": \"rgba(166,217,106, 0.75)\", \"shape\": \"spline\", \"width\": 0.25}, \"mode\": \"lines\", \"x\": [0.920677818342524, 0.9269245641214787, 0.9330698697981408, 0.9391130628469773, 0.9450534819173837, 0.9508904769060593, 0.9566234090281546, 0.9622516508871761, 0.9677745865436485, 0.9731916115825203, 0.9785021331793103, 0.9837055701649838, 0.9888013530895547, 0.9937889242844047, 0.9986677379233124, 1.0034372600821877, 1.0080969687975025, 1.0126463541234136, 1.0170849181875685, 1.021412175245593, 1.025627651734248, 1.0297308863232566, 1.0337214299657895, 1.0375988459476078, 1.0413627099348566, 1.0450126100205017, 1.0485481467694087, 1.051968933262055, 1.055274595136875, 1.0584647706312262, 1.0615391106209835, 1.0644972786587423, 1.067338951010642, 1.0700638166917913, 1.0726715775003046, 1.0751619480499341], \"y\": [-0.6019571037973143, -0.5922928772391297, -0.5825638317599889, -0.5727710320801579, -0.5629155498969892, -0.5529984637676375, -0.5430208589910264, -0.5329838274890751, -0.5228884676872022, -0.5127358843941167, -0.5025271886809105, -0.4922634977594666, -0.4819459348601935, -0.4715756291091027, -0.4611537154042396, -0.45068133429148394, -0.44015963183973095, -0.42958975951546846, -0.4189728740567665, -0.408310137346682, -0.39760271628610905, -0.3868517826660755, -0.3760585130395051, -0.3652240885924593, -0.35434969501487085, -0.3434365223707855, -0.33248576496812454, -0.321498621227983, -0.31047629355347756, -0.2994199881981591, -0.28833091513400333, -0.2772102879189949, -0.2660593235643189, -0.2548792424011744, -0.2436712679472248, -0.23243662677269933], \"type\": \"scatter\", \"uid\": \"9d00dd77-f15d-4f3c-aa57-8a07be7e86fa\"}, {\"line\": {\"color\": \"rgba(102,189,99, 0.75)\", \"shape\": \"spline\", \"width\": 0.25}, \"mode\": \"lines\", \"x\": [1.081932431415999, 1.083643085934891, 1.0852692853127928, 1.0868109028097297, 1.088267818277726, 1.0896399181701695, 1.0909270955506605, 1.0921292501013469, 1.0932462881307417, 1.0942781225810252, 1.0952246730348303, 1.0960858657215093, 1.0968616335228845, 1.0975519159784772, 1.098156659290222, 1.0986758163266581, 1.0991093466266026, 1.0994572164023049], \"y\": [-0.19855028040842665, -0.18899116991411774, -0.17941733014583652, -0.1698295072533051, -0.16022844847603865, -0.15061490208510836, -0.1409896173248239, -0.13135334435434015, -0.12170683418919247, -0.11205083864276537, -0.10238611026769899, -0.09271340229723786, -0.08303346858652676, -0.07334706355385788, -0.06365494212187449, -0.05395785965873483, -0.04425657191924159, -0.03455183498594119], \"type\": \"scatter\", \"uid\": \"5e1db6a7-e3cb-4b64-801f-584d42bd70d1\"}, {\"marker\": {\"color\": \"rgba(26,152,80, 0.75)\", \"size\": 0.5}, \"mode\": \"markers\", \"x\": [0.6491605264571807], \"y\": [0.6233703641414438], \"type\": \"scatter\", \"uid\": \"6a1ef721-35d2-4140-a848-24dac049ef86\"}, {\"marker\": {\"color\": \"rgba(26,152,80, 0.75)\", \"size\": 0.5}, \"mode\": \"markers\", \"text\": \"186 V\", \"x\": [0.8995575416436682], \"y\": [0.028217534832088376], \"type\": \"scatter\", \"uid\": \"b01dd23c-045d-4e1b-a6a4-c80b3ee1df17\"}, {\"marker\": {\"color\": \"rgba(26,152,80, 0.75)\", \"size\": 0.5}, \"mode\": \"markers\", \"text\": \"138 S\", \"x\": [-0.4302608734244004], \"y\": [0.79049072151422], \"type\": \"scatter\", \"uid\": \"070addb1-aee5-4051-a400-07bf351b323c\"}, {\"marker\": {\"color\": \"rgba(26,152,80, 0.75)\", \"size\": 0.5}, \"mode\": \"markers\", \"text\": \"186 V\", \"x\": [0.8950878680259527], \"y\": [0.09390265444999275], \"type\": \"scatter\", \"uid\": \"214840f5-9405-455e-9617-aef4d029029f\"}, {\"marker\": {\"color\": \"rgba(26,152,80, 0.75)\", \"size\": 0.5}, \"mode\": \"markers\", \"text\": \"156 R/Q\", \"x\": [-0.7913610367126818], \"y\": [0.42865803337045916], \"type\": \"scatter\", \"uid\": \"fdc75225-13bd-4893-84e5-42b27a03745f\"}, {\"marker\": {\"color\": \"rgba(26,152,80, 0.75)\", \"size\": 0.5}, \"mode\": \"markers\", \"text\": \"186 V\", \"x\": [0.8193891462059499], \"y\": [0.37229212599769607], \"type\": \"scatter\", \"uid\": \"815640b1-ceab-4bc8-8aad-b1fb2d479316\"}, {\"marker\": {\"color\": \"rgba(26,152,80, 0.75)\", \"size\": 0.5}, \"mode\": \"markers\", \"text\": \"160 K\", \"x\": [-0.7701548404319782], \"y\": [-0.46568392903255124], \"type\": \"scatter\", \"uid\": \"f4a76982-287d-4382-87e5-712efa30db8d\"}, {\"marker\": {\"color\": \"rgba(26,152,80, 0.75)\", \"size\": 0.5}, \"mode\": \"markers\", \"text\": \"186 V\", \"x\": [0.8811783343295865], \"y\": [0.18309763272127655], \"type\": \"scatter\", \"uid\": \"75f08f25-5d6f-484b-8126-9b52fc4642c4\"}, {\"marker\": {\"color\": \"rgba(26,152,80, 0.75)\", \"size\": 0.5}, \"mode\": \"markers\", \"text\": \"219 F/Y\", \"x\": [0.7917669187319276], \"y\": [-0.4279078713949408], \"type\": \"scatter\", \"uid\": \"2859f42f-cfa2-4456-ac42-3d7796f596df\"}, {\"marker\": {\"color\": \"rgba(26,152,80, 0.75)\", \"size\": 0.5}, \"mode\": \"markers\", \"text\": \"186 V\", \"x\": [0.8999980333579843], \"y\": [0.0018814759526793318], \"type\": \"scatter\", \"uid\": \"f7aefc05-3b63-4de1-9dbe-c6dddd587ec5\"}, {\"marker\": {\"color\": \"rgba(26,152,80, 0.75)\", \"size\": 0.5}, \"mode\": \"markers\", \"text\": \"225 G\", \"x\": [0.8855062735512235], \"y\": [-0.16086839186560506], \"type\": \"scatter\", \"uid\": \"d81307df-2846-4644-9061-44f3716c3f9c\"}, {\"marker\": {\"color\": \"rgba(215,48,39, 0.75)\", \"size\": 0.5}, \"mode\": \"markers\", \"x\": [-0.11565583279056073], \"y\": [0.8925378021918858], \"type\": \"scatter\", \"uid\": \"611fe67a-bfc6-44d4-a85b-b6cc846fa792\"}, {\"marker\": {\"color\": \"rgba(215,48,39, 0.75)\", \"size\": 0.5}, \"mode\": \"markers\", \"text\": \"194 P\", \"x\": [0.46763673589025107], \"y\": [0.7689706647499055], \"type\": \"scatter\", \"uid\": \"2dbddeb8-1ded-4b29-a39c-50f2c17a05f2\"}, {\"marker\": {\"color\": \"rgba(215,48,39, 0.75)\", \"size\": 0.5}, \"mode\": \"markers\", \"text\": \"138 S\", \"x\": [-0.3908480240541471], \"y\": [0.8107020550689191], \"type\": \"scatter\", \"uid\": \"97b6f702-133c-4c9b-9e77-d65a7851cd45\"}, {\"marker\": {\"color\": \"rgba(215,48,39, 0.75)\", \"size\": 0.5}, \"mode\": \"markers\", \"text\": \"194 P\", \"x\": [0.23680163849502253], \"y\": [0.8682885372997117], \"type\": \"scatter\", \"uid\": \"f5566a59-dd95-4bc9-aba8-143a938ae9ad\"}, {\"marker\": {\"color\": \"rgba(215,48,39, 0.75)\", \"size\": 0.5}, \"mode\": \"markers\", \"text\": \"160 K\", \"x\": [-0.5532406913576391], \"y\": [-0.7098765649224671], \"type\": \"scatter\", \"uid\": \"febe64f8-c23e-4dd1-a5ab-23a68bcbd1ae\"}, {\"marker\": {\"color\": \"rgba(215,48,39, 0.75)\", \"size\": 0.5}, \"mode\": \"markers\", \"text\": \"194 P\", \"x\": [0.4235110149433492], \"y\": [0.7941274584231767], \"type\": \"scatter\", \"uid\": \"7a631254-1901-4df5-9fdc-45eef1b63887\"}, {\"marker\": {\"color\": \"rgba(215,48,39, 0.75)\", \"size\": 0.5}, \"mode\": \"markers\", \"text\": \"203 I\", \"x\": [0.6892413537215631], \"y\": [-0.5787455022028829], \"type\": \"scatter\", \"uid\": \"aaf30c8b-5dce-4b27-80a9-7609ae142b06\"}, {\"marker\": {\"color\": \"rgba(215,48,39, 0.75)\", \"size\": 0.5}, \"mode\": \"markers\", \"text\": \"194 P\", \"x\": [0.5071688383195991], \"y\": [0.7434916068373255], \"type\": \"scatter\", \"uid\": \"8237ca21-06e5-4e7b-96e5-69b24def281d\"}, {\"marker\": {\"color\": \"rgba(215,48,39, 0.75)\", \"size\": 0.5}, \"mode\": \"markers\", \"text\": \"219 F/Y\", \"x\": [0.7571781654113272], \"y\": [-0.4864989474031129], \"type\": \"scatter\", \"uid\": \"c4f3e942-6c47-4f1a-9fa5-498114b88476\"}, {\"marker\": {\"color\": \"rgba(215,48,39, 0.75)\", \"size\": 0.5}, \"mode\": \"markers\", \"text\": \"194 P\", \"x\": [0.49466415776831235], \"y\": [0.7518692512793472], \"type\": \"scatter\", \"uid\": \"40a0326f-a6e0-494f-b88f-a21da29dc97d\"}, {\"marker\": {\"color\": \"rgba(215,48,39, 0.75)\", \"size\": 0.5}, \"mode\": \"markers\", \"text\": \"225 G\", \"x\": [0.8909173983960883], \"y\": [-0.12753897143675616], \"type\": \"scatter\", \"uid\": \"8c293e14-8df9-4cb0-8af6-0772b78a198f\"}, {\"marker\": {\"color\": \"rgba(244,109,67, 0.75)\", \"size\": 0.5}, \"mode\": \"markers\", \"x\": [-0.5315064247070184], \"y\": [0.7262925860114247], \"type\": \"scatter\", \"uid\": \"7bdc7d40-3f07-4ded-9c1d-45c250534381\"}, {\"marker\": {\"color\": \"rgba(175,175,175,0.5)\", \"size\": 0.5}, \"mode\": \"markers\", \"text\": \"138 S\", \"x\": [-0.3606618335624421], \"y\": [0.8245744610472588], \"type\": \"scatter\", \"uid\": \"0f879f36-382f-40b1-9b59-d3bdb865ce0f\"}, {\"marker\": {\"color\": \"rgba(175,175,175,0.5)\", \"size\": 0.5}, \"mode\": \"markers\", \"text\": \"156 R/Q\", \"x\": [-0.765399663654546], \"y\": [0.47345892628348224], \"type\": \"scatter\", \"uid\": \"9d33bae7-e58a-4dd4-8f7e-403834d1c1fc\"}, {\"marker\": {\"color\": \"rgba(175,175,175,0.5)\", \"size\": 0.5}, \"mode\": \"markers\", \"text\": \"138 S\", \"x\": [-0.6731979566934845], \"y\": [0.597331156983894], \"type\": \"scatter\", \"uid\": \"346ca04f-0da9-418f-8f1c-63a572130f3c\"}, {\"marker\": {\"color\": \"rgba(175,175,175,0.5)\", \"size\": 0.5}, \"mode\": \"markers\", \"text\": \"160 K\", \"x\": [-0.8692545766882486], \"y\": [-0.2332305316774239], \"type\": \"scatter\", \"uid\": \"906e0ce1-6d4f-4371-b460-a4cf2b8a5ffd\"}, {\"marker\": {\"color\": \"rgba(175,175,175,0.5)\", \"size\": 0.5}, \"mode\": \"markers\", \"text\": \"138 S\", \"x\": [-0.32310444245110675], \"y\": [0.8400020947999829], \"type\": \"scatter\", \"uid\": \"f5960568-e359-42a6-8fd3-c9d51e601ca1\"}, {\"marker\": {\"color\": \"rgba(175,175,175,0.5)\", \"size\": 0.5}, \"mode\": \"markers\", \"text\": \"203 I\", \"x\": [0.6368751786992607], \"y\": [-0.6359166665191163], \"type\": \"scatter\", \"uid\": \"44fdf50e-406d-45df-ac7c-35d1ac2f46d6\"}, {\"marker\": {\"color\": \"rgba(175,175,175,0.5)\", \"size\": 0.5}, \"mode\": \"markers\", \"text\": \"138 S\", \"x\": [-0.32826634705155433], \"y\": [0.8379983325719859], \"type\": \"scatter\", \"uid\": \"f2e444bc-45eb-4527-a5e7-51d912e3d284\"}, {\"marker\": {\"color\": \"rgba(175,175,175,0.5)\", \"size\": 0.5}, \"mode\": \"markers\", \"text\": \"219 F/Y\", \"x\": [0.7610265077125161], \"y\": [-0.4804567145528218], \"type\": \"scatter\", \"uid\": \"c3b9ddbe-1a9a-43e3-af21-0ae37a74b290\"}, {\"marker\": {\"color\": \"rgba(175,175,175,0.5)\", \"size\": 0.5}, \"mode\": \"markers\", \"text\": \"138 S\", \"x\": [-0.3402621324358698], \"y\": [0.8331996646843989], \"type\": \"scatter\", \"uid\": \"85ef727b-fddf-4b67-b444-b7b1a10f2e18\"}, {\"marker\": {\"color\": \"rgba(175,175,175,0.5)\", \"size\": 0.5}, \"mode\": \"markers\", \"text\": \"225 G\", \"x\": [0.8882389562924632], \"y\": [-0.14502260694276467], \"type\": \"scatter\", \"uid\": \"5af53bb8-c1f2-4ea4-a8e5-68a00e326012\"}, {\"marker\": {\"color\": \"rgba(253,174,97, 0.75)\", \"size\": 0.5}, \"mode\": \"markers\", \"x\": [-0.8624004336677216], \"y\": [0.25742084610560545], \"type\": \"scatter\", \"uid\": \"31c2f97c-9039-46aa-ad1c-2563a6903e56\"}, {\"marker\": {\"color\": \"rgba(175,175,175,0.5)\", \"size\": 0.5}, \"mode\": \"markers\", \"text\": \"156 R/Q\", \"x\": [-0.8292339972389978], \"y\": [0.3498156340460412], \"type\": \"scatter\", \"uid\": \"7db4c9f0-6416-4b5b-88b5-e61780b1e925\"}, {\"marker\": {\"color\": \"rgba(175,175,175,0.5)\", \"size\": 0.5}, \"mode\": \"markers\", \"text\": \"160 K\", \"x\": [-0.8995885866894745], \"y\": [0.027209827232706856], \"type\": \"scatter\", \"uid\": \"6990ed25-146d-473c-af71-864359c012a1\"}, {\"marker\": {\"color\": \"rgba(175,175,175,0.5)\", \"size\": 0.5}, \"mode\": \"markers\", \"text\": \"156 R/Q\", \"x\": [-0.7558554316142809], \"y\": [0.488551498308202], \"type\": \"scatter\", \"uid\": \"a0642d3c-c659-49a6-9122-53d5ef939a1d\"}, {\"marker\": {\"color\": \"rgba(175,175,175,0.5)\", \"size\": 0.5}, \"mode\": \"markers\", \"text\": \"219 F/Y\", \"x\": [0.7657691041842216], \"y\": [-0.4728611625804077], \"type\": \"scatter\", \"uid\": \"394c83a7-734a-4752-ab25-6799f97a8c50\"}, {\"marker\": {\"color\": \"rgba(175,175,175,0.5)\", \"size\": 0.5}, \"mode\": \"markers\", \"text\": \"156 R/Q\", \"x\": [-0.750971490175747], \"y\": [0.4960260284936849], \"type\": \"scatter\", \"uid\": \"e4879532-d921-4769-8ab4-a1cb77793a1b\"}, {\"marker\": {\"color\": \"rgba(175,175,175,0.5)\", \"size\": 0.5}, \"mode\": \"markers\", \"text\": \"225 G\", \"x\": [0.88635579894963], \"y\": [-0.156119818307488], \"type\": \"scatter\", \"uid\": \"cc13e6cd-5bb9-457d-965c-8926354375f5\"}, {\"marker\": {\"color\": \"rgba(254,224,139, 0.75)\", \"size\": 0.5}, \"mode\": \"markers\", \"x\": [0.12785485158243848], \"y\": [-0.8908721215341923], \"type\": \"scatter\", \"uid\": \"9ddd0423-9d6a-4483-9316-b482d46f04ac\"}, {\"marker\": {\"color\": \"rgba(175,175,175,0.5)\", \"size\": 0.5}, \"mode\": \"markers\", \"text\": \"160 K\", \"x\": [-0.8937693305678311], \"y\": [0.10571841720500214], \"type\": \"scatter\", \"uid\": \"c8d7722e-1a3a-476e-8784-820459274689\"}, {\"marker\": {\"color\": \"rgba(175,175,175,0.5)\", \"size\": 0.5}, \"mode\": \"markers\", \"text\": \"203 I\", \"x\": [0.6563828403971707], \"y\": [-0.6157609656613048], \"type\": \"scatter\", \"uid\": \"423a2f47-422f-4316-ae64-29320e68c98a\"}, {\"marker\": {\"color\": \"rgba(175,175,175,0.5)\", \"size\": 0.5}, \"mode\": \"markers\", \"text\": \"160 K\", \"x\": [-0.8964160260714078], \"y\": [-0.08023906905208379], \"type\": \"scatter\", \"uid\": \"e09d508b-22af-4b3b-a167-2c688208a3f8\"}, {\"marker\": {\"color\": \"rgba(175,175,175,0.5)\", \"size\": 0.5}, \"mode\": \"markers\", \"text\": \"219 F/Y\", \"x\": [0.8337687514945491], \"y\": [-0.3388652667819778], \"type\": \"scatter\", \"uid\": \"ac014ccb-b3ec-4a16-8bf9-567c777ec513\"}, {\"marker\": {\"color\": \"rgba(175,175,175,0.5)\", \"size\": 0.5}, \"mode\": \"markers\", \"text\": \"160 K\", \"x\": [-0.8861977291392489], \"y\": [0.157014600812913], \"type\": \"scatter\", \"uid\": \"fa71f4e9-56c1-46c4-8d6f-1ebe990fa79c\"}, {\"marker\": {\"color\": \"rgba(175,175,175,0.5)\", \"size\": 0.5}, \"mode\": \"markers\", \"text\": \"225 G\", \"x\": [0.8947327835796177], \"y\": [-0.09722780460274197], \"type\": \"scatter\", \"uid\": \"b64dabf5-22a4-4f5f-94f0-f22d26588c6f\"}, {\"marker\": {\"color\": \"rgba(217,239,139, 0.75)\", \"size\": 0.5}, \"mode\": \"markers\", \"x\": [0.7219904312199111], \"y\": [-0.5373358514252393], \"type\": \"scatter\", \"uid\": \"a419b4c0-01a2-4631-84e3-5b57ed50e962\"}, {\"marker\": {\"color\": \"rgba(175,175,175,0.5)\", \"size\": 0.5}, \"mode\": \"markers\", \"text\": \"203 I\", \"x\": [0.6392026787363246], \"y\": [-0.6335770951481018], \"type\": \"scatter\", \"uid\": \"e105c676-9066-4866-830f-504a3afa09f1\"}, {\"marker\": {\"color\": \"rgba(175,175,175,0.5)\", \"size\": 0.5}, \"mode\": \"markers\", \"text\": \"219 F/Y\", \"x\": [0.7542604137836588], \"y\": [-0.49101041557069225], \"type\": \"scatter\", \"uid\": \"dc6b40e7-49a0-4a45-ad5c-6f1778ed99df\"}, {\"marker\": {\"color\": \"rgba(166,217,106, 0.75)\", \"size\": 0.5}, \"mode\": \"markers\", \"x\": [0.8672451550639761], \"y\": [-0.2405947651509902], \"type\": \"scatter\", \"uid\": \"5490271e-d398-47d6-993c-aa52aec4f0fd\"}, {\"marker\": {\"color\": \"rgba(102,189,99, 0.75)\", \"size\": 0.5}, \"mode\": \"markers\", \"x\": [0.8984753466523737], \"y\": [-0.052364601191042595], \"type\": \"scatter\", \"uid\": \"7f4a1a5f-8961-4dee-9e89-188fede29d7c\"}], {\"annotations\": [{\"align\": \"left\", \"showarrow\": false, \"text\": \"186 V\", \"valign\": \"bottom\", \"x\": 1.0708157698156506, \"y\": 0.5416212579968732}, {\"align\": \"left\", \"showarrow\": false, \"text\": \"194 P\", \"valign\": \"bottom\", \"x\": 0.16096613403262147, \"y\": 1.189155121796392}, {\"align\": \"left\", \"showarrow\": false, \"text\": \"138 S\", \"valign\": \"bottom\", \"x\": -0.7293450081907283, \"y\": 0.9529196498274479}, {\"align\": \"left\", \"showarrow\": false, \"text\": \"156 R/Q\", \"valign\": \"bottom\", \"x\": -1.1000143862140037, \"y\": 0.4795501539174277}, {\"align\": \"left\", \"showarrow\": false, \"text\": \"160 K\", \"valign\": \"bottom\", \"x\": -0.6120885199705567, \"y\": -1.0321567922172743}, {\"align\": \"left\", \"showarrow\": false, \"text\": \"203 I\", \"valign\": \"bottom\", \"x\": 0.9149815389840676, \"y\": -0.776407614155314}, {\"align\": \"left\", \"showarrow\": false, \"text\": \"219 F/Y\", \"valign\": \"bottom\", \"x\": 1.1047051135891783, \"y\": -0.4686433740168746}, {\"align\": \"left\", \"showarrow\": false, \"text\": \"225 G\", \"valign\": \"bottom\", \"x\": 1.1926323143244453, \"y\": -0.1327710918427554}], \"height\": 800, \"hovermode\": false, \"margin\": {\"b\": 25, \"l\": 25, \"r\": 25, \"t\": 25}, \"shapes\": [{\"fillcolor\": \"rgba(175,175,175,0.5)\", \"layer\": \"below\", \"line\": {\"color\": \"rgba(175,175,175,0.5)\", \"width\": 0.5}, \"path\": \"M 0.8288705179205476, 0.5594404923869233 Q 0.28851578953652474, 0.277053495173975 0.5925644623415064, 0.8055230337922817L 0.5925644623415064, 0.8055230337922817 L 0.680555885338843, 0.7326961764132958 L 0.7596686117814838, 0.650310387641158 L 0.8288705179205476, 0.5594404923869233 \", \"type\": \"path\"}, {\"fillcolor\": \"rgba(26,152,80, 0.75)\", \"layer\": \"below\", \"line\": {\"color\": \"rgba(26,152,80, 0.75)\", \"width\": 0.5}, \"path\": \"M 0.9999912593783691, 0.004181048536349972 Q 0.09950629504250144, 0.1734891848125256 -0.501311521334239, 0.8652668713047731L -0.501311521334239, 0.8652668713047731 L -0.47806763713822265, 0.8783230239046889 L -0.45448397054109646, 0.8907549160802873 M -0.45448397054109646, 0.8907549160802873 Q 0.09941669651189121, 0.17354054412344835 0.998287324764133, 0.05850142917288928L 0.998287324764133, 0.05850142917288928 L 0.9995083796040758, 0.031352816480098196 L 0.9999912593783691, 0.004181048536349972 \", \"type\": \"path\"}, {\"fillcolor\": \"rgba(26,152,80, 0.75)\", \"layer\": \"below\", \"line\": {\"color\": \"rgba(26,152,80, 0.75)\", \"width\": 0.5}, \"path\": \"M 0.998287324764133, 0.05850142917288928 Q 0.039169222997289366, 0.1961269282117798 -0.8992364983092883, 0.4374628214013727L -0.8992364983092883, 0.4374628214013727 L -0.8792900407918686, 0.47628670374495463 L -0.8576683994499936, 0.5142031860897852 M -0.8576683994499936, 0.5142031860897852 Q 0.03871015543755493, 0.19621805183519772 0.9886935084631471, 0.14995047956853283L 0.9886935084631471, 0.14995047956853283 L 0.9945420755843919, 0.10433628272221417 L 0.998287324764133, 0.05850142917288928 \", \"type\": \"path\"}, {\"fillcolor\": \"rgba(26,152,80, 0.75)\", \"layer\": \"below\", \"line\": {\"color\": \"rgba(26,152,80, 0.75)\", \"width\": 0.5}, \"path\": \"M 0.9665887293527299, 0.25633226150501454 Q -0.09357736256110233, 0.1767576793695482 -0.7553746640971014, -0.6552931533597701L -0.7553746640971014, -0.6552931533597701 L -0.8249114299488349, -0.5652620036228938 L -0.8837730419572677, -0.46791581540870963 L -0.9311977737832535, -0.3645143427920396 M -0.9311977737832535, -0.3645143427920396 Q -0.09296038966909377, 0.17708293523818225 0.8288705179205476, 0.5594404923869233L 0.8288705179205476, 0.5594404923869233 L 0.8859695963770551, 0.4637433280333832 L 0.9320664810984756, 0.3622872821569991 L 0.9665887293527299, 0.25633226150501454 \", \"type\": \"path\"}, {\"fillcolor\": \"rgba(26,152,80, 0.75)\", \"layer\": \"below\", \"line\": {\"color\": \"rgba(26,152,80, 0.75)\", \"width\": 0.5}, \"path\": \"M 0.9886935084631471, 0.14995047956853283 Q -0.19785435304743748, 0.029217374628463428 0.9031517792809074, -0.4293213989329335L 0.9031517792809074, -0.4293213989329335 L 0.8797410208132529, -0.4754531904388231 L 0.8539758943235753, -0.5203125713590337 M 0.8539758943235753, -0.5203125713590337 Q -0.19793010749747175, 0.028699695922418375 0.9665887293527299, 0.25633226150501454L 0.9665887293527299, 0.25633226150501454 L 0.979087038143985, 0.2034418141347517 L 0.9886935084631471, 0.14995047956853283 \", \"type\": \"path\"}, {\"fillcolor\": \"rgba(26,152,80, 0.75)\", \"layer\": \"below\", \"line\": {\"color\": \"rgba(26,152,80, 0.75)\", \"width\": 0.5}, \"path\": \"M 1.0, 0.0 Q -0.19920911829629712, 0.017768713729809125 0.9842136406194046, -0.17698448976872921L 0.9842136406194046, -0.17698448976872921 L 0.9838958595013594, -0.17874265762845007 L 0.9835749376509081, -0.18050025491675148 M 0.9835749376509081, -0.18050025491675148 Q -0.19921450855402892, 0.017708178381096763 0.9999912593783691, 0.004181048536349972L 0.9999912593783691, 0.004181048536349972 L 0.9999978148422048, 0.0020905288363103685 L 1.0, 0.0 \", \"type\": \"path\"}, {\"fillcolor\": \"rgba(175,175,175,0.5)\", \"layer\": \"below\", \"line\": {\"color\": \"rgba(175,175,175,0.5)\", \"width\": 0.5}, \"path\": \"M 0.07593598098975045, 0.9971126951308584 Q -0.05140259235136033, 0.39668346764083817 -0.3275740404808306, 0.9448255119349092L -0.3275740404808306, 0.9448255119349092 L -0.2292419422734807, 0.9733694734799742 L -0.1285064808784008, 0.9917086691020953 L -0.02642376277076248, 0.9996508314211691 L 0.07593598098975045, 0.9971126951308584 \", \"type\": \"path\"}, {\"fillcolor\": \"rgba(215,48,39, 0.75)\", \"layer\": \"below\", \"line\": {\"color\": \"rgba(215,48,39, 0.75)\", \"width\": 0.5}, \"path\": \"M 0.5391051772102465, 0.8422384507401147 Q 0.009754279074973794, 0.1997619934815618 -0.45448397054109646, 0.8907549160802873L -0.45448397054109646, 0.8907549160802873 L -0.43427558228238566, 0.9007800611876879 L -0.41384619878382606, 0.9103468150942133 M -0.41384619878382606, 0.9103468150942133 Q 0.009666995805131173, 0.19976623636666827 0.4998128144047106, 0.8661334484690233L 0.4998128144047106, 0.8661334484690233 L 0.5195963732113901, 0.8544118497221173 L 0.5391051772102465, 0.8422384507401147 \", \"type\": \"path\"}, {\"fillcolor\": \"rgba(215,48,39, 0.75)\", \"layer\": \"below\", \"line\": {\"color\": \"rgba(215,48,39, 0.75)\", \"width\": 0.5}, \"path\": \"M 0.44079635162885883, 0.8976071392266705 Q -0.17901913213211174, 0.08917483014094009 -0.4509376409798964, -0.892555457071148L -0.4509376409798964, -0.892555457071148 L -0.56240011288693, -0.8268652326859367 L -0.6644485196874957, -0.7473340382219289 L -0.7553746640971014, -0.6552931533597701 M -0.7553746640971014, -0.6552931533597701 Q -0.17866398664052824, 0.0898842582308668 0.07593598098975045, 0.9971126951308584L 0.07593598098975045, 0.9971126951308584 L 0.20144668186050452, 0.9794994815554486 L 0.32372151218204265, 0.9461524097895495 L 0.44079635162885883, 0.8976071392266705 \", \"type\": \"path\"}, {\"fillcolor\": \"rgba(215,48,39, 0.75)\", \"layer\": \"below\", \"line\": {\"color\": \"rgba(215,48,39, 0.75)\", \"width\": 0.5}, \"path\": \"M 0.4998128144047106, 0.8661334484690233 Q -0.19643338650505918, -0.03760218964573786 0.7843551078352395, -0.6203120705038472L 0.7843551078352395, -0.6203120705038472 L 0.7658237263572923, -0.6430505580032032 L 0.7466333911546206, -0.6652357320626663 M 0.7466333911546206, -0.6652357320626663 Q -0.1962770295879459, -0.038409994221981075 0.44079635162885883, 0.8976071392266705L 0.44079635162885883, 0.8976071392266705 L 0.4705677943814991, 0.8823638426924185 L 0.4998128144047106, 0.8661334484690233 \", \"type\": \"path\"}, {\"fillcolor\": \"rgba(215,48,39, 0.75)\", \"layer\": \"below\", \"line\": {\"color\": \"rgba(215,48,39, 0.75)\", \"width\": 0.5}, \"path\": \"M 0.5669699776035957, 0.8237384563659622 Q -0.19599626297359643, -0.039817896734820564 0.843453720376856, -0.537201844358748L 0.843453720376856, -0.537201844358748 L 0.8413090726792525, -0.5405543860034587 L 0.8391510994458327, -0.5438983657806393 M 0.8391510994458327, -0.5438983657806393 Q -0.19598824653807426, -0.039857335823296355 0.5600620342823608, 0.8284506730973811L 0.5600620342823608, 0.8284506730973811 L 0.5635209314662213, 0.8261017853748062 L 0.5669699776035957, 0.8237384563659622 \", \"type\": \"path\"}, {\"fillcolor\": \"rgba(215,48,39, 0.75)\", \"layer\": \"below\", \"line\": {\"color\": \"rgba(215,48,39, 0.75)\", \"width\": 0.5}, \"path\": \"M 0.5600620342823608, 0.8284506730973811 Q -0.18241879124430446, -0.08199624748100899 0.991370435079294, -0.13109027595779663L 0.991370435079294, -0.13109027595779663 L 0.9899082204400981, -0.1417099682630624 L 0.9883322495708898, -0.15231337583463994 M 0.9883322495708898, -0.15231337583463994 Q -0.18226898881803674, -0.08232870529317467 0.5391051772102465, 0.8422384507401147L 0.5391051772102465, 0.8422384507401147 L 0.5496268419647915, 0.8354102791992747 L 0.5600620342823608, 0.8284506730973811 \", \"type\": \"path\"}, {\"fillcolor\": \"rgba(175,175,175,0.5)\", \"layer\": \"below\", \"line\": {\"color\": \"rgba(175,175,175,0.5)\", \"width\": 0.5}, \"path\": \"M -0.501311521334239, 0.8652668713047731 Q -0.23622507764756373, 0.32279670489396656 -0.6731040352014253, 0.7395478062948726L -0.6731040352014253, 0.7395478062948726 L -0.5905626941189093, 0.8069917622349163 L -0.501311521334239, 0.8652668713047731 \", \"type\": \"path\"}, {\"fillcolor\": \"rgba(175,175,175,0.5)\", \"layer\": \"below\", \"line\": {\"color\": \"rgba(175,175,175,0.5)\", \"width\": 0.5}, \"path\": \"M -0.3875419582873673, 0.9218520654458568 Q -0.13102390788923476, 0.1511050481004302 -0.8576683994499936, 0.5142031860897852L -0.8576683994499936, 0.5142031860897852 L -0.8504440707272733, 0.5260654736483136 L -0.8430556872683093, 0.5378262806562716 M -0.8430556872683093, 0.5378262806562716 Q -0.13109438964880785, 0.1510439042219399 -0.41384619878382606, 0.9103468150942133L -0.41384619878382606, 0.9103468150942133 L -0.40073537062493564, 0.9161938456080654 L -0.3875419582873673, 0.9218520654458568 \", \"type\": \"path\"}, {\"fillcolor\": \"rgba(175,175,175,0.5)\", \"layer\": \"below\", \"line\": {\"color\": \"rgba(175,175,175,0.5)\", \"width\": 0.5}, \"path\": \"M -0.6731040352014253, 0.7395478062948726 Q -0.1947495192127037, 0.04552608885486161 -0.9311977737832535, -0.3645143427920396L -0.9311977737832535, -0.3645143427920396 L -0.9658384185424984, -0.25914503519713766 L -0.9885966765505411, -0.15058755298239246 M -0.9885966765505411, -0.15058755298239246 Q -0.19455046264965703, 0.04636935930983308 -0.814392853297448, 0.5803139499426507L -0.814392853297448, 0.5803139499426507 L -0.7479977296594271, 0.6637012855376601 L -0.6731040352014253, 0.7395478062948726 \", \"type\": \"path\"}, {\"fillcolor\": \"rgba(175,175,175,0.5)\", \"layer\": \"below\", \"line\": {\"color\": \"rgba(175,175,175,0.5)\", \"width\": 0.5}, \"path\": \"M -0.3570900889923566, 0.9340699483140601 Q -0.16766774167252707, -0.10902994268747801 0.7089333345156856, -0.7052754973855756L 0.7089333345156856, -0.7052754973855756 L 0.7076390874436229, -0.7065740739101292 L 0.7063424617301803, -0.7078702753732131 M 0.7063424617301803, -0.7078702753732131 Q -0.16764403423691482, -0.1090663916372598 -0.36091827321204206, 0.9325974480244077L -0.36091827321204206, 0.9325974480244077 L -0.3590049360567853, 0.9333356608888699 L -0.3570900889923566, 0.9340699483140601 \", \"type\": \"path\"}, {\"fillcolor\": \"rgba(175,175,175,0.5)\", \"layer\": \"below\", \"line\": {\"color\": \"rgba(175,175,175,0.5)\", \"width\": 0.5}, \"path\": \"M -0.36091827321204206, 0.9325974480244077 Q -0.15419239289384912, -0.12737623786903454 0.8477029034994923, -0.5304712880057981L 0.8477029034994923, -0.5304712880057981 L 0.8455850085694623, -0.5338407939475798 L 0.843453720376856, -0.537201844358748 M 0.843453720376856, -0.537201844358748 Q -0.15417687915015021, -0.1273950153480111 -0.36855636189438645, 0.9296054045169778L -0.36855636189438645, 0.9296054045169778 L -0.3647403856128381, 0.9311092584133176 L -0.36091827321204206, 0.9325974480244077 \", \"type\": \"path\"}, {\"fillcolor\": \"rgba(175,175,175,0.5)\", \"layer\": \"below\", \"line\": {\"color\": \"rgba(175,175,175,0.5)\", \"width\": 0.5}, \"path\": \"M -0.36855636189438645, 0.9296054045169778 Q -0.12468642260578054, -0.1563754968585958 0.9883322495708898, -0.15231337583463994L 0.9883322495708898, -0.15231337583463994 L 0.9869321736582924, -0.1611362299364052 L 0.9854533376299479, -0.1699462248889212 M 0.9854533376299479, -0.1699462248889212 Q -0.1244797784511722, -0.15654004202358926 -0.3875419582873673, 0.9218520654458568L -0.3875419582873673, 0.9218520654458568 L -0.3780690360398553, 0.9257774052048876 L -0.36855636189438645, 0.9296054045169778 \", \"type\": \"path\"}, {\"fillcolor\": \"rgba(175,175,175,0.5)\", \"layer\": \"below\", \"line\": {\"color\": \"rgba(175,175,175,0.5)\", \"width\": 0.5}, \"path\": \"M -0.9408620178215341, 0.33878999899759615 Q -0.38328908163009845, 0.11440926493582465 -0.9726265714097448, 0.23237373472000783L -0.9726265714097448, 0.23237373472000783 L -0.9582227040752461, 0.2860231623395616 L -0.9408620178215341, 0.33878999899759615 \", \"type\": \"path\"}, {\"fillcolor\": \"rgba(175,175,175,0.5)\", \"layer\": \"below\", \"line\": {\"color\": \"rgba(175,175,175,0.5)\", \"width\": 0.5}, \"path\": \"M -0.8992364983092883, 0.4374628214013727 Q -0.19549307656339732, 0.0422191546075674 -0.9996250945489522, -0.02738010861918614L -0.9996250945489522, -0.02738010861918614 L -0.9995428740994161, 0.030233141369674286 L -0.9961428776503537, 0.08774603869390593 M -0.9961428776503537, 0.08774603869390593 Q -0.19532053233306068, 0.04301034351327365 -0.9408620178215341, 0.33878999899759615L -0.9408620178215341, 0.33878999899759615 L -0.9213711080433309, 0.3886840378289347 L -0.8992364983092883, 0.4374628214013727 \", \"type\": \"path\"}, {\"fillcolor\": \"rgba(175,175,175,0.5)\", \"layer\": \"below\", \"line\": {\"color\": \"rgba(175,175,175,0.5)\", \"width\": 0.5}, \"path\": \"M -0.8365932924996657, 0.5478244818776984 Q -0.10682784839841238, -0.16907930330636517 0.8539758943235753, -0.5203125713590337L 0.8539758943235753, -0.5203125713590337 L 0.8508545602046906, -0.5254012917560086 L 0.8477029034994923, -0.5304712880057981 M 0.8477029034994923, -0.5304712880057981 Q -0.10683076765744924, -0.16907745882204436 -0.8430556872683093, 0.5378262806562716L -0.8430556872683093, 0.5378262806562716 L -0.8398393684603122, 0.5428349981202244 L -0.8365932924996657, 0.5478244818776984 \", \"type\": \"path\"}, {\"fillcolor\": \"rgba(175,175,175,0.5)\", \"layer\": \"below\", \"line\": {\"color\": \"rgba(175,175,175,0.5)\", \"width\": 0.5}, \"path\": \"M -0.8322191012570919, 0.5544469023295543 Q -0.07404229426200502, -0.18578950094238011 0.9854533376299479, -0.1699462248889212L 0.9854533376299479, -0.1699462248889212 L 0.9848397766107, -0.17346646478609778 L 0.9842136406194046, -0.17698448976872921 M 0.9842136406194046, -0.17698448976872921 Q -0.07396889971860769, -0.18581873391673553 -0.8365932924996657, 0.5478244818776984L -0.8365932924996657, 0.5478244818776984 L -0.8344127668619411, 0.5511400316596499 L -0.8322191012570919, 0.5544469023295543 \", \"type\": \"path\"}, {\"fillcolor\": \"rgba(175,175,175,0.5)\", \"layer\": \"below\", \"line\": {\"color\": \"rgba(175,175,175,0.5)\", \"width\": 0.5}, \"path\": \"M -0.4509376409798964, -0.892555457071148 Q 0.05682437848108377, -0.3959431651263077 0.6837591816858791, -0.7297077370154827L 0.6837591816858791, -0.7297077370154827 L 0.6176159604531204, -0.786479831523714 L 0.5467800953577913, -0.837276255079842 L 0.47178979704999485, -0.8817110566390356 L 0.3932148415485506, -0.9194466207376849 L 0.31165224108483786, -0.9501962326944883 L 0.227721708005993, -0.9737262570675771 L 0.14206094620270943, -0.9898579128157692 L 0.05532080583734902, -0.9984686316762817 L -0.031839661813262636, -0.9994929894379535 L -0.11875821182708798, -0.9929232030341685 L -0.20477443737143014, -0.9788091896785677 L -0.28923478747168996, -0.9572581875942385 L -0.3714975326893378, -0.9284339412180784 L -0.4509376409798964, -0.892555457071148 \", \"type\": \"path\"}, {\"fillcolor\": \"rgba(175,175,175,0.5)\", \"layer\": \"below\", \"line\": {\"color\": \"rgba(175,175,175,0.5)\", \"width\": 0.5}, \"path\": \"M -0.9891247592002917, 0.14707892689629243 Q -0.08477364972302837, -0.18114477169556206 0.7466333911546206, -0.6652357320626663L 0.7466333911546206, -0.6652357320626663 L 0.7293142671079673, -0.684178850734783 L 0.7115146753418728, -0.7026712366200494 M 0.7115146753418728, -0.7026712366200494 Q -0.08401027810119993, -0.18150006383844347 -0.9961428776503537, 0.08774603869390593L -0.9961428776503537, 0.08774603869390593 L -0.9930770339642568, 0.11746490800555792 L -0.9891247592002917, 0.14707892689629243 \", \"type\": \"path\"}, {\"fillcolor\": \"rgba(175,175,175,0.5)\", \"layer\": \"below\", \"line\": {\"color\": \"rgba(175,175,175,0.5)\", \"width\": 0.5}, \"path\": \"M -0.9996250945489522, -0.02738010861918614 Q -0.029980823452408007, -0.19774010778068152 0.9465834277757027, -0.3224590117525033L 0.9465834277757027, -0.3224590117525033 L 0.9264097238828323, -0.37651696309108645 L 0.9031517792809074, -0.4293213989329335 M 0.9031517792809074, -0.4293213989329335 Q -0.029153625391672596, -0.19786375647531315 -0.9885966765505411, -0.15058755298239246L -0.9885966765505411, -0.15058755298239246 L -0.9960178067460087, -0.08915452116898198 L -0.9996250945489522, -0.02738010861918614 \", \"type\": \"path\"}, {\"fillcolor\": \"rgba(175,175,175,0.5)\", \"layer\": \"below\", \"line\": {\"color\": \"rgba(175,175,175,0.5)\", \"width\": 0.5}, \"path\": \"M -0.9794456743074438, 0.2017081334017963 Q -0.0287121686912256, -0.19792829855542793 0.99638834924488, -0.08491323506417077L 0.99638834924488, -0.08491323506417077 L 0.9941475373106864, -0.10803089400304663 L 0.991370435079294, -0.13109027595779663 M 0.991370435079294, -0.13109027595779663 Q -0.027817826744128107, -0.19805597318746454 -0.9891247592002917, 0.14707892689629243L -0.9891247592002917, 0.14707892689629243 L -0.9846641434880543, 0.1744606675699033 L -0.9794456743074438, 0.2017081334017963 \", \"type\": \"path\"}, {\"fillcolor\": \"rgba(175,175,175,0.5)\", \"layer\": \"below\", \"line\": {\"color\": \"rgba(175,175,175,0.5)\", \"width\": 0.5}, \"path\": \"M 0.7843551078352395, -0.6203120705038472 Q 0.4011057951221728, -0.2985199174584663 0.8193778089580147, -0.5732538758588231L 0.8193778089580147, -0.5732538758588231 L 0.8022115902443456, -0.5970398349169326 L 0.7843551078352395, -0.6203120705038472 \", \"type\": \"path\"}, {\"fillcolor\": \"rgba(175,175,175,0.5)\", \"layer\": \"below\", \"line\": {\"color\": \"rgba(175,175,175,0.5)\", \"width\": 0.5}, \"path\": \"M 0.7089333345156856, -0.7052754973855756 Q 0.1556472933680182, -0.12559426765266832 0.8391510994458327, -0.5438983657806393L 0.8391510994458327, -0.5438983657806393 L 0.8380671264262876, -0.5455671284118803 L 0.83697983485684, -0.5472337307248311 M 0.83697983485684, -0.5472337307248311 Q 0.1556276346396898, -0.12561862655058456 0.7115146753418728, -0.7026712366200494L 0.7115146753418728, -0.7026712366200494 L 0.7102251985959163, -0.7039745501645576 L 0.7089333345156856, -0.7052754973855756 \", \"type\": \"path\"}, {\"fillcolor\": \"rgba(175,175,175,0.5)\", \"layer\": \"below\", \"line\": {\"color\": \"rgba(175,175,175,0.5)\", \"width\": 0.5}, \"path\": \"M 0.9465834277757027, -0.3224590117525033 Q 0.48180286392443117, -0.13366375841721678 0.9774199527726675, -0.21130602433881668L 0.9774199527726675, -0.21130602433881668 L 0.9636057278488623, -0.26732751683443357 L 0.9465834277757027, -0.3224590117525033 \", \"type\": \"path\"}, {\"fillcolor\": \"rgba(175,175,175,0.5)\", \"layer\": \"below\", \"line\": {\"color\": \"rgba(175,175,175,0.5)\", \"width\": 0.5}, \"path\": \"M 0.99638834924488, -0.08491323506417077 Q 0.49915297036242984, -0.029091445106134775 0.9995065603657315, -0.03141075907812924L 0.9995065603657315, -0.03141075907812924 L 0.9983059407248597, -0.05818289021226955 L 0.99638834924488, -0.08491323506417077 \", \"type\": \"path\"}, {\"fillcolor\": \"rgba(26,152,80, 0.75)\", \"layer\": \"below\", \"line\": {\"color\": \"rgba(26,152,80, 0.75)\", \"width\": 0.45}, \"path\": \"M 1.1, 0.0 L 1.0999430029642472, 0.011197777904307515 L 1.099772017763647, 0.022394395371983095 L 1.0994870621175623, 0.03358869208665198 L 1.0990881655562244, 0.04477950797244132 L 1.098575369417672, 0.055965683314199925 L 1.0979487268434693, 0.06714605887768073 L 1.097208302773196, 0.07831947602967332 L 1.0963541739377203, 0.08948477685807427 L 1.0953864288512447, 0.10064080429188263 L 1.0943051678021358, 0.11178640222110842 L 1.0931105028425292, 0.12292041561658133 L 1.0918025577767183, 0.1340416906496476 L 1.0903814681483244, 0.14514907481174236 L 1.08884738122625, 0.15624141703382521 L 1.087200455989417, 0.16731756780566673 L 1.085440863110292, 0.17837637929497313 L 1.0835687849371995, 0.18941670546633743 L 1.0815844154754237, 0.20043740220000425 L 1.079487960367105, 0.21143732741043575 L 1.0772796368699284, 0.22241534116466746 L 1.0749596738346092, 0.2333703058004403 L 1.0725283116811763, 0.24430108604409795 L 1.0699858023740583, 0.25520654912823615 L 1.0673324093959713, 0.26608556490909246 L 1.0645684077206143, 0.2769370059836644 L 1.0616940837841733, 0.28775974780654295 L 1.0587097354556374, 0.2985526688064506 L 1.0556156720059315, 0.30931465050247087 L 1.0524122140758645, 0.3200445776199574 L 1.0490996936429022, 0.330741338206111 L 1.0456784539867636, 0.34140382374521244 L 1.0421488496538471, 0.35203092927349905 L 1.038511246420488, 0.3626215534936731 L 1.0347660212550525, 0.37317459888903026 L 1.0309135622788725, 0.38368897183719675 L 1.0269542687260251, 0.39416358272346175 L 1.0228885509019572, 0.4045973460536959 L 1.0187168301409677, 0.41498918056684186 L 1.0144395387625427, 0.42533800934696636 L 1.010057120026554, 0.4356427599348621 L 1.005570028087324, 0.44590236443918785 L 1.0009787279465618, 0.4561157596471351 L 0.996283695405173, 0.46628188713460944 L 0.9914854170139533, 0.47639969337591664 L 0.9865843900231663, 0.48646812985294025 L 0.9815811223310131, 0.4964861531638005 L 0.9764761324309985, 0.5064527251309832 L 0.9712699493581985, 0.5163668129089268 L 0.9659631126344362, 0.5262273890910579 L 0.9605561722123708, 0.5360334318162614 L 0.9550496884185049, 0.5457839248747777 L 0.949444231895118, 0.5554778578135132 L 0.9437403835411299, 0.5651142260407547 L 0.9379387344519016, 0.5746920309302762 L 0.9320398858579797, 0.5842102799248269 L 0.9260444490627897, 0.593667986638992 L 0.9199530453792872, 0.6030641709614122 L 0.9137663060655693, 0.6123978591563531 L 0.9074848722594577, 0.6216680839646154 L 0.9011093949120562, 0.6308738847037718 L 0.894640534720293, 0.6400143073677247 L 0.8880789620584509, 0.6490884047255695 L 0.8814253569086963, 0.6580952364197582 L 0.8746804087906124, 0.6670338690635488 L 0.8678448166897426, 0.6759033763377331 L 0.860919288985155, 0.6847028390866328 L 0.8539045433760317, 0.6934313454133515 L 0.8468013068072936, 0.7020879907742762 L 0.8396103153942648, 0.710671878072816 L 0.8323323143463908, 0.7191821177523682 L 0.8249680578900093, 0.7276178278885053 L 0.8175183091901905, 0.7359781342803687 L 0.8099838402716488, 0.7442621705412631 L 0.802365431938738, 0.7524690781884413 L 0.7946638736945341, 0.7605980067320698 L 0.7868799636590204, 0.7686481137633651 L 0.7790145084863759, 0.776618565041894 L 0.7710683232813819, 0.7845085345820264 L 0.7630422315149517, 0.7923172047385334 L 0.7549370649387931, 0.8000437662913203 L 0.7467536634992137, 0.8076874185292867 L 0.7384928752500759, 0.815247369333306 L 0.730155556264913, 0.822722835258312 L 0.7217425705482127, 0.8301130416144891 L 0.7132547899458799, 0.8374172225475536 L 0.7046930940548862, 0.8446346211181208 L 0.696058370132117, 0.8517644893801462 L 0.687351513002423, 0.8588060884584365 L 0.6785734249658903, 0.8657586886252205 L 0.6697250157043326, 0.87262156937577 L 0.6608072021870209, 0.8793940195030677 L 0.651820908575657, 0.88607533717151 L 0.5925644623415063, 0.8055230337922817 L 0.600733820170019, 0.7994491086391524 L 0.6088409233675751, 0.7932923357961544 L 0.616884931787173, 0.787053353295655 L 0.6248650118203846, 0.7807328076894877 L 0.6327803364837427, 0.774331353981951 L 0.640630085504442, 0.767849655561928 L 0.6484134454053453, 0.7612883841341396 L 0.6561296095892842, 0.7546482196495354 L 0.6637777784226482, 0.747929850234829 L 0.6713571593182508, 0.7411339721211873 L 0.6788669668174669, 0.7342612895720788 L 0.68630642267163, 0.7273125148102911 L 0.6936747559226832, 0.7202883679441212 L 0.7009712029830744, 0.7131895768927512 L 0.7081950077148871, 0.7060168773108126 L 0.7153454215082002, 0.69877101251215 L 0.7224217033586673, 0.6914527333927907 L 0.7294231199443072, 0.6840627983531284 L 0.7363489457014989, 0.67660197321933 L 0.7431984629001731, 0.6690710311639715 L 0.7499709617181902, 0.6614707526259138 L 0.7566657403149006, 0.6538019252294256 L 0.763282104903877, 0.6460653437025599 L 0.7698193698248122, 0.6382618097947965 L 0.7762768576145742, 0.6303921321939558 L 0.7826538990774136, 0.6224571264423934 L 0.7889498333543113, 0.6144576148524846 L 0.7951640079914657, 0.606394426421408 L 0.8012957790079056, 0.5982683967452347 L 0.807344510962228, 0.5900803679323359 L 0.8133095770184482, 0.5818311885161133 L 0.8191903590109602, 0.5735217133670653 L 0.8249862475085978, 0.5651528036041957 L 0.8306966418777902, 0.5567253265057756 L 0.8363209503448065, 0.5482401554194656 L 0.8418585900570815, 0.5396981696718108 L 0.8473089871436178, 0.5311002544771153 L 0.8526715767744559, 0.5224473008457056 L 0.8579458032192089, 0.5137402054915952 L 0.8631311199046526, 0.5049798707395574 L 0.868226989471368, 0.49616720443161605 L 0.8732328838294279, 0.48730311983296487 L 0.8781482842131237, 0.47838853553732535 L 0.8829726812347258, 0.46942437537175163 L 0.8877055749372713, 0.46041156830089375 L 0.8923464748463755, 0.4513510483307277 L 0.8968949000210602, 0.44224375441176383 L 0.9013503791035938, 0.4330906303417424 L 0.905712450368339, 0.42389262466782673 L 0.9099806617696016, 0.41465069058830456 L 0.9141545709884764, 0.4053657858538071 L 0.9182337454786853, 0.39603887266805643 L 0.9222177625114023, 0.3866709175881512 L 0.9261062092190615, 0.37726289142440167 L 0.9298986826381429, 0.3678157691397235 L 0.9335947897509318, 0.3583305297486016 L 0.9371941475262477, 0.3488081562156334 L 0.9406963829591385, 0.33924963535366387 L 0.9441011331095344, 0.32965595772152095 L 0.947408045139861, 0.32002811752136273 L 0.9506167763516032, 0.31036711249564763 L 0.9537269942208201, 0.30067394382373724 L 0.9567383764326041, 0.29094961601814306 L 0.9596506109144831, 0.281195136820428 L 0.9624633958687613, 0.27141151709677325 L 0.9651764398037938, 0.2615997707332208 L 0.9677894615641948, 0.25176091453060395 L 0.9703021903599739, 0.24189596809917496 L 0.9727143657945984, 0.23200595375294195 L 0.9750257378919783, 0.2220918964037254 L 0.9772360671223719, 0.2121548234549457 L 0.9793451244272076, 0.2021957646951522 L 0.9813526912428227, 0.1922157521913052 L 0.9832585595231124, 0.18221582018182203 L 0.9850625317610904, 0.17219700496939766 L 0.9867644210093565, 0.1621603448136119 L 0.98836405089947, 0.15210687982333337 L 0.9898612556602272, 0.142037651848932 L 0.9912558801348403, 0.13195370437431123 L 0.9925477797970166, 0.12185608240877054 L 0.9937368207659356, 0.11174583237871029 L 0.9948228798201234, 0.10162400201918946 L 0.9958058444102225, 0.09149164026534784 L 0.9966856126706547, 0.08134979714370387 L 0.9974620934301782, 0.07119952366333937 L 0.9981352062213357, 0.06104187170698247 L 0.9987048812887928, 0.05087789392199993 L 0.9991710595965675, 0.04070864361131028 L 0.9995336928341475, 0.030535174624229073 L 0.9997927434214972, 0.020358541247257358 L 0.999948184512952, 0.010179798094825013 L 1.0, 0.0 L 1.1 ,0.0\", \"type\": \"path\"}, {\"fillcolor\": \"rgba(215,48,39, 0.75)\", \"layer\": \"below\", \"line\": {\"color\": \"rgba(215,48,39, 0.75)\", \"width\": 0.45}, \"path\": \"M 0.6236669753639553, 0.9061123020025585 L 0.6144106194702478, 0.9124141552399253 L 0.6050905916055498, 0.9186214541096055 L 0.5957078576134271, 0.9247335553431707 L 0.5862633898357434, 0.9307498255376163 L 0.576758167011894, 0.9366696412210018 L 0.5671931741773794, 0.9424923889170612 L 0.5575694025617243, 0.9482174652087791 L 0.5478878494857551, 0.9538442768009224 L 0.5381495182582486, 0.9593722405815248 L 0.5283554180719555, 0.964800783682315 L 0.5185065638990187, 0.9701293435380836 L 0.5086039763857897, 0.9753573679449821 L 0.49864868174705895, 0.9804843151177486 L 0.488641711659707, 0.9855096537458534 L 0.47858410315579153, 0.9904328630485596 L 0.46847689851507934, 0.9952534328288912 L 0.45832114515703226, 0.9999708635265063 L 0.448117895532264, 1.0045846662694664 L 0.43786820701347184, 1.009094362924899 L 0.42757314178586087, 1.0134994861485467 L 0.4172337667370695, 1.017799579433199 L 0.4068511533466053, 1.021994197156 L 0.39642637757480775, 1.0260829046246294 L 0.3859605197513446, 1.030065278122349 L 0.3754546644632572, 1.0339409049519142 L 0.3649099004425625, 1.0377093834783413 L 0.3543273204534274, 1.0413703231705302 L 0.3437080211789251, 1.0449233446417339 L 0.33305310310738323, 1.0483680796888768 L 0.32236367041834074, 1.05170417133071 L 0.3116408308681194, 1.0549312738448076 L 0.3008856956750273, 1.0580490528033921 L 0.2900993794042009, 1.061057185107993 L 0.2792829998521018, 1.0639553590229296 L 0.26843767793067985, 1.066743274207616 L 0.25756453755120956, 1.0694206417476857 L 0.24666470550782055, 1.0719871841849324 L 0.23573931136072435, 1.0744426355460637 L 0.22478948731915932, 1.076786741370263 L 0.21381636812405688, 1.0790192587355603 L 0.20282109093044778, 1.0811399562840065 L 0.19180479518961857, 1.0831486142456486 L 0.18076862253102732, 1.0850450244613055 L 0.1697137166439974, 1.0868289904041395 L 0.158641223159194, 1.088500327200022 L 0.147552289529903, 1.0900588616466929 L 0.13644806491311795, 1.0915044322317091 L 0.12532970005045216, 1.092836889149183 L 0.1141983471488872, 1.0940560943153064 L 0.10305515976136705, 1.09516192138266 L 0.09190129266725497, 1.0961542557533077 L 0.08073790175266307, 1.097032994590672 L 0.06956614389066633, 1.0977980468301916 L 0.058387176821414075, 1.098449333188757 L 0.04720215903215286, 1.0989867861729292 L 0.03601224963717194, 1.0994103500859314 L 0.024818608257681736, 1.0997199810334228 L 0.013622394901641827, 1.0999156469280469 L 0.0024247698435487432, 1.0999973274927561 L -0.008773106495804943, 1.0999650142629143 L -0.01997007366958662, 1.0998187105871728 L -0.031164971325181392, 1.099558431627124 L -0.04235663932443981, 1.09918420435573 L -0.0535439178639056, 1.0986960675545279 L -0.06472564759500649, 1.0980940718096093 L -0.0759006697441981, 1.0973782795063798 L -0.08706782623304932, 1.0965487648230934 L -0.09822595979825559, 1.0956056137231645 L -0.10937391411156666, 1.09454892394626 L -0.12051053389961744, 1.0933788049981714 L -0.13163466506365135, 1.092095378139465 L -0.14274515479912012, 1.0906987763729157 L -0.15384085171514958, 1.0891891444297255 L -0.16492060595385954, 1.0875666387545233 L -0.17598326930952646, 1.0858314274891525 L -0.18702769534757022, 1.0839836904552471 L -0.19805273952336191, 1.0820236191355952 L -0.2090572593008344, 1.0799514166542974 L -0.22004011427088394, 1.0777672977557153 L -0.23100016626955133, 1.0754714887822177 L -0.2419362794959714, 1.0730642276507252 L -0.2528473206300786, 1.0705457638280536 L -0.2637321589500513, 1.0679163583050617 L -0.2745896664494913, 1.065176283569606 L -0.28541871795432044, 1.0623258235782995 L -0.2962181912393829, 1.0593652737270882 L -0.306986967144742, 1.056294940820637 L -0.3177239296916612, 1.0531151430405359 L -0.32842796619825293, 1.0498262099123261 L -0.33909796739478715, 1.0464284822713514 L -0.349732827538646, 1.0429223122274371 L -0.3603314445289137, 1.0393080631284002 L -0.3275740404808306, 0.9448255119349092 L -0.3179389341260418, 0.9481111929340337 L -0.30827087944980647, 0.9512986202466831 L -0.2985708783620481, 0.95438746355666 L -0.2888399360833283, 0.9573774027641235 L -0.27907906104067454, 0.9602681280187609 L -0.26928926476307535, 0.9630593397518983 L -0.2594715617766549, 0.965750748707545 L -0.24962696949953753, 0.9683420759723689 L -0.23975650813641025, 0.9708330530046015 L -0.2298612005727987, 0.9732234216618667 L -0.2199420722690649, 0.975512934227932 L -0.21000015115413756, 0.9777013534383796 L -0.20003646751898538, 0.9797884525051956 L -0.19005205390984944, 0.9817740151402703 L -0.18004794502123808, 0.9836578355778137 L -0.17002517758870017, 0.985439718595679 L -0.15998479028138768, 0.9871194795355932 L -0.14992782359441775, 0.9886969443222939 L -0.13985531974104506, 0.9901719494815686 L -0.12976832254465465, 0.991544342157196 L -0.11966787733059212, 0.9928139801267861 L -0.10955503081783402, 0.9939807318165194 L -0.09943083101051514, 0.9950444763147818 L -0.08929632708932325, 0.9960051033846948 L -0.0791525693027721, 0.9968625134755393 L -0.0690006088583619, 0.9976166177330725 L -0.05884149781364225, 0.9982673380087356 L -0.048676288967186905, 0.9988146068677525 L -0.038506035749490734, 0.9992583675961182 L -0.02833179211380126, 0.9995985742064764 L -0.018154612426896925, 0.9998351914428844 L -0.007975551359822674, 0.9999681947844675 L 0.0022043362214079483, 0.9999975704479601 L 0.012383995365128932, 0.9999233153891335 L 0.02256237114334703, 0.9997454373031116 L 0.0327384087610654, 0.999463954623574 L 0.0429110536655935, 0.9990788965208446 L 0.053079251655830974, 0.99859030289887 L 0.06324194899151483, 0.9979982243910831 L 0.07339809250242096, 0.9973027223551564 L 0.08354662969750451, 0.9965038688666432 L 0.09368650887397004, 0.9956017467115089 L 0.10381667922626109, 0.9945964493775511 L 0.11393609095495649, 0.9934880810447119 L 0.12404369537556176, 0.9922767565742809 L 0.13413844502718456, 0.9909626014969934 L 0.14421929378108544, 0.9895457520000199 L 0.15428519694908854, 0.9880263549128541 L 0.164335111391843, 0.9864045676920958 L 0.17436799562692595, 0.9846805584051349 L 0.1843828099367707, 0.982854505712733 L 0.19437851647641533, 0.9809265988505093 L 0.2043540793810539, 0.9788970376093299 L 0.21430846487338576, 0.9767660323146033 L 0.22424064137074592, 0.974533803804484 L 0.2341495795920087, 0.9722005834069869 L 0.24403425266425438, 0.9697666129160144 L 0.25389363622918343, 0.9672321445662996 L 0.2637267085492735, 0.9645974410072663 L 0.27353245061366116, 0.9618627752758109 L 0.2833098462437449, 0.9590284307680068 L 0.29305788219849155, 0.9560947012097364 L 0.30277554827943925, 0.9530618906262515 L 0.31246183743538647, 0.9499303133106671 L 0.3221157458667522, 0.946700293791391 L 0.33173627312960224, 0.943372166798492 L 0.3413224222393247, 0.9399462772290128 L 0.3508731997739496, 0.9364229801112263 L 0.36038761597709795, 0.9328026405678448 L 0.36986468486055024, 0.9290856337781819 L 0.37930342430642683, 0.9252723449392718 L 0.3887028561689644, 0.9213631692259515 L 0.39806200637588346, 0.917358511749908 L 0.40737990502933086, 0.9132587875176966 L 0.41665558650639295, 0.9090644213877329 L 0.425888089559163, 0.9047758480262647 L 0.4350764574143559, 0.9003935118623269 L 0.4442197378724609, 0.8959178670416849 L 0.4533169834064172, 0.8913493773797714 L 0.4623672512598088, 0.88668851631362 L 0.4713696035445625, 0.8819357668528032 L 0.4803231073381413, 0.8770916215293773 L 0.489226834780226, 0.8721565823468407 L 0.49807986316886826, 0.8671311607281112 L 0.5068812750561129, 0.8620158774625264 L 0.5156301583430721, 0.8568112626518738 L 0.524325606374449, 0.8515178556554561 L 0.532966718032494, 0.8461362050341966 L 0.5415525978303882, 0.8406668684937915 L 0.5500823560050452, 0.835110412826914 L 0.5585551086093161, 0.8294674138544775 L 0.5669699776035957, 0.8237384563659622 L 0.6236669753639553 ,0.9061123020025585\", \"type\": \"path\"}, {\"fillcolor\": \"rgba(244,109,67, 0.75)\", \"layer\": \"below\", \"line\": {\"color\": \"rgba(244,109,67, 0.75)\", \"width\": 0.45}, \"path\": \"M -0.3927990978915923, 1.0274769431454662 L -0.4033508798501255, 1.0233807051748287 L -0.41385995352809773, 1.0191761078762203 L -0.4243252061859828, 1.0148635964479282 L -0.4347455297241852, 1.0104436275145872 L -0.4451198208003712, 1.0059166690788286 L -0.4554469809462936, 1.001283200471728 L -0.46572591668410246, 0.9965437123020509 L -0.4759555396421266, 0.9916987064043051 L -0.48613476667011274, 0.9867486957856064 L -0.49626251995391607, 0.9816942045713569 L -0.5063377271296214, 0.9765357679497506 L -0.5163593213970901, 0.9712739321151046 L -0.5263262416329146, 0.9659092542100272 L -0.5362374325027772, 0.9604423022664244 L -0.5460918445731916, 0.9548736551453545 L -0.5558884344226184, 0.9492039024757382 L -0.5656261647519502, 0.9434336445919236 L -0.5753040044943426, 0.9375634924701226 L -0.5849209289243879, 0.9315940676637177 L -0.5944759197666155, 0.9255260022374503 L -0.6039679653033128, 0.9193599387004943 L -0.6133960604816487, 0.9130965299384253 L -0.6227592070200914, 0.9067364391440917 L -0.6320564135141111, 0.9002803397473919 L -0.641286695541154, 0.893728915343969 L -0.6504490757648759, 0.8870828596228307 L -0.6595425840386252, 0.8803428762928983 L -0.6685662575081678, 0.8735096790084941 L -0.6775191407136361, 0.8665839912937789 L -0.6864002856906977, 0.8595665464661413 L -0.6952087520709272, 0.8524580875585522 L -0.7039436071813788, 0.8452593672408895 L -0.7126039261433395, 0.837971147740242 L -0.7211887919702588, 0.8305942007602022 L -0.7296972956648422, 0.823129307399157 L -0.7381285363153005, 0.8155772580675801 L -0.7464816211907412, 0.8079388524043406 L -0.7547556658356925, 0.8002148991920361 L -0.7629497941637552, 0.792406216271354 L -0.7710631385503646, 0.7845136304544755 L -0.7790948399246581, 0.7765379774375311 L -0.787044047860436, 0.7684801017121132 L -0.7949099206662096, 0.7603408564758576 L -0.8026916254743206, 0.7521211035421045 L -0.8103883383291296, 0.743821713248647 L -0.8179992442742584, 0.7354435643655753 L -0.8255235374388823, 0.7269875440022302 L -0.832960421123057, 0.7184545475132715 L -0.8403091078820764, 0.7098454784038772 L -0.8475688196098509, 0.7011612482340736 L -0.8547387876212964, 0.692402776522218 L -0.8618182527337234, 0.6835709906476374 L -0.8688064653472247, 0.6746668257524316 L -0.8757026855240443, 0.6656912246424591 L -0.8825061830669252, 0.6566451376875084 L -0.8892162375964253, 0.6475295227206693 L -0.8958321386271931, 0.6383453449369155 L -0.8143928532974483, 0.5803139499426504 L -0.808378397814932, 0.5886632024733357 L -0.8022783482426592, 0.5969501251704622 L -0.7960933504764038, 0.6051738405840537 L -0.7898240594065679, 0.613333477956756 L -0.7834711388488393, 0.621428173316034 L -0.7770352614739058, 0.6294570695656527 L -0.770517108736228, 0.6374193165764305 L -0.7639173708018875, 0.645314071276252 L -0.7572367464755063, 0.6531404977393377 L -0.7504759431262565, 0.6608977672747547 L -0.7436356766129621, 0.6685850585141594 L -0.7367166712082995, 0.67620155749877 L -0.7297196595221096, 0.6837464577655494 L -0.7226453824238268, 0.6912189604325978 L -0.7154945889640327, 0.6986182742837392 L -0.7082680362951437, 0.7059436158523009 L -0.7009664895912404, 0.7131942095040686 L -0.6935907219670501, 0.7203692875194126 L -0.6861415143960841, 0.7274680901745783 L -0.6786196556279466, 0.7344898658221277 L -0.6710259421048186, 0.7414338709705273 L -0.6633611778771292, 0.74829937036287 L -0.655626174518417, 0.7550856370547292 L -0.6478217510393994, 0.761791952491129 L -0.6399487338012534, 0.7684176065826267 L -0.6320079564281156, 0.774961897780502 L -0.624000259718816, 0.7814241331510374 L -0.615926491557851, 0.7878036284488898 L -0.607787506825607, 0.79409970818954 L -0.599584167307841, 0.8003117057208166 L -0.5913173416044326, 0.8064389632934824 L -0.5829879050374127, 0.8124808321308808 L -0.5745967395582828, 0.8184366724976289 L -0.5661447336546285, 0.8243058537673561 L -0.5576327822560443, 0.8300877544894775 L -0.5490617866393752, 0.8357817624549947 L -0.5404326543332868, 0.8413872747613184 L -0.5317462990221707, 0.8469036978761069 L -0.5230036404494023, 0.8523304477001113 L -0.5142056043199547, 0.8576669496290213 L -0.5053531222023803, 0.8629126386143073 L -0.4964471314301741, 0.8680669592230494 L -0.48748857500252474, 0.8731293656967494 L -0.4784784014844678, 0.8780993220091156 L -0.4694175649064455, 0.8829763019228223 L -0.4603070246632922, 0.8877597890452278 L -0.45114774541265096, 0.8924492768830516 L -0.4419406969728297, 0.8970442688960057 L -0.43268685422011505, 0.9015442785493682 L -0.42338719698554766, 0.9059488293655007 L -0.414042709951176, 0.9102574549742981 L -0.404654382545792, 0.9144696991625714 L -0.3952232088401683, 0.9185851159223519 L -0.3857501874418025, 0.9226032694981166 L -0.37623632138917973, 0.9265237344329275 L -0.3666826180455686, 0.9303460956134806 L -0.3570900889923566, 0.9340699483140601 L -0.3927990978915923 ,1.0274769431454662\", \"type\": \"path\"}, {\"fillcolor\": \"rgba(253,174,97, 0.75)\", \"layer\": \"below\", \"line\": {\"color\": \"rgba(253,174,97, 0.75)\", \"width\": 0.45}, \"path\": \"M -0.9154410113828011, 0.6098915925625098 L -0.9217268593168384, 0.6003495621834977 L -0.9279132504637986, 0.5907427524851304 L -0.9339995172955728, 0.581072200067803 L -0.9399850030877336, 0.5713389484099205 L -0.9458690619903956, 0.5615440477553025 L -0.951651059097906, 0.5516885549998605 L -0.957330370517352, 0.5417735335775546 L -0.9629063834358803, 0.5318000533456477 L -0.9683784961868214, 0.5217691904692636 L -0.973746118314611, 0.5116820273052669 L -0.979008670638502, 0.501539652285473 L -0.9841655853150596, 0.4913431597992041 L -0.9892163058994325, 0.4810936500752016 L -0.9941602874053955, 0.4707922290629078 L -0.9989969963641547, 0.460440008313132 L -1.0037259108819103, 0.4500381048581103 L -1.0083465206961701, 0.4395876410909755 L -1.0128583272308085, 0.42908974464464744 L -1.0172608436498638, 0.4185455482701588 L -1.0215535949100694, 0.40795618971442776 L -1.0257361178121123, 0.3973228115974925 L -1.0298079610506137, 0.38664656128921937 L -1.033768685262825, 0.3759285907854983 L -1.0376178630760375, 0.3651700565839398 L -1.0413550791536965, 0.3543721195590855 L -1.044979930240217, 0.3435359448371469 L -1.048492025204497, 0.3326627016702849 L -1.0518909850821196, 0.3217535633104444 L -1.055176443116247, 0.3108097068827577 L -1.0583480447971922, 0.29983231325852905 L -1.0614054479006727, 0.28882256692781555 L -1.0643483225247372, 0.2777816558716179 L -1.0671763511253631, 0.2667107714336936 L -1.0698892285507196, 0.25561110819200816 L -0.972626571409745, 0.23237373472000739 L -0.9701603192048754, 0.24246433766699416 L -0.9675893841133975, 0.25252877806510715 L -0.964914043546066, 0.26256596993437775 L -0.9621345861792655, 0.2725748302350264 L -0.9592513119238608, 0.28255427898432517 L -0.956264531892836, 0.2925032393731313 L -0.9531745683677243, 0.3024206378820771 L -0.9499817547638336, 0.3123054043974062 L -0.9466864355942695, 0.32215647232644135 L -0.9432889664327613, 0.3319727787126725 L -0.9397897138752953, 0.34175326435045295 L -0.9361890555005578, 0.3514968738992903 L -0.9324873798291929, 0.36120255599772044 L -0.9286850862818812, 0.37086926337675247 L -0.9247825851362397, 0.3804959529728716 L -0.9207802974825531, 0.39008158604058857 L -0.9166786551783365, 0.3996251282645231 L -0.9124781008017366, 0.40912554987100935 L -0.908179087603777, 0.4185818257392109 L -0.9037820794594504, 0.42799293551173434 L -0.8992875508176659, 0.4373578637047287 L -0.8946959866500541, 0.44667559981745825 L -0.8900078823986382, 0.45594513844133905 L -0.8852237439223736, 0.4651654793684244 L -0.8803440874425648, 0.4743356276993306 L -0.8753694394871638, 0.4834545939505888 L -0.8703003368339564, 0.4925213941614133 L -0.8651373264526417, 0.5015350499998731 L -0.859880965445814, 0.5104945888684568 L -0.8545318209888486, 0.5193990440090186 L -0.8490904702687025, 0.5282474546070937 L -0.843557500421635, 0.537038865895573 L -0.837933508469853, 0.5457723292577251 L -0.8322191012570919, 0.5544469023295543 L -0.9154410113828011 ,0.6098915925625098\", \"type\": \"path\"}, {\"fillcolor\": \"rgba(254,224,139, 0.75)\", \"layer\": \"below\", \"line\": {\"color\": \"rgba(254,224,139, 0.75)\", \"width\": 0.45}, \"path\": \"M -1.0773902417381882, 0.22187894674197595 L -1.0870566849693946, 0.16824911192440425 L -1.0940552581355734, 0.11420635772978717 L -1.0983687852383557, 0.05988331665847267 L -1.0999866799578273, 0.0054133090948701055 L -1.0989049716336259, -0.04906998388934216 L -1.0951263150097927, -0.10343284861721797 L -1.0886599837194626, -0.15754186696855993 L -1.0795218475253798, -0.21126424381657877 L -1.0677343333720994, -0.2644681329355932 L -1.05332637034546, -0.3170229605799224 L -1.0363333186744064, -0.36879974593984133 L -1.016796882949411, -0.41967141768812655 L -0.9947650097704704, -0.4695131258403282 L -0.9702917700758749, -0.5182025481633854 L -0.9434372264405368, -0.5656201903806013 L -0.9142672856695613, -0.6116496794362056 L -0.882853537048823, -0.656178049099772 L -0.8492730766495149, -0.6990960172095587 L -0.8136083181178689, -0.7402982538743509 L -0.7759467904144064, -0.7796836399755874 L -0.7363809229991105, -0.817155515335348 L -0.6950078189897254, -0.8526219159411428 L -0.6519290168498922, -0.8859957996453105 L -0.607250241192003, -0.9171952597850985 L -0.5610811433063436, -0.9461437261991681 L -0.5135350320533266, -0.9727701531471805 L -0.4647285957792667, -0.9970091936712676 L -0.414781615938174, -1.0188013599714703 L -0.3638166731223948, -1.038093169401549 L -0.31195884622356573, -1.0548372757268591 L -0.2593354054622142, -1.068992585322157 L -0.2060755000393598, -1.0805243580241621 L -0.15230984117669644, -1.0894042923913645 L -0.09817038132324402, -1.0956105951618254 L -0.043789990315762604, -1.0991280347385128 L 0.01069787071230333, -1.0999479785709063 L 0.06515947687305053, -1.0980684143411241 L 0.11946116771364368, -1.0934939549025833 L 0.1734696752477136, -1.0862358269590693 L 0.22705245102355745, -1.0763118435119978 L 0.28007799142644296, -1.0637463601434927 L 0.33241616041665856, -1.0485702152425684 L 0.38393850891124565, -1.030820654321114 L 0.43451859002557786, -1.0105412386054238 L 0.48403226940110855, -0.9877817381276153 L 0.5323580298576917, -0.9625980095793037 L 0.5793772696227856, -0.9350518592273085 L 0.6249745934056178, -0.9052108912278304 L 0.6690380956019536, -0.8731483417113678 L 0.7114596349344396, -0.8389428990455513 L 0.7521350998544678, -0.8026785107170303 L 0.6837591816858798, -0.7297077370154821 L 0.646781486304036, -0.762675362768683 L 0.6082164505472305, -0.793771219737607 L 0.5681587212778343, -0.8229189920253003 L 0.5267066087479868, -0.8500471447520985 L 0.4839618453251742, -0.8750890996175488 L 0.44002933581918957, -0.897983398297832 L 0.39501690002325257, -0.9186738532776579 L 0.34903500810113236, -0.9371096857464671 L 0.30219650946968957, -0.9532456502205168 L 0.25461635584222087, -0.9670421455849934 L 0.20641131911232494, -0.9784653122836343 L 0.1576997047706487, -0.9874871154173356 L 0.10860106155785788, -0.9940854135478029 L 0.059235888066409566, -0.9982440130373854 L 0.009725337011184845, -0.999952707791733 L -0.03980908210523873, -0.999207304307739 L -0.0892458012029491, -0.9960096319652957 L -0.13846349197881494, -0.9903675385376041 L -0.18734136367214524, -0.9822948709310565 L -0.23575945951110377, -0.9718114412019608 L -0.28359895111233246, -0.9589429779335082 L -0.33074243011126797, -0.9437210630923171 L -0.37707419630743083, -0.9261830545195183 L -0.42248054161751514, -0.9063719942466069 L -0.46685002913938783, -0.8843365028610731 L -0.5100737666421306, -0.8601306601810619 L -0.5520456738109117, -0.8338138725319076 L -0.5926627425908111, -0.8054507269502822 L -0.6318252899906595, -0.7751108326737661 L -0.669437202726464, -0.7428686503048618 L -0.7054061731040058, -0.7088033090687158 L -0.739643925561699, -0.6729984126130462 L -0.7720664333177407, -0.6355418338268715 L -0.802594124589839, -0.5965254991816108 L -0.8311520778814193, -0.5560451631238232 L -0.8576702058550334, -0.5142001730732738 L -0.8820834273417043, -0.47109322560307765 L -0.904331827064064, -0.42683011440029833 L -0.9243608026812826, -0.38151947062556957 L -0.9421211987949148, -0.3352724963089466 L -0.9575694275867818, -0.28820269143629307 L -0.9706675757928176, -0.24042557539599377 L -0.9813834977503452, -0.19205840346961706 L -0.9896908942904206, -0.1432198790623272 L -0.9955693772816298, -0.09402986237928905 L -0.9990045196669325, -0.044609076263038325 L -0.999987890870752, 0.00492119008624555 L -0.9985170774894142, 0.0544393787804297 L -0.9945956892141575, 0.10382396157253378 L -0.9882333499721768, 0.15295373811309476 L -0.9794456743074438, 0.2017081334017963 L -1.0773902417381882 ,0.22187894674197595\", \"type\": \"path\"}, {\"fillcolor\": \"rgba(217,239,139, 0.75)\", \"layer\": \"below\", \"line\": {\"color\": \"rgba(217,239,139, 0.75)\", \"width\": 0.45}, \"path\": \"M 0.7769767079031984, -0.7786573029105345 L 0.7849966340560197, -0.7705714013125063 L 0.7929324156929316, -0.7624029014526192 L 0.8007832021701524, -0.7541526789199365 L 0.8085481519546136, -0.7458216180634478 L 0.8162264327141576, -0.7374106118972799 L 0.8238172214067635, -0.728920562004969 L 0.8313197043687626, -0.720352378442824 L 0.8387330774020622, -0.7117069796423713 L 0.8460565458603426, -0.7029852923119132 L 0.8532893247342416, -0.6941882513371875 L 0.8604306387354945, -0.6853167996811613 L 0.8674797223800439, -0.676371888282949 L 0.8744358200700869, -0.6673544759558856 L 0.881298186175074, -0.6582655292847445 L 0.8880660851116282, -0.649106022522135 L 0.8947387914223984, -0.6398769374840649 L 0.9013155898538169, -0.6305792634447048 L 0.8193778089580153, -0.5732538758588225 L 0.8133989012930894, -0.5817063068036954 L 0.8073328046469347, -0.5900963841110318 L 0.8011801692500673, -0.5984232084406768 L 0.7949416546091699, -0.6066858872326232 L 0.7886179294364035, -0.6148835348026809 L 0.7822096715777223, -0.6230152724374194 L 0.7757175679402195, -0.6310802284883522 L 0.7691423144184932, -0.6390775384653756 L 0.7624846158200564, -0.6470063451294283 L 0.7557451857897841, -0.6548657985843853 L 0.7489247467334214, -0.6626550563681536 L 0.7420240297401433, -0.6703732835429816 L 0.7350437745041941, -0.6780196527849525 L 0.7279847292455931, -0.6855933444726695 L 0.7208476506299377, -0.6930935467751084 L 0.7136333036872906, -0.700519455738642 L 0.7063424617301803, -0.7078702753732131 L 0.7769767079031984 ,-0.7786573029105345\", \"type\": \"path\"}, {\"fillcolor\": \"rgba(166,217,106, 0.75)\", \"layer\": \"below\", \"line\": {\"color\": \"rgba(166,217,106, 0.75)\", \"width\": 0.45}, \"path\": \"M 0.920677818342524, -0.6019571037973143 L 0.9269245641214787, -0.5922928772391297 L 0.9330698697981408, -0.5825638317599889 L 0.9391130628469773, -0.5727710320801579 L 0.9450534819173837, -0.5629155498969892 L 0.9508904769060593, -0.5529984637676375 L 0.9566234090281546, -0.5430208589910264 L 0.9622516508871761, -0.5329838274890751 L 0.9677745865436485, -0.5228884676872022 L 0.9731916115825203, -0.5127358843941167 L 0.9785021331793103, -0.5025271886809105 L 0.9837055701649838, -0.4922634977594666 L 0.9888013530895547, -0.4819459348601935 L 0.9937889242844047, -0.4715756291091027 L 0.9986677379233124, -0.4611537154042396 L 1.0034372600821877, -0.45068133429148394 L 1.0080969687975025, -0.44015963183973095 L 1.0126463541234136, -0.42958975951546846 L 1.0170849181875685, -0.4189728740567665 L 1.021412175245593, -0.408310137346682 L 1.025627651734248, -0.39760271628610905 L 1.0297308863232566, -0.3868517826660755 L 1.0337214299657895, -0.3760585130395051 L 1.0375988459476078, -0.3652240885924593 L 1.0413627099348566, -0.35434969501487085 L 1.0450126100205017, -0.3434365223707855 L 1.0485481467694087, -0.33248576496812454 L 1.051968933262055, -0.321498621227983 L 1.055274595136875, -0.31047629355347756 L 1.0584647706312262, -0.2994199881981591 L 1.0615391106209835, -0.28833091513400333 L 1.0644972786587423, -0.2772102879189949 L 1.067338951010642, -0.2660593235643189 L 1.0700638166917913, -0.2548792424011744 L 1.0726715775003046, -0.2436712679472248 L 1.0751619480499341, -0.23243662677269933 L 0.9774199527726672, -0.21130602433881757 L 0.9751559795457314, -0.22151933449747707 L 0.9727852879016284, -0.2317084021828858 L 0.9703081372824016, -0.24187211233119899 L 0.9677247987806747, -0.25200935265363167 L 0.9650355551099848, -0.2621190137581848 L 0.962240700573842, -0.2721999892710537 L 0.9593405410335225, -0.2822511759577068 L 0.9563353938745954, -0.2922714738436209 L 0.9532255879721896, -0.30225978633465866 L 0.9500114636550014, -0.3122150203370777 L 0.9466933726680513, -0.3221360863771553 L 0.9432716781341889, -0.33202189872041754 L 0.939746754514354, -0.34187137549045915 L 0.9361189875665968, -0.3516834387873413 L 0.9323887743038618, -0.36145701480555364 L 0.928556522950539, -0.371191033951529 L 0.9246226528977896, -0.38088443096069674 L 0.9205875946576487, -0.3905361450140622 L 0.9164517898159112, -0.40014511985430085 L 0.9122156909838068, -0.409710303901349 L 0.9078797617484657, -0.4192306503674905 L 0.903444476622186, -0.4287051173719115 L 0.8989103209905043, -0.43813266805472134 L 0.8942777910590761, -0.44751227069042415 L 0.889547393799373, -0.45684289880082773 L 0.8847196468932003, -0.4661235312673787 L 0.879795078676044, -0.47535315244291104 L 0.874774228079251, -0.4845307522627955 L 0.8696576445710495, -0.4936553263554785 L 0.8644458880964175, -0.5027258761523977 L 0.8591395290158033, -0.5117414089972628 L 0.8537391480427066, -0.520700938254689 L 0.8482453361801279, -0.5296034834181718 L 0.8426586946558897, -0.5384480702173906 L 0.83697983485684, -0.5472337307248311 L 0.920677818342524 ,-0.6019571037973143\", \"type\": \"path\"}, {\"fillcolor\": \"rgba(102,189,99, 0.75)\", \"layer\": \"below\", \"line\": {\"color\": \"rgba(102,189,99, 0.75)\", \"width\": 0.45}, \"path\": \"M 1.081932431415999, -0.19855028040842665 L 1.083643085934891, -0.18899116991411774 L 1.0852692853127928, -0.17941733014583652 L 1.0868109028097297, -0.1698295072533051 L 1.088267818277726, -0.16022844847603865 L 1.0896399181701695, -0.15061490208510836 L 1.0909270955506605, -0.1409896173248239 L 1.0921292501013469, -0.13135334435434015 L 1.0932462881307417, -0.12170683418919247 L 1.0942781225810252, -0.11205083864276537 L 1.0952246730348303, -0.10238611026769899 L 1.0960858657215093, -0.09271340229723786 L 1.0968616335228845, -0.08303346858652676 L 1.0975519159784772, -0.07334706355385788 L 1.098156659290222, -0.06365494212187449 L 1.0986758163266581, -0.05395785965873483 L 1.0991093466266026, -0.04425657191924159 L 1.0994572164023049, -0.03455183498594119 L 0.9995065603657316, -0.031410759078128354 L 0.9991903151150932, -0.04023324719931053 L 0.9987961966605982, -0.04905259968975893 L 0.9983242357183837, -0.05786812920170408 L 0.9977744690713429, -0.06667914868532535 L 0.9971469395662585, -0.07548497144229704 L 0.996441696110463, -0.08428491117930714 L 0.9956587936680275, -0.09307828206154453 L 0.9947982932554773, -0.10186439876615033 L 0.9938602619370378, -0.1106425765356295 L 0.9928447728194062, -0.11941213123121831 L 0.9917519050460549, -0.12817237938620354 L 0.990581743791063, -0.1369226382591894 L 0.9893343802524781, -0.14566222588730784 L 0.9880099116452088, -0.15439046113936825 L 0.9866084411934479, -0.16310666376894228 L 0.985130078122628, -0.17181015446737974 L 0.9835749376509081, -0.18050025491675148 L 1.081932431415999 ,-0.19855028040842665\", \"type\": \"path\"}], \"showlegend\": false, \"title\": \"Pairwise interactions between common egg mutation genotypes\", \"width\": 800, \"xaxis\": {\"visible\": false}, \"yaxis\": {\"visible\": false}}, {\"showLink\": true, \"linkText\": \"Export to plot.ly\", \"plotlyServerURL\": \"https://plot.ly\"})});</script>"
      ],
      "text/vnd.plotly.v1+html": [
       "<div id=\"ebc41734-b040-4b85-857d-960a0fb33f52\" style=\"height: 800px; width: 800px;\" class=\"plotly-graph-div\"></div><script type=\"text/javascript\">require([\"plotly\"], function(Plotly) { window.PLOTLYENV=window.PLOTLYENV || {};window.PLOTLYENV.BASE_URL=\"https://plot.ly\";Plotly.newPlot(\"ebc41734-b040-4b85-857d-960a0fb33f52\", [{\"line\": {\"color\": \"rgba(26,152,80, 0.75)\", \"shape\": \"spline\", \"width\": 0.25}, \"mode\": \"lines\", \"x\": [1.1, 1.0999430029642472, 1.099772017763647, 1.0994870621175623, 1.0990881655562244, 1.098575369417672, 1.0979487268434693, 1.097208302773196, 1.0963541739377203, 1.0953864288512447, 1.0943051678021358, 1.0931105028425292, 1.0918025577767183, 1.0903814681483244, 1.08884738122625, 1.087200455989417, 1.085440863110292, 1.0835687849371995, 1.0815844154754237, 1.079487960367105, 1.0772796368699284, 1.0749596738346092, 1.0725283116811763, 1.0699858023740583, 1.0673324093959713, 1.0645684077206143, 1.0616940837841733, 1.0587097354556374, 1.0556156720059315, 1.0524122140758645, 1.0490996936429022, 1.0456784539867636, 1.0421488496538471, 1.038511246420488, 1.0347660212550525, 1.0309135622788725, 1.0269542687260251, 1.0228885509019572, 1.0187168301409677, 1.0144395387625427, 1.010057120026554, 1.005570028087324, 1.0009787279465618, 0.996283695405173, 0.9914854170139533, 0.9865843900231663, 0.9815811223310131, 0.9764761324309985, 0.9712699493581985, 0.9659631126344362, 0.9605561722123708, 0.9550496884185049, 0.949444231895118, 0.9437403835411299, 0.9379387344519016, 0.9320398858579797, 0.9260444490627897, 0.9199530453792872, 0.9137663060655693, 0.9074848722594577, 0.9011093949120562, 0.894640534720293, 0.8880789620584509, 0.8814253569086963, 0.8746804087906124, 0.8678448166897426, 0.860919288985155, 0.8539045433760317, 0.8468013068072936, 0.8396103153942648, 0.8323323143463908, 0.8249680578900093, 0.8175183091901905, 0.8099838402716488, 0.802365431938738, 0.7946638736945341, 0.7868799636590204, 0.7790145084863759, 0.7710683232813819, 0.7630422315149517, 0.7549370649387931, 0.7467536634992137, 0.7384928752500759, 0.730155556264913, 0.7217425705482127, 0.7132547899458799, 0.7046930940548862, 0.696058370132117, 0.687351513002423, 0.6785734249658903, 0.6697250157043326, 0.6608072021870209, 0.651820908575657], \"y\": [0.0, 0.011197777904307515, 0.022394395371983095, 0.03358869208665198, 0.04477950797244132, 0.055965683314199925, 0.06714605887768073, 0.07831947602967332, 0.08948477685807427, 0.10064080429188263, 0.11178640222110842, 0.12292041561658133, 0.1340416906496476, 0.14514907481174236, 0.15624141703382521, 0.16731756780566673, 0.17837637929497313, 0.18941670546633743, 0.20043740220000425, 0.21143732741043575, 0.22241534116466746, 0.2333703058004403, 0.24430108604409795, 0.25520654912823615, 0.26608556490909246, 0.2769370059836644, 0.28775974780654295, 0.2985526688064506, 0.30931465050247087, 0.3200445776199574, 0.330741338206111, 0.34140382374521244, 0.35203092927349905, 0.3626215534936731, 0.37317459888903026, 0.38368897183719675, 0.39416358272346175, 0.4045973460536959, 0.41498918056684186, 0.42533800934696636, 0.4356427599348621, 0.44590236443918785, 0.4561157596471351, 0.46628188713460944, 0.47639969337591664, 0.48646812985294025, 0.4964861531638005, 0.5064527251309832, 0.5163668129089268, 0.5262273890910579, 0.5360334318162614, 0.5457839248747777, 0.5554778578135132, 0.5651142260407547, 0.5746920309302762, 0.5842102799248269, 0.593667986638992, 0.6030641709614122, 0.6123978591563531, 0.6216680839646154, 0.6308738847037718, 0.6400143073677247, 0.6490884047255695, 0.6580952364197582, 0.6670338690635488, 0.6759033763377331, 0.6847028390866328, 0.6934313454133515, 0.7020879907742762, 0.710671878072816, 0.7191821177523682, 0.7276178278885053, 0.7359781342803687, 0.7442621705412631, 0.7524690781884413, 0.7605980067320698, 0.7686481137633651, 0.776618565041894, 0.7845085345820264, 0.7923172047385334, 0.8000437662913203, 0.8076874185292867, 0.815247369333306, 0.822722835258312, 0.8301130416144891, 0.8374172225475536, 0.8446346211181208, 0.8517644893801462, 0.8588060884584365, 0.8657586886252205, 0.87262156937577, 0.8793940195030677, 0.88607533717151], \"type\": \"scatter\", \"uid\": \"2dcafd27-0073-4a8f-8b4c-254c5bbe59ff\"}, {\"line\": {\"color\": \"rgba(215,48,39, 0.75)\", \"shape\": \"spline\", \"width\": 0.25}, \"mode\": \"lines\", \"x\": [0.6236669753639553, 0.6144106194702478, 0.6050905916055498, 0.5957078576134271, 0.5862633898357434, 0.576758167011894, 0.5671931741773794, 0.5575694025617243, 0.5478878494857551, 0.5381495182582486, 0.5283554180719555, 0.5185065638990187, 0.5086039763857897, 0.49864868174705895, 0.488641711659707, 0.47858410315579153, 0.46847689851507934, 0.45832114515703226, 0.448117895532264, 0.43786820701347184, 0.42757314178586087, 0.4172337667370695, 0.4068511533466053, 0.39642637757480775, 0.3859605197513446, 0.3754546644632572, 0.3649099004425625, 0.3543273204534274, 0.3437080211789251, 0.33305310310738323, 0.32236367041834074, 0.3116408308681194, 0.3008856956750273, 0.2900993794042009, 0.2792829998521018, 0.26843767793067985, 0.25756453755120956, 0.24666470550782055, 0.23573931136072435, 0.22478948731915932, 0.21381636812405688, 0.20282109093044778, 0.19180479518961857, 0.18076862253102732, 0.1697137166439974, 0.158641223159194, 0.147552289529903, 0.13644806491311795, 0.12532970005045216, 0.1141983471488872, 0.10305515976136705, 0.09190129266725497, 0.08073790175266307, 0.06956614389066633, 0.058387176821414075, 0.04720215903215286, 0.03601224963717194, 0.024818608257681736, 0.013622394901641827, 0.0024247698435487432, -0.008773106495804943, -0.01997007366958662, -0.031164971325181392, -0.04235663932443981, -0.0535439178639056, -0.06472564759500649, -0.0759006697441981, -0.08706782623304932, -0.09822595979825559, -0.10937391411156666, -0.12051053389961744, -0.13163466506365135, -0.14274515479912012, -0.15384085171514958, -0.16492060595385954, -0.17598326930952646, -0.18702769534757022, -0.19805273952336191, -0.2090572593008344, -0.22004011427088394, -0.23100016626955133, -0.2419362794959714, -0.2528473206300786, -0.2637321589500513, -0.2745896664494913, -0.28541871795432044, -0.2962181912393829, -0.306986967144742, -0.3177239296916612, -0.32842796619825293, -0.33909796739478715, -0.349732827538646, -0.3603314445289137], \"y\": [0.9061123020025585, 0.9124141552399253, 0.9186214541096055, 0.9247335553431707, 0.9307498255376163, 0.9366696412210018, 0.9424923889170612, 0.9482174652087791, 0.9538442768009224, 0.9593722405815248, 0.964800783682315, 0.9701293435380836, 0.9753573679449821, 0.9804843151177486, 0.9855096537458534, 0.9904328630485596, 0.9952534328288912, 0.9999708635265063, 1.0045846662694664, 1.009094362924899, 1.0134994861485467, 1.017799579433199, 1.021994197156, 1.0260829046246294, 1.030065278122349, 1.0339409049519142, 1.0377093834783413, 1.0413703231705302, 1.0449233446417339, 1.0483680796888768, 1.05170417133071, 1.0549312738448076, 1.0580490528033921, 1.061057185107993, 1.0639553590229296, 1.066743274207616, 1.0694206417476857, 1.0719871841849324, 1.0744426355460637, 1.076786741370263, 1.0790192587355603, 1.0811399562840065, 1.0831486142456486, 1.0850450244613055, 1.0868289904041395, 1.088500327200022, 1.0900588616466929, 1.0915044322317091, 1.092836889149183, 1.0940560943153064, 1.09516192138266, 1.0961542557533077, 1.097032994590672, 1.0977980468301916, 1.098449333188757, 1.0989867861729292, 1.0994103500859314, 1.0997199810334228, 1.0999156469280469, 1.0999973274927561, 1.0999650142629143, 1.0998187105871728, 1.099558431627124, 1.09918420435573, 1.0986960675545279, 1.0980940718096093, 1.0973782795063798, 1.0965487648230934, 1.0956056137231645, 1.09454892394626, 1.0933788049981714, 1.092095378139465, 1.0906987763729157, 1.0891891444297255, 1.0875666387545233, 1.0858314274891525, 1.0839836904552471, 1.0820236191355952, 1.0799514166542974, 1.0777672977557153, 1.0754714887822177, 1.0730642276507252, 1.0705457638280536, 1.0679163583050617, 1.065176283569606, 1.0623258235782995, 1.0593652737270882, 1.056294940820637, 1.0531151430405359, 1.0498262099123261, 1.0464284822713514, 1.0429223122274371, 1.0393080631284002], \"type\": \"scatter\", \"uid\": \"e584a736-58f0-4cb4-b7e8-9000c750e870\"}, {\"line\": {\"color\": \"rgba(244,109,67, 0.75)\", \"shape\": \"spline\", \"width\": 0.25}, \"mode\": \"lines\", \"x\": [-0.3927990978915923, -0.4033508798501255, -0.41385995352809773, -0.4243252061859828, -0.4347455297241852, -0.4451198208003712, -0.4554469809462936, -0.46572591668410246, -0.4759555396421266, -0.48613476667011274, -0.49626251995391607, -0.5063377271296214, -0.5163593213970901, -0.5263262416329146, -0.5362374325027772, -0.5460918445731916, -0.5558884344226184, -0.5656261647519502, -0.5753040044943426, -0.5849209289243879, -0.5944759197666155, -0.6039679653033128, -0.6133960604816487, -0.6227592070200914, -0.6320564135141111, -0.641286695541154, -0.6504490757648759, -0.6595425840386252, -0.6685662575081678, -0.6775191407136361, -0.6864002856906977, -0.6952087520709272, -0.7039436071813788, -0.7126039261433395, -0.7211887919702588, -0.7296972956648422, -0.7381285363153005, -0.7464816211907412, -0.7547556658356925, -0.7629497941637552, -0.7710631385503646, -0.7790948399246581, -0.787044047860436, -0.7949099206662096, -0.8026916254743206, -0.8103883383291296, -0.8179992442742584, -0.8255235374388823, -0.832960421123057, -0.8403091078820764, -0.8475688196098509, -0.8547387876212964, -0.8618182527337234, -0.8688064653472247, -0.8757026855240443, -0.8825061830669252, -0.8892162375964253, -0.8958321386271931], \"y\": [1.0274769431454662, 1.0233807051748287, 1.0191761078762203, 1.0148635964479282, 1.0104436275145872, 1.0059166690788286, 1.001283200471728, 0.9965437123020509, 0.9916987064043051, 0.9867486957856064, 0.9816942045713569, 0.9765357679497506, 0.9712739321151046, 0.9659092542100272, 0.9604423022664244, 0.9548736551453545, 0.9492039024757382, 0.9434336445919236, 0.9375634924701226, 0.9315940676637177, 0.9255260022374503, 0.9193599387004943, 0.9130965299384253, 0.9067364391440917, 0.9002803397473919, 0.893728915343969, 0.8870828596228307, 0.8803428762928983, 0.8735096790084941, 0.8665839912937789, 0.8595665464661413, 0.8524580875585522, 0.8452593672408895, 0.837971147740242, 0.8305942007602022, 0.823129307399157, 0.8155772580675801, 0.8079388524043406, 0.8002148991920361, 0.792406216271354, 0.7845136304544755, 0.7765379774375311, 0.7684801017121132, 0.7603408564758576, 0.7521211035421045, 0.743821713248647, 0.7354435643655753, 0.7269875440022302, 0.7184545475132715, 0.7098454784038772, 0.7011612482340736, 0.692402776522218, 0.6835709906476374, 0.6746668257524316, 0.6656912246424591, 0.6566451376875084, 0.6475295227206693, 0.6383453449369155], \"type\": \"scatter\", \"uid\": \"873186d1-4ddd-498f-8714-2e9ae39d91d4\"}, {\"line\": {\"color\": \"rgba(253,174,97, 0.75)\", \"shape\": \"spline\", \"width\": 0.25}, \"mode\": \"lines\", \"x\": [-0.9154410113828011, -0.9217268593168384, -0.9279132504637986, -0.9339995172955728, -0.9399850030877336, -0.9458690619903956, -0.951651059097906, -0.957330370517352, -0.9629063834358803, -0.9683784961868214, -0.973746118314611, -0.979008670638502, -0.9841655853150596, -0.9892163058994325, -0.9941602874053955, -0.9989969963641547, -1.0037259108819103, -1.0083465206961701, -1.0128583272308085, -1.0172608436498638, -1.0215535949100694, -1.0257361178121123, -1.0298079610506137, -1.033768685262825, -1.0376178630760375, -1.0413550791536965, -1.044979930240217, -1.048492025204497, -1.0518909850821196, -1.055176443116247, -1.0583480447971922, -1.0614054479006727, -1.0643483225247372, -1.0671763511253631, -1.0698892285507196], \"y\": [0.6098915925625098, 0.6003495621834977, 0.5907427524851304, 0.581072200067803, 0.5713389484099205, 0.5615440477553025, 0.5516885549998605, 0.5417735335775546, 0.5318000533456477, 0.5217691904692636, 0.5116820273052669, 0.501539652285473, 0.4913431597992041, 0.4810936500752016, 0.4707922290629078, 0.460440008313132, 0.4500381048581103, 0.4395876410909755, 0.42908974464464744, 0.4185455482701588, 0.40795618971442776, 0.3973228115974925, 0.38664656128921937, 0.3759285907854983, 0.3651700565839398, 0.3543721195590855, 0.3435359448371469, 0.3326627016702849, 0.3217535633104444, 0.3108097068827577, 0.29983231325852905, 0.28882256692781555, 0.2777816558716179, 0.2667107714336936, 0.25561110819200816], \"type\": \"scatter\", \"uid\": \"e6d0df2a-cb0c-4520-98bb-07fba568e571\"}, {\"line\": {\"color\": \"rgba(254,224,139, 0.75)\", \"shape\": \"spline\", \"width\": 0.25}, \"mode\": \"lines\", \"x\": [-1.0773902417381882, -1.0870566849693946, -1.0940552581355734, -1.0983687852383557, -1.0999866799578273, -1.0989049716336259, -1.0951263150097927, -1.0886599837194626, -1.0795218475253798, -1.0677343333720994, -1.05332637034546, -1.0363333186744064, -1.016796882949411, -0.9947650097704704, -0.9702917700758749, -0.9434372264405368, -0.9142672856695613, -0.882853537048823, -0.8492730766495149, -0.8136083181178689, -0.7759467904144064, -0.7363809229991105, -0.6950078189897254, -0.6519290168498922, -0.607250241192003, -0.5610811433063436, -0.5135350320533266, -0.4647285957792667, -0.414781615938174, -0.3638166731223948, -0.31195884622356573, -0.2593354054622142, -0.2060755000393598, -0.15230984117669644, -0.09817038132324402, -0.043789990315762604, 0.01069787071230333, 0.06515947687305053, 0.11946116771364368, 0.1734696752477136, 0.22705245102355745, 0.28007799142644296, 0.33241616041665856, 0.38393850891124565, 0.43451859002557786, 0.48403226940110855, 0.5323580298576917, 0.5793772696227856, 0.6249745934056178, 0.6690380956019536, 0.7114596349344396, 0.7521350998544678], \"y\": [0.22187894674197595, 0.16824911192440425, 0.11420635772978717, 0.05988331665847267, 0.0054133090948701055, -0.04906998388934216, -0.10343284861721797, -0.15754186696855993, -0.21126424381657877, -0.2644681329355932, -0.3170229605799224, -0.36879974593984133, -0.41967141768812655, -0.4695131258403282, -0.5182025481633854, -0.5656201903806013, -0.6116496794362056, -0.656178049099772, -0.6990960172095587, -0.7402982538743509, -0.7796836399755874, -0.817155515335348, -0.8526219159411428, -0.8859957996453105, -0.9171952597850985, -0.9461437261991681, -0.9727701531471805, -0.9970091936712676, -1.0188013599714703, -1.038093169401549, -1.0548372757268591, -1.068992585322157, -1.0805243580241621, -1.0894042923913645, -1.0956105951618254, -1.0991280347385128, -1.0999479785709063, -1.0980684143411241, -1.0934939549025833, -1.0862358269590693, -1.0763118435119978, -1.0637463601434927, -1.0485702152425684, -1.030820654321114, -1.0105412386054238, -0.9877817381276153, -0.9625980095793037, -0.9350518592273085, -0.9052108912278304, -0.8731483417113678, -0.8389428990455513, -0.8026785107170303], \"type\": \"scatter\", \"uid\": \"5e6752a2-35b6-464d-915f-8e77306e59b4\"}, {\"line\": {\"color\": \"rgba(217,239,139, 0.75)\", \"shape\": \"spline\", \"width\": 0.25}, \"mode\": \"lines\", \"x\": [0.7769767079031984, 0.7849966340560197, 0.7929324156929316, 0.8007832021701524, 0.8085481519546136, 0.8162264327141576, 0.8238172214067635, 0.8313197043687626, 0.8387330774020622, 0.8460565458603426, 0.8532893247342416, 0.8604306387354945, 0.8674797223800439, 0.8744358200700869, 0.881298186175074, 0.8880660851116282, 0.8947387914223984, 0.9013155898538169], \"y\": [-0.7786573029105345, -0.7705714013125063, -0.7624029014526192, -0.7541526789199365, -0.7458216180634478, -0.7374106118972799, -0.728920562004969, -0.720352378442824, -0.7117069796423713, -0.7029852923119132, -0.6941882513371875, -0.6853167996811613, -0.676371888282949, -0.6673544759558856, -0.6582655292847445, -0.649106022522135, -0.6398769374840649, -0.6305792634447048], \"type\": \"scatter\", \"uid\": \"f724dcdc-84ab-426f-828e-dd1e048deb82\"}, {\"line\": {\"color\": \"rgba(166,217,106, 0.75)\", \"shape\": \"spline\", \"width\": 0.25}, \"mode\": \"lines\", \"x\": [0.920677818342524, 0.9269245641214787, 0.9330698697981408, 0.9391130628469773, 0.9450534819173837, 0.9508904769060593, 0.9566234090281546, 0.9622516508871761, 0.9677745865436485, 0.9731916115825203, 0.9785021331793103, 0.9837055701649838, 0.9888013530895547, 0.9937889242844047, 0.9986677379233124, 1.0034372600821877, 1.0080969687975025, 1.0126463541234136, 1.0170849181875685, 1.021412175245593, 1.025627651734248, 1.0297308863232566, 1.0337214299657895, 1.0375988459476078, 1.0413627099348566, 1.0450126100205017, 1.0485481467694087, 1.051968933262055, 1.055274595136875, 1.0584647706312262, 1.0615391106209835, 1.0644972786587423, 1.067338951010642, 1.0700638166917913, 1.0726715775003046, 1.0751619480499341], \"y\": [-0.6019571037973143, -0.5922928772391297, -0.5825638317599889, -0.5727710320801579, -0.5629155498969892, -0.5529984637676375, -0.5430208589910264, -0.5329838274890751, -0.5228884676872022, -0.5127358843941167, -0.5025271886809105, -0.4922634977594666, -0.4819459348601935, -0.4715756291091027, -0.4611537154042396, -0.45068133429148394, -0.44015963183973095, -0.42958975951546846, -0.4189728740567665, -0.408310137346682, -0.39760271628610905, -0.3868517826660755, -0.3760585130395051, -0.3652240885924593, -0.35434969501487085, -0.3434365223707855, -0.33248576496812454, -0.321498621227983, -0.31047629355347756, -0.2994199881981591, -0.28833091513400333, -0.2772102879189949, -0.2660593235643189, -0.2548792424011744, -0.2436712679472248, -0.23243662677269933], \"type\": \"scatter\", \"uid\": \"9d00dd77-f15d-4f3c-aa57-8a07be7e86fa\"}, {\"line\": {\"color\": \"rgba(102,189,99, 0.75)\", \"shape\": \"spline\", \"width\": 0.25}, \"mode\": \"lines\", \"x\": [1.081932431415999, 1.083643085934891, 1.0852692853127928, 1.0868109028097297, 1.088267818277726, 1.0896399181701695, 1.0909270955506605, 1.0921292501013469, 1.0932462881307417, 1.0942781225810252, 1.0952246730348303, 1.0960858657215093, 1.0968616335228845, 1.0975519159784772, 1.098156659290222, 1.0986758163266581, 1.0991093466266026, 1.0994572164023049], \"y\": [-0.19855028040842665, -0.18899116991411774, -0.17941733014583652, -0.1698295072533051, -0.16022844847603865, -0.15061490208510836, -0.1409896173248239, -0.13135334435434015, -0.12170683418919247, -0.11205083864276537, -0.10238611026769899, -0.09271340229723786, -0.08303346858652676, -0.07334706355385788, -0.06365494212187449, -0.05395785965873483, -0.04425657191924159, -0.03455183498594119], \"type\": \"scatter\", \"uid\": \"5e1db6a7-e3cb-4b64-801f-584d42bd70d1\"}, {\"marker\": {\"color\": \"rgba(26,152,80, 0.75)\", \"size\": 0.5}, \"mode\": \"markers\", \"x\": [0.6491605264571807], \"y\": [0.6233703641414438], \"type\": \"scatter\", \"uid\": \"6a1ef721-35d2-4140-a848-24dac049ef86\"}, {\"marker\": {\"color\": \"rgba(26,152,80, 0.75)\", \"size\": 0.5}, \"mode\": \"markers\", \"text\": \"186 V\", \"x\": [0.8995575416436682], \"y\": [0.028217534832088376], \"type\": \"scatter\", \"uid\": \"b01dd23c-045d-4e1b-a6a4-c80b3ee1df17\"}, {\"marker\": {\"color\": \"rgba(26,152,80, 0.75)\", \"size\": 0.5}, \"mode\": \"markers\", \"text\": \"138 S\", \"x\": [-0.4302608734244004], \"y\": [0.79049072151422], \"type\": \"scatter\", \"uid\": \"070addb1-aee5-4051-a400-07bf351b323c\"}, {\"marker\": {\"color\": \"rgba(26,152,80, 0.75)\", \"size\": 0.5}, \"mode\": \"markers\", \"text\": \"186 V\", \"x\": [0.8950878680259527], \"y\": [0.09390265444999275], \"type\": \"scatter\", \"uid\": \"214840f5-9405-455e-9617-aef4d029029f\"}, {\"marker\": {\"color\": \"rgba(26,152,80, 0.75)\", \"size\": 0.5}, \"mode\": \"markers\", \"text\": \"156 R/Q\", \"x\": [-0.7913610367126818], \"y\": [0.42865803337045916], \"type\": \"scatter\", \"uid\": \"fdc75225-13bd-4893-84e5-42b27a03745f\"}, {\"marker\": {\"color\": \"rgba(26,152,80, 0.75)\", \"size\": 0.5}, \"mode\": \"markers\", \"text\": \"186 V\", \"x\": [0.8193891462059499], \"y\": [0.37229212599769607], \"type\": \"scatter\", \"uid\": \"815640b1-ceab-4bc8-8aad-b1fb2d479316\"}, {\"marker\": {\"color\": \"rgba(26,152,80, 0.75)\", \"size\": 0.5}, \"mode\": \"markers\", \"text\": \"160 K\", \"x\": [-0.7701548404319782], \"y\": [-0.46568392903255124], \"type\": \"scatter\", \"uid\": \"f4a76982-287d-4382-87e5-712efa30db8d\"}, {\"marker\": {\"color\": \"rgba(26,152,80, 0.75)\", \"size\": 0.5}, \"mode\": \"markers\", \"text\": \"186 V\", \"x\": [0.8811783343295865], \"y\": [0.18309763272127655], \"type\": \"scatter\", \"uid\": \"75f08f25-5d6f-484b-8126-9b52fc4642c4\"}, {\"marker\": {\"color\": \"rgba(26,152,80, 0.75)\", \"size\": 0.5}, \"mode\": \"markers\", \"text\": \"219 F/Y\", \"x\": [0.7917669187319276], \"y\": [-0.4279078713949408], \"type\": \"scatter\", \"uid\": \"2859f42f-cfa2-4456-ac42-3d7796f596df\"}, {\"marker\": {\"color\": \"rgba(26,152,80, 0.75)\", \"size\": 0.5}, \"mode\": \"markers\", \"text\": \"186 V\", \"x\": [0.8999980333579843], \"y\": [0.0018814759526793318], \"type\": \"scatter\", \"uid\": \"f7aefc05-3b63-4de1-9dbe-c6dddd587ec5\"}, {\"marker\": {\"color\": \"rgba(26,152,80, 0.75)\", \"size\": 0.5}, \"mode\": \"markers\", \"text\": \"225 G\", \"x\": [0.8855062735512235], \"y\": [-0.16086839186560506], \"type\": \"scatter\", \"uid\": \"d81307df-2846-4644-9061-44f3716c3f9c\"}, {\"marker\": {\"color\": \"rgba(215,48,39, 0.75)\", \"size\": 0.5}, \"mode\": \"markers\", \"x\": [-0.11565583279056073], \"y\": [0.8925378021918858], \"type\": \"scatter\", \"uid\": \"611fe67a-bfc6-44d4-a85b-b6cc846fa792\"}, {\"marker\": {\"color\": \"rgba(215,48,39, 0.75)\", \"size\": 0.5}, \"mode\": \"markers\", \"text\": \"194 P\", \"x\": [0.46763673589025107], \"y\": [0.7689706647499055], \"type\": \"scatter\", \"uid\": \"2dbddeb8-1ded-4b29-a39c-50f2c17a05f2\"}, {\"marker\": {\"color\": \"rgba(215,48,39, 0.75)\", \"size\": 0.5}, \"mode\": \"markers\", \"text\": \"138 S\", \"x\": [-0.3908480240541471], \"y\": [0.8107020550689191], \"type\": \"scatter\", \"uid\": \"97b6f702-133c-4c9b-9e77-d65a7851cd45\"}, {\"marker\": {\"color\": \"rgba(215,48,39, 0.75)\", \"size\": 0.5}, \"mode\": \"markers\", \"text\": \"194 P\", \"x\": [0.23680163849502253], \"y\": [0.8682885372997117], \"type\": \"scatter\", \"uid\": \"f5566a59-dd95-4bc9-aba8-143a938ae9ad\"}, {\"marker\": {\"color\": \"rgba(215,48,39, 0.75)\", \"size\": 0.5}, \"mode\": \"markers\", \"text\": \"160 K\", \"x\": [-0.5532406913576391], \"y\": [-0.7098765649224671], \"type\": \"scatter\", \"uid\": \"febe64f8-c23e-4dd1-a5ab-23a68bcbd1ae\"}, {\"marker\": {\"color\": \"rgba(215,48,39, 0.75)\", \"size\": 0.5}, \"mode\": \"markers\", \"text\": \"194 P\", \"x\": [0.4235110149433492], \"y\": [0.7941274584231767], \"type\": \"scatter\", \"uid\": \"7a631254-1901-4df5-9fdc-45eef1b63887\"}, {\"marker\": {\"color\": \"rgba(215,48,39, 0.75)\", \"size\": 0.5}, \"mode\": \"markers\", \"text\": \"203 I\", \"x\": [0.6892413537215631], \"y\": [-0.5787455022028829], \"type\": \"scatter\", \"uid\": \"aaf30c8b-5dce-4b27-80a9-7609ae142b06\"}, {\"marker\": {\"color\": \"rgba(215,48,39, 0.75)\", \"size\": 0.5}, \"mode\": \"markers\", \"text\": \"194 P\", \"x\": [0.5071688383195991], \"y\": [0.7434916068373255], \"type\": \"scatter\", \"uid\": \"8237ca21-06e5-4e7b-96e5-69b24def281d\"}, {\"marker\": {\"color\": \"rgba(215,48,39, 0.75)\", \"size\": 0.5}, \"mode\": \"markers\", \"text\": \"219 F/Y\", \"x\": [0.7571781654113272], \"y\": [-0.4864989474031129], \"type\": \"scatter\", \"uid\": \"c4f3e942-6c47-4f1a-9fa5-498114b88476\"}, {\"marker\": {\"color\": \"rgba(215,48,39, 0.75)\", \"size\": 0.5}, \"mode\": \"markers\", \"text\": \"194 P\", \"x\": [0.49466415776831235], \"y\": [0.7518692512793472], \"type\": \"scatter\", \"uid\": \"40a0326f-a6e0-494f-b88f-a21da29dc97d\"}, {\"marker\": {\"color\": \"rgba(215,48,39, 0.75)\", \"size\": 0.5}, \"mode\": \"markers\", \"text\": \"225 G\", \"x\": [0.8909173983960883], \"y\": [-0.12753897143675616], \"type\": \"scatter\", \"uid\": \"8c293e14-8df9-4cb0-8af6-0772b78a198f\"}, {\"marker\": {\"color\": \"rgba(244,109,67, 0.75)\", \"size\": 0.5}, \"mode\": \"markers\", \"x\": [-0.5315064247070184], \"y\": [0.7262925860114247], \"type\": \"scatter\", \"uid\": \"7bdc7d40-3f07-4ded-9c1d-45c250534381\"}, {\"marker\": {\"color\": \"rgba(175,175,175,0.5)\", \"size\": 0.5}, \"mode\": \"markers\", \"text\": \"138 S\", \"x\": [-0.3606618335624421], \"y\": [0.8245744610472588], \"type\": \"scatter\", \"uid\": \"0f879f36-382f-40b1-9b59-d3bdb865ce0f\"}, {\"marker\": {\"color\": \"rgba(175,175,175,0.5)\", \"size\": 0.5}, \"mode\": \"markers\", \"text\": \"156 R/Q\", \"x\": [-0.765399663654546], \"y\": [0.47345892628348224], \"type\": \"scatter\", \"uid\": \"9d33bae7-e58a-4dd4-8f7e-403834d1c1fc\"}, {\"marker\": {\"color\": \"rgba(175,175,175,0.5)\", \"size\": 0.5}, \"mode\": \"markers\", \"text\": \"138 S\", \"x\": [-0.6731979566934845], \"y\": [0.597331156983894], \"type\": \"scatter\", \"uid\": \"346ca04f-0da9-418f-8f1c-63a572130f3c\"}, {\"marker\": {\"color\": \"rgba(175,175,175,0.5)\", \"size\": 0.5}, \"mode\": \"markers\", \"text\": \"160 K\", \"x\": [-0.8692545766882486], \"y\": [-0.2332305316774239], \"type\": \"scatter\", \"uid\": \"906e0ce1-6d4f-4371-b460-a4cf2b8a5ffd\"}, {\"marker\": {\"color\": \"rgba(175,175,175,0.5)\", \"size\": 0.5}, \"mode\": \"markers\", \"text\": \"138 S\", \"x\": [-0.32310444245110675], \"y\": [0.8400020947999829], \"type\": \"scatter\", \"uid\": \"f5960568-e359-42a6-8fd3-c9d51e601ca1\"}, {\"marker\": {\"color\": \"rgba(175,175,175,0.5)\", \"size\": 0.5}, \"mode\": \"markers\", \"text\": \"203 I\", \"x\": [0.6368751786992607], \"y\": [-0.6359166665191163], \"type\": \"scatter\", \"uid\": \"44fdf50e-406d-45df-ac7c-35d1ac2f46d6\"}, {\"marker\": {\"color\": \"rgba(175,175,175,0.5)\", \"size\": 0.5}, \"mode\": \"markers\", \"text\": \"138 S\", \"x\": [-0.32826634705155433], \"y\": [0.8379983325719859], \"type\": \"scatter\", \"uid\": \"f2e444bc-45eb-4527-a5e7-51d912e3d284\"}, {\"marker\": {\"color\": \"rgba(175,175,175,0.5)\", \"size\": 0.5}, \"mode\": \"markers\", \"text\": \"219 F/Y\", \"x\": [0.7610265077125161], \"y\": [-0.4804567145528218], \"type\": \"scatter\", \"uid\": \"c3b9ddbe-1a9a-43e3-af21-0ae37a74b290\"}, {\"marker\": {\"color\": \"rgba(175,175,175,0.5)\", \"size\": 0.5}, \"mode\": \"markers\", \"text\": \"138 S\", \"x\": [-0.3402621324358698], \"y\": [0.8331996646843989], \"type\": \"scatter\", \"uid\": \"85ef727b-fddf-4b67-b444-b7b1a10f2e18\"}, {\"marker\": {\"color\": \"rgba(175,175,175,0.5)\", \"size\": 0.5}, \"mode\": \"markers\", \"text\": \"225 G\", \"x\": [0.8882389562924632], \"y\": [-0.14502260694276467], \"type\": \"scatter\", \"uid\": \"5af53bb8-c1f2-4ea4-a8e5-68a00e326012\"}, {\"marker\": {\"color\": \"rgba(253,174,97, 0.75)\", \"size\": 0.5}, \"mode\": \"markers\", \"x\": [-0.8624004336677216], \"y\": [0.25742084610560545], \"type\": \"scatter\", \"uid\": \"31c2f97c-9039-46aa-ad1c-2563a6903e56\"}, {\"marker\": {\"color\": \"rgba(175,175,175,0.5)\", \"size\": 0.5}, \"mode\": \"markers\", \"text\": \"156 R/Q\", \"x\": [-0.8292339972389978], \"y\": [0.3498156340460412], \"type\": \"scatter\", \"uid\": \"7db4c9f0-6416-4b5b-88b5-e61780b1e925\"}, {\"marker\": {\"color\": \"rgba(175,175,175,0.5)\", \"size\": 0.5}, \"mode\": \"markers\", \"text\": \"160 K\", \"x\": [-0.8995885866894745], \"y\": [0.027209827232706856], \"type\": \"scatter\", \"uid\": \"6990ed25-146d-473c-af71-864359c012a1\"}, {\"marker\": {\"color\": \"rgba(175,175,175,0.5)\", \"size\": 0.5}, \"mode\": \"markers\", \"text\": \"156 R/Q\", \"x\": [-0.7558554316142809], \"y\": [0.488551498308202], \"type\": \"scatter\", \"uid\": \"a0642d3c-c659-49a6-9122-53d5ef939a1d\"}, {\"marker\": {\"color\": \"rgba(175,175,175,0.5)\", \"size\": 0.5}, \"mode\": \"markers\", \"text\": \"219 F/Y\", \"x\": [0.7657691041842216], \"y\": [-0.4728611625804077], \"type\": \"scatter\", \"uid\": \"394c83a7-734a-4752-ab25-6799f97a8c50\"}, {\"marker\": {\"color\": \"rgba(175,175,175,0.5)\", \"size\": 0.5}, \"mode\": \"markers\", \"text\": \"156 R/Q\", \"x\": [-0.750971490175747], \"y\": [0.4960260284936849], \"type\": \"scatter\", \"uid\": \"e4879532-d921-4769-8ab4-a1cb77793a1b\"}, {\"marker\": {\"color\": \"rgba(175,175,175,0.5)\", \"size\": 0.5}, \"mode\": \"markers\", \"text\": \"225 G\", \"x\": [0.88635579894963], \"y\": [-0.156119818307488], \"type\": \"scatter\", \"uid\": \"cc13e6cd-5bb9-457d-965c-8926354375f5\"}, {\"marker\": {\"color\": \"rgba(254,224,139, 0.75)\", \"size\": 0.5}, \"mode\": \"markers\", \"x\": [0.12785485158243848], \"y\": [-0.8908721215341923], \"type\": \"scatter\", \"uid\": \"9ddd0423-9d6a-4483-9316-b482d46f04ac\"}, {\"marker\": {\"color\": \"rgba(175,175,175,0.5)\", \"size\": 0.5}, \"mode\": \"markers\", \"text\": \"160 K\", \"x\": [-0.8937693305678311], \"y\": [0.10571841720500214], \"type\": \"scatter\", \"uid\": \"c8d7722e-1a3a-476e-8784-820459274689\"}, {\"marker\": {\"color\": \"rgba(175,175,175,0.5)\", \"size\": 0.5}, \"mode\": \"markers\", \"text\": \"203 I\", \"x\": [0.6563828403971707], \"y\": [-0.6157609656613048], \"type\": \"scatter\", \"uid\": \"423a2f47-422f-4316-ae64-29320e68c98a\"}, {\"marker\": {\"color\": \"rgba(175,175,175,0.5)\", \"size\": 0.5}, \"mode\": \"markers\", \"text\": \"160 K\", \"x\": [-0.8964160260714078], \"y\": [-0.08023906905208379], \"type\": \"scatter\", \"uid\": \"e09d508b-22af-4b3b-a167-2c688208a3f8\"}, {\"marker\": {\"color\": \"rgba(175,175,175,0.5)\", \"size\": 0.5}, \"mode\": \"markers\", \"text\": \"219 F/Y\", \"x\": [0.8337687514945491], \"y\": [-0.3388652667819778], \"type\": \"scatter\", \"uid\": \"ac014ccb-b3ec-4a16-8bf9-567c777ec513\"}, {\"marker\": {\"color\": \"rgba(175,175,175,0.5)\", \"size\": 0.5}, \"mode\": \"markers\", \"text\": \"160 K\", \"x\": [-0.8861977291392489], \"y\": [0.157014600812913], \"type\": \"scatter\", \"uid\": \"fa71f4e9-56c1-46c4-8d6f-1ebe990fa79c\"}, {\"marker\": {\"color\": \"rgba(175,175,175,0.5)\", \"size\": 0.5}, \"mode\": \"markers\", \"text\": \"225 G\", \"x\": [0.8947327835796177], \"y\": [-0.09722780460274197], \"type\": \"scatter\", \"uid\": \"b64dabf5-22a4-4f5f-94f0-f22d26588c6f\"}, {\"marker\": {\"color\": \"rgba(217,239,139, 0.75)\", \"size\": 0.5}, \"mode\": \"markers\", \"x\": [0.7219904312199111], \"y\": [-0.5373358514252393], \"type\": \"scatter\", \"uid\": \"a419b4c0-01a2-4631-84e3-5b57ed50e962\"}, {\"marker\": {\"color\": \"rgba(175,175,175,0.5)\", \"size\": 0.5}, \"mode\": \"markers\", \"text\": \"203 I\", \"x\": [0.6392026787363246], \"y\": [-0.6335770951481018], \"type\": \"scatter\", \"uid\": \"e105c676-9066-4866-830f-504a3afa09f1\"}, {\"marker\": {\"color\": \"rgba(175,175,175,0.5)\", \"size\": 0.5}, \"mode\": \"markers\", \"text\": \"219 F/Y\", \"x\": [0.7542604137836588], \"y\": [-0.49101041557069225], \"type\": \"scatter\", \"uid\": \"dc6b40e7-49a0-4a45-ad5c-6f1778ed99df\"}, {\"marker\": {\"color\": \"rgba(166,217,106, 0.75)\", \"size\": 0.5}, \"mode\": \"markers\", \"x\": [0.8672451550639761], \"y\": [-0.2405947651509902], \"type\": \"scatter\", \"uid\": \"5490271e-d398-47d6-993c-aa52aec4f0fd\"}, {\"marker\": {\"color\": \"rgba(102,189,99, 0.75)\", \"size\": 0.5}, \"mode\": \"markers\", \"x\": [0.8984753466523737], \"y\": [-0.052364601191042595], \"type\": \"scatter\", \"uid\": \"7f4a1a5f-8961-4dee-9e89-188fede29d7c\"}], {\"annotations\": [{\"align\": \"left\", \"showarrow\": false, \"text\": \"186 V\", \"valign\": \"bottom\", \"x\": 1.0708157698156506, \"y\": 0.5416212579968732}, {\"align\": \"left\", \"showarrow\": false, \"text\": \"194 P\", \"valign\": \"bottom\", \"x\": 0.16096613403262147, \"y\": 1.189155121796392}, {\"align\": \"left\", \"showarrow\": false, \"text\": \"138 S\", \"valign\": \"bottom\", \"x\": -0.7293450081907283, \"y\": 0.9529196498274479}, {\"align\": \"left\", \"showarrow\": false, \"text\": \"156 R/Q\", \"valign\": \"bottom\", \"x\": -1.1000143862140037, \"y\": 0.4795501539174277}, {\"align\": \"left\", \"showarrow\": false, \"text\": \"160 K\", \"valign\": \"bottom\", \"x\": -0.6120885199705567, \"y\": -1.0321567922172743}, {\"align\": \"left\", \"showarrow\": false, \"text\": \"203 I\", \"valign\": \"bottom\", \"x\": 0.9149815389840676, \"y\": -0.776407614155314}, {\"align\": \"left\", \"showarrow\": false, \"text\": \"219 F/Y\", \"valign\": \"bottom\", \"x\": 1.1047051135891783, \"y\": -0.4686433740168746}, {\"align\": \"left\", \"showarrow\": false, \"text\": \"225 G\", \"valign\": \"bottom\", \"x\": 1.1926323143244453, \"y\": -0.1327710918427554}], \"height\": 800, \"hovermode\": false, \"margin\": {\"b\": 25, \"l\": 25, \"r\": 25, \"t\": 25}, \"shapes\": [{\"fillcolor\": \"rgba(175,175,175,0.5)\", \"layer\": \"below\", \"line\": {\"color\": \"rgba(175,175,175,0.5)\", \"width\": 0.5}, \"path\": \"M 0.8288705179205476, 0.5594404923869233 Q 0.28851578953652474, 0.277053495173975 0.5925644623415064, 0.8055230337922817L 0.5925644623415064, 0.8055230337922817 L 0.680555885338843, 0.7326961764132958 L 0.7596686117814838, 0.650310387641158 L 0.8288705179205476, 0.5594404923869233 \", \"type\": \"path\"}, {\"fillcolor\": \"rgba(26,152,80, 0.75)\", \"layer\": \"below\", \"line\": {\"color\": \"rgba(26,152,80, 0.75)\", \"width\": 0.5}, \"path\": \"M 0.9999912593783691, 0.004181048536349972 Q 0.09950629504250144, 0.1734891848125256 -0.501311521334239, 0.8652668713047731L -0.501311521334239, 0.8652668713047731 L -0.47806763713822265, 0.8783230239046889 L -0.45448397054109646, 0.8907549160802873 M -0.45448397054109646, 0.8907549160802873 Q 0.09941669651189121, 0.17354054412344835 0.998287324764133, 0.05850142917288928L 0.998287324764133, 0.05850142917288928 L 0.9995083796040758, 0.031352816480098196 L 0.9999912593783691, 0.004181048536349972 \", \"type\": \"path\"}, {\"fillcolor\": \"rgba(26,152,80, 0.75)\", \"layer\": \"below\", \"line\": {\"color\": \"rgba(26,152,80, 0.75)\", \"width\": 0.5}, \"path\": \"M 0.998287324764133, 0.05850142917288928 Q 0.039169222997289366, 0.1961269282117798 -0.8992364983092883, 0.4374628214013727L -0.8992364983092883, 0.4374628214013727 L -0.8792900407918686, 0.47628670374495463 L -0.8576683994499936, 0.5142031860897852 M -0.8576683994499936, 0.5142031860897852 Q 0.03871015543755493, 0.19621805183519772 0.9886935084631471, 0.14995047956853283L 0.9886935084631471, 0.14995047956853283 L 0.9945420755843919, 0.10433628272221417 L 0.998287324764133, 0.05850142917288928 \", \"type\": \"path\"}, {\"fillcolor\": \"rgba(26,152,80, 0.75)\", \"layer\": \"below\", \"line\": {\"color\": \"rgba(26,152,80, 0.75)\", \"width\": 0.5}, \"path\": \"M 0.9665887293527299, 0.25633226150501454 Q -0.09357736256110233, 0.1767576793695482 -0.7553746640971014, -0.6552931533597701L -0.7553746640971014, -0.6552931533597701 L -0.8249114299488349, -0.5652620036228938 L -0.8837730419572677, -0.46791581540870963 L -0.9311977737832535, -0.3645143427920396 M -0.9311977737832535, -0.3645143427920396 Q -0.09296038966909377, 0.17708293523818225 0.8288705179205476, 0.5594404923869233L 0.8288705179205476, 0.5594404923869233 L 0.8859695963770551, 0.4637433280333832 L 0.9320664810984756, 0.3622872821569991 L 0.9665887293527299, 0.25633226150501454 \", \"type\": \"path\"}, {\"fillcolor\": \"rgba(26,152,80, 0.75)\", \"layer\": \"below\", \"line\": {\"color\": \"rgba(26,152,80, 0.75)\", \"width\": 0.5}, \"path\": \"M 0.9886935084631471, 0.14995047956853283 Q -0.19785435304743748, 0.029217374628463428 0.9031517792809074, -0.4293213989329335L 0.9031517792809074, -0.4293213989329335 L 0.8797410208132529, -0.4754531904388231 L 0.8539758943235753, -0.5203125713590337 M 0.8539758943235753, -0.5203125713590337 Q -0.19793010749747175, 0.028699695922418375 0.9665887293527299, 0.25633226150501454L 0.9665887293527299, 0.25633226150501454 L 0.979087038143985, 0.2034418141347517 L 0.9886935084631471, 0.14995047956853283 \", \"type\": \"path\"}, {\"fillcolor\": \"rgba(26,152,80, 0.75)\", \"layer\": \"below\", \"line\": {\"color\": \"rgba(26,152,80, 0.75)\", \"width\": 0.5}, \"path\": \"M 1.0, 0.0 Q -0.19920911829629712, 0.017768713729809125 0.9842136406194046, -0.17698448976872921L 0.9842136406194046, -0.17698448976872921 L 0.9838958595013594, -0.17874265762845007 L 0.9835749376509081, -0.18050025491675148 M 0.9835749376509081, -0.18050025491675148 Q -0.19921450855402892, 0.017708178381096763 0.9999912593783691, 0.004181048536349972L 0.9999912593783691, 0.004181048536349972 L 0.9999978148422048, 0.0020905288363103685 L 1.0, 0.0 \", \"type\": \"path\"}, {\"fillcolor\": \"rgba(175,175,175,0.5)\", \"layer\": \"below\", \"line\": {\"color\": \"rgba(175,175,175,0.5)\", \"width\": 0.5}, \"path\": \"M 0.07593598098975045, 0.9971126951308584 Q -0.05140259235136033, 0.39668346764083817 -0.3275740404808306, 0.9448255119349092L -0.3275740404808306, 0.9448255119349092 L -0.2292419422734807, 0.9733694734799742 L -0.1285064808784008, 0.9917086691020953 L -0.02642376277076248, 0.9996508314211691 L 0.07593598098975045, 0.9971126951308584 \", \"type\": \"path\"}, {\"fillcolor\": \"rgba(215,48,39, 0.75)\", \"layer\": \"below\", \"line\": {\"color\": \"rgba(215,48,39, 0.75)\", \"width\": 0.5}, \"path\": \"M 0.5391051772102465, 0.8422384507401147 Q 0.009754279074973794, 0.1997619934815618 -0.45448397054109646, 0.8907549160802873L -0.45448397054109646, 0.8907549160802873 L -0.43427558228238566, 0.9007800611876879 L -0.41384619878382606, 0.9103468150942133 M -0.41384619878382606, 0.9103468150942133 Q 0.009666995805131173, 0.19976623636666827 0.4998128144047106, 0.8661334484690233L 0.4998128144047106, 0.8661334484690233 L 0.5195963732113901, 0.8544118497221173 L 0.5391051772102465, 0.8422384507401147 \", \"type\": \"path\"}, {\"fillcolor\": \"rgba(215,48,39, 0.75)\", \"layer\": \"below\", \"line\": {\"color\": \"rgba(215,48,39, 0.75)\", \"width\": 0.5}, \"path\": \"M 0.44079635162885883, 0.8976071392266705 Q -0.17901913213211174, 0.08917483014094009 -0.4509376409798964, -0.892555457071148L -0.4509376409798964, -0.892555457071148 L -0.56240011288693, -0.8268652326859367 L -0.6644485196874957, -0.7473340382219289 L -0.7553746640971014, -0.6552931533597701 M -0.7553746640971014, -0.6552931533597701 Q -0.17866398664052824, 0.0898842582308668 0.07593598098975045, 0.9971126951308584L 0.07593598098975045, 0.9971126951308584 L 0.20144668186050452, 0.9794994815554486 L 0.32372151218204265, 0.9461524097895495 L 0.44079635162885883, 0.8976071392266705 \", \"type\": \"path\"}, {\"fillcolor\": \"rgba(215,48,39, 0.75)\", \"layer\": \"below\", \"line\": {\"color\": \"rgba(215,48,39, 0.75)\", \"width\": 0.5}, \"path\": \"M 0.4998128144047106, 0.8661334484690233 Q -0.19643338650505918, -0.03760218964573786 0.7843551078352395, -0.6203120705038472L 0.7843551078352395, -0.6203120705038472 L 0.7658237263572923, -0.6430505580032032 L 0.7466333911546206, -0.6652357320626663 M 0.7466333911546206, -0.6652357320626663 Q -0.1962770295879459, -0.038409994221981075 0.44079635162885883, 0.8976071392266705L 0.44079635162885883, 0.8976071392266705 L 0.4705677943814991, 0.8823638426924185 L 0.4998128144047106, 0.8661334484690233 \", \"type\": \"path\"}, {\"fillcolor\": \"rgba(215,48,39, 0.75)\", \"layer\": \"below\", \"line\": {\"color\": \"rgba(215,48,39, 0.75)\", \"width\": 0.5}, \"path\": \"M 0.5669699776035957, 0.8237384563659622 Q -0.19599626297359643, -0.039817896734820564 0.843453720376856, -0.537201844358748L 0.843453720376856, -0.537201844358748 L 0.8413090726792525, -0.5405543860034587 L 0.8391510994458327, -0.5438983657806393 M 0.8391510994458327, -0.5438983657806393 Q -0.19598824653807426, -0.039857335823296355 0.5600620342823608, 0.8284506730973811L 0.5600620342823608, 0.8284506730973811 L 0.5635209314662213, 0.8261017853748062 L 0.5669699776035957, 0.8237384563659622 \", \"type\": \"path\"}, {\"fillcolor\": \"rgba(215,48,39, 0.75)\", \"layer\": \"below\", \"line\": {\"color\": \"rgba(215,48,39, 0.75)\", \"width\": 0.5}, \"path\": \"M 0.5600620342823608, 0.8284506730973811 Q -0.18241879124430446, -0.08199624748100899 0.991370435079294, -0.13109027595779663L 0.991370435079294, -0.13109027595779663 L 0.9899082204400981, -0.1417099682630624 L 0.9883322495708898, -0.15231337583463994 M 0.9883322495708898, -0.15231337583463994 Q -0.18226898881803674, -0.08232870529317467 0.5391051772102465, 0.8422384507401147L 0.5391051772102465, 0.8422384507401147 L 0.5496268419647915, 0.8354102791992747 L 0.5600620342823608, 0.8284506730973811 \", \"type\": \"path\"}, {\"fillcolor\": \"rgba(175,175,175,0.5)\", \"layer\": \"below\", \"line\": {\"color\": \"rgba(175,175,175,0.5)\", \"width\": 0.5}, \"path\": \"M -0.501311521334239, 0.8652668713047731 Q -0.23622507764756373, 0.32279670489396656 -0.6731040352014253, 0.7395478062948726L -0.6731040352014253, 0.7395478062948726 L -0.5905626941189093, 0.8069917622349163 L -0.501311521334239, 0.8652668713047731 \", \"type\": \"path\"}, {\"fillcolor\": \"rgba(175,175,175,0.5)\", \"layer\": \"below\", \"line\": {\"color\": \"rgba(175,175,175,0.5)\", \"width\": 0.5}, \"path\": \"M -0.3875419582873673, 0.9218520654458568 Q -0.13102390788923476, 0.1511050481004302 -0.8576683994499936, 0.5142031860897852L -0.8576683994499936, 0.5142031860897852 L -0.8504440707272733, 0.5260654736483136 L -0.8430556872683093, 0.5378262806562716 M -0.8430556872683093, 0.5378262806562716 Q -0.13109438964880785, 0.1510439042219399 -0.41384619878382606, 0.9103468150942133L -0.41384619878382606, 0.9103468150942133 L -0.40073537062493564, 0.9161938456080654 L -0.3875419582873673, 0.9218520654458568 \", \"type\": \"path\"}, {\"fillcolor\": \"rgba(175,175,175,0.5)\", \"layer\": \"below\", \"line\": {\"color\": \"rgba(175,175,175,0.5)\", \"width\": 0.5}, \"path\": \"M -0.6731040352014253, 0.7395478062948726 Q -0.1947495192127037, 0.04552608885486161 -0.9311977737832535, -0.3645143427920396L -0.9311977737832535, -0.3645143427920396 L -0.9658384185424984, -0.25914503519713766 L -0.9885966765505411, -0.15058755298239246 M -0.9885966765505411, -0.15058755298239246 Q -0.19455046264965703, 0.04636935930983308 -0.814392853297448, 0.5803139499426507L -0.814392853297448, 0.5803139499426507 L -0.7479977296594271, 0.6637012855376601 L -0.6731040352014253, 0.7395478062948726 \", \"type\": \"path\"}, {\"fillcolor\": \"rgba(175,175,175,0.5)\", \"layer\": \"below\", \"line\": {\"color\": \"rgba(175,175,175,0.5)\", \"width\": 0.5}, \"path\": \"M -0.3570900889923566, 0.9340699483140601 Q -0.16766774167252707, -0.10902994268747801 0.7089333345156856, -0.7052754973855756L 0.7089333345156856, -0.7052754973855756 L 0.7076390874436229, -0.7065740739101292 L 0.7063424617301803, -0.7078702753732131 M 0.7063424617301803, -0.7078702753732131 Q -0.16764403423691482, -0.1090663916372598 -0.36091827321204206, 0.9325974480244077L -0.36091827321204206, 0.9325974480244077 L -0.3590049360567853, 0.9333356608888699 L -0.3570900889923566, 0.9340699483140601 \", \"type\": \"path\"}, {\"fillcolor\": \"rgba(175,175,175,0.5)\", \"layer\": \"below\", \"line\": {\"color\": \"rgba(175,175,175,0.5)\", \"width\": 0.5}, \"path\": \"M -0.36091827321204206, 0.9325974480244077 Q -0.15419239289384912, -0.12737623786903454 0.8477029034994923, -0.5304712880057981L 0.8477029034994923, -0.5304712880057981 L 0.8455850085694623, -0.5338407939475798 L 0.843453720376856, -0.537201844358748 M 0.843453720376856, -0.537201844358748 Q -0.15417687915015021, -0.1273950153480111 -0.36855636189438645, 0.9296054045169778L -0.36855636189438645, 0.9296054045169778 L -0.3647403856128381, 0.9311092584133176 L -0.36091827321204206, 0.9325974480244077 \", \"type\": \"path\"}, {\"fillcolor\": \"rgba(175,175,175,0.5)\", \"layer\": \"below\", \"line\": {\"color\": \"rgba(175,175,175,0.5)\", \"width\": 0.5}, \"path\": \"M -0.36855636189438645, 0.9296054045169778 Q -0.12468642260578054, -0.1563754968585958 0.9883322495708898, -0.15231337583463994L 0.9883322495708898, -0.15231337583463994 L 0.9869321736582924, -0.1611362299364052 L 0.9854533376299479, -0.1699462248889212 M 0.9854533376299479, -0.1699462248889212 Q -0.1244797784511722, -0.15654004202358926 -0.3875419582873673, 0.9218520654458568L -0.3875419582873673, 0.9218520654458568 L -0.3780690360398553, 0.9257774052048876 L -0.36855636189438645, 0.9296054045169778 \", \"type\": \"path\"}, {\"fillcolor\": \"rgba(175,175,175,0.5)\", \"layer\": \"below\", \"line\": {\"color\": \"rgba(175,175,175,0.5)\", \"width\": 0.5}, \"path\": \"M -0.9408620178215341, 0.33878999899759615 Q -0.38328908163009845, 0.11440926493582465 -0.9726265714097448, 0.23237373472000783L -0.9726265714097448, 0.23237373472000783 L -0.9582227040752461, 0.2860231623395616 L -0.9408620178215341, 0.33878999899759615 \", \"type\": \"path\"}, {\"fillcolor\": \"rgba(175,175,175,0.5)\", \"layer\": \"below\", \"line\": {\"color\": \"rgba(175,175,175,0.5)\", \"width\": 0.5}, \"path\": \"M -0.8992364983092883, 0.4374628214013727 Q -0.19549307656339732, 0.0422191546075674 -0.9996250945489522, -0.02738010861918614L -0.9996250945489522, -0.02738010861918614 L -0.9995428740994161, 0.030233141369674286 L -0.9961428776503537, 0.08774603869390593 M -0.9961428776503537, 0.08774603869390593 Q -0.19532053233306068, 0.04301034351327365 -0.9408620178215341, 0.33878999899759615L -0.9408620178215341, 0.33878999899759615 L -0.9213711080433309, 0.3886840378289347 L -0.8992364983092883, 0.4374628214013727 \", \"type\": \"path\"}, {\"fillcolor\": \"rgba(175,175,175,0.5)\", \"layer\": \"below\", \"line\": {\"color\": \"rgba(175,175,175,0.5)\", \"width\": 0.5}, \"path\": \"M -0.8365932924996657, 0.5478244818776984 Q -0.10682784839841238, -0.16907930330636517 0.8539758943235753, -0.5203125713590337L 0.8539758943235753, -0.5203125713590337 L 0.8508545602046906, -0.5254012917560086 L 0.8477029034994923, -0.5304712880057981 M 0.8477029034994923, -0.5304712880057981 Q -0.10683076765744924, -0.16907745882204436 -0.8430556872683093, 0.5378262806562716L -0.8430556872683093, 0.5378262806562716 L -0.8398393684603122, 0.5428349981202244 L -0.8365932924996657, 0.5478244818776984 \", \"type\": \"path\"}, {\"fillcolor\": \"rgba(175,175,175,0.5)\", \"layer\": \"below\", \"line\": {\"color\": \"rgba(175,175,175,0.5)\", \"width\": 0.5}, \"path\": \"M -0.8322191012570919, 0.5544469023295543 Q -0.07404229426200502, -0.18578950094238011 0.9854533376299479, -0.1699462248889212L 0.9854533376299479, -0.1699462248889212 L 0.9848397766107, -0.17346646478609778 L 0.9842136406194046, -0.17698448976872921 M 0.9842136406194046, -0.17698448976872921 Q -0.07396889971860769, -0.18581873391673553 -0.8365932924996657, 0.5478244818776984L -0.8365932924996657, 0.5478244818776984 L -0.8344127668619411, 0.5511400316596499 L -0.8322191012570919, 0.5544469023295543 \", \"type\": \"path\"}, {\"fillcolor\": \"rgba(175,175,175,0.5)\", \"layer\": \"below\", \"line\": {\"color\": \"rgba(175,175,175,0.5)\", \"width\": 0.5}, \"path\": \"M -0.4509376409798964, -0.892555457071148 Q 0.05682437848108377, -0.3959431651263077 0.6837591816858791, -0.7297077370154827L 0.6837591816858791, -0.7297077370154827 L 0.6176159604531204, -0.786479831523714 L 0.5467800953577913, -0.837276255079842 L 0.47178979704999485, -0.8817110566390356 L 0.3932148415485506, -0.9194466207376849 L 0.31165224108483786, -0.9501962326944883 L 0.227721708005993, -0.9737262570675771 L 0.14206094620270943, -0.9898579128157692 L 0.05532080583734902, -0.9984686316762817 L -0.031839661813262636, -0.9994929894379535 L -0.11875821182708798, -0.9929232030341685 L -0.20477443737143014, -0.9788091896785677 L -0.28923478747168996, -0.9572581875942385 L -0.3714975326893378, -0.9284339412180784 L -0.4509376409798964, -0.892555457071148 \", \"type\": \"path\"}, {\"fillcolor\": \"rgba(175,175,175,0.5)\", \"layer\": \"below\", \"line\": {\"color\": \"rgba(175,175,175,0.5)\", \"width\": 0.5}, \"path\": \"M -0.9891247592002917, 0.14707892689629243 Q -0.08477364972302837, -0.18114477169556206 0.7466333911546206, -0.6652357320626663L 0.7466333911546206, -0.6652357320626663 L 0.7293142671079673, -0.684178850734783 L 0.7115146753418728, -0.7026712366200494 M 0.7115146753418728, -0.7026712366200494 Q -0.08401027810119993, -0.18150006383844347 -0.9961428776503537, 0.08774603869390593L -0.9961428776503537, 0.08774603869390593 L -0.9930770339642568, 0.11746490800555792 L -0.9891247592002917, 0.14707892689629243 \", \"type\": \"path\"}, {\"fillcolor\": \"rgba(175,175,175,0.5)\", \"layer\": \"below\", \"line\": {\"color\": \"rgba(175,175,175,0.5)\", \"width\": 0.5}, \"path\": \"M -0.9996250945489522, -0.02738010861918614 Q -0.029980823452408007, -0.19774010778068152 0.9465834277757027, -0.3224590117525033L 0.9465834277757027, -0.3224590117525033 L 0.9264097238828323, -0.37651696309108645 L 0.9031517792809074, -0.4293213989329335 M 0.9031517792809074, -0.4293213989329335 Q -0.029153625391672596, -0.19786375647531315 -0.9885966765505411, -0.15058755298239246L -0.9885966765505411, -0.15058755298239246 L -0.9960178067460087, -0.08915452116898198 L -0.9996250945489522, -0.02738010861918614 \", \"type\": \"path\"}, {\"fillcolor\": \"rgba(175,175,175,0.5)\", \"layer\": \"below\", \"line\": {\"color\": \"rgba(175,175,175,0.5)\", \"width\": 0.5}, \"path\": \"M -0.9794456743074438, 0.2017081334017963 Q -0.0287121686912256, -0.19792829855542793 0.99638834924488, -0.08491323506417077L 0.99638834924488, -0.08491323506417077 L 0.9941475373106864, -0.10803089400304663 L 0.991370435079294, -0.13109027595779663 M 0.991370435079294, -0.13109027595779663 Q -0.027817826744128107, -0.19805597318746454 -0.9891247592002917, 0.14707892689629243L -0.9891247592002917, 0.14707892689629243 L -0.9846641434880543, 0.1744606675699033 L -0.9794456743074438, 0.2017081334017963 \", \"type\": \"path\"}, {\"fillcolor\": \"rgba(175,175,175,0.5)\", \"layer\": \"below\", \"line\": {\"color\": \"rgba(175,175,175,0.5)\", \"width\": 0.5}, \"path\": \"M 0.7843551078352395, -0.6203120705038472 Q 0.4011057951221728, -0.2985199174584663 0.8193778089580147, -0.5732538758588231L 0.8193778089580147, -0.5732538758588231 L 0.8022115902443456, -0.5970398349169326 L 0.7843551078352395, -0.6203120705038472 \", \"type\": \"path\"}, {\"fillcolor\": \"rgba(175,175,175,0.5)\", \"layer\": \"below\", \"line\": {\"color\": \"rgba(175,175,175,0.5)\", \"width\": 0.5}, \"path\": \"M 0.7089333345156856, -0.7052754973855756 Q 0.1556472933680182, -0.12559426765266832 0.8391510994458327, -0.5438983657806393L 0.8391510994458327, -0.5438983657806393 L 0.8380671264262876, -0.5455671284118803 L 0.83697983485684, -0.5472337307248311 M 0.83697983485684, -0.5472337307248311 Q 0.1556276346396898, -0.12561862655058456 0.7115146753418728, -0.7026712366200494L 0.7115146753418728, -0.7026712366200494 L 0.7102251985959163, -0.7039745501645576 L 0.7089333345156856, -0.7052754973855756 \", \"type\": \"path\"}, {\"fillcolor\": \"rgba(175,175,175,0.5)\", \"layer\": \"below\", \"line\": {\"color\": \"rgba(175,175,175,0.5)\", \"width\": 0.5}, \"path\": \"M 0.9465834277757027, -0.3224590117525033 Q 0.48180286392443117, -0.13366375841721678 0.9774199527726675, -0.21130602433881668L 0.9774199527726675, -0.21130602433881668 L 0.9636057278488623, -0.26732751683443357 L 0.9465834277757027, -0.3224590117525033 \", \"type\": \"path\"}, {\"fillcolor\": \"rgba(175,175,175,0.5)\", \"layer\": \"below\", \"line\": {\"color\": \"rgba(175,175,175,0.5)\", \"width\": 0.5}, \"path\": \"M 0.99638834924488, -0.08491323506417077 Q 0.49915297036242984, -0.029091445106134775 0.9995065603657315, -0.03141075907812924L 0.9995065603657315, -0.03141075907812924 L 0.9983059407248597, -0.05818289021226955 L 0.99638834924488, -0.08491323506417077 \", \"type\": \"path\"}, {\"fillcolor\": \"rgba(26,152,80, 0.75)\", \"layer\": \"below\", \"line\": {\"color\": \"rgba(26,152,80, 0.75)\", \"width\": 0.45}, \"path\": \"M 1.1, 0.0 L 1.0999430029642472, 0.011197777904307515 L 1.099772017763647, 0.022394395371983095 L 1.0994870621175623, 0.03358869208665198 L 1.0990881655562244, 0.04477950797244132 L 1.098575369417672, 0.055965683314199925 L 1.0979487268434693, 0.06714605887768073 L 1.097208302773196, 0.07831947602967332 L 1.0963541739377203, 0.08948477685807427 L 1.0953864288512447, 0.10064080429188263 L 1.0943051678021358, 0.11178640222110842 L 1.0931105028425292, 0.12292041561658133 L 1.0918025577767183, 0.1340416906496476 L 1.0903814681483244, 0.14514907481174236 L 1.08884738122625, 0.15624141703382521 L 1.087200455989417, 0.16731756780566673 L 1.085440863110292, 0.17837637929497313 L 1.0835687849371995, 0.18941670546633743 L 1.0815844154754237, 0.20043740220000425 L 1.079487960367105, 0.21143732741043575 L 1.0772796368699284, 0.22241534116466746 L 1.0749596738346092, 0.2333703058004403 L 1.0725283116811763, 0.24430108604409795 L 1.0699858023740583, 0.25520654912823615 L 1.0673324093959713, 0.26608556490909246 L 1.0645684077206143, 0.2769370059836644 L 1.0616940837841733, 0.28775974780654295 L 1.0587097354556374, 0.2985526688064506 L 1.0556156720059315, 0.30931465050247087 L 1.0524122140758645, 0.3200445776199574 L 1.0490996936429022, 0.330741338206111 L 1.0456784539867636, 0.34140382374521244 L 1.0421488496538471, 0.35203092927349905 L 1.038511246420488, 0.3626215534936731 L 1.0347660212550525, 0.37317459888903026 L 1.0309135622788725, 0.38368897183719675 L 1.0269542687260251, 0.39416358272346175 L 1.0228885509019572, 0.4045973460536959 L 1.0187168301409677, 0.41498918056684186 L 1.0144395387625427, 0.42533800934696636 L 1.010057120026554, 0.4356427599348621 L 1.005570028087324, 0.44590236443918785 L 1.0009787279465618, 0.4561157596471351 L 0.996283695405173, 0.46628188713460944 L 0.9914854170139533, 0.47639969337591664 L 0.9865843900231663, 0.48646812985294025 L 0.9815811223310131, 0.4964861531638005 L 0.9764761324309985, 0.5064527251309832 L 0.9712699493581985, 0.5163668129089268 L 0.9659631126344362, 0.5262273890910579 L 0.9605561722123708, 0.5360334318162614 L 0.9550496884185049, 0.5457839248747777 L 0.949444231895118, 0.5554778578135132 L 0.9437403835411299, 0.5651142260407547 L 0.9379387344519016, 0.5746920309302762 L 0.9320398858579797, 0.5842102799248269 L 0.9260444490627897, 0.593667986638992 L 0.9199530453792872, 0.6030641709614122 L 0.9137663060655693, 0.6123978591563531 L 0.9074848722594577, 0.6216680839646154 L 0.9011093949120562, 0.6308738847037718 L 0.894640534720293, 0.6400143073677247 L 0.8880789620584509, 0.6490884047255695 L 0.8814253569086963, 0.6580952364197582 L 0.8746804087906124, 0.6670338690635488 L 0.8678448166897426, 0.6759033763377331 L 0.860919288985155, 0.6847028390866328 L 0.8539045433760317, 0.6934313454133515 L 0.8468013068072936, 0.7020879907742762 L 0.8396103153942648, 0.710671878072816 L 0.8323323143463908, 0.7191821177523682 L 0.8249680578900093, 0.7276178278885053 L 0.8175183091901905, 0.7359781342803687 L 0.8099838402716488, 0.7442621705412631 L 0.802365431938738, 0.7524690781884413 L 0.7946638736945341, 0.7605980067320698 L 0.7868799636590204, 0.7686481137633651 L 0.7790145084863759, 0.776618565041894 L 0.7710683232813819, 0.7845085345820264 L 0.7630422315149517, 0.7923172047385334 L 0.7549370649387931, 0.8000437662913203 L 0.7467536634992137, 0.8076874185292867 L 0.7384928752500759, 0.815247369333306 L 0.730155556264913, 0.822722835258312 L 0.7217425705482127, 0.8301130416144891 L 0.7132547899458799, 0.8374172225475536 L 0.7046930940548862, 0.8446346211181208 L 0.696058370132117, 0.8517644893801462 L 0.687351513002423, 0.8588060884584365 L 0.6785734249658903, 0.8657586886252205 L 0.6697250157043326, 0.87262156937577 L 0.6608072021870209, 0.8793940195030677 L 0.651820908575657, 0.88607533717151 L 0.5925644623415063, 0.8055230337922817 L 0.600733820170019, 0.7994491086391524 L 0.6088409233675751, 0.7932923357961544 L 0.616884931787173, 0.787053353295655 L 0.6248650118203846, 0.7807328076894877 L 0.6327803364837427, 0.774331353981951 L 0.640630085504442, 0.767849655561928 L 0.6484134454053453, 0.7612883841341396 L 0.6561296095892842, 0.7546482196495354 L 0.6637777784226482, 0.747929850234829 L 0.6713571593182508, 0.7411339721211873 L 0.6788669668174669, 0.7342612895720788 L 0.68630642267163, 0.7273125148102911 L 0.6936747559226832, 0.7202883679441212 L 0.7009712029830744, 0.7131895768927512 L 0.7081950077148871, 0.7060168773108126 L 0.7153454215082002, 0.69877101251215 L 0.7224217033586673, 0.6914527333927907 L 0.7294231199443072, 0.6840627983531284 L 0.7363489457014989, 0.67660197321933 L 0.7431984629001731, 0.6690710311639715 L 0.7499709617181902, 0.6614707526259138 L 0.7566657403149006, 0.6538019252294256 L 0.763282104903877, 0.6460653437025599 L 0.7698193698248122, 0.6382618097947965 L 0.7762768576145742, 0.6303921321939558 L 0.7826538990774136, 0.6224571264423934 L 0.7889498333543113, 0.6144576148524846 L 0.7951640079914657, 0.606394426421408 L 0.8012957790079056, 0.5982683967452347 L 0.807344510962228, 0.5900803679323359 L 0.8133095770184482, 0.5818311885161133 L 0.8191903590109602, 0.5735217133670653 L 0.8249862475085978, 0.5651528036041957 L 0.8306966418777902, 0.5567253265057756 L 0.8363209503448065, 0.5482401554194656 L 0.8418585900570815, 0.5396981696718108 L 0.8473089871436178, 0.5311002544771153 L 0.8526715767744559, 0.5224473008457056 L 0.8579458032192089, 0.5137402054915952 L 0.8631311199046526, 0.5049798707395574 L 0.868226989471368, 0.49616720443161605 L 0.8732328838294279, 0.48730311983296487 L 0.8781482842131237, 0.47838853553732535 L 0.8829726812347258, 0.46942437537175163 L 0.8877055749372713, 0.46041156830089375 L 0.8923464748463755, 0.4513510483307277 L 0.8968949000210602, 0.44224375441176383 L 0.9013503791035938, 0.4330906303417424 L 0.905712450368339, 0.42389262466782673 L 0.9099806617696016, 0.41465069058830456 L 0.9141545709884764, 0.4053657858538071 L 0.9182337454786853, 0.39603887266805643 L 0.9222177625114023, 0.3866709175881512 L 0.9261062092190615, 0.37726289142440167 L 0.9298986826381429, 0.3678157691397235 L 0.9335947897509318, 0.3583305297486016 L 0.9371941475262477, 0.3488081562156334 L 0.9406963829591385, 0.33924963535366387 L 0.9441011331095344, 0.32965595772152095 L 0.947408045139861, 0.32002811752136273 L 0.9506167763516032, 0.31036711249564763 L 0.9537269942208201, 0.30067394382373724 L 0.9567383764326041, 0.29094961601814306 L 0.9596506109144831, 0.281195136820428 L 0.9624633958687613, 0.27141151709677325 L 0.9651764398037938, 0.2615997707332208 L 0.9677894615641948, 0.25176091453060395 L 0.9703021903599739, 0.24189596809917496 L 0.9727143657945984, 0.23200595375294195 L 0.9750257378919783, 0.2220918964037254 L 0.9772360671223719, 0.2121548234549457 L 0.9793451244272076, 0.2021957646951522 L 0.9813526912428227, 0.1922157521913052 L 0.9832585595231124, 0.18221582018182203 L 0.9850625317610904, 0.17219700496939766 L 0.9867644210093565, 0.1621603448136119 L 0.98836405089947, 0.15210687982333337 L 0.9898612556602272, 0.142037651848932 L 0.9912558801348403, 0.13195370437431123 L 0.9925477797970166, 0.12185608240877054 L 0.9937368207659356, 0.11174583237871029 L 0.9948228798201234, 0.10162400201918946 L 0.9958058444102225, 0.09149164026534784 L 0.9966856126706547, 0.08134979714370387 L 0.9974620934301782, 0.07119952366333937 L 0.9981352062213357, 0.06104187170698247 L 0.9987048812887928, 0.05087789392199993 L 0.9991710595965675, 0.04070864361131028 L 0.9995336928341475, 0.030535174624229073 L 0.9997927434214972, 0.020358541247257358 L 0.999948184512952, 0.010179798094825013 L 1.0, 0.0 L 1.1 ,0.0\", \"type\": \"path\"}, {\"fillcolor\": \"rgba(215,48,39, 0.75)\", \"layer\": \"below\", \"line\": {\"color\": \"rgba(215,48,39, 0.75)\", \"width\": 0.45}, \"path\": \"M 0.6236669753639553, 0.9061123020025585 L 0.6144106194702478, 0.9124141552399253 L 0.6050905916055498, 0.9186214541096055 L 0.5957078576134271, 0.9247335553431707 L 0.5862633898357434, 0.9307498255376163 L 0.576758167011894, 0.9366696412210018 L 0.5671931741773794, 0.9424923889170612 L 0.5575694025617243, 0.9482174652087791 L 0.5478878494857551, 0.9538442768009224 L 0.5381495182582486, 0.9593722405815248 L 0.5283554180719555, 0.964800783682315 L 0.5185065638990187, 0.9701293435380836 L 0.5086039763857897, 0.9753573679449821 L 0.49864868174705895, 0.9804843151177486 L 0.488641711659707, 0.9855096537458534 L 0.47858410315579153, 0.9904328630485596 L 0.46847689851507934, 0.9952534328288912 L 0.45832114515703226, 0.9999708635265063 L 0.448117895532264, 1.0045846662694664 L 0.43786820701347184, 1.009094362924899 L 0.42757314178586087, 1.0134994861485467 L 0.4172337667370695, 1.017799579433199 L 0.4068511533466053, 1.021994197156 L 0.39642637757480775, 1.0260829046246294 L 0.3859605197513446, 1.030065278122349 L 0.3754546644632572, 1.0339409049519142 L 0.3649099004425625, 1.0377093834783413 L 0.3543273204534274, 1.0413703231705302 L 0.3437080211789251, 1.0449233446417339 L 0.33305310310738323, 1.0483680796888768 L 0.32236367041834074, 1.05170417133071 L 0.3116408308681194, 1.0549312738448076 L 0.3008856956750273, 1.0580490528033921 L 0.2900993794042009, 1.061057185107993 L 0.2792829998521018, 1.0639553590229296 L 0.26843767793067985, 1.066743274207616 L 0.25756453755120956, 1.0694206417476857 L 0.24666470550782055, 1.0719871841849324 L 0.23573931136072435, 1.0744426355460637 L 0.22478948731915932, 1.076786741370263 L 0.21381636812405688, 1.0790192587355603 L 0.20282109093044778, 1.0811399562840065 L 0.19180479518961857, 1.0831486142456486 L 0.18076862253102732, 1.0850450244613055 L 0.1697137166439974, 1.0868289904041395 L 0.158641223159194, 1.088500327200022 L 0.147552289529903, 1.0900588616466929 L 0.13644806491311795, 1.0915044322317091 L 0.12532970005045216, 1.092836889149183 L 0.1141983471488872, 1.0940560943153064 L 0.10305515976136705, 1.09516192138266 L 0.09190129266725497, 1.0961542557533077 L 0.08073790175266307, 1.097032994590672 L 0.06956614389066633, 1.0977980468301916 L 0.058387176821414075, 1.098449333188757 L 0.04720215903215286, 1.0989867861729292 L 0.03601224963717194, 1.0994103500859314 L 0.024818608257681736, 1.0997199810334228 L 0.013622394901641827, 1.0999156469280469 L 0.0024247698435487432, 1.0999973274927561 L -0.008773106495804943, 1.0999650142629143 L -0.01997007366958662, 1.0998187105871728 L -0.031164971325181392, 1.099558431627124 L -0.04235663932443981, 1.09918420435573 L -0.0535439178639056, 1.0986960675545279 L -0.06472564759500649, 1.0980940718096093 L -0.0759006697441981, 1.0973782795063798 L -0.08706782623304932, 1.0965487648230934 L -0.09822595979825559, 1.0956056137231645 L -0.10937391411156666, 1.09454892394626 L -0.12051053389961744, 1.0933788049981714 L -0.13163466506365135, 1.092095378139465 L -0.14274515479912012, 1.0906987763729157 L -0.15384085171514958, 1.0891891444297255 L -0.16492060595385954, 1.0875666387545233 L -0.17598326930952646, 1.0858314274891525 L -0.18702769534757022, 1.0839836904552471 L -0.19805273952336191, 1.0820236191355952 L -0.2090572593008344, 1.0799514166542974 L -0.22004011427088394, 1.0777672977557153 L -0.23100016626955133, 1.0754714887822177 L -0.2419362794959714, 1.0730642276507252 L -0.2528473206300786, 1.0705457638280536 L -0.2637321589500513, 1.0679163583050617 L -0.2745896664494913, 1.065176283569606 L -0.28541871795432044, 1.0623258235782995 L -0.2962181912393829, 1.0593652737270882 L -0.306986967144742, 1.056294940820637 L -0.3177239296916612, 1.0531151430405359 L -0.32842796619825293, 1.0498262099123261 L -0.33909796739478715, 1.0464284822713514 L -0.349732827538646, 1.0429223122274371 L -0.3603314445289137, 1.0393080631284002 L -0.3275740404808306, 0.9448255119349092 L -0.3179389341260418, 0.9481111929340337 L -0.30827087944980647, 0.9512986202466831 L -0.2985708783620481, 0.95438746355666 L -0.2888399360833283, 0.9573774027641235 L -0.27907906104067454, 0.9602681280187609 L -0.26928926476307535, 0.9630593397518983 L -0.2594715617766549, 0.965750748707545 L -0.24962696949953753, 0.9683420759723689 L -0.23975650813641025, 0.9708330530046015 L -0.2298612005727987, 0.9732234216618667 L -0.2199420722690649, 0.975512934227932 L -0.21000015115413756, 0.9777013534383796 L -0.20003646751898538, 0.9797884525051956 L -0.19005205390984944, 0.9817740151402703 L -0.18004794502123808, 0.9836578355778137 L -0.17002517758870017, 0.985439718595679 L -0.15998479028138768, 0.9871194795355932 L -0.14992782359441775, 0.9886969443222939 L -0.13985531974104506, 0.9901719494815686 L -0.12976832254465465, 0.991544342157196 L -0.11966787733059212, 0.9928139801267861 L -0.10955503081783402, 0.9939807318165194 L -0.09943083101051514, 0.9950444763147818 L -0.08929632708932325, 0.9960051033846948 L -0.0791525693027721, 0.9968625134755393 L -0.0690006088583619, 0.9976166177330725 L -0.05884149781364225, 0.9982673380087356 L -0.048676288967186905, 0.9988146068677525 L -0.038506035749490734, 0.9992583675961182 L -0.02833179211380126, 0.9995985742064764 L -0.018154612426896925, 0.9998351914428844 L -0.007975551359822674, 0.9999681947844675 L 0.0022043362214079483, 0.9999975704479601 L 0.012383995365128932, 0.9999233153891335 L 0.02256237114334703, 0.9997454373031116 L 0.0327384087610654, 0.999463954623574 L 0.0429110536655935, 0.9990788965208446 L 0.053079251655830974, 0.99859030289887 L 0.06324194899151483, 0.9979982243910831 L 0.07339809250242096, 0.9973027223551564 L 0.08354662969750451, 0.9965038688666432 L 0.09368650887397004, 0.9956017467115089 L 0.10381667922626109, 0.9945964493775511 L 0.11393609095495649, 0.9934880810447119 L 0.12404369537556176, 0.9922767565742809 L 0.13413844502718456, 0.9909626014969934 L 0.14421929378108544, 0.9895457520000199 L 0.15428519694908854, 0.9880263549128541 L 0.164335111391843, 0.9864045676920958 L 0.17436799562692595, 0.9846805584051349 L 0.1843828099367707, 0.982854505712733 L 0.19437851647641533, 0.9809265988505093 L 0.2043540793810539, 0.9788970376093299 L 0.21430846487338576, 0.9767660323146033 L 0.22424064137074592, 0.974533803804484 L 0.2341495795920087, 0.9722005834069869 L 0.24403425266425438, 0.9697666129160144 L 0.25389363622918343, 0.9672321445662996 L 0.2637267085492735, 0.9645974410072663 L 0.27353245061366116, 0.9618627752758109 L 0.2833098462437449, 0.9590284307680068 L 0.29305788219849155, 0.9560947012097364 L 0.30277554827943925, 0.9530618906262515 L 0.31246183743538647, 0.9499303133106671 L 0.3221157458667522, 0.946700293791391 L 0.33173627312960224, 0.943372166798492 L 0.3413224222393247, 0.9399462772290128 L 0.3508731997739496, 0.9364229801112263 L 0.36038761597709795, 0.9328026405678448 L 0.36986468486055024, 0.9290856337781819 L 0.37930342430642683, 0.9252723449392718 L 0.3887028561689644, 0.9213631692259515 L 0.39806200637588346, 0.917358511749908 L 0.40737990502933086, 0.9132587875176966 L 0.41665558650639295, 0.9090644213877329 L 0.425888089559163, 0.9047758480262647 L 0.4350764574143559, 0.9003935118623269 L 0.4442197378724609, 0.8959178670416849 L 0.4533169834064172, 0.8913493773797714 L 0.4623672512598088, 0.88668851631362 L 0.4713696035445625, 0.8819357668528032 L 0.4803231073381413, 0.8770916215293773 L 0.489226834780226, 0.8721565823468407 L 0.49807986316886826, 0.8671311607281112 L 0.5068812750561129, 0.8620158774625264 L 0.5156301583430721, 0.8568112626518738 L 0.524325606374449, 0.8515178556554561 L 0.532966718032494, 0.8461362050341966 L 0.5415525978303882, 0.8406668684937915 L 0.5500823560050452, 0.835110412826914 L 0.5585551086093161, 0.8294674138544775 L 0.5669699776035957, 0.8237384563659622 L 0.6236669753639553 ,0.9061123020025585\", \"type\": \"path\"}, {\"fillcolor\": \"rgba(244,109,67, 0.75)\", \"layer\": \"below\", \"line\": {\"color\": \"rgba(244,109,67, 0.75)\", \"width\": 0.45}, \"path\": \"M -0.3927990978915923, 1.0274769431454662 L -0.4033508798501255, 1.0233807051748287 L -0.41385995352809773, 1.0191761078762203 L -0.4243252061859828, 1.0148635964479282 L -0.4347455297241852, 1.0104436275145872 L -0.4451198208003712, 1.0059166690788286 L -0.4554469809462936, 1.001283200471728 L -0.46572591668410246, 0.9965437123020509 L -0.4759555396421266, 0.9916987064043051 L -0.48613476667011274, 0.9867486957856064 L -0.49626251995391607, 0.9816942045713569 L -0.5063377271296214, 0.9765357679497506 L -0.5163593213970901, 0.9712739321151046 L -0.5263262416329146, 0.9659092542100272 L -0.5362374325027772, 0.9604423022664244 L -0.5460918445731916, 0.9548736551453545 L -0.5558884344226184, 0.9492039024757382 L -0.5656261647519502, 0.9434336445919236 L -0.5753040044943426, 0.9375634924701226 L -0.5849209289243879, 0.9315940676637177 L -0.5944759197666155, 0.9255260022374503 L -0.6039679653033128, 0.9193599387004943 L -0.6133960604816487, 0.9130965299384253 L -0.6227592070200914, 0.9067364391440917 L -0.6320564135141111, 0.9002803397473919 L -0.641286695541154, 0.893728915343969 L -0.6504490757648759, 0.8870828596228307 L -0.6595425840386252, 0.8803428762928983 L -0.6685662575081678, 0.8735096790084941 L -0.6775191407136361, 0.8665839912937789 L -0.6864002856906977, 0.8595665464661413 L -0.6952087520709272, 0.8524580875585522 L -0.7039436071813788, 0.8452593672408895 L -0.7126039261433395, 0.837971147740242 L -0.7211887919702588, 0.8305942007602022 L -0.7296972956648422, 0.823129307399157 L -0.7381285363153005, 0.8155772580675801 L -0.7464816211907412, 0.8079388524043406 L -0.7547556658356925, 0.8002148991920361 L -0.7629497941637552, 0.792406216271354 L -0.7710631385503646, 0.7845136304544755 L -0.7790948399246581, 0.7765379774375311 L -0.787044047860436, 0.7684801017121132 L -0.7949099206662096, 0.7603408564758576 L -0.8026916254743206, 0.7521211035421045 L -0.8103883383291296, 0.743821713248647 L -0.8179992442742584, 0.7354435643655753 L -0.8255235374388823, 0.7269875440022302 L -0.832960421123057, 0.7184545475132715 L -0.8403091078820764, 0.7098454784038772 L -0.8475688196098509, 0.7011612482340736 L -0.8547387876212964, 0.692402776522218 L -0.8618182527337234, 0.6835709906476374 L -0.8688064653472247, 0.6746668257524316 L -0.8757026855240443, 0.6656912246424591 L -0.8825061830669252, 0.6566451376875084 L -0.8892162375964253, 0.6475295227206693 L -0.8958321386271931, 0.6383453449369155 L -0.8143928532974483, 0.5803139499426504 L -0.808378397814932, 0.5886632024733357 L -0.8022783482426592, 0.5969501251704622 L -0.7960933504764038, 0.6051738405840537 L -0.7898240594065679, 0.613333477956756 L -0.7834711388488393, 0.621428173316034 L -0.7770352614739058, 0.6294570695656527 L -0.770517108736228, 0.6374193165764305 L -0.7639173708018875, 0.645314071276252 L -0.7572367464755063, 0.6531404977393377 L -0.7504759431262565, 0.6608977672747547 L -0.7436356766129621, 0.6685850585141594 L -0.7367166712082995, 0.67620155749877 L -0.7297196595221096, 0.6837464577655494 L -0.7226453824238268, 0.6912189604325978 L -0.7154945889640327, 0.6986182742837392 L -0.7082680362951437, 0.7059436158523009 L -0.7009664895912404, 0.7131942095040686 L -0.6935907219670501, 0.7203692875194126 L -0.6861415143960841, 0.7274680901745783 L -0.6786196556279466, 0.7344898658221277 L -0.6710259421048186, 0.7414338709705273 L -0.6633611778771292, 0.74829937036287 L -0.655626174518417, 0.7550856370547292 L -0.6478217510393994, 0.761791952491129 L -0.6399487338012534, 0.7684176065826267 L -0.6320079564281156, 0.774961897780502 L -0.624000259718816, 0.7814241331510374 L -0.615926491557851, 0.7878036284488898 L -0.607787506825607, 0.79409970818954 L -0.599584167307841, 0.8003117057208166 L -0.5913173416044326, 0.8064389632934824 L -0.5829879050374127, 0.8124808321308808 L -0.5745967395582828, 0.8184366724976289 L -0.5661447336546285, 0.8243058537673561 L -0.5576327822560443, 0.8300877544894775 L -0.5490617866393752, 0.8357817624549947 L -0.5404326543332868, 0.8413872747613184 L -0.5317462990221707, 0.8469036978761069 L -0.5230036404494023, 0.8523304477001113 L -0.5142056043199547, 0.8576669496290213 L -0.5053531222023803, 0.8629126386143073 L -0.4964471314301741, 0.8680669592230494 L -0.48748857500252474, 0.8731293656967494 L -0.4784784014844678, 0.8780993220091156 L -0.4694175649064455, 0.8829763019228223 L -0.4603070246632922, 0.8877597890452278 L -0.45114774541265096, 0.8924492768830516 L -0.4419406969728297, 0.8970442688960057 L -0.43268685422011505, 0.9015442785493682 L -0.42338719698554766, 0.9059488293655007 L -0.414042709951176, 0.9102574549742981 L -0.404654382545792, 0.9144696991625714 L -0.3952232088401683, 0.9185851159223519 L -0.3857501874418025, 0.9226032694981166 L -0.37623632138917973, 0.9265237344329275 L -0.3666826180455686, 0.9303460956134806 L -0.3570900889923566, 0.9340699483140601 L -0.3927990978915923 ,1.0274769431454662\", \"type\": \"path\"}, {\"fillcolor\": \"rgba(253,174,97, 0.75)\", \"layer\": \"below\", \"line\": {\"color\": \"rgba(253,174,97, 0.75)\", \"width\": 0.45}, \"path\": \"M -0.9154410113828011, 0.6098915925625098 L -0.9217268593168384, 0.6003495621834977 L -0.9279132504637986, 0.5907427524851304 L -0.9339995172955728, 0.581072200067803 L -0.9399850030877336, 0.5713389484099205 L -0.9458690619903956, 0.5615440477553025 L -0.951651059097906, 0.5516885549998605 L -0.957330370517352, 0.5417735335775546 L -0.9629063834358803, 0.5318000533456477 L -0.9683784961868214, 0.5217691904692636 L -0.973746118314611, 0.5116820273052669 L -0.979008670638502, 0.501539652285473 L -0.9841655853150596, 0.4913431597992041 L -0.9892163058994325, 0.4810936500752016 L -0.9941602874053955, 0.4707922290629078 L -0.9989969963641547, 0.460440008313132 L -1.0037259108819103, 0.4500381048581103 L -1.0083465206961701, 0.4395876410909755 L -1.0128583272308085, 0.42908974464464744 L -1.0172608436498638, 0.4185455482701588 L -1.0215535949100694, 0.40795618971442776 L -1.0257361178121123, 0.3973228115974925 L -1.0298079610506137, 0.38664656128921937 L -1.033768685262825, 0.3759285907854983 L -1.0376178630760375, 0.3651700565839398 L -1.0413550791536965, 0.3543721195590855 L -1.044979930240217, 0.3435359448371469 L -1.048492025204497, 0.3326627016702849 L -1.0518909850821196, 0.3217535633104444 L -1.055176443116247, 0.3108097068827577 L -1.0583480447971922, 0.29983231325852905 L -1.0614054479006727, 0.28882256692781555 L -1.0643483225247372, 0.2777816558716179 L -1.0671763511253631, 0.2667107714336936 L -1.0698892285507196, 0.25561110819200816 L -0.972626571409745, 0.23237373472000739 L -0.9701603192048754, 0.24246433766699416 L -0.9675893841133975, 0.25252877806510715 L -0.964914043546066, 0.26256596993437775 L -0.9621345861792655, 0.2725748302350264 L -0.9592513119238608, 0.28255427898432517 L -0.956264531892836, 0.2925032393731313 L -0.9531745683677243, 0.3024206378820771 L -0.9499817547638336, 0.3123054043974062 L -0.9466864355942695, 0.32215647232644135 L -0.9432889664327613, 0.3319727787126725 L -0.9397897138752953, 0.34175326435045295 L -0.9361890555005578, 0.3514968738992903 L -0.9324873798291929, 0.36120255599772044 L -0.9286850862818812, 0.37086926337675247 L -0.9247825851362397, 0.3804959529728716 L -0.9207802974825531, 0.39008158604058857 L -0.9166786551783365, 0.3996251282645231 L -0.9124781008017366, 0.40912554987100935 L -0.908179087603777, 0.4185818257392109 L -0.9037820794594504, 0.42799293551173434 L -0.8992875508176659, 0.4373578637047287 L -0.8946959866500541, 0.44667559981745825 L -0.8900078823986382, 0.45594513844133905 L -0.8852237439223736, 0.4651654793684244 L -0.8803440874425648, 0.4743356276993306 L -0.8753694394871638, 0.4834545939505888 L -0.8703003368339564, 0.4925213941614133 L -0.8651373264526417, 0.5015350499998731 L -0.859880965445814, 0.5104945888684568 L -0.8545318209888486, 0.5193990440090186 L -0.8490904702687025, 0.5282474546070937 L -0.843557500421635, 0.537038865895573 L -0.837933508469853, 0.5457723292577251 L -0.8322191012570919, 0.5544469023295543 L -0.9154410113828011 ,0.6098915925625098\", \"type\": \"path\"}, {\"fillcolor\": \"rgba(254,224,139, 0.75)\", \"layer\": \"below\", \"line\": {\"color\": \"rgba(254,224,139, 0.75)\", \"width\": 0.45}, \"path\": \"M -1.0773902417381882, 0.22187894674197595 L -1.0870566849693946, 0.16824911192440425 L -1.0940552581355734, 0.11420635772978717 L -1.0983687852383557, 0.05988331665847267 L -1.0999866799578273, 0.0054133090948701055 L -1.0989049716336259, -0.04906998388934216 L -1.0951263150097927, -0.10343284861721797 L -1.0886599837194626, -0.15754186696855993 L -1.0795218475253798, -0.21126424381657877 L -1.0677343333720994, -0.2644681329355932 L -1.05332637034546, -0.3170229605799224 L -1.0363333186744064, -0.36879974593984133 L -1.016796882949411, -0.41967141768812655 L -0.9947650097704704, -0.4695131258403282 L -0.9702917700758749, -0.5182025481633854 L -0.9434372264405368, -0.5656201903806013 L -0.9142672856695613, -0.6116496794362056 L -0.882853537048823, -0.656178049099772 L -0.8492730766495149, -0.6990960172095587 L -0.8136083181178689, -0.7402982538743509 L -0.7759467904144064, -0.7796836399755874 L -0.7363809229991105, -0.817155515335348 L -0.6950078189897254, -0.8526219159411428 L -0.6519290168498922, -0.8859957996453105 L -0.607250241192003, -0.9171952597850985 L -0.5610811433063436, -0.9461437261991681 L -0.5135350320533266, -0.9727701531471805 L -0.4647285957792667, -0.9970091936712676 L -0.414781615938174, -1.0188013599714703 L -0.3638166731223948, -1.038093169401549 L -0.31195884622356573, -1.0548372757268591 L -0.2593354054622142, -1.068992585322157 L -0.2060755000393598, -1.0805243580241621 L -0.15230984117669644, -1.0894042923913645 L -0.09817038132324402, -1.0956105951618254 L -0.043789990315762604, -1.0991280347385128 L 0.01069787071230333, -1.0999479785709063 L 0.06515947687305053, -1.0980684143411241 L 0.11946116771364368, -1.0934939549025833 L 0.1734696752477136, -1.0862358269590693 L 0.22705245102355745, -1.0763118435119978 L 0.28007799142644296, -1.0637463601434927 L 0.33241616041665856, -1.0485702152425684 L 0.38393850891124565, -1.030820654321114 L 0.43451859002557786, -1.0105412386054238 L 0.48403226940110855, -0.9877817381276153 L 0.5323580298576917, -0.9625980095793037 L 0.5793772696227856, -0.9350518592273085 L 0.6249745934056178, -0.9052108912278304 L 0.6690380956019536, -0.8731483417113678 L 0.7114596349344396, -0.8389428990455513 L 0.7521350998544678, -0.8026785107170303 L 0.6837591816858798, -0.7297077370154821 L 0.646781486304036, -0.762675362768683 L 0.6082164505472305, -0.793771219737607 L 0.5681587212778343, -0.8229189920253003 L 0.5267066087479868, -0.8500471447520985 L 0.4839618453251742, -0.8750890996175488 L 0.44002933581918957, -0.897983398297832 L 0.39501690002325257, -0.9186738532776579 L 0.34903500810113236, -0.9371096857464671 L 0.30219650946968957, -0.9532456502205168 L 0.25461635584222087, -0.9670421455849934 L 0.20641131911232494, -0.9784653122836343 L 0.1576997047706487, -0.9874871154173356 L 0.10860106155785788, -0.9940854135478029 L 0.059235888066409566, -0.9982440130373854 L 0.009725337011184845, -0.999952707791733 L -0.03980908210523873, -0.999207304307739 L -0.0892458012029491, -0.9960096319652957 L -0.13846349197881494, -0.9903675385376041 L -0.18734136367214524, -0.9822948709310565 L -0.23575945951110377, -0.9718114412019608 L -0.28359895111233246, -0.9589429779335082 L -0.33074243011126797, -0.9437210630923171 L -0.37707419630743083, -0.9261830545195183 L -0.42248054161751514, -0.9063719942466069 L -0.46685002913938783, -0.8843365028610731 L -0.5100737666421306, -0.8601306601810619 L -0.5520456738109117, -0.8338138725319076 L -0.5926627425908111, -0.8054507269502822 L -0.6318252899906595, -0.7751108326737661 L -0.669437202726464, -0.7428686503048618 L -0.7054061731040058, -0.7088033090687158 L -0.739643925561699, -0.6729984126130462 L -0.7720664333177407, -0.6355418338268715 L -0.802594124589839, -0.5965254991816108 L -0.8311520778814193, -0.5560451631238232 L -0.8576702058550334, -0.5142001730732738 L -0.8820834273417043, -0.47109322560307765 L -0.904331827064064, -0.42683011440029833 L -0.9243608026812826, -0.38151947062556957 L -0.9421211987949148, -0.3352724963089466 L -0.9575694275867818, -0.28820269143629307 L -0.9706675757928176, -0.24042557539599377 L -0.9813834977503452, -0.19205840346961706 L -0.9896908942904206, -0.1432198790623272 L -0.9955693772816298, -0.09402986237928905 L -0.9990045196669325, -0.044609076263038325 L -0.999987890870752, 0.00492119008624555 L -0.9985170774894142, 0.0544393787804297 L -0.9945956892141575, 0.10382396157253378 L -0.9882333499721768, 0.15295373811309476 L -0.9794456743074438, 0.2017081334017963 L -1.0773902417381882 ,0.22187894674197595\", \"type\": \"path\"}, {\"fillcolor\": \"rgba(217,239,139, 0.75)\", \"layer\": \"below\", \"line\": {\"color\": \"rgba(217,239,139, 0.75)\", \"width\": 0.45}, \"path\": \"M 0.7769767079031984, -0.7786573029105345 L 0.7849966340560197, -0.7705714013125063 L 0.7929324156929316, -0.7624029014526192 L 0.8007832021701524, -0.7541526789199365 L 0.8085481519546136, -0.7458216180634478 L 0.8162264327141576, -0.7374106118972799 L 0.8238172214067635, -0.728920562004969 L 0.8313197043687626, -0.720352378442824 L 0.8387330774020622, -0.7117069796423713 L 0.8460565458603426, -0.7029852923119132 L 0.8532893247342416, -0.6941882513371875 L 0.8604306387354945, -0.6853167996811613 L 0.8674797223800439, -0.676371888282949 L 0.8744358200700869, -0.6673544759558856 L 0.881298186175074, -0.6582655292847445 L 0.8880660851116282, -0.649106022522135 L 0.8947387914223984, -0.6398769374840649 L 0.9013155898538169, -0.6305792634447048 L 0.8193778089580153, -0.5732538758588225 L 0.8133989012930894, -0.5817063068036954 L 0.8073328046469347, -0.5900963841110318 L 0.8011801692500673, -0.5984232084406768 L 0.7949416546091699, -0.6066858872326232 L 0.7886179294364035, -0.6148835348026809 L 0.7822096715777223, -0.6230152724374194 L 0.7757175679402195, -0.6310802284883522 L 0.7691423144184932, -0.6390775384653756 L 0.7624846158200564, -0.6470063451294283 L 0.7557451857897841, -0.6548657985843853 L 0.7489247467334214, -0.6626550563681536 L 0.7420240297401433, -0.6703732835429816 L 0.7350437745041941, -0.6780196527849525 L 0.7279847292455931, -0.6855933444726695 L 0.7208476506299377, -0.6930935467751084 L 0.7136333036872906, -0.700519455738642 L 0.7063424617301803, -0.7078702753732131 L 0.7769767079031984 ,-0.7786573029105345\", \"type\": \"path\"}, {\"fillcolor\": \"rgba(166,217,106, 0.75)\", \"layer\": \"below\", \"line\": {\"color\": \"rgba(166,217,106, 0.75)\", \"width\": 0.45}, \"path\": \"M 0.920677818342524, -0.6019571037973143 L 0.9269245641214787, -0.5922928772391297 L 0.9330698697981408, -0.5825638317599889 L 0.9391130628469773, -0.5727710320801579 L 0.9450534819173837, -0.5629155498969892 L 0.9508904769060593, -0.5529984637676375 L 0.9566234090281546, -0.5430208589910264 L 0.9622516508871761, -0.5329838274890751 L 0.9677745865436485, -0.5228884676872022 L 0.9731916115825203, -0.5127358843941167 L 0.9785021331793103, -0.5025271886809105 L 0.9837055701649838, -0.4922634977594666 L 0.9888013530895547, -0.4819459348601935 L 0.9937889242844047, -0.4715756291091027 L 0.9986677379233124, -0.4611537154042396 L 1.0034372600821877, -0.45068133429148394 L 1.0080969687975025, -0.44015963183973095 L 1.0126463541234136, -0.42958975951546846 L 1.0170849181875685, -0.4189728740567665 L 1.021412175245593, -0.408310137346682 L 1.025627651734248, -0.39760271628610905 L 1.0297308863232566, -0.3868517826660755 L 1.0337214299657895, -0.3760585130395051 L 1.0375988459476078, -0.3652240885924593 L 1.0413627099348566, -0.35434969501487085 L 1.0450126100205017, -0.3434365223707855 L 1.0485481467694087, -0.33248576496812454 L 1.051968933262055, -0.321498621227983 L 1.055274595136875, -0.31047629355347756 L 1.0584647706312262, -0.2994199881981591 L 1.0615391106209835, -0.28833091513400333 L 1.0644972786587423, -0.2772102879189949 L 1.067338951010642, -0.2660593235643189 L 1.0700638166917913, -0.2548792424011744 L 1.0726715775003046, -0.2436712679472248 L 1.0751619480499341, -0.23243662677269933 L 0.9774199527726672, -0.21130602433881757 L 0.9751559795457314, -0.22151933449747707 L 0.9727852879016284, -0.2317084021828858 L 0.9703081372824016, -0.24187211233119899 L 0.9677247987806747, -0.25200935265363167 L 0.9650355551099848, -0.2621190137581848 L 0.962240700573842, -0.2721999892710537 L 0.9593405410335225, -0.2822511759577068 L 0.9563353938745954, -0.2922714738436209 L 0.9532255879721896, -0.30225978633465866 L 0.9500114636550014, -0.3122150203370777 L 0.9466933726680513, -0.3221360863771553 L 0.9432716781341889, -0.33202189872041754 L 0.939746754514354, -0.34187137549045915 L 0.9361189875665968, -0.3516834387873413 L 0.9323887743038618, -0.36145701480555364 L 0.928556522950539, -0.371191033951529 L 0.9246226528977896, -0.38088443096069674 L 0.9205875946576487, -0.3905361450140622 L 0.9164517898159112, -0.40014511985430085 L 0.9122156909838068, -0.409710303901349 L 0.9078797617484657, -0.4192306503674905 L 0.903444476622186, -0.4287051173719115 L 0.8989103209905043, -0.43813266805472134 L 0.8942777910590761, -0.44751227069042415 L 0.889547393799373, -0.45684289880082773 L 0.8847196468932003, -0.4661235312673787 L 0.879795078676044, -0.47535315244291104 L 0.874774228079251, -0.4845307522627955 L 0.8696576445710495, -0.4936553263554785 L 0.8644458880964175, -0.5027258761523977 L 0.8591395290158033, -0.5117414089972628 L 0.8537391480427066, -0.520700938254689 L 0.8482453361801279, -0.5296034834181718 L 0.8426586946558897, -0.5384480702173906 L 0.83697983485684, -0.5472337307248311 L 0.920677818342524 ,-0.6019571037973143\", \"type\": \"path\"}, {\"fillcolor\": \"rgba(102,189,99, 0.75)\", \"layer\": \"below\", \"line\": {\"color\": \"rgba(102,189,99, 0.75)\", \"width\": 0.45}, \"path\": \"M 1.081932431415999, -0.19855028040842665 L 1.083643085934891, -0.18899116991411774 L 1.0852692853127928, -0.17941733014583652 L 1.0868109028097297, -0.1698295072533051 L 1.088267818277726, -0.16022844847603865 L 1.0896399181701695, -0.15061490208510836 L 1.0909270955506605, -0.1409896173248239 L 1.0921292501013469, -0.13135334435434015 L 1.0932462881307417, -0.12170683418919247 L 1.0942781225810252, -0.11205083864276537 L 1.0952246730348303, -0.10238611026769899 L 1.0960858657215093, -0.09271340229723786 L 1.0968616335228845, -0.08303346858652676 L 1.0975519159784772, -0.07334706355385788 L 1.098156659290222, -0.06365494212187449 L 1.0986758163266581, -0.05395785965873483 L 1.0991093466266026, -0.04425657191924159 L 1.0994572164023049, -0.03455183498594119 L 0.9995065603657316, -0.031410759078128354 L 0.9991903151150932, -0.04023324719931053 L 0.9987961966605982, -0.04905259968975893 L 0.9983242357183837, -0.05786812920170408 L 0.9977744690713429, -0.06667914868532535 L 0.9971469395662585, -0.07548497144229704 L 0.996441696110463, -0.08428491117930714 L 0.9956587936680275, -0.09307828206154453 L 0.9947982932554773, -0.10186439876615033 L 0.9938602619370378, -0.1106425765356295 L 0.9928447728194062, -0.11941213123121831 L 0.9917519050460549, -0.12817237938620354 L 0.990581743791063, -0.1369226382591894 L 0.9893343802524781, -0.14566222588730784 L 0.9880099116452088, -0.15439046113936825 L 0.9866084411934479, -0.16310666376894228 L 0.985130078122628, -0.17181015446737974 L 0.9835749376509081, -0.18050025491675148 L 1.081932431415999 ,-0.19855028040842665\", \"type\": \"path\"}], \"showlegend\": false, \"title\": \"Pairwise interactions between common egg mutation genotypes\", \"width\": 800, \"xaxis\": {\"visible\": false}, \"yaxis\": {\"visible\": false}}, {\"showLink\": true, \"linkText\": \"Export to plot.ly\", \"plotlyServerURL\": \"https://plot.ly\"})});</script>"
      ]
     },
     "metadata": {},
     "output_type": "display_data"
    }
   ],
   "source": [
    "data = ideograms + ribbon_info\n",
    "layout['shapes'] = shapes\n",
    "layout['annotations'] = annotations\n",
    "fig = go.Figure(data=data, layout=layout)\n",
    "from plotly.offline import download_plotlyjs, init_notebook_mode,  iplot, plot\n",
    "init_notebook_mode(connected=True)\n",
    "iplot(fig)"
   ]
  },
  {
   "cell_type": "code",
   "execution_count": null,
   "metadata": {},
   "outputs": [],
   "source": []
  }
 ],
 "metadata": {
  "kernelspec": {
   "display_name": "Python [conda env:py3]",
   "language": "python",
   "name": "conda-env-py3-py"
  },
  "language_info": {
   "codemirror_mode": {
    "name": "ipython",
    "version": 3
   },
   "file_extension": ".py",
   "mimetype": "text/x-python",
   "name": "python",
   "nbconvert_exporter": "python",
   "pygments_lexer": "ipython3",
   "version": "3.6.7"
  }
 },
 "nbformat": 4,
 "nbformat_minor": 2
}
