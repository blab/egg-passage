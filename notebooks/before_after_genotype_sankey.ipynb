{
 "cells": [
  {
   "cell_type": "code",
   "execution_count": 5,
   "metadata": {},
   "outputs": [],
   "source": [
    "import pandas as pd\n",
    "import numpy as np\n",
    "import json\n",
    "from Bio import SeqIO\n",
    "import seaborn as sns\n",
    "import matplotlib.pyplot as plt\n",
    "from ipysankeywidget import SankeyWidget\n",
    "from ipywidgets import Layout\n",
    "%matplotlib inline"
   ]
  },
  {
   "cell_type": "code",
   "execution_count": 6,
   "metadata": {},
   "outputs": [],
   "source": [
    "df = pd.read_csv('../dataframes/h3n2_ha_12y_hi_egg.csv')"
   ]
  },
  {
   "cell_type": "code",
   "execution_count": 336,
   "metadata": {},
   "outputs": [],
   "source": [
    "sites = [col[3:] for col in df.columns if col[0:3]=='mut']\n",
    "sites = sorted(sites)"
   ]
  },
  {
   "cell_type": "code",
   "execution_count": 337,
   "metadata": {},
   "outputs": [],
   "source": [
    "colors = ['rgba(26,152,80, 0.9)',\n",
    "          'rgba(254,224,139, 0.9)',\n",
    "          'rgba(50,136,189, 0.9)',\n",
    "          'rgba(244,109,67, 0.9)',\n",
    "          'rgba(253,174,97, 0.9)',\n",
    "          'rgba(217,239,139, 0.9)',\n",
    "          'rgba(102,189,99, 0.9)',\n",
    "         'rgba(215,48,39, 0.9)',\n",
    "         'rgba(166,217,106, 0.9)']\n",
    "\n",
    "#Manually dictate order for more clear aesthetics\n",
    "site_order = {'138': ['138A', '138S'],\n",
    "              '156': ['156H', '156R', '156Q', '156N'],\n",
    "              '160': ['160T', '160A', '160I', '160R', '160K'], \n",
    "              '186': ['186G', '186V', '186D'], \n",
    "              '194': ['194L', '194P', '194M', '194I'], \n",
    "              '203': ['203T'], \n",
    "              '219': ['219S', '219F', '219Y'], \n",
    "              '225': ['225D', '225N', '225G'], \n",
    "              '246': ['246N', '246H', '246S', '246D']}\n",
    "for site in sites:\n",
    "    site_order[site] = [site_order[site], [site+'mut'], [x+'_after' for x in site_order[site]]]\n",
    "\n",
    "site_order['160'][2] = ['160T_after', '160K_after', '160A_after', '160I_after', '160R_after']\n",
    "site_order['186'][2] = site_order['186'][2]+['186A_after', '186E_after', '186I_after', '186R_after', '186S_after']\n",
    "site_order['194'][2] = site_order['194'][2]+['194V_after']\n",
    "site_order['203'][2] = site_order['203'][2]+['203K_after', '203I_after']\n",
    "site_order['246'][2] = site_order['246'][2]+['246K_after', '246T_after']\n",
    "\n",
    "sankey_data = {}\n",
    "for site in sites:\n",
    "    sankey_data[site] = {}\n",
    "    subdicts_to_add = ['before', 'before_mut', 'before_nomut', 'after', 'after_mut', 'after_nomut']\n",
    "    for subdict in subdicts_to_add:\n",
    "        sankey_data[site][subdict] = {}\n",
    "            \n",
    "    before_genotypes = list(df[str(site)+'_lastnode'].unique())\n",
    "    after_genotypes = list(df[str(site)].unique())\n",
    "    genotypes = list(set(before_genotypes+after_genotypes))\n",
    "    cmap = {genotype:colors[genotypes.index(genotype)] for genotype in genotypes}\n",
    "        \n",
    "    for genotype in before_genotypes:\n",
    "        for k,v in sankey_data[site].items():\n",
    "            if 'before' in k:\n",
    "                sankey_data[site][k][genotype] = {'count': 0, 'color': 'rgba(175,175,175,0.5)'}\n",
    "        sankey_data[site]['before'][genotype]['count'] = len(df[df[str(site)+'_lastnode']==genotype])\n",
    "        sankey_data[site]['before_mut'][genotype]['count'] = len(df[(df[str(site)+'_lastnode']==genotype)&(df['mut'+str(site)]==True)])\n",
    "        sankey_data[site]['before_mut'][genotype]['color'] = cmap[genotype]\n",
    "        sankey_data[site]['before_nomut'][genotype]['count'] = len(df[(df[str(site)+'_lastnode']==genotype)&(df['mut'+str(site)]==False)])\n",
    "    \n",
    "    for genotype in after_genotypes:\n",
    "        for k,v in sankey_data[site].items():\n",
    "            if 'after' in k:\n",
    "                sankey_data[site][k][genotype] = {'count': 0, 'color': 'rgba(175,175,175,0.5)'}\n",
    "        sankey_data[site]['after'][genotype]['count'] = len(df[df[str(site)]==genotype])\n",
    "        sankey_data[site]['after_mut'][genotype]['count'] = len(df[(df[str(site)]==genotype)&(df['mut'+str(site)]==True)])\n",
    "        sankey_data[site]['after_mut'][genotype]['color'] = cmap[genotype]\n",
    "        sankey_data[site]['after_nomut'][genotype]['count'] = len(df[(df[str(site)]==genotype)&(df['mut'+str(site)]==False)])\n",
    "    \n",
    "    sankey_data[site]['order'] = site_order[site]\n"
   ]
  },
  {
   "cell_type": "code",
   "execution_count": 347,
   "metadata": {
    "scrolled": false
   },
   "outputs": [
    {
     "data": {
      "application/vnd.jupyter.widget-view+json": {
       "model_id": "55e685fb13b0479eb640bef6c31cbc6c",
       "version_major": 2,
       "version_minor": 0
      },
      "text/plain": [
       "SankeyWidget(align_link_types=True, groups=[{'id': 'before', 'title': 'before egg-passaging', 'nodes': ['246N'…"
      ]
     },
     "metadata": {},
     "output_type": "display_data"
    }
   ],
   "source": [
    "layout = Layout(width=\"1000\", height=\"400\")\n",
    "\n",
    "site='246'\n",
    "\n",
    "links = ([\n",
    "    {'source': (site+key) , 'target': (site+'mut'), \n",
    "     'value': value['count'], 'type': 'x', 'color': 'rgba(253,174,97, 0.8)'}\n",
    "    for (key, value) in sankey_data[site]['before_mut'].items()] +\n",
    "    [{'source': (site+key) , 'target': (site+'mut'), \n",
    "      'value': value['count'], 'type': 'y', 'color': value['color']}\n",
    "    for (key, value) in sankey_data[site]['before_nomut'].items()] +\n",
    "    [{'source': (site+'mut') , 'target': (site+key+'_after'), \n",
    "      'value': value['count'], 'type': 'x', 'color': 'rgba(215,48,39, 0.8)'}\n",
    "    for (key, value) in sankey_data[site]['after_mut'].items()] + \n",
    "    [{'source': (site+'mut') , 'target': (site+key+'_after'), \n",
    "      'value': value['count'], 'type': 'y', 'color': value['color']}\n",
    "    for (key, value) in sankey_data[site]['after_nomut'].items()])\n",
    "\n",
    "nodes = ([{'id': (site+key), 'title': (site+key), 'style':'process'} \n",
    "          for (key, value) in sankey_data[site]['before'].items()] + \n",
    "         [{'id': (site+'mut'), 'title': ''}] + \n",
    "         [{'id': (site+key+'_after'), 'title': (site+key), 'style':'process'} \n",
    "          for (key, value) in sankey_data[site]['after'].items()])\n",
    "\n",
    "\n",
    "groups = [{'id': 'before', 'title': 'before egg-passaging', 'nodes': [(site+key) for (key, value) in sankey_data[site]['before'].items()]},\n",
    "          {'id': 'mut', 'title': 'mutation', 'nodes': [(site+'mut')]},\n",
    "          {'id': 'after', 'title': 'after egg-passaging', 'nodes': [(site+key+'_after') for (key, value) in sankey_data[site]['after'].items()]}]\n",
    "\n",
    "order = sankey_data[site]['order']\n",
    "\n",
    "SankeyWidget(links=links, nodes=nodes, groups=groups, order=order, \n",
    "             align_link_types=True, layout=layout, margins=dict(top=20, bottom=0, left=100, right=200))\n"
   ]
  },
  {
   "cell_type": "code",
   "execution_count": 339,
   "metadata": {
    "scrolled": false
   },
   "outputs": [
    {
     "data": {
      "application/vnd.jupyter.widget-view+json": {
       "model_id": "174d5ba7aabc49a3bb8554b05f179444",
       "version_major": 2,
       "version_minor": 0
      },
      "text/plain": [
       "SankeyWidget(align_link_types=True, groups=[{'id': 'before', 'title': 'before egg-passaging', 'nodes': ['138A'…"
      ]
     },
     "metadata": {},
     "output_type": "display_data"
    }
   ],
   "source": [
    "layout = Layout(width=\"1000\", height=\"2000\")\n",
    "\n",
    "links = ([\n",
    "    {'source': (site+key) , 'target': (site+'mut'), \n",
    "     'value': value['count'], 'type': 'x', 'color': value['color']}\n",
    "    for site in sites for (key, value) in sankey_data[site]['before_mut'].items()] +\n",
    "    [{'source': (site+key) , 'target': (site+'mut'), \n",
    "      'value': value['count'], 'type': 'y', 'color': value['color']}\n",
    "    for site in sites for (key, value) in sankey_data[site]['before_nomut'].items()] +\n",
    "    [{'source': (site+'mut') , 'target': (site+key+'_after'), \n",
    "      'value': value['count'], 'type': 'x', 'color': value['color']}\n",
    "    for site in sites for (key, value) in sankey_data[site]['after_mut'].items()] + \n",
    "    [{'source': (site+'mut') , 'target': (site+key+'_after'), \n",
    "      'value': value['count'], 'type': 'y', 'color': value['color']}\n",
    "    for site in sites for (key, value) in sankey_data[site]['after_nomut'].items()])\n",
    "\n",
    "nodes = ([{'id': (site+key), 'title': (site+key), 'style':'process'} \n",
    "          for site in sites for (key, value) in sankey_data[site]['before'].items()] + \n",
    "         [{'id': (site+'mut'), 'title': ''} for site in sites] + \n",
    "         [{'id': (site+key+'_after'), 'title': (site+key), 'style':'process'} \n",
    "          for site in sites for (key, value) in sankey_data[site]['after'].items()])\n",
    "\n",
    "\n",
    "groups = [{'id': 'before', 'title': 'before egg-passaging', 'nodes': [(site+key) for site in sites for (key, value) in sankey_data[site]['before'].items()]},\n",
    "          {'id': 'mut', 'title': 'mutated during egg-passaging', 'nodes': [(site+'mut') for site in sites]},\n",
    "          {'id': 'after', 'title': 'after egg-passaging', 'nodes': [(site+key+'_after') for site in sites for (key, value) in sankey_data[site]['after'].items()]}]\n",
    "\n",
    "order = ([[sankey_data[site]['order'][0] for site in sites]]+\n",
    "         [[sankey_data[site]['order'][1] for site in sites]]+\n",
    "         [[sankey_data[site]['order'][2] for site in sites]])\n",
    "\n",
    "SankeyWidget(links=links, nodes=nodes, groups=groups, order=order, \n",
    "             align_link_types=True, layout=layout, margins=dict(top=80, bottom=0, left=100, right=200))\n"
   ]
  }
 ],
 "metadata": {
  "kernelspec": {
   "display_name": "Python [conda env:py3]",
   "language": "python",
   "name": "conda-env-py3-py"
  },
  "language_info": {
   "codemirror_mode": {
    "name": "ipython",
    "version": 3
   },
   "file_extension": ".py",
   "mimetype": "text/x-python",
   "name": "python",
   "nbconvert_exporter": "python",
   "pygments_lexer": "ipython3",
   "version": "3.6.7"
  }
 },
 "nbformat": 4,
 "nbformat_minor": 2
}
