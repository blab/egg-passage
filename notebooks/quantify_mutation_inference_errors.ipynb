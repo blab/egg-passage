{
 "cells": [
  {
   "cell_type": "code",
   "execution_count": 47,
   "metadata": {},
   "outputs": [],
   "source": [
    "import argparse\n",
    "import json\n",
    "import re\n",
    "import ast\n",
    "import collections\n",
    "import pandas as pd\n",
    "import numpy as np\n",
    "from Bio import SeqIO"
   ]
  },
  {
   "cell_type": "code",
   "execution_count": 169,
   "metadata": {},
   "outputs": [],
   "source": [
    "all_df = pd.read_csv('../dataframes/h3n2_ha_12y_hi.csv')\n",
    "egg_df = all_df[all_df['passage']=='egg']\n",
    "#filter data for only paired sequences\n",
    "df = all_df[all_df['pair_id']!=0]"
   ]
  },
  {
   "cell_type": "code",
   "execution_count": 127,
   "metadata": {},
   "outputs": [],
   "source": [
    "#Re-organize DF to one row per pair\n",
    "sub_egg = df[df['passage']=='egg'][['source', 'egg_muts']]\n",
    "sub_u = df[df['passage']=='unpassaged'][['source', 'strain']].rename(columns = {'strain':'unpassaged_pair'})\n",
    "sub_u['unpassaged_pair'] = True\n",
    "sub_cell = df[df['passage']=='cell'][['source', 'strain']].rename(columns = {'strain':'cell_pair'})\n",
    "sub_cell['cell_pair'] = True\n",
    "\n",
    "pairs_u_df = sub_egg.merge(sub_u)\n",
    "pairs_cell_df = sub_egg.merge(sub_cell)\n",
    "pairs_cell_u_df = sub_u.merge(sub_cell)\n",
    "pairs_df = pairs_u_df.merge(pairs_cell_df, how='outer')"
   ]
  },
  {
   "cell_type": "code",
   "execution_count": 128,
   "metadata": {},
   "outputs": [],
   "source": [
    "seqs = SeqIO.to_dict(SeqIO.parse(\"../results/aa-seq_who_h3n2_ha_12y_concat_hi_HA1.fasta\", \"fasta\"))"
   ]
  },
  {
   "cell_type": "code",
   "execution_count": 129,
   "metadata": {},
   "outputs": [],
   "source": [
    "positions = [160, 194, 186, 225, 219, 203, 156, 138, 246]"
   ]
  },
  {
   "cell_type": "code",
   "execution_count": 130,
   "metadata": {},
   "outputs": [
    {
     "name": "stdout",
     "output_type": "stream",
     "text": [
      "591\n",
      "21\n",
      "473\n",
      "2\n"
     ]
    }
   ],
   "source": [
    "#Find false positives (mutation inferred, but strain is not mutated)\n",
    "num_muts_inferred = 0\n",
    "num_false_pos = 0\n",
    "num_muts_inferred_limitsites = 0\n",
    "num_false_pos_limitsites = 0\n",
    "\n",
    "for k,v in pairs_df.iterrows():\n",
    "    for egg_mut in ast.literal_eval(v['egg_muts']):\n",
    "        \n",
    "        egg_mut_pos = int(re.findall('\\d+', egg_mut)[0])\n",
    "        egg_aa = seqs[v['source']+'-egg'][(egg_mut_pos-1)]\n",
    "        \n",
    "        num_muts_inferred+=1\n",
    "        if egg_mut_pos in positions:\n",
    "            num_muts_inferred_limitsites+=1\n",
    "            \n",
    "        if v['unpassaged_pair']==True:\n",
    "            u_aa = seqs[v['source']][(egg_mut_pos-1)]\n",
    "            if u_aa == egg_aa:\n",
    "                num_false_pos+=1\n",
    "                if egg_mut_pos in positions:\n",
    "                    num_false_pos_limitsites+=1\n",
    "                \n",
    "        if v['cell_pair']==True:\n",
    "            cell_aa = seqs[v['source']+'-cell'][(egg_mut_pos-1)]\n",
    "            if cell_aa == egg_aa:\n",
    "                num_false_pos+=1\n",
    "                if egg_mut_pos in positions:\n",
    "                    num_false_pos_limitsites+=1\n",
    "\n",
    "print(num_muts_inferred)   \n",
    "print(num_false_pos)\n",
    "print(num_muts_inferred_limitsites)\n",
    "print(num_false_pos_limitsites)"
   ]
  },
  {
   "cell_type": "code",
   "execution_count": 177,
   "metadata": {},
   "outputs": [
    {
     "name": "stdout",
     "output_type": "stream",
     "text": [
      "31.979695431472084\n",
      "2.608879492600423\n"
     ]
    }
   ],
   "source": [
    "#Estimate number false positives in ALL egg strains\n",
    "\n",
    "total_muts_inferred = 0\n",
    "total_muts_inferred_limitsites = 0\n",
    "\n",
    "for k,v in egg_df.iterrows():\n",
    "    for egg_mut in ast.literal_eval(v['egg_muts']):\n",
    "        egg_mut_pos = int(re.findall('\\d+', egg_mut)[0])\n",
    "        total_muts_inferred+=1\n",
    "        if egg_mut_pos in positions:\n",
    "            total_muts_inferred_limitsites+=1\n",
    "            \n",
    "est_false_pos = total_muts_inferred*(num_false_pos/num_muts_inferred)\n",
    "est_false_pos_limitsites = total_muts_inferred_limitsites*(num_false_pos_limitsites/num_muts_inferred_limitsites)\n",
    "\n",
    "print(est_false_pos)\n",
    "print(est_false_pos_limitsites)"
   ]
  },
  {
   "cell_type": "code",
   "execution_count": 167,
   "metadata": {},
   "outputs": [
    {
     "name": "stdout",
     "output_type": "stream",
     "text": [
      "603\n",
      "46\n",
      "497\n",
      "39\n"
     ]
    }
   ],
   "source": [
    "#Find false negatives (strain is mutated, but mutation not inferred)\n",
    "num_muts_direct = 0\n",
    "num_false_neg = 0\n",
    "num_muts_direct_limitsites = 0\n",
    "num_false_neg_limitsites = 0\n",
    "\n",
    "for k,v in pairs_df.iterrows():\n",
    "    \n",
    "    egg_ha1 = seqs[v['source']+'-egg']\n",
    "    \n",
    "    for residue in range(len(egg_ha1)):\n",
    "        egg_aa = egg_ha1[int(residue)-1]\n",
    "        \n",
    "        if v['unpassaged_pair']==True:\n",
    "            u_ha1 = seqs[v['source']]\n",
    "            u_aa = u_ha1[int(residue)-1]\n",
    "            if egg_aa != u_aa:\n",
    "                num_muts_direct+=1\n",
    "                u_mutation = u_aa + str(residue) + egg_aa\n",
    "                if u_mutation not in ast.literal_eval(v['egg_muts']):\n",
    "                    num_false_neg+=1\n",
    "                \n",
    "                if residue in positions:\n",
    "                    num_muts_direct_limitsites+=1\n",
    "                    if u_mutation not in ast.literal_eval(v['egg_muts']):\n",
    "                        num_false_neg_limitsites+=1\n",
    "                    \n",
    "                \n",
    "        if v['cell_pair']==True:\n",
    "            cell_ha1 = seqs[v['source']+'-cell']\n",
    "            cell_aa = cell_ha1[int(residue)-1]\n",
    "            \n",
    "            cell_tip_muts = df[df['strain']==(v['source']+'-cell')]['tip_HA1_muts'].item()\n",
    "            \n",
    "            #Only want egg muts, not cell muts\n",
    "            if str(residue) not in cell_tip_muts: \n",
    "                if egg_aa != cell_aa:\n",
    "                    num_muts_direct+=1\n",
    "                    cell_mutation = cell_aa + str(residue) + egg_aa\n",
    "                    if cell_mutation not in ast.literal_eval(v['egg_muts']):\n",
    "                        num_false_neg+=1\n",
    "\n",
    "                    if residue in positions:\n",
    "                        num_muts_direct_limitsites+=1\n",
    "                        if cell_mutation not in ast.literal_eval(v['egg_muts']):\n",
    "                            num_false_neg_limitsites+=1\n",
    "\n",
    "        \n",
    "print(num_muts_direct)\n",
    "print(num_false_neg)\n",
    "print(num_muts_direct_limitsites)\n",
    "print(num_false_neg_limitsites)"
   ]
  },
  {
   "cell_type": "code",
   "execution_count": 182,
   "metadata": {},
   "outputs": [
    {
     "name": "stdout",
     "output_type": "stream",
     "text": [
      "928.9459459459459\n",
      "765.6486486486486\n",
      "70.86486486486487\n",
      "60.08108108108108\n"
     ]
    }
   ],
   "source": [
    "#Estimate number false negatives in ALL egg strains\n",
    "num_paired_egg_seqs = len(pairs_df)\n",
    "num_total_egg_seqs = len(egg_df)\n",
    "\n",
    "est_total_mutations = (num_total_egg_seqs/num_paired_egg_seqs) * num_muts_direct\n",
    "est_total_mutations_limitsites = (num_total_egg_seqs/num_paired_egg_seqs) * num_muts_direct_limitsites\n",
    "est_false_neg = (num_total_egg_seqs/num_paired_egg_seqs)* num_false_neg\n",
    "est_false_neg_limitsites = (num_total_egg_seqs/num_paired_egg_seqs)* num_false_neg_limitsites\n",
    "\n",
    "print(est_total_mutations)\n",
    "print(est_total_mutations_limitsites)\n",
    "print(est_false_neg)\n",
    "print(est_false_neg_limitsites)"
   ]
  }
 ],
 "metadata": {
  "kernelspec": {
   "display_name": "Python [conda env:py3]",
   "language": "python",
   "name": "conda-env-py3-py"
  },
  "language_info": {
   "codemirror_mode": {
    "name": "ipython",
    "version": 3
   },
   "file_extension": ".py",
   "mimetype": "text/x-python",
   "name": "python",
   "nbconvert_exporter": "python",
   "pygments_lexer": "ipython3",
   "version": "3.6.7"
  }
 },
 "nbformat": 4,
 "nbformat_minor": 2
}
