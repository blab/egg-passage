{
 "cells": [
  {
   "cell_type": "code",
   "execution_count": 225,
   "metadata": {},
   "outputs": [],
   "source": [
    "import ast\n",
    "import re\n",
    "import pandas as pd\n",
    "import numpy as np\n",
    "import matplotlib.pyplot as plt\n",
    "import seaborn as sns\n",
    "from Bio import SeqIO\n",
    "from Bio.Seq import Seq\n",
    "%matplotlib inline"
   ]
  },
  {
   "cell_type": "code",
   "execution_count": 210,
   "metadata": {},
   "outputs": [],
   "source": [
    "all_df = pd.read_csv('../dataframes/h3n2_ha_12y_hi.csv')\n",
    "egg_df = df[df['passage']=='egg']\n",
    "aligned_fasta = SeqIO.index(\"../results/aligned_who_h3n2_ha_12y_concat_hi.fasta\", \"fasta\")\n",
    "#filter data for only paired sequences\n",
    "df = all_df[all_df['pair_id']!=0]"
   ]
  },
  {
   "cell_type": "code",
   "execution_count": 128,
   "metadata": {},
   "outputs": [],
   "source": [
    "def nt_start(aa_position):\n",
    "    start_nt = (aa_position*3)+48-3\n",
    "    return(start_nt)\n",
    "def nt_end(aa_position):\n",
    "    end_nt = (aa_position*3)+48\n",
    "    return(end_nt)"
   ]
  },
  {
   "cell_type": "code",
   "execution_count": 223,
   "metadata": {},
   "outputs": [],
   "source": [
    "def find_codon(aa_position, strain):\n",
    "    codon = str(aligned_fasta[strain].seq[nt_start(aa_position):nt_end(aa_position)])\n",
    "    return(codon)"
   ]
  },
  {
   "cell_type": "code",
   "execution_count": 181,
   "metadata": {},
   "outputs": [
    {
     "data": {
      "text/plain": [
       "{'F': {'TWT': 6, 'TTT': 23, 'THT': 1, 'TTC': 3},\n",
       " 'S': {'TCT': 432,\n",
       "  'TYT': 8,\n",
       "  'TCC': 44,\n",
       "  'TYC': 2,\n",
       "  'TMT': 9,\n",
       "  'THT': 5,\n",
       "  'TCA': 1},\n",
       " 'Y': {'TAT': 33, 'TMT': 1, 'TWT': 2}}"
      ]
     },
     "execution_count": 181,
     "metadata": {},
     "output_type": "execute_result"
    }
   ],
   "source": [
    "def count_codons(aa_position):\n",
    "    genotype_groups = egg_df.groupby(str(aa_position))\n",
    "    \n",
    "    codons_by_genotype = {}\n",
    "\n",
    "    for aa_geno, strains in genotype_groups:\n",
    "        codons_by_genotype[aa_geno] = []\n",
    "        geno_codons = []\n",
    "        for k,v in strains.iterrows():\n",
    "            codons_by_genotype[aa_geno]+=[str(aligned_fasta[v['strain']].seq[nt_start(aa_position):\n",
    "                                                                                  nt_end(aa_position)])]\n",
    "    \n",
    "    codon_count_by_genotype = {}\n",
    "    \n",
    "    for k,v in codons_by_genotype.items():\n",
    "        codon_count_by_genotype[k] = {i:v.count(i) for i in v}\n",
    "        \n",
    "    return(codon_count_by_genotype)\n",
    "\n",
    "\n",
    "count_codons(219)"
   ]
  },
  {
   "cell_type": "code",
   "execution_count": 211,
   "metadata": {},
   "outputs": [],
   "source": [
    "# For egg-passaged strains with a non-egg-passaged paired sequence, find nucleotide mutations\n",
    "\n",
    "#Re-organize DF to one row per pair\n",
    "sub_egg = df[df['passage']=='egg'][['source', 'egg_muts']]\n",
    "sub_u = df[df['passage']=='unpassaged'][['source', 'strain']].rename(columns = {'strain':'unpassaged_pair'})\n",
    "sub_u['unpassaged_pair'] = True\n",
    "sub_cell = df[df['passage']=='cell'][['source', 'strain']].rename(columns = {'strain':'cell_pair'})\n",
    "sub_cell['cell_pair'] = True\n",
    "\n",
    "pairs_u_df = sub_egg.merge(sub_u)\n",
    "pairs_cell_df = sub_egg.merge(sub_cell)\n",
    "pairs_cell_u_df = sub_u.merge(sub_cell)\n",
    "pairs_df = pairs_u_df.merge(pairs_cell_df, how='outer')"
   ]
  },
  {
   "cell_type": "code",
   "execution_count": 251,
   "metadata": {},
   "outputs": [],
   "source": [
    "# For egg-passaged strains with a non-egg-passaged paired sequence, find nucleotide mutations\n",
    "\n",
    "def count_nt_muts(muts):\n",
    "    nucleotide_mutations = {m:[] for m in muts}\n",
    "    starting_codons = {m:[] for m in muts}\n",
    "\n",
    "    for k,v in pairs_df.iterrows():\n",
    "        for egg_mut in ast.literal_eval(v['egg_muts']):\n",
    "\n",
    "\n",
    "            if egg_mut in muts:\n",
    "                egg_id = str(v['source'])+'-egg'\n",
    "                egg_mut_pos = int(re.findall('\\d+', egg_mut)[0])\n",
    "                egg_codon = find_codon(egg_mut_pos, egg_id)\n",
    "\n",
    "                if v['unpassaged_pair']==True:\n",
    "                    unpass_id = str(v['source'])\n",
    "                    unpass_codon = find_codon(egg_mut_pos, unpass_id)\n",
    "                    nt_mut_pos = [i for i in range(len(unpass_codon)) if unpass_codon[i] != egg_codon[i]]\n",
    "                    nt_muts = ''\n",
    "                    for p in nt_mut_pos:\n",
    "                        nt_mut = str(unpass_codon[p])+str(nt_start(egg_mut_pos)+p)+str(egg_codon[p])\n",
    "                        nt_muts+=nt_mut\n",
    "\n",
    "                    nucleotide_mutations[egg_mut]+=[nt_muts]\n",
    "                    starting_codons[egg_mut]+=[unpass_codon]\n",
    "\n",
    "                if v['cell_pair']==True:\n",
    "                    cell_id = str(v['source'])+'-cell'\n",
    "                    cell_codon = find_codon(egg_mut_pos, cell_id)\n",
    "                    nt_mut_pos = [i for i in range(len(cell_codon)) if cell_codon[i] != egg_codon[i]]\n",
    "                    nt_muts = ''\n",
    "                    for p in nt_mut_pos:\n",
    "                        nt_mut = str(cell_codon[p])+str(nt_start(egg_mut_pos)+p)+str(egg_codon[p])\n",
    "                        nt_muts+=nt_mut\n",
    "\n",
    "                    nucleotide_mutations[egg_mut]+=[nt_muts]\n",
    "                    starting_codons[egg_mut]+=[cell_codon]\n",
    "\n",
    "    nucleotide_mutation_count = {}\n",
    "    for k,v in nucleotide_mutations.items():\n",
    "        nucleotide_mutation_count[k] = {i:v.count(i) for i in v}\n",
    "    \n",
    "    starting_codon_count = {}\n",
    "    for k,v in starting_codons.items():\n",
    "        starting_codon_count[k] = {i:v.count(i) for i in v}\n",
    "        \n",
    "    return(nucleotide_mutation_count, starting_codon_count)"
   ]
  },
  {
   "cell_type": "code",
   "execution_count": 252,
   "metadata": {},
   "outputs": [
    {
     "data": {
      "text/plain": [
       "({'T160K': {'C526A': 63, 'R525AC526A': 1, 'G526A': 1},\n",
       "  'L194P': {'T628C': 118},\n",
       "  'G186V': {'G604T': 88},\n",
       "  'D225G': {'A721G': 32, 'A721R': 2},\n",
       "  'S219F': {'C703T': 19, '': 1, 'C703W': 6},\n",
       "  'S219Y': {'C703A': 16, 'C703W': 1},\n",
       "  'T203I': {'C655T': 20},\n",
       "  'H156R': {'A514G': 12},\n",
       "  'H156Q': {'C515A': 17},\n",
       "  'A138S': {'G459T': 25},\n",
       "  'N246H': {'A783C': 10}},\n",
       " {'T160K': {'ACA': 63, 'RCA': 1, 'AGA': 1},\n",
       "  'L194P': {'CTG': 117, 'CTA': 1},\n",
       "  'G186V': {'GGT': 87, 'GGC': 1},\n",
       "  'D225G': {'GAT': 34},\n",
       "  'S219F': {'TCT': 25, 'TTC': 1},\n",
       "  'S219Y': {'TCT': 17},\n",
       "  'T203I': {'ACA': 20},\n",
       "  'H156R': {'CAC': 12},\n",
       "  'H156Q': {'CAC': 17},\n",
       "  'A138S': {'GCT': 25},\n",
       "  'N246H': {'AAC': 10}})"
      ]
     },
     "execution_count": 252,
     "metadata": {},
     "output_type": "execute_result"
    }
   ],
   "source": [
    "mutations = ['T160K', 'L194P', 'G186V', 'D225G', 'S219F', 'S219Y', 'T203I', 'H156R', 'H156Q', 'A138S', 'N246H']\n",
    "\n",
    "count_nt_muts(mutations)"
   ]
  },
  {
   "cell_type": "markdown",
   "metadata": {},
   "source": [
    "# Codon is almost always the same prior to egg-passaging (no nt diversity)\n",
    "## Check accessibility of mutations (i.e. can the amino acid mutation occur in any other way with just one nt mutation)\n",
    "\n",
    "\n",
    "T160K (ACA->AAA): this is the only one-nt mutation from ACA to yield Lysine  \n",
    "L194P (CTG->CCG): this is the only one-nt mutation from CTG to yield Proline  \n",
    "G186V (GGT->GTT): this is the only one-nt mutation from GGT to yield Valine  \n",
    "D225G (GAT->GGT): this is the only one-nt mutation from GAT to yield Glycine  \n",
    "S219F (TCT->TTT): this is the only one-nt mutation from TCT to yield Phenylalanine  \n",
    "S219Y (TCT->TAT): this is the only one-nt mutation from TCT to yield Tyrosine  \n",
    "T203I (ACA->ATA): this is the only one-nt mutation from ACA to yield Isoleucine  \n",
    "H156R (CAC->CGC): this is the only one-nt mutation from CAC to yield Arginine   \n",
    "H156Q (CAC->CAA): !!! CAG could also yield Glutamine with just one-nt change  \n",
    "A138S (GCT->TCT): this is the only one-nt mutation from GCT to yield Serine  \n",
    "N246H (AAC->CAC): this is the only one-nt mutation from AAC to yield Histidine  \n",
    "\n",
    "\n",
    "\n"
   ]
  },
  {
   "cell_type": "code",
   "execution_count": 208,
   "metadata": {},
   "outputs": [
    {
     "name": "stdout",
     "output_type": "stream",
     "text": [
      "ATGAAGACTATCATTGCTTTGAGCTGCATTCTATGTCTGGTTTTCGCTCAAAAAATTCCTGGAAATGACAATAGCACGGCAACGCTGTGCCTTGGGCACCATGCAGTACCAAACGGAACGATAGTGAAAACAATCACGAATGACCGAATTGAAGTTACTAATGCTACTGAGCTGGTTCAGAACTCCTCAATAGGTGAAATATGCGACAGTCCTCATCAGATCCTTGATGGAGAAAACTGCACACTAATAGATGCTCTATTGGGAGACCCTCAGTGTGATGGCTTTCAAAATAAGAAATGGGACCTTTTCGTTGAACGAAACAAAGCCTACAGCAACTGTTACCCTTATGATGTGCCGGATTATGCATCCCTTAGATCACTAGTTGCCTCATCCGGCACACTGGAGTTTAACAATGAAAGCTTCAATTGGGCTGGAGTCACTCAAAACGGAACAAGTTCTTCTTGCATAAGGGGATCTAAAAGTAGTTTCTTTAGTAGATTAAATTGGTTGACCCACTTAAACTCCAAATACCCAGCATTAAACGTGACTATGCCAAACAATGAACAATTTGACAAATTGTACATTTGGGGTGTTCACCACCCGGGTACGGACAAGGACCAAATCTCCCTGTATGCACAATCATCAGGAAGAATCACAGTATCTACCAAAAGAAGCCAACAAGCTGTAATCCCGAATATCGGATCTAGACCCAGAATAAGGGATATCCCTAGCAGAATAAGCATCTATTGGACAATAGTAAAACCAGGAGACATACTTTTGATTAACAGCACAGGGAATCTAATTGCTCCTAGGGGTTACTTCAAAATACGAAGTGGGAAAAGCTCAATAATGAGATCAGATGCACCCATTGGCAAGTGCAAGTCTGAATGCATCACTCCAAATGGAAGCATTCCAAATGACAAACCATTCCAAAATGTAAACAGGATCACATACGGGGCATGTCCCAGATATGTTAAGCAAAGCACTCTGAAATTGGCAACAGGAATGCGAAATGTACCAGAGAGACAAACTAGAGGCATATTTGGCGCAATAGCGGGTTTCATAGAAAATGGTTGGGAGGGAATGGTGGATGGTTGGTACGGCTTCAGGCATCAAAATTCTGAGGGAAGAGGACAAGCAGCAGATCTTAAAAGCACTCAAGCAGCAATCGATCAAATCAATGGGAAGCTGAATCGATTGATCGGGAAAACCAACGAGAAATTCCATCAGATTGAAAAAGAGTTCTCAGAAGTAGAAGGGAGAATTCAGGACCTTGAGAAATATGTTGAGGACACAAAAATAGATCTCTGGTCATACAACGCGGAGCTTCTTGTTGCCCTGGAGAACCAACATACAATTGATCTAACTGACTCAGAAATGAACAAACTGTTTGAAAAAACAAAGAAGCAACTGAGGGAAAATGCTGAGGATATGGGCAATGGTTGTTTCAAAATATACCACAAATGTGACAATGCCTGCATGGGGTCAATCAGAAATGGAACTTATGACCACAATGTATACAGGGATGAAGCATTAAACAACCGGTTCCAGATCAAGGGAGTTGAGCTGAAGTCAGGGTACAAAGATTGGATCCTATGGATTTCCTTTGCCATATCATGTTTTTTGCTTTGTGTTGCTCTGTTGGGGTTCATCATGTGGGCCTGCCAAAAGGGCAACATTAGGTGCAACATTTGCATTTGA\n"
     ]
    }
   ],
   "source": [
    "print(str(aligned_fasta['A/Kansas/14/2017'].seq))"
   ]
  },
  {
   "cell_type": "code",
   "execution_count": 204,
   "metadata": {},
   "outputs": [
    {
     "name": "stdout",
     "output_type": "stream",
     "text": [
      "HongKong plasmid at 186 : GGT\n",
      "HongKong wildtype plasmid at 186 : GGT\n",
      "Perth plasmid at 186 : TCTCCACCCGGGTACGGACAAAG\n"
     ]
    }
   ],
   "source": [
    "#Find genotype of HongKong and Perth HA plasmids\n",
    "\n",
    "hongkong_plasmid = Seq('ATGAAGACTATCATTGCTTTGAGCTACATTCTATGTCTGGTTTTCGCTCAAAAAATTCCTGGAAATGACAATAGCACGGCAACGCTGTGCCTTGGGCACCATGCAGTACCAAACGGAACGATAGTGAAAACAATCACGAATGACCGAATTGAAGTTACTAATGCTACTGAGCTGGTTCAGAATTCCTCAATAGGTGAAATATGCGACAGTCCTCATCAGATCCTTGATGGAGAAAACTGCACACTAATAGATGCTCTATTGGGAGACCCTCAGTGTGATGGCTTTCAAAATAAGAAATGGGACCTTTTTGTTGAACGAAGCAAAGCCTACAGCAGCTGTTACCCTTATGATGTGCCGGATTATGCCTCCCTTAGGTCACTAGTTGCCTCATCCGGCACACTGGAGTTTAACAATGAAAGCTTCAATTGGACTGGAGTCACTCAAAACGGAACAAGTTCTGCTTGCATAAGGAGATCTAGTAGTAGTTTCTTTAGTAGATTAAATTGGTTGACCCACTTAAACTACAAATACCCAGCATTGAACGTGACTATGCCAAACAATGAACAATTTGACAAATTGTACATTTGGGGGGTTCACCACCCGGGTACGGACAAGGACCAAATCTTCCCGTATGCTCAATCATCAGGAAGAATCATAGTATCTACCAAAAGAAGCCAACAAGCTGTAATCCCAAATATCGGATCTAGACCCAGAATAAGGGATATCCCTAGCAGAATAAGCATCTATTGGACAATAGTAAAACCGGGAGACATACTTTTGATTAACAGCACAGGGAATCTAATTGCTCCTAGGGGTTACTTCAAAATACGAAGTGGGAAAAGCTCAATAATGAGATCAGATGCACCCATTGGCAAATGCAAGTCTGAATGCATCACTCCAAATGGAAGCATTCCCAATGACAAACCATTCCAAAATGTAAACAGGATCACATACGGGGCCTGTCCCAGATATGTTAAGCATAGCACTCTGAAATTGGCAACAGGAATGCGAAATGTACCAGAGAAACAAACTAGAGGCATATTTGGCGCAATAGCGGGTTTCATAGAAAATGGTTGGGAGGGAATGGTGGATGGTTGGTACGGTTTCAGGCATCAAAATTCTGAGGGAAGAGGACAAGCAGCAGATCTCAAAAGCACTCAAGCAGCAATCGATCAAATCAATGGGAAGCTGAATCGATTGATCGGGAAAACCAACGAGAAATTCCATCAGATTGAAAAAGAATTCTCAGAAGTAGAAGGAAGAATTCAGGACCTTGAGAAATATGTTGAGGACACTAAAATAGATCTCTGGTCATACAACGCGGAGCTTCTTGTTGCCCTGGAGAACCAACATACAATTGATCTAACTGACTCAGAAATGAACAAACTGTTTGAAAAAACAAAGAAGCAACTGAGGGAAAATGCTGAGGATATGGGCAATGGTTGTTTCAAAATATACCACAAATGTGACAATGCCTGCATAGGATCAATAAGAAATGGAACTTATGACCACAATGTGTACAGGGATGAAGCATTAAACAACCGGTTCCAGATCAAGGGAGTTGAGCTGAAGTCAGGGTACAAAGATTGGATCCTATGGATTTCCTTTGCCATATCATGTTTTTTGCTTTGTGTTGCTTTGTTGGGGTTCATCATGTGGGCCTGCCAAAAGGGCAACATTAGGTGCAACATTTGCATTTGA')\n",
    "\n",
    "hongkong_wt = Seq('ATGAAGACTATCATTGCTTTGAGCTACATTCTATGTCTGGTTTTCGCTCAAAAAATTCCTGGAAATGACAATAGCACGGCAACGCTGTGCCTTGGGCACCATGCAGTACCAAACGGAACGATAGTGAAAACAATCACGAATGACCGAATTGAAGTTACTAATGCTACTGAGCTGGTTCAGAATTCCTCAATAGGTGAAATATGCGACAGTCCTCATCAGATCCTTGATGGAGAAAACTGCACACTAATAGATGCTCTATTGGGAGACCCTCAGTGTGATGGCTTTCAAAATAAGAAATGGGACCTTTTTGTTGAACGAAGCAAAGCCTACAGCAGCTGTTACCCTTATGATGTGCCGGATTATGCCTCCCTTAGGTCACTAGTTGCCTCATCCGGCACACTGGAGTTTAACAATGAAAGCTTCAATTGGACTGGAGTCACTCAAAACGGAACAAGTTCTGCTTGCATAAGGAGATCTAGTAGTAGTTTCTTTAGTAGATTAAATTGGTTGACCCACTTAAACTACACATACCCAGCATTGAACGTGACTATGCCAAACAATGAACAATTTGACAAATTGTACATTTGGGGGGTTCACCACCCGGGTACGGACAAGGACCAAATCTTCCTGTATGCTCAATCATCAGGAAGAATCACAGTATCTACCAAAAGAAGCCAACAAGCTGTAATCCCAAATATCGGATCTAGACCCAGAATAAGGGATATCCCTAGCAGAATAAGCATCTATTGGACAATAGTAAAACCGGGAGACATACTTTTGATTAACAGCACAGGGAATCTAATTGCTCCTAGGGGTTACTTCAAAATACGAAGTGGGAAAAGCTCAATAATGAGATCAGATGCACCCATTGGCAAATGCAAGTCTGAATGCATCACTCCAAATGGAAGCATTCCCAATGACAAACCATTCCAAAATGTAAACAGGATCACATACGGGGCCTGTCCCAGATATGTTAAGCATAGCACTCTGAAATTGGCAACAGGAATGCGAAATGTACCAGAGAAACAAACTAGAGGCATATTTGGCGCAATAGCGGGTTTCATAGAAAATGGTTGGGAGGGAATGGTGGATGGTTGGTACGGTTTCAGGCATCAAAATTCTGAGGGAAGAGGACAAGCAGCAGATCTCAAAAGCACTCAAGCAGCAATCGATCAAATCAATGGGAAGCTGAATCGATTGATCGGGAAAACCAACGAGAAATTCCATCAGATTGAAAAAGAATTCTCAGAAGTAGAAGGAAGAATTCAGGACCTTGAGAAATATGTTGAGGACACTAAAATAGATCTCTGGTCATACAACGCGGAGCTTCTTGTTGCCCTGGAGAACCAACATACAATTGATCTAACTGACTCAGAAATGAACAAACTGTTTGAAAAAACAAAGAAGCAACTGAGGGAAAATGCTGAGGATATGGGCAATGGTTGTTTCAAAATATACCACAAATGTGACAATGCCTGCATAGGATCAATAAGAAATGGAACTTATGACCACAATGTGTACAGGGATGAAGCATTAAACAACCGGTTCCAGATCAAGGGAGTTGAGCTGAAGTCAGGGTACAAAGATTGGATCCTATGGATTTCCTTTGCCATATCATGTTTTTTGCTTTGTGTTGCTTTGTTGGGGTTCATCATGTGGGCCTGCCAAAAGGGCAACATTAGGTGCAACATTTGCATTTGA')\n",
    "\n",
    "perth_plasmid = Seq('ATGAAGACTATCATTGCTTTGAGCTACATTCTATGTCTGGTTTTCGCTCAAAAACTTCCTGGAAATGACAACAGCACGGCAACGCTGTGCCTTGGGCACCATGCAGTACCAAACGGAACGATAGTGAAAACAATCACGAATGACCAAATTGAAGTTACTAATGCTACTGAGCTGGTTCAGAGTTCCTCAACAGGTGAAATATGCGACAGTCCTCATCAGATCCTTGATGGAAAAAACTGCACACTAATAGATGCTCTATTGGGAGACCCTCAGTGTGATGGCTTCCAAAATAAGAAATGGGACCTTTTTGTTGAACGCAGCAAAGCCTACAGCAACTGTTACCCTTATGATGTGCCGGATTATGCCTCCCTTAGGTCACTAGTTGCCTCATCCGGCACACTGGAGTTTAACAATGAAAGCTTCAATTGGACTGGAGTCACTCAAAACGGAACAAGCTCTGCTTGCATAAGGAGATCTAAAAACAGTTTCTTTAGTAGATTGAATTGGTTGACCCACTTAAACTTCAAATACCCAGCATTGAACGTGACTATGCCAAACAATGAACAATTTGACAAATTGTACATTTGGGGGGTTCTCCACCCGGGTACGGACAAAGACCAAATCTTCCTGTATGCTCAAGCATCAGGAAGGATCACAGTCTCTACCAAAAGAAGCCAACAAACCGTAAGCCCGAATATCGGATCTAGACCCAGAGTAAGGAATATCCCTAGCAGAATAAGCATCTATTGGACAATAGTAAAACCGGGAGACATACTTTTGATTAACAGCACAGGGAATCTAATTGCTCCTAGGGGTTACTTCAAAATACGAAGTGGGAAAAGCTCAATAATGAGATCAGATGCACCCATTGGCAAATGCAATTCTGAATGCATCACTCCAAATGGAAGCATTCCCAATGACAAACCATTCCAAAATGTAAACAGGATCACATACGGGGCCTGTCCCAGATATGTTAAGCAAAACACTCTGAAATTGGCAACAGGGATGCGAAATGTACCAGAGAAACAAACTAGAGGCATATTTGGCGCAATCGCGGGTTTCATAGAAAATGGTTGGGAGGGAATGGTGGATGGTTGGTACGGTTTCAGGCATCAAAATTCTGAGGGAAGAGGACAAGCAGCAGATCTCAAAAGCACTCAAGCAGCAATCGATCAAATCAATGGGAAGCTGAATAGATTGATCGGGAAAACCAACGAGAAATTCCATCAGATTGAAAAAGAATTCTCAGAAGTCGAAGGGAGAATTCAGGACCTTGAGAAGTATGTTGAGGACACTAAAATAGATCTCTGGTCATACAACGCGGAACTTCTTGTTGCCCTGGAGAACCAACATACAATTGATCTAACTGACTCAGAAATGAACAAACTGTTTGAAAAAACAAAGAAGCAACTGAGGGAAAATGCTGAGGATATGGGCAATGGTTGTTTCAAAATATACCACAAATGTGACAATGCCTGCATAGGATCAATCAGAAATGGAACTTATGACCACGATGTATACAGAGATGAAGCATTAAACAACCGGTTTCAGATCAAGGGAGTTGAGCTGAAGTCAGGGTACAAAGATTGGATCCTATGGATTTCCTTTGCCATATCATGTTTTTTGCTTTGTGTTGCTTTGTTGGGGTTCATCATGTGGGCCTGCCAAAAAGGCAACATTAGGTGCAACATTTGCATTTGA')\n",
    "\n",
    "\n",
    "\n",
    "def print_codon(site):\n",
    "\n",
    "    print('HongKong plasmid at '+str(site)+' : '+str(hongkong_plasmid[nt_start(site):nt_end(site)]))\n",
    "    print('HongKong wildtype plasmid at '+str(site)+' : '+str(hongkong_wt[nt_start(site):nt_end(site)]))\n",
    "    print('Perth plasmid at '+str(site)+' : '+str(perth_plasmid[nt_start(site)-10:nt_end(site)+10]))\n",
    "    \n",
    "print_codon(186)\n",
    "\n"
   ]
  }
 ],
 "metadata": {
  "kernelspec": {
   "display_name": "Python [conda env:py3]",
   "language": "python",
   "name": "conda-env-py3-py"
  },
  "language_info": {
   "codemirror_mode": {
    "name": "ipython",
    "version": 3
   },
   "file_extension": ".py",
   "mimetype": "text/x-python",
   "name": "python",
   "nbconvert_exporter": "python",
   "pygments_lexer": "ipython3",
   "version": "3.6.7"
  }
 },
 "nbformat": 4,
 "nbformat_minor": 2
}
