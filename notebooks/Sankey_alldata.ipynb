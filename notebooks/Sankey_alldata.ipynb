{
 "cells": [
  {
   "cell_type": "code",
   "execution_count": 21,
   "metadata": {
    "collapsed": true
   },
   "outputs": [],
   "source": [
    "import pandas as pd\n",
    "import numpy as np\n",
    "import json\n",
    "from Bio import SeqIO\n",
    "import seaborn as sns\n",
    "import matplotlib.pyplot as plt\n",
    "%matplotlib inline"
   ]
  },
  {
   "cell_type": "code",
   "execution_count": 20,
   "metadata": {
    "collapsed": true
   },
   "outputs": [],
   "source": [
    "#Import organized Auspice data\n",
    "df = pd.read_csv('../dataframes/auspice_df.csv', index_col=0)\n",
    "egg_df = pd.read_csv('../dataframes/egg_df.csv', index_col=0)"
   ]
  },
  {
   "cell_type": "code",
   "execution_count": 22,
   "metadata": {
    "collapsed": true
   },
   "outputs": [],
   "source": [
    "#Define positions\n",
    "positions= [194,186,160,225,219,156,203,138]"
   ]
  },
  {
   "cell_type": "code",
   "execution_count": 25,
   "metadata": {},
   "outputs": [
    {
     "data": {
      "text/plain": [
       "160  mut160  circulating160\n",
       "A    1       T                   2\n",
       "I    1       T                   3\n",
       "K    0       K                 181\n",
       "     1       T                  46\n",
       "R    1       T                   1\n",
       "T    0       T                  12\n",
       "Name: circulating160, dtype: int64"
      ]
     },
     "execution_count": 25,
     "metadata": {},
     "output_type": "execute_result"
    }
   ],
   "source": [
    "egg_df.groupby(['160','mut160'])['circulating160'].value_counts()"
   ]
  },
  {
   "cell_type": "code",
   "execution_count": 30,
   "metadata": {},
   "outputs": [
    {
     "name": "stdout",
     "output_type": "stream",
     "text": [
      "18\n",
      "46\n"
     ]
    },
    {
     "data": {
      "text/plain": [
       "160  mut160  circulating160\n",
       "A    1       T                   2\n",
       "I    1       T                   3\n",
       "K    0       K                 181\n",
       "     1       T                  46\n",
       "R    1       T                   1\n",
       "T    0       T                  12\n",
       "Name: circulating160, dtype: int64"
      ]
     },
     "execution_count": 30,
     "metadata": {},
     "output_type": "execute_result"
    }
   ],
   "source": [
    "print(len(egg_df[egg_df['160']!='K']))\n",
    "print(len(egg_df[(egg_df['160']=='K')&(egg_df['mut160']==1)]))\n",
    "egg_df.groupby(['160','mut160'])['circulating160'].value_counts()"
   ]
  },
  {
   "cell_type": "code",
   "execution_count": 32,
   "metadata": {},
   "outputs": [
    {
     "data": {
      "text/plain": [
       "160  mut160  mut194  mut186  mut156  mut219\n",
       "K    0       0       0       0       0         59\n",
       "                             1       0          6\n",
       "                                     1          1\n",
       "                     1       0       0         28\n",
       "                                     1         22\n",
       "                             1       0         12\n",
       "                                     1          4\n",
       "             1       0       0       0         48\n",
       "                     1       0       0          1\n",
       "     1       0       1       0       0          3\n",
       "                                     1          2\n",
       "                             1       0          1\n",
       "             1       0       0       0         39\n",
       "                                     1          1\n",
       "T    0       0       0       0       0          7\n",
       "                             1       1          1\n",
       "                     1       0       0          1\n",
       "             1       0       0       0          3\n",
       "Name: strain, dtype: int64"
      ]
     },
     "execution_count": 32,
     "metadata": {},
     "output_type": "execute_result"
    }
   ],
   "source": [
    "egg_df[(egg_df['160']=='K')|(egg_df['160']=='T')].groupby(['160','mut160','mut194','mut186','mut156', 'mut219'])['strain'].agg('count')"
   ]
  },
  {
   "cell_type": "code",
   "execution_count": 48,
   "metadata": {},
   "outputs": [
    {
     "data": {
      "application/vnd.jupyter.widget-view+json": {
       "model_id": "4aad24d94bcd475c8de59994d081d09a",
       "version_major": 2,
       "version_minor": 0
      },
      "text/plain": [
       "A Jupyter Widget"
      ]
     },
     "metadata": {},
     "output_type": "display_data"
    }
   ],
   "source": [
    "#Sankay\n",
    "from ipysankeywidget import SankeyWidget\n",
    "from ipywidgets import Layout\n",
    "\n",
    "\n",
    "cmap = {'t0':'#ffcccc', 't1': '#ff9999', 't2': '#ff6666', 't3': '#ff0000', \n",
    "        'k0': '#ccccff', 'k1': '#9999ff', 'k2': '#6666ff', 'k3': '#0000ff'}\n",
    "\n",
    "layout = Layout(width=\"1000\", height=\"600\")\n",
    "links = [\n",
    "    #160T\n",
    "    {'source': '160T passaged\\n in eggs', 'target': '160T', 'value': 12, 'color': cmap['t0']},\n",
    "    {'source': '160T', 'target': 'T-194L', 'value': 9, 'color': cmap['t0']},\n",
    "    {'source': '160T', 'target': 'T-194mutation', 'value': 3,  'color': cmap['t1']},\n",
    "    {'source': 'T-194L', 'target': 'T-L-186S', 'value': 8,  'color': cmap['t0']},\n",
    "    {'source': 'T-194L', 'target': 'T-L-186mutation', 'value': 1,  'color': cmap['t1']},\n",
    "    {'source': 'T-194mutation', 'target': 'T-X-186S', 'value': 3,  'color': cmap['t1']},\n",
    "    {'source': 'T-X-186S', 'target': 'T-X-S-156K', 'value': 3,  'color': cmap['t1']},\n",
    "    {'source': 'T-X-S-156K', 'target': 'T-X-S-K-219S', 'value': 3,  'color': cmap['t1']},\n",
    "    {'source': 'T-L-186S', 'target': 'T-L-S-156K', 'value': 7,  'color': cmap['t0']},\n",
    "    {'source': 'T-L-186S', 'target': 'T-L-S-156mutation', 'value': 1,  'color': cmap['t1']},\n",
    "    {'source': 'T-L-S-156K', 'target': 'T-L-S-K-219S', 'value': 7,  'color': cmap['t0']},\n",
    "    {'source': 'T-L-S-156mutation', 'target': 'T-L-S-X-219mutation', 'value': 1,  'color': cmap['t2']},\n",
    "    {'source': 'T-L-186mutation', 'target': 'T-L-X-156K', 'value': 1,  'color': cmap['t1']},\n",
    "    {'source': 'T-L-X-156K', 'target': 'T-L-X-K-219S', 'value': 1,  'color': cmap['t1']},\n",
    "    \n",
    "    #T160X\n",
    "    \n",
    "    \n",
    "    #T160K\n",
    "    {'source': '160T passaged\\n in eggs', 'target': 'T160K', 'value': 46, 'color': cmap['t1']},\n",
    "    {'source': 'T160K', 'target': 'X-194L', 'value': 6, 'color': cmap['t1']},\n",
    "    {'source': 'T160K', 'target': 'X-194mutation', 'value': 40, 'color': cmap['t2']},\n",
    "    {'source': 'X-194L', 'target': 'X-L-186mutation', 'value': 6, 'color': cmap['t2']},\n",
    "    {'source': 'X-194mutation', 'target': 'X-X-186S', 'value': 40, 'color': cmap['t2']},\n",
    "    {'source': 'X-L-186mutation', 'target': 'X-L-X-156K', 'value': 5, 'color': cmap['t2']},\n",
    "    {'source': 'X-L-186mutation', 'target': 'X-L-X-156mutation', 'value': 1, 'color': cmap['t3']},\n",
    "    {'source': 'X-X-186S', 'target': 'X-X-S-156K', 'value': 40, 'color': cmap['t2']},\n",
    "    {'source': 'X-L-X-156K', 'target': 'X-L-X-K-219S', 'value': 3, 'color': cmap['t2']},\n",
    "    {'source': 'X-L-X-156K', 'target': 'X-L-X-K-219mutation', 'value': 2, 'color': cmap['t3']},\n",
    "    {'source': 'X-L-X-156mutation', 'target': 'X-L-X-X-219S', 'value': 1, 'color': cmap['t3']},\n",
    "    {'source': 'X-X-S-156K', 'target': 'X-X-S-K-219S', 'value': 39, 'color': cmap['t2']},\n",
    "    {'source': 'X-X-S-156K', 'target': 'X-X-S-K-219mutation', 'value': 1, 'color': cmap['t3']},\n",
    "    \n",
    "    #160K\n",
    "    {'source': '160K passaged\\n in eggs', 'target': '160K', 'value': 181, 'color': cmap['k0']},\n",
    "    {'source': '160K', 'target': 'K-194L', 'value': 132, 'color': cmap['k0']},\n",
    "    {'source': '160K', 'target': 'K-194mutation', 'value': 49, 'color': cmap['k1']},\n",
    "    {'source': 'K-194L', 'target': 'K-L-186S', 'value': 66, 'color': cmap['k0']},\n",
    "    {'source': 'K-194L', 'target': 'K-L-186mutation', 'value': 66, 'color': cmap['k1']},\n",
    "    {'source': 'K-194mutation', 'target': 'K-X-186S', 'value': 48, 'color': cmap['k1']},\n",
    "    {'source': 'K-194mutation', 'target': 'K-X-186mutation', 'value': 1, 'color': cmap['k2']},\n",
    "    {'source': 'K-L-186S', 'target': 'K-L-S-156K', 'value': 59, 'color': cmap['k0']},\n",
    "    {'source': 'K-L-186S', 'target': 'K-L-S-156mutation', 'value': 7, 'color': cmap['k1']},\n",
    "    {'source': 'K-L-186mutation', 'target': 'K-L-X-156K', 'value': 50, 'color': cmap['k1']},\n",
    "    {'source': 'K-L-186mutation', 'target': 'K-L-X-156mutation', 'value': 16, 'color': cmap['k2']},\n",
    "    {'source': 'K-X-186S', 'target': 'K-X-S-156K', 'value': 48, 'color': cmap['k1']},\n",
    "    {'source': 'K-X-186mutation', 'target': 'K-X-X-156K', 'value': 1, 'color': cmap['k2']},\n",
    "    {'source': 'K-L-S-156K', 'target': 'K-L-S-K-219S', 'value': 59, 'color': cmap['k0']},\n",
    "    {'source': 'K-L-S-156mutation', 'target': 'K-L-S-X-219S', 'value': 6, 'color': cmap['k1']},\n",
    "    {'source': 'K-L-S-156mutation', 'target': 'K-L-S-X-219mutation', 'value': 1, 'color': cmap['k2']},\n",
    "    {'source': 'K-L-X-156K', 'target': 'K-L-X-K-219S', 'value': 28, 'color': cmap['k1']},\n",
    "    {'source': 'K-L-X-156K', 'target': 'K-L-X-K-219mutation', 'value': 22, 'color': cmap['k2']},\n",
    "    {'source': 'K-L-X-156mutation', 'target': 'K-L-X-X-219S', 'value': 12, 'color': cmap['k2']},\n",
    "    {'source': 'K-L-X-156mutation', 'target': 'K-L-X-X-219mutation', 'value': 4, 'color': cmap['k3']},\n",
    "    {'source': 'K-X-S-156K', 'target': 'K-X-S-K-219S', 'value': 48, 'color': cmap['k1']},\n",
    "    {'source': 'K-X-X-156K', 'target': 'K-X-X-K-219S', 'value': 1, 'color': cmap['k2']},\n",
    "    \n",
    "]\n",
    "\n",
    "nodes = [\n",
    "    {'id': '160K', 'title': ' '},\n",
    "    {'id': '160T', 'title': ' '},\n",
    "    {'id': 'T160K', 'title': 'T160K', 'style': 'process'},\n",
    "    \n",
    "    {'id': 'K-194L', 'title': ' '},\n",
    "    {'id': 'T-194L', 'title': ' '},\n",
    "    {'id': 'X-194L', 'title': ' '},\n",
    "    {'id': 'K-194mutation', 'title': '*194 mut*', 'style': 'process' },\n",
    "    {'id': 'T-194mutation', 'title': '*194 mut*', 'style': 'process' },\n",
    "    {'id': 'X-194mutation', 'title': '*194 mut*', 'style': 'process' },\n",
    "    \n",
    "    {'id': 'T-L-186S', 'title': ' '},\n",
    "    {'id': 'T-L-186mutation', 'title': '*186 mut*', 'style': 'process' },\n",
    "    {'id': 'T-X-186S', 'title': ' '},\n",
    "    {'id': 'X-L-186mutation', 'title': '*186 mut*', 'style': 'process' },\n",
    "    {'id': 'X-X-186S', 'title': ' '},\n",
    "    {'id': 'K-L-186S', 'title': ' '},\n",
    "    {'id': 'K-L-186mutation', 'title': '*186 mut*', 'style': 'process' },\n",
    "    {'id': 'K-X-186S', 'title': ' '},\n",
    "    {'id': 'K-X-186mutation', 'title': '*186 mut*', 'style': 'process' },\n",
    "    \n",
    "    {'id': 'T-X-S-156K', 'title': ' '},\n",
    "    {'id': 'T-L-S-156K', 'title': ' '},\n",
    "    {'id': 'T-L-S-156mutation', 'title': '*156 mut*', 'style': 'process' },\n",
    "    {'id': 'T-L-X-156K', 'title': ' '},\n",
    "    {'id': 'X-L-X-156K', 'title': ' '},\n",
    "    {'id': 'X-L-X-156mutation', 'title': '*156 mut*', 'style': 'process' },\n",
    "    {'id': 'X-X-S-156K', 'title': ' '},\n",
    "    {'id': 'K-L-S-156K', 'title': ' '},\n",
    "    {'id': 'K-L-S-156mutation', 'title': '*156 mut*', 'style': 'process' },\n",
    "    {'id': 'K-L-X-156K', 'title': ' '},\n",
    "    {'id': 'K-L-X-156mutation', 'title': '*156 mut*', 'style': 'process' },\n",
    "    {'id': 'K-X-S-156K', 'title': ' '},\n",
    "    {'id': 'K-X-X-156K', 'title': ' '},\n",
    "    \n",
    "    {'id': 'T-L-S-K-219S', 'title': ' '},\n",
    "    {'id': 'T-L-X-K-219S', 'title': ' '},\n",
    "    {'id': 'T-X-S-K-219S', 'title': ' '},\n",
    "    {'id': 'X-L-X-K-219S', 'title': ' '},\n",
    "    {'id': 'T-L-S-X-219mutation', 'title': '*219 mut*' , 'style': 'process' },\n",
    "    {'id': 'X-L-X-K-219mutation', 'title': '*219 mut*' , 'style': 'process' },\n",
    "    {'id': 'X-L-X-X-219S', 'title': ' '},\n",
    "    {'id': 'X-X-S-K-219S', 'title': ' '},\n",
    "    {'id': 'X-X-S-K-219mutation', 'title': '*219 mut*' , 'style': 'process' },\n",
    "    {'id': 'K-L-S-K-219S', 'title': ' '},\n",
    "    {'id': 'K-L-S-X-219S', 'title': ' '},\n",
    "    {'id': 'K-L-S-X-219mutation', 'title': '*219 mut*', 'style': 'process'},\n",
    "    {'id': 'K-L-X-K-219S', 'title': ' '},\n",
    "    {'id': 'K-L-X-K-219mutation', 'title': '*219 mut*', 'style': 'process'},\n",
    "    {'id': 'K-L-X-X-219S', 'title': ' '},\n",
    "    {'id': 'K-L-X-X-219mutation', 'title': '*219 mut*', 'style': 'process'},\n",
    "    {'id': 'K-X-S-K-219S', 'title': ' '},\n",
    "    {'id': 'K-X-X-K-219S', 'title': ' '},\n",
    "]\n",
    "\n",
    "groups = [{'id': 'unpassaged genotype', 'title': 'unpassaged genotype', 'nodes': ['160T passaged\\n in eggs', '160K passaged\\n in eggs']},\n",
    "    {'id': '160', 'title': '160', 'nodes': ['160T', '160K','T160K']},\n",
    "    {'id': '194', 'title': '194', 'nodes': ['K-194L', 'T-194L', 'X-194L', 'K-194mutation', 'T-194mutation', 'X-194mutation']},\n",
    "    {'id': '186', 'title': '186', 'nodes': ['T-L-186S', 'T-L-186mutation', 'T-X-186S', 'X-L-186mutation', 'X-X-186S', 'K-L-186S', 'K-L-186mutation', 'K-X-186S', 'K-X-186mutation']},\n",
    "    {'id': '156', 'title': '156', 'nodes': ['T-X-S-156K', 'T-L-S-156K','T-L-S-156mutation', 'T-L-X-156K', 'X-L-X-156K', 'X-L-X-156mutation', 'X-X-S-156K', 'K-L-S-156K', 'K-L-S-156mutation', 'K-L-X-156K', 'K-L-X-156mutation', 'K-X-S-156K', 'K-X-X-156K']},\n",
    "    {'id': '219', 'title': '219', 'nodes': ['X-X-S-K-219mutation','T-L-X-K-219mutation','T-L-S-K-219S','T-L-X-K-219S','T-X-S-K-219S','X-L-X-K-219S','X-L-X-K-219mutation','X-L-X-X-219S','X-X-S-K-219S','K-L-S-K-219S','K-L-S-X-219S','K-L-S-X-219mutation','K-L-X-K-219S','K-L-X-K-219mutation','K-L-X-X-219S','K-L-X-X-219mutation','K-X-S-K-219S','K-X-X-K-219S']},\n",
    "]\n",
    "\n",
    "\n",
    "sankey= SankeyWidget(links=links, nodes=nodes, groups=groups, layout=layout, margins=dict(top=10, bottom=0, left=100, right=70))\n",
    "sankey"
   ]
  }
 ],
 "metadata": {
  "kernelspec": {
   "display_name": "Python 2",
   "language": "python",
   "name": "python2"
  },
  "language_info": {
   "codemirror_mode": {
    "name": "ipython",
    "version": 2
   },
   "file_extension": ".py",
   "mimetype": "text/x-python",
   "name": "python",
   "nbconvert_exporter": "python",
   "pygments_lexer": "ipython2",
   "version": "2.7.14"
  }
 },
 "nbformat": 4,
 "nbformat_minor": 2
}
