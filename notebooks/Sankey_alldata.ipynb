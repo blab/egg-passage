{
 "cells": [
  {
   "cell_type": "code",
   "execution_count": 1,
   "metadata": {
    "collapsed": true
   },
   "outputs": [],
   "source": [
    "import pandas as pd\n",
    "import numpy as np\n",
    "import json\n",
    "from Bio import SeqIO\n",
    "import seaborn as sns\n",
    "import matplotlib.pyplot as plt\n",
    "%matplotlib inline"
   ]
  },
  {
   "cell_type": "code",
   "execution_count": 2,
   "metadata": {},
   "outputs": [
    {
     "ename": "IOError",
     "evalue": "File ../dataframes/auspice_df.csv does not exist",
     "output_type": "error",
     "traceback": [
      "\u001b[0;31m---------------------------------------------------------------------------\u001b[0m",
      "\u001b[0;31mIOError\u001b[0m                                   Traceback (most recent call last)",
      "\u001b[0;32m<ipython-input-2-5d7fdba168bd>\u001b[0m in \u001b[0;36m<module>\u001b[0;34m()\u001b[0m\n\u001b[1;32m      1\u001b[0m \u001b[0;31m#Import organized Auspice data\u001b[0m\u001b[0;34m\u001b[0m\u001b[0;34m\u001b[0m\u001b[0m\n\u001b[0;32m----> 2\u001b[0;31m \u001b[0mdf\u001b[0m \u001b[0;34m=\u001b[0m \u001b[0mpd\u001b[0m\u001b[0;34m.\u001b[0m\u001b[0mread_csv\u001b[0m\u001b[0;34m(\u001b[0m\u001b[0;34m'../dataframes/auspice_df.csv'\u001b[0m\u001b[0;34m,\u001b[0m \u001b[0mindex_col\u001b[0m\u001b[0;34m=\u001b[0m\u001b[0;36m0\u001b[0m\u001b[0;34m)\u001b[0m\u001b[0;34m\u001b[0m\u001b[0m\n\u001b[0m\u001b[1;32m      3\u001b[0m \u001b[0megg_df\u001b[0m \u001b[0;34m=\u001b[0m \u001b[0mpd\u001b[0m\u001b[0;34m.\u001b[0m\u001b[0mread_csv\u001b[0m\u001b[0;34m(\u001b[0m\u001b[0;34m'../dataframes/egg_df.csv'\u001b[0m\u001b[0;34m,\u001b[0m \u001b[0mindex_col\u001b[0m\u001b[0;34m=\u001b[0m\u001b[0;36m0\u001b[0m\u001b[0;34m)\u001b[0m\u001b[0;34m\u001b[0m\u001b[0m\n",
      "\u001b[0;32m/anaconda2/lib/python2.7/site-packages/pandas/io/parsers.pyc\u001b[0m in \u001b[0;36mparser_f\u001b[0;34m(filepath_or_buffer, sep, delimiter, header, names, index_col, usecols, squeeze, prefix, mangle_dupe_cols, dtype, engine, converters, true_values, false_values, skipinitialspace, skiprows, nrows, na_values, keep_default_na, na_filter, verbose, skip_blank_lines, parse_dates, infer_datetime_format, keep_date_col, date_parser, dayfirst, iterator, chunksize, compression, thousands, decimal, lineterminator, quotechar, quoting, escapechar, comment, encoding, dialect, tupleize_cols, error_bad_lines, warn_bad_lines, skipfooter, skip_footer, doublequote, delim_whitespace, as_recarray, compact_ints, use_unsigned, low_memory, buffer_lines, memory_map, float_precision)\u001b[0m\n\u001b[1;32m    653\u001b[0m                     skip_blank_lines=skip_blank_lines)\n\u001b[1;32m    654\u001b[0m \u001b[0;34m\u001b[0m\u001b[0m\n\u001b[0;32m--> 655\u001b[0;31m         \u001b[0;32mreturn\u001b[0m \u001b[0m_read\u001b[0m\u001b[0;34m(\u001b[0m\u001b[0mfilepath_or_buffer\u001b[0m\u001b[0;34m,\u001b[0m \u001b[0mkwds\u001b[0m\u001b[0;34m)\u001b[0m\u001b[0;34m\u001b[0m\u001b[0m\n\u001b[0m\u001b[1;32m    656\u001b[0m \u001b[0;34m\u001b[0m\u001b[0m\n\u001b[1;32m    657\u001b[0m     \u001b[0mparser_f\u001b[0m\u001b[0;34m.\u001b[0m\u001b[0m__name__\u001b[0m \u001b[0;34m=\u001b[0m \u001b[0mname\u001b[0m\u001b[0;34m\u001b[0m\u001b[0m\n",
      "\u001b[0;32m/anaconda2/lib/python2.7/site-packages/pandas/io/parsers.pyc\u001b[0m in \u001b[0;36m_read\u001b[0;34m(filepath_or_buffer, kwds)\u001b[0m\n\u001b[1;32m    403\u001b[0m \u001b[0;34m\u001b[0m\u001b[0m\n\u001b[1;32m    404\u001b[0m     \u001b[0;31m# Create the parser.\u001b[0m\u001b[0;34m\u001b[0m\u001b[0;34m\u001b[0m\u001b[0m\n\u001b[0;32m--> 405\u001b[0;31m     \u001b[0mparser\u001b[0m \u001b[0;34m=\u001b[0m \u001b[0mTextFileReader\u001b[0m\u001b[0;34m(\u001b[0m\u001b[0mfilepath_or_buffer\u001b[0m\u001b[0;34m,\u001b[0m \u001b[0;34m**\u001b[0m\u001b[0mkwds\u001b[0m\u001b[0;34m)\u001b[0m\u001b[0;34m\u001b[0m\u001b[0m\n\u001b[0m\u001b[1;32m    406\u001b[0m \u001b[0;34m\u001b[0m\u001b[0m\n\u001b[1;32m    407\u001b[0m     \u001b[0;32mif\u001b[0m \u001b[0mchunksize\u001b[0m \u001b[0;32mor\u001b[0m \u001b[0miterator\u001b[0m\u001b[0;34m:\u001b[0m\u001b[0;34m\u001b[0m\u001b[0m\n",
      "\u001b[0;32m/anaconda2/lib/python2.7/site-packages/pandas/io/parsers.pyc\u001b[0m in \u001b[0;36m__init__\u001b[0;34m(self, f, engine, **kwds)\u001b[0m\n\u001b[1;32m    762\u001b[0m             \u001b[0mself\u001b[0m\u001b[0;34m.\u001b[0m\u001b[0moptions\u001b[0m\u001b[0;34m[\u001b[0m\u001b[0;34m'has_index_names'\u001b[0m\u001b[0;34m]\u001b[0m \u001b[0;34m=\u001b[0m \u001b[0mkwds\u001b[0m\u001b[0;34m[\u001b[0m\u001b[0;34m'has_index_names'\u001b[0m\u001b[0;34m]\u001b[0m\u001b[0;34m\u001b[0m\u001b[0m\n\u001b[1;32m    763\u001b[0m \u001b[0;34m\u001b[0m\u001b[0m\n\u001b[0;32m--> 764\u001b[0;31m         \u001b[0mself\u001b[0m\u001b[0;34m.\u001b[0m\u001b[0m_make_engine\u001b[0m\u001b[0;34m(\u001b[0m\u001b[0mself\u001b[0m\u001b[0;34m.\u001b[0m\u001b[0mengine\u001b[0m\u001b[0;34m)\u001b[0m\u001b[0;34m\u001b[0m\u001b[0m\n\u001b[0m\u001b[1;32m    765\u001b[0m \u001b[0;34m\u001b[0m\u001b[0m\n\u001b[1;32m    766\u001b[0m     \u001b[0;32mdef\u001b[0m \u001b[0mclose\u001b[0m\u001b[0;34m(\u001b[0m\u001b[0mself\u001b[0m\u001b[0;34m)\u001b[0m\u001b[0;34m:\u001b[0m\u001b[0;34m\u001b[0m\u001b[0m\n",
      "\u001b[0;32m/anaconda2/lib/python2.7/site-packages/pandas/io/parsers.pyc\u001b[0m in \u001b[0;36m_make_engine\u001b[0;34m(self, engine)\u001b[0m\n\u001b[1;32m    983\u001b[0m     \u001b[0;32mdef\u001b[0m \u001b[0m_make_engine\u001b[0m\u001b[0;34m(\u001b[0m\u001b[0mself\u001b[0m\u001b[0;34m,\u001b[0m \u001b[0mengine\u001b[0m\u001b[0;34m=\u001b[0m\u001b[0;34m'c'\u001b[0m\u001b[0;34m)\u001b[0m\u001b[0;34m:\u001b[0m\u001b[0;34m\u001b[0m\u001b[0m\n\u001b[1;32m    984\u001b[0m         \u001b[0;32mif\u001b[0m \u001b[0mengine\u001b[0m \u001b[0;34m==\u001b[0m \u001b[0;34m'c'\u001b[0m\u001b[0;34m:\u001b[0m\u001b[0;34m\u001b[0m\u001b[0m\n\u001b[0;32m--> 985\u001b[0;31m             \u001b[0mself\u001b[0m\u001b[0;34m.\u001b[0m\u001b[0m_engine\u001b[0m \u001b[0;34m=\u001b[0m \u001b[0mCParserWrapper\u001b[0m\u001b[0;34m(\u001b[0m\u001b[0mself\u001b[0m\u001b[0;34m.\u001b[0m\u001b[0mf\u001b[0m\u001b[0;34m,\u001b[0m \u001b[0;34m**\u001b[0m\u001b[0mself\u001b[0m\u001b[0;34m.\u001b[0m\u001b[0moptions\u001b[0m\u001b[0;34m)\u001b[0m\u001b[0;34m\u001b[0m\u001b[0m\n\u001b[0m\u001b[1;32m    986\u001b[0m         \u001b[0;32melse\u001b[0m\u001b[0;34m:\u001b[0m\u001b[0;34m\u001b[0m\u001b[0m\n\u001b[1;32m    987\u001b[0m             \u001b[0;32mif\u001b[0m \u001b[0mengine\u001b[0m \u001b[0;34m==\u001b[0m \u001b[0;34m'python'\u001b[0m\u001b[0;34m:\u001b[0m\u001b[0;34m\u001b[0m\u001b[0m\n",
      "\u001b[0;32m/anaconda2/lib/python2.7/site-packages/pandas/io/parsers.pyc\u001b[0m in \u001b[0;36m__init__\u001b[0;34m(self, src, **kwds)\u001b[0m\n\u001b[1;32m   1603\u001b[0m         \u001b[0mkwds\u001b[0m\u001b[0;34m[\u001b[0m\u001b[0;34m'allow_leading_cols'\u001b[0m\u001b[0;34m]\u001b[0m \u001b[0;34m=\u001b[0m \u001b[0mself\u001b[0m\u001b[0;34m.\u001b[0m\u001b[0mindex_col\u001b[0m \u001b[0;32mis\u001b[0m \u001b[0;32mnot\u001b[0m \u001b[0mFalse\u001b[0m\u001b[0;34m\u001b[0m\u001b[0m\n\u001b[1;32m   1604\u001b[0m \u001b[0;34m\u001b[0m\u001b[0m\n\u001b[0;32m-> 1605\u001b[0;31m         \u001b[0mself\u001b[0m\u001b[0;34m.\u001b[0m\u001b[0m_reader\u001b[0m \u001b[0;34m=\u001b[0m \u001b[0mparsers\u001b[0m\u001b[0;34m.\u001b[0m\u001b[0mTextReader\u001b[0m\u001b[0;34m(\u001b[0m\u001b[0msrc\u001b[0m\u001b[0;34m,\u001b[0m \u001b[0;34m**\u001b[0m\u001b[0mkwds\u001b[0m\u001b[0;34m)\u001b[0m\u001b[0;34m\u001b[0m\u001b[0m\n\u001b[0m\u001b[1;32m   1606\u001b[0m \u001b[0;34m\u001b[0m\u001b[0m\n\u001b[1;32m   1607\u001b[0m         \u001b[0;31m# XXX\u001b[0m\u001b[0;34m\u001b[0m\u001b[0;34m\u001b[0m\u001b[0m\n",
      "\u001b[0;32mpandas/_libs/parsers.pyx\u001b[0m in \u001b[0;36mpandas._libs.parsers.TextReader.__cinit__ (pandas/_libs/parsers.c:4209)\u001b[0;34m()\u001b[0m\n",
      "\u001b[0;32mpandas/_libs/parsers.pyx\u001b[0m in \u001b[0;36mpandas._libs.parsers.TextReader._setup_parser_source (pandas/_libs/parsers.c:8873)\u001b[0;34m()\u001b[0m\n",
      "\u001b[0;31mIOError\u001b[0m: File ../dataframes/auspice_df.csv does not exist"
     ]
    }
   ],
   "source": [
    "#Import organized Auspice data\n",
    "df = pd.read_csv('../dataframes/auspice_df.csv', index_col=0)\n",
    "egg_df = pd.read_csv('../dataframes/egg_df.csv', index_col=0)"
   ]
  },
  {
   "cell_type": "code",
   "execution_count": null,
   "metadata": {
    "collapsed": true
   },
   "outputs": [],
   "source": [
    "#Define positions\n",
    "positions= [194,186,160,225,219,156,203,138]"
   ]
  },
  {
   "cell_type": "code",
   "execution_count": null,
   "metadata": {},
   "outputs": [],
   "source": [
    "egg_df.groupby(['160','mut160'])['circulating160'].value_counts()"
   ]
  },
  {
   "cell_type": "code",
   "execution_count": null,
   "metadata": {},
   "outputs": [],
   "source": [
    "print(len(egg_df[egg_df['160']!='K']))\n",
    "print(len(egg_df[(egg_df['160']=='K')&(egg_df['mut160']==1)]))\n",
    "egg_df.groupby(['160','mut160'])['circulating160'].value_counts()"
   ]
  },
  {
   "cell_type": "code",
   "execution_count": null,
   "metadata": {},
   "outputs": [],
   "source": [
    "egg_df[(egg_df['160']=='K')|(egg_df['160']=='T')].groupby(['160','mut160','mut194','mut186','mut156', 'mut219'])['strain'].agg('count')"
   ]
  },
  {
   "cell_type": "code",
   "execution_count": null,
   "metadata": {},
   "outputs": [],
   "source": [
    "egg_df[(egg_df['160']!='K')&(egg_df['160']!='T')].groupby(['mut160','mut194','mut186','mut156', 'mut219'])['strain'].agg('count')"
   ]
  },
  {
   "cell_type": "code",
   "execution_count": 3,
   "metadata": {},
   "outputs": [
    {
     "data": {
      "application/vnd.jupyter.widget-view+json": {
       "model_id": "faacb21941e04a228c1fd0da2e14e26c",
       "version_major": 2,
       "version_minor": 0
      },
      "text/plain": [
       "A Jupyter Widget"
      ]
     },
     "metadata": {},
     "output_type": "display_data"
    }
   ],
   "source": [
    "#Sankay\n",
    "from ipysankeywidget import SankeyWidget\n",
    "from ipywidgets import Layout\n",
    "\n",
    "\n",
    "cmap = {'t0':'#fddbc7', 't1': '#f4a582', 't2': '#d6604d', 't3': '#b2182b', \n",
    "        'k0': '#d1e5f0', 'k1': '#92c5de', 'k2': '#4393c3', 'k3': '#2166ac'}\n",
    "\n",
    "layout = Layout(width=\"1000\", height=\"600\")\n",
    "links = [\n",
    "    #160T\n",
    "    {'source': '160T passaged\\n in eggs', 'target': '160T', 'value': 12, 'color': cmap['t0']},\n",
    "    {'source': '160T', 'target': 'T-194L', 'value': 9, 'color': cmap['t0']},\n",
    "    {'source': '160T', 'target': 'T-194mutation', 'value': 3,  'color': cmap['t1']},\n",
    "    {'source': 'T-194L', 'target': 'T-L-186S', 'value': 8,  'color': cmap['t0']},\n",
    "    {'source': 'T-194L', 'target': 'T-L-186mutation', 'value': 1,  'color': cmap['t1']},\n",
    "    {'source': 'T-194mutation', 'target': 'T-X-186S', 'value': 3,  'color': cmap['t1']},\n",
    "    {'source': 'T-X-186S', 'target': 'T-X-S-156K', 'value': 3,  'color': cmap['t1']},\n",
    "    {'source': 'T-X-S-156K', 'target': 'T-X-S-K-219S', 'value': 3,  'color': cmap['t1']},\n",
    "    {'source': 'T-L-186S', 'target': 'T-L-S-156K', 'value': 7,  'color': cmap['t0']},\n",
    "    {'source': 'T-L-186S', 'target': 'T-L-S-156mutation', 'value': 1,  'color': cmap['t1']},\n",
    "    {'source': 'T-L-S-156K', 'target': 'T-L-S-K-219S', 'value': 7,  'color': cmap['t0']},\n",
    "    {'source': 'T-L-S-156mutation', 'target': 'T-L-S-X-219mutation', 'value': 1,  'color': cmap['t2']},\n",
    "    {'source': 'T-L-186mutation', 'target': 'T-L-X-156K', 'value': 1,  'color': cmap['t1']},\n",
    "    {'source': 'T-L-X-156K', 'target': 'T-L-X-K-219S', 'value': 1,  'color': cmap['t1']},\n",
    "    \n",
    "    #T160X\n",
    "    {'source': '160T passaged\\n in eggs', 'target': 'T160(A/I/R)', 'value': 6, 'color': cmap['t1']},\n",
    "    {'source': 'T160(A/I/R)', 'target': 'A-194L', 'value': 2, 'color': cmap['t1']},\n",
    "    {'source': 'T160(A/I/R)', 'target': 'A-194mutation', 'value': 4, 'color': cmap['t2']},\n",
    "    {'source': 'A-194L', 'target': 'A-L-186mutation', 'value': 2, 'color': cmap['t2']},\n",
    "    {'source': 'A-194mutation', 'target': 'A-X-186S', 'value': 4, 'color': cmap['t2']},\n",
    "    {'source': 'A-L-186mutation', 'target': 'A-L-X-156K', 'value': 2, 'color': cmap['t2']},\n",
    "    {'source': 'A-X-186S', 'target': 'A-X-S-156K', 'value': 4, 'color': cmap['t2']},\n",
    "    {'source': 'A-X-S-156K', 'target': 'A-X-S-K-219S', 'value': 4, 'color': cmap['t2']},\n",
    "    {'source': 'A-L-X-156K', 'target': 'A-L-X-K-219S', 'value': 1, 'color': cmap['t2']},\n",
    "    {'source': 'A-L-X-156K', 'target': 'A-L-X-K-219mutation', 'value': 1, 'color': cmap['t3']},\n",
    "    \n",
    "    #T160K\n",
    "    {'source': '160T passaged\\n in eggs', 'target': 'T160K', 'value': 46, 'color': cmap['t1']},\n",
    "    {'source': 'T160K', 'target': 'X-194L', 'value': 6, 'color': cmap['t1']},\n",
    "    {'source': 'T160K', 'target': 'X-194mutation', 'value': 40, 'color': cmap['t2']},\n",
    "    {'source': 'X-194L', 'target': 'X-L-186mutation', 'value': 6, 'color': cmap['t2']},\n",
    "    {'source': 'X-194mutation', 'target': 'X-X-186S', 'value': 40, 'color': cmap['t2']},\n",
    "    {'source': 'X-L-186mutation', 'target': 'X-L-X-156K', 'value': 5, 'color': cmap['t2']},\n",
    "    {'source': 'X-L-186mutation', 'target': 'X-L-X-156mutation', 'value': 1, 'color': cmap['t3']},\n",
    "    {'source': 'X-X-186S', 'target': 'X-X-S-156K', 'value': 40, 'color': cmap['t2']},\n",
    "    {'source': 'X-L-X-156K', 'target': 'X-L-X-K-219S', 'value': 3, 'color': cmap['t2']},\n",
    "    {'source': 'X-L-X-156K', 'target': 'X-L-X-K-219mutation', 'value': 2, 'color': cmap['t3']},\n",
    "    {'source': 'X-L-X-156mutation', 'target': 'X-L-X-X-219S', 'value': 1, 'color': cmap['t3']},\n",
    "    {'source': 'X-X-S-156K', 'target': 'X-X-S-K-219S', 'value': 39, 'color': cmap['t2']},\n",
    "    {'source': 'X-X-S-156K', 'target': 'X-X-S-K-219mutation', 'value': 1, 'color': cmap['t3']},\n",
    "    \n",
    "    #160K\n",
    "    {'source': '160K passaged\\n in eggs', 'target': '160K', 'value': 181, 'color': cmap['k0']},\n",
    "    {'source': '160K', 'target': 'K-194L', 'value': 132, 'color': cmap['k0']},\n",
    "    {'source': '160K', 'target': 'K-194mutation', 'value': 49, 'color': cmap['k1']},\n",
    "    {'source': 'K-194L', 'target': 'K-L-186S', 'value': 66, 'color': cmap['k0']},\n",
    "    {'source': 'K-194L', 'target': 'K-L-186mutation', 'value': 66, 'color': cmap['k1']},\n",
    "    {'source': 'K-194mutation', 'target': 'K-X-186S', 'value': 48, 'color': cmap['k1']},\n",
    "    {'source': 'K-194mutation', 'target': 'K-X-186mutation', 'value': 1, 'color': cmap['k2']},\n",
    "    {'source': 'K-L-186S', 'target': 'K-L-S-156K', 'value': 59, 'color': cmap['k0']},\n",
    "    {'source': 'K-L-186S', 'target': 'K-L-S-156mutation', 'value': 7, 'color': cmap['k1']},\n",
    "    {'source': 'K-L-186mutation', 'target': 'K-L-X-156K', 'value': 50, 'color': cmap['k1']},\n",
    "    {'source': 'K-L-186mutation', 'target': 'K-L-X-156mutation', 'value': 16, 'color': cmap['k2']},\n",
    "    {'source': 'K-X-186S', 'target': 'K-X-S-156K', 'value': 48, 'color': cmap['k1']},\n",
    "    {'source': 'K-X-186mutation', 'target': 'K-X-X-156K', 'value': 1, 'color': cmap['k2']},\n",
    "    {'source': 'K-L-S-156K', 'target': 'K-L-S-K-219S', 'value': 59, 'color': cmap['k0']},\n",
    "    {'source': 'K-L-S-156mutation', 'target': 'K-L-S-X-219S', 'value': 6, 'color': cmap['k1']},\n",
    "    {'source': 'K-L-S-156mutation', 'target': 'K-L-S-X-219mutation', 'value': 1, 'color': cmap['k2']},\n",
    "    {'source': 'K-L-X-156K', 'target': 'K-L-X-K-219S', 'value': 28, 'color': cmap['k1']},\n",
    "    {'source': 'K-L-X-156K', 'target': 'K-L-X-K-219mutation', 'value': 22, 'color': cmap['k2']},\n",
    "    {'source': 'K-L-X-156mutation', 'target': 'K-L-X-X-219S', 'value': 12, 'color': cmap['k2']},\n",
    "    {'source': 'K-L-X-156mutation', 'target': 'K-L-X-X-219mutation', 'value': 4, 'color': cmap['k3']},\n",
    "    {'source': 'K-X-S-156K', 'target': 'K-X-S-K-219S', 'value': 48, 'color': cmap['k1']},\n",
    "    {'source': 'K-X-X-156K', 'target': 'K-X-X-K-219S', 'value': 1, 'color': cmap['k2']},\n",
    "    \n",
    "]\n",
    "\n",
    "nodes = [\n",
    "    {'id': '160K', 'title': ' '},\n",
    "    {'id': '160T', 'title': ' '},\n",
    "    {'id': 'T160K', 'title': 'T160K', 'style': 'process'},\n",
    "    {'id': 'T160(A/I/R)', 'title': 'T160(A/I/R)', 'style': 'process'},\n",
    "    \n",
    "    {'id': 'K-194L', 'title': ' '},\n",
    "    {'id': 'T-194L', 'title': ' '},\n",
    "    {'id': 'X-194L', 'title': ' '},\n",
    "    {'id': 'A-194L', 'title': ' '},\n",
    "    {'id': 'K-194mutation', 'title': '*194 mut*', 'style': 'process' },\n",
    "    {'id': 'T-194mutation', 'title': '*194 mut*', 'style': 'process' },\n",
    "    {'id': 'X-194mutation', 'title': '*194 mut*', 'style': 'process' },\n",
    "    {'id': 'A-194mutation', 'title': '*194 mut*', 'style': 'process' },\n",
    "    \n",
    "    {'id': 'T-L-186S', 'title': ' '},\n",
    "    {'id': 'T-L-186mutation', 'title': '*186 mut*', 'style': 'process' },\n",
    "    {'id': 'T-X-186S', 'title': ' '},\n",
    "    {'id': 'X-L-186mutation', 'title': '*186 mut*', 'style': 'process' },\n",
    "    {'id': 'X-X-186S', 'title': ' '},\n",
    "    {'id': 'A-L-186mutation', 'title': '*186 mut*', 'style': 'process' },\n",
    "    {'id': 'A-X-186S', 'title': ' '},\n",
    "    {'id': 'K-L-186S', 'title': ' '},\n",
    "    {'id': 'K-L-186mutation', 'title': '*186 mut*', 'style': 'process' },\n",
    "    {'id': 'K-X-186S', 'title': ' '},\n",
    "    {'id': 'K-X-186mutation', 'title': '*186 mut*', 'style': 'process' },\n",
    "    \n",
    "    {'id': 'T-X-S-156K', 'title': ' '},\n",
    "    {'id': 'T-L-S-156K', 'title': ' '},\n",
    "    {'id': 'T-L-S-156mutation', 'title': '*156 mut*', 'style': 'process' },\n",
    "    {'id': 'T-L-X-156K', 'title': ' '},\n",
    "    {'id': 'X-L-X-156K', 'title': ' '},\n",
    "    {'id': 'X-L-X-156mutation', 'title': '*156 mut*', 'style': 'process' },\n",
    "    {'id': 'X-X-S-156K', 'title': ' '},\n",
    "    {'id': 'K-L-S-156K', 'title': ' '},\n",
    "    {'id': 'A-L-X-156K', 'title': ' '},\n",
    "    {'id': 'A-X-S-156K', 'title': ' '},\n",
    "    {'id': 'K-L-S-156mutation', 'title': '*156 mut*', 'style': 'process' },\n",
    "    {'id': 'K-L-X-156K', 'title': ' '},\n",
    "    {'id': 'K-L-X-156mutation', 'title': '*156 mut*', 'style': 'process' },\n",
    "    {'id': 'K-X-S-156K', 'title': ' '},\n",
    "    {'id': 'K-X-X-156K', 'title': ' '},\n",
    "    \n",
    "    {'id': 'T-L-S-K-219S', 'title': ' '},\n",
    "    {'id': 'T-L-X-K-219S', 'title': ' '},\n",
    "    {'id': 'T-X-S-K-219S', 'title': ' '},\n",
    "    {'id': 'X-L-X-K-219S', 'title': ' '},\n",
    "    {'id': 'T-L-S-X-219mutation', 'title': '*219 mut*' , 'style': 'process' },\n",
    "    {'id': 'X-L-X-K-219mutation', 'title': '*219 mut*' , 'style': 'process' },\n",
    "    {'id': 'X-L-X-X-219S', 'title': ' '},\n",
    "    {'id': 'X-X-S-K-219S', 'title': ' '},\n",
    "    {'id': 'X-X-S-K-219mutation', 'title': '*219 mut*' , 'style': 'process' },\n",
    "    {'id': 'A-X-S-K-219S', 'title': ' '},\n",
    "    {'id': 'A-L-X-K-219S', 'title': ' '},\n",
    "    {'id': 'A-L-X-K-219mutation', 'title': '*219 mut*' , 'style': 'process' },\n",
    "    {'id': 'K-L-S-K-219S', 'title': ' '},\n",
    "    {'id': 'K-L-S-X-219S', 'title': ' '},\n",
    "    {'id': 'K-L-S-X-219mutation', 'title': '*219 mut*', 'style': 'process'},\n",
    "    {'id': 'K-L-X-K-219S', 'title': ' '},\n",
    "    {'id': 'K-L-X-K-219mutation', 'title': '*219 mut*', 'style': 'process'},\n",
    "    {'id': 'K-L-X-X-219S', 'title': ' '},\n",
    "    {'id': 'K-L-X-X-219mutation', 'title': '*219 mut*', 'style': 'process'},\n",
    "    {'id': 'K-X-S-K-219S', 'title': ' '},\n",
    "    {'id': 'K-X-X-K-219S', 'title': ' '},\n",
    "]\n",
    "\n",
    "groups = [{'id': 'unpassaged genotype', 'title': 'unpassaged genotype', 'nodes': ['160T passaged\\n in eggs', '160K passaged\\n in eggs']},\n",
    "    {'id': '160', 'title': '160', 'nodes': ['160T', '160K','T160K']},\n",
    "    {'id': '194', 'title': '194', 'nodes': ['K-194L', 'T-194L', 'X-194L', 'K-194mutation', 'T-194mutation', 'X-194mutation']},\n",
    "    {'id': '186', 'title': '186', 'nodes': ['T-L-186S', 'T-L-186mutation', 'T-X-186S', 'X-L-186mutation', 'X-X-186S', 'K-L-186S', 'K-L-186mutation', 'K-X-186S', 'K-X-186mutation']},\n",
    "    {'id': '156', 'title': '156', 'nodes': ['T-X-S-156K', 'T-L-S-156K','T-L-S-156mutation', 'T-L-X-156K', 'X-L-X-156K', 'X-L-X-156mutation', 'X-X-S-156K', 'K-L-S-156K', 'K-L-S-156mutation', 'K-L-X-156K', 'K-L-X-156mutation', 'K-X-S-156K', 'K-X-X-156K']},\n",
    "    {'id': '219', 'title': '219', 'nodes': ['X-X-S-K-219mutation','T-L-X-K-219mutation','T-L-S-K-219S','T-L-X-K-219S','T-X-S-K-219S','X-L-X-K-219S','X-L-X-K-219mutation','X-L-X-X-219S','X-X-S-K-219S','K-L-S-K-219S','K-L-S-X-219S','K-L-S-X-219mutation','K-L-X-K-219S','K-L-X-K-219mutation','K-L-X-X-219S','K-L-X-X-219mutation','K-X-S-K-219S','K-X-X-K-219S']},\n",
    "]\n",
    "\n",
    "\n",
    "sankey= SankeyWidget(links=links, nodes=nodes, groups=groups, layout=layout, margins=dict(top=10, bottom=0, left=100, right=70))\n",
    "sankey"
   ]
  }
 ],
 "metadata": {
  "kernelspec": {
   "display_name": "Python [conda env:py3]",
   "language": "python",
   "name": "conda-env-py3-py"
  },
  "language_info": {
   "codemirror_mode": {
    "name": "ipython",
    "version": 3
   },
   "file_extension": ".py",
   "mimetype": "text/x-python",
   "name": "python",
   "nbconvert_exporter": "python",
   "pygments_lexer": "ipython3",
   "version": "3.6.7"
  }
 },
 "nbformat": 4,
 "nbformat_minor": 2
}
