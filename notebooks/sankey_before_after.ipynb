{
 "cells": [
  {
   "cell_type": "code",
   "execution_count": 188,
   "metadata": {},
   "outputs": [],
   "source": [
    "import plotly.plotly as py\n",
    "from plotly import tools\n",
    "import plotly.graph_objs as go\n",
    "import pandas as pd\n",
    "import matplotlib.pyplot as plt\n",
    "# from ipysankeywidget import SankeyWidget\n",
    "# from ipywidgets import Layout\n",
    "from pySankey import sankey\n",
    "import plotly.io as pio\n"
   ]
  },
  {
   "cell_type": "code",
   "execution_count": 124,
   "metadata": {},
   "outputs": [],
   "source": [
    "df = pd.read_csv('../egg_passage/data/h3n2_6y_hi_egg_df.csv')\n",
    "\n",
    "sites = [col[3:] for col in df.columns if col[0:3]=='mut']\n",
    "\n",
    "before_after = []\n",
    "\n",
    "for site in sites:\n",
    "\n",
    "    group = df.groupby(['circulating'+site, site]).size().reset_index(name='count')\n",
    "    before_aas = list(group['circulating'+site].unique())\n",
    "    after_aas = list(group[site].unique())\n",
    "    \n",
    "    colors = ['rgba(128,0,0,1)', 'rgba(32,178,170,1)', 'rgba(0,0,128,1)', 'rgba(255,165,0,1)', 'rgba(153,50,204,1)', \n",
    "              'rgba(250,128,114,1)', 'rgba(100,149,237,1)', 'rgba(144,238,144,1)']\n",
    "    colors_transparent = ['rgba(128,0,0,0.5)', 'rgba(32,178,170,0.5)', 'rgba(0,0,128,0.5)', \n",
    "                          'rgba(255,165,0,0.5)', 'rgba(153,50,204,0.5)', 'rgba(250,128,114,0.5)', \n",
    "                          'rgba(100,149,237,0.5)', 'rgba(144,238,144,0.5)']\n",
    "    aa_colors = {}\n",
    "    aa_colors_transparent = {}\n",
    "    for aa in after_aas:\n",
    "        aa_colors[aa] = colors[after_aas.index(aa)]\n",
    "        aa_colors_transparent[aa] = colors_transparent[after_aas.index(aa)]\n",
    "        \n",
    "    before_id = {}\n",
    "    after_id = {}\n",
    "    labels = []\n",
    "    for i in range(len(before_aas)):\n",
    "        before_id[before_aas[i]] = i\n",
    "        labels.append(before_aas[i])\n",
    "    for i in range(len(after_aas)):\n",
    "        after_id[after_aas[i]] = i + len(before_aas)\n",
    "        labels.append(after_aas[i])\n",
    "        \n",
    "    label_colors = [aa_colors[label] for label in labels]\n",
    "\n",
    "    for k, v in group.iterrows():\n",
    "        if v['circulating'+site]== v[site]:\n",
    "            link_color = aa_colors_transparent[v[site]]\n",
    "        else:\n",
    "            link_color = aa_colors[v[site]]\n",
    "        before_after.append({'site': site, 'before': v['circulating'+site], 'source': before_id[v['circulating'+site]], \n",
    "                             'after': v[site], 'target': after_id[v[site]], 'count': v['count'], \n",
    "                             'link_color': link_color})\n",
    "\n",
    "\n",
    "before_after_df = pd.DataFrame(before_after)"
   ]
  },
  {
   "cell_type": "code",
   "execution_count": 321,
   "metadata": {},
   "outputs": [],
   "source": [
    "df = pd.read_csv('../egg_passage/data/h3n2_6y_hi_egg_df.csv')\n",
    "\n",
    "\n",
    "def sankey(site):\n",
    "    before_after = []\n",
    "    \n",
    "    group = df.groupby(['circulating'+site, site]).size().reset_index(name='count')\n",
    "    before_aas = list(group['circulating'+site].unique())\n",
    "    after_aas = list(group[site].unique())\n",
    "    \n",
    "    colors = ['rgba(73, 148, 206, 1)', 'rgba(242, 116, 32, 1)', 'rgba(127, 194, 65, 1)', \n",
    "              'rgba(211, 211, 211, 1)', 'rgba(250, 188, 19, 1)',\n",
    "              'rgba(138, 89, 136,1)', 'rgba(68, 158, 158,1)', 'rgba(158, 68, 68,1)']\n",
    "    colors_transparent = ['rgba(73, 148, 206, 0.25)', 'rgba(242, 116, 32, 0.25)', 'rgba(127, 194, 65, 0.25)', \n",
    "            'rgba(211, 211, 211, 0.25)', 'rgba(250, 188, 19, 0.25)',\n",
    "              'rgba(138, 89, 136,0.25)', 'rgba(68, 158, 158,0.25)', 'rgba(158, 68, 68,0.25)']\n",
    "    colors_node = ['rgba(73, 148, 206, 0.5)', 'rgba(242, 116, 32, 0.5)', 'rgba(127, 194, 65, 0.5)', \n",
    "        'rgba(211, 211, 211, 0.5)', 'rgba(250, 188, 19, 0.5)',\n",
    "          'rgba(138, 89, 136,0.5)', 'rgba(68, 158, 158,0.5)', 'rgba(158, 68, 68,0.5)']\n",
    "    aa_colors = {}\n",
    "    aa_colors_transparent = {}\n",
    "    aa_colors_node = {}\n",
    "    for aa in after_aas:\n",
    "        aa_colors[aa] = colors[after_aas.index(aa)]\n",
    "        aa_colors_transparent[aa] = colors_transparent[after_aas.index(aa)]\n",
    "        aa_colors_node[aa] = colors_node[after_aas.index(aa)]\n",
    "        \n",
    "    before_id = {}\n",
    "    after_id = {}\n",
    "    labels = []\n",
    "\n",
    "    for i in range(len(before_aas)):\n",
    "        before_id[before_aas[i]] = i\n",
    "        labels.append(before_aas[i])\n",
    "\n",
    "    for i in range(len(after_aas)):\n",
    "        after_id[after_aas[i]] = i + len(before_aas)\n",
    "        labels.append(after_aas[i])\n",
    "\n",
    "    label_colors = [aa_colors_node[label] for label in labels]\n",
    "\n",
    "    for k, v in group.iterrows():\n",
    "        if v['circulating'+site]== v[site]:\n",
    "            link_color = aa_colors_transparent[v[site]]\n",
    "        else:\n",
    "            link_color = aa_colors[v[site]]\n",
    "        before_after.append({'site': site, 'before': v['circulating'+site], 'source': before_id[v['circulating'+site]], \n",
    "                             'after': v[site], 'target': after_id[v[site]], 'count': v['count'], \n",
    "                             'link_color': link_color})\n",
    "\n",
    "    before_after_df = pd.DataFrame(before_after)\n",
    "    \n",
    "    sankey_trace = dict(\n",
    "        type='sankey',\n",
    "        textfont=dict(\n",
    "            size=28\n",
    "        ),\n",
    "        node = dict(\n",
    "            pad = 20,\n",
    "            thickness = 200,\n",
    "            line = dict(\n",
    "                width = 0\n",
    "            ), \n",
    "            label = labels, \n",
    "            color = label_colors\n",
    "        ),\n",
    "        link = dict(\n",
    "            source =  before_after_df['source'],\n",
    "            target =  before_after_df['target'],\n",
    "            value =  before_after_df['count'],\n",
    "            color = before_after_df['link_color']\n",
    "        ))\n",
    "\n",
    "    layout =  dict(\n",
    "        annotations = [dict(\n",
    "            x=0.47,\n",
    "            y=1.2,\n",
    "            font = dict(size = 24),\n",
    "            showarrow=False,\n",
    "            text= 'HA1 site '+str(site)),\n",
    "                       dict(\n",
    "            x=0.0,\n",
    "            y=1.2,\n",
    "            font = dict(size = 18),\n",
    "            showarrow=False,\n",
    "            text= 'Genotype<br>Before egg-passaging'),\n",
    "                       dict(\n",
    "            x=0.99,\n",
    "            y=1.2,\n",
    "            font = dict(size = 18),\n",
    "            showarrow=False,\n",
    "            text= 'Genotype<br>After egg-passaging')],\n",
    "    )\n",
    "\n",
    "    fig = dict(data=[sankey_trace], layout=layout)\n",
    "    return fig\n",
    "#     pio.write_image(fig, 'mutations_'+str(site)+'.png')\n"
   ]
  },
  {
   "cell_type": "code",
   "execution_count": 322,
   "metadata": {},
   "outputs": [
    {
     "data": {
      "text/html": [
       "<iframe id=\"igraph\" scrolling=\"no\" style=\"border:none;\" seamless=\"seamless\" src=\"https://plot.ly/~kistlerk/646.embed\" height=\"525px\" width=\"100%\"></iframe>"
      ],
      "text/plain": [
       "<plotly.tools.PlotlyDisplay object>"
      ]
     },
     "execution_count": 322,
     "metadata": {},
     "output_type": "execute_result"
    }
   ],
   "source": [
    "# positions = ['160', '194', '186', '225', '219', '203', '156', '138']\n",
    "# for position in positions:\n",
    "fig = sankey('160')\n",
    "py.iplot(fig)"
   ]
  },
  {
   "cell_type": "code",
   "execution_count": 197,
   "metadata": {},
   "outputs": [
    {
     "name": "stdout",
     "output_type": "stream",
     "text": [
      "pos 0,0 size 400,285\n",
      "pos 0,400 size 400,285\n",
      "pos 400,0 size 400,285\n",
      "pos 400,400 size 400,285\n"
     ]
    }
   ],
   "source": [
    "files = [\n",
    "  'mutations_138.png',\n",
    "  'mutations_194.png',\n",
    "  'mutations_160.png',\n",
    "  'mutations_186.png']\n",
    "\n",
    "result = Image.new(\"RGB\", (800, 800))\n",
    "\n",
    "for index, file in enumerate(files):\n",
    "    path = os.path.expanduser(file)\n",
    "    img = Image.open(path)\n",
    "    img.thumbnail((400, 400), Image.ANTIALIAS)\n",
    "    x = index // 2 * 400\n",
    "    y = index % 2 * 400\n",
    "    w, h = img.size\n",
    "    print('pos {0},{1} size {2},{3}'.format(x, y, w, h))\n",
    "    result.paste(img, (x, y, x + w, y + h))\n",
    "\n",
    "result.save(os.path.expanduser('image.png'))"
   ]
  },
  {
   "cell_type": "code",
   "execution_count": 81,
   "metadata": {},
   "outputs": [
    {
     "data": {
      "text/html": [
       "<iframe id=\"igraph\" scrolling=\"no\" style=\"border:none;\" seamless=\"seamless\" src=\"https://plot.ly/~kistlerk/480.embed\" height=\"525px\" width=\"100%\"></iframe>"
      ],
      "text/plain": [
       "<plotly.tools.PlotlyDisplay object>"
      ]
     },
     "execution_count": 81,
     "metadata": {},
     "output_type": "execute_result"
    }
   ],
   "source": [
    "#TRY PLOTLY\n",
    "# for site in sites:\n",
    "\n",
    "sub_df = before_after_df[before_after_df['site']== str(160)]\n",
    "before_aas = list(sub_df['before'].unique())\n",
    "after_aas = list(sub_df['after'].unique())\n",
    "all_labels = before_aas + after_aas\n",
    "\n",
    "colors = ['red', 'blue', 'green', 'orange', 'yellow', 'pink', 'purple', 'teal', 'black']\n",
    "color_id = {}\n",
    "n=0\n",
    "for a in after_aas:\n",
    "    color_id[a] = colors[n]\n",
    "    n+=1\n",
    "label_colors = [color_id[label] for label in all_labels]\n",
    "\n",
    "before_id = {}\n",
    "after_id = {}\n",
    "for i in range(len(before_aas)):\n",
    "    before_id[before_aas[i]] = i\n",
    "for i in range(len(after_aas)):\n",
    "    after_id[after_aas[i]] = i + len(before_aas)\n",
    "\n",
    "sankey_trace = dict(\n",
    "    type='sankey',\n",
    "    node = dict(\n",
    "        pad = 15,\n",
    "        thickness = 15,\n",
    "        line = dict(\n",
    "            color = \"black\",\n",
    "            width = 0\n",
    "        ), \n",
    "        label = all_labels, \n",
    "        color = label_colors\n",
    "    ),\n",
    "    link = dict(\n",
    "        source =  [],\n",
    "        target =  [],\n",
    "        value =  [],\n",
    "        color =  []\n",
    "    ))\n",
    "\n",
    "layout =  dict(\n",
    "    title = str(160),\n",
    "    font = dict(\n",
    "        size = 10))\n",
    "\n",
    "for k, v in sub_df.iterrows():\n",
    "    sankey_trace['link']['source'].append(before_id[v['before']]) \n",
    "    sankey_trace['link']['target'].append(after_id[v['after']])\n",
    "    sankey_trace['link']['value'].append(v['count'])\n",
    "    sankey_trace['link']['color'].append(v['color'])\n",
    "\n",
    "fig = dict(data=[sankey_trace], layout=layout)\n",
    "py.iplot(fig)\n"
   ]
  },
  {
   "cell_type": "code",
   "execution_count": 7,
   "metadata": {},
   "outputs": [
    {
     "data": {
      "application/vnd.jupyter.widget-view+json": {
       "model_id": "4d737caf590a483da6541eb0cff2d42e",
       "version_major": 2,
       "version_minor": 0
      },
      "text/plain": [
       "SankeyWidget(align_link_types=True, links=[{'source': 0.5, 'target': 2, 'value': 160, 'color': 'red'}, {'sourc…"
      ]
     },
     "metadata": {},
     "output_type": "display_data"
    }
   ],
   "source": [
    "#TRY SANKEY WIDGET\n",
    "# for site in sites:\n",
    "\n",
    "sub_df = before_after_df[before_after_df['site']== str(160)]\n",
    "before_aas = list(sub_df['before'].unique())\n",
    "after_aas = list(sub_df['after'].unique())\n",
    "all_labels = before_aas + after_aas\n",
    "\n",
    "colors = ['red', 'blue', 'green', 'orange', 'yellow', 'pink', 'purple', 'teal', 'black']\n",
    "color_id = {}\n",
    "n=0\n",
    "for a in after_aas:\n",
    "    color_id[a] = colors[n]\n",
    "    n+=1\n",
    "\n",
    "before_id = {}\n",
    "after_id = {}\n",
    "for i in range(len(before_aas)):\n",
    "    before_id[before_aas[i]] = i\n",
    "for i in range(len(after_aas)):\n",
    "    after_id[after_aas[i]] = i + len(before_aas)\n",
    "\n",
    "links = []\n",
    "nodes = []\n",
    "\n",
    "\n",
    "for k, v in sub_df.iterrows():\n",
    "    links.append({'source': (before_id[v['before']]+0.5), 'target': after_id[v['after']], \n",
    "                  'value': v['count'], 'color': color_id[v['after']]})\n",
    "\n",
    "for k,v in before_id.items():\n",
    "    before_total = sub_df[sub_df['before']==k]['count'].sum()\n",
    "    links.append({'source': v, 'target': (v+0.5), \n",
    "                  'value': before_total, 'color': color_id[k]})\n",
    "    nodes.append({'id': v, 'title': k})\n",
    "    nodes.append({'id': v+0.5, 'title': ''})\n",
    "    \n",
    "for k,v in after_id.items():\n",
    "    nodes.append({'id': v, 'title': k})\n",
    "\n",
    "\n",
    "\n",
    "\n",
    "sankey= SankeyWidget(links=links, nodes=nodes, align_link_types=True, ax=ax[0])\n",
    "sankey"
   ]
  },
  {
   "cell_type": "code",
   "execution_count": 324,
   "metadata": {},
   "outputs": [
    {
     "ename": "AttributeError",
     "evalue": "'function' object has no attribute 'sankey'",
     "output_type": "error",
     "traceback": [
      "\u001b[0;31m---------------------------------------------------------------------------\u001b[0m",
      "\u001b[0;31mAttributeError\u001b[0m                            Traceback (most recent call last)",
      "\u001b[0;32m<ipython-input-324-1c5a06acc442>\u001b[0m in \u001b[0;36m<module>\u001b[0;34m()\u001b[0m\n\u001b[1;32m      3\u001b[0m \u001b[0;34m\u001b[0m\u001b[0m\n\u001b[1;32m      4\u001b[0m \u001b[0msub_df\u001b[0m \u001b[0;34m=\u001b[0m \u001b[0mbefore_after_df\u001b[0m\u001b[0;34m[\u001b[0m\u001b[0mbefore_after_df\u001b[0m\u001b[0;34m[\u001b[0m\u001b[0;34m'site'\u001b[0m\u001b[0;34m]\u001b[0m\u001b[0;34m==\u001b[0m \u001b[0mstr\u001b[0m\u001b[0;34m(\u001b[0m\u001b[0;36m160\u001b[0m\u001b[0;34m)\u001b[0m\u001b[0;34m]\u001b[0m\u001b[0;34m\u001b[0m\u001b[0;34m\u001b[0m\u001b[0m\n\u001b[0;32m----> 5\u001b[0;31m sankey.sankey(left=sub_df['before'], right=sub_df['after'], leftWeight=sub_df['count'], \n\u001b[0m\u001b[1;32m      6\u001b[0m               rightWeight=sub_df['count'])\n",
      "\u001b[0;31mAttributeError\u001b[0m: 'function' object has no attribute 'sankey'"
     ]
    }
   ],
   "source": [
    "#TRY PYSANKEY\n",
    "# fig, ax = plt.subplots(1, len(sites))\n",
    "\n",
    "sub_df = before_after_df[before_after_df['site']== str(160)]\n",
    "sankey.sankey(left=sub_df['before'], right=sub_df['after'], leftWeight=sub_df['count'], \n",
    "              rightWeight=sub_df['count'])"
   ]
  },
  {
   "cell_type": "code",
   "execution_count": 68,
   "metadata": {},
   "outputs": [
    {
     "data": {
      "image/png": "[encoded data removed]",
      "text/plain": [
       "<Figure size 1440x576 with 8 Axes>"
      ]
     },
     "metadata": {},
     "output_type": "display_data"
    }
   ],
   "source": [
    "#TRY MATPLOTLIB\n",
    "from matplotlib.sankey import Sankey\n",
    "fig, ax = plt.subplots(1,len(sites), figsize=(20, 8))\n",
    "\n",
    "for site in sites:\n",
    "\n",
    "    sub_df = before_after_df[before_after_df['site']== str(160)]\n",
    "    sankey = Sankey(ax=ax[sites.index(site)], head_angle=180, unit=None)\n",
    "    sankey.add(flows=[1.0, -0.9, -0.1], \n",
    "               orientations = [0, 0, 0])\n",
    "    sankey.add(flows=[1.0, -0.7, -0.3], orientations = [0, 0, 0])\n",
    "    diagrams = sankey.finish()"
   ]
  }
 ],
 "metadata": {
  "kernelspec": {
   "display_name": "Python [conda env:py3]",
   "language": "python",
   "name": "conda-env-py3-py"
  },
  "language_info": {
   "codemirror_mode": {
    "name": "ipython",
    "version": 3
   },
   "file_extension": ".py",
   "mimetype": "text/x-python",
   "name": "python",
   "nbconvert_exporter": "python",
   "pygments_lexer": "ipython3",
   "version": "3.6.7"
  }
 },
 "nbformat": 4,
 "nbformat_minor": 2
}
