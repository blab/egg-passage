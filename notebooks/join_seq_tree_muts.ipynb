{
 "cells": [
  {
   "cell_type": "code",
   "execution_count": 402,
   "metadata": {
    "collapsed": true
   },
   "outputs": [],
   "source": [
    "import pandas as pd\n",
    "import numpy as np\n",
    "import json\n",
    "from Bio import SeqIO\n",
    "import seaborn as sns\n",
    "import matplotlib.pyplot as plt\n",
    "%matplotlib inline"
   ]
  },
  {
   "cell_type": "code",
   "execution_count": 3,
   "metadata": {
    "collapsed": true
   },
   "outputs": [],
   "source": [
    "#Load tree and sequence files\n",
    "with open('augur_output/flu_seasonal_h3n2_ha_6y_tree.json', 'r') as jsonfile:\n",
    "    tree_6y = json.load(jsonfile)\n",
    "\n",
    "with open('augur_output/flu_seasonal_h3n2_ha_6y_sequences.json', 'r') as jsonfile:\n",
    "    seq_6y = json.load(jsonfile)"
   ]
  },
  {
   "cell_type": "code",
   "execution_count": 461,
   "metadata": {
    "collapsed": true
   },
   "outputs": [],
   "source": [
    "#Load genbank file with reference HA sequence\n",
    "for seq_record in SeqIO.parse('h3n2_outgroup.gb', 'genbank'):\n",
    "    SP_ref = seq_record.seq[0:49].translate()\n",
    "    HA1_ref = seq_record.seq[48:1035].translate()\n",
    "    HA2_ref = seq_record.seq[1035:1699].translate()"
   ]
  },
  {
   "cell_type": "code",
   "execution_count": 206,
   "metadata": {
    "collapsed": true
   },
   "outputs": [],
   "source": [
    "#Input desired 0-based HA1 amino acid residue positions, find reference amino acid\n",
    "\n",
    "positions = [159,185,193,224,218]\n",
    "position_refaa = []\n",
    "\n",
    "for pos in positions:\n",
    "    position_refaa.append((str(pos), HA1_ref[pos]))\n"
   ]
  },
  {
   "cell_type": "code",
   "execution_count": 207,
   "metadata": {
    "collapsed": true
   },
   "outputs": [],
   "source": [
    "#Pull out tree tips from tree.json and HA1 muts (not just tip-specific) from sequences.json\n",
    "#Generalize for any aa position, by entering position and ref AA as tuple\n",
    "\n",
    "    \n",
    "tip_muts = {}\n",
    "\n",
    "def traverse(branch, seq, pos_list):\n",
    "\n",
    "    if 'children' not in branch.keys():\n",
    "\n",
    "        tip_muts[branch['strain']]=[branch['aa_muts']['HA1'], branch['aa_muts']['HA2'], \n",
    "                                    branch['aa_muts']['SigPep'],branch['attr']['num_date'], \n",
    "                                    branch['attr']['clade_membership'],seq[str(branch['clade'])]['HA1']\n",
    "                                    ] + [str(seq[str(branch['clade'])]['HA1'][pos]) if pos in seq[str(branch['clade'])]['HA1'] else str(ref_aa) \n",
    "                                    for pos, ref_aa in pos_list]\n",
    "\n",
    "    else:\n",
    "        for child in branch['children']:\n",
    "            traverse(child, seq, pos_list)\n",
    "\n",
    "    \n",
    "\n",
    "    \n",
    "traverse(tree_6y, seq_6y, position_refaa)"
   ]
  },
  {
   "cell_type": "code",
   "execution_count": 403,
   "metadata": {
    "collapsed": true,
    "scrolled": false
   },
   "outputs": [],
   "source": [
    "#Organize data in a DF\n",
    "df = pd.DataFrame(tip_muts).T\n",
    "df.reset_index(inplace=True)\n",
    "df.columns = ['strain', 'tip_HA1_muts', 'tip_HA2_muts', 'tip_SigPep_muts', 'date', 'clade', 'HA1_muts']+positions\n",
    "df['passage'] = np.select((df.strain.str.contains('egg'), df.strain.str.contains('cell')), ('egg', 'cell'))\n",
    "df['source'] = np.select((df.passage=='egg', df.passage=='cell', df.passage=='0'), \n",
    "                         (df.strain.str.replace('-egg',''), df.strain.str.replace('-cell',''), df.strain))\n"
   ]
  },
  {
   "cell_type": "code",
   "execution_count": 213,
   "metadata": {},
   "outputs": [
    {
     "data": {
      "text/plain": [
       "passage  224\n",
       "0        D      0.719611\n",
       "         G      0.280389\n",
       "cell     D      0.589623\n",
       "         G      0.410377\n",
       "egg      G      0.728464\n",
       "         D      0.271536\n",
       "Name: 224, dtype: float64"
      ]
     },
     "execution_count": 213,
     "metadata": {},
     "output_type": "execute_result"
    }
   ],
   "source": [
    "#Print genotype percentages for sequences from each passage-type\n",
    "df.groupby('passage')[224].value_counts(normalize=True)"
   ]
  },
  {
   "cell_type": "code",
   "execution_count": 350,
   "metadata": {
    "collapsed": true
   },
   "outputs": [],
   "source": [
    "#Consider only strains where egg seqs are paired with unpassaged \n",
    "egg_patient = df[(df.passage=='egg')|(df.passage=='0')]\n",
    "\n",
    "pairs = egg_patient[egg_patient.duplicated(subset='source', keep=False)]"
   ]
  },
  {
   "cell_type": "code",
   "execution_count": 386,
   "metadata": {},
   "outputs": [
    {
     "name": "stdout",
     "output_type": "stream",
     "text": [
      "                   strain 159 clade\n",
      "22      A/Alaska/232/2015   T    A1\n",
      "23  A/Alaska/232/2015-egg   K    A1\n",
      "                          strain 159 clade\n",
      "56      A/Antananarivo/1067/2016   T    A1\n",
      "58  A/Antananarivo/1067/2016-egg   K    A1\n",
      "                     strain 159 clade\n",
      "449      A/Delaware/32/2016   T    A1\n",
      "451  A/Delaware/32/2016-egg   I    A1\n",
      "                   strain 159 clade\n",
      "716      A/Hawaii/44/2017   T    A4\n",
      "718  A/Hawaii/44/2017-egg   K    A4\n",
      "                       strain 159     clade\n",
      "761      A/HongKong/2286/2017   T  A1b/135K\n",
      "763  A/HongKong/2286/2017-egg   K  A1b/135K\n",
      "                  strain 159 clade\n",
      "841      A/Idaho/37/2016   T   A1a\n",
      "843  A/Idaho/37/2016-egg   K   A1a\n",
      "                      strain 159  clade\n",
      "1181      A/Nebraska/19/2015   T  3c2.A\n",
      "1183  A/Nebraska/19/2015-egg   K  3c2.A\n",
      "                      strain 159  clade\n",
      "1295      A/Norway/2178/2014   T  3c2.A\n",
      "1297  A/Norway/2178/2014-egg   K  3c2.A\n",
      "                      strain 159 clade\n",
      "1319      A/Norway/3806/2016   T   A1a\n",
      "1321  A/Norway/3806/2016-egg   K   A1a\n",
      "                  strain 159 clade\n",
      "1339      A/Ohio/31/2017   T    A3\n",
      "1340  A/Ohio/31/2017-egg   K    A3\n",
      "                        strain 159  clade\n",
      "1542      A/RhodeIsland/1/2018   T  A2/re\n",
      "1543  A/RhodeIsland/1/2018-egg   K  A2/re\n",
      "                           strain 159 clade\n",
      "1912      A/Singapore/KK1100/2016   T    A3\n",
      "1913  A/Singapore/KK1100/2016-egg   K    A3\n",
      "                       strain 159 clade\n",
      "2334      A/Victoria/746/2017   T    A4\n",
      "2335  A/Victoria/746/2017-egg   K    A4\n",
      "20.9677419355\n",
      "62\n"
     ]
    }
   ],
   "source": [
    "#Find number of egg/unpassaged strain pairs that match at position HA1 160\n",
    "match=0\n",
    "total=0\n",
    "\n",
    "for name, group in pairs.groupby('source'):\n",
    "    total+=1\n",
    "    if (group[159].value_counts()>1).any():\n",
    "        match+=1\n",
    "    else:\n",
    "        print group[['strain',159, 'clade']]\n",
    "\n",
    "\n",
    "mismatch = total-match\n",
    "print float(mismatch)/float(total)*100\n",
    "print total"
   ]
  },
  {
   "cell_type": "code",
   "execution_count": 396,
   "metadata": {
    "collapsed": true
   },
   "outputs": [],
   "source": [
    "#Restructure DF to have row for each pair that includes unpassaged and egg-passaged genotypes\n",
    "\n",
    "egg_match = pairs[pairs.passage=='egg']\n",
    "egg_match.columns = [str(c)+'-egg' for c in egg_match.columns]\n",
    "\n",
    "unpass_match = pairs[pairs.passage=='0']\n",
    "unpass_match.columns = [str(c)+'-unpassaged' for c in unpass_match.columns]\n",
    "\n",
    "match_df = egg_match.merge(unpass_match, left_on='source-egg', right_on='source-unpassaged')"
   ]
  },
  {
   "cell_type": "code",
   "execution_count": 453,
   "metadata": {},
   "outputs": [
    {
     "data": {
      "text/plain": [
       "<matplotlib.legend.Legend at 0x1a1e563b50>"
      ]
     },
     "execution_count": 453,
     "metadata": {},
     "output_type": "execute_result"
    },
    {
     "data": {
      "image/png": "[encoded data removed]",
      "text/plain": [
       "<matplotlib.figure.Figure at 0x1a1ed62390>"
      ]
     },
     "metadata": {},
     "output_type": "display_data"
    }
   ],
   "source": [
    "#Plot 160 mutations separated by unpassaged genotype\n",
    "fig, ax = plt.subplots(figsize=(15,7))\n",
    "\n",
    "fig = match_df.groupby('159-unpassaged')['159-egg'].value_counts(normalize=True).unstack().plot(kind='bar', ax=ax)\n",
    "plt.xlabel('Unpassaged H3N2 genotype at HA1-160')\n",
    "plt.ylabel('Frequency of egg-passaged strains with given genotype at HA1 position 160')\n",
    "plt.legend(title='egg-passaged genotype')\n"
   ]
  },
  {
   "cell_type": "code",
   "execution_count": 454,
   "metadata": {},
   "outputs": [
    {
     "data": {
      "text/plain": [
       "159-unpassaged  159-egg\n",
       "K               K          1.0000\n",
       "T               K          0.7500\n",
       "                T          0.1875\n",
       "                I          0.0625\n",
       "Name: 159-egg, dtype: float64"
      ]
     },
     "execution_count": 454,
     "metadata": {},
     "output_type": "execute_result"
    }
   ],
   "source": [
    "match_df.groupby('159-unpassaged')['159-egg'].value_counts(normalize=True)"
   ]
  },
  {
   "cell_type": "code",
   "execution_count": 460,
   "metadata": {},
   "outputs": [
    {
     "data": {
      "text/plain": [
       "Text(0,0.5,u'proportion of viruses that mutate at HA1 160 during egg-passaging')"
      ]
     },
     "execution_count": 460,
     "metadata": {},
     "output_type": "execute_result"
    },
    {
     "data": {
      "image/png": "[encoded data removed]",
      "text/plain": [
       "<matplotlib.figure.Figure at 0x1a1d1a0110>"
      ]
     },
     "metadata": {},
     "output_type": "display_data"
    }
   ],
   "source": [
    "match_df['egg_mutated'] = np.select(((match_df['159-unpassaged']==match_df['159-egg']), (match_df['159-unpassaged']!=match_df['159-egg'])), (False, True))\n",
    "\n",
    "sns.set(style='whitegrid')\n",
    "sns.barplot(x='159-unpassaged', y='egg_mutated', data=match_df, ci=None)\n",
    "plt.ylim([0,1.0])\n",
    "plt.xlabel('genotype of patient-derived virus at HA1 160')\n",
    "plt.ylabel('proportion of viruses that mutate at HA1 160 during egg-passaging')"
   ]
  }
 ],
 "metadata": {
  "kernelspec": {
   "display_name": "Python 2",
   "language": "python",
   "name": "python2"
  },
  "language_info": {
   "codemirror_mode": {
    "name": "ipython",
    "version": 2
   },
   "file_extension": ".py",
   "mimetype": "text/x-python",
   "name": "python",
   "nbconvert_exporter": "python",
   "pygments_lexer": "ipython2",
   "version": "2.7.14"
  }
 },
 "nbformat": 4,
 "nbformat_minor": 2
}
