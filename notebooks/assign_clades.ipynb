{
 "cells": [
  {
   "cell_type": "code",
   "execution_count": 42,
   "metadata": {},
   "outputs": [],
   "source": [
    "import json\n",
    "import pandas as pd"
   ]
  },
  {
   "cell_type": "code",
   "execution_count": 140,
   "metadata": {},
   "outputs": [],
   "source": [
    "tree_path = '../auspice/flu_seasonal_h3n2_ha_12y_hi_tree.json'\n",
    "with open(tree_path, 'r') as tree_json:\n",
    "    tree = json.load(tree_json)"
   ]
  },
  {
   "cell_type": "code",
   "execution_count": 141,
   "metadata": {},
   "outputs": [],
   "source": [
    "from ete3 import Tree, faces, AttrFace, TreeStyle, NodeStyle, TextFace\n",
    "t = Tree('../results/tree_who_h3n2_ha_12y_concat_hi.nwk', format=1)"
   ]
  },
  {
   "cell_type": "code",
   "execution_count": 142,
   "metadata": {},
   "outputs": [],
   "source": [
    "method = 'mutations'\n",
    "# method = 'clock_length'"
   ]
  },
  {
   "cell_type": "code",
   "execution_count": 143,
   "metadata": {},
   "outputs": [],
   "source": [
    "leaf_paths = {}\n",
    "branch_traits = {}\n",
    "\n",
    "def find_path(branch):\n",
    "\n",
    "    node_path.append(branch['strain'])\n",
    "    if branch['strain'] not in branch_traits.keys():\n",
    "        if method == 'clock_length':\n",
    "            branch_traits[str(branch['strain'])] = branch['attr']['clock_length']\n",
    "        elif method == 'mutations':\n",
    "            branch_traits[str(branch['strain'])] = branch['aa_muts']\n",
    "    if 'children' in branch.keys():\n",
    "        for child in branch['children']:\n",
    "            #Find correlation between num aa mutations and clock length\n",
    "            num_aa_muts = sum([len(child['aa_muts'][x]) for x in child['aa_muts']])\n",
    "            if num_aa_muts in clocklength_per_aamut.keys():\n",
    "                clocklength_per_aamut[num_aa_muts].append(child['attr']['clock_length'])\n",
    "            else:\n",
    "                clocklength_per_aamut[num_aa_muts] = [child['attr']['clock_length']]\n",
    "\n",
    "            find_path(child)\n",
    "            node_path.remove(child['strain'])\n",
    "\n",
    "\n",
    "    elif 'children' not in branch.keys():\n",
    "\n",
    "        node_path_list = [str(node) for node in node_path]\n",
    "        leaf_paths[branch['strain']] = [branch['attr']['clade_membership'], node_path_list]\n",
    "\n",
    "node_path = []\n",
    "clocklength_per_aamut = {}\n",
    "find_path(tree)\n",
    "\n",
    "\n",
    "df = pd.DataFrame(leaf_paths).T\n",
    "df.reset_index(inplace=True)\n",
    "df.columns = ['strain', 'clade_membership', 'path']\n",
    "df['kk_clade'] = 'unassigned'"
   ]
  },
  {
   "cell_type": "code",
   "execution_count": 144,
   "metadata": {},
   "outputs": [],
   "source": [
    "#Find correlation between num aa mutations and clock length\n",
    "avg_clocklength = {k: (float(sum(v))/len(v))\n",
    "                   for k,v in clocklength_per_aamut.items() if len(v)>1}\n",
    "\n",
    "#Find clades\n",
    "max_path_length=df['path'].map(len).max()\n",
    "\n",
    "current_clade = 0\n",
    "assigned_clades = {}\n",
    "\n",
    "for internal_branch in reversed(range(0,max_path_length)):\n",
    "    exclude_assigned = df[df['kk_clade']=='unassigned']\n",
    "    sub_df = exclude_assigned[exclude_assigned['path'].map(len) > internal_branch]\n",
    "\n",
    "    path_group= sub_df.groupby((sub_df.path.apply(lambda col: col[0:(internal_branch+1)])).map(tuple))\n",
    "    for k, v in path_group:\n",
    "        if method == 'clock_length':\n",
    "            if len(v)>=100:\n",
    "                if branch_traits[str(k[-1])] >= 0.8*avg_clocklength[1]:\n",
    "                    current_clade+=1\n",
    "                    df.at[v.index, 'kk_clade'] = 'c'+str(current_clade)\n",
    "                    assigned_clades['c'+str(current_clade)] = {'clade_mrca':k[-1]}\n",
    "            elif len(v)>=50:\n",
    "                if branch_traits[str(k[-1])] >= 0.8*avg_clocklength[2]:\n",
    "                    current_clade+=1\n",
    "                    df.at[v.index, 'kk_clade'] = 'c'+str(current_clade)\n",
    "                    assigned_clades['c'+str(current_clade)] = {'clade_mrca':k[-1]}\n",
    "            elif len(v)>=20:\n",
    "                if branch_traits[str(k[-1])] >= 0.8*avg_clocklength[3]:\n",
    "                    current_clade+=1\n",
    "                    df.at[v.index, 'kk_clade'] = 'c'+str(current_clade)\n",
    "                    assigned_clades['c'+str(current_clade)] = {'clade_mrca':k[-1]}\n",
    "                        \n",
    "        elif method == 'mutations':\n",
    "            if len(branch_traits[str(k[-1])]) >= 3:\n",
    "                if len(v)>=20:\n",
    "                    current_clade+=1\n",
    "                    df.at[v.index, 'kk_clade'] = 'c'+str(current_clade)\n",
    "                    assigned_clades['c'+str(current_clade)] = {'clade_mrca':k[-1]}\n",
    "            if len(branch_traits[str(k[-1])]) >= 2:\n",
    "                if len(v)>=50:\n",
    "                    current_clade+=1\n",
    "                    df.at[v.index, 'kk_clade'] = 'c'+str(current_clade)\n",
    "                    assigned_clades['c'+str(current_clade)] = {'clade_mrca':k[-1]}\n",
    "            elif len(branch_traits[str(k[-1])]) >= 1:\n",
    "                if len(v)>=100:\n",
    "                    current_clade+=1\n",
    "                    df.at[v.index, 'kk_clade'] = 'c'+str(current_clade)\n",
    "                    assigned_clades['c'+str(current_clade)] = {'clade_mrca':k[-1]}\n",
    "df = df.set_index('strain')"
   ]
  },
  {
   "cell_type": "code",
   "execution_count": 161,
   "metadata": {},
   "outputs": [],
   "source": [
    "#Find mutations that occur on most recent common ascestor of kk_clades\n",
    "def find_defining_genotypes(branch):\n",
    "\n",
    "    if 'children' in branch.keys():\n",
    "        for child in branch['children']:\n",
    "            for k,v in assigned_clades.items():\n",
    "                if str(branch['strain']) == v['clade_mrca']:\n",
    "                    assigned_clades[k]['aa_muts'] = branch['aa_muts']\n",
    "                    assigned_clades[k]['nt_muts'] = branch['muts']\n",
    "            find_defining_genotypes(child)\n",
    "\n",
    "find_defining_genotypes(tree)\n",
    "assigned_clades_df = pd.DataFrame(assigned_clades).T.reset_index().rename(columns={'index':'kk_clade'})\n",
    "assigned_clades_df = assigned_clades_df[['kk_clade', 'clade_mrca', 'aa_muts', 'nt_muts']]\n",
    "# assigned_clades_df.to_csv(output_csv, index=False)\n",
    "\n",
    "kkclade_nodes = {}\n",
    "for k,v in assigned_clades.items():\n",
    "    for n in t.traverse(strategy='postorder'):\n",
    "        if n.name == v['clade_mrca']:\n",
    "            descendents = n.get_descendants()\n",
    "            for d_node in descendents:\n",
    "                if d_node.name not in kkclade_nodes.keys():\n",
    "                    kkclade_nodes[d_node.name] = k"
   ]
  },
  {
   "cell_type": "code",
   "execution_count": 165,
   "metadata": {},
   "outputs": [],
   "source": [
    "def add_clades(branch):\n",
    "    if branch['strain'] not in kkclade_nodes.keys():\n",
    "        assigned_clade = 'unassigned'\n",
    "    elif branch['strain'] in kkclade_nodes.keys():\n",
    "        assigned_clade = kkclade_nodes[branch['strain']]\n",
    "        \n",
    "    branch['attr']['kk_clade'] = assigned_clade\n",
    "    \n",
    "    if 'children' in branch.keys():\n",
    "        for child in branch['children']:\n",
    "            add_clades(child)\n",
    "            \n",
    "#     elif 'children' not in branch.keys():\n",
    "#         assigned_clade = df.loc[branch['strain']]['kk_clade']\n",
    "#         branch['attr']['kk_clade'] = assigned_clade\n",
    "\n",
    "add_clades(tree)"
   ]
  },
  {
   "cell_type": "code",
   "execution_count": 166,
   "metadata": {},
   "outputs": [],
   "source": [
    "with open(tree_path, 'w') as outfile:\n",
    "    json.dump(tree, outfile, indent=2, sort_keys = True)"
   ]
  },
  {
   "cell_type": "code",
   "execution_count": null,
   "metadata": {},
   "outputs": [],
   "source": []
  }
 ],
 "metadata": {
  "kernelspec": {
   "display_name": "Python [conda env:py3]",
   "language": "python",
   "name": "conda-env-py3-py"
  },
  "language_info": {
   "codemirror_mode": {
    "name": "ipython",
    "version": 3
   },
   "file_extension": ".py",
   "mimetype": "text/x-python",
   "name": "python",
   "nbconvert_exporter": "python",
   "pygments_lexer": "ipython3",
   "version": "3.6.7"
  }
 },
 "nbformat": 4,
 "nbformat_minor": 2
}
