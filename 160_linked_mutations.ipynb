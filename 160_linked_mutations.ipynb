{
 "cells": [
  {
   "cell_type": "code",
   "execution_count": 6,
   "metadata": {
    "collapsed": true
   },
   "outputs": [],
   "source": [
    "import pandas as pd\n",
    "import numpy as np\n",
    "import json\n",
    "from Bio import SeqIO\n",
    "import seaborn as sns\n",
    "import matplotlib.pyplot as plt\n",
    "%matplotlib inline"
   ]
  },
  {
   "cell_type": "code",
   "execution_count": 8,
   "metadata": {
    "collapsed": true
   },
   "outputs": [],
   "source": [
    "#Load tree and sequence files\n",
    "with open('augur_output/flu_seasonal_h3n2_ha_6y_tree.json', 'r') as jsonfile:\n",
    "    tree_6y = json.load(jsonfile)\n",
    "\n",
    "with open('augur_output/flu_seasonal_h3n2_ha_6y_sequences.json', 'r') as jsonfile:\n",
    "    seq_6y = json.load(jsonfile)\n",
    "\n",
    "#Load genbank file with reference HA sequence\n",
    "for seq_record in SeqIO.parse('h3n2_outgroup.gb', 'genbank'):\n",
    "    SP_ref = seq_record.seq[0:49].translate()\n",
    "    HA1_ref = seq_record.seq[48:1035].translate()\n",
    "    HA2_ref = seq_record.seq[1035:1699].translate()"
   ]
  },
  {
   "cell_type": "code",
   "execution_count": 19,
   "metadata": {},
   "outputs": [],
   "source": [
    "#Input desired 0-based HA1 amino acid residue positions, find reference amino acid\n",
    "\n",
    "positions = [159]\n",
    "position_refaa = []\n",
    "\n",
    "for pos in positions:\n",
    "    position_refaa.append((str(pos), HA1_ref[pos]))\n",
    "    \n",
    "tip_muts = {}\n",
    "\n",
    "def traverse(branch, seq, pos_list):\n",
    "\n",
    "    if 'children' not in branch.keys():\n",
    "\n",
    "        tip_muts[branch['strain']]=[branch['aa_muts']['HA1'], branch['aa_muts']['HA2'], \n",
    "                                    branch['aa_muts']['SigPep'],branch['attr']['num_date'], \n",
    "                                    branch['attr']['clade_membership'],seq[str(branch['clade'])]['HA1']\n",
    "                                    ] + [str(seq[str(branch['clade'])]['HA1'][pos]) if pos in seq[str(branch['clade'])]['HA1'] else str(ref_aa) \n",
    "                                    for pos, ref_aa in pos_list]\n",
    "\n",
    "    else:\n",
    "        for child in branch['children']:\n",
    "            traverse(child, seq, pos_list)\n",
    "\n",
    "    \n",
    "traverse(tree_6y, seq_6y, position_refaa)\n",
    "\n",
    "#Organize data in a DF\n",
    "df = pd.DataFrame(tip_muts).T\n",
    "df.reset_index(inplace=True)\n",
    "df.columns = ['strain', 'tip_HA1_muts', 'tip_HA2_muts', 'tip_SigPep_muts', 'date', 'clade', 'HA1_muts']+positions\n",
    "df['passage'] = np.select((df.strain.str.contains('egg'), df.strain.str.contains('cell')), ('egg', 'cell'))\n",
    "df['source'] = np.select((df.passage=='egg', df.passage=='cell', df.passage=='0'), \n",
    "                         (df.strain.str.replace('-egg',''), df.strain.str.replace('-cell',''), df.strain))\n",
    "\n",
    "#make tidy version of df where each mutation gets a row\n",
    "mut_df = pd.DataFrame(columns=['mutation']+ list(df.columns))\n",
    "\n",
    "count=0\n",
    "for i, r in df.iterrows():\n",
    "\n",
    "    for ha1_mut in r['tip_HA1_muts']:\n",
    "        mut_df.loc[count]= ['HA1'+str(ha1_mut)] + list(df.loc[i])\n",
    "        count+=1\n",
    "        \n",
    "    for ha2_mut in r['tip_HA2_muts']:\n",
    "        mut_df.loc[count]= ['HA2'+str(ha2_mut)] + list(df.loc[i])\n",
    "        count+=1\n",
    "        \n",
    "    for sp_mut in r['tip_SigPep_muts']:\n",
    "        mut_df.loc[count]= ['SP'+str(sp_mut)] + list(df.loc[i])\n",
    "        count+=1"
   ]
  },
  {
   "cell_type": "code",
   "execution_count": 76,
   "metadata": {},
   "outputs": [],
   "source": [
    "#Find predominant 160 genotype of circulating virus by clade\n",
    "#Use this to determine whether egg-passaged strains have mutated\n",
    "\n",
    "#df[df.passage=='0'].groupby('clade')[159].value_counts()\n",
    "\n",
    "circulating_160_clade = {'3b':'K', '3c':'K', '3c2.A':'T', '3c3':'K', \n",
    "                         '3c3.A':'K', '3c3.B':'K', 'A1':'T', 'A1a':'T',\n",
    "                         'A1b':'T', 'A1b/135K':'T', 'A1b/135N':'T', \n",
    "                         'A2':'T', 'A2/re':'T', 'A3':'T', 'A4':'T', 'unassigned':'K'}\n",
    "\n",
    "\n",
    "egg_df = df[df.passage=='egg'].copy()\n",
    "egg_df['circulating_160'] = egg_df['clade'].map(circulating_160_clade)\n",
    "egg_df['eggmut_160'] = np.select(\n",
    "    (egg_df[159]==egg_df['circulating_160'], egg_df[159]!=egg_df['circulating_160']), \n",
    "    (False, True))\n",
    "\n",
    "#Verify method by showing that mutations at 160 only occur when passaged virus is T160\n",
    "#True with the exception of 1 K-->R, all 533 seqs look right\n",
    "#egg_df.groupby(['eggmut_160',159])['circulating_160'].value_counts()"
   ]
  },
  {
   "cell_type": "code",
   "execution_count": 103,
   "metadata": {
    "collapsed": true
   },
   "outputs": [],
   "source": [
    "#Same as above but with row for each HA1 mutation, so top co-occuring mutations can be identified\n",
    "\n",
    "\n",
    "circulating_160_clade = {'3b':'K', '3c':'K', '3c2.A':'T', '3c3':'K', \n",
    "                         '3c3.A':'K', '3c3.B':'K', 'A1':'T', 'A1a':'T',\n",
    "                         'A1b':'T', 'A1b/135K':'T', 'A1b/135N':'T', \n",
    "                         'A2':'T', 'A2/re':'T', 'A3':'T', 'A4':'T', 'unassigned':'K'}\n",
    "\n",
    "\n",
    "mut_egg_df = mut_df[mut_df.passage=='egg'].copy()\n",
    "mut_egg_df['circulating_160'] = mut_egg_df['clade'].map(circulating_160_clade)\n",
    "mut_egg_df['eggmut_160'] = np.select(\n",
    "    (mut_egg_df[159]==mut_egg_df['circulating_160'], mut_egg_df[159]!=mut_egg_df['circulating_160']), \n",
    "    (False, True))"
   ]
  },
  {
   "cell_type": "code",
   "execution_count": 91,
   "metadata": {},
   "outputs": [
    {
     "data": {
      "text/plain": [
       "Text(0,0.5,u'Proportion of egg-passaged viruses that mutated at position 160')"
      ]
     },
     "execution_count": 91,
     "metadata": {},
     "output_type": "execute_result"
    },
    {
     "data": {
      "image/png": "[encoded data removed]",
      "text/plain": [
       "<matplotlib.figure.Figure at 0x1a10f00e90>"
      ]
     },
     "metadata": {},
     "output_type": "display_data"
    }
   ],
   "source": [
    "#For unpaired egg sequences (from inferred circulating virus), find number with mutations at 160\n",
    "\n",
    "sns.set(style='whitegrid')\n",
    "fig, ax = plt.subplots(figsize=(10,5))\n",
    "fig = sns.barplot(x='circulating_160', y='eggmut_160', data=egg_df, ci=None, ax=ax)\n",
    "plt.xlabel('Inferred 160 genotype of circulating virus before egg-passaging')\n",
    "plt.ylabel('Proportion of egg-passaged viruses that mutated at position 160')"
   ]
  },
  {
   "cell_type": "code",
   "execution_count": 108,
   "metadata": {},
   "outputs": [
    {
     "name": "stdout",
     "output_type": "stream",
     "text": [
      "                0               1\n",
      "0  (HA1G186V, 46)  (HA1T160K, 23)\n",
      "1  (HA1L194P, 28)  (HA1L194P, 23)\n",
      "2  (HA1S219F, 16)  (HA1T203I, 11)\n",
      "3   (HA1S219Y, 9)  (HA1D225G, 10)\n",
      "4   (HA1H156R, 8)   (HA1G186V, 6)\n",
      "5   (HA1H156Q, 8)   (HA1A138S, 5)\n",
      "6   (HA1D225G, 8)   (HA1D225N, 3)\n",
      "7   (HA1H183L, 7)   (HA1T160I, 2)\n",
      "8   (HA1N246H, 6)   (HA1T160A, 2)\n",
      "9     (SPA16T, 5)   (HA1S219Y, 2)\n"
     ]
    }
   ],
   "source": [
    "#Find top tip mutations that co-occur with K versus T mutation\n",
    "\n",
    "top_muts = {}\n",
    "for mut160 in mut_egg_df['eggmut_160'].unique():\n",
    "    top = mut_egg_df[mut_egg_df['eggmut_160']==mut160].groupby('mutation')['mutation'].count().sort_values(ascending=False)[:10]\n",
    "    top_muts[mut160] = list((g_name, g) for g_name, g in top.iteritems())\n",
    "\n",
    "print(pd.DataFrame(top_muts))"
   ]
  }
 ],
 "metadata": {
  "kernelspec": {
   "display_name": "Python 2",
   "language": "python",
   "name": "python2"
  },
  "language_info": {
   "codemirror_mode": {
    "name": "ipython",
    "version": 2
   },
   "file_extension": ".py",
   "mimetype": "text/x-python",
   "name": "python",
   "nbconvert_exporter": "python",
   "pygments_lexer": "ipython2",
   "version": "2.7.14"
  }
 },
 "nbformat": 4,
 "nbformat_minor": 2
}
