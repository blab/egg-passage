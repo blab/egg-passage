{
 "cells": [
  {
   "cell_type": "code",
   "execution_count": 1,
   "metadata": {},
   "outputs": [],
   "source": [
    "import pandas as pd\n",
    "import numpy as np"
   ]
  },
  {
   "cell_type": "code",
   "execution_count": 27,
   "metadata": {},
   "outputs": [],
   "source": [
    "df = pd.read_csv('h3n2_ha_6y_hi.csv')\n",
    "egg_df = pd.read_csv('h3n2_ha_6y_hi_egg.csv')\n",
    "df['pair_id']= df['pair_id'].fillna(0)\n",
    "egg_df['pair_id']= egg_df['pair_id'].fillna(0)\n",
    "df['pair_id'] = df['pair_id'].astype(int, inplace=True)\n",
    "egg_df['pair_id'] = egg_df['pair_id'].astype(int, inplace=True)"
   ]
  },
  {
   "cell_type": "code",
   "execution_count": 55,
   "metadata": {},
   "outputs": [
    {
     "name": "stdout",
     "output_type": "stream",
     "text": [
      "225\n",
      "52\n"
     ]
    }
   ],
   "source": [
    "sub_df = df[df['pair_id']!=0]\n",
    "\n",
    "mut_sites = sorted([col for col in df.columns if col[0:3]=='mut'])\n",
    "sites = [str(x[3:]) for x in mut_sites]\n",
    "\n",
    "egg_sub_df = sub_df[sub_df['passage']=='egg']\n",
    "pair_sub_df = sub_df[sub_df['passage']!='egg']\n",
    "\n",
    "for k,v in egg_sub_df.iterrows():\n",
    "    for mut_site in mut_sites:\n",
    "        if v[mut_site]==True:\n",
    "            site= str(mut_site[3:])\n",
    "            egg_genotype = v[site]\n",
    "            pair_genotypes = pair_sub_df[pair_sub_df['pair_id']==v['pair_id']][site]\n",
    "            for pair_genotype in pair_genotypes:\n",
    "                if egg_genotype == pair_genotype:\n",
    "                    print(site)\n",
    "                    print(v['pair_id'])\n",
    "                    \n",
    "        "
   ]
  },
  {
   "cell_type": "code",
   "execution_count": 64,
   "metadata": {},
   "outputs": [
    {
     "data": {
      "text/plain": [
       "160  mut160\n",
       "A    0           1\n",
       "     1           2\n",
       "I    0           3\n",
       "     1           4\n",
       "K    0         327\n",
       "     1          37\n",
       "R    0           1\n",
       "     1           1\n",
       "T    0          35\n",
       "dtype: int64"
      ]
     },
     "execution_count": 64,
     "metadata": {},
     "output_type": "execute_result"
    }
   ],
   "source": [
    "egg_df.groupby(['160','mut160']).size()"
   ]
  },
  {
   "cell_type": "code",
   "execution_count": 49,
   "metadata": {},
   "outputs": [
    {
     "name": "stdout",
     "output_type": "stream",
     "text": [
      "1487    D\n",
      "1574    D\n",
      "Name: 225, dtype: object\n"
     ]
    }
   ],
   "source": [
    "print(df[df['pair_id']==52]['225'])"
   ]
  },
  {
   "cell_type": "code",
   "execution_count": 50,
   "metadata": {},
   "outputs": [
    {
     "name": "stdout",
     "output_type": "stream",
     "text": [
      "310\n"
     ]
    }
   ],
   "source": [
    "print(len(df['pair_id'].unique()))"
   ]
  },
  {
   "cell_type": "code",
   "execution_count": null,
   "metadata": {},
   "outputs": [],
   "source": [
    "#Only one pair of 310 where mut is called but pairs have the same genotype- and this looks to be \n",
    "#because the viruses are separated on the tree (rather than due to my miniclustering method)"
   ]
  }
 ],
 "metadata": {
  "kernelspec": {
   "display_name": "Python [conda env:py3]",
   "language": "python",
   "name": "conda-env-py3-py"
  },
  "language_info": {
   "codemirror_mode": {
    "name": "ipython",
    "version": 3
   },
   "file_extension": ".py",
   "mimetype": "text/x-python",
   "name": "python",
   "nbconvert_exporter": "python",
   "pygments_lexer": "ipython3",
   "version": "3.6.7"
  }
 },
 "nbformat": 4,
 "nbformat_minor": 2
}
